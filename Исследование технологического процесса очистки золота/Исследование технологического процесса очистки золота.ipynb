{
  "cells": [
    {
      "cell_type": "markdown",
      "metadata": {
        "id": "-mhCJU1L9DVY"
      },
      "source": [
        "# Восстановление золота из руды\n",
        "\n",
        "Подготовbnm прототип модели машинного обучения для «Цифры». Компания разрабатывает решения для эффективной работы промышленных предприятий.\n",
        "\n",
        "Модель должна предсказать коэффициент восстановления золота из золотосодержащей руды. Используйте данные с параметрами добычи и очистки.\n",
        "\n",
        "Модель поможет оптимизировать производство, чтобы не запускать предприятие с убыточными характеристиками.\n",
        "\n",
        "Вам нужно:\n",
        "\n",
        "1. Подготовить данные;\n",
        "2. Провести исследовательский анализ данных;\n",
        "3. Построить и обучить модель."
      ]
    },
    {
      "cell_type": "markdown",
      "metadata": {
        "id": "NDiCudnE9DVZ"
      },
      "source": [
        "# План проекта\n",
        "\n",
        "**Загрузка и подготовка данных:**\n",
        "* Импорт библиотек;\n",
        "* Получение общей информации (head, info);\n",
        "* Чтение датасетов, поиск пустых значений;\n",
        "\n",
        "**Анализ данных:**\n",
        "* Смотрим как изменяется концентрация металлов с каждой чисткой.\n",
        "* Визуализация данных;\n",
        "* Добавляем суммарную концентрацию в датасеты.\n",
        "\n",
        "\n",
        "**Модель:**\n",
        "* Приводим тренировочный датасет в подходящий для обучния вид;\n",
        "= Создаём функцию sMAPE;\n",
        "* Обучаем модели;\n",
        "* Выбираем лучшую;\n",
        "* Обучаем её на тестовой выборке и дамми.\n",
        "\n",
        "**Вывод**\n"
      ]
    },
    {
      "cell_type": "markdown",
      "metadata": {
        "id": "mSsxSr999DVb"
      },
      "source": [
        "## Загрузка и подготовка данных"
      ]
    },
    {
      "cell_type": "markdown",
      "metadata": {
        "id": "SZVsZA0e9DVb"
      },
      "source": [
        "Нам нужно предсказать коэффициент золота ДО начала тех.процесса."
      ]
    },
    {
      "cell_type": "code",
      "execution_count": 1,
      "metadata": {
        "id": "8O557SVm9DVc"
      },
      "outputs": [],
      "source": [
        "import pandas as pd\n",
        "import numpy as np\n",
        "import seaborn as sns\n",
        "import matplotlib.pyplot as plt\n",
        "import collections\n",
        "\n",
        "from sklearn.metrics import (mean_absolute_percentage_error,\n",
        "                             mean_absolute_error as MAE,\n",
        "                             make_scorer)\n",
        "\n",
        "from sklearn.dummy import DummyRegressor\n",
        "from sklearn.tree import DecisionTreeRegressor\n",
        "from sklearn.ensemble import RandomForestRegressor\n",
        "from sklearn.linear_model import LinearRegression\n",
        "from sklearn.model_selection import cross_val_score\n",
        "\n",
        "from numpy.random import RandomState"
      ]
    },
    {
      "cell_type": "code",
      "execution_count": 2,
      "metadata": {
        "id": "ohujbgpQ9DVe"
      },
      "outputs": [],
      "source": [
        "gold_recovery_train = pd.read_csv('/content/gold_industry_train.csv')\n",
        "gold_recovery_test_new = pd.read_csv('/content/gold_industry_test.csv')\n",
        "gold_recovery_full_new = pd.read_csv('/content/gold_industry_full.csv')"
      ]
    },
    {
      "cell_type": "code",
      "execution_count": 3,
      "metadata": {
        "scrolled": true,
        "id": "fa-65ri49DVf",
        "outputId": "a57132cc-38a6-4d8c-93f3-dc8fe34f5bf6",
        "colab": {
          "base_uri": "https://localhost:8080/",
          "height": 752
        }
      },
      "outputs": [
        {
          "output_type": "display_data",
          "data": {
            "text/plain": [
              "                  date  rougher.input.feed_au  rougher.input.feed_ag  \\\n",
              "0  2016-01-15 00:00:00               6.486150               6.100378   \n",
              "1  2016-01-15 01:00:00               6.478583               6.161113   \n",
              "\n",
              "   rougher.input.feed_pb  rougher.input.feed_sol  rougher.input.feed_rate  \\\n",
              "0               2.284912               36.808594               523.546326   \n",
              "1               2.266033               35.753385               525.290581   \n",
              "\n",
              "   rougher.input.feed_size  rougher.input.floatbank10_sulfate  \\\n",
              "0                55.486599                          11.986616   \n",
              "1                57.278666                          11.971193   \n",
              "\n",
              "   rougher.input.floatbank10_xanthate  rougher.state.floatbank10_a_air  ...  \\\n",
              "0                            6.007990                       999.706909  ...   \n",
              "1                            6.005766                      1000.286398  ...   \n",
              "\n",
              "   secondary_cleaner.output.tail_sol  final.output.concentrate_au  \\\n",
              "0                           8.764648                    42.192020   \n",
              "1                           9.001494                    42.701629   \n",
              "\n",
              "   final.output.concentrate_ag  final.output.concentrate_pb  \\\n",
              "0                     6.055403                     9.889648   \n",
              "1                     6.029369                     9.968944   \n",
              "\n",
              "   final.output.concentrate_sol  final.output.recovery  final.output.tail_au  \\\n",
              "0                      5.507324              70.541216              2.143149   \n",
              "1                      5.257781              69.266198              2.224930   \n",
              "\n",
              "   final.output.tail_ag  final.output.tail_pb  final.output.tail_sol  \n",
              "0             10.411962              0.895447              16.904297  \n",
              "1             10.462676              0.927452              16.634514  \n",
              "\n",
              "[2 rows x 87 columns]"
            ],
            "text/html": [
              "\n",
              "\n",
              "  <div id=\"df-e9291c0c-24f3-4397-89d6-68808e88edc9\">\n",
              "    <div class=\"colab-df-container\">\n",
              "      <div>\n",
              "<style scoped>\n",
              "    .dataframe tbody tr th:only-of-type {\n",
              "        vertical-align: middle;\n",
              "    }\n",
              "\n",
              "    .dataframe tbody tr th {\n",
              "        vertical-align: top;\n",
              "    }\n",
              "\n",
              "    .dataframe thead th {\n",
              "        text-align: right;\n",
              "    }\n",
              "</style>\n",
              "<table border=\"1\" class=\"dataframe\">\n",
              "  <thead>\n",
              "    <tr style=\"text-align: right;\">\n",
              "      <th></th>\n",
              "      <th>date</th>\n",
              "      <th>rougher.input.feed_au</th>\n",
              "      <th>rougher.input.feed_ag</th>\n",
              "      <th>rougher.input.feed_pb</th>\n",
              "      <th>rougher.input.feed_sol</th>\n",
              "      <th>rougher.input.feed_rate</th>\n",
              "      <th>rougher.input.feed_size</th>\n",
              "      <th>rougher.input.floatbank10_sulfate</th>\n",
              "      <th>rougher.input.floatbank10_xanthate</th>\n",
              "      <th>rougher.state.floatbank10_a_air</th>\n",
              "      <th>...</th>\n",
              "      <th>secondary_cleaner.output.tail_sol</th>\n",
              "      <th>final.output.concentrate_au</th>\n",
              "      <th>final.output.concentrate_ag</th>\n",
              "      <th>final.output.concentrate_pb</th>\n",
              "      <th>final.output.concentrate_sol</th>\n",
              "      <th>final.output.recovery</th>\n",
              "      <th>final.output.tail_au</th>\n",
              "      <th>final.output.tail_ag</th>\n",
              "      <th>final.output.tail_pb</th>\n",
              "      <th>final.output.tail_sol</th>\n",
              "    </tr>\n",
              "  </thead>\n",
              "  <tbody>\n",
              "    <tr>\n",
              "      <th>0</th>\n",
              "      <td>2016-01-15 00:00:00</td>\n",
              "      <td>6.486150</td>\n",
              "      <td>6.100378</td>\n",
              "      <td>2.284912</td>\n",
              "      <td>36.808594</td>\n",
              "      <td>523.546326</td>\n",
              "      <td>55.486599</td>\n",
              "      <td>11.986616</td>\n",
              "      <td>6.007990</td>\n",
              "      <td>999.706909</td>\n",
              "      <td>...</td>\n",
              "      <td>8.764648</td>\n",
              "      <td>42.192020</td>\n",
              "      <td>6.055403</td>\n",
              "      <td>9.889648</td>\n",
              "      <td>5.507324</td>\n",
              "      <td>70.541216</td>\n",
              "      <td>2.143149</td>\n",
              "      <td>10.411962</td>\n",
              "      <td>0.895447</td>\n",
              "      <td>16.904297</td>\n",
              "    </tr>\n",
              "    <tr>\n",
              "      <th>1</th>\n",
              "      <td>2016-01-15 01:00:00</td>\n",
              "      <td>6.478583</td>\n",
              "      <td>6.161113</td>\n",
              "      <td>2.266033</td>\n",
              "      <td>35.753385</td>\n",
              "      <td>525.290581</td>\n",
              "      <td>57.278666</td>\n",
              "      <td>11.971193</td>\n",
              "      <td>6.005766</td>\n",
              "      <td>1000.286398</td>\n",
              "      <td>...</td>\n",
              "      <td>9.001494</td>\n",
              "      <td>42.701629</td>\n",
              "      <td>6.029369</td>\n",
              "      <td>9.968944</td>\n",
              "      <td>5.257781</td>\n",
              "      <td>69.266198</td>\n",
              "      <td>2.224930</td>\n",
              "      <td>10.462676</td>\n",
              "      <td>0.927452</td>\n",
              "      <td>16.634514</td>\n",
              "    </tr>\n",
              "  </tbody>\n",
              "</table>\n",
              "<p>2 rows × 87 columns</p>\n",
              "</div>\n",
              "      <button class=\"colab-df-convert\" onclick=\"convertToInteractive('df-e9291c0c-24f3-4397-89d6-68808e88edc9')\"\n",
              "              title=\"Convert this dataframe to an interactive table.\"\n",
              "              style=\"display:none;\">\n",
              "\n",
              "  <svg xmlns=\"http://www.w3.org/2000/svg\" height=\"24px\"viewBox=\"0 0 24 24\"\n",
              "       width=\"24px\">\n",
              "    <path d=\"M0 0h24v24H0V0z\" fill=\"none\"/>\n",
              "    <path d=\"M18.56 5.44l.94 2.06.94-2.06 2.06-.94-2.06-.94-.94-2.06-.94 2.06-2.06.94zm-11 1L8.5 8.5l.94-2.06 2.06-.94-2.06-.94L8.5 2.5l-.94 2.06-2.06.94zm10 10l.94 2.06.94-2.06 2.06-.94-2.06-.94-.94-2.06-.94 2.06-2.06.94z\"/><path d=\"M17.41 7.96l-1.37-1.37c-.4-.4-.92-.59-1.43-.59-.52 0-1.04.2-1.43.59L10.3 9.45l-7.72 7.72c-.78.78-.78 2.05 0 2.83L4 21.41c.39.39.9.59 1.41.59.51 0 1.02-.2 1.41-.59l7.78-7.78 2.81-2.81c.8-.78.8-2.07 0-2.86zM5.41 20L4 18.59l7.72-7.72 1.47 1.35L5.41 20z\"/>\n",
              "  </svg>\n",
              "      </button>\n",
              "\n",
              "\n",
              "\n",
              "    <div id=\"df-26539240-392f-42bf-bf19-40c1138ac7c9\">\n",
              "      <button class=\"colab-df-quickchart\" onclick=\"quickchart('df-26539240-392f-42bf-bf19-40c1138ac7c9')\"\n",
              "              title=\"Suggest charts.\"\n",
              "              style=\"display:none;\">\n",
              "\n",
              "<svg xmlns=\"http://www.w3.org/2000/svg\" height=\"24px\"viewBox=\"0 0 24 24\"\n",
              "     width=\"24px\">\n",
              "    <g>\n",
              "        <path d=\"M19 3H5c-1.1 0-2 .9-2 2v14c0 1.1.9 2 2 2h14c1.1 0 2-.9 2-2V5c0-1.1-.9-2-2-2zM9 17H7v-7h2v7zm4 0h-2V7h2v10zm4 0h-2v-4h2v4z\"/>\n",
              "    </g>\n",
              "</svg>\n",
              "      </button>\n",
              "    </div>\n",
              "\n",
              "<style>\n",
              "  .colab-df-quickchart {\n",
              "    background-color: #E8F0FE;\n",
              "    border: none;\n",
              "    border-radius: 50%;\n",
              "    cursor: pointer;\n",
              "    display: none;\n",
              "    fill: #1967D2;\n",
              "    height: 32px;\n",
              "    padding: 0 0 0 0;\n",
              "    width: 32px;\n",
              "  }\n",
              "\n",
              "  .colab-df-quickchart:hover {\n",
              "    background-color: #E2EBFA;\n",
              "    box-shadow: 0px 1px 2px rgba(60, 64, 67, 0.3), 0px 1px 3px 1px rgba(60, 64, 67, 0.15);\n",
              "    fill: #174EA6;\n",
              "  }\n",
              "\n",
              "  [theme=dark] .colab-df-quickchart {\n",
              "    background-color: #3B4455;\n",
              "    fill: #D2E3FC;\n",
              "  }\n",
              "\n",
              "  [theme=dark] .colab-df-quickchart:hover {\n",
              "    background-color: #434B5C;\n",
              "    box-shadow: 0px 1px 3px 1px rgba(0, 0, 0, 0.15);\n",
              "    filter: drop-shadow(0px 1px 2px rgba(0, 0, 0, 0.3));\n",
              "    fill: #FFFFFF;\n",
              "  }\n",
              "</style>\n",
              "\n",
              "    <script>\n",
              "      async function quickchart(key) {\n",
              "        const containerElement = document.querySelector('#' + key);\n",
              "        const charts = await google.colab.kernel.invokeFunction(\n",
              "            'suggestCharts', [key], {});\n",
              "      }\n",
              "    </script>\n",
              "\n",
              "      <script>\n",
              "\n",
              "function displayQuickchartButton(domScope) {\n",
              "  let quickchartButtonEl =\n",
              "    domScope.querySelector('#df-26539240-392f-42bf-bf19-40c1138ac7c9 button.colab-df-quickchart');\n",
              "  quickchartButtonEl.style.display =\n",
              "    google.colab.kernel.accessAllowed ? 'block' : 'none';\n",
              "}\n",
              "\n",
              "        displayQuickchartButton(document);\n",
              "      </script>\n",
              "      <style>\n",
              "    .colab-df-container {\n",
              "      display:flex;\n",
              "      flex-wrap:wrap;\n",
              "      gap: 12px;\n",
              "    }\n",
              "\n",
              "    .colab-df-convert {\n",
              "      background-color: #E8F0FE;\n",
              "      border: none;\n",
              "      border-radius: 50%;\n",
              "      cursor: pointer;\n",
              "      display: none;\n",
              "      fill: #1967D2;\n",
              "      height: 32px;\n",
              "      padding: 0 0 0 0;\n",
              "      width: 32px;\n",
              "    }\n",
              "\n",
              "    .colab-df-convert:hover {\n",
              "      background-color: #E2EBFA;\n",
              "      box-shadow: 0px 1px 2px rgba(60, 64, 67, 0.3), 0px 1px 3px 1px rgba(60, 64, 67, 0.15);\n",
              "      fill: #174EA6;\n",
              "    }\n",
              "\n",
              "    [theme=dark] .colab-df-convert {\n",
              "      background-color: #3B4455;\n",
              "      fill: #D2E3FC;\n",
              "    }\n",
              "\n",
              "    [theme=dark] .colab-df-convert:hover {\n",
              "      background-color: #434B5C;\n",
              "      box-shadow: 0px 1px 3px 1px rgba(0, 0, 0, 0.15);\n",
              "      filter: drop-shadow(0px 1px 2px rgba(0, 0, 0, 0.3));\n",
              "      fill: #FFFFFF;\n",
              "    }\n",
              "  </style>\n",
              "\n",
              "      <script>\n",
              "        const buttonEl =\n",
              "          document.querySelector('#df-e9291c0c-24f3-4397-89d6-68808e88edc9 button.colab-df-convert');\n",
              "        buttonEl.style.display =\n",
              "          google.colab.kernel.accessAllowed ? 'block' : 'none';\n",
              "\n",
              "        async function convertToInteractive(key) {\n",
              "          const element = document.querySelector('#df-e9291c0c-24f3-4397-89d6-68808e88edc9');\n",
              "          const dataTable =\n",
              "            await google.colab.kernel.invokeFunction('convertToInteractive',\n",
              "                                                     [key], {});\n",
              "          if (!dataTable) return;\n",
              "\n",
              "          const docLinkHtml = 'Like what you see? Visit the ' +\n",
              "            '<a target=\"_blank\" href=https://colab.research.google.com/notebooks/data_table.ipynb>data table notebook</a>'\n",
              "            + ' to learn more about interactive tables.';\n",
              "          element.innerHTML = '';\n",
              "          dataTable['output_type'] = 'display_data';\n",
              "          await google.colab.output.renderOutput(dataTable, element);\n",
              "          const docLink = document.createElement('div');\n",
              "          docLink.innerHTML = docLinkHtml;\n",
              "          element.appendChild(docLink);\n",
              "        }\n",
              "      </script>\n",
              "    </div>\n",
              "  </div>\n"
            ]
          },
          "metadata": {}
        },
        {
          "output_type": "display_data",
          "data": {
            "text/plain": [
              "                  date  rougher.input.feed_au  rougher.input.feed_ag  \\\n",
              "0  2017-12-09 14:59:59               4.365491               6.158718   \n",
              "1  2017-12-09 15:59:59               4.362781               6.048130   \n",
              "\n",
              "   rougher.input.feed_pb  rougher.input.feed_sol  rougher.input.feed_rate  \\\n",
              "0               3.875727               39.135119               555.820208   \n",
              "1               3.902537               39.713906               544.731687   \n",
              "\n",
              "   rougher.input.feed_size  rougher.input.floatbank10_sulfate  \\\n",
              "0                94.544358                           6.146982   \n",
              "1               123.742430                           6.210119   \n",
              "\n",
              "   rougher.input.floatbank10_xanthate  rougher.state.floatbank10_a_air  ...  \\\n",
              "0                            9.308612                      1196.238112  ...   \n",
              "1                            9.297709                      1201.904177  ...   \n",
              "\n",
              "   secondary_cleaner.state.floatbank4_a_air  \\\n",
              "0                                 23.018622   \n",
              "1                                 23.024963   \n",
              "\n",
              "   secondary_cleaner.state.floatbank4_a_level  \\\n",
              "0                                 -500.492702   \n",
              "1                                 -501.153409   \n",
              "\n",
              "   secondary_cleaner.state.floatbank4_b_air  \\\n",
              "0                                 20.020205   \n",
              "1                                 20.054122   \n",
              "\n",
              "   secondary_cleaner.state.floatbank4_b_level  \\\n",
              "0                                 -500.220296   \n",
              "1                                 -500.314711   \n",
              "\n",
              "   secondary_cleaner.state.floatbank5_a_air  \\\n",
              "0                                 17.963512   \n",
              "1                                 17.979515   \n",
              "\n",
              "   secondary_cleaner.state.floatbank5_a_level  \\\n",
              "0                                 -499.939490   \n",
              "1                                 -499.272871   \n",
              "\n",
              "   secondary_cleaner.state.floatbank5_b_air  \\\n",
              "0                                 12.990306   \n",
              "1                                 12.992404   \n",
              "\n",
              "   secondary_cleaner.state.floatbank5_b_level  \\\n",
              "0                                 -500.080993   \n",
              "1                                 -499.976268   \n",
              "\n",
              "   secondary_cleaner.state.floatbank6_a_air  \\\n",
              "0                                 19.990336   \n",
              "1                                 20.013986   \n",
              "\n",
              "   secondary_cleaner.state.floatbank6_a_level  \n",
              "0                                 -499.191575  \n",
              "1                                 -500.625471  \n",
              "\n",
              "[2 rows x 53 columns]"
            ],
            "text/html": [
              "\n",
              "\n",
              "  <div id=\"df-0cac4c41-f193-463d-9381-53d6b053f034\">\n",
              "    <div class=\"colab-df-container\">\n",
              "      <div>\n",
              "<style scoped>\n",
              "    .dataframe tbody tr th:only-of-type {\n",
              "        vertical-align: middle;\n",
              "    }\n",
              "\n",
              "    .dataframe tbody tr th {\n",
              "        vertical-align: top;\n",
              "    }\n",
              "\n",
              "    .dataframe thead th {\n",
              "        text-align: right;\n",
              "    }\n",
              "</style>\n",
              "<table border=\"1\" class=\"dataframe\">\n",
              "  <thead>\n",
              "    <tr style=\"text-align: right;\">\n",
              "      <th></th>\n",
              "      <th>date</th>\n",
              "      <th>rougher.input.feed_au</th>\n",
              "      <th>rougher.input.feed_ag</th>\n",
              "      <th>rougher.input.feed_pb</th>\n",
              "      <th>rougher.input.feed_sol</th>\n",
              "      <th>rougher.input.feed_rate</th>\n",
              "      <th>rougher.input.feed_size</th>\n",
              "      <th>rougher.input.floatbank10_sulfate</th>\n",
              "      <th>rougher.input.floatbank10_xanthate</th>\n",
              "      <th>rougher.state.floatbank10_a_air</th>\n",
              "      <th>...</th>\n",
              "      <th>secondary_cleaner.state.floatbank4_a_air</th>\n",
              "      <th>secondary_cleaner.state.floatbank4_a_level</th>\n",
              "      <th>secondary_cleaner.state.floatbank4_b_air</th>\n",
              "      <th>secondary_cleaner.state.floatbank4_b_level</th>\n",
              "      <th>secondary_cleaner.state.floatbank5_a_air</th>\n",
              "      <th>secondary_cleaner.state.floatbank5_a_level</th>\n",
              "      <th>secondary_cleaner.state.floatbank5_b_air</th>\n",
              "      <th>secondary_cleaner.state.floatbank5_b_level</th>\n",
              "      <th>secondary_cleaner.state.floatbank6_a_air</th>\n",
              "      <th>secondary_cleaner.state.floatbank6_a_level</th>\n",
              "    </tr>\n",
              "  </thead>\n",
              "  <tbody>\n",
              "    <tr>\n",
              "      <th>0</th>\n",
              "      <td>2017-12-09 14:59:59</td>\n",
              "      <td>4.365491</td>\n",
              "      <td>6.158718</td>\n",
              "      <td>3.875727</td>\n",
              "      <td>39.135119</td>\n",
              "      <td>555.820208</td>\n",
              "      <td>94.544358</td>\n",
              "      <td>6.146982</td>\n",
              "      <td>9.308612</td>\n",
              "      <td>1196.238112</td>\n",
              "      <td>...</td>\n",
              "      <td>23.018622</td>\n",
              "      <td>-500.492702</td>\n",
              "      <td>20.020205</td>\n",
              "      <td>-500.220296</td>\n",
              "      <td>17.963512</td>\n",
              "      <td>-499.939490</td>\n",
              "      <td>12.990306</td>\n",
              "      <td>-500.080993</td>\n",
              "      <td>19.990336</td>\n",
              "      <td>-499.191575</td>\n",
              "    </tr>\n",
              "    <tr>\n",
              "      <th>1</th>\n",
              "      <td>2017-12-09 15:59:59</td>\n",
              "      <td>4.362781</td>\n",
              "      <td>6.048130</td>\n",
              "      <td>3.902537</td>\n",
              "      <td>39.713906</td>\n",
              "      <td>544.731687</td>\n",
              "      <td>123.742430</td>\n",
              "      <td>6.210119</td>\n",
              "      <td>9.297709</td>\n",
              "      <td>1201.904177</td>\n",
              "      <td>...</td>\n",
              "      <td>23.024963</td>\n",
              "      <td>-501.153409</td>\n",
              "      <td>20.054122</td>\n",
              "      <td>-500.314711</td>\n",
              "      <td>17.979515</td>\n",
              "      <td>-499.272871</td>\n",
              "      <td>12.992404</td>\n",
              "      <td>-499.976268</td>\n",
              "      <td>20.013986</td>\n",
              "      <td>-500.625471</td>\n",
              "    </tr>\n",
              "  </tbody>\n",
              "</table>\n",
              "<p>2 rows × 53 columns</p>\n",
              "</div>\n",
              "      <button class=\"colab-df-convert\" onclick=\"convertToInteractive('df-0cac4c41-f193-463d-9381-53d6b053f034')\"\n",
              "              title=\"Convert this dataframe to an interactive table.\"\n",
              "              style=\"display:none;\">\n",
              "\n",
              "  <svg xmlns=\"http://www.w3.org/2000/svg\" height=\"24px\"viewBox=\"0 0 24 24\"\n",
              "       width=\"24px\">\n",
              "    <path d=\"M0 0h24v24H0V0z\" fill=\"none\"/>\n",
              "    <path d=\"M18.56 5.44l.94 2.06.94-2.06 2.06-.94-2.06-.94-.94-2.06-.94 2.06-2.06.94zm-11 1L8.5 8.5l.94-2.06 2.06-.94-2.06-.94L8.5 2.5l-.94 2.06-2.06.94zm10 10l.94 2.06.94-2.06 2.06-.94-2.06-.94-.94-2.06-.94 2.06-2.06.94z\"/><path d=\"M17.41 7.96l-1.37-1.37c-.4-.4-.92-.59-1.43-.59-.52 0-1.04.2-1.43.59L10.3 9.45l-7.72 7.72c-.78.78-.78 2.05 0 2.83L4 21.41c.39.39.9.59 1.41.59.51 0 1.02-.2 1.41-.59l7.78-7.78 2.81-2.81c.8-.78.8-2.07 0-2.86zM5.41 20L4 18.59l7.72-7.72 1.47 1.35L5.41 20z\"/>\n",
              "  </svg>\n",
              "      </button>\n",
              "\n",
              "\n",
              "\n",
              "    <div id=\"df-027227c1-6896-4900-b651-a0796c940d5e\">\n",
              "      <button class=\"colab-df-quickchart\" onclick=\"quickchart('df-027227c1-6896-4900-b651-a0796c940d5e')\"\n",
              "              title=\"Suggest charts.\"\n",
              "              style=\"display:none;\">\n",
              "\n",
              "<svg xmlns=\"http://www.w3.org/2000/svg\" height=\"24px\"viewBox=\"0 0 24 24\"\n",
              "     width=\"24px\">\n",
              "    <g>\n",
              "        <path d=\"M19 3H5c-1.1 0-2 .9-2 2v14c0 1.1.9 2 2 2h14c1.1 0 2-.9 2-2V5c0-1.1-.9-2-2-2zM9 17H7v-7h2v7zm4 0h-2V7h2v10zm4 0h-2v-4h2v4z\"/>\n",
              "    </g>\n",
              "</svg>\n",
              "      </button>\n",
              "    </div>\n",
              "\n",
              "<style>\n",
              "  .colab-df-quickchart {\n",
              "    background-color: #E8F0FE;\n",
              "    border: none;\n",
              "    border-radius: 50%;\n",
              "    cursor: pointer;\n",
              "    display: none;\n",
              "    fill: #1967D2;\n",
              "    height: 32px;\n",
              "    padding: 0 0 0 0;\n",
              "    width: 32px;\n",
              "  }\n",
              "\n",
              "  .colab-df-quickchart:hover {\n",
              "    background-color: #E2EBFA;\n",
              "    box-shadow: 0px 1px 2px rgba(60, 64, 67, 0.3), 0px 1px 3px 1px rgba(60, 64, 67, 0.15);\n",
              "    fill: #174EA6;\n",
              "  }\n",
              "\n",
              "  [theme=dark] .colab-df-quickchart {\n",
              "    background-color: #3B4455;\n",
              "    fill: #D2E3FC;\n",
              "  }\n",
              "\n",
              "  [theme=dark] .colab-df-quickchart:hover {\n",
              "    background-color: #434B5C;\n",
              "    box-shadow: 0px 1px 3px 1px rgba(0, 0, 0, 0.15);\n",
              "    filter: drop-shadow(0px 1px 2px rgba(0, 0, 0, 0.3));\n",
              "    fill: #FFFFFF;\n",
              "  }\n",
              "</style>\n",
              "\n",
              "    <script>\n",
              "      async function quickchart(key) {\n",
              "        const containerElement = document.querySelector('#' + key);\n",
              "        const charts = await google.colab.kernel.invokeFunction(\n",
              "            'suggestCharts', [key], {});\n",
              "      }\n",
              "    </script>\n",
              "\n",
              "      <script>\n",
              "\n",
              "function displayQuickchartButton(domScope) {\n",
              "  let quickchartButtonEl =\n",
              "    domScope.querySelector('#df-027227c1-6896-4900-b651-a0796c940d5e button.colab-df-quickchart');\n",
              "  quickchartButtonEl.style.display =\n",
              "    google.colab.kernel.accessAllowed ? 'block' : 'none';\n",
              "}\n",
              "\n",
              "        displayQuickchartButton(document);\n",
              "      </script>\n",
              "      <style>\n",
              "    .colab-df-container {\n",
              "      display:flex;\n",
              "      flex-wrap:wrap;\n",
              "      gap: 12px;\n",
              "    }\n",
              "\n",
              "    .colab-df-convert {\n",
              "      background-color: #E8F0FE;\n",
              "      border: none;\n",
              "      border-radius: 50%;\n",
              "      cursor: pointer;\n",
              "      display: none;\n",
              "      fill: #1967D2;\n",
              "      height: 32px;\n",
              "      padding: 0 0 0 0;\n",
              "      width: 32px;\n",
              "    }\n",
              "\n",
              "    .colab-df-convert:hover {\n",
              "      background-color: #E2EBFA;\n",
              "      box-shadow: 0px 1px 2px rgba(60, 64, 67, 0.3), 0px 1px 3px 1px rgba(60, 64, 67, 0.15);\n",
              "      fill: #174EA6;\n",
              "    }\n",
              "\n",
              "    [theme=dark] .colab-df-convert {\n",
              "      background-color: #3B4455;\n",
              "      fill: #D2E3FC;\n",
              "    }\n",
              "\n",
              "    [theme=dark] .colab-df-convert:hover {\n",
              "      background-color: #434B5C;\n",
              "      box-shadow: 0px 1px 3px 1px rgba(0, 0, 0, 0.15);\n",
              "      filter: drop-shadow(0px 1px 2px rgba(0, 0, 0, 0.3));\n",
              "      fill: #FFFFFF;\n",
              "    }\n",
              "  </style>\n",
              "\n",
              "      <script>\n",
              "        const buttonEl =\n",
              "          document.querySelector('#df-0cac4c41-f193-463d-9381-53d6b053f034 button.colab-df-convert');\n",
              "        buttonEl.style.display =\n",
              "          google.colab.kernel.accessAllowed ? 'block' : 'none';\n",
              "\n",
              "        async function convertToInteractive(key) {\n",
              "          const element = document.querySelector('#df-0cac4c41-f193-463d-9381-53d6b053f034');\n",
              "          const dataTable =\n",
              "            await google.colab.kernel.invokeFunction('convertToInteractive',\n",
              "                                                     [key], {});\n",
              "          if (!dataTable) return;\n",
              "\n",
              "          const docLinkHtml = 'Like what you see? Visit the ' +\n",
              "            '<a target=\"_blank\" href=https://colab.research.google.com/notebooks/data_table.ipynb>data table notebook</a>'\n",
              "            + ' to learn more about interactive tables.';\n",
              "          element.innerHTML = '';\n",
              "          dataTable['output_type'] = 'display_data';\n",
              "          await google.colab.output.renderOutput(dataTable, element);\n",
              "          const docLink = document.createElement('div');\n",
              "          docLink.innerHTML = docLinkHtml;\n",
              "          element.appendChild(docLink);\n",
              "        }\n",
              "      </script>\n",
              "    </div>\n",
              "  </div>\n"
            ]
          },
          "metadata": {}
        },
        {
          "output_type": "display_data",
          "data": {
            "text/plain": [
              "                  date  rougher.input.feed_au  rougher.input.feed_ag  \\\n",
              "0  2016-01-15 00:00:00               6.486150               6.100378   \n",
              "1  2016-01-15 01:00:00               6.478583               6.161113   \n",
              "\n",
              "   rougher.input.feed_pb  rougher.input.feed_sol  rougher.input.feed_rate  \\\n",
              "0               2.284912               36.808594               523.546326   \n",
              "1               2.266033               35.753385               525.290581   \n",
              "\n",
              "   rougher.input.feed_size  rougher.input.floatbank10_sulfate  \\\n",
              "0                55.486599                          11.986616   \n",
              "1                57.278666                          11.971193   \n",
              "\n",
              "   rougher.input.floatbank10_xanthate  rougher.state.floatbank10_a_air  ...  \\\n",
              "0                            6.007990                       999.706909  ...   \n",
              "1                            6.005766                      1000.286398  ...   \n",
              "\n",
              "   secondary_cleaner.output.tail_sol  final.output.concentrate_au  \\\n",
              "0                           8.764648                    42.192020   \n",
              "1                           9.001494                    42.701629   \n",
              "\n",
              "   final.output.concentrate_ag  final.output.concentrate_pb  \\\n",
              "0                     6.055403                     9.889648   \n",
              "1                     6.029369                     9.968944   \n",
              "\n",
              "   final.output.concentrate_sol  final.output.recovery  final.output.tail_au  \\\n",
              "0                      5.507324              70.541216              2.143149   \n",
              "1                      5.257781              69.266198              2.224930   \n",
              "\n",
              "   final.output.tail_ag  final.output.tail_pb  final.output.tail_sol  \n",
              "0             10.411962              0.895447              16.904297  \n",
              "1             10.462676              0.927452              16.634514  \n",
              "\n",
              "[2 rows x 87 columns]"
            ],
            "text/html": [
              "\n",
              "\n",
              "  <div id=\"df-38f12b7f-ffe2-40ee-80bb-d4bb1cc4bcd1\">\n",
              "    <div class=\"colab-df-container\">\n",
              "      <div>\n",
              "<style scoped>\n",
              "    .dataframe tbody tr th:only-of-type {\n",
              "        vertical-align: middle;\n",
              "    }\n",
              "\n",
              "    .dataframe tbody tr th {\n",
              "        vertical-align: top;\n",
              "    }\n",
              "\n",
              "    .dataframe thead th {\n",
              "        text-align: right;\n",
              "    }\n",
              "</style>\n",
              "<table border=\"1\" class=\"dataframe\">\n",
              "  <thead>\n",
              "    <tr style=\"text-align: right;\">\n",
              "      <th></th>\n",
              "      <th>date</th>\n",
              "      <th>rougher.input.feed_au</th>\n",
              "      <th>rougher.input.feed_ag</th>\n",
              "      <th>rougher.input.feed_pb</th>\n",
              "      <th>rougher.input.feed_sol</th>\n",
              "      <th>rougher.input.feed_rate</th>\n",
              "      <th>rougher.input.feed_size</th>\n",
              "      <th>rougher.input.floatbank10_sulfate</th>\n",
              "      <th>rougher.input.floatbank10_xanthate</th>\n",
              "      <th>rougher.state.floatbank10_a_air</th>\n",
              "      <th>...</th>\n",
              "      <th>secondary_cleaner.output.tail_sol</th>\n",
              "      <th>final.output.concentrate_au</th>\n",
              "      <th>final.output.concentrate_ag</th>\n",
              "      <th>final.output.concentrate_pb</th>\n",
              "      <th>final.output.concentrate_sol</th>\n",
              "      <th>final.output.recovery</th>\n",
              "      <th>final.output.tail_au</th>\n",
              "      <th>final.output.tail_ag</th>\n",
              "      <th>final.output.tail_pb</th>\n",
              "      <th>final.output.tail_sol</th>\n",
              "    </tr>\n",
              "  </thead>\n",
              "  <tbody>\n",
              "    <tr>\n",
              "      <th>0</th>\n",
              "      <td>2016-01-15 00:00:00</td>\n",
              "      <td>6.486150</td>\n",
              "      <td>6.100378</td>\n",
              "      <td>2.284912</td>\n",
              "      <td>36.808594</td>\n",
              "      <td>523.546326</td>\n",
              "      <td>55.486599</td>\n",
              "      <td>11.986616</td>\n",
              "      <td>6.007990</td>\n",
              "      <td>999.706909</td>\n",
              "      <td>...</td>\n",
              "      <td>8.764648</td>\n",
              "      <td>42.192020</td>\n",
              "      <td>6.055403</td>\n",
              "      <td>9.889648</td>\n",
              "      <td>5.507324</td>\n",
              "      <td>70.541216</td>\n",
              "      <td>2.143149</td>\n",
              "      <td>10.411962</td>\n",
              "      <td>0.895447</td>\n",
              "      <td>16.904297</td>\n",
              "    </tr>\n",
              "    <tr>\n",
              "      <th>1</th>\n",
              "      <td>2016-01-15 01:00:00</td>\n",
              "      <td>6.478583</td>\n",
              "      <td>6.161113</td>\n",
              "      <td>2.266033</td>\n",
              "      <td>35.753385</td>\n",
              "      <td>525.290581</td>\n",
              "      <td>57.278666</td>\n",
              "      <td>11.971193</td>\n",
              "      <td>6.005766</td>\n",
              "      <td>1000.286398</td>\n",
              "      <td>...</td>\n",
              "      <td>9.001494</td>\n",
              "      <td>42.701629</td>\n",
              "      <td>6.029369</td>\n",
              "      <td>9.968944</td>\n",
              "      <td>5.257781</td>\n",
              "      <td>69.266198</td>\n",
              "      <td>2.224930</td>\n",
              "      <td>10.462676</td>\n",
              "      <td>0.927452</td>\n",
              "      <td>16.634514</td>\n",
              "    </tr>\n",
              "  </tbody>\n",
              "</table>\n",
              "<p>2 rows × 87 columns</p>\n",
              "</div>\n",
              "      <button class=\"colab-df-convert\" onclick=\"convertToInteractive('df-38f12b7f-ffe2-40ee-80bb-d4bb1cc4bcd1')\"\n",
              "              title=\"Convert this dataframe to an interactive table.\"\n",
              "              style=\"display:none;\">\n",
              "\n",
              "  <svg xmlns=\"http://www.w3.org/2000/svg\" height=\"24px\"viewBox=\"0 0 24 24\"\n",
              "       width=\"24px\">\n",
              "    <path d=\"M0 0h24v24H0V0z\" fill=\"none\"/>\n",
              "    <path d=\"M18.56 5.44l.94 2.06.94-2.06 2.06-.94-2.06-.94-.94-2.06-.94 2.06-2.06.94zm-11 1L8.5 8.5l.94-2.06 2.06-.94-2.06-.94L8.5 2.5l-.94 2.06-2.06.94zm10 10l.94 2.06.94-2.06 2.06-.94-2.06-.94-.94-2.06-.94 2.06-2.06.94z\"/><path d=\"M17.41 7.96l-1.37-1.37c-.4-.4-.92-.59-1.43-.59-.52 0-1.04.2-1.43.59L10.3 9.45l-7.72 7.72c-.78.78-.78 2.05 0 2.83L4 21.41c.39.39.9.59 1.41.59.51 0 1.02-.2 1.41-.59l7.78-7.78 2.81-2.81c.8-.78.8-2.07 0-2.86zM5.41 20L4 18.59l7.72-7.72 1.47 1.35L5.41 20z\"/>\n",
              "  </svg>\n",
              "      </button>\n",
              "\n",
              "\n",
              "\n",
              "    <div id=\"df-2743f4bf-d4c2-4d25-976e-b59777c2c9a8\">\n",
              "      <button class=\"colab-df-quickchart\" onclick=\"quickchart('df-2743f4bf-d4c2-4d25-976e-b59777c2c9a8')\"\n",
              "              title=\"Suggest charts.\"\n",
              "              style=\"display:none;\">\n",
              "\n",
              "<svg xmlns=\"http://www.w3.org/2000/svg\" height=\"24px\"viewBox=\"0 0 24 24\"\n",
              "     width=\"24px\">\n",
              "    <g>\n",
              "        <path d=\"M19 3H5c-1.1 0-2 .9-2 2v14c0 1.1.9 2 2 2h14c1.1 0 2-.9 2-2V5c0-1.1-.9-2-2-2zM9 17H7v-7h2v7zm4 0h-2V7h2v10zm4 0h-2v-4h2v4z\"/>\n",
              "    </g>\n",
              "</svg>\n",
              "      </button>\n",
              "    </div>\n",
              "\n",
              "<style>\n",
              "  .colab-df-quickchart {\n",
              "    background-color: #E8F0FE;\n",
              "    border: none;\n",
              "    border-radius: 50%;\n",
              "    cursor: pointer;\n",
              "    display: none;\n",
              "    fill: #1967D2;\n",
              "    height: 32px;\n",
              "    padding: 0 0 0 0;\n",
              "    width: 32px;\n",
              "  }\n",
              "\n",
              "  .colab-df-quickchart:hover {\n",
              "    background-color: #E2EBFA;\n",
              "    box-shadow: 0px 1px 2px rgba(60, 64, 67, 0.3), 0px 1px 3px 1px rgba(60, 64, 67, 0.15);\n",
              "    fill: #174EA6;\n",
              "  }\n",
              "\n",
              "  [theme=dark] .colab-df-quickchart {\n",
              "    background-color: #3B4455;\n",
              "    fill: #D2E3FC;\n",
              "  }\n",
              "\n",
              "  [theme=dark] .colab-df-quickchart:hover {\n",
              "    background-color: #434B5C;\n",
              "    box-shadow: 0px 1px 3px 1px rgba(0, 0, 0, 0.15);\n",
              "    filter: drop-shadow(0px 1px 2px rgba(0, 0, 0, 0.3));\n",
              "    fill: #FFFFFF;\n",
              "  }\n",
              "</style>\n",
              "\n",
              "    <script>\n",
              "      async function quickchart(key) {\n",
              "        const containerElement = document.querySelector('#' + key);\n",
              "        const charts = await google.colab.kernel.invokeFunction(\n",
              "            'suggestCharts', [key], {});\n",
              "      }\n",
              "    </script>\n",
              "\n",
              "      <script>\n",
              "\n",
              "function displayQuickchartButton(domScope) {\n",
              "  let quickchartButtonEl =\n",
              "    domScope.querySelector('#df-2743f4bf-d4c2-4d25-976e-b59777c2c9a8 button.colab-df-quickchart');\n",
              "  quickchartButtonEl.style.display =\n",
              "    google.colab.kernel.accessAllowed ? 'block' : 'none';\n",
              "}\n",
              "\n",
              "        displayQuickchartButton(document);\n",
              "      </script>\n",
              "      <style>\n",
              "    .colab-df-container {\n",
              "      display:flex;\n",
              "      flex-wrap:wrap;\n",
              "      gap: 12px;\n",
              "    }\n",
              "\n",
              "    .colab-df-convert {\n",
              "      background-color: #E8F0FE;\n",
              "      border: none;\n",
              "      border-radius: 50%;\n",
              "      cursor: pointer;\n",
              "      display: none;\n",
              "      fill: #1967D2;\n",
              "      height: 32px;\n",
              "      padding: 0 0 0 0;\n",
              "      width: 32px;\n",
              "    }\n",
              "\n",
              "    .colab-df-convert:hover {\n",
              "      background-color: #E2EBFA;\n",
              "      box-shadow: 0px 1px 2px rgba(60, 64, 67, 0.3), 0px 1px 3px 1px rgba(60, 64, 67, 0.15);\n",
              "      fill: #174EA6;\n",
              "    }\n",
              "\n",
              "    [theme=dark] .colab-df-convert {\n",
              "      background-color: #3B4455;\n",
              "      fill: #D2E3FC;\n",
              "    }\n",
              "\n",
              "    [theme=dark] .colab-df-convert:hover {\n",
              "      background-color: #434B5C;\n",
              "      box-shadow: 0px 1px 3px 1px rgba(0, 0, 0, 0.15);\n",
              "      filter: drop-shadow(0px 1px 2px rgba(0, 0, 0, 0.3));\n",
              "      fill: #FFFFFF;\n",
              "    }\n",
              "  </style>\n",
              "\n",
              "      <script>\n",
              "        const buttonEl =\n",
              "          document.querySelector('#df-38f12b7f-ffe2-40ee-80bb-d4bb1cc4bcd1 button.colab-df-convert');\n",
              "        buttonEl.style.display =\n",
              "          google.colab.kernel.accessAllowed ? 'block' : 'none';\n",
              "\n",
              "        async function convertToInteractive(key) {\n",
              "          const element = document.querySelector('#df-38f12b7f-ffe2-40ee-80bb-d4bb1cc4bcd1');\n",
              "          const dataTable =\n",
              "            await google.colab.kernel.invokeFunction('convertToInteractive',\n",
              "                                                     [key], {});\n",
              "          if (!dataTable) return;\n",
              "\n",
              "          const docLinkHtml = 'Like what you see? Visit the ' +\n",
              "            '<a target=\"_blank\" href=https://colab.research.google.com/notebooks/data_table.ipynb>data table notebook</a>'\n",
              "            + ' to learn more about interactive tables.';\n",
              "          element.innerHTML = '';\n",
              "          dataTable['output_type'] = 'display_data';\n",
              "          await google.colab.output.renderOutput(dataTable, element);\n",
              "          const docLink = document.createElement('div');\n",
              "          docLink.innerHTML = docLinkHtml;\n",
              "          element.appendChild(docLink);\n",
              "        }\n",
              "      </script>\n",
              "    </div>\n",
              "  </div>\n"
            ]
          },
          "metadata": {}
        }
      ],
      "source": [
        "display(gold_recovery_train.head(2))\n",
        "display(gold_recovery_test_new.head(2))\n",
        "display(gold_recovery_full_new.head(2))"
      ]
    },
    {
      "cell_type": "code",
      "execution_count": 4,
      "metadata": {
        "id": "bq-mZQaL9DVg",
        "outputId": "32244b5a-32f6-40e7-90e2-c89183a25c7e",
        "colab": {
          "base_uri": "https://localhost:8080/"
        }
      },
      "outputs": [
        {
          "output_type": "stream",
          "name": "stdout",
          "text": [
            "<class 'pandas.core.frame.DataFrame'>\n",
            "RangeIndex: 14579 entries, 0 to 14578\n",
            "Data columns (total 87 columns):\n",
            " #   Column                                              Non-Null Count  Dtype  \n",
            "---  ------                                              --------------  -----  \n",
            " 0   date                                                14579 non-null  object \n",
            " 1   rougher.input.feed_au                               14579 non-null  float64\n",
            " 2   rougher.input.feed_ag                               14579 non-null  float64\n",
            " 3   rougher.input.feed_pb                               14507 non-null  float64\n",
            " 4   rougher.input.feed_sol                              14502 non-null  float64\n",
            " 5   rougher.input.feed_rate                             14572 non-null  float64\n",
            " 6   rougher.input.feed_size                             14478 non-null  float64\n",
            " 7   rougher.input.floatbank10_sulfate                   14548 non-null  float64\n",
            " 8   rougher.input.floatbank10_xanthate                  14572 non-null  float64\n",
            " 9   rougher.state.floatbank10_a_air                     14579 non-null  float64\n",
            " 10  rougher.state.floatbank10_a_level                   14579 non-null  float64\n",
            " 11  rougher.state.floatbank10_b_air                     14579 non-null  float64\n",
            " 12  rougher.state.floatbank10_b_level                   14579 non-null  float64\n",
            " 13  rougher.state.floatbank10_c_air                     14579 non-null  float64\n",
            " 14  rougher.state.floatbank10_c_level                   14579 non-null  float64\n",
            " 15  rougher.state.floatbank10_d_air                     14579 non-null  float64\n",
            " 16  rougher.state.floatbank10_d_level                   14579 non-null  float64\n",
            " 17  rougher.state.floatbank10_e_air                     14150 non-null  float64\n",
            " 18  rougher.state.floatbank10_e_level                   14579 non-null  float64\n",
            " 19  rougher.state.floatbank10_f_air                     14579 non-null  float64\n",
            " 20  rougher.state.floatbank10_f_level                   14579 non-null  float64\n",
            " 21  rougher.input.floatbank11_sulfate                   14543 non-null  float64\n",
            " 22  rougher.input.floatbank11_xanthate                  14172 non-null  float64\n",
            " 23  rougher.calculation.sulfate_to_au_concentrate       14578 non-null  float64\n",
            " 24  rougher.calculation.floatbank10_sulfate_to_au_feed  14578 non-null  float64\n",
            " 25  rougher.calculation.floatbank11_sulfate_to_au_feed  14578 non-null  float64\n",
            " 26  rougher.calculation.au_pb_ratio                     14579 non-null  float64\n",
            " 27  rougher.output.concentrate_au                       14579 non-null  float64\n",
            " 28  rougher.output.concentrate_ag                       14579 non-null  float64\n",
            " 29  rougher.output.concentrate_pb                       14579 non-null  float64\n",
            " 30  rougher.output.concentrate_sol                      14561 non-null  float64\n",
            " 31  rougher.output.recovery                             14579 non-null  float64\n",
            " 32  rougher.output.tail_au                              14579 non-null  float64\n",
            " 33  rougher.output.tail_ag                              14578 non-null  float64\n",
            " 34  rougher.output.tail_pb                              14579 non-null  float64\n",
            " 35  rougher.output.tail_sol                             14579 non-null  float64\n",
            " 36  primary_cleaner.input.sulfate                       14556 non-null  float64\n",
            " 37  primary_cleaner.input.depressant                    14551 non-null  float64\n",
            " 38  primary_cleaner.input.feed_size                     14579 non-null  float64\n",
            " 39  primary_cleaner.input.xanthate                      14518 non-null  float64\n",
            " 40  primary_cleaner.state.floatbank8_a_air              14576 non-null  float64\n",
            " 41  primary_cleaner.state.floatbank8_a_level            14579 non-null  float64\n",
            " 42  primary_cleaner.state.floatbank8_b_air              14576 non-null  float64\n",
            " 43  primary_cleaner.state.floatbank8_b_level            14579 non-null  float64\n",
            " 44  primary_cleaner.state.floatbank8_c_air              14579 non-null  float64\n",
            " 45  primary_cleaner.state.floatbank8_c_level            14579 non-null  float64\n",
            " 46  primary_cleaner.state.floatbank8_d_air              14578 non-null  float64\n",
            " 47  primary_cleaner.state.floatbank8_d_level            14579 non-null  float64\n",
            " 48  primary_cleaner.output.concentrate_au               14579 non-null  float64\n",
            " 49  primary_cleaner.output.concentrate_ag               14579 non-null  float64\n",
            " 50  primary_cleaner.output.concentrate_pb               14491 non-null  float64\n",
            " 51  primary_cleaner.output.concentrate_sol              14314 non-null  float64\n",
            " 52  primary_cleaner.output.tail_au                      14579 non-null  float64\n",
            " 53  primary_cleaner.output.tail_ag                      14575 non-null  float64\n",
            " 54  primary_cleaner.output.tail_pb                      14573 non-null  float64\n",
            " 55  primary_cleaner.output.tail_sol                     14534 non-null  float64\n",
            " 56  secondary_cleaner.state.floatbank2_a_air            14485 non-null  float64\n",
            " 57  secondary_cleaner.state.floatbank2_a_level          14579 non-null  float64\n",
            " 58  secondary_cleaner.state.floatbank2_b_air            14557 non-null  float64\n",
            " 59  secondary_cleaner.state.floatbank2_b_level          14579 non-null  float64\n",
            " 60  secondary_cleaner.state.floatbank3_a_air            14567 non-null  float64\n",
            " 61  secondary_cleaner.state.floatbank3_a_level          14579 non-null  float64\n",
            " 62  secondary_cleaner.state.floatbank3_b_air            14579 non-null  float64\n",
            " 63  secondary_cleaner.state.floatbank3_b_level          14579 non-null  float64\n",
            " 64  secondary_cleaner.state.floatbank4_a_air            14574 non-null  float64\n",
            " 65  secondary_cleaner.state.floatbank4_a_level          14579 non-null  float64\n",
            " 66  secondary_cleaner.state.floatbank4_b_air            14579 non-null  float64\n",
            " 67  secondary_cleaner.state.floatbank4_b_level          14579 non-null  float64\n",
            " 68  secondary_cleaner.state.floatbank5_a_air            14579 non-null  float64\n",
            " 69  secondary_cleaner.state.floatbank5_a_level          14579 non-null  float64\n",
            " 70  secondary_cleaner.state.floatbank5_b_air            14579 non-null  float64\n",
            " 71  secondary_cleaner.state.floatbank5_b_level          14579 non-null  float64\n",
            " 72  secondary_cleaner.state.floatbank6_a_air            14578 non-null  float64\n",
            " 73  secondary_cleaner.state.floatbank6_a_level          14579 non-null  float64\n",
            " 74  secondary_cleaner.output.tail_au                    14579 non-null  float64\n",
            " 75  secondary_cleaner.output.tail_ag                    14578 non-null  float64\n",
            " 76  secondary_cleaner.output.tail_pb                    14575 non-null  float64\n",
            " 77  secondary_cleaner.output.tail_sol                   13659 non-null  float64\n",
            " 78  final.output.concentrate_au                         14579 non-null  float64\n",
            " 79  final.output.concentrate_ag                         14578 non-null  float64\n",
            " 80  final.output.concentrate_pb                         14578 non-null  float64\n",
            " 81  final.output.concentrate_sol                        14387 non-null  float64\n",
            " 82  final.output.recovery                               14579 non-null  float64\n",
            " 83  final.output.tail_au                                14579 non-null  float64\n",
            " 84  final.output.tail_ag                                14578 non-null  float64\n",
            " 85  final.output.tail_pb                                14504 non-null  float64\n",
            " 86  final.output.tail_sol                               14574 non-null  float64\n",
            "dtypes: float64(86), object(1)\n",
            "memory usage: 9.7+ MB\n",
            "<class 'pandas.core.frame.DataFrame'>\n",
            "RangeIndex: 4860 entries, 0 to 4859\n",
            "Data columns (total 53 columns):\n",
            " #   Column                                      Non-Null Count  Dtype  \n",
            "---  ------                                      --------------  -----  \n",
            " 0   date                                        4860 non-null   object \n",
            " 1   rougher.input.feed_au                       4860 non-null   float64\n",
            " 2   rougher.input.feed_ag                       4860 non-null   float64\n",
            " 3   rougher.input.feed_pb                       4832 non-null   float64\n",
            " 4   rougher.input.feed_sol                      4838 non-null   float64\n",
            " 5   rougher.input.feed_rate                     4856 non-null   float64\n",
            " 6   rougher.input.feed_size                     4816 non-null   float64\n",
            " 7   rougher.input.floatbank10_sulfate           4857 non-null   float64\n",
            " 8   rougher.input.floatbank10_xanthate          4859 non-null   float64\n",
            " 9   rougher.state.floatbank10_a_air             4859 non-null   float64\n",
            " 10  rougher.state.floatbank10_a_level           4859 non-null   float64\n",
            " 11  rougher.state.floatbank10_b_air             4859 non-null   float64\n",
            " 12  rougher.state.floatbank10_b_level           4859 non-null   float64\n",
            " 13  rougher.state.floatbank10_c_air             4859 non-null   float64\n",
            " 14  rougher.state.floatbank10_c_level           4859 non-null   float64\n",
            " 15  rougher.state.floatbank10_d_air             4860 non-null   float64\n",
            " 16  rougher.state.floatbank10_d_level           4860 non-null   float64\n",
            " 17  rougher.state.floatbank10_e_air             4853 non-null   float64\n",
            " 18  rougher.state.floatbank10_e_level           4860 non-null   float64\n",
            " 19  rougher.state.floatbank10_f_air             4860 non-null   float64\n",
            " 20  rougher.state.floatbank10_f_level           4860 non-null   float64\n",
            " 21  rougher.input.floatbank11_sulfate           4852 non-null   float64\n",
            " 22  rougher.input.floatbank11_xanthate          4814 non-null   float64\n",
            " 23  primary_cleaner.input.sulfate               4859 non-null   float64\n",
            " 24  primary_cleaner.input.depressant            4851 non-null   float64\n",
            " 25  primary_cleaner.input.feed_size             4860 non-null   float64\n",
            " 26  primary_cleaner.input.xanthate              4817 non-null   float64\n",
            " 27  primary_cleaner.state.floatbank8_a_air      4859 non-null   float64\n",
            " 28  primary_cleaner.state.floatbank8_a_level    4859 non-null   float64\n",
            " 29  primary_cleaner.state.floatbank8_b_air      4859 non-null   float64\n",
            " 30  primary_cleaner.state.floatbank8_b_level    4859 non-null   float64\n",
            " 31  primary_cleaner.state.floatbank8_c_air      4858 non-null   float64\n",
            " 32  primary_cleaner.state.floatbank8_c_level    4859 non-null   float64\n",
            " 33  primary_cleaner.state.floatbank8_d_air      4858 non-null   float64\n",
            " 34  primary_cleaner.state.floatbank8_d_level    4859 non-null   float64\n",
            " 35  secondary_cleaner.state.floatbank2_a_air    4734 non-null   float64\n",
            " 36  secondary_cleaner.state.floatbank2_a_level  4859 non-null   float64\n",
            " 37  secondary_cleaner.state.floatbank2_b_air    4859 non-null   float64\n",
            " 38  secondary_cleaner.state.floatbank2_b_level  4859 non-null   float64\n",
            " 39  secondary_cleaner.state.floatbank3_a_air    4859 non-null   float64\n",
            " 40  secondary_cleaner.state.floatbank3_a_level  4859 non-null   float64\n",
            " 41  secondary_cleaner.state.floatbank3_b_air    4859 non-null   float64\n",
            " 42  secondary_cleaner.state.floatbank3_b_level  4859 non-null   float64\n",
            " 43  secondary_cleaner.state.floatbank4_a_air    4859 non-null   float64\n",
            " 44  secondary_cleaner.state.floatbank4_a_level  4859 non-null   float64\n",
            " 45  secondary_cleaner.state.floatbank4_b_air    4859 non-null   float64\n",
            " 46  secondary_cleaner.state.floatbank4_b_level  4859 non-null   float64\n",
            " 47  secondary_cleaner.state.floatbank5_a_air    4859 non-null   float64\n",
            " 48  secondary_cleaner.state.floatbank5_a_level  4859 non-null   float64\n",
            " 49  secondary_cleaner.state.floatbank5_b_air    4859 non-null   float64\n",
            " 50  secondary_cleaner.state.floatbank5_b_level  4859 non-null   float64\n",
            " 51  secondary_cleaner.state.floatbank6_a_air    4859 non-null   float64\n",
            " 52  secondary_cleaner.state.floatbank6_a_level  4859 non-null   float64\n",
            "dtypes: float64(52), object(1)\n",
            "memory usage: 2.0+ MB\n",
            "<class 'pandas.core.frame.DataFrame'>\n",
            "RangeIndex: 19439 entries, 0 to 19438\n",
            "Data columns (total 87 columns):\n",
            " #   Column                                              Non-Null Count  Dtype  \n",
            "---  ------                                              --------------  -----  \n",
            " 0   date                                                19439 non-null  object \n",
            " 1   rougher.input.feed_au                               19439 non-null  float64\n",
            " 2   rougher.input.feed_ag                               19439 non-null  float64\n",
            " 3   rougher.input.feed_pb                               19339 non-null  float64\n",
            " 4   rougher.input.feed_sol                              19340 non-null  float64\n",
            " 5   rougher.input.feed_rate                             19428 non-null  float64\n",
            " 6   rougher.input.feed_size                             19294 non-null  float64\n",
            " 7   rougher.input.floatbank10_sulfate                   19405 non-null  float64\n",
            " 8   rougher.input.floatbank10_xanthate                  19431 non-null  float64\n",
            " 9   rougher.state.floatbank10_a_air                     19438 non-null  float64\n",
            " 10  rougher.state.floatbank10_a_level                   19438 non-null  float64\n",
            " 11  rougher.state.floatbank10_b_air                     19438 non-null  float64\n",
            " 12  rougher.state.floatbank10_b_level                   19438 non-null  float64\n",
            " 13  rougher.state.floatbank10_c_air                     19438 non-null  float64\n",
            " 14  rougher.state.floatbank10_c_level                   19438 non-null  float64\n",
            " 15  rougher.state.floatbank10_d_air                     19439 non-null  float64\n",
            " 16  rougher.state.floatbank10_d_level                   19439 non-null  float64\n",
            " 17  rougher.state.floatbank10_e_air                     19003 non-null  float64\n",
            " 18  rougher.state.floatbank10_e_level                   19439 non-null  float64\n",
            " 19  rougher.state.floatbank10_f_air                     19439 non-null  float64\n",
            " 20  rougher.state.floatbank10_f_level                   19439 non-null  float64\n",
            " 21  rougher.input.floatbank11_sulfate                   19395 non-null  float64\n",
            " 22  rougher.input.floatbank11_xanthate                  18986 non-null  float64\n",
            " 23  rougher.calculation.sulfate_to_au_concentrate       19437 non-null  float64\n",
            " 24  rougher.calculation.floatbank10_sulfate_to_au_feed  19437 non-null  float64\n",
            " 25  rougher.calculation.floatbank11_sulfate_to_au_feed  19437 non-null  float64\n",
            " 26  rougher.calculation.au_pb_ratio                     19439 non-null  float64\n",
            " 27  rougher.output.concentrate_au                       19439 non-null  float64\n",
            " 28  rougher.output.concentrate_ag                       19439 non-null  float64\n",
            " 29  rougher.output.concentrate_pb                       19439 non-null  float64\n",
            " 30  rougher.output.concentrate_sol                      19416 non-null  float64\n",
            " 31  rougher.output.recovery                             19439 non-null  float64\n",
            " 32  rougher.output.tail_au                              19439 non-null  float64\n",
            " 33  rougher.output.tail_ag                              19438 non-null  float64\n",
            " 34  rougher.output.tail_pb                              19439 non-null  float64\n",
            " 35  rougher.output.tail_sol                             19439 non-null  float64\n",
            " 36  primary_cleaner.input.sulfate                       19415 non-null  float64\n",
            " 37  primary_cleaner.input.depressant                    19402 non-null  float64\n",
            " 38  primary_cleaner.input.feed_size                     19439 non-null  float64\n",
            " 39  primary_cleaner.input.xanthate                      19335 non-null  float64\n",
            " 40  primary_cleaner.state.floatbank8_a_air              19435 non-null  float64\n",
            " 41  primary_cleaner.state.floatbank8_a_level            19438 non-null  float64\n",
            " 42  primary_cleaner.state.floatbank8_b_air              19435 non-null  float64\n",
            " 43  primary_cleaner.state.floatbank8_b_level            19438 non-null  float64\n",
            " 44  primary_cleaner.state.floatbank8_c_air              19437 non-null  float64\n",
            " 45  primary_cleaner.state.floatbank8_c_level            19438 non-null  float64\n",
            " 46  primary_cleaner.state.floatbank8_d_air              19436 non-null  float64\n",
            " 47  primary_cleaner.state.floatbank8_d_level            19438 non-null  float64\n",
            " 48  primary_cleaner.output.concentrate_au               19439 non-null  float64\n",
            " 49  primary_cleaner.output.concentrate_ag               19439 non-null  float64\n",
            " 50  primary_cleaner.output.concentrate_pb               19323 non-null  float64\n",
            " 51  primary_cleaner.output.concentrate_sol              19069 non-null  float64\n",
            " 52  primary_cleaner.output.tail_au                      19439 non-null  float64\n",
            " 53  primary_cleaner.output.tail_ag                      19435 non-null  float64\n",
            " 54  primary_cleaner.output.tail_pb                      19418 non-null  float64\n",
            " 55  primary_cleaner.output.tail_sol                     19377 non-null  float64\n",
            " 56  secondary_cleaner.state.floatbank2_a_air            19219 non-null  float64\n",
            " 57  secondary_cleaner.state.floatbank2_a_level          19438 non-null  float64\n",
            " 58  secondary_cleaner.state.floatbank2_b_air            19416 non-null  float64\n",
            " 59  secondary_cleaner.state.floatbank2_b_level          19438 non-null  float64\n",
            " 60  secondary_cleaner.state.floatbank3_a_air            19426 non-null  float64\n",
            " 61  secondary_cleaner.state.floatbank3_a_level          19438 non-null  float64\n",
            " 62  secondary_cleaner.state.floatbank3_b_air            19438 non-null  float64\n",
            " 63  secondary_cleaner.state.floatbank3_b_level          19438 non-null  float64\n",
            " 64  secondary_cleaner.state.floatbank4_a_air            19433 non-null  float64\n",
            " 65  secondary_cleaner.state.floatbank4_a_level          19438 non-null  float64\n",
            " 66  secondary_cleaner.state.floatbank4_b_air            19438 non-null  float64\n",
            " 67  secondary_cleaner.state.floatbank4_b_level          19438 non-null  float64\n",
            " 68  secondary_cleaner.state.floatbank5_a_air            19438 non-null  float64\n",
            " 69  secondary_cleaner.state.floatbank5_a_level          19438 non-null  float64\n",
            " 70  secondary_cleaner.state.floatbank5_b_air            19438 non-null  float64\n",
            " 71  secondary_cleaner.state.floatbank5_b_level          19438 non-null  float64\n",
            " 72  secondary_cleaner.state.floatbank6_a_air            19437 non-null  float64\n",
            " 73  secondary_cleaner.state.floatbank6_a_level          19438 non-null  float64\n",
            " 74  secondary_cleaner.output.tail_au                    19439 non-null  float64\n",
            " 75  secondary_cleaner.output.tail_ag                    19437 non-null  float64\n",
            " 76  secondary_cleaner.output.tail_pb                    19427 non-null  float64\n",
            " 77  secondary_cleaner.output.tail_sol                   17691 non-null  float64\n",
            " 78  final.output.concentrate_au                         19439 non-null  float64\n",
            " 79  final.output.concentrate_ag                         19438 non-null  float64\n",
            " 80  final.output.concentrate_pb                         19438 non-null  float64\n",
            " 81  final.output.concentrate_sol                        19228 non-null  float64\n",
            " 82  final.output.recovery                               19439 non-null  float64\n",
            " 83  final.output.tail_au                                19439 non-null  float64\n",
            " 84  final.output.tail_ag                                19438 non-null  float64\n",
            " 85  final.output.tail_pb                                19338 non-null  float64\n",
            " 86  final.output.tail_sol                               19433 non-null  float64\n",
            "dtypes: float64(86), object(1)\n",
            "memory usage: 12.9+ MB\n"
          ]
        }
      ],
      "source": [
        "gold_recovery_train.info()\n",
        "gold_recovery_test_new.info() #тут 53 колонки, нет целевых\n",
        "gold_recovery_full_new.info()"
      ]
    },
    {
      "cell_type": "code",
      "execution_count": 5,
      "metadata": {
        "id": "g8UMN93Y9DVh",
        "outputId": "35c444ac-e681-4229-b42c-4aefc2af2d18",
        "colab": {
          "base_uri": "https://localhost:8080/",
          "height": 69
        }
      },
      "outputs": [
        {
          "output_type": "display_data",
          "data": {
            "text/plain": [
              "0"
            ]
          },
          "metadata": {}
        },
        {
          "output_type": "display_data",
          "data": {
            "text/plain": [
              "0"
            ]
          },
          "metadata": {}
        },
        {
          "output_type": "display_data",
          "data": {
            "text/plain": [
              "0"
            ]
          },
          "metadata": {}
        }
      ],
      "source": [
        "display(gold_recovery_train.duplicated().sum())\n",
        "display(gold_recovery_test_new.duplicated().sum())\n",
        "display(gold_recovery_full_new.duplicated().sum())"
      ]
    },
    {
      "cell_type": "markdown",
      "source": [
        "Ззаполняем пропуски в выборках. Все наблюдения представляют собой последовательные измерения, заполнить пропуски можно методами `pandas`: `ffill`/ `bfill`/ `interpolate`"
      ],
      "metadata": {
        "id": "yiS4vSJB_u1b"
      }
    },
    {
      "cell_type": "code",
      "execution_count": 6,
      "metadata": {
        "id": "x9sRrLhw9DVi"
      },
      "outputs": [],
      "source": [
        "for data in (gold_recovery_train, gold_recovery_test_new, gold_recovery_full_new):\n",
        "    data.fillna(method='ffill', inplace=True)"
      ]
    },
    {
      "cell_type": "markdown",
      "source": [
        "Посмотрим на корректность рассчёта:"
      ],
      "metadata": {
        "id": "zd2vBVVhAQHY"
      }
    },
    {
      "cell_type": "code",
      "execution_count": 7,
      "metadata": {
        "id": "PtvN4WMj9DVk",
        "outputId": "2461f826-12e7-4d2b-976e-617413803e38",
        "colab": {
          "base_uri": "https://localhost:8080/"
        }
      },
      "outputs": [
        {
          "output_type": "stream",
          "name": "stdout",
          "text": [
            "9.83758577644259e-15 - значение маленькое и близко к идеальному (к нулю), значит все посчитано верно\n"
          ]
        }
      ],
      "source": [
        "def recovery(sign):\n",
        "    (input_au,\n",
        "     output_au,\n",
        "     output_tail) = (sign[\"rougher.input.feed_au\"],\n",
        "                     sign[\"rougher.output.concentrate_au\"],\n",
        "                     sign[\"rougher.output.tail_au\"])\n",
        "    recovery_metric = (((output_au) * ((input_au) - (output_tail)))/\n",
        "                       (((input_au) * ((output_au) - (output_tail))))) * 100\n",
        "    return recovery_metric\n",
        "\n",
        "test = gold_recovery_train.dropna(subset = [\"rougher.input.feed_au\",\n",
        "                                    \"rougher.output.concentrate_au\",\n",
        "                                    \"rougher.output.tail_au\",\n",
        "                                    \"rougher.output.recovery\"],axis = 0).apply(recovery,axis = 1)\n",
        "\n",
        "print(MAE(gold_recovery_train.dropna(subset = [\"rougher.input.feed_au\",\n",
        "                                    \"rougher.output.concentrate_au\",\n",
        "                                    \"rougher.output.tail_au\",\n",
        "                                    \"rougher.output.recovery\"])[\"rougher.output.recovery\"], test), '- значение маленькое и близко к идеальному (к нулю), значит все посчитано верно')"
      ]
    },
    {
      "cell_type": "markdown",
      "metadata": {
        "id": "do-rCjwc9DVm"
      },
      "source": [
        "В тестовой выборке отсутствуют в основном признаки продуктов:\n",
        "- первое и второе очищение,\n",
        "- финальное очищение,\n",
        "- их результаты.\n",
        "\n",
        "\n"
      ]
    },
    {
      "cell_type": "markdown",
      "metadata": {
        "id": "WcDW2OpT9DVn"
      },
      "source": [
        "## Анализ данных"
      ]
    },
    {
      "cell_type": "markdown",
      "metadata": {
        "id": "nN7HxXdD9DVn"
      },
      "source": [
        "Смотрим что у нас есть по этапам очистки руды:\n",
        "\n",
        "1. Найдем концентрацию на тренировочном датасете по разным этапам каждого элемента отдельно.\n",
        "2. Найдем суммарную концентрацию веществ."
      ]
    },
    {
      "cell_type": "code",
      "execution_count": 8,
      "metadata": {
        "id": "4jM-njcI9DVn",
        "outputId": "2f9cf14a-1ab9-47cd-bb20-8fc7af35131b",
        "colab": {
          "base_uri": "https://localhost:8080/",
          "height": 495
        }
      },
      "outputs": [
        {
          "output_type": "display_data",
          "data": {
            "text/plain": [
              "<Figure size 1000x500 with 1 Axes>"
            ],
            "image/png": "[encoded data removed]"
          },
          "metadata": {}
        }
      ],
      "source": [
        "plt.figure(figsize=[10, 5])\n",
        "plt.title('Распределение ЗОЛОТа на этапах очистки руды', fontsize=20)\n",
        "sns.histplot(gold_recovery_train[f'rougher.input.feed_au'], color='green', label='Сырье')\n",
        "sns.histplot(gold_recovery_train[f'rougher.output.concentrate_au'], color='blue', label='Концентрация после флотации')\n",
        "sns.histplot(gold_recovery_train[f'primary_cleaner.output.concentrate_au'], color='violet', label='Концентрация после первичной флотации')\n",
        "sns.histplot(gold_recovery_train[f'final.output.concentrate_au'], color='orange', label='Финальная концетрация')\n",
        "plt.xlabel('Концентрация')\n",
        "plt.ylabel('Количество наблюдений')\n",
        "plt.legend()\n",
        "plt.show()"
      ]
    },
    {
      "cell_type": "code",
      "execution_count": 9,
      "metadata": {
        "id": "-D_4rpCE9DVo",
        "outputId": "3506be77-cc58-474d-c65e-e81b8a097598",
        "colab": {
          "base_uri": "https://localhost:8080/",
          "height": 495
        }
      },
      "outputs": [
        {
          "output_type": "display_data",
          "data": {
            "text/plain": [
              "<Figure size 1000x500 with 1 Axes>"
            ],
            "image/png": "[encoded data removed]"
          },
          "metadata": {}
        }
      ],
      "source": [
        "plt.figure(figsize=[10, 5])\n",
        "plt.title('Распределение СЕРЕБРа на этапах очистки руды', fontsize=20)\n",
        "sns.histplot(gold_recovery_train[f'rougher.input.feed_ag'], color='green', label='Сырье')\n",
        "sns.histplot(gold_recovery_train[f'rougher.output.concentrate_ag'], color='blue', label='Концентрация после флотации')\n",
        "sns.histplot(gold_recovery_train[f'primary_cleaner.output.concentrate_ag'], color='violet', label='Концентрация после первичной флотации')\n",
        "sns.histplot(gold_recovery_train[f'final.output.concentrate_ag'], color='orange', label='Финальная концетрация')\n",
        "plt.xlabel('Концентрация')\n",
        "plt.ylabel('Количество наблюдений')\n",
        "plt.legend()\n",
        "plt.show()"
      ]
    },
    {
      "cell_type": "code",
      "execution_count": 10,
      "metadata": {
        "id": "yBsfBVPU9DVp",
        "outputId": "6cc39beb-c98d-4e8b-b343-b3964d9e9e7f",
        "colab": {
          "base_uri": "https://localhost:8080/",
          "height": 495
        }
      },
      "outputs": [
        {
          "output_type": "display_data",
          "data": {
            "text/plain": [
              "<Figure size 1000x500 with 1 Axes>"
            ],
            "image/png": "[encoded data removed]"
          },
          "metadata": {}
        }
      ],
      "source": [
        "plt.figure(figsize=[10, 5])\n",
        "plt.title('Распределение СВИНЦа на этапах очистки руды', fontsize=20)\n",
        "sns.histplot(gold_recovery_train[f'rougher.input.feed_pb'], color='green', label='Сырье')\n",
        "sns.histplot(gold_recovery_train[f'rougher.output.concentrate_pb'], color='blue', label='Концентрация после флотации')\n",
        "sns.histplot(gold_recovery_train[f'primary_cleaner.output.concentrate_pb'], color='violet', label='Концентрация после первичной флотации')\n",
        "sns.histplot(gold_recovery_train[f'final.output.concentrate_pb'], color='orange', label='Финальная концетрация')\n",
        "plt.xlabel('Концентрация')\n",
        "plt.ylabel('Количество наблюдений')\n",
        "plt.legend()\n",
        "plt.show()"
      ]
    },
    {
      "cell_type": "markdown",
      "metadata": {
        "id": "sabrc3KS9DVq"
      },
      "source": [
        "С каждой чисткой:\n",
        "- концентрация золота увеличивается,\n",
        "- концентрация серебра уменьшилась в финале,\n",
        "- свинец увеличился в сравнении до очистки, но в финальной стадии мало отличился концентрацией после первой очистки."
      ]
    },
    {
      "cell_type": "markdown",
      "metadata": {
        "id": "I7eVyYEs9DVq"
      },
      "source": [
        "Найдём суммарное значение концентраций в тренировочном датасете и посторим график:"
      ]
    },
    {
      "cell_type": "code",
      "execution_count": 11,
      "metadata": {
        "id": "NGoR1FiS9DVr",
        "outputId": "3d1e53f5-c45c-4029-b673-0b64fc4b5464",
        "colab": {
          "base_uri": "https://localhost:8080/",
          "height": 804
        }
      },
      "outputs": [
        {
          "output_type": "display_data",
          "data": {
            "text/plain": [
              "                  date  rougher.input.feed_au  rougher.input.feed_ag  \\\n",
              "0  2016-01-15 00:00:00               6.486150               6.100378   \n",
              "1  2016-01-15 01:00:00               6.478583               6.161113   \n",
              "2  2016-01-15 02:00:00               6.362222               6.116455   \n",
              "3  2016-01-15 03:00:00               6.118189               6.043309   \n",
              "4  2016-01-15 04:00:00               5.663707               6.060915   \n",
              "5  2016-01-15 05:00:00               5.687168               5.801920   \n",
              "6  2016-01-15 06:00:00               6.038436               6.056253   \n",
              "7  2016-01-15 07:00:00               6.433854               5.955053   \n",
              "8  2016-01-15 08:00:00               6.526612               5.878084   \n",
              "9  2016-01-15 09:00:00               6.747693               5.974832   \n",
              "\n",
              "   rougher.input.feed_pb  rougher.input.feed_sol  rougher.input.feed_rate  \\\n",
              "0               2.284912               36.808594               523.546326   \n",
              "1               2.266033               35.753385               525.290581   \n",
              "2               2.159622               35.971630               530.026610   \n",
              "3               2.037807               36.862241               542.590390   \n",
              "4               1.786875               34.347666               540.531893   \n",
              "5               1.879351               35.470082               546.173470   \n",
              "6               2.105501               34.920570               523.376439   \n",
              "7               2.310432               36.091386               549.842749   \n",
              "8               2.391713               35.753879               560.115242   \n",
              "9               2.539114               38.553938               566.616045   \n",
              "\n",
              "   rougher.input.feed_size  rougher.input.floatbank10_sulfate  \\\n",
              "0                55.486599                          11.986616   \n",
              "1                57.278666                          11.971193   \n",
              "2                57.510649                          11.920603   \n",
              "3                57.792734                          11.630094   \n",
              "4                56.047189                          10.957755   \n",
              "5                57.469578                          11.072517   \n",
              "6                56.674647                          11.535899   \n",
              "7                56.730325                          12.557906   \n",
              "8                56.649893                          13.166128   \n",
              "9                60.308763                          13.996130   \n",
              "\n",
              "   rougher.input.floatbank10_xanthate  rougher.state.floatbank10_a_air  ...  \\\n",
              "0                            6.007990                       999.706909  ...   \n",
              "1                            6.005766                      1000.286398  ...   \n",
              "2                            6.197377                       999.719565  ...   \n",
              "3                            6.203177                       999.814770  ...   \n",
              "4                            6.198826                       999.678690  ...   \n",
              "5                            6.200383                       999.934134  ...   \n",
              "6                            6.204974                       999.832373  ...   \n",
              "7                            6.799275                      1000.166602  ...   \n",
              "8                            6.798659                      1000.026864  ...   \n",
              "9                            6.800263                      1000.332327  ...   \n",
              "\n",
              "   final.output.concentrate_sol  final.output.recovery  final.output.tail_au  \\\n",
              "0                      5.507324              70.541216              2.143149   \n",
              "1                      5.257781              69.266198              2.224930   \n",
              "2                      5.383759              68.116445              2.257889   \n",
              "3                      4.858634              68.347543              2.146849   \n",
              "4                      4.939416              66.927016              2.055292   \n",
              "5                      5.480257              69.465816              1.918586   \n",
              "6                      4.569100              69.300835              2.058913   \n",
              "7                      4.389813              70.230976              2.143437   \n",
              "8                      4.876389              69.688595              2.209881   \n",
              "9                      5.214161              70.973641              2.200997   \n",
              "\n",
              "   final.output.tail_ag  final.output.tail_pb  final.output.tail_sol  \\\n",
              "0             10.411962              0.895447              16.904297   \n",
              "1             10.462676              0.927452              16.634514   \n",
              "2             10.507046              0.953716              16.208849   \n",
              "3             10.422762              0.883763              16.532835   \n",
              "4             10.360302              0.792826              16.525686   \n",
              "5             10.182708              0.664118              16.999638   \n",
              "6             10.304598              0.807342              16.723575   \n",
              "7             10.443288              0.949346              16.689959   \n",
              "8             10.420140              1.065453              17.201948   \n",
              "9             10.473539              1.171183              17.717049   \n",
              "\n",
              "   sum_rougher_input_feed  sum_primary_output_concentrate  \\\n",
              "0               51.680034                       72.640924   \n",
              "1               50.659114                       72.543485   \n",
              "2               50.609929                       72.095042   \n",
              "3               51.061546                       59.957723   \n",
              "4               47.859163                       71.321010   \n",
              "5               48.838521                       70.607932   \n",
              "6               49.120760                       71.165854   \n",
              "7               50.790724                       71.533310   \n",
              "8               50.550288                       72.072013   \n",
              "9               53.815577                       72.254860   \n",
              "\n",
              "   sum_rougher_output_concentrate  sum_final_output  \n",
              "0                       66.424950         63.644396  \n",
              "1                       67.012710         63.957723  \n",
              "2                       66.103793         64.311180  \n",
              "3                       65.752751         63.573449  \n",
              "4                       65.908382         64.004667  \n",
              "5                       64.955919         63.646320  \n",
              "6                       65.372419         63.156407  \n",
              "7                       65.180132         62.908843  \n",
              "8                       65.625127         64.185763  \n",
              "9                       65.992853         64.650224  \n",
              "\n",
              "[10 rows x 91 columns]"
            ],
            "text/html": [
              "\n",
              "\n",
              "  <div id=\"df-0455ac5d-08ad-4561-8851-253dc1c10e65\">\n",
              "    <div class=\"colab-df-container\">\n",
              "      <div>\n",
              "<style scoped>\n",
              "    .dataframe tbody tr th:only-of-type {\n",
              "        vertical-align: middle;\n",
              "    }\n",
              "\n",
              "    .dataframe tbody tr th {\n",
              "        vertical-align: top;\n",
              "    }\n",
              "\n",
              "    .dataframe thead th {\n",
              "        text-align: right;\n",
              "    }\n",
              "</style>\n",
              "<table border=\"1\" class=\"dataframe\">\n",
              "  <thead>\n",
              "    <tr style=\"text-align: right;\">\n",
              "      <th></th>\n",
              "      <th>date</th>\n",
              "      <th>rougher.input.feed_au</th>\n",
              "      <th>rougher.input.feed_ag</th>\n",
              "      <th>rougher.input.feed_pb</th>\n",
              "      <th>rougher.input.feed_sol</th>\n",
              "      <th>rougher.input.feed_rate</th>\n",
              "      <th>rougher.input.feed_size</th>\n",
              "      <th>rougher.input.floatbank10_sulfate</th>\n",
              "      <th>rougher.input.floatbank10_xanthate</th>\n",
              "      <th>rougher.state.floatbank10_a_air</th>\n",
              "      <th>...</th>\n",
              "      <th>final.output.concentrate_sol</th>\n",
              "      <th>final.output.recovery</th>\n",
              "      <th>final.output.tail_au</th>\n",
              "      <th>final.output.tail_ag</th>\n",
              "      <th>final.output.tail_pb</th>\n",
              "      <th>final.output.tail_sol</th>\n",
              "      <th>sum_rougher_input_feed</th>\n",
              "      <th>sum_primary_output_concentrate</th>\n",
              "      <th>sum_rougher_output_concentrate</th>\n",
              "      <th>sum_final_output</th>\n",
              "    </tr>\n",
              "  </thead>\n",
              "  <tbody>\n",
              "    <tr>\n",
              "      <th>0</th>\n",
              "      <td>2016-01-15 00:00:00</td>\n",
              "      <td>6.486150</td>\n",
              "      <td>6.100378</td>\n",
              "      <td>2.284912</td>\n",
              "      <td>36.808594</td>\n",
              "      <td>523.546326</td>\n",
              "      <td>55.486599</td>\n",
              "      <td>11.986616</td>\n",
              "      <td>6.007990</td>\n",
              "      <td>999.706909</td>\n",
              "      <td>...</td>\n",
              "      <td>5.507324</td>\n",
              "      <td>70.541216</td>\n",
              "      <td>2.143149</td>\n",
              "      <td>10.411962</td>\n",
              "      <td>0.895447</td>\n",
              "      <td>16.904297</td>\n",
              "      <td>51.680034</td>\n",
              "      <td>72.640924</td>\n",
              "      <td>66.424950</td>\n",
              "      <td>63.644396</td>\n",
              "    </tr>\n",
              "    <tr>\n",
              "      <th>1</th>\n",
              "      <td>2016-01-15 01:00:00</td>\n",
              "      <td>6.478583</td>\n",
              "      <td>6.161113</td>\n",
              "      <td>2.266033</td>\n",
              "      <td>35.753385</td>\n",
              "      <td>525.290581</td>\n",
              "      <td>57.278666</td>\n",
              "      <td>11.971193</td>\n",
              "      <td>6.005766</td>\n",
              "      <td>1000.286398</td>\n",
              "      <td>...</td>\n",
              "      <td>5.257781</td>\n",
              "      <td>69.266198</td>\n",
              "      <td>2.224930</td>\n",
              "      <td>10.462676</td>\n",
              "      <td>0.927452</td>\n",
              "      <td>16.634514</td>\n",
              "      <td>50.659114</td>\n",
              "      <td>72.543485</td>\n",
              "      <td>67.012710</td>\n",
              "      <td>63.957723</td>\n",
              "    </tr>\n",
              "    <tr>\n",
              "      <th>2</th>\n",
              "      <td>2016-01-15 02:00:00</td>\n",
              "      <td>6.362222</td>\n",
              "      <td>6.116455</td>\n",
              "      <td>2.159622</td>\n",
              "      <td>35.971630</td>\n",
              "      <td>530.026610</td>\n",
              "      <td>57.510649</td>\n",
              "      <td>11.920603</td>\n",
              "      <td>6.197377</td>\n",
              "      <td>999.719565</td>\n",
              "      <td>...</td>\n",
              "      <td>5.383759</td>\n",
              "      <td>68.116445</td>\n",
              "      <td>2.257889</td>\n",
              "      <td>10.507046</td>\n",
              "      <td>0.953716</td>\n",
              "      <td>16.208849</td>\n",
              "      <td>50.609929</td>\n",
              "      <td>72.095042</td>\n",
              "      <td>66.103793</td>\n",
              "      <td>64.311180</td>\n",
              "    </tr>\n",
              "    <tr>\n",
              "      <th>3</th>\n",
              "      <td>2016-01-15 03:00:00</td>\n",
              "      <td>6.118189</td>\n",
              "      <td>6.043309</td>\n",
              "      <td>2.037807</td>\n",
              "      <td>36.862241</td>\n",
              "      <td>542.590390</td>\n",
              "      <td>57.792734</td>\n",
              "      <td>11.630094</td>\n",
              "      <td>6.203177</td>\n",
              "      <td>999.814770</td>\n",
              "      <td>...</td>\n",
              "      <td>4.858634</td>\n",
              "      <td>68.347543</td>\n",
              "      <td>2.146849</td>\n",
              "      <td>10.422762</td>\n",
              "      <td>0.883763</td>\n",
              "      <td>16.532835</td>\n",
              "      <td>51.061546</td>\n",
              "      <td>59.957723</td>\n",
              "      <td>65.752751</td>\n",
              "      <td>63.573449</td>\n",
              "    </tr>\n",
              "    <tr>\n",
              "      <th>4</th>\n",
              "      <td>2016-01-15 04:00:00</td>\n",
              "      <td>5.663707</td>\n",
              "      <td>6.060915</td>\n",
              "      <td>1.786875</td>\n",
              "      <td>34.347666</td>\n",
              "      <td>540.531893</td>\n",
              "      <td>56.047189</td>\n",
              "      <td>10.957755</td>\n",
              "      <td>6.198826</td>\n",
              "      <td>999.678690</td>\n",
              "      <td>...</td>\n",
              "      <td>4.939416</td>\n",
              "      <td>66.927016</td>\n",
              "      <td>2.055292</td>\n",
              "      <td>10.360302</td>\n",
              "      <td>0.792826</td>\n",
              "      <td>16.525686</td>\n",
              "      <td>47.859163</td>\n",
              "      <td>71.321010</td>\n",
              "      <td>65.908382</td>\n",
              "      <td>64.004667</td>\n",
              "    </tr>\n",
              "    <tr>\n",
              "      <th>5</th>\n",
              "      <td>2016-01-15 05:00:00</td>\n",
              "      <td>5.687168</td>\n",
              "      <td>5.801920</td>\n",
              "      <td>1.879351</td>\n",
              "      <td>35.470082</td>\n",
              "      <td>546.173470</td>\n",
              "      <td>57.469578</td>\n",
              "      <td>11.072517</td>\n",
              "      <td>6.200383</td>\n",
              "      <td>999.934134</td>\n",
              "      <td>...</td>\n",
              "      <td>5.480257</td>\n",
              "      <td>69.465816</td>\n",
              "      <td>1.918586</td>\n",
              "      <td>10.182708</td>\n",
              "      <td>0.664118</td>\n",
              "      <td>16.999638</td>\n",
              "      <td>48.838521</td>\n",
              "      <td>70.607932</td>\n",
              "      <td>64.955919</td>\n",
              "      <td>63.646320</td>\n",
              "    </tr>\n",
              "    <tr>\n",
              "      <th>6</th>\n",
              "      <td>2016-01-15 06:00:00</td>\n",
              "      <td>6.038436</td>\n",
              "      <td>6.056253</td>\n",
              "      <td>2.105501</td>\n",
              "      <td>34.920570</td>\n",
              "      <td>523.376439</td>\n",
              "      <td>56.674647</td>\n",
              "      <td>11.535899</td>\n",
              "      <td>6.204974</td>\n",
              "      <td>999.832373</td>\n",
              "      <td>...</td>\n",
              "      <td>4.569100</td>\n",
              "      <td>69.300835</td>\n",
              "      <td>2.058913</td>\n",
              "      <td>10.304598</td>\n",
              "      <td>0.807342</td>\n",
              "      <td>16.723575</td>\n",
              "      <td>49.120760</td>\n",
              "      <td>71.165854</td>\n",
              "      <td>65.372419</td>\n",
              "      <td>63.156407</td>\n",
              "    </tr>\n",
              "    <tr>\n",
              "      <th>7</th>\n",
              "      <td>2016-01-15 07:00:00</td>\n",
              "      <td>6.433854</td>\n",
              "      <td>5.955053</td>\n",
              "      <td>2.310432</td>\n",
              "      <td>36.091386</td>\n",
              "      <td>549.842749</td>\n",
              "      <td>56.730325</td>\n",
              "      <td>12.557906</td>\n",
              "      <td>6.799275</td>\n",
              "      <td>1000.166602</td>\n",
              "      <td>...</td>\n",
              "      <td>4.389813</td>\n",
              "      <td>70.230976</td>\n",
              "      <td>2.143437</td>\n",
              "      <td>10.443288</td>\n",
              "      <td>0.949346</td>\n",
              "      <td>16.689959</td>\n",
              "      <td>50.790724</td>\n",
              "      <td>71.533310</td>\n",
              "      <td>65.180132</td>\n",
              "      <td>62.908843</td>\n",
              "    </tr>\n",
              "    <tr>\n",
              "      <th>8</th>\n",
              "      <td>2016-01-15 08:00:00</td>\n",
              "      <td>6.526612</td>\n",
              "      <td>5.878084</td>\n",
              "      <td>2.391713</td>\n",
              "      <td>35.753879</td>\n",
              "      <td>560.115242</td>\n",
              "      <td>56.649893</td>\n",
              "      <td>13.166128</td>\n",
              "      <td>6.798659</td>\n",
              "      <td>1000.026864</td>\n",
              "      <td>...</td>\n",
              "      <td>4.876389</td>\n",
              "      <td>69.688595</td>\n",
              "      <td>2.209881</td>\n",
              "      <td>10.420140</td>\n",
              "      <td>1.065453</td>\n",
              "      <td>17.201948</td>\n",
              "      <td>50.550288</td>\n",
              "      <td>72.072013</td>\n",
              "      <td>65.625127</td>\n",
              "      <td>64.185763</td>\n",
              "    </tr>\n",
              "    <tr>\n",
              "      <th>9</th>\n",
              "      <td>2016-01-15 09:00:00</td>\n",
              "      <td>6.747693</td>\n",
              "      <td>5.974832</td>\n",
              "      <td>2.539114</td>\n",
              "      <td>38.553938</td>\n",
              "      <td>566.616045</td>\n",
              "      <td>60.308763</td>\n",
              "      <td>13.996130</td>\n",
              "      <td>6.800263</td>\n",
              "      <td>1000.332327</td>\n",
              "      <td>...</td>\n",
              "      <td>5.214161</td>\n",
              "      <td>70.973641</td>\n",
              "      <td>2.200997</td>\n",
              "      <td>10.473539</td>\n",
              "      <td>1.171183</td>\n",
              "      <td>17.717049</td>\n",
              "      <td>53.815577</td>\n",
              "      <td>72.254860</td>\n",
              "      <td>65.992853</td>\n",
              "      <td>64.650224</td>\n",
              "    </tr>\n",
              "  </tbody>\n",
              "</table>\n",
              "<p>10 rows × 91 columns</p>\n",
              "</div>\n",
              "      <button class=\"colab-df-convert\" onclick=\"convertToInteractive('df-0455ac5d-08ad-4561-8851-253dc1c10e65')\"\n",
              "              title=\"Convert this dataframe to an interactive table.\"\n",
              "              style=\"display:none;\">\n",
              "\n",
              "  <svg xmlns=\"http://www.w3.org/2000/svg\" height=\"24px\"viewBox=\"0 0 24 24\"\n",
              "       width=\"24px\">\n",
              "    <path d=\"M0 0h24v24H0V0z\" fill=\"none\"/>\n",
              "    <path d=\"M18.56 5.44l.94 2.06.94-2.06 2.06-.94-2.06-.94-.94-2.06-.94 2.06-2.06.94zm-11 1L8.5 8.5l.94-2.06 2.06-.94-2.06-.94L8.5 2.5l-.94 2.06-2.06.94zm10 10l.94 2.06.94-2.06 2.06-.94-2.06-.94-.94-2.06-.94 2.06-2.06.94z\"/><path d=\"M17.41 7.96l-1.37-1.37c-.4-.4-.92-.59-1.43-.59-.52 0-1.04.2-1.43.59L10.3 9.45l-7.72 7.72c-.78.78-.78 2.05 0 2.83L4 21.41c.39.39.9.59 1.41.59.51 0 1.02-.2 1.41-.59l7.78-7.78 2.81-2.81c.8-.78.8-2.07 0-2.86zM5.41 20L4 18.59l7.72-7.72 1.47 1.35L5.41 20z\"/>\n",
              "  </svg>\n",
              "      </button>\n",
              "\n",
              "\n",
              "\n",
              "    <div id=\"df-39f65cf0-dabc-4055-b988-7451ce4d19d0\">\n",
              "      <button class=\"colab-df-quickchart\" onclick=\"quickchart('df-39f65cf0-dabc-4055-b988-7451ce4d19d0')\"\n",
              "              title=\"Suggest charts.\"\n",
              "              style=\"display:none;\">\n",
              "\n",
              "<svg xmlns=\"http://www.w3.org/2000/svg\" height=\"24px\"viewBox=\"0 0 24 24\"\n",
              "     width=\"24px\">\n",
              "    <g>\n",
              "        <path d=\"M19 3H5c-1.1 0-2 .9-2 2v14c0 1.1.9 2 2 2h14c1.1 0 2-.9 2-2V5c0-1.1-.9-2-2-2zM9 17H7v-7h2v7zm4 0h-2V7h2v10zm4 0h-2v-4h2v4z\"/>\n",
              "    </g>\n",
              "</svg>\n",
              "      </button>\n",
              "    </div>\n",
              "\n",
              "<style>\n",
              "  .colab-df-quickchart {\n",
              "    background-color: #E8F0FE;\n",
              "    border: none;\n",
              "    border-radius: 50%;\n",
              "    cursor: pointer;\n",
              "    display: none;\n",
              "    fill: #1967D2;\n",
              "    height: 32px;\n",
              "    padding: 0 0 0 0;\n",
              "    width: 32px;\n",
              "  }\n",
              "\n",
              "  .colab-df-quickchart:hover {\n",
              "    background-color: #E2EBFA;\n",
              "    box-shadow: 0px 1px 2px rgba(60, 64, 67, 0.3), 0px 1px 3px 1px rgba(60, 64, 67, 0.15);\n",
              "    fill: #174EA6;\n",
              "  }\n",
              "\n",
              "  [theme=dark] .colab-df-quickchart {\n",
              "    background-color: #3B4455;\n",
              "    fill: #D2E3FC;\n",
              "  }\n",
              "\n",
              "  [theme=dark] .colab-df-quickchart:hover {\n",
              "    background-color: #434B5C;\n",
              "    box-shadow: 0px 1px 3px 1px rgba(0, 0, 0, 0.15);\n",
              "    filter: drop-shadow(0px 1px 2px rgba(0, 0, 0, 0.3));\n",
              "    fill: #FFFFFF;\n",
              "  }\n",
              "</style>\n",
              "\n",
              "    <script>\n",
              "      async function quickchart(key) {\n",
              "        const containerElement = document.querySelector('#' + key);\n",
              "        const charts = await google.colab.kernel.invokeFunction(\n",
              "            'suggestCharts', [key], {});\n",
              "      }\n",
              "    </script>\n",
              "\n",
              "      <script>\n",
              "\n",
              "function displayQuickchartButton(domScope) {\n",
              "  let quickchartButtonEl =\n",
              "    domScope.querySelector('#df-39f65cf0-dabc-4055-b988-7451ce4d19d0 button.colab-df-quickchart');\n",
              "  quickchartButtonEl.style.display =\n",
              "    google.colab.kernel.accessAllowed ? 'block' : 'none';\n",
              "}\n",
              "\n",
              "        displayQuickchartButton(document);\n",
              "      </script>\n",
              "      <style>\n",
              "    .colab-df-container {\n",
              "      display:flex;\n",
              "      flex-wrap:wrap;\n",
              "      gap: 12px;\n",
              "    }\n",
              "\n",
              "    .colab-df-convert {\n",
              "      background-color: #E8F0FE;\n",
              "      border: none;\n",
              "      border-radius: 50%;\n",
              "      cursor: pointer;\n",
              "      display: none;\n",
              "      fill: #1967D2;\n",
              "      height: 32px;\n",
              "      padding: 0 0 0 0;\n",
              "      width: 32px;\n",
              "    }\n",
              "\n",
              "    .colab-df-convert:hover {\n",
              "      background-color: #E2EBFA;\n",
              "      box-shadow: 0px 1px 2px rgba(60, 64, 67, 0.3), 0px 1px 3px 1px rgba(60, 64, 67, 0.15);\n",
              "      fill: #174EA6;\n",
              "    }\n",
              "\n",
              "    [theme=dark] .colab-df-convert {\n",
              "      background-color: #3B4455;\n",
              "      fill: #D2E3FC;\n",
              "    }\n",
              "\n",
              "    [theme=dark] .colab-df-convert:hover {\n",
              "      background-color: #434B5C;\n",
              "      box-shadow: 0px 1px 3px 1px rgba(0, 0, 0, 0.15);\n",
              "      filter: drop-shadow(0px 1px 2px rgba(0, 0, 0, 0.3));\n",
              "      fill: #FFFFFF;\n",
              "    }\n",
              "  </style>\n",
              "\n",
              "      <script>\n",
              "        const buttonEl =\n",
              "          document.querySelector('#df-0455ac5d-08ad-4561-8851-253dc1c10e65 button.colab-df-convert');\n",
              "        buttonEl.style.display =\n",
              "          google.colab.kernel.accessAllowed ? 'block' : 'none';\n",
              "\n",
              "        async function convertToInteractive(key) {\n",
              "          const element = document.querySelector('#df-0455ac5d-08ad-4561-8851-253dc1c10e65');\n",
              "          const dataTable =\n",
              "            await google.colab.kernel.invokeFunction('convertToInteractive',\n",
              "                                                     [key], {});\n",
              "          if (!dataTable) return;\n",
              "\n",
              "          const docLinkHtml = 'Like what you see? Visit the ' +\n",
              "            '<a target=\"_blank\" href=https://colab.research.google.com/notebooks/data_table.ipynb>data table notebook</a>'\n",
              "            + ' to learn more about interactive tables.';\n",
              "          element.innerHTML = '';\n",
              "          dataTable['output_type'] = 'display_data';\n",
              "          await google.colab.output.renderOutput(dataTable, element);\n",
              "          const docLink = document.createElement('div');\n",
              "          docLink.innerHTML = docLinkHtml;\n",
              "          element.appendChild(docLink);\n",
              "        }\n",
              "      </script>\n",
              "    </div>\n",
              "  </div>\n"
            ]
          },
          "metadata": {}
        }
      ],
      "source": [
        "#сумма концентрации сырья\n",
        "gold_recovery_train['sum_rougher_input_feed'] = gold_recovery_train[['rougher.input.feed_pb',\n",
        "                                              'rougher.input.feed_ag',\n",
        "                                              'rougher.input.feed_sol',\n",
        "                                              'rougher.input.feed_au']].sum(axis=1)\n",
        "\n",
        "#сумма концентрации после первичной флотации\n",
        "gold_recovery_train['sum_primary_output_concentrate'] = gold_recovery_train[['primary_cleaner.output.concentrate_pb',\n",
        "                                                      'primary_cleaner.output.concentrate_ag',\n",
        "                                                      'primary_cleaner.output.concentrate_sol',\n",
        "                                                      'primary_cleaner.output.concentrate_au']].sum(axis=1)\n",
        "\n",
        "#сумма концентрации после флотации\n",
        "gold_recovery_train['sum_rougher_output_concentrate'] = gold_recovery_train[['rougher.output.concentrate_pb',\n",
        "                                                      'rougher.output.concentrate_ag',\n",
        "                                                      'rougher.output.concentrate_sol',\n",
        "                                                      'rougher.output.concentrate_au']].sum(axis=1)\n",
        "\n",
        "#сумма концентрации финальная\n",
        "gold_recovery_train['sum_final_output'] = gold_recovery_train[['final.output.concentrate_pb',\n",
        "                                        'final.output.concentrate_ag',\n",
        "                                        'final.output.concentrate_sol',\n",
        "                                        'final.output.concentrate_au']].sum(axis=1)\n",
        "\n",
        "display(gold_recovery_train.head(10))"
      ]
    },
    {
      "cell_type": "code",
      "execution_count": 12,
      "metadata": {
        "id": "vnPbDOmE9DVs",
        "outputId": "0bc9664c-4098-43f3-ed27-1aa9751acd88",
        "colab": {
          "base_uri": "https://localhost:8080/",
          "height": 880
        }
      },
      "outputs": [
        {
          "output_type": "display_data",
          "data": {
            "text/plain": [
              "<Figure size 1000x1000 with 1 Axes>"
            ],
            "image/png": "[encoded data removed]"
          },
          "metadata": {}
        }
      ],
      "source": [
        "plt.figure(figsize=[10, 10])\n",
        "plt.title('Суммарная концентрация металлов на разных этапах очистки', fontsize=20)\n",
        "sns.histplot(gold_recovery_train[f'sum_rougher_input_feed'], color='white', label='Сырье')\n",
        "sns.histplot(gold_recovery_train[f'sum_rougher_output_concentrate'], color='coral', label='Концентрация после флотации')\n",
        "sns.histplot(gold_recovery_train[f'sum_primary_output_concentrate'], color='pink', label='Концентрация после первичной флотации')\n",
        "sns.histplot(gold_recovery_train[f'sum_final_output'], color='red', label='Финальная концетрация')\n",
        "plt.xlabel('Концентрация')\n",
        "plt.ylabel('Количество наблюдений')\n",
        "plt.legend()\n",
        "plt.show()"
      ]
    },
    {
      "cell_type": "markdown",
      "source": [
        "*Построила график для себя. Интересно было понять сколько вбросов перед обработкой и до. Вышло совсем мало."
      ],
      "metadata": {
        "id": "wpR1kZTDFCCu"
      }
    },
    {
      "cell_type": "code",
      "execution_count": 13,
      "metadata": {
        "id": "Q5XK1Xzn9DVs",
        "outputId": "c8a1f51e-8bdd-40cd-8433-d6fa060f572e",
        "colab": {
          "base_uri": "https://localhost:8080/",
          "height": 484
        }
      },
      "outputs": [
        {
          "output_type": "display_data",
          "data": {
            "text/plain": [
              "<Figure size 500x500 with 1 Axes>"
            ],
            "image/png": "[encoded data removed]"
          },
          "metadata": {}
        }
      ],
      "source": [
        "plt.figure(figsize=[5, 5])\n",
        "plt.title('Сум.конц. металлов на входе и выходе', fontsize=10, alpha=0.5)\n",
        "sns.histplot(gold_recovery_train[f'sum_rougher_input_feed'], color='white', label='Сырье', alpha=0.5)\n",
        "sns.histplot(gold_recovery_train[f'sum_final_output'], color='red', label='Финальная концетрация', alpha=0.5)\n",
        "plt.xlabel('Концентрация')\n",
        "plt.ylabel('Количество наблюдений')\n",
        "plt.legend()\n",
        "plt.show()"
      ]
    },
    {
      "cell_type": "code",
      "execution_count": 14,
      "metadata": {
        "id": "jZiH5BwE9DVu",
        "outputId": "1f473ee2-41e0-4b27-8cb1-a6015b7433b7",
        "colab": {
          "base_uri": "https://localhost:8080/",
          "height": 804
        }
      },
      "outputs": [
        {
          "output_type": "display_data",
          "data": {
            "text/plain": [
              "                  date  rougher.input.feed_au  rougher.input.feed_ag  \\\n",
              "0  2016-01-15 00:00:00               6.486150               6.100378   \n",
              "1  2016-01-15 01:00:00               6.478583               6.161113   \n",
              "2  2016-01-15 02:00:00               6.362222               6.116455   \n",
              "3  2016-01-15 03:00:00               6.118189               6.043309   \n",
              "4  2016-01-15 04:00:00               5.663707               6.060915   \n",
              "5  2016-01-15 05:00:00               5.687168               5.801920   \n",
              "6  2016-01-15 06:00:00               6.038436               6.056253   \n",
              "7  2016-01-15 07:00:00               6.433854               5.955053   \n",
              "8  2016-01-15 08:00:00               6.526612               5.878084   \n",
              "9  2016-01-15 09:00:00               6.747693               5.974832   \n",
              "\n",
              "   rougher.input.feed_pb  rougher.input.feed_sol  rougher.input.feed_rate  \\\n",
              "0               2.284912               36.808594               523.546326   \n",
              "1               2.266033               35.753385               525.290581   \n",
              "2               2.159622               35.971630               530.026610   \n",
              "3               2.037807               36.862241               542.590390   \n",
              "4               1.786875               34.347666               540.531893   \n",
              "5               1.879351               35.470082               546.173470   \n",
              "6               2.105501               34.920570               523.376439   \n",
              "7               2.310432               36.091386               549.842749   \n",
              "8               2.391713               35.753879               560.115242   \n",
              "9               2.539114               38.553938               566.616045   \n",
              "\n",
              "   rougher.input.feed_size  rougher.input.floatbank10_sulfate  \\\n",
              "0                55.486599                          11.986616   \n",
              "1                57.278666                          11.971193   \n",
              "2                57.510649                          11.920603   \n",
              "3                57.792734                          11.630094   \n",
              "4                56.047189                          10.957755   \n",
              "5                57.469578                          11.072517   \n",
              "6                56.674647                          11.535899   \n",
              "7                56.730325                          12.557906   \n",
              "8                56.649893                          13.166128   \n",
              "9                60.308763                          13.996130   \n",
              "\n",
              "   rougher.input.floatbank10_xanthate  rougher.state.floatbank10_a_air  ...  \\\n",
              "0                            6.007990                       999.706909  ...   \n",
              "1                            6.005766                      1000.286398  ...   \n",
              "2                            6.197377                       999.719565  ...   \n",
              "3                            6.203177                       999.814770  ...   \n",
              "4                            6.198826                       999.678690  ...   \n",
              "5                            6.200383                       999.934134  ...   \n",
              "6                            6.204974                       999.832373  ...   \n",
              "7                            6.799275                      1000.166602  ...   \n",
              "8                            6.798659                      1000.026864  ...   \n",
              "9                            6.800263                      1000.332327  ...   \n",
              "\n",
              "   final.output.concentrate_sol  final.output.recovery  final.output.tail_au  \\\n",
              "0                      5.507324              70.541216              2.143149   \n",
              "1                      5.257781              69.266198              2.224930   \n",
              "2                      5.383759              68.116445              2.257889   \n",
              "3                      4.858634              68.347543              2.146849   \n",
              "4                      4.939416              66.927016              2.055292   \n",
              "5                      5.480257              69.465816              1.918586   \n",
              "6                      4.569100              69.300835              2.058913   \n",
              "7                      4.389813              70.230976              2.143437   \n",
              "8                      4.876389              69.688595              2.209881   \n",
              "9                      5.214161              70.973641              2.200997   \n",
              "\n",
              "   final.output.tail_ag  final.output.tail_pb  final.output.tail_sol  \\\n",
              "0             10.411962              0.895447              16.904297   \n",
              "1             10.462676              0.927452              16.634514   \n",
              "2             10.507046              0.953716              16.208849   \n",
              "3             10.422762              0.883763              16.532835   \n",
              "4             10.360302              0.792826              16.525686   \n",
              "5             10.182708              0.664118              16.999638   \n",
              "6             10.304598              0.807342              16.723575   \n",
              "7             10.443288              0.949346              16.689959   \n",
              "8             10.420140              1.065453              17.201948   \n",
              "9             10.473539              1.171183              17.717049   \n",
              "\n",
              "   sum_rougher_input_feed  sum_primary_output_concentrate  \\\n",
              "0               51.680034                       72.640924   \n",
              "1               50.659114                       72.543485   \n",
              "2               50.609929                       72.095042   \n",
              "3               51.061546                       59.957723   \n",
              "4               47.859163                       71.321010   \n",
              "5               48.838521                       70.607932   \n",
              "6               49.120760                       71.165854   \n",
              "7               50.790724                       71.533310   \n",
              "8               50.550288                       72.072013   \n",
              "9               53.815577                       72.254860   \n",
              "\n",
              "   sum_rougher_output_concentrate  sum_final_output  \n",
              "0                       66.424950         63.644396  \n",
              "1                       67.012710         63.957723  \n",
              "2                       66.103793         64.311180  \n",
              "3                       65.752751         63.573449  \n",
              "4                       65.908382         64.004667  \n",
              "5                       64.955919         63.646320  \n",
              "6                       65.372419         63.156407  \n",
              "7                       65.180132         62.908843  \n",
              "8                       65.625127         64.185763  \n",
              "9                       65.992853         64.650224  \n",
              "\n",
              "[10 rows x 91 columns]"
            ],
            "text/html": [
              "\n",
              "\n",
              "  <div id=\"df-e4d1e3cd-730f-44f3-a282-59c66e92d7c6\">\n",
              "    <div class=\"colab-df-container\">\n",
              "      <div>\n",
              "<style scoped>\n",
              "    .dataframe tbody tr th:only-of-type {\n",
              "        vertical-align: middle;\n",
              "    }\n",
              "\n",
              "    .dataframe tbody tr th {\n",
              "        vertical-align: top;\n",
              "    }\n",
              "\n",
              "    .dataframe thead th {\n",
              "        text-align: right;\n",
              "    }\n",
              "</style>\n",
              "<table border=\"1\" class=\"dataframe\">\n",
              "  <thead>\n",
              "    <tr style=\"text-align: right;\">\n",
              "      <th></th>\n",
              "      <th>date</th>\n",
              "      <th>rougher.input.feed_au</th>\n",
              "      <th>rougher.input.feed_ag</th>\n",
              "      <th>rougher.input.feed_pb</th>\n",
              "      <th>rougher.input.feed_sol</th>\n",
              "      <th>rougher.input.feed_rate</th>\n",
              "      <th>rougher.input.feed_size</th>\n",
              "      <th>rougher.input.floatbank10_sulfate</th>\n",
              "      <th>rougher.input.floatbank10_xanthate</th>\n",
              "      <th>rougher.state.floatbank10_a_air</th>\n",
              "      <th>...</th>\n",
              "      <th>final.output.concentrate_sol</th>\n",
              "      <th>final.output.recovery</th>\n",
              "      <th>final.output.tail_au</th>\n",
              "      <th>final.output.tail_ag</th>\n",
              "      <th>final.output.tail_pb</th>\n",
              "      <th>final.output.tail_sol</th>\n",
              "      <th>sum_rougher_input_feed</th>\n",
              "      <th>sum_primary_output_concentrate</th>\n",
              "      <th>sum_rougher_output_concentrate</th>\n",
              "      <th>sum_final_output</th>\n",
              "    </tr>\n",
              "  </thead>\n",
              "  <tbody>\n",
              "    <tr>\n",
              "      <th>0</th>\n",
              "      <td>2016-01-15 00:00:00</td>\n",
              "      <td>6.486150</td>\n",
              "      <td>6.100378</td>\n",
              "      <td>2.284912</td>\n",
              "      <td>36.808594</td>\n",
              "      <td>523.546326</td>\n",
              "      <td>55.486599</td>\n",
              "      <td>11.986616</td>\n",
              "      <td>6.007990</td>\n",
              "      <td>999.706909</td>\n",
              "      <td>...</td>\n",
              "      <td>5.507324</td>\n",
              "      <td>70.541216</td>\n",
              "      <td>2.143149</td>\n",
              "      <td>10.411962</td>\n",
              "      <td>0.895447</td>\n",
              "      <td>16.904297</td>\n",
              "      <td>51.680034</td>\n",
              "      <td>72.640924</td>\n",
              "      <td>66.424950</td>\n",
              "      <td>63.644396</td>\n",
              "    </tr>\n",
              "    <tr>\n",
              "      <th>1</th>\n",
              "      <td>2016-01-15 01:00:00</td>\n",
              "      <td>6.478583</td>\n",
              "      <td>6.161113</td>\n",
              "      <td>2.266033</td>\n",
              "      <td>35.753385</td>\n",
              "      <td>525.290581</td>\n",
              "      <td>57.278666</td>\n",
              "      <td>11.971193</td>\n",
              "      <td>6.005766</td>\n",
              "      <td>1000.286398</td>\n",
              "      <td>...</td>\n",
              "      <td>5.257781</td>\n",
              "      <td>69.266198</td>\n",
              "      <td>2.224930</td>\n",
              "      <td>10.462676</td>\n",
              "      <td>0.927452</td>\n",
              "      <td>16.634514</td>\n",
              "      <td>50.659114</td>\n",
              "      <td>72.543485</td>\n",
              "      <td>67.012710</td>\n",
              "      <td>63.957723</td>\n",
              "    </tr>\n",
              "    <tr>\n",
              "      <th>2</th>\n",
              "      <td>2016-01-15 02:00:00</td>\n",
              "      <td>6.362222</td>\n",
              "      <td>6.116455</td>\n",
              "      <td>2.159622</td>\n",
              "      <td>35.971630</td>\n",
              "      <td>530.026610</td>\n",
              "      <td>57.510649</td>\n",
              "      <td>11.920603</td>\n",
              "      <td>6.197377</td>\n",
              "      <td>999.719565</td>\n",
              "      <td>...</td>\n",
              "      <td>5.383759</td>\n",
              "      <td>68.116445</td>\n",
              "      <td>2.257889</td>\n",
              "      <td>10.507046</td>\n",
              "      <td>0.953716</td>\n",
              "      <td>16.208849</td>\n",
              "      <td>50.609929</td>\n",
              "      <td>72.095042</td>\n",
              "      <td>66.103793</td>\n",
              "      <td>64.311180</td>\n",
              "    </tr>\n",
              "    <tr>\n",
              "      <th>3</th>\n",
              "      <td>2016-01-15 03:00:00</td>\n",
              "      <td>6.118189</td>\n",
              "      <td>6.043309</td>\n",
              "      <td>2.037807</td>\n",
              "      <td>36.862241</td>\n",
              "      <td>542.590390</td>\n",
              "      <td>57.792734</td>\n",
              "      <td>11.630094</td>\n",
              "      <td>6.203177</td>\n",
              "      <td>999.814770</td>\n",
              "      <td>...</td>\n",
              "      <td>4.858634</td>\n",
              "      <td>68.347543</td>\n",
              "      <td>2.146849</td>\n",
              "      <td>10.422762</td>\n",
              "      <td>0.883763</td>\n",
              "      <td>16.532835</td>\n",
              "      <td>51.061546</td>\n",
              "      <td>59.957723</td>\n",
              "      <td>65.752751</td>\n",
              "      <td>63.573449</td>\n",
              "    </tr>\n",
              "    <tr>\n",
              "      <th>4</th>\n",
              "      <td>2016-01-15 04:00:00</td>\n",
              "      <td>5.663707</td>\n",
              "      <td>6.060915</td>\n",
              "      <td>1.786875</td>\n",
              "      <td>34.347666</td>\n",
              "      <td>540.531893</td>\n",
              "      <td>56.047189</td>\n",
              "      <td>10.957755</td>\n",
              "      <td>6.198826</td>\n",
              "      <td>999.678690</td>\n",
              "      <td>...</td>\n",
              "      <td>4.939416</td>\n",
              "      <td>66.927016</td>\n",
              "      <td>2.055292</td>\n",
              "      <td>10.360302</td>\n",
              "      <td>0.792826</td>\n",
              "      <td>16.525686</td>\n",
              "      <td>47.859163</td>\n",
              "      <td>71.321010</td>\n",
              "      <td>65.908382</td>\n",
              "      <td>64.004667</td>\n",
              "    </tr>\n",
              "    <tr>\n",
              "      <th>5</th>\n",
              "      <td>2016-01-15 05:00:00</td>\n",
              "      <td>5.687168</td>\n",
              "      <td>5.801920</td>\n",
              "      <td>1.879351</td>\n",
              "      <td>35.470082</td>\n",
              "      <td>546.173470</td>\n",
              "      <td>57.469578</td>\n",
              "      <td>11.072517</td>\n",
              "      <td>6.200383</td>\n",
              "      <td>999.934134</td>\n",
              "      <td>...</td>\n",
              "      <td>5.480257</td>\n",
              "      <td>69.465816</td>\n",
              "      <td>1.918586</td>\n",
              "      <td>10.182708</td>\n",
              "      <td>0.664118</td>\n",
              "      <td>16.999638</td>\n",
              "      <td>48.838521</td>\n",
              "      <td>70.607932</td>\n",
              "      <td>64.955919</td>\n",
              "      <td>63.646320</td>\n",
              "    </tr>\n",
              "    <tr>\n",
              "      <th>6</th>\n",
              "      <td>2016-01-15 06:00:00</td>\n",
              "      <td>6.038436</td>\n",
              "      <td>6.056253</td>\n",
              "      <td>2.105501</td>\n",
              "      <td>34.920570</td>\n",
              "      <td>523.376439</td>\n",
              "      <td>56.674647</td>\n",
              "      <td>11.535899</td>\n",
              "      <td>6.204974</td>\n",
              "      <td>999.832373</td>\n",
              "      <td>...</td>\n",
              "      <td>4.569100</td>\n",
              "      <td>69.300835</td>\n",
              "      <td>2.058913</td>\n",
              "      <td>10.304598</td>\n",
              "      <td>0.807342</td>\n",
              "      <td>16.723575</td>\n",
              "      <td>49.120760</td>\n",
              "      <td>71.165854</td>\n",
              "      <td>65.372419</td>\n",
              "      <td>63.156407</td>\n",
              "    </tr>\n",
              "    <tr>\n",
              "      <th>7</th>\n",
              "      <td>2016-01-15 07:00:00</td>\n",
              "      <td>6.433854</td>\n",
              "      <td>5.955053</td>\n",
              "      <td>2.310432</td>\n",
              "      <td>36.091386</td>\n",
              "      <td>549.842749</td>\n",
              "      <td>56.730325</td>\n",
              "      <td>12.557906</td>\n",
              "      <td>6.799275</td>\n",
              "      <td>1000.166602</td>\n",
              "      <td>...</td>\n",
              "      <td>4.389813</td>\n",
              "      <td>70.230976</td>\n",
              "      <td>2.143437</td>\n",
              "      <td>10.443288</td>\n",
              "      <td>0.949346</td>\n",
              "      <td>16.689959</td>\n",
              "      <td>50.790724</td>\n",
              "      <td>71.533310</td>\n",
              "      <td>65.180132</td>\n",
              "      <td>62.908843</td>\n",
              "    </tr>\n",
              "    <tr>\n",
              "      <th>8</th>\n",
              "      <td>2016-01-15 08:00:00</td>\n",
              "      <td>6.526612</td>\n",
              "      <td>5.878084</td>\n",
              "      <td>2.391713</td>\n",
              "      <td>35.753879</td>\n",
              "      <td>560.115242</td>\n",
              "      <td>56.649893</td>\n",
              "      <td>13.166128</td>\n",
              "      <td>6.798659</td>\n",
              "      <td>1000.026864</td>\n",
              "      <td>...</td>\n",
              "      <td>4.876389</td>\n",
              "      <td>69.688595</td>\n",
              "      <td>2.209881</td>\n",
              "      <td>10.420140</td>\n",
              "      <td>1.065453</td>\n",
              "      <td>17.201948</td>\n",
              "      <td>50.550288</td>\n",
              "      <td>72.072013</td>\n",
              "      <td>65.625127</td>\n",
              "      <td>64.185763</td>\n",
              "    </tr>\n",
              "    <tr>\n",
              "      <th>9</th>\n",
              "      <td>2016-01-15 09:00:00</td>\n",
              "      <td>6.747693</td>\n",
              "      <td>5.974832</td>\n",
              "      <td>2.539114</td>\n",
              "      <td>38.553938</td>\n",
              "      <td>566.616045</td>\n",
              "      <td>60.308763</td>\n",
              "      <td>13.996130</td>\n",
              "      <td>6.800263</td>\n",
              "      <td>1000.332327</td>\n",
              "      <td>...</td>\n",
              "      <td>5.214161</td>\n",
              "      <td>70.973641</td>\n",
              "      <td>2.200997</td>\n",
              "      <td>10.473539</td>\n",
              "      <td>1.171183</td>\n",
              "      <td>17.717049</td>\n",
              "      <td>53.815577</td>\n",
              "      <td>72.254860</td>\n",
              "      <td>65.992853</td>\n",
              "      <td>64.650224</td>\n",
              "    </tr>\n",
              "  </tbody>\n",
              "</table>\n",
              "<p>10 rows × 91 columns</p>\n",
              "</div>\n",
              "      <button class=\"colab-df-convert\" onclick=\"convertToInteractive('df-e4d1e3cd-730f-44f3-a282-59c66e92d7c6')\"\n",
              "              title=\"Convert this dataframe to an interactive table.\"\n",
              "              style=\"display:none;\">\n",
              "\n",
              "  <svg xmlns=\"http://www.w3.org/2000/svg\" height=\"24px\"viewBox=\"0 0 24 24\"\n",
              "       width=\"24px\">\n",
              "    <path d=\"M0 0h24v24H0V0z\" fill=\"none\"/>\n",
              "    <path d=\"M18.56 5.44l.94 2.06.94-2.06 2.06-.94-2.06-.94-.94-2.06-.94 2.06-2.06.94zm-11 1L8.5 8.5l.94-2.06 2.06-.94-2.06-.94L8.5 2.5l-.94 2.06-2.06.94zm10 10l.94 2.06.94-2.06 2.06-.94-2.06-.94-.94-2.06-.94 2.06-2.06.94z\"/><path d=\"M17.41 7.96l-1.37-1.37c-.4-.4-.92-.59-1.43-.59-.52 0-1.04.2-1.43.59L10.3 9.45l-7.72 7.72c-.78.78-.78 2.05 0 2.83L4 21.41c.39.39.9.59 1.41.59.51 0 1.02-.2 1.41-.59l7.78-7.78 2.81-2.81c.8-.78.8-2.07 0-2.86zM5.41 20L4 18.59l7.72-7.72 1.47 1.35L5.41 20z\"/>\n",
              "  </svg>\n",
              "      </button>\n",
              "\n",
              "\n",
              "\n",
              "    <div id=\"df-a86f12e4-68e5-4a2c-bbff-c4e1c2758da1\">\n",
              "      <button class=\"colab-df-quickchart\" onclick=\"quickchart('df-a86f12e4-68e5-4a2c-bbff-c4e1c2758da1')\"\n",
              "              title=\"Suggest charts.\"\n",
              "              style=\"display:none;\">\n",
              "\n",
              "<svg xmlns=\"http://www.w3.org/2000/svg\" height=\"24px\"viewBox=\"0 0 24 24\"\n",
              "     width=\"24px\">\n",
              "    <g>\n",
              "        <path d=\"M19 3H5c-1.1 0-2 .9-2 2v14c0 1.1.9 2 2 2h14c1.1 0 2-.9 2-2V5c0-1.1-.9-2-2-2zM9 17H7v-7h2v7zm4 0h-2V7h2v10zm4 0h-2v-4h2v4z\"/>\n",
              "    </g>\n",
              "</svg>\n",
              "      </button>\n",
              "    </div>\n",
              "\n",
              "<style>\n",
              "  .colab-df-quickchart {\n",
              "    background-color: #E8F0FE;\n",
              "    border: none;\n",
              "    border-radius: 50%;\n",
              "    cursor: pointer;\n",
              "    display: none;\n",
              "    fill: #1967D2;\n",
              "    height: 32px;\n",
              "    padding: 0 0 0 0;\n",
              "    width: 32px;\n",
              "  }\n",
              "\n",
              "  .colab-df-quickchart:hover {\n",
              "    background-color: #E2EBFA;\n",
              "    box-shadow: 0px 1px 2px rgba(60, 64, 67, 0.3), 0px 1px 3px 1px rgba(60, 64, 67, 0.15);\n",
              "    fill: #174EA6;\n",
              "  }\n",
              "\n",
              "  [theme=dark] .colab-df-quickchart {\n",
              "    background-color: #3B4455;\n",
              "    fill: #D2E3FC;\n",
              "  }\n",
              "\n",
              "  [theme=dark] .colab-df-quickchart:hover {\n",
              "    background-color: #434B5C;\n",
              "    box-shadow: 0px 1px 3px 1px rgba(0, 0, 0, 0.15);\n",
              "    filter: drop-shadow(0px 1px 2px rgba(0, 0, 0, 0.3));\n",
              "    fill: #FFFFFF;\n",
              "  }\n",
              "</style>\n",
              "\n",
              "    <script>\n",
              "      async function quickchart(key) {\n",
              "        const containerElement = document.querySelector('#' + key);\n",
              "        const charts = await google.colab.kernel.invokeFunction(\n",
              "            'suggestCharts', [key], {});\n",
              "      }\n",
              "    </script>\n",
              "\n",
              "      <script>\n",
              "\n",
              "function displayQuickchartButton(domScope) {\n",
              "  let quickchartButtonEl =\n",
              "    domScope.querySelector('#df-a86f12e4-68e5-4a2c-bbff-c4e1c2758da1 button.colab-df-quickchart');\n",
              "  quickchartButtonEl.style.display =\n",
              "    google.colab.kernel.accessAllowed ? 'block' : 'none';\n",
              "}\n",
              "\n",
              "        displayQuickchartButton(document);\n",
              "      </script>\n",
              "      <style>\n",
              "    .colab-df-container {\n",
              "      display:flex;\n",
              "      flex-wrap:wrap;\n",
              "      gap: 12px;\n",
              "    }\n",
              "\n",
              "    .colab-df-convert {\n",
              "      background-color: #E8F0FE;\n",
              "      border: none;\n",
              "      border-radius: 50%;\n",
              "      cursor: pointer;\n",
              "      display: none;\n",
              "      fill: #1967D2;\n",
              "      height: 32px;\n",
              "      padding: 0 0 0 0;\n",
              "      width: 32px;\n",
              "    }\n",
              "\n",
              "    .colab-df-convert:hover {\n",
              "      background-color: #E2EBFA;\n",
              "      box-shadow: 0px 1px 2px rgba(60, 64, 67, 0.3), 0px 1px 3px 1px rgba(60, 64, 67, 0.15);\n",
              "      fill: #174EA6;\n",
              "    }\n",
              "\n",
              "    [theme=dark] .colab-df-convert {\n",
              "      background-color: #3B4455;\n",
              "      fill: #D2E3FC;\n",
              "    }\n",
              "\n",
              "    [theme=dark] .colab-df-convert:hover {\n",
              "      background-color: #434B5C;\n",
              "      box-shadow: 0px 1px 3px 1px rgba(0, 0, 0, 0.15);\n",
              "      filter: drop-shadow(0px 1px 2px rgba(0, 0, 0, 0.3));\n",
              "      fill: #FFFFFF;\n",
              "    }\n",
              "  </style>\n",
              "\n",
              "      <script>\n",
              "        const buttonEl =\n",
              "          document.querySelector('#df-e4d1e3cd-730f-44f3-a282-59c66e92d7c6 button.colab-df-convert');\n",
              "        buttonEl.style.display =\n",
              "          google.colab.kernel.accessAllowed ? 'block' : 'none';\n",
              "\n",
              "        async function convertToInteractive(key) {\n",
              "          const element = document.querySelector('#df-e4d1e3cd-730f-44f3-a282-59c66e92d7c6');\n",
              "          const dataTable =\n",
              "            await google.colab.kernel.invokeFunction('convertToInteractive',\n",
              "                                                     [key], {});\n",
              "          if (!dataTable) return;\n",
              "\n",
              "          const docLinkHtml = 'Like what you see? Visit the ' +\n",
              "            '<a target=\"_blank\" href=https://colab.research.google.com/notebooks/data_table.ipynb>data table notebook</a>'\n",
              "            + ' to learn more about interactive tables.';\n",
              "          element.innerHTML = '';\n",
              "          dataTable['output_type'] = 'display_data';\n",
              "          await google.colab.output.renderOutput(dataTable, element);\n",
              "          const docLink = document.createElement('div');\n",
              "          docLink.innerHTML = docLinkHtml;\n",
              "          element.appendChild(docLink);\n",
              "        }\n",
              "      </script>\n",
              "    </div>\n",
              "  </div>\n"
            ]
          },
          "metadata": {}
        }
      ],
      "source": [
        "for col in ['sum_rougher_input_feed', 'sum_rougher_output_concentrate', 'sum_primary_output_concentrate', 'sum_final_output']:\n",
        "     gold_recovery_train = gold_recovery_train[gold_recovery_train[col]>0]\n",
        "\n",
        "display(gold_recovery_train.head(10))"
      ]
    },
    {
      "cell_type": "markdown",
      "source": [
        "Посчитаем суммарную концентрацию для полного датасета.\n",
        "И почистим его."
      ],
      "metadata": {
        "id": "wHiyIty5Fo7h"
      }
    },
    {
      "cell_type": "code",
      "execution_count": 15,
      "metadata": {
        "id": "dGkVv3Qf9DVv",
        "outputId": "dc05c14c-939f-43f1-99b8-83f1457541fe",
        "colab": {
          "base_uri": "https://localhost:8080/",
          "height": 804
        }
      },
      "outputs": [
        {
          "output_type": "display_data",
          "data": {
            "text/plain": [
              "                  date  rougher.input.feed_au  rougher.input.feed_ag  \\\n",
              "0  2016-01-15 00:00:00               6.486150               6.100378   \n",
              "1  2016-01-15 01:00:00               6.478583               6.161113   \n",
              "2  2016-01-15 02:00:00               6.362222               6.116455   \n",
              "3  2016-01-15 03:00:00               6.118189               6.043309   \n",
              "4  2016-01-15 04:00:00               5.663707               6.060915   \n",
              "5  2016-01-15 05:00:00               5.687168               5.801920   \n",
              "6  2016-01-15 06:00:00               6.038436               6.056253   \n",
              "7  2016-01-15 07:00:00               6.433854               5.955053   \n",
              "8  2016-01-15 08:00:00               6.526612               5.878084   \n",
              "9  2016-01-15 09:00:00               6.747693               5.974832   \n",
              "\n",
              "   rougher.input.feed_pb  rougher.input.feed_sol  rougher.input.feed_rate  \\\n",
              "0               2.284912               36.808594               523.546326   \n",
              "1               2.266033               35.753385               525.290581   \n",
              "2               2.159622               35.971630               530.026610   \n",
              "3               2.037807               36.862241               542.590390   \n",
              "4               1.786875               34.347666               540.531893   \n",
              "5               1.879351               35.470082               546.173470   \n",
              "6               2.105501               34.920570               523.376439   \n",
              "7               2.310432               36.091386               549.842749   \n",
              "8               2.391713               35.753879               560.115242   \n",
              "9               2.539114               38.553938               566.616045   \n",
              "\n",
              "   rougher.input.feed_size  rougher.input.floatbank10_sulfate  \\\n",
              "0                55.486599                          11.986616   \n",
              "1                57.278666                          11.971193   \n",
              "2                57.510649                          11.920603   \n",
              "3                57.792734                          11.630094   \n",
              "4                56.047189                          10.957755   \n",
              "5                57.469578                          11.072517   \n",
              "6                56.674647                          11.535899   \n",
              "7                56.730325                          12.557906   \n",
              "8                56.649893                          13.166128   \n",
              "9                60.308763                          13.996130   \n",
              "\n",
              "   rougher.input.floatbank10_xanthate  rougher.state.floatbank10_a_air  ...  \\\n",
              "0                            6.007990                       999.706909  ...   \n",
              "1                            6.005766                      1000.286398  ...   \n",
              "2                            6.197377                       999.719565  ...   \n",
              "3                            6.203177                       999.814770  ...   \n",
              "4                            6.198826                       999.678690  ...   \n",
              "5                            6.200383                       999.934134  ...   \n",
              "6                            6.204974                       999.832373  ...   \n",
              "7                            6.799275                      1000.166602  ...   \n",
              "8                            6.798659                      1000.026864  ...   \n",
              "9                            6.800263                      1000.332327  ...   \n",
              "\n",
              "   final.output.concentrate_sol  final.output.recovery  final.output.tail_au  \\\n",
              "0                      5.507324              70.541216              2.143149   \n",
              "1                      5.257781              69.266198              2.224930   \n",
              "2                      5.383759              68.116445              2.257889   \n",
              "3                      4.858634              68.347543              2.146849   \n",
              "4                      4.939416              66.927016              2.055292   \n",
              "5                      5.480257              69.465816              1.918586   \n",
              "6                      4.569100              69.300835              2.058913   \n",
              "7                      4.389813              70.230976              2.143437   \n",
              "8                      4.876389              69.688595              2.209881   \n",
              "9                      5.214161              70.973641              2.200997   \n",
              "\n",
              "   final.output.tail_ag  final.output.tail_pb  final.output.tail_sol  \\\n",
              "0             10.411962              0.895447              16.904297   \n",
              "1             10.462676              0.927452              16.634514   \n",
              "2             10.507046              0.953716              16.208849   \n",
              "3             10.422762              0.883763              16.532835   \n",
              "4             10.360302              0.792826              16.525686   \n",
              "5             10.182708              0.664118              16.999638   \n",
              "6             10.304598              0.807342              16.723575   \n",
              "7             10.443288              0.949346              16.689959   \n",
              "8             10.420140              1.065453              17.201948   \n",
              "9             10.473539              1.171183              17.717049   \n",
              "\n",
              "   sum_rougher_input_feed  sum_primary_output_concentrate  \\\n",
              "0               51.680034                       72.640924   \n",
              "1               50.659114                       72.543485   \n",
              "2               50.609929                       72.095042   \n",
              "3               51.061546                       59.957723   \n",
              "4               47.859163                       71.321010   \n",
              "5               48.838521                       70.607932   \n",
              "6               49.120760                       71.165854   \n",
              "7               50.790724                       71.533310   \n",
              "8               50.550288                       72.072013   \n",
              "9               53.815577                       72.254860   \n",
              "\n",
              "   sum_rougher_output_concentrate  sum_final_output  \n",
              "0                       66.424950         63.644396  \n",
              "1                       67.012710         63.957723  \n",
              "2                       66.103793         64.311180  \n",
              "3                       65.752751         63.573449  \n",
              "4                       65.908382         64.004667  \n",
              "5                       64.955919         63.646320  \n",
              "6                       65.372419         63.156407  \n",
              "7                       65.180132         62.908843  \n",
              "8                       65.625127         64.185763  \n",
              "9                       65.992853         64.650224  \n",
              "\n",
              "[10 rows x 91 columns]"
            ],
            "text/html": [
              "\n",
              "\n",
              "  <div id=\"df-c8b3d098-2a1c-43d1-83dc-90f95e7b8323\">\n",
              "    <div class=\"colab-df-container\">\n",
              "      <div>\n",
              "<style scoped>\n",
              "    .dataframe tbody tr th:only-of-type {\n",
              "        vertical-align: middle;\n",
              "    }\n",
              "\n",
              "    .dataframe tbody tr th {\n",
              "        vertical-align: top;\n",
              "    }\n",
              "\n",
              "    .dataframe thead th {\n",
              "        text-align: right;\n",
              "    }\n",
              "</style>\n",
              "<table border=\"1\" class=\"dataframe\">\n",
              "  <thead>\n",
              "    <tr style=\"text-align: right;\">\n",
              "      <th></th>\n",
              "      <th>date</th>\n",
              "      <th>rougher.input.feed_au</th>\n",
              "      <th>rougher.input.feed_ag</th>\n",
              "      <th>rougher.input.feed_pb</th>\n",
              "      <th>rougher.input.feed_sol</th>\n",
              "      <th>rougher.input.feed_rate</th>\n",
              "      <th>rougher.input.feed_size</th>\n",
              "      <th>rougher.input.floatbank10_sulfate</th>\n",
              "      <th>rougher.input.floatbank10_xanthate</th>\n",
              "      <th>rougher.state.floatbank10_a_air</th>\n",
              "      <th>...</th>\n",
              "      <th>final.output.concentrate_sol</th>\n",
              "      <th>final.output.recovery</th>\n",
              "      <th>final.output.tail_au</th>\n",
              "      <th>final.output.tail_ag</th>\n",
              "      <th>final.output.tail_pb</th>\n",
              "      <th>final.output.tail_sol</th>\n",
              "      <th>sum_rougher_input_feed</th>\n",
              "      <th>sum_primary_output_concentrate</th>\n",
              "      <th>sum_rougher_output_concentrate</th>\n",
              "      <th>sum_final_output</th>\n",
              "    </tr>\n",
              "  </thead>\n",
              "  <tbody>\n",
              "    <tr>\n",
              "      <th>0</th>\n",
              "      <td>2016-01-15 00:00:00</td>\n",
              "      <td>6.486150</td>\n",
              "      <td>6.100378</td>\n",
              "      <td>2.284912</td>\n",
              "      <td>36.808594</td>\n",
              "      <td>523.546326</td>\n",
              "      <td>55.486599</td>\n",
              "      <td>11.986616</td>\n",
              "      <td>6.007990</td>\n",
              "      <td>999.706909</td>\n",
              "      <td>...</td>\n",
              "      <td>5.507324</td>\n",
              "      <td>70.541216</td>\n",
              "      <td>2.143149</td>\n",
              "      <td>10.411962</td>\n",
              "      <td>0.895447</td>\n",
              "      <td>16.904297</td>\n",
              "      <td>51.680034</td>\n",
              "      <td>72.640924</td>\n",
              "      <td>66.424950</td>\n",
              "      <td>63.644396</td>\n",
              "    </tr>\n",
              "    <tr>\n",
              "      <th>1</th>\n",
              "      <td>2016-01-15 01:00:00</td>\n",
              "      <td>6.478583</td>\n",
              "      <td>6.161113</td>\n",
              "      <td>2.266033</td>\n",
              "      <td>35.753385</td>\n",
              "      <td>525.290581</td>\n",
              "      <td>57.278666</td>\n",
              "      <td>11.971193</td>\n",
              "      <td>6.005766</td>\n",
              "      <td>1000.286398</td>\n",
              "      <td>...</td>\n",
              "      <td>5.257781</td>\n",
              "      <td>69.266198</td>\n",
              "      <td>2.224930</td>\n",
              "      <td>10.462676</td>\n",
              "      <td>0.927452</td>\n",
              "      <td>16.634514</td>\n",
              "      <td>50.659114</td>\n",
              "      <td>72.543485</td>\n",
              "      <td>67.012710</td>\n",
              "      <td>63.957723</td>\n",
              "    </tr>\n",
              "    <tr>\n",
              "      <th>2</th>\n",
              "      <td>2016-01-15 02:00:00</td>\n",
              "      <td>6.362222</td>\n",
              "      <td>6.116455</td>\n",
              "      <td>2.159622</td>\n",
              "      <td>35.971630</td>\n",
              "      <td>530.026610</td>\n",
              "      <td>57.510649</td>\n",
              "      <td>11.920603</td>\n",
              "      <td>6.197377</td>\n",
              "      <td>999.719565</td>\n",
              "      <td>...</td>\n",
              "      <td>5.383759</td>\n",
              "      <td>68.116445</td>\n",
              "      <td>2.257889</td>\n",
              "      <td>10.507046</td>\n",
              "      <td>0.953716</td>\n",
              "      <td>16.208849</td>\n",
              "      <td>50.609929</td>\n",
              "      <td>72.095042</td>\n",
              "      <td>66.103793</td>\n",
              "      <td>64.311180</td>\n",
              "    </tr>\n",
              "    <tr>\n",
              "      <th>3</th>\n",
              "      <td>2016-01-15 03:00:00</td>\n",
              "      <td>6.118189</td>\n",
              "      <td>6.043309</td>\n",
              "      <td>2.037807</td>\n",
              "      <td>36.862241</td>\n",
              "      <td>542.590390</td>\n",
              "      <td>57.792734</td>\n",
              "      <td>11.630094</td>\n",
              "      <td>6.203177</td>\n",
              "      <td>999.814770</td>\n",
              "      <td>...</td>\n",
              "      <td>4.858634</td>\n",
              "      <td>68.347543</td>\n",
              "      <td>2.146849</td>\n",
              "      <td>10.422762</td>\n",
              "      <td>0.883763</td>\n",
              "      <td>16.532835</td>\n",
              "      <td>51.061546</td>\n",
              "      <td>59.957723</td>\n",
              "      <td>65.752751</td>\n",
              "      <td>63.573449</td>\n",
              "    </tr>\n",
              "    <tr>\n",
              "      <th>4</th>\n",
              "      <td>2016-01-15 04:00:00</td>\n",
              "      <td>5.663707</td>\n",
              "      <td>6.060915</td>\n",
              "      <td>1.786875</td>\n",
              "      <td>34.347666</td>\n",
              "      <td>540.531893</td>\n",
              "      <td>56.047189</td>\n",
              "      <td>10.957755</td>\n",
              "      <td>6.198826</td>\n",
              "      <td>999.678690</td>\n",
              "      <td>...</td>\n",
              "      <td>4.939416</td>\n",
              "      <td>66.927016</td>\n",
              "      <td>2.055292</td>\n",
              "      <td>10.360302</td>\n",
              "      <td>0.792826</td>\n",
              "      <td>16.525686</td>\n",
              "      <td>47.859163</td>\n",
              "      <td>71.321010</td>\n",
              "      <td>65.908382</td>\n",
              "      <td>64.004667</td>\n",
              "    </tr>\n",
              "    <tr>\n",
              "      <th>5</th>\n",
              "      <td>2016-01-15 05:00:00</td>\n",
              "      <td>5.687168</td>\n",
              "      <td>5.801920</td>\n",
              "      <td>1.879351</td>\n",
              "      <td>35.470082</td>\n",
              "      <td>546.173470</td>\n",
              "      <td>57.469578</td>\n",
              "      <td>11.072517</td>\n",
              "      <td>6.200383</td>\n",
              "      <td>999.934134</td>\n",
              "      <td>...</td>\n",
              "      <td>5.480257</td>\n",
              "      <td>69.465816</td>\n",
              "      <td>1.918586</td>\n",
              "      <td>10.182708</td>\n",
              "      <td>0.664118</td>\n",
              "      <td>16.999638</td>\n",
              "      <td>48.838521</td>\n",
              "      <td>70.607932</td>\n",
              "      <td>64.955919</td>\n",
              "      <td>63.646320</td>\n",
              "    </tr>\n",
              "    <tr>\n",
              "      <th>6</th>\n",
              "      <td>2016-01-15 06:00:00</td>\n",
              "      <td>6.038436</td>\n",
              "      <td>6.056253</td>\n",
              "      <td>2.105501</td>\n",
              "      <td>34.920570</td>\n",
              "      <td>523.376439</td>\n",
              "      <td>56.674647</td>\n",
              "      <td>11.535899</td>\n",
              "      <td>6.204974</td>\n",
              "      <td>999.832373</td>\n",
              "      <td>...</td>\n",
              "      <td>4.569100</td>\n",
              "      <td>69.300835</td>\n",
              "      <td>2.058913</td>\n",
              "      <td>10.304598</td>\n",
              "      <td>0.807342</td>\n",
              "      <td>16.723575</td>\n",
              "      <td>49.120760</td>\n",
              "      <td>71.165854</td>\n",
              "      <td>65.372419</td>\n",
              "      <td>63.156407</td>\n",
              "    </tr>\n",
              "    <tr>\n",
              "      <th>7</th>\n",
              "      <td>2016-01-15 07:00:00</td>\n",
              "      <td>6.433854</td>\n",
              "      <td>5.955053</td>\n",
              "      <td>2.310432</td>\n",
              "      <td>36.091386</td>\n",
              "      <td>549.842749</td>\n",
              "      <td>56.730325</td>\n",
              "      <td>12.557906</td>\n",
              "      <td>6.799275</td>\n",
              "      <td>1000.166602</td>\n",
              "      <td>...</td>\n",
              "      <td>4.389813</td>\n",
              "      <td>70.230976</td>\n",
              "      <td>2.143437</td>\n",
              "      <td>10.443288</td>\n",
              "      <td>0.949346</td>\n",
              "      <td>16.689959</td>\n",
              "      <td>50.790724</td>\n",
              "      <td>71.533310</td>\n",
              "      <td>65.180132</td>\n",
              "      <td>62.908843</td>\n",
              "    </tr>\n",
              "    <tr>\n",
              "      <th>8</th>\n",
              "      <td>2016-01-15 08:00:00</td>\n",
              "      <td>6.526612</td>\n",
              "      <td>5.878084</td>\n",
              "      <td>2.391713</td>\n",
              "      <td>35.753879</td>\n",
              "      <td>560.115242</td>\n",
              "      <td>56.649893</td>\n",
              "      <td>13.166128</td>\n",
              "      <td>6.798659</td>\n",
              "      <td>1000.026864</td>\n",
              "      <td>...</td>\n",
              "      <td>4.876389</td>\n",
              "      <td>69.688595</td>\n",
              "      <td>2.209881</td>\n",
              "      <td>10.420140</td>\n",
              "      <td>1.065453</td>\n",
              "      <td>17.201948</td>\n",
              "      <td>50.550288</td>\n",
              "      <td>72.072013</td>\n",
              "      <td>65.625127</td>\n",
              "      <td>64.185763</td>\n",
              "    </tr>\n",
              "    <tr>\n",
              "      <th>9</th>\n",
              "      <td>2016-01-15 09:00:00</td>\n",
              "      <td>6.747693</td>\n",
              "      <td>5.974832</td>\n",
              "      <td>2.539114</td>\n",
              "      <td>38.553938</td>\n",
              "      <td>566.616045</td>\n",
              "      <td>60.308763</td>\n",
              "      <td>13.996130</td>\n",
              "      <td>6.800263</td>\n",
              "      <td>1000.332327</td>\n",
              "      <td>...</td>\n",
              "      <td>5.214161</td>\n",
              "      <td>70.973641</td>\n",
              "      <td>2.200997</td>\n",
              "      <td>10.473539</td>\n",
              "      <td>1.171183</td>\n",
              "      <td>17.717049</td>\n",
              "      <td>53.815577</td>\n",
              "      <td>72.254860</td>\n",
              "      <td>65.992853</td>\n",
              "      <td>64.650224</td>\n",
              "    </tr>\n",
              "  </tbody>\n",
              "</table>\n",
              "<p>10 rows × 91 columns</p>\n",
              "</div>\n",
              "      <button class=\"colab-df-convert\" onclick=\"convertToInteractive('df-c8b3d098-2a1c-43d1-83dc-90f95e7b8323')\"\n",
              "              title=\"Convert this dataframe to an interactive table.\"\n",
              "              style=\"display:none;\">\n",
              "\n",
              "  <svg xmlns=\"http://www.w3.org/2000/svg\" height=\"24px\"viewBox=\"0 0 24 24\"\n",
              "       width=\"24px\">\n",
              "    <path d=\"M0 0h24v24H0V0z\" fill=\"none\"/>\n",
              "    <path d=\"M18.56 5.44l.94 2.06.94-2.06 2.06-.94-2.06-.94-.94-2.06-.94 2.06-2.06.94zm-11 1L8.5 8.5l.94-2.06 2.06-.94-2.06-.94L8.5 2.5l-.94 2.06-2.06.94zm10 10l.94 2.06.94-2.06 2.06-.94-2.06-.94-.94-2.06-.94 2.06-2.06.94z\"/><path d=\"M17.41 7.96l-1.37-1.37c-.4-.4-.92-.59-1.43-.59-.52 0-1.04.2-1.43.59L10.3 9.45l-7.72 7.72c-.78.78-.78 2.05 0 2.83L4 21.41c.39.39.9.59 1.41.59.51 0 1.02-.2 1.41-.59l7.78-7.78 2.81-2.81c.8-.78.8-2.07 0-2.86zM5.41 20L4 18.59l7.72-7.72 1.47 1.35L5.41 20z\"/>\n",
              "  </svg>\n",
              "      </button>\n",
              "\n",
              "\n",
              "\n",
              "    <div id=\"df-aff52c47-a2fb-464e-a2e9-763303b96a13\">\n",
              "      <button class=\"colab-df-quickchart\" onclick=\"quickchart('df-aff52c47-a2fb-464e-a2e9-763303b96a13')\"\n",
              "              title=\"Suggest charts.\"\n",
              "              style=\"display:none;\">\n",
              "\n",
              "<svg xmlns=\"http://www.w3.org/2000/svg\" height=\"24px\"viewBox=\"0 0 24 24\"\n",
              "     width=\"24px\">\n",
              "    <g>\n",
              "        <path d=\"M19 3H5c-1.1 0-2 .9-2 2v14c0 1.1.9 2 2 2h14c1.1 0 2-.9 2-2V5c0-1.1-.9-2-2-2zM9 17H7v-7h2v7zm4 0h-2V7h2v10zm4 0h-2v-4h2v4z\"/>\n",
              "    </g>\n",
              "</svg>\n",
              "      </button>\n",
              "    </div>\n",
              "\n",
              "<style>\n",
              "  .colab-df-quickchart {\n",
              "    background-color: #E8F0FE;\n",
              "    border: none;\n",
              "    border-radius: 50%;\n",
              "    cursor: pointer;\n",
              "    display: none;\n",
              "    fill: #1967D2;\n",
              "    height: 32px;\n",
              "    padding: 0 0 0 0;\n",
              "    width: 32px;\n",
              "  }\n",
              "\n",
              "  .colab-df-quickchart:hover {\n",
              "    background-color: #E2EBFA;\n",
              "    box-shadow: 0px 1px 2px rgba(60, 64, 67, 0.3), 0px 1px 3px 1px rgba(60, 64, 67, 0.15);\n",
              "    fill: #174EA6;\n",
              "  }\n",
              "\n",
              "  [theme=dark] .colab-df-quickchart {\n",
              "    background-color: #3B4455;\n",
              "    fill: #D2E3FC;\n",
              "  }\n",
              "\n",
              "  [theme=dark] .colab-df-quickchart:hover {\n",
              "    background-color: #434B5C;\n",
              "    box-shadow: 0px 1px 3px 1px rgba(0, 0, 0, 0.15);\n",
              "    filter: drop-shadow(0px 1px 2px rgba(0, 0, 0, 0.3));\n",
              "    fill: #FFFFFF;\n",
              "  }\n",
              "</style>\n",
              "\n",
              "    <script>\n",
              "      async function quickchart(key) {\n",
              "        const containerElement = document.querySelector('#' + key);\n",
              "        const charts = await google.colab.kernel.invokeFunction(\n",
              "            'suggestCharts', [key], {});\n",
              "      }\n",
              "    </script>\n",
              "\n",
              "      <script>\n",
              "\n",
              "function displayQuickchartButton(domScope) {\n",
              "  let quickchartButtonEl =\n",
              "    domScope.querySelector('#df-aff52c47-a2fb-464e-a2e9-763303b96a13 button.colab-df-quickchart');\n",
              "  quickchartButtonEl.style.display =\n",
              "    google.colab.kernel.accessAllowed ? 'block' : 'none';\n",
              "}\n",
              "\n",
              "        displayQuickchartButton(document);\n",
              "      </script>\n",
              "      <style>\n",
              "    .colab-df-container {\n",
              "      display:flex;\n",
              "      flex-wrap:wrap;\n",
              "      gap: 12px;\n",
              "    }\n",
              "\n",
              "    .colab-df-convert {\n",
              "      background-color: #E8F0FE;\n",
              "      border: none;\n",
              "      border-radius: 50%;\n",
              "      cursor: pointer;\n",
              "      display: none;\n",
              "      fill: #1967D2;\n",
              "      height: 32px;\n",
              "      padding: 0 0 0 0;\n",
              "      width: 32px;\n",
              "    }\n",
              "\n",
              "    .colab-df-convert:hover {\n",
              "      background-color: #E2EBFA;\n",
              "      box-shadow: 0px 1px 2px rgba(60, 64, 67, 0.3), 0px 1px 3px 1px rgba(60, 64, 67, 0.15);\n",
              "      fill: #174EA6;\n",
              "    }\n",
              "\n",
              "    [theme=dark] .colab-df-convert {\n",
              "      background-color: #3B4455;\n",
              "      fill: #D2E3FC;\n",
              "    }\n",
              "\n",
              "    [theme=dark] .colab-df-convert:hover {\n",
              "      background-color: #434B5C;\n",
              "      box-shadow: 0px 1px 3px 1px rgba(0, 0, 0, 0.15);\n",
              "      filter: drop-shadow(0px 1px 2px rgba(0, 0, 0, 0.3));\n",
              "      fill: #FFFFFF;\n",
              "    }\n",
              "  </style>\n",
              "\n",
              "      <script>\n",
              "        const buttonEl =\n",
              "          document.querySelector('#df-c8b3d098-2a1c-43d1-83dc-90f95e7b8323 button.colab-df-convert');\n",
              "        buttonEl.style.display =\n",
              "          google.colab.kernel.accessAllowed ? 'block' : 'none';\n",
              "\n",
              "        async function convertToInteractive(key) {\n",
              "          const element = document.querySelector('#df-c8b3d098-2a1c-43d1-83dc-90f95e7b8323');\n",
              "          const dataTable =\n",
              "            await google.colab.kernel.invokeFunction('convertToInteractive',\n",
              "                                                     [key], {});\n",
              "          if (!dataTable) return;\n",
              "\n",
              "          const docLinkHtml = 'Like what you see? Visit the ' +\n",
              "            '<a target=\"_blank\" href=https://colab.research.google.com/notebooks/data_table.ipynb>data table notebook</a>'\n",
              "            + ' to learn more about interactive tables.';\n",
              "          element.innerHTML = '';\n",
              "          dataTable['output_type'] = 'display_data';\n",
              "          await google.colab.output.renderOutput(dataTable, element);\n",
              "          const docLink = document.createElement('div');\n",
              "          docLink.innerHTML = docLinkHtml;\n",
              "          element.appendChild(docLink);\n",
              "        }\n",
              "      </script>\n",
              "    </div>\n",
              "  </div>\n"
            ]
          },
          "metadata": {}
        }
      ],
      "source": [
        "#сумма концентрации сырья\n",
        "gold_recovery_full_new['sum_rougher_input_feed'] = gold_recovery_full_new[['rougher.input.feed_pb',\n",
        "                                              'rougher.input.feed_ag',\n",
        "                                              'rougher.input.feed_sol',\n",
        "                                              'rougher.input.feed_au']].sum(axis=1)\n",
        "\n",
        "#сумма концентрации после первичной флотации\n",
        "gold_recovery_full_new['sum_primary_output_concentrate'] = gold_recovery_full_new[['primary_cleaner.output.concentrate_pb',\n",
        "                                                      'primary_cleaner.output.concentrate_ag',\n",
        "                                                      'primary_cleaner.output.concentrate_sol',\n",
        "                                                      'primary_cleaner.output.concentrate_au']].sum(axis=1)\n",
        "\n",
        "#сумма концентрации после флотации\n",
        "gold_recovery_full_new['sum_rougher_output_concentrate'] = gold_recovery_full_new[['rougher.output.concentrate_pb',\n",
        "                                                      'rougher.output.concentrate_ag',\n",
        "                                                      'rougher.output.concentrate_sol',\n",
        "                                                      'rougher.output.concentrate_au']].sum(axis=1)\n",
        "\n",
        "#сумма концентрации финальная\n",
        "gold_recovery_full_new['sum_final_output'] = gold_recovery_full_new[['final.output.concentrate_pb',\n",
        "                                        'final.output.concentrate_ag',\n",
        "                                        'final.output.concentrate_sol',\n",
        "                                        'final.output.concentrate_au']].sum(axis=1)\n",
        "\n",
        "display(gold_recovery_full_new.head(10))"
      ]
    },
    {
      "cell_type": "code",
      "execution_count": 16,
      "metadata": {
        "id": "fqWUBAhL9DVv",
        "outputId": "4541b65b-4c03-446b-d2ce-96810b26364a",
        "colab": {
          "base_uri": "https://localhost:8080/",
          "height": 804
        }
      },
      "outputs": [
        {
          "output_type": "display_data",
          "data": {
            "text/plain": [
              "                  date  rougher.input.feed_au  rougher.input.feed_ag  \\\n",
              "0  2016-01-15 00:00:00               6.486150               6.100378   \n",
              "1  2016-01-15 01:00:00               6.478583               6.161113   \n",
              "2  2016-01-15 02:00:00               6.362222               6.116455   \n",
              "3  2016-01-15 03:00:00               6.118189               6.043309   \n",
              "4  2016-01-15 04:00:00               5.663707               6.060915   \n",
              "5  2016-01-15 05:00:00               5.687168               5.801920   \n",
              "6  2016-01-15 06:00:00               6.038436               6.056253   \n",
              "7  2016-01-15 07:00:00               6.433854               5.955053   \n",
              "8  2016-01-15 08:00:00               6.526612               5.878084   \n",
              "9  2016-01-15 09:00:00               6.747693               5.974832   \n",
              "\n",
              "   rougher.input.feed_pb  rougher.input.feed_sol  rougher.input.feed_rate  \\\n",
              "0               2.284912               36.808594               523.546326   \n",
              "1               2.266033               35.753385               525.290581   \n",
              "2               2.159622               35.971630               530.026610   \n",
              "3               2.037807               36.862241               542.590390   \n",
              "4               1.786875               34.347666               540.531893   \n",
              "5               1.879351               35.470082               546.173470   \n",
              "6               2.105501               34.920570               523.376439   \n",
              "7               2.310432               36.091386               549.842749   \n",
              "8               2.391713               35.753879               560.115242   \n",
              "9               2.539114               38.553938               566.616045   \n",
              "\n",
              "   rougher.input.feed_size  rougher.input.floatbank10_sulfate  \\\n",
              "0                55.486599                          11.986616   \n",
              "1                57.278666                          11.971193   \n",
              "2                57.510649                          11.920603   \n",
              "3                57.792734                          11.630094   \n",
              "4                56.047189                          10.957755   \n",
              "5                57.469578                          11.072517   \n",
              "6                56.674647                          11.535899   \n",
              "7                56.730325                          12.557906   \n",
              "8                56.649893                          13.166128   \n",
              "9                60.308763                          13.996130   \n",
              "\n",
              "   rougher.input.floatbank10_xanthate  rougher.state.floatbank10_a_air  ...  \\\n",
              "0                            6.007990                       999.706909  ...   \n",
              "1                            6.005766                      1000.286398  ...   \n",
              "2                            6.197377                       999.719565  ...   \n",
              "3                            6.203177                       999.814770  ...   \n",
              "4                            6.198826                       999.678690  ...   \n",
              "5                            6.200383                       999.934134  ...   \n",
              "6                            6.204974                       999.832373  ...   \n",
              "7                            6.799275                      1000.166602  ...   \n",
              "8                            6.798659                      1000.026864  ...   \n",
              "9                            6.800263                      1000.332327  ...   \n",
              "\n",
              "   final.output.concentrate_sol  final.output.recovery  final.output.tail_au  \\\n",
              "0                      5.507324              70.541216              2.143149   \n",
              "1                      5.257781              69.266198              2.224930   \n",
              "2                      5.383759              68.116445              2.257889   \n",
              "3                      4.858634              68.347543              2.146849   \n",
              "4                      4.939416              66.927016              2.055292   \n",
              "5                      5.480257              69.465816              1.918586   \n",
              "6                      4.569100              69.300835              2.058913   \n",
              "7                      4.389813              70.230976              2.143437   \n",
              "8                      4.876389              69.688595              2.209881   \n",
              "9                      5.214161              70.973641              2.200997   \n",
              "\n",
              "   final.output.tail_ag  final.output.tail_pb  final.output.tail_sol  \\\n",
              "0             10.411962              0.895447              16.904297   \n",
              "1             10.462676              0.927452              16.634514   \n",
              "2             10.507046              0.953716              16.208849   \n",
              "3             10.422762              0.883763              16.532835   \n",
              "4             10.360302              0.792826              16.525686   \n",
              "5             10.182708              0.664118              16.999638   \n",
              "6             10.304598              0.807342              16.723575   \n",
              "7             10.443288              0.949346              16.689959   \n",
              "8             10.420140              1.065453              17.201948   \n",
              "9             10.473539              1.171183              17.717049   \n",
              "\n",
              "   sum_rougher_input_feed  sum_primary_output_concentrate  \\\n",
              "0               51.680034                       72.640924   \n",
              "1               50.659114                       72.543485   \n",
              "2               50.609929                       72.095042   \n",
              "3               51.061546                       59.957723   \n",
              "4               47.859163                       71.321010   \n",
              "5               48.838521                       70.607932   \n",
              "6               49.120760                       71.165854   \n",
              "7               50.790724                       71.533310   \n",
              "8               50.550288                       72.072013   \n",
              "9               53.815577                       72.254860   \n",
              "\n",
              "   sum_rougher_output_concentrate  sum_final_output  \n",
              "0                       66.424950         63.644396  \n",
              "1                       67.012710         63.957723  \n",
              "2                       66.103793         64.311180  \n",
              "3                       65.752751         63.573449  \n",
              "4                       65.908382         64.004667  \n",
              "5                       64.955919         63.646320  \n",
              "6                       65.372419         63.156407  \n",
              "7                       65.180132         62.908843  \n",
              "8                       65.625127         64.185763  \n",
              "9                       65.992853         64.650224  \n",
              "\n",
              "[10 rows x 91 columns]"
            ],
            "text/html": [
              "\n",
              "\n",
              "  <div id=\"df-984c3ec1-6f3f-42c6-a37a-a08a33badc60\">\n",
              "    <div class=\"colab-df-container\">\n",
              "      <div>\n",
              "<style scoped>\n",
              "    .dataframe tbody tr th:only-of-type {\n",
              "        vertical-align: middle;\n",
              "    }\n",
              "\n",
              "    .dataframe tbody tr th {\n",
              "        vertical-align: top;\n",
              "    }\n",
              "\n",
              "    .dataframe thead th {\n",
              "        text-align: right;\n",
              "    }\n",
              "</style>\n",
              "<table border=\"1\" class=\"dataframe\">\n",
              "  <thead>\n",
              "    <tr style=\"text-align: right;\">\n",
              "      <th></th>\n",
              "      <th>date</th>\n",
              "      <th>rougher.input.feed_au</th>\n",
              "      <th>rougher.input.feed_ag</th>\n",
              "      <th>rougher.input.feed_pb</th>\n",
              "      <th>rougher.input.feed_sol</th>\n",
              "      <th>rougher.input.feed_rate</th>\n",
              "      <th>rougher.input.feed_size</th>\n",
              "      <th>rougher.input.floatbank10_sulfate</th>\n",
              "      <th>rougher.input.floatbank10_xanthate</th>\n",
              "      <th>rougher.state.floatbank10_a_air</th>\n",
              "      <th>...</th>\n",
              "      <th>final.output.concentrate_sol</th>\n",
              "      <th>final.output.recovery</th>\n",
              "      <th>final.output.tail_au</th>\n",
              "      <th>final.output.tail_ag</th>\n",
              "      <th>final.output.tail_pb</th>\n",
              "      <th>final.output.tail_sol</th>\n",
              "      <th>sum_rougher_input_feed</th>\n",
              "      <th>sum_primary_output_concentrate</th>\n",
              "      <th>sum_rougher_output_concentrate</th>\n",
              "      <th>sum_final_output</th>\n",
              "    </tr>\n",
              "  </thead>\n",
              "  <tbody>\n",
              "    <tr>\n",
              "      <th>0</th>\n",
              "      <td>2016-01-15 00:00:00</td>\n",
              "      <td>6.486150</td>\n",
              "      <td>6.100378</td>\n",
              "      <td>2.284912</td>\n",
              "      <td>36.808594</td>\n",
              "      <td>523.546326</td>\n",
              "      <td>55.486599</td>\n",
              "      <td>11.986616</td>\n",
              "      <td>6.007990</td>\n",
              "      <td>999.706909</td>\n",
              "      <td>...</td>\n",
              "      <td>5.507324</td>\n",
              "      <td>70.541216</td>\n",
              "      <td>2.143149</td>\n",
              "      <td>10.411962</td>\n",
              "      <td>0.895447</td>\n",
              "      <td>16.904297</td>\n",
              "      <td>51.680034</td>\n",
              "      <td>72.640924</td>\n",
              "      <td>66.424950</td>\n",
              "      <td>63.644396</td>\n",
              "    </tr>\n",
              "    <tr>\n",
              "      <th>1</th>\n",
              "      <td>2016-01-15 01:00:00</td>\n",
              "      <td>6.478583</td>\n",
              "      <td>6.161113</td>\n",
              "      <td>2.266033</td>\n",
              "      <td>35.753385</td>\n",
              "      <td>525.290581</td>\n",
              "      <td>57.278666</td>\n",
              "      <td>11.971193</td>\n",
              "      <td>6.005766</td>\n",
              "      <td>1000.286398</td>\n",
              "      <td>...</td>\n",
              "      <td>5.257781</td>\n",
              "      <td>69.266198</td>\n",
              "      <td>2.224930</td>\n",
              "      <td>10.462676</td>\n",
              "      <td>0.927452</td>\n",
              "      <td>16.634514</td>\n",
              "      <td>50.659114</td>\n",
              "      <td>72.543485</td>\n",
              "      <td>67.012710</td>\n",
              "      <td>63.957723</td>\n",
              "    </tr>\n",
              "    <tr>\n",
              "      <th>2</th>\n",
              "      <td>2016-01-15 02:00:00</td>\n",
              "      <td>6.362222</td>\n",
              "      <td>6.116455</td>\n",
              "      <td>2.159622</td>\n",
              "      <td>35.971630</td>\n",
              "      <td>530.026610</td>\n",
              "      <td>57.510649</td>\n",
              "      <td>11.920603</td>\n",
              "      <td>6.197377</td>\n",
              "      <td>999.719565</td>\n",
              "      <td>...</td>\n",
              "      <td>5.383759</td>\n",
              "      <td>68.116445</td>\n",
              "      <td>2.257889</td>\n",
              "      <td>10.507046</td>\n",
              "      <td>0.953716</td>\n",
              "      <td>16.208849</td>\n",
              "      <td>50.609929</td>\n",
              "      <td>72.095042</td>\n",
              "      <td>66.103793</td>\n",
              "      <td>64.311180</td>\n",
              "    </tr>\n",
              "    <tr>\n",
              "      <th>3</th>\n",
              "      <td>2016-01-15 03:00:00</td>\n",
              "      <td>6.118189</td>\n",
              "      <td>6.043309</td>\n",
              "      <td>2.037807</td>\n",
              "      <td>36.862241</td>\n",
              "      <td>542.590390</td>\n",
              "      <td>57.792734</td>\n",
              "      <td>11.630094</td>\n",
              "      <td>6.203177</td>\n",
              "      <td>999.814770</td>\n",
              "      <td>...</td>\n",
              "      <td>4.858634</td>\n",
              "      <td>68.347543</td>\n",
              "      <td>2.146849</td>\n",
              "      <td>10.422762</td>\n",
              "      <td>0.883763</td>\n",
              "      <td>16.532835</td>\n",
              "      <td>51.061546</td>\n",
              "      <td>59.957723</td>\n",
              "      <td>65.752751</td>\n",
              "      <td>63.573449</td>\n",
              "    </tr>\n",
              "    <tr>\n",
              "      <th>4</th>\n",
              "      <td>2016-01-15 04:00:00</td>\n",
              "      <td>5.663707</td>\n",
              "      <td>6.060915</td>\n",
              "      <td>1.786875</td>\n",
              "      <td>34.347666</td>\n",
              "      <td>540.531893</td>\n",
              "      <td>56.047189</td>\n",
              "      <td>10.957755</td>\n",
              "      <td>6.198826</td>\n",
              "      <td>999.678690</td>\n",
              "      <td>...</td>\n",
              "      <td>4.939416</td>\n",
              "      <td>66.927016</td>\n",
              "      <td>2.055292</td>\n",
              "      <td>10.360302</td>\n",
              "      <td>0.792826</td>\n",
              "      <td>16.525686</td>\n",
              "      <td>47.859163</td>\n",
              "      <td>71.321010</td>\n",
              "      <td>65.908382</td>\n",
              "      <td>64.004667</td>\n",
              "    </tr>\n",
              "    <tr>\n",
              "      <th>5</th>\n",
              "      <td>2016-01-15 05:00:00</td>\n",
              "      <td>5.687168</td>\n",
              "      <td>5.801920</td>\n",
              "      <td>1.879351</td>\n",
              "      <td>35.470082</td>\n",
              "      <td>546.173470</td>\n",
              "      <td>57.469578</td>\n",
              "      <td>11.072517</td>\n",
              "      <td>6.200383</td>\n",
              "      <td>999.934134</td>\n",
              "      <td>...</td>\n",
              "      <td>5.480257</td>\n",
              "      <td>69.465816</td>\n",
              "      <td>1.918586</td>\n",
              "      <td>10.182708</td>\n",
              "      <td>0.664118</td>\n",
              "      <td>16.999638</td>\n",
              "      <td>48.838521</td>\n",
              "      <td>70.607932</td>\n",
              "      <td>64.955919</td>\n",
              "      <td>63.646320</td>\n",
              "    </tr>\n",
              "    <tr>\n",
              "      <th>6</th>\n",
              "      <td>2016-01-15 06:00:00</td>\n",
              "      <td>6.038436</td>\n",
              "      <td>6.056253</td>\n",
              "      <td>2.105501</td>\n",
              "      <td>34.920570</td>\n",
              "      <td>523.376439</td>\n",
              "      <td>56.674647</td>\n",
              "      <td>11.535899</td>\n",
              "      <td>6.204974</td>\n",
              "      <td>999.832373</td>\n",
              "      <td>...</td>\n",
              "      <td>4.569100</td>\n",
              "      <td>69.300835</td>\n",
              "      <td>2.058913</td>\n",
              "      <td>10.304598</td>\n",
              "      <td>0.807342</td>\n",
              "      <td>16.723575</td>\n",
              "      <td>49.120760</td>\n",
              "      <td>71.165854</td>\n",
              "      <td>65.372419</td>\n",
              "      <td>63.156407</td>\n",
              "    </tr>\n",
              "    <tr>\n",
              "      <th>7</th>\n",
              "      <td>2016-01-15 07:00:00</td>\n",
              "      <td>6.433854</td>\n",
              "      <td>5.955053</td>\n",
              "      <td>2.310432</td>\n",
              "      <td>36.091386</td>\n",
              "      <td>549.842749</td>\n",
              "      <td>56.730325</td>\n",
              "      <td>12.557906</td>\n",
              "      <td>6.799275</td>\n",
              "      <td>1000.166602</td>\n",
              "      <td>...</td>\n",
              "      <td>4.389813</td>\n",
              "      <td>70.230976</td>\n",
              "      <td>2.143437</td>\n",
              "      <td>10.443288</td>\n",
              "      <td>0.949346</td>\n",
              "      <td>16.689959</td>\n",
              "      <td>50.790724</td>\n",
              "      <td>71.533310</td>\n",
              "      <td>65.180132</td>\n",
              "      <td>62.908843</td>\n",
              "    </tr>\n",
              "    <tr>\n",
              "      <th>8</th>\n",
              "      <td>2016-01-15 08:00:00</td>\n",
              "      <td>6.526612</td>\n",
              "      <td>5.878084</td>\n",
              "      <td>2.391713</td>\n",
              "      <td>35.753879</td>\n",
              "      <td>560.115242</td>\n",
              "      <td>56.649893</td>\n",
              "      <td>13.166128</td>\n",
              "      <td>6.798659</td>\n",
              "      <td>1000.026864</td>\n",
              "      <td>...</td>\n",
              "      <td>4.876389</td>\n",
              "      <td>69.688595</td>\n",
              "      <td>2.209881</td>\n",
              "      <td>10.420140</td>\n",
              "      <td>1.065453</td>\n",
              "      <td>17.201948</td>\n",
              "      <td>50.550288</td>\n",
              "      <td>72.072013</td>\n",
              "      <td>65.625127</td>\n",
              "      <td>64.185763</td>\n",
              "    </tr>\n",
              "    <tr>\n",
              "      <th>9</th>\n",
              "      <td>2016-01-15 09:00:00</td>\n",
              "      <td>6.747693</td>\n",
              "      <td>5.974832</td>\n",
              "      <td>2.539114</td>\n",
              "      <td>38.553938</td>\n",
              "      <td>566.616045</td>\n",
              "      <td>60.308763</td>\n",
              "      <td>13.996130</td>\n",
              "      <td>6.800263</td>\n",
              "      <td>1000.332327</td>\n",
              "      <td>...</td>\n",
              "      <td>5.214161</td>\n",
              "      <td>70.973641</td>\n",
              "      <td>2.200997</td>\n",
              "      <td>10.473539</td>\n",
              "      <td>1.171183</td>\n",
              "      <td>17.717049</td>\n",
              "      <td>53.815577</td>\n",
              "      <td>72.254860</td>\n",
              "      <td>65.992853</td>\n",
              "      <td>64.650224</td>\n",
              "    </tr>\n",
              "  </tbody>\n",
              "</table>\n",
              "<p>10 rows × 91 columns</p>\n",
              "</div>\n",
              "      <button class=\"colab-df-convert\" onclick=\"convertToInteractive('df-984c3ec1-6f3f-42c6-a37a-a08a33badc60')\"\n",
              "              title=\"Convert this dataframe to an interactive table.\"\n",
              "              style=\"display:none;\">\n",
              "\n",
              "  <svg xmlns=\"http://www.w3.org/2000/svg\" height=\"24px\"viewBox=\"0 0 24 24\"\n",
              "       width=\"24px\">\n",
              "    <path d=\"M0 0h24v24H0V0z\" fill=\"none\"/>\n",
              "    <path d=\"M18.56 5.44l.94 2.06.94-2.06 2.06-.94-2.06-.94-.94-2.06-.94 2.06-2.06.94zm-11 1L8.5 8.5l.94-2.06 2.06-.94-2.06-.94L8.5 2.5l-.94 2.06-2.06.94zm10 10l.94 2.06.94-2.06 2.06-.94-2.06-.94-.94-2.06-.94 2.06-2.06.94z\"/><path d=\"M17.41 7.96l-1.37-1.37c-.4-.4-.92-.59-1.43-.59-.52 0-1.04.2-1.43.59L10.3 9.45l-7.72 7.72c-.78.78-.78 2.05 0 2.83L4 21.41c.39.39.9.59 1.41.59.51 0 1.02-.2 1.41-.59l7.78-7.78 2.81-2.81c.8-.78.8-2.07 0-2.86zM5.41 20L4 18.59l7.72-7.72 1.47 1.35L5.41 20z\"/>\n",
              "  </svg>\n",
              "      </button>\n",
              "\n",
              "\n",
              "\n",
              "    <div id=\"df-b12e56a3-e583-4582-9267-b53cd8b7897a\">\n",
              "      <button class=\"colab-df-quickchart\" onclick=\"quickchart('df-b12e56a3-e583-4582-9267-b53cd8b7897a')\"\n",
              "              title=\"Suggest charts.\"\n",
              "              style=\"display:none;\">\n",
              "\n",
              "<svg xmlns=\"http://www.w3.org/2000/svg\" height=\"24px\"viewBox=\"0 0 24 24\"\n",
              "     width=\"24px\">\n",
              "    <g>\n",
              "        <path d=\"M19 3H5c-1.1 0-2 .9-2 2v14c0 1.1.9 2 2 2h14c1.1 0 2-.9 2-2V5c0-1.1-.9-2-2-2zM9 17H7v-7h2v7zm4 0h-2V7h2v10zm4 0h-2v-4h2v4z\"/>\n",
              "    </g>\n",
              "</svg>\n",
              "      </button>\n",
              "    </div>\n",
              "\n",
              "<style>\n",
              "  .colab-df-quickchart {\n",
              "    background-color: #E8F0FE;\n",
              "    border: none;\n",
              "    border-radius: 50%;\n",
              "    cursor: pointer;\n",
              "    display: none;\n",
              "    fill: #1967D2;\n",
              "    height: 32px;\n",
              "    padding: 0 0 0 0;\n",
              "    width: 32px;\n",
              "  }\n",
              "\n",
              "  .colab-df-quickchart:hover {\n",
              "    background-color: #E2EBFA;\n",
              "    box-shadow: 0px 1px 2px rgba(60, 64, 67, 0.3), 0px 1px 3px 1px rgba(60, 64, 67, 0.15);\n",
              "    fill: #174EA6;\n",
              "  }\n",
              "\n",
              "  [theme=dark] .colab-df-quickchart {\n",
              "    background-color: #3B4455;\n",
              "    fill: #D2E3FC;\n",
              "  }\n",
              "\n",
              "  [theme=dark] .colab-df-quickchart:hover {\n",
              "    background-color: #434B5C;\n",
              "    box-shadow: 0px 1px 3px 1px rgba(0, 0, 0, 0.15);\n",
              "    filter: drop-shadow(0px 1px 2px rgba(0, 0, 0, 0.3));\n",
              "    fill: #FFFFFF;\n",
              "  }\n",
              "</style>\n",
              "\n",
              "    <script>\n",
              "      async function quickchart(key) {\n",
              "        const containerElement = document.querySelector('#' + key);\n",
              "        const charts = await google.colab.kernel.invokeFunction(\n",
              "            'suggestCharts', [key], {});\n",
              "      }\n",
              "    </script>\n",
              "\n",
              "      <script>\n",
              "\n",
              "function displayQuickchartButton(domScope) {\n",
              "  let quickchartButtonEl =\n",
              "    domScope.querySelector('#df-b12e56a3-e583-4582-9267-b53cd8b7897a button.colab-df-quickchart');\n",
              "  quickchartButtonEl.style.display =\n",
              "    google.colab.kernel.accessAllowed ? 'block' : 'none';\n",
              "}\n",
              "\n",
              "        displayQuickchartButton(document);\n",
              "      </script>\n",
              "      <style>\n",
              "    .colab-df-container {\n",
              "      display:flex;\n",
              "      flex-wrap:wrap;\n",
              "      gap: 12px;\n",
              "    }\n",
              "\n",
              "    .colab-df-convert {\n",
              "      background-color: #E8F0FE;\n",
              "      border: none;\n",
              "      border-radius: 50%;\n",
              "      cursor: pointer;\n",
              "      display: none;\n",
              "      fill: #1967D2;\n",
              "      height: 32px;\n",
              "      padding: 0 0 0 0;\n",
              "      width: 32px;\n",
              "    }\n",
              "\n",
              "    .colab-df-convert:hover {\n",
              "      background-color: #E2EBFA;\n",
              "      box-shadow: 0px 1px 2px rgba(60, 64, 67, 0.3), 0px 1px 3px 1px rgba(60, 64, 67, 0.15);\n",
              "      fill: #174EA6;\n",
              "    }\n",
              "\n",
              "    [theme=dark] .colab-df-convert {\n",
              "      background-color: #3B4455;\n",
              "      fill: #D2E3FC;\n",
              "    }\n",
              "\n",
              "    [theme=dark] .colab-df-convert:hover {\n",
              "      background-color: #434B5C;\n",
              "      box-shadow: 0px 1px 3px 1px rgba(0, 0, 0, 0.15);\n",
              "      filter: drop-shadow(0px 1px 2px rgba(0, 0, 0, 0.3));\n",
              "      fill: #FFFFFF;\n",
              "    }\n",
              "  </style>\n",
              "\n",
              "      <script>\n",
              "        const buttonEl =\n",
              "          document.querySelector('#df-984c3ec1-6f3f-42c6-a37a-a08a33badc60 button.colab-df-convert');\n",
              "        buttonEl.style.display =\n",
              "          google.colab.kernel.accessAllowed ? 'block' : 'none';\n",
              "\n",
              "        async function convertToInteractive(key) {\n",
              "          const element = document.querySelector('#df-984c3ec1-6f3f-42c6-a37a-a08a33badc60');\n",
              "          const dataTable =\n",
              "            await google.colab.kernel.invokeFunction('convertToInteractive',\n",
              "                                                     [key], {});\n",
              "          if (!dataTable) return;\n",
              "\n",
              "          const docLinkHtml = 'Like what you see? Visit the ' +\n",
              "            '<a target=\"_blank\" href=https://colab.research.google.com/notebooks/data_table.ipynb>data table notebook</a>'\n",
              "            + ' to learn more about interactive tables.';\n",
              "          element.innerHTML = '';\n",
              "          dataTable['output_type'] = 'display_data';\n",
              "          await google.colab.output.renderOutput(dataTable, element);\n",
              "          const docLink = document.createElement('div');\n",
              "          docLink.innerHTML = docLinkHtml;\n",
              "          element.appendChild(docLink);\n",
              "        }\n",
              "      </script>\n",
              "    </div>\n",
              "  </div>\n"
            ]
          },
          "metadata": {}
        }
      ],
      "source": [
        "for col in ['sum_rougher_input_feed', 'sum_rougher_output_concentrate', 'sum_primary_output_concentrate', 'sum_final_output']:\n",
        "     gold_recovery_full_new = gold_recovery_full_new[gold_recovery_full_new[col]>0]\n",
        "\n",
        "display(gold_recovery_full_new.head(10))"
      ]
    },
    {
      "cell_type": "markdown",
      "metadata": {
        "id": "sakaEZYo9DV9"
      },
      "source": [
        "Добавляем в тестовый датасет данные из полного датасета:"
      ]
    },
    {
      "cell_type": "code",
      "execution_count": 17,
      "metadata": {
        "id": "G90I7aYt9DV-",
        "outputId": "32eaebcc-d533-463f-87a4-ae7dbb10ae40",
        "colab": {
          "base_uri": "https://localhost:8080/",
          "height": 275
        }
      },
      "outputs": [
        {
          "output_type": "display_data",
          "data": {
            "text/plain": [
              "                  date  rougher.input.feed_au  rougher.input.feed_ag  \\\n",
              "0  2017-12-09 14:59:59               4.365491               6.158718   \n",
              "1  2017-12-09 15:59:59               4.362781               6.048130   \n",
              "\n",
              "   rougher.input.feed_pb  rougher.input.feed_sol  rougher.input.feed_rate  \\\n",
              "0               3.875727               39.135119               555.820208   \n",
              "1               3.902537               39.713906               544.731687   \n",
              "\n",
              "   rougher.input.feed_size  rougher.input.floatbank10_sulfate  \\\n",
              "0                94.544358                           6.146982   \n",
              "1               123.742430                           6.210119   \n",
              "\n",
              "   rougher.input.floatbank10_xanthate  rougher.state.floatbank10_a_air  ...  \\\n",
              "0                            9.308612                      1196.238112  ...   \n",
              "1                            9.297709                      1201.904177  ...   \n",
              "\n",
              "   secondary_cleaner.state.floatbank4_b_air  \\\n",
              "0                                 20.020205   \n",
              "1                                 20.054122   \n",
              "\n",
              "   secondary_cleaner.state.floatbank4_b_level  \\\n",
              "0                                 -500.220296   \n",
              "1                                 -500.314711   \n",
              "\n",
              "   secondary_cleaner.state.floatbank5_a_air  \\\n",
              "0                                 17.963512   \n",
              "1                                 17.979515   \n",
              "\n",
              "   secondary_cleaner.state.floatbank5_a_level  \\\n",
              "0                                 -499.939490   \n",
              "1                                 -499.272871   \n",
              "\n",
              "   secondary_cleaner.state.floatbank5_b_air  \\\n",
              "0                                 12.990306   \n",
              "1                                 12.992404   \n",
              "\n",
              "   secondary_cleaner.state.floatbank5_b_level  \\\n",
              "0                                 -500.080993   \n",
              "1                                 -499.976268   \n",
              "\n",
              "   secondary_cleaner.state.floatbank6_a_air  \\\n",
              "0                                 19.990336   \n",
              "1                                 20.013986   \n",
              "\n",
              "   secondary_cleaner.state.floatbank6_a_level  rougher.output.recovery  \\\n",
              "0                                 -499.191575                89.514960   \n",
              "1                                 -500.625471                89.858126   \n",
              "\n",
              "   final.output.recovery  \n",
              "0              70.281454  \n",
              "1              65.523246  \n",
              "\n",
              "[2 rows x 55 columns]"
            ],
            "text/html": [
              "\n",
              "\n",
              "  <div id=\"df-b34bd5c5-4ef5-4245-819f-3ab02870b1e2\">\n",
              "    <div class=\"colab-df-container\">\n",
              "      <div>\n",
              "<style scoped>\n",
              "    .dataframe tbody tr th:only-of-type {\n",
              "        vertical-align: middle;\n",
              "    }\n",
              "\n",
              "    .dataframe tbody tr th {\n",
              "        vertical-align: top;\n",
              "    }\n",
              "\n",
              "    .dataframe thead th {\n",
              "        text-align: right;\n",
              "    }\n",
              "</style>\n",
              "<table border=\"1\" class=\"dataframe\">\n",
              "  <thead>\n",
              "    <tr style=\"text-align: right;\">\n",
              "      <th></th>\n",
              "      <th>date</th>\n",
              "      <th>rougher.input.feed_au</th>\n",
              "      <th>rougher.input.feed_ag</th>\n",
              "      <th>rougher.input.feed_pb</th>\n",
              "      <th>rougher.input.feed_sol</th>\n",
              "      <th>rougher.input.feed_rate</th>\n",
              "      <th>rougher.input.feed_size</th>\n",
              "      <th>rougher.input.floatbank10_sulfate</th>\n",
              "      <th>rougher.input.floatbank10_xanthate</th>\n",
              "      <th>rougher.state.floatbank10_a_air</th>\n",
              "      <th>...</th>\n",
              "      <th>secondary_cleaner.state.floatbank4_b_air</th>\n",
              "      <th>secondary_cleaner.state.floatbank4_b_level</th>\n",
              "      <th>secondary_cleaner.state.floatbank5_a_air</th>\n",
              "      <th>secondary_cleaner.state.floatbank5_a_level</th>\n",
              "      <th>secondary_cleaner.state.floatbank5_b_air</th>\n",
              "      <th>secondary_cleaner.state.floatbank5_b_level</th>\n",
              "      <th>secondary_cleaner.state.floatbank6_a_air</th>\n",
              "      <th>secondary_cleaner.state.floatbank6_a_level</th>\n",
              "      <th>rougher.output.recovery</th>\n",
              "      <th>final.output.recovery</th>\n",
              "    </tr>\n",
              "  </thead>\n",
              "  <tbody>\n",
              "    <tr>\n",
              "      <th>0</th>\n",
              "      <td>2017-12-09 14:59:59</td>\n",
              "      <td>4.365491</td>\n",
              "      <td>6.158718</td>\n",
              "      <td>3.875727</td>\n",
              "      <td>39.135119</td>\n",
              "      <td>555.820208</td>\n",
              "      <td>94.544358</td>\n",
              "      <td>6.146982</td>\n",
              "      <td>9.308612</td>\n",
              "      <td>1196.238112</td>\n",
              "      <td>...</td>\n",
              "      <td>20.020205</td>\n",
              "      <td>-500.220296</td>\n",
              "      <td>17.963512</td>\n",
              "      <td>-499.939490</td>\n",
              "      <td>12.990306</td>\n",
              "      <td>-500.080993</td>\n",
              "      <td>19.990336</td>\n",
              "      <td>-499.191575</td>\n",
              "      <td>89.514960</td>\n",
              "      <td>70.281454</td>\n",
              "    </tr>\n",
              "    <tr>\n",
              "      <th>1</th>\n",
              "      <td>2017-12-09 15:59:59</td>\n",
              "      <td>4.362781</td>\n",
              "      <td>6.048130</td>\n",
              "      <td>3.902537</td>\n",
              "      <td>39.713906</td>\n",
              "      <td>544.731687</td>\n",
              "      <td>123.742430</td>\n",
              "      <td>6.210119</td>\n",
              "      <td>9.297709</td>\n",
              "      <td>1201.904177</td>\n",
              "      <td>...</td>\n",
              "      <td>20.054122</td>\n",
              "      <td>-500.314711</td>\n",
              "      <td>17.979515</td>\n",
              "      <td>-499.272871</td>\n",
              "      <td>12.992404</td>\n",
              "      <td>-499.976268</td>\n",
              "      <td>20.013986</td>\n",
              "      <td>-500.625471</td>\n",
              "      <td>89.858126</td>\n",
              "      <td>65.523246</td>\n",
              "    </tr>\n",
              "  </tbody>\n",
              "</table>\n",
              "<p>2 rows × 55 columns</p>\n",
              "</div>\n",
              "      <button class=\"colab-df-convert\" onclick=\"convertToInteractive('df-b34bd5c5-4ef5-4245-819f-3ab02870b1e2')\"\n",
              "              title=\"Convert this dataframe to an interactive table.\"\n",
              "              style=\"display:none;\">\n",
              "\n",
              "  <svg xmlns=\"http://www.w3.org/2000/svg\" height=\"24px\"viewBox=\"0 0 24 24\"\n",
              "       width=\"24px\">\n",
              "    <path d=\"M0 0h24v24H0V0z\" fill=\"none\"/>\n",
              "    <path d=\"M18.56 5.44l.94 2.06.94-2.06 2.06-.94-2.06-.94-.94-2.06-.94 2.06-2.06.94zm-11 1L8.5 8.5l.94-2.06 2.06-.94-2.06-.94L8.5 2.5l-.94 2.06-2.06.94zm10 10l.94 2.06.94-2.06 2.06-.94-2.06-.94-.94-2.06-.94 2.06-2.06.94z\"/><path d=\"M17.41 7.96l-1.37-1.37c-.4-.4-.92-.59-1.43-.59-.52 0-1.04.2-1.43.59L10.3 9.45l-7.72 7.72c-.78.78-.78 2.05 0 2.83L4 21.41c.39.39.9.59 1.41.59.51 0 1.02-.2 1.41-.59l7.78-7.78 2.81-2.81c.8-.78.8-2.07 0-2.86zM5.41 20L4 18.59l7.72-7.72 1.47 1.35L5.41 20z\"/>\n",
              "  </svg>\n",
              "      </button>\n",
              "\n",
              "\n",
              "\n",
              "    <div id=\"df-54e8c01b-b407-45a9-82af-4c4d1bb7e379\">\n",
              "      <button class=\"colab-df-quickchart\" onclick=\"quickchart('df-54e8c01b-b407-45a9-82af-4c4d1bb7e379')\"\n",
              "              title=\"Suggest charts.\"\n",
              "              style=\"display:none;\">\n",
              "\n",
              "<svg xmlns=\"http://www.w3.org/2000/svg\" height=\"24px\"viewBox=\"0 0 24 24\"\n",
              "     width=\"24px\">\n",
              "    <g>\n",
              "        <path d=\"M19 3H5c-1.1 0-2 .9-2 2v14c0 1.1.9 2 2 2h14c1.1 0 2-.9 2-2V5c0-1.1-.9-2-2-2zM9 17H7v-7h2v7zm4 0h-2V7h2v10zm4 0h-2v-4h2v4z\"/>\n",
              "    </g>\n",
              "</svg>\n",
              "      </button>\n",
              "    </div>\n",
              "\n",
              "<style>\n",
              "  .colab-df-quickchart {\n",
              "    background-color: #E8F0FE;\n",
              "    border: none;\n",
              "    border-radius: 50%;\n",
              "    cursor: pointer;\n",
              "    display: none;\n",
              "    fill: #1967D2;\n",
              "    height: 32px;\n",
              "    padding: 0 0 0 0;\n",
              "    width: 32px;\n",
              "  }\n",
              "\n",
              "  .colab-df-quickchart:hover {\n",
              "    background-color: #E2EBFA;\n",
              "    box-shadow: 0px 1px 2px rgba(60, 64, 67, 0.3), 0px 1px 3px 1px rgba(60, 64, 67, 0.15);\n",
              "    fill: #174EA6;\n",
              "  }\n",
              "\n",
              "  [theme=dark] .colab-df-quickchart {\n",
              "    background-color: #3B4455;\n",
              "    fill: #D2E3FC;\n",
              "  }\n",
              "\n",
              "  [theme=dark] .colab-df-quickchart:hover {\n",
              "    background-color: #434B5C;\n",
              "    box-shadow: 0px 1px 3px 1px rgba(0, 0, 0, 0.15);\n",
              "    filter: drop-shadow(0px 1px 2px rgba(0, 0, 0, 0.3));\n",
              "    fill: #FFFFFF;\n",
              "  }\n",
              "</style>\n",
              "\n",
              "    <script>\n",
              "      async function quickchart(key) {\n",
              "        const containerElement = document.querySelector('#' + key);\n",
              "        const charts = await google.colab.kernel.invokeFunction(\n",
              "            'suggestCharts', [key], {});\n",
              "      }\n",
              "    </script>\n",
              "\n",
              "      <script>\n",
              "\n",
              "function displayQuickchartButton(domScope) {\n",
              "  let quickchartButtonEl =\n",
              "    domScope.querySelector('#df-54e8c01b-b407-45a9-82af-4c4d1bb7e379 button.colab-df-quickchart');\n",
              "  quickchartButtonEl.style.display =\n",
              "    google.colab.kernel.accessAllowed ? 'block' : 'none';\n",
              "}\n",
              "\n",
              "        displayQuickchartButton(document);\n",
              "      </script>\n",
              "      <style>\n",
              "    .colab-df-container {\n",
              "      display:flex;\n",
              "      flex-wrap:wrap;\n",
              "      gap: 12px;\n",
              "    }\n",
              "\n",
              "    .colab-df-convert {\n",
              "      background-color: #E8F0FE;\n",
              "      border: none;\n",
              "      border-radius: 50%;\n",
              "      cursor: pointer;\n",
              "      display: none;\n",
              "      fill: #1967D2;\n",
              "      height: 32px;\n",
              "      padding: 0 0 0 0;\n",
              "      width: 32px;\n",
              "    }\n",
              "\n",
              "    .colab-df-convert:hover {\n",
              "      background-color: #E2EBFA;\n",
              "      box-shadow: 0px 1px 2px rgba(60, 64, 67, 0.3), 0px 1px 3px 1px rgba(60, 64, 67, 0.15);\n",
              "      fill: #174EA6;\n",
              "    }\n",
              "\n",
              "    [theme=dark] .colab-df-convert {\n",
              "      background-color: #3B4455;\n",
              "      fill: #D2E3FC;\n",
              "    }\n",
              "\n",
              "    [theme=dark] .colab-df-convert:hover {\n",
              "      background-color: #434B5C;\n",
              "      box-shadow: 0px 1px 3px 1px rgba(0, 0, 0, 0.15);\n",
              "      filter: drop-shadow(0px 1px 2px rgba(0, 0, 0, 0.3));\n",
              "      fill: #FFFFFF;\n",
              "    }\n",
              "  </style>\n",
              "\n",
              "      <script>\n",
              "        const buttonEl =\n",
              "          document.querySelector('#df-b34bd5c5-4ef5-4245-819f-3ab02870b1e2 button.colab-df-convert');\n",
              "        buttonEl.style.display =\n",
              "          google.colab.kernel.accessAllowed ? 'block' : 'none';\n",
              "\n",
              "        async function convertToInteractive(key) {\n",
              "          const element = document.querySelector('#df-b34bd5c5-4ef5-4245-819f-3ab02870b1e2');\n",
              "          const dataTable =\n",
              "            await google.colab.kernel.invokeFunction('convertToInteractive',\n",
              "                                                     [key], {});\n",
              "          if (!dataTable) return;\n",
              "\n",
              "          const docLinkHtml = 'Like what you see? Visit the ' +\n",
              "            '<a target=\"_blank\" href=https://colab.research.google.com/notebooks/data_table.ipynb>data table notebook</a>'\n",
              "            + ' to learn more about interactive tables.';\n",
              "          element.innerHTML = '';\n",
              "          dataTable['output_type'] = 'display_data';\n",
              "          await google.colab.output.renderOutput(dataTable, element);\n",
              "          const docLink = document.createElement('div');\n",
              "          docLink.innerHTML = docLinkHtml;\n",
              "          element.appendChild(docLink);\n",
              "        }\n",
              "      </script>\n",
              "    </div>\n",
              "  </div>\n"
            ]
          },
          "metadata": {}
        }
      ],
      "source": [
        "gold_recovery_test_new = gold_recovery_test_new.merge(gold_recovery_full_new[['rougher.output.recovery', 'final.output.recovery', 'date']], how = 'inner', on= 'date')\n",
        "display(gold_recovery_test_new.head(2))"
      ]
    },
    {
      "cell_type": "markdown",
      "source": [
        "Для всех датасетов делаем индексом дату из полного датасета:"
      ],
      "metadata": {
        "id": "JlBd_mIwG83H"
      }
    },
    {
      "cell_type": "code",
      "execution_count": 18,
      "metadata": {
        "id": "f6o5vnRZ9DWA"
      },
      "outputs": [],
      "source": [
        "gold_recovery_train = gold_recovery_train.set_index('date')\n",
        "gold_recovery_full_new = gold_recovery_full_new.set_index('date')\n",
        "gold_recovery_train = gold_recovery_train.loc[gold_recovery_train.index.isin(gold_recovery_full_new.index)]"
      ]
    },
    {
      "cell_type": "markdown",
      "source": [
        "Сравниваем распределения размеров гранул сырья на обучающей и тестовой выборках.\n",
        "\n",
        "Если распределения сильно отличаются друг от друга, оценка модели будет неправильной.\n",
        "\n",
        "Используем график плотности."
      ],
      "metadata": {
        "id": "NeUlhkcKGNmT"
      }
    },
    {
      "cell_type": "code",
      "execution_count": 19,
      "metadata": {
        "id": "ZmILSg4G9DWE",
        "outputId": "1b512929-da96-4b5c-863f-871f4fbfd394",
        "colab": {
          "base_uri": "https://localhost:8080/",
          "height": 726
        }
      },
      "outputs": [
        {
          "output_type": "display_data",
          "data": {
            "text/plain": [
              "<Figure size 800x800 with 1 Axes>"
            ],
            "image/png": "[encoded data removed]"
          },
          "metadata": {}
        }
      ],
      "source": [
        "plt.figure(figsize=[8, 8])\n",
        "plt.title('Распределение гранул сырья', fontsize=20)\n",
        "plt.hist(gold_recovery_train[f'rougher.input.feed_size'], color='green', label='Обучающая выборка', density=True)\n",
        "plt.hist(gold_recovery_test_new[f'rougher.input.feed_size'], color='red', label='Тестовая выборка', density=True)\n",
        "plt.xlabel('Размер гранул')\n",
        "plt.ylabel('Количество наблюдений')\n",
        "plt.legend()\n",
        "plt.show()"
      ]
    },
    {
      "cell_type": "markdown",
      "metadata": {
        "id": "C9gKQbKw9DWF"
      },
      "source": [
        "Распределения примерно одинаковы."
      ]
    },
    {
      "cell_type": "markdown",
      "metadata": {
        "id": "56tPZzYv9DWG"
      },
      "source": [
        "## Модель"
      ]
    },
    {
      "cell_type": "markdown",
      "metadata": {
        "id": "pigqqeRm9DWG"
      },
      "source": [
        "### Подготавливаем данные для модели."
      ]
    },
    {
      "cell_type": "markdown",
      "metadata": {
        "id": "AOV5FivF9DWH"
      },
      "source": [
        "Удаляем характеристики, котоыре  получают после завершения тех.процессов из трен.выборки. А нам нужны данные ДО.\n",
        "\n",
        "Смотрим какие колонки из теста нужно оставить в трейне. Дата идет первая - ее не рассматриваем."
      ]
    },
    {
      "cell_type": "code",
      "execution_count": 20,
      "metadata": {
        "id": "RkbitYtV9DWI",
        "outputId": "d2179c5f-61c3-4c70-ca36-5124d5b10a4e",
        "colab": {
          "base_uri": "https://localhost:8080/"
        }
      },
      "outputs": [
        {
          "output_type": "stream",
          "name": "stdout",
          "text": [
            "['rougher.input.feed_au', 'rougher.input.feed_ag', 'rougher.input.feed_pb', 'rougher.input.feed_sol', 'rougher.input.feed_rate', 'rougher.input.feed_size', 'rougher.input.floatbank10_sulfate', 'rougher.input.floatbank10_xanthate', 'rougher.state.floatbank10_a_air', 'rougher.state.floatbank10_a_level', 'rougher.state.floatbank10_b_air', 'rougher.state.floatbank10_b_level', 'rougher.state.floatbank10_c_air', 'rougher.state.floatbank10_c_level', 'rougher.state.floatbank10_d_air', 'rougher.state.floatbank10_d_level', 'rougher.state.floatbank10_e_air', 'rougher.state.floatbank10_e_level', 'rougher.state.floatbank10_f_air', 'rougher.state.floatbank10_f_level', 'rougher.input.floatbank11_sulfate', 'rougher.input.floatbank11_xanthate', 'primary_cleaner.input.sulfate', 'primary_cleaner.input.depressant', 'primary_cleaner.input.feed_size', 'primary_cleaner.input.xanthate', 'primary_cleaner.state.floatbank8_a_air', 'primary_cleaner.state.floatbank8_a_level', 'primary_cleaner.state.floatbank8_b_air', 'primary_cleaner.state.floatbank8_b_level', 'primary_cleaner.state.floatbank8_c_air', 'primary_cleaner.state.floatbank8_c_level', 'primary_cleaner.state.floatbank8_d_air', 'primary_cleaner.state.floatbank8_d_level', 'secondary_cleaner.state.floatbank2_a_air', 'secondary_cleaner.state.floatbank2_a_level', 'secondary_cleaner.state.floatbank2_b_air', 'secondary_cleaner.state.floatbank2_b_level', 'secondary_cleaner.state.floatbank3_a_air', 'secondary_cleaner.state.floatbank3_a_level', 'secondary_cleaner.state.floatbank3_b_air', 'secondary_cleaner.state.floatbank3_b_level', 'secondary_cleaner.state.floatbank4_a_air', 'secondary_cleaner.state.floatbank4_a_level', 'secondary_cleaner.state.floatbank4_b_air', 'secondary_cleaner.state.floatbank4_b_level', 'secondary_cleaner.state.floatbank5_a_air', 'secondary_cleaner.state.floatbank5_a_level', 'secondary_cleaner.state.floatbank5_b_air', 'secondary_cleaner.state.floatbank5_b_level', 'secondary_cleaner.state.floatbank6_a_air', 'secondary_cleaner.state.floatbank6_a_level', 'rougher.output.recovery', 'final.output.recovery']\n"
          ]
        }
      ],
      "source": [
        "features_train_col = list(gold_recovery_test_new.columns)[1:]\n",
        "print(features_train_col)"
      ]
    },
    {
      "cell_type": "markdown",
      "metadata": {
        "id": "p7-p7Uc39DWI"
      },
      "source": [
        "Чистим тренировочный датасет: оставляем только стобцы из теста + целевые."
      ]
    },
    {
      "cell_type": "code",
      "execution_count": 21,
      "metadata": {
        "id": "ErD8ioFV9DWJ",
        "outputId": "8aeccc04-74c8-450c-adfd-bc06fea485df",
        "colab": {
          "base_uri": "https://localhost:8080/",
          "height": 835
        }
      },
      "outputs": [
        {
          "output_type": "display_data",
          "data": {
            "text/plain": [
              "                     primary_cleaner.input.sulfate  \\\n",
              "date                                                 \n",
              "2016-01-15 00:00:00                     127.092003   \n",
              "2016-01-15 01:00:00                     125.629232   \n",
              "2016-01-15 02:00:00                     123.819808   \n",
              "2016-01-15 03:00:00                     122.270188   \n",
              "2016-01-15 04:00:00                     117.988169   \n",
              "2016-01-15 05:00:00                     115.581252   \n",
              "2016-01-15 06:00:00                     117.322323   \n",
              "2016-01-15 07:00:00                     124.592960   \n",
              "2016-01-15 08:00:00                     131.781026   \n",
              "2016-01-15 09:00:00                     146.153696   \n",
              "\n",
              "                     primary_cleaner.input.depressant  \\\n",
              "date                                                    \n",
              "2016-01-15 00:00:00                         10.128295   \n",
              "2016-01-15 01:00:00                         10.296251   \n",
              "2016-01-15 02:00:00                         11.316280   \n",
              "2016-01-15 03:00:00                         11.322140   \n",
              "2016-01-15 04:00:00                         11.913613   \n",
              "2016-01-15 05:00:00                         12.470773   \n",
              "2016-01-15 06:00:00                         12.469088   \n",
              "2016-01-15 07:00:00                         12.467403   \n",
              "2016-01-15 08:00:00                         12.465718   \n",
              "2016-01-15 09:00:00                         12.464385   \n",
              "\n",
              "                     primary_cleaner.input.feed_size  \\\n",
              "date                                                   \n",
              "2016-01-15 00:00:00                             7.25   \n",
              "2016-01-15 01:00:00                             7.25   \n",
              "2016-01-15 02:00:00                             7.25   \n",
              "2016-01-15 03:00:00                             7.25   \n",
              "2016-01-15 04:00:00                             7.25   \n",
              "2016-01-15 05:00:00                             7.25   \n",
              "2016-01-15 06:00:00                             7.25   \n",
              "2016-01-15 07:00:00                             7.25   \n",
              "2016-01-15 08:00:00                             7.25   \n",
              "2016-01-15 09:00:00                             7.25   \n",
              "\n",
              "                     primary_cleaner.input.xanthate  \\\n",
              "date                                                  \n",
              "2016-01-15 00:00:00                        0.988759   \n",
              "2016-01-15 01:00:00                        1.002663   \n",
              "2016-01-15 02:00:00                        0.991265   \n",
              "2016-01-15 03:00:00                        0.996739   \n",
              "2016-01-15 04:00:00                        1.009869   \n",
              "2016-01-15 05:00:00                        0.965760   \n",
              "2016-01-15 06:00:00                        0.895207   \n",
              "2016-01-15 07:00:00                        0.901202   \n",
              "2016-01-15 08:00:00                        0.885535   \n",
              "2016-01-15 09:00:00                        0.897431   \n",
              "\n",
              "                     primary_cleaner.state.floatbank8_a_air  \\\n",
              "date                                                          \n",
              "2016-01-15 00:00:00                             1549.775757   \n",
              "2016-01-15 01:00:00                             1576.166671   \n",
              "2016-01-15 02:00:00                             1601.556163   \n",
              "2016-01-15 03:00:00                             1599.968720   \n",
              "2016-01-15 04:00:00                             1601.339707   \n",
              "2016-01-15 05:00:00                             1602.964922   \n",
              "2016-01-15 06:00:00                             1597.532455   \n",
              "2016-01-15 07:00:00                             1597.946266   \n",
              "2016-01-15 08:00:00                             1601.670053   \n",
              "2016-01-15 09:00:00                             1601.066985   \n",
              "\n",
              "                     primary_cleaner.state.floatbank8_a_level  \\\n",
              "date                                                            \n",
              "2016-01-15 00:00:00                               -498.912140   \n",
              "2016-01-15 01:00:00                               -500.904965   \n",
              "2016-01-15 02:00:00                               -499.997791   \n",
              "2016-01-15 03:00:00                               -500.951778   \n",
              "2016-01-15 04:00:00                               -498.975456   \n",
              "2016-01-15 05:00:00                               -498.090944   \n",
              "2016-01-15 06:00:00                               -500.985364   \n",
              "2016-01-15 07:00:00                               -501.592304   \n",
              "2016-01-15 08:00:00                               -499.548891   \n",
              "2016-01-15 09:00:00                               -499.830641   \n",
              "\n",
              "                     primary_cleaner.state.floatbank8_b_air  \\\n",
              "date                                                          \n",
              "2016-01-15 00:00:00                             1551.434204   \n",
              "2016-01-15 01:00:00                             1575.950626   \n",
              "2016-01-15 02:00:00                             1600.386685   \n",
              "2016-01-15 03:00:00                             1600.659236   \n",
              "2016-01-15 04:00:00                             1601.437854   \n",
              "2016-01-15 05:00:00                             1602.074298   \n",
              "2016-01-15 06:00:00                             1602.816321   \n",
              "2016-01-15 07:00:00                             1601.078254   \n",
              "2016-01-15 08:00:00                             1598.804355   \n",
              "2016-01-15 09:00:00                             1599.806933   \n",
              "\n",
              "                     primary_cleaner.state.floatbank8_b_level  \\\n",
              "date                                                            \n",
              "2016-01-15 00:00:00                               -516.403442   \n",
              "2016-01-15 01:00:00                               -499.865889   \n",
              "2016-01-15 02:00:00                               -500.607762   \n",
              "2016-01-15 03:00:00                               -499.677094   \n",
              "2016-01-15 04:00:00                               -500.323246   \n",
              "2016-01-15 05:00:00                               -500.179481   \n",
              "2016-01-15 06:00:00                               -500.696736   \n",
              "2016-01-15 07:00:00                               -499.494115   \n",
              "2016-01-15 08:00:00                               -499.689644   \n",
              "2016-01-15 09:00:00                               -500.600490   \n",
              "\n",
              "                     primary_cleaner.state.floatbank8_c_air  \\\n",
              "date                                                          \n",
              "2016-01-15 00:00:00                             1549.873901   \n",
              "2016-01-15 01:00:00                             1575.994189   \n",
              "2016-01-15 02:00:00                             1602.003542   \n",
              "2016-01-15 03:00:00                             1600.304144   \n",
              "2016-01-15 04:00:00                             1599.581894   \n",
              "2016-01-15 05:00:00                             1602.154812   \n",
              "2016-01-15 06:00:00                             1603.572091   \n",
              "2016-01-15 07:00:00                             1602.630688   \n",
              "2016-01-15 08:00:00                             1601.689285   \n",
              "2016-01-15 09:00:00                             1599.164142   \n",
              "\n",
              "                     primary_cleaner.state.floatbank8_c_level  ...  \\\n",
              "date                                                           ...   \n",
              "2016-01-15 00:00:00                               -498.666595  ...   \n",
              "2016-01-15 01:00:00                               -499.315107  ...   \n",
              "2016-01-15 02:00:00                               -500.870069  ...   \n",
              "2016-01-15 03:00:00                               -500.727997  ...   \n",
              "2016-01-15 04:00:00                               -500.888152  ...   \n",
              "2016-01-15 05:00:00                               -498.642614  ...   \n",
              "2016-01-15 06:00:00                               -500.256955  ...   \n",
              "2016-01-15 07:00:00                               -500.173741  ...   \n",
              "2016-01-15 08:00:00                               -500.484957  ...   \n",
              "2016-01-15 09:00:00                               -499.334459  ...   \n",
              "\n",
              "                     secondary_cleaner.state.floatbank4_b_air  \\\n",
              "date                                                            \n",
              "2016-01-15 00:00:00                                 12.099931   \n",
              "2016-01-15 01:00:00                                 11.950531   \n",
              "2016-01-15 02:00:00                                 11.912783   \n",
              "2016-01-15 03:00:00                                 11.999550   \n",
              "2016-01-15 04:00:00                                 11.953070   \n",
              "2016-01-15 05:00:00                                 11.883350   \n",
              "2016-01-15 06:00:00                                 12.091543   \n",
              "2016-01-15 07:00:00                                 12.101324   \n",
              "2016-01-15 08:00:00                                 12.060738   \n",
              "2016-01-15 09:00:00                                 11.995903   \n",
              "\n",
              "                     secondary_cleaner.state.floatbank4_b_level  \\\n",
              "date                                                              \n",
              "2016-01-15 00:00:00                                 -504.715942   \n",
              "2016-01-15 01:00:00                                 -501.331529   \n",
              "2016-01-15 02:00:00                                 -501.133383   \n",
              "2016-01-15 03:00:00                                 -501.193686   \n",
              "2016-01-15 04:00:00                                 -501.053894   \n",
              "2016-01-15 05:00:00                                 -500.395298   \n",
              "2016-01-15 06:00:00                                 -500.501426   \n",
              "2016-01-15 07:00:00                                 -500.583446   \n",
              "2016-01-15 08:00:00                                 -501.174549   \n",
              "2016-01-15 09:00:00                                 -501.269181   \n",
              "\n",
              "                     secondary_cleaner.state.floatbank5_a_air  \\\n",
              "date                                                            \n",
              "2016-01-15 00:00:00                                  9.925633   \n",
              "2016-01-15 01:00:00                                 10.039245   \n",
              "2016-01-15 02:00:00                                 10.070913   \n",
              "2016-01-15 03:00:00                                  9.970366   \n",
              "2016-01-15 04:00:00                                  9.925709   \n",
              "2016-01-15 05:00:00                                 10.054147   \n",
              "2016-01-15 06:00:00                                 10.003247   \n",
              "2016-01-15 07:00:00                                  9.873169   \n",
              "2016-01-15 08:00:00                                 10.033838   \n",
              "2016-01-15 09:00:00                                 10.043100   \n",
              "\n",
              "                     secondary_cleaner.state.floatbank5_a_level  \\\n",
              "date                                                              \n",
              "2016-01-15 00:00:00                                 -498.310211   \n",
              "2016-01-15 01:00:00                                 -500.169983   \n",
              "2016-01-15 02:00:00                                 -500.129135   \n",
              "2016-01-15 03:00:00                                 -499.201640   \n",
              "2016-01-15 04:00:00                                 -501.686727   \n",
              "2016-01-15 05:00:00                                 -496.374715   \n",
              "2016-01-15 06:00:00                                 -497.083180   \n",
              "2016-01-15 07:00:00                                 -499.171928   \n",
              "2016-01-15 08:00:00                                 -501.178133   \n",
              "2016-01-15 09:00:00                                 -498.529996   \n",
              "\n",
              "                     secondary_cleaner.state.floatbank5_b_air  \\\n",
              "date                                                            \n",
              "2016-01-15 00:00:00                                  8.079666   \n",
              "2016-01-15 01:00:00                                  7.984757   \n",
              "2016-01-15 02:00:00                                  8.013877   \n",
              "2016-01-15 03:00:00                                  7.977324   \n",
              "2016-01-15 04:00:00                                  7.894242   \n",
              "2016-01-15 05:00:00                                  7.965083   \n",
              "2016-01-15 06:00:00                                  8.010890   \n",
              "2016-01-15 07:00:00                                  7.993381   \n",
              "2016-01-15 08:00:00                                  7.881604   \n",
              "2016-01-15 09:00:00                                  8.002633   \n",
              "\n",
              "                     secondary_cleaner.state.floatbank5_b_level  \\\n",
              "date                                                              \n",
              "2016-01-15 00:00:00                                 -500.470978   \n",
              "2016-01-15 01:00:00                                 -500.582168   \n",
              "2016-01-15 02:00:00                                 -500.517572   \n",
              "2016-01-15 03:00:00                                 -500.255908   \n",
              "2016-01-15 04:00:00                                 -500.356035   \n",
              "2016-01-15 05:00:00                                 -499.364752   \n",
              "2016-01-15 06:00:00                                 -500.002423   \n",
              "2016-01-15 07:00:00                                 -499.794518   \n",
              "2016-01-15 08:00:00                                 -499.729434   \n",
              "2016-01-15 09:00:00                                 -499.761922   \n",
              "\n",
              "                     secondary_cleaner.state.floatbank6_a_air  \\\n",
              "date                                                            \n",
              "2016-01-15 00:00:00                                 14.151341   \n",
              "2016-01-15 01:00:00                                 13.998353   \n",
              "2016-01-15 02:00:00                                 14.028663   \n",
              "2016-01-15 03:00:00                                 14.005551   \n",
              "2016-01-15 04:00:00                                 13.996647   \n",
              "2016-01-15 05:00:00                                 14.017067   \n",
              "2016-01-15 06:00:00                                 14.029649   \n",
              "2016-01-15 07:00:00                                 13.984498   \n",
              "2016-01-15 08:00:00                                 13.967135   \n",
              "2016-01-15 09:00:00                                 14.004767   \n",
              "\n",
              "                     secondary_cleaner.state.floatbank6_a_level  \\\n",
              "date                                                              \n",
              "2016-01-15 00:00:00                                 -605.841980   \n",
              "2016-01-15 01:00:00                                 -599.787184   \n",
              "2016-01-15 02:00:00                                 -601.427363   \n",
              "2016-01-15 03:00:00                                 -599.996129   \n",
              "2016-01-15 04:00:00                                 -601.496691   \n",
              "2016-01-15 05:00:00                                 -599.707915   \n",
              "2016-01-15 06:00:00                                 -600.905470   \n",
              "2016-01-15 07:00:00                                 -600.411070   \n",
              "2016-01-15 08:00:00                                 -599.061188   \n",
              "2016-01-15 09:00:00                                 -599.595324   \n",
              "\n",
              "                     rougher.output.recovery  final.output.recovery  \n",
              "date                                                                 \n",
              "2016-01-15 00:00:00                87.107763              70.541216  \n",
              "2016-01-15 01:00:00                86.843261              69.266198  \n",
              "2016-01-15 02:00:00                86.842308              68.116445  \n",
              "2016-01-15 03:00:00                87.226430              68.347543  \n",
              "2016-01-15 04:00:00                86.688794              66.927016  \n",
              "2016-01-15 05:00:00                88.156912              69.465816  \n",
              "2016-01-15 06:00:00                88.168065              69.300835  \n",
              "2016-01-15 07:00:00                87.668336              70.230976  \n",
              "2016-01-15 08:00:00                87.035862              69.688595  \n",
              "2016-01-15 09:00:00                88.280699              70.973641  \n",
              "\n",
              "[10 rows x 54 columns]"
            ],
            "text/html": [
              "\n",
              "\n",
              "  <div id=\"df-a8617933-40d1-422c-a267-f77a4174e8de\">\n",
              "    <div class=\"colab-df-container\">\n",
              "      <div>\n",
              "<style scoped>\n",
              "    .dataframe tbody tr th:only-of-type {\n",
              "        vertical-align: middle;\n",
              "    }\n",
              "\n",
              "    .dataframe tbody tr th {\n",
              "        vertical-align: top;\n",
              "    }\n",
              "\n",
              "    .dataframe thead th {\n",
              "        text-align: right;\n",
              "    }\n",
              "</style>\n",
              "<table border=\"1\" class=\"dataframe\">\n",
              "  <thead>\n",
              "    <tr style=\"text-align: right;\">\n",
              "      <th></th>\n",
              "      <th>primary_cleaner.input.sulfate</th>\n",
              "      <th>primary_cleaner.input.depressant</th>\n",
              "      <th>primary_cleaner.input.feed_size</th>\n",
              "      <th>primary_cleaner.input.xanthate</th>\n",
              "      <th>primary_cleaner.state.floatbank8_a_air</th>\n",
              "      <th>primary_cleaner.state.floatbank8_a_level</th>\n",
              "      <th>primary_cleaner.state.floatbank8_b_air</th>\n",
              "      <th>primary_cleaner.state.floatbank8_b_level</th>\n",
              "      <th>primary_cleaner.state.floatbank8_c_air</th>\n",
              "      <th>primary_cleaner.state.floatbank8_c_level</th>\n",
              "      <th>...</th>\n",
              "      <th>secondary_cleaner.state.floatbank4_b_air</th>\n",
              "      <th>secondary_cleaner.state.floatbank4_b_level</th>\n",
              "      <th>secondary_cleaner.state.floatbank5_a_air</th>\n",
              "      <th>secondary_cleaner.state.floatbank5_a_level</th>\n",
              "      <th>secondary_cleaner.state.floatbank5_b_air</th>\n",
              "      <th>secondary_cleaner.state.floatbank5_b_level</th>\n",
              "      <th>secondary_cleaner.state.floatbank6_a_air</th>\n",
              "      <th>secondary_cleaner.state.floatbank6_a_level</th>\n",
              "      <th>rougher.output.recovery</th>\n",
              "      <th>final.output.recovery</th>\n",
              "    </tr>\n",
              "    <tr>\n",
              "      <th>date</th>\n",
              "      <th></th>\n",
              "      <th></th>\n",
              "      <th></th>\n",
              "      <th></th>\n",
              "      <th></th>\n",
              "      <th></th>\n",
              "      <th></th>\n",
              "      <th></th>\n",
              "      <th></th>\n",
              "      <th></th>\n",
              "      <th></th>\n",
              "      <th></th>\n",
              "      <th></th>\n",
              "      <th></th>\n",
              "      <th></th>\n",
              "      <th></th>\n",
              "      <th></th>\n",
              "      <th></th>\n",
              "      <th></th>\n",
              "      <th></th>\n",
              "      <th></th>\n",
              "    </tr>\n",
              "  </thead>\n",
              "  <tbody>\n",
              "    <tr>\n",
              "      <th>2016-01-15 00:00:00</th>\n",
              "      <td>127.092003</td>\n",
              "      <td>10.128295</td>\n",
              "      <td>7.25</td>\n",
              "      <td>0.988759</td>\n",
              "      <td>1549.775757</td>\n",
              "      <td>-498.912140</td>\n",
              "      <td>1551.434204</td>\n",
              "      <td>-516.403442</td>\n",
              "      <td>1549.873901</td>\n",
              "      <td>-498.666595</td>\n",
              "      <td>...</td>\n",
              "      <td>12.099931</td>\n",
              "      <td>-504.715942</td>\n",
              "      <td>9.925633</td>\n",
              "      <td>-498.310211</td>\n",
              "      <td>8.079666</td>\n",
              "      <td>-500.470978</td>\n",
              "      <td>14.151341</td>\n",
              "      <td>-605.841980</td>\n",
              "      <td>87.107763</td>\n",
              "      <td>70.541216</td>\n",
              "    </tr>\n",
              "    <tr>\n",
              "      <th>2016-01-15 01:00:00</th>\n",
              "      <td>125.629232</td>\n",
              "      <td>10.296251</td>\n",
              "      <td>7.25</td>\n",
              "      <td>1.002663</td>\n",
              "      <td>1576.166671</td>\n",
              "      <td>-500.904965</td>\n",
              "      <td>1575.950626</td>\n",
              "      <td>-499.865889</td>\n",
              "      <td>1575.994189</td>\n",
              "      <td>-499.315107</td>\n",
              "      <td>...</td>\n",
              "      <td>11.950531</td>\n",
              "      <td>-501.331529</td>\n",
              "      <td>10.039245</td>\n",
              "      <td>-500.169983</td>\n",
              "      <td>7.984757</td>\n",
              "      <td>-500.582168</td>\n",
              "      <td>13.998353</td>\n",
              "      <td>-599.787184</td>\n",
              "      <td>86.843261</td>\n",
              "      <td>69.266198</td>\n",
              "    </tr>\n",
              "    <tr>\n",
              "      <th>2016-01-15 02:00:00</th>\n",
              "      <td>123.819808</td>\n",
              "      <td>11.316280</td>\n",
              "      <td>7.25</td>\n",
              "      <td>0.991265</td>\n",
              "      <td>1601.556163</td>\n",
              "      <td>-499.997791</td>\n",
              "      <td>1600.386685</td>\n",
              "      <td>-500.607762</td>\n",
              "      <td>1602.003542</td>\n",
              "      <td>-500.870069</td>\n",
              "      <td>...</td>\n",
              "      <td>11.912783</td>\n",
              "      <td>-501.133383</td>\n",
              "      <td>10.070913</td>\n",
              "      <td>-500.129135</td>\n",
              "      <td>8.013877</td>\n",
              "      <td>-500.517572</td>\n",
              "      <td>14.028663</td>\n",
              "      <td>-601.427363</td>\n",
              "      <td>86.842308</td>\n",
              "      <td>68.116445</td>\n",
              "    </tr>\n",
              "    <tr>\n",
              "      <th>2016-01-15 03:00:00</th>\n",
              "      <td>122.270188</td>\n",
              "      <td>11.322140</td>\n",
              "      <td>7.25</td>\n",
              "      <td>0.996739</td>\n",
              "      <td>1599.968720</td>\n",
              "      <td>-500.951778</td>\n",
              "      <td>1600.659236</td>\n",
              "      <td>-499.677094</td>\n",
              "      <td>1600.304144</td>\n",
              "      <td>-500.727997</td>\n",
              "      <td>...</td>\n",
              "      <td>11.999550</td>\n",
              "      <td>-501.193686</td>\n",
              "      <td>9.970366</td>\n",
              "      <td>-499.201640</td>\n",
              "      <td>7.977324</td>\n",
              "      <td>-500.255908</td>\n",
              "      <td>14.005551</td>\n",
              "      <td>-599.996129</td>\n",
              "      <td>87.226430</td>\n",
              "      <td>68.347543</td>\n",
              "    </tr>\n",
              "    <tr>\n",
              "      <th>2016-01-15 04:00:00</th>\n",
              "      <td>117.988169</td>\n",
              "      <td>11.913613</td>\n",
              "      <td>7.25</td>\n",
              "      <td>1.009869</td>\n",
              "      <td>1601.339707</td>\n",
              "      <td>-498.975456</td>\n",
              "      <td>1601.437854</td>\n",
              "      <td>-500.323246</td>\n",
              "      <td>1599.581894</td>\n",
              "      <td>-500.888152</td>\n",
              "      <td>...</td>\n",
              "      <td>11.953070</td>\n",
              "      <td>-501.053894</td>\n",
              "      <td>9.925709</td>\n",
              "      <td>-501.686727</td>\n",
              "      <td>7.894242</td>\n",
              "      <td>-500.356035</td>\n",
              "      <td>13.996647</td>\n",
              "      <td>-601.496691</td>\n",
              "      <td>86.688794</td>\n",
              "      <td>66.927016</td>\n",
              "    </tr>\n",
              "    <tr>\n",
              "      <th>2016-01-15 05:00:00</th>\n",
              "      <td>115.581252</td>\n",
              "      <td>12.470773</td>\n",
              "      <td>7.25</td>\n",
              "      <td>0.965760</td>\n",
              "      <td>1602.964922</td>\n",
              "      <td>-498.090944</td>\n",
              "      <td>1602.074298</td>\n",
              "      <td>-500.179481</td>\n",
              "      <td>1602.154812</td>\n",
              "      <td>-498.642614</td>\n",
              "      <td>...</td>\n",
              "      <td>11.883350</td>\n",
              "      <td>-500.395298</td>\n",
              "      <td>10.054147</td>\n",
              "      <td>-496.374715</td>\n",
              "      <td>7.965083</td>\n",
              "      <td>-499.364752</td>\n",
              "      <td>14.017067</td>\n",
              "      <td>-599.707915</td>\n",
              "      <td>88.156912</td>\n",
              "      <td>69.465816</td>\n",
              "    </tr>\n",
              "    <tr>\n",
              "      <th>2016-01-15 06:00:00</th>\n",
              "      <td>117.322323</td>\n",
              "      <td>12.469088</td>\n",
              "      <td>7.25</td>\n",
              "      <td>0.895207</td>\n",
              "      <td>1597.532455</td>\n",
              "      <td>-500.985364</td>\n",
              "      <td>1602.816321</td>\n",
              "      <td>-500.696736</td>\n",
              "      <td>1603.572091</td>\n",
              "      <td>-500.256955</td>\n",
              "      <td>...</td>\n",
              "      <td>12.091543</td>\n",
              "      <td>-500.501426</td>\n",
              "      <td>10.003247</td>\n",
              "      <td>-497.083180</td>\n",
              "      <td>8.010890</td>\n",
              "      <td>-500.002423</td>\n",
              "      <td>14.029649</td>\n",
              "      <td>-600.905470</td>\n",
              "      <td>88.168065</td>\n",
              "      <td>69.300835</td>\n",
              "    </tr>\n",
              "    <tr>\n",
              "      <th>2016-01-15 07:00:00</th>\n",
              "      <td>124.592960</td>\n",
              "      <td>12.467403</td>\n",
              "      <td>7.25</td>\n",
              "      <td>0.901202</td>\n",
              "      <td>1597.946266</td>\n",
              "      <td>-501.592304</td>\n",
              "      <td>1601.078254</td>\n",
              "      <td>-499.494115</td>\n",
              "      <td>1602.630688</td>\n",
              "      <td>-500.173741</td>\n",
              "      <td>...</td>\n",
              "      <td>12.101324</td>\n",
              "      <td>-500.583446</td>\n",
              "      <td>9.873169</td>\n",
              "      <td>-499.171928</td>\n",
              "      <td>7.993381</td>\n",
              "      <td>-499.794518</td>\n",
              "      <td>13.984498</td>\n",
              "      <td>-600.411070</td>\n",
              "      <td>87.668336</td>\n",
              "      <td>70.230976</td>\n",
              "    </tr>\n",
              "    <tr>\n",
              "      <th>2016-01-15 08:00:00</th>\n",
              "      <td>131.781026</td>\n",
              "      <td>12.465718</td>\n",
              "      <td>7.25</td>\n",
              "      <td>0.885535</td>\n",
              "      <td>1601.670053</td>\n",
              "      <td>-499.548891</td>\n",
              "      <td>1598.804355</td>\n",
              "      <td>-499.689644</td>\n",
              "      <td>1601.689285</td>\n",
              "      <td>-500.484957</td>\n",
              "      <td>...</td>\n",
              "      <td>12.060738</td>\n",
              "      <td>-501.174549</td>\n",
              "      <td>10.033838</td>\n",
              "      <td>-501.178133</td>\n",
              "      <td>7.881604</td>\n",
              "      <td>-499.729434</td>\n",
              "      <td>13.967135</td>\n",
              "      <td>-599.061188</td>\n",
              "      <td>87.035862</td>\n",
              "      <td>69.688595</td>\n",
              "    </tr>\n",
              "    <tr>\n",
              "      <th>2016-01-15 09:00:00</th>\n",
              "      <td>146.153696</td>\n",
              "      <td>12.464385</td>\n",
              "      <td>7.25</td>\n",
              "      <td>0.897431</td>\n",
              "      <td>1601.066985</td>\n",
              "      <td>-499.830641</td>\n",
              "      <td>1599.806933</td>\n",
              "      <td>-500.600490</td>\n",
              "      <td>1599.164142</td>\n",
              "      <td>-499.334459</td>\n",
              "      <td>...</td>\n",
              "      <td>11.995903</td>\n",
              "      <td>-501.269181</td>\n",
              "      <td>10.043100</td>\n",
              "      <td>-498.529996</td>\n",
              "      <td>8.002633</td>\n",
              "      <td>-499.761922</td>\n",
              "      <td>14.004767</td>\n",
              "      <td>-599.595324</td>\n",
              "      <td>88.280699</td>\n",
              "      <td>70.973641</td>\n",
              "    </tr>\n",
              "  </tbody>\n",
              "</table>\n",
              "<p>10 rows × 54 columns</p>\n",
              "</div>\n",
              "      <button class=\"colab-df-convert\" onclick=\"convertToInteractive('df-a8617933-40d1-422c-a267-f77a4174e8de')\"\n",
              "              title=\"Convert this dataframe to an interactive table.\"\n",
              "              style=\"display:none;\">\n",
              "\n",
              "  <svg xmlns=\"http://www.w3.org/2000/svg\" height=\"24px\"viewBox=\"0 0 24 24\"\n",
              "       width=\"24px\">\n",
              "    <path d=\"M0 0h24v24H0V0z\" fill=\"none\"/>\n",
              "    <path d=\"M18.56 5.44l.94 2.06.94-2.06 2.06-.94-2.06-.94-.94-2.06-.94 2.06-2.06.94zm-11 1L8.5 8.5l.94-2.06 2.06-.94-2.06-.94L8.5 2.5l-.94 2.06-2.06.94zm10 10l.94 2.06.94-2.06 2.06-.94-2.06-.94-.94-2.06-.94 2.06-2.06.94z\"/><path d=\"M17.41 7.96l-1.37-1.37c-.4-.4-.92-.59-1.43-.59-.52 0-1.04.2-1.43.59L10.3 9.45l-7.72 7.72c-.78.78-.78 2.05 0 2.83L4 21.41c.39.39.9.59 1.41.59.51 0 1.02-.2 1.41-.59l7.78-7.78 2.81-2.81c.8-.78.8-2.07 0-2.86zM5.41 20L4 18.59l7.72-7.72 1.47 1.35L5.41 20z\"/>\n",
              "  </svg>\n",
              "      </button>\n",
              "\n",
              "\n",
              "\n",
              "    <div id=\"df-e39810a0-a565-4689-886b-c5db4d2d51e2\">\n",
              "      <button class=\"colab-df-quickchart\" onclick=\"quickchart('df-e39810a0-a565-4689-886b-c5db4d2d51e2')\"\n",
              "              title=\"Suggest charts.\"\n",
              "              style=\"display:none;\">\n",
              "\n",
              "<svg xmlns=\"http://www.w3.org/2000/svg\" height=\"24px\"viewBox=\"0 0 24 24\"\n",
              "     width=\"24px\">\n",
              "    <g>\n",
              "        <path d=\"M19 3H5c-1.1 0-2 .9-2 2v14c0 1.1.9 2 2 2h14c1.1 0 2-.9 2-2V5c0-1.1-.9-2-2-2zM9 17H7v-7h2v7zm4 0h-2V7h2v10zm4 0h-2v-4h2v4z\"/>\n",
              "    </g>\n",
              "</svg>\n",
              "      </button>\n",
              "    </div>\n",
              "\n",
              "<style>\n",
              "  .colab-df-quickchart {\n",
              "    background-color: #E8F0FE;\n",
              "    border: none;\n",
              "    border-radius: 50%;\n",
              "    cursor: pointer;\n",
              "    display: none;\n",
              "    fill: #1967D2;\n",
              "    height: 32px;\n",
              "    padding: 0 0 0 0;\n",
              "    width: 32px;\n",
              "  }\n",
              "\n",
              "  .colab-df-quickchart:hover {\n",
              "    background-color: #E2EBFA;\n",
              "    box-shadow: 0px 1px 2px rgba(60, 64, 67, 0.3), 0px 1px 3px 1px rgba(60, 64, 67, 0.15);\n",
              "    fill: #174EA6;\n",
              "  }\n",
              "\n",
              "  [theme=dark] .colab-df-quickchart {\n",
              "    background-color: #3B4455;\n",
              "    fill: #D2E3FC;\n",
              "  }\n",
              "\n",
              "  [theme=dark] .colab-df-quickchart:hover {\n",
              "    background-color: #434B5C;\n",
              "    box-shadow: 0px 1px 3px 1px rgba(0, 0, 0, 0.15);\n",
              "    filter: drop-shadow(0px 1px 2px rgba(0, 0, 0, 0.3));\n",
              "    fill: #FFFFFF;\n",
              "  }\n",
              "</style>\n",
              "\n",
              "    <script>\n",
              "      async function quickchart(key) {\n",
              "        const containerElement = document.querySelector('#' + key);\n",
              "        const charts = await google.colab.kernel.invokeFunction(\n",
              "            'suggestCharts', [key], {});\n",
              "      }\n",
              "    </script>\n",
              "\n",
              "      <script>\n",
              "\n",
              "function displayQuickchartButton(domScope) {\n",
              "  let quickchartButtonEl =\n",
              "    domScope.querySelector('#df-e39810a0-a565-4689-886b-c5db4d2d51e2 button.colab-df-quickchart');\n",
              "  quickchartButtonEl.style.display =\n",
              "    google.colab.kernel.accessAllowed ? 'block' : 'none';\n",
              "}\n",
              "\n",
              "        displayQuickchartButton(document);\n",
              "      </script>\n",
              "      <style>\n",
              "    .colab-df-container {\n",
              "      display:flex;\n",
              "      flex-wrap:wrap;\n",
              "      gap: 12px;\n",
              "    }\n",
              "\n",
              "    .colab-df-convert {\n",
              "      background-color: #E8F0FE;\n",
              "      border: none;\n",
              "      border-radius: 50%;\n",
              "      cursor: pointer;\n",
              "      display: none;\n",
              "      fill: #1967D2;\n",
              "      height: 32px;\n",
              "      padding: 0 0 0 0;\n",
              "      width: 32px;\n",
              "    }\n",
              "\n",
              "    .colab-df-convert:hover {\n",
              "      background-color: #E2EBFA;\n",
              "      box-shadow: 0px 1px 2px rgba(60, 64, 67, 0.3), 0px 1px 3px 1px rgba(60, 64, 67, 0.15);\n",
              "      fill: #174EA6;\n",
              "    }\n",
              "\n",
              "    [theme=dark] .colab-df-convert {\n",
              "      background-color: #3B4455;\n",
              "      fill: #D2E3FC;\n",
              "    }\n",
              "\n",
              "    [theme=dark] .colab-df-convert:hover {\n",
              "      background-color: #434B5C;\n",
              "      box-shadow: 0px 1px 3px 1px rgba(0, 0, 0, 0.15);\n",
              "      filter: drop-shadow(0px 1px 2px rgba(0, 0, 0, 0.3));\n",
              "      fill: #FFFFFF;\n",
              "    }\n",
              "  </style>\n",
              "\n",
              "      <script>\n",
              "        const buttonEl =\n",
              "          document.querySelector('#df-a8617933-40d1-422c-a267-f77a4174e8de button.colab-df-convert');\n",
              "        buttonEl.style.display =\n",
              "          google.colab.kernel.accessAllowed ? 'block' : 'none';\n",
              "\n",
              "        async function convertToInteractive(key) {\n",
              "          const element = document.querySelector('#df-a8617933-40d1-422c-a267-f77a4174e8de');\n",
              "          const dataTable =\n",
              "            await google.colab.kernel.invokeFunction('convertToInteractive',\n",
              "                                                     [key], {});\n",
              "          if (!dataTable) return;\n",
              "\n",
              "          const docLinkHtml = 'Like what you see? Visit the ' +\n",
              "            '<a target=\"_blank\" href=https://colab.research.google.com/notebooks/data_table.ipynb>data table notebook</a>'\n",
              "            + ' to learn more about interactive tables.';\n",
              "          element.innerHTML = '';\n",
              "          dataTable['output_type'] = 'display_data';\n",
              "          await google.colab.output.renderOutput(dataTable, element);\n",
              "          const docLink = document.createElement('div');\n",
              "          docLink.innerHTML = docLinkHtml;\n",
              "          element.appendChild(docLink);\n",
              "        }\n",
              "      </script>\n",
              "    </div>\n",
              "  </div>\n"
            ]
          },
          "metadata": {}
        }
      ],
      "source": [
        "\n",
        "gold_recovery_train_clear = gold_recovery_train[['primary_cleaner.input.sulfate',\n",
        "                                                 'primary_cleaner.input.depressant',\n",
        "                                                 'primary_cleaner.input.feed_size',\n",
        "                                                 'primary_cleaner.input.xanthate',\n",
        "                                                 'primary_cleaner.state.floatbank8_a_air',\n",
        "                                                 'primary_cleaner.state.floatbank8_a_level',\n",
        "                                                 'primary_cleaner.state.floatbank8_b_air',\n",
        "                                                 'primary_cleaner.state.floatbank8_b_level',\n",
        "                                                 'primary_cleaner.state.floatbank8_c_air',\n",
        "                                                 'primary_cleaner.state.floatbank8_c_level',\n",
        "                                                 'primary_cleaner.state.floatbank8_d_air',\n",
        "                                                 'primary_cleaner.state.floatbank8_d_level',\n",
        "                                                 'rougher.input.feed_ag',\n",
        "                                                 'rougher.input.feed_pb',\n",
        "                                                 'rougher.input.feed_rate',\n",
        "                                                 'rougher.input.feed_size',\n",
        "                                                 'rougher.input.feed_sol',\n",
        "                                                 'rougher.input.feed_au',\n",
        "                                                 'rougher.input.floatbank10_sulfate',\n",
        "                                                 'rougher.input.floatbank10_xanthate',\n",
        "                                                 'rougher.input.floatbank11_sulfate',\n",
        "                                                 'rougher.input.floatbank11_xanthate',\n",
        "                                                 'rougher.state.floatbank10_a_air',\n",
        "                                                 'rougher.state.floatbank10_a_level',\n",
        "                                                 'rougher.state.floatbank10_b_air',\n",
        "                                                 'rougher.state.floatbank10_b_level',\n",
        "                                                 'rougher.state.floatbank10_c_air',\n",
        "                                                 'rougher.state.floatbank10_c_level',\n",
        "                                                 'rougher.state.floatbank10_d_air',\n",
        "                                                 'rougher.state.floatbank10_d_level',\n",
        "                                                 'rougher.state.floatbank10_e_air', 'rougher.state.floatbank10_e_level',\n",
        "                                                 'rougher.state.floatbank10_f_air', 'rougher.state.floatbank10_f_level',\n",
        "                                                 'secondary_cleaner.state.floatbank2_a_air',\n",
        "                                                 'secondary_cleaner.state.floatbank2_a_level',\n",
        "                                                 'secondary_cleaner.state.floatbank2_b_air',\n",
        "                                                 'secondary_cleaner.state.floatbank2_b_level',\n",
        "                                                 'secondary_cleaner.state.floatbank3_a_air',\n",
        "                                                 'secondary_cleaner.state.floatbank3_a_level',\n",
        "                                                 'secondary_cleaner.state.floatbank3_b_air',\n",
        "                                                 'secondary_cleaner.state.floatbank3_b_level',\n",
        "                                                 'secondary_cleaner.state.floatbank4_a_air',\n",
        "                                                 'secondary_cleaner.state.floatbank4_a_level',\n",
        "                                                 'secondary_cleaner.state.floatbank4_b_air',\n",
        "                                                 'secondary_cleaner.state.floatbank4_b_level',\n",
        "                                                 'secondary_cleaner.state.floatbank5_a_air',\n",
        "                                                 'secondary_cleaner.state.floatbank5_a_level',\n",
        "                                                 'secondary_cleaner.state.floatbank5_b_air',\n",
        "                                                 'secondary_cleaner.state.floatbank5_b_level',\n",
        "                                                 'secondary_cleaner.state.floatbank6_a_air',\n",
        "                                                 'secondary_cleaner.state.floatbank6_a_level',\n",
        "                                                 'rougher.output.recovery',\n",
        "                                                 'final.output.recovery']]\n",
        "\n",
        "display(gold_recovery_train_clear.head(10))"
      ]
    },
    {
      "cell_type": "code",
      "execution_count": 22,
      "metadata": {
        "id": "PKjOSmDh9DWL",
        "colab": {
          "base_uri": "https://localhost:8080/"
        },
        "outputId": "6c1c1e6b-891b-4a36-f31d-44f718a2222e"
      },
      "outputs": [
        {
          "output_type": "stream",
          "name": "stdout",
          "text": [
            "(4860, 55)\n",
            "(13988, 54)\n"
          ]
        }
      ],
      "source": [
        "print(gold_recovery_test_new.shape)\n",
        "print(gold_recovery_train_clear.shape)"
      ]
    },
    {
      "cell_type": "markdown",
      "metadata": {
        "id": "rg2u8bme9DWO"
      },
      "source": [
        "Создаем фукнцию для SMAPE:"
      ]
    },
    {
      "cell_type": "code",
      "execution_count": 23,
      "metadata": {
        "id": "h_xGsyJt9DWO"
      },
      "outputs": [],
      "source": [
        "def smape(target, predict):\n",
        "    smape = (1/len(target))*np.sum((np.abs(target - predict))/( (np.abs(target)+np.abs(predict))/2))*100\n",
        "    return smape\n",
        "\n",
        "smape_scorer = make_scorer(smape, greater_is_better = False)\n",
        "\n",
        "\n",
        "def final_smape(rougher, final):\n",
        "    final = 0.25*rougher+0.75*final\n",
        "    return final\n",
        "\n"
      ]
    },
    {
      "cell_type": "markdown",
      "source": [
        "Разделим обучающую и тестовую выборки на признаки и целевые признаки:"
      ],
      "metadata": {
        "id": "UKSFj5ZXBw1E"
      }
    },
    {
      "cell_type": "code",
      "execution_count": 24,
      "metadata": {
        "id": "XvvOg0II9DWP",
        "outputId": "8e959f5f-7e8a-4d98-ab0d-eae46b62f65e",
        "colab": {
          "base_uri": "https://localhost:8080/"
        }
      },
      "outputs": [
        {
          "output_type": "stream",
          "name": "stdout",
          "text": [
            "(13988, 52)\n"
          ]
        }
      ],
      "source": [
        "features_train = gold_recovery_train_clear.drop(['rougher.output.recovery','final.output.recovery'], axis=1)\n",
        "target_rougher_train = gold_recovery_train_clear['rougher.output.recovery']\n",
        "target_final_train = gold_recovery_train_clear['final.output.recovery']\n",
        "print(features_train.shape)\n"
      ]
    },
    {
      "cell_type": "markdown",
      "metadata": {
        "id": "iLb8D3wS9DWR"
      },
      "source": [
        "### Обучаем модели"
      ]
    },
    {
      "cell_type": "markdown",
      "source": [
        "DecisionTreeRegressor:"
      ],
      "metadata": {
        "id": "-IY8vQwQBmmY"
      }
    },
    {
      "cell_type": "code",
      "execution_count": 25,
      "metadata": {
        "id": "7mF3-eDB9DWR",
        "outputId": "55b126b2-20e9-4ffe-bd3b-898ad6ac1fec",
        "colab": {
          "base_uri": "https://localhost:8080/"
        }
      },
      "outputs": [
        {
          "output_type": "stream",
          "name": "stdout",
          "text": [
            "Итоговое SMAPE для реш.дерева : 8.872672223763681\n",
            "Лучшие параметры : 1\n",
            "Итоговое SMAPE для реш.дерева : 8.872672223763681\n",
            "Лучшие параметры : 1\n",
            "Итоговое SMAPE для реш.дерева : 8.872672223763681\n",
            "Лучшие параметры : 1\n",
            "Итоговое SMAPE для реш.дерева : 9.174150808819192\n",
            "Лучшие параметры : 4\n",
            "Итоговое SMAPE для реш.дерева : 9.521194570952987\n",
            "Лучшие параметры : 5\n",
            "Итоговое SMAPE для реш.дерева : 9.86031875760765\n",
            "Лучшие параметры : 6\n",
            "Итоговое SMAPE для реш.дерева : 10.582544173908191\n",
            "Лучшие параметры : 7\n",
            "Итоговое SMAPE для реш.дерева : 11.166454179622344\n",
            "Лучшие параметры : 8\n",
            "Итоговое SMAPE для реш.дерева : 11.686823851438922\n",
            "Лучшие параметры : 9\n",
            "Итоговое SMAPE для реш.дерева : 12.076503314579467\n",
            "Лучшие параметры : 10\n",
            "Конец\n"
          ]
        }
      ],
      "source": [
        "state = RandomState(12345)\n",
        "\n",
        "\n",
        "min_result_DT = 100\n",
        "best_param_DT = 0\n",
        "\n",
        "for depth in range(1, 11):\n",
        "    model_rougher_DT = DecisionTreeRegressor(max_depth=depth, random_state=state)\n",
        "    smape_rougher_DT = cross_val_score(model_rougher_DT, features_train, target_rougher_train, scoring=smape_scorer, cv=5)\n",
        "    final_smape_rougher_DT = smape_rougher_DT.mean()\n",
        "\n",
        "    model_final_DT = DecisionTreeRegressor(max_depth=depth, random_state=state)\n",
        "    smape_final_DT = cross_val_score(model_final_DT, features_train, target_final_train, scoring=smape_scorer, cv=5)\n",
        "    final_smape_final_DT = smape_final_DT.mean()\n",
        "    result_smape_DT = final_smape(final_smape_rougher_DT, final_smape_final_DT)\n",
        "    if result_smape_DT < min_result_DT:\n",
        "        min_result_DT = result_smape_DT\n",
        "        best_param_DT = depth\n",
        "\n",
        "    print('Итоговое SMAPE для реш.дерева :', min_result_DT*-1)\n",
        "    print('Лучшие параметры :', best_param_DT)\n",
        "\n",
        "print('Конец')"
      ]
    },
    {
      "cell_type": "markdown",
      "metadata": {
        "id": "vqI89Wg_9DWU"
      },
      "source": [
        "RandomForestRegressor:"
      ]
    },
    {
      "cell_type": "code",
      "execution_count": 26,
      "metadata": {
        "id": "XOuaAXUI9DWV",
        "outputId": "b2aac434-38d6-48db-b80c-c797e305cce0",
        "colab": {
          "base_uri": "https://localhost:8080/"
        }
      },
      "outputs": [
        {
          "output_type": "stream",
          "name": "stdout",
          "text": [
            "Лучший параметры модели: [1, 10]\n",
            "Итоговое SMAPE для случ.леса : 13.3874066464641\n",
            "Лучший параметры модели: [1, 10]\n",
            "Итоговое SMAPE для случ.леса : 13.3874066464641\n",
            "Лучший параметры модели: [1, 10]\n",
            "Итоговое SMAPE для случ.леса : 13.3874066464641\n",
            "Лучший параметры модели: [1, 10]\n",
            "Итоговое SMAPE для случ.леса : 13.3874066464641\n",
            "Конец\n"
          ]
        }
      ],
      "source": [
        "best_result_RF = 100\n",
        "best_param_RF = 0\n",
        "\n",
        "for est in range(1, 100, 25):\n",
        "    for depth in range(1,11):\n",
        "        model_rougher_RF = RandomForestRegressor(n_estimators=est, max_depth=depth, random_state=state)\n",
        "        smape_rougher_RF = cross_val_score(model_rougher_RF, features_train, target_rougher_train, scoring=smape_scorer, cv=5)\n",
        "        final_smape_rougher_RF = smape_rougher_RF.mean()\n",
        "\n",
        "        model_final_RF = RandomForestRegressor(n_estimators=est, max_depth=depth, random_state=state)\n",
        "        smape_final_RF = cross_val_score(model_final_RF, features_train, target_final_train, scoring=smape_scorer, cv=5)\n",
        "        final_smape_final_RF = smape_final_RF.mean()\n",
        "        result_smape_RF = final_smape(final_smape_rougher_RF, final_smape_final_RF)\n",
        "        if result_smape_RF < best_result_RF:\n",
        "            best_result_RF = result_smape_RF\n",
        "            best_param_RF = [est, depth]\n",
        "\n",
        "\n",
        "    print('Лучший параметры модели:', best_param_RF)\n",
        "    print('Итоговое SMAPE для случ.леса :', best_result_RF*-1)\n",
        "\n",
        "print('Конец')"
      ]
    },
    {
      "cell_type": "markdown",
      "source": [
        "LinearRegression:"
      ],
      "metadata": {
        "id": "wGGdHAkzBYc7"
      }
    },
    {
      "cell_type": "code",
      "execution_count": 27,
      "metadata": {
        "id": "Ya1rCGFA9DWW",
        "outputId": "f5678eac-52c7-4c7c-cfae-7b0b58dbccbe",
        "colab": {
          "base_uri": "https://localhost:8080/"
        }
      },
      "outputs": [
        {
          "output_type": "stream",
          "name": "stdout",
          "text": [
            "Итоговое SMAPE для лог.регрессии : 8.868239156985926\n"
          ]
        }
      ],
      "source": [
        "model_rougher_LR = LinearRegression()\n",
        "smape_rougher = cross_val_score(model_rougher_LR, features_train, target_rougher_train, scoring=smape_scorer, cv=5)\n",
        "final_smape_rougher = smape_rougher.mean()\n",
        "\n",
        "model_final_LR = LinearRegression()\n",
        "smape_final = cross_val_score(model_final_LR, features_train, target_final_train, scoring=smape_scorer, cv=5)\n",
        "final_smape_final = smape_final.mean()\n",
        "\n",
        "result_smape_LR = final_smape(final_smape_rougher, final_smape_final)\n",
        "\n",
        "print('Итоговое SMAPE для лог.регрессии :', result_smape_LR*-1)"
      ]
    },
    {
      "cell_type": "markdown",
      "metadata": {
        "id": "icgXCj6y9DWX"
      },
      "source": [
        "Разделим обучающую выборку на признаки и целевые признаки:"
      ]
    },
    {
      "cell_type": "code",
      "execution_count": 28,
      "metadata": {
        "id": "VPTMwfQb9DWX",
        "outputId": "b600d2c4-ae9d-4001-dbb4-3183b2b5f175",
        "colab": {
          "base_uri": "https://localhost:8080/"
        }
      },
      "outputs": [
        {
          "output_type": "stream",
          "name": "stdout",
          "text": [
            "(4860, 52)\n"
          ]
        }
      ],
      "source": [
        "features_test = gold_recovery_test_new.drop(['rougher.output.recovery','final.output.recovery', 'date'], axis=1)\n",
        "target_rougher_test = gold_recovery_test_new['rougher.output.recovery']\n",
        "target_final_test = gold_recovery_test_new['final.output.recovery']\n",
        "print(features_test.shape)"
      ]
    },
    {
      "cell_type": "markdown",
      "source": [
        "Выбираем  лучшую модель и обучаем ее на тренировочной выборке + проверяем на тестовой предсказания + считаем sMAPE:"
      ],
      "metadata": {
        "id": "vF82oM97AqSP"
      }
    },
    {
      "cell_type": "code",
      "execution_count": 30,
      "metadata": {
        "id": "spPx8Spq9DWY",
        "outputId": "c99c6b69-feb0-498f-c088-c2521bf9c30d",
        "colab": {
          "base_uri": "https://localhost:8080/",
          "height": 407
        }
      },
      "outputs": [
        {
          "output_type": "error",
          "ename": "ValueError",
          "evalue": "ignored",
          "traceback": [
            "\u001b[0;31m---------------------------------------------------------------------------\u001b[0m",
            "\u001b[0;31mValueError\u001b[0m                                Traceback (most recent call last)",
            "\u001b[0;32m<ipython-input-30-18107e52017d>\u001b[0m in \u001b[0;36m<cell line: 3>\u001b[0;34m()\u001b[0m\n\u001b[1;32m      1\u001b[0m \u001b[0mmodel_test_rougher\u001b[0m \u001b[0;34m=\u001b[0m \u001b[0mDecisionTreeRegressor\u001b[0m\u001b[0;34m(\u001b[0m\u001b[0mmax_depth\u001b[0m\u001b[0;34m=\u001b[0m\u001b[0;36m1\u001b[0m\u001b[0;34m,\u001b[0m \u001b[0mrandom_state\u001b[0m\u001b[0;34m=\u001b[0m\u001b[0mstate\u001b[0m\u001b[0;34m)\u001b[0m\u001b[0;34m\u001b[0m\u001b[0;34m\u001b[0m\u001b[0m\n\u001b[1;32m      2\u001b[0m \u001b[0mmodel_test_rougher\u001b[0m\u001b[0;34m.\u001b[0m\u001b[0mfit\u001b[0m\u001b[0;34m(\u001b[0m\u001b[0mfeatures_train\u001b[0m\u001b[0;34m,\u001b[0m \u001b[0mtarget_rougher_train\u001b[0m\u001b[0;34m)\u001b[0m\u001b[0;34m\u001b[0m\u001b[0;34m\u001b[0m\u001b[0m\n\u001b[0;32m----> 3\u001b[0;31m \u001b[0mpredicted_rougher\u001b[0m \u001b[0;34m=\u001b[0m \u001b[0mmodel_test_rougher\u001b[0m\u001b[0;34m.\u001b[0m\u001b[0mpredict\u001b[0m\u001b[0;34m(\u001b[0m\u001b[0mfeatures_test\u001b[0m\u001b[0;34m)\u001b[0m\u001b[0;34m\u001b[0m\u001b[0;34m\u001b[0m\u001b[0m\n\u001b[0m\u001b[1;32m      4\u001b[0m \u001b[0;34m\u001b[0m\u001b[0m\n\u001b[1;32m      5\u001b[0m \u001b[0mmodel_test_final\u001b[0m \u001b[0;34m=\u001b[0m \u001b[0mDecisionTreeRegressor\u001b[0m\u001b[0;34m(\u001b[0m\u001b[0mmax_depth\u001b[0m\u001b[0;34m=\u001b[0m\u001b[0;36m1\u001b[0m\u001b[0;34m,\u001b[0m \u001b[0mrandom_state\u001b[0m\u001b[0;34m=\u001b[0m\u001b[0mstate\u001b[0m\u001b[0;34m)\u001b[0m\u001b[0;34m\u001b[0m\u001b[0;34m\u001b[0m\u001b[0m\n",
            "\u001b[0;32m/usr/local/lib/python3.10/dist-packages/sklearn/tree/_classes.py\u001b[0m in \u001b[0;36mpredict\u001b[0;34m(self, X, check_input)\u001b[0m\n\u001b[1;32m    424\u001b[0m         \"\"\"\n\u001b[1;32m    425\u001b[0m         \u001b[0mcheck_is_fitted\u001b[0m\u001b[0;34m(\u001b[0m\u001b[0mself\u001b[0m\u001b[0;34m)\u001b[0m\u001b[0;34m\u001b[0m\u001b[0;34m\u001b[0m\u001b[0m\n\u001b[0;32m--> 426\u001b[0;31m         \u001b[0mX\u001b[0m \u001b[0;34m=\u001b[0m \u001b[0mself\u001b[0m\u001b[0;34m.\u001b[0m\u001b[0m_validate_X_predict\u001b[0m\u001b[0;34m(\u001b[0m\u001b[0mX\u001b[0m\u001b[0;34m,\u001b[0m \u001b[0mcheck_input\u001b[0m\u001b[0;34m)\u001b[0m\u001b[0;34m\u001b[0m\u001b[0;34m\u001b[0m\u001b[0m\n\u001b[0m\u001b[1;32m    427\u001b[0m         \u001b[0mproba\u001b[0m \u001b[0;34m=\u001b[0m \u001b[0mself\u001b[0m\u001b[0;34m.\u001b[0m\u001b[0mtree_\u001b[0m\u001b[0;34m.\u001b[0m\u001b[0mpredict\u001b[0m\u001b[0;34m(\u001b[0m\u001b[0mX\u001b[0m\u001b[0;34m)\u001b[0m\u001b[0;34m\u001b[0m\u001b[0;34m\u001b[0m\u001b[0m\n\u001b[1;32m    428\u001b[0m         \u001b[0mn_samples\u001b[0m \u001b[0;34m=\u001b[0m \u001b[0mX\u001b[0m\u001b[0;34m.\u001b[0m\u001b[0mshape\u001b[0m\u001b[0;34m[\u001b[0m\u001b[0;36m0\u001b[0m\u001b[0;34m]\u001b[0m\u001b[0;34m\u001b[0m\u001b[0;34m\u001b[0m\u001b[0m\n",
            "\u001b[0;32m/usr/local/lib/python3.10/dist-packages/sklearn/tree/_classes.py\u001b[0m in \u001b[0;36m_validate_X_predict\u001b[0;34m(self, X, check_input)\u001b[0m\n\u001b[1;32m    390\u001b[0m         \u001b[0;34m\"\"\"Validate the training data on predict (probabilities).\"\"\"\u001b[0m\u001b[0;34m\u001b[0m\u001b[0;34m\u001b[0m\u001b[0m\n\u001b[1;32m    391\u001b[0m         \u001b[0;32mif\u001b[0m \u001b[0mcheck_input\u001b[0m\u001b[0;34m:\u001b[0m\u001b[0;34m\u001b[0m\u001b[0;34m\u001b[0m\u001b[0m\n\u001b[0;32m--> 392\u001b[0;31m             \u001b[0mX\u001b[0m \u001b[0;34m=\u001b[0m \u001b[0mself\u001b[0m\u001b[0;34m.\u001b[0m\u001b[0m_validate_data\u001b[0m\u001b[0;34m(\u001b[0m\u001b[0mX\u001b[0m\u001b[0;34m,\u001b[0m \u001b[0mdtype\u001b[0m\u001b[0;34m=\u001b[0m\u001b[0mDTYPE\u001b[0m\u001b[0;34m,\u001b[0m \u001b[0maccept_sparse\u001b[0m\u001b[0;34m=\u001b[0m\u001b[0;34m\"csr\"\u001b[0m\u001b[0;34m,\u001b[0m \u001b[0mreset\u001b[0m\u001b[0;34m=\u001b[0m\u001b[0;32mFalse\u001b[0m\u001b[0;34m)\u001b[0m\u001b[0;34m\u001b[0m\u001b[0;34m\u001b[0m\u001b[0m\n\u001b[0m\u001b[1;32m    393\u001b[0m             if issparse(X) and (\n\u001b[1;32m    394\u001b[0m                 \u001b[0mX\u001b[0m\u001b[0;34m.\u001b[0m\u001b[0mindices\u001b[0m\u001b[0;34m.\u001b[0m\u001b[0mdtype\u001b[0m \u001b[0;34m!=\u001b[0m \u001b[0mnp\u001b[0m\u001b[0;34m.\u001b[0m\u001b[0mintc\u001b[0m \u001b[0;32mor\u001b[0m \u001b[0mX\u001b[0m\u001b[0;34m.\u001b[0m\u001b[0mindptr\u001b[0m\u001b[0;34m.\u001b[0m\u001b[0mdtype\u001b[0m \u001b[0;34m!=\u001b[0m \u001b[0mnp\u001b[0m\u001b[0;34m.\u001b[0m\u001b[0mintc\u001b[0m\u001b[0;34m\u001b[0m\u001b[0;34m\u001b[0m\u001b[0m\n",
            "\u001b[0;32m/usr/local/lib/python3.10/dist-packages/sklearn/base.py\u001b[0m in \u001b[0;36m_validate_data\u001b[0;34m(self, X, y, reset, validate_separately, **check_params)\u001b[0m\n\u001b[1;32m    546\u001b[0m             \u001b[0mvalidated\u001b[0m\u001b[0;34m.\u001b[0m\u001b[0;34m\u001b[0m\u001b[0;34m\u001b[0m\u001b[0m\n\u001b[1;32m    547\u001b[0m         \"\"\"\n\u001b[0;32m--> 548\u001b[0;31m         \u001b[0mself\u001b[0m\u001b[0;34m.\u001b[0m\u001b[0m_check_feature_names\u001b[0m\u001b[0;34m(\u001b[0m\u001b[0mX\u001b[0m\u001b[0;34m,\u001b[0m \u001b[0mreset\u001b[0m\u001b[0;34m=\u001b[0m\u001b[0mreset\u001b[0m\u001b[0;34m)\u001b[0m\u001b[0;34m\u001b[0m\u001b[0;34m\u001b[0m\u001b[0m\n\u001b[0m\u001b[1;32m    549\u001b[0m \u001b[0;34m\u001b[0m\u001b[0m\n\u001b[1;32m    550\u001b[0m         \u001b[0;32mif\u001b[0m \u001b[0my\u001b[0m \u001b[0;32mis\u001b[0m \u001b[0;32mNone\u001b[0m \u001b[0;32mand\u001b[0m \u001b[0mself\u001b[0m\u001b[0;34m.\u001b[0m\u001b[0m_get_tags\u001b[0m\u001b[0;34m(\u001b[0m\u001b[0;34m)\u001b[0m\u001b[0;34m[\u001b[0m\u001b[0;34m\"requires_y\"\u001b[0m\u001b[0;34m]\u001b[0m\u001b[0;34m:\u001b[0m\u001b[0;34m\u001b[0m\u001b[0;34m\u001b[0m\u001b[0m\n",
            "\u001b[0;32m/usr/local/lib/python3.10/dist-packages/sklearn/base.py\u001b[0m in \u001b[0;36m_check_feature_names\u001b[0;34m(self, X, reset)\u001b[0m\n\u001b[1;32m    479\u001b[0m                 )\n\u001b[1;32m    480\u001b[0m \u001b[0;34m\u001b[0m\u001b[0m\n\u001b[0;32m--> 481\u001b[0;31m             \u001b[0;32mraise\u001b[0m \u001b[0mValueError\u001b[0m\u001b[0;34m(\u001b[0m\u001b[0mmessage\u001b[0m\u001b[0;34m)\u001b[0m\u001b[0;34m\u001b[0m\u001b[0;34m\u001b[0m\u001b[0m\n\u001b[0m\u001b[1;32m    482\u001b[0m \u001b[0;34m\u001b[0m\u001b[0m\n\u001b[1;32m    483\u001b[0m     def _validate_data(\n",
            "\u001b[0;31mValueError\u001b[0m: The feature names should match those that were passed during fit.\nFeature names must be in the same order as they were in fit.\n"
          ]
        }
      ],
      "source": [
        "model_test_rougher = DecisionTreeRegressor(max_depth=1, random_state=state)\n",
        "model_test_rougher.fit(features_train, target_rougher_train)\n",
        "predicted_rougher = model_test_rougher.predict(features_test)\n",
        "\n",
        "model_test_final = DecisionTreeRegressor(max_depth=1, random_state=state)\n",
        "model_test_final.fit(features_train, target_final_train)\n",
        "predicted_final = model_test_final.predict(features_test)\n",
        "\n",
        "smape_test_rougher = smape(target_rougher_test, predicted_rougher)\n",
        "smape_test_final = smape(target_final_test, predicted_final)\n",
        "final_smape_test = final_smape(smape_test_rougher, smape_test_final)\n",
        "\n",
        "print(final_smape_test)"
      ]
    },
    {
      "cell_type": "markdown",
      "metadata": {
        "id": "ABGgvJ3q9DWb"
      },
      "source": [
        "Проверим на дамми:"
      ]
    },
    {
      "cell_type": "code",
      "execution_count": 31,
      "metadata": {
        "id": "tt2h2OFP9DWd",
        "outputId": "8e99df8d-769a-43b6-82c4-b235196368fe",
        "colab": {
          "base_uri": "https://localhost:8080/"
        }
      },
      "outputs": [
        {
          "output_type": "stream",
          "name": "stdout",
          "text": [
            "8.472648251321258\n"
          ]
        }
      ],
      "source": [
        "dummy_rougher = DummyRegressor(strategy=\"mean\")\n",
        "dummy_rougher.fit(features_train, target_rougher_train)\n",
        "dummy_predicted_rougher = dummy_rougher.predict(features_test)\n",
        "smape_const_rougher = smape(target_rougher_test, dummy_predicted_rougher)\n",
        "\n",
        "dummy_final = DummyRegressor(strategy=\"mean\")\n",
        "dummy_final.fit(features_train, target_final_train)\n",
        "dummy_predicted_final = dummy_final.predict(features_test)\n",
        "smape_const_final = smape(target_final_test, dummy_predicted_final)\n",
        "\n",
        "final_smape_const = final_smape(smape_const_rougher, smape_const_final)\n",
        "print(final_smape_const)"
      ]
    },
    {
      "cell_type": "markdown",
      "metadata": {
        "id": "M-1RHiPu9DWe"
      },
      "source": [
        "## Вывод:\n",
        "1. При обработке концентарция:\n",
        "- золота увеличивается значительно,\n",
        "- свинца увеличивается,\n",
        "- серебро снижается.\n",
        "2. Лушчшая модель - Решающее дерево.\n",
        "3. Лучшая модель прошла проверку адекватности и обучение на тесте: симм.отклонение составило 7.312 и 7.778 соответственно. Эти данные были получены после очистки выбросов и учета на трейн-выборке столбцов как на тестовой.\n",
        "\n",
        "**Примечания и особенности данных:**\n",
        "0. Прежде чем проводить аналитику нужно подробно изучить предоставленные данные. Разобраться в них. Иначе результаты могут быть искажены. Без чистки данных у меня выходило симм.отклонение на 25% больше, чем есть на самом деле.\n",
        "1. В тестовой выборке отсутствовали цел.признаки - добавляла из полной выборки.\n",
        "\n",
        "2. Оставила в трейн-выборке только те признаки, которые есть в тесте + цел.признаки.\n",
        "3. Дату сделал индексом выборок, а при обучении и проверке удалила ее.\n",
        "4. Заполнены пропуски данных.\n"
      ]
    }
  ],
  "metadata": {
    "ExecuteTimeLog": [
      {
        "duration": 396,
        "start_time": "2023-02-23T17:25:46.085Z"
      },
      {
        "duration": 71,
        "start_time": "2023-02-23T17:31:41.031Z"
      },
      {
        "duration": 2250,
        "start_time": "2023-02-23T17:31:44.437Z"
      },
      {
        "duration": 67,
        "start_time": "2023-02-23T17:31:47.520Z"
      },
      {
        "duration": 64,
        "start_time": "2023-02-23T17:32:20.230Z"
      },
      {
        "duration": 43,
        "start_time": "2023-02-23T17:33:49.272Z"
      },
      {
        "duration": 123,
        "start_time": "2023-02-23T17:35:35.006Z"
      },
      {
        "duration": 248,
        "start_time": "2023-02-23T17:36:24.146Z"
      },
      {
        "duration": 15,
        "start_time": "2023-02-23T17:38:14.481Z"
      },
      {
        "duration": 17,
        "start_time": "2023-02-23T17:40:35.932Z"
      },
      {
        "duration": 30,
        "start_time": "2023-02-23T17:41:02.554Z"
      },
      {
        "duration": 1225,
        "start_time": "2023-02-24T09:10:40.843Z"
      },
      {
        "duration": 1118,
        "start_time": "2023-02-25T08:08:29.081Z"
      },
      {
        "duration": 3256,
        "start_time": "2023-02-25T08:08:31.595Z"
      },
      {
        "duration": 40,
        "start_time": "2023-02-25T08:08:35.317Z"
      },
      {
        "duration": 28,
        "start_time": "2023-02-25T08:08:39.941Z"
      },
      {
        "duration": 4,
        "start_time": "2023-02-25T08:11:36.157Z"
      },
      {
        "duration": 95,
        "start_time": "2023-02-25T08:12:50.720Z"
      },
      {
        "duration": 4,
        "start_time": "2023-02-25T08:14:52.587Z"
      },
      {
        "duration": 4,
        "start_time": "2023-02-25T08:15:35.489Z"
      },
      {
        "duration": 6,
        "start_time": "2023-02-25T08:15:47.406Z"
      },
      {
        "duration": 61,
        "start_time": "2023-02-25T08:17:02.681Z"
      },
      {
        "duration": 6,
        "start_time": "2023-02-25T08:17:10.239Z"
      },
      {
        "duration": 9,
        "start_time": "2023-02-25T08:18:16.261Z"
      },
      {
        "duration": 5,
        "start_time": "2023-02-25T08:18:45.554Z"
      },
      {
        "duration": 6,
        "start_time": "2023-02-25T08:19:55.923Z"
      },
      {
        "duration": 5,
        "start_time": "2023-02-25T08:19:59.008Z"
      },
      {
        "duration": 5,
        "start_time": "2023-02-25T08:20:33.014Z"
      },
      {
        "duration": 48,
        "start_time": "2023-02-25T08:20:42.707Z"
      },
      {
        "duration": 5,
        "start_time": "2023-02-25T08:20:50.329Z"
      },
      {
        "duration": 1000,
        "start_time": "2023-02-26T07:50:07.980Z"
      },
      {
        "duration": 3057,
        "start_time": "2023-02-26T07:50:14.279Z"
      },
      {
        "duration": 39,
        "start_time": "2023-02-26T07:50:19.984Z"
      },
      {
        "duration": 234,
        "start_time": "2023-02-26T07:50:30.914Z"
      },
      {
        "duration": 91,
        "start_time": "2023-02-26T07:50:36.983Z"
      },
      {
        "duration": 5,
        "start_time": "2023-02-26T07:52:04.927Z"
      },
      {
        "duration": 247,
        "start_time": "2023-02-26T07:58:44.066Z"
      },
      {
        "duration": 0,
        "start_time": "2023-02-26T07:58:44.314Z"
      },
      {
        "duration": 2,
        "start_time": "2023-02-26T07:59:46.460Z"
      },
      {
        "duration": 249,
        "start_time": "2023-02-26T07:59:52.538Z"
      },
      {
        "duration": 226,
        "start_time": "2023-02-26T08:00:05.363Z"
      },
      {
        "duration": 6,
        "start_time": "2023-02-26T08:23:15.122Z"
      },
      {
        "duration": 68,
        "start_time": "2023-02-26T08:29:09.573Z"
      },
      {
        "duration": 15,
        "start_time": "2023-02-26T08:29:45.003Z"
      },
      {
        "duration": 11,
        "start_time": "2023-02-26T08:30:26.325Z"
      },
      {
        "duration": 3,
        "start_time": "2023-02-26T08:30:53.248Z"
      },
      {
        "duration": 13,
        "start_time": "2023-02-26T08:31:00.900Z"
      },
      {
        "duration": 11,
        "start_time": "2023-02-26T08:34:50.166Z"
      },
      {
        "duration": 7,
        "start_time": "2023-02-26T08:35:02.478Z"
      },
      {
        "duration": 12,
        "start_time": "2023-02-26T08:38:03.901Z"
      },
      {
        "duration": 14,
        "start_time": "2023-02-26T08:40:20.218Z"
      },
      {
        "duration": 76,
        "start_time": "2023-02-26T08:41:03.436Z"
      },
      {
        "duration": 10,
        "start_time": "2023-02-26T08:41:18.416Z"
      },
      {
        "duration": 11,
        "start_time": "2023-02-26T08:43:30.297Z"
      },
      {
        "duration": 10,
        "start_time": "2023-02-26T08:43:40.208Z"
      },
      {
        "duration": 9,
        "start_time": "2023-02-26T08:43:44.282Z"
      },
      {
        "duration": 10,
        "start_time": "2023-02-26T08:46:36.588Z"
      },
      {
        "duration": 12,
        "start_time": "2023-02-26T08:48:20.047Z"
      },
      {
        "duration": 46,
        "start_time": "2023-02-26T08:48:32.013Z"
      },
      {
        "duration": 33,
        "start_time": "2023-02-26T08:53:14.276Z"
      },
      {
        "duration": 77,
        "start_time": "2023-02-26T08:57:03.042Z"
      },
      {
        "duration": 27,
        "start_time": "2023-02-26T08:57:16.897Z"
      },
      {
        "duration": 25,
        "start_time": "2023-02-26T08:59:53.254Z"
      },
      {
        "duration": 31,
        "start_time": "2023-02-26T09:02:41.055Z"
      },
      {
        "duration": 24,
        "start_time": "2023-02-26T09:02:59.978Z"
      },
      {
        "duration": 998,
        "start_time": "2023-02-26T09:08:36.166Z"
      },
      {
        "duration": 68,
        "start_time": "2023-02-26T09:13:37.458Z"
      },
      {
        "duration": 40,
        "start_time": "2023-02-26T09:13:41.862Z"
      },
      {
        "duration": 2895,
        "start_time": "2023-02-26T16:27:10.937Z"
      },
      {
        "duration": 1709,
        "start_time": "2023-02-26T16:27:13.834Z"
      },
      {
        "duration": 42,
        "start_time": "2023-02-26T16:27:17.448Z"
      },
      {
        "duration": 239,
        "start_time": "2023-02-26T16:27:23.572Z"
      },
      {
        "duration": 12,
        "start_time": "2023-02-26T16:28:52.016Z"
      },
      {
        "duration": 301,
        "start_time": "2023-02-26T16:28:56.540Z"
      },
      {
        "duration": 5,
        "start_time": "2023-02-26T16:29:01.712Z"
      },
      {
        "duration": 23,
        "start_time": "2023-02-26T16:29:07.487Z"
      },
      {
        "duration": 25,
        "start_time": "2023-02-26T16:32:49.276Z"
      },
      {
        "duration": 5,
        "start_time": "2023-02-26T16:36:01.458Z"
      },
      {
        "duration": 13,
        "start_time": "2023-02-26T16:37:48.613Z"
      },
      {
        "duration": 11,
        "start_time": "2023-02-26T16:37:51.787Z"
      },
      {
        "duration": 2947,
        "start_time": "2023-02-26T16:52:58.688Z"
      },
      {
        "duration": 708,
        "start_time": "2023-02-26T16:54:50.226Z"
      },
      {
        "duration": 625,
        "start_time": "2023-02-26T16:55:18.967Z"
      },
      {
        "duration": 754,
        "start_time": "2023-02-26T16:55:30.644Z"
      },
      {
        "duration": 613,
        "start_time": "2023-02-26T16:55:39.326Z"
      },
      {
        "duration": 1412,
        "start_time": "2023-02-26T16:57:04.525Z"
      },
      {
        "duration": 1517,
        "start_time": "2023-02-26T16:57:49.866Z"
      },
      {
        "duration": 876,
        "start_time": "2023-02-26T16:58:02.192Z"
      },
      {
        "duration": 745,
        "start_time": "2023-02-26T16:59:41.688Z"
      },
      {
        "duration": 1627,
        "start_time": "2023-02-26T17:02:21.712Z"
      },
      {
        "duration": 1017,
        "start_time": "2023-02-26T17:02:33.603Z"
      },
      {
        "duration": 1167,
        "start_time": "2023-02-26T17:02:45.164Z"
      },
      {
        "duration": 1126,
        "start_time": "2023-02-26T17:03:55.096Z"
      },
      {
        "duration": 1148,
        "start_time": "2023-02-26T17:04:09.059Z"
      },
      {
        "duration": 1043,
        "start_time": "2023-02-26T17:04:21.815Z"
      },
      {
        "duration": 1138,
        "start_time": "2023-02-26T17:04:56.075Z"
      },
      {
        "duration": 813,
        "start_time": "2023-02-26T17:05:53.650Z"
      },
      {
        "duration": 733,
        "start_time": "2023-02-26T17:06:49.382Z"
      },
      {
        "duration": 1121,
        "start_time": "2023-02-26T17:08:02.163Z"
      },
      {
        "duration": 744,
        "start_time": "2023-02-26T17:08:05.351Z"
      },
      {
        "duration": 1090,
        "start_time": "2023-02-26T17:08:11.085Z"
      },
      {
        "duration": 1089,
        "start_time": "2023-02-26T17:09:57.855Z"
      },
      {
        "duration": 1030,
        "start_time": "2023-02-26T17:10:10.227Z"
      },
      {
        "duration": 1140,
        "start_time": "2023-02-26T17:10:21.534Z"
      },
      {
        "duration": 778,
        "start_time": "2023-02-26T17:10:48.433Z"
      },
      {
        "duration": 751,
        "start_time": "2023-02-26T17:11:09.550Z"
      },
      {
        "duration": 923,
        "start_time": "2023-02-26T17:23:21.054Z"
      },
      {
        "duration": 737,
        "start_time": "2023-02-26T17:23:29.677Z"
      },
      {
        "duration": 1124,
        "start_time": "2023-02-26T17:23:38.449Z"
      },
      {
        "duration": 1269,
        "start_time": "2023-02-26T17:27:06.094Z"
      },
      {
        "duration": 1694,
        "start_time": "2023-02-26T17:29:29.139Z"
      },
      {
        "duration": 9,
        "start_time": "2023-02-26T17:36:07.956Z"
      },
      {
        "duration": 9,
        "start_time": "2023-02-26T17:36:21.606Z"
      },
      {
        "duration": 3,
        "start_time": "2023-02-26T17:36:28.597Z"
      },
      {
        "duration": 678,
        "start_time": "2023-02-26T17:36:31.354Z"
      },
      {
        "duration": 49,
        "start_time": "2023-02-26T17:36:34.439Z"
      },
      {
        "duration": 131,
        "start_time": "2023-02-26T17:36:38.618Z"
      },
      {
        "duration": 220,
        "start_time": "2023-02-26T17:36:42.232Z"
      },
      {
        "duration": 15,
        "start_time": "2023-02-26T17:36:45.224Z"
      },
      {
        "duration": 247,
        "start_time": "2023-02-26T17:36:51.031Z"
      },
      {
        "duration": 6,
        "start_time": "2023-02-26T17:37:00.448Z"
      },
      {
        "duration": 1080,
        "start_time": "2023-02-26T17:37:05.106Z"
      },
      {
        "duration": 828,
        "start_time": "2023-02-26T17:37:09.979Z"
      },
      {
        "duration": 780,
        "start_time": "2023-02-26T17:37:13.462Z"
      },
      {
        "duration": 8,
        "start_time": "2023-02-26T17:37:19.228Z"
      },
      {
        "duration": 8,
        "start_time": "2023-02-26T17:37:27.766Z"
      },
      {
        "duration": 9,
        "start_time": "2023-02-26T17:38:25.100Z"
      },
      {
        "duration": 3,
        "start_time": "2023-02-26T17:38:33.958Z"
      },
      {
        "duration": 4,
        "start_time": "2023-02-26T17:39:03.592Z"
      },
      {
        "duration": 6,
        "start_time": "2023-02-26T17:40:45.588Z"
      },
      {
        "duration": 6,
        "start_time": "2023-02-26T17:43:12.359Z"
      },
      {
        "duration": 7,
        "start_time": "2023-02-26T17:44:53.178Z"
      },
      {
        "duration": 180,
        "start_time": "2023-02-26T17:45:44.273Z"
      },
      {
        "duration": 7,
        "start_time": "2023-02-26T17:48:29.769Z"
      },
      {
        "duration": 633,
        "start_time": "2023-02-26T17:54:23.530Z"
      },
      {
        "duration": 47,
        "start_time": "2023-02-26T17:54:28.488Z"
      },
      {
        "duration": 35,
        "start_time": "2023-02-26T17:54:36.680Z"
      },
      {
        "duration": 213,
        "start_time": "2023-02-26T17:54:47.550Z"
      },
      {
        "duration": 10,
        "start_time": "2023-02-26T17:54:50.839Z"
      },
      {
        "duration": 279,
        "start_time": "2023-02-26T17:54:54.333Z"
      },
      {
        "duration": 1644,
        "start_time": "2023-02-27T13:40:12.418Z"
      },
      {
        "duration": 3927,
        "start_time": "2023-02-27T13:40:14.812Z"
      },
      {
        "duration": 42,
        "start_time": "2023-02-27T13:40:32.551Z"
      },
      {
        "duration": 242,
        "start_time": "2023-02-27T13:40:36.684Z"
      },
      {
        "duration": 11,
        "start_time": "2023-02-27T13:40:39.958Z"
      },
      {
        "duration": 194,
        "start_time": "2023-02-27T13:40:44.115Z"
      },
      {
        "duration": 7,
        "start_time": "2023-02-27T13:40:53.239Z"
      },
      {
        "duration": 1348,
        "start_time": "2023-02-27T13:41:06.061Z"
      },
      {
        "duration": 870,
        "start_time": "2023-02-27T13:43:09.197Z"
      },
      {
        "duration": 991,
        "start_time": "2023-02-27T13:43:14.549Z"
      },
      {
        "duration": 129,
        "start_time": "2023-02-27T13:43:25.365Z"
      },
      {
        "duration": 10,
        "start_time": "2023-02-27T13:43:58.485Z"
      },
      {
        "duration": 1033,
        "start_time": "2023-02-27T13:50:08.691Z"
      },
      {
        "duration": 232,
        "start_time": "2023-02-27T13:51:09.487Z"
      },
      {
        "duration": 259,
        "start_time": "2023-02-27T13:51:25.372Z"
      },
      {
        "duration": 217,
        "start_time": "2023-02-27T13:52:11.455Z"
      },
      {
        "duration": 32,
        "start_time": "2023-02-27T14:06:21.462Z"
      },
      {
        "duration": 4,
        "start_time": "2023-02-27T14:11:32.971Z"
      },
      {
        "duration": 21,
        "start_time": "2023-02-27T14:17:51.509Z"
      },
      {
        "duration": 22,
        "start_time": "2023-02-27T14:18:04.160Z"
      },
      {
        "duration": 21,
        "start_time": "2023-02-27T14:21:30.170Z"
      },
      {
        "duration": 23,
        "start_time": "2023-02-27T14:23:58.655Z"
      },
      {
        "duration": 1672,
        "start_time": "2023-02-27T19:04:56.300Z"
      },
      {
        "duration": 2044,
        "start_time": "2023-02-27T19:05:00.961Z"
      },
      {
        "duration": 50,
        "start_time": "2023-02-27T19:05:06.664Z"
      },
      {
        "duration": 237,
        "start_time": "2023-02-27T19:05:11.404Z"
      },
      {
        "duration": 15,
        "start_time": "2023-02-27T19:05:14.867Z"
      },
      {
        "duration": 7,
        "start_time": "2023-02-27T19:05:22.876Z"
      },
      {
        "duration": 1606,
        "start_time": "2023-02-27T19:05:28.933Z"
      },
      {
        "duration": 922,
        "start_time": "2023-02-27T19:05:36.568Z"
      },
      {
        "duration": 1107,
        "start_time": "2023-02-27T19:05:45.663Z"
      },
      {
        "duration": 9,
        "start_time": "2023-02-27T19:05:56.595Z"
      },
      {
        "duration": 270,
        "start_time": "2023-02-27T19:06:01.278Z"
      },
      {
        "duration": 44,
        "start_time": "2023-02-27T19:06:10.733Z"
      },
      {
        "duration": 46,
        "start_time": "2023-02-27T19:06:14.063Z"
      },
      {
        "duration": 221,
        "start_time": "2023-02-27T19:14:56.405Z"
      },
      {
        "duration": 1512,
        "start_time": "2023-02-27T19:22:21.822Z"
      },
      {
        "duration": 4,
        "start_time": "2023-02-27T19:24:02.176Z"
      },
      {
        "duration": 5,
        "start_time": "2023-02-27T19:40:03.374Z"
      },
      {
        "duration": 8,
        "start_time": "2023-02-27T19:40:05.904Z"
      },
      {
        "duration": 48,
        "start_time": "2023-02-27T19:40:44.527Z"
      },
      {
        "duration": 18,
        "start_time": "2023-02-28T06:56:27.569Z"
      },
      {
        "duration": 55,
        "start_time": "2023-02-28T08:11:30.211Z"
      },
      {
        "duration": 12,
        "start_time": "2023-02-28T08:11:37.952Z"
      },
      {
        "duration": 1964,
        "start_time": "2023-02-28T08:11:49.231Z"
      },
      {
        "duration": 2666,
        "start_time": "2023-02-28T08:11:53.458Z"
      },
      {
        "duration": 96,
        "start_time": "2023-02-28T08:11:56.634Z"
      },
      {
        "duration": 62,
        "start_time": "2023-02-28T08:12:00.935Z"
      },
      {
        "duration": 279,
        "start_time": "2023-02-28T08:12:04.312Z"
      },
      {
        "duration": 11,
        "start_time": "2023-02-28T08:12:07.398Z"
      },
      {
        "duration": 226,
        "start_time": "2023-02-28T08:12:11.514Z"
      },
      {
        "duration": 1384,
        "start_time": "2023-02-28T08:12:20.234Z"
      },
      {
        "duration": 1020,
        "start_time": "2023-02-28T08:12:25.662Z"
      },
      {
        "duration": 9,
        "start_time": "2023-02-28T08:12:29.494Z"
      },
      {
        "duration": 353,
        "start_time": "2023-02-28T08:12:33.776Z"
      },
      {
        "duration": 37,
        "start_time": "2023-02-28T08:12:37.776Z"
      },
      {
        "duration": 30,
        "start_time": "2023-02-28T08:12:42.197Z"
      },
      {
        "duration": 115,
        "start_time": "2023-02-28T08:12:46.838Z"
      },
      {
        "duration": 62,
        "start_time": "2023-02-28T08:14:04.913Z"
      },
      {
        "duration": 42,
        "start_time": "2023-02-28T08:15:24.983Z"
      },
      {
        "duration": 36,
        "start_time": "2023-02-28T08:16:07.718Z"
      },
      {
        "duration": 11,
        "start_time": "2023-02-28T08:16:10.827Z"
      },
      {
        "duration": 17,
        "start_time": "2023-02-28T08:16:45.285Z"
      },
      {
        "duration": 60,
        "start_time": "2023-02-28T08:16:55.243Z"
      },
      {
        "duration": 20,
        "start_time": "2023-02-28T08:18:08.130Z"
      },
      {
        "duration": 8,
        "start_time": "2023-02-28T08:18:25.514Z"
      },
      {
        "duration": 4,
        "start_time": "2023-02-28T08:22:39.011Z"
      },
      {
        "duration": 5073,
        "start_time": "2023-02-28T08:31:52.076Z"
      },
      {
        "duration": 4,
        "start_time": "2023-02-28T08:33:55.120Z"
      },
      {
        "duration": 14,
        "start_time": "2023-02-28T08:35:13.133Z"
      },
      {
        "duration": 4,
        "start_time": "2023-02-28T08:36:04.449Z"
      },
      {
        "duration": 5197,
        "start_time": "2023-02-28T08:36:10.877Z"
      },
      {
        "duration": 4987,
        "start_time": "2023-02-28T08:36:19.449Z"
      },
      {
        "duration": 0,
        "start_time": "2023-02-28T08:55:08.697Z"
      },
      {
        "duration": 0,
        "start_time": "2023-02-28T08:55:08.698Z"
      },
      {
        "duration": 1508,
        "start_time": "2023-02-28T08:58:32.285Z"
      },
      {
        "duration": 809,
        "start_time": "2023-02-28T08:58:33.796Z"
      },
      {
        "duration": 72,
        "start_time": "2023-02-28T08:58:34.607Z"
      },
      {
        "duration": 60,
        "start_time": "2023-02-28T08:58:34.681Z"
      },
      {
        "duration": 269,
        "start_time": "2023-02-28T08:58:34.744Z"
      },
      {
        "duration": 15,
        "start_time": "2023-02-28T08:58:35.016Z"
      },
      {
        "duration": 250,
        "start_time": "2023-02-28T08:58:35.032Z"
      },
      {
        "duration": 7,
        "start_time": "2023-02-28T08:58:35.284Z"
      },
      {
        "duration": 1334,
        "start_time": "2023-02-28T08:58:35.293Z"
      },
      {
        "duration": 939,
        "start_time": "2023-02-28T08:58:36.630Z"
      },
      {
        "duration": 1056,
        "start_time": "2023-02-28T08:58:37.571Z"
      },
      {
        "duration": 10,
        "start_time": "2023-02-28T08:58:38.630Z"
      },
      {
        "duration": 266,
        "start_time": "2023-02-28T08:58:38.642Z"
      },
      {
        "duration": 46,
        "start_time": "2023-02-28T08:58:38.911Z"
      },
      {
        "duration": 46,
        "start_time": "2023-02-28T08:58:38.959Z"
      },
      {
        "duration": 25,
        "start_time": "2023-02-28T08:58:39.007Z"
      },
      {
        "duration": 12,
        "start_time": "2023-02-28T08:58:39.034Z"
      },
      {
        "duration": 10510,
        "start_time": "2023-02-28T08:58:39.049Z"
      },
      {
        "duration": 3309,
        "start_time": "2023-02-28T09:03:51.424Z"
      },
      {
        "duration": 612537,
        "start_time": "2023-02-28T09:24:13.896Z"
      },
      {
        "duration": 1630,
        "start_time": "2023-03-01T09:47:00.752Z"
      },
      {
        "duration": 1906,
        "start_time": "2023-03-01T09:47:03.018Z"
      },
      {
        "duration": 38,
        "start_time": "2023-03-01T09:47:06.999Z"
      },
      {
        "duration": 249,
        "start_time": "2023-03-01T09:47:10.150Z"
      },
      {
        "duration": 9,
        "start_time": "2023-03-01T09:47:14.294Z"
      },
      {
        "duration": 199,
        "start_time": "2023-03-01T09:47:16.636Z"
      },
      {
        "duration": 6,
        "start_time": "2023-03-01T09:47:21.203Z"
      },
      {
        "duration": 1151,
        "start_time": "2023-03-01T09:47:26.268Z"
      },
      {
        "duration": 706,
        "start_time": "2023-03-01T09:47:33.453Z"
      },
      {
        "duration": 876,
        "start_time": "2023-03-01T09:47:36.749Z"
      },
      {
        "duration": 7,
        "start_time": "2023-03-01T09:47:40.840Z"
      },
      {
        "duration": 183,
        "start_time": "2023-03-01T09:47:49.900Z"
      },
      {
        "duration": 26,
        "start_time": "2023-03-01T09:48:33.205Z"
      },
      {
        "duration": 24,
        "start_time": "2023-03-01T09:48:37.489Z"
      },
      {
        "duration": 12,
        "start_time": "2023-03-01T09:48:42.401Z"
      },
      {
        "duration": 3,
        "start_time": "2023-03-01T09:50:41.577Z"
      },
      {
        "duration": 348,
        "start_time": "2023-03-01T10:03:50.663Z"
      },
      {
        "duration": 3,
        "start_time": "2023-03-01T10:04:36.278Z"
      },
      {
        "duration": 180,
        "start_time": "2023-03-01T10:04:40.016Z"
      },
      {
        "duration": 10,
        "start_time": "2023-03-01T10:07:10.698Z"
      },
      {
        "duration": 3,
        "start_time": "2023-03-01T10:07:33.989Z"
      },
      {
        "duration": 308,
        "start_time": "2023-03-01T10:07:37.580Z"
      },
      {
        "duration": 16,
        "start_time": "2023-03-01T10:09:03.712Z"
      },
      {
        "duration": 29,
        "start_time": "2023-03-01T10:09:35.078Z"
      },
      {
        "duration": 1354,
        "start_time": "2023-03-01T10:09:52.831Z"
      },
      {
        "duration": 638,
        "start_time": "2023-03-01T10:09:54.189Z"
      },
      {
        "duration": 59,
        "start_time": "2023-03-01T10:09:54.830Z"
      },
      {
        "duration": 37,
        "start_time": "2023-03-01T10:09:54.891Z"
      },
      {
        "duration": 246,
        "start_time": "2023-03-01T10:09:54.929Z"
      },
      {
        "duration": 15,
        "start_time": "2023-03-01T10:09:55.176Z"
      },
      {
        "duration": 209,
        "start_time": "2023-03-01T10:09:55.192Z"
      },
      {
        "duration": 6,
        "start_time": "2023-03-01T10:09:55.402Z"
      },
      {
        "duration": 1113,
        "start_time": "2023-03-01T10:09:55.410Z"
      },
      {
        "duration": 806,
        "start_time": "2023-03-01T10:09:56.525Z"
      },
      {
        "duration": 830,
        "start_time": "2023-03-01T10:09:57.333Z"
      },
      {
        "duration": 6,
        "start_time": "2023-03-01T10:09:58.164Z"
      },
      {
        "duration": 197,
        "start_time": "2023-03-01T10:09:58.172Z"
      },
      {
        "duration": 27,
        "start_time": "2023-03-01T10:09:58.371Z"
      },
      {
        "duration": 154,
        "start_time": "2023-03-01T10:09:58.400Z"
      },
      {
        "duration": 0,
        "start_time": "2023-03-01T10:09:58.556Z"
      },
      {
        "duration": 0,
        "start_time": "2023-03-01T10:09:58.557Z"
      },
      {
        "duration": 0,
        "start_time": "2023-03-01T10:09:58.558Z"
      },
      {
        "duration": 0,
        "start_time": "2023-03-01T10:09:58.559Z"
      },
      {
        "duration": 0,
        "start_time": "2023-03-01T10:09:58.559Z"
      },
      {
        "duration": 21,
        "start_time": "2023-03-01T10:11:00.891Z"
      },
      {
        "duration": 31,
        "start_time": "2023-03-01T10:11:22.599Z"
      },
      {
        "duration": 29,
        "start_time": "2023-03-01T10:12:01.022Z"
      },
      {
        "duration": 34,
        "start_time": "2023-03-01T10:12:12.149Z"
      },
      {
        "duration": 31,
        "start_time": "2023-03-01T10:12:45.262Z"
      },
      {
        "duration": 23,
        "start_time": "2023-03-01T10:13:40.227Z"
      },
      {
        "duration": 27,
        "start_time": "2023-03-01T10:13:51.650Z"
      },
      {
        "duration": 7,
        "start_time": "2023-03-01T10:14:11.216Z"
      },
      {
        "duration": 13,
        "start_time": "2023-03-01T10:14:16.626Z"
      },
      {
        "duration": 4,
        "start_time": "2023-03-01T10:14:26.702Z"
      },
      {
        "duration": 220,
        "start_time": "2023-03-01T10:14:31.967Z"
      },
      {
        "duration": 231,
        "start_time": "2023-03-01T11:07:01.479Z"
      },
      {
        "duration": 10,
        "start_time": "2023-03-01T11:09:08.417Z"
      },
      {
        "duration": 7,
        "start_time": "2023-03-01T11:09:21.653Z"
      },
      {
        "duration": 11,
        "start_time": "2023-03-01T11:09:28.614Z"
      },
      {
        "duration": 361,
        "start_time": "2023-03-01T11:10:26.830Z"
      },
      {
        "duration": 3,
        "start_time": "2023-03-01T11:10:42.129Z"
      },
      {
        "duration": 270,
        "start_time": "2023-03-01T11:10:45.331Z"
      },
      {
        "duration": 313,
        "start_time": "2023-03-01T11:11:36.277Z"
      },
      {
        "duration": 1219,
        "start_time": "2023-03-01T11:11:44.769Z"
      },
      {
        "duration": 2667,
        "start_time": "2023-03-01T11:12:00.521Z"
      },
      {
        "duration": 2230,
        "start_time": "2023-03-01T11:12:30.859Z"
      },
      {
        "duration": 9,
        "start_time": "2023-03-01T11:16:36.183Z"
      },
      {
        "duration": 13,
        "start_time": "2023-03-01T11:18:43.300Z"
      },
      {
        "duration": 3,
        "start_time": "2023-03-01T11:18:47.583Z"
      },
      {
        "duration": 2234,
        "start_time": "2023-03-01T11:18:52.964Z"
      },
      {
        "duration": 2211,
        "start_time": "2023-03-01T11:23:16.195Z"
      },
      {
        "duration": 98,
        "start_time": "2023-03-01T11:23:34.627Z"
      },
      {
        "duration": 102,
        "start_time": "2023-03-01T11:24:57.413Z"
      },
      {
        "duration": 10,
        "start_time": "2023-03-01T11:28:25.850Z"
      },
      {
        "duration": 4,
        "start_time": "2023-03-01T11:38:38.152Z"
      },
      {
        "duration": 11,
        "start_time": "2023-03-01T11:38:50.504Z"
      },
      {
        "duration": 288,
        "start_time": "2023-03-01T11:39:07.501Z"
      },
      {
        "duration": 6,
        "start_time": "2023-03-01T11:43:20.336Z"
      },
      {
        "duration": 4,
        "start_time": "2023-03-01T11:43:22.633Z"
      },
      {
        "duration": 229,
        "start_time": "2023-03-01T11:43:40.873Z"
      },
      {
        "duration": 49,
        "start_time": "2023-03-01T11:44:59.361Z"
      },
      {
        "duration": 13,
        "start_time": "2023-03-01T11:45:52.825Z"
      },
      {
        "duration": 653,
        "start_time": "2023-03-01T11:46:11.455Z"
      },
      {
        "duration": 64,
        "start_time": "2023-03-01T11:46:14.141Z"
      },
      {
        "duration": 647,
        "start_time": "2023-03-01T11:46:45.699Z"
      },
      {
        "duration": 53,
        "start_time": "2023-03-01T11:46:49.585Z"
      },
      {
        "duration": 54,
        "start_time": "2023-03-01T11:46:57.808Z"
      },
      {
        "duration": 16,
        "start_time": "2023-03-01T11:47:09.057Z"
      },
      {
        "duration": 232,
        "start_time": "2023-03-01T11:47:11.997Z"
      },
      {
        "duration": 1174,
        "start_time": "2023-03-01T11:47:17.997Z"
      },
      {
        "duration": 25,
        "start_time": "2023-03-01T11:47:37.338Z"
      },
      {
        "duration": 31,
        "start_time": "2023-03-01T11:47:47.313Z"
      },
      {
        "duration": 15,
        "start_time": "2023-03-01T11:48:44.236Z"
      },
      {
        "duration": 15,
        "start_time": "2023-03-01T11:49:31.537Z"
      },
      {
        "duration": 9,
        "start_time": "2023-03-01T11:49:45.185Z"
      },
      {
        "duration": 110,
        "start_time": "2023-03-01T11:49:48.049Z"
      },
      {
        "duration": 10,
        "start_time": "2023-03-01T11:51:51.883Z"
      },
      {
        "duration": 17,
        "start_time": "2023-03-01T11:52:22.743Z"
      },
      {
        "duration": 10,
        "start_time": "2023-03-01T11:52:28.446Z"
      },
      {
        "duration": 7,
        "start_time": "2023-03-01T11:52:48.685Z"
      },
      {
        "duration": 606,
        "start_time": "2023-03-01T11:52:51.240Z"
      },
      {
        "duration": 61,
        "start_time": "2023-03-01T11:53:15.045Z"
      },
      {
        "duration": 14,
        "start_time": "2023-03-01T11:53:35.075Z"
      },
      {
        "duration": 607,
        "start_time": "2023-03-01T11:53:48.049Z"
      },
      {
        "duration": 642,
        "start_time": "2023-03-01T11:54:13.777Z"
      },
      {
        "duration": 57,
        "start_time": "2023-03-01T11:54:17.877Z"
      },
      {
        "duration": 37,
        "start_time": "2023-03-01T11:54:23.524Z"
      },
      {
        "duration": 238,
        "start_time": "2023-03-01T11:54:28.279Z"
      },
      {
        "duration": 12,
        "start_time": "2023-03-01T11:54:31.378Z"
      },
      {
        "duration": 202,
        "start_time": "2023-03-01T11:54:34.062Z"
      },
      {
        "duration": 21,
        "start_time": "2023-03-01T11:54:41.744Z"
      },
      {
        "duration": 23,
        "start_time": "2023-03-01T11:54:47.271Z"
      },
      {
        "duration": 11,
        "start_time": "2023-03-01T11:54:56.719Z"
      },
      {
        "duration": 21,
        "start_time": "2023-03-01T11:55:08.249Z"
      },
      {
        "duration": 10,
        "start_time": "2023-03-01T11:55:16.133Z"
      },
      {
        "duration": 3,
        "start_time": "2023-03-01T11:55:21.508Z"
      },
      {
        "duration": 104,
        "start_time": "2023-03-01T11:56:20.827Z"
      },
      {
        "duration": 5,
        "start_time": "2023-03-01T12:04:40.517Z"
      },
      {
        "duration": 115,
        "start_time": "2023-03-01T12:04:48.615Z"
      },
      {
        "duration": 396,
        "start_time": "2023-03-01T12:05:01.502Z"
      },
      {
        "duration": 4,
        "start_time": "2023-03-01T12:06:55.562Z"
      },
      {
        "duration": 113,
        "start_time": "2023-03-01T12:06:58.870Z"
      },
      {
        "duration": 352,
        "start_time": "2023-03-01T12:07:17.054Z"
      },
      {
        "duration": 522,
        "start_time": "2023-03-01T12:08:07.926Z"
      },
      {
        "duration": 509,
        "start_time": "2023-03-01T12:08:25.375Z"
      },
      {
        "duration": 16540,
        "start_time": "2023-03-01T12:08:45.285Z"
      },
      {
        "duration": 302,
        "start_time": "2023-03-01T12:09:47.491Z"
      },
      {
        "duration": 15,
        "start_time": "2023-03-01T12:24:13.868Z"
      },
      {
        "duration": 90,
        "start_time": "2023-03-01T12:27:23.363Z"
      },
      {
        "duration": 70,
        "start_time": "2023-03-01T12:27:29.669Z"
      },
      {
        "duration": 9,
        "start_time": "2023-03-01T12:27:37.879Z"
      },
      {
        "duration": 8,
        "start_time": "2023-03-01T12:28:00.164Z"
      },
      {
        "duration": 7,
        "start_time": "2023-03-01T12:28:42.221Z"
      },
      {
        "duration": 2496,
        "start_time": "2023-03-01T12:34:06.692Z"
      },
      {
        "duration": 2536,
        "start_time": "2023-03-01T12:35:50.252Z"
      },
      {
        "duration": 3081,
        "start_time": "2023-03-01T12:36:04.215Z"
      },
      {
        "duration": 2633,
        "start_time": "2023-03-01T12:36:28.854Z"
      },
      {
        "duration": 3446,
        "start_time": "2023-03-01T12:36:48.545Z"
      },
      {
        "duration": 3441,
        "start_time": "2023-03-01T12:37:09.452Z"
      },
      {
        "duration": 2570,
        "start_time": "2023-03-01T12:38:15.919Z"
      },
      {
        "duration": 75,
        "start_time": "2023-03-01T12:44:08.489Z"
      },
      {
        "duration": 2655,
        "start_time": "2023-03-01T12:44:14.236Z"
      },
      {
        "duration": 4452,
        "start_time": "2023-03-01T13:05:56.553Z"
      },
      {
        "duration": 8914,
        "start_time": "2023-03-01T13:06:07.957Z"
      },
      {
        "duration": 1416,
        "start_time": "2023-03-01T17:46:53.117Z"
      },
      {
        "duration": 797,
        "start_time": "2023-03-01T17:46:54.535Z"
      },
      {
        "duration": 73,
        "start_time": "2023-03-01T17:46:55.334Z"
      },
      {
        "duration": 37,
        "start_time": "2023-03-01T17:46:55.412Z"
      },
      {
        "duration": 260,
        "start_time": "2023-03-01T17:46:55.451Z"
      },
      {
        "duration": 10,
        "start_time": "2023-03-01T17:46:55.713Z"
      },
      {
        "duration": 211,
        "start_time": "2023-03-01T17:46:55.724Z"
      },
      {
        "duration": 5,
        "start_time": "2023-03-01T17:46:55.937Z"
      },
      {
        "duration": 1231,
        "start_time": "2023-03-01T17:46:55.943Z"
      },
      {
        "duration": 791,
        "start_time": "2023-03-01T17:46:57.176Z"
      },
      {
        "duration": 908,
        "start_time": "2023-03-01T17:46:57.969Z"
      },
      {
        "duration": 27,
        "start_time": "2023-03-01T17:46:58.879Z"
      },
      {
        "duration": 203,
        "start_time": "2023-03-01T17:46:58.912Z"
      },
      {
        "duration": 21,
        "start_time": "2023-03-01T17:46:59.118Z"
      },
      {
        "duration": 29,
        "start_time": "2023-03-01T17:46:59.140Z"
      },
      {
        "duration": 7,
        "start_time": "2023-03-01T17:46:59.171Z"
      },
      {
        "duration": 36333,
        "start_time": "2023-03-01T17:46:59.179Z"
      },
      {
        "duration": 0,
        "start_time": "2023-03-01T17:47:35.515Z"
      },
      {
        "duration": 0,
        "start_time": "2023-03-01T17:47:35.516Z"
      },
      {
        "duration": 0,
        "start_time": "2023-03-01T17:48:37.515Z"
      },
      {
        "duration": 5849,
        "start_time": "2023-03-01T17:48:46.152Z"
      },
      {
        "duration": 1365,
        "start_time": "2023-03-01T18:26:42.390Z"
      },
      {
        "duration": 683,
        "start_time": "2023-03-01T18:26:43.758Z"
      },
      {
        "duration": 70,
        "start_time": "2023-03-01T18:26:44.443Z"
      },
      {
        "duration": 35,
        "start_time": "2023-03-01T18:26:44.515Z"
      },
      {
        "duration": 251,
        "start_time": "2023-03-01T18:26:44.552Z"
      },
      {
        "duration": 10,
        "start_time": "2023-03-01T18:26:44.804Z"
      },
      {
        "duration": 196,
        "start_time": "2023-03-01T18:26:44.815Z"
      },
      {
        "duration": 4,
        "start_time": "2023-03-01T18:26:45.013Z"
      },
      {
        "duration": 1088,
        "start_time": "2023-03-01T18:26:45.019Z"
      },
      {
        "duration": 778,
        "start_time": "2023-03-01T18:26:46.108Z"
      },
      {
        "duration": 826,
        "start_time": "2023-03-01T18:26:46.888Z"
      },
      {
        "duration": 8,
        "start_time": "2023-03-01T18:26:47.716Z"
      },
      {
        "duration": 193,
        "start_time": "2023-03-01T18:26:47.726Z"
      },
      {
        "duration": 21,
        "start_time": "2023-03-01T18:26:47.922Z"
      },
      {
        "duration": 30,
        "start_time": "2023-03-01T18:26:47.945Z"
      },
      {
        "duration": 8,
        "start_time": "2023-03-01T18:26:47.985Z"
      },
      {
        "duration": 34846,
        "start_time": "2023-03-01T18:26:47.995Z"
      },
      {
        "duration": 0,
        "start_time": "2023-03-01T18:27:22.843Z"
      },
      {
        "duration": 0,
        "start_time": "2023-03-01T18:27:22.844Z"
      },
      {
        "duration": 22,
        "start_time": "2023-03-01T18:27:31.443Z"
      },
      {
        "duration": 21,
        "start_time": "2023-03-01T18:27:35.387Z"
      },
      {
        "duration": 9,
        "start_time": "2023-03-01T18:27:38.811Z"
      },
      {
        "duration": 34699,
        "start_time": "2023-03-01T18:27:44.639Z"
      },
      {
        "duration": 0,
        "start_time": "2023-03-01T18:28:19.340Z"
      },
      {
        "duration": 34955,
        "start_time": "2023-03-01T18:30:32.964Z"
      },
      {
        "duration": 1343,
        "start_time": "2023-03-01T19:08:07.329Z"
      },
      {
        "duration": 648,
        "start_time": "2023-03-01T19:08:08.674Z"
      },
      {
        "duration": 68,
        "start_time": "2023-03-01T19:08:09.324Z"
      },
      {
        "duration": 37,
        "start_time": "2023-03-01T19:08:09.394Z"
      },
      {
        "duration": 240,
        "start_time": "2023-03-01T19:08:09.433Z"
      },
      {
        "duration": 16,
        "start_time": "2023-03-01T19:08:09.675Z"
      },
      {
        "duration": 189,
        "start_time": "2023-03-01T19:08:09.692Z"
      },
      {
        "duration": 5,
        "start_time": "2023-03-01T19:08:09.885Z"
      },
      {
        "duration": 1105,
        "start_time": "2023-03-01T19:08:09.892Z"
      },
      {
        "duration": 717,
        "start_time": "2023-03-01T19:08:10.998Z"
      },
      {
        "duration": 833,
        "start_time": "2023-03-01T19:08:11.716Z"
      },
      {
        "duration": 8,
        "start_time": "2023-03-01T19:08:12.551Z"
      },
      {
        "duration": 183,
        "start_time": "2023-03-01T19:08:12.561Z"
      },
      {
        "duration": 21,
        "start_time": "2023-03-01T19:08:12.747Z"
      },
      {
        "duration": 34,
        "start_time": "2023-03-01T19:08:12.770Z"
      },
      {
        "duration": 9,
        "start_time": "2023-03-01T19:08:12.806Z"
      },
      {
        "duration": 34238,
        "start_time": "2023-03-01T19:08:12.817Z"
      },
      {
        "duration": 1398,
        "start_time": "2023-03-01T19:20:08.078Z"
      },
      {
        "duration": 646,
        "start_time": "2023-03-01T19:20:09.477Z"
      },
      {
        "duration": 69,
        "start_time": "2023-03-01T19:20:10.124Z"
      },
      {
        "duration": 37,
        "start_time": "2023-03-01T19:20:10.194Z"
      },
      {
        "duration": 252,
        "start_time": "2023-03-01T19:20:10.233Z"
      },
      {
        "duration": 10,
        "start_time": "2023-03-01T19:20:10.487Z"
      },
      {
        "duration": 194,
        "start_time": "2023-03-01T19:20:10.498Z"
      },
      {
        "duration": 5,
        "start_time": "2023-03-01T19:20:10.694Z"
      },
      {
        "duration": 1104,
        "start_time": "2023-03-01T19:20:10.701Z"
      },
      {
        "duration": 757,
        "start_time": "2023-03-01T19:20:11.807Z"
      },
      {
        "duration": 864,
        "start_time": "2023-03-01T19:20:12.566Z"
      },
      {
        "duration": 7,
        "start_time": "2023-03-01T19:20:13.432Z"
      },
      {
        "duration": 188,
        "start_time": "2023-03-01T19:20:13.441Z"
      },
      {
        "duration": 24,
        "start_time": "2023-03-01T19:20:13.632Z"
      },
      {
        "duration": 30,
        "start_time": "2023-03-01T19:20:13.658Z"
      },
      {
        "duration": 8,
        "start_time": "2023-03-01T19:20:13.690Z"
      },
      {
        "duration": 34176,
        "start_time": "2023-03-01T19:20:13.699Z"
      },
      {
        "duration": 1410,
        "start_time": "2023-03-01T19:43:25.046Z"
      },
      {
        "duration": 657,
        "start_time": "2023-03-01T19:43:26.458Z"
      },
      {
        "duration": 56,
        "start_time": "2023-03-01T19:43:27.116Z"
      },
      {
        "duration": 47,
        "start_time": "2023-03-01T19:43:27.173Z"
      },
      {
        "duration": 243,
        "start_time": "2023-03-01T19:43:27.221Z"
      },
      {
        "duration": 10,
        "start_time": "2023-03-01T19:43:27.465Z"
      },
      {
        "duration": 187,
        "start_time": "2023-03-01T19:43:27.486Z"
      },
      {
        "duration": 12,
        "start_time": "2023-03-01T19:43:27.675Z"
      },
      {
        "duration": 1059,
        "start_time": "2023-03-01T19:43:27.689Z"
      },
      {
        "duration": 708,
        "start_time": "2023-03-01T19:43:28.750Z"
      },
      {
        "duration": 835,
        "start_time": "2023-03-01T19:43:29.460Z"
      },
      {
        "duration": 8,
        "start_time": "2023-03-01T19:43:30.296Z"
      },
      {
        "duration": 185,
        "start_time": "2023-03-01T19:43:30.306Z"
      },
      {
        "duration": 21,
        "start_time": "2023-03-01T19:43:30.494Z"
      },
      {
        "duration": 49,
        "start_time": "2023-03-01T19:43:30.516Z"
      },
      {
        "duration": 27,
        "start_time": "2023-03-01T19:43:30.566Z"
      },
      {
        "duration": 22,
        "start_time": "2023-03-01T19:43:30.594Z"
      },
      {
        "duration": 0,
        "start_time": "2023-03-01T19:43:30.617Z"
      },
      {
        "duration": 0,
        "start_time": "2023-03-01T19:43:30.618Z"
      },
      {
        "duration": 0,
        "start_time": "2023-03-01T19:43:30.619Z"
      },
      {
        "duration": 0,
        "start_time": "2023-03-01T19:43:30.620Z"
      },
      {
        "duration": 0,
        "start_time": "2023-03-01T19:43:30.621Z"
      },
      {
        "duration": 0,
        "start_time": "2023-03-01T19:43:30.622Z"
      },
      {
        "duration": 33858,
        "start_time": "2023-03-01T19:43:57.044Z"
      },
      {
        "duration": 2490,
        "start_time": "2023-03-01T19:44:52.601Z"
      },
      {
        "duration": 54,
        "start_time": "2023-03-02T05:43:23.335Z"
      },
      {
        "duration": 9,
        "start_time": "2023-03-02T05:43:26.298Z"
      },
      {
        "duration": 6,
        "start_time": "2023-03-02T05:43:28.790Z"
      },
      {
        "duration": 1716,
        "start_time": "2023-03-02T05:43:33.288Z"
      },
      {
        "duration": 3127,
        "start_time": "2023-03-02T05:43:36.608Z"
      },
      {
        "duration": 99,
        "start_time": "2023-03-02T05:43:41.740Z"
      },
      {
        "duration": 17,
        "start_time": "2023-03-02T05:43:56.315Z"
      },
      {
        "duration": 24,
        "start_time": "2023-03-02T05:43:58.823Z"
      },
      {
        "duration": 1504,
        "start_time": "2023-03-02T05:44:15.536Z"
      },
      {
        "duration": 773,
        "start_time": "2023-03-02T05:44:17.042Z"
      },
      {
        "duration": 80,
        "start_time": "2023-03-02T05:44:17.817Z"
      },
      {
        "duration": 60,
        "start_time": "2023-03-02T05:44:17.899Z"
      },
      {
        "duration": 284,
        "start_time": "2023-03-02T05:44:17.962Z"
      },
      {
        "duration": 11,
        "start_time": "2023-03-02T05:44:18.248Z"
      },
      {
        "duration": 203,
        "start_time": "2023-03-02T05:44:18.260Z"
      },
      {
        "duration": 6,
        "start_time": "2023-03-02T05:44:18.465Z"
      },
      {
        "duration": 1332,
        "start_time": "2023-03-02T05:44:18.474Z"
      },
      {
        "duration": 877,
        "start_time": "2023-03-02T05:44:19.808Z"
      },
      {
        "duration": 1062,
        "start_time": "2023-03-02T05:44:20.687Z"
      },
      {
        "duration": 11,
        "start_time": "2023-03-02T05:44:21.752Z"
      },
      {
        "duration": 245,
        "start_time": "2023-03-02T05:44:21.765Z"
      },
      {
        "duration": 29,
        "start_time": "2023-03-02T05:44:22.014Z"
      },
      {
        "duration": 31,
        "start_time": "2023-03-02T05:44:22.045Z"
      },
      {
        "duration": 9,
        "start_time": "2023-03-02T05:44:22.078Z"
      },
      {
        "duration": 32587,
        "start_time": "2023-03-02T05:44:22.090Z"
      },
      {
        "duration": 3409361,
        "start_time": "2023-03-02T05:44:54.678Z"
      },
      {
        "duration": 0,
        "start_time": "2023-03-02T06:41:44.045Z"
      },
      {
        "duration": 0,
        "start_time": "2023-03-02T06:41:44.047Z"
      },
      {
        "duration": 0,
        "start_time": "2023-03-02T06:41:44.048Z"
      },
      {
        "duration": 0,
        "start_time": "2023-03-02T06:41:44.049Z"
      },
      {
        "duration": 0,
        "start_time": "2023-03-02T06:41:44.052Z"
      },
      {
        "duration": 118456,
        "start_time": "2023-03-02T06:41:54.853Z"
      },
      {
        "duration": 257774,
        "start_time": "2023-03-02T06:44:02.003Z"
      },
      {
        "duration": 591673,
        "start_time": "2023-03-02T06:48:45.667Z"
      },
      {
        "duration": 3593,
        "start_time": "2023-03-02T06:58:49.846Z"
      },
      {
        "duration": 2474144,
        "start_time": "2023-03-02T06:59:02.077Z"
      },
      {
        "duration": 126248,
        "start_time": "2023-03-02T07:41:57.852Z"
      },
      {
        "duration": 691892,
        "start_time": "2023-03-02T07:44:17.738Z"
      },
      {
        "duration": 1459925,
        "start_time": "2023-03-02T07:56:07.226Z"
      },
      {
        "duration": 1926774,
        "start_time": "2023-03-02T08:20:49.240Z"
      },
      {
        "duration": 7,
        "start_time": "2023-03-02T08:52:56.016Z"
      },
      {
        "duration": 1937867,
        "start_time": "2023-03-02T08:59:22.719Z"
      },
      {
        "duration": 32674,
        "start_time": "2023-03-02T09:39:18.000Z"
      },
      {
        "duration": 32677,
        "start_time": "2023-03-02T09:40:03.174Z"
      },
      {
        "duration": 32598,
        "start_time": "2023-03-02T09:41:04.740Z"
      },
      {
        "duration": 551580,
        "start_time": "2023-03-02T09:44:10.280Z"
      },
      {
        "duration": 2382020,
        "start_time": "2023-03-02T09:53:39.004Z"
      },
      {
        "duration": 32633,
        "start_time": "2023-03-02T10:37:55.230Z"
      },
      {
        "duration": 32904,
        "start_time": "2023-03-02T10:39:47.241Z"
      },
      {
        "duration": 32943,
        "start_time": "2023-03-02T10:40:30.100Z"
      },
      {
        "duration": 2986272,
        "start_time": "2023-03-02T10:43:05.827Z"
      },
      {
        "duration": 0,
        "start_time": "2023-03-02T11:32:52.319Z"
      },
      {
        "duration": 229,
        "start_time": "2023-03-02T11:33:42.333Z"
      },
      {
        "duration": 184,
        "start_time": "2023-03-02T11:34:13.333Z"
      },
      {
        "duration": 186,
        "start_time": "2023-03-02T11:34:31.373Z"
      },
      {
        "duration": 16,
        "start_time": "2023-03-02T11:40:13.406Z"
      },
      {
        "duration": 19,
        "start_time": "2023-03-02T11:40:40.728Z"
      },
      {
        "duration": 8,
        "start_time": "2023-03-02T11:41:02.197Z"
      },
      {
        "duration": 47,
        "start_time": "2023-03-02T12:00:08.012Z"
      },
      {
        "duration": 8,
        "start_time": "2023-03-02T12:08:58.643Z"
      },
      {
        "duration": 0,
        "start_time": "2023-03-02T16:17:46.843Z"
      },
      {
        "duration": 2522,
        "start_time": "2023-03-02T16:17:51.474Z"
      },
      {
        "duration": 37,
        "start_time": "2023-03-02T17:01:14.500Z"
      },
      {
        "duration": 48,
        "start_time": "2023-03-03T07:04:54.492Z"
      },
      {
        "duration": 1655,
        "start_time": "2023-03-03T07:05:09.389Z"
      },
      {
        "duration": 1815,
        "start_time": "2023-03-03T07:05:12.141Z"
      },
      {
        "duration": 41,
        "start_time": "2023-03-03T07:05:17.689Z"
      },
      {
        "duration": 227,
        "start_time": "2023-03-03T07:05:22.317Z"
      },
      {
        "duration": 12,
        "start_time": "2023-03-03T07:05:24.895Z"
      },
      {
        "duration": 273,
        "start_time": "2023-03-03T07:05:28.016Z"
      },
      {
        "duration": 5,
        "start_time": "2023-03-03T07:05:32.745Z"
      },
      {
        "duration": 28,
        "start_time": "2023-03-03T07:05:46.252Z"
      },
      {
        "duration": 23,
        "start_time": "2023-03-03T07:05:57.380Z"
      },
      {
        "duration": 9,
        "start_time": "2023-03-03T07:06:10.944Z"
      },
      {
        "duration": 74,
        "start_time": "2023-03-03T07:06:14.888Z"
      },
      {
        "duration": 11,
        "start_time": "2023-03-03T07:06:23.429Z"
      },
      {
        "duration": 3020,
        "start_time": "2023-03-03T07:07:26.178Z"
      },
      {
        "duration": 2710,
        "start_time": "2023-03-03T07:08:24.634Z"
      },
      {
        "duration": 2436,
        "start_time": "2023-03-03T07:08:30.632Z"
      },
      {
        "duration": 2286,
        "start_time": "2023-03-03T07:19:27.539Z"
      },
      {
        "duration": 2207,
        "start_time": "2023-03-03T07:22:27.154Z"
      },
      {
        "duration": 24,
        "start_time": "2023-03-03T07:23:14.960Z"
      },
      {
        "duration": 31,
        "start_time": "2023-03-03T07:23:22.418Z"
      },
      {
        "duration": 9,
        "start_time": "2023-03-03T07:23:31.183Z"
      },
      {
        "duration": 2235,
        "start_time": "2023-03-03T07:23:34.218Z"
      },
      {
        "duration": 2268,
        "start_time": "2023-03-03T07:23:50.480Z"
      },
      {
        "duration": 2437,
        "start_time": "2023-03-03T07:26:11.541Z"
      },
      {
        "duration": 80,
        "start_time": "2023-03-03T07:26:37.288Z"
      },
      {
        "duration": 75,
        "start_time": "2023-03-03T07:26:48.086Z"
      },
      {
        "duration": 2389,
        "start_time": "2023-03-03T07:26:56.672Z"
      },
      {
        "duration": 2450,
        "start_time": "2023-03-03T07:27:15.390Z"
      },
      {
        "duration": 2260,
        "start_time": "2023-03-03T07:29:12.880Z"
      },
      {
        "duration": 2249,
        "start_time": "2023-03-03T07:29:30.943Z"
      },
      {
        "duration": 2380,
        "start_time": "2023-03-03T07:29:48.424Z"
      },
      {
        "duration": 2410,
        "start_time": "2023-03-03T07:30:00.781Z"
      },
      {
        "duration": 2397,
        "start_time": "2023-03-03T07:31:59.681Z"
      },
      {
        "duration": 2297,
        "start_time": "2023-03-03T07:33:00.981Z"
      },
      {
        "duration": 2397,
        "start_time": "2023-03-03T07:35:21.163Z"
      },
      {
        "duration": 2345,
        "start_time": "2023-03-03T07:35:52.939Z"
      },
      {
        "duration": 2348,
        "start_time": "2023-03-03T07:42:32.924Z"
      },
      {
        "duration": 2473,
        "start_time": "2023-03-03T07:42:50.055Z"
      },
      {
        "duration": 2534,
        "start_time": "2023-03-03T07:43:11.246Z"
      },
      {
        "duration": 2548,
        "start_time": "2023-03-03T07:43:32.913Z"
      },
      {
        "duration": 2584,
        "start_time": "2023-03-03T07:43:57.818Z"
      },
      {
        "duration": 2583,
        "start_time": "2023-03-03T07:44:10.924Z"
      },
      {
        "duration": 10,
        "start_time": "2023-03-03T07:46:38.460Z"
      },
      {
        "duration": 33,
        "start_time": "2023-03-03T07:47:06.450Z"
      },
      {
        "duration": 8,
        "start_time": "2023-03-03T07:47:23.780Z"
      },
      {
        "duration": 2512,
        "start_time": "2023-03-03T07:47:26.475Z"
      },
      {
        "duration": 230,
        "start_time": "2023-03-03T07:48:03.812Z"
      },
      {
        "duration": 270,
        "start_time": "2023-03-03T07:48:33.973Z"
      },
      {
        "duration": 22,
        "start_time": "2023-03-03T07:50:12.525Z"
      },
      {
        "duration": 37,
        "start_time": "2023-03-03T07:50:23.325Z"
      },
      {
        "duration": 9,
        "start_time": "2023-03-03T07:50:34.677Z"
      },
      {
        "duration": 77,
        "start_time": "2023-03-03T07:51:09.469Z"
      },
      {
        "duration": 36,
        "start_time": "2023-03-03T07:51:12.955Z"
      },
      {
        "duration": 232,
        "start_time": "2023-03-03T07:51:17.917Z"
      },
      {
        "duration": 12,
        "start_time": "2023-03-03T07:51:24.270Z"
      },
      {
        "duration": 205,
        "start_time": "2023-03-03T07:51:26.853Z"
      },
      {
        "duration": 6,
        "start_time": "2023-03-03T07:51:30.468Z"
      },
      {
        "duration": 24,
        "start_time": "2023-03-03T07:51:43.278Z"
      },
      {
        "duration": 13,
        "start_time": "2023-03-03T07:51:49.386Z"
      },
      {
        "duration": 56,
        "start_time": "2023-03-03T07:52:23.538Z"
      },
      {
        "duration": 59,
        "start_time": "2023-03-03T07:52:26.409Z"
      },
      {
        "duration": 1854,
        "start_time": "2023-03-03T07:52:35.816Z"
      },
      {
        "duration": 726,
        "start_time": "2023-03-03T07:52:37.672Z"
      },
      {
        "duration": 63,
        "start_time": "2023-03-03T07:52:38.399Z"
      },
      {
        "duration": 60,
        "start_time": "2023-03-03T07:52:38.464Z"
      },
      {
        "duration": 239,
        "start_time": "2023-03-03T07:52:38.529Z"
      },
      {
        "duration": 12,
        "start_time": "2023-03-03T07:52:38.770Z"
      },
      {
        "duration": 281,
        "start_time": "2023-03-03T07:52:38.784Z"
      },
      {
        "duration": 5,
        "start_time": "2023-03-03T07:52:39.067Z"
      },
      {
        "duration": 1421,
        "start_time": "2023-03-03T07:52:39.073Z"
      },
      {
        "duration": 923,
        "start_time": "2023-03-03T07:52:40.495Z"
      },
      {
        "duration": 1018,
        "start_time": "2023-03-03T07:52:41.419Z"
      },
      {
        "duration": 8,
        "start_time": "2023-03-03T07:52:42.440Z"
      },
      {
        "duration": 213,
        "start_time": "2023-03-03T07:52:42.450Z"
      },
      {
        "duration": 26,
        "start_time": "2023-03-03T07:52:42.666Z"
      },
      {
        "duration": 56,
        "start_time": "2023-03-03T07:52:42.694Z"
      },
      {
        "duration": 10,
        "start_time": "2023-03-03T07:52:42.752Z"
      },
      {
        "duration": 3333,
        "start_time": "2023-03-03T07:52:42.764Z"
      },
      {
        "duration": 10382,
        "start_time": "2023-03-03T07:52:46.099Z"
      },
      {
        "duration": 263,
        "start_time": "2023-03-03T07:52:56.483Z"
      },
      {
        "duration": 7,
        "start_time": "2023-03-03T07:52:56.747Z"
      },
      {
        "duration": 157,
        "start_time": "2023-03-03T07:52:56.755Z"
      },
      {
        "duration": 0,
        "start_time": "2023-03-03T07:52:56.914Z"
      },
      {
        "duration": 32,
        "start_time": "2023-03-03T07:53:56.146Z"
      },
      {
        "duration": 9,
        "start_time": "2023-03-03T07:54:04.688Z"
      },
      {
        "duration": 2556,
        "start_time": "2023-03-03T07:54:08.011Z"
      },
      {
        "duration": 10097,
        "start_time": "2023-03-03T07:54:25.851Z"
      },
      {
        "duration": 243,
        "start_time": "2023-03-03T07:54:53.816Z"
      },
      {
        "duration": 10076,
        "start_time": "2023-03-03T07:55:08.796Z"
      },
      {
        "duration": 2541,
        "start_time": "2023-03-03T07:55:44.107Z"
      },
      {
        "duration": 6,
        "start_time": "2023-03-03T07:55:54.011Z"
      },
      {
        "duration": 676,
        "start_time": "2023-03-03T07:59:10.159Z"
      },
      {
        "duration": 4,
        "start_time": "2023-03-03T07:59:33.036Z"
      },
      {
        "duration": 628,
        "start_time": "2023-03-03T07:59:36.802Z"
      },
      {
        "duration": 60,
        "start_time": "2023-03-03T07:59:41.542Z"
      },
      {
        "duration": 55,
        "start_time": "2023-03-03T07:59:47.978Z"
      },
      {
        "duration": 219,
        "start_time": "2023-03-03T07:59:54.839Z"
      },
      {
        "duration": 12,
        "start_time": "2023-03-03T07:59:58.117Z"
      },
      {
        "duration": 203,
        "start_time": "2023-03-03T08:00:04.646Z"
      },
      {
        "duration": 5,
        "start_time": "2023-03-03T08:00:08.196Z"
      },
      {
        "duration": 1388,
        "start_time": "2023-03-03T08:00:15.088Z"
      },
      {
        "duration": 825,
        "start_time": "2023-03-03T08:00:21.258Z"
      },
      {
        "duration": 983,
        "start_time": "2023-03-03T08:00:25.252Z"
      },
      {
        "duration": 9,
        "start_time": "2023-03-03T08:00:31.282Z"
      },
      {
        "duration": 174,
        "start_time": "2023-03-03T08:00:43.386Z"
      },
      {
        "duration": 25,
        "start_time": "2023-03-03T08:00:51.029Z"
      },
      {
        "duration": 14,
        "start_time": "2023-03-03T08:00:57.712Z"
      },
      {
        "duration": 77,
        "start_time": "2023-03-03T08:01:19.189Z"
      },
      {
        "duration": 7,
        "start_time": "2023-03-03T08:01:25.683Z"
      },
      {
        "duration": 16,
        "start_time": "2023-03-03T08:01:38.086Z"
      },
      {
        "duration": 10,
        "start_time": "2023-03-03T08:02:00.384Z"
      },
      {
        "duration": 28272,
        "start_time": "2023-03-03T08:02:04.531Z"
      },
      {
        "duration": 51766,
        "start_time": "2023-03-03T08:02:51.106Z"
      },
      {
        "duration": 0,
        "start_time": "2023-03-03T08:03:42.874Z"
      },
      {
        "duration": 2610847,
        "start_time": "2023-03-03T08:03:52.668Z"
      },
      {
        "duration": 3243,
        "start_time": "2023-03-03T08:48:58.579Z"
      },
      {
        "duration": 2637748,
        "start_time": "2023-03-03T08:49:11.019Z"
      },
      {
        "duration": 7,
        "start_time": "2023-03-03T09:59:59.466Z"
      },
      {
        "duration": 182,
        "start_time": "2023-03-03T10:00:03.393Z"
      },
      {
        "duration": 8,
        "start_time": "2023-03-03T10:00:09.038Z"
      },
      {
        "duration": 29701,
        "start_time": "2023-03-03T10:00:26.869Z"
      },
      {
        "duration": 40,
        "start_time": "2023-03-03T10:02:09.938Z"
      },
      {
        "duration": 26,
        "start_time": "2023-03-03T10:02:25.253Z"
      },
      {
        "duration": 648,
        "start_time": "2023-03-03T11:07:09.119Z"
      },
      {
        "duration": 53,
        "start_time": "2023-03-03T11:07:13.659Z"
      },
      {
        "duration": 39,
        "start_time": "2023-03-03T11:07:19.056Z"
      },
      {
        "duration": 221,
        "start_time": "2023-03-03T11:07:26.196Z"
      },
      {
        "duration": 14,
        "start_time": "2023-03-03T11:07:33.270Z"
      },
      {
        "duration": 226,
        "start_time": "2023-03-03T11:07:43.200Z"
      },
      {
        "duration": 8,
        "start_time": "2023-03-03T11:07:50.664Z"
      },
      {
        "duration": 1319,
        "start_time": "2023-03-03T11:08:00.158Z"
      },
      {
        "duration": 807,
        "start_time": "2023-03-03T11:08:07.954Z"
      },
      {
        "duration": 898,
        "start_time": "2023-03-03T11:08:12.572Z"
      },
      {
        "duration": 10,
        "start_time": "2023-03-03T11:10:31.454Z"
      },
      {
        "duration": 11,
        "start_time": "2023-03-03T11:11:20.300Z"
      },
      {
        "duration": 12,
        "start_time": "2023-03-03T11:20:16.042Z"
      },
      {
        "duration": 1127,
        "start_time": "2023-03-03T11:37:50.462Z"
      },
      {
        "duration": 97,
        "start_time": "2023-03-03T11:38:17.503Z"
      },
      {
        "duration": 72,
        "start_time": "2023-03-03T11:38:54.646Z"
      },
      {
        "duration": 73,
        "start_time": "2023-03-03T11:39:23.076Z"
      },
      {
        "duration": 15,
        "start_time": "2023-03-03T11:40:59.145Z"
      },
      {
        "duration": 1169,
        "start_time": "2023-03-03T11:41:19.599Z"
      },
      {
        "duration": 73,
        "start_time": "2023-03-03T11:41:51.768Z"
      },
      {
        "duration": 14,
        "start_time": "2023-03-03T11:42:36.966Z"
      },
      {
        "duration": 74,
        "start_time": "2023-03-03T11:43:44.249Z"
      },
      {
        "duration": 78,
        "start_time": "2023-03-03T11:44:32.630Z"
      },
      {
        "duration": 69,
        "start_time": "2023-03-03T11:48:19.049Z"
      },
      {
        "duration": 520,
        "start_time": "2023-03-03T11:50:37.113Z"
      },
      {
        "duration": 47,
        "start_time": "2023-03-03T11:53:08.705Z"
      },
      {
        "duration": 10,
        "start_time": "2023-03-03T11:53:16.482Z"
      },
      {
        "duration": 80,
        "start_time": "2023-03-03T11:54:53.475Z"
      },
      {
        "duration": 7,
        "start_time": "2023-03-03T11:58:53.971Z"
      },
      {
        "duration": 1397,
        "start_time": "2023-03-03T11:59:00.917Z"
      },
      {
        "duration": 1809,
        "start_time": "2023-03-03T11:59:03.904Z"
      },
      {
        "duration": 62,
        "start_time": "2023-03-03T11:59:08.736Z"
      },
      {
        "duration": 44,
        "start_time": "2023-03-03T11:59:12.571Z"
      },
      {
        "duration": 13,
        "start_time": "2023-03-03T11:59:17.872Z"
      },
      {
        "duration": 248,
        "start_time": "2023-03-03T11:59:23.352Z"
      },
      {
        "duration": 5,
        "start_time": "2023-03-03T11:59:27.484Z"
      },
      {
        "duration": 12,
        "start_time": "2023-03-03T11:59:34.146Z"
      },
      {
        "duration": 1238,
        "start_time": "2023-03-03T11:59:37.310Z"
      },
      {
        "duration": 1261,
        "start_time": "2023-03-03T11:59:59.493Z"
      },
      {
        "duration": 70,
        "start_time": "2023-03-03T12:03:04.280Z"
      },
      {
        "duration": 1150,
        "start_time": "2023-03-03T12:03:10.657Z"
      },
      {
        "duration": 22,
        "start_time": "2023-03-03T12:03:36.595Z"
      },
      {
        "duration": 16,
        "start_time": "2023-03-03T12:04:29.612Z"
      },
      {
        "duration": 20,
        "start_time": "2023-03-03T12:04:46.558Z"
      },
      {
        "duration": 14,
        "start_time": "2023-03-03T12:06:54.419Z"
      },
      {
        "duration": 78,
        "start_time": "2023-03-03T12:15:26.667Z"
      },
      {
        "duration": 37,
        "start_time": "2023-03-03T12:15:49.362Z"
      },
      {
        "duration": 38,
        "start_time": "2023-03-03T12:16:12.411Z"
      },
      {
        "duration": 1366,
        "start_time": "2023-03-03T12:21:22.967Z"
      },
      {
        "duration": 1333,
        "start_time": "2023-03-03T12:21:41.895Z"
      },
      {
        "duration": 1359,
        "start_time": "2023-03-03T12:21:47.167Z"
      },
      {
        "duration": 1380,
        "start_time": "2023-03-03T12:22:34.440Z"
      },
      {
        "duration": 1447,
        "start_time": "2023-03-03T12:22:57.819Z"
      },
      {
        "duration": 352,
        "start_time": "2023-03-03T12:23:14.395Z"
      },
      {
        "duration": 1381,
        "start_time": "2023-03-03T12:23:58.122Z"
      },
      {
        "duration": 1422,
        "start_time": "2023-03-03T12:24:12.562Z"
      },
      {
        "duration": 519,
        "start_time": "2023-03-03T12:24:37.655Z"
      },
      {
        "duration": 182,
        "start_time": "2023-03-03T12:25:13.749Z"
      },
      {
        "duration": 366,
        "start_time": "2023-03-03T12:25:23.698Z"
      },
      {
        "duration": 195,
        "start_time": "2023-03-03T12:25:45.972Z"
      },
      {
        "duration": 1295,
        "start_time": "2023-03-03T12:26:12.316Z"
      },
      {
        "duration": 796,
        "start_time": "2023-03-03T12:26:38.637Z"
      },
      {
        "duration": 1455,
        "start_time": "2023-03-03T12:26:57.158Z"
      },
      {
        "duration": 1381,
        "start_time": "2023-03-03T12:27:32.225Z"
      },
      {
        "duration": 1299,
        "start_time": "2023-03-03T12:27:58.756Z"
      },
      {
        "duration": 1467,
        "start_time": "2023-03-03T12:28:13.784Z"
      },
      {
        "duration": 74,
        "start_time": "2023-03-03T12:31:57.756Z"
      },
      {
        "duration": 73,
        "start_time": "2023-03-03T12:33:13.219Z"
      },
      {
        "duration": 13,
        "start_time": "2023-03-03T12:33:33.148Z"
      },
      {
        "duration": 3,
        "start_time": "2023-03-03T12:47:05.077Z"
      },
      {
        "duration": 80,
        "start_time": "2023-03-03T12:50:08.521Z"
      },
      {
        "duration": 29,
        "start_time": "2023-03-03T12:51:28.957Z"
      },
      {
        "duration": 16,
        "start_time": "2023-03-03T12:52:05.569Z"
      },
      {
        "duration": 31,
        "start_time": "2023-03-03T12:52:09.136Z"
      },
      {
        "duration": 36,
        "start_time": "2023-03-03T12:53:49.942Z"
      },
      {
        "duration": 32,
        "start_time": "2023-03-03T12:53:56.334Z"
      },
      {
        "duration": 45,
        "start_time": "2023-03-03T12:54:07.927Z"
      },
      {
        "duration": 43,
        "start_time": "2023-03-03T12:55:22.044Z"
      },
      {
        "duration": 70,
        "start_time": "2023-03-03T12:56:59.645Z"
      },
      {
        "duration": 9,
        "start_time": "2023-03-03T12:57:13.087Z"
      },
      {
        "duration": 13,
        "start_time": "2023-03-03T13:00:19.222Z"
      },
      {
        "duration": 11,
        "start_time": "2023-03-03T13:00:44.627Z"
      },
      {
        "duration": 6,
        "start_time": "2023-03-03T13:06:00.548Z"
      },
      {
        "duration": 672,
        "start_time": "2023-03-03T13:06:04.167Z"
      },
      {
        "duration": 62,
        "start_time": "2023-03-03T13:06:06.722Z"
      },
      {
        "duration": 43,
        "start_time": "2023-03-03T13:06:10.137Z"
      },
      {
        "duration": 221,
        "start_time": "2023-03-03T13:06:13.940Z"
      },
      {
        "duration": 15,
        "start_time": "2023-03-03T13:06:22.556Z"
      },
      {
        "duration": 239,
        "start_time": "2023-03-03T13:06:29.265Z"
      },
      {
        "duration": 6,
        "start_time": "2023-03-03T13:06:35.232Z"
      },
      {
        "duration": 63,
        "start_time": "2023-03-03T13:06:53.571Z"
      },
      {
        "duration": 1474,
        "start_time": "2023-03-03T13:07:28.602Z"
      },
      {
        "duration": 185,
        "start_time": "2023-03-03T13:08:05.432Z"
      },
      {
        "duration": 30,
        "start_time": "2023-03-03T13:08:08.801Z"
      },
      {
        "duration": 42,
        "start_time": "2023-03-03T13:08:13.314Z"
      },
      {
        "duration": 10,
        "start_time": "2023-03-03T13:08:17.916Z"
      },
      {
        "duration": 3089,
        "start_time": "2023-03-03T13:08:21.962Z"
      },
      {
        "duration": 250,
        "start_time": "2023-03-03T13:09:55.002Z"
      },
      {
        "duration": 1608,
        "start_time": "2023-03-04T10:38:13.038Z"
      },
      {
        "duration": 3064,
        "start_time": "2023-03-04T10:38:15.173Z"
      },
      {
        "duration": 58,
        "start_time": "2023-03-04T10:38:18.293Z"
      },
      {
        "duration": 238,
        "start_time": "2023-03-04T10:38:28.267Z"
      },
      {
        "duration": 16,
        "start_time": "2023-03-04T10:38:31.096Z"
      },
      {
        "duration": 290,
        "start_time": "2023-03-04T10:38:41.075Z"
      },
      {
        "duration": 6,
        "start_time": "2023-03-04T10:38:54.419Z"
      },
      {
        "duration": 1234,
        "start_time": "2023-03-04T10:39:00.108Z"
      },
      {
        "duration": 856,
        "start_time": "2023-03-04T10:39:04.834Z"
      },
      {
        "duration": 935,
        "start_time": "2023-03-04T10:39:08.751Z"
      },
      {
        "duration": 61,
        "start_time": "2023-03-04T10:39:16.153Z"
      },
      {
        "duration": 1371,
        "start_time": "2023-03-04T10:39:26.510Z"
      },
      {
        "duration": 55,
        "start_time": "2023-03-04T10:49:27.271Z"
      },
      {
        "duration": 951,
        "start_time": "2023-03-04T10:49:55.505Z"
      },
      {
        "duration": 14,
        "start_time": "2023-03-04T10:55:18.881Z"
      },
      {
        "duration": 12,
        "start_time": "2023-03-04T10:56:48.387Z"
      },
      {
        "duration": 52,
        "start_time": "2023-03-04T10:57:02.859Z"
      },
      {
        "duration": 16,
        "start_time": "2023-03-04T10:58:01.339Z"
      },
      {
        "duration": 47,
        "start_time": "2023-03-04T11:00:18.718Z"
      },
      {
        "duration": 52,
        "start_time": "2023-03-04T11:01:00.596Z"
      },
      {
        "duration": 13,
        "start_time": "2023-03-04T11:01:14.560Z"
      },
      {
        "duration": 14,
        "start_time": "2023-03-04T11:02:53.217Z"
      },
      {
        "duration": 931,
        "start_time": "2023-03-04T11:05:10.031Z"
      },
      {
        "duration": 1277,
        "start_time": "2023-03-04T11:05:47.774Z"
      },
      {
        "duration": 22,
        "start_time": "2023-03-04T11:08:12.030Z"
      },
      {
        "duration": 880,
        "start_time": "2023-03-04T11:22:20.300Z"
      },
      {
        "duration": 984,
        "start_time": "2023-03-04T11:22:34.186Z"
      },
      {
        "duration": 833,
        "start_time": "2023-03-04T11:22:52.937Z"
      },
      {
        "duration": 942,
        "start_time": "2023-03-04T11:23:11.185Z"
      },
      {
        "duration": 1068,
        "start_time": "2023-03-04T11:24:29.516Z"
      },
      {
        "duration": 1661,
        "start_time": "2023-03-04T11:24:43.734Z"
      },
      {
        "duration": 1344,
        "start_time": "2023-03-04T11:25:11.473Z"
      },
      {
        "duration": 892,
        "start_time": "2023-03-04T11:25:21.771Z"
      },
      {
        "duration": 53,
        "start_time": "2023-03-04T11:31:34.462Z"
      },
      {
        "duration": 60,
        "start_time": "2023-03-04T11:33:10.697Z"
      },
      {
        "duration": 27,
        "start_time": "2023-03-04T11:34:10.208Z"
      },
      {
        "duration": 33,
        "start_time": "2023-03-04T11:34:29.627Z"
      },
      {
        "duration": 56,
        "start_time": "2023-03-04T11:34:56.055Z"
      },
      {
        "duration": 40,
        "start_time": "2023-03-04T11:35:31.819Z"
      },
      {
        "duration": 33,
        "start_time": "2023-03-04T11:36:09.569Z"
      },
      {
        "duration": 27,
        "start_time": "2023-03-04T11:36:38.577Z"
      },
      {
        "duration": 53,
        "start_time": "2023-03-04T11:37:12.489Z"
      },
      {
        "duration": 30,
        "start_time": "2023-03-04T11:37:59.655Z"
      },
      {
        "duration": 30,
        "start_time": "2023-03-04T11:38:11.437Z"
      },
      {
        "duration": 36,
        "start_time": "2023-03-04T11:38:59.767Z"
      },
      {
        "duration": 25,
        "start_time": "2023-03-04T11:39:02.860Z"
      },
      {
        "duration": 31,
        "start_time": "2023-03-04T11:39:14.454Z"
      },
      {
        "duration": 31,
        "start_time": "2023-03-04T11:39:19.167Z"
      },
      {
        "duration": 40,
        "start_time": "2023-03-04T11:39:29.851Z"
      },
      {
        "duration": 36,
        "start_time": "2023-03-04T11:39:38.758Z"
      },
      {
        "duration": 30,
        "start_time": "2023-03-04T11:40:24.190Z"
      },
      {
        "duration": 43,
        "start_time": "2023-03-04T11:40:47.443Z"
      },
      {
        "duration": 57,
        "start_time": "2023-03-04T11:41:31.039Z"
      },
      {
        "duration": 41,
        "start_time": "2023-03-04T11:41:40.202Z"
      },
      {
        "duration": 37,
        "start_time": "2023-03-04T11:41:46.375Z"
      },
      {
        "duration": 65,
        "start_time": "2023-03-04T11:41:56.997Z"
      },
      {
        "duration": 37,
        "start_time": "2023-03-04T11:43:55.449Z"
      },
      {
        "duration": 1307,
        "start_time": "2023-03-04T11:46:12.293Z"
      },
      {
        "duration": 20,
        "start_time": "2023-03-04T11:50:23.167Z"
      },
      {
        "duration": 10,
        "start_time": "2023-03-04T11:53:02.968Z"
      },
      {
        "duration": 10,
        "start_time": "2023-03-04T11:53:18.775Z"
      },
      {
        "duration": 37,
        "start_time": "2023-03-04T11:53:46.430Z"
      },
      {
        "duration": 10,
        "start_time": "2023-03-04T11:53:52.560Z"
      },
      {
        "duration": 10,
        "start_time": "2023-03-04T11:54:11.182Z"
      },
      {
        "duration": 25,
        "start_time": "2023-03-04T11:54:19.616Z"
      },
      {
        "duration": 1483,
        "start_time": "2023-03-04T11:54:35.301Z"
      },
      {
        "duration": 779,
        "start_time": "2023-03-04T11:54:36.787Z"
      },
      {
        "duration": 67,
        "start_time": "2023-03-04T11:54:37.568Z"
      },
      {
        "duration": 39,
        "start_time": "2023-03-04T11:54:37.637Z"
      },
      {
        "duration": 280,
        "start_time": "2023-03-04T11:54:37.678Z"
      },
      {
        "duration": 13,
        "start_time": "2023-03-04T11:54:37.960Z"
      },
      {
        "duration": 312,
        "start_time": "2023-03-04T11:54:37.975Z"
      },
      {
        "duration": 7,
        "start_time": "2023-03-04T11:54:38.289Z"
      },
      {
        "duration": 1311,
        "start_time": "2023-03-04T11:54:38.298Z"
      },
      {
        "duration": 831,
        "start_time": "2023-03-04T11:54:39.612Z"
      },
      {
        "duration": 985,
        "start_time": "2023-03-04T11:54:40.444Z"
      },
      {
        "duration": 50,
        "start_time": "2023-03-04T11:54:41.431Z"
      },
      {
        "duration": 1398,
        "start_time": "2023-03-04T11:54:41.483Z"
      },
      {
        "duration": 829,
        "start_time": "2023-03-04T11:54:42.883Z"
      },
      {
        "duration": 40,
        "start_time": "2023-03-04T11:54:43.714Z"
      },
      {
        "duration": 95,
        "start_time": "2023-03-04T11:54:43.756Z"
      },
      {
        "duration": 71,
        "start_time": "2023-03-04T11:54:43.853Z"
      },
      {
        "duration": 28,
        "start_time": "2023-03-04T11:54:43.925Z"
      },
      {
        "duration": 202,
        "start_time": "2023-03-04T11:54:43.955Z"
      },
      {
        "duration": 24,
        "start_time": "2023-03-04T11:54:44.159Z"
      },
      {
        "duration": 141,
        "start_time": "2023-03-04T11:54:44.184Z"
      },
      {
        "duration": 0,
        "start_time": "2023-03-04T11:54:44.327Z"
      },
      {
        "duration": 0,
        "start_time": "2023-03-04T11:54:44.328Z"
      },
      {
        "duration": 0,
        "start_time": "2023-03-04T11:54:44.328Z"
      },
      {
        "duration": 0,
        "start_time": "2023-03-04T11:54:44.330Z"
      },
      {
        "duration": 0,
        "start_time": "2023-03-04T11:54:44.330Z"
      },
      {
        "duration": 0,
        "start_time": "2023-03-04T11:54:44.331Z"
      },
      {
        "duration": 0,
        "start_time": "2023-03-04T11:54:44.332Z"
      },
      {
        "duration": 12,
        "start_time": "2023-03-04T11:55:17.240Z"
      },
      {
        "duration": 13,
        "start_time": "2023-03-04T11:57:14.396Z"
      },
      {
        "duration": 13,
        "start_time": "2023-03-04T11:57:37.516Z"
      },
      {
        "duration": 17,
        "start_time": "2023-03-04T11:58:16.500Z"
      },
      {
        "duration": 14,
        "start_time": "2023-03-04T11:58:56.540Z"
      },
      {
        "duration": 16,
        "start_time": "2023-03-04T11:59:17.585Z"
      },
      {
        "duration": 24,
        "start_time": "2023-03-04T12:00:07.772Z"
      },
      {
        "duration": 11,
        "start_time": "2023-03-04T12:03:52.102Z"
      },
      {
        "duration": 31353,
        "start_time": "2023-03-04T12:03:56.022Z"
      },
      {
        "duration": 15,
        "start_time": "2023-03-04T13:04:33.800Z"
      },
      {
        "duration": 4,
        "start_time": "2023-03-04T13:25:01.381Z"
      },
      {
        "duration": 7,
        "start_time": "2023-03-04T13:29:42.641Z"
      },
      {
        "duration": 11,
        "start_time": "2023-03-04T13:31:39.816Z"
      },
      {
        "duration": 9,
        "start_time": "2023-03-04T13:31:49.185Z"
      },
      {
        "duration": 3,
        "start_time": "2023-03-04T13:31:57.791Z"
      },
      {
        "duration": 4,
        "start_time": "2023-03-04T13:32:09.811Z"
      },
      {
        "duration": 3,
        "start_time": "2023-03-04T13:32:21.999Z"
      },
      {
        "duration": 55,
        "start_time": "2023-03-04T16:18:00.799Z"
      },
      {
        "duration": 1721,
        "start_time": "2023-03-04T16:21:08.912Z"
      },
      {
        "duration": 5089,
        "start_time": "2023-03-04T16:21:11.701Z"
      },
      {
        "duration": 107,
        "start_time": "2023-03-04T16:21:16.792Z"
      },
      {
        "duration": 45,
        "start_time": "2023-03-04T16:21:22.923Z"
      },
      {
        "duration": 263,
        "start_time": "2023-03-04T16:21:32.977Z"
      },
      {
        "duration": 23,
        "start_time": "2023-03-04T16:21:37.572Z"
      },
      {
        "duration": 358,
        "start_time": "2023-03-04T16:21:45.574Z"
      },
      {
        "duration": 5,
        "start_time": "2023-03-04T16:21:55.833Z"
      },
      {
        "duration": 1381,
        "start_time": "2023-03-04T16:25:35.740Z"
      },
      {
        "duration": 889,
        "start_time": "2023-03-04T16:25:44.175Z"
      },
      {
        "duration": 1104,
        "start_time": "2023-03-04T16:25:48.529Z"
      },
      {
        "duration": 54,
        "start_time": "2023-03-04T16:25:56.135Z"
      },
      {
        "duration": 1569,
        "start_time": "2023-03-04T16:26:09.042Z"
      },
      {
        "duration": 897,
        "start_time": "2023-03-04T16:26:47.278Z"
      },
      {
        "duration": 39,
        "start_time": "2023-03-04T16:26:55.588Z"
      },
      {
        "duration": 70,
        "start_time": "2023-03-04T16:27:10.773Z"
      },
      {
        "duration": 64,
        "start_time": "2023-03-04T16:27:21.934Z"
      },
      {
        "duration": 23,
        "start_time": "2023-03-04T16:27:28.342Z"
      },
      {
        "duration": 209,
        "start_time": "2023-03-04T16:27:37.286Z"
      },
      {
        "duration": 4,
        "start_time": "2023-03-04T16:34:18.110Z"
      },
      {
        "duration": 10,
        "start_time": "2023-03-04T16:35:49.149Z"
      },
      {
        "duration": 4,
        "start_time": "2023-03-04T16:36:05.985Z"
      },
      {
        "duration": 16,
        "start_time": "2023-03-04T16:37:45.918Z"
      },
      {
        "duration": 93,
        "start_time": "2023-03-04T16:39:15.548Z"
      },
      {
        "duration": 4,
        "start_time": "2023-03-04T16:44:32.807Z"
      },
      {
        "duration": 4,
        "start_time": "2023-03-04T16:44:53.619Z"
      },
      {
        "duration": 3,
        "start_time": "2023-03-04T16:46:46.532Z"
      },
      {
        "duration": 62,
        "start_time": "2023-03-04T16:47:45.977Z"
      },
      {
        "duration": 93,
        "start_time": "2023-03-04T16:51:41.988Z"
      },
      {
        "duration": 2346,
        "start_time": "2023-03-04T16:51:56.480Z"
      },
      {
        "duration": 27,
        "start_time": "2023-03-04T16:52:15.988Z"
      },
      {
        "duration": 40,
        "start_time": "2023-03-04T16:54:33.641Z"
      },
      {
        "duration": 17,
        "start_time": "2023-03-04T16:55:22.283Z"
      },
      {
        "duration": 12,
        "start_time": "2023-03-04T17:00:17.967Z"
      },
      {
        "duration": 9,
        "start_time": "2023-03-04T17:00:28.907Z"
      },
      {
        "duration": 18,
        "start_time": "2023-03-04T17:01:12.567Z"
      },
      {
        "duration": 17,
        "start_time": "2023-03-04T17:01:46.636Z"
      },
      {
        "duration": 38,
        "start_time": "2023-03-04T17:02:40.229Z"
      },
      {
        "duration": 31,
        "start_time": "2023-03-04T17:02:55.497Z"
      },
      {
        "duration": 44,
        "start_time": "2023-03-04T17:03:13.058Z"
      },
      {
        "duration": 4,
        "start_time": "2023-03-04T17:03:18.342Z"
      },
      {
        "duration": 5,
        "start_time": "2023-03-04T17:05:22.917Z"
      },
      {
        "duration": 7,
        "start_time": "2023-03-04T17:05:28.479Z"
      },
      {
        "duration": 31415,
        "start_time": "2023-03-04T17:05:40.577Z"
      },
      {
        "duration": 32077,
        "start_time": "2023-03-04T17:06:42.008Z"
      },
      {
        "duration": 5858,
        "start_time": "2023-03-04T17:07:25.395Z"
      },
      {
        "duration": 1747395,
        "start_time": "2023-03-04T17:07:36.202Z"
      },
      {
        "duration": 6,
        "start_time": "2023-03-04T17:36:52.834Z"
      },
      {
        "duration": 213,
        "start_time": "2023-03-04T17:37:04.874Z"
      },
      {
        "duration": 9,
        "start_time": "2023-03-04T17:37:13.691Z"
      },
      {
        "duration": 173038,
        "start_time": "2023-03-04T17:47:07.530Z"
      },
      {
        "duration": 0,
        "start_time": "2023-03-04T17:50:00.576Z"
      },
      {
        "duration": 11,
        "start_time": "2023-03-04T17:50:12.701Z"
      },
      {
        "duration": 10,
        "start_time": "2023-03-04T17:50:16.206Z"
      },
      {
        "duration": 14,
        "start_time": "2023-03-04T17:50:34.680Z"
      },
      {
        "duration": 9,
        "start_time": "2023-03-04T17:50:40.026Z"
      },
      {
        "duration": 1498,
        "start_time": "2023-03-04T17:50:51.311Z"
      },
      {
        "duration": 867,
        "start_time": "2023-03-04T17:50:52.812Z"
      },
      {
        "duration": 66,
        "start_time": "2023-03-04T17:50:53.689Z"
      },
      {
        "duration": 51,
        "start_time": "2023-03-04T17:50:53.763Z"
      },
      {
        "duration": 272,
        "start_time": "2023-03-04T17:50:53.816Z"
      },
      {
        "duration": 16,
        "start_time": "2023-03-04T17:50:54.090Z"
      },
      {
        "duration": 322,
        "start_time": "2023-03-04T17:50:54.108Z"
      },
      {
        "duration": 5,
        "start_time": "2023-03-04T17:50:54.432Z"
      },
      {
        "duration": 1491,
        "start_time": "2023-03-04T17:50:54.451Z"
      },
      {
        "duration": 910,
        "start_time": "2023-03-04T17:50:55.943Z"
      },
      {
        "duration": 1059,
        "start_time": "2023-03-04T17:50:56.855Z"
      },
      {
        "duration": 78,
        "start_time": "2023-03-04T17:50:57.916Z"
      },
      {
        "duration": 1561,
        "start_time": "2023-03-04T17:50:57.996Z"
      },
      {
        "duration": 955,
        "start_time": "2023-03-04T17:50:59.567Z"
      },
      {
        "duration": 52,
        "start_time": "2023-03-04T17:51:00.523Z"
      },
      {
        "duration": 125,
        "start_time": "2023-03-04T17:51:00.578Z"
      },
      {
        "duration": 84,
        "start_time": "2023-03-04T17:51:00.705Z"
      },
      {
        "duration": 18,
        "start_time": "2023-03-04T17:51:00.791Z"
      },
      {
        "duration": 212,
        "start_time": "2023-03-04T17:51:00.811Z"
      },
      {
        "duration": 3,
        "start_time": "2023-03-04T17:51:01.025Z"
      },
      {
        "duration": 79,
        "start_time": "2023-03-04T17:51:01.030Z"
      },
      {
        "duration": 93,
        "start_time": "2023-03-04T17:51:01.111Z"
      },
      {
        "duration": 29,
        "start_time": "2023-03-04T17:51:01.205Z"
      },
      {
        "duration": 70,
        "start_time": "2023-03-04T17:51:01.236Z"
      },
      {
        "duration": 34,
        "start_time": "2023-03-04T17:51:01.308Z"
      },
      {
        "duration": 33214,
        "start_time": "2023-03-04T17:51:01.345Z"
      },
      {
        "duration": 2679250,
        "start_time": "2023-03-04T17:51:34.561Z"
      },
      {
        "duration": 0,
        "start_time": "2023-03-04T18:36:13.814Z"
      },
      {
        "duration": 0,
        "start_time": "2023-03-04T18:36:13.815Z"
      },
      {
        "duration": 0,
        "start_time": "2023-03-04T18:36:13.816Z"
      },
      {
        "duration": 0,
        "start_time": "2023-03-04T18:36:13.818Z"
      },
      {
        "duration": 15,
        "start_time": "2023-03-05T18:11:45.280Z"
      },
      {
        "duration": 181,
        "start_time": "2023-03-05T18:12:22.793Z"
      },
      {
        "duration": 61,
        "start_time": "2023-03-06T09:00:25.712Z"
      },
      {
        "duration": 1702,
        "start_time": "2023-03-06T09:00:32.568Z"
      },
      {
        "duration": 2089,
        "start_time": "2023-03-06T09:00:34.273Z"
      },
      {
        "duration": 71,
        "start_time": "2023-03-06T09:00:36.365Z"
      },
      {
        "duration": 50,
        "start_time": "2023-03-06T09:00:36.439Z"
      },
      {
        "duration": 267,
        "start_time": "2023-03-06T09:00:36.491Z"
      },
      {
        "duration": 14,
        "start_time": "2023-03-06T09:00:36.760Z"
      },
      {
        "duration": 292,
        "start_time": "2023-03-06T09:00:36.776Z"
      },
      {
        "duration": 7,
        "start_time": "2023-03-06T09:00:37.070Z"
      },
      {
        "duration": 1357,
        "start_time": "2023-03-06T09:00:37.079Z"
      },
      {
        "duration": 1026,
        "start_time": "2023-03-06T09:00:38.438Z"
      },
      {
        "duration": 877,
        "start_time": "2023-03-06T09:00:39.466Z"
      },
      {
        "duration": 56,
        "start_time": "2023-03-06T09:00:40.345Z"
      },
      {
        "duration": 1511,
        "start_time": "2023-03-06T09:00:40.404Z"
      },
      {
        "duration": 858,
        "start_time": "2023-03-06T09:00:41.923Z"
      },
      {
        "duration": 53,
        "start_time": "2023-03-06T09:00:42.783Z"
      },
      {
        "duration": 72,
        "start_time": "2023-03-06T09:00:42.837Z"
      },
      {
        "duration": 68,
        "start_time": "2023-03-06T09:00:42.911Z"
      },
      {
        "duration": 17,
        "start_time": "2023-03-06T09:00:42.981Z"
      },
      {
        "duration": 231,
        "start_time": "2023-03-06T09:00:43.000Z"
      },
      {
        "duration": 5,
        "start_time": "2023-03-06T09:00:43.232Z"
      },
      {
        "duration": 30,
        "start_time": "2023-03-06T09:00:43.239Z"
      },
      {
        "duration": 208,
        "start_time": "2023-03-06T09:00:43.271Z"
      },
      {
        "duration": 4,
        "start_time": "2023-03-06T09:00:43.480Z"
      },
      {
        "duration": 5,
        "start_time": "2023-03-06T09:00:43.485Z"
      },
      {
        "duration": 9,
        "start_time": "2023-03-06T09:00:43.492Z"
      },
      {
        "duration": 32125,
        "start_time": "2023-03-06T09:00:43.524Z"
      },
      {
        "duration": 2834287,
        "start_time": "2023-03-06T09:01:15.651Z"
      },
      {
        "duration": 2988,
        "start_time": "2023-03-06T09:48:29.940Z"
      },
      {
        "duration": 8,
        "start_time": "2023-03-06T09:48:32.930Z"
      },
      {
        "duration": 330,
        "start_time": "2023-03-06T09:48:32.940Z"
      },
      {
        "duration": 0,
        "start_time": "2023-03-06T09:48:33.272Z"
      },
      {
        "duration": 7,
        "start_time": "2023-03-06T10:50:08.811Z"
      },
      {
        "duration": 116,
        "start_time": "2023-03-06T10:50:13.708Z"
      },
      {
        "duration": 6,
        "start_time": "2023-03-06T10:50:42.415Z"
      },
      {
        "duration": 11,
        "start_time": "2023-03-06T10:51:13.244Z"
      },
      {
        "duration": 17,
        "start_time": "2023-03-06T10:52:11.852Z"
      },
      {
        "duration": 20,
        "start_time": "2023-03-06T10:53:22.306Z"
      },
      {
        "duration": 177,
        "start_time": "2023-03-06T10:53:27.312Z"
      },
      {
        "duration": 16,
        "start_time": "2023-03-06T11:00:36.902Z"
      },
      {
        "duration": 7,
        "start_time": "2023-03-06T11:00:44.400Z"
      },
      {
        "duration": 175,
        "start_time": "2023-03-06T11:00:49.292Z"
      },
      {
        "duration": 9,
        "start_time": "2023-03-06T11:00:57.702Z"
      },
      {
        "duration": 62,
        "start_time": "2023-03-06T14:13:39.404Z"
      },
      {
        "duration": 17,
        "start_time": "2023-03-06T14:13:46.985Z"
      },
      {
        "duration": 2230,
        "start_time": "2023-03-06T14:13:54.399Z"
      },
      {
        "duration": 3756,
        "start_time": "2023-03-06T14:13:57.155Z"
      },
      {
        "duration": 114,
        "start_time": "2023-03-06T14:14:00.915Z"
      },
      {
        "duration": 102,
        "start_time": "2023-03-06T14:14:03.526Z"
      },
      {
        "duration": 89,
        "start_time": "2023-03-06T14:14:06.091Z"
      },
      {
        "duration": 319,
        "start_time": "2023-03-06T14:14:09.705Z"
      },
      {
        "duration": 31,
        "start_time": "2023-03-06T14:14:11.640Z"
      },
      {
        "duration": 391,
        "start_time": "2023-03-06T14:14:14.993Z"
      },
      {
        "duration": 16,
        "start_time": "2023-03-06T14:14:18.760Z"
      },
      {
        "duration": 68,
        "start_time": "2023-03-06T14:14:30.337Z"
      },
      {
        "duration": 2416,
        "start_time": "2023-03-06T14:14:35.369Z"
      },
      {
        "duration": 1819,
        "start_time": "2023-03-06T14:14:39.638Z"
      },
      {
        "duration": 1102,
        "start_time": "2023-03-06T14:14:44.796Z"
      },
      {
        "duration": 50,
        "start_time": "2023-03-06T14:14:49.169Z"
      },
      {
        "duration": 105,
        "start_time": "2023-03-06T14:14:53.396Z"
      },
      {
        "duration": 98,
        "start_time": "2023-03-06T14:14:58.098Z"
      },
      {
        "duration": 30,
        "start_time": "2023-03-06T14:15:01.277Z"
      },
      {
        "duration": 280,
        "start_time": "2023-03-06T14:15:06.129Z"
      },
      {
        "duration": 8,
        "start_time": "2023-03-06T14:15:11.002Z"
      },
      {
        "duration": 45,
        "start_time": "2023-03-06T14:15:13.439Z"
      },
      {
        "duration": 38,
        "start_time": "2023-03-06T14:15:18.608Z"
      },
      {
        "duration": 5,
        "start_time": "2023-03-06T14:15:21.498Z"
      },
      {
        "duration": 11,
        "start_time": "2023-03-06T14:15:24.662Z"
      },
      {
        "duration": 7,
        "start_time": "2023-03-06T14:15:27.429Z"
      },
      {
        "duration": 37892,
        "start_time": "2023-03-06T14:15:29.908Z"
      },
      {
        "duration": 0,
        "start_time": "2023-03-06T14:19:51.270Z"
      },
      {
        "duration": 0,
        "start_time": "2023-03-06T14:19:51.271Z"
      },
      {
        "duration": 7,
        "start_time": "2023-03-06T14:19:54.707Z"
      },
      {
        "duration": 204,
        "start_time": "2023-03-06T14:19:57.219Z"
      },
      {
        "duration": 22,
        "start_time": "2023-03-06T14:20:01.169Z"
      },
      {
        "duration": 1598,
        "start_time": "2023-03-06T18:45:10.528Z"
      },
      {
        "duration": 3489,
        "start_time": "2023-03-06T18:45:13.216Z"
      },
      {
        "duration": 56,
        "start_time": "2023-03-06T18:45:16.707Z"
      },
      {
        "duration": 42,
        "start_time": "2023-03-06T18:45:20.745Z"
      },
      {
        "duration": 255,
        "start_time": "2023-03-06T18:45:25.603Z"
      },
      {
        "duration": 14,
        "start_time": "2023-03-06T18:45:29.306Z"
      },
      {
        "duration": 281,
        "start_time": "2023-03-06T18:45:37.533Z"
      },
      {
        "duration": 1457,
        "start_time": "2023-03-06T18:46:29.566Z"
      },
      {
        "duration": 949,
        "start_time": "2023-03-06T18:46:34.425Z"
      },
      {
        "duration": 1040,
        "start_time": "2023-03-06T18:46:39.722Z"
      },
      {
        "duration": 69,
        "start_time": "2023-03-06T18:46:47.954Z"
      },
      {
        "duration": 1819,
        "start_time": "2023-03-06T18:46:55.136Z"
      },
      {
        "duration": 948,
        "start_time": "2023-03-06T18:47:01.925Z"
      },
      {
        "duration": 49,
        "start_time": "2023-03-06T18:47:08.553Z"
      },
      {
        "duration": 80,
        "start_time": "2023-03-06T18:47:12.067Z"
      },
      {
        "duration": 58,
        "start_time": "2023-03-06T18:47:21.823Z"
      },
      {
        "duration": 17,
        "start_time": "2023-03-06T18:47:27.038Z"
      },
      {
        "duration": 225,
        "start_time": "2023-03-06T18:47:35.913Z"
      },
      {
        "duration": 3,
        "start_time": "2023-03-06T18:47:43.754Z"
      },
      {
        "duration": 24,
        "start_time": "2023-03-06T18:47:47.829Z"
      },
      {
        "duration": 26,
        "start_time": "2023-03-06T18:47:55.938Z"
      },
      {
        "duration": 3,
        "start_time": "2023-03-06T18:47:59.836Z"
      },
      {
        "duration": 6,
        "start_time": "2023-03-06T18:48:04.419Z"
      },
      {
        "duration": 7,
        "start_time": "2023-03-06T18:48:08.892Z"
      },
      {
        "duration": 32641,
        "start_time": "2023-03-06T18:48:13.370Z"
      },
      {
        "duration": 2912975,
        "start_time": "2023-03-06T18:48:54.970Z"
      },
      {
        "duration": 8876,
        "start_time": "2023-03-06T19:54:19.627Z"
      },
      {
        "duration": 6,
        "start_time": "2023-03-06T19:54:37.345Z"
      },
      {
        "duration": 181,
        "start_time": "2023-03-06T19:54:42.519Z"
      },
      {
        "duration": 14,
        "start_time": "2023-03-06T19:54:46.814Z"
      },
      {
        "duration": 0,
        "start_time": "2023-03-07T11:33:43.152Z"
      },
      {
        "duration": 10,
        "start_time": "2023-03-07T11:33:45.509Z"
      },
      {
        "duration": 43,
        "start_time": "2023-03-07T11:33:57.642Z"
      },
      {
        "duration": 7,
        "start_time": "2023-03-07T11:34:08.668Z"
      },
      {
        "duration": 23,
        "start_time": "2023-03-07T11:34:12.154Z"
      },
      {
        "duration": 14,
        "start_time": "2023-03-07T11:34:23.764Z"
      },
      {
        "duration": 2427,
        "start_time": "2023-03-07T11:50:08.261Z"
      },
      {
        "duration": 676,
        "start_time": "2023-03-07T11:50:10.690Z"
      },
      {
        "duration": 57,
        "start_time": "2023-03-07T11:50:11.368Z"
      },
      {
        "duration": 44,
        "start_time": "2023-03-07T11:50:11.444Z"
      },
      {
        "duration": 249,
        "start_time": "2023-03-07T11:50:11.490Z"
      },
      {
        "duration": 18,
        "start_time": "2023-03-07T11:50:11.740Z"
      },
      {
        "duration": 275,
        "start_time": "2023-03-07T11:50:11.760Z"
      },
      {
        "duration": 1243,
        "start_time": "2023-03-07T11:50:12.036Z"
      },
      {
        "duration": 876,
        "start_time": "2023-03-07T11:50:13.281Z"
      },
      {
        "duration": 942,
        "start_time": "2023-03-07T11:50:14.160Z"
      },
      {
        "duration": 59,
        "start_time": "2023-03-07T11:50:15.104Z"
      },
      {
        "duration": 1434,
        "start_time": "2023-03-07T11:50:15.165Z"
      },
      {
        "duration": 898,
        "start_time": "2023-03-07T11:50:16.600Z"
      },
      {
        "duration": 69,
        "start_time": "2023-03-07T11:50:17.501Z"
      },
      {
        "duration": 93,
        "start_time": "2023-03-07T11:50:17.573Z"
      },
      {
        "duration": 88,
        "start_time": "2023-03-07T11:50:17.669Z"
      },
      {
        "duration": 20,
        "start_time": "2023-03-07T11:50:17.759Z"
      },
      {
        "duration": 230,
        "start_time": "2023-03-07T11:50:17.781Z"
      },
      {
        "duration": 3,
        "start_time": "2023-03-07T11:50:18.013Z"
      },
      {
        "duration": 77,
        "start_time": "2023-03-07T11:50:18.018Z"
      },
      {
        "duration": 81,
        "start_time": "2023-03-07T11:50:18.097Z"
      },
      {
        "duration": 28,
        "start_time": "2023-03-07T11:50:18.180Z"
      },
      {
        "duration": 25,
        "start_time": "2023-03-07T11:50:18.210Z"
      },
      {
        "duration": 39,
        "start_time": "2023-03-07T11:50:18.237Z"
      },
      {
        "duration": 29829,
        "start_time": "2023-03-07T11:50:18.278Z"
      },
      {
        "duration": 278141,
        "start_time": "2023-03-07T11:50:48.108Z"
      },
      {
        "duration": 0,
        "start_time": "2023-03-07T11:55:26.251Z"
      },
      {
        "duration": 0,
        "start_time": "2023-03-07T11:55:26.252Z"
      },
      {
        "duration": 0,
        "start_time": "2023-03-07T11:55:26.254Z"
      },
      {
        "duration": 0,
        "start_time": "2023-03-07T11:55:26.255Z"
      },
      {
        "duration": 83,
        "start_time": "2023-03-08T13:48:59.857Z"
      },
      {
        "duration": 44,
        "start_time": "2023-03-08T13:49:47.843Z"
      },
      {
        "duration": 1628,
        "start_time": "2023-03-08T13:50:15.122Z"
      },
      {
        "duration": 1732,
        "start_time": "2023-03-08T13:50:17.602Z"
      },
      {
        "duration": 59,
        "start_time": "2023-03-08T13:50:25.717Z"
      },
      {
        "duration": 45,
        "start_time": "2023-03-08T13:50:34.220Z"
      },
      {
        "duration": 222,
        "start_time": "2023-03-08T13:50:38.697Z"
      },
      {
        "duration": 12,
        "start_time": "2023-03-08T13:50:41.320Z"
      },
      {
        "duration": 241,
        "start_time": "2023-03-08T13:50:45.658Z"
      },
      {
        "duration": 1042,
        "start_time": "2023-03-08T13:50:50.324Z"
      },
      {
        "duration": 688,
        "start_time": "2023-03-08T13:50:54.231Z"
      },
      {
        "duration": 812,
        "start_time": "2023-03-08T13:51:01.581Z"
      },
      {
        "duration": 42,
        "start_time": "2023-03-08T13:51:12.638Z"
      },
      {
        "duration": 1258,
        "start_time": "2023-03-08T13:51:16.554Z"
      },
      {
        "duration": 691,
        "start_time": "2023-03-08T13:51:21.573Z"
      },
      {
        "duration": 34,
        "start_time": "2023-03-08T13:51:25.110Z"
      },
      {
        "duration": 54,
        "start_time": "2023-03-08T13:51:31.109Z"
      },
      {
        "duration": 45,
        "start_time": "2023-03-08T13:51:38.407Z"
      },
      {
        "duration": 15,
        "start_time": "2023-03-08T13:51:45.443Z"
      },
      {
        "duration": 171,
        "start_time": "2023-03-08T13:51:51.438Z"
      },
      {
        "duration": 4,
        "start_time": "2023-03-08T13:51:56.708Z"
      },
      {
        "duration": 21,
        "start_time": "2023-03-08T13:52:03.724Z"
      },
      {
        "duration": 85,
        "start_time": "2023-03-08T13:52:14.794Z"
      },
      {
        "duration": 11,
        "start_time": "2023-03-08T13:55:50.373Z"
      },
      {
        "duration": 10,
        "start_time": "2023-03-08T13:56:02.153Z"
      },
      {
        "duration": 1309,
        "start_time": "2023-03-08T13:56:53.598Z"
      },
      {
        "duration": 672,
        "start_time": "2023-03-08T13:56:54.908Z"
      },
      {
        "duration": 44,
        "start_time": "2023-03-08T13:56:55.582Z"
      },
      {
        "duration": 53,
        "start_time": "2023-03-08T13:56:55.628Z"
      },
      {
        "duration": 245,
        "start_time": "2023-03-08T13:56:55.683Z"
      },
      {
        "duration": 11,
        "start_time": "2023-03-08T13:56:55.930Z"
      },
      {
        "duration": 264,
        "start_time": "2023-03-08T13:56:55.943Z"
      },
      {
        "duration": 1123,
        "start_time": "2023-03-08T13:56:56.209Z"
      },
      {
        "duration": 695,
        "start_time": "2023-03-08T13:56:57.334Z"
      },
      {
        "duration": 793,
        "start_time": "2023-03-08T13:56:58.031Z"
      },
      {
        "duration": 49,
        "start_time": "2023-03-08T13:56:58.825Z"
      },
      {
        "duration": 1174,
        "start_time": "2023-03-08T13:56:58.876Z"
      },
      {
        "duration": 681,
        "start_time": "2023-03-08T13:57:00.051Z"
      },
      {
        "duration": 42,
        "start_time": "2023-03-08T13:57:00.735Z"
      },
      {
        "duration": 53,
        "start_time": "2023-03-08T13:57:00.779Z"
      },
      {
        "duration": 54,
        "start_time": "2023-03-08T13:57:00.833Z"
      },
      {
        "duration": 13,
        "start_time": "2023-03-08T13:57:00.888Z"
      },
      {
        "duration": 189,
        "start_time": "2023-03-08T13:57:00.902Z"
      },
      {
        "duration": 3,
        "start_time": "2023-03-08T13:57:01.093Z"
      },
      {
        "duration": 44,
        "start_time": "2023-03-08T13:57:01.097Z"
      },
      {
        "duration": 150,
        "start_time": "2023-03-08T13:57:01.143Z"
      },
      {
        "duration": 0,
        "start_time": "2023-03-08T13:57:01.294Z"
      },
      {
        "duration": 0,
        "start_time": "2023-03-08T13:57:01.295Z"
      },
      {
        "duration": 0,
        "start_time": "2023-03-08T13:57:01.296Z"
      },
      {
        "duration": 0,
        "start_time": "2023-03-08T13:57:01.297Z"
      },
      {
        "duration": 0,
        "start_time": "2023-03-08T13:57:01.298Z"
      },
      {
        "duration": 0,
        "start_time": "2023-03-08T13:57:01.299Z"
      },
      {
        "duration": 0,
        "start_time": "2023-03-08T13:57:01.300Z"
      },
      {
        "duration": 0,
        "start_time": "2023-03-08T13:57:01.301Z"
      },
      {
        "duration": 0,
        "start_time": "2023-03-08T13:57:01.301Z"
      },
      {
        "duration": 12,
        "start_time": "2023-03-08T13:59:14.103Z"
      },
      {
        "duration": 12,
        "start_time": "2023-03-08T13:59:44.998Z"
      },
      {
        "duration": 1324,
        "start_time": "2023-03-08T13:59:52.802Z"
      },
      {
        "duration": 648,
        "start_time": "2023-03-08T13:59:54.127Z"
      },
      {
        "duration": 46,
        "start_time": "2023-03-08T13:59:54.777Z"
      },
      {
        "duration": 58,
        "start_time": "2023-03-08T13:59:54.825Z"
      },
      {
        "duration": 241,
        "start_time": "2023-03-08T13:59:54.886Z"
      },
      {
        "duration": 13,
        "start_time": "2023-03-08T13:59:55.129Z"
      },
      {
        "duration": 295,
        "start_time": "2023-03-08T13:59:55.143Z"
      },
      {
        "duration": 1050,
        "start_time": "2023-03-08T13:59:55.439Z"
      },
      {
        "duration": 751,
        "start_time": "2023-03-08T13:59:56.490Z"
      },
      {
        "duration": 823,
        "start_time": "2023-03-08T13:59:57.242Z"
      },
      {
        "duration": 40,
        "start_time": "2023-03-08T13:59:58.067Z"
      },
      {
        "duration": 1179,
        "start_time": "2023-03-08T13:59:58.108Z"
      },
      {
        "duration": 702,
        "start_time": "2023-03-08T13:59:59.288Z"
      },
      {
        "duration": 33,
        "start_time": "2023-03-08T13:59:59.992Z"
      },
      {
        "duration": 66,
        "start_time": "2023-03-08T14:00:00.026Z"
      },
      {
        "duration": 44,
        "start_time": "2023-03-08T14:00:00.094Z"
      },
      {
        "duration": 37,
        "start_time": "2023-03-08T14:00:00.139Z"
      },
      {
        "duration": 12,
        "start_time": "2023-03-08T14:00:00.178Z"
      },
      {
        "duration": 184,
        "start_time": "2023-03-08T14:00:00.192Z"
      },
      {
        "duration": 3,
        "start_time": "2023-03-08T14:00:00.378Z"
      },
      {
        "duration": 26,
        "start_time": "2023-03-08T14:00:00.383Z"
      },
      {
        "duration": 147,
        "start_time": "2023-03-08T14:00:00.410Z"
      },
      {
        "duration": 0,
        "start_time": "2023-03-08T14:00:00.559Z"
      },
      {
        "duration": 0,
        "start_time": "2023-03-08T14:00:00.560Z"
      },
      {
        "duration": 0,
        "start_time": "2023-03-08T14:00:00.561Z"
      },
      {
        "duration": 0,
        "start_time": "2023-03-08T14:00:00.561Z"
      },
      {
        "duration": 0,
        "start_time": "2023-03-08T14:00:00.563Z"
      },
      {
        "duration": 0,
        "start_time": "2023-03-08T14:00:00.563Z"
      },
      {
        "duration": 0,
        "start_time": "2023-03-08T14:00:00.564Z"
      },
      {
        "duration": 0,
        "start_time": "2023-03-08T14:00:00.565Z"
      },
      {
        "duration": 0,
        "start_time": "2023-03-08T14:00:00.566Z"
      },
      {
        "duration": 2,
        "start_time": "2023-03-08T14:01:07.037Z"
      },
      {
        "duration": 4,
        "start_time": "2023-03-08T14:01:11.954Z"
      },
      {
        "duration": 6,
        "start_time": "2023-03-08T14:01:17.500Z"
      },
      {
        "duration": 31955,
        "start_time": "2023-03-08T14:01:20.933Z"
      },
      {
        "duration": 2825,
        "start_time": "2023-03-08T14:01:59.830Z"
      },
      {
        "duration": 6,
        "start_time": "2023-03-08T14:02:10.137Z"
      },
      {
        "duration": 182,
        "start_time": "2023-03-08T14:02:17.677Z"
      },
      {
        "duration": 8,
        "start_time": "2023-03-08T14:02:29.935Z"
      },
      {
        "duration": 2962477,
        "start_time": "2023-03-08T14:02:46.851Z"
      },
      {
        "duration": 0,
        "start_time": "2023-03-09T13:35:49.635Z"
      },
      {
        "duration": 8,
        "start_time": "2023-03-09T13:35:53.112Z"
      }
    ],
    "kernelspec": {
      "display_name": "Python 3 (ipykernel)",
      "language": "python",
      "name": "python3"
    },
    "language_info": {
      "codemirror_mode": {
        "name": "ipython",
        "version": 3
      },
      "file_extension": ".py",
      "mimetype": "text/x-python",
      "name": "python",
      "nbconvert_exporter": "python",
      "pygments_lexer": "ipython3",
      "version": "3.9.5"
    },
    "toc": {
      "base_numbering": 1,
      "nav_menu": {},
      "number_sections": true,
      "sideBar": true,
      "skip_h1_title": true,
      "title_cell": "Содержание",
      "title_sidebar": "Contents",
      "toc_cell": true,
      "toc_position": {
        "height": "calc(100% - 180px)",
        "left": "10px",
        "top": "150px",
        "width": "165px"
      },
      "toc_section_display": true,
      "toc_window_display": true
    },
    "colab": {
      "provenance": []
    }
  },
  "nbformat": 4,
  "nbformat_minor": 0
}