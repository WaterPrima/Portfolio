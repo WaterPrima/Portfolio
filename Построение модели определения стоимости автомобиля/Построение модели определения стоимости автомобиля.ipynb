{
  "cells": [
    {
      "cell_type": "markdown",
      "metadata": {
        "id": "MQUvuLSAr61U"
      },
      "source": [
        "# Определение стоимости автомобилей\n",
        "Сервис по продаже автомобилей с пробегом «Не бит, не крашен» разрабатывает приложение для привлечения новых клиентов. В нём можно быстро узнать рыночную стоимость своего автомобиля. В вашем распоряжении исторические данные: технические характеристики, комплектации и цены автомобилей. Вам нужно построить модель для определения стоимости.\n",
        "\n",
        "Заказчику важны:\n",
        "\n",
        "- качество предсказания;\n",
        "- скорость предсказания;\n",
        "- время обучения."
      ]
    },
    {
      "cell_type": "markdown",
      "metadata": {
        "id": "BIAi-9zGr61U"
      },
      "source": [
        "# План проекта\n",
        "\n",
        "**Подготовка данных:**\n",
        "* Читаем датасет;\n",
        "* Смотрим пропуски, заполняем их;\n",
        "* Найдем дубликаты и удалим их;\n",
        "* Избавимся от аномалий и вбросов;\n",
        "* Оставим только необходимые столбцы для обучения моделей.\n",
        "\n",
        "**Обучние моделей:**\n",
        "* Обучаем три модели;\n",
        "* Работа с ОНЕ и ОЕ.\n",
        "\n",
        "**Анализ моделей:**\n",
        "* Приводим результаты обучения в таблицу;\n",
        "* Делаем выводы, выбираем лучшую модель.\n",
        "\n",
        "**Тест лучшей модели**\n",
        "\n",
        "**Выводы**\n",
        "\n"
      ]
    },
    {
      "cell_type": "markdown",
      "metadata": {
        "id": "fPzy0Rkar61V"
      },
      "source": [
        "## Подготовка данных"
      ]
    },
    {
      "cell_type": "code",
      "execution_count": 1,
      "metadata": {
        "colab": {
          "base_uri": "https://localhost:8080/"
        },
        "id": "sDcwh_vlr61V",
        "outputId": "31ac46ef-e185-4ed1-c0a5-b910a329da95"
      },
      "outputs": [
        {
          "output_type": "stream",
          "name": "stdout",
          "text": [
            "Requirement already satisfied: catboost in /usr/local/lib/python3.10/dist-packages (1.2)\n",
            "Requirement already satisfied: graphviz in /usr/local/lib/python3.10/dist-packages (from catboost) (0.20.1)\n",
            "Requirement already satisfied: matplotlib in /usr/local/lib/python3.10/dist-packages (from catboost) (3.7.1)\n",
            "Requirement already satisfied: numpy>=1.16.0 in /usr/local/lib/python3.10/dist-packages (from catboost) (1.22.4)\n",
            "Requirement already satisfied: pandas>=0.24 in /usr/local/lib/python3.10/dist-packages (from catboost) (1.5.3)\n",
            "Requirement already satisfied: scipy in /usr/local/lib/python3.10/dist-packages (from catboost) (1.10.1)\n",
            "Requirement already satisfied: plotly in /usr/local/lib/python3.10/dist-packages (from catboost) (5.13.1)\n",
            "Requirement already satisfied: six in /usr/local/lib/python3.10/dist-packages (from catboost) (1.16.0)\n",
            "Requirement already satisfied: python-dateutil>=2.8.1 in /usr/local/lib/python3.10/dist-packages (from pandas>=0.24->catboost) (2.8.2)\n",
            "Requirement already satisfied: pytz>=2020.1 in /usr/local/lib/python3.10/dist-packages (from pandas>=0.24->catboost) (2022.7.1)\n",
            "Requirement already satisfied: contourpy>=1.0.1 in /usr/local/lib/python3.10/dist-packages (from matplotlib->catboost) (1.1.0)\n",
            "Requirement already satisfied: cycler>=0.10 in /usr/local/lib/python3.10/dist-packages (from matplotlib->catboost) (0.11.0)\n",
            "Requirement already satisfied: fonttools>=4.22.0 in /usr/local/lib/python3.10/dist-packages (from matplotlib->catboost) (4.41.1)\n",
            "Requirement already satisfied: kiwisolver>=1.0.1 in /usr/local/lib/python3.10/dist-packages (from matplotlib->catboost) (1.4.4)\n",
            "Requirement already satisfied: packaging>=20.0 in /usr/local/lib/python3.10/dist-packages (from matplotlib->catboost) (23.1)\n",
            "Requirement already satisfied: pillow>=6.2.0 in /usr/local/lib/python3.10/dist-packages (from matplotlib->catboost) (9.4.0)\n",
            "Requirement already satisfied: pyparsing>=2.3.1 in /usr/local/lib/python3.10/dist-packages (from matplotlib->catboost) (3.1.0)\n",
            "Requirement already satisfied: tenacity>=6.2.0 in /usr/local/lib/python3.10/dist-packages (from plotly->catboost) (8.2.2)\n",
            "Requirement already satisfied: ipywidgets in /usr/local/lib/python3.10/dist-packages (7.7.1)\n",
            "Requirement already satisfied: ipykernel>=4.5.1 in /usr/local/lib/python3.10/dist-packages (from ipywidgets) (5.5.6)\n",
            "Requirement already satisfied: ipython-genutils~=0.2.0 in /usr/local/lib/python3.10/dist-packages (from ipywidgets) (0.2.0)\n",
            "Requirement already satisfied: traitlets>=4.3.1 in /usr/local/lib/python3.10/dist-packages (from ipywidgets) (5.7.1)\n",
            "Requirement already satisfied: widgetsnbextension~=3.6.0 in /usr/local/lib/python3.10/dist-packages (from ipywidgets) (3.6.4)\n",
            "Requirement already satisfied: ipython>=4.0.0 in /usr/local/lib/python3.10/dist-packages (from ipywidgets) (7.34.0)\n",
            "Requirement already satisfied: jupyterlab-widgets>=1.0.0 in /usr/local/lib/python3.10/dist-packages (from ipywidgets) (3.0.8)\n",
            "Requirement already satisfied: jupyter-client in /usr/local/lib/python3.10/dist-packages (from ipykernel>=4.5.1->ipywidgets) (6.1.12)\n",
            "Requirement already satisfied: tornado>=4.2 in /usr/local/lib/python3.10/dist-packages (from ipykernel>=4.5.1->ipywidgets) (6.3.1)\n",
            "Requirement already satisfied: setuptools>=18.5 in /usr/local/lib/python3.10/dist-packages (from ipython>=4.0.0->ipywidgets) (67.7.2)\n",
            "Requirement already satisfied: jedi>=0.16 in /usr/local/lib/python3.10/dist-packages (from ipython>=4.0.0->ipywidgets) (0.19.0)\n",
            "Requirement already satisfied: decorator in /usr/local/lib/python3.10/dist-packages (from ipython>=4.0.0->ipywidgets) (4.4.2)\n",
            "Requirement already satisfied: pickleshare in /usr/local/lib/python3.10/dist-packages (from ipython>=4.0.0->ipywidgets) (0.7.5)\n",
            "Requirement already satisfied: prompt-toolkit!=3.0.0,!=3.0.1,<3.1.0,>=2.0.0 in /usr/local/lib/python3.10/dist-packages (from ipython>=4.0.0->ipywidgets) (3.0.39)\n",
            "Requirement already satisfied: pygments in /usr/local/lib/python3.10/dist-packages (from ipython>=4.0.0->ipywidgets) (2.14.0)\n",
            "Requirement already satisfied: backcall in /usr/local/lib/python3.10/dist-packages (from ipython>=4.0.0->ipywidgets) (0.2.0)\n",
            "Requirement already satisfied: matplotlib-inline in /usr/local/lib/python3.10/dist-packages (from ipython>=4.0.0->ipywidgets) (0.1.6)\n",
            "Requirement already satisfied: pexpect>4.3 in /usr/local/lib/python3.10/dist-packages (from ipython>=4.0.0->ipywidgets) (4.8.0)\n",
            "Requirement already satisfied: notebook>=4.4.1 in /usr/local/lib/python3.10/dist-packages (from widgetsnbextension~=3.6.0->ipywidgets) (6.4.8)\n",
            "Requirement already satisfied: parso<0.9.0,>=0.8.3 in /usr/local/lib/python3.10/dist-packages (from jedi>=0.16->ipython>=4.0.0->ipywidgets) (0.8.3)\n",
            "Requirement already satisfied: jinja2 in /usr/local/lib/python3.10/dist-packages (from notebook>=4.4.1->widgetsnbextension~=3.6.0->ipywidgets) (3.1.2)\n",
            "Requirement already satisfied: pyzmq>=17 in /usr/local/lib/python3.10/dist-packages (from notebook>=4.4.1->widgetsnbextension~=3.6.0->ipywidgets) (23.2.1)\n",
            "Requirement already satisfied: argon2-cffi in /usr/local/lib/python3.10/dist-packages (from notebook>=4.4.1->widgetsnbextension~=3.6.0->ipywidgets) (21.3.0)\n",
            "Requirement already satisfied: jupyter-core>=4.6.1 in /usr/local/lib/python3.10/dist-packages (from notebook>=4.4.1->widgetsnbextension~=3.6.0->ipywidgets) (5.3.1)\n",
            "Requirement already satisfied: nbformat in /usr/local/lib/python3.10/dist-packages (from notebook>=4.4.1->widgetsnbextension~=3.6.0->ipywidgets) (5.9.1)\n",
            "Requirement already satisfied: nbconvert in /usr/local/lib/python3.10/dist-packages (from notebook>=4.4.1->widgetsnbextension~=3.6.0->ipywidgets) (6.5.4)\n",
            "Requirement already satisfied: nest-asyncio>=1.5 in /usr/local/lib/python3.10/dist-packages (from notebook>=4.4.1->widgetsnbextension~=3.6.0->ipywidgets) (1.5.6)\n",
            "Requirement already satisfied: Send2Trash>=1.8.0 in /usr/local/lib/python3.10/dist-packages (from notebook>=4.4.1->widgetsnbextension~=3.6.0->ipywidgets) (1.8.2)\n",
            "Requirement already satisfied: terminado>=0.8.3 in /usr/local/lib/python3.10/dist-packages (from notebook>=4.4.1->widgetsnbextension~=3.6.0->ipywidgets) (0.17.1)\n",
            "Requirement already satisfied: prometheus-client in /usr/local/lib/python3.10/dist-packages (from notebook>=4.4.1->widgetsnbextension~=3.6.0->ipywidgets) (0.17.1)\n",
            "Requirement already satisfied: python-dateutil>=2.1 in /usr/local/lib/python3.10/dist-packages (from jupyter-client->ipykernel>=4.5.1->ipywidgets) (2.8.2)\n",
            "Requirement already satisfied: ptyprocess>=0.5 in /usr/local/lib/python3.10/dist-packages (from pexpect>4.3->ipython>=4.0.0->ipywidgets) (0.7.0)\n",
            "Requirement already satisfied: wcwidth in /usr/local/lib/python3.10/dist-packages (from prompt-toolkit!=3.0.0,!=3.0.1,<3.1.0,>=2.0.0->ipython>=4.0.0->ipywidgets) (0.2.6)\n",
            "Requirement already satisfied: platformdirs>=2.5 in /usr/local/lib/python3.10/dist-packages (from jupyter-core>=4.6.1->notebook>=4.4.1->widgetsnbextension~=3.6.0->ipywidgets) (3.9.1)\n",
            "Requirement already satisfied: six>=1.5 in /usr/local/lib/python3.10/dist-packages (from python-dateutil>=2.1->jupyter-client->ipykernel>=4.5.1->ipywidgets) (1.16.0)\n",
            "Requirement already satisfied: argon2-cffi-bindings in /usr/local/lib/python3.10/dist-packages (from argon2-cffi->notebook>=4.4.1->widgetsnbextension~=3.6.0->ipywidgets) (21.2.0)\n",
            "Requirement already satisfied: MarkupSafe>=2.0 in /usr/local/lib/python3.10/dist-packages (from jinja2->notebook>=4.4.1->widgetsnbextension~=3.6.0->ipywidgets) (2.1.3)\n",
            "Requirement already satisfied: lxml in /usr/local/lib/python3.10/dist-packages (from nbconvert->notebook>=4.4.1->widgetsnbextension~=3.6.0->ipywidgets) (4.9.3)\n",
            "Requirement already satisfied: beautifulsoup4 in /usr/local/lib/python3.10/dist-packages (from nbconvert->notebook>=4.4.1->widgetsnbextension~=3.6.0->ipywidgets) (4.11.2)\n",
            "Requirement already satisfied: bleach in /usr/local/lib/python3.10/dist-packages (from nbconvert->notebook>=4.4.1->widgetsnbextension~=3.6.0->ipywidgets) (6.0.0)\n",
            "Requirement already satisfied: defusedxml in /usr/local/lib/python3.10/dist-packages (from nbconvert->notebook>=4.4.1->widgetsnbextension~=3.6.0->ipywidgets) (0.7.1)\n",
            "Requirement already satisfied: entrypoints>=0.2.2 in /usr/local/lib/python3.10/dist-packages (from nbconvert->notebook>=4.4.1->widgetsnbextension~=3.6.0->ipywidgets) (0.4)\n",
            "Requirement already satisfied: jupyterlab-pygments in /usr/local/lib/python3.10/dist-packages (from nbconvert->notebook>=4.4.1->widgetsnbextension~=3.6.0->ipywidgets) (0.2.2)\n",
            "Requirement already satisfied: mistune<2,>=0.8.1 in /usr/local/lib/python3.10/dist-packages (from nbconvert->notebook>=4.4.1->widgetsnbextension~=3.6.0->ipywidgets) (0.8.4)\n",
            "Requirement already satisfied: nbclient>=0.5.0 in /usr/local/lib/python3.10/dist-packages (from nbconvert->notebook>=4.4.1->widgetsnbextension~=3.6.0->ipywidgets) (0.8.0)\n",
            "Requirement already satisfied: packaging in /usr/local/lib/python3.10/dist-packages (from nbconvert->notebook>=4.4.1->widgetsnbextension~=3.6.0->ipywidgets) (23.1)\n",
            "Requirement already satisfied: pandocfilters>=1.4.1 in /usr/local/lib/python3.10/dist-packages (from nbconvert->notebook>=4.4.1->widgetsnbextension~=3.6.0->ipywidgets) (1.5.0)\n",
            "Requirement already satisfied: tinycss2 in /usr/local/lib/python3.10/dist-packages (from nbconvert->notebook>=4.4.1->widgetsnbextension~=3.6.0->ipywidgets) (1.2.1)\n",
            "Requirement already satisfied: fastjsonschema in /usr/local/lib/python3.10/dist-packages (from nbformat->notebook>=4.4.1->widgetsnbextension~=3.6.0->ipywidgets) (2.18.0)\n",
            "Requirement already satisfied: jsonschema>=2.6 in /usr/local/lib/python3.10/dist-packages (from nbformat->notebook>=4.4.1->widgetsnbextension~=3.6.0->ipywidgets) (4.3.3)\n",
            "Requirement already satisfied: attrs>=17.4.0 in /usr/local/lib/python3.10/dist-packages (from jsonschema>=2.6->nbformat->notebook>=4.4.1->widgetsnbextension~=3.6.0->ipywidgets) (23.1.0)\n",
            "Requirement already satisfied: pyrsistent!=0.17.0,!=0.17.1,!=0.17.2,>=0.14.0 in /usr/local/lib/python3.10/dist-packages (from jsonschema>=2.6->nbformat->notebook>=4.4.1->widgetsnbextension~=3.6.0->ipywidgets) (0.19.3)\n",
            "Requirement already satisfied: cffi>=1.0.1 in /usr/local/lib/python3.10/dist-packages (from argon2-cffi-bindings->argon2-cffi->notebook>=4.4.1->widgetsnbextension~=3.6.0->ipywidgets) (1.15.1)\n",
            "Requirement already satisfied: soupsieve>1.2 in /usr/local/lib/python3.10/dist-packages (from beautifulsoup4->nbconvert->notebook>=4.4.1->widgetsnbextension~=3.6.0->ipywidgets) (2.4.1)\n",
            "Requirement already satisfied: webencodings in /usr/local/lib/python3.10/dist-packages (from bleach->nbconvert->notebook>=4.4.1->widgetsnbextension~=3.6.0->ipywidgets) (0.5.1)\n",
            "Requirement already satisfied: pycparser in /usr/local/lib/python3.10/dist-packages (from cffi>=1.0.1->argon2-cffi-bindings->argon2-cffi->notebook>=4.4.1->widgetsnbextension~=3.6.0->ipywidgets) (2.21)\n",
            "Enabling notebook extension jupyter-js-widgets/extension...\n",
            "Paths used for configuration of notebook: \n",
            "    \t/root/.jupyter/nbconfig/notebook.json\n",
            "Paths used for configuration of notebook: \n",
            "    \t\n",
            "      - Validating: \u001b[32mOK\u001b[0m\n",
            "Paths used for configuration of notebook: \n",
            "    \t/root/.jupyter/nbconfig/notebook.json\n"
          ]
        }
      ],
      "source": [
        "#так как у меня не была установлена библиотека catboost в колабе, первым делом устанавливаю ее:\n",
        "!pip install catboost\n",
        "!pip install ipywidgets\n",
        "!jupyter nbextension enable --py widgetsnbextension\n",
        "\n",
        "#библиотеки\n",
        "import pandas as pd\n",
        "import numpy as np\n",
        "from scipy import stats as st\n",
        "\n",
        "#методы\n",
        "from sklearn.model_selection import train_test_split\n",
        "from sklearn.metrics import mean_squared_error\n",
        "from sklearn.preprocessing import (OneHotEncoder,\n",
        "                                   OrdinalEncoder)\n",
        "\n",
        "#модели\n",
        "from sklearn.ensemble import RandomForestRegressor\n",
        "from catboost import CatBoostRegressor\n",
        "import lightgbm as ltb\n",
        "from lightgbm import LGBMRegressor\n",
        "\n",
        "#графики\n",
        "import matplotlib.pyplot as plt\n",
        "import seaborn as sns\n",
        "\n",
        "#дополнительные\n",
        "RANDOM_STATE=12345"
      ]
    },
    {
      "cell_type": "markdown",
      "metadata": {
        "id": "3yB2Q5Ecr61W"
      },
      "source": [
        "Посмотрим какие данные есть в датасете"
      ]
    },
    {
      "cell_type": "code",
      "execution_count": 2,
      "metadata": {
        "colab": {
          "base_uri": "https://localhost:8080/",
          "height": 0
        },
        "id": "2ZFR8YWor61W",
        "outputId": "1be90e64-eb5a-4ea0-b3d0-4f7687ea6a85"
      },
      "outputs": [
        {
          "output_type": "display_data",
          "data": {
            "text/plain": [
              "           DateCrawled  Price VehicleType  RegistrationYear Gearbox  Power  \\\n",
              "0  2016-03-24 11:52:17    480         NaN              1993  manual      0   \n",
              "1  2016-03-24 10:58:45  18300       coupe              2011  manual    190   \n",
              "2  2016-03-14 12:52:21   9800         suv              2004    auto    163   \n",
              "\n",
              "   Model  Kilometer  RegistrationMonth  FuelType       Brand Repaired  \\\n",
              "0   golf     150000                  0    petrol  volkswagen      NaN   \n",
              "1    NaN     125000                  5  gasoline        audi      yes   \n",
              "2  grand     125000                  8  gasoline        jeep      NaN   \n",
              "\n",
              "           DateCreated  NumberOfPictures  PostalCode             LastSeen  \n",
              "0  2016-03-24 00:00:00                 0       70435  2016-04-07 03:16:57  \n",
              "1  2016-03-24 00:00:00                 0       66954  2016-04-07 01:46:50  \n",
              "2  2016-03-14 00:00:00                 0       90480  2016-04-05 12:47:46  "
            ],
            "text/html": [
              "\n",
              "\n",
              "  <div id=\"df-0ec98669-2db2-464d-bd6e-6e66dffbd258\">\n",
              "    <div class=\"colab-df-container\">\n",
              "      <div>\n",
              "<style scoped>\n",
              "    .dataframe tbody tr th:only-of-type {\n",
              "        vertical-align: middle;\n",
              "    }\n",
              "\n",
              "    .dataframe tbody tr th {\n",
              "        vertical-align: top;\n",
              "    }\n",
              "\n",
              "    .dataframe thead th {\n",
              "        text-align: right;\n",
              "    }\n",
              "</style>\n",
              "<table border=\"1\" class=\"dataframe\">\n",
              "  <thead>\n",
              "    <tr style=\"text-align: right;\">\n",
              "      <th></th>\n",
              "      <th>DateCrawled</th>\n",
              "      <th>Price</th>\n",
              "      <th>VehicleType</th>\n",
              "      <th>RegistrationYear</th>\n",
              "      <th>Gearbox</th>\n",
              "      <th>Power</th>\n",
              "      <th>Model</th>\n",
              "      <th>Kilometer</th>\n",
              "      <th>RegistrationMonth</th>\n",
              "      <th>FuelType</th>\n",
              "      <th>Brand</th>\n",
              "      <th>Repaired</th>\n",
              "      <th>DateCreated</th>\n",
              "      <th>NumberOfPictures</th>\n",
              "      <th>PostalCode</th>\n",
              "      <th>LastSeen</th>\n",
              "    </tr>\n",
              "  </thead>\n",
              "  <tbody>\n",
              "    <tr>\n",
              "      <th>0</th>\n",
              "      <td>2016-03-24 11:52:17</td>\n",
              "      <td>480</td>\n",
              "      <td>NaN</td>\n",
              "      <td>1993</td>\n",
              "      <td>manual</td>\n",
              "      <td>0</td>\n",
              "      <td>golf</td>\n",
              "      <td>150000</td>\n",
              "      <td>0</td>\n",
              "      <td>petrol</td>\n",
              "      <td>volkswagen</td>\n",
              "      <td>NaN</td>\n",
              "      <td>2016-03-24 00:00:00</td>\n",
              "      <td>0</td>\n",
              "      <td>70435</td>\n",
              "      <td>2016-04-07 03:16:57</td>\n",
              "    </tr>\n",
              "    <tr>\n",
              "      <th>1</th>\n",
              "      <td>2016-03-24 10:58:45</td>\n",
              "      <td>18300</td>\n",
              "      <td>coupe</td>\n",
              "      <td>2011</td>\n",
              "      <td>manual</td>\n",
              "      <td>190</td>\n",
              "      <td>NaN</td>\n",
              "      <td>125000</td>\n",
              "      <td>5</td>\n",
              "      <td>gasoline</td>\n",
              "      <td>audi</td>\n",
              "      <td>yes</td>\n",
              "      <td>2016-03-24 00:00:00</td>\n",
              "      <td>0</td>\n",
              "      <td>66954</td>\n",
              "      <td>2016-04-07 01:46:50</td>\n",
              "    </tr>\n",
              "    <tr>\n",
              "      <th>2</th>\n",
              "      <td>2016-03-14 12:52:21</td>\n",
              "      <td>9800</td>\n",
              "      <td>suv</td>\n",
              "      <td>2004</td>\n",
              "      <td>auto</td>\n",
              "      <td>163</td>\n",
              "      <td>grand</td>\n",
              "      <td>125000</td>\n",
              "      <td>8</td>\n",
              "      <td>gasoline</td>\n",
              "      <td>jeep</td>\n",
              "      <td>NaN</td>\n",
              "      <td>2016-03-14 00:00:00</td>\n",
              "      <td>0</td>\n",
              "      <td>90480</td>\n",
              "      <td>2016-04-05 12:47:46</td>\n",
              "    </tr>\n",
              "  </tbody>\n",
              "</table>\n",
              "</div>\n",
              "      <button class=\"colab-df-convert\" onclick=\"convertToInteractive('df-0ec98669-2db2-464d-bd6e-6e66dffbd258')\"\n",
              "              title=\"Convert this dataframe to an interactive table.\"\n",
              "              style=\"display:none;\">\n",
              "\n",
              "  <svg xmlns=\"http://www.w3.org/2000/svg\" height=\"24px\"viewBox=\"0 0 24 24\"\n",
              "       width=\"24px\">\n",
              "    <path d=\"M0 0h24v24H0V0z\" fill=\"none\"/>\n",
              "    <path d=\"M18.56 5.44l.94 2.06.94-2.06 2.06-.94-2.06-.94-.94-2.06-.94 2.06-2.06.94zm-11 1L8.5 8.5l.94-2.06 2.06-.94-2.06-.94L8.5 2.5l-.94 2.06-2.06.94zm10 10l.94 2.06.94-2.06 2.06-.94-2.06-.94-.94-2.06-.94 2.06-2.06.94z\"/><path d=\"M17.41 7.96l-1.37-1.37c-.4-.4-.92-.59-1.43-.59-.52 0-1.04.2-1.43.59L10.3 9.45l-7.72 7.72c-.78.78-.78 2.05 0 2.83L4 21.41c.39.39.9.59 1.41.59.51 0 1.02-.2 1.41-.59l7.78-7.78 2.81-2.81c.8-.78.8-2.07 0-2.86zM5.41 20L4 18.59l7.72-7.72 1.47 1.35L5.41 20z\"/>\n",
              "  </svg>\n",
              "      </button>\n",
              "\n",
              "\n",
              "\n",
              "    <div id=\"df-e40a7c8c-0183-4c3b-8e5a-57b33e9d5913\">\n",
              "      <button class=\"colab-df-quickchart\" onclick=\"quickchart('df-e40a7c8c-0183-4c3b-8e5a-57b33e9d5913')\"\n",
              "              title=\"Suggest charts.\"\n",
              "              style=\"display:none;\">\n",
              "\n",
              "<svg xmlns=\"http://www.w3.org/2000/svg\" height=\"24px\"viewBox=\"0 0 24 24\"\n",
              "     width=\"24px\">\n",
              "    <g>\n",
              "        <path d=\"M19 3H5c-1.1 0-2 .9-2 2v14c0 1.1.9 2 2 2h14c1.1 0 2-.9 2-2V5c0-1.1-.9-2-2-2zM9 17H7v-7h2v7zm4 0h-2V7h2v10zm4 0h-2v-4h2v4z\"/>\n",
              "    </g>\n",
              "</svg>\n",
              "      </button>\n",
              "    </div>\n",
              "\n",
              "<style>\n",
              "  .colab-df-quickchart {\n",
              "    background-color: #E8F0FE;\n",
              "    border: none;\n",
              "    border-radius: 50%;\n",
              "    cursor: pointer;\n",
              "    display: none;\n",
              "    fill: #1967D2;\n",
              "    height: 32px;\n",
              "    padding: 0 0 0 0;\n",
              "    width: 32px;\n",
              "  }\n",
              "\n",
              "  .colab-df-quickchart:hover {\n",
              "    background-color: #E2EBFA;\n",
              "    box-shadow: 0px 1px 2px rgba(60, 64, 67, 0.3), 0px 1px 3px 1px rgba(60, 64, 67, 0.15);\n",
              "    fill: #174EA6;\n",
              "  }\n",
              "\n",
              "  [theme=dark] .colab-df-quickchart {\n",
              "    background-color: #3B4455;\n",
              "    fill: #D2E3FC;\n",
              "  }\n",
              "\n",
              "  [theme=dark] .colab-df-quickchart:hover {\n",
              "    background-color: #434B5C;\n",
              "    box-shadow: 0px 1px 3px 1px rgba(0, 0, 0, 0.15);\n",
              "    filter: drop-shadow(0px 1px 2px rgba(0, 0, 0, 0.3));\n",
              "    fill: #FFFFFF;\n",
              "  }\n",
              "</style>\n",
              "\n",
              "    <script>\n",
              "      async function quickchart(key) {\n",
              "        const containerElement = document.querySelector('#' + key);\n",
              "        const charts = await google.colab.kernel.invokeFunction(\n",
              "            'suggestCharts', [key], {});\n",
              "      }\n",
              "    </script>\n",
              "\n",
              "      <script>\n",
              "\n",
              "function displayQuickchartButton(domScope) {\n",
              "  let quickchartButtonEl =\n",
              "    domScope.querySelector('#df-e40a7c8c-0183-4c3b-8e5a-57b33e9d5913 button.colab-df-quickchart');\n",
              "  quickchartButtonEl.style.display =\n",
              "    google.colab.kernel.accessAllowed ? 'block' : 'none';\n",
              "}\n",
              "\n",
              "        displayQuickchartButton(document);\n",
              "      </script>\n",
              "      <style>\n",
              "    .colab-df-container {\n",
              "      display:flex;\n",
              "      flex-wrap:wrap;\n",
              "      gap: 12px;\n",
              "    }\n",
              "\n",
              "    .colab-df-convert {\n",
              "      background-color: #E8F0FE;\n",
              "      border: none;\n",
              "      border-radius: 50%;\n",
              "      cursor: pointer;\n",
              "      display: none;\n",
              "      fill: #1967D2;\n",
              "      height: 32px;\n",
              "      padding: 0 0 0 0;\n",
              "      width: 32px;\n",
              "    }\n",
              "\n",
              "    .colab-df-convert:hover {\n",
              "      background-color: #E2EBFA;\n",
              "      box-shadow: 0px 1px 2px rgba(60, 64, 67, 0.3), 0px 1px 3px 1px rgba(60, 64, 67, 0.15);\n",
              "      fill: #174EA6;\n",
              "    }\n",
              "\n",
              "    [theme=dark] .colab-df-convert {\n",
              "      background-color: #3B4455;\n",
              "      fill: #D2E3FC;\n",
              "    }\n",
              "\n",
              "    [theme=dark] .colab-df-convert:hover {\n",
              "      background-color: #434B5C;\n",
              "      box-shadow: 0px 1px 3px 1px rgba(0, 0, 0, 0.15);\n",
              "      filter: drop-shadow(0px 1px 2px rgba(0, 0, 0, 0.3));\n",
              "      fill: #FFFFFF;\n",
              "    }\n",
              "  </style>\n",
              "\n",
              "      <script>\n",
              "        const buttonEl =\n",
              "          document.querySelector('#df-0ec98669-2db2-464d-bd6e-6e66dffbd258 button.colab-df-convert');\n",
              "        buttonEl.style.display =\n",
              "          google.colab.kernel.accessAllowed ? 'block' : 'none';\n",
              "\n",
              "        async function convertToInteractive(key) {\n",
              "          const element = document.querySelector('#df-0ec98669-2db2-464d-bd6e-6e66dffbd258');\n",
              "          const dataTable =\n",
              "            await google.colab.kernel.invokeFunction('convertToInteractive',\n",
              "                                                     [key], {});\n",
              "          if (!dataTable) return;\n",
              "\n",
              "          const docLinkHtml = 'Like what you see? Visit the ' +\n",
              "            '<a target=\"_blank\" href=https://colab.research.google.com/notebooks/data_table.ipynb>data table notebook</a>'\n",
              "            + ' to learn more about interactive tables.';\n",
              "          element.innerHTML = '';\n",
              "          dataTable['output_type'] = 'display_data';\n",
              "          await google.colab.output.renderOutput(dataTable, element);\n",
              "          const docLink = document.createElement('div');\n",
              "          docLink.innerHTML = docLinkHtml;\n",
              "          element.appendChild(docLink);\n",
              "        }\n",
              "      </script>\n",
              "    </div>\n",
              "  </div>\n"
            ]
          },
          "metadata": {}
        }
      ],
      "source": [
        "data = pd.read_csv('/content/autos.csv')\n",
        "display(data.head(3))"
      ]
    },
    {
      "cell_type": "code",
      "execution_count": 3,
      "metadata": {
        "colab": {
          "base_uri": "https://localhost:8080/"
        },
        "id": "PsZBFiBlr61X",
        "outputId": "b19abec0-8927-4e30-8709-9285accef687"
      },
      "outputs": [
        {
          "output_type": "stream",
          "name": "stdout",
          "text": [
            "<class 'pandas.core.frame.DataFrame'>\n",
            "RangeIndex: 354369 entries, 0 to 354368\n",
            "Data columns (total 16 columns):\n",
            " #   Column             Non-Null Count   Dtype \n",
            "---  ------             --------------   ----- \n",
            " 0   DateCrawled        354369 non-null  object\n",
            " 1   Price              354369 non-null  int64 \n",
            " 2   VehicleType        316879 non-null  object\n",
            " 3   RegistrationYear   354369 non-null  int64 \n",
            " 4   Gearbox            334536 non-null  object\n",
            " 5   Power              354369 non-null  int64 \n",
            " 6   Model              334664 non-null  object\n",
            " 7   Kilometer          354369 non-null  int64 \n",
            " 8   RegistrationMonth  354369 non-null  int64 \n",
            " 9   FuelType           321474 non-null  object\n",
            " 10  Brand              354369 non-null  object\n",
            " 11  Repaired           283215 non-null  object\n",
            " 12  DateCreated        354369 non-null  object\n",
            " 13  NumberOfPictures   354369 non-null  int64 \n",
            " 14  PostalCode         354369 non-null  int64 \n",
            " 15  LastSeen           354369 non-null  object\n",
            "dtypes: int64(7), object(9)\n",
            "memory usage: 43.3+ MB\n"
          ]
        }
      ],
      "source": [
        "data.info()"
      ]
    },
    {
      "cell_type": "markdown",
      "metadata": {
        "id": "0yc0qYypr61X"
      },
      "source": [
        "Найдем пропуски:"
      ]
    },
    {
      "cell_type": "code",
      "execution_count": 4,
      "metadata": {
        "colab": {
          "base_uri": "https://localhost:8080/"
        },
        "id": "gg_eembmr61X",
        "outputId": "2da1a19b-60db-46b4-e1b6-051a293b3e7d"
      },
      "outputs": [
        {
          "output_type": "execute_result",
          "data": {
            "text/plain": [
              "DateCrawled              0\n",
              "Price                    0\n",
              "VehicleType          37490\n",
              "RegistrationYear         0\n",
              "Gearbox              19833\n",
              "Power                    0\n",
              "Model                19705\n",
              "Kilometer                0\n",
              "RegistrationMonth        0\n",
              "FuelType             32895\n",
              "Brand                    0\n",
              "Repaired             71154\n",
              "DateCreated              0\n",
              "NumberOfPictures         0\n",
              "PostalCode               0\n",
              "LastSeen                 0\n",
              "dtype: int64"
            ]
          },
          "metadata": {},
          "execution_count": 4
        }
      ],
      "source": [
        "data.isna().sum()"
      ]
    },
    {
      "cell_type": "markdown",
      "metadata": {
        "id": "Ez4UOBH2r61X"
      },
      "source": [
        "Пропуски есть в пяти столбцах:\n",
        "1. тип кузова,\n",
        "2. тип коробки передач,\n",
        "3. модель машины,\n",
        "4. тип топлива,\n",
        "5. была ли машина в ремонте.\n",
        "Это важные типы данных и они влияют на стоимость машины. Заполним данные нулями."
      ]
    },
    {
      "cell_type": "code",
      "execution_count": 5,
      "metadata": {
        "colab": {
          "base_uri": "https://localhost:8080/",
          "height": 0
        },
        "id": "K8BkcsEIr61Y",
        "outputId": "a20ce52a-e959-4226-d685-bd1fb411be43"
      },
      "outputs": [
        {
          "output_type": "display_data",
          "data": {
            "text/plain": [
              "           DateCrawled  Price VehicleType  RegistrationYear Gearbox  Power  \\\n",
              "0  2016-03-24 11:52:17    480       sedan              1993  manual      0   \n",
              "1  2016-03-24 10:58:45  18300       coupe              2011  manual    190   \n",
              "2  2016-03-14 12:52:21   9800         suv              2004    auto    163   \n",
              "3  2016-03-17 16:54:04   1500       small              2001  manual     75   \n",
              "4  2016-03-31 17:25:20   3600       small              2008  manual     69   \n",
              "\n",
              "    Model  Kilometer  RegistrationMonth  FuelType       Brand Repaired  \\\n",
              "0    golf     150000                  0    petrol  volkswagen   unknow   \n",
              "1  unknow     125000                  5  gasoline        audi      yes   \n",
              "2   grand     125000                  8  gasoline        jeep   unknow   \n",
              "3    golf     150000                  6    petrol  volkswagen       no   \n",
              "4   fabia      90000                  7  gasoline       skoda       no   \n",
              "\n",
              "           DateCreated  NumberOfPictures  PostalCode             LastSeen  \n",
              "0  2016-03-24 00:00:00                 0       70435  2016-04-07 03:16:57  \n",
              "1  2016-03-24 00:00:00                 0       66954  2016-04-07 01:46:50  \n",
              "2  2016-03-14 00:00:00                 0       90480  2016-04-05 12:47:46  \n",
              "3  2016-03-17 00:00:00                 0       91074  2016-03-17 17:40:17  \n",
              "4  2016-03-31 00:00:00                 0       60437  2016-04-06 10:17:21  "
            ],
            "text/html": [
              "\n",
              "\n",
              "  <div id=\"df-ce21e5de-e78a-42e3-acc5-1f313266d4c9\">\n",
              "    <div class=\"colab-df-container\">\n",
              "      <div>\n",
              "<style scoped>\n",
              "    .dataframe tbody tr th:only-of-type {\n",
              "        vertical-align: middle;\n",
              "    }\n",
              "\n",
              "    .dataframe tbody tr th {\n",
              "        vertical-align: top;\n",
              "    }\n",
              "\n",
              "    .dataframe thead th {\n",
              "        text-align: right;\n",
              "    }\n",
              "</style>\n",
              "<table border=\"1\" class=\"dataframe\">\n",
              "  <thead>\n",
              "    <tr style=\"text-align: right;\">\n",
              "      <th></th>\n",
              "      <th>DateCrawled</th>\n",
              "      <th>Price</th>\n",
              "      <th>VehicleType</th>\n",
              "      <th>RegistrationYear</th>\n",
              "      <th>Gearbox</th>\n",
              "      <th>Power</th>\n",
              "      <th>Model</th>\n",
              "      <th>Kilometer</th>\n",
              "      <th>RegistrationMonth</th>\n",
              "      <th>FuelType</th>\n",
              "      <th>Brand</th>\n",
              "      <th>Repaired</th>\n",
              "      <th>DateCreated</th>\n",
              "      <th>NumberOfPictures</th>\n",
              "      <th>PostalCode</th>\n",
              "      <th>LastSeen</th>\n",
              "    </tr>\n",
              "  </thead>\n",
              "  <tbody>\n",
              "    <tr>\n",
              "      <th>0</th>\n",
              "      <td>2016-03-24 11:52:17</td>\n",
              "      <td>480</td>\n",
              "      <td>sedan</td>\n",
              "      <td>1993</td>\n",
              "      <td>manual</td>\n",
              "      <td>0</td>\n",
              "      <td>golf</td>\n",
              "      <td>150000</td>\n",
              "      <td>0</td>\n",
              "      <td>petrol</td>\n",
              "      <td>volkswagen</td>\n",
              "      <td>unknow</td>\n",
              "      <td>2016-03-24 00:00:00</td>\n",
              "      <td>0</td>\n",
              "      <td>70435</td>\n",
              "      <td>2016-04-07 03:16:57</td>\n",
              "    </tr>\n",
              "    <tr>\n",
              "      <th>1</th>\n",
              "      <td>2016-03-24 10:58:45</td>\n",
              "      <td>18300</td>\n",
              "      <td>coupe</td>\n",
              "      <td>2011</td>\n",
              "      <td>manual</td>\n",
              "      <td>190</td>\n",
              "      <td>unknow</td>\n",
              "      <td>125000</td>\n",
              "      <td>5</td>\n",
              "      <td>gasoline</td>\n",
              "      <td>audi</td>\n",
              "      <td>yes</td>\n",
              "      <td>2016-03-24 00:00:00</td>\n",
              "      <td>0</td>\n",
              "      <td>66954</td>\n",
              "      <td>2016-04-07 01:46:50</td>\n",
              "    </tr>\n",
              "    <tr>\n",
              "      <th>2</th>\n",
              "      <td>2016-03-14 12:52:21</td>\n",
              "      <td>9800</td>\n",
              "      <td>suv</td>\n",
              "      <td>2004</td>\n",
              "      <td>auto</td>\n",
              "      <td>163</td>\n",
              "      <td>grand</td>\n",
              "      <td>125000</td>\n",
              "      <td>8</td>\n",
              "      <td>gasoline</td>\n",
              "      <td>jeep</td>\n",
              "      <td>unknow</td>\n",
              "      <td>2016-03-14 00:00:00</td>\n",
              "      <td>0</td>\n",
              "      <td>90480</td>\n",
              "      <td>2016-04-05 12:47:46</td>\n",
              "    </tr>\n",
              "    <tr>\n",
              "      <th>3</th>\n",
              "      <td>2016-03-17 16:54:04</td>\n",
              "      <td>1500</td>\n",
              "      <td>small</td>\n",
              "      <td>2001</td>\n",
              "      <td>manual</td>\n",
              "      <td>75</td>\n",
              "      <td>golf</td>\n",
              "      <td>150000</td>\n",
              "      <td>6</td>\n",
              "      <td>petrol</td>\n",
              "      <td>volkswagen</td>\n",
              "      <td>no</td>\n",
              "      <td>2016-03-17 00:00:00</td>\n",
              "      <td>0</td>\n",
              "      <td>91074</td>\n",
              "      <td>2016-03-17 17:40:17</td>\n",
              "    </tr>\n",
              "    <tr>\n",
              "      <th>4</th>\n",
              "      <td>2016-03-31 17:25:20</td>\n",
              "      <td>3600</td>\n",
              "      <td>small</td>\n",
              "      <td>2008</td>\n",
              "      <td>manual</td>\n",
              "      <td>69</td>\n",
              "      <td>fabia</td>\n",
              "      <td>90000</td>\n",
              "      <td>7</td>\n",
              "      <td>gasoline</td>\n",
              "      <td>skoda</td>\n",
              "      <td>no</td>\n",
              "      <td>2016-03-31 00:00:00</td>\n",
              "      <td>0</td>\n",
              "      <td>60437</td>\n",
              "      <td>2016-04-06 10:17:21</td>\n",
              "    </tr>\n",
              "  </tbody>\n",
              "</table>\n",
              "</div>\n",
              "      <button class=\"colab-df-convert\" onclick=\"convertToInteractive('df-ce21e5de-e78a-42e3-acc5-1f313266d4c9')\"\n",
              "              title=\"Convert this dataframe to an interactive table.\"\n",
              "              style=\"display:none;\">\n",
              "\n",
              "  <svg xmlns=\"http://www.w3.org/2000/svg\" height=\"24px\"viewBox=\"0 0 24 24\"\n",
              "       width=\"24px\">\n",
              "    <path d=\"M0 0h24v24H0V0z\" fill=\"none\"/>\n",
              "    <path d=\"M18.56 5.44l.94 2.06.94-2.06 2.06-.94-2.06-.94-.94-2.06-.94 2.06-2.06.94zm-11 1L8.5 8.5l.94-2.06 2.06-.94-2.06-.94L8.5 2.5l-.94 2.06-2.06.94zm10 10l.94 2.06.94-2.06 2.06-.94-2.06-.94-.94-2.06-.94 2.06-2.06.94z\"/><path d=\"M17.41 7.96l-1.37-1.37c-.4-.4-.92-.59-1.43-.59-.52 0-1.04.2-1.43.59L10.3 9.45l-7.72 7.72c-.78.78-.78 2.05 0 2.83L4 21.41c.39.39.9.59 1.41.59.51 0 1.02-.2 1.41-.59l7.78-7.78 2.81-2.81c.8-.78.8-2.07 0-2.86zM5.41 20L4 18.59l7.72-7.72 1.47 1.35L5.41 20z\"/>\n",
              "  </svg>\n",
              "      </button>\n",
              "\n",
              "\n",
              "\n",
              "    <div id=\"df-2da59cdf-680b-4e23-b800-b5297de41f86\">\n",
              "      <button class=\"colab-df-quickchart\" onclick=\"quickchart('df-2da59cdf-680b-4e23-b800-b5297de41f86')\"\n",
              "              title=\"Suggest charts.\"\n",
              "              style=\"display:none;\">\n",
              "\n",
              "<svg xmlns=\"http://www.w3.org/2000/svg\" height=\"24px\"viewBox=\"0 0 24 24\"\n",
              "     width=\"24px\">\n",
              "    <g>\n",
              "        <path d=\"M19 3H5c-1.1 0-2 .9-2 2v14c0 1.1.9 2 2 2h14c1.1 0 2-.9 2-2V5c0-1.1-.9-2-2-2zM9 17H7v-7h2v7zm4 0h-2V7h2v10zm4 0h-2v-4h2v4z\"/>\n",
              "    </g>\n",
              "</svg>\n",
              "      </button>\n",
              "    </div>\n",
              "\n",
              "<style>\n",
              "  .colab-df-quickchart {\n",
              "    background-color: #E8F0FE;\n",
              "    border: none;\n",
              "    border-radius: 50%;\n",
              "    cursor: pointer;\n",
              "    display: none;\n",
              "    fill: #1967D2;\n",
              "    height: 32px;\n",
              "    padding: 0 0 0 0;\n",
              "    width: 32px;\n",
              "  }\n",
              "\n",
              "  .colab-df-quickchart:hover {\n",
              "    background-color: #E2EBFA;\n",
              "    box-shadow: 0px 1px 2px rgba(60, 64, 67, 0.3), 0px 1px 3px 1px rgba(60, 64, 67, 0.15);\n",
              "    fill: #174EA6;\n",
              "  }\n",
              "\n",
              "  [theme=dark] .colab-df-quickchart {\n",
              "    background-color: #3B4455;\n",
              "    fill: #D2E3FC;\n",
              "  }\n",
              "\n",
              "  [theme=dark] .colab-df-quickchart:hover {\n",
              "    background-color: #434B5C;\n",
              "    box-shadow: 0px 1px 3px 1px rgba(0, 0, 0, 0.15);\n",
              "    filter: drop-shadow(0px 1px 2px rgba(0, 0, 0, 0.3));\n",
              "    fill: #FFFFFF;\n",
              "  }\n",
              "</style>\n",
              "\n",
              "    <script>\n",
              "      async function quickchart(key) {\n",
              "        const containerElement = document.querySelector('#' + key);\n",
              "        const charts = await google.colab.kernel.invokeFunction(\n",
              "            'suggestCharts', [key], {});\n",
              "      }\n",
              "    </script>\n",
              "\n",
              "      <script>\n",
              "\n",
              "function displayQuickchartButton(domScope) {\n",
              "  let quickchartButtonEl =\n",
              "    domScope.querySelector('#df-2da59cdf-680b-4e23-b800-b5297de41f86 button.colab-df-quickchart');\n",
              "  quickchartButtonEl.style.display =\n",
              "    google.colab.kernel.accessAllowed ? 'block' : 'none';\n",
              "}\n",
              "\n",
              "        displayQuickchartButton(document);\n",
              "      </script>\n",
              "      <style>\n",
              "    .colab-df-container {\n",
              "      display:flex;\n",
              "      flex-wrap:wrap;\n",
              "      gap: 12px;\n",
              "    }\n",
              "\n",
              "    .colab-df-convert {\n",
              "      background-color: #E8F0FE;\n",
              "      border: none;\n",
              "      border-radius: 50%;\n",
              "      cursor: pointer;\n",
              "      display: none;\n",
              "      fill: #1967D2;\n",
              "      height: 32px;\n",
              "      padding: 0 0 0 0;\n",
              "      width: 32px;\n",
              "    }\n",
              "\n",
              "    .colab-df-convert:hover {\n",
              "      background-color: #E2EBFA;\n",
              "      box-shadow: 0px 1px 2px rgba(60, 64, 67, 0.3), 0px 1px 3px 1px rgba(60, 64, 67, 0.15);\n",
              "      fill: #174EA6;\n",
              "    }\n",
              "\n",
              "    [theme=dark] .colab-df-convert {\n",
              "      background-color: #3B4455;\n",
              "      fill: #D2E3FC;\n",
              "    }\n",
              "\n",
              "    [theme=dark] .colab-df-convert:hover {\n",
              "      background-color: #434B5C;\n",
              "      box-shadow: 0px 1px 3px 1px rgba(0, 0, 0, 0.15);\n",
              "      filter: drop-shadow(0px 1px 2px rgba(0, 0, 0, 0.3));\n",
              "      fill: #FFFFFF;\n",
              "    }\n",
              "  </style>\n",
              "\n",
              "      <script>\n",
              "        const buttonEl =\n",
              "          document.querySelector('#df-ce21e5de-e78a-42e3-acc5-1f313266d4c9 button.colab-df-convert');\n",
              "        buttonEl.style.display =\n",
              "          google.colab.kernel.accessAllowed ? 'block' : 'none';\n",
              "\n",
              "        async function convertToInteractive(key) {\n",
              "          const element = document.querySelector('#df-ce21e5de-e78a-42e3-acc5-1f313266d4c9');\n",
              "          const dataTable =\n",
              "            await google.colab.kernel.invokeFunction('convertToInteractive',\n",
              "                                                     [key], {});\n",
              "          if (!dataTable) return;\n",
              "\n",
              "          const docLinkHtml = 'Like what you see? Visit the ' +\n",
              "            '<a target=\"_blank\" href=https://colab.research.google.com/notebooks/data_table.ipynb>data table notebook</a>'\n",
              "            + ' to learn more about interactive tables.';\n",
              "          element.innerHTML = '';\n",
              "          dataTable['output_type'] = 'display_data';\n",
              "          await google.colab.output.renderOutput(dataTable, element);\n",
              "          const docLink = document.createElement('div');\n",
              "          docLink.innerHTML = docLinkHtml;\n",
              "          element.appendChild(docLink);\n",
              "        }\n",
              "      </script>\n",
              "    </div>\n",
              "  </div>\n"
            ]
          },
          "metadata": {}
        }
      ],
      "source": [
        "data['Model'] = data['Model'].fillna('unknow')\n",
        "data['FuelType'] = data['FuelType'].fillna('unknow')\n",
        "data['Repaired'] = data['Repaired'].fillna('unknow')\n",
        "\n",
        "data['Gearbox'] = data['Gearbox'].fillna(data.groupby('Model')['Gearbox'].transform(lambda x: x.value_counts().idxmax()))\n",
        "data['VehicleType'] = data['VehicleType'].fillna(data.groupby('Model')['VehicleType'].transform(lambda x: x.value_counts().idxmax()))\n",
        "\n",
        "display(data.head())"
      ]
    },
    {
      "cell_type": "markdown",
      "metadata": {
        "id": "rPZC1xaSr61Y"
      },
      "source": [
        "Проверим дубликаты:"
      ]
    },
    {
      "cell_type": "code",
      "execution_count": 6,
      "metadata": {
        "colab": {
          "base_uri": "https://localhost:8080/"
        },
        "id": "eOF5wToFr61Y",
        "outputId": "edaff193-5165-4b42-f517-27a76bdc11b8"
      },
      "outputs": [
        {
          "output_type": "stream",
          "name": "stdout",
          "text": [
            "Датасет содержит 4 дубликата\n"
          ]
        }
      ],
      "source": [
        "print('Датасет содержит', (data.duplicated().sum()), 'дубликата')"
      ]
    },
    {
      "cell_type": "markdown",
      "metadata": {
        "id": "A-EWK1dxr61Y"
      },
      "source": [
        "Удалим их:"
      ]
    },
    {
      "cell_type": "code",
      "execution_count": 7,
      "metadata": {
        "colab": {
          "base_uri": "https://localhost:8080/"
        },
        "id": "OJpA_vkhr61Y",
        "outputId": "fc9335f1-08fd-4c81-e07c-9ad01ec353d7"
      },
      "outputs": [
        {
          "output_type": "stream",
          "name": "stdout",
          "text": [
            "Датасет содержит 0 дубликатов\n"
          ]
        }
      ],
      "source": [
        "data = data.drop_duplicates().reset_index(drop=True)\n",
        "print('Датасет содержит', (data.duplicated().sum()), 'дубликатов')"
      ]
    },
    {
      "cell_type": "markdown",
      "metadata": {
        "id": "QEwEQAp0r61Z"
      },
      "source": [
        "Посмотрим числовые описания данных:"
      ]
    },
    {
      "cell_type": "code",
      "execution_count": 8,
      "metadata": {
        "colab": {
          "base_uri": "https://localhost:8080/",
          "height": 0
        },
        "id": "yVy0eKOrr61Z",
        "outputId": "5ace0e67-bd09-4f9d-a2de-fe93c2e821e0"
      },
      "outputs": [
        {
          "output_type": "execute_result",
          "data": {
            "text/plain": [
              "               Price  RegistrationYear          Power      Kilometer  \\\n",
              "count  354365.000000     354365.000000  354365.000000  354365.000000   \n",
              "mean     4416.679830       2004.234481     110.093816  128211.363989   \n",
              "std      4514.176349         90.228466     189.851330   37905.083858   \n",
              "min         0.000000       1000.000000       0.000000    5000.000000   \n",
              "25%      1050.000000       1999.000000      69.000000  125000.000000   \n",
              "50%      2700.000000       2003.000000     105.000000  150000.000000   \n",
              "75%      6400.000000       2008.000000     143.000000  150000.000000   \n",
              "max     20000.000000       9999.000000   20000.000000  150000.000000   \n",
              "\n",
              "       RegistrationMonth  NumberOfPictures     PostalCode  \n",
              "count      354365.000000          354365.0  354365.000000  \n",
              "mean            5.714650               0.0   50508.503800  \n",
              "std             3.726432               0.0   25783.100078  \n",
              "min             0.000000               0.0    1067.000000  \n",
              "25%             3.000000               0.0   30165.000000  \n",
              "50%             6.000000               0.0   49413.000000  \n",
              "75%             9.000000               0.0   71083.000000  \n",
              "max            12.000000               0.0   99998.000000  "
            ],
            "text/html": [
              "\n",
              "\n",
              "  <div id=\"df-55f68711-06d0-4a39-ac57-031aa9b730fb\">\n",
              "    <div class=\"colab-df-container\">\n",
              "      <div>\n",
              "<style scoped>\n",
              "    .dataframe tbody tr th:only-of-type {\n",
              "        vertical-align: middle;\n",
              "    }\n",
              "\n",
              "    .dataframe tbody tr th {\n",
              "        vertical-align: top;\n",
              "    }\n",
              "\n",
              "    .dataframe thead th {\n",
              "        text-align: right;\n",
              "    }\n",
              "</style>\n",
              "<table border=\"1\" class=\"dataframe\">\n",
              "  <thead>\n",
              "    <tr style=\"text-align: right;\">\n",
              "      <th></th>\n",
              "      <th>Price</th>\n",
              "      <th>RegistrationYear</th>\n",
              "      <th>Power</th>\n",
              "      <th>Kilometer</th>\n",
              "      <th>RegistrationMonth</th>\n",
              "      <th>NumberOfPictures</th>\n",
              "      <th>PostalCode</th>\n",
              "    </tr>\n",
              "  </thead>\n",
              "  <tbody>\n",
              "    <tr>\n",
              "      <th>count</th>\n",
              "      <td>354365.000000</td>\n",
              "      <td>354365.000000</td>\n",
              "      <td>354365.000000</td>\n",
              "      <td>354365.000000</td>\n",
              "      <td>354365.000000</td>\n",
              "      <td>354365.0</td>\n",
              "      <td>354365.000000</td>\n",
              "    </tr>\n",
              "    <tr>\n",
              "      <th>mean</th>\n",
              "      <td>4416.679830</td>\n",
              "      <td>2004.234481</td>\n",
              "      <td>110.093816</td>\n",
              "      <td>128211.363989</td>\n",
              "      <td>5.714650</td>\n",
              "      <td>0.0</td>\n",
              "      <td>50508.503800</td>\n",
              "    </tr>\n",
              "    <tr>\n",
              "      <th>std</th>\n",
              "      <td>4514.176349</td>\n",
              "      <td>90.228466</td>\n",
              "      <td>189.851330</td>\n",
              "      <td>37905.083858</td>\n",
              "      <td>3.726432</td>\n",
              "      <td>0.0</td>\n",
              "      <td>25783.100078</td>\n",
              "    </tr>\n",
              "    <tr>\n",
              "      <th>min</th>\n",
              "      <td>0.000000</td>\n",
              "      <td>1000.000000</td>\n",
              "      <td>0.000000</td>\n",
              "      <td>5000.000000</td>\n",
              "      <td>0.000000</td>\n",
              "      <td>0.0</td>\n",
              "      <td>1067.000000</td>\n",
              "    </tr>\n",
              "    <tr>\n",
              "      <th>25%</th>\n",
              "      <td>1050.000000</td>\n",
              "      <td>1999.000000</td>\n",
              "      <td>69.000000</td>\n",
              "      <td>125000.000000</td>\n",
              "      <td>3.000000</td>\n",
              "      <td>0.0</td>\n",
              "      <td>30165.000000</td>\n",
              "    </tr>\n",
              "    <tr>\n",
              "      <th>50%</th>\n",
              "      <td>2700.000000</td>\n",
              "      <td>2003.000000</td>\n",
              "      <td>105.000000</td>\n",
              "      <td>150000.000000</td>\n",
              "      <td>6.000000</td>\n",
              "      <td>0.0</td>\n",
              "      <td>49413.000000</td>\n",
              "    </tr>\n",
              "    <tr>\n",
              "      <th>75%</th>\n",
              "      <td>6400.000000</td>\n",
              "      <td>2008.000000</td>\n",
              "      <td>143.000000</td>\n",
              "      <td>150000.000000</td>\n",
              "      <td>9.000000</td>\n",
              "      <td>0.0</td>\n",
              "      <td>71083.000000</td>\n",
              "    </tr>\n",
              "    <tr>\n",
              "      <th>max</th>\n",
              "      <td>20000.000000</td>\n",
              "      <td>9999.000000</td>\n",
              "      <td>20000.000000</td>\n",
              "      <td>150000.000000</td>\n",
              "      <td>12.000000</td>\n",
              "      <td>0.0</td>\n",
              "      <td>99998.000000</td>\n",
              "    </tr>\n",
              "  </tbody>\n",
              "</table>\n",
              "</div>\n",
              "      <button class=\"colab-df-convert\" onclick=\"convertToInteractive('df-55f68711-06d0-4a39-ac57-031aa9b730fb')\"\n",
              "              title=\"Convert this dataframe to an interactive table.\"\n",
              "              style=\"display:none;\">\n",
              "\n",
              "  <svg xmlns=\"http://www.w3.org/2000/svg\" height=\"24px\"viewBox=\"0 0 24 24\"\n",
              "       width=\"24px\">\n",
              "    <path d=\"M0 0h24v24H0V0z\" fill=\"none\"/>\n",
              "    <path d=\"M18.56 5.44l.94 2.06.94-2.06 2.06-.94-2.06-.94-.94-2.06-.94 2.06-2.06.94zm-11 1L8.5 8.5l.94-2.06 2.06-.94-2.06-.94L8.5 2.5l-.94 2.06-2.06.94zm10 10l.94 2.06.94-2.06 2.06-.94-2.06-.94-.94-2.06-.94 2.06-2.06.94z\"/><path d=\"M17.41 7.96l-1.37-1.37c-.4-.4-.92-.59-1.43-.59-.52 0-1.04.2-1.43.59L10.3 9.45l-7.72 7.72c-.78.78-.78 2.05 0 2.83L4 21.41c.39.39.9.59 1.41.59.51 0 1.02-.2 1.41-.59l7.78-7.78 2.81-2.81c.8-.78.8-2.07 0-2.86zM5.41 20L4 18.59l7.72-7.72 1.47 1.35L5.41 20z\"/>\n",
              "  </svg>\n",
              "      </button>\n",
              "\n",
              "\n",
              "\n",
              "    <div id=\"df-00cceb7b-171a-40b8-8675-eedef9297526\">\n",
              "      <button class=\"colab-df-quickchart\" onclick=\"quickchart('df-00cceb7b-171a-40b8-8675-eedef9297526')\"\n",
              "              title=\"Suggest charts.\"\n",
              "              style=\"display:none;\">\n",
              "\n",
              "<svg xmlns=\"http://www.w3.org/2000/svg\" height=\"24px\"viewBox=\"0 0 24 24\"\n",
              "     width=\"24px\">\n",
              "    <g>\n",
              "        <path d=\"M19 3H5c-1.1 0-2 .9-2 2v14c0 1.1.9 2 2 2h14c1.1 0 2-.9 2-2V5c0-1.1-.9-2-2-2zM9 17H7v-7h2v7zm4 0h-2V7h2v10zm4 0h-2v-4h2v4z\"/>\n",
              "    </g>\n",
              "</svg>\n",
              "      </button>\n",
              "    </div>\n",
              "\n",
              "<style>\n",
              "  .colab-df-quickchart {\n",
              "    background-color: #E8F0FE;\n",
              "    border: none;\n",
              "    border-radius: 50%;\n",
              "    cursor: pointer;\n",
              "    display: none;\n",
              "    fill: #1967D2;\n",
              "    height: 32px;\n",
              "    padding: 0 0 0 0;\n",
              "    width: 32px;\n",
              "  }\n",
              "\n",
              "  .colab-df-quickchart:hover {\n",
              "    background-color: #E2EBFA;\n",
              "    box-shadow: 0px 1px 2px rgba(60, 64, 67, 0.3), 0px 1px 3px 1px rgba(60, 64, 67, 0.15);\n",
              "    fill: #174EA6;\n",
              "  }\n",
              "\n",
              "  [theme=dark] .colab-df-quickchart {\n",
              "    background-color: #3B4455;\n",
              "    fill: #D2E3FC;\n",
              "  }\n",
              "\n",
              "  [theme=dark] .colab-df-quickchart:hover {\n",
              "    background-color: #434B5C;\n",
              "    box-shadow: 0px 1px 3px 1px rgba(0, 0, 0, 0.15);\n",
              "    filter: drop-shadow(0px 1px 2px rgba(0, 0, 0, 0.3));\n",
              "    fill: #FFFFFF;\n",
              "  }\n",
              "</style>\n",
              "\n",
              "    <script>\n",
              "      async function quickchart(key) {\n",
              "        const containerElement = document.querySelector('#' + key);\n",
              "        const charts = await google.colab.kernel.invokeFunction(\n",
              "            'suggestCharts', [key], {});\n",
              "      }\n",
              "    </script>\n",
              "\n",
              "      <script>\n",
              "\n",
              "function displayQuickchartButton(domScope) {\n",
              "  let quickchartButtonEl =\n",
              "    domScope.querySelector('#df-00cceb7b-171a-40b8-8675-eedef9297526 button.colab-df-quickchart');\n",
              "  quickchartButtonEl.style.display =\n",
              "    google.colab.kernel.accessAllowed ? 'block' : 'none';\n",
              "}\n",
              "\n",
              "        displayQuickchartButton(document);\n",
              "      </script>\n",
              "      <style>\n",
              "    .colab-df-container {\n",
              "      display:flex;\n",
              "      flex-wrap:wrap;\n",
              "      gap: 12px;\n",
              "    }\n",
              "\n",
              "    .colab-df-convert {\n",
              "      background-color: #E8F0FE;\n",
              "      border: none;\n",
              "      border-radius: 50%;\n",
              "      cursor: pointer;\n",
              "      display: none;\n",
              "      fill: #1967D2;\n",
              "      height: 32px;\n",
              "      padding: 0 0 0 0;\n",
              "      width: 32px;\n",
              "    }\n",
              "\n",
              "    .colab-df-convert:hover {\n",
              "      background-color: #E2EBFA;\n",
              "      box-shadow: 0px 1px 2px rgba(60, 64, 67, 0.3), 0px 1px 3px 1px rgba(60, 64, 67, 0.15);\n",
              "      fill: #174EA6;\n",
              "    }\n",
              "\n",
              "    [theme=dark] .colab-df-convert {\n",
              "      background-color: #3B4455;\n",
              "      fill: #D2E3FC;\n",
              "    }\n",
              "\n",
              "    [theme=dark] .colab-df-convert:hover {\n",
              "      background-color: #434B5C;\n",
              "      box-shadow: 0px 1px 3px 1px rgba(0, 0, 0, 0.15);\n",
              "      filter: drop-shadow(0px 1px 2px rgba(0, 0, 0, 0.3));\n",
              "      fill: #FFFFFF;\n",
              "    }\n",
              "  </style>\n",
              "\n",
              "      <script>\n",
              "        const buttonEl =\n",
              "          document.querySelector('#df-55f68711-06d0-4a39-ac57-031aa9b730fb button.colab-df-convert');\n",
              "        buttonEl.style.display =\n",
              "          google.colab.kernel.accessAllowed ? 'block' : 'none';\n",
              "\n",
              "        async function convertToInteractive(key) {\n",
              "          const element = document.querySelector('#df-55f68711-06d0-4a39-ac57-031aa9b730fb');\n",
              "          const dataTable =\n",
              "            await google.colab.kernel.invokeFunction('convertToInteractive',\n",
              "                                                     [key], {});\n",
              "          if (!dataTable) return;\n",
              "\n",
              "          const docLinkHtml = 'Like what you see? Visit the ' +\n",
              "            '<a target=\"_blank\" href=https://colab.research.google.com/notebooks/data_table.ipynb>data table notebook</a>'\n",
              "            + ' to learn more about interactive tables.';\n",
              "          element.innerHTML = '';\n",
              "          dataTable['output_type'] = 'display_data';\n",
              "          await google.colab.output.renderOutput(dataTable, element);\n",
              "          const docLink = document.createElement('div');\n",
              "          docLink.innerHTML = docLinkHtml;\n",
              "          element.appendChild(docLink);\n",
              "        }\n",
              "      </script>\n",
              "    </div>\n",
              "  </div>\n"
            ]
          },
          "metadata": {},
          "execution_count": 8
        }
      ],
      "source": [
        "data.describe()"
      ]
    },
    {
      "cell_type": "markdown",
      "metadata": {
        "id": "o1g7rSHmr61Z"
      },
      "source": [
        "Выяснили минимальные и максимальные показатели. Смущает\n",
        "1. макс.показатель года выпуска,\n",
        "2. одинаковые данные в квантилях 50%, 75%, максимальное,\n",
        "3. мин.мощность = 0.\n",
        "\n",
        "Разберемся с ними."
      ]
    },
    {
      "cell_type": "code",
      "execution_count": 9,
      "metadata": {
        "colab": {
          "base_uri": "https://localhost:8080/",
          "height": 0
        },
        "id": "YcVdbfM8r61Z",
        "outputId": "a48a2254-028a-4800-9e6b-59462bae2bac"
      },
      "outputs": [
        {
          "output_type": "stream",
          "name": "stdout",
          "text": [
            "                  Power\n",
            "RegistrationYear       \n",
            "9999                 26\n",
            "9996                  1\n",
            "9450                  1\n",
            "9229                  1\n",
            "9000                  3\n",
            "...                 ...\n",
            "1200                  1\n",
            "1111                  3\n",
            "1039                  1\n",
            "1001                  1\n",
            "1000                 37\n",
            "\n",
            "[151 rows x 1 columns]\n"
          ]
        },
        {
          "output_type": "display_data",
          "data": {
            "text/plain": [
              "<Figure size 10000x10000 with 1 Axes>"
            ],
            "image/png": "[encoded data removed]"
          },
          "metadata": {}
        }
      ],
      "source": [
        "years_reg = data.pivot_table(index = 'RegistrationYear', values ='Power', aggfunc = 'count').sort_values(by='RegistrationYear', ascending=False)\n",
        "print(years_reg)\n",
        "\n",
        "years_reg.plot(grid=True, kind = 'bar', color = 'red', alpha = 0.5, figsize=(100, 100))\n",
        "plt.title('Выпуск по годам')\n",
        "plt.xlabel('Год выпуска')\n",
        "plt.ylabel('Количество')\n",
        "plt.show()"
      ]
    },
    {
      "cell_type": "markdown",
      "metadata": {
        "id": "ZLpmb8iDr61a"
      },
      "source": [
        "Свод и график говорят о вбросах в данных - год регистрации не может быть 1000 или 9999. Очистим данные: возьмем период от 1960-2016 годов."
      ]
    },
    {
      "cell_type": "code",
      "execution_count": 10,
      "metadata": {
        "colab": {
          "base_uri": "https://localhost:8080/",
          "height": 0
        },
        "id": "_XaQwJRPr61a",
        "outputId": "25509569-30dd-43ee-d09c-05e3397c4f3a"
      },
      "outputs": [
        {
          "output_type": "display_data",
          "data": {
            "text/plain": [
              "           DateCrawled  Price VehicleType  RegistrationYear Gearbox  Power  \\\n",
              "0  2016-03-24 11:52:17    480       sedan              1993  manual      0   \n",
              "1  2016-03-24 10:58:45  18300       coupe              2011  manual    190   \n",
              "2  2016-03-14 12:52:21   9800         suv              2004    auto    163   \n",
              "3  2016-03-17 16:54:04   1500       small              2001  manual     75   \n",
              "4  2016-03-31 17:25:20   3600       small              2008  manual     69   \n",
              "\n",
              "    Model  Kilometer  RegistrationMonth  FuelType       Brand Repaired  \\\n",
              "0    golf     150000                  0    petrol  volkswagen   unknow   \n",
              "1  unknow     125000                  5  gasoline        audi      yes   \n",
              "2   grand     125000                  8  gasoline        jeep   unknow   \n",
              "3    golf     150000                  6    petrol  volkswagen       no   \n",
              "4   fabia      90000                  7  gasoline       skoda       no   \n",
              "\n",
              "           DateCreated  NumberOfPictures  PostalCode             LastSeen  \n",
              "0  2016-03-24 00:00:00                 0       70435  2016-04-07 03:16:57  \n",
              "1  2016-03-24 00:00:00                 0       66954  2016-04-07 01:46:50  \n",
              "2  2016-03-14 00:00:00                 0       90480  2016-04-05 12:47:46  \n",
              "3  2016-03-17 00:00:00                 0       91074  2016-03-17 17:40:17  \n",
              "4  2016-03-31 00:00:00                 0       60437  2016-04-06 10:17:21  "
            ],
            "text/html": [
              "\n",
              "\n",
              "  <div id=\"df-81959745-17d6-40a0-ac51-eee986506120\">\n",
              "    <div class=\"colab-df-container\">\n",
              "      <div>\n",
              "<style scoped>\n",
              "    .dataframe tbody tr th:only-of-type {\n",
              "        vertical-align: middle;\n",
              "    }\n",
              "\n",
              "    .dataframe tbody tr th {\n",
              "        vertical-align: top;\n",
              "    }\n",
              "\n",
              "    .dataframe thead th {\n",
              "        text-align: right;\n",
              "    }\n",
              "</style>\n",
              "<table border=\"1\" class=\"dataframe\">\n",
              "  <thead>\n",
              "    <tr style=\"text-align: right;\">\n",
              "      <th></th>\n",
              "      <th>DateCrawled</th>\n",
              "      <th>Price</th>\n",
              "      <th>VehicleType</th>\n",
              "      <th>RegistrationYear</th>\n",
              "      <th>Gearbox</th>\n",
              "      <th>Power</th>\n",
              "      <th>Model</th>\n",
              "      <th>Kilometer</th>\n",
              "      <th>RegistrationMonth</th>\n",
              "      <th>FuelType</th>\n",
              "      <th>Brand</th>\n",
              "      <th>Repaired</th>\n",
              "      <th>DateCreated</th>\n",
              "      <th>NumberOfPictures</th>\n",
              "      <th>PostalCode</th>\n",
              "      <th>LastSeen</th>\n",
              "    </tr>\n",
              "  </thead>\n",
              "  <tbody>\n",
              "    <tr>\n",
              "      <th>0</th>\n",
              "      <td>2016-03-24 11:52:17</td>\n",
              "      <td>480</td>\n",
              "      <td>sedan</td>\n",
              "      <td>1993</td>\n",
              "      <td>manual</td>\n",
              "      <td>0</td>\n",
              "      <td>golf</td>\n",
              "      <td>150000</td>\n",
              "      <td>0</td>\n",
              "      <td>petrol</td>\n",
              "      <td>volkswagen</td>\n",
              "      <td>unknow</td>\n",
              "      <td>2016-03-24 00:00:00</td>\n",
              "      <td>0</td>\n",
              "      <td>70435</td>\n",
              "      <td>2016-04-07 03:16:57</td>\n",
              "    </tr>\n",
              "    <tr>\n",
              "      <th>1</th>\n",
              "      <td>2016-03-24 10:58:45</td>\n",
              "      <td>18300</td>\n",
              "      <td>coupe</td>\n",
              "      <td>2011</td>\n",
              "      <td>manual</td>\n",
              "      <td>190</td>\n",
              "      <td>unknow</td>\n",
              "      <td>125000</td>\n",
              "      <td>5</td>\n",
              "      <td>gasoline</td>\n",
              "      <td>audi</td>\n",
              "      <td>yes</td>\n",
              "      <td>2016-03-24 00:00:00</td>\n",
              "      <td>0</td>\n",
              "      <td>66954</td>\n",
              "      <td>2016-04-07 01:46:50</td>\n",
              "    </tr>\n",
              "    <tr>\n",
              "      <th>2</th>\n",
              "      <td>2016-03-14 12:52:21</td>\n",
              "      <td>9800</td>\n",
              "      <td>suv</td>\n",
              "      <td>2004</td>\n",
              "      <td>auto</td>\n",
              "      <td>163</td>\n",
              "      <td>grand</td>\n",
              "      <td>125000</td>\n",
              "      <td>8</td>\n",
              "      <td>gasoline</td>\n",
              "      <td>jeep</td>\n",
              "      <td>unknow</td>\n",
              "      <td>2016-03-14 00:00:00</td>\n",
              "      <td>0</td>\n",
              "      <td>90480</td>\n",
              "      <td>2016-04-05 12:47:46</td>\n",
              "    </tr>\n",
              "    <tr>\n",
              "      <th>3</th>\n",
              "      <td>2016-03-17 16:54:04</td>\n",
              "      <td>1500</td>\n",
              "      <td>small</td>\n",
              "      <td>2001</td>\n",
              "      <td>manual</td>\n",
              "      <td>75</td>\n",
              "      <td>golf</td>\n",
              "      <td>150000</td>\n",
              "      <td>6</td>\n",
              "      <td>petrol</td>\n",
              "      <td>volkswagen</td>\n",
              "      <td>no</td>\n",
              "      <td>2016-03-17 00:00:00</td>\n",
              "      <td>0</td>\n",
              "      <td>91074</td>\n",
              "      <td>2016-03-17 17:40:17</td>\n",
              "    </tr>\n",
              "    <tr>\n",
              "      <th>4</th>\n",
              "      <td>2016-03-31 17:25:20</td>\n",
              "      <td>3600</td>\n",
              "      <td>small</td>\n",
              "      <td>2008</td>\n",
              "      <td>manual</td>\n",
              "      <td>69</td>\n",
              "      <td>fabia</td>\n",
              "      <td>90000</td>\n",
              "      <td>7</td>\n",
              "      <td>gasoline</td>\n",
              "      <td>skoda</td>\n",
              "      <td>no</td>\n",
              "      <td>2016-03-31 00:00:00</td>\n",
              "      <td>0</td>\n",
              "      <td>60437</td>\n",
              "      <td>2016-04-06 10:17:21</td>\n",
              "    </tr>\n",
              "  </tbody>\n",
              "</table>\n",
              "</div>\n",
              "      <button class=\"colab-df-convert\" onclick=\"convertToInteractive('df-81959745-17d6-40a0-ac51-eee986506120')\"\n",
              "              title=\"Convert this dataframe to an interactive table.\"\n",
              "              style=\"display:none;\">\n",
              "\n",
              "  <svg xmlns=\"http://www.w3.org/2000/svg\" height=\"24px\"viewBox=\"0 0 24 24\"\n",
              "       width=\"24px\">\n",
              "    <path d=\"M0 0h24v24H0V0z\" fill=\"none\"/>\n",
              "    <path d=\"M18.56 5.44l.94 2.06.94-2.06 2.06-.94-2.06-.94-.94-2.06-.94 2.06-2.06.94zm-11 1L8.5 8.5l.94-2.06 2.06-.94-2.06-.94L8.5 2.5l-.94 2.06-2.06.94zm10 10l.94 2.06.94-2.06 2.06-.94-2.06-.94-.94-2.06-.94 2.06-2.06.94z\"/><path d=\"M17.41 7.96l-1.37-1.37c-.4-.4-.92-.59-1.43-.59-.52 0-1.04.2-1.43.59L10.3 9.45l-7.72 7.72c-.78.78-.78 2.05 0 2.83L4 21.41c.39.39.9.59 1.41.59.51 0 1.02-.2 1.41-.59l7.78-7.78 2.81-2.81c.8-.78.8-2.07 0-2.86zM5.41 20L4 18.59l7.72-7.72 1.47 1.35L5.41 20z\"/>\n",
              "  </svg>\n",
              "      </button>\n",
              "\n",
              "\n",
              "\n",
              "    <div id=\"df-496a067d-6c7d-4440-b307-5f84eca7adf7\">\n",
              "      <button class=\"colab-df-quickchart\" onclick=\"quickchart('df-496a067d-6c7d-4440-b307-5f84eca7adf7')\"\n",
              "              title=\"Suggest charts.\"\n",
              "              style=\"display:none;\">\n",
              "\n",
              "<svg xmlns=\"http://www.w3.org/2000/svg\" height=\"24px\"viewBox=\"0 0 24 24\"\n",
              "     width=\"24px\">\n",
              "    <g>\n",
              "        <path d=\"M19 3H5c-1.1 0-2 .9-2 2v14c0 1.1.9 2 2 2h14c1.1 0 2-.9 2-2V5c0-1.1-.9-2-2-2zM9 17H7v-7h2v7zm4 0h-2V7h2v10zm4 0h-2v-4h2v4z\"/>\n",
              "    </g>\n",
              "</svg>\n",
              "      </button>\n",
              "    </div>\n",
              "\n",
              "<style>\n",
              "  .colab-df-quickchart {\n",
              "    background-color: #E8F0FE;\n",
              "    border: none;\n",
              "    border-radius: 50%;\n",
              "    cursor: pointer;\n",
              "    display: none;\n",
              "    fill: #1967D2;\n",
              "    height: 32px;\n",
              "    padding: 0 0 0 0;\n",
              "    width: 32px;\n",
              "  }\n",
              "\n",
              "  .colab-df-quickchart:hover {\n",
              "    background-color: #E2EBFA;\n",
              "    box-shadow: 0px 1px 2px rgba(60, 64, 67, 0.3), 0px 1px 3px 1px rgba(60, 64, 67, 0.15);\n",
              "    fill: #174EA6;\n",
              "  }\n",
              "\n",
              "  [theme=dark] .colab-df-quickchart {\n",
              "    background-color: #3B4455;\n",
              "    fill: #D2E3FC;\n",
              "  }\n",
              "\n",
              "  [theme=dark] .colab-df-quickchart:hover {\n",
              "    background-color: #434B5C;\n",
              "    box-shadow: 0px 1px 3px 1px rgba(0, 0, 0, 0.15);\n",
              "    filter: drop-shadow(0px 1px 2px rgba(0, 0, 0, 0.3));\n",
              "    fill: #FFFFFF;\n",
              "  }\n",
              "</style>\n",
              "\n",
              "    <script>\n",
              "      async function quickchart(key) {\n",
              "        const containerElement = document.querySelector('#' + key);\n",
              "        const charts = await google.colab.kernel.invokeFunction(\n",
              "            'suggestCharts', [key], {});\n",
              "      }\n",
              "    </script>\n",
              "\n",
              "      <script>\n",
              "\n",
              "function displayQuickchartButton(domScope) {\n",
              "  let quickchartButtonEl =\n",
              "    domScope.querySelector('#df-496a067d-6c7d-4440-b307-5f84eca7adf7 button.colab-df-quickchart');\n",
              "  quickchartButtonEl.style.display =\n",
              "    google.colab.kernel.accessAllowed ? 'block' : 'none';\n",
              "}\n",
              "\n",
              "        displayQuickchartButton(document);\n",
              "      </script>\n",
              "      <style>\n",
              "    .colab-df-container {\n",
              "      display:flex;\n",
              "      flex-wrap:wrap;\n",
              "      gap: 12px;\n",
              "    }\n",
              "\n",
              "    .colab-df-convert {\n",
              "      background-color: #E8F0FE;\n",
              "      border: none;\n",
              "      border-radius: 50%;\n",
              "      cursor: pointer;\n",
              "      display: none;\n",
              "      fill: #1967D2;\n",
              "      height: 32px;\n",
              "      padding: 0 0 0 0;\n",
              "      width: 32px;\n",
              "    }\n",
              "\n",
              "    .colab-df-convert:hover {\n",
              "      background-color: #E2EBFA;\n",
              "      box-shadow: 0px 1px 2px rgba(60, 64, 67, 0.3), 0px 1px 3px 1px rgba(60, 64, 67, 0.15);\n",
              "      fill: #174EA6;\n",
              "    }\n",
              "\n",
              "    [theme=dark] .colab-df-convert {\n",
              "      background-color: #3B4455;\n",
              "      fill: #D2E3FC;\n",
              "    }\n",
              "\n",
              "    [theme=dark] .colab-df-convert:hover {\n",
              "      background-color: #434B5C;\n",
              "      box-shadow: 0px 1px 3px 1px rgba(0, 0, 0, 0.15);\n",
              "      filter: drop-shadow(0px 1px 2px rgba(0, 0, 0, 0.3));\n",
              "      fill: #FFFFFF;\n",
              "    }\n",
              "  </style>\n",
              "\n",
              "      <script>\n",
              "        const buttonEl =\n",
              "          document.querySelector('#df-81959745-17d6-40a0-ac51-eee986506120 button.colab-df-convert');\n",
              "        buttonEl.style.display =\n",
              "          google.colab.kernel.accessAllowed ? 'block' : 'none';\n",
              "\n",
              "        async function convertToInteractive(key) {\n",
              "          const element = document.querySelector('#df-81959745-17d6-40a0-ac51-eee986506120');\n",
              "          const dataTable =\n",
              "            await google.colab.kernel.invokeFunction('convertToInteractive',\n",
              "                                                     [key], {});\n",
              "          if (!dataTable) return;\n",
              "\n",
              "          const docLinkHtml = 'Like what you see? Visit the ' +\n",
              "            '<a target=\"_blank\" href=https://colab.research.google.com/notebooks/data_table.ipynb>data table notebook</a>'\n",
              "            + ' to learn more about interactive tables.';\n",
              "          element.innerHTML = '';\n",
              "          dataTable['output_type'] = 'display_data';\n",
              "          await google.colab.output.renderOutput(dataTable, element);\n",
              "          const docLink = document.createElement('div');\n",
              "          docLink.innerHTML = docLinkHtml;\n",
              "          element.appendChild(docLink);\n",
              "        }\n",
              "      </script>\n",
              "    </div>\n",
              "  </div>\n"
            ]
          },
          "metadata": {}
        },
        {
          "output_type": "stream",
          "name": "stdout",
          "text": [
            "<class 'pandas.core.frame.DataFrame'>\n",
            "Int64Index: 339413 entries, 0 to 354364\n",
            "Data columns (total 16 columns):\n",
            " #   Column             Non-Null Count   Dtype \n",
            "---  ------             --------------   ----- \n",
            " 0   DateCrawled        339413 non-null  object\n",
            " 1   Price              339413 non-null  int64 \n",
            " 2   VehicleType        339413 non-null  object\n",
            " 3   RegistrationYear   339413 non-null  int64 \n",
            " 4   Gearbox            339413 non-null  object\n",
            " 5   Power              339413 non-null  int64 \n",
            " 6   Model              339413 non-null  object\n",
            " 7   Kilometer          339413 non-null  int64 \n",
            " 8   RegistrationMonth  339413 non-null  int64 \n",
            " 9   FuelType           339413 non-null  object\n",
            " 10  Brand              339413 non-null  object\n",
            " 11  Repaired           339413 non-null  object\n",
            " 12  DateCreated        339413 non-null  object\n",
            " 13  NumberOfPictures   339413 non-null  int64 \n",
            " 14  PostalCode         339413 non-null  int64 \n",
            " 15  LastSeen           339413 non-null  object\n",
            "dtypes: int64(7), object(9)\n",
            "memory usage: 44.0+ MB\n"
          ]
        }
      ],
      "source": [
        "data = data[(data['RegistrationYear'] >= 1960) & (data['RegistrationYear'] <= 2016)]\n",
        "display(data.head())\n",
        "\n",
        "data.info()"
      ]
    },
    {
      "cell_type": "markdown",
      "metadata": {
        "id": "nyZLSEwvr61a"
      },
      "source": [
        "Посмотрим подозрительный пробег:"
      ]
    },
    {
      "cell_type": "code",
      "execution_count": 11,
      "metadata": {
        "colab": {
          "base_uri": "https://localhost:8080/",
          "height": 0
        },
        "id": "Q3nkrpfVr61a",
        "outputId": "7c5b433d-11f2-44d2-ca86-9d56e5c861fd"
      },
      "outputs": [
        {
          "output_type": "stream",
          "name": "stdout",
          "text": [
            "           RegistrationYear\n",
            "Kilometer                  \n",
            "150000               227546\n",
            "125000                35037\n",
            "100000                14375\n",
            "90000                 11184\n",
            "80000                  9747\n",
            "70000                  8351\n",
            "60000                  7272\n",
            "50000                  6051\n",
            "40000                  4811\n",
            "30000                  4308\n",
            "20000                  3801\n",
            "10000                  1121\n",
            "5000                   5809\n"
          ]
        },
        {
          "output_type": "display_data",
          "data": {
            "text/plain": [
              "<Figure size 1000x1000 with 1 Axes>"
            ],
            "image/png": "[encoded data removed]"
          },
          "metadata": {}
        },
        {
          "output_type": "stream",
          "name": "stdout",
          "text": [
            "           RegistrationYear   count        price\n",
            "Kilometer                                       \n",
            "5000                 2000.0    5809  2750.355999\n",
            "10000                2013.0    1121  9650.554862\n",
            "20000                2012.0    3801  8645.543541\n",
            "30000                2012.0    4308  9324.408078\n",
            "40000                2011.0    4811  9673.445022\n",
            "50000                2010.0    6051  9154.613287\n",
            "60000                2009.0    7272  8607.634213\n",
            "70000                2008.0    8351  7967.217100\n",
            "80000                2008.0    9747  7276.389864\n",
            "90000                2007.0   11184  6707.583870\n",
            "100000               2006.0   14375  5995.553670\n",
            "125000               2004.0   35037  5165.297657\n",
            "150000               2001.0  227546  3397.801873\n"
          ]
        }
      ],
      "source": [
        "km = data.pivot_table(index = 'Kilometer', values ='RegistrationYear', aggfunc = 'count').sort_values(by='Kilometer', ascending=False)\n",
        "print(km)\n",
        "\n",
        "km.plot(grid=True, kind = 'bar', color = 'red', alpha = 0.5, figsize=(10, 10))\n",
        "plt.title('Пробег')\n",
        "plt.xlabel('Пробег')\n",
        "plt.ylabel('Количество')\n",
        "plt.show()\n",
        "\n",
        "km_years = data.groupby('Kilometer').agg(RegistrationYear = ('RegistrationYear', 'median'), count = ('RegistrationYear', 'count'), price = (\"Price\", 'mean'))\n",
        "print(km_years)"
      ]
    },
    {
      "cell_type": "markdown",
      "metadata": {
        "id": "-Abvv7Gwr61b"
      },
      "source": [
        "Оставляем данные в исходном виде: основная часть машин 2002 года. За десятилетие похоже на реальный пробег. И стоимость очень доступная."
      ]
    },
    {
      "cell_type": "markdown",
      "metadata": {
        "id": "fmt4yqO3r61b"
      },
      "source": [
        "Очистим датасет от выбросов мощности:"
      ]
    },
    {
      "cell_type": "code",
      "execution_count": 12,
      "metadata": {
        "colab": {
          "base_uri": "https://localhost:8080/",
          "height": 0
        },
        "id": "ZYnPPCPhr61b",
        "outputId": "00a4f93a-e7cf-4f2a-d5d9-e7e1261067ed"
      },
      "outputs": [
        {
          "output_type": "display_data",
          "data": {
            "text/plain": [
              "           DateCrawled  Price VehicleType  RegistrationYear Gearbox  Power  \\\n",
              "1  2016-03-24 10:58:45  18300       coupe              2011  manual    190   \n",
              "2  2016-03-14 12:52:21   9800         suv              2004    auto    163   \n",
              "3  2016-03-17 16:54:04   1500       small              2001  manual     75   \n",
              "4  2016-03-31 17:25:20   3600       small              2008  manual     69   \n",
              "5  2016-04-04 17:36:23    650       sedan              1995  manual    102   \n",
              "\n",
              "    Model  Kilometer  RegistrationMonth  FuelType       Brand Repaired  \\\n",
              "1  unknow     125000                  5  gasoline        audi      yes   \n",
              "2   grand     125000                  8  gasoline        jeep   unknow   \n",
              "3    golf     150000                  6    petrol  volkswagen       no   \n",
              "4   fabia      90000                  7  gasoline       skoda       no   \n",
              "5     3er     150000                 10    petrol         bmw      yes   \n",
              "\n",
              "           DateCreated  NumberOfPictures  PostalCode             LastSeen  \n",
              "1  2016-03-24 00:00:00                 0       66954  2016-04-07 01:46:50  \n",
              "2  2016-03-14 00:00:00                 0       90480  2016-04-05 12:47:46  \n",
              "3  2016-03-17 00:00:00                 0       91074  2016-03-17 17:40:17  \n",
              "4  2016-03-31 00:00:00                 0       60437  2016-04-06 10:17:21  \n",
              "5  2016-04-04 00:00:00                 0       33775  2016-04-06 19:17:07  "
            ],
            "text/html": [
              "\n",
              "\n",
              "  <div id=\"df-044c6302-8f07-4063-a39d-765c4e9631cc\">\n",
              "    <div class=\"colab-df-container\">\n",
              "      <div>\n",
              "<style scoped>\n",
              "    .dataframe tbody tr th:only-of-type {\n",
              "        vertical-align: middle;\n",
              "    }\n",
              "\n",
              "    .dataframe tbody tr th {\n",
              "        vertical-align: top;\n",
              "    }\n",
              "\n",
              "    .dataframe thead th {\n",
              "        text-align: right;\n",
              "    }\n",
              "</style>\n",
              "<table border=\"1\" class=\"dataframe\">\n",
              "  <thead>\n",
              "    <tr style=\"text-align: right;\">\n",
              "      <th></th>\n",
              "      <th>DateCrawled</th>\n",
              "      <th>Price</th>\n",
              "      <th>VehicleType</th>\n",
              "      <th>RegistrationYear</th>\n",
              "      <th>Gearbox</th>\n",
              "      <th>Power</th>\n",
              "      <th>Model</th>\n",
              "      <th>Kilometer</th>\n",
              "      <th>RegistrationMonth</th>\n",
              "      <th>FuelType</th>\n",
              "      <th>Brand</th>\n",
              "      <th>Repaired</th>\n",
              "      <th>DateCreated</th>\n",
              "      <th>NumberOfPictures</th>\n",
              "      <th>PostalCode</th>\n",
              "      <th>LastSeen</th>\n",
              "    </tr>\n",
              "  </thead>\n",
              "  <tbody>\n",
              "    <tr>\n",
              "      <th>1</th>\n",
              "      <td>2016-03-24 10:58:45</td>\n",
              "      <td>18300</td>\n",
              "      <td>coupe</td>\n",
              "      <td>2011</td>\n",
              "      <td>manual</td>\n",
              "      <td>190</td>\n",
              "      <td>unknow</td>\n",
              "      <td>125000</td>\n",
              "      <td>5</td>\n",
              "      <td>gasoline</td>\n",
              "      <td>audi</td>\n",
              "      <td>yes</td>\n",
              "      <td>2016-03-24 00:00:00</td>\n",
              "      <td>0</td>\n",
              "      <td>66954</td>\n",
              "      <td>2016-04-07 01:46:50</td>\n",
              "    </tr>\n",
              "    <tr>\n",
              "      <th>2</th>\n",
              "      <td>2016-03-14 12:52:21</td>\n",
              "      <td>9800</td>\n",
              "      <td>suv</td>\n",
              "      <td>2004</td>\n",
              "      <td>auto</td>\n",
              "      <td>163</td>\n",
              "      <td>grand</td>\n",
              "      <td>125000</td>\n",
              "      <td>8</td>\n",
              "      <td>gasoline</td>\n",
              "      <td>jeep</td>\n",
              "      <td>unknow</td>\n",
              "      <td>2016-03-14 00:00:00</td>\n",
              "      <td>0</td>\n",
              "      <td>90480</td>\n",
              "      <td>2016-04-05 12:47:46</td>\n",
              "    </tr>\n",
              "    <tr>\n",
              "      <th>3</th>\n",
              "      <td>2016-03-17 16:54:04</td>\n",
              "      <td>1500</td>\n",
              "      <td>small</td>\n",
              "      <td>2001</td>\n",
              "      <td>manual</td>\n",
              "      <td>75</td>\n",
              "      <td>golf</td>\n",
              "      <td>150000</td>\n",
              "      <td>6</td>\n",
              "      <td>petrol</td>\n",
              "      <td>volkswagen</td>\n",
              "      <td>no</td>\n",
              "      <td>2016-03-17 00:00:00</td>\n",
              "      <td>0</td>\n",
              "      <td>91074</td>\n",
              "      <td>2016-03-17 17:40:17</td>\n",
              "    </tr>\n",
              "    <tr>\n",
              "      <th>4</th>\n",
              "      <td>2016-03-31 17:25:20</td>\n",
              "      <td>3600</td>\n",
              "      <td>small</td>\n",
              "      <td>2008</td>\n",
              "      <td>manual</td>\n",
              "      <td>69</td>\n",
              "      <td>fabia</td>\n",
              "      <td>90000</td>\n",
              "      <td>7</td>\n",
              "      <td>gasoline</td>\n",
              "      <td>skoda</td>\n",
              "      <td>no</td>\n",
              "      <td>2016-03-31 00:00:00</td>\n",
              "      <td>0</td>\n",
              "      <td>60437</td>\n",
              "      <td>2016-04-06 10:17:21</td>\n",
              "    </tr>\n",
              "    <tr>\n",
              "      <th>5</th>\n",
              "      <td>2016-04-04 17:36:23</td>\n",
              "      <td>650</td>\n",
              "      <td>sedan</td>\n",
              "      <td>1995</td>\n",
              "      <td>manual</td>\n",
              "      <td>102</td>\n",
              "      <td>3er</td>\n",
              "      <td>150000</td>\n",
              "      <td>10</td>\n",
              "      <td>petrol</td>\n",
              "      <td>bmw</td>\n",
              "      <td>yes</td>\n",
              "      <td>2016-04-04 00:00:00</td>\n",
              "      <td>0</td>\n",
              "      <td>33775</td>\n",
              "      <td>2016-04-06 19:17:07</td>\n",
              "    </tr>\n",
              "  </tbody>\n",
              "</table>\n",
              "</div>\n",
              "      <button class=\"colab-df-convert\" onclick=\"convertToInteractive('df-044c6302-8f07-4063-a39d-765c4e9631cc')\"\n",
              "              title=\"Convert this dataframe to an interactive table.\"\n",
              "              style=\"display:none;\">\n",
              "\n",
              "  <svg xmlns=\"http://www.w3.org/2000/svg\" height=\"24px\"viewBox=\"0 0 24 24\"\n",
              "       width=\"24px\">\n",
              "    <path d=\"M0 0h24v24H0V0z\" fill=\"none\"/>\n",
              "    <path d=\"M18.56 5.44l.94 2.06.94-2.06 2.06-.94-2.06-.94-.94-2.06-.94 2.06-2.06.94zm-11 1L8.5 8.5l.94-2.06 2.06-.94-2.06-.94L8.5 2.5l-.94 2.06-2.06.94zm10 10l.94 2.06.94-2.06 2.06-.94-2.06-.94-.94-2.06-.94 2.06-2.06.94z\"/><path d=\"M17.41 7.96l-1.37-1.37c-.4-.4-.92-.59-1.43-.59-.52 0-1.04.2-1.43.59L10.3 9.45l-7.72 7.72c-.78.78-.78 2.05 0 2.83L4 21.41c.39.39.9.59 1.41.59.51 0 1.02-.2 1.41-.59l7.78-7.78 2.81-2.81c.8-.78.8-2.07 0-2.86zM5.41 20L4 18.59l7.72-7.72 1.47 1.35L5.41 20z\"/>\n",
              "  </svg>\n",
              "      </button>\n",
              "\n",
              "\n",
              "\n",
              "    <div id=\"df-67cea8b4-b24d-40ad-962e-238b0713bb24\">\n",
              "      <button class=\"colab-df-quickchart\" onclick=\"quickchart('df-67cea8b4-b24d-40ad-962e-238b0713bb24')\"\n",
              "              title=\"Suggest charts.\"\n",
              "              style=\"display:none;\">\n",
              "\n",
              "<svg xmlns=\"http://www.w3.org/2000/svg\" height=\"24px\"viewBox=\"0 0 24 24\"\n",
              "     width=\"24px\">\n",
              "    <g>\n",
              "        <path d=\"M19 3H5c-1.1 0-2 .9-2 2v14c0 1.1.9 2 2 2h14c1.1 0 2-.9 2-2V5c0-1.1-.9-2-2-2zM9 17H7v-7h2v7zm4 0h-2V7h2v10zm4 0h-2v-4h2v4z\"/>\n",
              "    </g>\n",
              "</svg>\n",
              "      </button>\n",
              "    </div>\n",
              "\n",
              "<style>\n",
              "  .colab-df-quickchart {\n",
              "    background-color: #E8F0FE;\n",
              "    border: none;\n",
              "    border-radius: 50%;\n",
              "    cursor: pointer;\n",
              "    display: none;\n",
              "    fill: #1967D2;\n",
              "    height: 32px;\n",
              "    padding: 0 0 0 0;\n",
              "    width: 32px;\n",
              "  }\n",
              "\n",
              "  .colab-df-quickchart:hover {\n",
              "    background-color: #E2EBFA;\n",
              "    box-shadow: 0px 1px 2px rgba(60, 64, 67, 0.3), 0px 1px 3px 1px rgba(60, 64, 67, 0.15);\n",
              "    fill: #174EA6;\n",
              "  }\n",
              "\n",
              "  [theme=dark] .colab-df-quickchart {\n",
              "    background-color: #3B4455;\n",
              "    fill: #D2E3FC;\n",
              "  }\n",
              "\n",
              "  [theme=dark] .colab-df-quickchart:hover {\n",
              "    background-color: #434B5C;\n",
              "    box-shadow: 0px 1px 3px 1px rgba(0, 0, 0, 0.15);\n",
              "    filter: drop-shadow(0px 1px 2px rgba(0, 0, 0, 0.3));\n",
              "    fill: #FFFFFF;\n",
              "  }\n",
              "</style>\n",
              "\n",
              "    <script>\n",
              "      async function quickchart(key) {\n",
              "        const containerElement = document.querySelector('#' + key);\n",
              "        const charts = await google.colab.kernel.invokeFunction(\n",
              "            'suggestCharts', [key], {});\n",
              "      }\n",
              "    </script>\n",
              "\n",
              "      <script>\n",
              "\n",
              "function displayQuickchartButton(domScope) {\n",
              "  let quickchartButtonEl =\n",
              "    domScope.querySelector('#df-67cea8b4-b24d-40ad-962e-238b0713bb24 button.colab-df-quickchart');\n",
              "  quickchartButtonEl.style.display =\n",
              "    google.colab.kernel.accessAllowed ? 'block' : 'none';\n",
              "}\n",
              "\n",
              "        displayQuickchartButton(document);\n",
              "      </script>\n",
              "      <style>\n",
              "    .colab-df-container {\n",
              "      display:flex;\n",
              "      flex-wrap:wrap;\n",
              "      gap: 12px;\n",
              "    }\n",
              "\n",
              "    .colab-df-convert {\n",
              "      background-color: #E8F0FE;\n",
              "      border: none;\n",
              "      border-radius: 50%;\n",
              "      cursor: pointer;\n",
              "      display: none;\n",
              "      fill: #1967D2;\n",
              "      height: 32px;\n",
              "      padding: 0 0 0 0;\n",
              "      width: 32px;\n",
              "    }\n",
              "\n",
              "    .colab-df-convert:hover {\n",
              "      background-color: #E2EBFA;\n",
              "      box-shadow: 0px 1px 2px rgba(60, 64, 67, 0.3), 0px 1px 3px 1px rgba(60, 64, 67, 0.15);\n",
              "      fill: #174EA6;\n",
              "    }\n",
              "\n",
              "    [theme=dark] .colab-df-convert {\n",
              "      background-color: #3B4455;\n",
              "      fill: #D2E3FC;\n",
              "    }\n",
              "\n",
              "    [theme=dark] .colab-df-convert:hover {\n",
              "      background-color: #434B5C;\n",
              "      box-shadow: 0px 1px 3px 1px rgba(0, 0, 0, 0.15);\n",
              "      filter: drop-shadow(0px 1px 2px rgba(0, 0, 0, 0.3));\n",
              "      fill: #FFFFFF;\n",
              "    }\n",
              "  </style>\n",
              "\n",
              "      <script>\n",
              "        const buttonEl =\n",
              "          document.querySelector('#df-044c6302-8f07-4063-a39d-765c4e9631cc button.colab-df-convert');\n",
              "        buttonEl.style.display =\n",
              "          google.colab.kernel.accessAllowed ? 'block' : 'none';\n",
              "\n",
              "        async function convertToInteractive(key) {\n",
              "          const element = document.querySelector('#df-044c6302-8f07-4063-a39d-765c4e9631cc');\n",
              "          const dataTable =\n",
              "            await google.colab.kernel.invokeFunction('convertToInteractive',\n",
              "                                                     [key], {});\n",
              "          if (!dataTable) return;\n",
              "\n",
              "          const docLinkHtml = 'Like what you see? Visit the ' +\n",
              "            '<a target=\"_blank\" href=https://colab.research.google.com/notebooks/data_table.ipynb>data table notebook</a>'\n",
              "            + ' to learn more about interactive tables.';\n",
              "          element.innerHTML = '';\n",
              "          dataTable['output_type'] = 'display_data';\n",
              "          await google.colab.output.renderOutput(dataTable, element);\n",
              "          const docLink = document.createElement('div');\n",
              "          docLink.innerHTML = docLinkHtml;\n",
              "          element.appendChild(docLink);\n",
              "        }\n",
              "      </script>\n",
              "    </div>\n",
              "  </div>\n"
            ]
          },
          "metadata": {}
        },
        {
          "output_type": "stream",
          "name": "stdout",
          "text": [
            "<class 'pandas.core.frame.DataFrame'>\n",
            "Int64Index: 302876 entries, 1 to 354364\n",
            "Data columns (total 16 columns):\n",
            " #   Column             Non-Null Count   Dtype \n",
            "---  ------             --------------   ----- \n",
            " 0   DateCrawled        302876 non-null  object\n",
            " 1   Price              302876 non-null  int64 \n",
            " 2   VehicleType        302876 non-null  object\n",
            " 3   RegistrationYear   302876 non-null  int64 \n",
            " 4   Gearbox            302876 non-null  object\n",
            " 5   Power              302876 non-null  int64 \n",
            " 6   Model              302876 non-null  object\n",
            " 7   Kilometer          302876 non-null  int64 \n",
            " 8   RegistrationMonth  302876 non-null  int64 \n",
            " 9   FuelType           302876 non-null  object\n",
            " 10  Brand              302876 non-null  object\n",
            " 11  Repaired           302876 non-null  object\n",
            " 12  DateCreated        302876 non-null  object\n",
            " 13  NumberOfPictures   302876 non-null  int64 \n",
            " 14  PostalCode         302876 non-null  int64 \n",
            " 15  LastSeen           302876 non-null  object\n",
            "dtypes: int64(7), object(9)\n",
            "memory usage: 39.3+ MB\n"
          ]
        }
      ],
      "source": [
        "data = data[(data['Power'] > 0) & (data['Power'] < 1000)]\n",
        "display(data.head())\n",
        "data.info()"
      ]
    },
    {
      "cell_type": "code",
      "execution_count": 13,
      "metadata": {
        "colab": {
          "base_uri": "https://localhost:8080/",
          "height": 0
        },
        "id": "syVxLeasr61b",
        "outputId": "b98c89cc-eb5e-47df-8064-81a405728908"
      },
      "outputs": [
        {
          "output_type": "display_data",
          "data": {
            "text/plain": [
              "           DateCrawled  Price VehicleType  RegistrationYear Gearbox  Power  \\\n",
              "1  2016-03-24 10:58:45  18300       coupe              2011  manual    190   \n",
              "2  2016-03-14 12:52:21   9800         suv              2004    auto    163   \n",
              "3  2016-03-17 16:54:04   1500       small              2001  manual     75   \n",
              "4  2016-03-31 17:25:20   3600       small              2008  manual     69   \n",
              "5  2016-04-04 17:36:23    650       sedan              1995  manual    102   \n",
              "\n",
              "    Model  Kilometer  RegistrationMonth  FuelType       Brand Repaired  \\\n",
              "1  unknow     125000                  5  gasoline        audi      yes   \n",
              "2   grand     125000                  8  gasoline        jeep   unknow   \n",
              "3    golf     150000                  6    petrol  volkswagen       no   \n",
              "4   fabia      90000                  7  gasoline       skoda       no   \n",
              "5     3er     150000                 10    petrol         bmw      yes   \n",
              "\n",
              "           DateCreated  NumberOfPictures  PostalCode             LastSeen  \n",
              "1  2016-03-24 00:00:00                 0       66954  2016-04-07 01:46:50  \n",
              "2  2016-03-14 00:00:00                 0       90480  2016-04-05 12:47:46  \n",
              "3  2016-03-17 00:00:00                 0       91074  2016-03-17 17:40:17  \n",
              "4  2016-03-31 00:00:00                 0       60437  2016-04-06 10:17:21  \n",
              "5  2016-04-04 00:00:00                 0       33775  2016-04-06 19:17:07  "
            ],
            "text/html": [
              "\n",
              "\n",
              "  <div id=\"df-3c340b4c-8c74-4abc-a4de-d4a842b64a4a\">\n",
              "    <div class=\"colab-df-container\">\n",
              "      <div>\n",
              "<style scoped>\n",
              "    .dataframe tbody tr th:only-of-type {\n",
              "        vertical-align: middle;\n",
              "    }\n",
              "\n",
              "    .dataframe tbody tr th {\n",
              "        vertical-align: top;\n",
              "    }\n",
              "\n",
              "    .dataframe thead th {\n",
              "        text-align: right;\n",
              "    }\n",
              "</style>\n",
              "<table border=\"1\" class=\"dataframe\">\n",
              "  <thead>\n",
              "    <tr style=\"text-align: right;\">\n",
              "      <th></th>\n",
              "      <th>DateCrawled</th>\n",
              "      <th>Price</th>\n",
              "      <th>VehicleType</th>\n",
              "      <th>RegistrationYear</th>\n",
              "      <th>Gearbox</th>\n",
              "      <th>Power</th>\n",
              "      <th>Model</th>\n",
              "      <th>Kilometer</th>\n",
              "      <th>RegistrationMonth</th>\n",
              "      <th>FuelType</th>\n",
              "      <th>Brand</th>\n",
              "      <th>Repaired</th>\n",
              "      <th>DateCreated</th>\n",
              "      <th>NumberOfPictures</th>\n",
              "      <th>PostalCode</th>\n",
              "      <th>LastSeen</th>\n",
              "    </tr>\n",
              "  </thead>\n",
              "  <tbody>\n",
              "    <tr>\n",
              "      <th>1</th>\n",
              "      <td>2016-03-24 10:58:45</td>\n",
              "      <td>18300</td>\n",
              "      <td>coupe</td>\n",
              "      <td>2011</td>\n",
              "      <td>manual</td>\n",
              "      <td>190</td>\n",
              "      <td>unknow</td>\n",
              "      <td>125000</td>\n",
              "      <td>5</td>\n",
              "      <td>gasoline</td>\n",
              "      <td>audi</td>\n",
              "      <td>yes</td>\n",
              "      <td>2016-03-24 00:00:00</td>\n",
              "      <td>0</td>\n",
              "      <td>66954</td>\n",
              "      <td>2016-04-07 01:46:50</td>\n",
              "    </tr>\n",
              "    <tr>\n",
              "      <th>2</th>\n",
              "      <td>2016-03-14 12:52:21</td>\n",
              "      <td>9800</td>\n",
              "      <td>suv</td>\n",
              "      <td>2004</td>\n",
              "      <td>auto</td>\n",
              "      <td>163</td>\n",
              "      <td>grand</td>\n",
              "      <td>125000</td>\n",
              "      <td>8</td>\n",
              "      <td>gasoline</td>\n",
              "      <td>jeep</td>\n",
              "      <td>unknow</td>\n",
              "      <td>2016-03-14 00:00:00</td>\n",
              "      <td>0</td>\n",
              "      <td>90480</td>\n",
              "      <td>2016-04-05 12:47:46</td>\n",
              "    </tr>\n",
              "    <tr>\n",
              "      <th>3</th>\n",
              "      <td>2016-03-17 16:54:04</td>\n",
              "      <td>1500</td>\n",
              "      <td>small</td>\n",
              "      <td>2001</td>\n",
              "      <td>manual</td>\n",
              "      <td>75</td>\n",
              "      <td>golf</td>\n",
              "      <td>150000</td>\n",
              "      <td>6</td>\n",
              "      <td>petrol</td>\n",
              "      <td>volkswagen</td>\n",
              "      <td>no</td>\n",
              "      <td>2016-03-17 00:00:00</td>\n",
              "      <td>0</td>\n",
              "      <td>91074</td>\n",
              "      <td>2016-03-17 17:40:17</td>\n",
              "    </tr>\n",
              "    <tr>\n",
              "      <th>4</th>\n",
              "      <td>2016-03-31 17:25:20</td>\n",
              "      <td>3600</td>\n",
              "      <td>small</td>\n",
              "      <td>2008</td>\n",
              "      <td>manual</td>\n",
              "      <td>69</td>\n",
              "      <td>fabia</td>\n",
              "      <td>90000</td>\n",
              "      <td>7</td>\n",
              "      <td>gasoline</td>\n",
              "      <td>skoda</td>\n",
              "      <td>no</td>\n",
              "      <td>2016-03-31 00:00:00</td>\n",
              "      <td>0</td>\n",
              "      <td>60437</td>\n",
              "      <td>2016-04-06 10:17:21</td>\n",
              "    </tr>\n",
              "    <tr>\n",
              "      <th>5</th>\n",
              "      <td>2016-04-04 17:36:23</td>\n",
              "      <td>650</td>\n",
              "      <td>sedan</td>\n",
              "      <td>1995</td>\n",
              "      <td>manual</td>\n",
              "      <td>102</td>\n",
              "      <td>3er</td>\n",
              "      <td>150000</td>\n",
              "      <td>10</td>\n",
              "      <td>petrol</td>\n",
              "      <td>bmw</td>\n",
              "      <td>yes</td>\n",
              "      <td>2016-04-04 00:00:00</td>\n",
              "      <td>0</td>\n",
              "      <td>33775</td>\n",
              "      <td>2016-04-06 19:17:07</td>\n",
              "    </tr>\n",
              "  </tbody>\n",
              "</table>\n",
              "</div>\n",
              "      <button class=\"colab-df-convert\" onclick=\"convertToInteractive('df-3c340b4c-8c74-4abc-a4de-d4a842b64a4a')\"\n",
              "              title=\"Convert this dataframe to an interactive table.\"\n",
              "              style=\"display:none;\">\n",
              "\n",
              "  <svg xmlns=\"http://www.w3.org/2000/svg\" height=\"24px\"viewBox=\"0 0 24 24\"\n",
              "       width=\"24px\">\n",
              "    <path d=\"M0 0h24v24H0V0z\" fill=\"none\"/>\n",
              "    <path d=\"M18.56 5.44l.94 2.06.94-2.06 2.06-.94-2.06-.94-.94-2.06-.94 2.06-2.06.94zm-11 1L8.5 8.5l.94-2.06 2.06-.94-2.06-.94L8.5 2.5l-.94 2.06-2.06.94zm10 10l.94 2.06.94-2.06 2.06-.94-2.06-.94-.94-2.06-.94 2.06-2.06.94z\"/><path d=\"M17.41 7.96l-1.37-1.37c-.4-.4-.92-.59-1.43-.59-.52 0-1.04.2-1.43.59L10.3 9.45l-7.72 7.72c-.78.78-.78 2.05 0 2.83L4 21.41c.39.39.9.59 1.41.59.51 0 1.02-.2 1.41-.59l7.78-7.78 2.81-2.81c.8-.78.8-2.07 0-2.86zM5.41 20L4 18.59l7.72-7.72 1.47 1.35L5.41 20z\"/>\n",
              "  </svg>\n",
              "      </button>\n",
              "\n",
              "\n",
              "\n",
              "    <div id=\"df-07f943b6-ebcf-4555-956f-c937330acadc\">\n",
              "      <button class=\"colab-df-quickchart\" onclick=\"quickchart('df-07f943b6-ebcf-4555-956f-c937330acadc')\"\n",
              "              title=\"Suggest charts.\"\n",
              "              style=\"display:none;\">\n",
              "\n",
              "<svg xmlns=\"http://www.w3.org/2000/svg\" height=\"24px\"viewBox=\"0 0 24 24\"\n",
              "     width=\"24px\">\n",
              "    <g>\n",
              "        <path d=\"M19 3H5c-1.1 0-2 .9-2 2v14c0 1.1.9 2 2 2h14c1.1 0 2-.9 2-2V5c0-1.1-.9-2-2-2zM9 17H7v-7h2v7zm4 0h-2V7h2v10zm4 0h-2v-4h2v4z\"/>\n",
              "    </g>\n",
              "</svg>\n",
              "      </button>\n",
              "    </div>\n",
              "\n",
              "<style>\n",
              "  .colab-df-quickchart {\n",
              "    background-color: #E8F0FE;\n",
              "    border: none;\n",
              "    border-radius: 50%;\n",
              "    cursor: pointer;\n",
              "    display: none;\n",
              "    fill: #1967D2;\n",
              "    height: 32px;\n",
              "    padding: 0 0 0 0;\n",
              "    width: 32px;\n",
              "  }\n",
              "\n",
              "  .colab-df-quickchart:hover {\n",
              "    background-color: #E2EBFA;\n",
              "    box-shadow: 0px 1px 2px rgba(60, 64, 67, 0.3), 0px 1px 3px 1px rgba(60, 64, 67, 0.15);\n",
              "    fill: #174EA6;\n",
              "  }\n",
              "\n",
              "  [theme=dark] .colab-df-quickchart {\n",
              "    background-color: #3B4455;\n",
              "    fill: #D2E3FC;\n",
              "  }\n",
              "\n",
              "  [theme=dark] .colab-df-quickchart:hover {\n",
              "    background-color: #434B5C;\n",
              "    box-shadow: 0px 1px 3px 1px rgba(0, 0, 0, 0.15);\n",
              "    filter: drop-shadow(0px 1px 2px rgba(0, 0, 0, 0.3));\n",
              "    fill: #FFFFFF;\n",
              "  }\n",
              "</style>\n",
              "\n",
              "    <script>\n",
              "      async function quickchart(key) {\n",
              "        const containerElement = document.querySelector('#' + key);\n",
              "        const charts = await google.colab.kernel.invokeFunction(\n",
              "            'suggestCharts', [key], {});\n",
              "      }\n",
              "    </script>\n",
              "\n",
              "      <script>\n",
              "\n",
              "function displayQuickchartButton(domScope) {\n",
              "  let quickchartButtonEl =\n",
              "    domScope.querySelector('#df-07f943b6-ebcf-4555-956f-c937330acadc button.colab-df-quickchart');\n",
              "  quickchartButtonEl.style.display =\n",
              "    google.colab.kernel.accessAllowed ? 'block' : 'none';\n",
              "}\n",
              "\n",
              "        displayQuickchartButton(document);\n",
              "      </script>\n",
              "      <style>\n",
              "    .colab-df-container {\n",
              "      display:flex;\n",
              "      flex-wrap:wrap;\n",
              "      gap: 12px;\n",
              "    }\n",
              "\n",
              "    .colab-df-convert {\n",
              "      background-color: #E8F0FE;\n",
              "      border: none;\n",
              "      border-radius: 50%;\n",
              "      cursor: pointer;\n",
              "      display: none;\n",
              "      fill: #1967D2;\n",
              "      height: 32px;\n",
              "      padding: 0 0 0 0;\n",
              "      width: 32px;\n",
              "    }\n",
              "\n",
              "    .colab-df-convert:hover {\n",
              "      background-color: #E2EBFA;\n",
              "      box-shadow: 0px 1px 2px rgba(60, 64, 67, 0.3), 0px 1px 3px 1px rgba(60, 64, 67, 0.15);\n",
              "      fill: #174EA6;\n",
              "    }\n",
              "\n",
              "    [theme=dark] .colab-df-convert {\n",
              "      background-color: #3B4455;\n",
              "      fill: #D2E3FC;\n",
              "    }\n",
              "\n",
              "    [theme=dark] .colab-df-convert:hover {\n",
              "      background-color: #434B5C;\n",
              "      box-shadow: 0px 1px 3px 1px rgba(0, 0, 0, 0.15);\n",
              "      filter: drop-shadow(0px 1px 2px rgba(0, 0, 0, 0.3));\n",
              "      fill: #FFFFFF;\n",
              "    }\n",
              "  </style>\n",
              "\n",
              "      <script>\n",
              "        const buttonEl =\n",
              "          document.querySelector('#df-3c340b4c-8c74-4abc-a4de-d4a842b64a4a button.colab-df-convert');\n",
              "        buttonEl.style.display =\n",
              "          google.colab.kernel.accessAllowed ? 'block' : 'none';\n",
              "\n",
              "        async function convertToInteractive(key) {\n",
              "          const element = document.querySelector('#df-3c340b4c-8c74-4abc-a4de-d4a842b64a4a');\n",
              "          const dataTable =\n",
              "            await google.colab.kernel.invokeFunction('convertToInteractive',\n",
              "                                                     [key], {});\n",
              "          if (!dataTable) return;\n",
              "\n",
              "          const docLinkHtml = 'Like what you see? Visit the ' +\n",
              "            '<a target=\"_blank\" href=https://colab.research.google.com/notebooks/data_table.ipynb>data table notebook</a>'\n",
              "            + ' to learn more about interactive tables.';\n",
              "          element.innerHTML = '';\n",
              "          dataTable['output_type'] = 'display_data';\n",
              "          await google.colab.output.renderOutput(dataTable, element);\n",
              "          const docLink = document.createElement('div');\n",
              "          docLink.innerHTML = docLinkHtml;\n",
              "          element.appendChild(docLink);\n",
              "        }\n",
              "      </script>\n",
              "    </div>\n",
              "  </div>\n"
            ]
          },
          "metadata": {}
        },
        {
          "output_type": "stream",
          "name": "stdout",
          "text": [
            "<class 'pandas.core.frame.DataFrame'>\n",
            "Int64Index: 296479 entries, 1 to 354364\n",
            "Data columns (total 16 columns):\n",
            " #   Column             Non-Null Count   Dtype \n",
            "---  ------             --------------   ----- \n",
            " 0   DateCrawled        296479 non-null  object\n",
            " 1   Price              296479 non-null  int64 \n",
            " 2   VehicleType        296479 non-null  object\n",
            " 3   RegistrationYear   296479 non-null  int64 \n",
            " 4   Gearbox            296479 non-null  object\n",
            " 5   Power              296479 non-null  int64 \n",
            " 6   Model              296479 non-null  object\n",
            " 7   Kilometer          296479 non-null  int64 \n",
            " 8   RegistrationMonth  296479 non-null  int64 \n",
            " 9   FuelType           296479 non-null  object\n",
            " 10  Brand              296479 non-null  object\n",
            " 11  Repaired           296479 non-null  object\n",
            " 12  DateCreated        296479 non-null  object\n",
            " 13  NumberOfPictures   296479 non-null  int64 \n",
            " 14  PostalCode         296479 non-null  int64 \n",
            " 15  LastSeen           296479 non-null  object\n",
            "dtypes: int64(7), object(9)\n",
            "memory usage: 38.5+ MB\n"
          ]
        }
      ],
      "source": [
        "data = data[(data['Price'] != 0)]\n",
        "display(data.head())\n",
        "data.info()"
      ]
    },
    {
      "cell_type": "markdown",
      "metadata": {
        "id": "rLFCo4GNr61b"
      },
      "source": [
        "Посмотрим корреляцию показателей. Но сначала очистим датасет от лишних числовых данных.\n",
        "1. RegistrationMonth — месяц регистрации автомобиля,\n",
        "2. NumberOfPictures — количество фотографий автомобиля,\n",
        "3. PostalCode — почтовый индекс владельца анкеты (пользователя)."
      ]
    },
    {
      "cell_type": "code",
      "execution_count": 14,
      "metadata": {
        "colab": {
          "base_uri": "https://localhost:8080/",
          "height": 0
        },
        "id": "B76NKCigr61b",
        "outputId": "2d092737-ae04-49e3-96c7-616a784538c6"
      },
      "outputs": [
        {
          "output_type": "stream",
          "name": "stderr",
          "text": [
            "<ipython-input-14-7ad868730228>:2: FutureWarning: The default value of numeric_only in DataFrame.corr is deprecated. In a future version, it will default to False. Select only valid columns or specify the value of numeric_only to silence this warning.\n",
            "  data_corr.corr(method ='spearman')\n"
          ]
        },
        {
          "output_type": "execute_result",
          "data": {
            "text/plain": [
              "                     Price  RegistrationYear     Power  Kilometer\n",
              "Price             1.000000          0.665225  0.524102  -0.367787\n",
              "RegistrationYear  0.665225          1.000000  0.189444  -0.383074\n",
              "Power             0.524102          0.189444  1.000000   0.121246\n",
              "Kilometer        -0.367787         -0.383074  0.121246   1.000000"
            ],
            "text/html": [
              "\n",
              "\n",
              "  <div id=\"df-169845de-9524-4f5d-a8fa-b16357596f91\">\n",
              "    <div class=\"colab-df-container\">\n",
              "      <div>\n",
              "<style scoped>\n",
              "    .dataframe tbody tr th:only-of-type {\n",
              "        vertical-align: middle;\n",
              "    }\n",
              "\n",
              "    .dataframe tbody tr th {\n",
              "        vertical-align: top;\n",
              "    }\n",
              "\n",
              "    .dataframe thead th {\n",
              "        text-align: right;\n",
              "    }\n",
              "</style>\n",
              "<table border=\"1\" class=\"dataframe\">\n",
              "  <thead>\n",
              "    <tr style=\"text-align: right;\">\n",
              "      <th></th>\n",
              "      <th>Price</th>\n",
              "      <th>RegistrationYear</th>\n",
              "      <th>Power</th>\n",
              "      <th>Kilometer</th>\n",
              "    </tr>\n",
              "  </thead>\n",
              "  <tbody>\n",
              "    <tr>\n",
              "      <th>Price</th>\n",
              "      <td>1.000000</td>\n",
              "      <td>0.665225</td>\n",
              "      <td>0.524102</td>\n",
              "      <td>-0.367787</td>\n",
              "    </tr>\n",
              "    <tr>\n",
              "      <th>RegistrationYear</th>\n",
              "      <td>0.665225</td>\n",
              "      <td>1.000000</td>\n",
              "      <td>0.189444</td>\n",
              "      <td>-0.383074</td>\n",
              "    </tr>\n",
              "    <tr>\n",
              "      <th>Power</th>\n",
              "      <td>0.524102</td>\n",
              "      <td>0.189444</td>\n",
              "      <td>1.000000</td>\n",
              "      <td>0.121246</td>\n",
              "    </tr>\n",
              "    <tr>\n",
              "      <th>Kilometer</th>\n",
              "      <td>-0.367787</td>\n",
              "      <td>-0.383074</td>\n",
              "      <td>0.121246</td>\n",
              "      <td>1.000000</td>\n",
              "    </tr>\n",
              "  </tbody>\n",
              "</table>\n",
              "</div>\n",
              "      <button class=\"colab-df-convert\" onclick=\"convertToInteractive('df-169845de-9524-4f5d-a8fa-b16357596f91')\"\n",
              "              title=\"Convert this dataframe to an interactive table.\"\n",
              "              style=\"display:none;\">\n",
              "\n",
              "  <svg xmlns=\"http://www.w3.org/2000/svg\" height=\"24px\"viewBox=\"0 0 24 24\"\n",
              "       width=\"24px\">\n",
              "    <path d=\"M0 0h24v24H0V0z\" fill=\"none\"/>\n",
              "    <path d=\"M18.56 5.44l.94 2.06.94-2.06 2.06-.94-2.06-.94-.94-2.06-.94 2.06-2.06.94zm-11 1L8.5 8.5l.94-2.06 2.06-.94-2.06-.94L8.5 2.5l-.94 2.06-2.06.94zm10 10l.94 2.06.94-2.06 2.06-.94-2.06-.94-.94-2.06-.94 2.06-2.06.94z\"/><path d=\"M17.41 7.96l-1.37-1.37c-.4-.4-.92-.59-1.43-.59-.52 0-1.04.2-1.43.59L10.3 9.45l-7.72 7.72c-.78.78-.78 2.05 0 2.83L4 21.41c.39.39.9.59 1.41.59.51 0 1.02-.2 1.41-.59l7.78-7.78 2.81-2.81c.8-.78.8-2.07 0-2.86zM5.41 20L4 18.59l7.72-7.72 1.47 1.35L5.41 20z\"/>\n",
              "  </svg>\n",
              "      </button>\n",
              "\n",
              "\n",
              "\n",
              "    <div id=\"df-ce9d8253-e3f2-481d-96a6-d31b8ba555bc\">\n",
              "      <button class=\"colab-df-quickchart\" onclick=\"quickchart('df-ce9d8253-e3f2-481d-96a6-d31b8ba555bc')\"\n",
              "              title=\"Suggest charts.\"\n",
              "              style=\"display:none;\">\n",
              "\n",
              "<svg xmlns=\"http://www.w3.org/2000/svg\" height=\"24px\"viewBox=\"0 0 24 24\"\n",
              "     width=\"24px\">\n",
              "    <g>\n",
              "        <path d=\"M19 3H5c-1.1 0-2 .9-2 2v14c0 1.1.9 2 2 2h14c1.1 0 2-.9 2-2V5c0-1.1-.9-2-2-2zM9 17H7v-7h2v7zm4 0h-2V7h2v10zm4 0h-2v-4h2v4z\"/>\n",
              "    </g>\n",
              "</svg>\n",
              "      </button>\n",
              "    </div>\n",
              "\n",
              "<style>\n",
              "  .colab-df-quickchart {\n",
              "    background-color: #E8F0FE;\n",
              "    border: none;\n",
              "    border-radius: 50%;\n",
              "    cursor: pointer;\n",
              "    display: none;\n",
              "    fill: #1967D2;\n",
              "    height: 32px;\n",
              "    padding: 0 0 0 0;\n",
              "    width: 32px;\n",
              "  }\n",
              "\n",
              "  .colab-df-quickchart:hover {\n",
              "    background-color: #E2EBFA;\n",
              "    box-shadow: 0px 1px 2px rgba(60, 64, 67, 0.3), 0px 1px 3px 1px rgba(60, 64, 67, 0.15);\n",
              "    fill: #174EA6;\n",
              "  }\n",
              "\n",
              "  [theme=dark] .colab-df-quickchart {\n",
              "    background-color: #3B4455;\n",
              "    fill: #D2E3FC;\n",
              "  }\n",
              "\n",
              "  [theme=dark] .colab-df-quickchart:hover {\n",
              "    background-color: #434B5C;\n",
              "    box-shadow: 0px 1px 3px 1px rgba(0, 0, 0, 0.15);\n",
              "    filter: drop-shadow(0px 1px 2px rgba(0, 0, 0, 0.3));\n",
              "    fill: #FFFFFF;\n",
              "  }\n",
              "</style>\n",
              "\n",
              "    <script>\n",
              "      async function quickchart(key) {\n",
              "        const containerElement = document.querySelector('#' + key);\n",
              "        const charts = await google.colab.kernel.invokeFunction(\n",
              "            'suggestCharts', [key], {});\n",
              "      }\n",
              "    </script>\n",
              "\n",
              "      <script>\n",
              "\n",
              "function displayQuickchartButton(domScope) {\n",
              "  let quickchartButtonEl =\n",
              "    domScope.querySelector('#df-ce9d8253-e3f2-481d-96a6-d31b8ba555bc button.colab-df-quickchart');\n",
              "  quickchartButtonEl.style.display =\n",
              "    google.colab.kernel.accessAllowed ? 'block' : 'none';\n",
              "}\n",
              "\n",
              "        displayQuickchartButton(document);\n",
              "      </script>\n",
              "      <style>\n",
              "    .colab-df-container {\n",
              "      display:flex;\n",
              "      flex-wrap:wrap;\n",
              "      gap: 12px;\n",
              "    }\n",
              "\n",
              "    .colab-df-convert {\n",
              "      background-color: #E8F0FE;\n",
              "      border: none;\n",
              "      border-radius: 50%;\n",
              "      cursor: pointer;\n",
              "      display: none;\n",
              "      fill: #1967D2;\n",
              "      height: 32px;\n",
              "      padding: 0 0 0 0;\n",
              "      width: 32px;\n",
              "    }\n",
              "\n",
              "    .colab-df-convert:hover {\n",
              "      background-color: #E2EBFA;\n",
              "      box-shadow: 0px 1px 2px rgba(60, 64, 67, 0.3), 0px 1px 3px 1px rgba(60, 64, 67, 0.15);\n",
              "      fill: #174EA6;\n",
              "    }\n",
              "\n",
              "    [theme=dark] .colab-df-convert {\n",
              "      background-color: #3B4455;\n",
              "      fill: #D2E3FC;\n",
              "    }\n",
              "\n",
              "    [theme=dark] .colab-df-convert:hover {\n",
              "      background-color: #434B5C;\n",
              "      box-shadow: 0px 1px 3px 1px rgba(0, 0, 0, 0.15);\n",
              "      filter: drop-shadow(0px 1px 2px rgba(0, 0, 0, 0.3));\n",
              "      fill: #FFFFFF;\n",
              "    }\n",
              "  </style>\n",
              "\n",
              "      <script>\n",
              "        const buttonEl =\n",
              "          document.querySelector('#df-169845de-9524-4f5d-a8fa-b16357596f91 button.colab-df-convert');\n",
              "        buttonEl.style.display =\n",
              "          google.colab.kernel.accessAllowed ? 'block' : 'none';\n",
              "\n",
              "        async function convertToInteractive(key) {\n",
              "          const element = document.querySelector('#df-169845de-9524-4f5d-a8fa-b16357596f91');\n",
              "          const dataTable =\n",
              "            await google.colab.kernel.invokeFunction('convertToInteractive',\n",
              "                                                     [key], {});\n",
              "          if (!dataTable) return;\n",
              "\n",
              "          const docLinkHtml = 'Like what you see? Visit the ' +\n",
              "            '<a target=\"_blank\" href=https://colab.research.google.com/notebooks/data_table.ipynb>data table notebook</a>'\n",
              "            + ' to learn more about interactive tables.';\n",
              "          element.innerHTML = '';\n",
              "          dataTable['output_type'] = 'display_data';\n",
              "          await google.colab.output.renderOutput(dataTable, element);\n",
              "          const docLink = document.createElement('div');\n",
              "          docLink.innerHTML = docLinkHtml;\n",
              "          element.appendChild(docLink);\n",
              "        }\n",
              "      </script>\n",
              "    </div>\n",
              "  </div>\n"
            ]
          },
          "metadata": {},
          "execution_count": 14
        }
      ],
      "source": [
        "data_corr=data.drop(['NumberOfPictures', 'RegistrationMonth', 'PostalCode'], axis=1)\n",
        "data_corr.corr(method ='spearman')"
      ]
    },
    {
      "cell_type": "markdown",
      "metadata": {
        "id": "pU2elvqsr61g"
      },
      "source": [
        "Видна зависимость цены от года регистрации машины и ее мощности."
      ]
    },
    {
      "cell_type": "markdown",
      "metadata": {
        "id": "siijRvlcr61h"
      },
      "source": [
        "**В итоге:**\n",
        "1. Изучили данные, нашли и удалили вборсы по годам регистрации.\n",
        "2. Заполнили категориальные признаки значением \"unknow\".\n",
        "3. Изучили пробег. Дешевых машин он больше.\n",
        "4. Посмотерли зависимость числовых данных друг от друга - корреляцию."
      ]
    },
    {
      "cell_type": "markdown",
      "metadata": {
        "id": "wJes4HpRr61i"
      },
      "source": [
        "\n",
        "## Обучение моделей"
      ]
    },
    {
      "cell_type": "markdown",
      "metadata": {
        "id": "oa3kLOZIr61i"
      },
      "source": [
        "Посмотрим, какие данные нам помогут составить представление о цене, а остальные удалим.\n",
        "\n",
        "1. Оставляем:\n",
        "- VehicleType — тип автомобильного кузова\n",
        "- RegistrationYear — год регистрации автомобиля\n",
        "- Gearbox — тип коробки передач\n",
        "- Power — мощность (л. с.)\n",
        "- Model — модель автомобиля\n",
        "- Kilometer — пробег (км)\n",
        "- FuelType — тип топлива\n",
        "- Brand — марка автомобиля\n",
        "- Repaired — была машина в ремонте или нет\n",
        "\n",
        "2. Удаляем:\n",
        "- DateCrawled — дата скачивания анкеты из базы\n",
        "- RegistrationMonth — месяц регистрации автомобиля\n",
        "- DateCreated — дата создания анкеты\n",
        "- NumberOfPictures — количество фотографий автомобиля\n",
        "- PostalCode — почтовый индекс владельца анкеты (пользователя)\n",
        "- LastSeen — дата последней активности пользователя"
      ]
    },
    {
      "cell_type": "code",
      "execution_count": 15,
      "metadata": {
        "colab": {
          "base_uri": "https://localhost:8080/",
          "height": 206
        },
        "id": "e26FzfXnr61i",
        "outputId": "566ff5a1-6e52-43e2-e07e-506589ba2e42"
      },
      "outputs": [
        {
          "output_type": "display_data",
          "data": {
            "text/plain": [
              "   Price VehicleType  RegistrationYear Gearbox  Power   Model  Kilometer  \\\n",
              "1  18300       coupe              2011  manual    190  unknow     125000   \n",
              "2   9800         suv              2004    auto    163   grand     125000   \n",
              "3   1500       small              2001  manual     75    golf     150000   \n",
              "4   3600       small              2008  manual     69   fabia      90000   \n",
              "5    650       sedan              1995  manual    102     3er     150000   \n",
              "\n",
              "   FuelType       Brand Repaired  \n",
              "1  gasoline        audi      yes  \n",
              "2  gasoline        jeep   unknow  \n",
              "3    petrol  volkswagen       no  \n",
              "4  gasoline       skoda       no  \n",
              "5    petrol         bmw      yes  "
            ],
            "text/html": [
              "\n",
              "\n",
              "  <div id=\"df-7e748bce-e54a-416b-8320-1c3cd829537c\">\n",
              "    <div class=\"colab-df-container\">\n",
              "      <div>\n",
              "<style scoped>\n",
              "    .dataframe tbody tr th:only-of-type {\n",
              "        vertical-align: middle;\n",
              "    }\n",
              "\n",
              "    .dataframe tbody tr th {\n",
              "        vertical-align: top;\n",
              "    }\n",
              "\n",
              "    .dataframe thead th {\n",
              "        text-align: right;\n",
              "    }\n",
              "</style>\n",
              "<table border=\"1\" class=\"dataframe\">\n",
              "  <thead>\n",
              "    <tr style=\"text-align: right;\">\n",
              "      <th></th>\n",
              "      <th>Price</th>\n",
              "      <th>VehicleType</th>\n",
              "      <th>RegistrationYear</th>\n",
              "      <th>Gearbox</th>\n",
              "      <th>Power</th>\n",
              "      <th>Model</th>\n",
              "      <th>Kilometer</th>\n",
              "      <th>FuelType</th>\n",
              "      <th>Brand</th>\n",
              "      <th>Repaired</th>\n",
              "    </tr>\n",
              "  </thead>\n",
              "  <tbody>\n",
              "    <tr>\n",
              "      <th>1</th>\n",
              "      <td>18300</td>\n",
              "      <td>coupe</td>\n",
              "      <td>2011</td>\n",
              "      <td>manual</td>\n",
              "      <td>190</td>\n",
              "      <td>unknow</td>\n",
              "      <td>125000</td>\n",
              "      <td>gasoline</td>\n",
              "      <td>audi</td>\n",
              "      <td>yes</td>\n",
              "    </tr>\n",
              "    <tr>\n",
              "      <th>2</th>\n",
              "      <td>9800</td>\n",
              "      <td>suv</td>\n",
              "      <td>2004</td>\n",
              "      <td>auto</td>\n",
              "      <td>163</td>\n",
              "      <td>grand</td>\n",
              "      <td>125000</td>\n",
              "      <td>gasoline</td>\n",
              "      <td>jeep</td>\n",
              "      <td>unknow</td>\n",
              "    </tr>\n",
              "    <tr>\n",
              "      <th>3</th>\n",
              "      <td>1500</td>\n",
              "      <td>small</td>\n",
              "      <td>2001</td>\n",
              "      <td>manual</td>\n",
              "      <td>75</td>\n",
              "      <td>golf</td>\n",
              "      <td>150000</td>\n",
              "      <td>petrol</td>\n",
              "      <td>volkswagen</td>\n",
              "      <td>no</td>\n",
              "    </tr>\n",
              "    <tr>\n",
              "      <th>4</th>\n",
              "      <td>3600</td>\n",
              "      <td>small</td>\n",
              "      <td>2008</td>\n",
              "      <td>manual</td>\n",
              "      <td>69</td>\n",
              "      <td>fabia</td>\n",
              "      <td>90000</td>\n",
              "      <td>gasoline</td>\n",
              "      <td>skoda</td>\n",
              "      <td>no</td>\n",
              "    </tr>\n",
              "    <tr>\n",
              "      <th>5</th>\n",
              "      <td>650</td>\n",
              "      <td>sedan</td>\n",
              "      <td>1995</td>\n",
              "      <td>manual</td>\n",
              "      <td>102</td>\n",
              "      <td>3er</td>\n",
              "      <td>150000</td>\n",
              "      <td>petrol</td>\n",
              "      <td>bmw</td>\n",
              "      <td>yes</td>\n",
              "    </tr>\n",
              "  </tbody>\n",
              "</table>\n",
              "</div>\n",
              "      <button class=\"colab-df-convert\" onclick=\"convertToInteractive('df-7e748bce-e54a-416b-8320-1c3cd829537c')\"\n",
              "              title=\"Convert this dataframe to an interactive table.\"\n",
              "              style=\"display:none;\">\n",
              "\n",
              "  <svg xmlns=\"http://www.w3.org/2000/svg\" height=\"24px\"viewBox=\"0 0 24 24\"\n",
              "       width=\"24px\">\n",
              "    <path d=\"M0 0h24v24H0V0z\" fill=\"none\"/>\n",
              "    <path d=\"M18.56 5.44l.94 2.06.94-2.06 2.06-.94-2.06-.94-.94-2.06-.94 2.06-2.06.94zm-11 1L8.5 8.5l.94-2.06 2.06-.94-2.06-.94L8.5 2.5l-.94 2.06-2.06.94zm10 10l.94 2.06.94-2.06 2.06-.94-2.06-.94-.94-2.06-.94 2.06-2.06.94z\"/><path d=\"M17.41 7.96l-1.37-1.37c-.4-.4-.92-.59-1.43-.59-.52 0-1.04.2-1.43.59L10.3 9.45l-7.72 7.72c-.78.78-.78 2.05 0 2.83L4 21.41c.39.39.9.59 1.41.59.51 0 1.02-.2 1.41-.59l7.78-7.78 2.81-2.81c.8-.78.8-2.07 0-2.86zM5.41 20L4 18.59l7.72-7.72 1.47 1.35L5.41 20z\"/>\n",
              "  </svg>\n",
              "      </button>\n",
              "\n",
              "\n",
              "\n",
              "    <div id=\"df-07d1e65e-bd4a-4de5-920a-90faac175e5f\">\n",
              "      <button class=\"colab-df-quickchart\" onclick=\"quickchart('df-07d1e65e-bd4a-4de5-920a-90faac175e5f')\"\n",
              "              title=\"Suggest charts.\"\n",
              "              style=\"display:none;\">\n",
              "\n",
              "<svg xmlns=\"http://www.w3.org/2000/svg\" height=\"24px\"viewBox=\"0 0 24 24\"\n",
              "     width=\"24px\">\n",
              "    <g>\n",
              "        <path d=\"M19 3H5c-1.1 0-2 .9-2 2v14c0 1.1.9 2 2 2h14c1.1 0 2-.9 2-2V5c0-1.1-.9-2-2-2zM9 17H7v-7h2v7zm4 0h-2V7h2v10zm4 0h-2v-4h2v4z\"/>\n",
              "    </g>\n",
              "</svg>\n",
              "      </button>\n",
              "    </div>\n",
              "\n",
              "<style>\n",
              "  .colab-df-quickchart {\n",
              "    background-color: #E8F0FE;\n",
              "    border: none;\n",
              "    border-radius: 50%;\n",
              "    cursor: pointer;\n",
              "    display: none;\n",
              "    fill: #1967D2;\n",
              "    height: 32px;\n",
              "    padding: 0 0 0 0;\n",
              "    width: 32px;\n",
              "  }\n",
              "\n",
              "  .colab-df-quickchart:hover {\n",
              "    background-color: #E2EBFA;\n",
              "    box-shadow: 0px 1px 2px rgba(60, 64, 67, 0.3), 0px 1px 3px 1px rgba(60, 64, 67, 0.15);\n",
              "    fill: #174EA6;\n",
              "  }\n",
              "\n",
              "  [theme=dark] .colab-df-quickchart {\n",
              "    background-color: #3B4455;\n",
              "    fill: #D2E3FC;\n",
              "  }\n",
              "\n",
              "  [theme=dark] .colab-df-quickchart:hover {\n",
              "    background-color: #434B5C;\n",
              "    box-shadow: 0px 1px 3px 1px rgba(0, 0, 0, 0.15);\n",
              "    filter: drop-shadow(0px 1px 2px rgba(0, 0, 0, 0.3));\n",
              "    fill: #FFFFFF;\n",
              "  }\n",
              "</style>\n",
              "\n",
              "    <script>\n",
              "      async function quickchart(key) {\n",
              "        const containerElement = document.querySelector('#' + key);\n",
              "        const charts = await google.colab.kernel.invokeFunction(\n",
              "            'suggestCharts', [key], {});\n",
              "      }\n",
              "    </script>\n",
              "\n",
              "      <script>\n",
              "\n",
              "function displayQuickchartButton(domScope) {\n",
              "  let quickchartButtonEl =\n",
              "    domScope.querySelector('#df-07d1e65e-bd4a-4de5-920a-90faac175e5f button.colab-df-quickchart');\n",
              "  quickchartButtonEl.style.display =\n",
              "    google.colab.kernel.accessAllowed ? 'block' : 'none';\n",
              "}\n",
              "\n",
              "        displayQuickchartButton(document);\n",
              "      </script>\n",
              "      <style>\n",
              "    .colab-df-container {\n",
              "      display:flex;\n",
              "      flex-wrap:wrap;\n",
              "      gap: 12px;\n",
              "    }\n",
              "\n",
              "    .colab-df-convert {\n",
              "      background-color: #E8F0FE;\n",
              "      border: none;\n",
              "      border-radius: 50%;\n",
              "      cursor: pointer;\n",
              "      display: none;\n",
              "      fill: #1967D2;\n",
              "      height: 32px;\n",
              "      padding: 0 0 0 0;\n",
              "      width: 32px;\n",
              "    }\n",
              "\n",
              "    .colab-df-convert:hover {\n",
              "      background-color: #E2EBFA;\n",
              "      box-shadow: 0px 1px 2px rgba(60, 64, 67, 0.3), 0px 1px 3px 1px rgba(60, 64, 67, 0.15);\n",
              "      fill: #174EA6;\n",
              "    }\n",
              "\n",
              "    [theme=dark] .colab-df-convert {\n",
              "      background-color: #3B4455;\n",
              "      fill: #D2E3FC;\n",
              "    }\n",
              "\n",
              "    [theme=dark] .colab-df-convert:hover {\n",
              "      background-color: #434B5C;\n",
              "      box-shadow: 0px 1px 3px 1px rgba(0, 0, 0, 0.15);\n",
              "      filter: drop-shadow(0px 1px 2px rgba(0, 0, 0, 0.3));\n",
              "      fill: #FFFFFF;\n",
              "    }\n",
              "  </style>\n",
              "\n",
              "      <script>\n",
              "        const buttonEl =\n",
              "          document.querySelector('#df-7e748bce-e54a-416b-8320-1c3cd829537c button.colab-df-convert');\n",
              "        buttonEl.style.display =\n",
              "          google.colab.kernel.accessAllowed ? 'block' : 'none';\n",
              "\n",
              "        async function convertToInteractive(key) {\n",
              "          const element = document.querySelector('#df-7e748bce-e54a-416b-8320-1c3cd829537c');\n",
              "          const dataTable =\n",
              "            await google.colab.kernel.invokeFunction('convertToInteractive',\n",
              "                                                     [key], {});\n",
              "          if (!dataTable) return;\n",
              "\n",
              "          const docLinkHtml = 'Like what you see? Visit the ' +\n",
              "            '<a target=\"_blank\" href=https://colab.research.google.com/notebooks/data_table.ipynb>data table notebook</a>'\n",
              "            + ' to learn more about interactive tables.';\n",
              "          element.innerHTML = '';\n",
              "          dataTable['output_type'] = 'display_data';\n",
              "          await google.colab.output.renderOutput(dataTable, element);\n",
              "          const docLink = document.createElement('div');\n",
              "          docLink.innerHTML = docLinkHtml;\n",
              "          element.appendChild(docLink);\n",
              "        }\n",
              "      </script>\n",
              "    </div>\n",
              "  </div>\n"
            ]
          },
          "metadata": {}
        }
      ],
      "source": [
        "data = data.drop(['DateCrawled', 'RegistrationMonth', 'DateCreated', 'NumberOfPictures', 'PostalCode', 'LastSeen'], axis=1)\n",
        "display(data.head())"
      ]
    },
    {
      "cell_type": "markdown",
      "metadata": {
        "id": "Bvr3BTDOr61j"
      },
      "source": [
        "Делим на выборки датасет:\n",
        "1. Определяем целевой признак и остальные признаки.\n",
        "2. Разделяю на тренировочную валидационную и тестовую выборки."
      ]
    },
    {
      "cell_type": "code",
      "execution_count": 16,
      "metadata": {
        "colab": {
          "base_uri": "https://localhost:8080/"
        },
        "id": "0GsuvPwar61j",
        "outputId": "85bd1230-eb32-438c-b213-8e6f7eb2b462"
      },
      "outputs": [
        {
          "output_type": "stream",
          "name": "stdout",
          "text": [
            "(177887, 9)\n",
            "(59296, 9)\n",
            "(59296, 9)\n",
            "\n"
          ]
        }
      ],
      "source": [
        "#выделяю признаки и целевой признак:\n",
        "features_original = data.drop('Price', axis=1)\n",
        "target = data['Price']\n",
        "\n",
        "\n",
        "train_valid, test = train_test_split(data, test_size=0.2, random_state=RANDOM_STATE)\n",
        "train, valid = train_test_split(train_valid, test_size=0.25, random_state=RANDOM_STATE)\n",
        "\n",
        "features_train = train.drop(['Price'], axis=1)\n",
        "target_train = train['Price']\n",
        "\n",
        "features_valid = valid.drop(['Price'], axis=1)\n",
        "target_valid = valid['Price']\n",
        "\n",
        "features_test = test.drop(['Price'], axis=1)\n",
        "target_test = test['Price']\n",
        "\n",
        "\n",
        "for i in [features_train, features_valid, features_test]:\n",
        "    print(i.shape)\n",
        "\n",
        "print()"
      ]
    },
    {
      "cell_type": "markdown",
      "metadata": {
        "id": "OoUjeRS4r61k"
      },
      "source": [
        "3. Определяю категориальные и числовые признаки.\n",
        "4. Кодирую данные с помощью категориальные данные с помощью ОНЕ"
      ]
    },
    {
      "cell_type": "code",
      "execution_count": 17,
      "metadata": {
        "colab": {
          "base_uri": "https://localhost:8080/",
          "height": 358
        },
        "id": "zlZauImPr61l",
        "outputId": "d83013a8-9bf6-44be-8749-58c3ba4beb5a"
      },
      "outputs": [
        {
          "output_type": "stream",
          "name": "stdout",
          "text": [
            "(177887, 308)\n",
            "(59296, 308)\n",
            "(177887,)\n",
            "(59296,)\n",
            "(59296, 308)\n",
            "(59296,)\n",
            "\n"
          ]
        },
        {
          "output_type": "display_data",
          "data": {
            "text/plain": [
              "        RegistrationYear  Power  Kilometer  VehicleType_convertible  \\\n",
              "116182              1995    150     150000                        0   \n",
              "38714               1998     75     100000                        0   \n",
              "133862              2012    150      20000                        0   \n",
              "\n",
              "        VehicleType_coupe  VehicleType_other  VehicleType_sedan  \\\n",
              "116182                  0                  0                  1   \n",
              "38714                   1                  0                  0   \n",
              "133862                  0                  0                  0   \n",
              "\n",
              "        VehicleType_small  VehicleType_suv  VehicleType_wagon  ...  \\\n",
              "116182                  0                0                  0  ...   \n",
              "38714                   0                0                  0  ...   \n",
              "133862                  0                0                  0  ...   \n",
              "\n",
              "        Brand_smart  Brand_sonstige_autos  Brand_subaru  Brand_suzuki  \\\n",
              "116182            0                     0             0             0   \n",
              "38714             0                     0             0             0   \n",
              "133862            0                     0             0             0   \n",
              "\n",
              "        Brand_toyota  Brand_trabant  Brand_volkswagen  Brand_volvo  \\\n",
              "116182             0              0                 0            0   \n",
              "38714              0              0                 0            0   \n",
              "133862             0              0                 0            0   \n",
              "\n",
              "        Repaired_unknow  Repaired_yes  \n",
              "116182                1             0  \n",
              "38714                 0             0  \n",
              "133862                0             0  \n",
              "\n",
              "[3 rows x 308 columns]"
            ],
            "text/html": [
              "\n",
              "\n",
              "  <div id=\"df-f053f1b2-6db8-410d-ad35-1155ddff6a05\">\n",
              "    <div class=\"colab-df-container\">\n",
              "      <div>\n",
              "<style scoped>\n",
              "    .dataframe tbody tr th:only-of-type {\n",
              "        vertical-align: middle;\n",
              "    }\n",
              "\n",
              "    .dataframe tbody tr th {\n",
              "        vertical-align: top;\n",
              "    }\n",
              "\n",
              "    .dataframe thead th {\n",
              "        text-align: right;\n",
              "    }\n",
              "</style>\n",
              "<table border=\"1\" class=\"dataframe\">\n",
              "  <thead>\n",
              "    <tr style=\"text-align: right;\">\n",
              "      <th></th>\n",
              "      <th>RegistrationYear</th>\n",
              "      <th>Power</th>\n",
              "      <th>Kilometer</th>\n",
              "      <th>VehicleType_convertible</th>\n",
              "      <th>VehicleType_coupe</th>\n",
              "      <th>VehicleType_other</th>\n",
              "      <th>VehicleType_sedan</th>\n",
              "      <th>VehicleType_small</th>\n",
              "      <th>VehicleType_suv</th>\n",
              "      <th>VehicleType_wagon</th>\n",
              "      <th>...</th>\n",
              "      <th>Brand_smart</th>\n",
              "      <th>Brand_sonstige_autos</th>\n",
              "      <th>Brand_subaru</th>\n",
              "      <th>Brand_suzuki</th>\n",
              "      <th>Brand_toyota</th>\n",
              "      <th>Brand_trabant</th>\n",
              "      <th>Brand_volkswagen</th>\n",
              "      <th>Brand_volvo</th>\n",
              "      <th>Repaired_unknow</th>\n",
              "      <th>Repaired_yes</th>\n",
              "    </tr>\n",
              "  </thead>\n",
              "  <tbody>\n",
              "    <tr>\n",
              "      <th>116182</th>\n",
              "      <td>1995</td>\n",
              "      <td>150</td>\n",
              "      <td>150000</td>\n",
              "      <td>0</td>\n",
              "      <td>0</td>\n",
              "      <td>0</td>\n",
              "      <td>1</td>\n",
              "      <td>0</td>\n",
              "      <td>0</td>\n",
              "      <td>0</td>\n",
              "      <td>...</td>\n",
              "      <td>0</td>\n",
              "      <td>0</td>\n",
              "      <td>0</td>\n",
              "      <td>0</td>\n",
              "      <td>0</td>\n",
              "      <td>0</td>\n",
              "      <td>0</td>\n",
              "      <td>0</td>\n",
              "      <td>1</td>\n",
              "      <td>0</td>\n",
              "    </tr>\n",
              "    <tr>\n",
              "      <th>38714</th>\n",
              "      <td>1998</td>\n",
              "      <td>75</td>\n",
              "      <td>100000</td>\n",
              "      <td>0</td>\n",
              "      <td>1</td>\n",
              "      <td>0</td>\n",
              "      <td>0</td>\n",
              "      <td>0</td>\n",
              "      <td>0</td>\n",
              "      <td>0</td>\n",
              "      <td>...</td>\n",
              "      <td>0</td>\n",
              "      <td>0</td>\n",
              "      <td>0</td>\n",
              "      <td>0</td>\n",
              "      <td>0</td>\n",
              "      <td>0</td>\n",
              "      <td>0</td>\n",
              "      <td>0</td>\n",
              "      <td>0</td>\n",
              "      <td>0</td>\n",
              "    </tr>\n",
              "    <tr>\n",
              "      <th>133862</th>\n",
              "      <td>2012</td>\n",
              "      <td>150</td>\n",
              "      <td>20000</td>\n",
              "      <td>0</td>\n",
              "      <td>0</td>\n",
              "      <td>0</td>\n",
              "      <td>0</td>\n",
              "      <td>0</td>\n",
              "      <td>0</td>\n",
              "      <td>0</td>\n",
              "      <td>...</td>\n",
              "      <td>0</td>\n",
              "      <td>0</td>\n",
              "      <td>0</td>\n",
              "      <td>0</td>\n",
              "      <td>0</td>\n",
              "      <td>0</td>\n",
              "      <td>0</td>\n",
              "      <td>0</td>\n",
              "      <td>0</td>\n",
              "      <td>0</td>\n",
              "    </tr>\n",
              "  </tbody>\n",
              "</table>\n",
              "<p>3 rows × 308 columns</p>\n",
              "</div>\n",
              "      <button class=\"colab-df-convert\" onclick=\"convertToInteractive('df-f053f1b2-6db8-410d-ad35-1155ddff6a05')\"\n",
              "              title=\"Convert this dataframe to an interactive table.\"\n",
              "              style=\"display:none;\">\n",
              "\n",
              "  <svg xmlns=\"http://www.w3.org/2000/svg\" height=\"24px\"viewBox=\"0 0 24 24\"\n",
              "       width=\"24px\">\n",
              "    <path d=\"M0 0h24v24H0V0z\" fill=\"none\"/>\n",
              "    <path d=\"M18.56 5.44l.94 2.06.94-2.06 2.06-.94-2.06-.94-.94-2.06-.94 2.06-2.06.94zm-11 1L8.5 8.5l.94-2.06 2.06-.94-2.06-.94L8.5 2.5l-.94 2.06-2.06.94zm10 10l.94 2.06.94-2.06 2.06-.94-2.06-.94-.94-2.06-.94 2.06-2.06.94z\"/><path d=\"M17.41 7.96l-1.37-1.37c-.4-.4-.92-.59-1.43-.59-.52 0-1.04.2-1.43.59L10.3 9.45l-7.72 7.72c-.78.78-.78 2.05 0 2.83L4 21.41c.39.39.9.59 1.41.59.51 0 1.02-.2 1.41-.59l7.78-7.78 2.81-2.81c.8-.78.8-2.07 0-2.86zM5.41 20L4 18.59l7.72-7.72 1.47 1.35L5.41 20z\"/>\n",
              "  </svg>\n",
              "      </button>\n",
              "\n",
              "\n",
              "\n",
              "    <div id=\"df-e3330441-77b5-40da-b72e-6b31aeeeb441\">\n",
              "      <button class=\"colab-df-quickchart\" onclick=\"quickchart('df-e3330441-77b5-40da-b72e-6b31aeeeb441')\"\n",
              "              title=\"Suggest charts.\"\n",
              "              style=\"display:none;\">\n",
              "\n",
              "<svg xmlns=\"http://www.w3.org/2000/svg\" height=\"24px\"viewBox=\"0 0 24 24\"\n",
              "     width=\"24px\">\n",
              "    <g>\n",
              "        <path d=\"M19 3H5c-1.1 0-2 .9-2 2v14c0 1.1.9 2 2 2h14c1.1 0 2-.9 2-2V5c0-1.1-.9-2-2-2zM9 17H7v-7h2v7zm4 0h-2V7h2v10zm4 0h-2v-4h2v4z\"/>\n",
              "    </g>\n",
              "</svg>\n",
              "      </button>\n",
              "    </div>\n",
              "\n",
              "<style>\n",
              "  .colab-df-quickchart {\n",
              "    background-color: #E8F0FE;\n",
              "    border: none;\n",
              "    border-radius: 50%;\n",
              "    cursor: pointer;\n",
              "    display: none;\n",
              "    fill: #1967D2;\n",
              "    height: 32px;\n",
              "    padding: 0 0 0 0;\n",
              "    width: 32px;\n",
              "  }\n",
              "\n",
              "  .colab-df-quickchart:hover {\n",
              "    background-color: #E2EBFA;\n",
              "    box-shadow: 0px 1px 2px rgba(60, 64, 67, 0.3), 0px 1px 3px 1px rgba(60, 64, 67, 0.15);\n",
              "    fill: #174EA6;\n",
              "  }\n",
              "\n",
              "  [theme=dark] .colab-df-quickchart {\n",
              "    background-color: #3B4455;\n",
              "    fill: #D2E3FC;\n",
              "  }\n",
              "\n",
              "  [theme=dark] .colab-df-quickchart:hover {\n",
              "    background-color: #434B5C;\n",
              "    box-shadow: 0px 1px 3px 1px rgba(0, 0, 0, 0.15);\n",
              "    filter: drop-shadow(0px 1px 2px rgba(0, 0, 0, 0.3));\n",
              "    fill: #FFFFFF;\n",
              "  }\n",
              "</style>\n",
              "\n",
              "    <script>\n",
              "      async function quickchart(key) {\n",
              "        const containerElement = document.querySelector('#' + key);\n",
              "        const charts = await google.colab.kernel.invokeFunction(\n",
              "            'suggestCharts', [key], {});\n",
              "      }\n",
              "    </script>\n",
              "\n",
              "      <script>\n",
              "\n",
              "function displayQuickchartButton(domScope) {\n",
              "  let quickchartButtonEl =\n",
              "    domScope.querySelector('#df-e3330441-77b5-40da-b72e-6b31aeeeb441 button.colab-df-quickchart');\n",
              "  quickchartButtonEl.style.display =\n",
              "    google.colab.kernel.accessAllowed ? 'block' : 'none';\n",
              "}\n",
              "\n",
              "        displayQuickchartButton(document);\n",
              "      </script>\n",
              "      <style>\n",
              "    .colab-df-container {\n",
              "      display:flex;\n",
              "      flex-wrap:wrap;\n",
              "      gap: 12px;\n",
              "    }\n",
              "\n",
              "    .colab-df-convert {\n",
              "      background-color: #E8F0FE;\n",
              "      border: none;\n",
              "      border-radius: 50%;\n",
              "      cursor: pointer;\n",
              "      display: none;\n",
              "      fill: #1967D2;\n",
              "      height: 32px;\n",
              "      padding: 0 0 0 0;\n",
              "      width: 32px;\n",
              "    }\n",
              "\n",
              "    .colab-df-convert:hover {\n",
              "      background-color: #E2EBFA;\n",
              "      box-shadow: 0px 1px 2px rgba(60, 64, 67, 0.3), 0px 1px 3px 1px rgba(60, 64, 67, 0.15);\n",
              "      fill: #174EA6;\n",
              "    }\n",
              "\n",
              "    [theme=dark] .colab-df-convert {\n",
              "      background-color: #3B4455;\n",
              "      fill: #D2E3FC;\n",
              "    }\n",
              "\n",
              "    [theme=dark] .colab-df-convert:hover {\n",
              "      background-color: #434B5C;\n",
              "      box-shadow: 0px 1px 3px 1px rgba(0, 0, 0, 0.15);\n",
              "      filter: drop-shadow(0px 1px 2px rgba(0, 0, 0, 0.3));\n",
              "      fill: #FFFFFF;\n",
              "    }\n",
              "  </style>\n",
              "\n",
              "      <script>\n",
              "        const buttonEl =\n",
              "          document.querySelector('#df-f053f1b2-6db8-410d-ad35-1155ddff6a05 button.colab-df-convert');\n",
              "        buttonEl.style.display =\n",
              "          google.colab.kernel.accessAllowed ? 'block' : 'none';\n",
              "\n",
              "        async function convertToInteractive(key) {\n",
              "          const element = document.querySelector('#df-f053f1b2-6db8-410d-ad35-1155ddff6a05');\n",
              "          const dataTable =\n",
              "            await google.colab.kernel.invokeFunction('convertToInteractive',\n",
              "                                                     [key], {});\n",
              "          if (!dataTable) return;\n",
              "\n",
              "          const docLinkHtml = 'Like what you see? Visit the ' +\n",
              "            '<a target=\"_blank\" href=https://colab.research.google.com/notebooks/data_table.ipynb>data table notebook</a>'\n",
              "            + ' to learn more about interactive tables.';\n",
              "          element.innerHTML = '';\n",
              "          dataTable['output_type'] = 'display_data';\n",
              "          await google.colab.output.renderOutput(dataTable, element);\n",
              "          const docLink = document.createElement('div');\n",
              "          docLink.innerHTML = docLinkHtml;\n",
              "          element.appendChild(docLink);\n",
              "        }\n",
              "      </script>\n",
              "    </div>\n",
              "  </div>\n"
            ]
          },
          "metadata": {}
        }
      ],
      "source": [
        "categorial = ['VehicleType', 'Gearbox', 'Model', 'FuelType', 'Brand', 'Repaired']\n",
        "numeric = ['RegistrationYear', 'Power', 'Kilometer']\n",
        "\n",
        "features_ohe = pd.get_dummies(features_original, drop_first=True)\n",
        "\n",
        "features_train_valid_ohe, features_test_ohe, target_train_valid_ohe, target_test_ohe = train_test_split(features_ohe,\n",
        "                                                                                            target,\n",
        "                                                                                            test_size=0.2,\n",
        "                                                                                            random_state=RANDOM_STATE)\n",
        "\n",
        "features_train_ohe, features_valid_ohe, target_train_ohe, target_valid_ohe = train_test_split(features_train_valid_ohe,\n",
        "                                                                                            target_train_valid_ohe,\n",
        "                                                                                            test_size=0.25,\n",
        "                                                                                            random_state=RANDOM_STATE)\n",
        "\n",
        "train, valid = train_test_split(train_valid, test_size=0.25, random_state=RANDOM_STATE)\n",
        "\n",
        "\n",
        "for i in [features_train_ohe, features_valid_ohe, target_train_ohe, target_valid_ohe, features_test_ohe, target_test_ohe]:\n",
        "    print(i.shape)\n",
        "\n",
        "print()\n",
        "\n",
        "display(features_train_ohe.head(3))"
      ]
    },
    {
      "cell_type": "markdown",
      "metadata": {
        "id": "SYzhqrNYr61l"
      },
      "source": [
        "5. Кодирую категориальные данные с помощью ОЕ."
      ]
    },
    {
      "cell_type": "code",
      "execution_count": 18,
      "metadata": {
        "colab": {
          "base_uri": "https://localhost:8080/",
          "height": 265
        },
        "id": "tjepvMg_r61l",
        "outputId": "9a723b57-550a-4da6-aec2-1e33c209eb74"
      },
      "outputs": [
        {
          "output_type": "stream",
          "name": "stdout",
          "text": [
            "(177887, 9)\n",
            "(59296, 9)\n",
            "(177887,)\n",
            "(59296,)\n",
            "(59296, 9)\n",
            "(59296,)\n",
            "\n"
          ]
        },
        {
          "output_type": "display_data",
          "data": {
            "text/plain": [
              "        VehicleType  RegistrationYear  Gearbox  Power  Model  Kilometer  \\\n",
              "116182          4.0              35.0      0.0  149.0   20.0       12.0   \n",
              "38714           2.0              38.0      1.0   74.0  166.0       10.0   \n",
              "133862          0.0              52.0      1.0  149.0   14.0        2.0   \n",
              "\n",
              "        FuelType  Brand  Repaired  \n",
              "116182       7.0    1.0       1.0  \n",
              "38714        6.0   28.0       0.0  \n",
              "133862       6.0   19.0       0.0  "
            ],
            "text/html": [
              "\n",
              "\n",
              "  <div id=\"df-601f350c-5ae0-4dac-ab78-34584ee89bd1\">\n",
              "    <div class=\"colab-df-container\">\n",
              "      <div>\n",
              "<style scoped>\n",
              "    .dataframe tbody tr th:only-of-type {\n",
              "        vertical-align: middle;\n",
              "    }\n",
              "\n",
              "    .dataframe tbody tr th {\n",
              "        vertical-align: top;\n",
              "    }\n",
              "\n",
              "    .dataframe thead th {\n",
              "        text-align: right;\n",
              "    }\n",
              "</style>\n",
              "<table border=\"1\" class=\"dataframe\">\n",
              "  <thead>\n",
              "    <tr style=\"text-align: right;\">\n",
              "      <th></th>\n",
              "      <th>VehicleType</th>\n",
              "      <th>RegistrationYear</th>\n",
              "      <th>Gearbox</th>\n",
              "      <th>Power</th>\n",
              "      <th>Model</th>\n",
              "      <th>Kilometer</th>\n",
              "      <th>FuelType</th>\n",
              "      <th>Brand</th>\n",
              "      <th>Repaired</th>\n",
              "    </tr>\n",
              "  </thead>\n",
              "  <tbody>\n",
              "    <tr>\n",
              "      <th>116182</th>\n",
              "      <td>4.0</td>\n",
              "      <td>35.0</td>\n",
              "      <td>0.0</td>\n",
              "      <td>149.0</td>\n",
              "      <td>20.0</td>\n",
              "      <td>12.0</td>\n",
              "      <td>7.0</td>\n",
              "      <td>1.0</td>\n",
              "      <td>1.0</td>\n",
              "    </tr>\n",
              "    <tr>\n",
              "      <th>38714</th>\n",
              "      <td>2.0</td>\n",
              "      <td>38.0</td>\n",
              "      <td>1.0</td>\n",
              "      <td>74.0</td>\n",
              "      <td>166.0</td>\n",
              "      <td>10.0</td>\n",
              "      <td>6.0</td>\n",
              "      <td>28.0</td>\n",
              "      <td>0.0</td>\n",
              "    </tr>\n",
              "    <tr>\n",
              "      <th>133862</th>\n",
              "      <td>0.0</td>\n",
              "      <td>52.0</td>\n",
              "      <td>1.0</td>\n",
              "      <td>149.0</td>\n",
              "      <td>14.0</td>\n",
              "      <td>2.0</td>\n",
              "      <td>6.0</td>\n",
              "      <td>19.0</td>\n",
              "      <td>0.0</td>\n",
              "    </tr>\n",
              "  </tbody>\n",
              "</table>\n",
              "</div>\n",
              "      <button class=\"colab-df-convert\" onclick=\"convertToInteractive('df-601f350c-5ae0-4dac-ab78-34584ee89bd1')\"\n",
              "              title=\"Convert this dataframe to an interactive table.\"\n",
              "              style=\"display:none;\">\n",
              "\n",
              "  <svg xmlns=\"http://www.w3.org/2000/svg\" height=\"24px\"viewBox=\"0 0 24 24\"\n",
              "       width=\"24px\">\n",
              "    <path d=\"M0 0h24v24H0V0z\" fill=\"none\"/>\n",
              "    <path d=\"M18.56 5.44l.94 2.06.94-2.06 2.06-.94-2.06-.94-.94-2.06-.94 2.06-2.06.94zm-11 1L8.5 8.5l.94-2.06 2.06-.94-2.06-.94L8.5 2.5l-.94 2.06-2.06.94zm10 10l.94 2.06.94-2.06 2.06-.94-2.06-.94-.94-2.06-.94 2.06-2.06.94z\"/><path d=\"M17.41 7.96l-1.37-1.37c-.4-.4-.92-.59-1.43-.59-.52 0-1.04.2-1.43.59L10.3 9.45l-7.72 7.72c-.78.78-.78 2.05 0 2.83L4 21.41c.39.39.9.59 1.41.59.51 0 1.02-.2 1.41-.59l7.78-7.78 2.81-2.81c.8-.78.8-2.07 0-2.86zM5.41 20L4 18.59l7.72-7.72 1.47 1.35L5.41 20z\"/>\n",
              "  </svg>\n",
              "      </button>\n",
              "\n",
              "\n",
              "\n",
              "    <div id=\"df-a0425f2b-29ff-4df4-b279-08ac85963826\">\n",
              "      <button class=\"colab-df-quickchart\" onclick=\"quickchart('df-a0425f2b-29ff-4df4-b279-08ac85963826')\"\n",
              "              title=\"Suggest charts.\"\n",
              "              style=\"display:none;\">\n",
              "\n",
              "<svg xmlns=\"http://www.w3.org/2000/svg\" height=\"24px\"viewBox=\"0 0 24 24\"\n",
              "     width=\"24px\">\n",
              "    <g>\n",
              "        <path d=\"M19 3H5c-1.1 0-2 .9-2 2v14c0 1.1.9 2 2 2h14c1.1 0 2-.9 2-2V5c0-1.1-.9-2-2-2zM9 17H7v-7h2v7zm4 0h-2V7h2v10zm4 0h-2v-4h2v4z\"/>\n",
              "    </g>\n",
              "</svg>\n",
              "      </button>\n",
              "    </div>\n",
              "\n",
              "<style>\n",
              "  .colab-df-quickchart {\n",
              "    background-color: #E8F0FE;\n",
              "    border: none;\n",
              "    border-radius: 50%;\n",
              "    cursor: pointer;\n",
              "    display: none;\n",
              "    fill: #1967D2;\n",
              "    height: 32px;\n",
              "    padding: 0 0 0 0;\n",
              "    width: 32px;\n",
              "  }\n",
              "\n",
              "  .colab-df-quickchart:hover {\n",
              "    background-color: #E2EBFA;\n",
              "    box-shadow: 0px 1px 2px rgba(60, 64, 67, 0.3), 0px 1px 3px 1px rgba(60, 64, 67, 0.15);\n",
              "    fill: #174EA6;\n",
              "  }\n",
              "\n",
              "  [theme=dark] .colab-df-quickchart {\n",
              "    background-color: #3B4455;\n",
              "    fill: #D2E3FC;\n",
              "  }\n",
              "\n",
              "  [theme=dark] .colab-df-quickchart:hover {\n",
              "    background-color: #434B5C;\n",
              "    box-shadow: 0px 1px 3px 1px rgba(0, 0, 0, 0.15);\n",
              "    filter: drop-shadow(0px 1px 2px rgba(0, 0, 0, 0.3));\n",
              "    fill: #FFFFFF;\n",
              "  }\n",
              "</style>\n",
              "\n",
              "    <script>\n",
              "      async function quickchart(key) {\n",
              "        const containerElement = document.querySelector('#' + key);\n",
              "        const charts = await google.colab.kernel.invokeFunction(\n",
              "            'suggestCharts', [key], {});\n",
              "      }\n",
              "    </script>\n",
              "\n",
              "      <script>\n",
              "\n",
              "function displayQuickchartButton(domScope) {\n",
              "  let quickchartButtonEl =\n",
              "    domScope.querySelector('#df-a0425f2b-29ff-4df4-b279-08ac85963826 button.colab-df-quickchart');\n",
              "  quickchartButtonEl.style.display =\n",
              "    google.colab.kernel.accessAllowed ? 'block' : 'none';\n",
              "}\n",
              "\n",
              "        displayQuickchartButton(document);\n",
              "      </script>\n",
              "      <style>\n",
              "    .colab-df-container {\n",
              "      display:flex;\n",
              "      flex-wrap:wrap;\n",
              "      gap: 12px;\n",
              "    }\n",
              "\n",
              "    .colab-df-convert {\n",
              "      background-color: #E8F0FE;\n",
              "      border: none;\n",
              "      border-radius: 50%;\n",
              "      cursor: pointer;\n",
              "      display: none;\n",
              "      fill: #1967D2;\n",
              "      height: 32px;\n",
              "      padding: 0 0 0 0;\n",
              "      width: 32px;\n",
              "    }\n",
              "\n",
              "    .colab-df-convert:hover {\n",
              "      background-color: #E2EBFA;\n",
              "      box-shadow: 0px 1px 2px rgba(60, 64, 67, 0.3), 0px 1px 3px 1px rgba(60, 64, 67, 0.15);\n",
              "      fill: #174EA6;\n",
              "    }\n",
              "\n",
              "    [theme=dark] .colab-df-convert {\n",
              "      background-color: #3B4455;\n",
              "      fill: #D2E3FC;\n",
              "    }\n",
              "\n",
              "    [theme=dark] .colab-df-convert:hover {\n",
              "      background-color: #434B5C;\n",
              "      box-shadow: 0px 1px 3px 1px rgba(0, 0, 0, 0.15);\n",
              "      filter: drop-shadow(0px 1px 2px rgba(0, 0, 0, 0.3));\n",
              "      fill: #FFFFFF;\n",
              "    }\n",
              "  </style>\n",
              "\n",
              "      <script>\n",
              "        const buttonEl =\n",
              "          document.querySelector('#df-601f350c-5ae0-4dac-ab78-34584ee89bd1 button.colab-df-convert');\n",
              "        buttonEl.style.display =\n",
              "          google.colab.kernel.accessAllowed ? 'block' : 'none';\n",
              "\n",
              "        async function convertToInteractive(key) {\n",
              "          const element = document.querySelector('#df-601f350c-5ae0-4dac-ab78-34584ee89bd1');\n",
              "          const dataTable =\n",
              "            await google.colab.kernel.invokeFunction('convertToInteractive',\n",
              "                                                     [key], {});\n",
              "          if (!dataTable) return;\n",
              "\n",
              "          const docLinkHtml = 'Like what you see? Visit the ' +\n",
              "            '<a target=\"_blank\" href=https://colab.research.google.com/notebooks/data_table.ipynb>data table notebook</a>'\n",
              "            + ' to learn more about interactive tables.';\n",
              "          element.innerHTML = '';\n",
              "          dataTable['output_type'] = 'display_data';\n",
              "          await google.colab.output.renderOutput(dataTable, element);\n",
              "          const docLink = document.createElement('div');\n",
              "          docLink.innerHTML = docLinkHtml;\n",
              "          element.appendChild(docLink);\n",
              "        }\n",
              "      </script>\n",
              "    </div>\n",
              "  </div>\n"
            ]
          },
          "metadata": {}
        }
      ],
      "source": [
        "encoder = OrdinalEncoder()\n",
        "\n",
        "features_train_oe = categorial\n",
        "features_train_oe = pd.DataFrame(encoder.fit_transform(features_train),\n",
        "                                 columns=features_train.columns,\n",
        "                                 index=features_train.index)\n",
        "\n",
        "features_valid_oe = categorial\n",
        "features_valid_oe = pd.DataFrame(encoder.fit_transform(features_valid),\n",
        "                                columns=features_valid.columns,\n",
        "                                index=features_valid.index)\n",
        "\n",
        "features_test_oe = categorial\n",
        "features_test_oe = pd.DataFrame(encoder.fit_transform(features_test),\n",
        "                                columns=features_test.columns,\n",
        "                                index=features_test.index)\n",
        "\n",
        "target_train_oe = target_train.copy()\n",
        "target_valid_oe = target_valid.copy()\n",
        "target_test_oe = target_test.copy()\n",
        "\n",
        "for i in [features_train_oe, features_valid_oe, target_train_oe, target_valid_oe, features_test_oe, target_test_oe]:\n",
        "    print(i.shape)\n",
        "\n",
        "print()\n",
        "\n",
        "display(features_train_oe.head(3))"
      ]
    },
    {
      "cell_type": "markdown",
      "metadata": {
        "id": "XWQxccYor61m"
      },
      "source": [
        "Обучим первую модель - CatBoostClassifier. На двух выборках - ОНЕ и ОЕ."
      ]
    },
    {
      "cell_type": "code",
      "execution_count": 19,
      "metadata": {
        "colab": {
          "base_uri": "https://localhost:8080/"
        },
        "id": "DOeiidvDr61m",
        "outputId": "1b96e739-3885-4e06-e25b-cfc6d2463948"
      },
      "outputs": [
        {
          "output_type": "stream",
          "name": "stdout",
          "text": [
            "Learning rate set to 0.092833\n",
            "0:\tlearn: 4339.2251273\ttotal: 139ms\tremaining: 2m 19s\n",
            "100:\tlearn: 1800.4450983\ttotal: 5.55s\tremaining: 49.4s\n",
            "200:\tlearn: 1706.6166744\ttotal: 9.19s\tremaining: 36.5s\n",
            "300:\tlearn: 1656.8759147\ttotal: 11.4s\tremaining: 26.4s\n",
            "400:\tlearn: 1624.3703020\ttotal: 13.4s\tremaining: 20.1s\n",
            "500:\tlearn: 1599.6832754\ttotal: 15.6s\tremaining: 15.5s\n",
            "600:\tlearn: 1579.6391258\ttotal: 17.6s\tremaining: 11.7s\n",
            "700:\tlearn: 1564.1934345\ttotal: 20.4s\tremaining: 8.72s\n",
            "800:\tlearn: 1548.8795043\ttotal: 23.4s\tremaining: 5.82s\n",
            "900:\tlearn: 1535.5392961\ttotal: 25.6s\tremaining: 2.81s\n",
            "999:\tlearn: 1523.7887691\ttotal: 27.7s\tremaining: 0us\n",
            "CPU times: user 43.7 s, sys: 1.21 s, total: 44.9 s\n",
            "Wall time: 30.3 s\n"
          ]
        },
        {
          "output_type": "execute_result",
          "data": {
            "text/plain": [
              "<catboost.core.CatBoostRegressor at 0x7aa5e45c7340>"
            ]
          },
          "metadata": {},
          "execution_count": 19
        }
      ],
      "source": [
        "%%time\n",
        "\n",
        "model1 = CatBoostRegressor(random_state=RANDOM_STATE, loss_function='RMSE', verbose=100)\n",
        "model1.fit(features_train_ohe, target_train_ohe)\n"
      ]
    },
    {
      "cell_type": "code",
      "execution_count": 20,
      "metadata": {
        "colab": {
          "base_uri": "https://localhost:8080/"
        },
        "id": "GjeDlINcr61m",
        "outputId": "581e6562-0068-402c-eead-0443ebe941ed"
      },
      "outputs": [
        {
          "output_type": "stream",
          "name": "stdout",
          "text": [
            "CPU times: user 366 ms, sys: 13.8 ms, total: 380 ms\n",
            "Wall time: 208 ms\n"
          ]
        }
      ],
      "source": [
        "%%time\n",
        "\n",
        "pred_valid1 = model1.predict(features_valid_ohe)"
      ]
    },
    {
      "cell_type": "code",
      "execution_count": 21,
      "metadata": {
        "colab": {
          "base_uri": "https://localhost:8080/"
        },
        "id": "Hs-RYGkAr61n",
        "outputId": "8369c77c-f98d-475f-aa40-9c52993fc498"
      },
      "outputs": [
        {
          "output_type": "stream",
          "name": "stdout",
          "text": [
            "RMSE: 1586.562075705074\n"
          ]
        }
      ],
      "source": [
        "rsme_cat_ohe = mean_squared_error(target_valid_ohe, pred_valid1) ** .5\n",
        "\n",
        "print('RMSE:', rsme_cat_ohe)"
      ]
    },
    {
      "cell_type": "code",
      "execution_count": 22,
      "metadata": {
        "colab": {
          "base_uri": "https://localhost:8080/"
        },
        "id": "6Jmt_qAOr61n",
        "outputId": "0e7d00fc-4e0e-4e9f-fccb-f31096532ac4"
      },
      "outputs": [
        {
          "output_type": "stream",
          "name": "stdout",
          "text": [
            "Learning rate set to 0.092833\n",
            "0:\tlearn: 4332.2986231\ttotal: 28.2ms\tremaining: 28.2s\n",
            "100:\tlearn: 1800.8084389\ttotal: 2.46s\tremaining: 21.9s\n",
            "200:\tlearn: 1708.6387568\ttotal: 6s\tremaining: 23.9s\n",
            "300:\tlearn: 1657.0625201\ttotal: 8.71s\tremaining: 20.2s\n",
            "400:\tlearn: 1625.0205645\ttotal: 11s\tremaining: 16.5s\n",
            "500:\tlearn: 1599.0176663\ttotal: 13.4s\tremaining: 13.3s\n",
            "600:\tlearn: 1579.1048188\ttotal: 15.7s\tremaining: 10.4s\n",
            "700:\tlearn: 1561.1079648\ttotal: 19.6s\tremaining: 8.36s\n",
            "800:\tlearn: 1546.8097460\ttotal: 21.9s\tremaining: 5.44s\n",
            "900:\tlearn: 1533.6985173\ttotal: 24.2s\tremaining: 2.66s\n",
            "999:\tlearn: 1521.5201196\ttotal: 26.5s\tremaining: 0us\n",
            "CPU times: user 45.1 s, sys: 1.03 s, total: 46.1 s\n",
            "Wall time: 26.8 s\n"
          ]
        },
        {
          "output_type": "execute_result",
          "data": {
            "text/plain": [
              "<catboost.core.CatBoostRegressor at 0x7aa5e449c3d0>"
            ]
          },
          "metadata": {},
          "execution_count": 22
        }
      ],
      "source": [
        "%%time\n",
        "\n",
        "model11 = CatBoostRegressor(random_state=RANDOM_STATE, loss_function='RMSE', verbose=100)\n",
        "model11.fit(features_train_oe, target_train_oe)"
      ]
    },
    {
      "cell_type": "code",
      "execution_count": 23,
      "metadata": {
        "colab": {
          "base_uri": "https://localhost:8080/"
        },
        "id": "Ek_kzoX-r61n",
        "outputId": "7290a6bc-e829-4c71-c981-2c90f7d956d2"
      },
      "outputs": [
        {
          "output_type": "stream",
          "name": "stdout",
          "text": [
            "CPU times: user 131 ms, sys: 1.97 ms, total: 133 ms\n",
            "Wall time: 72.7 ms\n"
          ]
        }
      ],
      "source": [
        "%%time\n",
        "\n",
        "pred_valid11 = model11.predict(features_valid_oe)"
      ]
    },
    {
      "cell_type": "code",
      "execution_count": 24,
      "metadata": {
        "colab": {
          "base_uri": "https://localhost:8080/"
        },
        "id": "1POpE2zOr61n",
        "outputId": "adbfd8a7-be75-47bd-85ce-49c2bef0c07e"
      },
      "outputs": [
        {
          "output_type": "stream",
          "name": "stdout",
          "text": [
            "RMSE: 1711.5993563152751\n"
          ]
        }
      ],
      "source": [
        "rsme_cat_oe = mean_squared_error(target_valid_oe, pred_valid11) ** .5\n",
        "\n",
        "print('RMSE:', rsme_cat_oe)"
      ]
    },
    {
      "cell_type": "markdown",
      "metadata": {
        "id": "DprXa6rLr61o"
      },
      "source": [
        "Обучим вторую модель - LightGBMRegressor. На двух выборках - ОНЕ и ОЕ."
      ]
    },
    {
      "cell_type": "code",
      "execution_count": 25,
      "metadata": {
        "colab": {
          "base_uri": "https://localhost:8080/",
          "height": 109
        },
        "id": "De1W0MjKr61o",
        "outputId": "3e9487f2-bb81-4687-8605-56fcaaf265f1"
      },
      "outputs": [
        {
          "output_type": "stream",
          "name": "stdout",
          "text": [
            "CPU times: user 5.09 s, sys: 410 ms, total: 5.5 s\n",
            "Wall time: 3.7 s\n"
          ]
        },
        {
          "output_type": "execute_result",
          "data": {
            "text/plain": [
              "LGBMRegressor(random_state=12345)"
            ],
            "text/html": [
              "<style>#sk-container-id-1 {color: black;background-color: white;}#sk-container-id-1 pre{padding: 0;}#sk-container-id-1 div.sk-toggleable {background-color: white;}#sk-container-id-1 label.sk-toggleable__label {cursor: pointer;display: block;width: 100%;margin-bottom: 0;padding: 0.3em;box-sizing: border-box;text-align: center;}#sk-container-id-1 label.sk-toggleable__label-arrow:before {content: \"▸\";float: left;margin-right: 0.25em;color: #696969;}#sk-container-id-1 label.sk-toggleable__label-arrow:hover:before {color: black;}#sk-container-id-1 div.sk-estimator:hover label.sk-toggleable__label-arrow:before {color: black;}#sk-container-id-1 div.sk-toggleable__content {max-height: 0;max-width: 0;overflow: hidden;text-align: left;background-color: #f0f8ff;}#sk-container-id-1 div.sk-toggleable__content pre {margin: 0.2em;color: black;border-radius: 0.25em;background-color: #f0f8ff;}#sk-container-id-1 input.sk-toggleable__control:checked~div.sk-toggleable__content {max-height: 200px;max-width: 100%;overflow: auto;}#sk-container-id-1 input.sk-toggleable__control:checked~label.sk-toggleable__label-arrow:before {content: \"▾\";}#sk-container-id-1 div.sk-estimator input.sk-toggleable__control:checked~label.sk-toggleable__label {background-color: #d4ebff;}#sk-container-id-1 div.sk-label input.sk-toggleable__control:checked~label.sk-toggleable__label {background-color: #d4ebff;}#sk-container-id-1 input.sk-hidden--visually {border: 0;clip: rect(1px 1px 1px 1px);clip: rect(1px, 1px, 1px, 1px);height: 1px;margin: -1px;overflow: hidden;padding: 0;position: absolute;width: 1px;}#sk-container-id-1 div.sk-estimator {font-family: monospace;background-color: #f0f8ff;border: 1px dotted black;border-radius: 0.25em;box-sizing: border-box;margin-bottom: 0.5em;}#sk-container-id-1 div.sk-estimator:hover {background-color: #d4ebff;}#sk-container-id-1 div.sk-parallel-item::after {content: \"\";width: 100%;border-bottom: 1px solid gray;flex-grow: 1;}#sk-container-id-1 div.sk-label:hover label.sk-toggleable__label {background-color: #d4ebff;}#sk-container-id-1 div.sk-serial::before {content: \"\";position: absolute;border-left: 1px solid gray;box-sizing: border-box;top: 0;bottom: 0;left: 50%;z-index: 0;}#sk-container-id-1 div.sk-serial {display: flex;flex-direction: column;align-items: center;background-color: white;padding-right: 0.2em;padding-left: 0.2em;position: relative;}#sk-container-id-1 div.sk-item {position: relative;z-index: 1;}#sk-container-id-1 div.sk-parallel {display: flex;align-items: stretch;justify-content: center;background-color: white;position: relative;}#sk-container-id-1 div.sk-item::before, #sk-container-id-1 div.sk-parallel-item::before {content: \"\";position: absolute;border-left: 1px solid gray;box-sizing: border-box;top: 0;bottom: 0;left: 50%;z-index: -1;}#sk-container-id-1 div.sk-parallel-item {display: flex;flex-direction: column;z-index: 1;position: relative;background-color: white;}#sk-container-id-1 div.sk-parallel-item:first-child::after {align-self: flex-end;width: 50%;}#sk-container-id-1 div.sk-parallel-item:last-child::after {align-self: flex-start;width: 50%;}#sk-container-id-1 div.sk-parallel-item:only-child::after {width: 0;}#sk-container-id-1 div.sk-dashed-wrapped {border: 1px dashed gray;margin: 0 0.4em 0.5em 0.4em;box-sizing: border-box;padding-bottom: 0.4em;background-color: white;}#sk-container-id-1 div.sk-label label {font-family: monospace;font-weight: bold;display: inline-block;line-height: 1.2em;}#sk-container-id-1 div.sk-label-container {text-align: center;}#sk-container-id-1 div.sk-container {/* jupyter's `normalize.less` sets `[hidden] { display: none; }` but bootstrap.min.css set `[hidden] { display: none !important; }` so we also need the `!important` here to be able to override the default hidden behavior on the sphinx rendered scikit-learn.org. See: https://github.com/scikit-learn/scikit-learn/issues/21755 */display: inline-block !important;position: relative;}#sk-container-id-1 div.sk-text-repr-fallback {display: none;}</style><div id=\"sk-container-id-1\" class=\"sk-top-container\"><div class=\"sk-text-repr-fallback\"><pre>LGBMRegressor(random_state=12345)</pre><b>In a Jupyter environment, please rerun this cell to show the HTML representation or trust the notebook. <br />On GitHub, the HTML representation is unable to render, please try loading this page with nbviewer.org.</b></div><div class=\"sk-container\" hidden><div class=\"sk-item\"><div class=\"sk-estimator sk-toggleable\"><input class=\"sk-toggleable__control sk-hidden--visually\" id=\"sk-estimator-id-1\" type=\"checkbox\" checked><label for=\"sk-estimator-id-1\" class=\"sk-toggleable__label sk-toggleable__label-arrow\">LGBMRegressor</label><div class=\"sk-toggleable__content\"><pre>LGBMRegressor(random_state=12345)</pre></div></div></div></div></div>"
            ]
          },
          "metadata": {},
          "execution_count": 25
        }
      ],
      "source": [
        "%%time\n",
        "\n",
        "model2 = LGBMRegressor(random_state=RANDOM_STATE)\n",
        "model2.fit(features_train_ohe, target_train_ohe)"
      ]
    },
    {
      "cell_type": "code",
      "execution_count": 26,
      "metadata": {
        "colab": {
          "base_uri": "https://localhost:8080/"
        },
        "id": "qLZRQq9Pr61o",
        "outputId": "c7ba19eb-ac87-461b-cc9e-6ed22533f7dc"
      },
      "outputs": [
        {
          "output_type": "stream",
          "name": "stdout",
          "text": [
            "CPU times: user 770 ms, sys: 65.5 ms, total: 836 ms\n",
            "Wall time: 785 ms\n"
          ]
        }
      ],
      "source": [
        "%%time\n",
        "\n",
        "pred_valid2 = model2.predict(features_valid_ohe)"
      ]
    },
    {
      "cell_type": "code",
      "execution_count": 27,
      "metadata": {
        "colab": {
          "base_uri": "https://localhost:8080/"
        },
        "id": "vqJxpbYtr61p",
        "outputId": "061928fd-7928-400d-d385-0b2fa3697dca"
      },
      "outputs": [
        {
          "output_type": "stream",
          "name": "stdout",
          "text": [
            "RMSE: 1674.0660913327536\n"
          ]
        }
      ],
      "source": [
        "rsme_lgbmr_ohe = mean_squared_error(target_valid_ohe, pred_valid2) ** .5\n",
        "\n",
        "print('RMSE:', rsme_lgbmr_ohe)"
      ]
    },
    {
      "cell_type": "code",
      "execution_count": 28,
      "metadata": {
        "colab": {
          "base_uri": "https://localhost:8080/",
          "height": 109
        },
        "id": "1Xx-xHTzr61p",
        "outputId": "055c2c55-389b-4b04-d4ac-ce21e48df1aa"
      },
      "outputs": [
        {
          "output_type": "stream",
          "name": "stdout",
          "text": [
            "CPU times: user 2.92 s, sys: 25.7 ms, total: 2.94 s\n",
            "Wall time: 1.95 s\n"
          ]
        },
        {
          "output_type": "execute_result",
          "data": {
            "text/plain": [
              "LGBMRegressor(random_state=12345)"
            ],
            "text/html": [
              "<style>#sk-container-id-2 {color: black;background-color: white;}#sk-container-id-2 pre{padding: 0;}#sk-container-id-2 div.sk-toggleable {background-color: white;}#sk-container-id-2 label.sk-toggleable__label {cursor: pointer;display: block;width: 100%;margin-bottom: 0;padding: 0.3em;box-sizing: border-box;text-align: center;}#sk-container-id-2 label.sk-toggleable__label-arrow:before {content: \"▸\";float: left;margin-right: 0.25em;color: #696969;}#sk-container-id-2 label.sk-toggleable__label-arrow:hover:before {color: black;}#sk-container-id-2 div.sk-estimator:hover label.sk-toggleable__label-arrow:before {color: black;}#sk-container-id-2 div.sk-toggleable__content {max-height: 0;max-width: 0;overflow: hidden;text-align: left;background-color: #f0f8ff;}#sk-container-id-2 div.sk-toggleable__content pre {margin: 0.2em;color: black;border-radius: 0.25em;background-color: #f0f8ff;}#sk-container-id-2 input.sk-toggleable__control:checked~div.sk-toggleable__content {max-height: 200px;max-width: 100%;overflow: auto;}#sk-container-id-2 input.sk-toggleable__control:checked~label.sk-toggleable__label-arrow:before {content: \"▾\";}#sk-container-id-2 div.sk-estimator input.sk-toggleable__control:checked~label.sk-toggleable__label {background-color: #d4ebff;}#sk-container-id-2 div.sk-label input.sk-toggleable__control:checked~label.sk-toggleable__label {background-color: #d4ebff;}#sk-container-id-2 input.sk-hidden--visually {border: 0;clip: rect(1px 1px 1px 1px);clip: rect(1px, 1px, 1px, 1px);height: 1px;margin: -1px;overflow: hidden;padding: 0;position: absolute;width: 1px;}#sk-container-id-2 div.sk-estimator {font-family: monospace;background-color: #f0f8ff;border: 1px dotted black;border-radius: 0.25em;box-sizing: border-box;margin-bottom: 0.5em;}#sk-container-id-2 div.sk-estimator:hover {background-color: #d4ebff;}#sk-container-id-2 div.sk-parallel-item::after {content: \"\";width: 100%;border-bottom: 1px solid gray;flex-grow: 1;}#sk-container-id-2 div.sk-label:hover label.sk-toggleable__label {background-color: #d4ebff;}#sk-container-id-2 div.sk-serial::before {content: \"\";position: absolute;border-left: 1px solid gray;box-sizing: border-box;top: 0;bottom: 0;left: 50%;z-index: 0;}#sk-container-id-2 div.sk-serial {display: flex;flex-direction: column;align-items: center;background-color: white;padding-right: 0.2em;padding-left: 0.2em;position: relative;}#sk-container-id-2 div.sk-item {position: relative;z-index: 1;}#sk-container-id-2 div.sk-parallel {display: flex;align-items: stretch;justify-content: center;background-color: white;position: relative;}#sk-container-id-2 div.sk-item::before, #sk-container-id-2 div.sk-parallel-item::before {content: \"\";position: absolute;border-left: 1px solid gray;box-sizing: border-box;top: 0;bottom: 0;left: 50%;z-index: -1;}#sk-container-id-2 div.sk-parallel-item {display: flex;flex-direction: column;z-index: 1;position: relative;background-color: white;}#sk-container-id-2 div.sk-parallel-item:first-child::after {align-self: flex-end;width: 50%;}#sk-container-id-2 div.sk-parallel-item:last-child::after {align-self: flex-start;width: 50%;}#sk-container-id-2 div.sk-parallel-item:only-child::after {width: 0;}#sk-container-id-2 div.sk-dashed-wrapped {border: 1px dashed gray;margin: 0 0.4em 0.5em 0.4em;box-sizing: border-box;padding-bottom: 0.4em;background-color: white;}#sk-container-id-2 div.sk-label label {font-family: monospace;font-weight: bold;display: inline-block;line-height: 1.2em;}#sk-container-id-2 div.sk-label-container {text-align: center;}#sk-container-id-2 div.sk-container {/* jupyter's `normalize.less` sets `[hidden] { display: none; }` but bootstrap.min.css set `[hidden] { display: none !important; }` so we also need the `!important` here to be able to override the default hidden behavior on the sphinx rendered scikit-learn.org. See: https://github.com/scikit-learn/scikit-learn/issues/21755 */display: inline-block !important;position: relative;}#sk-container-id-2 div.sk-text-repr-fallback {display: none;}</style><div id=\"sk-container-id-2\" class=\"sk-top-container\"><div class=\"sk-text-repr-fallback\"><pre>LGBMRegressor(random_state=12345)</pre><b>In a Jupyter environment, please rerun this cell to show the HTML representation or trust the notebook. <br />On GitHub, the HTML representation is unable to render, please try loading this page with nbviewer.org.</b></div><div class=\"sk-container\" hidden><div class=\"sk-item\"><div class=\"sk-estimator sk-toggleable\"><input class=\"sk-toggleable__control sk-hidden--visually\" id=\"sk-estimator-id-2\" type=\"checkbox\" checked><label for=\"sk-estimator-id-2\" class=\"sk-toggleable__label sk-toggleable__label-arrow\">LGBMRegressor</label><div class=\"sk-toggleable__content\"><pre>LGBMRegressor(random_state=12345)</pre></div></div></div></div></div>"
            ]
          },
          "metadata": {},
          "execution_count": 28
        }
      ],
      "source": [
        "%%time\n",
        "\n",
        "model22 = LGBMRegressor(random_state=RANDOM_STATE)\n",
        "model22.fit(features_train_oe, target_train_oe)"
      ]
    },
    {
      "cell_type": "code",
      "execution_count": 29,
      "metadata": {
        "colab": {
          "base_uri": "https://localhost:8080/"
        },
        "id": "ElGKixiKr61p",
        "outputId": "f203c6cb-7538-4ba1-ff91-4f65ed52be95"
      },
      "outputs": [
        {
          "output_type": "stream",
          "name": "stdout",
          "text": [
            "CPU times: user 592 ms, sys: 2.94 ms, total: 595 ms\n",
            "Wall time: 325 ms\n"
          ]
        }
      ],
      "source": [
        "%%time\n",
        "\n",
        "pred_valid22 = model22.predict(features_valid_oe)"
      ]
    },
    {
      "cell_type": "code",
      "execution_count": 30,
      "metadata": {
        "colab": {
          "base_uri": "https://localhost:8080/"
        },
        "id": "i3DZtMZGr61p",
        "outputId": "500edde8-87e4-4c1a-a17b-6990ef57e711"
      },
      "outputs": [
        {
          "output_type": "stream",
          "name": "stdout",
          "text": [
            "RMSE: 1770.7374370414313\n"
          ]
        }
      ],
      "source": [
        "rsme_lgbmr_oe = mean_squared_error(target_valid_oe, pred_valid22) ** .5\n",
        "\n",
        "print('RMSE:', rsme_lgbmr_oe)"
      ]
    },
    {
      "cell_type": "markdown",
      "metadata": {
        "id": "_Clu2ReLr61q"
      },
      "source": [
        "Обучим третью модель - RandomForestRegressor. На двух выборках - ОНЕ и ОЕ."
      ]
    },
    {
      "cell_type": "code",
      "execution_count": 31,
      "metadata": {
        "colab": {
          "base_uri": "https://localhost:8080/",
          "height": 109
        },
        "id": "4XSfkvCkr61q",
        "outputId": "790fff7d-7f01-4d04-a3ee-713a5a7919d4"
      },
      "outputs": [
        {
          "output_type": "stream",
          "name": "stdout",
          "text": [
            "CPU times: user 6min 8s, sys: 1.67 s, total: 6min 10s\n",
            "Wall time: 6min 12s\n"
          ]
        },
        {
          "output_type": "execute_result",
          "data": {
            "text/plain": [
              "RandomForestRegressor(n_estimators=91, random_state=12345)"
            ],
            "text/html": [
              "<style>#sk-container-id-3 {color: black;background-color: white;}#sk-container-id-3 pre{padding: 0;}#sk-container-id-3 div.sk-toggleable {background-color: white;}#sk-container-id-3 label.sk-toggleable__label {cursor: pointer;display: block;width: 100%;margin-bottom: 0;padding: 0.3em;box-sizing: border-box;text-align: center;}#sk-container-id-3 label.sk-toggleable__label-arrow:before {content: \"▸\";float: left;margin-right: 0.25em;color: #696969;}#sk-container-id-3 label.sk-toggleable__label-arrow:hover:before {color: black;}#sk-container-id-3 div.sk-estimator:hover label.sk-toggleable__label-arrow:before {color: black;}#sk-container-id-3 div.sk-toggleable__content {max-height: 0;max-width: 0;overflow: hidden;text-align: left;background-color: #f0f8ff;}#sk-container-id-3 div.sk-toggleable__content pre {margin: 0.2em;color: black;border-radius: 0.25em;background-color: #f0f8ff;}#sk-container-id-3 input.sk-toggleable__control:checked~div.sk-toggleable__content {max-height: 200px;max-width: 100%;overflow: auto;}#sk-container-id-3 input.sk-toggleable__control:checked~label.sk-toggleable__label-arrow:before {content: \"▾\";}#sk-container-id-3 div.sk-estimator input.sk-toggleable__control:checked~label.sk-toggleable__label {background-color: #d4ebff;}#sk-container-id-3 div.sk-label input.sk-toggleable__control:checked~label.sk-toggleable__label {background-color: #d4ebff;}#sk-container-id-3 input.sk-hidden--visually {border: 0;clip: rect(1px 1px 1px 1px);clip: rect(1px, 1px, 1px, 1px);height: 1px;margin: -1px;overflow: hidden;padding: 0;position: absolute;width: 1px;}#sk-container-id-3 div.sk-estimator {font-family: monospace;background-color: #f0f8ff;border: 1px dotted black;border-radius: 0.25em;box-sizing: border-box;margin-bottom: 0.5em;}#sk-container-id-3 div.sk-estimator:hover {background-color: #d4ebff;}#sk-container-id-3 div.sk-parallel-item::after {content: \"\";width: 100%;border-bottom: 1px solid gray;flex-grow: 1;}#sk-container-id-3 div.sk-label:hover label.sk-toggleable__label {background-color: #d4ebff;}#sk-container-id-3 div.sk-serial::before {content: \"\";position: absolute;border-left: 1px solid gray;box-sizing: border-box;top: 0;bottom: 0;left: 50%;z-index: 0;}#sk-container-id-3 div.sk-serial {display: flex;flex-direction: column;align-items: center;background-color: white;padding-right: 0.2em;padding-left: 0.2em;position: relative;}#sk-container-id-3 div.sk-item {position: relative;z-index: 1;}#sk-container-id-3 div.sk-parallel {display: flex;align-items: stretch;justify-content: center;background-color: white;position: relative;}#sk-container-id-3 div.sk-item::before, #sk-container-id-3 div.sk-parallel-item::before {content: \"\";position: absolute;border-left: 1px solid gray;box-sizing: border-box;top: 0;bottom: 0;left: 50%;z-index: -1;}#sk-container-id-3 div.sk-parallel-item {display: flex;flex-direction: column;z-index: 1;position: relative;background-color: white;}#sk-container-id-3 div.sk-parallel-item:first-child::after {align-self: flex-end;width: 50%;}#sk-container-id-3 div.sk-parallel-item:last-child::after {align-self: flex-start;width: 50%;}#sk-container-id-3 div.sk-parallel-item:only-child::after {width: 0;}#sk-container-id-3 div.sk-dashed-wrapped {border: 1px dashed gray;margin: 0 0.4em 0.5em 0.4em;box-sizing: border-box;padding-bottom: 0.4em;background-color: white;}#sk-container-id-3 div.sk-label label {font-family: monospace;font-weight: bold;display: inline-block;line-height: 1.2em;}#sk-container-id-3 div.sk-label-container {text-align: center;}#sk-container-id-3 div.sk-container {/* jupyter's `normalize.less` sets `[hidden] { display: none; }` but bootstrap.min.css set `[hidden] { display: none !important; }` so we also need the `!important` here to be able to override the default hidden behavior on the sphinx rendered scikit-learn.org. See: https://github.com/scikit-learn/scikit-learn/issues/21755 */display: inline-block !important;position: relative;}#sk-container-id-3 div.sk-text-repr-fallback {display: none;}</style><div id=\"sk-container-id-3\" class=\"sk-top-container\"><div class=\"sk-text-repr-fallback\"><pre>RandomForestRegressor(n_estimators=91, random_state=12345)</pre><b>In a Jupyter environment, please rerun this cell to show the HTML representation or trust the notebook. <br />On GitHub, the HTML representation is unable to render, please try loading this page with nbviewer.org.</b></div><div class=\"sk-container\" hidden><div class=\"sk-item\"><div class=\"sk-estimator sk-toggleable\"><input class=\"sk-toggleable__control sk-hidden--visually\" id=\"sk-estimator-id-3\" type=\"checkbox\" checked><label for=\"sk-estimator-id-3\" class=\"sk-toggleable__label sk-toggleable__label-arrow\">RandomForestRegressor</label><div class=\"sk-toggleable__content\"><pre>RandomForestRegressor(n_estimators=91, random_state=12345)</pre></div></div></div></div></div>"
            ]
          },
          "metadata": {},
          "execution_count": 31
        }
      ],
      "source": [
        "%%time\n",
        "\n",
        "model3 = RandomForestRegressor(random_state=RANDOM_STATE,n_estimators = 91, criterion = \"squared_error\")\n",
        "model3.fit(features_train_ohe, target_train_ohe)"
      ]
    },
    {
      "cell_type": "code",
      "execution_count": 32,
      "metadata": {
        "colab": {
          "base_uri": "https://localhost:8080/"
        },
        "id": "QNmEsiv_r61r",
        "outputId": "34124f09-fdc7-401a-8023-bad818cc2462"
      },
      "outputs": [
        {
          "output_type": "stream",
          "name": "stdout",
          "text": [
            "CPU times: user 3.36 s, sys: 64.8 ms, total: 3.42 s\n",
            "Wall time: 3.47 s\n"
          ]
        }
      ],
      "source": [
        "%%time\n",
        "\n",
        "pred_valid3 = model3.predict(features_valid_ohe)"
      ]
    },
    {
      "cell_type": "code",
      "execution_count": 33,
      "metadata": {
        "colab": {
          "base_uri": "https://localhost:8080/"
        },
        "id": "vvpNd59Gr61r",
        "outputId": "e7e283f2-4f1a-4168-9517-9d4371c4ff5f"
      },
      "outputs": [
        {
          "output_type": "stream",
          "name": "stdout",
          "text": [
            "RMSE: 1585.5081911596142\n"
          ]
        }
      ],
      "source": [
        "rsme_rf_ohe = mean_squared_error(target_valid_ohe, pred_valid3) ** .5\n",
        "\n",
        "print('RMSE:', rsme_rf_ohe)"
      ]
    },
    {
      "cell_type": "code",
      "execution_count": 34,
      "metadata": {
        "colab": {
          "base_uri": "https://localhost:8080/",
          "height": 109
        },
        "id": "4keOknlEr61s",
        "outputId": "f864b7ca-d729-4572-f048-a880fda7a364"
      },
      "outputs": [
        {
          "output_type": "stream",
          "name": "stdout",
          "text": [
            "CPU times: user 49.7 s, sys: 1.33 s, total: 51 s\n",
            "Wall time: 51 s\n"
          ]
        },
        {
          "output_type": "execute_result",
          "data": {
            "text/plain": [
              "RandomForestRegressor(n_estimators=91, random_state=12345)"
            ],
            "text/html": [
              "<style>#sk-container-id-4 {color: black;background-color: white;}#sk-container-id-4 pre{padding: 0;}#sk-container-id-4 div.sk-toggleable {background-color: white;}#sk-container-id-4 label.sk-toggleable__label {cursor: pointer;display: block;width: 100%;margin-bottom: 0;padding: 0.3em;box-sizing: border-box;text-align: center;}#sk-container-id-4 label.sk-toggleable__label-arrow:before {content: \"▸\";float: left;margin-right: 0.25em;color: #696969;}#sk-container-id-4 label.sk-toggleable__label-arrow:hover:before {color: black;}#sk-container-id-4 div.sk-estimator:hover label.sk-toggleable__label-arrow:before {color: black;}#sk-container-id-4 div.sk-toggleable__content {max-height: 0;max-width: 0;overflow: hidden;text-align: left;background-color: #f0f8ff;}#sk-container-id-4 div.sk-toggleable__content pre {margin: 0.2em;color: black;border-radius: 0.25em;background-color: #f0f8ff;}#sk-container-id-4 input.sk-toggleable__control:checked~div.sk-toggleable__content {max-height: 200px;max-width: 100%;overflow: auto;}#sk-container-id-4 input.sk-toggleable__control:checked~label.sk-toggleable__label-arrow:before {content: \"▾\";}#sk-container-id-4 div.sk-estimator input.sk-toggleable__control:checked~label.sk-toggleable__label {background-color: #d4ebff;}#sk-container-id-4 div.sk-label input.sk-toggleable__control:checked~label.sk-toggleable__label {background-color: #d4ebff;}#sk-container-id-4 input.sk-hidden--visually {border: 0;clip: rect(1px 1px 1px 1px);clip: rect(1px, 1px, 1px, 1px);height: 1px;margin: -1px;overflow: hidden;padding: 0;position: absolute;width: 1px;}#sk-container-id-4 div.sk-estimator {font-family: monospace;background-color: #f0f8ff;border: 1px dotted black;border-radius: 0.25em;box-sizing: border-box;margin-bottom: 0.5em;}#sk-container-id-4 div.sk-estimator:hover {background-color: #d4ebff;}#sk-container-id-4 div.sk-parallel-item::after {content: \"\";width: 100%;border-bottom: 1px solid gray;flex-grow: 1;}#sk-container-id-4 div.sk-label:hover label.sk-toggleable__label {background-color: #d4ebff;}#sk-container-id-4 div.sk-serial::before {content: \"\";position: absolute;border-left: 1px solid gray;box-sizing: border-box;top: 0;bottom: 0;left: 50%;z-index: 0;}#sk-container-id-4 div.sk-serial {display: flex;flex-direction: column;align-items: center;background-color: white;padding-right: 0.2em;padding-left: 0.2em;position: relative;}#sk-container-id-4 div.sk-item {position: relative;z-index: 1;}#sk-container-id-4 div.sk-parallel {display: flex;align-items: stretch;justify-content: center;background-color: white;position: relative;}#sk-container-id-4 div.sk-item::before, #sk-container-id-4 div.sk-parallel-item::before {content: \"\";position: absolute;border-left: 1px solid gray;box-sizing: border-box;top: 0;bottom: 0;left: 50%;z-index: -1;}#sk-container-id-4 div.sk-parallel-item {display: flex;flex-direction: column;z-index: 1;position: relative;background-color: white;}#sk-container-id-4 div.sk-parallel-item:first-child::after {align-self: flex-end;width: 50%;}#sk-container-id-4 div.sk-parallel-item:last-child::after {align-self: flex-start;width: 50%;}#sk-container-id-4 div.sk-parallel-item:only-child::after {width: 0;}#sk-container-id-4 div.sk-dashed-wrapped {border: 1px dashed gray;margin: 0 0.4em 0.5em 0.4em;box-sizing: border-box;padding-bottom: 0.4em;background-color: white;}#sk-container-id-4 div.sk-label label {font-family: monospace;font-weight: bold;display: inline-block;line-height: 1.2em;}#sk-container-id-4 div.sk-label-container {text-align: center;}#sk-container-id-4 div.sk-container {/* jupyter's `normalize.less` sets `[hidden] { display: none; }` but bootstrap.min.css set `[hidden] { display: none !important; }` so we also need the `!important` here to be able to override the default hidden behavior on the sphinx rendered scikit-learn.org. See: https://github.com/scikit-learn/scikit-learn/issues/21755 */display: inline-block !important;position: relative;}#sk-container-id-4 div.sk-text-repr-fallback {display: none;}</style><div id=\"sk-container-id-4\" class=\"sk-top-container\"><div class=\"sk-text-repr-fallback\"><pre>RandomForestRegressor(n_estimators=91, random_state=12345)</pre><b>In a Jupyter environment, please rerun this cell to show the HTML representation or trust the notebook. <br />On GitHub, the HTML representation is unable to render, please try loading this page with nbviewer.org.</b></div><div class=\"sk-container\" hidden><div class=\"sk-item\"><div class=\"sk-estimator sk-toggleable\"><input class=\"sk-toggleable__control sk-hidden--visually\" id=\"sk-estimator-id-4\" type=\"checkbox\" checked><label for=\"sk-estimator-id-4\" class=\"sk-toggleable__label sk-toggleable__label-arrow\">RandomForestRegressor</label><div class=\"sk-toggleable__content\"><pre>RandomForestRegressor(n_estimators=91, random_state=12345)</pre></div></div></div></div></div>"
            ]
          },
          "metadata": {},
          "execution_count": 34
        }
      ],
      "source": [
        "%%time\n",
        "\n",
        "model33 = RandomForestRegressor(random_state=RANDOM_STATE,n_estimators = 91, criterion = \"squared_error\")\n",
        "model33.fit(features_train_oe, target_train_oe)"
      ]
    },
    {
      "cell_type": "code",
      "execution_count": 35,
      "metadata": {
        "colab": {
          "base_uri": "https://localhost:8080/"
        },
        "id": "-fjq3ZCir61s",
        "outputId": "d05f8f82-3e55-47b3-bf80-8d59839b181d"
      },
      "outputs": [
        {
          "output_type": "stream",
          "name": "stdout",
          "text": [
            "CPU times: user 2.32 s, sys: 7 ms, total: 2.33 s\n",
            "Wall time: 2.33 s\n"
          ]
        }
      ],
      "source": [
        "%%time\n",
        "\n",
        "pred_valid33 = model33.predict(features_valid_oe)"
      ]
    },
    {
      "cell_type": "code",
      "execution_count": 36,
      "metadata": {
        "colab": {
          "base_uri": "https://localhost:8080/"
        },
        "id": "XmpES4Pir61s",
        "outputId": "887bd9da-a389-4a45-a247-f87e9ef9cf2d"
      },
      "outputs": [
        {
          "output_type": "stream",
          "name": "stdout",
          "text": [
            "RMSE: 1769.7366168034587\n"
          ]
        }
      ],
      "source": [
        "rsme_rf_oe = mean_squared_error(target_valid_oe, pred_valid33) ** .5\n",
        "\n",
        "print('RMSE:', rsme_rf_oe)"
      ]
    },
    {
      "cell_type": "markdown",
      "metadata": {
        "id": "ufkXHSILr61s"
      },
      "source": [
        "**В итоге:**\n",
        "1. Обучили три модели двумя разными способами.\n",
        "2. ОНЕ при любой модели дает лучшие результаты."
      ]
    },
    {
      "cell_type": "markdown",
      "metadata": {
        "id": "V8sGtpW0r61t"
      },
      "source": [
        "## Анализ моделей"
      ]
    },
    {
      "cell_type": "markdown",
      "metadata": {
        "id": "rLkiIkQkr61t"
      },
      "source": [
        "Соберем таблицу по всем необходимым показателям:"
      ]
    },
    {
      "cell_type": "code",
      "execution_count": 37,
      "metadata": {
        "colab": {
          "base_uri": "https://localhost:8080/"
        },
        "id": "s4KoqhJOr61u",
        "outputId": "f3b7ec8e-ed52-4d5b-f66e-c6d9671c8f59"
      },
      "outputs": [
        {
          "output_type": "stream",
          "name": "stdout",
          "text": [
            "                      Модель         RMSE Время обучения Время предсказания\n",
            "0      CatBoostRegressor_OHE  1586.562076         30.6 s             130 ms\n",
            "1      CatBoostRegressor_OHE  1711.599356         24.8 s            59.9 ms\n",
            "2          LGBMRegressor_OHE  1674.066091         29.6 s             825 ms\n",
            "3           LGBMRegressor_OE  1770.737437         4.35 s             448 ms\n",
            "4  RandomForestRegressor_OHE  1585.508191       5min 12s             3.41 s\n",
            "5   RandomForestRegressor_OE  1769.736617         37.3 s             2.05 s\n"
          ]
        }
      ],
      "source": [
        "frame_all = pd.DataFrame({'Модель': ['CatBoostRegressor_OHE', 'CatBoostRegressor_OHE', 'LGBMRegressor_OHE',\n",
        "                          'LGBMRegressor_OE', 'RandomForestRegressor_OHE', 'RandomForestRegressor_OE'],\n",
        "                          'RMSE': [rsme_cat_ohe, rsme_cat_oe, rsme_lgbmr_ohe, rsme_lgbmr_oe, rsme_rf_ohe, rsme_rf_oe],\n",
        "                          'Время обучения' : ['30.6 s', '24.8 s', '29.6 s', '4.35 s', '5min 12s', '37.3 s' ],\n",
        "                          'Время предсказания' : ['130 ms', '59.9 ms', '825 ms', '448 ms', '3.41 s', '2.05 s']})\n",
        "\n",
        "\n",
        "print(frame_all)"
      ]
    },
    {
      "cell_type": "markdown",
      "metadata": {
        "id": "MkLqmbUfr61u"
      },
      "source": [
        "**Итог:**\n",
        "1. Были выбраны 3 модели для обучения - CatBoostRegressor, LGBMRegressor, RandomForestRegressor.\n",
        "2. Для кодирования данных были применены методы ОНЕ(создание признаков 0/1) и ОЕ(переводим категорию в число).\n",
        "3. При обучении все модели показали хороший результат - меньше установленных 2500.\n",
        "4. Самой лучшей моделью считаю CatBoostRegressor с примененным методом кодировки OHE. у нее минимальная RMSE и ниже среднего время обучения и предсказания."
      ]
    },
    {
      "cell_type": "markdown",
      "metadata": {
        "id": "wc6iXgxNr61v"
      },
      "source": [
        "## Тестирование лучшей модели"
      ]
    },
    {
      "cell_type": "markdown",
      "metadata": {
        "id": "RsoTeyKEr61v"
      },
      "source": [
        "Тестируем CatBoostRegressor с примененным методом кодировки OHE:"
      ]
    },
    {
      "cell_type": "code",
      "execution_count": 38,
      "metadata": {
        "colab": {
          "base_uri": "https://localhost:8080/"
        },
        "id": "C8ki-A1wr61v",
        "outputId": "6a1d327c-08da-417e-ec46-a7f504f22180"
      },
      "outputs": [
        {
          "output_type": "stream",
          "name": "stdout",
          "text": [
            "Learning rate set to 0.092833\n",
            "0:\tlearn: 4339.2251273\ttotal: 34.1ms\tremaining: 34s\n",
            "100:\tlearn: 1800.4450983\ttotal: 2.35s\tremaining: 20.9s\n",
            "200:\tlearn: 1706.6166744\ttotal: 4.5s\tremaining: 17.9s\n",
            "300:\tlearn: 1656.8759147\ttotal: 8.18s\tremaining: 19s\n",
            "400:\tlearn: 1624.3703020\ttotal: 10.3s\tremaining: 15.3s\n",
            "500:\tlearn: 1599.6832754\ttotal: 12.3s\tremaining: 12.3s\n",
            "600:\tlearn: 1579.6391258\ttotal: 14.5s\tremaining: 9.6s\n",
            "700:\tlearn: 1564.1934345\ttotal: 16.6s\tremaining: 7.06s\n",
            "800:\tlearn: 1548.8795043\ttotal: 20.2s\tremaining: 5.03s\n",
            "900:\tlearn: 1535.5392961\ttotal: 22.4s\tremaining: 2.46s\n",
            "999:\tlearn: 1523.7887691\ttotal: 24.5s\tremaining: 0us\n",
            "CPU times: user 43.7 s, sys: 1.05 s, total: 44.7 s\n",
            "Wall time: 25.9 s\n"
          ]
        },
        {
          "output_type": "execute_result",
          "data": {
            "text/plain": [
              "<catboost.core.CatBoostRegressor at 0x7aa5e4599720>"
            ]
          },
          "metadata": {},
          "execution_count": 38
        }
      ],
      "source": [
        "%%time\n",
        "\n",
        "model_test = CatBoostRegressor(random_state=RANDOM_STATE, loss_function='RMSE', verbose=100)\n",
        "model_test.fit(features_train_ohe, target_train_ohe)"
      ]
    },
    {
      "cell_type": "code",
      "execution_count": 39,
      "metadata": {
        "colab": {
          "base_uri": "https://localhost:8080/"
        },
        "id": "eVwYkk56r61v",
        "outputId": "566e32ad-c476-49ab-faa0-856ea5fa4430"
      },
      "outputs": [
        {
          "output_type": "stream",
          "name": "stdout",
          "text": [
            "CPU times: user 520 ms, sys: 28.9 ms, total: 549 ms\n",
            "Wall time: 390 ms\n"
          ]
        }
      ],
      "source": [
        "%%time\n",
        "\n",
        "pred_test = model_test.predict(features_test_ohe)"
      ]
    },
    {
      "cell_type": "code",
      "execution_count": 40,
      "metadata": {
        "colab": {
          "base_uri": "https://localhost:8080/"
        },
        "id": "nHElMAVGr61v",
        "outputId": "a3e284e3-3d25-492c-b95f-c9fbddfab14b"
      },
      "outputs": [
        {
          "output_type": "stream",
          "name": "stdout",
          "text": [
            "RMSE на тестовой выборке: 1589.5692116053713\n"
          ]
        }
      ],
      "source": [
        "rsme_cat_ohe = mean_squared_error(target_test_ohe, pred_test) ** .5\n",
        "\n",
        "print('RMSE на тестовой выборке:', rsme_cat_ohe)"
      ]
    },
    {
      "cell_type": "markdown",
      "metadata": {
        "id": "itszhL9Cr61w"
      },
      "source": [
        "RMSE меньше 2500 и значит ее можно презентовать заказчику."
      ]
    },
    {
      "cell_type": "markdown",
      "metadata": {
        "id": "kgASUiR-r61w"
      },
      "source": [
        "## Выводы:\n",
        "1. Были получены данные на основании которых нужно построить модель с предсказанием рыночной стоимости автомобиля клиентов. Перед работой данные пришлось скорректировать: заполнить пропуски, удалить вбросы.\n",
        "2. После проведена оценка корреляции. Все стандартно - стоимость зависит от мощности и \"возраста\" машины.\n",
        "3. Подобраны модели бустинга для обучения CatBoostRegressor, LGBMRegressor (как указано в задании) и выбарана простая модель RandomForestRegressor (выбрала основываясь на предыдущем положительном опыте работы с ней).\n",
        "4. Для обучения данные категориальные данные были закодированы методами ОНЕ и ОЕ.\n",
        "5. По итогам обучения все модели показали хороший результат. Лучше всего справилась модель CatBoostRegressor с примененным методом кодировки OHE. Ее взяли для тестирования.\n",
        "6. При тестировании модели получили: RMSE = 1589 при пороге 2500, скорость обучения = 25 секунд, скорость предсказаний = 110 милисекундам.\n",
        "7. Модель подходит заказчику по всем критериям."
      ]
    }
  ],
  "metadata": {
    "ExecuteTimeLog": [
      {
        "duration": 1548,
        "start_time": "2023-03-29T08:40:47.185Z"
      },
      {
        "duration": 101,
        "start_time": "2023-03-29T08:40:49.688Z"
      },
      {
        "duration": 1124,
        "start_time": "2023-03-29T08:41:05.764Z"
      },
      {
        "duration": 887,
        "start_time": "2023-03-29T08:41:14.706Z"
      },
      {
        "duration": 129,
        "start_time": "2023-03-29T08:57:23.621Z"
      },
      {
        "duration": 119,
        "start_time": "2023-03-29T08:57:48.093Z"
      },
      {
        "duration": 12,
        "start_time": "2023-03-29T10:17:31.149Z"
      },
      {
        "duration": 10,
        "start_time": "2023-03-29T10:18:10.999Z"
      },
      {
        "duration": 3,
        "start_time": "2023-03-29T10:18:22.030Z"
      },
      {
        "duration": 819,
        "start_time": "2023-03-29T10:18:24.749Z"
      },
      {
        "duration": 10,
        "start_time": "2023-03-29T10:18:29.798Z"
      },
      {
        "duration": 90,
        "start_time": "2023-03-29T10:18:34.891Z"
      },
      {
        "duration": 498,
        "start_time": "2023-03-29T11:10:03.719Z"
      },
      {
        "duration": 325,
        "start_time": "2023-03-29T11:12:44.024Z"
      },
      {
        "duration": 28,
        "start_time": "2023-03-29T11:15:46.310Z"
      },
      {
        "duration": 183,
        "start_time": "2023-03-29T11:15:54.944Z"
      },
      {
        "duration": 9,
        "start_time": "2023-03-29T11:42:49.259Z"
      },
      {
        "duration": 12,
        "start_time": "2023-03-29T11:43:08.894Z"
      },
      {
        "duration": 9,
        "start_time": "2023-03-29T11:43:17.358Z"
      },
      {
        "duration": 10,
        "start_time": "2023-03-29T11:43:40.966Z"
      },
      {
        "duration": 10,
        "start_time": "2023-03-29T11:44:45.710Z"
      },
      {
        "duration": 9,
        "start_time": "2023-03-29T11:44:53.455Z"
      },
      {
        "duration": 882,
        "start_time": "2023-03-29T11:53:51.869Z"
      },
      {
        "duration": 39,
        "start_time": "2023-03-29T12:06:49.172Z"
      },
      {
        "duration": 39,
        "start_time": "2023-03-29T12:06:56.063Z"
      },
      {
        "duration": 36,
        "start_time": "2023-03-29T12:07:10.256Z"
      },
      {
        "duration": 37,
        "start_time": "2023-03-29T12:08:15.092Z"
      },
      {
        "duration": 39,
        "start_time": "2023-03-29T12:08:44.414Z"
      },
      {
        "duration": 1318,
        "start_time": "2023-03-29T12:08:54.703Z"
      },
      {
        "duration": 9,
        "start_time": "2023-03-29T12:09:14.742Z"
      },
      {
        "duration": 64,
        "start_time": "2023-03-29T12:36:33.707Z"
      },
      {
        "duration": 185,
        "start_time": "2023-03-29T12:36:44.861Z"
      },
      {
        "duration": 9,
        "start_time": "2023-03-29T12:37:06.757Z"
      },
      {
        "duration": 9,
        "start_time": "2023-03-29T12:37:09.751Z"
      },
      {
        "duration": 119,
        "start_time": "2023-03-29T12:37:41.167Z"
      },
      {
        "duration": 72,
        "start_time": "2023-03-29T12:38:09.612Z"
      },
      {
        "duration": 150,
        "start_time": "2023-03-29T12:38:21.487Z"
      },
      {
        "duration": 152,
        "start_time": "2023-03-29T12:38:56.933Z"
      },
      {
        "duration": 38,
        "start_time": "2023-03-29T12:50:54.356Z"
      },
      {
        "duration": 228,
        "start_time": "2023-03-29T13:18:16.867Z"
      },
      {
        "duration": 59,
        "start_time": "2023-03-29T13:21:24.463Z"
      },
      {
        "duration": 496,
        "start_time": "2023-03-29T13:22:09.286Z"
      },
      {
        "duration": 100,
        "start_time": "2023-03-29T13:22:14.241Z"
      },
      {
        "duration": 231,
        "start_time": "2023-03-29T13:22:17.730Z"
      },
      {
        "duration": 339,
        "start_time": "2023-03-29T13:32:12.803Z"
      },
      {
        "duration": 324,
        "start_time": "2023-03-29T13:33:18.595Z"
      },
      {
        "duration": 919,
        "start_time": "2023-03-29T13:33:57.834Z"
      },
      {
        "duration": 294,
        "start_time": "2023-03-29T13:34:58.267Z"
      },
      {
        "duration": 317,
        "start_time": "2023-03-29T13:35:22.747Z"
      },
      {
        "duration": 852,
        "start_time": "2023-03-29T13:35:46.409Z"
      },
      {
        "duration": 67,
        "start_time": "2023-03-29T13:35:58.444Z"
      },
      {
        "duration": 302,
        "start_time": "2023-03-29T13:36:12.728Z"
      },
      {
        "duration": 314,
        "start_time": "2023-03-29T13:38:33.655Z"
      },
      {
        "duration": 334,
        "start_time": "2023-03-29T13:38:59.344Z"
      },
      {
        "duration": 343,
        "start_time": "2023-03-29T13:39:06.078Z"
      },
      {
        "duration": 231,
        "start_time": "2023-03-29T13:39:28.839Z"
      },
      {
        "duration": 224,
        "start_time": "2023-03-29T13:39:42.083Z"
      },
      {
        "duration": 181,
        "start_time": "2023-03-29T13:40:09.130Z"
      },
      {
        "duration": 127,
        "start_time": "2023-03-29T13:40:21.828Z"
      },
      {
        "duration": 1469,
        "start_time": "2023-03-29T13:41:26.845Z"
      },
      {
        "duration": 912,
        "start_time": "2023-03-29T13:41:28.316Z"
      },
      {
        "duration": 155,
        "start_time": "2023-03-29T13:41:29.230Z"
      },
      {
        "duration": 145,
        "start_time": "2023-03-29T13:41:29.388Z"
      },
      {
        "duration": 83,
        "start_time": "2023-03-29T13:41:29.535Z"
      },
      {
        "duration": 278,
        "start_time": "2023-03-29T13:41:29.620Z"
      },
      {
        "duration": 166,
        "start_time": "2023-03-29T13:41:29.900Z"
      },
      {
        "duration": 534,
        "start_time": "2023-03-29T13:41:30.067Z"
      },
      {
        "duration": 122,
        "start_time": "2023-03-29T13:41:30.603Z"
      },
      {
        "duration": 239,
        "start_time": "2023-03-29T13:41:30.727Z"
      },
      {
        "duration": 5,
        "start_time": "2023-03-29T13:41:30.968Z"
      },
      {
        "duration": 0,
        "start_time": "2023-03-29T13:41:30.975Z"
      },
      {
        "duration": 0,
        "start_time": "2023-03-29T13:41:30.976Z"
      },
      {
        "duration": 121,
        "start_time": "2023-03-29T13:42:16.825Z"
      },
      {
        "duration": 77,
        "start_time": "2023-03-29T13:43:19.607Z"
      },
      {
        "duration": 360,
        "start_time": "2023-03-29T13:43:52.076Z"
      },
      {
        "duration": 433,
        "start_time": "2023-03-29T13:44:10.882Z"
      },
      {
        "duration": 119,
        "start_time": "2023-03-29T13:44:15.270Z"
      },
      {
        "duration": 257,
        "start_time": "2023-03-29T13:44:32.297Z"
      },
      {
        "duration": 207,
        "start_time": "2023-03-29T13:45:29.361Z"
      },
      {
        "duration": 261,
        "start_time": "2023-03-29T13:46:17.377Z"
      },
      {
        "duration": 107,
        "start_time": "2023-03-29T13:46:44.312Z"
      },
      {
        "duration": 187,
        "start_time": "2023-03-29T13:46:55.714Z"
      },
      {
        "duration": 530,
        "start_time": "2023-03-29T13:48:04.537Z"
      },
      {
        "duration": 517,
        "start_time": "2023-03-29T13:49:24.943Z"
      },
      {
        "duration": 571,
        "start_time": "2023-03-29T13:49:32.594Z"
      },
      {
        "duration": 259,
        "start_time": "2023-03-29T13:51:27.895Z"
      },
      {
        "duration": 306,
        "start_time": "2023-03-29T13:51:38.155Z"
      },
      {
        "duration": 450,
        "start_time": "2023-03-29T14:05:32.360Z"
      },
      {
        "duration": 49207,
        "start_time": "2023-03-29T14:10:08.675Z"
      },
      {
        "duration": 1620,
        "start_time": "2023-03-29T14:16:37.032Z"
      },
      {
        "duration": 1214,
        "start_time": "2023-03-29T14:16:38.654Z"
      },
      {
        "duration": 131,
        "start_time": "2023-03-29T14:16:39.870Z"
      },
      {
        "duration": 148,
        "start_time": "2023-03-29T14:16:40.003Z"
      },
      {
        "duration": 68,
        "start_time": "2023-03-29T14:16:40.152Z"
      },
      {
        "duration": 380,
        "start_time": "2023-03-29T14:16:40.221Z"
      },
      {
        "duration": 434,
        "start_time": "2023-03-29T14:16:40.602Z"
      },
      {
        "duration": 113,
        "start_time": "2023-03-29T14:16:41.040Z"
      },
      {
        "duration": 126,
        "start_time": "2023-03-29T14:16:41.155Z"
      },
      {
        "duration": 0,
        "start_time": "2023-03-29T14:16:41.283Z"
      },
      {
        "duration": 0,
        "start_time": "2023-03-29T14:16:41.284Z"
      },
      {
        "duration": 0,
        "start_time": "2023-03-29T14:16:41.285Z"
      },
      {
        "duration": 1618,
        "start_time": "2023-03-29T14:17:09.066Z"
      },
      {
        "duration": 4687,
        "start_time": "2023-03-29T14:17:36.655Z"
      },
      {
        "duration": 1691,
        "start_time": "2023-03-29T18:56:07.447Z"
      },
      {
        "duration": 1183,
        "start_time": "2023-03-29T18:56:13.373Z"
      },
      {
        "duration": 144,
        "start_time": "2023-03-29T18:56:22.295Z"
      },
      {
        "duration": 152,
        "start_time": "2023-03-29T18:56:26.394Z"
      },
      {
        "duration": 109,
        "start_time": "2023-03-29T18:57:33.890Z"
      },
      {
        "duration": 70,
        "start_time": "2023-03-29T19:01:38.924Z"
      },
      {
        "duration": 101,
        "start_time": "2023-03-29T19:08:38.004Z"
      },
      {
        "duration": 101,
        "start_time": "2023-03-29T19:08:45.927Z"
      },
      {
        "duration": 72,
        "start_time": "2023-03-29T19:09:52.368Z"
      },
      {
        "duration": 539,
        "start_time": "2023-03-29T19:10:00.088Z"
      },
      {
        "duration": 423,
        "start_time": "2023-03-29T19:10:18.270Z"
      },
      {
        "duration": 415,
        "start_time": "2023-03-29T19:10:34.074Z"
      },
      {
        "duration": 431,
        "start_time": "2023-03-29T19:10:42.370Z"
      },
      {
        "duration": 96,
        "start_time": "2023-03-29T19:15:32.063Z"
      },
      {
        "duration": 421,
        "start_time": "2023-03-29T19:22:25.793Z"
      },
      {
        "duration": 135,
        "start_time": "2023-03-29T19:22:40.561Z"
      },
      {
        "duration": 410,
        "start_time": "2023-03-29T19:22:53.540Z"
      },
      {
        "duration": 914,
        "start_time": "2023-03-29T19:24:17.444Z"
      },
      {
        "duration": 808,
        "start_time": "2023-03-29T19:24:25.579Z"
      },
      {
        "duration": 86,
        "start_time": "2023-03-29T19:25:41.543Z"
      },
      {
        "duration": 17,
        "start_time": "2023-03-29T19:36:14.887Z"
      },
      {
        "duration": 15,
        "start_time": "2023-03-29T19:36:42.506Z"
      },
      {
        "duration": 16,
        "start_time": "2023-03-29T19:36:57.850Z"
      },
      {
        "duration": 137,
        "start_time": "2023-03-29T19:37:23.076Z"
      },
      {
        "duration": 19,
        "start_time": "2023-03-29T19:37:56.263Z"
      },
      {
        "duration": 17,
        "start_time": "2023-03-29T19:41:19.637Z"
      },
      {
        "duration": 18,
        "start_time": "2023-03-29T19:42:24.577Z"
      },
      {
        "duration": 20,
        "start_time": "2023-03-29T19:43:04.244Z"
      },
      {
        "duration": 5,
        "start_time": "2023-03-29T19:45:22.698Z"
      },
      {
        "duration": 4088,
        "start_time": "2023-03-29T19:45:40.732Z"
      },
      {
        "duration": 14802,
        "start_time": "2023-03-29T19:48:16.855Z"
      },
      {
        "duration": 3406,
        "start_time": "2023-03-29T19:48:48.993Z"
      },
      {
        "duration": 39,
        "start_time": "2023-03-29T19:54:56.212Z"
      },
      {
        "duration": 6,
        "start_time": "2023-03-29T19:55:44.995Z"
      },
      {
        "duration": 7,
        "start_time": "2023-03-29T19:56:04.959Z"
      },
      {
        "duration": 9,
        "start_time": "2023-03-29T19:57:46.055Z"
      },
      {
        "duration": 6,
        "start_time": "2023-03-29T20:02:24.355Z"
      },
      {
        "duration": 11,
        "start_time": "2023-03-29T20:02:35.322Z"
      },
      {
        "duration": 8,
        "start_time": "2023-03-29T20:02:52.768Z"
      },
      {
        "duration": 13,
        "start_time": "2023-03-29T20:03:27.479Z"
      },
      {
        "duration": 1527,
        "start_time": "2023-03-29T20:04:49.635Z"
      },
      {
        "duration": 840,
        "start_time": "2023-03-29T20:04:51.164Z"
      },
      {
        "duration": 129,
        "start_time": "2023-03-29T20:04:52.006Z"
      },
      {
        "duration": 123,
        "start_time": "2023-03-29T20:04:52.139Z"
      },
      {
        "duration": 120,
        "start_time": "2023-03-29T20:04:52.264Z"
      },
      {
        "duration": 475,
        "start_time": "2023-03-29T20:04:52.386Z"
      },
      {
        "duration": 1054,
        "start_time": "2023-03-29T20:04:52.862Z"
      },
      {
        "duration": 107,
        "start_time": "2023-03-29T20:04:53.917Z"
      },
      {
        "duration": 3350,
        "start_time": "2023-03-29T20:04:54.026Z"
      },
      {
        "duration": 164,
        "start_time": "2023-03-29T20:04:57.378Z"
      },
      {
        "duration": 126,
        "start_time": "2023-03-29T20:04:57.543Z"
      },
      {
        "duration": 0,
        "start_time": "2023-03-29T20:04:57.670Z"
      },
      {
        "duration": 0,
        "start_time": "2023-03-29T20:04:57.671Z"
      },
      {
        "duration": 0,
        "start_time": "2023-03-29T20:04:57.672Z"
      },
      {
        "duration": 166,
        "start_time": "2023-03-29T20:05:18.474Z"
      },
      {
        "duration": 3316,
        "start_time": "2023-03-29T20:06:03.366Z"
      },
      {
        "duration": 158,
        "start_time": "2023-03-29T20:06:39.094Z"
      },
      {
        "duration": 1360,
        "start_time": "2023-03-29T20:07:11.420Z"
      },
      {
        "duration": 1403,
        "start_time": "2023-03-29T20:07:32.217Z"
      },
      {
        "duration": 818,
        "start_time": "2023-03-29T20:07:33.621Z"
      },
      {
        "duration": 116,
        "start_time": "2023-03-29T20:07:34.441Z"
      },
      {
        "duration": 107,
        "start_time": "2023-03-29T20:07:34.558Z"
      },
      {
        "duration": 116,
        "start_time": "2023-03-29T20:07:34.667Z"
      },
      {
        "duration": 483,
        "start_time": "2023-03-29T20:07:34.785Z"
      },
      {
        "duration": 1031,
        "start_time": "2023-03-29T20:07:35.270Z"
      },
      {
        "duration": 106,
        "start_time": "2023-03-29T20:07:36.303Z"
      },
      {
        "duration": 2709,
        "start_time": "2023-03-29T20:07:36.411Z"
      },
      {
        "duration": 177,
        "start_time": "2023-03-29T20:07:39.121Z"
      },
      {
        "duration": 115,
        "start_time": "2023-03-29T20:07:39.300Z"
      },
      {
        "duration": 0,
        "start_time": "2023-03-29T20:07:39.417Z"
      },
      {
        "duration": 0,
        "start_time": "2023-03-29T20:07:39.418Z"
      },
      {
        "duration": 0,
        "start_time": "2023-03-29T20:07:39.423Z"
      },
      {
        "duration": 720,
        "start_time": "2023-03-29T20:10:26.527Z"
      },
      {
        "duration": 777,
        "start_time": "2023-03-29T20:11:40.089Z"
      },
      {
        "duration": 620,
        "start_time": "2023-03-29T20:12:17.617Z"
      },
      {
        "duration": 301,
        "start_time": "2023-03-29T20:12:33.197Z"
      },
      {
        "duration": 217,
        "start_time": "2023-03-29T20:13:01.448Z"
      },
      {
        "duration": 114,
        "start_time": "2023-03-29T20:15:18.079Z"
      },
      {
        "duration": 88,
        "start_time": "2023-03-29T20:15:37.043Z"
      },
      {
        "duration": 80,
        "start_time": "2023-03-29T20:18:16.238Z"
      },
      {
        "duration": 72,
        "start_time": "2023-03-29T20:18:33.451Z"
      },
      {
        "duration": 222,
        "start_time": "2023-03-29T20:18:48.080Z"
      },
      {
        "duration": 261,
        "start_time": "2023-03-29T20:19:05.021Z"
      },
      {
        "duration": 287,
        "start_time": "2023-03-29T20:19:30.439Z"
      },
      {
        "duration": 284,
        "start_time": "2023-03-29T20:20:01.939Z"
      },
      {
        "duration": 236,
        "start_time": "2023-03-29T20:20:15.131Z"
      },
      {
        "duration": 363,
        "start_time": "2023-03-29T20:20:41.380Z"
      },
      {
        "duration": 291,
        "start_time": "2023-03-29T20:22:56.861Z"
      },
      {
        "duration": 241,
        "start_time": "2023-03-29T20:25:48.205Z"
      },
      {
        "duration": 233,
        "start_time": "2023-03-29T20:26:03.594Z"
      },
      {
        "duration": 193,
        "start_time": "2023-03-29T20:29:19.383Z"
      },
      {
        "duration": 25,
        "start_time": "2023-03-29T20:41:23.293Z"
      },
      {
        "duration": 19,
        "start_time": "2023-03-29T20:41:30.517Z"
      },
      {
        "duration": 13,
        "start_time": "2023-03-29T20:41:41.925Z"
      },
      {
        "duration": 124,
        "start_time": "2023-03-29T20:42:17.213Z"
      },
      {
        "duration": 1407,
        "start_time": "2023-03-29T20:44:09.779Z"
      },
      {
        "duration": 887,
        "start_time": "2023-03-29T20:44:11.188Z"
      },
      {
        "duration": 132,
        "start_time": "2023-03-29T20:44:12.077Z"
      },
      {
        "duration": 116,
        "start_time": "2023-03-29T20:44:12.211Z"
      },
      {
        "duration": 113,
        "start_time": "2023-03-29T20:44:12.329Z"
      },
      {
        "duration": 471,
        "start_time": "2023-03-29T20:44:12.443Z"
      },
      {
        "duration": 1040,
        "start_time": "2023-03-29T20:44:12.916Z"
      },
      {
        "duration": 101,
        "start_time": "2023-03-29T20:44:13.958Z"
      },
      {
        "duration": 2678,
        "start_time": "2023-03-29T20:44:14.061Z"
      },
      {
        "duration": 176,
        "start_time": "2023-03-29T20:44:16.742Z"
      },
      {
        "duration": 262,
        "start_time": "2023-03-29T20:44:16.919Z"
      },
      {
        "duration": 221,
        "start_time": "2023-03-29T20:44:17.183Z"
      },
      {
        "duration": 41,
        "start_time": "2023-03-29T20:44:17.405Z"
      },
      {
        "duration": 110,
        "start_time": "2023-03-29T20:44:17.448Z"
      },
      {
        "duration": 4,
        "start_time": "2023-03-29T20:44:17.559Z"
      },
      {
        "duration": 1667,
        "start_time": "2023-03-30T06:18:48.431Z"
      },
      {
        "duration": 1143,
        "start_time": "2023-03-30T06:18:51.520Z"
      },
      {
        "duration": 114,
        "start_time": "2023-03-30T06:18:54.992Z"
      },
      {
        "duration": 114,
        "start_time": "2023-03-30T06:18:58.362Z"
      },
      {
        "duration": 1388,
        "start_time": "2023-03-30T06:21:55.348Z"
      },
      {
        "duration": 794,
        "start_time": "2023-03-30T06:21:56.739Z"
      },
      {
        "duration": 124,
        "start_time": "2023-03-30T06:21:57.535Z"
      },
      {
        "duration": 117,
        "start_time": "2023-03-30T06:21:57.662Z"
      },
      {
        "duration": 115,
        "start_time": "2023-03-30T06:21:57.781Z"
      },
      {
        "duration": 446,
        "start_time": "2023-03-30T06:21:57.897Z"
      },
      {
        "duration": 996,
        "start_time": "2023-03-30T06:21:58.345Z"
      },
      {
        "duration": 103,
        "start_time": "2023-03-30T06:21:59.343Z"
      },
      {
        "duration": 2808,
        "start_time": "2023-03-30T06:21:59.448Z"
      },
      {
        "duration": 171,
        "start_time": "2023-03-30T06:22:02.259Z"
      },
      {
        "duration": 263,
        "start_time": "2023-03-30T06:22:02.432Z"
      },
      {
        "duration": 201,
        "start_time": "2023-03-30T06:22:02.697Z"
      },
      {
        "duration": 34,
        "start_time": "2023-03-30T06:22:02.899Z"
      },
      {
        "duration": 105,
        "start_time": "2023-03-30T06:22:02.934Z"
      },
      {
        "duration": 771,
        "start_time": "2023-03-30T06:22:03.040Z"
      },
      {
        "duration": 1472,
        "start_time": "2023-03-30T06:33:04.546Z"
      },
      {
        "duration": 1444,
        "start_time": "2023-03-30T06:39:24.512Z"
      },
      {
        "duration": 820,
        "start_time": "2023-03-30T06:39:25.958Z"
      },
      {
        "duration": 114,
        "start_time": "2023-03-30T06:39:26.780Z"
      },
      {
        "duration": 113,
        "start_time": "2023-03-30T06:39:26.896Z"
      },
      {
        "duration": 98,
        "start_time": "2023-03-30T06:39:27.012Z"
      },
      {
        "duration": 475,
        "start_time": "2023-03-30T06:39:27.112Z"
      },
      {
        "duration": 993,
        "start_time": "2023-03-30T06:39:27.589Z"
      },
      {
        "duration": 106,
        "start_time": "2023-03-30T06:39:28.583Z"
      },
      {
        "duration": 2881,
        "start_time": "2023-03-30T06:39:28.691Z"
      },
      {
        "duration": 167,
        "start_time": "2023-03-30T06:39:31.573Z"
      },
      {
        "duration": 265,
        "start_time": "2023-03-30T06:39:31.742Z"
      },
      {
        "duration": 217,
        "start_time": "2023-03-30T06:39:32.009Z"
      },
      {
        "duration": 33,
        "start_time": "2023-03-30T06:39:32.227Z"
      },
      {
        "duration": 122,
        "start_time": "2023-03-30T06:39:32.263Z"
      },
      {
        "duration": 1340,
        "start_time": "2023-03-30T06:39:32.387Z"
      },
      {
        "duration": 101,
        "start_time": "2023-03-30T06:43:29.211Z"
      },
      {
        "duration": 1165,
        "start_time": "2023-03-30T06:43:33.868Z"
      },
      {
        "duration": 19,
        "start_time": "2023-03-30T06:46:40.693Z"
      },
      {
        "duration": 100,
        "start_time": "2023-03-30T06:46:58.017Z"
      },
      {
        "duration": 1158,
        "start_time": "2023-03-30T06:47:03.296Z"
      },
      {
        "duration": 1458,
        "start_time": "2023-03-30T06:47:51.595Z"
      },
      {
        "duration": 823,
        "start_time": "2023-03-30T06:47:53.054Z"
      },
      {
        "duration": 120,
        "start_time": "2023-03-30T06:47:53.878Z"
      },
      {
        "duration": 118,
        "start_time": "2023-03-30T06:47:54.000Z"
      },
      {
        "duration": 116,
        "start_time": "2023-03-30T06:47:54.124Z"
      },
      {
        "duration": 466,
        "start_time": "2023-03-30T06:47:54.243Z"
      },
      {
        "duration": 999,
        "start_time": "2023-03-30T06:47:54.711Z"
      },
      {
        "duration": 94,
        "start_time": "2023-03-30T06:47:55.712Z"
      },
      {
        "duration": 2708,
        "start_time": "2023-03-30T06:47:55.808Z"
      },
      {
        "duration": 194,
        "start_time": "2023-03-30T06:47:58.518Z"
      },
      {
        "duration": 288,
        "start_time": "2023-03-30T06:47:58.714Z"
      },
      {
        "duration": 219,
        "start_time": "2023-03-30T06:47:59.004Z"
      },
      {
        "duration": 33,
        "start_time": "2023-03-30T06:47:59.225Z"
      },
      {
        "duration": 108,
        "start_time": "2023-03-30T06:47:59.260Z"
      },
      {
        "duration": 1406,
        "start_time": "2023-03-30T06:47:59.370Z"
      },
      {
        "duration": 87,
        "start_time": "2023-03-30T06:53:27.428Z"
      },
      {
        "duration": 91,
        "start_time": "2023-03-30T06:53:48.731Z"
      },
      {
        "duration": 88,
        "start_time": "2023-03-30T06:53:59.044Z"
      },
      {
        "duration": 110,
        "start_time": "2023-03-30T06:54:03.388Z"
      },
      {
        "duration": 92,
        "start_time": "2023-03-30T06:54:07.010Z"
      },
      {
        "duration": 1225,
        "start_time": "2023-03-30T06:54:09.509Z"
      },
      {
        "duration": 1236,
        "start_time": "2023-03-30T06:54:16.383Z"
      },
      {
        "duration": 1330,
        "start_time": "2023-03-30T06:55:16.933Z"
      },
      {
        "duration": 1208,
        "start_time": "2023-03-30T06:56:03.216Z"
      },
      {
        "duration": 139,
        "start_time": "2023-03-30T07:10:07.907Z"
      },
      {
        "duration": 1544,
        "start_time": "2023-03-30T07:10:15.540Z"
      },
      {
        "duration": 1079,
        "start_time": "2023-03-30T07:10:17.086Z"
      },
      {
        "duration": 109,
        "start_time": "2023-03-30T07:10:18.166Z"
      },
      {
        "duration": 105,
        "start_time": "2023-03-30T07:10:18.277Z"
      },
      {
        "duration": 99,
        "start_time": "2023-03-30T07:10:18.384Z"
      },
      {
        "duration": 473,
        "start_time": "2023-03-30T07:10:18.485Z"
      },
      {
        "duration": 1020,
        "start_time": "2023-03-30T07:10:18.959Z"
      },
      {
        "duration": 107,
        "start_time": "2023-03-30T07:10:19.981Z"
      },
      {
        "duration": 2746,
        "start_time": "2023-03-30T07:10:20.090Z"
      },
      {
        "duration": 171,
        "start_time": "2023-03-30T07:10:22.838Z"
      },
      {
        "duration": 282,
        "start_time": "2023-03-30T07:10:23.010Z"
      },
      {
        "duration": 218,
        "start_time": "2023-03-30T07:10:23.293Z"
      },
      {
        "duration": 32,
        "start_time": "2023-03-30T07:10:23.513Z"
      },
      {
        "duration": 104,
        "start_time": "2023-03-30T07:10:23.548Z"
      },
      {
        "duration": 1484,
        "start_time": "2023-03-30T07:10:52.760Z"
      },
      {
        "duration": 1135,
        "start_time": "2023-03-30T07:10:54.246Z"
      },
      {
        "duration": 108,
        "start_time": "2023-03-30T07:10:55.383Z"
      },
      {
        "duration": 100,
        "start_time": "2023-03-30T07:10:55.492Z"
      },
      {
        "duration": 99,
        "start_time": "2023-03-30T07:10:55.595Z"
      },
      {
        "duration": 470,
        "start_time": "2023-03-30T07:10:55.696Z"
      },
      {
        "duration": 1000,
        "start_time": "2023-03-30T07:10:56.168Z"
      },
      {
        "duration": 109,
        "start_time": "2023-03-30T07:10:57.170Z"
      },
      {
        "duration": 2695,
        "start_time": "2023-03-30T07:10:57.281Z"
      },
      {
        "duration": 176,
        "start_time": "2023-03-30T07:10:59.977Z"
      },
      {
        "duration": 372,
        "start_time": "2023-03-30T07:11:00.155Z"
      },
      {
        "duration": 239,
        "start_time": "2023-03-30T07:11:00.530Z"
      },
      {
        "duration": 34,
        "start_time": "2023-03-30T07:11:00.771Z"
      },
      {
        "duration": 115,
        "start_time": "2023-03-30T07:11:00.808Z"
      },
      {
        "duration": 1426,
        "start_time": "2023-03-30T07:13:30.726Z"
      },
      {
        "duration": 1065,
        "start_time": "2023-03-30T07:13:32.154Z"
      },
      {
        "duration": 109,
        "start_time": "2023-03-30T07:13:33.220Z"
      },
      {
        "duration": 104,
        "start_time": "2023-03-30T07:13:33.332Z"
      },
      {
        "duration": 97,
        "start_time": "2023-03-30T07:13:33.438Z"
      },
      {
        "duration": 465,
        "start_time": "2023-03-30T07:13:33.537Z"
      },
      {
        "duration": 1044,
        "start_time": "2023-03-30T07:13:34.003Z"
      },
      {
        "duration": 108,
        "start_time": "2023-03-30T07:13:35.048Z"
      },
      {
        "duration": 2642,
        "start_time": "2023-03-30T07:13:35.158Z"
      },
      {
        "duration": 169,
        "start_time": "2023-03-30T07:13:37.802Z"
      },
      {
        "duration": 280,
        "start_time": "2023-03-30T07:13:37.972Z"
      },
      {
        "duration": 204,
        "start_time": "2023-03-30T07:13:38.254Z"
      },
      {
        "duration": 32,
        "start_time": "2023-03-30T07:13:38.460Z"
      },
      {
        "duration": 114,
        "start_time": "2023-03-30T07:13:38.494Z"
      },
      {
        "duration": 123,
        "start_time": "2023-03-30T07:14:49.033Z"
      },
      {
        "duration": 1343,
        "start_time": "2023-03-30T07:14:55.286Z"
      },
      {
        "duration": 229,
        "start_time": "2023-03-30T07:15:01.978Z"
      },
      {
        "duration": 1382,
        "start_time": "2023-03-30T07:15:07.956Z"
      },
      {
        "duration": 1095,
        "start_time": "2023-03-30T07:15:09.340Z"
      },
      {
        "duration": 155,
        "start_time": "2023-03-30T07:15:10.437Z"
      },
      {
        "duration": 118,
        "start_time": "2023-03-30T07:15:10.593Z"
      },
      {
        "duration": 119,
        "start_time": "2023-03-30T07:15:10.713Z"
      },
      {
        "duration": 441,
        "start_time": "2023-03-30T07:15:10.834Z"
      },
      {
        "duration": 999,
        "start_time": "2023-03-30T07:15:11.277Z"
      },
      {
        "duration": 105,
        "start_time": "2023-03-30T07:15:12.278Z"
      },
      {
        "duration": 2659,
        "start_time": "2023-03-30T07:15:12.385Z"
      },
      {
        "duration": 174,
        "start_time": "2023-03-30T07:15:15.046Z"
      },
      {
        "duration": 288,
        "start_time": "2023-03-30T07:15:15.222Z"
      },
      {
        "duration": 218,
        "start_time": "2023-03-30T07:15:15.512Z"
      },
      {
        "duration": 31,
        "start_time": "2023-03-30T07:15:15.731Z"
      },
      {
        "duration": 109,
        "start_time": "2023-03-30T07:15:15.765Z"
      },
      {
        "duration": 150,
        "start_time": "2023-03-30T07:21:41.942Z"
      },
      {
        "duration": 1488,
        "start_time": "2023-03-30T07:21:51.912Z"
      },
      {
        "duration": 1052,
        "start_time": "2023-03-30T07:21:53.402Z"
      },
      {
        "duration": 110,
        "start_time": "2023-03-30T07:21:54.456Z"
      },
      {
        "duration": 100,
        "start_time": "2023-03-30T07:21:54.568Z"
      },
      {
        "duration": 106,
        "start_time": "2023-03-30T07:21:54.670Z"
      },
      {
        "duration": 434,
        "start_time": "2023-03-30T07:21:54.779Z"
      },
      {
        "duration": 973,
        "start_time": "2023-03-30T07:21:55.216Z"
      },
      {
        "duration": 101,
        "start_time": "2023-03-30T07:21:56.191Z"
      },
      {
        "duration": 2670,
        "start_time": "2023-03-30T07:21:56.294Z"
      },
      {
        "duration": 169,
        "start_time": "2023-03-30T07:21:58.967Z"
      },
      {
        "duration": 285,
        "start_time": "2023-03-30T07:21:59.138Z"
      },
      {
        "duration": 207,
        "start_time": "2023-03-30T07:21:59.425Z"
      },
      {
        "duration": 32,
        "start_time": "2023-03-30T07:21:59.633Z"
      },
      {
        "duration": 108,
        "start_time": "2023-03-30T07:21:59.666Z"
      },
      {
        "duration": 117,
        "start_time": "2023-03-30T07:22:54.777Z"
      },
      {
        "duration": 1386,
        "start_time": "2023-03-30T07:23:01.372Z"
      },
      {
        "duration": 158,
        "start_time": "2023-03-30T07:23:06.487Z"
      },
      {
        "duration": 10,
        "start_time": "2023-03-30T07:23:10.160Z"
      },
      {
        "duration": 1464,
        "start_time": "2023-03-30T07:23:25.482Z"
      },
      {
        "duration": 1100,
        "start_time": "2023-03-30T07:23:26.948Z"
      },
      {
        "duration": 118,
        "start_time": "2023-03-30T07:23:28.049Z"
      },
      {
        "duration": 128,
        "start_time": "2023-03-30T07:23:28.170Z"
      },
      {
        "duration": 113,
        "start_time": "2023-03-30T07:23:28.300Z"
      },
      {
        "duration": 488,
        "start_time": "2023-03-30T07:23:28.422Z"
      },
      {
        "duration": 1048,
        "start_time": "2023-03-30T07:23:28.912Z"
      },
      {
        "duration": 99,
        "start_time": "2023-03-30T07:23:29.962Z"
      },
      {
        "duration": 2864,
        "start_time": "2023-03-30T07:23:30.063Z"
      },
      {
        "duration": 188,
        "start_time": "2023-03-30T07:23:32.930Z"
      },
      {
        "duration": 294,
        "start_time": "2023-03-30T07:23:33.119Z"
      },
      {
        "duration": 234,
        "start_time": "2023-03-30T07:23:33.424Z"
      },
      {
        "duration": 32,
        "start_time": "2023-03-30T07:23:33.660Z"
      },
      {
        "duration": 110,
        "start_time": "2023-03-30T07:23:33.694Z"
      },
      {
        "duration": 199,
        "start_time": "2023-03-30T07:23:33.806Z"
      },
      {
        "duration": 85,
        "start_time": "2023-03-30T07:23:43.411Z"
      },
      {
        "duration": 200,
        "start_time": "2023-03-30T07:23:49.661Z"
      },
      {
        "duration": 96,
        "start_time": "2023-03-30T07:24:44.114Z"
      },
      {
        "duration": 167,
        "start_time": "2023-03-30T07:24:59.679Z"
      },
      {
        "duration": 130,
        "start_time": "2023-03-30T07:33:41.775Z"
      },
      {
        "duration": 84,
        "start_time": "2023-03-30T07:34:34.683Z"
      },
      {
        "duration": 1544,
        "start_time": "2023-03-30T07:34:41.334Z"
      },
      {
        "duration": 1062,
        "start_time": "2023-03-30T07:34:42.880Z"
      },
      {
        "duration": 118,
        "start_time": "2023-03-30T07:34:43.943Z"
      },
      {
        "duration": 110,
        "start_time": "2023-03-30T07:34:44.063Z"
      },
      {
        "duration": 114,
        "start_time": "2023-03-30T07:34:44.175Z"
      },
      {
        "duration": 440,
        "start_time": "2023-03-30T07:34:44.290Z"
      },
      {
        "duration": 1049,
        "start_time": "2023-03-30T07:34:44.732Z"
      },
      {
        "duration": 125,
        "start_time": "2023-03-30T07:34:45.783Z"
      },
      {
        "duration": 2846,
        "start_time": "2023-03-30T07:34:45.910Z"
      },
      {
        "duration": 190,
        "start_time": "2023-03-30T07:34:48.759Z"
      },
      {
        "duration": 296,
        "start_time": "2023-03-30T07:34:48.951Z"
      },
      {
        "duration": 224,
        "start_time": "2023-03-30T07:34:49.249Z"
      },
      {
        "duration": 37,
        "start_time": "2023-03-30T07:34:49.474Z"
      },
      {
        "duration": 105,
        "start_time": "2023-03-30T07:34:49.524Z"
      },
      {
        "duration": 1411,
        "start_time": "2023-03-30T07:46:32.450Z"
      },
      {
        "duration": 1041,
        "start_time": "2023-03-30T07:46:33.863Z"
      },
      {
        "duration": 118,
        "start_time": "2023-03-30T07:46:34.905Z"
      },
      {
        "duration": 125,
        "start_time": "2023-03-30T07:46:35.025Z"
      },
      {
        "duration": 122,
        "start_time": "2023-03-30T07:46:35.152Z"
      },
      {
        "duration": 437,
        "start_time": "2023-03-30T07:46:35.276Z"
      },
      {
        "duration": 1008,
        "start_time": "2023-03-30T07:46:35.714Z"
      },
      {
        "duration": 100,
        "start_time": "2023-03-30T07:46:36.724Z"
      },
      {
        "duration": 2546,
        "start_time": "2023-03-30T07:46:36.826Z"
      },
      {
        "duration": 173,
        "start_time": "2023-03-30T07:46:39.373Z"
      },
      {
        "duration": 262,
        "start_time": "2023-03-30T07:46:39.548Z"
      },
      {
        "duration": 203,
        "start_time": "2023-03-30T07:46:39.811Z"
      },
      {
        "duration": 37,
        "start_time": "2023-03-30T07:46:40.016Z"
      },
      {
        "duration": 101,
        "start_time": "2023-03-30T07:46:40.056Z"
      },
      {
        "duration": 328,
        "start_time": "2023-03-30T07:46:40.158Z"
      },
      {
        "duration": 1461,
        "start_time": "2023-03-30T07:47:14.495Z"
      },
      {
        "duration": 1064,
        "start_time": "2023-03-30T07:47:15.958Z"
      },
      {
        "duration": 114,
        "start_time": "2023-03-30T07:47:17.023Z"
      },
      {
        "duration": 111,
        "start_time": "2023-03-30T07:47:17.139Z"
      },
      {
        "duration": 109,
        "start_time": "2023-03-30T07:47:17.252Z"
      },
      {
        "duration": 430,
        "start_time": "2023-03-30T07:47:17.363Z"
      },
      {
        "duration": 976,
        "start_time": "2023-03-30T07:47:17.794Z"
      },
      {
        "duration": 106,
        "start_time": "2023-03-30T07:47:18.771Z"
      },
      {
        "duration": 2797,
        "start_time": "2023-03-30T07:47:18.879Z"
      },
      {
        "duration": 190,
        "start_time": "2023-03-30T07:47:21.677Z"
      },
      {
        "duration": 288,
        "start_time": "2023-03-30T07:47:21.869Z"
      },
      {
        "duration": 211,
        "start_time": "2023-03-30T07:47:22.159Z"
      },
      {
        "duration": 31,
        "start_time": "2023-03-30T07:47:22.372Z"
      },
      {
        "duration": 106,
        "start_time": "2023-03-30T07:47:22.405Z"
      },
      {
        "duration": 285,
        "start_time": "2023-03-30T07:47:22.513Z"
      },
      {
        "duration": 1474,
        "start_time": "2023-03-30T07:48:09.416Z"
      },
      {
        "duration": 999,
        "start_time": "2023-03-30T07:48:10.892Z"
      },
      {
        "duration": 105,
        "start_time": "2023-03-30T07:48:11.893Z"
      },
      {
        "duration": 100,
        "start_time": "2023-03-30T07:48:12.000Z"
      },
      {
        "duration": 93,
        "start_time": "2023-03-30T07:48:12.102Z"
      },
      {
        "duration": 410,
        "start_time": "2023-03-30T07:48:12.197Z"
      },
      {
        "duration": 937,
        "start_time": "2023-03-30T07:48:12.609Z"
      },
      {
        "duration": 94,
        "start_time": "2023-03-30T07:48:13.547Z"
      },
      {
        "duration": 2489,
        "start_time": "2023-03-30T07:48:13.642Z"
      },
      {
        "duration": 161,
        "start_time": "2023-03-30T07:48:16.133Z"
      },
      {
        "duration": 267,
        "start_time": "2023-03-30T07:48:16.295Z"
      },
      {
        "duration": 198,
        "start_time": "2023-03-30T07:48:16.564Z"
      },
      {
        "duration": 30,
        "start_time": "2023-03-30T07:48:16.764Z"
      },
      {
        "duration": 102,
        "start_time": "2023-03-30T07:48:16.796Z"
      },
      {
        "duration": 118,
        "start_time": "2023-03-30T07:49:37.444Z"
      },
      {
        "duration": 12,
        "start_time": "2023-03-30T08:31:22.603Z"
      },
      {
        "duration": 1551,
        "start_time": "2023-03-30T08:38:05.362Z"
      },
      {
        "duration": 993,
        "start_time": "2023-03-30T08:38:06.915Z"
      },
      {
        "duration": 110,
        "start_time": "2023-03-30T08:38:07.909Z"
      },
      {
        "duration": 103,
        "start_time": "2023-03-30T08:38:08.021Z"
      },
      {
        "duration": 105,
        "start_time": "2023-03-30T08:38:08.126Z"
      },
      {
        "duration": 429,
        "start_time": "2023-03-30T08:38:08.233Z"
      },
      {
        "duration": 956,
        "start_time": "2023-03-30T08:38:08.664Z"
      },
      {
        "duration": 93,
        "start_time": "2023-03-30T08:38:09.621Z"
      },
      {
        "duration": 2589,
        "start_time": "2023-03-30T08:38:09.715Z"
      },
      {
        "duration": 166,
        "start_time": "2023-03-30T08:38:12.305Z"
      },
      {
        "duration": 273,
        "start_time": "2023-03-30T08:38:12.472Z"
      },
      {
        "duration": 210,
        "start_time": "2023-03-30T08:38:12.747Z"
      },
      {
        "duration": 33,
        "start_time": "2023-03-30T08:38:12.958Z"
      },
      {
        "duration": 193,
        "start_time": "2023-03-30T08:38:12.993Z"
      },
      {
        "duration": 0,
        "start_time": "2023-03-30T08:38:13.187Z"
      },
      {
        "duration": 0,
        "start_time": "2023-03-30T08:38:13.189Z"
      },
      {
        "duration": 1542,
        "start_time": "2023-03-30T08:41:45.506Z"
      },
      {
        "duration": 788,
        "start_time": "2023-03-30T08:41:47.050Z"
      },
      {
        "duration": 125,
        "start_time": "2023-03-30T08:41:47.841Z"
      },
      {
        "duration": 136,
        "start_time": "2023-03-30T08:41:47.969Z"
      },
      {
        "duration": 106,
        "start_time": "2023-03-30T08:41:48.106Z"
      },
      {
        "duration": 458,
        "start_time": "2023-03-30T08:41:48.214Z"
      },
      {
        "duration": 1019,
        "start_time": "2023-03-30T08:41:48.674Z"
      },
      {
        "duration": 100,
        "start_time": "2023-03-30T08:41:49.695Z"
      },
      {
        "duration": 2768,
        "start_time": "2023-03-30T08:41:49.796Z"
      },
      {
        "duration": 219,
        "start_time": "2023-03-30T08:41:52.566Z"
      },
      {
        "duration": 301,
        "start_time": "2023-03-30T08:41:52.788Z"
      },
      {
        "duration": 246,
        "start_time": "2023-03-30T08:41:53.091Z"
      },
      {
        "duration": 33,
        "start_time": "2023-03-30T08:41:53.339Z"
      },
      {
        "duration": 254,
        "start_time": "2023-03-30T08:41:53.373Z"
      },
      {
        "duration": 1,
        "start_time": "2023-03-30T08:41:53.629Z"
      },
      {
        "duration": 0,
        "start_time": "2023-03-30T08:41:53.631Z"
      },
      {
        "duration": 121,
        "start_time": "2023-03-30T08:42:41.606Z"
      },
      {
        "duration": 181,
        "start_time": "2023-03-30T08:43:03.891Z"
      },
      {
        "duration": 93,
        "start_time": "2023-03-30T08:49:06.033Z"
      },
      {
        "duration": 188,
        "start_time": "2023-03-30T08:50:43.175Z"
      },
      {
        "duration": 5,
        "start_time": "2023-03-30T08:54:16.936Z"
      },
      {
        "duration": 15,
        "start_time": "2023-03-30T09:08:00.720Z"
      },
      {
        "duration": 1448,
        "start_time": "2023-03-30T09:08:12.134Z"
      },
      {
        "duration": 808,
        "start_time": "2023-03-30T09:08:13.584Z"
      },
      {
        "duration": 112,
        "start_time": "2023-03-30T09:08:14.394Z"
      },
      {
        "duration": 116,
        "start_time": "2023-03-30T09:08:14.508Z"
      },
      {
        "duration": 99,
        "start_time": "2023-03-30T09:08:14.626Z"
      },
      {
        "duration": 487,
        "start_time": "2023-03-30T09:08:14.727Z"
      },
      {
        "duration": 988,
        "start_time": "2023-03-30T09:08:15.217Z"
      },
      {
        "duration": 98,
        "start_time": "2023-03-30T09:08:16.207Z"
      },
      {
        "duration": 2786,
        "start_time": "2023-03-30T09:08:16.306Z"
      },
      {
        "duration": 191,
        "start_time": "2023-03-30T09:08:19.095Z"
      },
      {
        "duration": 305,
        "start_time": "2023-03-30T09:08:19.288Z"
      },
      {
        "duration": 214,
        "start_time": "2023-03-30T09:08:19.595Z"
      },
      {
        "duration": 42,
        "start_time": "2023-03-30T09:08:19.811Z"
      },
      {
        "duration": 107,
        "start_time": "2023-03-30T09:08:19.857Z"
      },
      {
        "duration": 175,
        "start_time": "2023-03-30T09:08:19.966Z"
      },
      {
        "duration": 145,
        "start_time": "2023-03-30T09:08:20.144Z"
      },
      {
        "duration": 0,
        "start_time": "2023-03-30T09:08:20.291Z"
      },
      {
        "duration": 0,
        "start_time": "2023-03-30T09:08:20.293Z"
      },
      {
        "duration": 4,
        "start_time": "2023-03-30T09:09:12.828Z"
      },
      {
        "duration": 98,
        "start_time": "2023-03-30T09:09:22.490Z"
      },
      {
        "duration": 884,
        "start_time": "2023-03-30T09:27:47.283Z"
      },
      {
        "duration": 827,
        "start_time": "2023-03-30T09:28:14.751Z"
      },
      {
        "duration": 82,
        "start_time": "2023-03-30T09:29:35.889Z"
      },
      {
        "duration": 2706,
        "start_time": "2023-03-30T09:29:42.805Z"
      },
      {
        "duration": 54,
        "start_time": "2023-03-30T09:34:13.832Z"
      },
      {
        "duration": 79,
        "start_time": "2023-03-30T09:34:18.177Z"
      },
      {
        "duration": 2336,
        "start_time": "2023-03-30T09:34:25.637Z"
      },
      {
        "duration": 1472,
        "start_time": "2023-03-30T09:35:14.837Z"
      },
      {
        "duration": 801,
        "start_time": "2023-03-30T09:35:16.311Z"
      },
      {
        "duration": 126,
        "start_time": "2023-03-30T09:35:17.114Z"
      },
      {
        "duration": 112,
        "start_time": "2023-03-30T09:35:17.241Z"
      },
      {
        "duration": 115,
        "start_time": "2023-03-30T09:35:17.355Z"
      },
      {
        "duration": 448,
        "start_time": "2023-03-30T09:35:17.472Z"
      },
      {
        "duration": 951,
        "start_time": "2023-03-30T09:35:17.925Z"
      },
      {
        "duration": 101,
        "start_time": "2023-03-30T09:35:18.878Z"
      },
      {
        "duration": 2823,
        "start_time": "2023-03-30T09:35:18.981Z"
      },
      {
        "duration": 170,
        "start_time": "2023-03-30T09:35:21.806Z"
      },
      {
        "duration": 274,
        "start_time": "2023-03-30T09:35:21.978Z"
      },
      {
        "duration": 215,
        "start_time": "2023-03-30T09:35:22.254Z"
      },
      {
        "duration": 32,
        "start_time": "2023-03-30T09:35:22.471Z"
      },
      {
        "duration": 833,
        "start_time": "2023-03-30T09:35:22.506Z"
      },
      {
        "duration": 55,
        "start_time": "2023-03-30T09:35:23.341Z"
      },
      {
        "duration": 102,
        "start_time": "2023-03-30T09:35:23.398Z"
      },
      {
        "duration": 2612,
        "start_time": "2023-03-30T09:35:23.501Z"
      },
      {
        "duration": 146,
        "start_time": "2023-03-30T09:35:35.521Z"
      },
      {
        "duration": 1611,
        "start_time": "2023-03-30T14:16:58.557Z"
      },
      {
        "duration": 4138,
        "start_time": "2023-03-30T14:17:00.170Z"
      },
      {
        "duration": 112,
        "start_time": "2023-03-30T14:17:04.310Z"
      },
      {
        "duration": 115,
        "start_time": "2023-03-30T14:17:04.425Z"
      },
      {
        "duration": 155,
        "start_time": "2023-03-30T14:17:04.543Z"
      },
      {
        "duration": 524,
        "start_time": "2023-03-30T14:17:04.700Z"
      },
      {
        "duration": 996,
        "start_time": "2023-03-30T14:17:05.226Z"
      },
      {
        "duration": 100,
        "start_time": "2023-03-30T14:17:06.224Z"
      },
      {
        "duration": 2314,
        "start_time": "2023-03-30T14:17:06.326Z"
      },
      {
        "duration": 176,
        "start_time": "2023-03-30T14:17:08.644Z"
      },
      {
        "duration": 247,
        "start_time": "2023-03-30T14:17:08.821Z"
      },
      {
        "duration": 196,
        "start_time": "2023-03-30T14:17:09.072Z"
      },
      {
        "duration": 43,
        "start_time": "2023-03-30T14:17:09.269Z"
      },
      {
        "duration": 790,
        "start_time": "2023-03-30T14:17:09.313Z"
      },
      {
        "duration": 50,
        "start_time": "2023-03-30T14:17:10.105Z"
      },
      {
        "duration": 94,
        "start_time": "2023-03-30T14:17:10.156Z"
      },
      {
        "duration": 2325,
        "start_time": "2023-03-30T14:17:10.252Z"
      },
      {
        "duration": 45,
        "start_time": "2023-03-30T14:18:17.071Z"
      },
      {
        "duration": 1363,
        "start_time": "2023-03-30T14:26:32.836Z"
      },
      {
        "duration": 3033,
        "start_time": "2023-03-30T14:26:34.201Z"
      },
      {
        "duration": 104,
        "start_time": "2023-03-30T14:26:37.236Z"
      },
      {
        "duration": 94,
        "start_time": "2023-03-30T14:26:37.341Z"
      },
      {
        "duration": 337,
        "start_time": "2023-03-30T14:26:37.437Z"
      },
      {
        "duration": 367,
        "start_time": "2023-03-30T14:26:37.776Z"
      },
      {
        "duration": 830,
        "start_time": "2023-03-30T14:26:38.145Z"
      },
      {
        "duration": 95,
        "start_time": "2023-03-30T14:26:38.977Z"
      },
      {
        "duration": 2226,
        "start_time": "2023-03-30T14:26:39.074Z"
      },
      {
        "duration": 163,
        "start_time": "2023-03-30T14:26:41.303Z"
      },
      {
        "duration": 245,
        "start_time": "2023-03-30T14:26:41.467Z"
      },
      {
        "duration": 197,
        "start_time": "2023-03-30T14:26:41.713Z"
      },
      {
        "duration": 38,
        "start_time": "2023-03-30T14:26:41.912Z"
      },
      {
        "duration": 728,
        "start_time": "2023-03-30T14:26:41.953Z"
      },
      {
        "duration": 44,
        "start_time": "2023-03-30T14:26:42.684Z"
      },
      {
        "duration": 84,
        "start_time": "2023-03-30T14:26:42.730Z"
      },
      {
        "duration": 1794,
        "start_time": "2023-03-30T14:26:42.815Z"
      },
      {
        "duration": 77,
        "start_time": "2023-03-30T14:30:49.790Z"
      },
      {
        "duration": 44,
        "start_time": "2023-03-30T14:30:55.600Z"
      },
      {
        "duration": 1327,
        "start_time": "2023-03-30T14:31:02.524Z"
      },
      {
        "duration": 2948,
        "start_time": "2023-03-30T14:31:03.853Z"
      },
      {
        "duration": 102,
        "start_time": "2023-03-30T14:31:06.803Z"
      },
      {
        "duration": 101,
        "start_time": "2023-03-30T14:31:06.908Z"
      },
      {
        "duration": 331,
        "start_time": "2023-03-30T14:31:07.011Z"
      },
      {
        "duration": 390,
        "start_time": "2023-03-30T14:31:07.349Z"
      },
      {
        "duration": 805,
        "start_time": "2023-03-30T14:31:07.741Z"
      },
      {
        "duration": 86,
        "start_time": "2023-03-30T14:31:08.549Z"
      },
      {
        "duration": 2243,
        "start_time": "2023-03-30T14:31:08.637Z"
      },
      {
        "duration": 148,
        "start_time": "2023-03-30T14:31:10.883Z"
      },
      {
        "duration": 246,
        "start_time": "2023-03-30T14:31:11.033Z"
      },
      {
        "duration": 1356,
        "start_time": "2023-03-30T14:31:11.280Z"
      },
      {
        "duration": 0,
        "start_time": "2023-03-30T14:31:12.638Z"
      },
      {
        "duration": 0,
        "start_time": "2023-03-30T14:31:12.640Z"
      },
      {
        "duration": 0,
        "start_time": "2023-03-30T14:31:12.641Z"
      },
      {
        "duration": 0,
        "start_time": "2023-03-30T14:31:12.642Z"
      },
      {
        "duration": 0,
        "start_time": "2023-03-30T14:31:12.643Z"
      },
      {
        "duration": 0,
        "start_time": "2023-03-30T14:31:12.644Z"
      },
      {
        "duration": 0,
        "start_time": "2023-03-30T14:31:12.646Z"
      },
      {
        "duration": 55,
        "start_time": "2023-03-30T14:33:40.682Z"
      },
      {
        "duration": 141,
        "start_time": "2023-03-30T14:34:05.897Z"
      },
      {
        "duration": 157,
        "start_time": "2023-03-30T14:34:24.994Z"
      },
      {
        "duration": 34,
        "start_time": "2023-03-30T14:34:35.088Z"
      },
      {
        "duration": 642,
        "start_time": "2023-03-30T14:34:40.906Z"
      },
      {
        "duration": 40,
        "start_time": "2023-03-30T14:34:46.922Z"
      },
      {
        "duration": 2101,
        "start_time": "2023-03-30T14:34:52.191Z"
      },
      {
        "duration": 148,
        "start_time": "2023-03-31T06:20:30.694Z"
      },
      {
        "duration": 1630,
        "start_time": "2023-03-31T06:20:38.182Z"
      },
      {
        "duration": 2932,
        "start_time": "2023-03-31T06:20:39.815Z"
      },
      {
        "duration": 147,
        "start_time": "2023-03-31T06:20:42.749Z"
      },
      {
        "duration": 154,
        "start_time": "2023-03-31T06:20:42.898Z"
      },
      {
        "duration": 408,
        "start_time": "2023-03-31T06:20:43.054Z"
      },
      {
        "duration": 499,
        "start_time": "2023-03-31T06:20:43.464Z"
      },
      {
        "duration": 1023,
        "start_time": "2023-03-31T06:20:43.965Z"
      },
      {
        "duration": 114,
        "start_time": "2023-03-31T06:20:44.990Z"
      },
      {
        "duration": 2893,
        "start_time": "2023-03-31T06:20:45.106Z"
      },
      {
        "duration": 269,
        "start_time": "2023-03-31T06:20:48.001Z"
      },
      {
        "duration": 294,
        "start_time": "2023-03-31T06:20:48.272Z"
      },
      {
        "duration": 192,
        "start_time": "2023-03-31T06:20:48.568Z"
      },
      {
        "duration": 193,
        "start_time": "2023-03-31T06:20:48.762Z"
      },
      {
        "duration": 43,
        "start_time": "2023-03-31T06:20:48.957Z"
      },
      {
        "duration": 141,
        "start_time": "2023-03-31T06:20:49.002Z"
      },
      {
        "duration": 0,
        "start_time": "2023-03-31T06:20:49.145Z"
      },
      {
        "duration": 0,
        "start_time": "2023-03-31T06:20:49.146Z"
      },
      {
        "duration": 77,
        "start_time": "2023-03-31T06:21:06.942Z"
      },
      {
        "duration": 81,
        "start_time": "2023-03-31T06:21:10.055Z"
      },
      {
        "duration": 177,
        "start_time": "2023-03-31T06:21:20.431Z"
      },
      {
        "duration": 113405,
        "start_time": "2023-03-31T06:22:35.798Z"
      },
      {
        "duration": 1425,
        "start_time": "2023-03-31T06:29:45.989Z"
      },
      {
        "duration": 862,
        "start_time": "2023-03-31T06:29:47.416Z"
      },
      {
        "duration": 147,
        "start_time": "2023-03-31T06:29:48.280Z"
      },
      {
        "duration": 152,
        "start_time": "2023-03-31T06:29:48.429Z"
      },
      {
        "duration": 415,
        "start_time": "2023-03-31T06:29:48.583Z"
      },
      {
        "duration": 460,
        "start_time": "2023-03-31T06:29:48.999Z"
      },
      {
        "duration": 1057,
        "start_time": "2023-03-31T06:29:49.461Z"
      },
      {
        "duration": 134,
        "start_time": "2023-03-31T06:29:50.520Z"
      },
      {
        "duration": 2828,
        "start_time": "2023-03-31T06:29:50.657Z"
      },
      {
        "duration": 230,
        "start_time": "2023-03-31T06:29:53.488Z"
      },
      {
        "duration": 312,
        "start_time": "2023-03-31T06:29:53.720Z"
      },
      {
        "duration": 200,
        "start_time": "2023-03-31T06:29:54.034Z"
      },
      {
        "duration": 186,
        "start_time": "2023-03-31T06:29:54.236Z"
      },
      {
        "duration": 32,
        "start_time": "2023-03-31T06:29:54.424Z"
      },
      {
        "duration": 102,
        "start_time": "2023-03-31T06:29:54.458Z"
      },
      {
        "duration": 232137,
        "start_time": "2023-03-31T06:29:54.562Z"
      },
      {
        "duration": 153,
        "start_time": "2023-03-31T06:33:46.700Z"
      },
      {
        "duration": 258033,
        "start_time": "2023-03-31T06:49:25.265Z"
      },
      {
        "duration": 239844,
        "start_time": "2023-03-31T07:02:00.340Z"
      },
      {
        "duration": 238199,
        "start_time": "2023-03-31T07:11:03.647Z"
      },
      {
        "duration": 328,
        "start_time": "2023-03-31T07:17:01.611Z"
      },
      {
        "duration": 270620,
        "start_time": "2023-03-31T07:17:09.650Z"
      },
      {
        "duration": 265620,
        "start_time": "2023-03-31T07:29:54.940Z"
      },
      {
        "duration": 267032,
        "start_time": "2023-03-31T07:43:44.123Z"
      },
      {
        "duration": 5,
        "start_time": "2023-03-31T07:53:52.459Z"
      },
      {
        "duration": 134,
        "start_time": "2023-03-31T07:54:14.790Z"
      },
      {
        "duration": 177,
        "start_time": "2023-03-31T07:54:25.624Z"
      },
      {
        "duration": 4,
        "start_time": "2023-03-31T07:55:19.882Z"
      },
      {
        "duration": 6,
        "start_time": "2023-03-31T07:59:53.180Z"
      },
      {
        "duration": 50,
        "start_time": "2023-03-31T08:00:41.576Z"
      },
      {
        "duration": 5,
        "start_time": "2023-03-31T08:12:53.735Z"
      },
      {
        "duration": 92,
        "start_time": "2023-03-31T08:13:19.069Z"
      },
      {
        "duration": 33,
        "start_time": "2023-03-31T08:13:53.444Z"
      },
      {
        "duration": 39,
        "start_time": "2023-03-31T08:14:19.840Z"
      },
      {
        "duration": 71,
        "start_time": "2023-03-31T08:14:27.644Z"
      },
      {
        "duration": 5,
        "start_time": "2023-03-31T08:14:33.373Z"
      },
      {
        "duration": 10,
        "start_time": "2023-03-31T08:15:02.202Z"
      },
      {
        "duration": 4,
        "start_time": "2023-03-31T08:15:07.812Z"
      },
      {
        "duration": 102,
        "start_time": "2023-03-31T08:15:39.217Z"
      },
      {
        "duration": 5,
        "start_time": "2023-03-31T08:15:46.118Z"
      },
      {
        "duration": 7,
        "start_time": "2023-03-31T08:16:15.308Z"
      },
      {
        "duration": 5,
        "start_time": "2023-03-31T08:16:33.455Z"
      },
      {
        "duration": 8,
        "start_time": "2023-03-31T08:16:40.878Z"
      },
      {
        "duration": 24,
        "start_time": "2023-03-31T10:38:38.004Z"
      },
      {
        "duration": 212,
        "start_time": "2023-03-31T10:40:07.409Z"
      },
      {
        "duration": 1285,
        "start_time": "2023-03-31T10:40:14.949Z"
      },
      {
        "duration": 177,
        "start_time": "2023-03-31T10:40:22.197Z"
      },
      {
        "duration": 65,
        "start_time": "2023-03-31T10:49:47.653Z"
      },
      {
        "duration": 238,
        "start_time": "2023-03-31T10:50:04.246Z"
      },
      {
        "duration": 149,
        "start_time": "2023-03-31T10:50:10.498Z"
      },
      {
        "duration": 225,
        "start_time": "2023-03-31T10:53:04.829Z"
      },
      {
        "duration": 31,
        "start_time": "2023-03-31T10:53:12.851Z"
      },
      {
        "duration": 191,
        "start_time": "2023-03-31T10:53:24.175Z"
      },
      {
        "duration": 259,
        "start_time": "2023-03-31T10:56:00.507Z"
      },
      {
        "duration": 96546,
        "start_time": "2023-03-31T10:56:33.741Z"
      },
      {
        "duration": 96,
        "start_time": "2023-03-31T10:58:18.939Z"
      },
      {
        "duration": 179,
        "start_time": "2023-03-31T10:58:27.883Z"
      },
      {
        "duration": 273373,
        "start_time": "2023-03-31T10:59:02.271Z"
      },
      {
        "duration": 688,
        "start_time": "2023-03-31T11:03:36.324Z"
      },
      {
        "duration": 236,
        "start_time": "2023-03-31T11:04:38.532Z"
      },
      {
        "duration": 138,
        "start_time": "2023-03-31T11:11:45.523Z"
      },
      {
        "duration": 90,
        "start_time": "2023-03-31T11:16:00.226Z"
      },
      {
        "duration": 4,
        "start_time": "2023-03-31T11:16:10.301Z"
      },
      {
        "duration": 64,
        "start_time": "2023-03-31T11:16:29.435Z"
      },
      {
        "duration": 3,
        "start_time": "2023-03-31T11:17:18.475Z"
      },
      {
        "duration": 124,
        "start_time": "2023-03-31T11:17:26.216Z"
      },
      {
        "duration": 127,
        "start_time": "2023-03-31T11:19:10.102Z"
      },
      {
        "duration": 91,
        "start_time": "2023-03-31T18:57:56.881Z"
      },
      {
        "duration": 2348,
        "start_time": "2023-03-31T18:58:04.875Z"
      },
      {
        "duration": 5223,
        "start_time": "2023-03-31T18:58:07.230Z"
      },
      {
        "duration": 226,
        "start_time": "2023-03-31T18:58:12.460Z"
      },
      {
        "duration": 269,
        "start_time": "2023-03-31T18:58:12.691Z"
      },
      {
        "duration": 945,
        "start_time": "2023-03-31T18:58:12.963Z"
      },
      {
        "duration": 622,
        "start_time": "2023-03-31T18:58:13.917Z"
      },
      {
        "duration": 1462,
        "start_time": "2023-03-31T18:58:14.543Z"
      },
      {
        "duration": 127,
        "start_time": "2023-03-31T18:58:16.007Z"
      },
      {
        "duration": 115,
        "start_time": "2023-03-31T19:00:11.759Z"
      },
      {
        "duration": 11908,
        "start_time": "2023-03-31T19:00:17.475Z"
      },
      {
        "duration": 106,
        "start_time": "2023-03-31T19:00:29.385Z"
      },
      {
        "duration": 4399,
        "start_time": "2023-03-31T19:00:35.006Z"
      },
      {
        "duration": 13632,
        "start_time": "2023-03-31T19:01:06.649Z"
      },
      {
        "duration": 4816,
        "start_time": "2023-03-31T19:01:20.283Z"
      },
      {
        "duration": 212,
        "start_time": "2023-03-31T19:01:25.101Z"
      },
      {
        "duration": 212,
        "start_time": "2023-03-31T19:01:25.322Z"
      },
      {
        "duration": 808,
        "start_time": "2023-03-31T19:01:25.537Z"
      },
      {
        "duration": 612,
        "start_time": "2023-03-31T19:01:26.347Z"
      },
      {
        "duration": 1286,
        "start_time": "2023-03-31T19:01:26.961Z"
      },
      {
        "duration": 107,
        "start_time": "2023-03-31T19:01:28.249Z"
      },
      {
        "duration": 6902,
        "start_time": "2023-03-31T19:01:28.358Z"
      },
      {
        "duration": 282,
        "start_time": "2023-03-31T19:01:35.264Z"
      },
      {
        "duration": 353,
        "start_time": "2023-03-31T19:01:35.548Z"
      },
      {
        "duration": 271,
        "start_time": "2023-03-31T19:01:35.903Z"
      },
      {
        "duration": 235,
        "start_time": "2023-03-31T19:01:36.177Z"
      },
      {
        "duration": 54,
        "start_time": "2023-03-31T19:01:36.414Z"
      },
      {
        "duration": 113,
        "start_time": "2023-03-31T19:01:36.471Z"
      },
      {
        "duration": 318488,
        "start_time": "2023-03-31T19:01:36.586Z"
      },
      {
        "duration": 7,
        "start_time": "2023-03-31T19:06:55.079Z"
      },
      {
        "duration": 517,
        "start_time": "2023-03-31T19:06:55.088Z"
      },
      {
        "duration": 309,
        "start_time": "2023-03-31T19:06:55.606Z"
      },
      {
        "duration": 1644,
        "start_time": "2023-04-03T06:19:19.009Z"
      },
      {
        "duration": 2887,
        "start_time": "2023-04-03T06:19:22.333Z"
      },
      {
        "duration": 146,
        "start_time": "2023-04-03T06:19:29.313Z"
      },
      {
        "duration": 129,
        "start_time": "2023-04-03T06:19:33.312Z"
      },
      {
        "duration": 696,
        "start_time": "2023-04-03T06:19:40.657Z"
      },
      {
        "duration": 475,
        "start_time": "2023-04-03T06:19:46.004Z"
      },
      {
        "duration": 1082,
        "start_time": "2023-04-03T06:19:49.320Z"
      },
      {
        "duration": 96,
        "start_time": "2023-04-03T06:19:54.210Z"
      },
      {
        "duration": 5116,
        "start_time": "2023-04-03T06:20:06.224Z"
      },
      {
        "duration": 214,
        "start_time": "2023-04-03T06:20:26.116Z"
      },
      {
        "duration": 270,
        "start_time": "2023-04-03T06:20:37.197Z"
      },
      {
        "duration": 194,
        "start_time": "2023-04-03T06:20:53.118Z"
      },
      {
        "duration": 170,
        "start_time": "2023-04-03T06:21:01.414Z"
      },
      {
        "duration": 32,
        "start_time": "2023-04-03T06:21:18.796Z"
      },
      {
        "duration": 122,
        "start_time": "2023-04-03T06:23:49.909Z"
      },
      {
        "duration": 5,
        "start_time": "2023-04-03T06:24:02.620Z"
      },
      {
        "duration": 12,
        "start_time": "2023-04-03T06:24:11.237Z"
      },
      {
        "duration": 11,
        "start_time": "2023-04-03T06:37:47.522Z"
      },
      {
        "duration": 77,
        "start_time": "2023-04-03T06:37:52.905Z"
      },
      {
        "duration": 378,
        "start_time": "2023-04-03T06:37:56.317Z"
      },
      {
        "duration": 4,
        "start_time": "2023-04-03T06:40:07.912Z"
      },
      {
        "duration": 362,
        "start_time": "2023-04-03T06:40:15.025Z"
      },
      {
        "duration": 11,
        "start_time": "2023-04-03T06:41:58.371Z"
      },
      {
        "duration": 5,
        "start_time": "2023-04-03T06:42:29.679Z"
      },
      {
        "duration": 372,
        "start_time": "2023-04-03T06:42:38.616Z"
      },
      {
        "duration": 401,
        "start_time": "2023-04-03T06:42:56.709Z"
      },
      {
        "duration": 11,
        "start_time": "2023-04-03T06:43:28.725Z"
      },
      {
        "duration": 361,
        "start_time": "2023-04-03T06:49:09.217Z"
      },
      {
        "duration": 366,
        "start_time": "2023-04-03T06:49:15.843Z"
      },
      {
        "duration": 4,
        "start_time": "2023-04-03T06:49:51.117Z"
      },
      {
        "duration": 353,
        "start_time": "2023-04-03T06:50:00.529Z"
      },
      {
        "duration": 5,
        "start_time": "2023-04-03T06:53:06.846Z"
      },
      {
        "duration": 4,
        "start_time": "2023-04-03T06:54:09.342Z"
      },
      {
        "duration": 5,
        "start_time": "2023-04-03T06:55:21.076Z"
      },
      {
        "duration": 138,
        "start_time": "2023-04-03T07:22:54.637Z"
      },
      {
        "duration": 21,
        "start_time": "2023-04-03T07:22:58.576Z"
      },
      {
        "duration": 14,
        "start_time": "2023-04-03T07:23:09.849Z"
      },
      {
        "duration": 99,
        "start_time": "2023-04-03T07:23:14.592Z"
      },
      {
        "duration": 15,
        "start_time": "2023-04-03T07:32:18.845Z"
      },
      {
        "duration": 19,
        "start_time": "2023-04-03T07:33:31.942Z"
      },
      {
        "duration": 24,
        "start_time": "2023-04-03T07:33:52.002Z"
      },
      {
        "duration": 23,
        "start_time": "2023-04-03T07:34:18.452Z"
      },
      {
        "duration": 131,
        "start_time": "2023-04-03T07:34:34.001Z"
      },
      {
        "duration": 15,
        "start_time": "2023-04-03T07:34:40.228Z"
      },
      {
        "duration": 1277,
        "start_time": "2023-04-03T07:34:49.080Z"
      },
      {
        "duration": 1380,
        "start_time": "2023-04-03T07:36:27.614Z"
      },
      {
        "duration": 118,
        "start_time": "2023-04-03T07:43:54.775Z"
      },
      {
        "duration": 88,
        "start_time": "2023-04-03T07:44:48.465Z"
      },
      {
        "duration": 1346,
        "start_time": "2023-04-03T07:46:34.212Z"
      },
      {
        "duration": 1307,
        "start_time": "2023-04-03T07:47:33.233Z"
      },
      {
        "duration": 1394,
        "start_time": "2023-04-03T07:48:04.116Z"
      },
      {
        "duration": 1457,
        "start_time": "2023-04-03T07:48:20.848Z"
      },
      {
        "duration": 733,
        "start_time": "2023-04-03T08:07:41.231Z"
      },
      {
        "duration": 610,
        "start_time": "2023-04-03T08:09:09.433Z"
      },
      {
        "duration": 614,
        "start_time": "2023-04-03T08:10:50.848Z"
      },
      {
        "duration": 1270,
        "start_time": "2023-04-03T08:11:19.743Z"
      },
      {
        "duration": 748,
        "start_time": "2023-04-03T08:12:56.098Z"
      },
      {
        "duration": 152,
        "start_time": "2023-04-03T08:14:26.839Z"
      },
      {
        "duration": 37682,
        "start_time": "2023-04-03T08:15:05.996Z"
      },
      {
        "duration": 7,
        "start_time": "2023-04-03T08:30:57.241Z"
      },
      {
        "duration": 39183,
        "start_time": "2023-04-03T08:32:54.386Z"
      },
      {
        "duration": 6,
        "start_time": "2023-04-03T08:33:38.249Z"
      },
      {
        "duration": 6,
        "start_time": "2023-04-03T08:34:04.684Z"
      },
      {
        "duration": 6,
        "start_time": "2023-04-03T08:36:13.288Z"
      },
      {
        "duration": 1626,
        "start_time": "2023-04-03T08:44:31.299Z"
      },
      {
        "duration": 1026,
        "start_time": "2023-04-03T08:44:32.935Z"
      },
      {
        "duration": 175,
        "start_time": "2023-04-03T08:44:33.963Z"
      },
      {
        "duration": 155,
        "start_time": "2023-04-03T08:44:34.145Z"
      },
      {
        "duration": 779,
        "start_time": "2023-04-03T08:44:34.302Z"
      },
      {
        "duration": 573,
        "start_time": "2023-04-03T08:44:35.083Z"
      },
      {
        "duration": 1161,
        "start_time": "2023-04-03T08:44:35.658Z"
      },
      {
        "duration": 113,
        "start_time": "2023-04-03T08:44:36.821Z"
      },
      {
        "duration": 6052,
        "start_time": "2023-04-03T08:44:36.940Z"
      },
      {
        "duration": 270,
        "start_time": "2023-04-03T08:44:42.994Z"
      },
      {
        "duration": 310,
        "start_time": "2023-04-03T08:44:43.266Z"
      },
      {
        "duration": 210,
        "start_time": "2023-04-03T08:44:43.578Z"
      },
      {
        "duration": 204,
        "start_time": "2023-04-03T08:44:43.790Z"
      },
      {
        "duration": 52,
        "start_time": "2023-04-03T08:44:43.998Z"
      },
      {
        "duration": 92,
        "start_time": "2023-04-03T08:44:44.052Z"
      },
      {
        "duration": 1258,
        "start_time": "2023-04-03T08:44:44.146Z"
      },
      {
        "duration": 693,
        "start_time": "2023-04-03T08:44:45.406Z"
      },
      {
        "duration": 37981,
        "start_time": "2023-04-03T08:44:46.101Z"
      },
      {
        "duration": 6,
        "start_time": "2023-04-03T08:45:24.084Z"
      },
      {
        "duration": 39198,
        "start_time": "2023-04-03T08:45:24.093Z"
      },
      {
        "duration": 5,
        "start_time": "2023-04-03T08:46:03.292Z"
      },
      {
        "duration": 407450,
        "start_time": "2023-04-03T08:46:03.299Z"
      },
      {
        "duration": 173,
        "start_time": "2023-04-03T08:52:50.751Z"
      },
      {
        "duration": 0,
        "start_time": "2023-04-03T08:52:50.929Z"
      },
      {
        "duration": 10,
        "start_time": "2023-04-03T09:04:36.281Z"
      },
      {
        "duration": 9,
        "start_time": "2023-04-03T09:04:48.196Z"
      },
      {
        "duration": 4,
        "start_time": "2023-04-03T09:05:22.187Z"
      },
      {
        "duration": 5,
        "start_time": "2023-04-03T09:18:17.890Z"
      },
      {
        "duration": 12,
        "start_time": "2023-04-03T09:26:00.219Z"
      },
      {
        "duration": 6,
        "start_time": "2023-04-03T09:26:34.948Z"
      },
      {
        "duration": 7,
        "start_time": "2023-04-03T09:27:04.295Z"
      },
      {
        "duration": 13,
        "start_time": "2023-04-03T09:27:09.724Z"
      },
      {
        "duration": 5,
        "start_time": "2023-04-03T09:28:06.010Z"
      },
      {
        "duration": 314714,
        "start_time": "2023-04-03T09:29:04.535Z"
      },
      {
        "duration": 11,
        "start_time": "2023-04-03T09:43:01.153Z"
      },
      {
        "duration": 38869,
        "start_time": "2023-04-03T09:43:57.485Z"
      },
      {
        "duration": 5,
        "start_time": "2023-04-03T09:44:39.545Z"
      },
      {
        "duration": 41707,
        "start_time": "2023-04-03T09:44:46.742Z"
      },
      {
        "duration": 5,
        "start_time": "2023-04-03T09:45:36.404Z"
      },
      {
        "duration": 158104,
        "start_time": "2023-04-03T09:46:01.038Z"
      },
      {
        "duration": 4,
        "start_time": "2023-04-03T10:00:17.092Z"
      },
      {
        "duration": 234601,
        "start_time": "2023-04-03T10:00:43.150Z"
      },
      {
        "duration": 4,
        "start_time": "2023-04-03T10:12:55.378Z"
      },
      {
        "duration": 548295,
        "start_time": "2023-04-03T10:15:56.624Z"
      },
      {
        "duration": 4,
        "start_time": "2023-04-03T10:40:25.348Z"
      },
      {
        "duration": 68121,
        "start_time": "2023-04-03T10:41:14.808Z"
      },
      {
        "duration": 5,
        "start_time": "2023-04-03T10:50:04.645Z"
      },
      {
        "duration": 94,
        "start_time": "2023-04-03T14:11:34.089Z"
      },
      {
        "duration": 6,
        "start_time": "2023-04-03T14:21:19.545Z"
      },
      {
        "duration": 10,
        "start_time": "2023-04-03T14:21:57.439Z"
      },
      {
        "duration": 8,
        "start_time": "2023-04-03T14:22:11.226Z"
      },
      {
        "duration": 1680,
        "start_time": "2023-04-03T17:33:36.845Z"
      },
      {
        "duration": 1126,
        "start_time": "2023-04-03T17:33:38.527Z"
      },
      {
        "duration": 120,
        "start_time": "2023-04-03T17:33:39.655Z"
      },
      {
        "duration": 115,
        "start_time": "2023-04-03T17:33:39.777Z"
      },
      {
        "duration": 694,
        "start_time": "2023-04-03T17:33:39.893Z"
      },
      {
        "duration": 490,
        "start_time": "2023-04-03T17:33:40.589Z"
      },
      {
        "duration": 1067,
        "start_time": "2023-04-03T17:33:41.081Z"
      },
      {
        "duration": 118,
        "start_time": "2023-04-03T17:33:42.150Z"
      },
      {
        "duration": 5203,
        "start_time": "2023-04-03T17:33:42.270Z"
      },
      {
        "duration": 194,
        "start_time": "2023-04-03T17:33:47.476Z"
      },
      {
        "duration": 276,
        "start_time": "2023-04-03T17:33:47.675Z"
      },
      {
        "duration": 175,
        "start_time": "2023-04-03T17:33:47.952Z"
      },
      {
        "duration": 180,
        "start_time": "2023-04-03T17:33:48.129Z"
      },
      {
        "duration": 33,
        "start_time": "2023-04-03T17:33:48.311Z"
      },
      {
        "duration": 93,
        "start_time": "2023-04-03T17:33:48.346Z"
      },
      {
        "duration": 1186,
        "start_time": "2023-04-03T17:33:48.441Z"
      },
      {
        "duration": 549,
        "start_time": "2023-04-03T17:33:49.628Z"
      },
      {
        "duration": 34250,
        "start_time": "2023-04-03T17:33:50.179Z"
      },
      {
        "duration": 5,
        "start_time": "2023-04-03T17:34:24.431Z"
      },
      {
        "duration": 33476,
        "start_time": "2023-04-03T17:34:24.437Z"
      },
      {
        "duration": 5,
        "start_time": "2023-04-03T17:34:57.915Z"
      },
      {
        "duration": 10378,
        "start_time": "2023-04-03T17:34:57.922Z"
      },
      {
        "duration": 5,
        "start_time": "2023-04-03T17:35:08.302Z"
      },
      {
        "duration": 5666,
        "start_time": "2023-04-03T17:35:08.309Z"
      },
      {
        "duration": 5,
        "start_time": "2023-04-03T17:35:13.977Z"
      },
      {
        "duration": 502179,
        "start_time": "2023-04-03T17:35:13.984Z"
      },
      {
        "duration": 11,
        "start_time": "2023-04-03T17:43:36.164Z"
      },
      {
        "duration": 59592,
        "start_time": "2023-04-03T17:43:36.178Z"
      },
      {
        "duration": 13,
        "start_time": "2023-04-03T17:44:35.775Z"
      },
      {
        "duration": 10,
        "start_time": "2023-04-03T17:44:35.790Z"
      },
      {
        "duration": 7,
        "start_time": "2023-04-03T17:44:55.307Z"
      },
      {
        "duration": 63,
        "start_time": "2023-04-03T18:01:20.014Z"
      },
      {
        "duration": 36,
        "start_time": "2023-04-03T18:02:24.613Z"
      },
      {
        "duration": 842,
        "start_time": "2023-04-03T18:02:44.450Z"
      },
      {
        "duration": 694,
        "start_time": "2023-04-03T18:03:13.285Z"
      },
      {
        "duration": 729,
        "start_time": "2023-04-03T18:05:46.568Z"
      },
      {
        "duration": 663,
        "start_time": "2023-04-03T18:06:28.784Z"
      },
      {
        "duration": 273625,
        "start_time": "2023-04-03T18:07:03.509Z"
      },
      {
        "duration": 14552,
        "start_time": "2023-04-03T18:13:09.514Z"
      },
      {
        "duration": 286887,
        "start_time": "2023-04-03T18:13:43.127Z"
      },
      {
        "duration": 5,
        "start_time": "2023-04-03T18:21:16.956Z"
      },
      {
        "duration": 7,
        "start_time": "2023-04-03T18:21:29.068Z"
      },
      {
        "duration": 4,
        "start_time": "2023-04-03T18:21:39.067Z"
      },
      {
        "duration": 1468,
        "start_time": "2023-04-03T18:51:45.692Z"
      },
      {
        "duration": 840,
        "start_time": "2023-04-03T18:51:47.162Z"
      },
      {
        "duration": 128,
        "start_time": "2023-04-03T18:51:48.004Z"
      },
      {
        "duration": 113,
        "start_time": "2023-04-03T18:51:48.133Z"
      },
      {
        "duration": 651,
        "start_time": "2023-04-03T18:51:48.249Z"
      },
      {
        "duration": 457,
        "start_time": "2023-04-03T18:51:48.901Z"
      },
      {
        "duration": 1028,
        "start_time": "2023-04-03T18:51:49.360Z"
      },
      {
        "duration": 115,
        "start_time": "2023-04-03T18:51:50.390Z"
      },
      {
        "duration": 5078,
        "start_time": "2023-04-03T18:51:50.506Z"
      },
      {
        "duration": 171,
        "start_time": "2023-04-03T18:51:55.586Z"
      },
      {
        "duration": 266,
        "start_time": "2023-04-03T18:51:55.759Z"
      },
      {
        "duration": 172,
        "start_time": "2023-04-03T18:51:56.027Z"
      },
      {
        "duration": 180,
        "start_time": "2023-04-03T18:51:56.201Z"
      },
      {
        "duration": 40,
        "start_time": "2023-04-03T18:51:56.384Z"
      },
      {
        "duration": 98,
        "start_time": "2023-04-03T18:51:56.426Z"
      },
      {
        "duration": 1220,
        "start_time": "2023-04-03T18:51:56.526Z"
      },
      {
        "duration": 525,
        "start_time": "2023-04-03T18:51:57.748Z"
      },
      {
        "duration": 32487,
        "start_time": "2023-04-03T18:51:58.275Z"
      },
      {
        "duration": 12,
        "start_time": "2023-04-03T18:52:30.764Z"
      },
      {
        "duration": 32926,
        "start_time": "2023-04-03T18:52:30.778Z"
      },
      {
        "duration": 5,
        "start_time": "2023-04-03T18:53:03.706Z"
      },
      {
        "duration": 20877,
        "start_time": "2023-04-03T18:53:03.713Z"
      },
      {
        "duration": 5,
        "start_time": "2023-04-03T18:53:24.592Z"
      },
      {
        "duration": 6203,
        "start_time": "2023-04-03T18:53:24.599Z"
      },
      {
        "duration": 5,
        "start_time": "2023-04-03T18:53:30.804Z"
      },
      {
        "duration": 274699,
        "start_time": "2023-04-03T19:33:25.003Z"
      },
      {
        "duration": 5,
        "start_time": "2023-04-03T19:37:59.703Z"
      },
      {
        "duration": 17,
        "start_time": "2023-04-03T19:37:59.720Z"
      },
      {
        "duration": 8,
        "start_time": "2023-04-03T20:17:04.145Z"
      },
      {
        "duration": 1527,
        "start_time": "2023-04-04T05:52:27.666Z"
      },
      {
        "duration": 2855,
        "start_time": "2023-04-04T05:52:29.196Z"
      },
      {
        "duration": 141,
        "start_time": "2023-04-04T05:52:32.052Z"
      },
      {
        "duration": 121,
        "start_time": "2023-04-04T05:52:32.194Z"
      },
      {
        "duration": 659,
        "start_time": "2023-04-04T05:52:32.318Z"
      },
      {
        "duration": 404,
        "start_time": "2023-04-04T05:52:32.979Z"
      },
      {
        "duration": 970,
        "start_time": "2023-04-04T05:52:33.385Z"
      },
      {
        "duration": 104,
        "start_time": "2023-04-04T05:52:34.357Z"
      },
      {
        "duration": 5091,
        "start_time": "2023-04-04T05:52:34.463Z"
      },
      {
        "duration": 167,
        "start_time": "2023-04-04T05:52:39.556Z"
      },
      {
        "duration": 232,
        "start_time": "2023-04-04T05:52:39.725Z"
      },
      {
        "duration": 163,
        "start_time": "2023-04-04T05:52:39.959Z"
      },
      {
        "duration": 168,
        "start_time": "2023-04-04T05:52:40.124Z"
      },
      {
        "duration": 29,
        "start_time": "2023-04-04T05:52:40.295Z"
      },
      {
        "duration": 68,
        "start_time": "2023-04-04T05:52:40.327Z"
      },
      {
        "duration": 737,
        "start_time": "2023-04-04T05:52:40.396Z"
      },
      {
        "duration": 553,
        "start_time": "2023-04-04T05:52:41.134Z"
      },
      {
        "duration": 31633,
        "start_time": "2023-04-04T05:52:41.688Z"
      },
      {
        "duration": 4,
        "start_time": "2023-04-04T05:53:13.323Z"
      },
      {
        "duration": 30504,
        "start_time": "2023-04-04T05:53:13.328Z"
      },
      {
        "duration": 4,
        "start_time": "2023-04-04T05:53:43.834Z"
      },
      {
        "duration": 8545,
        "start_time": "2023-04-04T05:53:43.839Z"
      },
      {
        "duration": 5,
        "start_time": "2023-04-04T05:53:52.387Z"
      },
      {
        "duration": 8179,
        "start_time": "2023-04-04T05:53:52.393Z"
      },
      {
        "duration": 4,
        "start_time": "2023-04-04T05:54:00.574Z"
      },
      {
        "duration": 1088824,
        "start_time": "2023-04-04T05:54:00.580Z"
      },
      {
        "duration": 4,
        "start_time": "2023-04-04T06:12:09.406Z"
      },
      {
        "duration": 4,
        "start_time": "2023-04-04T06:16:38.090Z"
      },
      {
        "duration": 17,
        "start_time": "2023-04-04T06:16:38.095Z"
      },
      {
        "duration": 1432,
        "start_time": "2023-04-04T06:25:00.572Z"
      },
      {
        "duration": 778,
        "start_time": "2023-04-04T06:25:02.006Z"
      },
      {
        "duration": 120,
        "start_time": "2023-04-04T06:25:02.785Z"
      },
      {
        "duration": 122,
        "start_time": "2023-04-04T06:25:02.907Z"
      },
      {
        "duration": 586,
        "start_time": "2023-04-04T06:25:03.032Z"
      },
      {
        "duration": 410,
        "start_time": "2023-04-04T06:25:03.620Z"
      },
      {
        "duration": 888,
        "start_time": "2023-04-04T06:25:04.032Z"
      },
      {
        "duration": 95,
        "start_time": "2023-04-04T06:25:04.922Z"
      },
      {
        "duration": 5040,
        "start_time": "2023-04-04T06:25:05.019Z"
      },
      {
        "duration": 175,
        "start_time": "2023-04-04T06:25:10.061Z"
      },
      {
        "duration": 274,
        "start_time": "2023-04-04T06:25:10.237Z"
      },
      {
        "duration": 181,
        "start_time": "2023-04-04T06:25:10.514Z"
      },
      {
        "duration": 180,
        "start_time": "2023-04-04T06:25:10.696Z"
      },
      {
        "duration": 32,
        "start_time": "2023-04-04T06:25:10.880Z"
      },
      {
        "duration": 74,
        "start_time": "2023-04-04T06:25:10.914Z"
      },
      {
        "duration": 769,
        "start_time": "2023-04-04T06:25:10.990Z"
      },
      {
        "duration": 592,
        "start_time": "2023-04-04T06:25:11.760Z"
      },
      {
        "duration": 30795,
        "start_time": "2023-04-04T06:25:12.354Z"
      },
      {
        "duration": 4,
        "start_time": "2023-04-04T06:25:43.151Z"
      },
      {
        "duration": 32128,
        "start_time": "2023-04-04T06:25:43.157Z"
      },
      {
        "duration": 5,
        "start_time": "2023-04-04T06:26:15.286Z"
      },
      {
        "duration": 12,
        "start_time": "2023-04-06T07:14:08.561Z"
      },
      {
        "duration": 55,
        "start_time": "2023-04-06T07:14:30.065Z"
      },
      {
        "duration": 1827,
        "start_time": "2023-04-06T07:14:44.091Z"
      },
      {
        "duration": 1399,
        "start_time": "2023-04-06T07:14:45.921Z"
      },
      {
        "duration": 172,
        "start_time": "2023-04-06T07:14:47.322Z"
      },
      {
        "duration": 185,
        "start_time": "2023-04-06T07:14:47.496Z"
      },
      {
        "duration": 717,
        "start_time": "2023-04-06T07:14:47.684Z"
      },
      {
        "duration": 528,
        "start_time": "2023-04-06T07:14:48.403Z"
      },
      {
        "duration": 1116,
        "start_time": "2023-04-06T07:14:48.932Z"
      },
      {
        "duration": 111,
        "start_time": "2023-04-06T07:14:50.050Z"
      },
      {
        "duration": 5831,
        "start_time": "2023-04-06T07:14:50.166Z"
      },
      {
        "duration": 237,
        "start_time": "2023-04-06T07:14:56.000Z"
      },
      {
        "duration": 332,
        "start_time": "2023-04-06T07:14:56.239Z"
      },
      {
        "duration": 46,
        "start_time": "2023-04-06T07:14:56.572Z"
      },
      {
        "duration": 40,
        "start_time": "2023-04-06T07:14:56.620Z"
      },
      {
        "duration": 17,
        "start_time": "2023-04-06T07:14:56.662Z"
      },
      {
        "duration": 171,
        "start_time": "2023-04-06T07:14:56.681Z"
      },
      {
        "duration": 0,
        "start_time": "2023-04-06T07:14:56.854Z"
      },
      {
        "duration": 0,
        "start_time": "2023-04-06T07:14:56.854Z"
      },
      {
        "duration": 0,
        "start_time": "2023-04-06T07:14:56.855Z"
      },
      {
        "duration": 0,
        "start_time": "2023-04-06T07:14:56.856Z"
      },
      {
        "duration": 0,
        "start_time": "2023-04-06T07:14:56.856Z"
      },
      {
        "duration": 0,
        "start_time": "2023-04-06T07:14:56.857Z"
      },
      {
        "duration": 0,
        "start_time": "2023-04-06T07:14:56.858Z"
      },
      {
        "duration": 0,
        "start_time": "2023-04-06T07:14:56.858Z"
      },
      {
        "duration": 0,
        "start_time": "2023-04-06T07:14:56.859Z"
      },
      {
        "duration": 0,
        "start_time": "2023-04-06T07:14:56.860Z"
      },
      {
        "duration": 0,
        "start_time": "2023-04-06T07:14:56.865Z"
      },
      {
        "duration": 0,
        "start_time": "2023-04-06T07:14:56.866Z"
      },
      {
        "duration": 0,
        "start_time": "2023-04-06T07:14:56.867Z"
      },
      {
        "duration": 0,
        "start_time": "2023-04-06T07:14:56.868Z"
      },
      {
        "duration": 0,
        "start_time": "2023-04-06T07:14:56.869Z"
      },
      {
        "duration": 22,
        "start_time": "2023-04-06T07:18:49.622Z"
      },
      {
        "duration": 26,
        "start_time": "2023-04-06T07:18:56.133Z"
      },
      {
        "duration": 15,
        "start_time": "2023-04-06T07:19:11.372Z"
      },
      {
        "duration": 1601,
        "start_time": "2023-04-06T07:19:17.396Z"
      },
      {
        "duration": 1031,
        "start_time": "2023-04-06T07:19:18.999Z"
      },
      {
        "duration": 187,
        "start_time": "2023-04-06T07:19:20.032Z"
      },
      {
        "duration": 183,
        "start_time": "2023-04-06T07:19:20.221Z"
      },
      {
        "duration": 762,
        "start_time": "2023-04-06T07:19:20.406Z"
      },
      {
        "duration": 535,
        "start_time": "2023-04-06T07:19:21.170Z"
      },
      {
        "duration": 1157,
        "start_time": "2023-04-06T07:19:21.707Z"
      },
      {
        "duration": 105,
        "start_time": "2023-04-06T07:19:22.867Z"
      },
      {
        "duration": 6060,
        "start_time": "2023-04-06T07:19:22.974Z"
      },
      {
        "duration": 285,
        "start_time": "2023-04-06T07:19:29.037Z"
      },
      {
        "duration": 305,
        "start_time": "2023-04-06T07:19:29.324Z"
      },
      {
        "duration": 215,
        "start_time": "2023-04-06T07:19:29.630Z"
      },
      {
        "duration": 177,
        "start_time": "2023-04-06T07:19:29.847Z"
      },
      {
        "duration": 49,
        "start_time": "2023-04-06T07:19:30.025Z"
      },
      {
        "duration": 113,
        "start_time": "2023-04-06T07:19:30.076Z"
      },
      {
        "duration": 1220,
        "start_time": "2023-04-06T07:19:30.191Z"
      },
      {
        "duration": 677,
        "start_time": "2023-04-06T07:19:31.413Z"
      },
      {
        "duration": 34712,
        "start_time": "2023-04-06T07:19:32.092Z"
      },
      {
        "duration": 5,
        "start_time": "2023-04-06T07:20:06.806Z"
      },
      {
        "duration": 36383,
        "start_time": "2023-04-06T07:20:06.813Z"
      },
      {
        "duration": 6,
        "start_time": "2023-04-06T07:20:43.199Z"
      },
      {
        "duration": 405389,
        "start_time": "2023-04-06T07:20:43.207Z"
      },
      {
        "duration": 5,
        "start_time": "2023-04-06T07:27:28.598Z"
      },
      {
        "duration": 403485,
        "start_time": "2023-04-06T07:27:28.605Z"
      },
      {
        "duration": 53,
        "start_time": "2023-04-06T07:34:12.092Z"
      },
      {
        "duration": 467456,
        "start_time": "2023-04-06T07:34:12.153Z"
      },
      {
        "duration": 5,
        "start_time": "2023-04-06T07:41:59.611Z"
      },
      {
        "duration": 308124,
        "start_time": "2023-04-06T07:41:59.619Z"
      },
      {
        "duration": 19,
        "start_time": "2023-04-06T07:47:07.745Z"
      },
      {
        "duration": 21,
        "start_time": "2023-04-06T07:47:07.769Z"
      },
      {
        "duration": 154,
        "start_time": "2023-04-06T07:47:08.095Z"
      },
      {
        "duration": 134,
        "start_time": "2023-04-06T07:47:08.254Z"
      },
      {
        "duration": 2726,
        "start_time": "2023-04-06T07:53:22.346Z"
      },
      {
        "duration": 3299,
        "start_time": "2023-04-06T07:53:26.981Z"
      },
      {
        "duration": 233,
        "start_time": "2023-04-06T10:27:32.664Z"
      },
      {
        "duration": 239,
        "start_time": "2023-04-06T10:27:56.693Z"
      },
      {
        "duration": 261,
        "start_time": "2023-04-06T11:31:58.676Z"
      },
      {
        "duration": 1665,
        "start_time": "2023-04-06T11:32:45.594Z"
      },
      {
        "duration": 884,
        "start_time": "2023-04-06T11:33:29.059Z"
      },
      {
        "duration": 53364,
        "start_time": "2023-04-06T11:33:58.995Z"
      },
      {
        "duration": 10,
        "start_time": "2023-04-06T11:35:16.906Z"
      },
      {
        "duration": 48579,
        "start_time": "2023-04-06T11:35:22.418Z"
      },
      {
        "duration": 6,
        "start_time": "2023-04-06T11:37:58.921Z"
      },
      {
        "duration": 445333,
        "start_time": "2023-04-06T11:38:06.285Z"
      },
      {
        "duration": 7,
        "start_time": "2023-04-06T11:51:39.355Z"
      },
      {
        "duration": 15,
        "start_time": "2023-04-06T11:58:40.231Z"
      },
      {
        "duration": 2701,
        "start_time": "2023-04-06T12:07:39.065Z"
      },
      {
        "duration": 1578,
        "start_time": "2023-04-06T12:07:41.768Z"
      },
      {
        "duration": 266,
        "start_time": "2023-04-06T12:07:43.350Z"
      },
      {
        "duration": 249,
        "start_time": "2023-04-06T12:07:43.621Z"
      },
      {
        "duration": 1118,
        "start_time": "2023-04-06T12:07:43.872Z"
      },
      {
        "duration": 772,
        "start_time": "2023-04-06T12:07:45.005Z"
      },
      {
        "duration": 1694,
        "start_time": "2023-04-06T12:07:45.781Z"
      },
      {
        "duration": 212,
        "start_time": "2023-04-06T12:07:47.478Z"
      },
      {
        "duration": 8471,
        "start_time": "2023-04-06T12:07:47.693Z"
      },
      {
        "duration": 389,
        "start_time": "2023-04-06T12:07:56.177Z"
      },
      {
        "duration": 519,
        "start_time": "2023-04-06T12:07:56.568Z"
      },
      {
        "duration": 346,
        "start_time": "2023-04-06T12:07:57.090Z"
      },
      {
        "duration": 321,
        "start_time": "2023-04-06T12:07:57.449Z"
      },
      {
        "duration": 331,
        "start_time": "2023-04-06T12:07:57.778Z"
      },
      {
        "duration": 82,
        "start_time": "2023-04-06T12:07:58.112Z"
      },
      {
        "duration": 316,
        "start_time": "2023-04-06T12:07:58.202Z"
      },
      {
        "duration": 1623,
        "start_time": "2023-04-06T12:07:58.522Z"
      },
      {
        "duration": 867,
        "start_time": "2023-04-06T12:08:00.157Z"
      },
      {
        "duration": 47172,
        "start_time": "2023-04-06T12:08:01.032Z"
      },
      {
        "duration": 5,
        "start_time": "2023-04-06T12:08:48.206Z"
      },
      {
        "duration": 39287,
        "start_time": "2023-04-06T12:08:48.212Z"
      },
      {
        "duration": 6,
        "start_time": "2023-04-06T12:09:27.507Z"
      },
      {
        "duration": 543588,
        "start_time": "2023-04-06T12:09:27.515Z"
      },
      {
        "duration": 9,
        "start_time": "2023-04-06T12:18:31.107Z"
      },
      {
        "duration": 449430,
        "start_time": "2023-04-06T12:18:31.118Z"
      },
      {
        "duration": 6,
        "start_time": "2023-04-06T12:26:00.555Z"
      },
      {
        "duration": 2766688,
        "start_time": "2023-04-06T12:26:00.564Z"
      },
      {
        "duration": 4,
        "start_time": "2023-04-06T13:12:07.254Z"
      },
      {
        "duration": 229078,
        "start_time": "2023-04-06T13:12:07.260Z"
      },
      {
        "duration": 131,
        "start_time": "2023-04-06T13:15:56.344Z"
      },
      {
        "duration": 0,
        "start_time": "2023-04-06T13:15:56.477Z"
      },
      {
        "duration": 8,
        "start_time": "2023-04-06T13:27:16.259Z"
      },
      {
        "duration": 7,
        "start_time": "2023-04-06T13:27:20.229Z"
      },
      {
        "duration": 34532,
        "start_time": "2023-04-06T14:46:28.438Z"
      },
      {
        "duration": 228,
        "start_time": "2023-04-06T14:47:18.267Z"
      },
      {
        "duration": 234,
        "start_time": "2023-04-06T14:47:40.475Z"
      },
      {
        "duration": 1612,
        "start_time": "2023-04-06T17:33:22.173Z"
      },
      {
        "duration": 970,
        "start_time": "2023-04-06T17:33:23.787Z"
      },
      {
        "duration": 119,
        "start_time": "2023-04-06T17:33:24.759Z"
      },
      {
        "duration": 137,
        "start_time": "2023-04-06T17:33:24.886Z"
      },
      {
        "duration": 580,
        "start_time": "2023-04-06T17:33:25.025Z"
      },
      {
        "duration": 391,
        "start_time": "2023-04-06T17:33:25.607Z"
      },
      {
        "duration": 881,
        "start_time": "2023-04-06T17:33:26.000Z"
      },
      {
        "duration": 100,
        "start_time": "2023-04-06T17:33:26.883Z"
      },
      {
        "duration": 5072,
        "start_time": "2023-04-06T17:33:26.986Z"
      },
      {
        "duration": 159,
        "start_time": "2023-04-06T17:33:32.061Z"
      },
      {
        "duration": 241,
        "start_time": "2023-04-06T17:33:32.222Z"
      },
      {
        "duration": 161,
        "start_time": "2023-04-06T17:33:32.464Z"
      },
      {
        "duration": 141,
        "start_time": "2023-04-06T17:33:32.626Z"
      },
      {
        "duration": 157,
        "start_time": "2023-04-06T17:33:32.769Z"
      },
      {
        "duration": 31,
        "start_time": "2023-04-06T17:33:32.928Z"
      },
      {
        "duration": 125,
        "start_time": "2023-04-06T17:33:32.960Z"
      },
      {
        "duration": 720,
        "start_time": "2023-04-06T17:33:33.087Z"
      },
      {
        "duration": 424,
        "start_time": "2023-04-06T17:33:33.809Z"
      },
      {
        "duration": 30587,
        "start_time": "2023-04-06T17:33:34.239Z"
      },
      {
        "duration": 134,
        "start_time": "2023-04-06T17:34:04.827Z"
      },
      {
        "duration": 6,
        "start_time": "2023-04-06T17:34:04.963Z"
      },
      {
        "duration": 24761,
        "start_time": "2023-04-06T17:34:04.970Z"
      },
      {
        "duration": 63,
        "start_time": "2023-04-06T17:34:29.732Z"
      },
      {
        "duration": 3,
        "start_time": "2023-04-06T17:34:29.797Z"
      },
      {
        "duration": 29738,
        "start_time": "2023-04-06T17:34:29.802Z"
      },
      {
        "duration": 1007,
        "start_time": "2023-04-06T17:34:59.543Z"
      },
      {
        "duration": 5,
        "start_time": "2023-04-06T17:35:00.552Z"
      },
      {
        "duration": 4383,
        "start_time": "2023-04-06T17:35:00.560Z"
      },
      {
        "duration": 598,
        "start_time": "2023-04-06T17:35:04.945Z"
      },
      {
        "duration": 4,
        "start_time": "2023-04-06T17:35:05.545Z"
      },
      {
        "duration": 312341,
        "start_time": "2023-04-06T17:35:05.551Z"
      },
      {
        "duration": 3409,
        "start_time": "2023-04-06T17:40:17.893Z"
      },
      {
        "duration": 4,
        "start_time": "2023-04-06T17:40:21.303Z"
      },
      {
        "duration": 37349,
        "start_time": "2023-04-06T17:40:21.309Z"
      },
      {
        "duration": 411,
        "start_time": "2023-04-06T17:40:58.659Z"
      },
      {
        "duration": 9,
        "start_time": "2023-04-06T17:40:59.071Z"
      },
      {
        "duration": 0,
        "start_time": "2023-04-06T17:40:59.082Z"
      },
      {
        "duration": 0,
        "start_time": "2023-04-06T17:40:59.083Z"
      },
      {
        "duration": 1927,
        "start_time": "2023-04-06T17:41:27.633Z"
      },
      {
        "duration": 4,
        "start_time": "2023-04-06T17:41:36.194Z"
      },
      {
        "duration": 6,
        "start_time": "2023-04-06T17:41:40.289Z"
      },
      {
        "duration": 911,
        "start_time": "2023-04-06T18:25:43.029Z"
      },
      {
        "duration": 453,
        "start_time": "2023-04-06T18:26:11.594Z"
      },
      {
        "duration": 2055,
        "start_time": "2023-04-06T18:26:58.560Z"
      },
      {
        "duration": 8,
        "start_time": "2023-04-06T18:27:14.218Z"
      },
      {
        "duration": 7,
        "start_time": "2023-04-06T18:28:43.598Z"
      },
      {
        "duration": 101,
        "start_time": "2023-04-06T18:30:51.086Z"
      },
      {
        "duration": 1011,
        "start_time": "2023-04-06T18:52:23.490Z"
      },
      {
        "duration": 612,
        "start_time": "2023-04-06T18:55:06.792Z"
      },
      {
        "duration": 118,
        "start_time": "2023-04-06T18:56:09.849Z"
      },
      {
        "duration": 10150,
        "start_time": "2023-04-06T18:59:12.380Z"
      },
      {
        "duration": 112,
        "start_time": "2023-04-06T18:59:29.137Z"
      },
      {
        "duration": 6,
        "start_time": "2023-04-06T18:59:33.779Z"
      },
      {
        "duration": 25542,
        "start_time": "2023-04-06T19:03:55.803Z"
      },
      {
        "duration": 149,
        "start_time": "2023-04-06T19:04:29.787Z"
      },
      {
        "duration": 5,
        "start_time": "2023-04-06T19:04:34.591Z"
      },
      {
        "duration": 177,
        "start_time": "2023-04-06T19:08:28.042Z"
      },
      {
        "duration": 1887,
        "start_time": "2023-04-06T19:29:09.120Z"
      },
      {
        "duration": 895,
        "start_time": "2023-04-06T19:29:11.009Z"
      },
      {
        "duration": 129,
        "start_time": "2023-04-06T19:29:11.905Z"
      },
      {
        "duration": 114,
        "start_time": "2023-04-06T19:29:12.039Z"
      },
      {
        "duration": 610,
        "start_time": "2023-04-06T19:29:12.155Z"
      },
      {
        "duration": 423,
        "start_time": "2023-04-06T19:29:12.767Z"
      },
      {
        "duration": 919,
        "start_time": "2023-04-06T19:29:13.192Z"
      },
      {
        "duration": 100,
        "start_time": "2023-04-06T19:29:14.112Z"
      },
      {
        "duration": 5192,
        "start_time": "2023-04-06T19:29:14.214Z"
      },
      {
        "duration": 166,
        "start_time": "2023-04-06T19:29:19.409Z"
      },
      {
        "duration": 244,
        "start_time": "2023-04-06T19:29:19.576Z"
      },
      {
        "duration": 165,
        "start_time": "2023-04-06T19:29:19.822Z"
      },
      {
        "duration": 150,
        "start_time": "2023-04-06T19:29:19.990Z"
      },
      {
        "duration": 164,
        "start_time": "2023-04-06T19:29:20.142Z"
      },
      {
        "duration": 37,
        "start_time": "2023-04-06T19:29:20.308Z"
      },
      {
        "duration": 124,
        "start_time": "2023-04-06T19:29:20.347Z"
      },
      {
        "duration": 935,
        "start_time": "2023-04-06T19:29:20.472Z"
      },
      {
        "duration": 532,
        "start_time": "2023-04-06T19:29:21.409Z"
      },
      {
        "duration": 25257,
        "start_time": "2023-04-06T19:29:21.943Z"
      },
      {
        "duration": 111,
        "start_time": "2023-04-06T19:29:47.202Z"
      },
      {
        "duration": 4,
        "start_time": "2023-04-06T19:29:47.315Z"
      },
      {
        "duration": 25704,
        "start_time": "2023-04-06T19:29:47.320Z"
      },
      {
        "duration": 65,
        "start_time": "2023-04-06T19:30:13.025Z"
      },
      {
        "duration": 3,
        "start_time": "2023-04-06T19:30:13.092Z"
      },
      {
        "duration": 6948,
        "start_time": "2023-04-06T19:30:13.097Z"
      },
      {
        "duration": 801,
        "start_time": "2023-04-06T19:30:20.047Z"
      },
      {
        "duration": 4,
        "start_time": "2023-04-06T19:30:20.852Z"
      },
      {
        "duration": 4907,
        "start_time": "2023-04-06T19:30:20.940Z"
      },
      {
        "duration": 603,
        "start_time": "2023-04-06T19:30:25.849Z"
      },
      {
        "duration": 5,
        "start_time": "2023-04-06T19:30:26.454Z"
      },
      {
        "duration": 252478,
        "start_time": "2023-04-06T19:30:26.541Z"
      },
      {
        "duration": 2564,
        "start_time": "2023-04-06T19:34:39.021Z"
      },
      {
        "duration": 4,
        "start_time": "2023-04-06T19:34:41.586Z"
      },
      {
        "duration": 38497,
        "start_time": "2023-04-06T19:34:41.592Z"
      },
      {
        "duration": 1912,
        "start_time": "2023-04-06T19:35:20.091Z"
      },
      {
        "duration": 3,
        "start_time": "2023-04-06T19:35:22.005Z"
      },
      {
        "duration": 6,
        "start_time": "2023-04-06T19:35:22.010Z"
      },
      {
        "duration": 23,
        "start_time": "2023-04-06T19:35:22.018Z"
      },
      {
        "duration": 25532,
        "start_time": "2023-04-06T19:35:22.043Z"
      },
      {
        "duration": 113,
        "start_time": "2023-04-06T19:35:47.577Z"
      },
      {
        "duration": 4,
        "start_time": "2023-04-06T19:35:47.692Z"
      }
    ],
    "kernelspec": {
      "display_name": "Python 3 (ipykernel)",
      "language": "python",
      "name": "python3"
    },
    "language_info": {
      "codemirror_mode": {
        "name": "ipython",
        "version": 3
      },
      "file_extension": ".py",
      "mimetype": "text/x-python",
      "name": "python",
      "nbconvert_exporter": "python",
      "pygments_lexer": "ipython3",
      "version": "3.9.5"
    },
    "toc": {
      "base_numbering": 1,
      "nav_menu": {},
      "number_sections": true,
      "sideBar": true,
      "skip_h1_title": true,
      "title_cell": "Table of Contents",
      "title_sidebar": "Contents",
      "toc_cell": false,
      "toc_position": {},
      "toc_section_display": true,
      "toc_window_display": false
    },
    "colab": {
      "provenance": [],
      "collapsed_sections": [
        "fPzy0Rkar61V"
      ]
    }
  },
  "nbformat": 4,
  "nbformat_minor": 0
}