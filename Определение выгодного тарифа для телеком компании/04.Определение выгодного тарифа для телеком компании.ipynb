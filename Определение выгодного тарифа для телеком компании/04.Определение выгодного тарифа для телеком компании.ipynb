{
  "cells": [
    {
      "cell_type": "markdown",
      "source": [
        "### Обзор даннных"
      ],
      "metadata": {
        "id": "A4gaBAm6Ov-p"
      }
    },
    {
      "cell_type": "markdown",
      "source": [
        "Загружаю библиотеки"
      ],
      "metadata": {
        "id": "d_93T-hIJKzN"
      }
    },
    {
      "cell_type": "code",
      "source": [
        "import pandas as pd\n",
        "import matplotlib.pyplot as plt\n",
        "import numpy as np\n",
        "import seaborn as sns\n",
        "from scipy import stats as st"
      ],
      "metadata": {
        "id": "50Jja2fUNiIG"
      },
      "execution_count": 1,
      "outputs": []
    },
    {
      "cell_type": "markdown",
      "source": [
        "Знакомлюсь с данными"
      ],
      "metadata": {
        "id": "JIbtYGvPNpRx"
      }
    },
    {
      "cell_type": "code",
      "execution_count": 2,
      "metadata": {
        "deletable": false,
        "colab": {
          "base_uri": "https://localhost:8080/",
          "height": 1000
        },
        "id": "jZf8F8o6M7pW",
        "outputId": "4eba257e-d654-4561-d601-3f5a808f50dd"
      },
      "outputs": [
        {
          "output_type": "display_data",
          "data": {
            "text/plain": [
              "       id   call_date  duration  user_id\n",
              "0  1000_0  2018-07-25      0.00     1000\n",
              "1  1000_1  2018-08-17      0.00     1000\n",
              "2  1000_2  2018-06-11      2.85     1000\n",
              "3  1000_3  2018-09-21     13.80     1000\n",
              "4  1000_4  2018-12-15      5.18     1000"
            ],
            "text/html": [
              "\n",
              "\n",
              "  <div id=\"df-ae5e2af1-7193-4a41-9188-ccf96e3cd9bb\">\n",
              "    <div class=\"colab-df-container\">\n",
              "      <div>\n",
              "<style scoped>\n",
              "    .dataframe tbody tr th:only-of-type {\n",
              "        vertical-align: middle;\n",
              "    }\n",
              "\n",
              "    .dataframe tbody tr th {\n",
              "        vertical-align: top;\n",
              "    }\n",
              "\n",
              "    .dataframe thead th {\n",
              "        text-align: right;\n",
              "    }\n",
              "</style>\n",
              "<table border=\"1\" class=\"dataframe\">\n",
              "  <thead>\n",
              "    <tr style=\"text-align: right;\">\n",
              "      <th></th>\n",
              "      <th>id</th>\n",
              "      <th>call_date</th>\n",
              "      <th>duration</th>\n",
              "      <th>user_id</th>\n",
              "    </tr>\n",
              "  </thead>\n",
              "  <tbody>\n",
              "    <tr>\n",
              "      <th>0</th>\n",
              "      <td>1000_0</td>\n",
              "      <td>2018-07-25</td>\n",
              "      <td>0.00</td>\n",
              "      <td>1000</td>\n",
              "    </tr>\n",
              "    <tr>\n",
              "      <th>1</th>\n",
              "      <td>1000_1</td>\n",
              "      <td>2018-08-17</td>\n",
              "      <td>0.00</td>\n",
              "      <td>1000</td>\n",
              "    </tr>\n",
              "    <tr>\n",
              "      <th>2</th>\n",
              "      <td>1000_2</td>\n",
              "      <td>2018-06-11</td>\n",
              "      <td>2.85</td>\n",
              "      <td>1000</td>\n",
              "    </tr>\n",
              "    <tr>\n",
              "      <th>3</th>\n",
              "      <td>1000_3</td>\n",
              "      <td>2018-09-21</td>\n",
              "      <td>13.80</td>\n",
              "      <td>1000</td>\n",
              "    </tr>\n",
              "    <tr>\n",
              "      <th>4</th>\n",
              "      <td>1000_4</td>\n",
              "      <td>2018-12-15</td>\n",
              "      <td>5.18</td>\n",
              "      <td>1000</td>\n",
              "    </tr>\n",
              "  </tbody>\n",
              "</table>\n",
              "</div>\n",
              "      <button class=\"colab-df-convert\" onclick=\"convertToInteractive('df-ae5e2af1-7193-4a41-9188-ccf96e3cd9bb')\"\n",
              "              title=\"Convert this dataframe to an interactive table.\"\n",
              "              style=\"display:none;\">\n",
              "\n",
              "  <svg xmlns=\"http://www.w3.org/2000/svg\" height=\"24px\"viewBox=\"0 0 24 24\"\n",
              "       width=\"24px\">\n",
              "    <path d=\"M0 0h24v24H0V0z\" fill=\"none\"/>\n",
              "    <path d=\"M18.56 5.44l.94 2.06.94-2.06 2.06-.94-2.06-.94-.94-2.06-.94 2.06-2.06.94zm-11 1L8.5 8.5l.94-2.06 2.06-.94-2.06-.94L8.5 2.5l-.94 2.06-2.06.94zm10 10l.94 2.06.94-2.06 2.06-.94-2.06-.94-.94-2.06-.94 2.06-2.06.94z\"/><path d=\"M17.41 7.96l-1.37-1.37c-.4-.4-.92-.59-1.43-.59-.52 0-1.04.2-1.43.59L10.3 9.45l-7.72 7.72c-.78.78-.78 2.05 0 2.83L4 21.41c.39.39.9.59 1.41.59.51 0 1.02-.2 1.41-.59l7.78-7.78 2.81-2.81c.8-.78.8-2.07 0-2.86zM5.41 20L4 18.59l7.72-7.72 1.47 1.35L5.41 20z\"/>\n",
              "  </svg>\n",
              "      </button>\n",
              "\n",
              "\n",
              "\n",
              "    <div id=\"df-da33e963-3db6-4107-8107-27ea9305933a\">\n",
              "      <button class=\"colab-df-quickchart\" onclick=\"quickchart('df-da33e963-3db6-4107-8107-27ea9305933a')\"\n",
              "              title=\"Suggest charts.\"\n",
              "              style=\"display:none;\">\n",
              "\n",
              "<svg xmlns=\"http://www.w3.org/2000/svg\" height=\"24px\"viewBox=\"0 0 24 24\"\n",
              "     width=\"24px\">\n",
              "    <g>\n",
              "        <path d=\"M19 3H5c-1.1 0-2 .9-2 2v14c0 1.1.9 2 2 2h14c1.1 0 2-.9 2-2V5c0-1.1-.9-2-2-2zM9 17H7v-7h2v7zm4 0h-2V7h2v10zm4 0h-2v-4h2v4z\"/>\n",
              "    </g>\n",
              "</svg>\n",
              "      </button>\n",
              "    </div>\n",
              "\n",
              "<style>\n",
              "  .colab-df-quickchart {\n",
              "    background-color: #E8F0FE;\n",
              "    border: none;\n",
              "    border-radius: 50%;\n",
              "    cursor: pointer;\n",
              "    display: none;\n",
              "    fill: #1967D2;\n",
              "    height: 32px;\n",
              "    padding: 0 0 0 0;\n",
              "    width: 32px;\n",
              "  }\n",
              "\n",
              "  .colab-df-quickchart:hover {\n",
              "    background-color: #E2EBFA;\n",
              "    box-shadow: 0px 1px 2px rgba(60, 64, 67, 0.3), 0px 1px 3px 1px rgba(60, 64, 67, 0.15);\n",
              "    fill: #174EA6;\n",
              "  }\n",
              "\n",
              "  [theme=dark] .colab-df-quickchart {\n",
              "    background-color: #3B4455;\n",
              "    fill: #D2E3FC;\n",
              "  }\n",
              "\n",
              "  [theme=dark] .colab-df-quickchart:hover {\n",
              "    background-color: #434B5C;\n",
              "    box-shadow: 0px 1px 3px 1px rgba(0, 0, 0, 0.15);\n",
              "    filter: drop-shadow(0px 1px 2px rgba(0, 0, 0, 0.3));\n",
              "    fill: #FFFFFF;\n",
              "  }\n",
              "</style>\n",
              "\n",
              "    <script>\n",
              "      async function quickchart(key) {\n",
              "        const containerElement = document.querySelector('#' + key);\n",
              "        const charts = await google.colab.kernel.invokeFunction(\n",
              "            'suggestCharts', [key], {});\n",
              "      }\n",
              "    </script>\n",
              "\n",
              "      <script>\n",
              "\n",
              "function displayQuickchartButton(domScope) {\n",
              "  let quickchartButtonEl =\n",
              "    domScope.querySelector('#df-da33e963-3db6-4107-8107-27ea9305933a button.colab-df-quickchart');\n",
              "  quickchartButtonEl.style.display =\n",
              "    google.colab.kernel.accessAllowed ? 'block' : 'none';\n",
              "}\n",
              "\n",
              "        displayQuickchartButton(document);\n",
              "      </script>\n",
              "      <style>\n",
              "    .colab-df-container {\n",
              "      display:flex;\n",
              "      flex-wrap:wrap;\n",
              "      gap: 12px;\n",
              "    }\n",
              "\n",
              "    .colab-df-convert {\n",
              "      background-color: #E8F0FE;\n",
              "      border: none;\n",
              "      border-radius: 50%;\n",
              "      cursor: pointer;\n",
              "      display: none;\n",
              "      fill: #1967D2;\n",
              "      height: 32px;\n",
              "      padding: 0 0 0 0;\n",
              "      width: 32px;\n",
              "    }\n",
              "\n",
              "    .colab-df-convert:hover {\n",
              "      background-color: #E2EBFA;\n",
              "      box-shadow: 0px 1px 2px rgba(60, 64, 67, 0.3), 0px 1px 3px 1px rgba(60, 64, 67, 0.15);\n",
              "      fill: #174EA6;\n",
              "    }\n",
              "\n",
              "    [theme=dark] .colab-df-convert {\n",
              "      background-color: #3B4455;\n",
              "      fill: #D2E3FC;\n",
              "    }\n",
              "\n",
              "    [theme=dark] .colab-df-convert:hover {\n",
              "      background-color: #434B5C;\n",
              "      box-shadow: 0px 1px 3px 1px rgba(0, 0, 0, 0.15);\n",
              "      filter: drop-shadow(0px 1px 2px rgba(0, 0, 0, 0.3));\n",
              "      fill: #FFFFFF;\n",
              "    }\n",
              "  </style>\n",
              "\n",
              "      <script>\n",
              "        const buttonEl =\n",
              "          document.querySelector('#df-ae5e2af1-7193-4a41-9188-ccf96e3cd9bb button.colab-df-convert');\n",
              "        buttonEl.style.display =\n",
              "          google.colab.kernel.accessAllowed ? 'block' : 'none';\n",
              "\n",
              "        async function convertToInteractive(key) {\n",
              "          const element = document.querySelector('#df-ae5e2af1-7193-4a41-9188-ccf96e3cd9bb');\n",
              "          const dataTable =\n",
              "            await google.colab.kernel.invokeFunction('convertToInteractive',\n",
              "                                                     [key], {});\n",
              "          if (!dataTable) return;\n",
              "\n",
              "          const docLinkHtml = 'Like what you see? Visit the ' +\n",
              "            '<a target=\"_blank\" href=https://colab.research.google.com/notebooks/data_table.ipynb>data table notebook</a>'\n",
              "            + ' to learn more about interactive tables.';\n",
              "          element.innerHTML = '';\n",
              "          dataTable['output_type'] = 'display_data';\n",
              "          await google.colab.output.renderOutput(dataTable, element);\n",
              "          const docLink = document.createElement('div');\n",
              "          docLink.innerHTML = docLinkHtml;\n",
              "          element.appendChild(docLink);\n",
              "        }\n",
              "      </script>\n",
              "    </div>\n",
              "  </div>\n"
            ]
          },
          "metadata": {}
        },
        {
          "output_type": "stream",
          "name": "stdout",
          "text": [
            "<class 'pandas.core.frame.DataFrame'>\n",
            "RangeIndex: 202607 entries, 0 to 202606\n",
            "Data columns (total 4 columns):\n",
            " #   Column     Non-Null Count   Dtype  \n",
            "---  ------     --------------   -----  \n",
            " 0   id         202607 non-null  object \n",
            " 1   call_date  202607 non-null  object \n",
            " 2   duration   202607 non-null  float64\n",
            " 3   user_id    202607 non-null  int64  \n",
            "dtypes: float64(1), int64(1), object(2)\n",
            "memory usage: 6.2+ MB\n"
          ]
        },
        {
          "output_type": "display_data",
          "data": {
            "text/plain": [
              "<Figure size 640x480 with 1 Axes>"
            ],
            "image/png": "[encoded data removed]"
          },
          "metadata": {}
        },
        {
          "output_type": "display_data",
          "data": {
            "text/plain": [
              "   Unnamed: 0      id  mb_used session_date  user_id\n",
              "0           0  1000_0   112.95   2018-11-25     1000\n",
              "1           1  1000_1  1052.81   2018-09-07     1000\n",
              "2           2  1000_2  1197.26   2018-06-25     1000\n",
              "3           3  1000_3   550.27   2018-08-22     1000\n",
              "4           4  1000_4   302.56   2018-09-24     1000"
            ],
            "text/html": [
              "\n",
              "\n",
              "  <div id=\"df-96780a62-7b8c-4fd7-b106-f36223750519\">\n",
              "    <div class=\"colab-df-container\">\n",
              "      <div>\n",
              "<style scoped>\n",
              "    .dataframe tbody tr th:only-of-type {\n",
              "        vertical-align: middle;\n",
              "    }\n",
              "\n",
              "    .dataframe tbody tr th {\n",
              "        vertical-align: top;\n",
              "    }\n",
              "\n",
              "    .dataframe thead th {\n",
              "        text-align: right;\n",
              "    }\n",
              "</style>\n",
              "<table border=\"1\" class=\"dataframe\">\n",
              "  <thead>\n",
              "    <tr style=\"text-align: right;\">\n",
              "      <th></th>\n",
              "      <th>Unnamed: 0</th>\n",
              "      <th>id</th>\n",
              "      <th>mb_used</th>\n",
              "      <th>session_date</th>\n",
              "      <th>user_id</th>\n",
              "    </tr>\n",
              "  </thead>\n",
              "  <tbody>\n",
              "    <tr>\n",
              "      <th>0</th>\n",
              "      <td>0</td>\n",
              "      <td>1000_0</td>\n",
              "      <td>112.95</td>\n",
              "      <td>2018-11-25</td>\n",
              "      <td>1000</td>\n",
              "    </tr>\n",
              "    <tr>\n",
              "      <th>1</th>\n",
              "      <td>1</td>\n",
              "      <td>1000_1</td>\n",
              "      <td>1052.81</td>\n",
              "      <td>2018-09-07</td>\n",
              "      <td>1000</td>\n",
              "    </tr>\n",
              "    <tr>\n",
              "      <th>2</th>\n",
              "      <td>2</td>\n",
              "      <td>1000_2</td>\n",
              "      <td>1197.26</td>\n",
              "      <td>2018-06-25</td>\n",
              "      <td>1000</td>\n",
              "    </tr>\n",
              "    <tr>\n",
              "      <th>3</th>\n",
              "      <td>3</td>\n",
              "      <td>1000_3</td>\n",
              "      <td>550.27</td>\n",
              "      <td>2018-08-22</td>\n",
              "      <td>1000</td>\n",
              "    </tr>\n",
              "    <tr>\n",
              "      <th>4</th>\n",
              "      <td>4</td>\n",
              "      <td>1000_4</td>\n",
              "      <td>302.56</td>\n",
              "      <td>2018-09-24</td>\n",
              "      <td>1000</td>\n",
              "    </tr>\n",
              "  </tbody>\n",
              "</table>\n",
              "</div>\n",
              "      <button class=\"colab-df-convert\" onclick=\"convertToInteractive('df-96780a62-7b8c-4fd7-b106-f36223750519')\"\n",
              "              title=\"Convert this dataframe to an interactive table.\"\n",
              "              style=\"display:none;\">\n",
              "\n",
              "  <svg xmlns=\"http://www.w3.org/2000/svg\" height=\"24px\"viewBox=\"0 0 24 24\"\n",
              "       width=\"24px\">\n",
              "    <path d=\"M0 0h24v24H0V0z\" fill=\"none\"/>\n",
              "    <path d=\"M18.56 5.44l.94 2.06.94-2.06 2.06-.94-2.06-.94-.94-2.06-.94 2.06-2.06.94zm-11 1L8.5 8.5l.94-2.06 2.06-.94-2.06-.94L8.5 2.5l-.94 2.06-2.06.94zm10 10l.94 2.06.94-2.06 2.06-.94-2.06-.94-.94-2.06-.94 2.06-2.06.94z\"/><path d=\"M17.41 7.96l-1.37-1.37c-.4-.4-.92-.59-1.43-.59-.52 0-1.04.2-1.43.59L10.3 9.45l-7.72 7.72c-.78.78-.78 2.05 0 2.83L4 21.41c.39.39.9.59 1.41.59.51 0 1.02-.2 1.41-.59l7.78-7.78 2.81-2.81c.8-.78.8-2.07 0-2.86zM5.41 20L4 18.59l7.72-7.72 1.47 1.35L5.41 20z\"/>\n",
              "  </svg>\n",
              "      </button>\n",
              "\n",
              "\n",
              "\n",
              "    <div id=\"df-81f2ddb1-06d2-473a-93fd-1f01c52a0590\">\n",
              "      <button class=\"colab-df-quickchart\" onclick=\"quickchart('df-81f2ddb1-06d2-473a-93fd-1f01c52a0590')\"\n",
              "              title=\"Suggest charts.\"\n",
              "              style=\"display:none;\">\n",
              "\n",
              "<svg xmlns=\"http://www.w3.org/2000/svg\" height=\"24px\"viewBox=\"0 0 24 24\"\n",
              "     width=\"24px\">\n",
              "    <g>\n",
              "        <path d=\"M19 3H5c-1.1 0-2 .9-2 2v14c0 1.1.9 2 2 2h14c1.1 0 2-.9 2-2V5c0-1.1-.9-2-2-2zM9 17H7v-7h2v7zm4 0h-2V7h2v10zm4 0h-2v-4h2v4z\"/>\n",
              "    </g>\n",
              "</svg>\n",
              "      </button>\n",
              "    </div>\n",
              "\n",
              "<style>\n",
              "  .colab-df-quickchart {\n",
              "    background-color: #E8F0FE;\n",
              "    border: none;\n",
              "    border-radius: 50%;\n",
              "    cursor: pointer;\n",
              "    display: none;\n",
              "    fill: #1967D2;\n",
              "    height: 32px;\n",
              "    padding: 0 0 0 0;\n",
              "    width: 32px;\n",
              "  }\n",
              "\n",
              "  .colab-df-quickchart:hover {\n",
              "    background-color: #E2EBFA;\n",
              "    box-shadow: 0px 1px 2px rgba(60, 64, 67, 0.3), 0px 1px 3px 1px rgba(60, 64, 67, 0.15);\n",
              "    fill: #174EA6;\n",
              "  }\n",
              "\n",
              "  [theme=dark] .colab-df-quickchart {\n",
              "    background-color: #3B4455;\n",
              "    fill: #D2E3FC;\n",
              "  }\n",
              "\n",
              "  [theme=dark] .colab-df-quickchart:hover {\n",
              "    background-color: #434B5C;\n",
              "    box-shadow: 0px 1px 3px 1px rgba(0, 0, 0, 0.15);\n",
              "    filter: drop-shadow(0px 1px 2px rgba(0, 0, 0, 0.3));\n",
              "    fill: #FFFFFF;\n",
              "  }\n",
              "</style>\n",
              "\n",
              "    <script>\n",
              "      async function quickchart(key) {\n",
              "        const containerElement = document.querySelector('#' + key);\n",
              "        const charts = await google.colab.kernel.invokeFunction(\n",
              "            'suggestCharts', [key], {});\n",
              "      }\n",
              "    </script>\n",
              "\n",
              "      <script>\n",
              "\n",
              "function displayQuickchartButton(domScope) {\n",
              "  let quickchartButtonEl =\n",
              "    domScope.querySelector('#df-81f2ddb1-06d2-473a-93fd-1f01c52a0590 button.colab-df-quickchart');\n",
              "  quickchartButtonEl.style.display =\n",
              "    google.colab.kernel.accessAllowed ? 'block' : 'none';\n",
              "}\n",
              "\n",
              "        displayQuickchartButton(document);\n",
              "      </script>\n",
              "      <style>\n",
              "    .colab-df-container {\n",
              "      display:flex;\n",
              "      flex-wrap:wrap;\n",
              "      gap: 12px;\n",
              "    }\n",
              "\n",
              "    .colab-df-convert {\n",
              "      background-color: #E8F0FE;\n",
              "      border: none;\n",
              "      border-radius: 50%;\n",
              "      cursor: pointer;\n",
              "      display: none;\n",
              "      fill: #1967D2;\n",
              "      height: 32px;\n",
              "      padding: 0 0 0 0;\n",
              "      width: 32px;\n",
              "    }\n",
              "\n",
              "    .colab-df-convert:hover {\n",
              "      background-color: #E2EBFA;\n",
              "      box-shadow: 0px 1px 2px rgba(60, 64, 67, 0.3), 0px 1px 3px 1px rgba(60, 64, 67, 0.15);\n",
              "      fill: #174EA6;\n",
              "    }\n",
              "\n",
              "    [theme=dark] .colab-df-convert {\n",
              "      background-color: #3B4455;\n",
              "      fill: #D2E3FC;\n",
              "    }\n",
              "\n",
              "    [theme=dark] .colab-df-convert:hover {\n",
              "      background-color: #434B5C;\n",
              "      box-shadow: 0px 1px 3px 1px rgba(0, 0, 0, 0.15);\n",
              "      filter: drop-shadow(0px 1px 2px rgba(0, 0, 0, 0.3));\n",
              "      fill: #FFFFFF;\n",
              "    }\n",
              "  </style>\n",
              "\n",
              "      <script>\n",
              "        const buttonEl =\n",
              "          document.querySelector('#df-96780a62-7b8c-4fd7-b106-f36223750519 button.colab-df-convert');\n",
              "        buttonEl.style.display =\n",
              "          google.colab.kernel.accessAllowed ? 'block' : 'none';\n",
              "\n",
              "        async function convertToInteractive(key) {\n",
              "          const element = document.querySelector('#df-96780a62-7b8c-4fd7-b106-f36223750519');\n",
              "          const dataTable =\n",
              "            await google.colab.kernel.invokeFunction('convertToInteractive',\n",
              "                                                     [key], {});\n",
              "          if (!dataTable) return;\n",
              "\n",
              "          const docLinkHtml = 'Like what you see? Visit the ' +\n",
              "            '<a target=\"_blank\" href=https://colab.research.google.com/notebooks/data_table.ipynb>data table notebook</a>'\n",
              "            + ' to learn more about interactive tables.';\n",
              "          element.innerHTML = '';\n",
              "          dataTable['output_type'] = 'display_data';\n",
              "          await google.colab.output.renderOutput(dataTable, element);\n",
              "          const docLink = document.createElement('div');\n",
              "          docLink.innerHTML = docLinkHtml;\n",
              "          element.appendChild(docLink);\n",
              "        }\n",
              "      </script>\n",
              "    </div>\n",
              "  </div>\n"
            ]
          },
          "metadata": {}
        },
        {
          "output_type": "stream",
          "name": "stdout",
          "text": [
            "<class 'pandas.core.frame.DataFrame'>\n",
            "RangeIndex: 149396 entries, 0 to 149395\n",
            "Data columns (total 5 columns):\n",
            " #   Column        Non-Null Count   Dtype  \n",
            "---  ------        --------------   -----  \n",
            " 0   Unnamed: 0    149396 non-null  int64  \n",
            " 1   id            149396 non-null  object \n",
            " 2   mb_used       149396 non-null  float64\n",
            " 3   session_date  149396 non-null  object \n",
            " 4   user_id       149396 non-null  int64  \n",
            "dtypes: float64(1), int64(2), object(2)\n",
            "memory usage: 5.7+ MB\n"
          ]
        },
        {
          "output_type": "display_data",
          "data": {
            "text/plain": [
              "<Figure size 640x480 with 1 Axes>"
            ],
            "image/png": "[encoded data removed]"
          },
          "metadata": {}
        },
        {
          "output_type": "display_data",
          "data": {
            "text/plain": [
              "       id message_date  user_id\n",
              "0  1000_0   2018-06-27     1000\n",
              "1  1000_1   2018-10-08     1000\n",
              "2  1000_2   2018-08-04     1000\n",
              "3  1000_3   2018-06-16     1000\n",
              "4  1000_4   2018-12-05     1000"
            ],
            "text/html": [
              "\n",
              "\n",
              "  <div id=\"df-001fe5e3-7c94-410d-87a3-9921efc367ad\">\n",
              "    <div class=\"colab-df-container\">\n",
              "      <div>\n",
              "<style scoped>\n",
              "    .dataframe tbody tr th:only-of-type {\n",
              "        vertical-align: middle;\n",
              "    }\n",
              "\n",
              "    .dataframe tbody tr th {\n",
              "        vertical-align: top;\n",
              "    }\n",
              "\n",
              "    .dataframe thead th {\n",
              "        text-align: right;\n",
              "    }\n",
              "</style>\n",
              "<table border=\"1\" class=\"dataframe\">\n",
              "  <thead>\n",
              "    <tr style=\"text-align: right;\">\n",
              "      <th></th>\n",
              "      <th>id</th>\n",
              "      <th>message_date</th>\n",
              "      <th>user_id</th>\n",
              "    </tr>\n",
              "  </thead>\n",
              "  <tbody>\n",
              "    <tr>\n",
              "      <th>0</th>\n",
              "      <td>1000_0</td>\n",
              "      <td>2018-06-27</td>\n",
              "      <td>1000</td>\n",
              "    </tr>\n",
              "    <tr>\n",
              "      <th>1</th>\n",
              "      <td>1000_1</td>\n",
              "      <td>2018-10-08</td>\n",
              "      <td>1000</td>\n",
              "    </tr>\n",
              "    <tr>\n",
              "      <th>2</th>\n",
              "      <td>1000_2</td>\n",
              "      <td>2018-08-04</td>\n",
              "      <td>1000</td>\n",
              "    </tr>\n",
              "    <tr>\n",
              "      <th>3</th>\n",
              "      <td>1000_3</td>\n",
              "      <td>2018-06-16</td>\n",
              "      <td>1000</td>\n",
              "    </tr>\n",
              "    <tr>\n",
              "      <th>4</th>\n",
              "      <td>1000_4</td>\n",
              "      <td>2018-12-05</td>\n",
              "      <td>1000</td>\n",
              "    </tr>\n",
              "  </tbody>\n",
              "</table>\n",
              "</div>\n",
              "      <button class=\"colab-df-convert\" onclick=\"convertToInteractive('df-001fe5e3-7c94-410d-87a3-9921efc367ad')\"\n",
              "              title=\"Convert this dataframe to an interactive table.\"\n",
              "              style=\"display:none;\">\n",
              "\n",
              "  <svg xmlns=\"http://www.w3.org/2000/svg\" height=\"24px\"viewBox=\"0 0 24 24\"\n",
              "       width=\"24px\">\n",
              "    <path d=\"M0 0h24v24H0V0z\" fill=\"none\"/>\n",
              "    <path d=\"M18.56 5.44l.94 2.06.94-2.06 2.06-.94-2.06-.94-.94-2.06-.94 2.06-2.06.94zm-11 1L8.5 8.5l.94-2.06 2.06-.94-2.06-.94L8.5 2.5l-.94 2.06-2.06.94zm10 10l.94 2.06.94-2.06 2.06-.94-2.06-.94-.94-2.06-.94 2.06-2.06.94z\"/><path d=\"M17.41 7.96l-1.37-1.37c-.4-.4-.92-.59-1.43-.59-.52 0-1.04.2-1.43.59L10.3 9.45l-7.72 7.72c-.78.78-.78 2.05 0 2.83L4 21.41c.39.39.9.59 1.41.59.51 0 1.02-.2 1.41-.59l7.78-7.78 2.81-2.81c.8-.78.8-2.07 0-2.86zM5.41 20L4 18.59l7.72-7.72 1.47 1.35L5.41 20z\"/>\n",
              "  </svg>\n",
              "      </button>\n",
              "\n",
              "\n",
              "\n",
              "    <div id=\"df-c58586a2-eb96-49db-9818-c458ed2ccfc7\">\n",
              "      <button class=\"colab-df-quickchart\" onclick=\"quickchart('df-c58586a2-eb96-49db-9818-c458ed2ccfc7')\"\n",
              "              title=\"Suggest charts.\"\n",
              "              style=\"display:none;\">\n",
              "\n",
              "<svg xmlns=\"http://www.w3.org/2000/svg\" height=\"24px\"viewBox=\"0 0 24 24\"\n",
              "     width=\"24px\">\n",
              "    <g>\n",
              "        <path d=\"M19 3H5c-1.1 0-2 .9-2 2v14c0 1.1.9 2 2 2h14c1.1 0 2-.9 2-2V5c0-1.1-.9-2-2-2zM9 17H7v-7h2v7zm4 0h-2V7h2v10zm4 0h-2v-4h2v4z\"/>\n",
              "    </g>\n",
              "</svg>\n",
              "      </button>\n",
              "    </div>\n",
              "\n",
              "<style>\n",
              "  .colab-df-quickchart {\n",
              "    background-color: #E8F0FE;\n",
              "    border: none;\n",
              "    border-radius: 50%;\n",
              "    cursor: pointer;\n",
              "    display: none;\n",
              "    fill: #1967D2;\n",
              "    height: 32px;\n",
              "    padding: 0 0 0 0;\n",
              "    width: 32px;\n",
              "  }\n",
              "\n",
              "  .colab-df-quickchart:hover {\n",
              "    background-color: #E2EBFA;\n",
              "    box-shadow: 0px 1px 2px rgba(60, 64, 67, 0.3), 0px 1px 3px 1px rgba(60, 64, 67, 0.15);\n",
              "    fill: #174EA6;\n",
              "  }\n",
              "\n",
              "  [theme=dark] .colab-df-quickchart {\n",
              "    background-color: #3B4455;\n",
              "    fill: #D2E3FC;\n",
              "  }\n",
              "\n",
              "  [theme=dark] .colab-df-quickchart:hover {\n",
              "    background-color: #434B5C;\n",
              "    box-shadow: 0px 1px 3px 1px rgba(0, 0, 0, 0.15);\n",
              "    filter: drop-shadow(0px 1px 2px rgba(0, 0, 0, 0.3));\n",
              "    fill: #FFFFFF;\n",
              "  }\n",
              "</style>\n",
              "\n",
              "    <script>\n",
              "      async function quickchart(key) {\n",
              "        const containerElement = document.querySelector('#' + key);\n",
              "        const charts = await google.colab.kernel.invokeFunction(\n",
              "            'suggestCharts', [key], {});\n",
              "      }\n",
              "    </script>\n",
              "\n",
              "      <script>\n",
              "\n",
              "function displayQuickchartButton(domScope) {\n",
              "  let quickchartButtonEl =\n",
              "    domScope.querySelector('#df-c58586a2-eb96-49db-9818-c458ed2ccfc7 button.colab-df-quickchart');\n",
              "  quickchartButtonEl.style.display =\n",
              "    google.colab.kernel.accessAllowed ? 'block' : 'none';\n",
              "}\n",
              "\n",
              "        displayQuickchartButton(document);\n",
              "      </script>\n",
              "      <style>\n",
              "    .colab-df-container {\n",
              "      display:flex;\n",
              "      flex-wrap:wrap;\n",
              "      gap: 12px;\n",
              "    }\n",
              "\n",
              "    .colab-df-convert {\n",
              "      background-color: #E8F0FE;\n",
              "      border: none;\n",
              "      border-radius: 50%;\n",
              "      cursor: pointer;\n",
              "      display: none;\n",
              "      fill: #1967D2;\n",
              "      height: 32px;\n",
              "      padding: 0 0 0 0;\n",
              "      width: 32px;\n",
              "    }\n",
              "\n",
              "    .colab-df-convert:hover {\n",
              "      background-color: #E2EBFA;\n",
              "      box-shadow: 0px 1px 2px rgba(60, 64, 67, 0.3), 0px 1px 3px 1px rgba(60, 64, 67, 0.15);\n",
              "      fill: #174EA6;\n",
              "    }\n",
              "\n",
              "    [theme=dark] .colab-df-convert {\n",
              "      background-color: #3B4455;\n",
              "      fill: #D2E3FC;\n",
              "    }\n",
              "\n",
              "    [theme=dark] .colab-df-convert:hover {\n",
              "      background-color: #434B5C;\n",
              "      box-shadow: 0px 1px 3px 1px rgba(0, 0, 0, 0.15);\n",
              "      filter: drop-shadow(0px 1px 2px rgba(0, 0, 0, 0.3));\n",
              "      fill: #FFFFFF;\n",
              "    }\n",
              "  </style>\n",
              "\n",
              "      <script>\n",
              "        const buttonEl =\n",
              "          document.querySelector('#df-001fe5e3-7c94-410d-87a3-9921efc367ad button.colab-df-convert');\n",
              "        buttonEl.style.display =\n",
              "          google.colab.kernel.accessAllowed ? 'block' : 'none';\n",
              "\n",
              "        async function convertToInteractive(key) {\n",
              "          const element = document.querySelector('#df-001fe5e3-7c94-410d-87a3-9921efc367ad');\n",
              "          const dataTable =\n",
              "            await google.colab.kernel.invokeFunction('convertToInteractive',\n",
              "                                                     [key], {});\n",
              "          if (!dataTable) return;\n",
              "\n",
              "          const docLinkHtml = 'Like what you see? Visit the ' +\n",
              "            '<a target=\"_blank\" href=https://colab.research.google.com/notebooks/data_table.ipynb>data table notebook</a>'\n",
              "            + ' to learn more about interactive tables.';\n",
              "          element.innerHTML = '';\n",
              "          dataTable['output_type'] = 'display_data';\n",
              "          await google.colab.output.renderOutput(dataTable, element);\n",
              "          const docLink = document.createElement('div');\n",
              "          docLink.innerHTML = docLinkHtml;\n",
              "          element.appendChild(docLink);\n",
              "        }\n",
              "      </script>\n",
              "    </div>\n",
              "  </div>\n"
            ]
          },
          "metadata": {}
        },
        {
          "output_type": "stream",
          "name": "stdout",
          "text": [
            "<class 'pandas.core.frame.DataFrame'>\n",
            "RangeIndex: 123036 entries, 0 to 123035\n",
            "Data columns (total 3 columns):\n",
            " #   Column        Non-Null Count   Dtype \n",
            "---  ------        --------------   ----- \n",
            " 0   id            123036 non-null  object\n",
            " 1   message_date  123036 non-null  object\n",
            " 2   user_id       123036 non-null  int64 \n",
            "dtypes: int64(1), object(2)\n",
            "memory usage: 2.8+ MB\n"
          ]
        },
        {
          "output_type": "display_data",
          "data": {
            "text/plain": [
              "   messages_included  mb_per_month_included  minutes_included  \\\n",
              "0                 50                  15360               500   \n",
              "1               1000                  30720              3000   \n",
              "\n",
              "   rub_monthly_fee  rub_per_gb  rub_per_message  rub_per_minute tariff_name  \n",
              "0              550         200                3               3       smart  \n",
              "1             1950         150                1               1       ultra  "
            ],
            "text/html": [
              "\n",
              "\n",
              "  <div id=\"df-1b93e949-0453-4a14-90b2-2a176459b6d6\">\n",
              "    <div class=\"colab-df-container\">\n",
              "      <div>\n",
              "<style scoped>\n",
              "    .dataframe tbody tr th:only-of-type {\n",
              "        vertical-align: middle;\n",
              "    }\n",
              "\n",
              "    .dataframe tbody tr th {\n",
              "        vertical-align: top;\n",
              "    }\n",
              "\n",
              "    .dataframe thead th {\n",
              "        text-align: right;\n",
              "    }\n",
              "</style>\n",
              "<table border=\"1\" class=\"dataframe\">\n",
              "  <thead>\n",
              "    <tr style=\"text-align: right;\">\n",
              "      <th></th>\n",
              "      <th>messages_included</th>\n",
              "      <th>mb_per_month_included</th>\n",
              "      <th>minutes_included</th>\n",
              "      <th>rub_monthly_fee</th>\n",
              "      <th>rub_per_gb</th>\n",
              "      <th>rub_per_message</th>\n",
              "      <th>rub_per_minute</th>\n",
              "      <th>tariff_name</th>\n",
              "    </tr>\n",
              "  </thead>\n",
              "  <tbody>\n",
              "    <tr>\n",
              "      <th>0</th>\n",
              "      <td>50</td>\n",
              "      <td>15360</td>\n",
              "      <td>500</td>\n",
              "      <td>550</td>\n",
              "      <td>200</td>\n",
              "      <td>3</td>\n",
              "      <td>3</td>\n",
              "      <td>smart</td>\n",
              "    </tr>\n",
              "    <tr>\n",
              "      <th>1</th>\n",
              "      <td>1000</td>\n",
              "      <td>30720</td>\n",
              "      <td>3000</td>\n",
              "      <td>1950</td>\n",
              "      <td>150</td>\n",
              "      <td>1</td>\n",
              "      <td>1</td>\n",
              "      <td>ultra</td>\n",
              "    </tr>\n",
              "  </tbody>\n",
              "</table>\n",
              "</div>\n",
              "      <button class=\"colab-df-convert\" onclick=\"convertToInteractive('df-1b93e949-0453-4a14-90b2-2a176459b6d6')\"\n",
              "              title=\"Convert this dataframe to an interactive table.\"\n",
              "              style=\"display:none;\">\n",
              "\n",
              "  <svg xmlns=\"http://www.w3.org/2000/svg\" height=\"24px\"viewBox=\"0 0 24 24\"\n",
              "       width=\"24px\">\n",
              "    <path d=\"M0 0h24v24H0V0z\" fill=\"none\"/>\n",
              "    <path d=\"M18.56 5.44l.94 2.06.94-2.06 2.06-.94-2.06-.94-.94-2.06-.94 2.06-2.06.94zm-11 1L8.5 8.5l.94-2.06 2.06-.94-2.06-.94L8.5 2.5l-.94 2.06-2.06.94zm10 10l.94 2.06.94-2.06 2.06-.94-2.06-.94-.94-2.06-.94 2.06-2.06.94z\"/><path d=\"M17.41 7.96l-1.37-1.37c-.4-.4-.92-.59-1.43-.59-.52 0-1.04.2-1.43.59L10.3 9.45l-7.72 7.72c-.78.78-.78 2.05 0 2.83L4 21.41c.39.39.9.59 1.41.59.51 0 1.02-.2 1.41-.59l7.78-7.78 2.81-2.81c.8-.78.8-2.07 0-2.86zM5.41 20L4 18.59l7.72-7.72 1.47 1.35L5.41 20z\"/>\n",
              "  </svg>\n",
              "      </button>\n",
              "\n",
              "\n",
              "\n",
              "    <div id=\"df-07495af3-e0b5-41d4-bbc8-d46ca1e93957\">\n",
              "      <button class=\"colab-df-quickchart\" onclick=\"quickchart('df-07495af3-e0b5-41d4-bbc8-d46ca1e93957')\"\n",
              "              title=\"Suggest charts.\"\n",
              "              style=\"display:none;\">\n",
              "\n",
              "<svg xmlns=\"http://www.w3.org/2000/svg\" height=\"24px\"viewBox=\"0 0 24 24\"\n",
              "     width=\"24px\">\n",
              "    <g>\n",
              "        <path d=\"M19 3H5c-1.1 0-2 .9-2 2v14c0 1.1.9 2 2 2h14c1.1 0 2-.9 2-2V5c0-1.1-.9-2-2-2zM9 17H7v-7h2v7zm4 0h-2V7h2v10zm4 0h-2v-4h2v4z\"/>\n",
              "    </g>\n",
              "</svg>\n",
              "      </button>\n",
              "    </div>\n",
              "\n",
              "<style>\n",
              "  .colab-df-quickchart {\n",
              "    background-color: #E8F0FE;\n",
              "    border: none;\n",
              "    border-radius: 50%;\n",
              "    cursor: pointer;\n",
              "    display: none;\n",
              "    fill: #1967D2;\n",
              "    height: 32px;\n",
              "    padding: 0 0 0 0;\n",
              "    width: 32px;\n",
              "  }\n",
              "\n",
              "  .colab-df-quickchart:hover {\n",
              "    background-color: #E2EBFA;\n",
              "    box-shadow: 0px 1px 2px rgba(60, 64, 67, 0.3), 0px 1px 3px 1px rgba(60, 64, 67, 0.15);\n",
              "    fill: #174EA6;\n",
              "  }\n",
              "\n",
              "  [theme=dark] .colab-df-quickchart {\n",
              "    background-color: #3B4455;\n",
              "    fill: #D2E3FC;\n",
              "  }\n",
              "\n",
              "  [theme=dark] .colab-df-quickchart:hover {\n",
              "    background-color: #434B5C;\n",
              "    box-shadow: 0px 1px 3px 1px rgba(0, 0, 0, 0.15);\n",
              "    filter: drop-shadow(0px 1px 2px rgba(0, 0, 0, 0.3));\n",
              "    fill: #FFFFFF;\n",
              "  }\n",
              "</style>\n",
              "\n",
              "    <script>\n",
              "      async function quickchart(key) {\n",
              "        const containerElement = document.querySelector('#' + key);\n",
              "        const charts = await google.colab.kernel.invokeFunction(\n",
              "            'suggestCharts', [key], {});\n",
              "      }\n",
              "    </script>\n",
              "\n",
              "      <script>\n",
              "\n",
              "function displayQuickchartButton(domScope) {\n",
              "  let quickchartButtonEl =\n",
              "    domScope.querySelector('#df-07495af3-e0b5-41d4-bbc8-d46ca1e93957 button.colab-df-quickchart');\n",
              "  quickchartButtonEl.style.display =\n",
              "    google.colab.kernel.accessAllowed ? 'block' : 'none';\n",
              "}\n",
              "\n",
              "        displayQuickchartButton(document);\n",
              "      </script>\n",
              "      <style>\n",
              "    .colab-df-container {\n",
              "      display:flex;\n",
              "      flex-wrap:wrap;\n",
              "      gap: 12px;\n",
              "    }\n",
              "\n",
              "    .colab-df-convert {\n",
              "      background-color: #E8F0FE;\n",
              "      border: none;\n",
              "      border-radius: 50%;\n",
              "      cursor: pointer;\n",
              "      display: none;\n",
              "      fill: #1967D2;\n",
              "      height: 32px;\n",
              "      padding: 0 0 0 0;\n",
              "      width: 32px;\n",
              "    }\n",
              "\n",
              "    .colab-df-convert:hover {\n",
              "      background-color: #E2EBFA;\n",
              "      box-shadow: 0px 1px 2px rgba(60, 64, 67, 0.3), 0px 1px 3px 1px rgba(60, 64, 67, 0.15);\n",
              "      fill: #174EA6;\n",
              "    }\n",
              "\n",
              "    [theme=dark] .colab-df-convert {\n",
              "      background-color: #3B4455;\n",
              "      fill: #D2E3FC;\n",
              "    }\n",
              "\n",
              "    [theme=dark] .colab-df-convert:hover {\n",
              "      background-color: #434B5C;\n",
              "      box-shadow: 0px 1px 3px 1px rgba(0, 0, 0, 0.15);\n",
              "      filter: drop-shadow(0px 1px 2px rgba(0, 0, 0, 0.3));\n",
              "      fill: #FFFFFF;\n",
              "    }\n",
              "  </style>\n",
              "\n",
              "      <script>\n",
              "        const buttonEl =\n",
              "          document.querySelector('#df-1b93e949-0453-4a14-90b2-2a176459b6d6 button.colab-df-convert');\n",
              "        buttonEl.style.display =\n",
              "          google.colab.kernel.accessAllowed ? 'block' : 'none';\n",
              "\n",
              "        async function convertToInteractive(key) {\n",
              "          const element = document.querySelector('#df-1b93e949-0453-4a14-90b2-2a176459b6d6');\n",
              "          const dataTable =\n",
              "            await google.colab.kernel.invokeFunction('convertToInteractive',\n",
              "                                                     [key], {});\n",
              "          if (!dataTable) return;\n",
              "\n",
              "          const docLinkHtml = 'Like what you see? Visit the ' +\n",
              "            '<a target=\"_blank\" href=https://colab.research.google.com/notebooks/data_table.ipynb>data table notebook</a>'\n",
              "            + ' to learn more about interactive tables.';\n",
              "          element.innerHTML = '';\n",
              "          dataTable['output_type'] = 'display_data';\n",
              "          await google.colab.output.renderOutput(dataTable, element);\n",
              "          const docLink = document.createElement('div');\n",
              "          docLink.innerHTML = docLinkHtml;\n",
              "          element.appendChild(docLink);\n",
              "        }\n",
              "      </script>\n",
              "    </div>\n",
              "  </div>\n"
            ]
          },
          "metadata": {}
        },
        {
          "output_type": "stream",
          "name": "stdout",
          "text": [
            "<class 'pandas.core.frame.DataFrame'>\n",
            "RangeIndex: 2 entries, 0 to 1\n",
            "Data columns (total 8 columns):\n",
            " #   Column                 Non-Null Count  Dtype \n",
            "---  ------                 --------------  ----- \n",
            " 0   messages_included      2 non-null      int64 \n",
            " 1   mb_per_month_included  2 non-null      int64 \n",
            " 2   minutes_included       2 non-null      int64 \n",
            " 3   rub_monthly_fee        2 non-null      int64 \n",
            " 4   rub_per_gb             2 non-null      int64 \n",
            " 5   rub_per_message        2 non-null      int64 \n",
            " 6   rub_per_minute         2 non-null      int64 \n",
            " 7   tariff_name            2 non-null      object\n",
            "dtypes: int64(7), object(1)\n",
            "memory usage: 256.0+ bytes\n"
          ]
        },
        {
          "output_type": "display_data",
          "data": {
            "text/plain": [
              "   user_id  age churn_date         city first_name  last_name    reg_date  \\\n",
              "0     1000   52        NaN    Краснодар     Рафаил  Верещагин  2018-05-25   \n",
              "1     1001   41        NaN       Москва       Иван       Ежов  2018-11-01   \n",
              "2     1002   59        NaN  Стерлитамак    Евгений  Абрамович  2018-06-17   \n",
              "3     1003   23        NaN       Москва      Белла   Белякова  2018-08-17   \n",
              "4     1004   68        NaN  Новокузнецк    Татьяна   Авдеенко  2018-05-14   \n",
              "\n",
              "  tariff  \n",
              "0  ultra  \n",
              "1  smart  \n",
              "2  smart  \n",
              "3  ultra  \n",
              "4  ultra  "
            ],
            "text/html": [
              "\n",
              "\n",
              "  <div id=\"df-de3f7c83-6ad3-4ade-a26f-97fcf4d7ac02\">\n",
              "    <div class=\"colab-df-container\">\n",
              "      <div>\n",
              "<style scoped>\n",
              "    .dataframe tbody tr th:only-of-type {\n",
              "        vertical-align: middle;\n",
              "    }\n",
              "\n",
              "    .dataframe tbody tr th {\n",
              "        vertical-align: top;\n",
              "    }\n",
              "\n",
              "    .dataframe thead th {\n",
              "        text-align: right;\n",
              "    }\n",
              "</style>\n",
              "<table border=\"1\" class=\"dataframe\">\n",
              "  <thead>\n",
              "    <tr style=\"text-align: right;\">\n",
              "      <th></th>\n",
              "      <th>user_id</th>\n",
              "      <th>age</th>\n",
              "      <th>churn_date</th>\n",
              "      <th>city</th>\n",
              "      <th>first_name</th>\n",
              "      <th>last_name</th>\n",
              "      <th>reg_date</th>\n",
              "      <th>tariff</th>\n",
              "    </tr>\n",
              "  </thead>\n",
              "  <tbody>\n",
              "    <tr>\n",
              "      <th>0</th>\n",
              "      <td>1000</td>\n",
              "      <td>52</td>\n",
              "      <td>NaN</td>\n",
              "      <td>Краснодар</td>\n",
              "      <td>Рафаил</td>\n",
              "      <td>Верещагин</td>\n",
              "      <td>2018-05-25</td>\n",
              "      <td>ultra</td>\n",
              "    </tr>\n",
              "    <tr>\n",
              "      <th>1</th>\n",
              "      <td>1001</td>\n",
              "      <td>41</td>\n",
              "      <td>NaN</td>\n",
              "      <td>Москва</td>\n",
              "      <td>Иван</td>\n",
              "      <td>Ежов</td>\n",
              "      <td>2018-11-01</td>\n",
              "      <td>smart</td>\n",
              "    </tr>\n",
              "    <tr>\n",
              "      <th>2</th>\n",
              "      <td>1002</td>\n",
              "      <td>59</td>\n",
              "      <td>NaN</td>\n",
              "      <td>Стерлитамак</td>\n",
              "      <td>Евгений</td>\n",
              "      <td>Абрамович</td>\n",
              "      <td>2018-06-17</td>\n",
              "      <td>smart</td>\n",
              "    </tr>\n",
              "    <tr>\n",
              "      <th>3</th>\n",
              "      <td>1003</td>\n",
              "      <td>23</td>\n",
              "      <td>NaN</td>\n",
              "      <td>Москва</td>\n",
              "      <td>Белла</td>\n",
              "      <td>Белякова</td>\n",
              "      <td>2018-08-17</td>\n",
              "      <td>ultra</td>\n",
              "    </tr>\n",
              "    <tr>\n",
              "      <th>4</th>\n",
              "      <td>1004</td>\n",
              "      <td>68</td>\n",
              "      <td>NaN</td>\n",
              "      <td>Новокузнецк</td>\n",
              "      <td>Татьяна</td>\n",
              "      <td>Авдеенко</td>\n",
              "      <td>2018-05-14</td>\n",
              "      <td>ultra</td>\n",
              "    </tr>\n",
              "  </tbody>\n",
              "</table>\n",
              "</div>\n",
              "      <button class=\"colab-df-convert\" onclick=\"convertToInteractive('df-de3f7c83-6ad3-4ade-a26f-97fcf4d7ac02')\"\n",
              "              title=\"Convert this dataframe to an interactive table.\"\n",
              "              style=\"display:none;\">\n",
              "\n",
              "  <svg xmlns=\"http://www.w3.org/2000/svg\" height=\"24px\"viewBox=\"0 0 24 24\"\n",
              "       width=\"24px\">\n",
              "    <path d=\"M0 0h24v24H0V0z\" fill=\"none\"/>\n",
              "    <path d=\"M18.56 5.44l.94 2.06.94-2.06 2.06-.94-2.06-.94-.94-2.06-.94 2.06-2.06.94zm-11 1L8.5 8.5l.94-2.06 2.06-.94-2.06-.94L8.5 2.5l-.94 2.06-2.06.94zm10 10l.94 2.06.94-2.06 2.06-.94-2.06-.94-.94-2.06-.94 2.06-2.06.94z\"/><path d=\"M17.41 7.96l-1.37-1.37c-.4-.4-.92-.59-1.43-.59-.52 0-1.04.2-1.43.59L10.3 9.45l-7.72 7.72c-.78.78-.78 2.05 0 2.83L4 21.41c.39.39.9.59 1.41.59.51 0 1.02-.2 1.41-.59l7.78-7.78 2.81-2.81c.8-.78.8-2.07 0-2.86zM5.41 20L4 18.59l7.72-7.72 1.47 1.35L5.41 20z\"/>\n",
              "  </svg>\n",
              "      </button>\n",
              "\n",
              "\n",
              "\n",
              "    <div id=\"df-79a56eef-5fd3-40d2-97b6-94a056c45855\">\n",
              "      <button class=\"colab-df-quickchart\" onclick=\"quickchart('df-79a56eef-5fd3-40d2-97b6-94a056c45855')\"\n",
              "              title=\"Suggest charts.\"\n",
              "              style=\"display:none;\">\n",
              "\n",
              "<svg xmlns=\"http://www.w3.org/2000/svg\" height=\"24px\"viewBox=\"0 0 24 24\"\n",
              "     width=\"24px\">\n",
              "    <g>\n",
              "        <path d=\"M19 3H5c-1.1 0-2 .9-2 2v14c0 1.1.9 2 2 2h14c1.1 0 2-.9 2-2V5c0-1.1-.9-2-2-2zM9 17H7v-7h2v7zm4 0h-2V7h2v10zm4 0h-2v-4h2v4z\"/>\n",
              "    </g>\n",
              "</svg>\n",
              "      </button>\n",
              "    </div>\n",
              "\n",
              "<style>\n",
              "  .colab-df-quickchart {\n",
              "    background-color: #E8F0FE;\n",
              "    border: none;\n",
              "    border-radius: 50%;\n",
              "    cursor: pointer;\n",
              "    display: none;\n",
              "    fill: #1967D2;\n",
              "    height: 32px;\n",
              "    padding: 0 0 0 0;\n",
              "    width: 32px;\n",
              "  }\n",
              "\n",
              "  .colab-df-quickchart:hover {\n",
              "    background-color: #E2EBFA;\n",
              "    box-shadow: 0px 1px 2px rgba(60, 64, 67, 0.3), 0px 1px 3px 1px rgba(60, 64, 67, 0.15);\n",
              "    fill: #174EA6;\n",
              "  }\n",
              "\n",
              "  [theme=dark] .colab-df-quickchart {\n",
              "    background-color: #3B4455;\n",
              "    fill: #D2E3FC;\n",
              "  }\n",
              "\n",
              "  [theme=dark] .colab-df-quickchart:hover {\n",
              "    background-color: #434B5C;\n",
              "    box-shadow: 0px 1px 3px 1px rgba(0, 0, 0, 0.15);\n",
              "    filter: drop-shadow(0px 1px 2px rgba(0, 0, 0, 0.3));\n",
              "    fill: #FFFFFF;\n",
              "  }\n",
              "</style>\n",
              "\n",
              "    <script>\n",
              "      async function quickchart(key) {\n",
              "        const containerElement = document.querySelector('#' + key);\n",
              "        const charts = await google.colab.kernel.invokeFunction(\n",
              "            'suggestCharts', [key], {});\n",
              "      }\n",
              "    </script>\n",
              "\n",
              "      <script>\n",
              "\n",
              "function displayQuickchartButton(domScope) {\n",
              "  let quickchartButtonEl =\n",
              "    domScope.querySelector('#df-79a56eef-5fd3-40d2-97b6-94a056c45855 button.colab-df-quickchart');\n",
              "  quickchartButtonEl.style.display =\n",
              "    google.colab.kernel.accessAllowed ? 'block' : 'none';\n",
              "}\n",
              "\n",
              "        displayQuickchartButton(document);\n",
              "      </script>\n",
              "      <style>\n",
              "    .colab-df-container {\n",
              "      display:flex;\n",
              "      flex-wrap:wrap;\n",
              "      gap: 12px;\n",
              "    }\n",
              "\n",
              "    .colab-df-convert {\n",
              "      background-color: #E8F0FE;\n",
              "      border: none;\n",
              "      border-radius: 50%;\n",
              "      cursor: pointer;\n",
              "      display: none;\n",
              "      fill: #1967D2;\n",
              "      height: 32px;\n",
              "      padding: 0 0 0 0;\n",
              "      width: 32px;\n",
              "    }\n",
              "\n",
              "    .colab-df-convert:hover {\n",
              "      background-color: #E2EBFA;\n",
              "      box-shadow: 0px 1px 2px rgba(60, 64, 67, 0.3), 0px 1px 3px 1px rgba(60, 64, 67, 0.15);\n",
              "      fill: #174EA6;\n",
              "    }\n",
              "\n",
              "    [theme=dark] .colab-df-convert {\n",
              "      background-color: #3B4455;\n",
              "      fill: #D2E3FC;\n",
              "    }\n",
              "\n",
              "    [theme=dark] .colab-df-convert:hover {\n",
              "      background-color: #434B5C;\n",
              "      box-shadow: 0px 1px 3px 1px rgba(0, 0, 0, 0.15);\n",
              "      filter: drop-shadow(0px 1px 2px rgba(0, 0, 0, 0.3));\n",
              "      fill: #FFFFFF;\n",
              "    }\n",
              "  </style>\n",
              "\n",
              "      <script>\n",
              "        const buttonEl =\n",
              "          document.querySelector('#df-de3f7c83-6ad3-4ade-a26f-97fcf4d7ac02 button.colab-df-convert');\n",
              "        buttonEl.style.display =\n",
              "          google.colab.kernel.accessAllowed ? 'block' : 'none';\n",
              "\n",
              "        async function convertToInteractive(key) {\n",
              "          const element = document.querySelector('#df-de3f7c83-6ad3-4ade-a26f-97fcf4d7ac02');\n",
              "          const dataTable =\n",
              "            await google.colab.kernel.invokeFunction('convertToInteractive',\n",
              "                                                     [key], {});\n",
              "          if (!dataTable) return;\n",
              "\n",
              "          const docLinkHtml = 'Like what you see? Visit the ' +\n",
              "            '<a target=\"_blank\" href=https://colab.research.google.com/notebooks/data_table.ipynb>data table notebook</a>'\n",
              "            + ' to learn more about interactive tables.';\n",
              "          element.innerHTML = '';\n",
              "          dataTable['output_type'] = 'display_data';\n",
              "          await google.colab.output.renderOutput(dataTable, element);\n",
              "          const docLink = document.createElement('div');\n",
              "          docLink.innerHTML = docLinkHtml;\n",
              "          element.appendChild(docLink);\n",
              "        }\n",
              "      </script>\n",
              "    </div>\n",
              "  </div>\n"
            ]
          },
          "metadata": {}
        },
        {
          "output_type": "stream",
          "name": "stdout",
          "text": [
            "<class 'pandas.core.frame.DataFrame'>\n",
            "RangeIndex: 500 entries, 0 to 499\n",
            "Data columns (total 8 columns):\n",
            " #   Column      Non-Null Count  Dtype \n",
            "---  ------      --------------  ----- \n",
            " 0   user_id     500 non-null    int64 \n",
            " 1   age         500 non-null    int64 \n",
            " 2   churn_date  38 non-null     object\n",
            " 3   city        500 non-null    object\n",
            " 4   first_name  500 non-null    object\n",
            " 5   last_name   500 non-null    object\n",
            " 6   reg_date    500 non-null    object\n",
            " 7   tariff      500 non-null    object\n",
            "dtypes: int64(2), object(6)\n",
            "memory usage: 31.4+ KB\n"
          ]
        }
      ],
      "source": [
        "calls = pd.read_csv('/content/04.calls.csv')\n",
        "display(calls.head())\n",
        "calls.info()\n",
        "calls['duration'].hist(bins = 10, range = (0, 30))\n",
        "plt.title('Продолжительность звонков')\n",
        "plt.xlabel('Минуты')\n",
        "plt.ylabel('Количество')\n",
        "plt.show()\n",
        "\n",
        "sessions = pd.read_csv('/content/04.internet.csv')\n",
        "display(sessions.head())\n",
        "sessions.info()\n",
        "sessions['mb_used'].hist(bins = 10, range = (0, 1200))\n",
        "plt.title('Количетво потраченных мегабайт')\n",
        "plt.xlabel('Количество')\n",
        "plt.ylabel('Мегабайты')\n",
        "plt.show()\n",
        "\n",
        "messages = pd.read_csv('/content/04.messages.csv')\n",
        "display(messages.head())\n",
        "messages.info()\n",
        "\n",
        "tariffs = pd.read_csv('/content/04.tariffs.csv')\n",
        "display(tariffs)\n",
        "tariffs.info()\n",
        "\n",
        "users = pd.read_csv('/content/04.users.csv')\n",
        "display(users.head())\n",
        "users.info()"
      ]
    },
    {
      "cell_type": "markdown",
      "source": [
        "**В итоге:**\n",
        "\n",
        "1. Данные не содержат пропусков, аноманий и неверно указанных значений.\n",
        "2. По датасету с инфомацией о звонках стоит отметить продожительность большого количества звонков 2-3 секунды.\n",
        "3. По датасету с информацией о трафике - самое большое количество пользователей используют 100мб.\n",
        "\n"
      ],
      "metadata": {
        "id": "p2T2y3hXJh35"
      }
    },
    {
      "cell_type": "markdown",
      "metadata": {
        "deletable": false,
        "editable": false,
        "id": "PdqrlJuxM7pv"
      },
      "source": [
        "### Подготовка данных"
      ]
    },
    {
      "cell_type": "markdown",
      "metadata": {
        "deletable": false,
        "editable": false,
        "tags": [
          "start_task"
        ],
        "id": "AajrvHCYM7p1"
      },
      "source": [
        "Привожу столбцы к типу даты:\n",
        "\n",
        "- `reg_date` из таблицы `users`\n",
        "- `churn_date` из таблицы `users`\n",
        "- `call_date` из таблицы `calls`\n",
        "- `message_date` из таблицы `messages`\n",
        "- `session_date` из таблицы `sessions`\n",
        "\n"
      ]
    },
    {
      "cell_type": "code",
      "execution_count": 3,
      "metadata": {
        "deletable": false,
        "id": "L87AtpN7M7p2"
      },
      "outputs": [],
      "source": [
        "users['reg_date'] = pd.to_datetime(users['reg_date'], format = '%Y-%m-%d')\n",
        "users['churn_date'] = pd.to_datetime(users['churn_date'], format = '%Y-%m-%d')\n",
        "calls['call_date'] = pd.to_datetime(calls['call_date'], format = '%Y-%m-%d')\n",
        "messages['message_date'] = pd.to_datetime(messages['message_date'], format = '%Y-%m-%d')\n",
        "sessions['session_date'] = pd.to_datetime(sessions['session_date'], format = '%Y-%m-%d')"
      ]
    },
    {
      "cell_type": "markdown",
      "metadata": {
        "deletable": false,
        "editable": false,
        "tags": [
          "start_task"
        ],
        "id": "pToGJxq8M7p3"
      },
      "source": [
        "Привожу `duration` датасета **calls** к типу `int`"
      ]
    },
    {
      "cell_type": "code",
      "execution_count": 4,
      "metadata": {
        "deletable": false,
        "id": "GZa2HS7kM7p4"
      },
      "outputs": [],
      "source": [
        "calls['duration'] = np.ceil(calls['duration']).astype(int)"
      ]
    },
    {
      "cell_type": "markdown",
      "metadata": {
        "deletable": false,
        "editable": false,
        "tags": [
          "start_task"
        ],
        "id": "g5h1q9EeM7p5"
      },
      "source": [
        "Удаляю `Unnamed: 0` из датасета `sessions`.\n",
        "\n",
        "*Столбец с таким названием возникает, когда данные сохраняют с указанием индекса и сейчас он не понадобится"
      ]
    },
    {
      "cell_type": "code",
      "execution_count": 5,
      "metadata": {
        "deletable": false,
        "colab": {
          "base_uri": "https://localhost:8080/",
          "height": 206
        },
        "id": "vxXfKsLZM7p6",
        "outputId": "e8288cca-11f3-4aab-c19d-37a83d6d2169"
      },
      "outputs": [
        {
          "output_type": "display_data",
          "data": {
            "text/plain": [
              "       id  mb_used session_date  user_id\n",
              "0  1000_0   112.95   2018-11-25     1000\n",
              "1  1000_1  1052.81   2018-09-07     1000\n",
              "2  1000_2  1197.26   2018-06-25     1000\n",
              "3  1000_3   550.27   2018-08-22     1000\n",
              "4  1000_4   302.56   2018-09-24     1000"
            ],
            "text/html": [
              "\n",
              "\n",
              "  <div id=\"df-702719a6-f171-47ef-aff9-88e62a9a26f8\">\n",
              "    <div class=\"colab-df-container\">\n",
              "      <div>\n",
              "<style scoped>\n",
              "    .dataframe tbody tr th:only-of-type {\n",
              "        vertical-align: middle;\n",
              "    }\n",
              "\n",
              "    .dataframe tbody tr th {\n",
              "        vertical-align: top;\n",
              "    }\n",
              "\n",
              "    .dataframe thead th {\n",
              "        text-align: right;\n",
              "    }\n",
              "</style>\n",
              "<table border=\"1\" class=\"dataframe\">\n",
              "  <thead>\n",
              "    <tr style=\"text-align: right;\">\n",
              "      <th></th>\n",
              "      <th>id</th>\n",
              "      <th>mb_used</th>\n",
              "      <th>session_date</th>\n",
              "      <th>user_id</th>\n",
              "    </tr>\n",
              "  </thead>\n",
              "  <tbody>\n",
              "    <tr>\n",
              "      <th>0</th>\n",
              "      <td>1000_0</td>\n",
              "      <td>112.95</td>\n",
              "      <td>2018-11-25</td>\n",
              "      <td>1000</td>\n",
              "    </tr>\n",
              "    <tr>\n",
              "      <th>1</th>\n",
              "      <td>1000_1</td>\n",
              "      <td>1052.81</td>\n",
              "      <td>2018-09-07</td>\n",
              "      <td>1000</td>\n",
              "    </tr>\n",
              "    <tr>\n",
              "      <th>2</th>\n",
              "      <td>1000_2</td>\n",
              "      <td>1197.26</td>\n",
              "      <td>2018-06-25</td>\n",
              "      <td>1000</td>\n",
              "    </tr>\n",
              "    <tr>\n",
              "      <th>3</th>\n",
              "      <td>1000_3</td>\n",
              "      <td>550.27</td>\n",
              "      <td>2018-08-22</td>\n",
              "      <td>1000</td>\n",
              "    </tr>\n",
              "    <tr>\n",
              "      <th>4</th>\n",
              "      <td>1000_4</td>\n",
              "      <td>302.56</td>\n",
              "      <td>2018-09-24</td>\n",
              "      <td>1000</td>\n",
              "    </tr>\n",
              "  </tbody>\n",
              "</table>\n",
              "</div>\n",
              "      <button class=\"colab-df-convert\" onclick=\"convertToInteractive('df-702719a6-f171-47ef-aff9-88e62a9a26f8')\"\n",
              "              title=\"Convert this dataframe to an interactive table.\"\n",
              "              style=\"display:none;\">\n",
              "\n",
              "  <svg xmlns=\"http://www.w3.org/2000/svg\" height=\"24px\"viewBox=\"0 0 24 24\"\n",
              "       width=\"24px\">\n",
              "    <path d=\"M0 0h24v24H0V0z\" fill=\"none\"/>\n",
              "    <path d=\"M18.56 5.44l.94 2.06.94-2.06 2.06-.94-2.06-.94-.94-2.06-.94 2.06-2.06.94zm-11 1L8.5 8.5l.94-2.06 2.06-.94-2.06-.94L8.5 2.5l-.94 2.06-2.06.94zm10 10l.94 2.06.94-2.06 2.06-.94-2.06-.94-.94-2.06-.94 2.06-2.06.94z\"/><path d=\"M17.41 7.96l-1.37-1.37c-.4-.4-.92-.59-1.43-.59-.52 0-1.04.2-1.43.59L10.3 9.45l-7.72 7.72c-.78.78-.78 2.05 0 2.83L4 21.41c.39.39.9.59 1.41.59.51 0 1.02-.2 1.41-.59l7.78-7.78 2.81-2.81c.8-.78.8-2.07 0-2.86zM5.41 20L4 18.59l7.72-7.72 1.47 1.35L5.41 20z\"/>\n",
              "  </svg>\n",
              "      </button>\n",
              "\n",
              "\n",
              "\n",
              "    <div id=\"df-686d08cf-0cd1-4ba1-b6e0-c03d81d95a8d\">\n",
              "      <button class=\"colab-df-quickchart\" onclick=\"quickchart('df-686d08cf-0cd1-4ba1-b6e0-c03d81d95a8d')\"\n",
              "              title=\"Suggest charts.\"\n",
              "              style=\"display:none;\">\n",
              "\n",
              "<svg xmlns=\"http://www.w3.org/2000/svg\" height=\"24px\"viewBox=\"0 0 24 24\"\n",
              "     width=\"24px\">\n",
              "    <g>\n",
              "        <path d=\"M19 3H5c-1.1 0-2 .9-2 2v14c0 1.1.9 2 2 2h14c1.1 0 2-.9 2-2V5c0-1.1-.9-2-2-2zM9 17H7v-7h2v7zm4 0h-2V7h2v10zm4 0h-2v-4h2v4z\"/>\n",
              "    </g>\n",
              "</svg>\n",
              "      </button>\n",
              "    </div>\n",
              "\n",
              "<style>\n",
              "  .colab-df-quickchart {\n",
              "    background-color: #E8F0FE;\n",
              "    border: none;\n",
              "    border-radius: 50%;\n",
              "    cursor: pointer;\n",
              "    display: none;\n",
              "    fill: #1967D2;\n",
              "    height: 32px;\n",
              "    padding: 0 0 0 0;\n",
              "    width: 32px;\n",
              "  }\n",
              "\n",
              "  .colab-df-quickchart:hover {\n",
              "    background-color: #E2EBFA;\n",
              "    box-shadow: 0px 1px 2px rgba(60, 64, 67, 0.3), 0px 1px 3px 1px rgba(60, 64, 67, 0.15);\n",
              "    fill: #174EA6;\n",
              "  }\n",
              "\n",
              "  [theme=dark] .colab-df-quickchart {\n",
              "    background-color: #3B4455;\n",
              "    fill: #D2E3FC;\n",
              "  }\n",
              "\n",
              "  [theme=dark] .colab-df-quickchart:hover {\n",
              "    background-color: #434B5C;\n",
              "    box-shadow: 0px 1px 3px 1px rgba(0, 0, 0, 0.15);\n",
              "    filter: drop-shadow(0px 1px 2px rgba(0, 0, 0, 0.3));\n",
              "    fill: #FFFFFF;\n",
              "  }\n",
              "</style>\n",
              "\n",
              "    <script>\n",
              "      async function quickchart(key) {\n",
              "        const containerElement = document.querySelector('#' + key);\n",
              "        const charts = await google.colab.kernel.invokeFunction(\n",
              "            'suggestCharts', [key], {});\n",
              "      }\n",
              "    </script>\n",
              "\n",
              "      <script>\n",
              "\n",
              "function displayQuickchartButton(domScope) {\n",
              "  let quickchartButtonEl =\n",
              "    domScope.querySelector('#df-686d08cf-0cd1-4ba1-b6e0-c03d81d95a8d button.colab-df-quickchart');\n",
              "  quickchartButtonEl.style.display =\n",
              "    google.colab.kernel.accessAllowed ? 'block' : 'none';\n",
              "}\n",
              "\n",
              "        displayQuickchartButton(document);\n",
              "      </script>\n",
              "      <style>\n",
              "    .colab-df-container {\n",
              "      display:flex;\n",
              "      flex-wrap:wrap;\n",
              "      gap: 12px;\n",
              "    }\n",
              "\n",
              "    .colab-df-convert {\n",
              "      background-color: #E8F0FE;\n",
              "      border: none;\n",
              "      border-radius: 50%;\n",
              "      cursor: pointer;\n",
              "      display: none;\n",
              "      fill: #1967D2;\n",
              "      height: 32px;\n",
              "      padding: 0 0 0 0;\n",
              "      width: 32px;\n",
              "    }\n",
              "\n",
              "    .colab-df-convert:hover {\n",
              "      background-color: #E2EBFA;\n",
              "      box-shadow: 0px 1px 2px rgba(60, 64, 67, 0.3), 0px 1px 3px 1px rgba(60, 64, 67, 0.15);\n",
              "      fill: #174EA6;\n",
              "    }\n",
              "\n",
              "    [theme=dark] .colab-df-convert {\n",
              "      background-color: #3B4455;\n",
              "      fill: #D2E3FC;\n",
              "    }\n",
              "\n",
              "    [theme=dark] .colab-df-convert:hover {\n",
              "      background-color: #434B5C;\n",
              "      box-shadow: 0px 1px 3px 1px rgba(0, 0, 0, 0.15);\n",
              "      filter: drop-shadow(0px 1px 2px rgba(0, 0, 0, 0.3));\n",
              "      fill: #FFFFFF;\n",
              "    }\n",
              "  </style>\n",
              "\n",
              "      <script>\n",
              "        const buttonEl =\n",
              "          document.querySelector('#df-702719a6-f171-47ef-aff9-88e62a9a26f8 button.colab-df-convert');\n",
              "        buttonEl.style.display =\n",
              "          google.colab.kernel.accessAllowed ? 'block' : 'none';\n",
              "\n",
              "        async function convertToInteractive(key) {\n",
              "          const element = document.querySelector('#df-702719a6-f171-47ef-aff9-88e62a9a26f8');\n",
              "          const dataTable =\n",
              "            await google.colab.kernel.invokeFunction('convertToInteractive',\n",
              "                                                     [key], {});\n",
              "          if (!dataTable) return;\n",
              "\n",
              "          const docLinkHtml = 'Like what you see? Visit the ' +\n",
              "            '<a target=\"_blank\" href=https://colab.research.google.com/notebooks/data_table.ipynb>data table notebook</a>'\n",
              "            + ' to learn more about interactive tables.';\n",
              "          element.innerHTML = '';\n",
              "          dataTable['output_type'] = 'display_data';\n",
              "          await google.colab.output.renderOutput(dataTable, element);\n",
              "          const docLink = document.createElement('div');\n",
              "          docLink.innerHTML = docLinkHtml;\n",
              "          element.appendChild(docLink);\n",
              "        }\n",
              "      </script>\n",
              "    </div>\n",
              "  </div>\n"
            ]
          },
          "metadata": {}
        }
      ],
      "source": [
        "sessions.pop('Unnamed: 0')\n",
        "display(sessions.head())"
      ]
    },
    {
      "cell_type": "markdown",
      "metadata": {
        "deletable": false,
        "editable": false,
        "tags": [
          "start_task"
        ],
        "id": "xQYGTNGYM7p7"
      },
      "source": [
        "Добавляю `month` в датасет `calls`, `sessions` и `messages`:"
      ]
    },
    {
      "cell_type": "code",
      "execution_count": 6,
      "metadata": {
        "deletable": false,
        "colab": {
          "base_uri": "https://localhost:8080/",
          "height": 585
        },
        "id": "738umGp-M7p7",
        "outputId": "a3e004cc-7d06-4d09-8535-e0b38f7bef9b"
      },
      "outputs": [
        {
          "output_type": "display_data",
          "data": {
            "text/plain": [
              "       id  call_date  duration  user_id  month\n",
              "0  1000_0 2018-07-25         0     1000      7\n",
              "1  1000_1 2018-08-17         0     1000      8\n",
              "2  1000_2 2018-06-11         3     1000      6\n",
              "3  1000_3 2018-09-21        14     1000      9\n",
              "4  1000_4 2018-12-15         6     1000     12"
            ],
            "text/html": [
              "\n",
              "\n",
              "  <div id=\"df-e98db4a5-0c5b-457f-bfd6-79180a07a454\">\n",
              "    <div class=\"colab-df-container\">\n",
              "      <div>\n",
              "<style scoped>\n",
              "    .dataframe tbody tr th:only-of-type {\n",
              "        vertical-align: middle;\n",
              "    }\n",
              "\n",
              "    .dataframe tbody tr th {\n",
              "        vertical-align: top;\n",
              "    }\n",
              "\n",
              "    .dataframe thead th {\n",
              "        text-align: right;\n",
              "    }\n",
              "</style>\n",
              "<table border=\"1\" class=\"dataframe\">\n",
              "  <thead>\n",
              "    <tr style=\"text-align: right;\">\n",
              "      <th></th>\n",
              "      <th>id</th>\n",
              "      <th>call_date</th>\n",
              "      <th>duration</th>\n",
              "      <th>user_id</th>\n",
              "      <th>month</th>\n",
              "    </tr>\n",
              "  </thead>\n",
              "  <tbody>\n",
              "    <tr>\n",
              "      <th>0</th>\n",
              "      <td>1000_0</td>\n",
              "      <td>2018-07-25</td>\n",
              "      <td>0</td>\n",
              "      <td>1000</td>\n",
              "      <td>7</td>\n",
              "    </tr>\n",
              "    <tr>\n",
              "      <th>1</th>\n",
              "      <td>1000_1</td>\n",
              "      <td>2018-08-17</td>\n",
              "      <td>0</td>\n",
              "      <td>1000</td>\n",
              "      <td>8</td>\n",
              "    </tr>\n",
              "    <tr>\n",
              "      <th>2</th>\n",
              "      <td>1000_2</td>\n",
              "      <td>2018-06-11</td>\n",
              "      <td>3</td>\n",
              "      <td>1000</td>\n",
              "      <td>6</td>\n",
              "    </tr>\n",
              "    <tr>\n",
              "      <th>3</th>\n",
              "      <td>1000_3</td>\n",
              "      <td>2018-09-21</td>\n",
              "      <td>14</td>\n",
              "      <td>1000</td>\n",
              "      <td>9</td>\n",
              "    </tr>\n",
              "    <tr>\n",
              "      <th>4</th>\n",
              "      <td>1000_4</td>\n",
              "      <td>2018-12-15</td>\n",
              "      <td>6</td>\n",
              "      <td>1000</td>\n",
              "      <td>12</td>\n",
              "    </tr>\n",
              "  </tbody>\n",
              "</table>\n",
              "</div>\n",
              "      <button class=\"colab-df-convert\" onclick=\"convertToInteractive('df-e98db4a5-0c5b-457f-bfd6-79180a07a454')\"\n",
              "              title=\"Convert this dataframe to an interactive table.\"\n",
              "              style=\"display:none;\">\n",
              "\n",
              "  <svg xmlns=\"http://www.w3.org/2000/svg\" height=\"24px\"viewBox=\"0 0 24 24\"\n",
              "       width=\"24px\">\n",
              "    <path d=\"M0 0h24v24H0V0z\" fill=\"none\"/>\n",
              "    <path d=\"M18.56 5.44l.94 2.06.94-2.06 2.06-.94-2.06-.94-.94-2.06-.94 2.06-2.06.94zm-11 1L8.5 8.5l.94-2.06 2.06-.94-2.06-.94L8.5 2.5l-.94 2.06-2.06.94zm10 10l.94 2.06.94-2.06 2.06-.94-2.06-.94-.94-2.06-.94 2.06-2.06.94z\"/><path d=\"M17.41 7.96l-1.37-1.37c-.4-.4-.92-.59-1.43-.59-.52 0-1.04.2-1.43.59L10.3 9.45l-7.72 7.72c-.78.78-.78 2.05 0 2.83L4 21.41c.39.39.9.59 1.41.59.51 0 1.02-.2 1.41-.59l7.78-7.78 2.81-2.81c.8-.78.8-2.07 0-2.86zM5.41 20L4 18.59l7.72-7.72 1.47 1.35L5.41 20z\"/>\n",
              "  </svg>\n",
              "      </button>\n",
              "\n",
              "\n",
              "\n",
              "    <div id=\"df-20100b05-2155-4485-8b44-4bd2fead1418\">\n",
              "      <button class=\"colab-df-quickchart\" onclick=\"quickchart('df-20100b05-2155-4485-8b44-4bd2fead1418')\"\n",
              "              title=\"Suggest charts.\"\n",
              "              style=\"display:none;\">\n",
              "\n",
              "<svg xmlns=\"http://www.w3.org/2000/svg\" height=\"24px\"viewBox=\"0 0 24 24\"\n",
              "     width=\"24px\">\n",
              "    <g>\n",
              "        <path d=\"M19 3H5c-1.1 0-2 .9-2 2v14c0 1.1.9 2 2 2h14c1.1 0 2-.9 2-2V5c0-1.1-.9-2-2-2zM9 17H7v-7h2v7zm4 0h-2V7h2v10zm4 0h-2v-4h2v4z\"/>\n",
              "    </g>\n",
              "</svg>\n",
              "      </button>\n",
              "    </div>\n",
              "\n",
              "<style>\n",
              "  .colab-df-quickchart {\n",
              "    background-color: #E8F0FE;\n",
              "    border: none;\n",
              "    border-radius: 50%;\n",
              "    cursor: pointer;\n",
              "    display: none;\n",
              "    fill: #1967D2;\n",
              "    height: 32px;\n",
              "    padding: 0 0 0 0;\n",
              "    width: 32px;\n",
              "  }\n",
              "\n",
              "  .colab-df-quickchart:hover {\n",
              "    background-color: #E2EBFA;\n",
              "    box-shadow: 0px 1px 2px rgba(60, 64, 67, 0.3), 0px 1px 3px 1px rgba(60, 64, 67, 0.15);\n",
              "    fill: #174EA6;\n",
              "  }\n",
              "\n",
              "  [theme=dark] .colab-df-quickchart {\n",
              "    background-color: #3B4455;\n",
              "    fill: #D2E3FC;\n",
              "  }\n",
              "\n",
              "  [theme=dark] .colab-df-quickchart:hover {\n",
              "    background-color: #434B5C;\n",
              "    box-shadow: 0px 1px 3px 1px rgba(0, 0, 0, 0.15);\n",
              "    filter: drop-shadow(0px 1px 2px rgba(0, 0, 0, 0.3));\n",
              "    fill: #FFFFFF;\n",
              "  }\n",
              "</style>\n",
              "\n",
              "    <script>\n",
              "      async function quickchart(key) {\n",
              "        const containerElement = document.querySelector('#' + key);\n",
              "        const charts = await google.colab.kernel.invokeFunction(\n",
              "            'suggestCharts', [key], {});\n",
              "      }\n",
              "    </script>\n",
              "\n",
              "      <script>\n",
              "\n",
              "function displayQuickchartButton(domScope) {\n",
              "  let quickchartButtonEl =\n",
              "    domScope.querySelector('#df-20100b05-2155-4485-8b44-4bd2fead1418 button.colab-df-quickchart');\n",
              "  quickchartButtonEl.style.display =\n",
              "    google.colab.kernel.accessAllowed ? 'block' : 'none';\n",
              "}\n",
              "\n",
              "        displayQuickchartButton(document);\n",
              "      </script>\n",
              "      <style>\n",
              "    .colab-df-container {\n",
              "      display:flex;\n",
              "      flex-wrap:wrap;\n",
              "      gap: 12px;\n",
              "    }\n",
              "\n",
              "    .colab-df-convert {\n",
              "      background-color: #E8F0FE;\n",
              "      border: none;\n",
              "      border-radius: 50%;\n",
              "      cursor: pointer;\n",
              "      display: none;\n",
              "      fill: #1967D2;\n",
              "      height: 32px;\n",
              "      padding: 0 0 0 0;\n",
              "      width: 32px;\n",
              "    }\n",
              "\n",
              "    .colab-df-convert:hover {\n",
              "      background-color: #E2EBFA;\n",
              "      box-shadow: 0px 1px 2px rgba(60, 64, 67, 0.3), 0px 1px 3px 1px rgba(60, 64, 67, 0.15);\n",
              "      fill: #174EA6;\n",
              "    }\n",
              "\n",
              "    [theme=dark] .colab-df-convert {\n",
              "      background-color: #3B4455;\n",
              "      fill: #D2E3FC;\n",
              "    }\n",
              "\n",
              "    [theme=dark] .colab-df-convert:hover {\n",
              "      background-color: #434B5C;\n",
              "      box-shadow: 0px 1px 3px 1px rgba(0, 0, 0, 0.15);\n",
              "      filter: drop-shadow(0px 1px 2px rgba(0, 0, 0, 0.3));\n",
              "      fill: #FFFFFF;\n",
              "    }\n",
              "  </style>\n",
              "\n",
              "      <script>\n",
              "        const buttonEl =\n",
              "          document.querySelector('#df-e98db4a5-0c5b-457f-bfd6-79180a07a454 button.colab-df-convert');\n",
              "        buttonEl.style.display =\n",
              "          google.colab.kernel.accessAllowed ? 'block' : 'none';\n",
              "\n",
              "        async function convertToInteractive(key) {\n",
              "          const element = document.querySelector('#df-e98db4a5-0c5b-457f-bfd6-79180a07a454');\n",
              "          const dataTable =\n",
              "            await google.colab.kernel.invokeFunction('convertToInteractive',\n",
              "                                                     [key], {});\n",
              "          if (!dataTable) return;\n",
              "\n",
              "          const docLinkHtml = 'Like what you see? Visit the ' +\n",
              "            '<a target=\"_blank\" href=https://colab.research.google.com/notebooks/data_table.ipynb>data table notebook</a>'\n",
              "            + ' to learn more about interactive tables.';\n",
              "          element.innerHTML = '';\n",
              "          dataTable['output_type'] = 'display_data';\n",
              "          await google.colab.output.renderOutput(dataTable, element);\n",
              "          const docLink = document.createElement('div');\n",
              "          docLink.innerHTML = docLinkHtml;\n",
              "          element.appendChild(docLink);\n",
              "        }\n",
              "      </script>\n",
              "    </div>\n",
              "  </div>\n"
            ]
          },
          "metadata": {}
        },
        {
          "output_type": "display_data",
          "data": {
            "text/plain": [
              "       id message_date  user_id  month\n",
              "0  1000_0   2018-06-27     1000      6\n",
              "1  1000_1   2018-10-08     1000     10\n",
              "2  1000_2   2018-08-04     1000      8\n",
              "3  1000_3   2018-06-16     1000      6\n",
              "4  1000_4   2018-12-05     1000     12"
            ],
            "text/html": [
              "\n",
              "\n",
              "  <div id=\"df-6c6e83c2-f575-4c38-ae4e-ebf4b05c76ff\">\n",
              "    <div class=\"colab-df-container\">\n",
              "      <div>\n",
              "<style scoped>\n",
              "    .dataframe tbody tr th:only-of-type {\n",
              "        vertical-align: middle;\n",
              "    }\n",
              "\n",
              "    .dataframe tbody tr th {\n",
              "        vertical-align: top;\n",
              "    }\n",
              "\n",
              "    .dataframe thead th {\n",
              "        text-align: right;\n",
              "    }\n",
              "</style>\n",
              "<table border=\"1\" class=\"dataframe\">\n",
              "  <thead>\n",
              "    <tr style=\"text-align: right;\">\n",
              "      <th></th>\n",
              "      <th>id</th>\n",
              "      <th>message_date</th>\n",
              "      <th>user_id</th>\n",
              "      <th>month</th>\n",
              "    </tr>\n",
              "  </thead>\n",
              "  <tbody>\n",
              "    <tr>\n",
              "      <th>0</th>\n",
              "      <td>1000_0</td>\n",
              "      <td>2018-06-27</td>\n",
              "      <td>1000</td>\n",
              "      <td>6</td>\n",
              "    </tr>\n",
              "    <tr>\n",
              "      <th>1</th>\n",
              "      <td>1000_1</td>\n",
              "      <td>2018-10-08</td>\n",
              "      <td>1000</td>\n",
              "      <td>10</td>\n",
              "    </tr>\n",
              "    <tr>\n",
              "      <th>2</th>\n",
              "      <td>1000_2</td>\n",
              "      <td>2018-08-04</td>\n",
              "      <td>1000</td>\n",
              "      <td>8</td>\n",
              "    </tr>\n",
              "    <tr>\n",
              "      <th>3</th>\n",
              "      <td>1000_3</td>\n",
              "      <td>2018-06-16</td>\n",
              "      <td>1000</td>\n",
              "      <td>6</td>\n",
              "    </tr>\n",
              "    <tr>\n",
              "      <th>4</th>\n",
              "      <td>1000_4</td>\n",
              "      <td>2018-12-05</td>\n",
              "      <td>1000</td>\n",
              "      <td>12</td>\n",
              "    </tr>\n",
              "  </tbody>\n",
              "</table>\n",
              "</div>\n",
              "      <button class=\"colab-df-convert\" onclick=\"convertToInteractive('df-6c6e83c2-f575-4c38-ae4e-ebf4b05c76ff')\"\n",
              "              title=\"Convert this dataframe to an interactive table.\"\n",
              "              style=\"display:none;\">\n",
              "\n",
              "  <svg xmlns=\"http://www.w3.org/2000/svg\" height=\"24px\"viewBox=\"0 0 24 24\"\n",
              "       width=\"24px\">\n",
              "    <path d=\"M0 0h24v24H0V0z\" fill=\"none\"/>\n",
              "    <path d=\"M18.56 5.44l.94 2.06.94-2.06 2.06-.94-2.06-.94-.94-2.06-.94 2.06-2.06.94zm-11 1L8.5 8.5l.94-2.06 2.06-.94-2.06-.94L8.5 2.5l-.94 2.06-2.06.94zm10 10l.94 2.06.94-2.06 2.06-.94-2.06-.94-.94-2.06-.94 2.06-2.06.94z\"/><path d=\"M17.41 7.96l-1.37-1.37c-.4-.4-.92-.59-1.43-.59-.52 0-1.04.2-1.43.59L10.3 9.45l-7.72 7.72c-.78.78-.78 2.05 0 2.83L4 21.41c.39.39.9.59 1.41.59.51 0 1.02-.2 1.41-.59l7.78-7.78 2.81-2.81c.8-.78.8-2.07 0-2.86zM5.41 20L4 18.59l7.72-7.72 1.47 1.35L5.41 20z\"/>\n",
              "  </svg>\n",
              "      </button>\n",
              "\n",
              "\n",
              "\n",
              "    <div id=\"df-f1152116-750e-4c0c-8346-42d89e801d01\">\n",
              "      <button class=\"colab-df-quickchart\" onclick=\"quickchart('df-f1152116-750e-4c0c-8346-42d89e801d01')\"\n",
              "              title=\"Suggest charts.\"\n",
              "              style=\"display:none;\">\n",
              "\n",
              "<svg xmlns=\"http://www.w3.org/2000/svg\" height=\"24px\"viewBox=\"0 0 24 24\"\n",
              "     width=\"24px\">\n",
              "    <g>\n",
              "        <path d=\"M19 3H5c-1.1 0-2 .9-2 2v14c0 1.1.9 2 2 2h14c1.1 0 2-.9 2-2V5c0-1.1-.9-2-2-2zM9 17H7v-7h2v7zm4 0h-2V7h2v10zm4 0h-2v-4h2v4z\"/>\n",
              "    </g>\n",
              "</svg>\n",
              "      </button>\n",
              "    </div>\n",
              "\n",
              "<style>\n",
              "  .colab-df-quickchart {\n",
              "    background-color: #E8F0FE;\n",
              "    border: none;\n",
              "    border-radius: 50%;\n",
              "    cursor: pointer;\n",
              "    display: none;\n",
              "    fill: #1967D2;\n",
              "    height: 32px;\n",
              "    padding: 0 0 0 0;\n",
              "    width: 32px;\n",
              "  }\n",
              "\n",
              "  .colab-df-quickchart:hover {\n",
              "    background-color: #E2EBFA;\n",
              "    box-shadow: 0px 1px 2px rgba(60, 64, 67, 0.3), 0px 1px 3px 1px rgba(60, 64, 67, 0.15);\n",
              "    fill: #174EA6;\n",
              "  }\n",
              "\n",
              "  [theme=dark] .colab-df-quickchart {\n",
              "    background-color: #3B4455;\n",
              "    fill: #D2E3FC;\n",
              "  }\n",
              "\n",
              "  [theme=dark] .colab-df-quickchart:hover {\n",
              "    background-color: #434B5C;\n",
              "    box-shadow: 0px 1px 3px 1px rgba(0, 0, 0, 0.15);\n",
              "    filter: drop-shadow(0px 1px 2px rgba(0, 0, 0, 0.3));\n",
              "    fill: #FFFFFF;\n",
              "  }\n",
              "</style>\n",
              "\n",
              "    <script>\n",
              "      async function quickchart(key) {\n",
              "        const containerElement = document.querySelector('#' + key);\n",
              "        const charts = await google.colab.kernel.invokeFunction(\n",
              "            'suggestCharts', [key], {});\n",
              "      }\n",
              "    </script>\n",
              "\n",
              "      <script>\n",
              "\n",
              "function displayQuickchartButton(domScope) {\n",
              "  let quickchartButtonEl =\n",
              "    domScope.querySelector('#df-f1152116-750e-4c0c-8346-42d89e801d01 button.colab-df-quickchart');\n",
              "  quickchartButtonEl.style.display =\n",
              "    google.colab.kernel.accessAllowed ? 'block' : 'none';\n",
              "}\n",
              "\n",
              "        displayQuickchartButton(document);\n",
              "      </script>\n",
              "      <style>\n",
              "    .colab-df-container {\n",
              "      display:flex;\n",
              "      flex-wrap:wrap;\n",
              "      gap: 12px;\n",
              "    }\n",
              "\n",
              "    .colab-df-convert {\n",
              "      background-color: #E8F0FE;\n",
              "      border: none;\n",
              "      border-radius: 50%;\n",
              "      cursor: pointer;\n",
              "      display: none;\n",
              "      fill: #1967D2;\n",
              "      height: 32px;\n",
              "      padding: 0 0 0 0;\n",
              "      width: 32px;\n",
              "    }\n",
              "\n",
              "    .colab-df-convert:hover {\n",
              "      background-color: #E2EBFA;\n",
              "      box-shadow: 0px 1px 2px rgba(60, 64, 67, 0.3), 0px 1px 3px 1px rgba(60, 64, 67, 0.15);\n",
              "      fill: #174EA6;\n",
              "    }\n",
              "\n",
              "    [theme=dark] .colab-df-convert {\n",
              "      background-color: #3B4455;\n",
              "      fill: #D2E3FC;\n",
              "    }\n",
              "\n",
              "    [theme=dark] .colab-df-convert:hover {\n",
              "      background-color: #434B5C;\n",
              "      box-shadow: 0px 1px 3px 1px rgba(0, 0, 0, 0.15);\n",
              "      filter: drop-shadow(0px 1px 2px rgba(0, 0, 0, 0.3));\n",
              "      fill: #FFFFFF;\n",
              "    }\n",
              "  </style>\n",
              "\n",
              "      <script>\n",
              "        const buttonEl =\n",
              "          document.querySelector('#df-6c6e83c2-f575-4c38-ae4e-ebf4b05c76ff button.colab-df-convert');\n",
              "        buttonEl.style.display =\n",
              "          google.colab.kernel.accessAllowed ? 'block' : 'none';\n",
              "\n",
              "        async function convertToInteractive(key) {\n",
              "          const element = document.querySelector('#df-6c6e83c2-f575-4c38-ae4e-ebf4b05c76ff');\n",
              "          const dataTable =\n",
              "            await google.colab.kernel.invokeFunction('convertToInteractive',\n",
              "                                                     [key], {});\n",
              "          if (!dataTable) return;\n",
              "\n",
              "          const docLinkHtml = 'Like what you see? Visit the ' +\n",
              "            '<a target=\"_blank\" href=https://colab.research.google.com/notebooks/data_table.ipynb>data table notebook</a>'\n",
              "            + ' to learn more about interactive tables.';\n",
              "          element.innerHTML = '';\n",
              "          dataTable['output_type'] = 'display_data';\n",
              "          await google.colab.output.renderOutput(dataTable, element);\n",
              "          const docLink = document.createElement('div');\n",
              "          docLink.innerHTML = docLinkHtml;\n",
              "          element.appendChild(docLink);\n",
              "        }\n",
              "      </script>\n",
              "    </div>\n",
              "  </div>\n"
            ]
          },
          "metadata": {}
        },
        {
          "output_type": "display_data",
          "data": {
            "text/plain": [
              "       id  mb_used session_date  user_id  month\n",
              "0  1000_0   112.95   2018-11-25     1000     11\n",
              "1  1000_1  1052.81   2018-09-07     1000      9\n",
              "2  1000_2  1197.26   2018-06-25     1000      6\n",
              "3  1000_3   550.27   2018-08-22     1000      8\n",
              "4  1000_4   302.56   2018-09-24     1000      9"
            ],
            "text/html": [
              "\n",
              "\n",
              "  <div id=\"df-a7fc148e-7327-448d-8ca9-46cf9ec43f01\">\n",
              "    <div class=\"colab-df-container\">\n",
              "      <div>\n",
              "<style scoped>\n",
              "    .dataframe tbody tr th:only-of-type {\n",
              "        vertical-align: middle;\n",
              "    }\n",
              "\n",
              "    .dataframe tbody tr th {\n",
              "        vertical-align: top;\n",
              "    }\n",
              "\n",
              "    .dataframe thead th {\n",
              "        text-align: right;\n",
              "    }\n",
              "</style>\n",
              "<table border=\"1\" class=\"dataframe\">\n",
              "  <thead>\n",
              "    <tr style=\"text-align: right;\">\n",
              "      <th></th>\n",
              "      <th>id</th>\n",
              "      <th>mb_used</th>\n",
              "      <th>session_date</th>\n",
              "      <th>user_id</th>\n",
              "      <th>month</th>\n",
              "    </tr>\n",
              "  </thead>\n",
              "  <tbody>\n",
              "    <tr>\n",
              "      <th>0</th>\n",
              "      <td>1000_0</td>\n",
              "      <td>112.95</td>\n",
              "      <td>2018-11-25</td>\n",
              "      <td>1000</td>\n",
              "      <td>11</td>\n",
              "    </tr>\n",
              "    <tr>\n",
              "      <th>1</th>\n",
              "      <td>1000_1</td>\n",
              "      <td>1052.81</td>\n",
              "      <td>2018-09-07</td>\n",
              "      <td>1000</td>\n",
              "      <td>9</td>\n",
              "    </tr>\n",
              "    <tr>\n",
              "      <th>2</th>\n",
              "      <td>1000_2</td>\n",
              "      <td>1197.26</td>\n",
              "      <td>2018-06-25</td>\n",
              "      <td>1000</td>\n",
              "      <td>6</td>\n",
              "    </tr>\n",
              "    <tr>\n",
              "      <th>3</th>\n",
              "      <td>1000_3</td>\n",
              "      <td>550.27</td>\n",
              "      <td>2018-08-22</td>\n",
              "      <td>1000</td>\n",
              "      <td>8</td>\n",
              "    </tr>\n",
              "    <tr>\n",
              "      <th>4</th>\n",
              "      <td>1000_4</td>\n",
              "      <td>302.56</td>\n",
              "      <td>2018-09-24</td>\n",
              "      <td>1000</td>\n",
              "      <td>9</td>\n",
              "    </tr>\n",
              "  </tbody>\n",
              "</table>\n",
              "</div>\n",
              "      <button class=\"colab-df-convert\" onclick=\"convertToInteractive('df-a7fc148e-7327-448d-8ca9-46cf9ec43f01')\"\n",
              "              title=\"Convert this dataframe to an interactive table.\"\n",
              "              style=\"display:none;\">\n",
              "\n",
              "  <svg xmlns=\"http://www.w3.org/2000/svg\" height=\"24px\"viewBox=\"0 0 24 24\"\n",
              "       width=\"24px\">\n",
              "    <path d=\"M0 0h24v24H0V0z\" fill=\"none\"/>\n",
              "    <path d=\"M18.56 5.44l.94 2.06.94-2.06 2.06-.94-2.06-.94-.94-2.06-.94 2.06-2.06.94zm-11 1L8.5 8.5l.94-2.06 2.06-.94-2.06-.94L8.5 2.5l-.94 2.06-2.06.94zm10 10l.94 2.06.94-2.06 2.06-.94-2.06-.94-.94-2.06-.94 2.06-2.06.94z\"/><path d=\"M17.41 7.96l-1.37-1.37c-.4-.4-.92-.59-1.43-.59-.52 0-1.04.2-1.43.59L10.3 9.45l-7.72 7.72c-.78.78-.78 2.05 0 2.83L4 21.41c.39.39.9.59 1.41.59.51 0 1.02-.2 1.41-.59l7.78-7.78 2.81-2.81c.8-.78.8-2.07 0-2.86zM5.41 20L4 18.59l7.72-7.72 1.47 1.35L5.41 20z\"/>\n",
              "  </svg>\n",
              "      </button>\n",
              "\n",
              "\n",
              "\n",
              "    <div id=\"df-700ac612-34e3-4073-946d-c71dfc39c6fc\">\n",
              "      <button class=\"colab-df-quickchart\" onclick=\"quickchart('df-700ac612-34e3-4073-946d-c71dfc39c6fc')\"\n",
              "              title=\"Suggest charts.\"\n",
              "              style=\"display:none;\">\n",
              "\n",
              "<svg xmlns=\"http://www.w3.org/2000/svg\" height=\"24px\"viewBox=\"0 0 24 24\"\n",
              "     width=\"24px\">\n",
              "    <g>\n",
              "        <path d=\"M19 3H5c-1.1 0-2 .9-2 2v14c0 1.1.9 2 2 2h14c1.1 0 2-.9 2-2V5c0-1.1-.9-2-2-2zM9 17H7v-7h2v7zm4 0h-2V7h2v10zm4 0h-2v-4h2v4z\"/>\n",
              "    </g>\n",
              "</svg>\n",
              "      </button>\n",
              "    </div>\n",
              "\n",
              "<style>\n",
              "  .colab-df-quickchart {\n",
              "    background-color: #E8F0FE;\n",
              "    border: none;\n",
              "    border-radius: 50%;\n",
              "    cursor: pointer;\n",
              "    display: none;\n",
              "    fill: #1967D2;\n",
              "    height: 32px;\n",
              "    padding: 0 0 0 0;\n",
              "    width: 32px;\n",
              "  }\n",
              "\n",
              "  .colab-df-quickchart:hover {\n",
              "    background-color: #E2EBFA;\n",
              "    box-shadow: 0px 1px 2px rgba(60, 64, 67, 0.3), 0px 1px 3px 1px rgba(60, 64, 67, 0.15);\n",
              "    fill: #174EA6;\n",
              "  }\n",
              "\n",
              "  [theme=dark] .colab-df-quickchart {\n",
              "    background-color: #3B4455;\n",
              "    fill: #D2E3FC;\n",
              "  }\n",
              "\n",
              "  [theme=dark] .colab-df-quickchart:hover {\n",
              "    background-color: #434B5C;\n",
              "    box-shadow: 0px 1px 3px 1px rgba(0, 0, 0, 0.15);\n",
              "    filter: drop-shadow(0px 1px 2px rgba(0, 0, 0, 0.3));\n",
              "    fill: #FFFFFF;\n",
              "  }\n",
              "</style>\n",
              "\n",
              "    <script>\n",
              "      async function quickchart(key) {\n",
              "        const containerElement = document.querySelector('#' + key);\n",
              "        const charts = await google.colab.kernel.invokeFunction(\n",
              "            'suggestCharts', [key], {});\n",
              "      }\n",
              "    </script>\n",
              "\n",
              "      <script>\n",
              "\n",
              "function displayQuickchartButton(domScope) {\n",
              "  let quickchartButtonEl =\n",
              "    domScope.querySelector('#df-700ac612-34e3-4073-946d-c71dfc39c6fc button.colab-df-quickchart');\n",
              "  quickchartButtonEl.style.display =\n",
              "    google.colab.kernel.accessAllowed ? 'block' : 'none';\n",
              "}\n",
              "\n",
              "        displayQuickchartButton(document);\n",
              "      </script>\n",
              "      <style>\n",
              "    .colab-df-container {\n",
              "      display:flex;\n",
              "      flex-wrap:wrap;\n",
              "      gap: 12px;\n",
              "    }\n",
              "\n",
              "    .colab-df-convert {\n",
              "      background-color: #E8F0FE;\n",
              "      border: none;\n",
              "      border-radius: 50%;\n",
              "      cursor: pointer;\n",
              "      display: none;\n",
              "      fill: #1967D2;\n",
              "      height: 32px;\n",
              "      padding: 0 0 0 0;\n",
              "      width: 32px;\n",
              "    }\n",
              "\n",
              "    .colab-df-convert:hover {\n",
              "      background-color: #E2EBFA;\n",
              "      box-shadow: 0px 1px 2px rgba(60, 64, 67, 0.3), 0px 1px 3px 1px rgba(60, 64, 67, 0.15);\n",
              "      fill: #174EA6;\n",
              "    }\n",
              "\n",
              "    [theme=dark] .colab-df-convert {\n",
              "      background-color: #3B4455;\n",
              "      fill: #D2E3FC;\n",
              "    }\n",
              "\n",
              "    [theme=dark] .colab-df-convert:hover {\n",
              "      background-color: #434B5C;\n",
              "      box-shadow: 0px 1px 3px 1px rgba(0, 0, 0, 0.15);\n",
              "      filter: drop-shadow(0px 1px 2px rgba(0, 0, 0, 0.3));\n",
              "      fill: #FFFFFF;\n",
              "    }\n",
              "  </style>\n",
              "\n",
              "      <script>\n",
              "        const buttonEl =\n",
              "          document.querySelector('#df-a7fc148e-7327-448d-8ca9-46cf9ec43f01 button.colab-df-convert');\n",
              "        buttonEl.style.display =\n",
              "          google.colab.kernel.accessAllowed ? 'block' : 'none';\n",
              "\n",
              "        async function convertToInteractive(key) {\n",
              "          const element = document.querySelector('#df-a7fc148e-7327-448d-8ca9-46cf9ec43f01');\n",
              "          const dataTable =\n",
              "            await google.colab.kernel.invokeFunction('convertToInteractive',\n",
              "                                                     [key], {});\n",
              "          if (!dataTable) return;\n",
              "\n",
              "          const docLinkHtml = 'Like what you see? Visit the ' +\n",
              "            '<a target=\"_blank\" href=https://colab.research.google.com/notebooks/data_table.ipynb>data table notebook</a>'\n",
              "            + ' to learn more about interactive tables.';\n",
              "          element.innerHTML = '';\n",
              "          dataTable['output_type'] = 'display_data';\n",
              "          await google.colab.output.renderOutput(dataTable, element);\n",
              "          const docLink = document.createElement('div');\n",
              "          docLink.innerHTML = docLinkHtml;\n",
              "          element.appendChild(docLink);\n",
              "        }\n",
              "      </script>\n",
              "    </div>\n",
              "  </div>\n"
            ]
          },
          "metadata": {}
        }
      ],
      "source": [
        "calls['month'] = calls['call_date'].dt.month\n",
        "display(calls.head())\n",
        "\n",
        "messages['month'] = messages['message_date'].dt.month\n",
        "display(messages.head())\n",
        "\n",
        "sessions['month'] = sessions['session_date'].dt.month\n",
        "display(sessions.head())\n"
      ]
    },
    {
      "cell_type": "markdown",
      "metadata": {
        "deletable": false,
        "editable": false,
        "tags": [
          "start_task"
        ],
        "id": "CGWz877mM7p_"
      },
      "source": [
        "Считаю сколько было звонков для каждого пользователя по месяцам"
      ]
    },
    {
      "cell_type": "code",
      "execution_count": 7,
      "metadata": {
        "deletable": false,
        "colab": {
          "base_uri": "https://localhost:8080/",
          "height": 395
        },
        "id": "CJi8owSgM7p_",
        "outputId": "b0ab4d4b-26e5-423c-b475-41bab979b787"
      },
      "outputs": [
        {
          "output_type": "display_data",
          "data": {
            "text/plain": [
              "               calls\n",
              "user_id month       \n",
              "1000    5         22\n",
              "        6         43\n",
              "        7         47\n",
              "        8         52\n",
              "        9         58\n",
              "        10        57\n",
              "        11        43\n",
              "        12        46\n",
              "1001    11        59\n",
              "        12        63"
            ],
            "text/html": [
              "\n",
              "\n",
              "  <div id=\"df-33b85868-9fb0-4d68-8f51-d1fb91c751ee\">\n",
              "    <div class=\"colab-df-container\">\n",
              "      <div>\n",
              "<style scoped>\n",
              "    .dataframe tbody tr th:only-of-type {\n",
              "        vertical-align: middle;\n",
              "    }\n",
              "\n",
              "    .dataframe tbody tr th {\n",
              "        vertical-align: top;\n",
              "    }\n",
              "\n",
              "    .dataframe thead th {\n",
              "        text-align: right;\n",
              "    }\n",
              "</style>\n",
              "<table border=\"1\" class=\"dataframe\">\n",
              "  <thead>\n",
              "    <tr style=\"text-align: right;\">\n",
              "      <th></th>\n",
              "      <th></th>\n",
              "      <th>calls</th>\n",
              "    </tr>\n",
              "    <tr>\n",
              "      <th>user_id</th>\n",
              "      <th>month</th>\n",
              "      <th></th>\n",
              "    </tr>\n",
              "  </thead>\n",
              "  <tbody>\n",
              "    <tr>\n",
              "      <th rowspan=\"8\" valign=\"top\">1000</th>\n",
              "      <th>5</th>\n",
              "      <td>22</td>\n",
              "    </tr>\n",
              "    <tr>\n",
              "      <th>6</th>\n",
              "      <td>43</td>\n",
              "    </tr>\n",
              "    <tr>\n",
              "      <th>7</th>\n",
              "      <td>47</td>\n",
              "    </tr>\n",
              "    <tr>\n",
              "      <th>8</th>\n",
              "      <td>52</td>\n",
              "    </tr>\n",
              "    <tr>\n",
              "      <th>9</th>\n",
              "      <td>58</td>\n",
              "    </tr>\n",
              "    <tr>\n",
              "      <th>10</th>\n",
              "      <td>57</td>\n",
              "    </tr>\n",
              "    <tr>\n",
              "      <th>11</th>\n",
              "      <td>43</td>\n",
              "    </tr>\n",
              "    <tr>\n",
              "      <th>12</th>\n",
              "      <td>46</td>\n",
              "    </tr>\n",
              "    <tr>\n",
              "      <th rowspan=\"2\" valign=\"top\">1001</th>\n",
              "      <th>11</th>\n",
              "      <td>59</td>\n",
              "    </tr>\n",
              "    <tr>\n",
              "      <th>12</th>\n",
              "      <td>63</td>\n",
              "    </tr>\n",
              "  </tbody>\n",
              "</table>\n",
              "</div>\n",
              "      <button class=\"colab-df-convert\" onclick=\"convertToInteractive('df-33b85868-9fb0-4d68-8f51-d1fb91c751ee')\"\n",
              "              title=\"Convert this dataframe to an interactive table.\"\n",
              "              style=\"display:none;\">\n",
              "\n",
              "  <svg xmlns=\"http://www.w3.org/2000/svg\" height=\"24px\"viewBox=\"0 0 24 24\"\n",
              "       width=\"24px\">\n",
              "    <path d=\"M0 0h24v24H0V0z\" fill=\"none\"/>\n",
              "    <path d=\"M18.56 5.44l.94 2.06.94-2.06 2.06-.94-2.06-.94-.94-2.06-.94 2.06-2.06.94zm-11 1L8.5 8.5l.94-2.06 2.06-.94-2.06-.94L8.5 2.5l-.94 2.06-2.06.94zm10 10l.94 2.06.94-2.06 2.06-.94-2.06-.94-.94-2.06-.94 2.06-2.06.94z\"/><path d=\"M17.41 7.96l-1.37-1.37c-.4-.4-.92-.59-1.43-.59-.52 0-1.04.2-1.43.59L10.3 9.45l-7.72 7.72c-.78.78-.78 2.05 0 2.83L4 21.41c.39.39.9.59 1.41.59.51 0 1.02-.2 1.41-.59l7.78-7.78 2.81-2.81c.8-.78.8-2.07 0-2.86zM5.41 20L4 18.59l7.72-7.72 1.47 1.35L5.41 20z\"/>\n",
              "  </svg>\n",
              "      </button>\n",
              "\n",
              "\n",
              "\n",
              "    <div id=\"df-2c9b2ad1-7793-49db-9170-1c664c529e62\">\n",
              "      <button class=\"colab-df-quickchart\" onclick=\"quickchart('df-2c9b2ad1-7793-49db-9170-1c664c529e62')\"\n",
              "              title=\"Suggest charts.\"\n",
              "              style=\"display:none;\">\n",
              "\n",
              "<svg xmlns=\"http://www.w3.org/2000/svg\" height=\"24px\"viewBox=\"0 0 24 24\"\n",
              "     width=\"24px\">\n",
              "    <g>\n",
              "        <path d=\"M19 3H5c-1.1 0-2 .9-2 2v14c0 1.1.9 2 2 2h14c1.1 0 2-.9 2-2V5c0-1.1-.9-2-2-2zM9 17H7v-7h2v7zm4 0h-2V7h2v10zm4 0h-2v-4h2v4z\"/>\n",
              "    </g>\n",
              "</svg>\n",
              "      </button>\n",
              "    </div>\n",
              "\n",
              "<style>\n",
              "  .colab-df-quickchart {\n",
              "    background-color: #E8F0FE;\n",
              "    border: none;\n",
              "    border-radius: 50%;\n",
              "    cursor: pointer;\n",
              "    display: none;\n",
              "    fill: #1967D2;\n",
              "    height: 32px;\n",
              "    padding: 0 0 0 0;\n",
              "    width: 32px;\n",
              "  }\n",
              "\n",
              "  .colab-df-quickchart:hover {\n",
              "    background-color: #E2EBFA;\n",
              "    box-shadow: 0px 1px 2px rgba(60, 64, 67, 0.3), 0px 1px 3px 1px rgba(60, 64, 67, 0.15);\n",
              "    fill: #174EA6;\n",
              "  }\n",
              "\n",
              "  [theme=dark] .colab-df-quickchart {\n",
              "    background-color: #3B4455;\n",
              "    fill: #D2E3FC;\n",
              "  }\n",
              "\n",
              "  [theme=dark] .colab-df-quickchart:hover {\n",
              "    background-color: #434B5C;\n",
              "    box-shadow: 0px 1px 3px 1px rgba(0, 0, 0, 0.15);\n",
              "    filter: drop-shadow(0px 1px 2px rgba(0, 0, 0, 0.3));\n",
              "    fill: #FFFFFF;\n",
              "  }\n",
              "</style>\n",
              "\n",
              "    <script>\n",
              "      async function quickchart(key) {\n",
              "        const containerElement = document.querySelector('#' + key);\n",
              "        const charts = await google.colab.kernel.invokeFunction(\n",
              "            'suggestCharts', [key], {});\n",
              "      }\n",
              "    </script>\n",
              "\n",
              "      <script>\n",
              "\n",
              "function displayQuickchartButton(domScope) {\n",
              "  let quickchartButtonEl =\n",
              "    domScope.querySelector('#df-2c9b2ad1-7793-49db-9170-1c664c529e62 button.colab-df-quickchart');\n",
              "  quickchartButtonEl.style.display =\n",
              "    google.colab.kernel.accessAllowed ? 'block' : 'none';\n",
              "}\n",
              "\n",
              "        displayQuickchartButton(document);\n",
              "      </script>\n",
              "      <style>\n",
              "    .colab-df-container {\n",
              "      display:flex;\n",
              "      flex-wrap:wrap;\n",
              "      gap: 12px;\n",
              "    }\n",
              "\n",
              "    .colab-df-convert {\n",
              "      background-color: #E8F0FE;\n",
              "      border: none;\n",
              "      border-radius: 50%;\n",
              "      cursor: pointer;\n",
              "      display: none;\n",
              "      fill: #1967D2;\n",
              "      height: 32px;\n",
              "      padding: 0 0 0 0;\n",
              "      width: 32px;\n",
              "    }\n",
              "\n",
              "    .colab-df-convert:hover {\n",
              "      background-color: #E2EBFA;\n",
              "      box-shadow: 0px 1px 2px rgba(60, 64, 67, 0.3), 0px 1px 3px 1px rgba(60, 64, 67, 0.15);\n",
              "      fill: #174EA6;\n",
              "    }\n",
              "\n",
              "    [theme=dark] .colab-df-convert {\n",
              "      background-color: #3B4455;\n",
              "      fill: #D2E3FC;\n",
              "    }\n",
              "\n",
              "    [theme=dark] .colab-df-convert:hover {\n",
              "      background-color: #434B5C;\n",
              "      box-shadow: 0px 1px 3px 1px rgba(0, 0, 0, 0.15);\n",
              "      filter: drop-shadow(0px 1px 2px rgba(0, 0, 0, 0.3));\n",
              "      fill: #FFFFFF;\n",
              "    }\n",
              "  </style>\n",
              "\n",
              "      <script>\n",
              "        const buttonEl =\n",
              "          document.querySelector('#df-33b85868-9fb0-4d68-8f51-d1fb91c751ee button.colab-df-convert');\n",
              "        buttonEl.style.display =\n",
              "          google.colab.kernel.accessAllowed ? 'block' : 'none';\n",
              "\n",
              "        async function convertToInteractive(key) {\n",
              "          const element = document.querySelector('#df-33b85868-9fb0-4d68-8f51-d1fb91c751ee');\n",
              "          const dataTable =\n",
              "            await google.colab.kernel.invokeFunction('convertToInteractive',\n",
              "                                                     [key], {});\n",
              "          if (!dataTable) return;\n",
              "\n",
              "          const docLinkHtml = 'Like what you see? Visit the ' +\n",
              "            '<a target=\"_blank\" href=https://colab.research.google.com/notebooks/data_table.ipynb>data table notebook</a>'\n",
              "            + ' to learn more about interactive tables.';\n",
              "          element.innerHTML = '';\n",
              "          dataTable['output_type'] = 'display_data';\n",
              "          await google.colab.output.renderOutput(dataTable, element);\n",
              "          const docLink = document.createElement('div');\n",
              "          docLink.innerHTML = docLinkHtml;\n",
              "          element.appendChild(docLink);\n",
              "        }\n",
              "      </script>\n",
              "    </div>\n",
              "  </div>\n"
            ]
          },
          "metadata": {}
        }
      ],
      "source": [
        "calls_per_month = calls.groupby(['user_id', 'month']).agg(calls = ('duration', 'count'))\n",
        "display(calls_per_month.head(10))"
      ]
    },
    {
      "cell_type": "markdown",
      "metadata": {
        "deletable": false,
        "editable": false,
        "tags": [
          "start_task"
        ],
        "id": "xdp77NfpM7qB"
      },
      "source": [
        "Считаю сколько было израсходовано минут для каждого пользователя по месяцам"
      ]
    },
    {
      "cell_type": "code",
      "execution_count": 8,
      "metadata": {
        "deletable": false,
        "colab": {
          "base_uri": "https://localhost:8080/",
          "height": 395
        },
        "id": "22vgn3stM7qB",
        "outputId": "9beea85b-3a37-4e64-d0be-948c752a330a"
      },
      "outputs": [
        {
          "output_type": "display_data",
          "data": {
            "text/plain": [
              "               minutes\n",
              "user_id month         \n",
              "1000    5          159\n",
              "        6          172\n",
              "        7          340\n",
              "        8          408\n",
              "        9          466\n",
              "        10         350\n",
              "        11         338\n",
              "        12         333\n",
              "1001    11         430\n",
              "        12         414"
            ],
            "text/html": [
              "\n",
              "\n",
              "  <div id=\"df-675b78af-6175-4107-a20e-5aa10f96a40d\">\n",
              "    <div class=\"colab-df-container\">\n",
              "      <div>\n",
              "<style scoped>\n",
              "    .dataframe tbody tr th:only-of-type {\n",
              "        vertical-align: middle;\n",
              "    }\n",
              "\n",
              "    .dataframe tbody tr th {\n",
              "        vertical-align: top;\n",
              "    }\n",
              "\n",
              "    .dataframe thead th {\n",
              "        text-align: right;\n",
              "    }\n",
              "</style>\n",
              "<table border=\"1\" class=\"dataframe\">\n",
              "  <thead>\n",
              "    <tr style=\"text-align: right;\">\n",
              "      <th></th>\n",
              "      <th></th>\n",
              "      <th>minutes</th>\n",
              "    </tr>\n",
              "    <tr>\n",
              "      <th>user_id</th>\n",
              "      <th>month</th>\n",
              "      <th></th>\n",
              "    </tr>\n",
              "  </thead>\n",
              "  <tbody>\n",
              "    <tr>\n",
              "      <th rowspan=\"8\" valign=\"top\">1000</th>\n",
              "      <th>5</th>\n",
              "      <td>159</td>\n",
              "    </tr>\n",
              "    <tr>\n",
              "      <th>6</th>\n",
              "      <td>172</td>\n",
              "    </tr>\n",
              "    <tr>\n",
              "      <th>7</th>\n",
              "      <td>340</td>\n",
              "    </tr>\n",
              "    <tr>\n",
              "      <th>8</th>\n",
              "      <td>408</td>\n",
              "    </tr>\n",
              "    <tr>\n",
              "      <th>9</th>\n",
              "      <td>466</td>\n",
              "    </tr>\n",
              "    <tr>\n",
              "      <th>10</th>\n",
              "      <td>350</td>\n",
              "    </tr>\n",
              "    <tr>\n",
              "      <th>11</th>\n",
              "      <td>338</td>\n",
              "    </tr>\n",
              "    <tr>\n",
              "      <th>12</th>\n",
              "      <td>333</td>\n",
              "    </tr>\n",
              "    <tr>\n",
              "      <th rowspan=\"2\" valign=\"top\">1001</th>\n",
              "      <th>11</th>\n",
              "      <td>430</td>\n",
              "    </tr>\n",
              "    <tr>\n",
              "      <th>12</th>\n",
              "      <td>414</td>\n",
              "    </tr>\n",
              "  </tbody>\n",
              "</table>\n",
              "</div>\n",
              "      <button class=\"colab-df-convert\" onclick=\"convertToInteractive('df-675b78af-6175-4107-a20e-5aa10f96a40d')\"\n",
              "              title=\"Convert this dataframe to an interactive table.\"\n",
              "              style=\"display:none;\">\n",
              "\n",
              "  <svg xmlns=\"http://www.w3.org/2000/svg\" height=\"24px\"viewBox=\"0 0 24 24\"\n",
              "       width=\"24px\">\n",
              "    <path d=\"M0 0h24v24H0V0z\" fill=\"none\"/>\n",
              "    <path d=\"M18.56 5.44l.94 2.06.94-2.06 2.06-.94-2.06-.94-.94-2.06-.94 2.06-2.06.94zm-11 1L8.5 8.5l.94-2.06 2.06-.94-2.06-.94L8.5 2.5l-.94 2.06-2.06.94zm10 10l.94 2.06.94-2.06 2.06-.94-2.06-.94-.94-2.06-.94 2.06-2.06.94z\"/><path d=\"M17.41 7.96l-1.37-1.37c-.4-.4-.92-.59-1.43-.59-.52 0-1.04.2-1.43.59L10.3 9.45l-7.72 7.72c-.78.78-.78 2.05 0 2.83L4 21.41c.39.39.9.59 1.41.59.51 0 1.02-.2 1.41-.59l7.78-7.78 2.81-2.81c.8-.78.8-2.07 0-2.86zM5.41 20L4 18.59l7.72-7.72 1.47 1.35L5.41 20z\"/>\n",
              "  </svg>\n",
              "      </button>\n",
              "\n",
              "\n",
              "\n",
              "    <div id=\"df-c6d7c5e9-362f-43bb-a5ea-6ee04e7c2685\">\n",
              "      <button class=\"colab-df-quickchart\" onclick=\"quickchart('df-c6d7c5e9-362f-43bb-a5ea-6ee04e7c2685')\"\n",
              "              title=\"Suggest charts.\"\n",
              "              style=\"display:none;\">\n",
              "\n",
              "<svg xmlns=\"http://www.w3.org/2000/svg\" height=\"24px\"viewBox=\"0 0 24 24\"\n",
              "     width=\"24px\">\n",
              "    <g>\n",
              "        <path d=\"M19 3H5c-1.1 0-2 .9-2 2v14c0 1.1.9 2 2 2h14c1.1 0 2-.9 2-2V5c0-1.1-.9-2-2-2zM9 17H7v-7h2v7zm4 0h-2V7h2v10zm4 0h-2v-4h2v4z\"/>\n",
              "    </g>\n",
              "</svg>\n",
              "      </button>\n",
              "    </div>\n",
              "\n",
              "<style>\n",
              "  .colab-df-quickchart {\n",
              "    background-color: #E8F0FE;\n",
              "    border: none;\n",
              "    border-radius: 50%;\n",
              "    cursor: pointer;\n",
              "    display: none;\n",
              "    fill: #1967D2;\n",
              "    height: 32px;\n",
              "    padding: 0 0 0 0;\n",
              "    width: 32px;\n",
              "  }\n",
              "\n",
              "  .colab-df-quickchart:hover {\n",
              "    background-color: #E2EBFA;\n",
              "    box-shadow: 0px 1px 2px rgba(60, 64, 67, 0.3), 0px 1px 3px 1px rgba(60, 64, 67, 0.15);\n",
              "    fill: #174EA6;\n",
              "  }\n",
              "\n",
              "  [theme=dark] .colab-df-quickchart {\n",
              "    background-color: #3B4455;\n",
              "    fill: #D2E3FC;\n",
              "  }\n",
              "\n",
              "  [theme=dark] .colab-df-quickchart:hover {\n",
              "    background-color: #434B5C;\n",
              "    box-shadow: 0px 1px 3px 1px rgba(0, 0, 0, 0.15);\n",
              "    filter: drop-shadow(0px 1px 2px rgba(0, 0, 0, 0.3));\n",
              "    fill: #FFFFFF;\n",
              "  }\n",
              "</style>\n",
              "\n",
              "    <script>\n",
              "      async function quickchart(key) {\n",
              "        const containerElement = document.querySelector('#' + key);\n",
              "        const charts = await google.colab.kernel.invokeFunction(\n",
              "            'suggestCharts', [key], {});\n",
              "      }\n",
              "    </script>\n",
              "\n",
              "      <script>\n",
              "\n",
              "function displayQuickchartButton(domScope) {\n",
              "  let quickchartButtonEl =\n",
              "    domScope.querySelector('#df-c6d7c5e9-362f-43bb-a5ea-6ee04e7c2685 button.colab-df-quickchart');\n",
              "  quickchartButtonEl.style.display =\n",
              "    google.colab.kernel.accessAllowed ? 'block' : 'none';\n",
              "}\n",
              "\n",
              "        displayQuickchartButton(document);\n",
              "      </script>\n",
              "      <style>\n",
              "    .colab-df-container {\n",
              "      display:flex;\n",
              "      flex-wrap:wrap;\n",
              "      gap: 12px;\n",
              "    }\n",
              "\n",
              "    .colab-df-convert {\n",
              "      background-color: #E8F0FE;\n",
              "      border: none;\n",
              "      border-radius: 50%;\n",
              "      cursor: pointer;\n",
              "      display: none;\n",
              "      fill: #1967D2;\n",
              "      height: 32px;\n",
              "      padding: 0 0 0 0;\n",
              "      width: 32px;\n",
              "    }\n",
              "\n",
              "    .colab-df-convert:hover {\n",
              "      background-color: #E2EBFA;\n",
              "      box-shadow: 0px 1px 2px rgba(60, 64, 67, 0.3), 0px 1px 3px 1px rgba(60, 64, 67, 0.15);\n",
              "      fill: #174EA6;\n",
              "    }\n",
              "\n",
              "    [theme=dark] .colab-df-convert {\n",
              "      background-color: #3B4455;\n",
              "      fill: #D2E3FC;\n",
              "    }\n",
              "\n",
              "    [theme=dark] .colab-df-convert:hover {\n",
              "      background-color: #434B5C;\n",
              "      box-shadow: 0px 1px 3px 1px rgba(0, 0, 0, 0.15);\n",
              "      filter: drop-shadow(0px 1px 2px rgba(0, 0, 0, 0.3));\n",
              "      fill: #FFFFFF;\n",
              "    }\n",
              "  </style>\n",
              "\n",
              "      <script>\n",
              "        const buttonEl =\n",
              "          document.querySelector('#df-675b78af-6175-4107-a20e-5aa10f96a40d button.colab-df-convert');\n",
              "        buttonEl.style.display =\n",
              "          google.colab.kernel.accessAllowed ? 'block' : 'none';\n",
              "\n",
              "        async function convertToInteractive(key) {\n",
              "          const element = document.querySelector('#df-675b78af-6175-4107-a20e-5aa10f96a40d');\n",
              "          const dataTable =\n",
              "            await google.colab.kernel.invokeFunction('convertToInteractive',\n",
              "                                                     [key], {});\n",
              "          if (!dataTable) return;\n",
              "\n",
              "          const docLinkHtml = 'Like what you see? Visit the ' +\n",
              "            '<a target=\"_blank\" href=https://colab.research.google.com/notebooks/data_table.ipynb>data table notebook</a>'\n",
              "            + ' to learn more about interactive tables.';\n",
              "          element.innerHTML = '';\n",
              "          dataTable['output_type'] = 'display_data';\n",
              "          await google.colab.output.renderOutput(dataTable, element);\n",
              "          const docLink = document.createElement('div');\n",
              "          docLink.innerHTML = docLinkHtml;\n",
              "          element.appendChild(docLink);\n",
              "        }\n",
              "      </script>\n",
              "    </div>\n",
              "  </div>\n"
            ]
          },
          "metadata": {}
        }
      ],
      "source": [
        "minutes_per_month = calls.groupby(['user_id', 'month']).agg(minutes=('duration', 'sum'))\n",
        "display(minutes_per_month.head(10))"
      ]
    },
    {
      "cell_type": "markdown",
      "metadata": {
        "deletable": false,
        "editable": false,
        "tags": [
          "start_task"
        ],
        "id": "pqpuexziM7qD"
      },
      "source": [
        "Считаю количество отправленных сообщений по месяцам для каждого пользователя"
      ]
    },
    {
      "cell_type": "code",
      "execution_count": 9,
      "metadata": {
        "deletable": false,
        "colab": {
          "base_uri": "https://localhost:8080/",
          "height": 395
        },
        "id": "fH8XA3CeM7qD",
        "outputId": "702a010e-890b-432c-966f-0836acdf8f16"
      },
      "outputs": [
        {
          "output_type": "display_data",
          "data": {
            "text/plain": [
              "               messages\n",
              "user_id month          \n",
              "1000    5            22\n",
              "        6            60\n",
              "        7            75\n",
              "        8            81\n",
              "        9            57\n",
              "        10           73\n",
              "        11           58\n",
              "        12           70\n",
              "1002    6             4\n",
              "        7            11"
            ],
            "text/html": [
              "\n",
              "\n",
              "  <div id=\"df-392324a9-d149-4d7a-8d4b-3c102a3e0320\">\n",
              "    <div class=\"colab-df-container\">\n",
              "      <div>\n",
              "<style scoped>\n",
              "    .dataframe tbody tr th:only-of-type {\n",
              "        vertical-align: middle;\n",
              "    }\n",
              "\n",
              "    .dataframe tbody tr th {\n",
              "        vertical-align: top;\n",
              "    }\n",
              "\n",
              "    .dataframe thead th {\n",
              "        text-align: right;\n",
              "    }\n",
              "</style>\n",
              "<table border=\"1\" class=\"dataframe\">\n",
              "  <thead>\n",
              "    <tr style=\"text-align: right;\">\n",
              "      <th></th>\n",
              "      <th></th>\n",
              "      <th>messages</th>\n",
              "    </tr>\n",
              "    <tr>\n",
              "      <th>user_id</th>\n",
              "      <th>month</th>\n",
              "      <th></th>\n",
              "    </tr>\n",
              "  </thead>\n",
              "  <tbody>\n",
              "    <tr>\n",
              "      <th rowspan=\"8\" valign=\"top\">1000</th>\n",
              "      <th>5</th>\n",
              "      <td>22</td>\n",
              "    </tr>\n",
              "    <tr>\n",
              "      <th>6</th>\n",
              "      <td>60</td>\n",
              "    </tr>\n",
              "    <tr>\n",
              "      <th>7</th>\n",
              "      <td>75</td>\n",
              "    </tr>\n",
              "    <tr>\n",
              "      <th>8</th>\n",
              "      <td>81</td>\n",
              "    </tr>\n",
              "    <tr>\n",
              "      <th>9</th>\n",
              "      <td>57</td>\n",
              "    </tr>\n",
              "    <tr>\n",
              "      <th>10</th>\n",
              "      <td>73</td>\n",
              "    </tr>\n",
              "    <tr>\n",
              "      <th>11</th>\n",
              "      <td>58</td>\n",
              "    </tr>\n",
              "    <tr>\n",
              "      <th>12</th>\n",
              "      <td>70</td>\n",
              "    </tr>\n",
              "    <tr>\n",
              "      <th rowspan=\"2\" valign=\"top\">1002</th>\n",
              "      <th>6</th>\n",
              "      <td>4</td>\n",
              "    </tr>\n",
              "    <tr>\n",
              "      <th>7</th>\n",
              "      <td>11</td>\n",
              "    </tr>\n",
              "  </tbody>\n",
              "</table>\n",
              "</div>\n",
              "      <button class=\"colab-df-convert\" onclick=\"convertToInteractive('df-392324a9-d149-4d7a-8d4b-3c102a3e0320')\"\n",
              "              title=\"Convert this dataframe to an interactive table.\"\n",
              "              style=\"display:none;\">\n",
              "\n",
              "  <svg xmlns=\"http://www.w3.org/2000/svg\" height=\"24px\"viewBox=\"0 0 24 24\"\n",
              "       width=\"24px\">\n",
              "    <path d=\"M0 0h24v24H0V0z\" fill=\"none\"/>\n",
              "    <path d=\"M18.56 5.44l.94 2.06.94-2.06 2.06-.94-2.06-.94-.94-2.06-.94 2.06-2.06.94zm-11 1L8.5 8.5l.94-2.06 2.06-.94-2.06-.94L8.5 2.5l-.94 2.06-2.06.94zm10 10l.94 2.06.94-2.06 2.06-.94-2.06-.94-.94-2.06-.94 2.06-2.06.94z\"/><path d=\"M17.41 7.96l-1.37-1.37c-.4-.4-.92-.59-1.43-.59-.52 0-1.04.2-1.43.59L10.3 9.45l-7.72 7.72c-.78.78-.78 2.05 0 2.83L4 21.41c.39.39.9.59 1.41.59.51 0 1.02-.2 1.41-.59l7.78-7.78 2.81-2.81c.8-.78.8-2.07 0-2.86zM5.41 20L4 18.59l7.72-7.72 1.47 1.35L5.41 20z\"/>\n",
              "  </svg>\n",
              "      </button>\n",
              "\n",
              "\n",
              "\n",
              "    <div id=\"df-85582362-d098-4fee-996f-038c1d86515c\">\n",
              "      <button class=\"colab-df-quickchart\" onclick=\"quickchart('df-85582362-d098-4fee-996f-038c1d86515c')\"\n",
              "              title=\"Suggest charts.\"\n",
              "              style=\"display:none;\">\n",
              "\n",
              "<svg xmlns=\"http://www.w3.org/2000/svg\" height=\"24px\"viewBox=\"0 0 24 24\"\n",
              "     width=\"24px\">\n",
              "    <g>\n",
              "        <path d=\"M19 3H5c-1.1 0-2 .9-2 2v14c0 1.1.9 2 2 2h14c1.1 0 2-.9 2-2V5c0-1.1-.9-2-2-2zM9 17H7v-7h2v7zm4 0h-2V7h2v10zm4 0h-2v-4h2v4z\"/>\n",
              "    </g>\n",
              "</svg>\n",
              "      </button>\n",
              "    </div>\n",
              "\n",
              "<style>\n",
              "  .colab-df-quickchart {\n",
              "    background-color: #E8F0FE;\n",
              "    border: none;\n",
              "    border-radius: 50%;\n",
              "    cursor: pointer;\n",
              "    display: none;\n",
              "    fill: #1967D2;\n",
              "    height: 32px;\n",
              "    padding: 0 0 0 0;\n",
              "    width: 32px;\n",
              "  }\n",
              "\n",
              "  .colab-df-quickchart:hover {\n",
              "    background-color: #E2EBFA;\n",
              "    box-shadow: 0px 1px 2px rgba(60, 64, 67, 0.3), 0px 1px 3px 1px rgba(60, 64, 67, 0.15);\n",
              "    fill: #174EA6;\n",
              "  }\n",
              "\n",
              "  [theme=dark] .colab-df-quickchart {\n",
              "    background-color: #3B4455;\n",
              "    fill: #D2E3FC;\n",
              "  }\n",
              "\n",
              "  [theme=dark] .colab-df-quickchart:hover {\n",
              "    background-color: #434B5C;\n",
              "    box-shadow: 0px 1px 3px 1px rgba(0, 0, 0, 0.15);\n",
              "    filter: drop-shadow(0px 1px 2px rgba(0, 0, 0, 0.3));\n",
              "    fill: #FFFFFF;\n",
              "  }\n",
              "</style>\n",
              "\n",
              "    <script>\n",
              "      async function quickchart(key) {\n",
              "        const containerElement = document.querySelector('#' + key);\n",
              "        const charts = await google.colab.kernel.invokeFunction(\n",
              "            'suggestCharts', [key], {});\n",
              "      }\n",
              "    </script>\n",
              "\n",
              "      <script>\n",
              "\n",
              "function displayQuickchartButton(domScope) {\n",
              "  let quickchartButtonEl =\n",
              "    domScope.querySelector('#df-85582362-d098-4fee-996f-038c1d86515c button.colab-df-quickchart');\n",
              "  quickchartButtonEl.style.display =\n",
              "    google.colab.kernel.accessAllowed ? 'block' : 'none';\n",
              "}\n",
              "\n",
              "        displayQuickchartButton(document);\n",
              "      </script>\n",
              "      <style>\n",
              "    .colab-df-container {\n",
              "      display:flex;\n",
              "      flex-wrap:wrap;\n",
              "      gap: 12px;\n",
              "    }\n",
              "\n",
              "    .colab-df-convert {\n",
              "      background-color: #E8F0FE;\n",
              "      border: none;\n",
              "      border-radius: 50%;\n",
              "      cursor: pointer;\n",
              "      display: none;\n",
              "      fill: #1967D2;\n",
              "      height: 32px;\n",
              "      padding: 0 0 0 0;\n",
              "      width: 32px;\n",
              "    }\n",
              "\n",
              "    .colab-df-convert:hover {\n",
              "      background-color: #E2EBFA;\n",
              "      box-shadow: 0px 1px 2px rgba(60, 64, 67, 0.3), 0px 1px 3px 1px rgba(60, 64, 67, 0.15);\n",
              "      fill: #174EA6;\n",
              "    }\n",
              "\n",
              "    [theme=dark] .colab-df-convert {\n",
              "      background-color: #3B4455;\n",
              "      fill: #D2E3FC;\n",
              "    }\n",
              "\n",
              "    [theme=dark] .colab-df-convert:hover {\n",
              "      background-color: #434B5C;\n",
              "      box-shadow: 0px 1px 3px 1px rgba(0, 0, 0, 0.15);\n",
              "      filter: drop-shadow(0px 1px 2px rgba(0, 0, 0, 0.3));\n",
              "      fill: #FFFFFF;\n",
              "    }\n",
              "  </style>\n",
              "\n",
              "      <script>\n",
              "        const buttonEl =\n",
              "          document.querySelector('#df-392324a9-d149-4d7a-8d4b-3c102a3e0320 button.colab-df-convert');\n",
              "        buttonEl.style.display =\n",
              "          google.colab.kernel.accessAllowed ? 'block' : 'none';\n",
              "\n",
              "        async function convertToInteractive(key) {\n",
              "          const element = document.querySelector('#df-392324a9-d149-4d7a-8d4b-3c102a3e0320');\n",
              "          const dataTable =\n",
              "            await google.colab.kernel.invokeFunction('convertToInteractive',\n",
              "                                                     [key], {});\n",
              "          if (!dataTable) return;\n",
              "\n",
              "          const docLinkHtml = 'Like what you see? Visit the ' +\n",
              "            '<a target=\"_blank\" href=https://colab.research.google.com/notebooks/data_table.ipynb>data table notebook</a>'\n",
              "            + ' to learn more about interactive tables.';\n",
              "          element.innerHTML = '';\n",
              "          dataTable['output_type'] = 'display_data';\n",
              "          await google.colab.output.renderOutput(dataTable, element);\n",
              "          const docLink = document.createElement('div');\n",
              "          docLink.innerHTML = docLinkHtml;\n",
              "          element.appendChild(docLink);\n",
              "        }\n",
              "      </script>\n",
              "    </div>\n",
              "  </div>\n"
            ]
          },
          "metadata": {}
        }
      ],
      "source": [
        "messages_per_month = messages.groupby(['user_id', 'month']).agg(messages=('message_date', 'count'))\n",
        "display(messages_per_month.head(10))"
      ]
    },
    {
      "cell_type": "markdown",
      "metadata": {
        "deletable": false,
        "editable": false,
        "tags": [
          "start_task"
        ],
        "id": "qInreweHM7qF"
      },
      "source": [
        "Считаю количество потраченных мегабайт по месяцам для каждого пользователя"
      ]
    },
    {
      "cell_type": "code",
      "execution_count": 10,
      "metadata": {
        "deletable": false,
        "colab": {
          "base_uri": "https://localhost:8080/",
          "height": 395
        },
        "id": "5KqHRl6aM7qF",
        "outputId": "8fa6ae64-2879-4624-9560-05a8191bdaf9"
      },
      "outputs": [
        {
          "output_type": "display_data",
          "data": {
            "text/plain": [
              "                mb_used\n",
              "user_id month          \n",
              "1000    5       2253.49\n",
              "        6      23233.77\n",
              "        7      14003.64\n",
              "        8      14055.93\n",
              "        9      14568.91\n",
              "        10     14702.49\n",
              "        11     14756.47\n",
              "        12      9817.61\n",
              "1001    11     18429.34\n",
              "        12     14036.66"
            ],
            "text/html": [
              "\n",
              "\n",
              "  <div id=\"df-50e1bd16-66f0-4505-9fa7-0175609637f8\">\n",
              "    <div class=\"colab-df-container\">\n",
              "      <div>\n",
              "<style scoped>\n",
              "    .dataframe tbody tr th:only-of-type {\n",
              "        vertical-align: middle;\n",
              "    }\n",
              "\n",
              "    .dataframe tbody tr th {\n",
              "        vertical-align: top;\n",
              "    }\n",
              "\n",
              "    .dataframe thead th {\n",
              "        text-align: right;\n",
              "    }\n",
              "</style>\n",
              "<table border=\"1\" class=\"dataframe\">\n",
              "  <thead>\n",
              "    <tr style=\"text-align: right;\">\n",
              "      <th></th>\n",
              "      <th></th>\n",
              "      <th>mb_used</th>\n",
              "    </tr>\n",
              "    <tr>\n",
              "      <th>user_id</th>\n",
              "      <th>month</th>\n",
              "      <th></th>\n",
              "    </tr>\n",
              "  </thead>\n",
              "  <tbody>\n",
              "    <tr>\n",
              "      <th rowspan=\"8\" valign=\"top\">1000</th>\n",
              "      <th>5</th>\n",
              "      <td>2253.49</td>\n",
              "    </tr>\n",
              "    <tr>\n",
              "      <th>6</th>\n",
              "      <td>23233.77</td>\n",
              "    </tr>\n",
              "    <tr>\n",
              "      <th>7</th>\n",
              "      <td>14003.64</td>\n",
              "    </tr>\n",
              "    <tr>\n",
              "      <th>8</th>\n",
              "      <td>14055.93</td>\n",
              "    </tr>\n",
              "    <tr>\n",
              "      <th>9</th>\n",
              "      <td>14568.91</td>\n",
              "    </tr>\n",
              "    <tr>\n",
              "      <th>10</th>\n",
              "      <td>14702.49</td>\n",
              "    </tr>\n",
              "    <tr>\n",
              "      <th>11</th>\n",
              "      <td>14756.47</td>\n",
              "    </tr>\n",
              "    <tr>\n",
              "      <th>12</th>\n",
              "      <td>9817.61</td>\n",
              "    </tr>\n",
              "    <tr>\n",
              "      <th rowspan=\"2\" valign=\"top\">1001</th>\n",
              "      <th>11</th>\n",
              "      <td>18429.34</td>\n",
              "    </tr>\n",
              "    <tr>\n",
              "      <th>12</th>\n",
              "      <td>14036.66</td>\n",
              "    </tr>\n",
              "  </tbody>\n",
              "</table>\n",
              "</div>\n",
              "      <button class=\"colab-df-convert\" onclick=\"convertToInteractive('df-50e1bd16-66f0-4505-9fa7-0175609637f8')\"\n",
              "              title=\"Convert this dataframe to an interactive table.\"\n",
              "              style=\"display:none;\">\n",
              "\n",
              "  <svg xmlns=\"http://www.w3.org/2000/svg\" height=\"24px\"viewBox=\"0 0 24 24\"\n",
              "       width=\"24px\">\n",
              "    <path d=\"M0 0h24v24H0V0z\" fill=\"none\"/>\n",
              "    <path d=\"M18.56 5.44l.94 2.06.94-2.06 2.06-.94-2.06-.94-.94-2.06-.94 2.06-2.06.94zm-11 1L8.5 8.5l.94-2.06 2.06-.94-2.06-.94L8.5 2.5l-.94 2.06-2.06.94zm10 10l.94 2.06.94-2.06 2.06-.94-2.06-.94-.94-2.06-.94 2.06-2.06.94z\"/><path d=\"M17.41 7.96l-1.37-1.37c-.4-.4-.92-.59-1.43-.59-.52 0-1.04.2-1.43.59L10.3 9.45l-7.72 7.72c-.78.78-.78 2.05 0 2.83L4 21.41c.39.39.9.59 1.41.59.51 0 1.02-.2 1.41-.59l7.78-7.78 2.81-2.81c.8-.78.8-2.07 0-2.86zM5.41 20L4 18.59l7.72-7.72 1.47 1.35L5.41 20z\"/>\n",
              "  </svg>\n",
              "      </button>\n",
              "\n",
              "\n",
              "\n",
              "    <div id=\"df-37b060ad-f13c-41e5-aa5b-f557d0d5bee8\">\n",
              "      <button class=\"colab-df-quickchart\" onclick=\"quickchart('df-37b060ad-f13c-41e5-aa5b-f557d0d5bee8')\"\n",
              "              title=\"Suggest charts.\"\n",
              "              style=\"display:none;\">\n",
              "\n",
              "<svg xmlns=\"http://www.w3.org/2000/svg\" height=\"24px\"viewBox=\"0 0 24 24\"\n",
              "     width=\"24px\">\n",
              "    <g>\n",
              "        <path d=\"M19 3H5c-1.1 0-2 .9-2 2v14c0 1.1.9 2 2 2h14c1.1 0 2-.9 2-2V5c0-1.1-.9-2-2-2zM9 17H7v-7h2v7zm4 0h-2V7h2v10zm4 0h-2v-4h2v4z\"/>\n",
              "    </g>\n",
              "</svg>\n",
              "      </button>\n",
              "    </div>\n",
              "\n",
              "<style>\n",
              "  .colab-df-quickchart {\n",
              "    background-color: #E8F0FE;\n",
              "    border: none;\n",
              "    border-radius: 50%;\n",
              "    cursor: pointer;\n",
              "    display: none;\n",
              "    fill: #1967D2;\n",
              "    height: 32px;\n",
              "    padding: 0 0 0 0;\n",
              "    width: 32px;\n",
              "  }\n",
              "\n",
              "  .colab-df-quickchart:hover {\n",
              "    background-color: #E2EBFA;\n",
              "    box-shadow: 0px 1px 2px rgba(60, 64, 67, 0.3), 0px 1px 3px 1px rgba(60, 64, 67, 0.15);\n",
              "    fill: #174EA6;\n",
              "  }\n",
              "\n",
              "  [theme=dark] .colab-df-quickchart {\n",
              "    background-color: #3B4455;\n",
              "    fill: #D2E3FC;\n",
              "  }\n",
              "\n",
              "  [theme=dark] .colab-df-quickchart:hover {\n",
              "    background-color: #434B5C;\n",
              "    box-shadow: 0px 1px 3px 1px rgba(0, 0, 0, 0.15);\n",
              "    filter: drop-shadow(0px 1px 2px rgba(0, 0, 0, 0.3));\n",
              "    fill: #FFFFFF;\n",
              "  }\n",
              "</style>\n",
              "\n",
              "    <script>\n",
              "      async function quickchart(key) {\n",
              "        const containerElement = document.querySelector('#' + key);\n",
              "        const charts = await google.colab.kernel.invokeFunction(\n",
              "            'suggestCharts', [key], {});\n",
              "      }\n",
              "    </script>\n",
              "\n",
              "      <script>\n",
              "\n",
              "function displayQuickchartButton(domScope) {\n",
              "  let quickchartButtonEl =\n",
              "    domScope.querySelector('#df-37b060ad-f13c-41e5-aa5b-f557d0d5bee8 button.colab-df-quickchart');\n",
              "  quickchartButtonEl.style.display =\n",
              "    google.colab.kernel.accessAllowed ? 'block' : 'none';\n",
              "}\n",
              "\n",
              "        displayQuickchartButton(document);\n",
              "      </script>\n",
              "      <style>\n",
              "    .colab-df-container {\n",
              "      display:flex;\n",
              "      flex-wrap:wrap;\n",
              "      gap: 12px;\n",
              "    }\n",
              "\n",
              "    .colab-df-convert {\n",
              "      background-color: #E8F0FE;\n",
              "      border: none;\n",
              "      border-radius: 50%;\n",
              "      cursor: pointer;\n",
              "      display: none;\n",
              "      fill: #1967D2;\n",
              "      height: 32px;\n",
              "      padding: 0 0 0 0;\n",
              "      width: 32px;\n",
              "    }\n",
              "\n",
              "    .colab-df-convert:hover {\n",
              "      background-color: #E2EBFA;\n",
              "      box-shadow: 0px 1px 2px rgba(60, 64, 67, 0.3), 0px 1px 3px 1px rgba(60, 64, 67, 0.15);\n",
              "      fill: #174EA6;\n",
              "    }\n",
              "\n",
              "    [theme=dark] .colab-df-convert {\n",
              "      background-color: #3B4455;\n",
              "      fill: #D2E3FC;\n",
              "    }\n",
              "\n",
              "    [theme=dark] .colab-df-convert:hover {\n",
              "      background-color: #434B5C;\n",
              "      box-shadow: 0px 1px 3px 1px rgba(0, 0, 0, 0.15);\n",
              "      filter: drop-shadow(0px 1px 2px rgba(0, 0, 0, 0.3));\n",
              "      fill: #FFFFFF;\n",
              "    }\n",
              "  </style>\n",
              "\n",
              "      <script>\n",
              "        const buttonEl =\n",
              "          document.querySelector('#df-50e1bd16-66f0-4505-9fa7-0175609637f8 button.colab-df-convert');\n",
              "        buttonEl.style.display =\n",
              "          google.colab.kernel.accessAllowed ? 'block' : 'none';\n",
              "\n",
              "        async function convertToInteractive(key) {\n",
              "          const element = document.querySelector('#df-50e1bd16-66f0-4505-9fa7-0175609637f8');\n",
              "          const dataTable =\n",
              "            await google.colab.kernel.invokeFunction('convertToInteractive',\n",
              "                                                     [key], {});\n",
              "          if (!dataTable) return;\n",
              "\n",
              "          const docLinkHtml = 'Like what you see? Visit the ' +\n",
              "            '<a target=\"_blank\" href=https://colab.research.google.com/notebooks/data_table.ipynb>data table notebook</a>'\n",
              "            + ' to learn more about interactive tables.';\n",
              "          element.innerHTML = '';\n",
              "          dataTable['output_type'] = 'display_data';\n",
              "          await google.colab.output.renderOutput(dataTable, element);\n",
              "          const docLink = document.createElement('div');\n",
              "          docLink.innerHTML = docLinkHtml;\n",
              "          element.appendChild(docLink);\n",
              "        }\n",
              "      </script>\n",
              "    </div>\n",
              "  </div>\n"
            ]
          },
          "metadata": {}
        }
      ],
      "source": [
        "sessions_per_month = sessions.groupby(['user_id','month']).agg({'mb_used': 'sum'})\n",
        "display(sessions_per_month.head(10))"
      ]
    },
    {
      "cell_type": "markdown",
      "metadata": {
        "deletable": false,
        "editable": false,
        "id": "dZ4qwQvFM7qG"
      },
      "source": [
        "### Анализ данных и подсчёт выручки"
      ]
    },
    {
      "cell_type": "markdown",
      "metadata": {
        "deletable": false,
        "editable": false,
        "id": "Dye3jPgcM7qH"
      },
      "source": [
        "Объединяю все посчитанные выше значения в один датафрейм `user_behavior`.\n",
        "Для каждой пары \"пользователь - месяц\" будут доступны информация о тарифе, количестве звонков, сообщений и потраченных мегабайтах"
      ]
    },
    {
      "cell_type": "code",
      "source": [
        "user_behavior = calls_per_month\\\n",
        "    .merge(messages_per_month, left_index=True, right_index=True, how='outer')\\\n",
        "    .merge(sessions_per_month, left_index=True, right_index=True, how='outer')\\\n",
        "    .merge(minutes_per_month, left_index=True, right_index=True, how='outer')\\\n",
        "    .reset_index()\\\n",
        "    .merge(users, how='left', left_on='user_id', right_on='user_id')\\\n",
        "\n",
        "display(user_behavior.head(10))"
      ],
      "metadata": {
        "colab": {
          "base_uri": "https://localhost:8080/",
          "height": 363
        },
        "id": "jZqmsiOThSlU",
        "outputId": "f0daab38-7607-4924-d9c4-21593588155f"
      },
      "execution_count": 11,
      "outputs": [
        {
          "output_type": "display_data",
          "data": {
            "text/plain": [
              "   user_id  month  calls  messages   mb_used  minutes  age churn_date  \\\n",
              "0     1000      5   22.0      22.0   2253.49    159.0   52        NaT   \n",
              "1     1000      6   43.0      60.0  23233.77    172.0   52        NaT   \n",
              "2     1000      7   47.0      75.0  14003.64    340.0   52        NaT   \n",
              "3     1000      8   52.0      81.0  14055.93    408.0   52        NaT   \n",
              "4     1000      9   58.0      57.0  14568.91    466.0   52        NaT   \n",
              "5     1000     10   57.0      73.0  14702.49    350.0   52        NaT   \n",
              "6     1000     11   43.0      58.0  14756.47    338.0   52        NaT   \n",
              "7     1000     12   46.0      70.0   9817.61    333.0   52        NaT   \n",
              "8     1001     11   59.0       NaN  18429.34    430.0   41        NaT   \n",
              "9     1001     12   63.0       NaN  14036.66    414.0   41        NaT   \n",
              "\n",
              "        city first_name  last_name   reg_date tariff  \n",
              "0  Краснодар     Рафаил  Верещагин 2018-05-25  ultra  \n",
              "1  Краснодар     Рафаил  Верещагин 2018-05-25  ultra  \n",
              "2  Краснодар     Рафаил  Верещагин 2018-05-25  ultra  \n",
              "3  Краснодар     Рафаил  Верещагин 2018-05-25  ultra  \n",
              "4  Краснодар     Рафаил  Верещагин 2018-05-25  ultra  \n",
              "5  Краснодар     Рафаил  Верещагин 2018-05-25  ultra  \n",
              "6  Краснодар     Рафаил  Верещагин 2018-05-25  ultra  \n",
              "7  Краснодар     Рафаил  Верещагин 2018-05-25  ultra  \n",
              "8     Москва       Иван       Ежов 2018-11-01  smart  \n",
              "9     Москва       Иван       Ежов 2018-11-01  smart  "
            ],
            "text/html": [
              "\n",
              "\n",
              "  <div id=\"df-bdacd6c0-2f75-4a06-9fd6-47b04c5a8d3d\">\n",
              "    <div class=\"colab-df-container\">\n",
              "      <div>\n",
              "<style scoped>\n",
              "    .dataframe tbody tr th:only-of-type {\n",
              "        vertical-align: middle;\n",
              "    }\n",
              "\n",
              "    .dataframe tbody tr th {\n",
              "        vertical-align: top;\n",
              "    }\n",
              "\n",
              "    .dataframe thead th {\n",
              "        text-align: right;\n",
              "    }\n",
              "</style>\n",
              "<table border=\"1\" class=\"dataframe\">\n",
              "  <thead>\n",
              "    <tr style=\"text-align: right;\">\n",
              "      <th></th>\n",
              "      <th>user_id</th>\n",
              "      <th>month</th>\n",
              "      <th>calls</th>\n",
              "      <th>messages</th>\n",
              "      <th>mb_used</th>\n",
              "      <th>minutes</th>\n",
              "      <th>age</th>\n",
              "      <th>churn_date</th>\n",
              "      <th>city</th>\n",
              "      <th>first_name</th>\n",
              "      <th>last_name</th>\n",
              "      <th>reg_date</th>\n",
              "      <th>tariff</th>\n",
              "    </tr>\n",
              "  </thead>\n",
              "  <tbody>\n",
              "    <tr>\n",
              "      <th>0</th>\n",
              "      <td>1000</td>\n",
              "      <td>5</td>\n",
              "      <td>22.0</td>\n",
              "      <td>22.0</td>\n",
              "      <td>2253.49</td>\n",
              "      <td>159.0</td>\n",
              "      <td>52</td>\n",
              "      <td>NaT</td>\n",
              "      <td>Краснодар</td>\n",
              "      <td>Рафаил</td>\n",
              "      <td>Верещагин</td>\n",
              "      <td>2018-05-25</td>\n",
              "      <td>ultra</td>\n",
              "    </tr>\n",
              "    <tr>\n",
              "      <th>1</th>\n",
              "      <td>1000</td>\n",
              "      <td>6</td>\n",
              "      <td>43.0</td>\n",
              "      <td>60.0</td>\n",
              "      <td>23233.77</td>\n",
              "      <td>172.0</td>\n",
              "      <td>52</td>\n",
              "      <td>NaT</td>\n",
              "      <td>Краснодар</td>\n",
              "      <td>Рафаил</td>\n",
              "      <td>Верещагин</td>\n",
              "      <td>2018-05-25</td>\n",
              "      <td>ultra</td>\n",
              "    </tr>\n",
              "    <tr>\n",
              "      <th>2</th>\n",
              "      <td>1000</td>\n",
              "      <td>7</td>\n",
              "      <td>47.0</td>\n",
              "      <td>75.0</td>\n",
              "      <td>14003.64</td>\n",
              "      <td>340.0</td>\n",
              "      <td>52</td>\n",
              "      <td>NaT</td>\n",
              "      <td>Краснодар</td>\n",
              "      <td>Рафаил</td>\n",
              "      <td>Верещагин</td>\n",
              "      <td>2018-05-25</td>\n",
              "      <td>ultra</td>\n",
              "    </tr>\n",
              "    <tr>\n",
              "      <th>3</th>\n",
              "      <td>1000</td>\n",
              "      <td>8</td>\n",
              "      <td>52.0</td>\n",
              "      <td>81.0</td>\n",
              "      <td>14055.93</td>\n",
              "      <td>408.0</td>\n",
              "      <td>52</td>\n",
              "      <td>NaT</td>\n",
              "      <td>Краснодар</td>\n",
              "      <td>Рафаил</td>\n",
              "      <td>Верещагин</td>\n",
              "      <td>2018-05-25</td>\n",
              "      <td>ultra</td>\n",
              "    </tr>\n",
              "    <tr>\n",
              "      <th>4</th>\n",
              "      <td>1000</td>\n",
              "      <td>9</td>\n",
              "      <td>58.0</td>\n",
              "      <td>57.0</td>\n",
              "      <td>14568.91</td>\n",
              "      <td>466.0</td>\n",
              "      <td>52</td>\n",
              "      <td>NaT</td>\n",
              "      <td>Краснодар</td>\n",
              "      <td>Рафаил</td>\n",
              "      <td>Верещагин</td>\n",
              "      <td>2018-05-25</td>\n",
              "      <td>ultra</td>\n",
              "    </tr>\n",
              "    <tr>\n",
              "      <th>5</th>\n",
              "      <td>1000</td>\n",
              "      <td>10</td>\n",
              "      <td>57.0</td>\n",
              "      <td>73.0</td>\n",
              "      <td>14702.49</td>\n",
              "      <td>350.0</td>\n",
              "      <td>52</td>\n",
              "      <td>NaT</td>\n",
              "      <td>Краснодар</td>\n",
              "      <td>Рафаил</td>\n",
              "      <td>Верещагин</td>\n",
              "      <td>2018-05-25</td>\n",
              "      <td>ultra</td>\n",
              "    </tr>\n",
              "    <tr>\n",
              "      <th>6</th>\n",
              "      <td>1000</td>\n",
              "      <td>11</td>\n",
              "      <td>43.0</td>\n",
              "      <td>58.0</td>\n",
              "      <td>14756.47</td>\n",
              "      <td>338.0</td>\n",
              "      <td>52</td>\n",
              "      <td>NaT</td>\n",
              "      <td>Краснодар</td>\n",
              "      <td>Рафаил</td>\n",
              "      <td>Верещагин</td>\n",
              "      <td>2018-05-25</td>\n",
              "      <td>ultra</td>\n",
              "    </tr>\n",
              "    <tr>\n",
              "      <th>7</th>\n",
              "      <td>1000</td>\n",
              "      <td>12</td>\n",
              "      <td>46.0</td>\n",
              "      <td>70.0</td>\n",
              "      <td>9817.61</td>\n",
              "      <td>333.0</td>\n",
              "      <td>52</td>\n",
              "      <td>NaT</td>\n",
              "      <td>Краснодар</td>\n",
              "      <td>Рафаил</td>\n",
              "      <td>Верещагин</td>\n",
              "      <td>2018-05-25</td>\n",
              "      <td>ultra</td>\n",
              "    </tr>\n",
              "    <tr>\n",
              "      <th>8</th>\n",
              "      <td>1001</td>\n",
              "      <td>11</td>\n",
              "      <td>59.0</td>\n",
              "      <td>NaN</td>\n",
              "      <td>18429.34</td>\n",
              "      <td>430.0</td>\n",
              "      <td>41</td>\n",
              "      <td>NaT</td>\n",
              "      <td>Москва</td>\n",
              "      <td>Иван</td>\n",
              "      <td>Ежов</td>\n",
              "      <td>2018-11-01</td>\n",
              "      <td>smart</td>\n",
              "    </tr>\n",
              "    <tr>\n",
              "      <th>9</th>\n",
              "      <td>1001</td>\n",
              "      <td>12</td>\n",
              "      <td>63.0</td>\n",
              "      <td>NaN</td>\n",
              "      <td>14036.66</td>\n",
              "      <td>414.0</td>\n",
              "      <td>41</td>\n",
              "      <td>NaT</td>\n",
              "      <td>Москва</td>\n",
              "      <td>Иван</td>\n",
              "      <td>Ежов</td>\n",
              "      <td>2018-11-01</td>\n",
              "      <td>smart</td>\n",
              "    </tr>\n",
              "  </tbody>\n",
              "</table>\n",
              "</div>\n",
              "      <button class=\"colab-df-convert\" onclick=\"convertToInteractive('df-bdacd6c0-2f75-4a06-9fd6-47b04c5a8d3d')\"\n",
              "              title=\"Convert this dataframe to an interactive table.\"\n",
              "              style=\"display:none;\">\n",
              "\n",
              "  <svg xmlns=\"http://www.w3.org/2000/svg\" height=\"24px\"viewBox=\"0 0 24 24\"\n",
              "       width=\"24px\">\n",
              "    <path d=\"M0 0h24v24H0V0z\" fill=\"none\"/>\n",
              "    <path d=\"M18.56 5.44l.94 2.06.94-2.06 2.06-.94-2.06-.94-.94-2.06-.94 2.06-2.06.94zm-11 1L8.5 8.5l.94-2.06 2.06-.94-2.06-.94L8.5 2.5l-.94 2.06-2.06.94zm10 10l.94 2.06.94-2.06 2.06-.94-2.06-.94-.94-2.06-.94 2.06-2.06.94z\"/><path d=\"M17.41 7.96l-1.37-1.37c-.4-.4-.92-.59-1.43-.59-.52 0-1.04.2-1.43.59L10.3 9.45l-7.72 7.72c-.78.78-.78 2.05 0 2.83L4 21.41c.39.39.9.59 1.41.59.51 0 1.02-.2 1.41-.59l7.78-7.78 2.81-2.81c.8-.78.8-2.07 0-2.86zM5.41 20L4 18.59l7.72-7.72 1.47 1.35L5.41 20z\"/>\n",
              "  </svg>\n",
              "      </button>\n",
              "\n",
              "\n",
              "\n",
              "    <div id=\"df-a1df1a7d-85eb-434e-be29-5e4cea0d56ea\">\n",
              "      <button class=\"colab-df-quickchart\" onclick=\"quickchart('df-a1df1a7d-85eb-434e-be29-5e4cea0d56ea')\"\n",
              "              title=\"Suggest charts.\"\n",
              "              style=\"display:none;\">\n",
              "\n",
              "<svg xmlns=\"http://www.w3.org/2000/svg\" height=\"24px\"viewBox=\"0 0 24 24\"\n",
              "     width=\"24px\">\n",
              "    <g>\n",
              "        <path d=\"M19 3H5c-1.1 0-2 .9-2 2v14c0 1.1.9 2 2 2h14c1.1 0 2-.9 2-2V5c0-1.1-.9-2-2-2zM9 17H7v-7h2v7zm4 0h-2V7h2v10zm4 0h-2v-4h2v4z\"/>\n",
              "    </g>\n",
              "</svg>\n",
              "      </button>\n",
              "    </div>\n",
              "\n",
              "<style>\n",
              "  .colab-df-quickchart {\n",
              "    background-color: #E8F0FE;\n",
              "    border: none;\n",
              "    border-radius: 50%;\n",
              "    cursor: pointer;\n",
              "    display: none;\n",
              "    fill: #1967D2;\n",
              "    height: 32px;\n",
              "    padding: 0 0 0 0;\n",
              "    width: 32px;\n",
              "  }\n",
              "\n",
              "  .colab-df-quickchart:hover {\n",
              "    background-color: #E2EBFA;\n",
              "    box-shadow: 0px 1px 2px rgba(60, 64, 67, 0.3), 0px 1px 3px 1px rgba(60, 64, 67, 0.15);\n",
              "    fill: #174EA6;\n",
              "  }\n",
              "\n",
              "  [theme=dark] .colab-df-quickchart {\n",
              "    background-color: #3B4455;\n",
              "    fill: #D2E3FC;\n",
              "  }\n",
              "\n",
              "  [theme=dark] .colab-df-quickchart:hover {\n",
              "    background-color: #434B5C;\n",
              "    box-shadow: 0px 1px 3px 1px rgba(0, 0, 0, 0.15);\n",
              "    filter: drop-shadow(0px 1px 2px rgba(0, 0, 0, 0.3));\n",
              "    fill: #FFFFFF;\n",
              "  }\n",
              "</style>\n",
              "\n",
              "    <script>\n",
              "      async function quickchart(key) {\n",
              "        const containerElement = document.querySelector('#' + key);\n",
              "        const charts = await google.colab.kernel.invokeFunction(\n",
              "            'suggestCharts', [key], {});\n",
              "      }\n",
              "    </script>\n",
              "\n",
              "      <script>\n",
              "\n",
              "function displayQuickchartButton(domScope) {\n",
              "  let quickchartButtonEl =\n",
              "    domScope.querySelector('#df-a1df1a7d-85eb-434e-be29-5e4cea0d56ea button.colab-df-quickchart');\n",
              "  quickchartButtonEl.style.display =\n",
              "    google.colab.kernel.accessAllowed ? 'block' : 'none';\n",
              "}\n",
              "\n",
              "        displayQuickchartButton(document);\n",
              "      </script>\n",
              "      <style>\n",
              "    .colab-df-container {\n",
              "      display:flex;\n",
              "      flex-wrap:wrap;\n",
              "      gap: 12px;\n",
              "    }\n",
              "\n",
              "    .colab-df-convert {\n",
              "      background-color: #E8F0FE;\n",
              "      border: none;\n",
              "      border-radius: 50%;\n",
              "      cursor: pointer;\n",
              "      display: none;\n",
              "      fill: #1967D2;\n",
              "      height: 32px;\n",
              "      padding: 0 0 0 0;\n",
              "      width: 32px;\n",
              "    }\n",
              "\n",
              "    .colab-df-convert:hover {\n",
              "      background-color: #E2EBFA;\n",
              "      box-shadow: 0px 1px 2px rgba(60, 64, 67, 0.3), 0px 1px 3px 1px rgba(60, 64, 67, 0.15);\n",
              "      fill: #174EA6;\n",
              "    }\n",
              "\n",
              "    [theme=dark] .colab-df-convert {\n",
              "      background-color: #3B4455;\n",
              "      fill: #D2E3FC;\n",
              "    }\n",
              "\n",
              "    [theme=dark] .colab-df-convert:hover {\n",
              "      background-color: #434B5C;\n",
              "      box-shadow: 0px 1px 3px 1px rgba(0, 0, 0, 0.15);\n",
              "      filter: drop-shadow(0px 1px 2px rgba(0, 0, 0, 0.3));\n",
              "      fill: #FFFFFF;\n",
              "    }\n",
              "  </style>\n",
              "\n",
              "      <script>\n",
              "        const buttonEl =\n",
              "          document.querySelector('#df-bdacd6c0-2f75-4a06-9fd6-47b04c5a8d3d button.colab-df-convert');\n",
              "        buttonEl.style.display =\n",
              "          google.colab.kernel.accessAllowed ? 'block' : 'none';\n",
              "\n",
              "        async function convertToInteractive(key) {\n",
              "          const element = document.querySelector('#df-bdacd6c0-2f75-4a06-9fd6-47b04c5a8d3d');\n",
              "          const dataTable =\n",
              "            await google.colab.kernel.invokeFunction('convertToInteractive',\n",
              "                                                     [key], {});\n",
              "          if (!dataTable) return;\n",
              "\n",
              "          const docLinkHtml = 'Like what you see? Visit the ' +\n",
              "            '<a target=\"_blank\" href=https://colab.research.google.com/notebooks/data_table.ipynb>data table notebook</a>'\n",
              "            + ' to learn more about interactive tables.';\n",
              "          element.innerHTML = '';\n",
              "          dataTable['output_type'] = 'display_data';\n",
              "          await google.colab.output.renderOutput(dataTable, element);\n",
              "          const docLink = document.createElement('div');\n",
              "          docLink.innerHTML = docLinkHtml;\n",
              "          element.appendChild(docLink);\n",
              "        }\n",
              "      </script>\n",
              "    </div>\n",
              "  </div>\n"
            ]
          },
          "metadata": {}
        }
      ]
    },
    {
      "cell_type": "markdown",
      "source": [
        "Смотрю сколько клиентов расторгли договор"
      ],
      "metadata": {
        "id": "-osbj5hOhcvM"
      }
    },
    {
      "cell_type": "code",
      "execution_count": 12,
      "metadata": {
        "deletable": false,
        "colab": {
          "base_uri": "https://localhost:8080/"
        },
        "id": "D2ZdSgz_M7qH",
        "outputId": "306ca051-d17c-4758-c9e8-592b3013e99f"
      },
      "outputs": [
        {
          "output_type": "execute_result",
          "data": {
            "text/plain": [
              "7.6"
            ]
          },
          "metadata": {},
          "execution_count": 12
        }
      ],
      "source": [
        "users['churn_date'].count() / users['churn_date'].shape[0] * 100"
      ]
    },
    {
      "cell_type": "markdown",
      "metadata": {
        "deletable": false,
        "editable": false,
        "id": "b78_2hIEM7qI"
      },
      "source": [
        "Расторгли договор 7.6% клиентов из датасета."
      ]
    },
    {
      "cell_type": "markdown",
      "metadata": {
        "deletable": false,
        "editable": false,
        "id": "_7PkmjXVM7qK"
      },
      "source": [
        "Смотрю пропуски в таблице `user_behavior` после объединения"
      ]
    },
    {
      "cell_type": "code",
      "execution_count": 13,
      "metadata": {
        "deletable": false,
        "colab": {
          "base_uri": "https://localhost:8080/"
        },
        "id": "UYQ8UaM2M7qK",
        "outputId": "4c1f0010-142a-4405-8375-2f0adfeb5a3d"
      },
      "outputs": [
        {
          "output_type": "execute_result",
          "data": {
            "text/plain": [
              "user_id          0\n",
              "month            0\n",
              "calls           40\n",
              "messages       497\n",
              "mb_used         11\n",
              "minutes         40\n",
              "age              0\n",
              "churn_date    3027\n",
              "city             0\n",
              "first_name       0\n",
              "last_name        0\n",
              "reg_date         0\n",
              "tariff           0\n",
              "dtype: int64"
            ]
          },
          "metadata": {},
          "execution_count": 13
        }
      ],
      "source": [
        "user_behavior.isna().sum()"
      ]
    },
    {
      "cell_type": "markdown",
      "metadata": {
        "deletable": false,
        "editable": false,
        "id": "XEEwAxyyM7qL"
      },
      "source": [
        "Заполняю их"
      ]
    },
    {
      "cell_type": "code",
      "execution_count": 14,
      "metadata": {
        "deletable": false,
        "id": "wqNTveLPM7qM"
      },
      "outputs": [],
      "source": [
        "user_behavior['calls'] = user_behavior['calls'].fillna(0)\n",
        "user_behavior['minutes'] = user_behavior['minutes'].fillna(0)\n",
        "user_behavior['messages'] = user_behavior['messages'].fillna(0)\n",
        "user_behavior['mb_used'] = user_behavior['mb_used'].fillna(0)"
      ]
    },
    {
      "cell_type": "markdown",
      "metadata": {
        "deletable": false,
        "editable": false,
        "id": "4awPG9rwM7qN"
      },
      "source": [
        "Добавляю информацию о тарифах"
      ]
    },
    {
      "cell_type": "code",
      "execution_count": 15,
      "metadata": {
        "deletable": false,
        "id": "VJ90vShhM7qN"
      },
      "outputs": [],
      "source": [
        "tariffs = tariffs.rename(columns={'tariff_name': 'tariff'})\n",
        "user_behavior = user_behavior.merge(tariffs, on='tariff')"
      ]
    },
    {
      "cell_type": "markdown",
      "metadata": {
        "deletable": false,
        "editable": false,
        "id": "Dol1_AFrM7qP"
      },
      "source": [
        "Считаю количество минут разговора, сообщений и мегабайт, превышающих включенные в тариф\n"
      ]
    },
    {
      "cell_type": "code",
      "execution_count": 16,
      "metadata": {
        "deletable": false,
        "id": "5M2_RpTzM7qP"
      },
      "outputs": [],
      "source": [
        "user_behavior['paid_minutes'] = user_behavior['minutes'] - user_behavior['minutes_included']\n",
        "user_behavior['paid_messages'] = user_behavior['messages'] - user_behavior['messages_included']\n",
        "user_behavior['paid_mb'] = user_behavior['mb_used'] - user_behavior['mb_per_month_included']\n",
        "\n",
        "for col in ['paid_messages', 'paid_minutes', 'paid_mb']:\n",
        "    user_behavior.loc[user_behavior[col] < 0, col] = 0\n"
      ]
    },
    {
      "cell_type": "markdown",
      "metadata": {
        "deletable": false,
        "editable": false,
        "id": "XeEV27gdM7qQ"
      },
      "source": [
        "Перевожу превышающие тариф мегабайты в гигабайты и сохраняем в столбец `paid_gb`"
      ]
    },
    {
      "cell_type": "code",
      "execution_count": 17,
      "metadata": {
        "deletable": false,
        "id": "nPaR63K9M7qR"
      },
      "outputs": [],
      "source": [
        "user_behavior['paid_gb'] = np.ceil(user_behavior['paid_mb'] / 1024).astype(int)"
      ]
    },
    {
      "cell_type": "markdown",
      "metadata": {
        "deletable": false,
        "editable": false,
        "id": "iL9ksaEMM7qS"
      },
      "source": [
        "Выручка за минуты разговора, сообщения и интернет"
      ]
    },
    {
      "cell_type": "code",
      "execution_count": 18,
      "metadata": {
        "deletable": false,
        "id": "Pu-tSg5ZM7qS"
      },
      "outputs": [],
      "source": [
        "user_behavior['cost_minutes'] = user_behavior['paid_minutes'] * user_behavior['rub_per_minute']\n",
        "user_behavior['cost_messages'] = user_behavior['paid_messages'] * user_behavior['rub_per_message']\n",
        "user_behavior['cost_gb'] = user_behavior['paid_gb'] * user_behavior['rub_per_gb']\n"
      ]
    },
    {
      "cell_type": "markdown",
      "metadata": {
        "deletable": false,
        "editable": false,
        "id": "O6vzHnBhM7qT"
      },
      "source": [
        "Помесячная выручка с каждого пользователя, `total_cost`"
      ]
    },
    {
      "cell_type": "code",
      "execution_count": 19,
      "metadata": {
        "deletable": false,
        "id": "c2jhAuQRM7qT"
      },
      "outputs": [],
      "source": [
        "user_behavior['total_cost'] = \\\n",
        "      user_behavior['rub_monthly_fee']\\\n",
        "    + user_behavior['cost_minutes']\\\n",
        "    + user_behavior['cost_messages']\\\n",
        "    + user_behavior['cost_gb']"
      ]
    },
    {
      "cell_type": "markdown",
      "metadata": {
        "deletable": false,
        "editable": false,
        "id": "mmHdS7EfM7qU"
      },
      "source": [
        "Собираю датасет `stats_df`: для каждой пары \"месяц-тариф\" будет хранить основные характеристики"
      ]
    },
    {
      "cell_type": "code",
      "execution_count": 20,
      "metadata": {
        "deletable": false,
        "colab": {
          "base_uri": "https://localhost:8080/",
          "height": 363
        },
        "id": "BjvYlYDZM7qU",
        "outputId": "0e8d028f-7200-4684-aef3-ac073418dea9"
      },
      "outputs": [
        {
          "output_type": "display_data",
          "data": {
            "text/plain": [
              "   month tariff  calls_mean  sessions_mean  messages_mean  minutes_mean  \\\n",
              "0      1  smart       27.68        8513.72          18.24        203.85   \n",
              "1      1  ultra       59.44       13140.68          33.78        428.11   \n",
              "2      2  smart       40.19       11597.05          24.09        298.69   \n",
              "3      2  ultra       41.54       11775.94          21.96        297.12   \n",
              "4      3  smart       54.32       15104.16          31.86        390.05   \n",
              "5      3  ultra       67.68       17535.55          32.30        489.65   \n",
              "6      4  smart       51.31       13462.18          30.74        367.13   \n",
              "7      4  ultra       64.09       16828.13          31.56        458.02   \n",
              "8      5  smart       55.24       15805.18          33.77        387.36   \n",
              "9      5  ultra       72.51       19363.15          37.85        510.33   \n",
              "\n",
              "   calls_std  sessions_std  messages_std  minutes_std  calls_median  \\\n",
              "0      20.81       6444.68         16.20       154.23          20.5   \n",
              "1      41.64       6865.35         30.67       269.76          51.0   \n",
              "2      25.39       6247.35         21.75       190.82          38.5   \n",
              "3      40.97      10644.64         26.77       296.51          25.0   \n",
              "4      25.54       5828.24         26.80       191.89          59.0   \n",
              "5      44.84      10951.79         41.62       333.74          57.0   \n",
              "6      25.70       5698.25         24.54       186.49          52.0   \n",
              "7      36.27       9718.65         37.51       267.68          61.0   \n",
              "8      25.38       5978.23         27.04       186.60          59.0   \n",
              "9      41.08      10046.11         40.31       289.60          75.0   \n",
              "\n",
              "   sessions_median  messages_median  minutes_median  \n",
              "0          7096.18             15.0           162.5  \n",
              "1         14791.37             32.0           382.0  \n",
              "2         12553.71             20.0           258.0  \n",
              "3          7327.12              5.5           168.0  \n",
              "4         15670.25             23.0           409.0  \n",
              "5         17495.18             20.0           403.0  \n",
              "6         14087.65             28.0           368.5  \n",
              "7         16645.78             17.0           453.0  \n",
              "8         16323.94             30.0           433.0  \n",
              "9         18696.43             25.0           519.0  "
            ],
            "text/html": [
              "\n",
              "\n",
              "  <div id=\"df-11d9b511-a88a-4d00-b6a2-6c55f1d086b1\">\n",
              "    <div class=\"colab-df-container\">\n",
              "      <div>\n",
              "<style scoped>\n",
              "    .dataframe tbody tr th:only-of-type {\n",
              "        vertical-align: middle;\n",
              "    }\n",
              "\n",
              "    .dataframe tbody tr th {\n",
              "        vertical-align: top;\n",
              "    }\n",
              "\n",
              "    .dataframe thead th {\n",
              "        text-align: right;\n",
              "    }\n",
              "</style>\n",
              "<table border=\"1\" class=\"dataframe\">\n",
              "  <thead>\n",
              "    <tr style=\"text-align: right;\">\n",
              "      <th></th>\n",
              "      <th>month</th>\n",
              "      <th>tariff</th>\n",
              "      <th>calls_mean</th>\n",
              "      <th>sessions_mean</th>\n",
              "      <th>messages_mean</th>\n",
              "      <th>minutes_mean</th>\n",
              "      <th>calls_std</th>\n",
              "      <th>sessions_std</th>\n",
              "      <th>messages_std</th>\n",
              "      <th>minutes_std</th>\n",
              "      <th>calls_median</th>\n",
              "      <th>sessions_median</th>\n",
              "      <th>messages_median</th>\n",
              "      <th>minutes_median</th>\n",
              "    </tr>\n",
              "  </thead>\n",
              "  <tbody>\n",
              "    <tr>\n",
              "      <th>0</th>\n",
              "      <td>1</td>\n",
              "      <td>smart</td>\n",
              "      <td>27.68</td>\n",
              "      <td>8513.72</td>\n",
              "      <td>18.24</td>\n",
              "      <td>203.85</td>\n",
              "      <td>20.81</td>\n",
              "      <td>6444.68</td>\n",
              "      <td>16.20</td>\n",
              "      <td>154.23</td>\n",
              "      <td>20.5</td>\n",
              "      <td>7096.18</td>\n",
              "      <td>15.0</td>\n",
              "      <td>162.5</td>\n",
              "    </tr>\n",
              "    <tr>\n",
              "      <th>1</th>\n",
              "      <td>1</td>\n",
              "      <td>ultra</td>\n",
              "      <td>59.44</td>\n",
              "      <td>13140.68</td>\n",
              "      <td>33.78</td>\n",
              "      <td>428.11</td>\n",
              "      <td>41.64</td>\n",
              "      <td>6865.35</td>\n",
              "      <td>30.67</td>\n",
              "      <td>269.76</td>\n",
              "      <td>51.0</td>\n",
              "      <td>14791.37</td>\n",
              "      <td>32.0</td>\n",
              "      <td>382.0</td>\n",
              "    </tr>\n",
              "    <tr>\n",
              "      <th>2</th>\n",
              "      <td>2</td>\n",
              "      <td>smart</td>\n",
              "      <td>40.19</td>\n",
              "      <td>11597.05</td>\n",
              "      <td>24.09</td>\n",
              "      <td>298.69</td>\n",
              "      <td>25.39</td>\n",
              "      <td>6247.35</td>\n",
              "      <td>21.75</td>\n",
              "      <td>190.82</td>\n",
              "      <td>38.5</td>\n",
              "      <td>12553.71</td>\n",
              "      <td>20.0</td>\n",
              "      <td>258.0</td>\n",
              "    </tr>\n",
              "    <tr>\n",
              "      <th>3</th>\n",
              "      <td>2</td>\n",
              "      <td>ultra</td>\n",
              "      <td>41.54</td>\n",
              "      <td>11775.94</td>\n",
              "      <td>21.96</td>\n",
              "      <td>297.12</td>\n",
              "      <td>40.97</td>\n",
              "      <td>10644.64</td>\n",
              "      <td>26.77</td>\n",
              "      <td>296.51</td>\n",
              "      <td>25.0</td>\n",
              "      <td>7327.12</td>\n",
              "      <td>5.5</td>\n",
              "      <td>168.0</td>\n",
              "    </tr>\n",
              "    <tr>\n",
              "      <th>4</th>\n",
              "      <td>3</td>\n",
              "      <td>smart</td>\n",
              "      <td>54.32</td>\n",
              "      <td>15104.16</td>\n",
              "      <td>31.86</td>\n",
              "      <td>390.05</td>\n",
              "      <td>25.54</td>\n",
              "      <td>5828.24</td>\n",
              "      <td>26.80</td>\n",
              "      <td>191.89</td>\n",
              "      <td>59.0</td>\n",
              "      <td>15670.25</td>\n",
              "      <td>23.0</td>\n",
              "      <td>409.0</td>\n",
              "    </tr>\n",
              "    <tr>\n",
              "      <th>5</th>\n",
              "      <td>3</td>\n",
              "      <td>ultra</td>\n",
              "      <td>67.68</td>\n",
              "      <td>17535.55</td>\n",
              "      <td>32.30</td>\n",
              "      <td>489.65</td>\n",
              "      <td>44.84</td>\n",
              "      <td>10951.79</td>\n",
              "      <td>41.62</td>\n",
              "      <td>333.74</td>\n",
              "      <td>57.0</td>\n",
              "      <td>17495.18</td>\n",
              "      <td>20.0</td>\n",
              "      <td>403.0</td>\n",
              "    </tr>\n",
              "    <tr>\n",
              "      <th>6</th>\n",
              "      <td>4</td>\n",
              "      <td>smart</td>\n",
              "      <td>51.31</td>\n",
              "      <td>13462.18</td>\n",
              "      <td>30.74</td>\n",
              "      <td>367.13</td>\n",
              "      <td>25.70</td>\n",
              "      <td>5698.25</td>\n",
              "      <td>24.54</td>\n",
              "      <td>186.49</td>\n",
              "      <td>52.0</td>\n",
              "      <td>14087.65</td>\n",
              "      <td>28.0</td>\n",
              "      <td>368.5</td>\n",
              "    </tr>\n",
              "    <tr>\n",
              "      <th>7</th>\n",
              "      <td>4</td>\n",
              "      <td>ultra</td>\n",
              "      <td>64.09</td>\n",
              "      <td>16828.13</td>\n",
              "      <td>31.56</td>\n",
              "      <td>458.02</td>\n",
              "      <td>36.27</td>\n",
              "      <td>9718.65</td>\n",
              "      <td>37.51</td>\n",
              "      <td>267.68</td>\n",
              "      <td>61.0</td>\n",
              "      <td>16645.78</td>\n",
              "      <td>17.0</td>\n",
              "      <td>453.0</td>\n",
              "    </tr>\n",
              "    <tr>\n",
              "      <th>8</th>\n",
              "      <td>5</td>\n",
              "      <td>smart</td>\n",
              "      <td>55.24</td>\n",
              "      <td>15805.18</td>\n",
              "      <td>33.77</td>\n",
              "      <td>387.36</td>\n",
              "      <td>25.38</td>\n",
              "      <td>5978.23</td>\n",
              "      <td>27.04</td>\n",
              "      <td>186.60</td>\n",
              "      <td>59.0</td>\n",
              "      <td>16323.94</td>\n",
              "      <td>30.0</td>\n",
              "      <td>433.0</td>\n",
              "    </tr>\n",
              "    <tr>\n",
              "      <th>9</th>\n",
              "      <td>5</td>\n",
              "      <td>ultra</td>\n",
              "      <td>72.51</td>\n",
              "      <td>19363.15</td>\n",
              "      <td>37.85</td>\n",
              "      <td>510.33</td>\n",
              "      <td>41.08</td>\n",
              "      <td>10046.11</td>\n",
              "      <td>40.31</td>\n",
              "      <td>289.60</td>\n",
              "      <td>75.0</td>\n",
              "      <td>18696.43</td>\n",
              "      <td>25.0</td>\n",
              "      <td>519.0</td>\n",
              "    </tr>\n",
              "  </tbody>\n",
              "</table>\n",
              "</div>\n",
              "      <button class=\"colab-df-convert\" onclick=\"convertToInteractive('df-11d9b511-a88a-4d00-b6a2-6c55f1d086b1')\"\n",
              "              title=\"Convert this dataframe to an interactive table.\"\n",
              "              style=\"display:none;\">\n",
              "\n",
              "  <svg xmlns=\"http://www.w3.org/2000/svg\" height=\"24px\"viewBox=\"0 0 24 24\"\n",
              "       width=\"24px\">\n",
              "    <path d=\"M0 0h24v24H0V0z\" fill=\"none\"/>\n",
              "    <path d=\"M18.56 5.44l.94 2.06.94-2.06 2.06-.94-2.06-.94-.94-2.06-.94 2.06-2.06.94zm-11 1L8.5 8.5l.94-2.06 2.06-.94-2.06-.94L8.5 2.5l-.94 2.06-2.06.94zm10 10l.94 2.06.94-2.06 2.06-.94-2.06-.94-.94-2.06-.94 2.06-2.06.94z\"/><path d=\"M17.41 7.96l-1.37-1.37c-.4-.4-.92-.59-1.43-.59-.52 0-1.04.2-1.43.59L10.3 9.45l-7.72 7.72c-.78.78-.78 2.05 0 2.83L4 21.41c.39.39.9.59 1.41.59.51 0 1.02-.2 1.41-.59l7.78-7.78 2.81-2.81c.8-.78.8-2.07 0-2.86zM5.41 20L4 18.59l7.72-7.72 1.47 1.35L5.41 20z\"/>\n",
              "  </svg>\n",
              "      </button>\n",
              "\n",
              "\n",
              "\n",
              "    <div id=\"df-38542e64-0cd4-4040-b4f2-7a305a6e0116\">\n",
              "      <button class=\"colab-df-quickchart\" onclick=\"quickchart('df-38542e64-0cd4-4040-b4f2-7a305a6e0116')\"\n",
              "              title=\"Suggest charts.\"\n",
              "              style=\"display:none;\">\n",
              "\n",
              "<svg xmlns=\"http://www.w3.org/2000/svg\" height=\"24px\"viewBox=\"0 0 24 24\"\n",
              "     width=\"24px\">\n",
              "    <g>\n",
              "        <path d=\"M19 3H5c-1.1 0-2 .9-2 2v14c0 1.1.9 2 2 2h14c1.1 0 2-.9 2-2V5c0-1.1-.9-2-2-2zM9 17H7v-7h2v7zm4 0h-2V7h2v10zm4 0h-2v-4h2v4z\"/>\n",
              "    </g>\n",
              "</svg>\n",
              "      </button>\n",
              "    </div>\n",
              "\n",
              "<style>\n",
              "  .colab-df-quickchart {\n",
              "    background-color: #E8F0FE;\n",
              "    border: none;\n",
              "    border-radius: 50%;\n",
              "    cursor: pointer;\n",
              "    display: none;\n",
              "    fill: #1967D2;\n",
              "    height: 32px;\n",
              "    padding: 0 0 0 0;\n",
              "    width: 32px;\n",
              "  }\n",
              "\n",
              "  .colab-df-quickchart:hover {\n",
              "    background-color: #E2EBFA;\n",
              "    box-shadow: 0px 1px 2px rgba(60, 64, 67, 0.3), 0px 1px 3px 1px rgba(60, 64, 67, 0.15);\n",
              "    fill: #174EA6;\n",
              "  }\n",
              "\n",
              "  [theme=dark] .colab-df-quickchart {\n",
              "    background-color: #3B4455;\n",
              "    fill: #D2E3FC;\n",
              "  }\n",
              "\n",
              "  [theme=dark] .colab-df-quickchart:hover {\n",
              "    background-color: #434B5C;\n",
              "    box-shadow: 0px 1px 3px 1px rgba(0, 0, 0, 0.15);\n",
              "    filter: drop-shadow(0px 1px 2px rgba(0, 0, 0, 0.3));\n",
              "    fill: #FFFFFF;\n",
              "  }\n",
              "</style>\n",
              "\n",
              "    <script>\n",
              "      async function quickchart(key) {\n",
              "        const containerElement = document.querySelector('#' + key);\n",
              "        const charts = await google.colab.kernel.invokeFunction(\n",
              "            'suggestCharts', [key], {});\n",
              "      }\n",
              "    </script>\n",
              "\n",
              "      <script>\n",
              "\n",
              "function displayQuickchartButton(domScope) {\n",
              "  let quickchartButtonEl =\n",
              "    domScope.querySelector('#df-38542e64-0cd4-4040-b4f2-7a305a6e0116 button.colab-df-quickchart');\n",
              "  quickchartButtonEl.style.display =\n",
              "    google.colab.kernel.accessAllowed ? 'block' : 'none';\n",
              "}\n",
              "\n",
              "        displayQuickchartButton(document);\n",
              "      </script>\n",
              "      <style>\n",
              "    .colab-df-container {\n",
              "      display:flex;\n",
              "      flex-wrap:wrap;\n",
              "      gap: 12px;\n",
              "    }\n",
              "\n",
              "    .colab-df-convert {\n",
              "      background-color: #E8F0FE;\n",
              "      border: none;\n",
              "      border-radius: 50%;\n",
              "      cursor: pointer;\n",
              "      display: none;\n",
              "      fill: #1967D2;\n",
              "      height: 32px;\n",
              "      padding: 0 0 0 0;\n",
              "      width: 32px;\n",
              "    }\n",
              "\n",
              "    .colab-df-convert:hover {\n",
              "      background-color: #E2EBFA;\n",
              "      box-shadow: 0px 1px 2px rgba(60, 64, 67, 0.3), 0px 1px 3px 1px rgba(60, 64, 67, 0.15);\n",
              "      fill: #174EA6;\n",
              "    }\n",
              "\n",
              "    [theme=dark] .colab-df-convert {\n",
              "      background-color: #3B4455;\n",
              "      fill: #D2E3FC;\n",
              "    }\n",
              "\n",
              "    [theme=dark] .colab-df-convert:hover {\n",
              "      background-color: #434B5C;\n",
              "      box-shadow: 0px 1px 3px 1px rgba(0, 0, 0, 0.15);\n",
              "      filter: drop-shadow(0px 1px 2px rgba(0, 0, 0, 0.3));\n",
              "      fill: #FFFFFF;\n",
              "    }\n",
              "  </style>\n",
              "\n",
              "      <script>\n",
              "        const buttonEl =\n",
              "          document.querySelector('#df-11d9b511-a88a-4d00-b6a2-6c55f1d086b1 button.colab-df-convert');\n",
              "        buttonEl.style.display =\n",
              "          google.colab.kernel.accessAllowed ? 'block' : 'none';\n",
              "\n",
              "        async function convertToInteractive(key) {\n",
              "          const element = document.querySelector('#df-11d9b511-a88a-4d00-b6a2-6c55f1d086b1');\n",
              "          const dataTable =\n",
              "            await google.colab.kernel.invokeFunction('convertToInteractive',\n",
              "                                                     [key], {});\n",
              "          if (!dataTable) return;\n",
              "\n",
              "          const docLinkHtml = 'Like what you see? Visit the ' +\n",
              "            '<a target=\"_blank\" href=https://colab.research.google.com/notebooks/data_table.ipynb>data table notebook</a>'\n",
              "            + ' to learn more about interactive tables.';\n",
              "          element.innerHTML = '';\n",
              "          dataTable['output_type'] = 'display_data';\n",
              "          await google.colab.output.renderOutput(dataTable, element);\n",
              "          const docLink = document.createElement('div');\n",
              "          docLink.innerHTML = docLinkHtml;\n",
              "          element.appendChild(docLink);\n",
              "        }\n",
              "      </script>\n",
              "    </div>\n",
              "  </div>\n"
            ]
          },
          "metadata": {}
        }
      ],
      "source": [
        "stats_df = user_behavior.pivot_table(\n",
        "            index=['month', 'tariff'],\\\n",
        "            values=['calls', 'minutes', 'messages', 'mb_used'],\\\n",
        "            aggfunc=['mean', 'std', 'median']).round(2).reset_index()\n",
        "\n",
        "stats_df.columns=['month', 'tariff', 'calls_mean', 'sessions_mean', 'messages_mean', 'minutes_mean',\n",
        "                                     'calls_std',  'sessions_std', 'messages_std', 'minutes_std',\n",
        "                                     'calls_median', 'sessions_median', 'messages_median',  'minutes_median']\n",
        "\n",
        "display(stats_df.head(10))"
      ]
    },
    {
      "cell_type": "markdown",
      "metadata": {
        "deletable": false,
        "editable": false,
        "id": "DSawbi6hM7qV"
      },
      "source": [
        "Смотрю распределение среднего количества звонков по видам тарифов и месяцам"
      ]
    },
    {
      "cell_type": "code",
      "execution_count": 21,
      "metadata": {
        "deletable": false,
        "colab": {
          "base_uri": "https://localhost:8080/",
          "height": 472
        },
        "id": "8tC4tKnSM7qW",
        "outputId": "87c03228-2a60-462c-dd20-97acf0135d70"
      },
      "outputs": [
        {
          "output_type": "display_data",
          "data": {
            "text/plain": [
              "<Figure size 640x480 with 1 Axes>"
            ],
            "image/png": "[encoded data removed]"
          },
          "metadata": {}
        }
      ],
      "source": [
        "ax = sns.barplot(x='month',\n",
        "            y='calls_mean',\n",
        "            hue=\"tariff\",\n",
        "            data=stats_df,\n",
        "            palette=['lightblue', 'blue'])\n",
        "\n",
        "ax.set_title('Распределение количества звонков по видам тарифов и месяцам')\n",
        "ax.set(xlabel='Месяц', ylabel='Среднее количество звонков');"
      ]
    },
    {
      "cell_type": "code",
      "execution_count": 22,
      "metadata": {
        "deletable": false,
        "colab": {
          "base_uri": "https://localhost:8080/",
          "height": 472
        },
        "id": "ymI2JeVrM7qX",
        "outputId": "58879837-fc45-4162-85ce-57a3abf05974"
      },
      "outputs": [
        {
          "output_type": "display_data",
          "data": {
            "text/plain": [
              "<Figure size 640x480 with 1 Axes>"
            ],
            "image/png": "[encoded data removed]"
          },
          "metadata": {}
        }
      ],
      "source": [
        "user_behavior.groupby('tariff')['calls'].plot(kind='hist', bins=35, alpha=0.5)\n",
        "plt.title('Распределение количества звонков по тарифам')\n",
        "plt.legend(['Smart', 'Ultra'])\n",
        "plt.xlabel('Количество звонков')\n",
        "plt.ylabel('Клиенты')\n",
        "plt.show()"
      ]
    },
    {
      "cell_type": "markdown",
      "metadata": {
        "deletable": false,
        "editable": false,
        "id": "FworUQ2uM7qX"
      },
      "source": [
        "Распределение средней продолжительности звонков по видам тарифов и месяцам"
      ]
    },
    {
      "cell_type": "code",
      "execution_count": 23,
      "metadata": {
        "deletable": false,
        "colab": {
          "base_uri": "https://localhost:8080/",
          "height": 472
        },
        "id": "_SNOj4rAM7qY",
        "outputId": "fa93731e-004d-498e-e63a-3feac29453fe"
      },
      "outputs": [
        {
          "output_type": "display_data",
          "data": {
            "text/plain": [
              "<Figure size 640x480 with 1 Axes>"
            ],
            "image/png": "[encoded data removed]"
          },
          "metadata": {}
        }
      ],
      "source": [
        "ax = sns.barplot(x='month',\n",
        "            y='minutes_mean',\n",
        "            hue=\"tariff\",\n",
        "            data=stats_df,\n",
        "            palette=['lightblue', 'blue'])\n",
        "\n",
        "ax.set_title('Распределение продолжительности звонков по видам тарифов и месяцам')\n",
        "ax.set(xlabel='Месяц', ylabel='Средняя продолжительность звонков');"
      ]
    },
    {
      "cell_type": "code",
      "execution_count": 24,
      "metadata": {
        "deletable": false,
        "colab": {
          "base_uri": "https://localhost:8080/",
          "height": 472
        },
        "id": "p3MuHrHFM7qZ",
        "outputId": "50daef99-f058-42c6-8846-7e88550ad1e6"
      },
      "outputs": [
        {
          "output_type": "display_data",
          "data": {
            "text/plain": [
              "<Figure size 640x480 with 1 Axes>"
            ],
            "image/png": "[encoded data removed]"
          },
          "metadata": {}
        }
      ],
      "source": [
        "user_behavior[user_behavior['tariff'] =='smart']['minutes'].hist(bins=35, alpha=0.5, color='green')\n",
        "user_behavior[user_behavior['tariff'] =='ultra']['minutes'].hist(bins=35, alpha=0.5, color='blue')\n",
        "plt.title('Распределение продолжительности звонков по тарифам')\n",
        "plt.legend(['Smart', 'Ultra'])\n",
        "plt.ylabel('Клиенты')\n",
        "plt.xlabel('Продолжительность, сек')\n",
        "plt.show()"
      ]
    },
    {
      "cell_type": "markdown",
      "metadata": {
        "deletable": false,
        "editable": false,
        "id": "GIws2fTdM7qa"
      },
      "source": [
        "Средняя длительность разговоров у абонентов тарифа Ultra больше, чем у абонентов тарифа Smart. В течение года пользователи обоих тарифов увеличивают среднюю продолжительность своих разговоров. Рост средней длительности разговоров у абонентов тарифа Smart равномерный в течение года. Пользователи тарифа Ultra не проявляют подобной линейной стабильности. Стоит отметить, что феврале у абонентов обоих тарифных планов наблюдались самые низкие показатели."
      ]
    },
    {
      "cell_type": "markdown",
      "metadata": {
        "deletable": false,
        "editable": false,
        "id": "Hb0I7I7_M7qb"
      },
      "source": [
        "Распределение среднего количества сообщений по видам тарифов и месяцам"
      ]
    },
    {
      "cell_type": "code",
      "execution_count": 25,
      "metadata": {
        "deletable": false,
        "colab": {
          "base_uri": "https://localhost:8080/",
          "height": 472
        },
        "id": "O21XBmGVM7qb",
        "outputId": "c586a13e-0a5d-4870-fd4f-be9b3589bbad"
      },
      "outputs": [
        {
          "output_type": "display_data",
          "data": {
            "text/plain": [
              "<Figure size 640x480 with 1 Axes>"
            ],
            "image/png": "[encoded data removed]"
          },
          "metadata": {}
        }
      ],
      "source": [
        "ax = sns.barplot(x='month',\n",
        "            y='messages_mean',\n",
        "            hue=\"tariff\",\n",
        "            data=stats_df,\n",
        "            palette=['lightblue', 'blue']\n",
        ")\n",
        "\n",
        "ax.set_title('Распределение количества сообщений по видам тарифов и месяцам')\n",
        "ax.set(xlabel='Месяц', ylabel='Среднее количество сообщений');"
      ]
    },
    {
      "cell_type": "code",
      "execution_count": 26,
      "metadata": {
        "deletable": false,
        "colab": {
          "base_uri": "https://localhost:8080/",
          "height": 472
        },
        "id": "4EYxRUJoM7qc",
        "outputId": "4322ac12-53bc-4c9e-a8fd-e88c093c5fb7"
      },
      "outputs": [
        {
          "output_type": "display_data",
          "data": {
            "text/plain": [
              "<Figure size 640x480 with 1 Axes>"
            ],
            "image/png": "[encoded data removed]"
          },
          "metadata": {}
        }
      ],
      "source": [
        "user_behavior[user_behavior['tariff'] =='smart']['messages'].hist(bins=35, alpha=0.5, color='green')\n",
        "user_behavior[user_behavior['tariff'] =='ultra']['messages'].hist(bins=35, alpha=0.5, color='blue')\n",
        "plt.title('Распределение количества сообщений по тарифам')\n",
        "plt.legend(['Smart', 'Ultra'])\n",
        "plt.ylabel('Клиенты')\n",
        "plt.xlabel('Количество сообщений')\n",
        "plt.show()"
      ]
    },
    {
      "cell_type": "markdown",
      "metadata": {
        "id": "YEER1FIBM7qd"
      },
      "source": [
        "В среднем количество сообщений пользователи тарифа Ultra отправляют больше - почти на 20 сообщений больше, чем пользователи тарифа Smart. Количество сообщений в течение года на обоих тарифак растет. Динамика по отправке сообщений схожа с тенденциями по длительности разговоров: в феврале отмечено наименьшее количество сообщений за год и пользователи тарифа Ultra также проявляют нелинейную положительную динамику."
      ]
    },
    {
      "cell_type": "code",
      "execution_count": 27,
      "metadata": {
        "deletable": false,
        "colab": {
          "base_uri": "https://localhost:8080/",
          "height": 472
        },
        "id": "-wlDVEsFM7qe",
        "outputId": "236abc51-24ae-422b-aa4f-88877b2207a1"
      },
      "outputs": [
        {
          "output_type": "display_data",
          "data": {
            "text/plain": [
              "<Figure size 640x480 with 1 Axes>"
            ],
            "image/png": "[encoded data removed]"
          },
          "metadata": {}
        }
      ],
      "source": [
        "ax = sns.barplot(x='month',\n",
        "            y='sessions_mean',\n",
        "            hue=\"tariff\",\n",
        "            data=stats_df,\n",
        "            palette=['lightblue', 'blue']\n",
        ")\n",
        "\n",
        "ax.set_title('Распределение количества потраченного трафика (Мб) по видам тарифов и месяцам')\n",
        "ax.set(xlabel='Месяц', ylabel='Среднее количество мегабайт');"
      ]
    },
    {
      "cell_type": "markdown",
      "metadata": {
        "deletable": false,
        "editable": false,
        "id": "IDtcAJIzM7qf"
      },
      "source": [
        "Сравнение потраченных мегабайт среди пользователей тарифов Smart и Ultra"
      ]
    },
    {
      "cell_type": "code",
      "execution_count": 28,
      "metadata": {
        "deletable": false,
        "colab": {
          "base_uri": "https://localhost:8080/",
          "height": 472
        },
        "id": "vq2Oy8SWM7qf",
        "outputId": "40b4bcc6-9fcd-4a12-ed29-6d5c69df4e1c"
      },
      "outputs": [
        {
          "output_type": "display_data",
          "data": {
            "text/plain": [
              "<Figure size 640x480 with 1 Axes>"
            ],
            "image/png": "[encoded data removed]"
          },
          "metadata": {}
        }
      ],
      "source": [
        "user_behavior[user_behavior['tariff'] =='smart']['mb_used'].hist(bins=35, alpha=0.5, color='green')\n",
        "user_behavior[user_behavior['tariff'] =='ultra']['mb_used'].hist(bins=35, alpha=0.5, color='blue')\n",
        "plt.title('Распределение количества потраченного трафика (Мб) по тарифам')\n",
        "plt.legend(['Smart', 'Ultra'])\n",
        "plt.xlabel('Клиенты')\n",
        "plt.ylabel('Количество Мб')\n",
        "plt.show()"
      ]
    },
    {
      "cell_type": "markdown",
      "metadata": {
        "deletable": false,
        "editable": false,
        "id": "lbCnhZ8NM7qg"
      },
      "source": [
        "Меньше всего пользователи использовали интернет в январе, феврале и апреле. Чаще всего абоненты тарифа Smart тратят 15-17 Гб, а абоненты тарифного плана Ultra - 19-21 ГБ."
      ]
    },
    {
      "cell_type": "markdown",
      "metadata": {
        "deletable": false,
        "editable": false,
        "id": "5Oh6Ge71M7qg"
      },
      "source": [
        "### Проверка гипотез"
      ]
    },
    {
      "cell_type": "markdown",
      "metadata": {
        "deletable": false,
        "editable": false,
        "tags": [
          "start_task"
        ],
        "id": "kOiyE-o5M7qh"
      },
      "source": [
        "Проверка гипотезы 1: средняя выручка пользователей тарифов «Ультра» и «Смарт» различаются.\n",
        "\n",
        "```\n",
        "H_0: Выручка (total_cost) пользователей \"Ультра\" = выручка (total_cost) пользователей \"Смарт\"`\n",
        "H_a: Выручка (total_cost) пользователей \"Ультра\" ≠ выручка (total_cost) пользователей \"Смарт\"`\n",
        "alpha = 0.05\n",
        "```"
      ]
    },
    {
      "cell_type": "code",
      "execution_count": 29,
      "metadata": {
        "deletable": false,
        "colab": {
          "base_uri": "https://localhost:8080/"
        },
        "id": "5BE0zs5nM7qi",
        "outputId": "7af3aec1-321b-4068-b42b-ffd29826bbbe"
      },
      "outputs": [
        {
          "output_type": "stream",
          "name": "stdout",
          "text": [
            "8.710242665390384e-229\n",
            "Отвергаем нулевую гипотезу\n"
          ]
        }
      ],
      "source": [
        "ultra = user_behavior['tariff']=='ultra'\n",
        "smart = user_behavior['tariff']=='smart'\n",
        "results = st.ttest_ind(ultra, smart, equal_var = False)\n",
        "\n",
        "alpha = .05\n",
        "\n",
        "print(results.pvalue)\n",
        "if results.pvalue<alpha:\n",
        "    print('Отвергаем нулевую гипотезу')\n",
        "else:\n",
        "    print('Не получилось отвергнуть нулевую гипотезу')\n"
      ]
    },
    {
      "cell_type": "markdown",
      "metadata": {
        "deletable": false,
        "editable": false,
        "tags": [
          "start_task"
        ],
        "id": "_VnCZ3FQM7qj"
      },
      "source": [
        "Проверка гипотезы 2: пользователи из Москвы приносят больше выручки, чем пользователи из других городов;\n",
        "\n",
        "```\n",
        "H_0: Выручка (total_cost) пользователей из Москвы = выручка (total_cost) пользователей не из Москвы`\n",
        "H_1: Выручка (total_cost) пользователей из Москвы ≠ выручка (total_cost) пользователей не из Москвы`\n",
        "alpha = 0.05\n",
        "```"
      ]
    },
    {
      "cell_type": "code",
      "execution_count": 30,
      "metadata": {
        "deletable": false,
        "colab": {
          "base_uri": "https://localhost:8080/"
        },
        "id": "YeQkVSOnM7qj",
        "outputId": "692ffa3d-8716-4d70-bcbc-5a76c87a1e06"
      },
      "outputs": [
        {
          "output_type": "stream",
          "name": "stdout",
          "text": [
            "0.5257376663729298\n",
            "Не получилось отвергнуть нулевую гипотезу\n"
          ]
        }
      ],
      "source": [
        "moscow = user_behavior[user_behavior['city'] == 'Москва']['total_cost']\n",
        "no_moscow = user_behavior[user_behavior['city'] != 'Москва']['total_cost']\n",
        "results = st.ttest_ind(moscow, no_moscow, equal_var = False)\n",
        "\n",
        "alpha = .05\n",
        "\n",
        "print(results.pvalue)\n",
        "if results.pvalue<alpha:\n",
        "    print('Отвергаем нулевую гипотезу')\n",
        "else:\n",
        "    print('Не получилось отвергнуть нулевую гипотезу')"
      ]
    },
    {
      "cell_type": "markdown",
      "source": [
        "# Выводы"
      ],
      "metadata": {
        "id": "ZqB44rsNSI_A"
      }
    },
    {
      "cell_type": "markdown",
      "source": [
        "1. В ходе исследования были получены интересные данные по распределению:\n",
        "* Средняя длительность разговоров у абонентов тарифа Ultra больше, чем у абонентов тарифа Smart. В течение года пользователи обоих тарифов увеличивают среднюю продолжительность своих разговоров. Рост средней длительности разговоров у абонентов тарифа Smart равномерный в течение года. Пользователи тарифа Ultra не проявляют подобной линейной стабильности. Стоит отметить, что феврале у абонентов обоих тарифных планов наблюдались самые низкие показатели.\n",
        "* В среднем количество сообщений пользователи тарифа Ultra отправляют больше - почти на 20 сообщений больше, чем пользователи тарифа Smart. Количество сообщений в течение года на обоих тарифак растет. Динамика по отправке сообщений схожа с тенденциями по длительности разговоров: в феврале отмечено наименьшее количество сообщений за год и пользователи тарифа Ultra также проявляют нелинейную положительную динамику.\n",
        "* Меньше всего пользователи использовали интернет в январе, феврале и апреле. Чаще всего абоненты тарифа Smart тратят 15-17 Гб, а абоненты тарифного плана Ultra - 19-21 ГБ.\n",
        "2. Гипотеза 1 отвергнута.\n",
        "3. Гипотезу 2 отвергнуть не получилось."
      ],
      "metadata": {
        "id": "NduRPhX3SJiR"
      }
    }
  ],
  "metadata": {
    "ExecuteTimeLog": [
      {
        "duration": 47,
        "start_time": "2022-12-15T12:20:43.225Z"
      },
      {
        "duration": 6,
        "start_time": "2022-12-15T12:20:49.908Z"
      },
      {
        "duration": 7,
        "start_time": "2022-12-15T12:21:06.080Z"
      },
      {
        "duration": 7,
        "start_time": "2022-12-15T12:21:16.355Z"
      },
      {
        "duration": 7,
        "start_time": "2022-12-15T12:21:35.603Z"
      },
      {
        "duration": 443,
        "start_time": "2022-12-15T12:21:48.964Z"
      },
      {
        "duration": 512,
        "start_time": "2022-12-15T12:21:49.409Z"
      },
      {
        "duration": 14,
        "start_time": "2022-12-15T12:21:49.922Z"
      },
      {
        "duration": 4,
        "start_time": "2022-12-15T12:21:49.938Z"
      },
      {
        "duration": 5,
        "start_time": "2022-12-15T12:21:49.944Z"
      },
      {
        "duration": 5,
        "start_time": "2022-12-15T12:21:49.951Z"
      },
      {
        "duration": 7,
        "start_time": "2022-12-15T12:21:49.957Z"
      },
      {
        "duration": 11,
        "start_time": "2022-12-15T12:21:49.966Z"
      },
      {
        "duration": 9,
        "start_time": "2022-12-15T12:21:49.979Z"
      },
      {
        "duration": 6,
        "start_time": "2022-12-15T12:21:49.990Z"
      },
      {
        "duration": 8,
        "start_time": "2022-12-15T12:21:49.998Z"
      },
      {
        "duration": 9,
        "start_time": "2022-12-15T12:21:50.007Z"
      },
      {
        "duration": 6,
        "start_time": "2022-12-15T12:21:50.017Z"
      },
      {
        "duration": 62,
        "start_time": "2022-12-15T12:21:50.024Z"
      },
      {
        "duration": 0,
        "start_time": "2022-12-15T12:21:50.088Z"
      },
      {
        "duration": 0,
        "start_time": "2022-12-15T12:21:50.089Z"
      },
      {
        "duration": 0,
        "start_time": "2022-12-15T12:21:50.090Z"
      },
      {
        "duration": 0,
        "start_time": "2022-12-15T12:21:50.091Z"
      },
      {
        "duration": 0,
        "start_time": "2022-12-15T12:21:50.092Z"
      },
      {
        "duration": 0,
        "start_time": "2022-12-15T12:21:50.093Z"
      },
      {
        "duration": 0,
        "start_time": "2022-12-15T12:21:50.094Z"
      },
      {
        "duration": 0,
        "start_time": "2022-12-15T12:21:50.095Z"
      },
      {
        "duration": 0,
        "start_time": "2022-12-15T12:21:50.096Z"
      },
      {
        "duration": 0,
        "start_time": "2022-12-15T12:21:50.097Z"
      },
      {
        "duration": 0,
        "start_time": "2022-12-15T12:21:50.098Z"
      },
      {
        "duration": 0,
        "start_time": "2022-12-15T12:21:50.099Z"
      },
      {
        "duration": 0,
        "start_time": "2022-12-15T12:21:50.100Z"
      },
      {
        "duration": 0,
        "start_time": "2022-12-15T12:21:50.100Z"
      },
      {
        "duration": 0,
        "start_time": "2022-12-15T12:21:50.101Z"
      },
      {
        "duration": 0,
        "start_time": "2022-12-15T12:21:50.102Z"
      },
      {
        "duration": 0,
        "start_time": "2022-12-15T12:21:50.105Z"
      },
      {
        "duration": 0,
        "start_time": "2022-12-15T12:21:50.106Z"
      },
      {
        "duration": 0,
        "start_time": "2022-12-15T12:21:50.106Z"
      },
      {
        "duration": 0,
        "start_time": "2022-12-15T12:21:50.108Z"
      },
      {
        "duration": 0,
        "start_time": "2022-12-15T12:21:50.109Z"
      },
      {
        "duration": 158,
        "start_time": "2022-12-15T12:21:56.104Z"
      },
      {
        "duration": 9,
        "start_time": "2022-12-15T12:22:00.784Z"
      },
      {
        "duration": 21,
        "start_time": "2022-12-15T12:22:15.515Z"
      },
      {
        "duration": 5,
        "start_time": "2022-12-15T12:24:18.223Z"
      },
      {
        "duration": 8,
        "start_time": "2022-12-15T12:24:48.350Z"
      },
      {
        "duration": 7,
        "start_time": "2022-12-15T12:28:27.858Z"
      },
      {
        "duration": 524,
        "start_time": "2022-12-15T12:28:39.712Z"
      },
      {
        "duration": 149,
        "start_time": "2022-12-15T12:28:53.531Z"
      },
      {
        "duration": 162,
        "start_time": "2022-12-15T12:29:01.367Z"
      },
      {
        "duration": 182,
        "start_time": "2022-12-15T12:29:13.872Z"
      },
      {
        "duration": 22,
        "start_time": "2022-12-15T12:31:35.130Z"
      },
      {
        "duration": 449,
        "start_time": "2022-12-15T12:31:54.772Z"
      },
      {
        "duration": 7,
        "start_time": "2022-12-15T12:32:13.328Z"
      },
      {
        "duration": 20,
        "start_time": "2022-12-15T12:32:53.775Z"
      },
      {
        "duration": 226,
        "start_time": "2022-12-15T12:37:06.330Z"
      },
      {
        "duration": 150,
        "start_time": "2022-12-15T12:37:29.831Z"
      },
      {
        "duration": 149,
        "start_time": "2022-12-15T12:37:35.918Z"
      },
      {
        "duration": 133,
        "start_time": "2022-12-15T12:38:07.064Z"
      },
      {
        "duration": 133,
        "start_time": "2022-12-15T12:38:14.395Z"
      },
      {
        "duration": 153,
        "start_time": "2022-12-15T12:38:22.389Z"
      },
      {
        "duration": 153,
        "start_time": "2022-12-15T12:38:26.897Z"
      },
      {
        "duration": 175,
        "start_time": "2022-12-15T12:38:33.207Z"
      },
      {
        "duration": 160,
        "start_time": "2022-12-15T12:38:39.001Z"
      },
      {
        "duration": 139,
        "start_time": "2022-12-15T12:38:50.881Z"
      },
      {
        "duration": 160,
        "start_time": "2022-12-15T12:39:01.745Z"
      },
      {
        "duration": 209,
        "start_time": "2022-12-15T12:39:11.276Z"
      },
      {
        "duration": 139,
        "start_time": "2022-12-15T12:39:18.625Z"
      },
      {
        "duration": 134,
        "start_time": "2022-12-15T12:39:23.310Z"
      },
      {
        "duration": 146,
        "start_time": "2022-12-15T12:39:47.678Z"
      },
      {
        "duration": 151,
        "start_time": "2022-12-15T12:39:58.027Z"
      },
      {
        "duration": 165,
        "start_time": "2022-12-15T12:44:46.490Z"
      },
      {
        "duration": 7,
        "start_time": "2022-12-15T12:45:26.921Z"
      },
      {
        "duration": 18,
        "start_time": "2022-12-15T12:45:38.376Z"
      },
      {
        "duration": 68,
        "start_time": "2022-12-15T13:09:31.292Z"
      },
      {
        "duration": 6,
        "start_time": "2022-12-15T13:09:56.002Z"
      },
      {
        "duration": 12,
        "start_time": "2022-12-15T13:10:14.752Z"
      },
      {
        "duration": 89,
        "start_time": "2022-12-15T13:11:39.207Z"
      },
      {
        "duration": 8,
        "start_time": "2022-12-15T13:12:38.532Z"
      },
      {
        "duration": 13,
        "start_time": "2022-12-15T13:13:02.442Z"
      },
      {
        "duration": 11,
        "start_time": "2022-12-15T13:21:53.015Z"
      },
      {
        "duration": 10,
        "start_time": "2022-12-15T13:23:08.062Z"
      },
      {
        "duration": 13,
        "start_time": "2022-12-15T13:23:15.640Z"
      },
      {
        "duration": 9,
        "start_time": "2022-12-15T13:26:40.621Z"
      },
      {
        "duration": 60,
        "start_time": "2022-12-15T13:26:59.289Z"
      },
      {
        "duration": 52,
        "start_time": "2022-12-15T13:27:07.456Z"
      },
      {
        "duration": 61,
        "start_time": "2022-12-15T13:34:19.662Z"
      },
      {
        "duration": 163,
        "start_time": "2022-12-15T13:36:05.089Z"
      },
      {
        "duration": 56,
        "start_time": "2022-12-15T13:36:33.567Z"
      },
      {
        "duration": 58,
        "start_time": "2022-12-15T13:36:49.781Z"
      },
      {
        "duration": 389,
        "start_time": "2022-12-15T13:37:07.532Z"
      },
      {
        "duration": 165,
        "start_time": "2022-12-15T13:37:07.923Z"
      },
      {
        "duration": 7,
        "start_time": "2022-12-15T13:37:08.090Z"
      },
      {
        "duration": 26,
        "start_time": "2022-12-15T13:37:08.099Z"
      },
      {
        "duration": 395,
        "start_time": "2022-12-15T13:37:08.128Z"
      },
      {
        "duration": 125,
        "start_time": "2022-12-15T13:37:08.525Z"
      },
      {
        "duration": 6,
        "start_time": "2022-12-15T13:37:08.652Z"
      },
      {
        "duration": 31,
        "start_time": "2022-12-15T13:37:08.660Z"
      },
      {
        "duration": 166,
        "start_time": "2022-12-15T13:37:08.692Z"
      },
      {
        "duration": 94,
        "start_time": "2022-12-15T13:37:08.860Z"
      },
      {
        "duration": 6,
        "start_time": "2022-12-15T13:37:08.956Z"
      },
      {
        "duration": 25,
        "start_time": "2022-12-15T13:37:08.964Z"
      },
      {
        "duration": 29,
        "start_time": "2022-12-15T13:37:08.990Z"
      },
      {
        "duration": 5,
        "start_time": "2022-12-15T13:37:09.022Z"
      },
      {
        "duration": 32,
        "start_time": "2022-12-15T13:37:09.028Z"
      },
      {
        "duration": 39,
        "start_time": "2022-12-15T13:37:09.061Z"
      },
      {
        "duration": 15,
        "start_time": "2022-12-15T13:37:09.102Z"
      },
      {
        "duration": 15,
        "start_time": "2022-12-15T13:37:09.119Z"
      },
      {
        "duration": 103,
        "start_time": "2022-12-15T13:37:09.135Z"
      },
      {
        "duration": 2,
        "start_time": "2022-12-15T13:37:09.239Z"
      },
      {
        "duration": 15,
        "start_time": "2022-12-15T13:37:09.243Z"
      },
      {
        "duration": 9,
        "start_time": "2022-12-15T13:37:09.260Z"
      },
      {
        "duration": 10,
        "start_time": "2022-12-15T13:37:09.270Z"
      },
      {
        "duration": 10,
        "start_time": "2022-12-15T13:37:09.282Z"
      },
      {
        "duration": 10,
        "start_time": "2022-12-15T13:37:09.293Z"
      },
      {
        "duration": 11,
        "start_time": "2022-12-15T13:37:09.304Z"
      },
      {
        "duration": 11,
        "start_time": "2022-12-15T13:37:09.317Z"
      },
      {
        "duration": 10,
        "start_time": "2022-12-15T13:37:09.330Z"
      },
      {
        "duration": 11,
        "start_time": "2022-12-15T13:37:09.342Z"
      },
      {
        "duration": 75,
        "start_time": "2022-12-15T13:37:09.354Z"
      },
      {
        "duration": 0,
        "start_time": "2022-12-15T13:37:09.431Z"
      },
      {
        "duration": 0,
        "start_time": "2022-12-15T13:37:09.431Z"
      },
      {
        "duration": 0,
        "start_time": "2022-12-15T13:37:09.433Z"
      },
      {
        "duration": 0,
        "start_time": "2022-12-15T13:37:09.434Z"
      },
      {
        "duration": 0,
        "start_time": "2022-12-15T13:37:09.435Z"
      },
      {
        "duration": 0,
        "start_time": "2022-12-15T13:37:09.436Z"
      },
      {
        "duration": 0,
        "start_time": "2022-12-15T13:37:09.437Z"
      },
      {
        "duration": 0,
        "start_time": "2022-12-15T13:37:09.438Z"
      },
      {
        "duration": 0,
        "start_time": "2022-12-15T13:37:09.439Z"
      },
      {
        "duration": 0,
        "start_time": "2022-12-15T13:37:09.440Z"
      },
      {
        "duration": 0,
        "start_time": "2022-12-15T13:37:09.441Z"
      },
      {
        "duration": 0,
        "start_time": "2022-12-15T13:37:09.442Z"
      },
      {
        "duration": 0,
        "start_time": "2022-12-15T13:37:09.443Z"
      },
      {
        "duration": 0,
        "start_time": "2022-12-15T13:37:09.444Z"
      },
      {
        "duration": 0,
        "start_time": "2022-12-15T13:37:09.445Z"
      },
      {
        "duration": 0,
        "start_time": "2022-12-15T13:37:09.446Z"
      },
      {
        "duration": 0,
        "start_time": "2022-12-15T13:37:09.448Z"
      },
      {
        "duration": 0,
        "start_time": "2022-12-15T13:37:09.450Z"
      },
      {
        "duration": 0,
        "start_time": "2022-12-15T13:37:09.478Z"
      },
      {
        "duration": 0,
        "start_time": "2022-12-15T13:37:09.479Z"
      },
      {
        "duration": 113,
        "start_time": "2022-12-15T13:37:23.047Z"
      },
      {
        "duration": 58,
        "start_time": "2022-12-18T10:32:37.486Z"
      },
      {
        "duration": 10,
        "start_time": "2022-12-18T10:33:36.483Z"
      },
      {
        "duration": 465,
        "start_time": "2022-12-18T10:34:00.267Z"
      },
      {
        "duration": 532,
        "start_time": "2022-12-18T10:34:00.734Z"
      },
      {
        "duration": 9,
        "start_time": "2022-12-18T10:34:01.267Z"
      },
      {
        "duration": 41,
        "start_time": "2022-12-18T10:34:01.278Z"
      },
      {
        "duration": 657,
        "start_time": "2022-12-18T10:34:01.322Z"
      },
      {
        "duration": 455,
        "start_time": "2022-12-18T10:34:01.981Z"
      },
      {
        "duration": 7,
        "start_time": "2022-12-18T10:34:02.439Z"
      },
      {
        "duration": 31,
        "start_time": "2022-12-18T10:34:02.448Z"
      },
      {
        "duration": 189,
        "start_time": "2022-12-18T10:34:02.481Z"
      },
      {
        "duration": 176,
        "start_time": "2022-12-18T10:34:02.672Z"
      },
      {
        "duration": 5,
        "start_time": "2022-12-18T10:34:02.851Z"
      },
      {
        "duration": 26,
        "start_time": "2022-12-18T10:34:02.858Z"
      },
      {
        "duration": 60,
        "start_time": "2022-12-18T10:34:02.886Z"
      },
      {
        "duration": 8,
        "start_time": "2022-12-18T10:34:02.949Z"
      },
      {
        "duration": 18,
        "start_time": "2022-12-18T10:34:02.959Z"
      },
      {
        "duration": 73,
        "start_time": "2022-12-18T10:34:02.979Z"
      },
      {
        "duration": 17,
        "start_time": "2022-12-18T10:34:03.054Z"
      },
      {
        "duration": 12,
        "start_time": "2022-12-18T10:34:03.073Z"
      },
      {
        "duration": 100,
        "start_time": "2022-12-18T10:34:03.087Z"
      },
      {
        "duration": 0,
        "start_time": "2022-12-18T10:34:03.189Z"
      },
      {
        "duration": 0,
        "start_time": "2022-12-18T10:34:03.191Z"
      },
      {
        "duration": 0,
        "start_time": "2022-12-18T10:34:03.192Z"
      },
      {
        "duration": 0,
        "start_time": "2022-12-18T10:34:03.194Z"
      },
      {
        "duration": 0,
        "start_time": "2022-12-18T10:34:03.195Z"
      },
      {
        "duration": 0,
        "start_time": "2022-12-18T10:34:03.196Z"
      },
      {
        "duration": 0,
        "start_time": "2022-12-18T10:34:03.198Z"
      },
      {
        "duration": 0,
        "start_time": "2022-12-18T10:34:03.199Z"
      },
      {
        "duration": 0,
        "start_time": "2022-12-18T10:34:03.200Z"
      },
      {
        "duration": 0,
        "start_time": "2022-12-18T10:34:03.201Z"
      },
      {
        "duration": 0,
        "start_time": "2022-12-18T10:34:03.203Z"
      },
      {
        "duration": 0,
        "start_time": "2022-12-18T10:34:03.204Z"
      },
      {
        "duration": 0,
        "start_time": "2022-12-18T10:34:03.205Z"
      },
      {
        "duration": 0,
        "start_time": "2022-12-18T10:34:03.206Z"
      },
      {
        "duration": 0,
        "start_time": "2022-12-18T10:34:03.207Z"
      },
      {
        "duration": 0,
        "start_time": "2022-12-18T10:34:03.209Z"
      },
      {
        "duration": 0,
        "start_time": "2022-12-18T10:34:03.210Z"
      },
      {
        "duration": 0,
        "start_time": "2022-12-18T10:34:03.252Z"
      },
      {
        "duration": 0,
        "start_time": "2022-12-18T10:34:03.253Z"
      },
      {
        "duration": 0,
        "start_time": "2022-12-18T10:34:03.255Z"
      },
      {
        "duration": 0,
        "start_time": "2022-12-18T10:34:03.256Z"
      },
      {
        "duration": 0,
        "start_time": "2022-12-18T10:34:03.257Z"
      },
      {
        "duration": 0,
        "start_time": "2022-12-18T10:34:03.259Z"
      },
      {
        "duration": 0,
        "start_time": "2022-12-18T10:34:03.260Z"
      },
      {
        "duration": 0,
        "start_time": "2022-12-18T10:34:03.262Z"
      },
      {
        "duration": 0,
        "start_time": "2022-12-18T10:34:03.263Z"
      },
      {
        "duration": 0,
        "start_time": "2022-12-18T10:34:03.265Z"
      },
      {
        "duration": 0,
        "start_time": "2022-12-18T10:34:03.266Z"
      },
      {
        "duration": 0,
        "start_time": "2022-12-18T10:34:03.268Z"
      },
      {
        "duration": 0,
        "start_time": "2022-12-18T10:34:03.270Z"
      },
      {
        "duration": 0,
        "start_time": "2022-12-18T10:34:03.271Z"
      },
      {
        "duration": 12,
        "start_time": "2022-12-18T10:34:29.039Z"
      },
      {
        "duration": 116,
        "start_time": "2022-12-18T10:35:08.855Z"
      },
      {
        "duration": 127,
        "start_time": "2022-12-18T10:38:02.753Z"
      },
      {
        "duration": 67,
        "start_time": "2022-12-18T10:42:33.514Z"
      },
      {
        "duration": 51,
        "start_time": "2022-12-18T10:43:23.685Z"
      },
      {
        "duration": 102,
        "start_time": "2022-12-18T10:43:55.850Z"
      },
      {
        "duration": 47,
        "start_time": "2022-12-18T10:44:03.276Z"
      },
      {
        "duration": 48,
        "start_time": "2022-12-18T10:44:32.269Z"
      },
      {
        "duration": 114,
        "start_time": "2022-12-18T10:45:00.946Z"
      },
      {
        "duration": 71,
        "start_time": "2022-12-18T10:45:24.178Z"
      },
      {
        "duration": 74,
        "start_time": "2022-12-18T10:45:49.287Z"
      },
      {
        "duration": 118,
        "start_time": "2022-12-18T10:46:11.523Z"
      },
      {
        "duration": 8,
        "start_time": "2022-12-18T11:01:13.208Z"
      },
      {
        "duration": 8,
        "start_time": "2022-12-18T11:01:20.124Z"
      },
      {
        "duration": 5,
        "start_time": "2022-12-18T11:01:26.737Z"
      },
      {
        "duration": 11,
        "start_time": "2022-12-18T11:01:41.217Z"
      },
      {
        "duration": 7,
        "start_time": "2022-12-18T11:02:32.552Z"
      },
      {
        "duration": 25,
        "start_time": "2022-12-18T11:03:05.839Z"
      },
      {
        "duration": 30,
        "start_time": "2022-12-18T11:03:46.286Z"
      },
      {
        "duration": 7,
        "start_time": "2022-12-18T11:07:31.215Z"
      },
      {
        "duration": 6,
        "start_time": "2022-12-18T11:08:34.600Z"
      },
      {
        "duration": 26,
        "start_time": "2022-12-18T11:09:57.702Z"
      },
      {
        "duration": 27,
        "start_time": "2022-12-18T11:10:04.473Z"
      },
      {
        "duration": 21,
        "start_time": "2022-12-18T11:11:00.229Z"
      },
      {
        "duration": 19,
        "start_time": "2022-12-18T11:11:10.633Z"
      },
      {
        "duration": 22,
        "start_time": "2022-12-18T11:12:54.110Z"
      },
      {
        "duration": 73,
        "start_time": "2022-12-18T11:14:48.931Z"
      },
      {
        "duration": 6,
        "start_time": "2022-12-18T11:15:08.219Z"
      },
      {
        "duration": 9,
        "start_time": "2022-12-18T11:19:43.330Z"
      },
      {
        "duration": 27,
        "start_time": "2022-12-18T11:19:55.283Z"
      },
      {
        "duration": 6,
        "start_time": "2022-12-18T11:22:20.246Z"
      },
      {
        "duration": 4,
        "start_time": "2022-12-18T11:23:11.079Z"
      },
      {
        "duration": 79,
        "start_time": "2022-12-18T11:28:06.801Z"
      },
      {
        "duration": 70,
        "start_time": "2022-12-18T11:28:25.926Z"
      },
      {
        "duration": 77,
        "start_time": "2022-12-18T11:28:57.877Z"
      },
      {
        "duration": 70,
        "start_time": "2022-12-18T11:30:29.432Z"
      },
      {
        "duration": 68,
        "start_time": "2022-12-18T11:30:54.598Z"
      },
      {
        "duration": 68,
        "start_time": "2022-12-18T11:31:22.262Z"
      },
      {
        "duration": 71,
        "start_time": "2022-12-18T11:31:41.564Z"
      },
      {
        "duration": 96,
        "start_time": "2022-12-18T11:31:58.177Z"
      },
      {
        "duration": 26,
        "start_time": "2022-12-18T11:32:06.712Z"
      },
      {
        "duration": 4,
        "start_time": "2022-12-18T11:32:25.030Z"
      },
      {
        "duration": 4,
        "start_time": "2022-12-18T11:32:35.984Z"
      },
      {
        "duration": 6,
        "start_time": "2022-12-18T11:32:57.052Z"
      },
      {
        "duration": 9,
        "start_time": "2022-12-18T11:35:43.908Z"
      },
      {
        "duration": 8,
        "start_time": "2022-12-18T11:36:21.172Z"
      },
      {
        "duration": 10,
        "start_time": "2022-12-18T11:36:32.744Z"
      },
      {
        "duration": 11,
        "start_time": "2022-12-18T11:36:41.089Z"
      },
      {
        "duration": 7,
        "start_time": "2022-12-18T11:36:51.825Z"
      },
      {
        "duration": 45,
        "start_time": "2022-12-18T11:39:17.539Z"
      },
      {
        "duration": 49,
        "start_time": "2022-12-18T11:39:36.040Z"
      },
      {
        "duration": 41,
        "start_time": "2022-12-18T11:39:51.734Z"
      },
      {
        "duration": 40,
        "start_time": "2022-12-18T11:40:08.100Z"
      },
      {
        "duration": 42,
        "start_time": "2022-12-18T11:40:23.873Z"
      },
      {
        "duration": 8,
        "start_time": "2022-12-18T11:40:44.465Z"
      },
      {
        "duration": 63,
        "start_time": "2022-12-18T11:41:03.468Z"
      },
      {
        "duration": 21,
        "start_time": "2022-12-18T11:48:18.616Z"
      },
      {
        "duration": 24,
        "start_time": "2022-12-18T11:48:46.914Z"
      },
      {
        "duration": 6,
        "start_time": "2022-12-18T12:50:07.483Z"
      },
      {
        "duration": 49,
        "start_time": "2022-12-18T12:59:14.021Z"
      },
      {
        "duration": 59,
        "start_time": "2022-12-18T13:03:43.817Z"
      },
      {
        "duration": 65,
        "start_time": "2022-12-18T13:03:57.329Z"
      },
      {
        "duration": 75,
        "start_time": "2022-12-18T13:04:09.720Z"
      },
      {
        "duration": 68,
        "start_time": "2022-12-18T15:55:09.852Z"
      },
      {
        "duration": 12,
        "start_time": "2022-12-18T15:55:19.122Z"
      },
      {
        "duration": 474,
        "start_time": "2022-12-18T15:55:27.439Z"
      },
      {
        "duration": 267,
        "start_time": "2022-12-18T15:55:27.916Z"
      },
      {
        "duration": 11,
        "start_time": "2022-12-18T15:55:28.186Z"
      },
      {
        "duration": 61,
        "start_time": "2022-12-18T15:55:28.201Z"
      },
      {
        "duration": 626,
        "start_time": "2022-12-18T15:55:28.264Z"
      },
      {
        "duration": 262,
        "start_time": "2022-12-18T15:55:28.892Z"
      },
      {
        "duration": 7,
        "start_time": "2022-12-18T15:55:29.157Z"
      },
      {
        "duration": 47,
        "start_time": "2022-12-18T15:55:29.166Z"
      },
      {
        "duration": 165,
        "start_time": "2022-12-18T15:55:29.215Z"
      },
      {
        "duration": 366,
        "start_time": "2022-12-18T15:55:29.383Z"
      },
      {
        "duration": 6,
        "start_time": "2022-12-18T15:55:29.751Z"
      },
      {
        "duration": 58,
        "start_time": "2022-12-18T15:55:29.759Z"
      },
      {
        "duration": 86,
        "start_time": "2022-12-18T15:55:29.819Z"
      },
      {
        "duration": 6,
        "start_time": "2022-12-18T15:55:29.908Z"
      },
      {
        "duration": 19,
        "start_time": "2022-12-18T15:55:29.916Z"
      },
      {
        "duration": 71,
        "start_time": "2022-12-18T15:55:29.937Z"
      },
      {
        "duration": 14,
        "start_time": "2022-12-18T15:55:30.010Z"
      },
      {
        "duration": 53,
        "start_time": "2022-12-18T15:55:30.026Z"
      },
      {
        "duration": 119,
        "start_time": "2022-12-18T15:55:30.081Z"
      },
      {
        "duration": 27,
        "start_time": "2022-12-18T15:55:30.202Z"
      },
      {
        "duration": 8,
        "start_time": "2022-12-18T15:55:30.236Z"
      },
      {
        "duration": 107,
        "start_time": "2022-12-18T15:55:30.246Z"
      },
      {
        "duration": 60,
        "start_time": "2022-12-18T15:55:30.356Z"
      },
      {
        "duration": 29,
        "start_time": "2022-12-18T15:55:30.419Z"
      },
      {
        "duration": 85,
        "start_time": "2022-12-18T15:55:30.450Z"
      },
      {
        "duration": 7,
        "start_time": "2022-12-18T15:55:30.537Z"
      },
      {
        "duration": 44,
        "start_time": "2022-12-18T15:55:30.545Z"
      },
      {
        "duration": 23,
        "start_time": "2022-12-18T15:55:30.593Z"
      },
      {
        "duration": 34,
        "start_time": "2022-12-18T15:55:30.618Z"
      },
      {
        "duration": 24,
        "start_time": "2022-12-18T15:55:30.655Z"
      },
      {
        "duration": 29,
        "start_time": "2022-12-18T15:55:30.682Z"
      },
      {
        "duration": 32,
        "start_time": "2022-12-18T15:55:30.713Z"
      },
      {
        "duration": 68,
        "start_time": "2022-12-18T15:55:30.747Z"
      },
      {
        "duration": 145,
        "start_time": "2022-12-18T15:55:30.818Z"
      },
      {
        "duration": 0,
        "start_time": "2022-12-18T15:55:30.965Z"
      },
      {
        "duration": 0,
        "start_time": "2022-12-18T15:55:30.966Z"
      },
      {
        "duration": 0,
        "start_time": "2022-12-18T15:55:30.967Z"
      },
      {
        "duration": 0,
        "start_time": "2022-12-18T15:55:30.969Z"
      },
      {
        "duration": 0,
        "start_time": "2022-12-18T15:55:30.970Z"
      },
      {
        "duration": 0,
        "start_time": "2022-12-18T15:55:30.972Z"
      },
      {
        "duration": 0,
        "start_time": "2022-12-18T15:55:30.973Z"
      },
      {
        "duration": 0,
        "start_time": "2022-12-18T15:55:30.974Z"
      },
      {
        "duration": 0,
        "start_time": "2022-12-18T15:55:30.976Z"
      },
      {
        "duration": 0,
        "start_time": "2022-12-18T15:55:30.978Z"
      },
      {
        "duration": 0,
        "start_time": "2022-12-18T15:55:30.978Z"
      },
      {
        "duration": 0,
        "start_time": "2022-12-18T15:55:30.980Z"
      },
      {
        "duration": 0,
        "start_time": "2022-12-18T15:55:30.981Z"
      },
      {
        "duration": 0,
        "start_time": "2022-12-18T15:55:30.983Z"
      },
      {
        "duration": 0,
        "start_time": "2022-12-18T15:55:30.985Z"
      },
      {
        "duration": 0,
        "start_time": "2022-12-18T15:55:30.986Z"
      },
      {
        "duration": 0,
        "start_time": "2022-12-18T15:55:30.988Z"
      },
      {
        "duration": 0,
        "start_time": "2022-12-18T15:55:30.989Z"
      },
      {
        "duration": 0,
        "start_time": "2022-12-18T15:55:30.991Z"
      },
      {
        "duration": 0,
        "start_time": "2022-12-18T15:55:30.992Z"
      },
      {
        "duration": 110,
        "start_time": "2022-12-18T15:55:56.508Z"
      },
      {
        "duration": 10,
        "start_time": "2022-12-18T15:56:33.039Z"
      },
      {
        "duration": 39,
        "start_time": "2022-12-18T15:59:27.132Z"
      },
      {
        "duration": 37,
        "start_time": "2022-12-18T15:59:44.642Z"
      },
      {
        "duration": 14,
        "start_time": "2022-12-18T16:02:00.806Z"
      },
      {
        "duration": 11,
        "start_time": "2022-12-18T16:02:19.497Z"
      },
      {
        "duration": 12,
        "start_time": "2022-12-18T16:07:15.055Z"
      },
      {
        "duration": 12,
        "start_time": "2022-12-18T16:07:23.249Z"
      },
      {
        "duration": 12,
        "start_time": "2022-12-18T16:08:17.675Z"
      },
      {
        "duration": 16,
        "start_time": "2022-12-18T16:08:32.610Z"
      },
      {
        "duration": 12,
        "start_time": "2022-12-18T16:12:55.969Z"
      },
      {
        "duration": 11,
        "start_time": "2022-12-18T16:13:18.264Z"
      },
      {
        "duration": 14,
        "start_time": "2022-12-18T16:16:44.577Z"
      },
      {
        "duration": 9,
        "start_time": "2022-12-18T16:17:00.310Z"
      },
      {
        "duration": 13,
        "start_time": "2022-12-18T16:17:28.698Z"
      },
      {
        "duration": 19,
        "start_time": "2022-12-18T16:18:12.576Z"
      },
      {
        "duration": 10,
        "start_time": "2022-12-18T16:19:52.710Z"
      },
      {
        "duration": 11,
        "start_time": "2022-12-18T16:20:15.582Z"
      },
      {
        "duration": 458,
        "start_time": "2022-12-18T16:20:31.127Z"
      },
      {
        "duration": 189,
        "start_time": "2022-12-18T16:20:31.587Z"
      },
      {
        "duration": 10,
        "start_time": "2022-12-18T16:20:31.778Z"
      },
      {
        "duration": 45,
        "start_time": "2022-12-18T16:20:31.790Z"
      },
      {
        "duration": 424,
        "start_time": "2022-12-18T16:20:31.837Z"
      },
      {
        "duration": 168,
        "start_time": "2022-12-18T16:20:32.263Z"
      },
      {
        "duration": 15,
        "start_time": "2022-12-18T16:20:32.432Z"
      },
      {
        "duration": 43,
        "start_time": "2022-12-18T16:20:32.450Z"
      },
      {
        "duration": 253,
        "start_time": "2022-12-18T16:20:32.495Z"
      },
      {
        "duration": 115,
        "start_time": "2022-12-18T16:20:32.752Z"
      },
      {
        "duration": 7,
        "start_time": "2022-12-18T16:20:32.869Z"
      },
      {
        "duration": 32,
        "start_time": "2022-12-18T16:20:32.877Z"
      },
      {
        "duration": 15,
        "start_time": "2022-12-18T16:20:32.911Z"
      },
      {
        "duration": 9,
        "start_time": "2022-12-18T16:20:32.928Z"
      },
      {
        "duration": 24,
        "start_time": "2022-12-18T16:20:32.939Z"
      },
      {
        "duration": 38,
        "start_time": "2022-12-18T16:20:32.965Z"
      },
      {
        "duration": 8,
        "start_time": "2022-12-18T16:20:33.005Z"
      },
      {
        "duration": 20,
        "start_time": "2022-12-18T16:20:33.015Z"
      },
      {
        "duration": 96,
        "start_time": "2022-12-18T16:20:33.039Z"
      },
      {
        "duration": 79,
        "start_time": "2022-12-18T16:20:33.137Z"
      },
      {
        "duration": 0,
        "start_time": "2022-12-18T16:20:33.218Z"
      },
      {
        "duration": 0,
        "start_time": "2022-12-18T16:20:33.220Z"
      },
      {
        "duration": 0,
        "start_time": "2022-12-18T16:20:33.236Z"
      },
      {
        "duration": 0,
        "start_time": "2022-12-18T16:20:33.237Z"
      },
      {
        "duration": 0,
        "start_time": "2022-12-18T16:20:33.238Z"
      },
      {
        "duration": 0,
        "start_time": "2022-12-18T16:20:33.239Z"
      },
      {
        "duration": 0,
        "start_time": "2022-12-18T16:20:33.241Z"
      },
      {
        "duration": 0,
        "start_time": "2022-12-18T16:20:33.242Z"
      },
      {
        "duration": 0,
        "start_time": "2022-12-18T16:20:33.244Z"
      },
      {
        "duration": 0,
        "start_time": "2022-12-18T16:20:33.245Z"
      },
      {
        "duration": 0,
        "start_time": "2022-12-18T16:20:33.246Z"
      },
      {
        "duration": 0,
        "start_time": "2022-12-18T16:20:33.247Z"
      },
      {
        "duration": 0,
        "start_time": "2022-12-18T16:20:33.248Z"
      },
      {
        "duration": 1,
        "start_time": "2022-12-18T16:20:33.248Z"
      },
      {
        "duration": 0,
        "start_time": "2022-12-18T16:20:33.249Z"
      },
      {
        "duration": 0,
        "start_time": "2022-12-18T16:20:33.250Z"
      },
      {
        "duration": 0,
        "start_time": "2022-12-18T16:20:33.252Z"
      },
      {
        "duration": 0,
        "start_time": "2022-12-18T16:20:33.253Z"
      },
      {
        "duration": 0,
        "start_time": "2022-12-18T16:20:33.254Z"
      },
      {
        "duration": 0,
        "start_time": "2022-12-18T16:20:33.255Z"
      },
      {
        "duration": 0,
        "start_time": "2022-12-18T16:20:33.256Z"
      },
      {
        "duration": 0,
        "start_time": "2022-12-18T16:20:33.257Z"
      },
      {
        "duration": 0,
        "start_time": "2022-12-18T16:20:33.258Z"
      },
      {
        "duration": 0,
        "start_time": "2022-12-18T16:20:33.259Z"
      },
      {
        "duration": 0,
        "start_time": "2022-12-18T16:20:33.260Z"
      },
      {
        "duration": 0,
        "start_time": "2022-12-18T16:20:33.261Z"
      },
      {
        "duration": 0,
        "start_time": "2022-12-18T16:20:33.263Z"
      },
      {
        "duration": 0,
        "start_time": "2022-12-18T16:20:33.263Z"
      },
      {
        "duration": 0,
        "start_time": "2022-12-18T16:20:33.264Z"
      },
      {
        "duration": 0,
        "start_time": "2022-12-18T16:20:33.266Z"
      },
      {
        "duration": 0,
        "start_time": "2022-12-18T16:20:33.267Z"
      },
      {
        "duration": 0,
        "start_time": "2022-12-18T16:20:33.268Z"
      },
      {
        "duration": 0,
        "start_time": "2022-12-18T16:20:33.269Z"
      },
      {
        "duration": 0,
        "start_time": "2022-12-18T16:20:33.270Z"
      },
      {
        "duration": 9,
        "start_time": "2022-12-18T16:20:51.345Z"
      },
      {
        "duration": 10,
        "start_time": "2022-12-18T16:22:42.157Z"
      },
      {
        "duration": 8,
        "start_time": "2022-12-18T16:22:50.371Z"
      },
      {
        "duration": 49,
        "start_time": "2022-12-18T16:24:11.097Z"
      },
      {
        "duration": 11,
        "start_time": "2022-12-18T16:24:19.648Z"
      },
      {
        "duration": 7,
        "start_time": "2022-12-18T16:24:28.505Z"
      },
      {
        "duration": 10,
        "start_time": "2022-12-18T16:28:14.539Z"
      },
      {
        "duration": 10,
        "start_time": "2022-12-18T16:28:55.262Z"
      },
      {
        "duration": 6,
        "start_time": "2022-12-18T16:29:36.606Z"
      },
      {
        "duration": 23,
        "start_time": "2022-12-18T16:30:03.187Z"
      },
      {
        "duration": 9,
        "start_time": "2022-12-18T16:31:23.102Z"
      },
      {
        "duration": 8,
        "start_time": "2022-12-18T16:31:31.457Z"
      },
      {
        "duration": 4,
        "start_time": "2022-12-18T16:31:37.432Z"
      },
      {
        "duration": 9,
        "start_time": "2022-12-18T16:33:53.754Z"
      },
      {
        "duration": 11,
        "start_time": "2022-12-18T16:34:10.189Z"
      },
      {
        "duration": 9,
        "start_time": "2022-12-18T16:35:14.904Z"
      },
      {
        "duration": 8,
        "start_time": "2022-12-18T16:41:58.843Z"
      },
      {
        "duration": 10,
        "start_time": "2022-12-18T16:42:06.334Z"
      },
      {
        "duration": 8,
        "start_time": "2022-12-18T16:42:14.126Z"
      },
      {
        "duration": 7,
        "start_time": "2022-12-18T16:42:33.894Z"
      },
      {
        "duration": 8,
        "start_time": "2022-12-18T16:51:38.254Z"
      },
      {
        "duration": 6,
        "start_time": "2022-12-18T16:51:49.793Z"
      },
      {
        "duration": 5,
        "start_time": "2022-12-18T16:52:08.493Z"
      },
      {
        "duration": 45,
        "start_time": "2022-12-18T16:53:26.592Z"
      },
      {
        "duration": 5,
        "start_time": "2022-12-18T16:53:35.831Z"
      },
      {
        "duration": 45,
        "start_time": "2022-12-18T16:53:43.376Z"
      },
      {
        "duration": 75,
        "start_time": "2022-12-18T16:53:48.018Z"
      },
      {
        "duration": 6,
        "start_time": "2022-12-18T16:54:16.271Z"
      },
      {
        "duration": 6,
        "start_time": "2022-12-18T16:54:49.326Z"
      },
      {
        "duration": 6,
        "start_time": "2022-12-18T16:58:22.766Z"
      },
      {
        "duration": 8,
        "start_time": "2022-12-18T17:02:59.460Z"
      },
      {
        "duration": 8,
        "start_time": "2022-12-18T17:03:23.367Z"
      },
      {
        "duration": 5,
        "start_time": "2022-12-18T17:03:29.214Z"
      },
      {
        "duration": 9,
        "start_time": "2022-12-18T17:05:31.780Z"
      },
      {
        "duration": 5,
        "start_time": "2022-12-18T17:05:41.389Z"
      },
      {
        "duration": 308,
        "start_time": "2022-12-19T18:59:18.731Z"
      },
      {
        "duration": 9,
        "start_time": "2022-12-19T19:00:30.355Z"
      },
      {
        "duration": 435,
        "start_time": "2022-12-19T19:00:45.653Z"
      },
      {
        "duration": 530,
        "start_time": "2022-12-19T19:00:46.090Z"
      },
      {
        "duration": 7,
        "start_time": "2022-12-19T19:00:46.621Z"
      },
      {
        "duration": 48,
        "start_time": "2022-12-19T19:00:46.630Z"
      },
      {
        "duration": 541,
        "start_time": "2022-12-19T19:00:46.680Z"
      },
      {
        "duration": 435,
        "start_time": "2022-12-19T19:00:47.223Z"
      },
      {
        "duration": 6,
        "start_time": "2022-12-19T19:00:47.660Z"
      },
      {
        "duration": 41,
        "start_time": "2022-12-19T19:00:47.668Z"
      },
      {
        "duration": 154,
        "start_time": "2022-12-19T19:00:47.711Z"
      },
      {
        "duration": 148,
        "start_time": "2022-12-19T19:00:47.867Z"
      },
      {
        "duration": 6,
        "start_time": "2022-12-19T19:00:48.017Z"
      },
      {
        "duration": 29,
        "start_time": "2022-12-19T19:00:48.025Z"
      },
      {
        "duration": 58,
        "start_time": "2022-12-19T19:00:48.055Z"
      },
      {
        "duration": 7,
        "start_time": "2022-12-19T19:00:48.115Z"
      },
      {
        "duration": 41,
        "start_time": "2022-12-19T19:00:48.124Z"
      },
      {
        "duration": 64,
        "start_time": "2022-12-19T19:00:48.166Z"
      },
      {
        "duration": 7,
        "start_time": "2022-12-19T19:00:48.231Z"
      },
      {
        "duration": 18,
        "start_time": "2022-12-19T19:00:48.240Z"
      },
      {
        "duration": 95,
        "start_time": "2022-12-19T19:00:48.260Z"
      },
      {
        "duration": 6,
        "start_time": "2022-12-19T19:00:48.357Z"
      },
      {
        "duration": 20,
        "start_time": "2022-12-19T19:00:48.365Z"
      },
      {
        "duration": 43,
        "start_time": "2022-12-19T19:00:48.386Z"
      },
      {
        "duration": 27,
        "start_time": "2022-12-19T19:00:48.430Z"
      },
      {
        "duration": 21,
        "start_time": "2022-12-19T19:00:48.458Z"
      },
      {
        "duration": 78,
        "start_time": "2022-12-19T19:00:48.480Z"
      },
      {
        "duration": 6,
        "start_time": "2022-12-19T19:00:48.559Z"
      },
      {
        "duration": 12,
        "start_time": "2022-12-19T19:00:48.567Z"
      },
      {
        "duration": 30,
        "start_time": "2022-12-19T19:00:48.582Z"
      },
      {
        "duration": 26,
        "start_time": "2022-12-19T19:00:48.614Z"
      },
      {
        "duration": 25,
        "start_time": "2022-12-19T19:00:48.641Z"
      },
      {
        "duration": 30,
        "start_time": "2022-12-19T19:00:48.668Z"
      },
      {
        "duration": 12,
        "start_time": "2022-12-19T19:00:48.700Z"
      },
      {
        "duration": 16,
        "start_time": "2022-12-19T19:00:48.713Z"
      },
      {
        "duration": 98,
        "start_time": "2022-12-19T19:00:48.730Z"
      },
      {
        "duration": 0,
        "start_time": "2022-12-19T19:00:48.830Z"
      },
      {
        "duration": 0,
        "start_time": "2022-12-19T19:00:48.831Z"
      },
      {
        "duration": 0,
        "start_time": "2022-12-19T19:00:48.832Z"
      },
      {
        "duration": 0,
        "start_time": "2022-12-19T19:00:48.834Z"
      },
      {
        "duration": 0,
        "start_time": "2022-12-19T19:00:48.835Z"
      },
      {
        "duration": 0,
        "start_time": "2022-12-19T19:00:48.836Z"
      },
      {
        "duration": 0,
        "start_time": "2022-12-19T19:00:48.837Z"
      },
      {
        "duration": 0,
        "start_time": "2022-12-19T19:00:48.841Z"
      },
      {
        "duration": 0,
        "start_time": "2022-12-19T19:00:48.842Z"
      },
      {
        "duration": 0,
        "start_time": "2022-12-19T19:00:48.843Z"
      },
      {
        "duration": 0,
        "start_time": "2022-12-19T19:00:48.844Z"
      },
      {
        "duration": 0,
        "start_time": "2022-12-19T19:00:48.846Z"
      },
      {
        "duration": 0,
        "start_time": "2022-12-19T19:00:48.847Z"
      },
      {
        "duration": 0,
        "start_time": "2022-12-19T19:00:48.852Z"
      },
      {
        "duration": 0,
        "start_time": "2022-12-19T19:00:48.854Z"
      },
      {
        "duration": 0,
        "start_time": "2022-12-19T19:00:48.856Z"
      },
      {
        "duration": 0,
        "start_time": "2022-12-19T19:00:48.857Z"
      },
      {
        "duration": 0,
        "start_time": "2022-12-19T19:00:48.859Z"
      },
      {
        "duration": 0,
        "start_time": "2022-12-19T19:00:48.861Z"
      },
      {
        "duration": 0,
        "start_time": "2022-12-19T19:00:48.862Z"
      },
      {
        "duration": 7,
        "start_time": "2022-12-19T19:01:07.020Z"
      },
      {
        "duration": 35,
        "start_time": "2022-12-19T19:06:28.134Z"
      },
      {
        "duration": 6,
        "start_time": "2022-12-19T19:07:24.000Z"
      },
      {
        "duration": 8,
        "start_time": "2022-12-19T19:08:30.067Z"
      },
      {
        "duration": 25,
        "start_time": "2022-12-19T19:09:10.518Z"
      },
      {
        "duration": 6,
        "start_time": "2022-12-19T19:09:12.404Z"
      },
      {
        "duration": 7,
        "start_time": "2022-12-19T19:11:32.933Z"
      },
      {
        "duration": 26,
        "start_time": "2022-12-19T19:11:46.571Z"
      },
      {
        "duration": 7,
        "start_time": "2022-12-19T19:12:24.701Z"
      },
      {
        "duration": 29,
        "start_time": "2022-12-19T19:14:49.503Z"
      },
      {
        "duration": 5,
        "start_time": "2022-12-19T19:14:54.555Z"
      },
      {
        "duration": 25,
        "start_time": "2022-12-19T19:18:06.310Z"
      },
      {
        "duration": 6,
        "start_time": "2022-12-19T19:18:08.646Z"
      },
      {
        "duration": 23,
        "start_time": "2022-12-19T19:22:18.703Z"
      },
      {
        "duration": 6,
        "start_time": "2022-12-19T19:22:21.261Z"
      },
      {
        "duration": 142,
        "start_time": "2022-12-19T19:23:31.907Z"
      },
      {
        "duration": 6,
        "start_time": "2022-12-19T19:23:34.922Z"
      },
      {
        "duration": 6,
        "start_time": "2022-12-19T19:24:04.736Z"
      },
      {
        "duration": 17,
        "start_time": "2022-12-19T19:26:20.901Z"
      },
      {
        "duration": 4,
        "start_time": "2022-12-19T19:26:24.604Z"
      },
      {
        "duration": 7,
        "start_time": "2022-12-19T19:29:15.173Z"
      },
      {
        "duration": 10,
        "start_time": "2022-12-19T19:29:37.717Z"
      },
      {
        "duration": 423,
        "start_time": "2022-12-19T19:29:46.901Z"
      },
      {
        "duration": 171,
        "start_time": "2022-12-19T19:29:47.327Z"
      },
      {
        "duration": 8,
        "start_time": "2022-12-19T19:29:47.501Z"
      },
      {
        "duration": 34,
        "start_time": "2022-12-19T19:29:47.511Z"
      },
      {
        "duration": 407,
        "start_time": "2022-12-19T19:29:47.547Z"
      },
      {
        "duration": 141,
        "start_time": "2022-12-19T19:29:47.956Z"
      },
      {
        "duration": 6,
        "start_time": "2022-12-19T19:29:48.099Z"
      },
      {
        "duration": 35,
        "start_time": "2022-12-19T19:29:48.107Z"
      },
      {
        "duration": 171,
        "start_time": "2022-12-19T19:29:48.144Z"
      },
      {
        "duration": 104,
        "start_time": "2022-12-19T19:29:48.318Z"
      },
      {
        "duration": 5,
        "start_time": "2022-12-19T19:29:48.424Z"
      },
      {
        "duration": 22,
        "start_time": "2022-12-19T19:29:48.431Z"
      },
      {
        "duration": 28,
        "start_time": "2022-12-19T19:29:48.455Z"
      },
      {
        "duration": 5,
        "start_time": "2022-12-19T19:29:48.485Z"
      },
      {
        "duration": 13,
        "start_time": "2022-12-19T19:29:48.492Z"
      },
      {
        "duration": 31,
        "start_time": "2022-12-19T19:29:48.507Z"
      },
      {
        "duration": 8,
        "start_time": "2022-12-19T19:29:48.539Z"
      },
      {
        "duration": 11,
        "start_time": "2022-12-19T19:29:48.549Z"
      },
      {
        "duration": 104,
        "start_time": "2022-12-19T19:29:48.562Z"
      },
      {
        "duration": 6,
        "start_time": "2022-12-19T19:29:48.668Z"
      },
      {
        "duration": 31,
        "start_time": "2022-12-19T19:29:48.675Z"
      },
      {
        "duration": 32,
        "start_time": "2022-12-19T19:29:48.707Z"
      },
      {
        "duration": 18,
        "start_time": "2022-12-19T19:29:48.741Z"
      },
      {
        "duration": 22,
        "start_time": "2022-12-19T19:29:48.761Z"
      },
      {
        "duration": 24,
        "start_time": "2022-12-19T19:29:48.785Z"
      },
      {
        "duration": 28,
        "start_time": "2022-12-19T19:29:48.811Z"
      },
      {
        "duration": 33,
        "start_time": "2022-12-19T19:29:48.840Z"
      },
      {
        "duration": 6,
        "start_time": "2022-12-19T19:29:48.876Z"
      },
      {
        "duration": 34,
        "start_time": "2022-12-19T19:29:48.883Z"
      },
      {
        "duration": 5,
        "start_time": "2022-12-19T19:29:48.919Z"
      },
      {
        "duration": 63,
        "start_time": "2022-12-19T19:29:48.938Z"
      },
      {
        "duration": 10,
        "start_time": "2022-12-19T19:29:49.003Z"
      },
      {
        "duration": 29,
        "start_time": "2022-12-19T19:29:49.015Z"
      },
      {
        "duration": 65,
        "start_time": "2022-12-19T19:30:45.805Z"
      },
      {
        "duration": 6,
        "start_time": "2022-12-19T19:30:48.799Z"
      },
      {
        "duration": 7,
        "start_time": "2022-12-19T19:31:01.050Z"
      },
      {
        "duration": 402,
        "start_time": "2022-12-19T19:32:02.291Z"
      },
      {
        "duration": 524,
        "start_time": "2022-12-19T19:32:02.694Z"
      },
      {
        "duration": 7,
        "start_time": "2022-12-19T19:32:03.220Z"
      },
      {
        "duration": 29,
        "start_time": "2022-12-19T19:32:03.229Z"
      },
      {
        "duration": 391,
        "start_time": "2022-12-19T19:32:03.260Z"
      },
      {
        "duration": 421,
        "start_time": "2022-12-19T19:32:03.652Z"
      },
      {
        "duration": 6,
        "start_time": "2022-12-19T19:32:04.075Z"
      },
      {
        "duration": 23,
        "start_time": "2022-12-19T19:32:04.083Z"
      },
      {
        "duration": 157,
        "start_time": "2022-12-19T19:32:04.107Z"
      },
      {
        "duration": 158,
        "start_time": "2022-12-19T19:32:04.266Z"
      },
      {
        "duration": 6,
        "start_time": "2022-12-19T19:32:04.426Z"
      },
      {
        "duration": 24,
        "start_time": "2022-12-19T19:32:04.434Z"
      },
      {
        "duration": 51,
        "start_time": "2022-12-19T19:32:04.459Z"
      },
      {
        "duration": 6,
        "start_time": "2022-12-19T19:32:04.514Z"
      },
      {
        "duration": 16,
        "start_time": "2022-12-19T19:32:04.522Z"
      },
      {
        "duration": 63,
        "start_time": "2022-12-19T19:32:04.540Z"
      },
      {
        "duration": 10,
        "start_time": "2022-12-19T19:32:04.604Z"
      },
      {
        "duration": 28,
        "start_time": "2022-12-19T19:32:04.616Z"
      },
      {
        "duration": 104,
        "start_time": "2022-12-19T19:32:04.646Z"
      },
      {
        "duration": 5,
        "start_time": "2022-12-19T19:32:04.752Z"
      },
      {
        "duration": 10,
        "start_time": "2022-12-19T19:32:04.759Z"
      },
      {
        "duration": 27,
        "start_time": "2022-12-19T19:32:04.771Z"
      },
      {
        "duration": 38,
        "start_time": "2022-12-19T19:32:04.800Z"
      },
      {
        "duration": 21,
        "start_time": "2022-12-19T19:32:04.840Z"
      },
      {
        "duration": 23,
        "start_time": "2022-12-19T19:32:04.862Z"
      },
      {
        "duration": 5,
        "start_time": "2022-12-19T19:32:04.886Z"
      },
      {
        "duration": 46,
        "start_time": "2022-12-19T19:32:04.892Z"
      },
      {
        "duration": 5,
        "start_time": "2022-12-19T19:32:04.940Z"
      },
      {
        "duration": 18,
        "start_time": "2022-12-19T19:32:04.947Z"
      },
      {
        "duration": 4,
        "start_time": "2022-12-19T19:32:04.967Z"
      },
      {
        "duration": 15,
        "start_time": "2022-12-19T19:32:04.973Z"
      },
      {
        "duration": 5,
        "start_time": "2022-12-19T19:32:04.990Z"
      },
      {
        "duration": 6,
        "start_time": "2022-12-19T19:32:04.997Z"
      },
      {
        "duration": 71,
        "start_time": "2022-12-19T19:32:05.004Z"
      },
      {
        "duration": 8,
        "start_time": "2022-12-19T19:32:05.077Z"
      },
      {
        "duration": 7,
        "start_time": "2022-12-19T19:32:05.087Z"
      },
      {
        "duration": 3,
        "start_time": "2022-12-19T19:32:05.096Z"
      },
      {
        "duration": 9,
        "start_time": "2022-12-19T19:32:05.100Z"
      },
      {
        "duration": 9,
        "start_time": "2022-12-19T19:32:05.137Z"
      },
      {
        "duration": 4,
        "start_time": "2022-12-19T19:32:05.148Z"
      },
      {
        "duration": 9,
        "start_time": "2022-12-19T19:32:05.155Z"
      },
      {
        "duration": 6,
        "start_time": "2022-12-19T19:32:05.165Z"
      },
      {
        "duration": 71,
        "start_time": "2022-12-19T19:32:05.172Z"
      },
      {
        "duration": 897,
        "start_time": "2022-12-19T19:32:05.245Z"
      },
      {
        "duration": 262,
        "start_time": "2022-12-19T19:32:06.144Z"
      },
      {
        "duration": 321,
        "start_time": "2022-12-19T19:32:06.408Z"
      },
      {
        "duration": 300,
        "start_time": "2022-12-19T19:32:06.731Z"
      },
      {
        "duration": 263,
        "start_time": "2022-12-19T19:32:07.037Z"
      },
      {
        "duration": 224,
        "start_time": "2022-12-19T19:32:07.302Z"
      },
      {
        "duration": 333,
        "start_time": "2022-12-19T19:32:07.528Z"
      },
      {
        "duration": 240,
        "start_time": "2022-12-19T19:32:07.864Z"
      },
      {
        "duration": 3,
        "start_time": "2022-12-19T19:32:08.106Z"
      },
      {
        "duration": 5,
        "start_time": "2022-12-19T19:32:08.111Z"
      },
      {
        "duration": 5,
        "start_time": "2022-12-19T19:32:08.118Z"
      },
      {
        "duration": 25,
        "start_time": "2022-12-19T19:42:27.047Z"
      },
      {
        "duration": 8,
        "start_time": "2022-12-19T19:43:26.668Z"
      },
      {
        "duration": 21,
        "start_time": "2022-12-19T19:43:58.096Z"
      },
      {
        "duration": 4,
        "start_time": "2022-12-19T19:44:25.898Z"
      },
      {
        "duration": 24,
        "start_time": "2022-12-19T19:44:39.714Z"
      },
      {
        "duration": 5,
        "start_time": "2022-12-19T19:44:57.712Z"
      },
      {
        "duration": 106,
        "start_time": "2022-12-19T20:13:42.504Z"
      },
      {
        "duration": 10,
        "start_time": "2022-12-19T20:14:03.623Z"
      },
      {
        "duration": 446,
        "start_time": "2022-12-19T20:14:12.615Z"
      },
      {
        "duration": 171,
        "start_time": "2022-12-19T20:14:13.063Z"
      },
      {
        "duration": 7,
        "start_time": "2022-12-19T20:14:13.238Z"
      },
      {
        "duration": 34,
        "start_time": "2022-12-19T20:14:13.246Z"
      },
      {
        "duration": 399,
        "start_time": "2022-12-19T20:14:13.283Z"
      },
      {
        "duration": 138,
        "start_time": "2022-12-19T20:14:13.684Z"
      },
      {
        "duration": 7,
        "start_time": "2022-12-19T20:14:13.824Z"
      },
      {
        "duration": 32,
        "start_time": "2022-12-19T20:14:13.833Z"
      },
      {
        "duration": 159,
        "start_time": "2022-12-19T20:14:13.868Z"
      },
      {
        "duration": 106,
        "start_time": "2022-12-19T20:14:14.028Z"
      },
      {
        "duration": 8,
        "start_time": "2022-12-19T20:14:14.136Z"
      },
      {
        "duration": 40,
        "start_time": "2022-12-19T20:14:14.146Z"
      },
      {
        "duration": 28,
        "start_time": "2022-12-19T20:14:14.188Z"
      },
      {
        "duration": 8,
        "start_time": "2022-12-19T20:14:14.221Z"
      },
      {
        "duration": 30,
        "start_time": "2022-12-19T20:14:14.230Z"
      },
      {
        "duration": 41,
        "start_time": "2022-12-19T20:14:14.262Z"
      },
      {
        "duration": 7,
        "start_time": "2022-12-19T20:14:14.304Z"
      },
      {
        "duration": 23,
        "start_time": "2022-12-19T20:14:14.312Z"
      },
      {
        "duration": 83,
        "start_time": "2022-12-19T20:14:14.337Z"
      },
      {
        "duration": 6,
        "start_time": "2022-12-19T20:14:14.422Z"
      },
      {
        "duration": 19,
        "start_time": "2022-12-19T20:14:14.430Z"
      },
      {
        "duration": 31,
        "start_time": "2022-12-19T20:14:14.451Z"
      },
      {
        "duration": 18,
        "start_time": "2022-12-19T20:14:14.483Z"
      },
      {
        "duration": 20,
        "start_time": "2022-12-19T20:14:14.502Z"
      },
      {
        "duration": 36,
        "start_time": "2022-12-19T20:14:14.524Z"
      },
      {
        "duration": 6,
        "start_time": "2022-12-19T20:14:14.562Z"
      },
      {
        "duration": 29,
        "start_time": "2022-12-19T20:14:14.569Z"
      },
      {
        "duration": 5,
        "start_time": "2022-12-19T20:14:14.600Z"
      },
      {
        "duration": 43,
        "start_time": "2022-12-19T20:14:14.606Z"
      },
      {
        "duration": 10,
        "start_time": "2022-12-19T20:14:14.651Z"
      },
      {
        "duration": 25,
        "start_time": "2022-12-19T20:14:14.663Z"
      },
      {
        "duration": 5,
        "start_time": "2022-12-19T20:14:14.690Z"
      },
      {
        "duration": 22,
        "start_time": "2022-12-19T20:14:14.697Z"
      },
      {
        "duration": 42,
        "start_time": "2022-12-19T20:14:14.721Z"
      },
      {
        "duration": 8,
        "start_time": "2022-12-19T20:14:14.765Z"
      },
      {
        "duration": 10,
        "start_time": "2022-12-19T20:14:14.775Z"
      },
      {
        "duration": 9,
        "start_time": "2022-12-19T20:14:14.786Z"
      },
      {
        "duration": 20,
        "start_time": "2022-12-19T20:14:14.796Z"
      },
      {
        "duration": 12,
        "start_time": "2022-12-19T20:14:14.817Z"
      },
      {
        "duration": 5,
        "start_time": "2022-12-19T20:14:14.842Z"
      },
      {
        "duration": 15,
        "start_time": "2022-12-19T20:14:14.851Z"
      },
      {
        "duration": 15,
        "start_time": "2022-12-19T20:14:14.869Z"
      },
      {
        "duration": 59,
        "start_time": "2022-12-19T20:14:14.886Z"
      },
      {
        "duration": 862,
        "start_time": "2022-12-19T20:14:14.947Z"
      },
      {
        "duration": 263,
        "start_time": "2022-12-19T20:14:15.811Z"
      },
      {
        "duration": 321,
        "start_time": "2022-12-19T20:14:16.076Z"
      },
      {
        "duration": 329,
        "start_time": "2022-12-19T20:14:16.398Z"
      },
      {
        "duration": 273,
        "start_time": "2022-12-19T20:14:16.729Z"
      },
      {
        "duration": 213,
        "start_time": "2022-12-19T20:14:17.004Z"
      },
      {
        "duration": 320,
        "start_time": "2022-12-19T20:14:17.219Z"
      },
      {
        "duration": 230,
        "start_time": "2022-12-19T20:14:17.540Z"
      },
      {
        "duration": 3,
        "start_time": "2022-12-19T20:14:17.772Z"
      },
      {
        "duration": 118,
        "start_time": "2022-12-19T20:14:17.776Z"
      },
      {
        "duration": 0,
        "start_time": "2022-12-19T20:14:17.896Z"
      },
      {
        "duration": 9,
        "start_time": "2022-12-19T20:15:22.684Z"
      },
      {
        "duration": 10,
        "start_time": "2022-12-19T20:18:38.140Z"
      },
      {
        "duration": 70,
        "start_time": "2022-12-19T20:20:12.750Z"
      },
      {
        "duration": 76,
        "start_time": "2022-12-19T20:20:28.448Z"
      },
      {
        "duration": 36,
        "start_time": "2022-12-19T20:23:18.561Z"
      },
      {
        "duration": 32,
        "start_time": "2022-12-19T20:24:26.674Z"
      },
      {
        "duration": 6,
        "start_time": "2022-12-19T20:24:51.973Z"
      },
      {
        "duration": 7,
        "start_time": "2022-12-19T20:26:15.001Z"
      },
      {
        "duration": 7,
        "start_time": "2022-12-19T20:26:50.146Z"
      },
      {
        "duration": 7,
        "start_time": "2022-12-19T20:30:39.246Z"
      },
      {
        "duration": 6,
        "start_time": "2022-12-19T20:31:17.620Z"
      },
      {
        "duration": 8,
        "start_time": "2022-12-19T20:31:20.837Z"
      },
      {
        "duration": 127,
        "start_time": "2022-12-19T20:32:31.506Z"
      },
      {
        "duration": 9,
        "start_time": "2022-12-19T20:35:11.639Z"
      },
      {
        "duration": 36,
        "start_time": "2022-12-19T20:36:54.474Z"
      },
      {
        "duration": 33,
        "start_time": "2022-12-19T20:37:41.245Z"
      },
      {
        "duration": 7,
        "start_time": "2022-12-19T20:38:02.638Z"
      },
      {
        "duration": 7,
        "start_time": "2022-12-19T20:38:07.754Z"
      },
      {
        "duration": 8,
        "start_time": "2022-12-19T20:41:44.142Z"
      },
      {
        "duration": 5,
        "start_time": "2022-12-19T20:42:49.006Z"
      },
      {
        "duration": 5,
        "start_time": "2022-12-19T20:43:29.295Z"
      },
      {
        "duration": 9,
        "start_time": "2022-12-19T20:43:37.575Z"
      },
      {
        "duration": 4,
        "start_time": "2022-12-19T20:43:50.698Z"
      },
      {
        "duration": 36,
        "start_time": "2022-12-19T20:43:58.545Z"
      },
      {
        "duration": 6,
        "start_time": "2022-12-19T20:44:14.313Z"
      },
      {
        "duration": 6,
        "start_time": "2022-12-19T20:44:18.917Z"
      },
      {
        "duration": 58,
        "start_time": "2022-12-20T07:40:07.500Z"
      },
      {
        "duration": 444,
        "start_time": "2022-12-20T07:40:23.801Z"
      },
      {
        "duration": 225,
        "start_time": "2022-12-20T07:40:24.248Z"
      },
      {
        "duration": 7,
        "start_time": "2022-12-20T07:40:24.475Z"
      },
      {
        "duration": 29,
        "start_time": "2022-12-20T07:40:24.484Z"
      },
      {
        "duration": 551,
        "start_time": "2022-12-20T07:40:24.515Z"
      },
      {
        "duration": 530,
        "start_time": "2022-12-20T07:40:25.067Z"
      },
      {
        "duration": 7,
        "start_time": "2022-12-20T07:40:25.599Z"
      },
      {
        "duration": 34,
        "start_time": "2022-12-20T07:40:25.608Z"
      },
      {
        "duration": 139,
        "start_time": "2022-12-20T07:40:25.644Z"
      },
      {
        "duration": 300,
        "start_time": "2022-12-20T07:40:25.784Z"
      },
      {
        "duration": 6,
        "start_time": "2022-12-20T07:40:26.085Z"
      },
      {
        "duration": 34,
        "start_time": "2022-12-20T07:40:26.093Z"
      },
      {
        "duration": 71,
        "start_time": "2022-12-20T07:40:26.129Z"
      },
      {
        "duration": 4,
        "start_time": "2022-12-20T07:40:26.204Z"
      },
      {
        "duration": 13,
        "start_time": "2022-12-20T07:40:26.209Z"
      },
      {
        "duration": 67,
        "start_time": "2022-12-20T07:40:26.223Z"
      },
      {
        "duration": 7,
        "start_time": "2022-12-20T07:40:26.291Z"
      },
      {
        "duration": 15,
        "start_time": "2022-12-20T07:40:26.299Z"
      },
      {
        "duration": 78,
        "start_time": "2022-12-20T07:40:26.316Z"
      },
      {
        "duration": 6,
        "start_time": "2022-12-20T07:40:26.395Z"
      },
      {
        "duration": 20,
        "start_time": "2022-12-20T07:40:26.402Z"
      },
      {
        "duration": 32,
        "start_time": "2022-12-20T07:40:26.425Z"
      },
      {
        "duration": 15,
        "start_time": "2022-12-20T07:40:26.459Z"
      },
      {
        "duration": 19,
        "start_time": "2022-12-20T07:40:26.475Z"
      },
      {
        "duration": 52,
        "start_time": "2022-12-20T07:40:26.496Z"
      },
      {
        "duration": 5,
        "start_time": "2022-12-20T07:40:26.550Z"
      },
      {
        "duration": 28,
        "start_time": "2022-12-20T07:40:26.556Z"
      },
      {
        "duration": 5,
        "start_time": "2022-12-20T07:40:26.585Z"
      },
      {
        "duration": 40,
        "start_time": "2022-12-20T07:40:26.592Z"
      },
      {
        "duration": 7,
        "start_time": "2022-12-20T07:40:26.634Z"
      },
      {
        "duration": 20,
        "start_time": "2022-12-20T07:40:26.643Z"
      },
      {
        "duration": 5,
        "start_time": "2022-12-20T07:40:26.664Z"
      },
      {
        "duration": 6,
        "start_time": "2022-12-20T07:40:26.671Z"
      },
      {
        "duration": 115,
        "start_time": "2022-12-20T07:40:26.678Z"
      },
      {
        "duration": 7,
        "start_time": "2022-12-20T07:40:26.794Z"
      },
      {
        "duration": 5,
        "start_time": "2022-12-20T07:40:26.803Z"
      },
      {
        "duration": 11,
        "start_time": "2022-12-20T07:40:26.810Z"
      },
      {
        "duration": 9,
        "start_time": "2022-12-20T07:40:26.823Z"
      },
      {
        "duration": 18,
        "start_time": "2022-12-20T07:40:26.833Z"
      },
      {
        "duration": 4,
        "start_time": "2022-12-20T07:40:26.853Z"
      },
      {
        "duration": 6,
        "start_time": "2022-12-20T07:40:26.861Z"
      },
      {
        "duration": 6,
        "start_time": "2022-12-20T07:40:26.868Z"
      },
      {
        "duration": 75,
        "start_time": "2022-12-20T07:40:26.875Z"
      },
      {
        "duration": 758,
        "start_time": "2022-12-20T07:40:26.952Z"
      },
      {
        "duration": 260,
        "start_time": "2022-12-20T07:40:27.712Z"
      },
      {
        "duration": 375,
        "start_time": "2022-12-20T07:40:27.974Z"
      },
      {
        "duration": 226,
        "start_time": "2022-12-20T07:40:28.350Z"
      },
      {
        "duration": 275,
        "start_time": "2022-12-20T07:40:28.578Z"
      },
      {
        "duration": 220,
        "start_time": "2022-12-20T07:40:28.855Z"
      },
      {
        "duration": 316,
        "start_time": "2022-12-20T07:40:29.076Z"
      },
      {
        "duration": 221,
        "start_time": "2022-12-20T07:40:29.393Z"
      },
      {
        "duration": 6,
        "start_time": "2022-12-20T07:40:29.616Z"
      },
      {
        "duration": 11,
        "start_time": "2022-12-20T07:40:29.624Z"
      },
      {
        "duration": 10,
        "start_time": "2022-12-20T07:40:29.637Z"
      }
    ],
    "kernelspec": {
      "display_name": "Python 3 (ipykernel)",
      "language": "python",
      "name": "python3"
    },
    "language_info": {
      "codemirror_mode": {
        "name": "ipython",
        "version": 3
      },
      "file_extension": ".py",
      "mimetype": "text/x-python",
      "name": "python",
      "nbconvert_exporter": "python",
      "pygments_lexer": "ipython3",
      "version": "3.9.5"
    },
    "toc": {
      "base_numbering": 1,
      "nav_menu": {},
      "number_sections": true,
      "sideBar": true,
      "skip_h1_title": true,
      "title_cell": "Table of Contents",
      "title_sidebar": "Contents",
      "toc_cell": false,
      "toc_position": {},
      "toc_section_display": true,
      "toc_window_display": false
    },
    "colab": {
      "provenance": []
    }
  },
  "nbformat": 4,
  "nbformat_minor": 0
}