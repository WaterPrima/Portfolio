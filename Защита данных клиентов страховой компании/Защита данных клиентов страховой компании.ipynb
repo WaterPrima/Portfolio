{
  "cells": [
    {
      "cell_type": "markdown",
      "metadata": {
        "id": "wCuUqXy41Tmq"
      },
      "source": [
        "# Защита персональных данных клиентов\n",
        "Необходимо защитить данные клиентов страховой компании «Хоть потоп»: разработать такой метод преобразования данных, чтобы по ним было сложно восстановить персональную информацию.\n",
        "+ обосновать корректность его работы,\n",
        "+ сделать это так чтобы при преобразовании качество моделей машинного обучения не ухудшилось.\n",
        "\n",
        "Подбирать наилучшую модель не будем. Работаем только с линейной регрессией."
      ]
    },
    {
      "cell_type": "markdown",
      "metadata": {
        "id": "-OAhQao-1Tmq"
      },
      "source": [
        "# План проекта\n",
        "\n",
        "**Загрузка и подготовка данных:**\n",
        "* Импорт библиотек;\n",
        "* Получение общей информации (head, info, describe);\n",
        "* Чтение датасета, поиск пустых значений, удаление дубликатов;\n",
        "* Изучение коррелляции данных;\n",
        "* Разделение датасета на признаки и целевой признак;\n",
        "\n",
        "**Анализ данных:**\n",
        "* Визуализация данных;\n",
        "* Портрет клиента.\n",
        "\n",
        "**Умножение матриц:**\n",
        "* Алгоритм преобразования;\n",
        "* Проверка алгоритма.\n",
        "\n",
        "**Итоги работы**"
      ]
    },
    {
      "cell_type": "markdown",
      "metadata": {
        "id": "cuMh80M61Tmq"
      },
      "source": [
        "## Загрузка и подготовка данных"
      ]
    },
    {
      "cell_type": "code",
      "execution_count": 1,
      "metadata": {
        "id": "Ib9E336b1Tmr"
      },
      "outputs": [],
      "source": [
        "import numpy as np\n",
        "from numpy import linalg as LA\n",
        "\n",
        "import pandas as pd\n",
        "\n",
        "from sklearn.model_selection import train_test_split\n",
        "from sklearn.metrics import r2_score\n",
        "from sklearn.linear_model import LinearRegression\n",
        "\n",
        "import matplotlib.pyplot as plt\n",
        "import seaborn as sns\n"
      ]
    },
    {
      "cell_type": "code",
      "execution_count": 2,
      "metadata": {
        "colab": {
          "base_uri": "https://localhost:8080/",
          "height": 143
        },
        "id": "7s8EWQRm1Tms",
        "outputId": "f39cc824-02a6-4e9c-e703-18a7f3a70bc7"
      },
      "outputs": [
        {
          "output_type": "display_data",
          "data": {
            "text/plain": [
              "   Пол  Возраст  Зарплата  Члены семьи  Страховые выплаты\n",
              "0    1     41.0   49600.0            1                  0\n",
              "1    0     46.0   38000.0            1                  1\n",
              "2    0     29.0   21000.0            0                  0"
            ],
            "text/html": [
              "\n",
              "\n",
              "  <div id=\"df-c4debb96-eced-437d-b97d-9de79b46ac5a\">\n",
              "    <div class=\"colab-df-container\">\n",
              "      <div>\n",
              "<style scoped>\n",
              "    .dataframe tbody tr th:only-of-type {\n",
              "        vertical-align: middle;\n",
              "    }\n",
              "\n",
              "    .dataframe tbody tr th {\n",
              "        vertical-align: top;\n",
              "    }\n",
              "\n",
              "    .dataframe thead th {\n",
              "        text-align: right;\n",
              "    }\n",
              "</style>\n",
              "<table border=\"1\" class=\"dataframe\">\n",
              "  <thead>\n",
              "    <tr style=\"text-align: right;\">\n",
              "      <th></th>\n",
              "      <th>Пол</th>\n",
              "      <th>Возраст</th>\n",
              "      <th>Зарплата</th>\n",
              "      <th>Члены семьи</th>\n",
              "      <th>Страховые выплаты</th>\n",
              "    </tr>\n",
              "  </thead>\n",
              "  <tbody>\n",
              "    <tr>\n",
              "      <th>0</th>\n",
              "      <td>1</td>\n",
              "      <td>41.0</td>\n",
              "      <td>49600.0</td>\n",
              "      <td>1</td>\n",
              "      <td>0</td>\n",
              "    </tr>\n",
              "    <tr>\n",
              "      <th>1</th>\n",
              "      <td>0</td>\n",
              "      <td>46.0</td>\n",
              "      <td>38000.0</td>\n",
              "      <td>1</td>\n",
              "      <td>1</td>\n",
              "    </tr>\n",
              "    <tr>\n",
              "      <th>2</th>\n",
              "      <td>0</td>\n",
              "      <td>29.0</td>\n",
              "      <td>21000.0</td>\n",
              "      <td>0</td>\n",
              "      <td>0</td>\n",
              "    </tr>\n",
              "  </tbody>\n",
              "</table>\n",
              "</div>\n",
              "      <button class=\"colab-df-convert\" onclick=\"convertToInteractive('df-c4debb96-eced-437d-b97d-9de79b46ac5a')\"\n",
              "              title=\"Convert this dataframe to an interactive table.\"\n",
              "              style=\"display:none;\">\n",
              "\n",
              "  <svg xmlns=\"http://www.w3.org/2000/svg\" height=\"24px\"viewBox=\"0 0 24 24\"\n",
              "       width=\"24px\">\n",
              "    <path d=\"M0 0h24v24H0V0z\" fill=\"none\"/>\n",
              "    <path d=\"M18.56 5.44l.94 2.06.94-2.06 2.06-.94-2.06-.94-.94-2.06-.94 2.06-2.06.94zm-11 1L8.5 8.5l.94-2.06 2.06-.94-2.06-.94L8.5 2.5l-.94 2.06-2.06.94zm10 10l.94 2.06.94-2.06 2.06-.94-2.06-.94-.94-2.06-.94 2.06-2.06.94z\"/><path d=\"M17.41 7.96l-1.37-1.37c-.4-.4-.92-.59-1.43-.59-.52 0-1.04.2-1.43.59L10.3 9.45l-7.72 7.72c-.78.78-.78 2.05 0 2.83L4 21.41c.39.39.9.59 1.41.59.51 0 1.02-.2 1.41-.59l7.78-7.78 2.81-2.81c.8-.78.8-2.07 0-2.86zM5.41 20L4 18.59l7.72-7.72 1.47 1.35L5.41 20z\"/>\n",
              "  </svg>\n",
              "      </button>\n",
              "\n",
              "\n",
              "\n",
              "    <div id=\"df-01ee388d-7eb7-4760-b476-1ea4ede43d98\">\n",
              "      <button class=\"colab-df-quickchart\" onclick=\"quickchart('df-01ee388d-7eb7-4760-b476-1ea4ede43d98')\"\n",
              "              title=\"Suggest charts.\"\n",
              "              style=\"display:none;\">\n",
              "\n",
              "<svg xmlns=\"http://www.w3.org/2000/svg\" height=\"24px\"viewBox=\"0 0 24 24\"\n",
              "     width=\"24px\">\n",
              "    <g>\n",
              "        <path d=\"M19 3H5c-1.1 0-2 .9-2 2v14c0 1.1.9 2 2 2h14c1.1 0 2-.9 2-2V5c0-1.1-.9-2-2-2zM9 17H7v-7h2v7zm4 0h-2V7h2v10zm4 0h-2v-4h2v4z\"/>\n",
              "    </g>\n",
              "</svg>\n",
              "      </button>\n",
              "    </div>\n",
              "\n",
              "<style>\n",
              "  .colab-df-quickchart {\n",
              "    background-color: #E8F0FE;\n",
              "    border: none;\n",
              "    border-radius: 50%;\n",
              "    cursor: pointer;\n",
              "    display: none;\n",
              "    fill: #1967D2;\n",
              "    height: 32px;\n",
              "    padding: 0 0 0 0;\n",
              "    width: 32px;\n",
              "  }\n",
              "\n",
              "  .colab-df-quickchart:hover {\n",
              "    background-color: #E2EBFA;\n",
              "    box-shadow: 0px 1px 2px rgba(60, 64, 67, 0.3), 0px 1px 3px 1px rgba(60, 64, 67, 0.15);\n",
              "    fill: #174EA6;\n",
              "  }\n",
              "\n",
              "  [theme=dark] .colab-df-quickchart {\n",
              "    background-color: #3B4455;\n",
              "    fill: #D2E3FC;\n",
              "  }\n",
              "\n",
              "  [theme=dark] .colab-df-quickchart:hover {\n",
              "    background-color: #434B5C;\n",
              "    box-shadow: 0px 1px 3px 1px rgba(0, 0, 0, 0.15);\n",
              "    filter: drop-shadow(0px 1px 2px rgba(0, 0, 0, 0.3));\n",
              "    fill: #FFFFFF;\n",
              "  }\n",
              "</style>\n",
              "\n",
              "    <script>\n",
              "      async function quickchart(key) {\n",
              "        const containerElement = document.querySelector('#' + key);\n",
              "        const charts = await google.colab.kernel.invokeFunction(\n",
              "            'suggestCharts', [key], {});\n",
              "      }\n",
              "    </script>\n",
              "\n",
              "      <script>\n",
              "\n",
              "function displayQuickchartButton(domScope) {\n",
              "  let quickchartButtonEl =\n",
              "    domScope.querySelector('#df-01ee388d-7eb7-4760-b476-1ea4ede43d98 button.colab-df-quickchart');\n",
              "  quickchartButtonEl.style.display =\n",
              "    google.colab.kernel.accessAllowed ? 'block' : 'none';\n",
              "}\n",
              "\n",
              "        displayQuickchartButton(document);\n",
              "      </script>\n",
              "      <style>\n",
              "    .colab-df-container {\n",
              "      display:flex;\n",
              "      flex-wrap:wrap;\n",
              "      gap: 12px;\n",
              "    }\n",
              "\n",
              "    .colab-df-convert {\n",
              "      background-color: #E8F0FE;\n",
              "      border: none;\n",
              "      border-radius: 50%;\n",
              "      cursor: pointer;\n",
              "      display: none;\n",
              "      fill: #1967D2;\n",
              "      height: 32px;\n",
              "      padding: 0 0 0 0;\n",
              "      width: 32px;\n",
              "    }\n",
              "\n",
              "    .colab-df-convert:hover {\n",
              "      background-color: #E2EBFA;\n",
              "      box-shadow: 0px 1px 2px rgba(60, 64, 67, 0.3), 0px 1px 3px 1px rgba(60, 64, 67, 0.15);\n",
              "      fill: #174EA6;\n",
              "    }\n",
              "\n",
              "    [theme=dark] .colab-df-convert {\n",
              "      background-color: #3B4455;\n",
              "      fill: #D2E3FC;\n",
              "    }\n",
              "\n",
              "    [theme=dark] .colab-df-convert:hover {\n",
              "      background-color: #434B5C;\n",
              "      box-shadow: 0px 1px 3px 1px rgba(0, 0, 0, 0.15);\n",
              "      filter: drop-shadow(0px 1px 2px rgba(0, 0, 0, 0.3));\n",
              "      fill: #FFFFFF;\n",
              "    }\n",
              "  </style>\n",
              "\n",
              "      <script>\n",
              "        const buttonEl =\n",
              "          document.querySelector('#df-c4debb96-eced-437d-b97d-9de79b46ac5a button.colab-df-convert');\n",
              "        buttonEl.style.display =\n",
              "          google.colab.kernel.accessAllowed ? 'block' : 'none';\n",
              "\n",
              "        async function convertToInteractive(key) {\n",
              "          const element = document.querySelector('#df-c4debb96-eced-437d-b97d-9de79b46ac5a');\n",
              "          const dataTable =\n",
              "            await google.colab.kernel.invokeFunction('convertToInteractive',\n",
              "                                                     [key], {});\n",
              "          if (!dataTable) return;\n",
              "\n",
              "          const docLinkHtml = 'Like what you see? Visit the ' +\n",
              "            '<a target=\"_blank\" href=https://colab.research.google.com/notebooks/data_table.ipynb>data table notebook</a>'\n",
              "            + ' to learn more about interactive tables.';\n",
              "          element.innerHTML = '';\n",
              "          dataTable['output_type'] = 'display_data';\n",
              "          await google.colab.output.renderOutput(dataTable, element);\n",
              "          const docLink = document.createElement('div');\n",
              "          docLink.innerHTML = docLinkHtml;\n",
              "          element.appendChild(docLink);\n",
              "        }\n",
              "      </script>\n",
              "    </div>\n",
              "  </div>\n"
            ]
          },
          "metadata": {}
        }
      ],
      "source": [
        "data = pd.read_csv('/content/insurance.csv')\n",
        "display(data.head(3))"
      ]
    },
    {
      "cell_type": "code",
      "execution_count": 3,
      "metadata": {
        "colab": {
          "base_uri": "https://localhost:8080/"
        },
        "id": "FDFlFZUY1Tmt",
        "outputId": "e7992dde-cf9e-4109-fd6f-605ef674df49"
      },
      "outputs": [
        {
          "output_type": "execute_result",
          "data": {
            "text/plain": [
              "Пол                  0\n",
              "Возраст              0\n",
              "Зарплата             0\n",
              "Члены семьи          0\n",
              "Страховые выплаты    0\n",
              "dtype: int64"
            ]
          },
          "metadata": {},
          "execution_count": 3
        }
      ],
      "source": [
        "data.isna().sum()"
      ]
    },
    {
      "cell_type": "code",
      "execution_count": 4,
      "metadata": {
        "colab": {
          "base_uri": "https://localhost:8080/"
        },
        "id": "666vizgc1Tmu",
        "outputId": "db1894aa-fd9c-497a-9074-8e1511d74150"
      },
      "outputs": [
        {
          "output_type": "stream",
          "name": "stdout",
          "text": [
            "<class 'pandas.core.frame.DataFrame'>\n",
            "RangeIndex: 5000 entries, 0 to 4999\n",
            "Data columns (total 5 columns):\n",
            " #   Column             Non-Null Count  Dtype  \n",
            "---  ------             --------------  -----  \n",
            " 0   Пол                5000 non-null   int64  \n",
            " 1   Возраст            5000 non-null   float64\n",
            " 2   Зарплата           5000 non-null   float64\n",
            " 3   Члены семьи        5000 non-null   int64  \n",
            " 4   Страховые выплаты  5000 non-null   int64  \n",
            "dtypes: float64(2), int64(3)\n",
            "memory usage: 195.4 KB\n"
          ]
        }
      ],
      "source": [
        "data.info()"
      ]
    },
    {
      "cell_type": "code",
      "execution_count": 5,
      "metadata": {
        "id": "-ibK9mKD1Tmu"
      },
      "outputs": [],
      "source": [
        "data[['Возраст', 'Зарплата']] = data[['Возраст', 'Зарплата']].astype(int)\n",
        "#data.info()"
      ]
    },
    {
      "cell_type": "code",
      "execution_count": 6,
      "metadata": {
        "colab": {
          "base_uri": "https://localhost:8080/",
          "height": 34
        },
        "id": "WcurBb331Tmu",
        "outputId": "fca1851c-f232-4c70-dfb9-5d58197d4ffd"
      },
      "outputs": [
        {
          "output_type": "display_data",
          "data": {
            "text/plain": [
              "153"
            ]
          },
          "metadata": {}
        }
      ],
      "source": [
        "display(data.duplicated().sum())"
      ]
    },
    {
      "cell_type": "code",
      "execution_count": 7,
      "metadata": {
        "colab": {
          "base_uri": "https://localhost:8080/",
          "height": 300
        },
        "id": "v6_DLiR71Tmu",
        "outputId": "abefd9f0-91c7-4831-e6c7-f42151d805d9"
      },
      "outputs": [
        {
          "output_type": "execute_result",
          "data": {
            "text/plain": [
              "               Пол      Возраст      Зарплата  Члены семьи  Страховые выплаты\n",
              "count  5000.000000  5000.000000   5000.000000  5000.000000        5000.000000\n",
              "mean      0.499000    30.952800  39916.359400     1.194200           0.148000\n",
              "std       0.500049     8.440807   9900.082063     1.091387           0.463183\n",
              "min       0.000000    18.000000   5300.000000     0.000000           0.000000\n",
              "25%       0.000000    24.000000  33300.000000     0.000000           0.000000\n",
              "50%       0.000000    30.000000  40200.000000     1.000000           0.000000\n",
              "75%       1.000000    37.000000  46600.000000     2.000000           0.000000\n",
              "max       1.000000    65.000000  79000.000000     6.000000           5.000000"
            ],
            "text/html": [
              "\n",
              "\n",
              "  <div id=\"df-6704bfcf-0a54-4795-9581-2e460fcab64c\">\n",
              "    <div class=\"colab-df-container\">\n",
              "      <div>\n",
              "<style scoped>\n",
              "    .dataframe tbody tr th:only-of-type {\n",
              "        vertical-align: middle;\n",
              "    }\n",
              "\n",
              "    .dataframe tbody tr th {\n",
              "        vertical-align: top;\n",
              "    }\n",
              "\n",
              "    .dataframe thead th {\n",
              "        text-align: right;\n",
              "    }\n",
              "</style>\n",
              "<table border=\"1\" class=\"dataframe\">\n",
              "  <thead>\n",
              "    <tr style=\"text-align: right;\">\n",
              "      <th></th>\n",
              "      <th>Пол</th>\n",
              "      <th>Возраст</th>\n",
              "      <th>Зарплата</th>\n",
              "      <th>Члены семьи</th>\n",
              "      <th>Страховые выплаты</th>\n",
              "    </tr>\n",
              "  </thead>\n",
              "  <tbody>\n",
              "    <tr>\n",
              "      <th>count</th>\n",
              "      <td>5000.000000</td>\n",
              "      <td>5000.000000</td>\n",
              "      <td>5000.000000</td>\n",
              "      <td>5000.000000</td>\n",
              "      <td>5000.000000</td>\n",
              "    </tr>\n",
              "    <tr>\n",
              "      <th>mean</th>\n",
              "      <td>0.499000</td>\n",
              "      <td>30.952800</td>\n",
              "      <td>39916.359400</td>\n",
              "      <td>1.194200</td>\n",
              "      <td>0.148000</td>\n",
              "    </tr>\n",
              "    <tr>\n",
              "      <th>std</th>\n",
              "      <td>0.500049</td>\n",
              "      <td>8.440807</td>\n",
              "      <td>9900.082063</td>\n",
              "      <td>1.091387</td>\n",
              "      <td>0.463183</td>\n",
              "    </tr>\n",
              "    <tr>\n",
              "      <th>min</th>\n",
              "      <td>0.000000</td>\n",
              "      <td>18.000000</td>\n",
              "      <td>5300.000000</td>\n",
              "      <td>0.000000</td>\n",
              "      <td>0.000000</td>\n",
              "    </tr>\n",
              "    <tr>\n",
              "      <th>25%</th>\n",
              "      <td>0.000000</td>\n",
              "      <td>24.000000</td>\n",
              "      <td>33300.000000</td>\n",
              "      <td>0.000000</td>\n",
              "      <td>0.000000</td>\n",
              "    </tr>\n",
              "    <tr>\n",
              "      <th>50%</th>\n",
              "      <td>0.000000</td>\n",
              "      <td>30.000000</td>\n",
              "      <td>40200.000000</td>\n",
              "      <td>1.000000</td>\n",
              "      <td>0.000000</td>\n",
              "    </tr>\n",
              "    <tr>\n",
              "      <th>75%</th>\n",
              "      <td>1.000000</td>\n",
              "      <td>37.000000</td>\n",
              "      <td>46600.000000</td>\n",
              "      <td>2.000000</td>\n",
              "      <td>0.000000</td>\n",
              "    </tr>\n",
              "    <tr>\n",
              "      <th>max</th>\n",
              "      <td>1.000000</td>\n",
              "      <td>65.000000</td>\n",
              "      <td>79000.000000</td>\n",
              "      <td>6.000000</td>\n",
              "      <td>5.000000</td>\n",
              "    </tr>\n",
              "  </tbody>\n",
              "</table>\n",
              "</div>\n",
              "      <button class=\"colab-df-convert\" onclick=\"convertToInteractive('df-6704bfcf-0a54-4795-9581-2e460fcab64c')\"\n",
              "              title=\"Convert this dataframe to an interactive table.\"\n",
              "              style=\"display:none;\">\n",
              "\n",
              "  <svg xmlns=\"http://www.w3.org/2000/svg\" height=\"24px\"viewBox=\"0 0 24 24\"\n",
              "       width=\"24px\">\n",
              "    <path d=\"M0 0h24v24H0V0z\" fill=\"none\"/>\n",
              "    <path d=\"M18.56 5.44l.94 2.06.94-2.06 2.06-.94-2.06-.94-.94-2.06-.94 2.06-2.06.94zm-11 1L8.5 8.5l.94-2.06 2.06-.94-2.06-.94L8.5 2.5l-.94 2.06-2.06.94zm10 10l.94 2.06.94-2.06 2.06-.94-2.06-.94-.94-2.06-.94 2.06-2.06.94z\"/><path d=\"M17.41 7.96l-1.37-1.37c-.4-.4-.92-.59-1.43-.59-.52 0-1.04.2-1.43.59L10.3 9.45l-7.72 7.72c-.78.78-.78 2.05 0 2.83L4 21.41c.39.39.9.59 1.41.59.51 0 1.02-.2 1.41-.59l7.78-7.78 2.81-2.81c.8-.78.8-2.07 0-2.86zM5.41 20L4 18.59l7.72-7.72 1.47 1.35L5.41 20z\"/>\n",
              "  </svg>\n",
              "      </button>\n",
              "\n",
              "\n",
              "\n",
              "    <div id=\"df-0479d5d7-ca54-473c-b855-c792c7bd63cf\">\n",
              "      <button class=\"colab-df-quickchart\" onclick=\"quickchart('df-0479d5d7-ca54-473c-b855-c792c7bd63cf')\"\n",
              "              title=\"Suggest charts.\"\n",
              "              style=\"display:none;\">\n",
              "\n",
              "<svg xmlns=\"http://www.w3.org/2000/svg\" height=\"24px\"viewBox=\"0 0 24 24\"\n",
              "     width=\"24px\">\n",
              "    <g>\n",
              "        <path d=\"M19 3H5c-1.1 0-2 .9-2 2v14c0 1.1.9 2 2 2h14c1.1 0 2-.9 2-2V5c0-1.1-.9-2-2-2zM9 17H7v-7h2v7zm4 0h-2V7h2v10zm4 0h-2v-4h2v4z\"/>\n",
              "    </g>\n",
              "</svg>\n",
              "      </button>\n",
              "    </div>\n",
              "\n",
              "<style>\n",
              "  .colab-df-quickchart {\n",
              "    background-color: #E8F0FE;\n",
              "    border: none;\n",
              "    border-radius: 50%;\n",
              "    cursor: pointer;\n",
              "    display: none;\n",
              "    fill: #1967D2;\n",
              "    height: 32px;\n",
              "    padding: 0 0 0 0;\n",
              "    width: 32px;\n",
              "  }\n",
              "\n",
              "  .colab-df-quickchart:hover {\n",
              "    background-color: #E2EBFA;\n",
              "    box-shadow: 0px 1px 2px rgba(60, 64, 67, 0.3), 0px 1px 3px 1px rgba(60, 64, 67, 0.15);\n",
              "    fill: #174EA6;\n",
              "  }\n",
              "\n",
              "  [theme=dark] .colab-df-quickchart {\n",
              "    background-color: #3B4455;\n",
              "    fill: #D2E3FC;\n",
              "  }\n",
              "\n",
              "  [theme=dark] .colab-df-quickchart:hover {\n",
              "    background-color: #434B5C;\n",
              "    box-shadow: 0px 1px 3px 1px rgba(0, 0, 0, 0.15);\n",
              "    filter: drop-shadow(0px 1px 2px rgba(0, 0, 0, 0.3));\n",
              "    fill: #FFFFFF;\n",
              "  }\n",
              "</style>\n",
              "\n",
              "    <script>\n",
              "      async function quickchart(key) {\n",
              "        const containerElement = document.querySelector('#' + key);\n",
              "        const charts = await google.colab.kernel.invokeFunction(\n",
              "            'suggestCharts', [key], {});\n",
              "      }\n",
              "    </script>\n",
              "\n",
              "      <script>\n",
              "\n",
              "function displayQuickchartButton(domScope) {\n",
              "  let quickchartButtonEl =\n",
              "    domScope.querySelector('#df-0479d5d7-ca54-473c-b855-c792c7bd63cf button.colab-df-quickchart');\n",
              "  quickchartButtonEl.style.display =\n",
              "    google.colab.kernel.accessAllowed ? 'block' : 'none';\n",
              "}\n",
              "\n",
              "        displayQuickchartButton(document);\n",
              "      </script>\n",
              "      <style>\n",
              "    .colab-df-container {\n",
              "      display:flex;\n",
              "      flex-wrap:wrap;\n",
              "      gap: 12px;\n",
              "    }\n",
              "\n",
              "    .colab-df-convert {\n",
              "      background-color: #E8F0FE;\n",
              "      border: none;\n",
              "      border-radius: 50%;\n",
              "      cursor: pointer;\n",
              "      display: none;\n",
              "      fill: #1967D2;\n",
              "      height: 32px;\n",
              "      padding: 0 0 0 0;\n",
              "      width: 32px;\n",
              "    }\n",
              "\n",
              "    .colab-df-convert:hover {\n",
              "      background-color: #E2EBFA;\n",
              "      box-shadow: 0px 1px 2px rgba(60, 64, 67, 0.3), 0px 1px 3px 1px rgba(60, 64, 67, 0.15);\n",
              "      fill: #174EA6;\n",
              "    }\n",
              "\n",
              "    [theme=dark] .colab-df-convert {\n",
              "      background-color: #3B4455;\n",
              "      fill: #D2E3FC;\n",
              "    }\n",
              "\n",
              "    [theme=dark] .colab-df-convert:hover {\n",
              "      background-color: #434B5C;\n",
              "      box-shadow: 0px 1px 3px 1px rgba(0, 0, 0, 0.15);\n",
              "      filter: drop-shadow(0px 1px 2px rgba(0, 0, 0, 0.3));\n",
              "      fill: #FFFFFF;\n",
              "    }\n",
              "  </style>\n",
              "\n",
              "      <script>\n",
              "        const buttonEl =\n",
              "          document.querySelector('#df-6704bfcf-0a54-4795-9581-2e460fcab64c button.colab-df-convert');\n",
              "        buttonEl.style.display =\n",
              "          google.colab.kernel.accessAllowed ? 'block' : 'none';\n",
              "\n",
              "        async function convertToInteractive(key) {\n",
              "          const element = document.querySelector('#df-6704bfcf-0a54-4795-9581-2e460fcab64c');\n",
              "          const dataTable =\n",
              "            await google.colab.kernel.invokeFunction('convertToInteractive',\n",
              "                                                     [key], {});\n",
              "          if (!dataTable) return;\n",
              "\n",
              "          const docLinkHtml = 'Like what you see? Visit the ' +\n",
              "            '<a target=\"_blank\" href=https://colab.research.google.com/notebooks/data_table.ipynb>data table notebook</a>'\n",
              "            + ' to learn more about interactive tables.';\n",
              "          element.innerHTML = '';\n",
              "          dataTable['output_type'] = 'display_data';\n",
              "          await google.colab.output.renderOutput(dataTable, element);\n",
              "          const docLink = document.createElement('div');\n",
              "          docLink.innerHTML = docLinkHtml;\n",
              "          element.appendChild(docLink);\n",
              "        }\n",
              "      </script>\n",
              "    </div>\n",
              "  </div>\n"
            ]
          },
          "metadata": {},
          "execution_count": 7
        }
      ],
      "source": [
        "data.describe()"
      ]
    },
    {
      "cell_type": "code",
      "execution_count": 8,
      "metadata": {
        "colab": {
          "base_uri": "https://localhost:8080/",
          "height": 175
        },
        "id": "PLUsuzS51Tmu",
        "outputId": "070e59d9-003d-4aa6-b950-6c25927e0c38"
      },
      "outputs": [
        {
          "output_type": "execute_result",
          "data": {
            "text/plain": [
              "                    Возраст  Зарплата  Члены семьи  Страховые выплаты\n",
              "Возраст            1.000000 -0.020238    -0.001503           0.548589\n",
              "Зарплата          -0.020238  1.000000    -0.025492          -0.005549\n",
              "Члены семьи       -0.001503 -0.025492     1.000000          -0.029210\n",
              "Страховые выплаты  0.548589 -0.005549    -0.029210           1.000000"
            ],
            "text/html": [
              "\n",
              "\n",
              "  <div id=\"df-e378c6e5-686a-4e21-b80c-b4e750d06022\">\n",
              "    <div class=\"colab-df-container\">\n",
              "      <div>\n",
              "<style scoped>\n",
              "    .dataframe tbody tr th:only-of-type {\n",
              "        vertical-align: middle;\n",
              "    }\n",
              "\n",
              "    .dataframe tbody tr th {\n",
              "        vertical-align: top;\n",
              "    }\n",
              "\n",
              "    .dataframe thead th {\n",
              "        text-align: right;\n",
              "    }\n",
              "</style>\n",
              "<table border=\"1\" class=\"dataframe\">\n",
              "  <thead>\n",
              "    <tr style=\"text-align: right;\">\n",
              "      <th></th>\n",
              "      <th>Возраст</th>\n",
              "      <th>Зарплата</th>\n",
              "      <th>Члены семьи</th>\n",
              "      <th>Страховые выплаты</th>\n",
              "    </tr>\n",
              "  </thead>\n",
              "  <tbody>\n",
              "    <tr>\n",
              "      <th>Возраст</th>\n",
              "      <td>1.000000</td>\n",
              "      <td>-0.020238</td>\n",
              "      <td>-0.001503</td>\n",
              "      <td>0.548589</td>\n",
              "    </tr>\n",
              "    <tr>\n",
              "      <th>Зарплата</th>\n",
              "      <td>-0.020238</td>\n",
              "      <td>1.000000</td>\n",
              "      <td>-0.025492</td>\n",
              "      <td>-0.005549</td>\n",
              "    </tr>\n",
              "    <tr>\n",
              "      <th>Члены семьи</th>\n",
              "      <td>-0.001503</td>\n",
              "      <td>-0.025492</td>\n",
              "      <td>1.000000</td>\n",
              "      <td>-0.029210</td>\n",
              "    </tr>\n",
              "    <tr>\n",
              "      <th>Страховые выплаты</th>\n",
              "      <td>0.548589</td>\n",
              "      <td>-0.005549</td>\n",
              "      <td>-0.029210</td>\n",
              "      <td>1.000000</td>\n",
              "    </tr>\n",
              "  </tbody>\n",
              "</table>\n",
              "</div>\n",
              "      <button class=\"colab-df-convert\" onclick=\"convertToInteractive('df-e378c6e5-686a-4e21-b80c-b4e750d06022')\"\n",
              "              title=\"Convert this dataframe to an interactive table.\"\n",
              "              style=\"display:none;\">\n",
              "\n",
              "  <svg xmlns=\"http://www.w3.org/2000/svg\" height=\"24px\"viewBox=\"0 0 24 24\"\n",
              "       width=\"24px\">\n",
              "    <path d=\"M0 0h24v24H0V0z\" fill=\"none\"/>\n",
              "    <path d=\"M18.56 5.44l.94 2.06.94-2.06 2.06-.94-2.06-.94-.94-2.06-.94 2.06-2.06.94zm-11 1L8.5 8.5l.94-2.06 2.06-.94-2.06-.94L8.5 2.5l-.94 2.06-2.06.94zm10 10l.94 2.06.94-2.06 2.06-.94-2.06-.94-.94-2.06-.94 2.06-2.06.94z\"/><path d=\"M17.41 7.96l-1.37-1.37c-.4-.4-.92-.59-1.43-.59-.52 0-1.04.2-1.43.59L10.3 9.45l-7.72 7.72c-.78.78-.78 2.05 0 2.83L4 21.41c.39.39.9.59 1.41.59.51 0 1.02-.2 1.41-.59l7.78-7.78 2.81-2.81c.8-.78.8-2.07 0-2.86zM5.41 20L4 18.59l7.72-7.72 1.47 1.35L5.41 20z\"/>\n",
              "  </svg>\n",
              "      </button>\n",
              "\n",
              "\n",
              "\n",
              "    <div id=\"df-a4c5cfbb-0785-48d4-9f8a-6b590beac25d\">\n",
              "      <button class=\"colab-df-quickchart\" onclick=\"quickchart('df-a4c5cfbb-0785-48d4-9f8a-6b590beac25d')\"\n",
              "              title=\"Suggest charts.\"\n",
              "              style=\"display:none;\">\n",
              "\n",
              "<svg xmlns=\"http://www.w3.org/2000/svg\" height=\"24px\"viewBox=\"0 0 24 24\"\n",
              "     width=\"24px\">\n",
              "    <g>\n",
              "        <path d=\"M19 3H5c-1.1 0-2 .9-2 2v14c0 1.1.9 2 2 2h14c1.1 0 2-.9 2-2V5c0-1.1-.9-2-2-2zM9 17H7v-7h2v7zm4 0h-2V7h2v10zm4 0h-2v-4h2v4z\"/>\n",
              "    </g>\n",
              "</svg>\n",
              "      </button>\n",
              "    </div>\n",
              "\n",
              "<style>\n",
              "  .colab-df-quickchart {\n",
              "    background-color: #E8F0FE;\n",
              "    border: none;\n",
              "    border-radius: 50%;\n",
              "    cursor: pointer;\n",
              "    display: none;\n",
              "    fill: #1967D2;\n",
              "    height: 32px;\n",
              "    padding: 0 0 0 0;\n",
              "    width: 32px;\n",
              "  }\n",
              "\n",
              "  .colab-df-quickchart:hover {\n",
              "    background-color: #E2EBFA;\n",
              "    box-shadow: 0px 1px 2px rgba(60, 64, 67, 0.3), 0px 1px 3px 1px rgba(60, 64, 67, 0.15);\n",
              "    fill: #174EA6;\n",
              "  }\n",
              "\n",
              "  [theme=dark] .colab-df-quickchart {\n",
              "    background-color: #3B4455;\n",
              "    fill: #D2E3FC;\n",
              "  }\n",
              "\n",
              "  [theme=dark] .colab-df-quickchart:hover {\n",
              "    background-color: #434B5C;\n",
              "    box-shadow: 0px 1px 3px 1px rgba(0, 0, 0, 0.15);\n",
              "    filter: drop-shadow(0px 1px 2px rgba(0, 0, 0, 0.3));\n",
              "    fill: #FFFFFF;\n",
              "  }\n",
              "</style>\n",
              "\n",
              "    <script>\n",
              "      async function quickchart(key) {\n",
              "        const containerElement = document.querySelector('#' + key);\n",
              "        const charts = await google.colab.kernel.invokeFunction(\n",
              "            'suggestCharts', [key], {});\n",
              "      }\n",
              "    </script>\n",
              "\n",
              "      <script>\n",
              "\n",
              "function displayQuickchartButton(domScope) {\n",
              "  let quickchartButtonEl =\n",
              "    domScope.querySelector('#df-a4c5cfbb-0785-48d4-9f8a-6b590beac25d button.colab-df-quickchart');\n",
              "  quickchartButtonEl.style.display =\n",
              "    google.colab.kernel.accessAllowed ? 'block' : 'none';\n",
              "}\n",
              "\n",
              "        displayQuickchartButton(document);\n",
              "      </script>\n",
              "      <style>\n",
              "    .colab-df-container {\n",
              "      display:flex;\n",
              "      flex-wrap:wrap;\n",
              "      gap: 12px;\n",
              "    }\n",
              "\n",
              "    .colab-df-convert {\n",
              "      background-color: #E8F0FE;\n",
              "      border: none;\n",
              "      border-radius: 50%;\n",
              "      cursor: pointer;\n",
              "      display: none;\n",
              "      fill: #1967D2;\n",
              "      height: 32px;\n",
              "      padding: 0 0 0 0;\n",
              "      width: 32px;\n",
              "    }\n",
              "\n",
              "    .colab-df-convert:hover {\n",
              "      background-color: #E2EBFA;\n",
              "      box-shadow: 0px 1px 2px rgba(60, 64, 67, 0.3), 0px 1px 3px 1px rgba(60, 64, 67, 0.15);\n",
              "      fill: #174EA6;\n",
              "    }\n",
              "\n",
              "    [theme=dark] .colab-df-convert {\n",
              "      background-color: #3B4455;\n",
              "      fill: #D2E3FC;\n",
              "    }\n",
              "\n",
              "    [theme=dark] .colab-df-convert:hover {\n",
              "      background-color: #434B5C;\n",
              "      box-shadow: 0px 1px 3px 1px rgba(0, 0, 0, 0.15);\n",
              "      filter: drop-shadow(0px 1px 2px rgba(0, 0, 0, 0.3));\n",
              "      fill: #FFFFFF;\n",
              "    }\n",
              "  </style>\n",
              "\n",
              "      <script>\n",
              "        const buttonEl =\n",
              "          document.querySelector('#df-e378c6e5-686a-4e21-b80c-b4e750d06022 button.colab-df-convert');\n",
              "        buttonEl.style.display =\n",
              "          google.colab.kernel.accessAllowed ? 'block' : 'none';\n",
              "\n",
              "        async function convertToInteractive(key) {\n",
              "          const element = document.querySelector('#df-e378c6e5-686a-4e21-b80c-b4e750d06022');\n",
              "          const dataTable =\n",
              "            await google.colab.kernel.invokeFunction('convertToInteractive',\n",
              "                                                     [key], {});\n",
              "          if (!dataTable) return;\n",
              "\n",
              "          const docLinkHtml = 'Like what you see? Visit the ' +\n",
              "            '<a target=\"_blank\" href=https://colab.research.google.com/notebooks/data_table.ipynb>data table notebook</a>'\n",
              "            + ' to learn more about interactive tables.';\n",
              "          element.innerHTML = '';\n",
              "          dataTable['output_type'] = 'display_data';\n",
              "          await google.colab.output.renderOutput(dataTable, element);\n",
              "          const docLink = document.createElement('div');\n",
              "          docLink.innerHTML = docLinkHtml;\n",
              "          element.appendChild(docLink);\n",
              "        }\n",
              "      </script>\n",
              "    </div>\n",
              "  </div>\n"
            ]
          },
          "metadata": {},
          "execution_count": 8
        }
      ],
      "source": [
        "data_0 = data.drop(['Пол'], axis=1)\n",
        "data_0.corr(method ='spearman')"
      ]
    },
    {
      "cell_type": "markdown",
      "metadata": {
        "id": "BD1gWtj41Tmv"
      },
      "source": [
        "Определяем признаики и целевой признак:\n"
      ]
    },
    {
      "cell_type": "code",
      "execution_count": 9,
      "metadata": {
        "colab": {
          "base_uri": "https://localhost:8080/",
          "height": 52
        },
        "id": "pUptL2fX1Tmw",
        "outputId": "2054ba44-6af1-4f87-c833-7828fe1688e1"
      },
      "outputs": [
        {
          "output_type": "display_data",
          "data": {
            "text/plain": [
              "(3750, 4)"
            ]
          },
          "metadata": {}
        },
        {
          "output_type": "display_data",
          "data": {
            "text/plain": [
              "(1250, 4)"
            ]
          },
          "metadata": {}
        }
      ],
      "source": [
        "features = data.drop(['Страховые выплаты'], axis=1)\n",
        "target = data['Страховые выплаты']\n",
        "\n",
        "train, valid = train_test_split(data, test_size=0.25, random_state=12345)\n",
        "\n",
        "features_train = train.drop(['Страховые выплаты'], axis=1)\n",
        "target_train = train['Страховые выплаты']\n",
        "\n",
        "features_valid = valid.drop(['Страховые выплаты'], axis=1)\n",
        "target_valid = valid['Страховые выплаты']\n",
        "\n",
        "\n",
        "display(features_train.shape)\n",
        "display(features_valid.shape)"
      ]
    },
    {
      "cell_type": "markdown",
      "metadata": {
        "id": "d6_Cxor81Tmw"
      },
      "source": [
        "### Итог подготовки данных:\n",
        "1. Загрузила данные - 5 столбцов, 5000 строк.\n",
        "2. Перевела тип данных по зарплате и возрасту в целые числа.\n",
        "3. Пропусков в датасете нет.\n",
        "4. Есть 153 дубликата. Решаю оставить. Возможно это случайные совпадения.\n",
        "5. Посмотрела на клиентов через .describe() и .corr(): страховые выплаты зависят от возраста. Наши клиенты - люди среднего возраста, со сред.доходом 40 000, не семейные.\n",
        "6. Поделила выборку на обучение и проверку."
      ]
    },
    {
      "cell_type": "markdown",
      "metadata": {
        "id": "WWkM5KQl1Tmx"
      },
      "source": [
        "## Анализ данных"
      ]
    },
    {
      "cell_type": "code",
      "execution_count": 10,
      "metadata": {
        "colab": {
          "base_uri": "https://localhost:8080/",
          "height": 598
        },
        "id": "R_nO7Z1d1Tmx",
        "outputId": "e3c02d5c-9097-4951-9c36-5b9c47649dd1"
      },
      "outputs": [
        {
          "output_type": "display_data",
          "data": {
            "text/plain": [
              "<Figure size 640x480 with 1 Axes>"
            ],
            "image/png": "[encoded data removed]"
          },
          "metadata": {}
        },
        {
          "output_type": "display_data",
          "data": {
            "text/plain": [
              "         Зарплата\n",
              "Пол              \n",
              "0    39769.061876\n",
              "1    40064.247295"
            ],
            "text/html": [
              "\n",
              "\n",
              "  <div id=\"df-ffed64ad-f5fa-4f6b-959a-9cbb47665bc4\">\n",
              "    <div class=\"colab-df-container\">\n",
              "      <div>\n",
              "<style scoped>\n",
              "    .dataframe tbody tr th:only-of-type {\n",
              "        vertical-align: middle;\n",
              "    }\n",
              "\n",
              "    .dataframe tbody tr th {\n",
              "        vertical-align: top;\n",
              "    }\n",
              "\n",
              "    .dataframe thead th {\n",
              "        text-align: right;\n",
              "    }\n",
              "</style>\n",
              "<table border=\"1\" class=\"dataframe\">\n",
              "  <thead>\n",
              "    <tr style=\"text-align: right;\">\n",
              "      <th></th>\n",
              "      <th>Зарплата</th>\n",
              "    </tr>\n",
              "    <tr>\n",
              "      <th>Пол</th>\n",
              "      <th></th>\n",
              "    </tr>\n",
              "  </thead>\n",
              "  <tbody>\n",
              "    <tr>\n",
              "      <th>0</th>\n",
              "      <td>39769.061876</td>\n",
              "    </tr>\n",
              "    <tr>\n",
              "      <th>1</th>\n",
              "      <td>40064.247295</td>\n",
              "    </tr>\n",
              "  </tbody>\n",
              "</table>\n",
              "</div>\n",
              "      <button class=\"colab-df-convert\" onclick=\"convertToInteractive('df-ffed64ad-f5fa-4f6b-959a-9cbb47665bc4')\"\n",
              "              title=\"Convert this dataframe to an interactive table.\"\n",
              "              style=\"display:none;\">\n",
              "\n",
              "  <svg xmlns=\"http://www.w3.org/2000/svg\" height=\"24px\"viewBox=\"0 0 24 24\"\n",
              "       width=\"24px\">\n",
              "    <path d=\"M0 0h24v24H0V0z\" fill=\"none\"/>\n",
              "    <path d=\"M18.56 5.44l.94 2.06.94-2.06 2.06-.94-2.06-.94-.94-2.06-.94 2.06-2.06.94zm-11 1L8.5 8.5l.94-2.06 2.06-.94-2.06-.94L8.5 2.5l-.94 2.06-2.06.94zm10 10l.94 2.06.94-2.06 2.06-.94-2.06-.94-.94-2.06-.94 2.06-2.06.94z\"/><path d=\"M17.41 7.96l-1.37-1.37c-.4-.4-.92-.59-1.43-.59-.52 0-1.04.2-1.43.59L10.3 9.45l-7.72 7.72c-.78.78-.78 2.05 0 2.83L4 21.41c.39.39.9.59 1.41.59.51 0 1.02-.2 1.41-.59l7.78-7.78 2.81-2.81c.8-.78.8-2.07 0-2.86zM5.41 20L4 18.59l7.72-7.72 1.47 1.35L5.41 20z\"/>\n",
              "  </svg>\n",
              "      </button>\n",
              "\n",
              "\n",
              "\n",
              "    <div id=\"df-1922940c-15a4-4897-9a38-779fec9861cd\">\n",
              "      <button class=\"colab-df-quickchart\" onclick=\"quickchart('df-1922940c-15a4-4897-9a38-779fec9861cd')\"\n",
              "              title=\"Suggest charts.\"\n",
              "              style=\"display:none;\">\n",
              "\n",
              "<svg xmlns=\"http://www.w3.org/2000/svg\" height=\"24px\"viewBox=\"0 0 24 24\"\n",
              "     width=\"24px\">\n",
              "    <g>\n",
              "        <path d=\"M19 3H5c-1.1 0-2 .9-2 2v14c0 1.1.9 2 2 2h14c1.1 0 2-.9 2-2V5c0-1.1-.9-2-2-2zM9 17H7v-7h2v7zm4 0h-2V7h2v10zm4 0h-2v-4h2v4z\"/>\n",
              "    </g>\n",
              "</svg>\n",
              "      </button>\n",
              "    </div>\n",
              "\n",
              "<style>\n",
              "  .colab-df-quickchart {\n",
              "    background-color: #E8F0FE;\n",
              "    border: none;\n",
              "    border-radius: 50%;\n",
              "    cursor: pointer;\n",
              "    display: none;\n",
              "    fill: #1967D2;\n",
              "    height: 32px;\n",
              "    padding: 0 0 0 0;\n",
              "    width: 32px;\n",
              "  }\n",
              "\n",
              "  .colab-df-quickchart:hover {\n",
              "    background-color: #E2EBFA;\n",
              "    box-shadow: 0px 1px 2px rgba(60, 64, 67, 0.3), 0px 1px 3px 1px rgba(60, 64, 67, 0.15);\n",
              "    fill: #174EA6;\n",
              "  }\n",
              "\n",
              "  [theme=dark] .colab-df-quickchart {\n",
              "    background-color: #3B4455;\n",
              "    fill: #D2E3FC;\n",
              "  }\n",
              "\n",
              "  [theme=dark] .colab-df-quickchart:hover {\n",
              "    background-color: #434B5C;\n",
              "    box-shadow: 0px 1px 3px 1px rgba(0, 0, 0, 0.15);\n",
              "    filter: drop-shadow(0px 1px 2px rgba(0, 0, 0, 0.3));\n",
              "    fill: #FFFFFF;\n",
              "  }\n",
              "</style>\n",
              "\n",
              "    <script>\n",
              "      async function quickchart(key) {\n",
              "        const containerElement = document.querySelector('#' + key);\n",
              "        const charts = await google.colab.kernel.invokeFunction(\n",
              "            'suggestCharts', [key], {});\n",
              "      }\n",
              "    </script>\n",
              "\n",
              "      <script>\n",
              "\n",
              "function displayQuickchartButton(domScope) {\n",
              "  let quickchartButtonEl =\n",
              "    domScope.querySelector('#df-1922940c-15a4-4897-9a38-779fec9861cd button.colab-df-quickchart');\n",
              "  quickchartButtonEl.style.display =\n",
              "    google.colab.kernel.accessAllowed ? 'block' : 'none';\n",
              "}\n",
              "\n",
              "        displayQuickchartButton(document);\n",
              "      </script>\n",
              "      <style>\n",
              "    .colab-df-container {\n",
              "      display:flex;\n",
              "      flex-wrap:wrap;\n",
              "      gap: 12px;\n",
              "    }\n",
              "\n",
              "    .colab-df-convert {\n",
              "      background-color: #E8F0FE;\n",
              "      border: none;\n",
              "      border-radius: 50%;\n",
              "      cursor: pointer;\n",
              "      display: none;\n",
              "      fill: #1967D2;\n",
              "      height: 32px;\n",
              "      padding: 0 0 0 0;\n",
              "      width: 32px;\n",
              "    }\n",
              "\n",
              "    .colab-df-convert:hover {\n",
              "      background-color: #E2EBFA;\n",
              "      box-shadow: 0px 1px 2px rgba(60, 64, 67, 0.3), 0px 1px 3px 1px rgba(60, 64, 67, 0.15);\n",
              "      fill: #174EA6;\n",
              "    }\n",
              "\n",
              "    [theme=dark] .colab-df-convert {\n",
              "      background-color: #3B4455;\n",
              "      fill: #D2E3FC;\n",
              "    }\n",
              "\n",
              "    [theme=dark] .colab-df-convert:hover {\n",
              "      background-color: #434B5C;\n",
              "      box-shadow: 0px 1px 3px 1px rgba(0, 0, 0, 0.15);\n",
              "      filter: drop-shadow(0px 1px 2px rgba(0, 0, 0, 0.3));\n",
              "      fill: #FFFFFF;\n",
              "    }\n",
              "  </style>\n",
              "\n",
              "      <script>\n",
              "        const buttonEl =\n",
              "          document.querySelector('#df-ffed64ad-f5fa-4f6b-959a-9cbb47665bc4 button.colab-df-convert');\n",
              "        buttonEl.style.display =\n",
              "          google.colab.kernel.accessAllowed ? 'block' : 'none';\n",
              "\n",
              "        async function convertToInteractive(key) {\n",
              "          const element = document.querySelector('#df-ffed64ad-f5fa-4f6b-959a-9cbb47665bc4');\n",
              "          const dataTable =\n",
              "            await google.colab.kernel.invokeFunction('convertToInteractive',\n",
              "                                                     [key], {});\n",
              "          if (!dataTable) return;\n",
              "\n",
              "          const docLinkHtml = 'Like what you see? Visit the ' +\n",
              "            '<a target=\"_blank\" href=https://colab.research.google.com/notebooks/data_table.ipynb>data table notebook</a>'\n",
              "            + ' to learn more about interactive tables.';\n",
              "          element.innerHTML = '';\n",
              "          dataTable['output_type'] = 'display_data';\n",
              "          await google.colab.output.renderOutput(dataTable, element);\n",
              "          const docLink = document.createElement('div');\n",
              "          docLink.innerHTML = docLinkHtml;\n",
              "          element.appendChild(docLink);\n",
              "        }\n",
              "      </script>\n",
              "    </div>\n",
              "  </div>\n"
            ]
          },
          "metadata": {}
        }
      ],
      "source": [
        "sns.histplot(data[f'Зарплата'], color='green')\n",
        "plt.title('Средний доход клиентов')\n",
        "plt.xlabel('Зарплата')\n",
        "plt.ylabel('Количество клиентов')\n",
        "plt.show()\n",
        "\n",
        "many_mean = data.pivot_table(index='Пол', values='Зарплата', aggfunc = 'mean')\n",
        "display(many_mean)"
      ]
    },
    {
      "cell_type": "code",
      "execution_count": 11,
      "metadata": {
        "colab": {
          "base_uri": "https://localhost:8080/",
          "height": 598
        },
        "id": "jZCgp8sP1Tmx",
        "outputId": "de4bff6b-325e-41b8-f464-8a1b2695b133"
      },
      "outputs": [
        {
          "output_type": "display_data",
          "data": {
            "text/plain": [
              "<Figure size 640x480 with 1 Axes>"
            ],
            "image/png": "[encoded data removed]"
          },
          "metadata": {}
        },
        {
          "output_type": "display_data",
          "data": {
            "text/plain": [
              "       Возраст\n",
              "Пол           \n",
              "0    30.935329\n",
              "1    30.970341"
            ],
            "text/html": [
              "\n",
              "\n",
              "  <div id=\"df-0fcd7b4c-a168-473d-b27f-0a1cee5e6c19\">\n",
              "    <div class=\"colab-df-container\">\n",
              "      <div>\n",
              "<style scoped>\n",
              "    .dataframe tbody tr th:only-of-type {\n",
              "        vertical-align: middle;\n",
              "    }\n",
              "\n",
              "    .dataframe tbody tr th {\n",
              "        vertical-align: top;\n",
              "    }\n",
              "\n",
              "    .dataframe thead th {\n",
              "        text-align: right;\n",
              "    }\n",
              "</style>\n",
              "<table border=\"1\" class=\"dataframe\">\n",
              "  <thead>\n",
              "    <tr style=\"text-align: right;\">\n",
              "      <th></th>\n",
              "      <th>Возраст</th>\n",
              "    </tr>\n",
              "    <tr>\n",
              "      <th>Пол</th>\n",
              "      <th></th>\n",
              "    </tr>\n",
              "  </thead>\n",
              "  <tbody>\n",
              "    <tr>\n",
              "      <th>0</th>\n",
              "      <td>30.935329</td>\n",
              "    </tr>\n",
              "    <tr>\n",
              "      <th>1</th>\n",
              "      <td>30.970341</td>\n",
              "    </tr>\n",
              "  </tbody>\n",
              "</table>\n",
              "</div>\n",
              "      <button class=\"colab-df-convert\" onclick=\"convertToInteractive('df-0fcd7b4c-a168-473d-b27f-0a1cee5e6c19')\"\n",
              "              title=\"Convert this dataframe to an interactive table.\"\n",
              "              style=\"display:none;\">\n",
              "\n",
              "  <svg xmlns=\"http://www.w3.org/2000/svg\" height=\"24px\"viewBox=\"0 0 24 24\"\n",
              "       width=\"24px\">\n",
              "    <path d=\"M0 0h24v24H0V0z\" fill=\"none\"/>\n",
              "    <path d=\"M18.56 5.44l.94 2.06.94-2.06 2.06-.94-2.06-.94-.94-2.06-.94 2.06-2.06.94zm-11 1L8.5 8.5l.94-2.06 2.06-.94-2.06-.94L8.5 2.5l-.94 2.06-2.06.94zm10 10l.94 2.06.94-2.06 2.06-.94-2.06-.94-.94-2.06-.94 2.06-2.06.94z\"/><path d=\"M17.41 7.96l-1.37-1.37c-.4-.4-.92-.59-1.43-.59-.52 0-1.04.2-1.43.59L10.3 9.45l-7.72 7.72c-.78.78-.78 2.05 0 2.83L4 21.41c.39.39.9.59 1.41.59.51 0 1.02-.2 1.41-.59l7.78-7.78 2.81-2.81c.8-.78.8-2.07 0-2.86zM5.41 20L4 18.59l7.72-7.72 1.47 1.35L5.41 20z\"/>\n",
              "  </svg>\n",
              "      </button>\n",
              "\n",
              "\n",
              "\n",
              "    <div id=\"df-3eade9bf-c0b1-40e2-9015-fd9cfa862e8c\">\n",
              "      <button class=\"colab-df-quickchart\" onclick=\"quickchart('df-3eade9bf-c0b1-40e2-9015-fd9cfa862e8c')\"\n",
              "              title=\"Suggest charts.\"\n",
              "              style=\"display:none;\">\n",
              "\n",
              "<svg xmlns=\"http://www.w3.org/2000/svg\" height=\"24px\"viewBox=\"0 0 24 24\"\n",
              "     width=\"24px\">\n",
              "    <g>\n",
              "        <path d=\"M19 3H5c-1.1 0-2 .9-2 2v14c0 1.1.9 2 2 2h14c1.1 0 2-.9 2-2V5c0-1.1-.9-2-2-2zM9 17H7v-7h2v7zm4 0h-2V7h2v10zm4 0h-2v-4h2v4z\"/>\n",
              "    </g>\n",
              "</svg>\n",
              "      </button>\n",
              "    </div>\n",
              "\n",
              "<style>\n",
              "  .colab-df-quickchart {\n",
              "    background-color: #E8F0FE;\n",
              "    border: none;\n",
              "    border-radius: 50%;\n",
              "    cursor: pointer;\n",
              "    display: none;\n",
              "    fill: #1967D2;\n",
              "    height: 32px;\n",
              "    padding: 0 0 0 0;\n",
              "    width: 32px;\n",
              "  }\n",
              "\n",
              "  .colab-df-quickchart:hover {\n",
              "    background-color: #E2EBFA;\n",
              "    box-shadow: 0px 1px 2px rgba(60, 64, 67, 0.3), 0px 1px 3px 1px rgba(60, 64, 67, 0.15);\n",
              "    fill: #174EA6;\n",
              "  }\n",
              "\n",
              "  [theme=dark] .colab-df-quickchart {\n",
              "    background-color: #3B4455;\n",
              "    fill: #D2E3FC;\n",
              "  }\n",
              "\n",
              "  [theme=dark] .colab-df-quickchart:hover {\n",
              "    background-color: #434B5C;\n",
              "    box-shadow: 0px 1px 3px 1px rgba(0, 0, 0, 0.15);\n",
              "    filter: drop-shadow(0px 1px 2px rgba(0, 0, 0, 0.3));\n",
              "    fill: #FFFFFF;\n",
              "  }\n",
              "</style>\n",
              "\n",
              "    <script>\n",
              "      async function quickchart(key) {\n",
              "        const containerElement = document.querySelector('#' + key);\n",
              "        const charts = await google.colab.kernel.invokeFunction(\n",
              "            'suggestCharts', [key], {});\n",
              "      }\n",
              "    </script>\n",
              "\n",
              "      <script>\n",
              "\n",
              "function displayQuickchartButton(domScope) {\n",
              "  let quickchartButtonEl =\n",
              "    domScope.querySelector('#df-3eade9bf-c0b1-40e2-9015-fd9cfa862e8c button.colab-df-quickchart');\n",
              "  quickchartButtonEl.style.display =\n",
              "    google.colab.kernel.accessAllowed ? 'block' : 'none';\n",
              "}\n",
              "\n",
              "        displayQuickchartButton(document);\n",
              "      </script>\n",
              "      <style>\n",
              "    .colab-df-container {\n",
              "      display:flex;\n",
              "      flex-wrap:wrap;\n",
              "      gap: 12px;\n",
              "    }\n",
              "\n",
              "    .colab-df-convert {\n",
              "      background-color: #E8F0FE;\n",
              "      border: none;\n",
              "      border-radius: 50%;\n",
              "      cursor: pointer;\n",
              "      display: none;\n",
              "      fill: #1967D2;\n",
              "      height: 32px;\n",
              "      padding: 0 0 0 0;\n",
              "      width: 32px;\n",
              "    }\n",
              "\n",
              "    .colab-df-convert:hover {\n",
              "      background-color: #E2EBFA;\n",
              "      box-shadow: 0px 1px 2px rgba(60, 64, 67, 0.3), 0px 1px 3px 1px rgba(60, 64, 67, 0.15);\n",
              "      fill: #174EA6;\n",
              "    }\n",
              "\n",
              "    [theme=dark] .colab-df-convert {\n",
              "      background-color: #3B4455;\n",
              "      fill: #D2E3FC;\n",
              "    }\n",
              "\n",
              "    [theme=dark] .colab-df-convert:hover {\n",
              "      background-color: #434B5C;\n",
              "      box-shadow: 0px 1px 3px 1px rgba(0, 0, 0, 0.15);\n",
              "      filter: drop-shadow(0px 1px 2px rgba(0, 0, 0, 0.3));\n",
              "      fill: #FFFFFF;\n",
              "    }\n",
              "  </style>\n",
              "\n",
              "      <script>\n",
              "        const buttonEl =\n",
              "          document.querySelector('#df-0fcd7b4c-a168-473d-b27f-0a1cee5e6c19 button.colab-df-convert');\n",
              "        buttonEl.style.display =\n",
              "          google.colab.kernel.accessAllowed ? 'block' : 'none';\n",
              "\n",
              "        async function convertToInteractive(key) {\n",
              "          const element = document.querySelector('#df-0fcd7b4c-a168-473d-b27f-0a1cee5e6c19');\n",
              "          const dataTable =\n",
              "            await google.colab.kernel.invokeFunction('convertToInteractive',\n",
              "                                                     [key], {});\n",
              "          if (!dataTable) return;\n",
              "\n",
              "          const docLinkHtml = 'Like what you see? Visit the ' +\n",
              "            '<a target=\"_blank\" href=https://colab.research.google.com/notebooks/data_table.ipynb>data table notebook</a>'\n",
              "            + ' to learn more about interactive tables.';\n",
              "          element.innerHTML = '';\n",
              "          dataTable['output_type'] = 'display_data';\n",
              "          await google.colab.output.renderOutput(dataTable, element);\n",
              "          const docLink = document.createElement('div');\n",
              "          docLink.innerHTML = docLinkHtml;\n",
              "          element.appendChild(docLink);\n",
              "        }\n",
              "      </script>\n",
              "    </div>\n",
              "  </div>\n"
            ]
          },
          "metadata": {}
        }
      ],
      "source": [
        "sns.histplot(data[f'Возраст'], color='orange')\n",
        "plt.title('Средний возраст клиентов')\n",
        "plt.xlabel('Возраст')\n",
        "plt.ylabel('Количество клиентов')\n",
        "plt.show()\n",
        "\n",
        "old_mean = data.pivot_table(index='Пол', values='Возраст', aggfunc = 'mean')\n",
        "display(old_mean)"
      ]
    },
    {
      "cell_type": "code",
      "execution_count": 12,
      "metadata": {
        "colab": {
          "base_uri": "https://localhost:8080/",
          "height": 724
        },
        "id": "JqzW2tQA1Tmx",
        "outputId": "64d94a8a-b791-4c27-fc9e-86ad396e421b"
      },
      "outputs": [
        {
          "output_type": "display_data",
          "data": {
            "text/plain": [
              "<Figure size 640x480 with 1 Axes>"
            ],
            "image/png": "[encoded data removed]"
          },
          "metadata": {}
        },
        {
          "output_type": "display_data",
          "data": {
            "text/plain": [
              "                   Возраст\n",
              "Страховые выплаты         \n",
              "0                   128514\n",
              "1                    18911\n",
              "2                     5849\n",
              "3                     1005\n",
              "4                      420\n",
              "5                       65"
            ],
            "text/html": [
              "\n",
              "\n",
              "  <div id=\"df-28f619fb-48e7-4337-b345-4dd7bd6cfce1\">\n",
              "    <div class=\"colab-df-container\">\n",
              "      <div>\n",
              "<style scoped>\n",
              "    .dataframe tbody tr th:only-of-type {\n",
              "        vertical-align: middle;\n",
              "    }\n",
              "\n",
              "    .dataframe tbody tr th {\n",
              "        vertical-align: top;\n",
              "    }\n",
              "\n",
              "    .dataframe thead th {\n",
              "        text-align: right;\n",
              "    }\n",
              "</style>\n",
              "<table border=\"1\" class=\"dataframe\">\n",
              "  <thead>\n",
              "    <tr style=\"text-align: right;\">\n",
              "      <th></th>\n",
              "      <th>Возраст</th>\n",
              "    </tr>\n",
              "    <tr>\n",
              "      <th>Страховые выплаты</th>\n",
              "      <th></th>\n",
              "    </tr>\n",
              "  </thead>\n",
              "  <tbody>\n",
              "    <tr>\n",
              "      <th>0</th>\n",
              "      <td>128514</td>\n",
              "    </tr>\n",
              "    <tr>\n",
              "      <th>1</th>\n",
              "      <td>18911</td>\n",
              "    </tr>\n",
              "    <tr>\n",
              "      <th>2</th>\n",
              "      <td>5849</td>\n",
              "    </tr>\n",
              "    <tr>\n",
              "      <th>3</th>\n",
              "      <td>1005</td>\n",
              "    </tr>\n",
              "    <tr>\n",
              "      <th>4</th>\n",
              "      <td>420</td>\n",
              "    </tr>\n",
              "    <tr>\n",
              "      <th>5</th>\n",
              "      <td>65</td>\n",
              "    </tr>\n",
              "  </tbody>\n",
              "</table>\n",
              "</div>\n",
              "      <button class=\"colab-df-convert\" onclick=\"convertToInteractive('df-28f619fb-48e7-4337-b345-4dd7bd6cfce1')\"\n",
              "              title=\"Convert this dataframe to an interactive table.\"\n",
              "              style=\"display:none;\">\n",
              "\n",
              "  <svg xmlns=\"http://www.w3.org/2000/svg\" height=\"24px\"viewBox=\"0 0 24 24\"\n",
              "       width=\"24px\">\n",
              "    <path d=\"M0 0h24v24H0V0z\" fill=\"none\"/>\n",
              "    <path d=\"M18.56 5.44l.94 2.06.94-2.06 2.06-.94-2.06-.94-.94-2.06-.94 2.06-2.06.94zm-11 1L8.5 8.5l.94-2.06 2.06-.94-2.06-.94L8.5 2.5l-.94 2.06-2.06.94zm10 10l.94 2.06.94-2.06 2.06-.94-2.06-.94-.94-2.06-.94 2.06-2.06.94z\"/><path d=\"M17.41 7.96l-1.37-1.37c-.4-.4-.92-.59-1.43-.59-.52 0-1.04.2-1.43.59L10.3 9.45l-7.72 7.72c-.78.78-.78 2.05 0 2.83L4 21.41c.39.39.9.59 1.41.59.51 0 1.02-.2 1.41-.59l7.78-7.78 2.81-2.81c.8-.78.8-2.07 0-2.86zM5.41 20L4 18.59l7.72-7.72 1.47 1.35L5.41 20z\"/>\n",
              "  </svg>\n",
              "      </button>\n",
              "\n",
              "\n",
              "\n",
              "    <div id=\"df-80977da2-afa8-4290-9893-2a774a1f4918\">\n",
              "      <button class=\"colab-df-quickchart\" onclick=\"quickchart('df-80977da2-afa8-4290-9893-2a774a1f4918')\"\n",
              "              title=\"Suggest charts.\"\n",
              "              style=\"display:none;\">\n",
              "\n",
              "<svg xmlns=\"http://www.w3.org/2000/svg\" height=\"24px\"viewBox=\"0 0 24 24\"\n",
              "     width=\"24px\">\n",
              "    <g>\n",
              "        <path d=\"M19 3H5c-1.1 0-2 .9-2 2v14c0 1.1.9 2 2 2h14c1.1 0 2-.9 2-2V5c0-1.1-.9-2-2-2zM9 17H7v-7h2v7zm4 0h-2V7h2v10zm4 0h-2v-4h2v4z\"/>\n",
              "    </g>\n",
              "</svg>\n",
              "      </button>\n",
              "    </div>\n",
              "\n",
              "<style>\n",
              "  .colab-df-quickchart {\n",
              "    background-color: #E8F0FE;\n",
              "    border: none;\n",
              "    border-radius: 50%;\n",
              "    cursor: pointer;\n",
              "    display: none;\n",
              "    fill: #1967D2;\n",
              "    height: 32px;\n",
              "    padding: 0 0 0 0;\n",
              "    width: 32px;\n",
              "  }\n",
              "\n",
              "  .colab-df-quickchart:hover {\n",
              "    background-color: #E2EBFA;\n",
              "    box-shadow: 0px 1px 2px rgba(60, 64, 67, 0.3), 0px 1px 3px 1px rgba(60, 64, 67, 0.15);\n",
              "    fill: #174EA6;\n",
              "  }\n",
              "\n",
              "  [theme=dark] .colab-df-quickchart {\n",
              "    background-color: #3B4455;\n",
              "    fill: #D2E3FC;\n",
              "  }\n",
              "\n",
              "  [theme=dark] .colab-df-quickchart:hover {\n",
              "    background-color: #434B5C;\n",
              "    box-shadow: 0px 1px 3px 1px rgba(0, 0, 0, 0.15);\n",
              "    filter: drop-shadow(0px 1px 2px rgba(0, 0, 0, 0.3));\n",
              "    fill: #FFFFFF;\n",
              "  }\n",
              "</style>\n",
              "\n",
              "    <script>\n",
              "      async function quickchart(key) {\n",
              "        const containerElement = document.querySelector('#' + key);\n",
              "        const charts = await google.colab.kernel.invokeFunction(\n",
              "            'suggestCharts', [key], {});\n",
              "      }\n",
              "    </script>\n",
              "\n",
              "      <script>\n",
              "\n",
              "function displayQuickchartButton(domScope) {\n",
              "  let quickchartButtonEl =\n",
              "    domScope.querySelector('#df-80977da2-afa8-4290-9893-2a774a1f4918 button.colab-df-quickchart');\n",
              "  quickchartButtonEl.style.display =\n",
              "    google.colab.kernel.accessAllowed ? 'block' : 'none';\n",
              "}\n",
              "\n",
              "        displayQuickchartButton(document);\n",
              "      </script>\n",
              "      <style>\n",
              "    .colab-df-container {\n",
              "      display:flex;\n",
              "      flex-wrap:wrap;\n",
              "      gap: 12px;\n",
              "    }\n",
              "\n",
              "    .colab-df-convert {\n",
              "      background-color: #E8F0FE;\n",
              "      border: none;\n",
              "      border-radius: 50%;\n",
              "      cursor: pointer;\n",
              "      display: none;\n",
              "      fill: #1967D2;\n",
              "      height: 32px;\n",
              "      padding: 0 0 0 0;\n",
              "      width: 32px;\n",
              "    }\n",
              "\n",
              "    .colab-df-convert:hover {\n",
              "      background-color: #E2EBFA;\n",
              "      box-shadow: 0px 1px 2px rgba(60, 64, 67, 0.3), 0px 1px 3px 1px rgba(60, 64, 67, 0.15);\n",
              "      fill: #174EA6;\n",
              "    }\n",
              "\n",
              "    [theme=dark] .colab-df-convert {\n",
              "      background-color: #3B4455;\n",
              "      fill: #D2E3FC;\n",
              "    }\n",
              "\n",
              "    [theme=dark] .colab-df-convert:hover {\n",
              "      background-color: #434B5C;\n",
              "      box-shadow: 0px 1px 3px 1px rgba(0, 0, 0, 0.15);\n",
              "      filter: drop-shadow(0px 1px 2px rgba(0, 0, 0, 0.3));\n",
              "      fill: #FFFFFF;\n",
              "    }\n",
              "  </style>\n",
              "\n",
              "      <script>\n",
              "        const buttonEl =\n",
              "          document.querySelector('#df-28f619fb-48e7-4337-b345-4dd7bd6cfce1 button.colab-df-convert');\n",
              "        buttonEl.style.display =\n",
              "          google.colab.kernel.accessAllowed ? 'block' : 'none';\n",
              "\n",
              "        async function convertToInteractive(key) {\n",
              "          const element = document.querySelector('#df-28f619fb-48e7-4337-b345-4dd7bd6cfce1');\n",
              "          const dataTable =\n",
              "            await google.colab.kernel.invokeFunction('convertToInteractive',\n",
              "                                                     [key], {});\n",
              "          if (!dataTable) return;\n",
              "\n",
              "          const docLinkHtml = 'Like what you see? Visit the ' +\n",
              "            '<a target=\"_blank\" href=https://colab.research.google.com/notebooks/data_table.ipynb>data table notebook</a>'\n",
              "            + ' to learn more about interactive tables.';\n",
              "          element.innerHTML = '';\n",
              "          dataTable['output_type'] = 'display_data';\n",
              "          await google.colab.output.renderOutput(dataTable, element);\n",
              "          const docLink = document.createElement('div');\n",
              "          docLink.innerHTML = docLinkHtml;\n",
              "          element.appendChild(docLink);\n",
              "        }\n",
              "      </script>\n",
              "    </div>\n",
              "  </div>\n"
            ]
          },
          "metadata": {}
        }
      ],
      "source": [
        "sns.histplot(data_0[f'Возраст'], color='pink')\n",
        "plt.title('Зависимость стр.выплат от возраста')\n",
        "plt.xlabel('Возраст')\n",
        "plt.ylabel('Выплаты')\n",
        "plt.show()\n",
        "\n",
        "old_mean = data_0.pivot_table(index='Страховые выплаты', values='Возраст', aggfunc = 'sum')\n",
        "display(old_mean)"
      ]
    },
    {
      "cell_type": "markdown",
      "metadata": {
        "id": "t702_Vdr1Tmy"
      },
      "source": [
        "### Краткий анализ данных:\n",
        "Посмотрела кто наши клиенты.\n",
        "- средний доход у обоих полов примерно одинаковый - 40 000.\n",
        "- средний возраст тоже. Похоже, страхование после 30 лет начинает интересовать население.\n",
        "- страховыми выплатами чаще пользуются клиенты среднего возраста 20-35 лет. С 40 лет выплаты заметно снижаются."
      ]
    },
    {
      "cell_type": "markdown",
      "metadata": {
        "id": "SFtFwJ_x1Tmy"
      },
      "source": [
        "## Умножение матриц"
      ]
    },
    {
      "cell_type": "markdown",
      "metadata": {
        "id": "xz1vq3eX1Tmy"
      },
      "source": [
        "Обозначения:\n",
        "\n",
        "- $X$ — матрица признаков (нулевой столбец состоит из единиц)\n",
        "\n",
        "- $y$ — вектор целевого признака\n",
        "\n",
        "- $P$ — матрица, на которую умножаются признаки\n",
        "\n",
        "- $w$ — вектор весов линейной регрессии (нулевой элемент равен сдвигу)"
      ]
    },
    {
      "cell_type": "markdown",
      "metadata": {
        "id": "PjC9xepZ1Tmy"
      },
      "source": [
        "Предсказания:\n",
        "\n",
        "$$\n",
        "a = Xw\n",
        "$$\n",
        "\n",
        "Задача обучения:\n",
        "\n",
        "$$\n",
        "w = \\arg\\min_w MSE(Xw, y)\n",
        "$$\n",
        "\n",
        "Формула обучения:\n",
        "\n",
        "$$\n",
        "w = (X^T X)^{-1} X^T y\n",
        "$$"
      ]
    },
    {
      "cell_type": "markdown",
      "metadata": {
        "id": "cQCVa_as1Tmy"
      },
      "source": [
        "**Ответ:**\n",
        "НЕ ИЗМЕНИТСЯ. Качество лин.регрессии останется прежней, если к ней добавить произвольную обратимую матрицу.\n",
        "\n",
        "**Обоснование:**\n",
        "1. где а - предсказания,\n",
        "Х - матрица признаков,\n",
        "w - вектор весов\n",
        "$$a = Xw$$\n",
        "\n",
        "2. раскроем w\n",
        "$$X * (X^T * X)^{-1}  * X^T * y$$\n",
        "\n",
        "3. сравним выражение с выражением, в которое добавляем произвольную обратимую матрицу P\n",
        "$$X * (X^T * X)^{-1}  * X^T * y = X * P * ((X * P)^T * (X * P))^{-1}  * (X * P)^T * y$$\n",
        "\n",
        "4. раскроем скорбки\n",
        "$$X * (X^T * X)^{-1}  * X^T * y = X *Р *(Р^T *Х^T *Х *Р)^{-1}* P^T *X^T * y$$\n",
        "\n",
        "5. сократим уравнение за счет обратных матриц:\n",
        "$$P * P^{-1}=Е$$\n",
        "$$P^T * (P^T)^{-1}=Е$$\n",
        "\n",
        "\n",
        "6. преобразуем формулу:\n",
        "$$X * (X^T * X)^{-1}  * X^T * y = X * (X^T * X)^{-1}  * X^T * y$$\n",
        "\n",
        "7. обозначим w слева и справа:\n",
        "$$𝑋𝑤=Х𝑤$$\n",
        "\n",
        "8. то есть\n",
        "$$a = a'$$\n"
      ]
    },
    {
      "cell_type": "markdown",
      "metadata": {
        "id": "rdvfmlSo1Tm-"
      },
      "source": [
        "## Алгоритм преобразования"
      ]
    },
    {
      "cell_type": "markdown",
      "metadata": {
        "id": "xZmu0Dfa1Tm-"
      },
      "source": [
        "**Алгоритм**\n",
        "\n",
        "1. Cоздали матрицу со случайными числами размером 4*4\n",
        "2. Проверим, что она обратимая.\n",
        "3. Умножим матрицу на признаки обучающей и тестовой выборки.\n",
        "4. Обучение линейной регрессии на исходных и на зашифрованных данных.\n",
        "5. Сравнение получившихся метрик R2."
      ]
    },
    {
      "cell_type": "markdown",
      "metadata": {
        "id": "p9mZTMAh1Tm_"
      },
      "source": [
        " **Обоснование**\n",
        "\n",
        "$$X * P * ((X * P)^T * (X * P))^{-1}  * (X * P)^T *y$$"
      ]
    },
    {
      "cell_type": "markdown",
      "metadata": {
        "id": "X-hxRa1J1Tm_"
      },
      "source": [
        "## Проверка алгоритма"
      ]
    },
    {
      "cell_type": "markdown",
      "metadata": {
        "id": "3S7cTKj-1Tm_"
      },
      "source": [
        "Запрограммируйте этот алгоритм, применив матричные операции. Проверьте, что качество линейной регрессии из sklearn не отличается до и после преобразования. Примените метрику R2."
      ]
    },
    {
      "cell_type": "markdown",
      "metadata": {
        "id": "oq17DoUG1Tm_"
      },
      "source": [
        "1. Создаем матрицу со случайными числами."
      ]
    },
    {
      "cell_type": "code",
      "execution_count": 13,
      "metadata": {
        "colab": {
          "base_uri": "https://localhost:8080/"
        },
        "id": "iMmbxmAk1Tm_",
        "outputId": "edaeff47-47d7-4a12-bd21-80ac944bcf4d"
      },
      "outputs": [
        {
          "output_type": "stream",
          "name": "stdout",
          "text": [
            "[[-1.50092378  0.65396259 -0.32368831 -0.12758836]\n",
            " [-0.07347216  1.40394468 -1.37149115 -0.23453283]\n",
            " [ 1.24115932 -0.46614192  0.33914283  1.24432728]\n",
            " [-0.68703028  0.78216332  0.978496   -1.1522478 ]]\n"
          ]
        }
      ],
      "source": [
        "P = np.random.normal(size=(4, 4))\n",
        "print(P)"
      ]
    },
    {
      "cell_type": "code",
      "execution_count": 14,
      "metadata": {
        "colab": {
          "base_uri": "https://localhost:8080/"
        },
        "id": "2rktc8-11TnA",
        "outputId": "08a92095-2519-4285-aa59-f3c5abc20a6e"
      },
      "outputs": [
        {
          "output_type": "stream",
          "name": "stdout",
          "text": [
            "[[-0.65458523  0.26819879  0.09918335  0.12500139]\n",
            " [ 0.24610354  0.49772574  0.6362384   0.55852206]\n",
            " [ 0.16737642 -0.23089737  0.50840746  0.57749991]\n",
            " [ 0.69949381 -0.0181298   0.80449277 -0.07285145]]\n",
            "\n",
            "Подтвердилось! Матрица обратимая - по средней диагонали единицы!\n",
            "[[ 1.00000000e+00  1.89664229e-17 -1.73299058e-17 -1.85040966e-18]\n",
            " [-3.62939615e-18  1.00000000e+00  9.23703563e-17 -1.17590351e-16]\n",
            " [ 3.18068205e-17 -6.39624979e-17  1.00000000e+00 -1.11708647e-17]\n",
            " [ 1.00567248e-16  3.07643239e-17  2.43445833e-16  1.00000000e+00]]\n"
          ]
        }
      ],
      "source": [
        "P_inv = LA.inv(P)\n",
        "print(P_inv)\n",
        "\n",
        "print()\n",
        "print('Подтвердилось! Матрица обратимая - по средней диагонали единицы!')\n",
        "print(np.dot(P, P_inv))"
      ]
    },
    {
      "cell_type": "markdown",
      "metadata": {
        "id": "y_GWmCa91TnB"
      },
      "source": [
        "3. Найдем метрику R2 без шифрования данных."
      ]
    },
    {
      "cell_type": "code",
      "execution_count": 15,
      "metadata": {
        "colab": {
          "base_uri": "https://localhost:8080/"
        },
        "id": "0ZG7aL231TnB",
        "outputId": "07751c13-dd33-46e1-85eb-e00b96007548"
      },
      "outputs": [
        {
          "output_type": "stream",
          "name": "stdout",
          "text": [
            "Без шифрования метрика R2 равна: 0.43522756840833376\n"
          ]
        }
      ],
      "source": [
        "class LinearRegression:\n",
        "    def fit(self, features_train, target_train):\n",
        "        X = np.concatenate([np.ones((features_train.shape[0],1)), features_train], axis=1)\n",
        "        y = target_train\n",
        "        w = np.linalg.inv(X.T.dot(X)).dot(X.T).dot(y)\n",
        "        self.w = w[1:]\n",
        "        self.w0 = w[0]\n",
        "\n",
        "    def predict(self, features_valid):\n",
        "        return features_valid @ self.w + self.w0\n",
        "\n",
        "model = LinearRegression()\n",
        "model.fit(features_train, target_train)\n",
        "predictions = model.predict(features_valid)\n",
        "r2 = r2_score(target_valid, predictions)\n",
        "print('Без шифрования метрика R2 равна:', r2)"
      ]
    },
    {
      "cell_type": "markdown",
      "metadata": {
        "id": "9cr63AKg1TnB"
      },
      "source": [
        "4. Найдем метрику R2 с шифрованием данных."
      ]
    },
    {
      "cell_type": "code",
      "execution_count": 16,
      "metadata": {
        "colab": {
          "base_uri": "https://localhost:8080/"
        },
        "id": "JOgt4rxc1TnB",
        "outputId": "73bd779c-7a58-47a4-c8d0-d2729636b494"
      },
      "outputs": [
        {
          "output_type": "stream",
          "name": "stdout",
          "text": [
            "С шифрованием метрика R2 равна: 0.4352275622866336\n"
          ]
        }
      ],
      "source": [
        "features_train_P = features_train @ P\n",
        "features_valid_P = features_valid @ P\n",
        "#print(features_valid_P.head(3))\n",
        "#print(features_train_P.head(3))\n",
        "\n",
        "model_P = LinearRegression()\n",
        "model_P.fit(features_train_P, target_train)\n",
        "predictions = model_P.predict(features_valid_P)\n",
        "r2 = r2_score(target_valid, predictions)\n",
        "print('С шифрованием метрика R2 равна:', r2)"
      ]
    },
    {
      "cell_type": "markdown",
      "metadata": {
        "id": "g2_XsVrG1TnC"
      },
      "source": [
        "## Итоги работы:\n",
        "1. Получены данные от страховой компании, которые необходимо защитить шифрованием. В них нет пропусков и дубликатов: производить манипуляции по подготовке данных не понадобилось. Что сохранило время работы над проектом. Сразу разделила выборку на обучающую и тестовую.\n",
        "2. При детальном изучении данных мы нашли наших клиентов: это люди после 30 со средним достатком 40 000 рублей, холостые. Страховые выплаты популярны у клиентов среднего возраста 20-35 лет. Портрет клиента может понадобится для дальнейшего разработка услуг.\n",
        "3. По работе с матрицами проверила теорию, что данные не изменяться при шифровании данных на рандомную матрицу.\n",
        "4. Составила алгоритм преобразования и проработала его:\n",
        "- создала матрицу и проверила, что она обратимая,\n",
        "- создала класс лин.регресии с фунциями обучения и предсказания,\n",
        "- обучила по ним данные без шифрования, чтобы узнать метрику R2,\n",
        "- умножила рандомную таблицу на данные тестовой и обучающей выборки, применила к ней обучения и предсказаний, чтобы узнать метрику R2 на зашифрованных данных.\n",
        "5. Без шифрования метрика R2 равна: 0.4352275684083339. С шифрованием метрика R2 равна: 0.435227570267549. Можно сказать, что данные одинаковы. То есть качество обучения после шифрования данных осталось на прежнем уровне.\n",
        "6. Данное шифрование можно использовать в работе."
      ]
    }
  ],
  "metadata": {
    "ExecuteTimeLog": [
      {
        "duration": 435,
        "start_time": "2023-03-17T19:25:10.011Z"
      },
      {
        "duration": 97,
        "start_time": "2023-03-17T19:25:12.342Z"
      },
      {
        "duration": 8,
        "start_time": "2023-03-17T19:25:54.460Z"
      },
      {
        "duration": 7,
        "start_time": "2023-03-17T19:26:06.545Z"
      },
      {
        "duration": 9,
        "start_time": "2023-03-17T19:26:27.527Z"
      },
      {
        "duration": 7,
        "start_time": "2023-03-17T19:28:19.316Z"
      },
      {
        "duration": 11,
        "start_time": "2023-03-17T19:32:50.149Z"
      },
      {
        "duration": 486,
        "start_time": "2023-03-17T19:46:24.670Z"
      },
      {
        "duration": 154,
        "start_time": "2023-03-17T19:59:54.252Z"
      },
      {
        "duration": 156,
        "start_time": "2023-03-17T20:00:11.031Z"
      },
      {
        "duration": 335,
        "start_time": "2023-03-17T20:02:00.109Z"
      },
      {
        "duration": 131,
        "start_time": "2023-03-17T20:02:18.563Z"
      },
      {
        "duration": 86,
        "start_time": "2023-03-17T20:03:40.553Z"
      },
      {
        "duration": 3,
        "start_time": "2023-03-17T20:03:48.171Z"
      },
      {
        "duration": 477,
        "start_time": "2023-03-17T20:04:28.129Z"
      },
      {
        "duration": 52,
        "start_time": "2023-03-17T20:04:33.964Z"
      },
      {
        "duration": 27,
        "start_time": "2023-03-17T20:05:42.488Z"
      },
      {
        "duration": 193,
        "start_time": "2023-03-17T20:05:50.264Z"
      },
      {
        "duration": 279,
        "start_time": "2023-03-17T20:06:11.977Z"
      },
      {
        "duration": 366,
        "start_time": "2023-03-17T20:07:03.536Z"
      },
      {
        "duration": 219,
        "start_time": "2023-03-17T20:07:11.758Z"
      },
      {
        "duration": 223,
        "start_time": "2023-03-17T20:07:24.026Z"
      },
      {
        "duration": 236,
        "start_time": "2023-03-17T20:08:47.757Z"
      },
      {
        "duration": 223,
        "start_time": "2023-03-17T20:11:21.850Z"
      },
      {
        "duration": 200,
        "start_time": "2023-03-17T20:11:36.525Z"
      },
      {
        "duration": 210,
        "start_time": "2023-03-17T20:12:44.498Z"
      },
      {
        "duration": 190,
        "start_time": "2023-03-17T20:14:36.318Z"
      },
      {
        "duration": 181,
        "start_time": "2023-03-17T20:15:19.095Z"
      },
      {
        "duration": 216,
        "start_time": "2023-03-17T20:16:37.206Z"
      },
      {
        "duration": 194,
        "start_time": "2023-03-17T20:17:13.497Z"
      },
      {
        "duration": 376,
        "start_time": "2023-03-17T20:17:46.820Z"
      },
      {
        "duration": 256,
        "start_time": "2023-03-17T20:17:56.378Z"
      },
      {
        "duration": 201,
        "start_time": "2023-03-17T20:19:31.731Z"
      },
      {
        "duration": 194,
        "start_time": "2023-03-17T20:20:00.018Z"
      },
      {
        "duration": 199,
        "start_time": "2023-03-17T20:20:14.328Z"
      },
      {
        "duration": 225,
        "start_time": "2023-03-17T20:20:34.895Z"
      },
      {
        "duration": 239,
        "start_time": "2023-03-17T20:21:01.061Z"
      },
      {
        "duration": 11,
        "start_time": "2023-03-17T20:26:47.008Z"
      },
      {
        "duration": 223,
        "start_time": "2023-03-17T20:27:07.592Z"
      },
      {
        "duration": 29,
        "start_time": "2023-03-17T20:34:57.344Z"
      },
      {
        "duration": 17,
        "start_time": "2023-03-17T20:35:28.179Z"
      },
      {
        "duration": 12,
        "start_time": "2023-03-17T20:37:54.022Z"
      },
      {
        "duration": 12,
        "start_time": "2023-03-17T20:38:14.012Z"
      },
      {
        "duration": 1682,
        "start_time": "2023-03-21T16:37:16.932Z"
      },
      {
        "duration": 86,
        "start_time": "2023-03-21T16:37:23.810Z"
      },
      {
        "duration": 7,
        "start_time": "2023-03-21T16:37:26.318Z"
      },
      {
        "duration": 9,
        "start_time": "2023-03-21T16:37:29.180Z"
      },
      {
        "duration": 11,
        "start_time": "2023-03-21T16:37:32.256Z"
      },
      {
        "duration": 9,
        "start_time": "2023-03-21T16:37:34.725Z"
      },
      {
        "duration": 16,
        "start_time": "2023-03-21T16:37:37.249Z"
      },
      {
        "duration": 4,
        "start_time": "2023-03-21T16:43:27.700Z"
      },
      {
        "duration": 5,
        "start_time": "2023-03-21T16:44:11.320Z"
      },
      {
        "duration": 127,
        "start_time": "2023-03-21T16:46:35.391Z"
      },
      {
        "duration": 4,
        "start_time": "2023-03-21T16:47:01.853Z"
      },
      {
        "duration": 4,
        "start_time": "2023-03-21T16:47:05.490Z"
      },
      {
        "duration": 4,
        "start_time": "2023-03-21T16:52:53.926Z"
      },
      {
        "duration": 4,
        "start_time": "2023-03-21T16:55:10.071Z"
      },
      {
        "duration": 10,
        "start_time": "2023-03-21T16:56:28.158Z"
      },
      {
        "duration": 3,
        "start_time": "2023-03-21T16:56:49.990Z"
      },
      {
        "duration": 4,
        "start_time": "2023-03-21T16:57:06.188Z"
      },
      {
        "duration": 9,
        "start_time": "2023-03-21T16:57:12.207Z"
      },
      {
        "duration": 3,
        "start_time": "2023-03-21T16:57:45.842Z"
      },
      {
        "duration": 6,
        "start_time": "2023-03-21T16:57:50.445Z"
      },
      {
        "duration": 4,
        "start_time": "2023-03-21T16:58:02.307Z"
      },
      {
        "duration": 5,
        "start_time": "2023-03-21T16:58:05.112Z"
      },
      {
        "duration": 4,
        "start_time": "2023-03-21T16:58:20.883Z"
      },
      {
        "duration": 4,
        "start_time": "2023-03-21T16:58:27.591Z"
      },
      {
        "duration": 4,
        "start_time": "2023-03-21T16:58:29.940Z"
      },
      {
        "duration": 12,
        "start_time": "2023-03-21T17:00:13.625Z"
      },
      {
        "duration": 10,
        "start_time": "2023-03-21T17:00:26.027Z"
      },
      {
        "duration": 8,
        "start_time": "2023-03-21T17:00:55.582Z"
      },
      {
        "duration": 6,
        "start_time": "2023-03-21T17:01:21.803Z"
      },
      {
        "duration": 6,
        "start_time": "2023-03-21T17:02:55.619Z"
      },
      {
        "duration": 10,
        "start_time": "2023-03-21T17:18:21.014Z"
      },
      {
        "duration": 25,
        "start_time": "2023-03-21T17:18:30.802Z"
      },
      {
        "duration": 9,
        "start_time": "2023-03-21T17:18:35.852Z"
      },
      {
        "duration": 6,
        "start_time": "2023-03-21T17:19:32.812Z"
      },
      {
        "duration": 6,
        "start_time": "2023-03-21T17:20:13.291Z"
      },
      {
        "duration": 60,
        "start_time": "2023-03-22T19:48:19.570Z"
      },
      {
        "duration": 1568,
        "start_time": "2023-03-22T19:49:44.683Z"
      },
      {
        "duration": 151,
        "start_time": "2023-03-22T19:49:47.755Z"
      },
      {
        "duration": 10,
        "start_time": "2023-03-22T19:49:51.455Z"
      },
      {
        "duration": 9,
        "start_time": "2023-03-22T19:49:53.831Z"
      },
      {
        "duration": 8,
        "start_time": "2023-03-22T19:49:57.413Z"
      },
      {
        "duration": 9,
        "start_time": "2023-03-22T19:50:00.052Z"
      },
      {
        "duration": 11,
        "start_time": "2023-03-22T19:50:03.748Z"
      },
      {
        "duration": 4,
        "start_time": "2023-03-22T19:50:09.354Z"
      },
      {
        "duration": 13,
        "start_time": "2023-03-22T19:50:12.536Z"
      },
      {
        "duration": 12,
        "start_time": "2023-03-22T19:50:15.725Z"
      },
      {
        "duration": 80,
        "start_time": "2023-03-22T19:55:04.398Z"
      },
      {
        "duration": 14,
        "start_time": "2023-03-22T19:55:46.582Z"
      },
      {
        "duration": 5,
        "start_time": "2023-03-22T19:58:49.156Z"
      },
      {
        "duration": 7,
        "start_time": "2023-03-22T19:58:52.370Z"
      },
      {
        "duration": 10,
        "start_time": "2023-03-22T19:58:59.230Z"
      },
      {
        "duration": 10,
        "start_time": "2023-03-22T19:59:03.470Z"
      },
      {
        "duration": 1716,
        "start_time": "2023-03-23T05:57:21.924Z"
      },
      {
        "duration": 131,
        "start_time": "2023-03-23T05:57:24.628Z"
      },
      {
        "duration": 8,
        "start_time": "2023-03-23T05:57:28.135Z"
      },
      {
        "duration": 11,
        "start_time": "2023-03-23T05:57:30.753Z"
      },
      {
        "duration": 6,
        "start_time": "2023-03-23T05:57:34.076Z"
      },
      {
        "duration": 9,
        "start_time": "2023-03-23T05:57:36.376Z"
      },
      {
        "duration": 12,
        "start_time": "2023-03-23T05:57:38.853Z"
      },
      {
        "duration": 5,
        "start_time": "2023-03-23T05:57:44.986Z"
      },
      {
        "duration": 20,
        "start_time": "2023-03-23T05:57:47.289Z"
      },
      {
        "duration": 10,
        "start_time": "2023-03-23T05:57:50.182Z"
      },
      {
        "duration": 268,
        "start_time": "2023-03-23T06:11:01.456Z"
      },
      {
        "duration": 35,
        "start_time": "2023-03-23T06:12:16.172Z"
      },
      {
        "duration": 15,
        "start_time": "2023-03-23T06:12:42.699Z"
      },
      {
        "duration": 33,
        "start_time": "2023-03-23T06:13:11.571Z"
      },
      {
        "duration": 7,
        "start_time": "2023-03-23T06:13:18.817Z"
      },
      {
        "duration": 4,
        "start_time": "2023-03-23T06:13:22.289Z"
      },
      {
        "duration": 102,
        "start_time": "2023-03-23T06:13:27.404Z"
      },
      {
        "duration": 100,
        "start_time": "2023-03-23T06:13:31.005Z"
      },
      {
        "duration": 19,
        "start_time": "2023-03-23T06:23:08.684Z"
      },
      {
        "duration": 20,
        "start_time": "2023-03-23T06:24:40.182Z"
      },
      {
        "duration": 3,
        "start_time": "2023-03-23T06:28:37.033Z"
      },
      {
        "duration": 36,
        "start_time": "2023-03-23T06:28:39.575Z"
      },
      {
        "duration": 8,
        "start_time": "2023-03-23T06:28:42.502Z"
      },
      {
        "duration": 9,
        "start_time": "2023-03-23T06:28:45.171Z"
      },
      {
        "duration": 7,
        "start_time": "2023-03-23T06:28:48.320Z"
      },
      {
        "duration": 9,
        "start_time": "2023-03-23T06:28:53.061Z"
      },
      {
        "duration": 17,
        "start_time": "2023-03-23T06:29:00.582Z"
      },
      {
        "duration": 15,
        "start_time": "2023-03-23T06:30:08.219Z"
      },
      {
        "duration": 257,
        "start_time": "2023-03-23T06:30:18.091Z"
      },
      {
        "duration": 267,
        "start_time": "2023-03-23T06:30:21.856Z"
      },
      {
        "duration": 4,
        "start_time": "2023-03-23T06:30:27.820Z"
      },
      {
        "duration": 12,
        "start_time": "2023-03-23T06:30:31.120Z"
      },
      {
        "duration": 61,
        "start_time": "2023-03-23T06:31:33.242Z"
      },
      {
        "duration": 11,
        "start_time": "2023-03-23T06:34:24.034Z"
      },
      {
        "duration": 33,
        "start_time": "2023-03-23T06:34:30.579Z"
      },
      {
        "duration": 14,
        "start_time": "2023-03-23T06:37:11.853Z"
      },
      {
        "duration": 16,
        "start_time": "2023-03-23T06:37:18.913Z"
      },
      {
        "duration": 120,
        "start_time": "2023-03-23T07:03:55.283Z"
      },
      {
        "duration": 132,
        "start_time": "2023-03-23T07:04:33.977Z"
      },
      {
        "duration": 14,
        "start_time": "2023-03-23T07:04:48.088Z"
      },
      {
        "duration": 29,
        "start_time": "2023-03-23T07:05:14.562Z"
      },
      {
        "duration": 51,
        "start_time": "2023-03-23T07:05:21.079Z"
      },
      {
        "duration": 13,
        "start_time": "2023-03-23T07:05:28.454Z"
      },
      {
        "duration": 1666,
        "start_time": "2023-03-24T03:57:00.628Z"
      },
      {
        "duration": 40,
        "start_time": "2023-03-24T03:57:02.296Z"
      },
      {
        "duration": 7,
        "start_time": "2023-03-24T03:57:02.337Z"
      },
      {
        "duration": 14,
        "start_time": "2023-03-24T03:57:02.345Z"
      },
      {
        "duration": 6,
        "start_time": "2023-03-24T03:57:02.361Z"
      },
      {
        "duration": 13,
        "start_time": "2023-03-24T03:57:02.369Z"
      },
      {
        "duration": 35,
        "start_time": "2023-03-24T03:57:02.384Z"
      },
      {
        "duration": 277,
        "start_time": "2023-03-24T03:57:02.421Z"
      },
      {
        "duration": 199,
        "start_time": "2023-03-24T03:57:02.700Z"
      },
      {
        "duration": 5,
        "start_time": "2023-03-24T03:57:02.900Z"
      },
      {
        "duration": 18,
        "start_time": "2023-03-24T03:57:02.906Z"
      },
      {
        "duration": 99,
        "start_time": "2023-03-24T03:57:02.926Z"
      },
      {
        "duration": 197,
        "start_time": "2023-03-24T03:57:03.027Z"
      },
      {
        "duration": 10,
        "start_time": "2023-03-24T04:23:27.609Z"
      },
      {
        "duration": 9,
        "start_time": "2023-03-24T04:23:35.513Z"
      },
      {
        "duration": 9,
        "start_time": "2023-03-24T04:25:47.243Z"
      },
      {
        "duration": 10,
        "start_time": "2023-03-24T04:26:51.338Z"
      },
      {
        "duration": 48,
        "start_time": "2023-03-24T09:42:40.824Z"
      },
      {
        "duration": 1598,
        "start_time": "2023-03-24T09:42:44.442Z"
      },
      {
        "duration": 119,
        "start_time": "2023-03-24T09:42:47.624Z"
      },
      {
        "duration": 34,
        "start_time": "2023-03-24T09:44:25.474Z"
      },
      {
        "duration": 7,
        "start_time": "2023-03-24T09:44:27.955Z"
      },
      {
        "duration": 86,
        "start_time": "2023-03-24T09:44:30.767Z"
      },
      {
        "duration": 31,
        "start_time": "2023-03-24T09:44:47.295Z"
      },
      {
        "duration": 11,
        "start_time": "2023-03-24T09:52:01.894Z"
      },
      {
        "duration": 21,
        "start_time": "2023-03-24T09:52:24.702Z"
      },
      {
        "duration": 68,
        "start_time": "2023-03-24T09:52:46.058Z"
      },
      {
        "duration": 25,
        "start_time": "2023-03-24T09:55:12.704Z"
      },
      {
        "duration": 23,
        "start_time": "2023-03-24T09:55:29.781Z"
      },
      {
        "duration": 11,
        "start_time": "2023-03-24T09:55:42.236Z"
      },
      {
        "duration": 25,
        "start_time": "2023-03-24T09:56:32.852Z"
      },
      {
        "duration": 1882,
        "start_time": "2023-03-25T20:06:55.250Z"
      },
      {
        "duration": 153,
        "start_time": "2023-03-25T20:06:58.684Z"
      },
      {
        "duration": 7,
        "start_time": "2023-03-25T20:07:04.315Z"
      },
      {
        "duration": 21,
        "start_time": "2023-03-25T20:07:08.249Z"
      },
      {
        "duration": 14,
        "start_time": "2023-03-25T20:07:11.049Z"
      },
      {
        "duration": 50,
        "start_time": "2023-03-25T20:07:13.438Z"
      },
      {
        "duration": 12,
        "start_time": "2023-03-25T20:07:19.787Z"
      },
      {
        "duration": 21,
        "start_time": "2023-03-25T20:08:21.626Z"
      },
      {
        "duration": 89,
        "start_time": "2023-03-25T20:09:08.761Z"
      },
      {
        "duration": 132,
        "start_time": "2023-03-25T20:15:22.490Z"
      },
      {
        "duration": 12,
        "start_time": "2023-03-25T20:17:42.287Z"
      },
      {
        "duration": 106,
        "start_time": "2023-03-25T20:19:15.795Z"
      },
      {
        "duration": 84409,
        "start_time": "2023-03-25T20:19:25.189Z"
      },
      {
        "duration": 33,
        "start_time": "2023-03-25T20:20:59.217Z"
      },
      {
        "duration": 4,
        "start_time": "2023-03-25T20:22:08.388Z"
      },
      {
        "duration": 1627,
        "start_time": "2023-03-25T20:22:34.062Z"
      },
      {
        "duration": 6,
        "start_time": "2023-03-25T20:22:55.213Z"
      },
      {
        "duration": 13,
        "start_time": "2023-03-25T20:23:08.551Z"
      },
      {
        "duration": 10,
        "start_time": "2023-03-25T20:23:20.459Z"
      },
      {
        "duration": 256,
        "start_time": "2023-03-25T20:31:39.647Z"
      },
      {
        "duration": 4,
        "start_time": "2023-03-25T20:35:53.118Z"
      },
      {
        "duration": 137,
        "start_time": "2023-03-25T20:36:07.700Z"
      },
      {
        "duration": 8,
        "start_time": "2023-03-25T20:36:37.636Z"
      },
      {
        "duration": 6,
        "start_time": "2023-03-25T20:36:41.088Z"
      },
      {
        "duration": 9,
        "start_time": "2023-03-25T20:39:34.909Z"
      },
      {
        "duration": 27,
        "start_time": "2023-03-25T20:40:08.318Z"
      },
      {
        "duration": 16,
        "start_time": "2023-03-25T20:40:30.604Z"
      },
      {
        "duration": 4,
        "start_time": "2023-03-25T20:40:54.908Z"
      },
      {
        "duration": 24,
        "start_time": "2023-03-25T20:41:00.684Z"
      },
      {
        "duration": 50,
        "start_time": "2023-03-25T20:41:04.099Z"
      },
      {
        "duration": 39,
        "start_time": "2023-03-25T20:42:05.800Z"
      },
      {
        "duration": 8,
        "start_time": "2023-03-25T20:43:17.111Z"
      },
      {
        "duration": 6,
        "start_time": "2023-03-25T20:43:38.567Z"
      },
      {
        "duration": 16,
        "start_time": "2023-03-25T20:56:42.054Z"
      },
      {
        "duration": 22,
        "start_time": "2023-03-25T20:57:18.989Z"
      },
      {
        "duration": 29,
        "start_time": "2023-03-25T20:57:38.217Z"
      },
      {
        "duration": 8,
        "start_time": "2023-03-25T20:58:00.104Z"
      },
      {
        "duration": 1810,
        "start_time": "2023-03-26T11:10:12.580Z"
      },
      {
        "duration": 151,
        "start_time": "2023-03-26T11:10:14.915Z"
      },
      {
        "duration": 7,
        "start_time": "2023-03-26T11:10:20.089Z"
      },
      {
        "duration": 25,
        "start_time": "2023-03-26T11:10:22.540Z"
      },
      {
        "duration": 6,
        "start_time": "2023-03-26T11:10:25.472Z"
      },
      {
        "duration": 7,
        "start_time": "2023-03-26T11:10:27.889Z"
      },
      {
        "duration": 20,
        "start_time": "2023-03-26T11:10:31.718Z"
      },
      {
        "duration": 36,
        "start_time": "2023-03-26T11:10:36.733Z"
      },
      {
        "duration": 12,
        "start_time": "2023-03-26T11:10:42.381Z"
      },
      {
        "duration": 255,
        "start_time": "2023-03-26T11:10:46.033Z"
      },
      {
        "duration": 253,
        "start_time": "2023-03-26T11:10:49.741Z"
      },
      {
        "duration": 4,
        "start_time": "2023-03-26T11:10:55.625Z"
      },
      {
        "duration": 44,
        "start_time": "2023-03-26T11:11:02.745Z"
      },
      {
        "duration": 17,
        "start_time": "2023-03-26T11:11:05.669Z"
      },
      {
        "duration": 9,
        "start_time": "2023-03-26T11:11:09.727Z"
      },
      {
        "duration": 193,
        "start_time": "2023-03-26T11:26:48.494Z"
      },
      {
        "duration": 204,
        "start_time": "2023-03-26T11:27:30.483Z"
      },
      {
        "duration": 288,
        "start_time": "2023-03-26T11:27:42.310Z"
      },
      {
        "duration": 201,
        "start_time": "2023-03-26T11:28:03.474Z"
      },
      {
        "duration": 214,
        "start_time": "2023-03-26T11:29:08.862Z"
      },
      {
        "duration": 208,
        "start_time": "2023-03-26T11:29:21.923Z"
      },
      {
        "duration": 47,
        "start_time": "2023-03-27T07:14:35.452Z"
      },
      {
        "duration": 1460,
        "start_time": "2023-03-27T07:14:59.909Z"
      },
      {
        "duration": 82,
        "start_time": "2023-03-27T07:15:04.999Z"
      },
      {
        "duration": 6,
        "start_time": "2023-03-27T07:15:08.108Z"
      },
      {
        "duration": 11,
        "start_time": "2023-03-27T07:15:10.488Z"
      },
      {
        "duration": 5,
        "start_time": "2023-03-27T07:15:14.413Z"
      },
      {
        "duration": 7,
        "start_time": "2023-03-27T07:15:16.867Z"
      },
      {
        "duration": 19,
        "start_time": "2023-03-27T07:15:19.784Z"
      },
      {
        "duration": 77,
        "start_time": "2023-03-27T07:15:24.241Z"
      },
      {
        "duration": 12,
        "start_time": "2023-03-27T07:16:21.013Z"
      },
      {
        "duration": 12,
        "start_time": "2023-03-27T07:16:53.512Z"
      },
      {
        "duration": 8,
        "start_time": "2023-03-27T07:20:01.003Z"
      },
      {
        "duration": 9,
        "start_time": "2023-03-27T07:20:25.490Z"
      },
      {
        "duration": 8,
        "start_time": "2023-03-27T07:20:29.927Z"
      },
      {
        "duration": 8,
        "start_time": "2023-03-27T07:21:18.017Z"
      },
      {
        "duration": 60,
        "start_time": "2023-03-27T07:22:39.325Z"
      },
      {
        "duration": 68,
        "start_time": "2023-03-27T07:22:56.271Z"
      },
      {
        "duration": 12,
        "start_time": "2023-03-27T07:23:32.958Z"
      },
      {
        "duration": 5,
        "start_time": "2023-03-27T07:23:40.086Z"
      },
      {
        "duration": 55,
        "start_time": "2023-03-27T07:26:21.300Z"
      },
      {
        "duration": 11,
        "start_time": "2023-03-27T07:26:37.694Z"
      },
      {
        "duration": 201,
        "start_time": "2023-03-27T07:26:53.462Z"
      },
      {
        "duration": 207,
        "start_time": "2023-03-27T07:26:57.885Z"
      },
      {
        "duration": 192,
        "start_time": "2023-03-27T07:27:15.763Z"
      },
      {
        "duration": 3,
        "start_time": "2023-03-27T07:28:53.454Z"
      },
      {
        "duration": 10,
        "start_time": "2023-03-27T07:29:12.959Z"
      },
      {
        "duration": 5,
        "start_time": "2023-03-27T07:30:52.442Z"
      },
      {
        "duration": 10,
        "start_time": "2023-03-27T07:30:58.933Z"
      },
      {
        "duration": 8,
        "start_time": "2023-03-27T07:31:03.028Z"
      },
      {
        "duration": 9,
        "start_time": "2023-03-27T09:24:01.168Z"
      },
      {
        "duration": 36,
        "start_time": "2023-03-27T09:24:04.508Z"
      },
      {
        "duration": 11,
        "start_time": "2023-03-27T09:24:07.942Z"
      },
      {
        "duration": 8,
        "start_time": "2023-03-27T09:24:11.339Z"
      },
      {
        "duration": 31,
        "start_time": "2023-03-27T09:24:14.113Z"
      },
      {
        "duration": 11,
        "start_time": "2023-03-27T09:24:18.613Z"
      },
      {
        "duration": 30,
        "start_time": "2023-03-27T09:24:26.972Z"
      },
      {
        "duration": 197,
        "start_time": "2023-03-27T09:24:34.033Z"
      },
      {
        "duration": 292,
        "start_time": "2023-03-27T09:24:37.823Z"
      },
      {
        "duration": 183,
        "start_time": "2023-03-27T09:24:41.713Z"
      },
      {
        "duration": 6,
        "start_time": "2023-03-27T09:32:13.661Z"
      },
      {
        "duration": 13,
        "start_time": "2023-03-27T09:32:17.321Z"
      },
      {
        "duration": 8,
        "start_time": "2023-03-27T09:32:20.122Z"
      },
      {
        "duration": 145,
        "start_time": "2023-03-27T09:32:43.263Z"
      },
      {
        "duration": 90,
        "start_time": "2023-03-27T09:37:33.427Z"
      },
      {
        "duration": 3210,
        "start_time": "2023-03-27T16:28:13.330Z"
      }
    ],
    "kernelspec": {
      "display_name": "Python 3 (ipykernel)",
      "language": "python",
      "name": "python3"
    },
    "language_info": {
      "codemirror_mode": {
        "name": "ipython",
        "version": 3
      },
      "file_extension": ".py",
      "mimetype": "text/x-python",
      "name": "python",
      "nbconvert_exporter": "python",
      "pygments_lexer": "ipython3",
      "version": "3.9.5"
    },
    "toc": {
      "base_numbering": 1,
      "nav_menu": {},
      "number_sections": true,
      "sideBar": true,
      "skip_h1_title": true,
      "title_cell": "Содержание",
      "title_sidebar": "Contents",
      "toc_cell": true,
      "toc_position": {
        "height": "calc(100% - 180px)",
        "left": "10px",
        "top": "150px",
        "width": "165px"
      },
      "toc_section_display": true,
      "toc_window_display": true
    },
    "colab": {
      "provenance": []
    }
  },
  "nbformat": 4,
  "nbformat_minor": 0
}