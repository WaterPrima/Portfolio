{
  "cells": [
    {
      "cell_type": "markdown",
      "metadata": {
        "id": "EBFnijGlx2zE"
      },
      "source": [
        "# Рекомендация тарифов\n",
        "\n",
        "Датасет содержит данные о поведении клиентов, которые уже перешли н тарифы. Нужно построить модель для задачи классификации, которая выберет подходящий тариф.\n",
        "\n",
        "Необходимо построить модель со значением *accuracy* не менее 0.75 и проверить его на тестовой выборке."
      ]
    },
    {
      "cell_type": "markdown",
      "source": [
        "## <u>План проекта</u>\n",
        "\n",
        "**Обзор данных:**\n",
        "* Импорт необходимых библиотек;\n",
        "* Чтение файла и сохранение полученных данных в переменные;\n",
        "* Получение общей информации (head, info);\n",
        "\n",
        "**Разделение данных на выборки:**\n",
        "- тренировочная,\n",
        "- тестовая,\n",
        "- валидационная.\n",
        "\n",
        "**Обучение моделей:**\n",
        "* DecisionTreeClassifier;\n",
        "* RandomForestClassifier;\n",
        "* LogisticRegression.\n",
        "\n",
        "**Проверка лучшей модели на тестовой выборке:**\n",
        "* объединение тренировочной и валидационной выборки;\n",
        "* тестирование модели на ней.\n",
        "\n",
        "**(бонус) Проверка модели на адекватность**\n",
        "\n",
        "**Итоги работы**"
      ],
      "metadata": {
        "id": "Aua4ItNQzy1D"
      }
    },
    {
      "cell_type": "markdown",
      "metadata": {
        "id": "CM_-YWSnx2zH"
      },
      "source": [
        "## Обзор данных"
      ]
    },
    {
      "cell_type": "markdown",
      "source": [
        "Импортируем библиотеки:"
      ],
      "metadata": {
        "id": "Tun6449e0iJC"
      }
    },
    {
      "cell_type": "code",
      "execution_count": 1,
      "metadata": {
        "id": "wCdlbEDDx2zI"
      },
      "outputs": [],
      "source": [
        "import pandas as pd\n",
        "import matplotlib.pyplot as plt\n",
        "from tqdm import tqdm\n",
        "\n",
        "from sklearn.tree import DecisionTreeClassifier\n",
        "from sklearn.metrics import accuracy_score\n",
        "from sklearn.model_selection import train_test_split\n",
        "from sklearn import tree\n",
        "\n",
        "from sklearn.ensemble import RandomForestClassifier\n",
        "from sklearn.linear_model import LogisticRegression\n",
        "from sklearn.dummy import DummyClassifier"
      ]
    },
    {
      "cell_type": "markdown",
      "source": [
        "Прочитаем файл:"
      ],
      "metadata": {
        "id": "b55RcJ2I0qo-"
      }
    },
    {
      "cell_type": "code",
      "execution_count": 2,
      "metadata": {
        "colab": {
          "base_uri": "https://localhost:8080/",
          "height": 206
        },
        "id": "b6mG5Pc2x2zM",
        "outputId": "ca2a4d6f-3859-4863-f41d-e1963d27469d"
      },
      "outputs": [
        {
          "output_type": "display_data",
          "data": {
            "text/plain": [
              "   calls  minutes  messages   mb_used  is_ultra\n",
              "0   40.0   311.90      83.0  19915.42         0\n",
              "1   85.0   516.75      56.0  22696.96         0\n",
              "2   77.0   467.66      86.0  21060.45         0\n",
              "3  106.0   745.53      81.0   8437.39         1\n",
              "4   66.0   418.74       1.0  14502.75         0"
            ],
            "text/html": [
              "\n",
              "\n",
              "  <div id=\"df-b2740308-79ad-44e2-87ac-71da32e91800\">\n",
              "    <div class=\"colab-df-container\">\n",
              "      <div>\n",
              "<style scoped>\n",
              "    .dataframe tbody tr th:only-of-type {\n",
              "        vertical-align: middle;\n",
              "    }\n",
              "\n",
              "    .dataframe tbody tr th {\n",
              "        vertical-align: top;\n",
              "    }\n",
              "\n",
              "    .dataframe thead th {\n",
              "        text-align: right;\n",
              "    }\n",
              "</style>\n",
              "<table border=\"1\" class=\"dataframe\">\n",
              "  <thead>\n",
              "    <tr style=\"text-align: right;\">\n",
              "      <th></th>\n",
              "      <th>calls</th>\n",
              "      <th>minutes</th>\n",
              "      <th>messages</th>\n",
              "      <th>mb_used</th>\n",
              "      <th>is_ultra</th>\n",
              "    </tr>\n",
              "  </thead>\n",
              "  <tbody>\n",
              "    <tr>\n",
              "      <th>0</th>\n",
              "      <td>40.0</td>\n",
              "      <td>311.90</td>\n",
              "      <td>83.0</td>\n",
              "      <td>19915.42</td>\n",
              "      <td>0</td>\n",
              "    </tr>\n",
              "    <tr>\n",
              "      <th>1</th>\n",
              "      <td>85.0</td>\n",
              "      <td>516.75</td>\n",
              "      <td>56.0</td>\n",
              "      <td>22696.96</td>\n",
              "      <td>0</td>\n",
              "    </tr>\n",
              "    <tr>\n",
              "      <th>2</th>\n",
              "      <td>77.0</td>\n",
              "      <td>467.66</td>\n",
              "      <td>86.0</td>\n",
              "      <td>21060.45</td>\n",
              "      <td>0</td>\n",
              "    </tr>\n",
              "    <tr>\n",
              "      <th>3</th>\n",
              "      <td>106.0</td>\n",
              "      <td>745.53</td>\n",
              "      <td>81.0</td>\n",
              "      <td>8437.39</td>\n",
              "      <td>1</td>\n",
              "    </tr>\n",
              "    <tr>\n",
              "      <th>4</th>\n",
              "      <td>66.0</td>\n",
              "      <td>418.74</td>\n",
              "      <td>1.0</td>\n",
              "      <td>14502.75</td>\n",
              "      <td>0</td>\n",
              "    </tr>\n",
              "  </tbody>\n",
              "</table>\n",
              "</div>\n",
              "      <button class=\"colab-df-convert\" onclick=\"convertToInteractive('df-b2740308-79ad-44e2-87ac-71da32e91800')\"\n",
              "              title=\"Convert this dataframe to an interactive table.\"\n",
              "              style=\"display:none;\">\n",
              "\n",
              "  <svg xmlns=\"http://www.w3.org/2000/svg\" height=\"24px\"viewBox=\"0 0 24 24\"\n",
              "       width=\"24px\">\n",
              "    <path d=\"M0 0h24v24H0V0z\" fill=\"none\"/>\n",
              "    <path d=\"M18.56 5.44l.94 2.06.94-2.06 2.06-.94-2.06-.94-.94-2.06-.94 2.06-2.06.94zm-11 1L8.5 8.5l.94-2.06 2.06-.94-2.06-.94L8.5 2.5l-.94 2.06-2.06.94zm10 10l.94 2.06.94-2.06 2.06-.94-2.06-.94-.94-2.06-.94 2.06-2.06.94z\"/><path d=\"M17.41 7.96l-1.37-1.37c-.4-.4-.92-.59-1.43-.59-.52 0-1.04.2-1.43.59L10.3 9.45l-7.72 7.72c-.78.78-.78 2.05 0 2.83L4 21.41c.39.39.9.59 1.41.59.51 0 1.02-.2 1.41-.59l7.78-7.78 2.81-2.81c.8-.78.8-2.07 0-2.86zM5.41 20L4 18.59l7.72-7.72 1.47 1.35L5.41 20z\"/>\n",
              "  </svg>\n",
              "      </button>\n",
              "\n",
              "\n",
              "\n",
              "    <div id=\"df-f49a8ef5-b154-407d-9b84-37e418a35f9f\">\n",
              "      <button class=\"colab-df-quickchart\" onclick=\"quickchart('df-f49a8ef5-b154-407d-9b84-37e418a35f9f')\"\n",
              "              title=\"Suggest charts.\"\n",
              "              style=\"display:none;\">\n",
              "\n",
              "<svg xmlns=\"http://www.w3.org/2000/svg\" height=\"24px\"viewBox=\"0 0 24 24\"\n",
              "     width=\"24px\">\n",
              "    <g>\n",
              "        <path d=\"M19 3H5c-1.1 0-2 .9-2 2v14c0 1.1.9 2 2 2h14c1.1 0 2-.9 2-2V5c0-1.1-.9-2-2-2zM9 17H7v-7h2v7zm4 0h-2V7h2v10zm4 0h-2v-4h2v4z\"/>\n",
              "    </g>\n",
              "</svg>\n",
              "      </button>\n",
              "    </div>\n",
              "\n",
              "<style>\n",
              "  .colab-df-quickchart {\n",
              "    background-color: #E8F0FE;\n",
              "    border: none;\n",
              "    border-radius: 50%;\n",
              "    cursor: pointer;\n",
              "    display: none;\n",
              "    fill: #1967D2;\n",
              "    height: 32px;\n",
              "    padding: 0 0 0 0;\n",
              "    width: 32px;\n",
              "  }\n",
              "\n",
              "  .colab-df-quickchart:hover {\n",
              "    background-color: #E2EBFA;\n",
              "    box-shadow: 0px 1px 2px rgba(60, 64, 67, 0.3), 0px 1px 3px 1px rgba(60, 64, 67, 0.15);\n",
              "    fill: #174EA6;\n",
              "  }\n",
              "\n",
              "  [theme=dark] .colab-df-quickchart {\n",
              "    background-color: #3B4455;\n",
              "    fill: #D2E3FC;\n",
              "  }\n",
              "\n",
              "  [theme=dark] .colab-df-quickchart:hover {\n",
              "    background-color: #434B5C;\n",
              "    box-shadow: 0px 1px 3px 1px rgba(0, 0, 0, 0.15);\n",
              "    filter: drop-shadow(0px 1px 2px rgba(0, 0, 0, 0.3));\n",
              "    fill: #FFFFFF;\n",
              "  }\n",
              "</style>\n",
              "\n",
              "    <script>\n",
              "      async function quickchart(key) {\n",
              "        const containerElement = document.querySelector('#' + key);\n",
              "        const charts = await google.colab.kernel.invokeFunction(\n",
              "            'suggestCharts', [key], {});\n",
              "      }\n",
              "    </script>\n",
              "\n",
              "      <script>\n",
              "\n",
              "function displayQuickchartButton(domScope) {\n",
              "  let quickchartButtonEl =\n",
              "    domScope.querySelector('#df-f49a8ef5-b154-407d-9b84-37e418a35f9f button.colab-df-quickchart');\n",
              "  quickchartButtonEl.style.display =\n",
              "    google.colab.kernel.accessAllowed ? 'block' : 'none';\n",
              "}\n",
              "\n",
              "        displayQuickchartButton(document);\n",
              "      </script>\n",
              "      <style>\n",
              "    .colab-df-container {\n",
              "      display:flex;\n",
              "      flex-wrap:wrap;\n",
              "      gap: 12px;\n",
              "    }\n",
              "\n",
              "    .colab-df-convert {\n",
              "      background-color: #E8F0FE;\n",
              "      border: none;\n",
              "      border-radius: 50%;\n",
              "      cursor: pointer;\n",
              "      display: none;\n",
              "      fill: #1967D2;\n",
              "      height: 32px;\n",
              "      padding: 0 0 0 0;\n",
              "      width: 32px;\n",
              "    }\n",
              "\n",
              "    .colab-df-convert:hover {\n",
              "      background-color: #E2EBFA;\n",
              "      box-shadow: 0px 1px 2px rgba(60, 64, 67, 0.3), 0px 1px 3px 1px rgba(60, 64, 67, 0.15);\n",
              "      fill: #174EA6;\n",
              "    }\n",
              "\n",
              "    [theme=dark] .colab-df-convert {\n",
              "      background-color: #3B4455;\n",
              "      fill: #D2E3FC;\n",
              "    }\n",
              "\n",
              "    [theme=dark] .colab-df-convert:hover {\n",
              "      background-color: #434B5C;\n",
              "      box-shadow: 0px 1px 3px 1px rgba(0, 0, 0, 0.15);\n",
              "      filter: drop-shadow(0px 1px 2px rgba(0, 0, 0, 0.3));\n",
              "      fill: #FFFFFF;\n",
              "    }\n",
              "  </style>\n",
              "\n",
              "      <script>\n",
              "        const buttonEl =\n",
              "          document.querySelector('#df-b2740308-79ad-44e2-87ac-71da32e91800 button.colab-df-convert');\n",
              "        buttonEl.style.display =\n",
              "          google.colab.kernel.accessAllowed ? 'block' : 'none';\n",
              "\n",
              "        async function convertToInteractive(key) {\n",
              "          const element = document.querySelector('#df-b2740308-79ad-44e2-87ac-71da32e91800');\n",
              "          const dataTable =\n",
              "            await google.colab.kernel.invokeFunction('convertToInteractive',\n",
              "                                                     [key], {});\n",
              "          if (!dataTable) return;\n",
              "\n",
              "          const docLinkHtml = 'Like what you see? Visit the ' +\n",
              "            '<a target=\"_blank\" href=https://colab.research.google.com/notebooks/data_table.ipynb>data table notebook</a>'\n",
              "            + ' to learn more about interactive tables.';\n",
              "          element.innerHTML = '';\n",
              "          dataTable['output_type'] = 'display_data';\n",
              "          await google.colab.output.renderOutput(dataTable, element);\n",
              "          const docLink = document.createElement('div');\n",
              "          docLink.innerHTML = docLinkHtml;\n",
              "          element.appendChild(docLink);\n",
              "        }\n",
              "      </script>\n",
              "    </div>\n",
              "  </div>\n"
            ]
          },
          "metadata": {}
        }
      ],
      "source": [
        "tariffs = pd.read_csv('/content/users_behavior.csv')\n",
        "display(tariffs.head())"
      ]
    },
    {
      "cell_type": "markdown",
      "source": [
        "Проверим пропуски:"
      ],
      "metadata": {
        "id": "ar3rh6P70pmO"
      }
    },
    {
      "cell_type": "code",
      "execution_count": 3,
      "metadata": {
        "colab": {
          "base_uri": "https://localhost:8080/"
        },
        "id": "dbk9qalux2zN",
        "outputId": "f2de219c-9481-4808-b886-fe22e71b41e1"
      },
      "outputs": [
        {
          "output_type": "execute_result",
          "data": {
            "text/plain": [
              "calls       0\n",
              "minutes     0\n",
              "messages    0\n",
              "mb_used     0\n",
              "is_ultra    0\n",
              "dtype: int64"
            ]
          },
          "metadata": {},
          "execution_count": 3
        }
      ],
      "source": [
        "tariffs.isna().sum()"
      ]
    },
    {
      "cell_type": "markdown",
      "metadata": {
        "id": "YhwrbVRJx2zQ"
      },
      "source": [
        "## Разделение данных на выборки"
      ]
    },
    {
      "cell_type": "code",
      "execution_count": 4,
      "metadata": {
        "id": "7Vi1SeDXx2zR"
      },
      "outputs": [],
      "source": [
        "train_valid, test = train_test_split(tariffs, test_size=0.2, stratify = tariffs['is_ultra'])\n",
        "train, valid = train_test_split(train_valid, test_size=0.25, stratify = train_valid['is_ultra'])\n"
      ]
    },
    {
      "cell_type": "code",
      "execution_count": 5,
      "metadata": {
        "colab": {
          "base_uri": "https://localhost:8080/"
        },
        "id": "UYnFStMax2zS",
        "outputId": "d24da13c-5303-44e9-d465-46eac01bfef3"
      },
      "outputs": [
        {
          "output_type": "stream",
          "name": "stdout",
          "text": [
            "(1928, 4)\n",
            "(1928,)\n",
            "(643, 4)\n",
            "(643,)\n",
            "(643, 4)\n",
            "(643,)\n"
          ]
        }
      ],
      "source": [
        "features_train = train.drop(['is_ultra'], axis=1)\n",
        "target_train = train['is_ultra']\n",
        "\n",
        "features_valid = valid.drop(['is_ultra'], axis=1)\n",
        "target_valid = valid['is_ultra']\n",
        "\n",
        "features_test = test.drop(['is_ultra'], axis=1)\n",
        "target_test = test['is_ultra']\n",
        "\n",
        "ml= [features_train, target_train, features_valid, target_valid, features_test, target_test]\n",
        "for i in ml:\n",
        "  print(i.shape)"
      ]
    },
    {
      "cell_type": "markdown",
      "metadata": {
        "id": "hOLPN8Dox2zU"
      },
      "source": [
        "## Обучение моделей\n",
        "на тренировочной и валидационной(чтобы не переобучиться) выборке."
      ]
    },
    {
      "cell_type": "markdown",
      "source": [
        "DecisionTreeClassifier:"
      ],
      "metadata": {
        "id": "Eb5DqKvy2UJd"
      }
    },
    {
      "cell_type": "code",
      "execution_count": 6,
      "metadata": {
        "colab": {
          "base_uri": "https://localhost:8080/"
        },
        "id": "v1hNJEo0x2zV",
        "outputId": "98d50ff2-7f0c-49be-80d1-86efd83d741f"
      },
      "outputs": [
        {
          "output_type": "stream",
          "name": "stdout",
          "text": [
            "Accuracy лучшей модели: 0.8895228215767634\n",
            "Depth при лучшем результате: 10\n"
          ]
        }
      ],
      "source": [
        "best_model = None\n",
        "best_result = 0\n",
        "best_depth = 0\n",
        "for depth in range(1, 11):\n",
        "    model = DecisionTreeClassifier(random_state=12345, max_depth=depth)\n",
        "    model.fit(features_train, target_train)\n",
        "    predictions = model.predict(features_train)\n",
        "    result = accuracy_score(target_train, predictions)\n",
        "    if result > best_result:\n",
        "        best_model = model\n",
        "        best_result = result\n",
        "        best_depth = depth\n",
        "\n",
        "print(\"Accuracy лучшей модели:\", best_result)\n",
        "print(\"Depth при лучшем результате:\", best_depth)"
      ]
    },
    {
      "cell_type": "markdown",
      "source": [
        "DecisionTreeClassifier на валидационной выборке:"
      ],
      "metadata": {
        "id": "82odFLDz2aTQ"
      }
    },
    {
      "cell_type": "code",
      "execution_count": 7,
      "metadata": {
        "id": "vbUmx0emx2zV",
        "outputId": "32ec3d7f-3438-4011-b08a-02c46ab423b2",
        "colab": {
          "base_uri": "https://localhost:8080/"
        }
      },
      "outputs": [
        {
          "output_type": "stream",
          "name": "stdout",
          "text": [
            "Accuracy лучшей модели: 0.7993779160186625\n",
            "Depth при лучшем результате: 9\n"
          ]
        }
      ],
      "source": [
        "best_model = None\n",
        "best_result = 0\n",
        "best_depth = 0\n",
        "\n",
        "best_depth = 0\n",
        "for depth in range(1, 11):\n",
        "    model = DecisionTreeClassifier(random_state=12345, max_depth=depth)\n",
        "    model.fit(features_train, target_train)\n",
        "    predictions_train = model.predict(features_train)\n",
        "    result_train = accuracy_score(target_train, predictions_train)\n",
        "    predictions = model.predict(features_valid)\n",
        "    result = accuracy_score(target_valid, predictions)\n",
        "    if result > best_result:\n",
        "        best_model = model\n",
        "        best_result = result\n",
        "        best_depth = depth\n",
        "\n",
        "print(\"Accuracy лучшей модели:\", best_result)\n",
        "print(\"Depth при лучшем результате:\", best_depth)\n"
      ]
    },
    {
      "cell_type": "markdown",
      "source": [
        "RandomForestClassifier:"
      ],
      "metadata": {
        "id": "DQpRXnjX20Dq"
      }
    },
    {
      "cell_type": "code",
      "execution_count": 8,
      "metadata": {
        "colab": {
          "base_uri": "https://localhost:8080/"
        },
        "id": "89w4C1Qmx2zZ",
        "outputId": "11e469bd-dacf-49e7-978f-e5b6c63d3b11"
      },
      "outputs": [
        {
          "output_type": "stream",
          "name": "stderr",
          "text": [
            "100%|██████████| 10/10 [00:03<00:00,  3.16it/s]"
          ]
        },
        {
          "output_type": "stream",
          "name": "stdout",
          "text": [
            "Accuracy наилучшей модели на валидационной выборке: 0.9325726141078838\n",
            "Depth при лучшем результате: 10\n"
          ]
        },
        {
          "output_type": "stream",
          "name": "stderr",
          "text": [
            "\n"
          ]
        }
      ],
      "source": [
        "best_model = None\n",
        "best_result = 0\n",
        "for est in tqdm(range(1, 11)):\n",
        "    for depth in (range(5,15)):\n",
        "        model = RandomForestClassifier(random_state=12345, n_estimators=est, max_depth = depth, criterion='gini')\n",
        "        model.fit(features_train, target_train)\n",
        "        result = model.score(features_train, target_train)\n",
        "        if result > best_result:\n",
        "            best_model = model\n",
        "            best_result = result\n",
        "            best_est = est\n",
        "\n",
        "\n",
        "\n",
        "print(\"Accuracy наилучшей модели на валидационной выборке:\", best_result)\n",
        "print(\"Depth при лучшем результате:\", best_est)"
      ]
    },
    {
      "cell_type": "markdown",
      "source": [
        "RandomForestClassifier на валидационной выборке:"
      ],
      "metadata": {
        "id": "oHkpDlYn2_y3"
      }
    },
    {
      "cell_type": "code",
      "execution_count": 9,
      "metadata": {
        "colab": {
          "base_uri": "https://localhost:8080/"
        },
        "id": "pbeb9Lfex2zn",
        "outputId": "f44bbe4e-3e7b-43e7-a220-0cd4b99bc293"
      },
      "outputs": [
        {
          "output_type": "stream",
          "name": "stderr",
          "text": [
            "100%|██████████| 10/10 [00:05<00:00,  1.87it/s]"
          ]
        },
        {
          "output_type": "stream",
          "name": "stdout",
          "text": [
            "Accuracy наилучшей модели на валидационной выборке: 0.8102643856920684\n",
            "Depth при лучшем результате: 9\n"
          ]
        },
        {
          "output_type": "stream",
          "name": "stderr",
          "text": [
            "\n"
          ]
        }
      ],
      "source": [
        "best_model = None\n",
        "best_result = 0\n",
        "for est in tqdm(range(1, 11)):\n",
        "    for depth in (range(5,15)):\n",
        "        model = RandomForestClassifier(random_state=12345, n_estimators=est, max_depth = depth, criterion='gini')\n",
        "        model.fit(features_train, target_train)\n",
        "        result = model.score(features_valid, target_valid)\n",
        "        if result > best_result:\n",
        "            best_model = model\n",
        "            best_result = result\n",
        "            best_est = est\n",
        "\n",
        "\n",
        "\n",
        "print(\"Accuracy наилучшей модели на валидационной выборке:\", best_result)\n",
        "print(\"Depth при лучшем результате:\", best_est)"
      ]
    },
    {
      "cell_type": "markdown",
      "metadata": {
        "id": "HSU261v4x2zr"
      },
      "source": [
        "\n",
        "Комментарии к RandomForestClassifier:\n",
        "1. Количество деревьев влияет на правильность обучения на сотую долю%  \n",
        "2. Чем больше количетво `est`(узлов) тем меньше деревьев будет считаться лучшим результатом.  \n",
        "    \n",
        "\n"
      ]
    },
    {
      "cell_type": "code",
      "execution_count": 10,
      "metadata": {
        "id": "HKHSYkWix2zt",
        "outputId": "20b6885a-3bb8-484f-a157-46797b162a1a",
        "colab": {
          "base_uri": "https://localhost:8080/"
        }
      },
      "outputs": [
        {
          "output_type": "stream",
          "name": "stdout",
          "text": [
            "Accuracy лучшей модели: 0.7546680497925311\n"
          ]
        }
      ],
      "source": [
        "best_model = None\n",
        "best_result = 0\n",
        "for log in range(1, 10):\n",
        "    model = LogisticRegression(random_state=12345, solver='lbfgs', max_iter=1000)\n",
        "    model.fit(features_train, target_train)\n",
        "    predictions = model.predict(features_train)\n",
        "    result = model.score(features_train, target_train)\n",
        "    if result > best_result:\n",
        "        best_model = model\n",
        "        best_result = result\n",
        "        best_depth = depth\n",
        "\n",
        "print(\"Accuracy лучшей модели:\", best_result)\n",
        "\n"
      ]
    },
    {
      "cell_type": "code",
      "execution_count": 11,
      "metadata": {
        "id": "qZ_p7P2ax2zu",
        "outputId": "382e3eae-6b12-40c1-d436-2041878d2c52",
        "colab": {
          "base_uri": "https://localhost:8080/"
        }
      },
      "outputs": [
        {
          "output_type": "stream",
          "name": "stdout",
          "text": [
            "Accuracy наилучшей модели на валидационной выборке: 0.749611197511664\n"
          ]
        }
      ],
      "source": [
        "best_model = None\n",
        "best_result = 0\n",
        "for log in range(1, 10):\n",
        "    model = LogisticRegression(random_state=12345, solver='lbfgs', max_iter=1000)\n",
        "    model.fit(features_train, target_train)\n",
        "    predictions = model.predict(features_train)\n",
        "    result = model.score(features_valid, target_valid)\n",
        "    if result > best_result:\n",
        "        best_model = model\n",
        "        best_result = result\n",
        "        best_depth = depth\n",
        "\n",
        "print(\"Accuracy наилучшей модели на валидационной выборке:\", best_result)\n"
      ]
    },
    {
      "cell_type": "markdown",
      "metadata": {
        "id": "ivOE2kA_x2zv"
      },
      "source": [
        "  \n",
        "Количество итераций мало влияет на правильность. Будь то 200 или 1000.    \n",
        "\n"
      ]
    },
    {
      "cell_type": "markdown",
      "metadata": {
        "id": "uoPNR4Hnx2zx"
      },
      "source": [
        "\n",
        "Общие выводы по обучению моделей:\n",
        "    \n",
        "1. Самый высокий показатель у модели \"случайный лес\".\n",
        "2. Смена гиперпараметров моделей меняет показатель правильности на сотые доли%, то есть мало влиеяет на итоговые данные.\n",
        "3. Модель регрессии отбрасываем - показатели меньше 0,75\n",
        "\n"
      ]
    },
    {
      "cell_type": "markdown",
      "metadata": {
        "id": "OvnzqK_jx2z0"
      },
      "source": [
        "## Проверка лучшей модели на тестовой выборке"
      ]
    },
    {
      "cell_type": "code",
      "execution_count": 12,
      "metadata": {
        "id": "SNa2Z8sax2z1",
        "outputId": "0feb65e8-f572-4950-8965-7af6515d6642",
        "colab": {
          "base_uri": "https://localhost:8080/"
        }
      },
      "outputs": [
        {
          "output_type": "stream",
          "name": "stdout",
          "text": [
            "Accuracy test: 0.7620528771384136\n"
          ]
        }
      ],
      "source": [
        "features = pd.concat([features_train, features_valid])\n",
        "target = pd.concat([target_train, target_valid])\n",
        "\n",
        "model = RandomForestClassifier(random_state=12345, n_estimators=9, criterion='gini')\n",
        "model.fit(features, target)\n",
        "\n",
        "predictions_test = model.predict(features_test)\n",
        "\n",
        "test_acc = accuracy_score(target_test, predictions_test)\n",
        "\n",
        "print(\"Accuracy test:\", test_acc)"
      ]
    },
    {
      "cell_type": "markdown",
      "metadata": {
        "id": "9m_Jivw4x2z3"
      },
      "source": [
        "\n",
        "Тестовая модель больше 0,75.\n",
        "\n"
      ]
    },
    {
      "cell_type": "markdown",
      "metadata": {
        "id": "B7nfY_6qx2z5"
      },
      "source": [
        "## (бонус) Проверка модели на адекватность"
      ]
    },
    {
      "cell_type": "code",
      "execution_count": 13,
      "metadata": {
        "id": "Xn_FArWvx2z5",
        "outputId": "43a396c5-b8a6-42e2-dff9-9d0ec2b06507",
        "colab": {
          "base_uri": "https://localhost:8080/"
        }
      },
      "outputs": [
        {
          "output_type": "execute_result",
          "data": {
            "text/plain": [
              "0.6936236391912908"
            ]
          },
          "metadata": {},
          "execution_count": 13
        }
      ],
      "source": [
        "model = DummyClassifier(strategy='most_frequent', random_state=1)\n",
        "model.fit(features_train, target_train)\n",
        "model.predict(features_test)\n",
        "model.score(features_test, target_test)"
      ]
    },
    {
      "cell_type": "markdown",
      "source": [
        "## Итоги работы"
      ],
      "metadata": {
        "id": "Z0pu0XQ9fT8C"
      }
    },
    {
      "cell_type": "markdown",
      "source": [
        "\n",
        "1. Перед обучением модели поделили выборку на 3 части: обучающая, тестовая, валидационная.\n",
        "2. Обучили модели DT, RF, LG. Проверила данные на обучающей и валидационной частях. RF оказалась лучшей.\n",
        "3. Объединили валидационную и обучающую выборку. Проверили модель на тестовой выборке. Результат более 0,78.\n",
        "4. Минимальный порог верных предсказаний 0,69 - это меньше результатов лучшей модели."
      ],
      "metadata": {
        "id": "MRWkV5AIfOTs"
      }
    }
  ],
  "metadata": {
    "ExecuteTimeLog": [
      {
        "duration": 636,
        "start_time": "2023-01-16T09:52:38.783Z"
      },
      {
        "duration": 36,
        "start_time": "2023-01-16T09:52:45.272Z"
      },
      {
        "duration": 36,
        "start_time": "2023-01-16T09:52:53.478Z"
      },
      {
        "duration": 41,
        "start_time": "2023-01-16T09:56:38.693Z"
      },
      {
        "duration": 41,
        "start_time": "2023-01-16T09:56:47.382Z"
      },
      {
        "duration": 43,
        "start_time": "2023-01-16T09:57:00.165Z"
      },
      {
        "duration": 11,
        "start_time": "2023-01-16T09:57:24.092Z"
      },
      {
        "duration": 39,
        "start_time": "2023-01-16T09:57:26.485Z"
      },
      {
        "duration": 12,
        "start_time": "2023-01-16T09:58:55.033Z"
      },
      {
        "duration": 69,
        "start_time": "2023-01-16T17:57:01.430Z"
      },
      {
        "duration": 409,
        "start_time": "2023-01-16T17:57:09.986Z"
      },
      {
        "duration": 77,
        "start_time": "2023-01-16T17:57:14.041Z"
      },
      {
        "duration": 2,
        "start_time": "2023-01-16T18:08:58.448Z"
      },
      {
        "duration": 30,
        "start_time": "2023-01-16T18:09:47.943Z"
      },
      {
        "duration": 6,
        "start_time": "2023-01-16T18:12:10.644Z"
      },
      {
        "duration": 3,
        "start_time": "2023-01-16T18:12:36.665Z"
      },
      {
        "duration": 4,
        "start_time": "2023-01-16T18:12:51.618Z"
      },
      {
        "duration": 4,
        "start_time": "2023-01-16T18:13:08.664Z"
      },
      {
        "duration": 29,
        "start_time": "2023-01-16T18:17:44.446Z"
      },
      {
        "duration": 29,
        "start_time": "2023-01-16T18:23:32.455Z"
      },
      {
        "duration": 7,
        "start_time": "2023-01-16T18:23:37.154Z"
      },
      {
        "duration": 766,
        "start_time": "2023-01-16T18:23:48.996Z"
      },
      {
        "duration": 8,
        "start_time": "2023-01-16T18:23:53.524Z"
      },
      {
        "duration": 7,
        "start_time": "2023-01-16T18:24:32.387Z"
      },
      {
        "duration": 12,
        "start_time": "2023-01-16T18:26:19.090Z"
      },
      {
        "duration": 6,
        "start_time": "2023-01-16T18:27:03.935Z"
      },
      {
        "duration": 8,
        "start_time": "2023-01-16T18:27:27.433Z"
      },
      {
        "duration": 44,
        "start_time": "2023-01-16T18:34:51.590Z"
      },
      {
        "duration": 18,
        "start_time": "2023-01-16T18:35:29.092Z"
      },
      {
        "duration": 14,
        "start_time": "2023-01-16T18:35:47.152Z"
      },
      {
        "duration": 15,
        "start_time": "2023-01-16T18:36:01.878Z"
      },
      {
        "duration": 3,
        "start_time": "2023-01-16T18:37:02.043Z"
      },
      {
        "duration": 15,
        "start_time": "2023-01-16T18:37:06.516Z"
      },
      {
        "duration": 17,
        "start_time": "2023-01-16T18:38:23.049Z"
      },
      {
        "duration": 17,
        "start_time": "2023-01-16T18:49:56.001Z"
      },
      {
        "duration": 19,
        "start_time": "2023-01-16T18:52:26.207Z"
      },
      {
        "duration": 20,
        "start_time": "2023-01-16T18:53:37.897Z"
      },
      {
        "duration": 1143,
        "start_time": "2023-01-16T18:55:43.417Z"
      },
      {
        "duration": 1157,
        "start_time": "2023-01-16T18:56:34.216Z"
      },
      {
        "duration": 1143,
        "start_time": "2023-01-16T18:57:05.357Z"
      },
      {
        "duration": 16,
        "start_time": "2023-01-16T18:57:20.215Z"
      },
      {
        "duration": 16,
        "start_time": "2023-01-16T19:12:39.478Z"
      },
      {
        "duration": 14,
        "start_time": "2023-01-16T19:12:43.085Z"
      },
      {
        "duration": 1113,
        "start_time": "2023-01-16T19:14:16.818Z"
      },
      {
        "duration": 16,
        "start_time": "2023-01-16T19:17:15.580Z"
      },
      {
        "duration": 21,
        "start_time": "2023-01-16T19:19:04.972Z"
      },
      {
        "duration": 19,
        "start_time": "2023-01-16T19:19:37.033Z"
      },
      {
        "duration": 47,
        "start_time": "2023-01-18T15:11:41.370Z"
      },
      {
        "duration": 44,
        "start_time": "2023-01-18T15:11:55.436Z"
      },
      {
        "duration": 8,
        "start_time": "2023-01-18T15:12:31.608Z"
      },
      {
        "duration": 1094,
        "start_time": "2023-01-18T15:12:49.462Z"
      },
      {
        "duration": 69,
        "start_time": "2023-01-18T15:12:54.172Z"
      },
      {
        "duration": 10,
        "start_time": "2023-01-18T15:13:08.419Z"
      },
      {
        "duration": 133,
        "start_time": "2023-01-18T15:13:15.393Z"
      },
      {
        "duration": 15,
        "start_time": "2023-01-18T15:13:18.548Z"
      },
      {
        "duration": 6,
        "start_time": "2023-01-18T15:13:21.269Z"
      },
      {
        "duration": 6,
        "start_time": "2023-01-18T15:13:23.746Z"
      },
      {
        "duration": 14,
        "start_time": "2023-01-18T15:13:27.114Z"
      },
      {
        "duration": 68,
        "start_time": "2023-01-18T15:13:40.180Z"
      },
      {
        "duration": 265,
        "start_time": "2023-01-18T15:18:01.114Z"
      },
      {
        "duration": 184,
        "start_time": "2023-01-18T15:20:23.451Z"
      },
      {
        "duration": 157,
        "start_time": "2023-01-18T15:20:41.949Z"
      },
      {
        "duration": 123,
        "start_time": "2023-01-18T15:23:19.791Z"
      },
      {
        "duration": 29,
        "start_time": "2023-01-18T15:24:26.085Z"
      },
      {
        "duration": 133,
        "start_time": "2023-01-18T15:25:04.167Z"
      },
      {
        "duration": 228,
        "start_time": "2023-01-18T15:27:16.201Z"
      },
      {
        "duration": 239,
        "start_time": "2023-01-18T15:27:28.990Z"
      },
      {
        "duration": 226,
        "start_time": "2023-01-18T15:27:34.842Z"
      },
      {
        "duration": 134,
        "start_time": "2023-01-18T15:28:57.414Z"
      },
      {
        "duration": 1003,
        "start_time": "2023-01-18T15:34:18.046Z"
      },
      {
        "duration": 50,
        "start_time": "2023-01-18T15:34:35.670Z"
      },
      {
        "duration": 31,
        "start_time": "2023-01-18T15:34:41.419Z"
      },
      {
        "duration": 58,
        "start_time": "2023-01-18T15:34:49.081Z"
      },
      {
        "duration": 975,
        "start_time": "2023-01-18T15:35:38.490Z"
      },
      {
        "duration": 58,
        "start_time": "2023-01-18T15:35:45.499Z"
      },
      {
        "duration": 154,
        "start_time": "2023-01-18T15:37:27.851Z"
      },
      {
        "duration": 440,
        "start_time": "2023-01-18T15:37:33.094Z"
      },
      {
        "duration": 3907,
        "start_time": "2023-01-18T15:37:39.906Z"
      },
      {
        "duration": 253,
        "start_time": "2023-01-18T15:37:51.252Z"
      },
      {
        "duration": 50,
        "start_time": "2023-01-19T06:54:03.906Z"
      },
      {
        "duration": 1055,
        "start_time": "2023-01-19T06:54:09.876Z"
      },
      {
        "duration": 129,
        "start_time": "2023-01-19T06:54:12.816Z"
      },
      {
        "duration": 5,
        "start_time": "2023-01-19T06:54:18.866Z"
      },
      {
        "duration": 6,
        "start_time": "2023-01-19T06:54:21.616Z"
      },
      {
        "duration": 25,
        "start_time": "2023-01-19T06:54:23.963Z"
      },
      {
        "duration": 30,
        "start_time": "2023-01-19T06:54:34.901Z"
      },
      {
        "duration": 59,
        "start_time": "2023-01-19T06:54:42.233Z"
      },
      {
        "duration": 225,
        "start_time": "2023-01-19T07:16:31.535Z"
      },
      {
        "duration": 221,
        "start_time": "2023-01-19T07:17:12.201Z"
      },
      {
        "duration": 234,
        "start_time": "2023-01-19T07:18:19.158Z"
      },
      {
        "duration": 233,
        "start_time": "2023-01-19T07:18:42.918Z"
      },
      {
        "duration": 170,
        "start_time": "2023-01-19T07:19:44.497Z"
      },
      {
        "duration": 90,
        "start_time": "2023-01-19T07:19:51.825Z"
      },
      {
        "duration": 99,
        "start_time": "2023-01-19T07:19:55.320Z"
      },
      {
        "duration": 94,
        "start_time": "2023-01-19T07:20:00.232Z"
      },
      {
        "duration": 249,
        "start_time": "2023-01-19T07:20:06.136Z"
      },
      {
        "duration": 160,
        "start_time": "2023-01-19T07:20:11.713Z"
      },
      {
        "duration": 157,
        "start_time": "2023-01-19T07:20:17.919Z"
      },
      {
        "duration": 70,
        "start_time": "2023-01-19T07:44:26.017Z"
      },
      {
        "duration": 3,
        "start_time": "2023-01-19T07:45:17.982Z"
      },
      {
        "duration": 10,
        "start_time": "2023-01-19T07:45:23.276Z"
      },
      {
        "duration": 4,
        "start_time": "2023-01-19T07:46:03.159Z"
      },
      {
        "duration": 10,
        "start_time": "2023-01-19T07:46:12.569Z"
      },
      {
        "duration": 9,
        "start_time": "2023-01-19T07:46:27.518Z"
      },
      {
        "duration": 3,
        "start_time": "2023-01-19T07:59:52.690Z"
      },
      {
        "duration": 541,
        "start_time": "2023-01-19T07:59:59.049Z"
      },
      {
        "duration": 426,
        "start_time": "2023-01-19T08:03:19.001Z"
      },
      {
        "duration": 520,
        "start_time": "2023-01-19T08:03:55.009Z"
      },
      {
        "duration": 18,
        "start_time": "2023-01-19T08:10:51.027Z"
      },
      {
        "duration": 16,
        "start_time": "2023-01-19T08:11:11.657Z"
      },
      {
        "duration": 4,
        "start_time": "2023-01-19T08:17:40.160Z"
      },
      {
        "duration": 5,
        "start_time": "2023-01-19T08:17:54.432Z"
      },
      {
        "duration": 60,
        "start_time": "2023-01-19T08:25:57.205Z"
      },
      {
        "duration": 15,
        "start_time": "2023-01-19T08:26:03.960Z"
      },
      {
        "duration": 80,
        "start_time": "2023-01-19T08:26:15.106Z"
      },
      {
        "duration": 5,
        "start_time": "2023-01-19T08:26:20.377Z"
      },
      {
        "duration": 52,
        "start_time": "2023-01-19T08:26:38.749Z"
      },
      {
        "duration": 68,
        "start_time": "2023-01-19T08:30:58.541Z"
      },
      {
        "duration": 39,
        "start_time": "2023-01-19T08:32:42.120Z"
      },
      {
        "duration": 37,
        "start_time": "2023-01-19T08:32:47.138Z"
      },
      {
        "duration": 65,
        "start_time": "2023-01-19T08:32:58.860Z"
      },
      {
        "duration": 64,
        "start_time": "2023-01-19T08:34:36.066Z"
      },
      {
        "duration": 74,
        "start_time": "2023-01-19T08:35:11.459Z"
      },
      {
        "duration": 67,
        "start_time": "2023-01-19T08:35:24.593Z"
      },
      {
        "duration": 38,
        "start_time": "2023-01-19T08:37:57.990Z"
      },
      {
        "duration": 24,
        "start_time": "2023-01-19T08:38:12.997Z"
      },
      {
        "duration": 31,
        "start_time": "2023-01-19T08:38:32.666Z"
      },
      {
        "duration": 25,
        "start_time": "2023-01-19T08:39:12.832Z"
      },
      {
        "duration": 37,
        "start_time": "2023-01-19T08:39:40.283Z"
      },
      {
        "duration": 74,
        "start_time": "2023-01-19T08:39:52.144Z"
      },
      {
        "duration": 23,
        "start_time": "2023-01-19T09:16:16.222Z"
      },
      {
        "duration": 62,
        "start_time": "2023-01-19T09:16:29.294Z"
      },
      {
        "duration": 81,
        "start_time": "2023-01-19T09:17:22.163Z"
      },
      {
        "duration": 59,
        "start_time": "2023-01-19T09:17:54.083Z"
      },
      {
        "duration": 64,
        "start_time": "2023-01-19T09:18:53.962Z"
      },
      {
        "duration": 60,
        "start_time": "2023-01-19T09:19:52.141Z"
      },
      {
        "duration": 88,
        "start_time": "2023-01-19T09:21:03.922Z"
      },
      {
        "duration": 71,
        "start_time": "2023-01-19T09:21:10.536Z"
      },
      {
        "duration": 255,
        "start_time": "2023-01-19T09:21:21.354Z"
      },
      {
        "duration": 231,
        "start_time": "2023-01-19T09:21:31.244Z"
      },
      {
        "duration": 252,
        "start_time": "2023-01-19T09:21:37.317Z"
      },
      {
        "duration": 248,
        "start_time": "2023-01-19T09:22:15.653Z"
      },
      {
        "duration": 305,
        "start_time": "2023-01-19T09:24:26.175Z"
      },
      {
        "duration": 168,
        "start_time": "2023-01-19T09:26:24.651Z"
      },
      {
        "duration": 163,
        "start_time": "2023-01-19T09:26:48.090Z"
      },
      {
        "duration": 51,
        "start_time": "2023-01-19T14:13:57.370Z"
      },
      {
        "duration": 8,
        "start_time": "2023-01-19T14:14:26.752Z"
      },
      {
        "duration": 8,
        "start_time": "2023-01-19T14:14:36.483Z"
      },
      {
        "duration": 1221,
        "start_time": "2023-01-19T14:14:41.438Z"
      },
      {
        "duration": 99,
        "start_time": "2023-01-19T14:14:49.222Z"
      },
      {
        "duration": 7,
        "start_time": "2023-01-19T14:14:54.768Z"
      },
      {
        "duration": 70,
        "start_time": "2023-01-19T14:14:57.767Z"
      },
      {
        "duration": 6,
        "start_time": "2023-01-19T14:15:04.381Z"
      },
      {
        "duration": 13,
        "start_time": "2023-01-19T14:15:08.263Z"
      },
      {
        "duration": 19,
        "start_time": "2023-01-19T14:15:14.550Z"
      },
      {
        "duration": 8,
        "start_time": "2023-01-19T14:15:20.814Z"
      },
      {
        "duration": 13,
        "start_time": "2023-01-19T14:15:25.654Z"
      },
      {
        "duration": 8,
        "start_time": "2023-01-19T14:16:08.225Z"
      },
      {
        "duration": 94,
        "start_time": "2023-01-19T14:16:11.693Z"
      },
      {
        "duration": 87,
        "start_time": "2023-01-19T14:16:19.595Z"
      },
      {
        "duration": 347,
        "start_time": "2023-01-19T14:16:26.428Z"
      },
      {
        "duration": 299,
        "start_time": "2023-01-19T14:16:30.724Z"
      },
      {
        "duration": 18,
        "start_time": "2023-01-19T14:17:55.785Z"
      },
      {
        "duration": 18,
        "start_time": "2023-01-19T14:18:01.143Z"
      },
      {
        "duration": 52,
        "start_time": "2023-01-20T06:47:07.046Z"
      },
      {
        "duration": 1167,
        "start_time": "2023-01-20T06:47:10.935Z"
      },
      {
        "duration": 75,
        "start_time": "2023-01-20T06:47:17.594Z"
      },
      {
        "duration": 15,
        "start_time": "2023-01-20T06:47:20.466Z"
      },
      {
        "duration": 8,
        "start_time": "2023-01-20T06:47:25.267Z"
      },
      {
        "duration": 8,
        "start_time": "2023-01-20T06:47:27.519Z"
      },
      {
        "duration": 71,
        "start_time": "2023-01-20T06:47:33.120Z"
      },
      {
        "duration": 308,
        "start_time": "2023-01-20T06:47:49.594Z"
      },
      {
        "duration": 403,
        "start_time": "2023-01-20T06:47:53.550Z"
      },
      {
        "duration": 381,
        "start_time": "2023-01-20T06:48:15.263Z"
      },
      {
        "duration": 331,
        "start_time": "2023-01-20T06:48:20.104Z"
      },
      {
        "duration": 239,
        "start_time": "2023-01-20T07:33:33.526Z"
      },
      {
        "duration": 275,
        "start_time": "2023-01-20T07:33:39.532Z"
      },
      {
        "duration": 86,
        "start_time": "2023-01-20T07:39:36.661Z"
      },
      {
        "duration": 60,
        "start_time": "2023-01-20T07:45:33.951Z"
      },
      {
        "duration": 2526,
        "start_time": "2023-01-20T09:35:05.972Z"
      },
      {
        "duration": 64,
        "start_time": "2023-01-20T09:35:08.500Z"
      },
      {
        "duration": 15,
        "start_time": "2023-01-20T09:35:08.567Z"
      },
      {
        "duration": 32,
        "start_time": "2023-01-20T09:35:08.584Z"
      },
      {
        "duration": 7,
        "start_time": "2023-01-20T09:35:08.618Z"
      },
      {
        "duration": 101,
        "start_time": "2023-01-20T09:35:08.627Z"
      },
      {
        "duration": 101,
        "start_time": "2023-01-20T09:35:08.730Z"
      },
      {
        "duration": 392,
        "start_time": "2023-01-20T09:35:08.833Z"
      },
      {
        "duration": 369,
        "start_time": "2023-01-20T09:35:09.226Z"
      },
      {
        "duration": 401,
        "start_time": "2023-01-20T09:35:09.598Z"
      },
      {
        "duration": 408,
        "start_time": "2023-01-20T09:35:10.003Z"
      },
      {
        "duration": 71,
        "start_time": "2023-01-20T09:35:10.413Z"
      },
      {
        "duration": 15,
        "start_time": "2023-01-20T09:35:10.487Z"
      },
      {
        "duration": 12,
        "start_time": "2023-01-20T09:35:46.643Z"
      },
      {
        "duration": 4,
        "start_time": "2023-01-20T09:35:53.075Z"
      },
      {
        "duration": 1072,
        "start_time": "2023-01-20T12:23:55.963Z"
      },
      {
        "duration": 51,
        "start_time": "2023-01-21T12:26:08.604Z"
      },
      {
        "duration": 7,
        "start_time": "2023-01-21T12:26:26.332Z"
      },
      {
        "duration": 7,
        "start_time": "2023-01-21T12:26:39.731Z"
      },
      {
        "duration": 1117,
        "start_time": "2023-01-21T12:26:47.398Z"
      },
      {
        "duration": 127,
        "start_time": "2023-01-21T12:26:52.518Z"
      },
      {
        "duration": 11,
        "start_time": "2023-01-21T12:26:55.357Z"
      },
      {
        "duration": 7,
        "start_time": "2023-01-21T12:26:58.646Z"
      },
      {
        "duration": 7,
        "start_time": "2023-01-21T12:27:02.284Z"
      },
      {
        "duration": 9,
        "start_time": "2023-01-21T12:27:32.449Z"
      },
      {
        "duration": 9,
        "start_time": "2023-01-21T12:27:59.963Z"
      },
      {
        "duration": 8,
        "start_time": "2023-01-21T12:28:05.401Z"
      },
      {
        "duration": 8,
        "start_time": "2023-01-21T12:28:15.700Z"
      },
      {
        "duration": 8,
        "start_time": "2023-01-21T12:28:24.756Z"
      },
      {
        "duration": 73,
        "start_time": "2023-01-21T12:35:15.518Z"
      },
      {
        "duration": 9,
        "start_time": "2023-01-21T12:35:58.390Z"
      },
      {
        "duration": 38,
        "start_time": "2023-01-21T12:36:04.807Z"
      },
      {
        "duration": 7,
        "start_time": "2023-01-21T12:36:13.553Z"
      },
      {
        "duration": 1532,
        "start_time": "2023-01-22T17:17:00.044Z"
      },
      {
        "duration": 4,
        "start_time": "2023-01-22T17:17:03.946Z"
      },
      {
        "duration": 71,
        "start_time": "2023-01-22T17:17:07.532Z"
      },
      {
        "duration": 9,
        "start_time": "2023-01-22T17:17:09.637Z"
      },
      {
        "duration": 8,
        "start_time": "2023-01-22T17:17:13.371Z"
      },
      {
        "duration": 110,
        "start_time": "2023-01-22T17:17:17.725Z"
      },
      {
        "duration": 11,
        "start_time": "2023-01-22T17:17:22.864Z"
      },
      {
        "duration": 7,
        "start_time": "2023-01-22T17:17:26.758Z"
      },
      {
        "duration": 73,
        "start_time": "2023-01-22T17:17:30.862Z"
      },
      {
        "duration": 84,
        "start_time": "2023-01-22T17:17:34.956Z"
      },
      {
        "duration": 362,
        "start_time": "2023-01-22T17:23:53.923Z"
      },
      {
        "duration": 374,
        "start_time": "2023-01-22T17:24:05.021Z"
      },
      {
        "duration": 9,
        "start_time": "2023-01-22T17:24:43.820Z"
      },
      {
        "duration": 72,
        "start_time": "2023-01-22T17:25:22.681Z"
      },
      {
        "duration": 15460,
        "start_time": "2023-01-22T17:26:14.374Z"
      },
      {
        "duration": 14275,
        "start_time": "2023-01-22T17:27:07.129Z"
      },
      {
        "duration": 45,
        "start_time": "2023-01-22T18:02:31.338Z"
      },
      {
        "duration": 1733,
        "start_time": "2023-01-23T06:53:34.364Z"
      },
      {
        "duration": 73,
        "start_time": "2023-01-23T06:53:37.442Z"
      },
      {
        "duration": 8,
        "start_time": "2023-01-23T06:53:40.875Z"
      },
      {
        "duration": 7,
        "start_time": "2023-01-23T06:53:45.162Z"
      },
      {
        "duration": 9,
        "start_time": "2023-01-23T06:53:47.926Z"
      },
      {
        "duration": 77,
        "start_time": "2023-01-23T06:53:55.933Z"
      },
      {
        "duration": 92,
        "start_time": "2023-01-23T06:53:59.462Z"
      },
      {
        "duration": 16565,
        "start_time": "2023-01-23T06:54:14.585Z"
      },
      {
        "duration": 15882,
        "start_time": "2023-01-23T06:54:36.517Z"
      },
      {
        "duration": 346,
        "start_time": "2023-01-23T06:55:29.597Z"
      },
      {
        "duration": 304,
        "start_time": "2023-01-23T06:55:34.621Z"
      },
      {
        "duration": 142,
        "start_time": "2023-01-23T07:20:58.192Z"
      },
      {
        "duration": 413,
        "start_time": "2023-01-23T07:21:29.220Z"
      },
      {
        "duration": 25,
        "start_time": "2023-01-23T07:21:33.653Z"
      },
      {
        "duration": 72,
        "start_time": "2023-01-23T07:23:52.055Z"
      },
      {
        "duration": 69,
        "start_time": "2023-01-23T07:24:03.773Z"
      },
      {
        "duration": 7,
        "start_time": "2023-01-23T07:24:46.055Z"
      },
      {
        "duration": 10,
        "start_time": "2023-01-23T07:24:48.685Z"
      },
      {
        "duration": 80,
        "start_time": "2023-01-23T07:24:52.235Z"
      },
      {
        "duration": 84,
        "start_time": "2023-01-23T07:24:55.410Z"
      },
      {
        "duration": 76,
        "start_time": "2023-01-23T07:25:04.033Z"
      },
      {
        "duration": 16474,
        "start_time": "2023-01-23T07:25:08.429Z"
      },
      {
        "duration": 15976,
        "start_time": "2023-01-23T07:25:40.278Z"
      },
      {
        "duration": 18846,
        "start_time": "2023-01-23T07:29:33.759Z"
      },
      {
        "duration": 12434,
        "start_time": "2023-01-23T07:31:22.121Z"
      },
      {
        "duration": 19275,
        "start_time": "2023-01-23T07:31:41.814Z"
      },
      {
        "duration": 289,
        "start_time": "2023-01-23T07:36:14.829Z"
      },
      {
        "duration": 343,
        "start_time": "2023-01-23T07:36:20.486Z"
      },
      {
        "duration": 63,
        "start_time": "2023-01-23T07:36:32.258Z"
      },
      {
        "duration": 9,
        "start_time": "2023-01-23T07:37:12.456Z"
      },
      {
        "duration": 72,
        "start_time": "2023-01-23T07:37:29.721Z"
      },
      {
        "duration": 13,
        "start_time": "2023-01-23T07:37:41.706Z"
      },
      {
        "duration": 61,
        "start_time": "2023-01-23T07:37:58.424Z"
      },
      {
        "duration": 90,
        "start_time": "2023-01-23T07:46:12.018Z"
      },
      {
        "duration": 4,
        "start_time": "2023-01-23T09:01:11.665Z"
      },
      {
        "duration": 34,
        "start_time": "2023-01-23T09:01:17.052Z"
      },
      {
        "duration": 8,
        "start_time": "2023-01-23T09:01:19.958Z"
      },
      {
        "duration": 7,
        "start_time": "2023-01-23T09:01:23.802Z"
      },
      {
        "duration": 12,
        "start_time": "2023-01-23T09:01:26.602Z"
      },
      {
        "duration": 98,
        "start_time": "2023-01-23T09:01:33.074Z"
      },
      {
        "duration": 102,
        "start_time": "2023-01-23T09:01:39.383Z"
      },
      {
        "duration": 20600,
        "start_time": "2023-01-23T09:01:43.982Z"
      },
      {
        "duration": 18924,
        "start_time": "2023-01-23T09:02:10.181Z"
      },
      {
        "duration": 169,
        "start_time": "2023-01-23T09:03:13.605Z"
      },
      {
        "duration": 167,
        "start_time": "2023-01-23T09:03:16.942Z"
      },
      {
        "duration": 72,
        "start_time": "2023-01-23T09:03:23.351Z"
      },
      {
        "duration": 7,
        "start_time": "2023-01-23T09:26:20.834Z"
      },
      {
        "duration": 18221,
        "start_time": "2023-01-23T09:32:33.709Z"
      },
      {
        "duration": 1859,
        "start_time": "2023-01-24T06:55:36.403Z"
      },
      {
        "duration": 104,
        "start_time": "2023-01-24T06:55:40.566Z"
      },
      {
        "duration": 14,
        "start_time": "2023-01-24T06:55:43.378Z"
      },
      {
        "duration": 146,
        "start_time": "2023-01-24T06:55:57.221Z"
      },
      {
        "duration": 9,
        "start_time": "2023-01-24T06:56:20.461Z"
      },
      {
        "duration": 11,
        "start_time": "2023-01-24T06:56:32.223Z"
      },
      {
        "duration": 91,
        "start_time": "2023-01-24T06:58:08.625Z"
      },
      {
        "duration": 104,
        "start_time": "2023-01-24T06:58:12.271Z"
      },
      {
        "duration": 114,
        "start_time": "2023-01-24T07:00:49.309Z"
      },
      {
        "duration": 130,
        "start_time": "2023-01-24T07:00:55.775Z"
      },
      {
        "duration": 150,
        "start_time": "2023-01-24T07:01:27.287Z"
      },
      {
        "duration": 140,
        "start_time": "2023-01-24T07:01:53.676Z"
      },
      {
        "duration": 126,
        "start_time": "2023-01-24T07:03:03.748Z"
      },
      {
        "duration": 103,
        "start_time": "2023-01-24T07:03:23.777Z"
      },
      {
        "duration": 105,
        "start_time": "2023-01-24T07:03:28.324Z"
      },
      {
        "duration": 6,
        "start_time": "2023-01-24T07:03:46.618Z"
      },
      {
        "duration": 106,
        "start_time": "2023-01-24T07:03:55.449Z"
      },
      {
        "duration": 3,
        "start_time": "2023-01-24T07:04:51.838Z"
      },
      {
        "duration": 12,
        "start_time": "2023-01-24T07:04:55.081Z"
      },
      {
        "duration": 117,
        "start_time": "2023-01-24T07:05:04.461Z"
      },
      {
        "duration": 108,
        "start_time": "2023-01-24T07:20:57.027Z"
      },
      {
        "duration": 110,
        "start_time": "2023-01-24T07:21:11.009Z"
      },
      {
        "duration": 15,
        "start_time": "2023-01-24T07:21:56.635Z"
      },
      {
        "duration": 149,
        "start_time": "2023-01-24T07:22:49.400Z"
      },
      {
        "duration": 140,
        "start_time": "2023-01-24T07:23:08.327Z"
      },
      {
        "duration": 107,
        "start_time": "2023-01-24T07:23:27.252Z"
      },
      {
        "duration": 109,
        "start_time": "2023-01-24T07:23:41.238Z"
      },
      {
        "duration": 119,
        "start_time": "2023-01-24T07:24:38.309Z"
      },
      {
        "duration": 3358,
        "start_time": "2023-01-24T07:38:42.427Z"
      },
      {
        "duration": 3284,
        "start_time": "2023-01-24T07:41:19.793Z"
      },
      {
        "duration": 3712,
        "start_time": "2023-01-24T07:42:08.556Z"
      },
      {
        "duration": 2818,
        "start_time": "2023-01-24T07:47:02.261Z"
      },
      {
        "duration": 2791,
        "start_time": "2023-01-24T07:48:47.416Z"
      },
      {
        "duration": 2501,
        "start_time": "2023-01-24T08:56:29.060Z"
      },
      {
        "duration": 71,
        "start_time": "2023-01-24T08:57:20.609Z"
      },
      {
        "duration": 11,
        "start_time": "2023-01-24T09:01:25.741Z"
      },
      {
        "duration": 4,
        "start_time": "2023-01-24T09:02:37.608Z"
      },
      {
        "duration": 13,
        "start_time": "2023-01-24T09:02:49.953Z"
      },
      {
        "duration": 7,
        "start_time": "2023-01-24T09:03:03.336Z"
      },
      {
        "duration": 7,
        "start_time": "2023-01-24T09:10:58.007Z"
      },
      {
        "duration": 2669,
        "start_time": "2023-01-24T10:14:59.594Z"
      },
      {
        "duration": 80,
        "start_time": "2023-01-24T10:18:00.591Z"
      },
      {
        "duration": 20,
        "start_time": "2023-01-24T10:18:32.635Z"
      },
      {
        "duration": 91,
        "start_time": "2023-01-24T10:18:47.143Z"
      },
      {
        "duration": 105,
        "start_time": "2023-01-24T10:19:30.760Z"
      },
      {
        "duration": 4,
        "start_time": "2023-01-24T10:20:37.796Z"
      },
      {
        "duration": 116,
        "start_time": "2023-01-24T10:22:42.777Z"
      },
      {
        "duration": 197,
        "start_time": "2023-01-24T10:23:25.507Z"
      },
      {
        "duration": 1322,
        "start_time": "2023-01-24T10:23:41.844Z"
      },
      {
        "duration": 1217,
        "start_time": "2023-01-24T10:24:22.155Z"
      },
      {
        "duration": 1456,
        "start_time": "2023-01-24T10:24:48.748Z"
      },
      {
        "duration": 86,
        "start_time": "2023-01-24T10:25:09.546Z"
      },
      {
        "duration": 74,
        "start_time": "2023-01-24T10:25:19.690Z"
      },
      {
        "duration": 1295,
        "start_time": "2023-01-24T10:26:17.397Z"
      },
      {
        "duration": 1298,
        "start_time": "2023-01-24T10:27:09.671Z"
      },
      {
        "duration": 1238,
        "start_time": "2023-01-24T10:27:36.755Z"
      },
      {
        "duration": 1286,
        "start_time": "2023-01-24T10:28:10.700Z"
      },
      {
        "duration": 75,
        "start_time": "2023-01-24T10:35:38.861Z"
      },
      {
        "duration": 3930,
        "start_time": "2023-01-24T15:21:26.866Z"
      },
      {
        "duration": 2139,
        "start_time": "2023-01-24T15:21:44.702Z"
      },
      {
        "duration": 68,
        "start_time": "2023-01-24T15:21:46.844Z"
      },
      {
        "duration": 8,
        "start_time": "2023-01-24T15:21:46.914Z"
      },
      {
        "duration": 11,
        "start_time": "2023-01-24T15:21:46.924Z"
      },
      {
        "duration": 23,
        "start_time": "2023-01-24T15:21:46.937Z"
      },
      {
        "duration": 67,
        "start_time": "2023-01-24T15:21:46.962Z"
      },
      {
        "duration": 769,
        "start_time": "2023-01-24T15:21:47.031Z"
      },
      {
        "duration": 2094,
        "start_time": "2023-01-24T15:21:47.802Z"
      },
      {
        "duration": 2324,
        "start_time": "2023-01-24T15:21:49.899Z"
      },
      {
        "duration": 379,
        "start_time": "2023-01-24T15:21:52.225Z"
      },
      {
        "duration": 275,
        "start_time": "2023-01-24T15:21:52.606Z"
      },
      {
        "duration": 268,
        "start_time": "2023-01-24T15:21:52.882Z"
      },
      {
        "duration": 67,
        "start_time": "2023-01-24T15:21:53.152Z"
      },
      {
        "duration": 6,
        "start_time": "2023-01-24T15:21:53.220Z"
      }
    ],
    "kernelspec": {
      "display_name": "Python 3 (ipykernel)",
      "language": "python",
      "name": "python3"
    },
    "language_info": {
      "codemirror_mode": {
        "name": "ipython",
        "version": 3
      },
      "file_extension": ".py",
      "mimetype": "text/x-python",
      "name": "python",
      "nbconvert_exporter": "python",
      "pygments_lexer": "ipython3",
      "version": "3.9.5"
    },
    "toc": {
      "base_numbering": 1,
      "nav_menu": {},
      "number_sections": true,
      "sideBar": true,
      "skip_h1_title": true,
      "title_cell": "Table of Contents",
      "title_sidebar": "Contents",
      "toc_cell": false,
      "toc_position": {},
      "toc_section_display": true,
      "toc_window_display": false
    },
    "colab": {
      "provenance": []
    }
  },
  "nbformat": 4,
  "nbformat_minor": 0
}
