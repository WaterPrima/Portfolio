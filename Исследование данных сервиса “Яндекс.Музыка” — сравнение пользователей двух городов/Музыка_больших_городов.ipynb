{
  "cells": [
    {
      "cell_type": "markdown",
      "metadata": {
        "deletable": false,
        "editable": false,
        "id": "Ml1hmfXC_Zcs"
      },
      "source": [
        "## Обзор данных"
      ]
    },
    {
      "cell_type": "markdown",
      "metadata": {
        "deletable": false,
        "editable": false,
        "id": "57eAOGIz_Zcs",
        "tags": [
          "start_task"
        ]
      },
      "source": [
        "Загружаю библиотеку"
      ]
    },
    {
      "cell_type": "code",
      "execution_count": 1,
      "metadata": {
        "deletable": false,
        "id": "AXN7PHPN_Zcs"
      },
      "outputs": [],
      "source": [
        "import pandas as pd\n",
        "\n",
        "pd.options.mode.chained_assignment = None"
      ]
    },
    {
      "cell_type": "markdown",
      "metadata": {
        "deletable": false,
        "editable": false,
        "id": "rDoOMd3uTqnZ",
        "tags": [
          "start_task"
        ]
      },
      "source": [
        "Знакомлюсь с данными"
      ]
    },
    {
      "cell_type": "code",
      "execution_count": 2,
      "metadata": {
        "deletable": false,
        "id": "oWTVX3gW_Zct",
        "colab": {
          "base_uri": "https://localhost:8080/",
          "height": 449
        },
        "outputId": "25a3fecf-ed7b-4689-a62a-e24b9f561f32"
      },
      "outputs": [
        {
          "output_type": "display_data",
          "data": {
            "text/plain": [
              "     userID                        Track            artist  genre  \\\n",
              "0  FFB692EC            Kamigata To Boots  The Mass Missile   rock   \n",
              "1  55204538  Delayed Because of Accident  Andreas Rönnberg   rock   \n",
              "2    20EC38            Funiculì funiculà       Mario Lanza    pop   \n",
              "3  A3DD03C9        Dragons in the Sunset        Fire + Ice   folk   \n",
              "4  E2DC1FAE                  Soul People        Space Echo  dance   \n",
              "\n",
              "             City        time        Day  \n",
              "0  Saint-Petersburg  20:28:33  Wednesday  \n",
              "1            Moscow  14:07:09     Friday  \n",
              "2  Saint-Petersburg  20:58:07  Wednesday  \n",
              "3  Saint-Petersburg  08:37:09     Monday  \n",
              "4            Moscow  08:34:34     Monday  "
            ],
            "text/html": [
              "\n",
              "\n",
              "  <div id=\"df-b8381efe-3a14-4477-937d-b0bd3e5c188c\">\n",
              "    <div class=\"colab-df-container\">\n",
              "      <div>\n",
              "<style scoped>\n",
              "    .dataframe tbody tr th:only-of-type {\n",
              "        vertical-align: middle;\n",
              "    }\n",
              "\n",
              "    .dataframe tbody tr th {\n",
              "        vertical-align: top;\n",
              "    }\n",
              "\n",
              "    .dataframe thead th {\n",
              "        text-align: right;\n",
              "    }\n",
              "</style>\n",
              "<table border=\"1\" class=\"dataframe\">\n",
              "  <thead>\n",
              "    <tr style=\"text-align: right;\">\n",
              "      <th></th>\n",
              "      <th>userID</th>\n",
              "      <th>Track</th>\n",
              "      <th>artist</th>\n",
              "      <th>genre</th>\n",
              "      <th>City</th>\n",
              "      <th>time</th>\n",
              "      <th>Day</th>\n",
              "    </tr>\n",
              "  </thead>\n",
              "  <tbody>\n",
              "    <tr>\n",
              "      <th>0</th>\n",
              "      <td>FFB692EC</td>\n",
              "      <td>Kamigata To Boots</td>\n",
              "      <td>The Mass Missile</td>\n",
              "      <td>rock</td>\n",
              "      <td>Saint-Petersburg</td>\n",
              "      <td>20:28:33</td>\n",
              "      <td>Wednesday</td>\n",
              "    </tr>\n",
              "    <tr>\n",
              "      <th>1</th>\n",
              "      <td>55204538</td>\n",
              "      <td>Delayed Because of Accident</td>\n",
              "      <td>Andreas Rönnberg</td>\n",
              "      <td>rock</td>\n",
              "      <td>Moscow</td>\n",
              "      <td>14:07:09</td>\n",
              "      <td>Friday</td>\n",
              "    </tr>\n",
              "    <tr>\n",
              "      <th>2</th>\n",
              "      <td>20EC38</td>\n",
              "      <td>Funiculì funiculà</td>\n",
              "      <td>Mario Lanza</td>\n",
              "      <td>pop</td>\n",
              "      <td>Saint-Petersburg</td>\n",
              "      <td>20:58:07</td>\n",
              "      <td>Wednesday</td>\n",
              "    </tr>\n",
              "    <tr>\n",
              "      <th>3</th>\n",
              "      <td>A3DD03C9</td>\n",
              "      <td>Dragons in the Sunset</td>\n",
              "      <td>Fire + Ice</td>\n",
              "      <td>folk</td>\n",
              "      <td>Saint-Petersburg</td>\n",
              "      <td>08:37:09</td>\n",
              "      <td>Monday</td>\n",
              "    </tr>\n",
              "    <tr>\n",
              "      <th>4</th>\n",
              "      <td>E2DC1FAE</td>\n",
              "      <td>Soul People</td>\n",
              "      <td>Space Echo</td>\n",
              "      <td>dance</td>\n",
              "      <td>Moscow</td>\n",
              "      <td>08:34:34</td>\n",
              "      <td>Monday</td>\n",
              "    </tr>\n",
              "  </tbody>\n",
              "</table>\n",
              "</div>\n",
              "      <button class=\"colab-df-convert\" onclick=\"convertToInteractive('df-b8381efe-3a14-4477-937d-b0bd3e5c188c')\"\n",
              "              title=\"Convert this dataframe to an interactive table.\"\n",
              "              style=\"display:none;\">\n",
              "\n",
              "  <svg xmlns=\"http://www.w3.org/2000/svg\" height=\"24px\"viewBox=\"0 0 24 24\"\n",
              "       width=\"24px\">\n",
              "    <path d=\"M0 0h24v24H0V0z\" fill=\"none\"/>\n",
              "    <path d=\"M18.56 5.44l.94 2.06.94-2.06 2.06-.94-2.06-.94-.94-2.06-.94 2.06-2.06.94zm-11 1L8.5 8.5l.94-2.06 2.06-.94-2.06-.94L8.5 2.5l-.94 2.06-2.06.94zm10 10l.94 2.06.94-2.06 2.06-.94-2.06-.94-.94-2.06-.94 2.06-2.06.94z\"/><path d=\"M17.41 7.96l-1.37-1.37c-.4-.4-.92-.59-1.43-.59-.52 0-1.04.2-1.43.59L10.3 9.45l-7.72 7.72c-.78.78-.78 2.05 0 2.83L4 21.41c.39.39.9.59 1.41.59.51 0 1.02-.2 1.41-.59l7.78-7.78 2.81-2.81c.8-.78.8-2.07 0-2.86zM5.41 20L4 18.59l7.72-7.72 1.47 1.35L5.41 20z\"/>\n",
              "  </svg>\n",
              "      </button>\n",
              "\n",
              "\n",
              "\n",
              "    <div id=\"df-943ac75d-58b6-4830-b9fd-66ec23f9b407\">\n",
              "      <button class=\"colab-df-quickchart\" onclick=\"quickchart('df-943ac75d-58b6-4830-b9fd-66ec23f9b407')\"\n",
              "              title=\"Suggest charts.\"\n",
              "              style=\"display:none;\">\n",
              "\n",
              "<svg xmlns=\"http://www.w3.org/2000/svg\" height=\"24px\"viewBox=\"0 0 24 24\"\n",
              "     width=\"24px\">\n",
              "    <g>\n",
              "        <path d=\"M19 3H5c-1.1 0-2 .9-2 2v14c0 1.1.9 2 2 2h14c1.1 0 2-.9 2-2V5c0-1.1-.9-2-2-2zM9 17H7v-7h2v7zm4 0h-2V7h2v10zm4 0h-2v-4h2v4z\"/>\n",
              "    </g>\n",
              "</svg>\n",
              "      </button>\n",
              "    </div>\n",
              "\n",
              "<style>\n",
              "  .colab-df-quickchart {\n",
              "    background-color: #E8F0FE;\n",
              "    border: none;\n",
              "    border-radius: 50%;\n",
              "    cursor: pointer;\n",
              "    display: none;\n",
              "    fill: #1967D2;\n",
              "    height: 32px;\n",
              "    padding: 0 0 0 0;\n",
              "    width: 32px;\n",
              "  }\n",
              "\n",
              "  .colab-df-quickchart:hover {\n",
              "    background-color: #E2EBFA;\n",
              "    box-shadow: 0px 1px 2px rgba(60, 64, 67, 0.3), 0px 1px 3px 1px rgba(60, 64, 67, 0.15);\n",
              "    fill: #174EA6;\n",
              "  }\n",
              "\n",
              "  [theme=dark] .colab-df-quickchart {\n",
              "    background-color: #3B4455;\n",
              "    fill: #D2E3FC;\n",
              "  }\n",
              "\n",
              "  [theme=dark] .colab-df-quickchart:hover {\n",
              "    background-color: #434B5C;\n",
              "    box-shadow: 0px 1px 3px 1px rgba(0, 0, 0, 0.15);\n",
              "    filter: drop-shadow(0px 1px 2px rgba(0, 0, 0, 0.3));\n",
              "    fill: #FFFFFF;\n",
              "  }\n",
              "</style>\n",
              "\n",
              "    <script>\n",
              "      async function quickchart(key) {\n",
              "        const containerElement = document.querySelector('#' + key);\n",
              "        const charts = await google.colab.kernel.invokeFunction(\n",
              "            'suggestCharts', [key], {});\n",
              "      }\n",
              "    </script>\n",
              "\n",
              "      <script>\n",
              "\n",
              "function displayQuickchartButton(domScope) {\n",
              "  let quickchartButtonEl =\n",
              "    domScope.querySelector('#df-943ac75d-58b6-4830-b9fd-66ec23f9b407 button.colab-df-quickchart');\n",
              "  quickchartButtonEl.style.display =\n",
              "    google.colab.kernel.accessAllowed ? 'block' : 'none';\n",
              "}\n",
              "\n",
              "        displayQuickchartButton(document);\n",
              "      </script>\n",
              "      <style>\n",
              "    .colab-df-container {\n",
              "      display:flex;\n",
              "      flex-wrap:wrap;\n",
              "      gap: 12px;\n",
              "    }\n",
              "\n",
              "    .colab-df-convert {\n",
              "      background-color: #E8F0FE;\n",
              "      border: none;\n",
              "      border-radius: 50%;\n",
              "      cursor: pointer;\n",
              "      display: none;\n",
              "      fill: #1967D2;\n",
              "      height: 32px;\n",
              "      padding: 0 0 0 0;\n",
              "      width: 32px;\n",
              "    }\n",
              "\n",
              "    .colab-df-convert:hover {\n",
              "      background-color: #E2EBFA;\n",
              "      box-shadow: 0px 1px 2px rgba(60, 64, 67, 0.3), 0px 1px 3px 1px rgba(60, 64, 67, 0.15);\n",
              "      fill: #174EA6;\n",
              "    }\n",
              "\n",
              "    [theme=dark] .colab-df-convert {\n",
              "      background-color: #3B4455;\n",
              "      fill: #D2E3FC;\n",
              "    }\n",
              "\n",
              "    [theme=dark] .colab-df-convert:hover {\n",
              "      background-color: #434B5C;\n",
              "      box-shadow: 0px 1px 3px 1px rgba(0, 0, 0, 0.15);\n",
              "      filter: drop-shadow(0px 1px 2px rgba(0, 0, 0, 0.3));\n",
              "      fill: #FFFFFF;\n",
              "    }\n",
              "  </style>\n",
              "\n",
              "      <script>\n",
              "        const buttonEl =\n",
              "          document.querySelector('#df-b8381efe-3a14-4477-937d-b0bd3e5c188c button.colab-df-convert');\n",
              "        buttonEl.style.display =\n",
              "          google.colab.kernel.accessAllowed ? 'block' : 'none';\n",
              "\n",
              "        async function convertToInteractive(key) {\n",
              "          const element = document.querySelector('#df-b8381efe-3a14-4477-937d-b0bd3e5c188c');\n",
              "          const dataTable =\n",
              "            await google.colab.kernel.invokeFunction('convertToInteractive',\n",
              "                                                     [key], {});\n",
              "          if (!dataTable) return;\n",
              "\n",
              "          const docLinkHtml = 'Like what you see? Visit the ' +\n",
              "            '<a target=\"_blank\" href=https://colab.research.google.com/notebooks/data_table.ipynb>data table notebook</a>'\n",
              "            + ' to learn more about interactive tables.';\n",
              "          element.innerHTML = '';\n",
              "          dataTable['output_type'] = 'display_data';\n",
              "          await google.colab.output.renderOutput(dataTable, element);\n",
              "          const docLink = document.createElement('div');\n",
              "          docLink.innerHTML = docLinkHtml;\n",
              "          element.appendChild(docLink);\n",
              "        }\n",
              "      </script>\n",
              "    </div>\n",
              "  </div>\n"
            ]
          },
          "metadata": {}
        },
        {
          "output_type": "stream",
          "name": "stdout",
          "text": [
            "<class 'pandas.core.frame.DataFrame'>\n",
            "RangeIndex: 65079 entries, 0 to 65078\n",
            "Data columns (total 7 columns):\n",
            " #   Column    Non-Null Count  Dtype \n",
            "---  ------    --------------  ----- \n",
            " 0     userID  65079 non-null  object\n",
            " 1   Track     63848 non-null  object\n",
            " 2   artist    57876 non-null  object\n",
            " 3   genre     63881 non-null  object\n",
            " 4     City    65079 non-null  object\n",
            " 5   time      65079 non-null  object\n",
            " 6   Day       65079 non-null  object\n",
            "dtypes: object(7)\n",
            "memory usage: 3.5+ MB\n"
          ]
        }
      ],
      "source": [
        "df = pd.read_csv('/content/yandex_music_project.csv')\n",
        "display(df.head())\n",
        "df.info()"
      ]
    },
    {
      "cell_type": "markdown",
      "metadata": {
        "deletable": false,
        "editable": false,
        "id": "TaQ2Iwbr_Zct"
      },
      "source": [
        "**В итоге**\n",
        "1. В таблице семь столбцов. Тип данных одинаковый — `object`.\n",
        "Согласно документации к данным:\n",
        "* `userID` — идентификатор пользователя\n",
        "* `Track` — название трека\n",
        "* `artist` — имя исполнителя\n",
        "* `genre` — название жанра\n",
        "* `City` — город пользователя\n",
        "* `time` — время начала прослушивания\n",
        "* `Day` — день недели\n",
        "\n",
        "2. В названиях колонок видны нарушения стиля:\n",
        "* Строчные буквы сочетаются с прописными\n",
        "* Встречаются пробелы\n",
        "\n",
        "3. Количество значений в столбцах различается. Значит, в данных есть пропущенные значения."
      ]
    },
    {
      "cell_type": "markdown",
      "metadata": {
        "deletable": false,
        "editable": false,
        "id": "SjYF6Ub9_Zct"
      },
      "source": [
        "## Предобработка данных\n"
      ]
    },
    {
      "cell_type": "markdown",
      "metadata": {
        "deletable": false,
        "editable": false,
        "id": "dIaKXr29_Zct",
        "tags": [
          "start_task"
        ]
      },
      "source": [
        "Привожу название колонок к единому виду"
      ]
    },
    {
      "cell_type": "code",
      "execution_count": 3,
      "metadata": {
        "deletable": false,
        "id": "oKOTdF_Q_Zct",
        "colab": {
          "base_uri": "https://localhost:8080/"
        },
        "outputId": "8c62872c-669d-49b3-df16-5f28a62b3d67"
      },
      "outputs": [
        {
          "output_type": "execute_result",
          "data": {
            "text/plain": [
              "Index(['user_id', 'track', 'artist', 'genre', 'city', 'time', 'day'], dtype='object')"
            ]
          },
          "metadata": {},
          "execution_count": 3
        }
      ],
      "source": [
        "df = df.rename(columns = {'  userID' : 'user_id', 'Track' : 'track', '  City  ' : 'city', 'Day' : 'day'})\n",
        "df.columns"
      ]
    },
    {
      "cell_type": "markdown",
      "metadata": {
        "deletable": false,
        "editable": false,
        "id": "5ISfbcfY_Zct",
        "tags": [
          "start_task"
        ]
      },
      "source": [
        "Ищу пропуски"
      ]
    },
    {
      "cell_type": "code",
      "execution_count": 4,
      "metadata": {
        "deletable": false,
        "id": "RskX29qr_Zct",
        "colab": {
          "base_uri": "https://localhost:8080/"
        },
        "outputId": "73f405d4-5233-46cd-f767-7a4f9e5672c3"
      },
      "outputs": [
        {
          "output_type": "execute_result",
          "data": {
            "text/plain": [
              "user_id       0\n",
              "track      1231\n",
              "artist     7203\n",
              "genre      1198\n",
              "city          0\n",
              "time          0\n",
              "day           0\n",
              "dtype: int64"
            ]
          },
          "metadata": {},
          "execution_count": 4
        }
      ],
      "source": [
        "df.isna().sum()"
      ]
    },
    {
      "cell_type": "markdown",
      "metadata": {
        "deletable": false,
        "editable": false,
        "id": "qubhgnlO_Zct"
      },
      "source": [
        "Пропуски есть.\n",
        "\n",
        "Заполняю их 'unknown':\n",
        "1. В столбцах `track` и `artist` они не повлияют на проверку гипотез.\n",
        "2. В столбце `genre` могут помешать сравнению музыкальных вкусов в Москве и Санкт-Петербурге. Заполню их и оценю на сколько заполение повлияет на проверку гипотез."
      ]
    },
    {
      "cell_type": "code",
      "execution_count": 5,
      "metadata": {
        "deletable": false,
        "id": "KplB5qWs_Zct",
        "colab": {
          "base_uri": "https://localhost:8080/"
        },
        "outputId": "bdfe1e0b-5971-402b-ea6e-e6fb4fb44298"
      },
      "outputs": [
        {
          "output_type": "execute_result",
          "data": {
            "text/plain": [
              "user_id    0\n",
              "track      0\n",
              "artist     0\n",
              "genre      0\n",
              "city       0\n",
              "time       0\n",
              "day        0\n",
              "dtype: int64"
            ]
          },
          "metadata": {},
          "execution_count": 5
        }
      ],
      "source": [
        "columns_to_replace = ['track', 'artist', 'genre']\n",
        "\n",
        "for column in columns_to_replace:\n",
        "    df[column] = df[column].fillna('unknown')\n",
        "\n",
        "df.isna().sum()"
      ]
    },
    {
      "cell_type": "markdown",
      "metadata": {
        "deletable": false,
        "editable": false,
        "id": "BWKRtBJ3_Zct",
        "tags": [
          "start_task"
        ]
      },
      "source": [
        "Работа с дубликатами\n"
      ]
    },
    {
      "cell_type": "code",
      "execution_count": 6,
      "metadata": {
        "deletable": false,
        "id": "36eES_S0_Zct",
        "colab": {
          "base_uri": "https://localhost:8080/"
        },
        "outputId": "8ab6d1a7-fc05-45d0-fb04-847d47398a7e"
      },
      "outputs": [
        {
          "output_type": "execute_result",
          "data": {
            "text/plain": [
              "3826"
            ]
          },
          "metadata": {},
          "execution_count": 6
        }
      ],
      "source": [
        "df.duplicated().sum()\n",
        "\n"
      ]
    },
    {
      "cell_type": "markdown",
      "source": [
        "Нашлось почти 4000. Удаляю их"
      ],
      "metadata": {
        "id": "p5phVx_ak2vg"
      }
    },
    {
      "cell_type": "code",
      "execution_count": 7,
      "metadata": {
        "deletable": false,
        "id": "-8PuNWQ0_Zct",
        "colab": {
          "base_uri": "https://localhost:8080/"
        },
        "outputId": "a3d612a6-2d8e-463f-f055-58c45d469e3f"
      },
      "outputs": [
        {
          "output_type": "execute_result",
          "data": {
            "text/plain": [
              "0"
            ]
          },
          "metadata": {},
          "execution_count": 7
        }
      ],
      "source": [
        "df = df.drop_duplicates()\n",
        "\n",
        "df.duplicated().sum()"
      ]
    },
    {
      "cell_type": "markdown",
      "metadata": {
        "deletable": false,
        "editable": false,
        "id": "QlFBsxAr_Zct"
      },
      "source": [
        "Проверяю наличие неявных дубликатов в колонке `genre`"
      ]
    },
    {
      "cell_type": "code",
      "execution_count": 8,
      "metadata": {
        "deletable": false,
        "id": "JIUcqzZN_Zct",
        "colab": {
          "base_uri": "https://localhost:8080/"
        },
        "outputId": "41c0ec92-86b6-43d3-a4b9-2afbd0f35cd0"
      },
      "outputs": [
        {
          "output_type": "execute_result",
          "data": {
            "text/plain": [
              "array(['acid', 'acoustic', 'action', 'adult', 'africa', 'afrikaans',\n",
              "       'alternative', 'alternativepunk', 'ambient', 'americana',\n",
              "       'animated', 'anime', 'arabesk', 'arabic', 'arena',\n",
              "       'argentinetango', 'art', 'audiobook', 'author', 'avantgarde',\n",
              "       'axé', 'baile', 'balkan', 'beats', 'bigroom', 'black', 'bluegrass',\n",
              "       'blues', 'bollywood', 'bossa', 'brazilian', 'breakbeat', 'breaks',\n",
              "       'broadway', 'cantautori', 'cantopop', 'canzone', 'caribbean',\n",
              "       'caucasian', 'celtic', 'chamber', 'chanson', 'children', 'chill',\n",
              "       'chinese', 'choral', 'christian', 'christmas', 'classical',\n",
              "       'classicmetal', 'club', 'colombian', 'comedy', 'conjazz',\n",
              "       'contemporary', 'country', 'cuban', 'dance', 'dancehall',\n",
              "       'dancepop', 'dark', 'death', 'deep', 'deutschrock', 'deutschspr',\n",
              "       'dirty', 'disco', 'dnb', 'documentary', 'downbeat', 'downtempo',\n",
              "       'drum', 'dub', 'dubstep', 'eastern', 'easy', 'electronic',\n",
              "       'electropop', 'emo', 'entehno', 'epicmetal', 'estrada', 'ethnic',\n",
              "       'eurofolk', 'european', 'experimental', 'extrememetal', 'fado',\n",
              "       'fairytail', 'film', 'fitness', 'flamenco', 'folk', 'folklore',\n",
              "       'folkmetal', 'folkrock', 'folktronica', 'forró', 'frankreich',\n",
              "       'französisch', 'french', 'funk', 'future', 'gangsta', 'garage',\n",
              "       'german', 'ghazal', 'gitarre', 'glitch', 'gospel', 'gothic',\n",
              "       'grime', 'grunge', 'gypsy', 'handsup', \"hard'n'heavy\", 'hardcore',\n",
              "       'hardstyle', 'hardtechno', 'hip', 'hip-hop', 'hiphop',\n",
              "       'historisch', 'holiday', 'hop', 'horror', 'house', 'hymn', 'idm',\n",
              "       'independent', 'indian', 'indie', 'indipop', 'industrial',\n",
              "       'inspirational', 'instrumental', 'international', 'irish', 'jam',\n",
              "       'japanese', 'jazz', 'jewish', 'jpop', 'jungle', 'k-pop',\n",
              "       'karadeniz', 'karaoke', 'kayokyoku', 'korean', 'laiko', 'latin',\n",
              "       'latino', 'leftfield', 'local', 'lounge', 'loungeelectronic',\n",
              "       'lovers', 'malaysian', 'mandopop', 'marschmusik', 'meditative',\n",
              "       'mediterranean', 'melodic', 'metal', 'metalcore', 'mexican',\n",
              "       'middle', 'minimal', 'miscellaneous', 'modern', 'mood', 'mpb',\n",
              "       'muslim', 'native', 'neoklassik', 'neue', 'new', 'newage',\n",
              "       'newwave', 'nu', 'nujazz', 'numetal', 'oceania', 'old', 'opera',\n",
              "       'orchestral', 'other', 'piano', 'podcasts', 'pop', 'popdance',\n",
              "       'popelectronic', 'popeurodance', 'poprussian', 'post',\n",
              "       'posthardcore', 'postrock', 'power', 'progmetal', 'progressive',\n",
              "       'psychedelic', 'punjabi', 'punk', 'quebecois', 'ragga', 'ram',\n",
              "       'rancheras', 'rap', 'rave', 'reggae', 'reggaeton', 'regional',\n",
              "       'relax', 'religious', 'retro', 'rhythm', 'rnb', 'rnr', 'rock',\n",
              "       'rockabilly', 'rockalternative', 'rockindie', 'rockother',\n",
              "       'romance', 'roots', 'ruspop', 'rusrap', 'rusrock', 'russian',\n",
              "       'salsa', 'samba', 'scenic', 'schlager', 'self', 'sertanejo',\n",
              "       'shanson', 'shoegazing', 'showtunes', 'singer', 'ska', 'skarock',\n",
              "       'slow', 'smooth', 'soft', 'soul', 'soulful', 'sound', 'soundtrack',\n",
              "       'southern', 'specialty', 'speech', 'spiritual', 'sport',\n",
              "       'stonerrock', 'surf', 'swing', 'synthpop', 'synthrock',\n",
              "       'sängerportrait', 'tango', 'tanzorchester', 'taraftar', 'tatar',\n",
              "       'tech', 'techno', 'teen', 'thrash', 'top', 'traditional',\n",
              "       'tradjazz', 'trance', 'tribal', 'trip', 'triphop', 'tropical',\n",
              "       'türk', 'türkçe', 'ukrrock', 'unknown', 'urban', 'uzbek',\n",
              "       'variété', 'vi', 'videogame', 'vocal', 'western', 'world',\n",
              "       'worldbeat', 'ïîï', 'электроника'], dtype=object)"
            ]
          },
          "metadata": {},
          "execution_count": 8
        }
      ],
      "source": [
        "df['genre'].sort_values().unique()"
      ]
    },
    {
      "cell_type": "markdown",
      "metadata": {
        "deletable": false,
        "editable": false,
        "id": "qej-Qmuo_Zct",
        "tags": [
          "start_task"
        ]
      },
      "source": [
        "Неявные дубликаты нашлись. Заменяю их"
      ]
    },
    {
      "cell_type": "code",
      "execution_count": 9,
      "metadata": {
        "deletable": false,
        "id": "ErNDkmns_Zct"
      },
      "outputs": [],
      "source": [
        "duplicates = ['hip', 'hop', 'hip-hop']\n",
        "name = 'hiphop'\n",
        "df['genre'] = df['genre'].replace(duplicates, name)"
      ]
    },
    {
      "cell_type": "code",
      "source": [
        "df.info()"
      ],
      "metadata": {
        "colab": {
          "base_uri": "https://localhost:8080/"
        },
        "id": "fQLje1YYpRpx",
        "outputId": "fb5d2994-c64a-4243-b110-23f3a5b5d4a6"
      },
      "execution_count": 10,
      "outputs": [
        {
          "output_type": "stream",
          "name": "stdout",
          "text": [
            "<class 'pandas.core.frame.DataFrame'>\n",
            "Int64Index: 61253 entries, 0 to 65078\n",
            "Data columns (total 7 columns):\n",
            " #   Column   Non-Null Count  Dtype \n",
            "---  ------   --------------  ----- \n",
            " 0   user_id  61253 non-null  object\n",
            " 1   track    61253 non-null  object\n",
            " 2   artist   61253 non-null  object\n",
            " 3   genre    61253 non-null  object\n",
            " 4   city     61253 non-null  object\n",
            " 5   time     61253 non-null  object\n",
            " 6   day      61253 non-null  object\n",
            "dtypes: object(7)\n",
            "memory usage: 3.7+ MB\n"
          ]
        }
      ]
    },
    {
      "cell_type": "markdown",
      "metadata": {
        "deletable": false,
        "editable": false,
        "id": "jz6a9-7HQUDd"
      },
      "source": [
        "**В итоге:**\n",
        "\n",
        "1. Исправлены заголовки.\n",
        "2. Заполнены пропущенные значения.\n",
        "3. Удалены явные и неявные дубликаты.\n",
        "\n"
      ]
    },
    {
      "cell_type": "markdown",
      "metadata": {
        "deletable": false,
        "editable": false,
        "id": "WttZHXH0SqKk"
      },
      "source": [
        "## Проверка гипотез"
      ]
    },
    {
      "cell_type": "markdown",
      "metadata": {
        "deletable": false,
        "editable": false,
        "id": "Im936VVi_Zcu"
      },
      "source": [
        "<u>Проверяю первую гипотезу:</u>\n",
        "пользователи по-разному слушают музыку в Москве и Санкт-Петербурге.\n",
        "\n",
        "Для этого беру данные о трёх днях недели — понедельнике, среде и пятнице:\n",
        "* Группирую пользователей по городам.\n",
        "* Сравниваю, сколько треков послушала каждая группа пользователей в понедельник, среду и пятницу.\n"
      ]
    },
    {
      "cell_type": "code",
      "execution_count": 11,
      "metadata": {
        "deletable": false,
        "id": "0_Qs96oh_Zcu",
        "outputId": "2a06f72a-ed5a-49ed-8fd4-b709136e1288",
        "colab": {
          "base_uri": "https://localhost:8080/"
        }
      },
      "outputs": [
        {
          "output_type": "execute_result",
          "data": {
            "text/plain": [
              "city\n",
              "Moscow              42741\n",
              "Saint-Petersburg    18512\n",
              "Name: time, dtype: int64"
            ]
          },
          "metadata": {},
          "execution_count": 11
        }
      ],
      "source": [
        "df.groupby('city')['time'].count()"
      ]
    },
    {
      "cell_type": "markdown",
      "metadata": {
        "deletable": false,
        "editable": false,
        "id": "dzli3w8o_Zcu",
        "tags": [
          "start_task"
        ]
      },
      "source": [
        "В Москве прослушиваний больше, чем в Санкт-Петербурге. Из этого не следует, что московские пользователи чаще слушают музыку. Просто самих пользователей в Москве больше."
      ]
    },
    {
      "cell_type": "markdown",
      "source": [
        "Группирую данные по дням недели, чтобы получить количество прослушиваний"
      ],
      "metadata": {
        "id": "sgcCEUjRXV9v"
      }
    },
    {
      "cell_type": "code",
      "execution_count": 12,
      "metadata": {
        "deletable": false,
        "id": "uZMKjiJz_Zcu",
        "outputId": "4fc56153-c3a3-4643-a283-bb1f5725ba27",
        "colab": {
          "base_uri": "https://localhost:8080/"
        }
      },
      "outputs": [
        {
          "output_type": "execute_result",
          "data": {
            "text/plain": [
              "day\n",
              "Friday       21840\n",
              "Monday       21354\n",
              "Wednesday    18059\n",
              "Name: time, dtype: int64"
            ]
          },
          "metadata": {},
          "execution_count": 12
        }
      ],
      "source": [
        "df.groupby('day')['time'].count()"
      ]
    },
    {
      "cell_type": "markdown",
      "metadata": {
        "deletable": false,
        "editable": false,
        "id": "cC2tNrlL_Zcu"
      },
      "source": [
        "Пользователи из двух городов менее активны по средам. Но картина может измениться, если рассмотреть каждый город в отдельности."
      ]
    },
    {
      "cell_type": "markdown",
      "metadata": {
        "deletable": false,
        "editable": false,
        "id": "POzs8bGa_Zcu",
        "tags": [
          "start_task"
        ]
      },
      "source": [
        "Создаю функцию `number_tracks()`: она посчитает прослушивания для заданного дня и города с двумя параметрами:\n",
        "* день недели,\n",
        "* название города."
      ]
    },
    {
      "cell_type": "code",
      "execution_count": 13,
      "metadata": {
        "deletable": false,
        "id": "Nz3GdQB1_Zcu"
      },
      "outputs": [],
      "source": [
        "def number_tracks(day, city):\n",
        "    track_list = df[df['day'] == day]\n",
        "    track_list = track_list[track_list['city'] == city]\n",
        "    track_list_count = track_list['user_id'].count()\n",
        "    return track_list_count"
      ]
    },
    {
      "cell_type": "markdown",
      "metadata": {
        "deletable": false,
        "editable": false,
        "id": "ytf7xFrFJQ2r",
        "tags": [
          "start_task"
        ]
      },
      "source": [
        "Данные для каждого города в каждый из трёх дней"
      ]
    },
    {
      "cell_type": "code",
      "execution_count": 14,
      "metadata": {
        "deletable": false,
        "id": "rJcRATNQ_Zcu",
        "outputId": "9e19dfe0-6512-401b-82de-fe68399ee3c9",
        "colab": {
          "base_uri": "https://localhost:8080/"
        }
      },
      "outputs": [
        {
          "output_type": "stream",
          "name": "stdout",
          "text": [
            "Понедельник, Москва:  15740\n",
            "Понедельник, Санкт-Петербург:  5614\n",
            "Среда, Москва:  11056\n",
            "Среда, Санкт-Петербург:  7003\n",
            "Пятница, Москва:  15945\n",
            "Пятница, Санкт-Петербург:  5895\n"
          ]
        }
      ],
      "source": [
        "print('Понедельник, Москва: ', number_tracks('Monday', 'Moscow'))\n",
        "print('Понедельник, Санкт-Петербург: ', number_tracks('Monday', 'Saint-Petersburg'))\n",
        "print('Среда, Москва: ', number_tracks('Wednesday', 'Moscow'))\n",
        "print('Среда, Санкт-Петербург: ', number_tracks('Wednesday', 'Saint-Petersburg'))\n",
        "print('Пятница, Москва: ', number_tracks('Friday', 'Moscow'))\n",
        "print('Пятница, Санкт-Петербург: ', number_tracks('Friday', 'Saint-Petersburg'))"
      ]
    },
    {
      "cell_type": "markdown",
      "metadata": {
        "deletable": false,
        "editable": false,
        "id": "7QXffbO-_Zcu",
        "tags": [
          "start_task"
        ]
      },
      "source": [
        "Для удобства чтения обернём данные в таблицу:"
      ]
    },
    {
      "cell_type": "code",
      "execution_count": 15,
      "metadata": {
        "deletable": false,
        "id": "APAcLpOr_Zcu",
        "colab": {
          "base_uri": "https://localhost:8080/",
          "height": 144
        },
        "outputId": "356ecc8e-72ab-4e9b-8abc-5cb6b48cb86d"
      },
      "outputs": [
        {
          "output_type": "display_data",
          "data": {
            "text/plain": [
              "                  monday  wednesday  friday\n",
              "city                                       \n",
              "Moscow             15740      11056   15945\n",
              "Saint-Petersburg    5614       7003    5895"
            ],
            "text/html": [
              "\n",
              "\n",
              "  <div id=\"df-abd57143-41ff-4ef5-8d9b-da3a1f134490\">\n",
              "    <div class=\"colab-df-container\">\n",
              "      <div>\n",
              "<style scoped>\n",
              "    .dataframe tbody tr th:only-of-type {\n",
              "        vertical-align: middle;\n",
              "    }\n",
              "\n",
              "    .dataframe tbody tr th {\n",
              "        vertical-align: top;\n",
              "    }\n",
              "\n",
              "    .dataframe thead th {\n",
              "        text-align: right;\n",
              "    }\n",
              "</style>\n",
              "<table border=\"1\" class=\"dataframe\">\n",
              "  <thead>\n",
              "    <tr style=\"text-align: right;\">\n",
              "      <th></th>\n",
              "      <th>monday</th>\n",
              "      <th>wednesday</th>\n",
              "      <th>friday</th>\n",
              "    </tr>\n",
              "    <tr>\n",
              "      <th>city</th>\n",
              "      <th></th>\n",
              "      <th></th>\n",
              "      <th></th>\n",
              "    </tr>\n",
              "  </thead>\n",
              "  <tbody>\n",
              "    <tr>\n",
              "      <th>Moscow</th>\n",
              "      <td>15740</td>\n",
              "      <td>11056</td>\n",
              "      <td>15945</td>\n",
              "    </tr>\n",
              "    <tr>\n",
              "      <th>Saint-Petersburg</th>\n",
              "      <td>5614</td>\n",
              "      <td>7003</td>\n",
              "      <td>5895</td>\n",
              "    </tr>\n",
              "  </tbody>\n",
              "</table>\n",
              "</div>\n",
              "      <button class=\"colab-df-convert\" onclick=\"convertToInteractive('df-abd57143-41ff-4ef5-8d9b-da3a1f134490')\"\n",
              "              title=\"Convert this dataframe to an interactive table.\"\n",
              "              style=\"display:none;\">\n",
              "\n",
              "  <svg xmlns=\"http://www.w3.org/2000/svg\" height=\"24px\"viewBox=\"0 0 24 24\"\n",
              "       width=\"24px\">\n",
              "    <path d=\"M0 0h24v24H0V0z\" fill=\"none\"/>\n",
              "    <path d=\"M18.56 5.44l.94 2.06.94-2.06 2.06-.94-2.06-.94-.94-2.06-.94 2.06-2.06.94zm-11 1L8.5 8.5l.94-2.06 2.06-.94-2.06-.94L8.5 2.5l-.94 2.06-2.06.94zm10 10l.94 2.06.94-2.06 2.06-.94-2.06-.94-.94-2.06-.94 2.06-2.06.94z\"/><path d=\"M17.41 7.96l-1.37-1.37c-.4-.4-.92-.59-1.43-.59-.52 0-1.04.2-1.43.59L10.3 9.45l-7.72 7.72c-.78.78-.78 2.05 0 2.83L4 21.41c.39.39.9.59 1.41.59.51 0 1.02-.2 1.41-.59l7.78-7.78 2.81-2.81c.8-.78.8-2.07 0-2.86zM5.41 20L4 18.59l7.72-7.72 1.47 1.35L5.41 20z\"/>\n",
              "  </svg>\n",
              "      </button>\n",
              "\n",
              "\n",
              "\n",
              "    <div id=\"df-3663c95d-2f80-4fde-8c70-990ffb72a41b\">\n",
              "      <button class=\"colab-df-quickchart\" onclick=\"quickchart('df-3663c95d-2f80-4fde-8c70-990ffb72a41b')\"\n",
              "              title=\"Suggest charts.\"\n",
              "              style=\"display:none;\">\n",
              "\n",
              "<svg xmlns=\"http://www.w3.org/2000/svg\" height=\"24px\"viewBox=\"0 0 24 24\"\n",
              "     width=\"24px\">\n",
              "    <g>\n",
              "        <path d=\"M19 3H5c-1.1 0-2 .9-2 2v14c0 1.1.9 2 2 2h14c1.1 0 2-.9 2-2V5c0-1.1-.9-2-2-2zM9 17H7v-7h2v7zm4 0h-2V7h2v10zm4 0h-2v-4h2v4z\"/>\n",
              "    </g>\n",
              "</svg>\n",
              "      </button>\n",
              "    </div>\n",
              "\n",
              "<style>\n",
              "  .colab-df-quickchart {\n",
              "    background-color: #E8F0FE;\n",
              "    border: none;\n",
              "    border-radius: 50%;\n",
              "    cursor: pointer;\n",
              "    display: none;\n",
              "    fill: #1967D2;\n",
              "    height: 32px;\n",
              "    padding: 0 0 0 0;\n",
              "    width: 32px;\n",
              "  }\n",
              "\n",
              "  .colab-df-quickchart:hover {\n",
              "    background-color: #E2EBFA;\n",
              "    box-shadow: 0px 1px 2px rgba(60, 64, 67, 0.3), 0px 1px 3px 1px rgba(60, 64, 67, 0.15);\n",
              "    fill: #174EA6;\n",
              "  }\n",
              "\n",
              "  [theme=dark] .colab-df-quickchart {\n",
              "    background-color: #3B4455;\n",
              "    fill: #D2E3FC;\n",
              "  }\n",
              "\n",
              "  [theme=dark] .colab-df-quickchart:hover {\n",
              "    background-color: #434B5C;\n",
              "    box-shadow: 0px 1px 3px 1px rgba(0, 0, 0, 0.15);\n",
              "    filter: drop-shadow(0px 1px 2px rgba(0, 0, 0, 0.3));\n",
              "    fill: #FFFFFF;\n",
              "  }\n",
              "</style>\n",
              "\n",
              "    <script>\n",
              "      async function quickchart(key) {\n",
              "        const containerElement = document.querySelector('#' + key);\n",
              "        const charts = await google.colab.kernel.invokeFunction(\n",
              "            'suggestCharts', [key], {});\n",
              "      }\n",
              "    </script>\n",
              "\n",
              "      <script>\n",
              "\n",
              "function displayQuickchartButton(domScope) {\n",
              "  let quickchartButtonEl =\n",
              "    domScope.querySelector('#df-3663c95d-2f80-4fde-8c70-990ffb72a41b button.colab-df-quickchart');\n",
              "  quickchartButtonEl.style.display =\n",
              "    google.colab.kernel.accessAllowed ? 'block' : 'none';\n",
              "}\n",
              "\n",
              "        displayQuickchartButton(document);\n",
              "      </script>\n",
              "      <style>\n",
              "    .colab-df-container {\n",
              "      display:flex;\n",
              "      flex-wrap:wrap;\n",
              "      gap: 12px;\n",
              "    }\n",
              "\n",
              "    .colab-df-convert {\n",
              "      background-color: #E8F0FE;\n",
              "      border: none;\n",
              "      border-radius: 50%;\n",
              "      cursor: pointer;\n",
              "      display: none;\n",
              "      fill: #1967D2;\n",
              "      height: 32px;\n",
              "      padding: 0 0 0 0;\n",
              "      width: 32px;\n",
              "    }\n",
              "\n",
              "    .colab-df-convert:hover {\n",
              "      background-color: #E2EBFA;\n",
              "      box-shadow: 0px 1px 2px rgba(60, 64, 67, 0.3), 0px 1px 3px 1px rgba(60, 64, 67, 0.15);\n",
              "      fill: #174EA6;\n",
              "    }\n",
              "\n",
              "    [theme=dark] .colab-df-convert {\n",
              "      background-color: #3B4455;\n",
              "      fill: #D2E3FC;\n",
              "    }\n",
              "\n",
              "    [theme=dark] .colab-df-convert:hover {\n",
              "      background-color: #434B5C;\n",
              "      box-shadow: 0px 1px 3px 1px rgba(0, 0, 0, 0.15);\n",
              "      filter: drop-shadow(0px 1px 2px rgba(0, 0, 0, 0.3));\n",
              "      fill: #FFFFFF;\n",
              "    }\n",
              "  </style>\n",
              "\n",
              "      <script>\n",
              "        const buttonEl =\n",
              "          document.querySelector('#df-abd57143-41ff-4ef5-8d9b-da3a1f134490 button.colab-df-convert');\n",
              "        buttonEl.style.display =\n",
              "          google.colab.kernel.accessAllowed ? 'block' : 'none';\n",
              "\n",
              "        async function convertToInteractive(key) {\n",
              "          const element = document.querySelector('#df-abd57143-41ff-4ef5-8d9b-da3a1f134490');\n",
              "          const dataTable =\n",
              "            await google.colab.kernel.invokeFunction('convertToInteractive',\n",
              "                                                     [key], {});\n",
              "          if (!dataTable) return;\n",
              "\n",
              "          const docLinkHtml = 'Like what you see? Visit the ' +\n",
              "            '<a target=\"_blank\" href=https://colab.research.google.com/notebooks/data_table.ipynb>data table notebook</a>'\n",
              "            + ' to learn more about interactive tables.';\n",
              "          element.innerHTML = '';\n",
              "          dataTable['output_type'] = 'display_data';\n",
              "          await google.colab.output.renderOutput(dataTable, element);\n",
              "          const docLink = document.createElement('div');\n",
              "          docLink.innerHTML = docLinkHtml;\n",
              "          element.appendChild(docLink);\n",
              "        }\n",
              "      </script>\n",
              "    </div>\n",
              "  </div>\n"
            ]
          },
          "metadata": {}
        }
      ],
      "source": [
        "data = [['Moscow', 15740, 11056, 15945],\n",
        "        ['Saint-Petersburg', 5614, 7003, 5895]]\n",
        "column = ['city', 'monday', 'wednesday', 'friday']\n",
        "\n",
        "info = pd.DataFrame(data = data, columns = column).set_index('city')\n",
        "display(info)"
      ]
    },
    {
      "cell_type": "markdown",
      "metadata": {
        "deletable": false,
        "editable": false,
        "id": "-EgPIHYu_Zcu"
      },
      "source": [
        "**В итоге:** данные подтвреждают гипотезу.\n",
        "\n",
        "Данные показывают разницу поведения пользователей:\n",
        "- В Москве пик прослушиваний приходится на понедельник и пятницу, а в среду заметен спад.\n",
        "- В Санкт-Петербурге, больше слушают музыку по средам. Активность в понедельник и пятницу здесь почти в равной мере уступает среде."
      ]
    },
    {
      "cell_type": "markdown",
      "metadata": {
        "deletable": false,
        "editable": false,
        "id": "eXrQqXFH_Zcu"
      },
      "source": [
        "<u>Проверяю вторую гипотезу:</u>\n",
        " утром в понедельник в Москве преобладают одни жанры, а в Петербурге — другие. Так же и вечером пятницы преобладают разные жанры — в зависимости от города."
      ]
    },
    {
      "cell_type": "markdown",
      "metadata": {
        "deletable": false,
        "editable": false,
        "id": "S8UcW6Hw_Zcu",
        "tags": [
          "start_task"
        ]
      },
      "source": [
        "Создаю две переменные:\n",
        "* по Москве — в `moscow_general`;\n",
        "* по Санкт-Петербургу — в `spb_general`."
      ]
    },
    {
      "cell_type": "code",
      "execution_count": 16,
      "metadata": {
        "deletable": false,
        "id": "qeaFfM_P_Zcu"
      },
      "outputs": [],
      "source": [
        "moscow_general = df[df['city'] == 'Moscow']\n",
        "spb_general = df[df['city'] == 'Saint-Petersburg']"
      ]
    },
    {
      "cell_type": "markdown",
      "metadata": {
        "deletable": false,
        "editable": false,
        "id": "MEJV-CX2_Zcu",
        "tags": [
          "start_task"
        ]
      },
      "source": [
        "Создаю функцию `genre_weekday()` с четырьмя параметрами:\n",
        "* датасет с данными;\n",
        "* день недели;\n",
        "* начальная временная метка в формате 'hh:mm';\n",
        "* последняя временная метка в формате 'hh:mm'.\n",
        "\n",
        "Функция будет возвращать топ-10 жанров тех треков, которые прослушивали в указанный день, в промежутке между двумя отметками времени"
      ]
    },
    {
      "cell_type": "code",
      "execution_count": 17,
      "metadata": {
        "deletable": false,
        "id": "laJT9BYl_Zcu"
      },
      "outputs": [],
      "source": [
        "def genre_weekday(df, day, time1, time2):\n",
        "    genre_df = df[(df['day'] == day)]\n",
        "    genre_df = genre_df[(genre_df['time'] < time2)]\n",
        "    genre_df = genre_df[(genre_df['time'] > time1)]\n",
        "    genre_df_grouped = genre_df.groupby('genre')['genre'].count()\n",
        "    genre_df_sorted = genre_df_grouped.sort_values(ascending = False)\n",
        "    return genre_df_sorted[:10]\n"
      ]
    },
    {
      "cell_type": "markdown",
      "metadata": {
        "deletable": false,
        "editable": false,
        "id": "la2s2_PF_Zcu",
        "tags": [
          "start_task"
        ]
      },
      "source": [
        "Cравниваю результаты функции `genre_weekday()` для Москвы и Санкт-Петербурга в понедельник утром (с 7:00 до 11:00) и в пятницу вечером (с 17:00 до 23:00):"
      ]
    },
    {
      "cell_type": "code",
      "execution_count": 18,
      "metadata": {
        "deletable": false,
        "id": "yz7itPUQ_Zcu",
        "outputId": "f7efceb7-67ae-4c44-ea3a-c26d631b9987",
        "colab": {
          "base_uri": "https://localhost:8080/"
        }
      },
      "outputs": [
        {
          "output_type": "execute_result",
          "data": {
            "text/plain": [
              "genre\n",
              "pop            781\n",
              "dance          549\n",
              "electronic     480\n",
              "rock           474\n",
              "hiphop         286\n",
              "ruspop         186\n",
              "world          181\n",
              "rusrap         175\n",
              "alternative    164\n",
              "unknown        161\n",
              "Name: genre, dtype: int64"
            ]
          },
          "metadata": {},
          "execution_count": 18
        }
      ],
      "source": [
        "genre_weekday(moscow_general, 'Monday', '07:00', '11:00')"
      ]
    },
    {
      "cell_type": "code",
      "execution_count": 19,
      "metadata": {
        "deletable": false,
        "id": "kwUcHPdy_Zcu",
        "outputId": "1b9b760e-9048-42db-a3a2-7d23a7ffb74b",
        "colab": {
          "base_uri": "https://localhost:8080/"
        }
      },
      "outputs": [
        {
          "output_type": "execute_result",
          "data": {
            "text/plain": [
              "genre\n",
              "pop            218\n",
              "dance          182\n",
              "rock           162\n",
              "electronic     147\n",
              "hiphop          80\n",
              "ruspop          64\n",
              "alternative     58\n",
              "rusrap          55\n",
              "jazz            44\n",
              "classical       40\n",
              "Name: genre, dtype: int64"
            ]
          },
          "metadata": {},
          "execution_count": 19
        }
      ],
      "source": [
        "genre_weekday(spb_general, 'Monday', '07:00', '11:00')"
      ]
    },
    {
      "cell_type": "code",
      "execution_count": 20,
      "metadata": {
        "deletable": false,
        "id": "EzXVRE1o_Zcu",
        "outputId": "971cbc0f-e370-4a5d-970c-1e4b1e7b0dfb",
        "colab": {
          "base_uri": "https://localhost:8080/"
        }
      },
      "outputs": [
        {
          "output_type": "execute_result",
          "data": {
            "text/plain": [
              "genre\n",
              "pop            713\n",
              "rock           517\n",
              "dance          495\n",
              "electronic     482\n",
              "hiphop         273\n",
              "world          208\n",
              "ruspop         170\n",
              "alternative    163\n",
              "classical      163\n",
              "rusrap         142\n",
              "Name: genre, dtype: int64"
            ]
          },
          "metadata": {},
          "execution_count": 20
        }
      ],
      "source": [
        " genre_weekday(moscow_general, 'Friday', '17:00', '23:00')"
      ]
    },
    {
      "cell_type": "code",
      "execution_count": 21,
      "metadata": {
        "deletable": false,
        "id": "JZaEKu5v_Zcu",
        "outputId": "5d3099ba-2f2d-4692-995e-7b3df9f1c03c",
        "colab": {
          "base_uri": "https://localhost:8080/"
        }
      },
      "outputs": [
        {
          "output_type": "execute_result",
          "data": {
            "text/plain": [
              "genre\n",
              "pop            256\n",
              "electronic     216\n",
              "rock           216\n",
              "dance          210\n",
              "hiphop          97\n",
              "alternative     63\n",
              "jazz            61\n",
              "classical       60\n",
              "rusrap          59\n",
              "world           54\n",
              "Name: genre, dtype: int64"
            ]
          },
          "metadata": {},
          "execution_count": 21
        }
      ],
      "source": [
        "genre_weekday(spb_general, 'Friday', '17:00', '23:00')"
      ]
    },
    {
      "cell_type": "markdown",
      "metadata": {
        "deletable": false,
        "editable": false,
        "id": "wrCe4MNX_Zcu"
      },
      "source": [
        "**В итоге:**  данные подтверждают гипотезу частично.\n",
        "* Пользователи слушают похожую музыку в начале недели и в конце.\n",
        "* Разница между Москвой и Петербургом не слишком выражена. В Москве чаще слушают русскую популярную музыку, в Петербурге — джаз.\n",
        "\n",
        "Стоит отметить, что пропуски в данных ставят под сомнение этот результат. В Москве их так много, что рейтинг топ-10 мог бы выглядеть иначе, если бы не утерянные  данные о жанрах.\n",
        "\n",
        "\n",
        "Если сравнить топ-10 жанров в понедельник утром, можно сделать выводы:\n",
        "1. В Москве и Петербурге слушают похожую музыку. Единственное отличие — в московский рейтинг вошёл жанр “world”, а в петербургский — джаз и классика.\n",
        "2. В Москве пропущенных значений оказалось так много, что значение `'unknown'` заняло десятое место среди самых популярных жанров. Значит, пропущенные значения занимают существенную долю в данных и угрожают достоверности исследования.\n",
        "3. Вечер пятницы не влияет на данные."
      ]
    },
    {
      "cell_type": "markdown",
      "metadata": {
        "deletable": false,
        "editable": false,
        "id": "JolODAqr_Zcu"
      },
      "source": [
        "<u>Проверяю третью гипотезу:</u>\n",
        "\n",
        "Санкт-Петербург — столица рэпа, музыку этого жанра там слушают чаще, чем в Москве.\n",
        "А в Москве преобладает поп-музыка."
      ]
    },
    {
      "cell_type": "markdown",
      "metadata": {
        "deletable": false,
        "editable": false,
        "id": "DlegSvaT_Zcu",
        "tags": [
          "start_task"
        ]
      },
      "source": [
        "Группирую данные по Москве по жанру и посчитаем прослушивания треков каждого и соберём топ-10"
      ]
    },
    {
      "cell_type": "code",
      "execution_count": 22,
      "metadata": {
        "deletable": false,
        "id": "r19lIPke_Zcu",
        "outputId": "d289a2a3-3dd8-4da9-c0c8-e46fb86a80fd",
        "colab": {
          "base_uri": "https://localhost:8080/",
          "height": 225
        }
      },
      "outputs": [
        {
          "output_type": "display_data",
          "data": {
            "text/plain": [
              "genre\n",
              "pop            5892\n",
              "dance          4435\n",
              "rock           3965\n",
              "electronic     3786\n",
              "hiphop         2096\n",
              "classical      1616\n",
              "world          1432\n",
              "alternative    1379\n",
              "ruspop         1372\n",
              "rusrap         1161\n",
              "Name: genre, dtype: int64"
            ]
          },
          "metadata": {}
        }
      ],
      "source": [
        "moscow_genres = moscow_general.groupby('genre')['genre'].count().sort_values(ascending = False)\n",
        "display(moscow_genres.head(10))"
      ]
    },
    {
      "cell_type": "markdown",
      "metadata": {
        "deletable": false,
        "editable": false,
        "id": "cnPG2vnN_Zcv",
        "tags": [
          "start_task"
        ]
      },
      "source": [
        "Группирую данные по Санкт-Петербургу по жанру и посчитаем прослушивания треков каждого и соберём топ-10"
      ]
    },
    {
      "cell_type": "code",
      "execution_count": 23,
      "metadata": {
        "deletable": false,
        "id": "gluLIpE7_Zcv",
        "colab": {
          "base_uri": "https://localhost:8080/",
          "height": 225
        },
        "outputId": "49d93bb3-73fe-4200-f07f-95074ffd30dc"
      },
      "outputs": [
        {
          "output_type": "display_data",
          "data": {
            "text/plain": [
              "genre\n",
              "pop            2431\n",
              "dance          1932\n",
              "rock           1879\n",
              "electronic     1736\n",
              "hiphop          960\n",
              "alternative     649\n",
              "classical       646\n",
              "rusrap          564\n",
              "ruspop          538\n",
              "world           515\n",
              "Name: genre, dtype: int64"
            ]
          },
          "metadata": {}
        }
      ],
      "source": [
        "spb_genres = spb_general.groupby('genre')['genre'].count().sort_values(ascending = False)\n",
        "display(spb_genres.head(10))"
      ]
    },
    {
      "cell_type": "markdown",
      "metadata": {
        "deletable": false,
        "editable": false,
        "id": "nVhnJEm__Zcv"
      },
      "source": [
        "**В итоге:** гипотеза частично подтвердилась.\n",
        "* Поп-музыка — самый популярный жанр в Москве, как и предполагала гипотеза.\n",
        "* Рэп одинаково популярен в Москве и Петербурге."
      ]
    },
    {
      "cell_type": "markdown",
      "metadata": {
        "deletable": false,
        "editable": false,
        "id": "ykKQ0N65_Zcv"
      },
      "source": [
        "## Выводы"
      ]
    },
    {
      "cell_type": "markdown",
      "metadata": {
        "deletable": false,
        "editable": false,
        "id": "tjUwbHb3_Zcv"
      },
      "source": [
        "### Исследование данных показало:\n",
        "* Первая гипотеза полностью подтвердилась. День недели по-разному влияет на активность пользователей в Москве и Петербурге.\n",
        "* Вторая гипотеза частично подтверждена. Музыкальные предпочтения не сильно меняются в течение недели — будь то Москва или Петербург.\n",
        "* Третья гипотеза частично подтверждена. Поп-музыка — самый популярный жанр в Москве, как и предполагала гипотеза. Рэп одинаково популярен в Москве и Петербурге.\n",
        "\n"
      ]
    }
  ],
  "metadata": {
    "ExecuteTimeLog": [
      {
        "duration": 7,
        "start_time": "2022-11-06T11:03:07.474Z"
      },
      {
        "duration": 11,
        "start_time": "2022-11-06T11:06:02.162Z"
      },
      {
        "duration": 13,
        "start_time": "2022-11-06T11:06:43.699Z"
      },
      {
        "duration": 10,
        "start_time": "2022-11-06T11:06:59.880Z"
      },
      {
        "duration": 12,
        "start_time": "2022-11-06T11:07:10.559Z"
      },
      {
        "duration": 10,
        "start_time": "2022-11-06T11:09:47.151Z"
      },
      {
        "duration": 9,
        "start_time": "2022-11-06T11:10:41.324Z"
      },
      {
        "duration": 7,
        "start_time": "2022-11-06T11:10:50.405Z"
      },
      {
        "duration": 42,
        "start_time": "2022-11-06T11:12:16.852Z"
      },
      {
        "duration": 51,
        "start_time": "2022-11-06T11:12:47.277Z"
      },
      {
        "duration": 48,
        "start_time": "2022-11-06T11:13:50.078Z"
      },
      {
        "duration": 45,
        "start_time": "2022-11-06T11:14:32.345Z"
      },
      {
        "duration": 49,
        "start_time": "2022-11-06T11:14:55.643Z"
      },
      {
        "duration": 52,
        "start_time": "2022-11-06T11:15:44.852Z"
      },
      {
        "duration": 61,
        "start_time": "2022-11-06T11:16:34.474Z"
      },
      {
        "duration": 50,
        "start_time": "2022-11-06T11:16:57.106Z"
      },
      {
        "duration": 47,
        "start_time": "2022-11-06T11:22:00.901Z"
      },
      {
        "duration": 47,
        "start_time": "2022-11-06T11:22:31.298Z"
      },
      {
        "duration": 48,
        "start_time": "2022-11-06T11:22:38.508Z"
      },
      {
        "duration": 44,
        "start_time": "2022-11-06T11:24:29.411Z"
      },
      {
        "duration": 48,
        "start_time": "2022-11-06T11:24:57.102Z"
      },
      {
        "duration": 44,
        "start_time": "2022-11-06T11:25:18.589Z"
      },
      {
        "duration": 7,
        "start_time": "2022-11-06T11:26:55.651Z"
      },
      {
        "duration": 37,
        "start_time": "2022-11-06T11:28:25.363Z"
      },
      {
        "duration": 10,
        "start_time": "2022-11-06T11:32:47.811Z"
      },
      {
        "duration": 37,
        "start_time": "2022-11-06T11:33:46.483Z"
      },
      {
        "duration": 30,
        "start_time": "2022-11-06T11:37:11.017Z"
      },
      {
        "duration": 7,
        "start_time": "2022-11-06T11:37:19.187Z"
      },
      {
        "duration": 4,
        "start_time": "2022-11-06T11:38:56.421Z"
      },
      {
        "duration": 4,
        "start_time": "2022-11-06T11:39:49.893Z"
      },
      {
        "duration": 8,
        "start_time": "2022-11-06T11:40:39.955Z"
      },
      {
        "duration": 6,
        "start_time": "2022-11-06T11:40:56.653Z"
      },
      {
        "duration": 5,
        "start_time": "2022-11-06T11:41:22.566Z"
      },
      {
        "duration": 4,
        "start_time": "2022-11-06T11:42:05.798Z"
      },
      {
        "duration": 6,
        "start_time": "2022-11-06T11:42:56.114Z"
      },
      {
        "duration": 390,
        "start_time": "2022-11-06T11:43:15.597Z"
      },
      {
        "duration": 173,
        "start_time": "2022-11-06T11:43:15.993Z"
      },
      {
        "duration": 23,
        "start_time": "2022-11-06T11:43:16.168Z"
      },
      {
        "duration": 35,
        "start_time": "2022-11-06T11:43:16.193Z"
      },
      {
        "duration": 3,
        "start_time": "2022-11-06T11:43:16.231Z"
      },
      {
        "duration": 9,
        "start_time": "2022-11-06T11:43:16.235Z"
      },
      {
        "duration": 14,
        "start_time": "2022-11-06T11:43:16.245Z"
      },
      {
        "duration": 19,
        "start_time": "2022-11-06T11:43:16.261Z"
      },
      {
        "duration": 51,
        "start_time": "2022-11-06T11:43:16.282Z"
      },
      {
        "duration": 19,
        "start_time": "2022-11-06T11:43:16.335Z"
      },
      {
        "duration": 36,
        "start_time": "2022-11-06T11:43:16.356Z"
      },
      {
        "duration": 68,
        "start_time": "2022-11-06T11:43:16.394Z"
      },
      {
        "duration": 76,
        "start_time": "2022-11-06T11:43:16.464Z"
      },
      {
        "duration": 79,
        "start_time": "2022-11-06T11:43:16.544Z"
      },
      {
        "duration": 36,
        "start_time": "2022-11-06T11:43:16.625Z"
      },
      {
        "duration": 14,
        "start_time": "2022-11-06T11:43:16.681Z"
      },
      {
        "duration": 38,
        "start_time": "2022-11-06T11:43:16.697Z"
      },
      {
        "duration": 31,
        "start_time": "2022-11-06T11:43:16.737Z"
      },
      {
        "duration": 2,
        "start_time": "2022-11-06T11:43:16.779Z"
      },
      {
        "duration": 3,
        "start_time": "2022-11-06T11:43:16.783Z"
      },
      {
        "duration": 21,
        "start_time": "2022-11-06T11:43:16.788Z"
      },
      {
        "duration": 5,
        "start_time": "2022-11-06T11:43:16.811Z"
      },
      {
        "duration": 5,
        "start_time": "2022-11-06T11:43:16.818Z"
      },
      {
        "duration": 6,
        "start_time": "2022-11-06T11:43:16.825Z"
      },
      {
        "duration": 8,
        "start_time": "2022-11-06T11:43:16.833Z"
      },
      {
        "duration": 6,
        "start_time": "2022-11-06T11:43:16.843Z"
      },
      {
        "duration": 5,
        "start_time": "2022-11-06T11:43:16.850Z"
      },
      {
        "duration": 5,
        "start_time": "2022-11-06T11:43:16.857Z"
      },
      {
        "duration": 6,
        "start_time": "2022-11-06T11:43:16.864Z"
      },
      {
        "duration": 63,
        "start_time": "2022-11-06T11:43:16.872Z"
      },
      {
        "duration": 0,
        "start_time": "2022-11-06T11:43:16.937Z"
      },
      {
        "duration": 0,
        "start_time": "2022-11-06T11:43:16.938Z"
      },
      {
        "duration": 0,
        "start_time": "2022-11-06T11:43:16.940Z"
      },
      {
        "duration": 0,
        "start_time": "2022-11-06T11:43:16.942Z"
      },
      {
        "duration": 0,
        "start_time": "2022-11-06T11:43:16.943Z"
      },
      {
        "duration": 0,
        "start_time": "2022-11-06T11:43:16.945Z"
      },
      {
        "duration": 0,
        "start_time": "2022-11-06T11:43:16.946Z"
      },
      {
        "duration": 0,
        "start_time": "2022-11-06T11:43:16.948Z"
      },
      {
        "duration": 11,
        "start_time": "2022-11-06T11:45:35.657Z"
      },
      {
        "duration": 11,
        "start_time": "2022-11-06T11:47:40.693Z"
      },
      {
        "duration": 51,
        "start_time": "2022-11-06T12:40:29.384Z"
      },
      {
        "duration": 45,
        "start_time": "2022-11-06T12:42:10.333Z"
      },
      {
        "duration": 4,
        "start_time": "2022-11-06T12:42:52.804Z"
      },
      {
        "duration": 6,
        "start_time": "2022-11-06T13:51:33.279Z"
      },
      {
        "duration": 6,
        "start_time": "2022-11-06T13:51:46.592Z"
      },
      {
        "duration": 382,
        "start_time": "2022-11-06T13:52:05.320Z"
      },
      {
        "duration": 178,
        "start_time": "2022-11-06T13:52:05.704Z"
      },
      {
        "duration": 18,
        "start_time": "2022-11-06T13:52:05.884Z"
      },
      {
        "duration": 27,
        "start_time": "2022-11-06T13:52:05.903Z"
      },
      {
        "duration": 4,
        "start_time": "2022-11-06T13:52:05.932Z"
      },
      {
        "duration": 14,
        "start_time": "2022-11-06T13:52:05.938Z"
      },
      {
        "duration": 26,
        "start_time": "2022-11-06T13:52:05.954Z"
      },
      {
        "duration": 18,
        "start_time": "2022-11-06T13:52:05.982Z"
      },
      {
        "duration": 31,
        "start_time": "2022-11-06T13:52:06.002Z"
      },
      {
        "duration": 25,
        "start_time": "2022-11-06T13:52:06.035Z"
      },
      {
        "duration": 27,
        "start_time": "2022-11-06T13:52:06.062Z"
      },
      {
        "duration": 69,
        "start_time": "2022-11-06T13:52:06.090Z"
      },
      {
        "duration": 71,
        "start_time": "2022-11-06T13:52:06.161Z"
      },
      {
        "duration": 61,
        "start_time": "2022-11-06T13:52:06.235Z"
      },
      {
        "duration": 34,
        "start_time": "2022-11-06T13:52:06.298Z"
      },
      {
        "duration": 9,
        "start_time": "2022-11-06T13:52:06.334Z"
      },
      {
        "duration": 51,
        "start_time": "2022-11-06T13:52:06.345Z"
      },
      {
        "duration": 11,
        "start_time": "2022-11-06T13:52:06.398Z"
      },
      {
        "duration": 24,
        "start_time": "2022-11-06T13:52:06.410Z"
      },
      {
        "duration": 4,
        "start_time": "2022-11-06T13:52:06.435Z"
      },
      {
        "duration": 13,
        "start_time": "2022-11-06T13:52:06.440Z"
      },
      {
        "duration": 9,
        "start_time": "2022-11-06T13:52:06.455Z"
      },
      {
        "duration": 11,
        "start_time": "2022-11-06T13:52:06.466Z"
      },
      {
        "duration": 5,
        "start_time": "2022-11-06T13:52:06.478Z"
      },
      {
        "duration": 4,
        "start_time": "2022-11-06T13:52:06.485Z"
      },
      {
        "duration": 5,
        "start_time": "2022-11-06T13:52:06.491Z"
      },
      {
        "duration": 8,
        "start_time": "2022-11-06T13:52:06.497Z"
      },
      {
        "duration": 6,
        "start_time": "2022-11-06T13:52:06.506Z"
      },
      {
        "duration": 4,
        "start_time": "2022-11-06T13:52:06.513Z"
      },
      {
        "duration": 44,
        "start_time": "2022-11-06T13:52:06.519Z"
      },
      {
        "duration": 0,
        "start_time": "2022-11-06T13:52:06.564Z"
      },
      {
        "duration": 0,
        "start_time": "2022-11-06T13:52:06.566Z"
      },
      {
        "duration": 0,
        "start_time": "2022-11-06T13:52:06.567Z"
      },
      {
        "duration": 0,
        "start_time": "2022-11-06T13:52:06.569Z"
      },
      {
        "duration": 0,
        "start_time": "2022-11-06T13:52:06.571Z"
      },
      {
        "duration": 0,
        "start_time": "2022-11-06T13:52:06.572Z"
      },
      {
        "duration": 0,
        "start_time": "2022-11-06T13:52:06.574Z"
      },
      {
        "duration": 0,
        "start_time": "2022-11-06T13:52:06.575Z"
      },
      {
        "duration": 8,
        "start_time": "2022-11-06T13:53:15.894Z"
      },
      {
        "duration": 8,
        "start_time": "2022-11-06T13:53:43.271Z"
      },
      {
        "duration": 7,
        "start_time": "2022-11-06T13:59:52.345Z"
      },
      {
        "duration": 7,
        "start_time": "2022-11-06T13:59:55.812Z"
      },
      {
        "duration": 9,
        "start_time": "2022-11-06T14:01:22.980Z"
      },
      {
        "duration": 50,
        "start_time": "2022-11-06T15:50:37.723Z"
      },
      {
        "duration": 4,
        "start_time": "2022-11-06T15:53:23.425Z"
      },
      {
        "duration": 425,
        "start_time": "2022-11-06T15:54:47.995Z"
      },
      {
        "duration": 227,
        "start_time": "2022-11-06T15:54:48.422Z"
      },
      {
        "duration": 16,
        "start_time": "2022-11-06T15:54:48.651Z"
      },
      {
        "duration": 39,
        "start_time": "2022-11-06T15:54:48.669Z"
      },
      {
        "duration": 19,
        "start_time": "2022-11-06T15:54:48.710Z"
      },
      {
        "duration": 30,
        "start_time": "2022-11-06T15:54:48.730Z"
      },
      {
        "duration": 24,
        "start_time": "2022-11-06T15:54:48.761Z"
      },
      {
        "duration": 13,
        "start_time": "2022-11-06T15:54:48.787Z"
      },
      {
        "duration": 55,
        "start_time": "2022-11-06T15:54:48.802Z"
      },
      {
        "duration": 28,
        "start_time": "2022-11-06T15:54:48.859Z"
      },
      {
        "duration": 49,
        "start_time": "2022-11-06T15:54:48.888Z"
      },
      {
        "duration": 80,
        "start_time": "2022-11-06T15:54:48.938Z"
      },
      {
        "duration": 69,
        "start_time": "2022-11-06T15:54:49.019Z"
      },
      {
        "duration": 71,
        "start_time": "2022-11-06T15:54:49.091Z"
      },
      {
        "duration": 46,
        "start_time": "2022-11-06T15:54:49.164Z"
      },
      {
        "duration": 10,
        "start_time": "2022-11-06T15:54:49.211Z"
      },
      {
        "duration": 66,
        "start_time": "2022-11-06T15:54:49.223Z"
      },
      {
        "duration": 47,
        "start_time": "2022-11-06T15:54:49.291Z"
      },
      {
        "duration": 26,
        "start_time": "2022-11-06T15:54:49.339Z"
      },
      {
        "duration": 42,
        "start_time": "2022-11-06T15:54:49.367Z"
      },
      {
        "duration": 59,
        "start_time": "2022-11-06T15:54:49.410Z"
      },
      {
        "duration": 24,
        "start_time": "2022-11-06T15:54:49.470Z"
      },
      {
        "duration": 62,
        "start_time": "2022-11-06T15:54:49.495Z"
      },
      {
        "duration": 22,
        "start_time": "2022-11-06T15:54:49.559Z"
      },
      {
        "duration": 48,
        "start_time": "2022-11-06T15:54:49.582Z"
      },
      {
        "duration": 46,
        "start_time": "2022-11-06T15:54:49.632Z"
      },
      {
        "duration": 20,
        "start_time": "2022-11-06T15:54:49.679Z"
      },
      {
        "duration": 51,
        "start_time": "2022-11-06T15:54:49.701Z"
      },
      {
        "duration": 31,
        "start_time": "2022-11-06T15:54:49.754Z"
      },
      {
        "duration": 42,
        "start_time": "2022-11-06T15:54:49.786Z"
      },
      {
        "duration": 0,
        "start_time": "2022-11-06T15:54:49.830Z"
      },
      {
        "duration": 0,
        "start_time": "2022-11-06T15:54:49.831Z"
      },
      {
        "duration": 0,
        "start_time": "2022-11-06T15:54:49.832Z"
      },
      {
        "duration": 0,
        "start_time": "2022-11-06T15:54:49.833Z"
      },
      {
        "duration": 0,
        "start_time": "2022-11-06T15:54:49.833Z"
      },
      {
        "duration": 0,
        "start_time": "2022-11-06T15:54:49.834Z"
      },
      {
        "duration": 0,
        "start_time": "2022-11-06T15:54:49.835Z"
      },
      {
        "duration": 0,
        "start_time": "2022-11-06T15:54:49.836Z"
      },
      {
        "duration": 46,
        "start_time": "2022-11-06T16:01:46.105Z"
      },
      {
        "duration": 71,
        "start_time": "2022-11-06T16:02:16.553Z"
      },
      {
        "duration": 9,
        "start_time": "2022-11-06T16:10:58.837Z"
      },
      {
        "duration": 8,
        "start_time": "2022-11-06T16:12:10.623Z"
      },
      {
        "duration": 7,
        "start_time": "2022-11-06T16:14:09.439Z"
      },
      {
        "duration": 9,
        "start_time": "2022-11-06T16:14:55.082Z"
      },
      {
        "duration": 9,
        "start_time": "2022-11-06T16:15:58.924Z"
      },
      {
        "duration": 9,
        "start_time": "2022-11-06T16:16:19.625Z"
      },
      {
        "duration": 7,
        "start_time": "2022-11-06T16:17:23.438Z"
      },
      {
        "duration": 12,
        "start_time": "2022-11-06T16:18:04.306Z"
      },
      {
        "duration": 8,
        "start_time": "2022-11-06T16:21:34.934Z"
      },
      {
        "duration": 9,
        "start_time": "2022-11-06T16:22:57.772Z"
      },
      {
        "duration": 7,
        "start_time": "2022-11-06T16:23:16.252Z"
      },
      {
        "duration": 11,
        "start_time": "2022-11-06T16:23:29.837Z"
      },
      {
        "duration": 11,
        "start_time": "2022-11-06T16:24:20.139Z"
      },
      {
        "duration": 10,
        "start_time": "2022-11-06T16:24:25.449Z"
      },
      {
        "duration": 48,
        "start_time": "2022-11-06T16:53:46.297Z"
      },
      {
        "duration": 46,
        "start_time": "2022-11-06T16:53:54.057Z"
      },
      {
        "duration": 4,
        "start_time": "2022-11-06T16:54:05.076Z"
      },
      {
        "duration": 4,
        "start_time": "2022-11-06T16:54:14.449Z"
      },
      {
        "duration": 4,
        "start_time": "2022-11-06T16:57:24.430Z"
      },
      {
        "duration": 4,
        "start_time": "2022-11-06T17:02:18.104Z"
      },
      {
        "duration": 11,
        "start_time": "2022-11-06T17:14:34.097Z"
      },
      {
        "duration": 9,
        "start_time": "2022-11-06T17:15:23.502Z"
      },
      {
        "duration": 8,
        "start_time": "2022-11-06T17:21:19.804Z"
      },
      {
        "duration": 4,
        "start_time": "2022-11-06T17:21:48.721Z"
      },
      {
        "duration": 4,
        "start_time": "2022-11-06T17:22:46.689Z"
      },
      {
        "duration": 16,
        "start_time": "2022-11-06T17:40:48.015Z"
      },
      {
        "duration": 22,
        "start_time": "2022-11-06T17:43:42.780Z"
      },
      {
        "duration": 390,
        "start_time": "2022-11-06T17:43:53.034Z"
      },
      {
        "duration": 159,
        "start_time": "2022-11-06T17:43:53.425Z"
      },
      {
        "duration": 17,
        "start_time": "2022-11-06T17:43:53.585Z"
      },
      {
        "duration": 27,
        "start_time": "2022-11-06T17:43:53.603Z"
      },
      {
        "duration": 2,
        "start_time": "2022-11-06T17:43:53.632Z"
      },
      {
        "duration": 6,
        "start_time": "2022-11-06T17:43:53.636Z"
      },
      {
        "duration": 11,
        "start_time": "2022-11-06T17:43:53.644Z"
      },
      {
        "duration": 5,
        "start_time": "2022-11-06T17:43:53.656Z"
      },
      {
        "duration": 46,
        "start_time": "2022-11-06T17:43:53.663Z"
      },
      {
        "duration": 17,
        "start_time": "2022-11-06T17:43:53.711Z"
      },
      {
        "duration": 21,
        "start_time": "2022-11-06T17:43:53.730Z"
      },
      {
        "duration": 86,
        "start_time": "2022-11-06T17:43:53.752Z"
      },
      {
        "duration": 77,
        "start_time": "2022-11-06T17:43:53.840Z"
      },
      {
        "duration": 62,
        "start_time": "2022-11-06T17:43:53.920Z"
      },
      {
        "duration": 47,
        "start_time": "2022-11-06T17:43:53.984Z"
      },
      {
        "duration": 11,
        "start_time": "2022-11-06T17:43:54.033Z"
      },
      {
        "duration": 41,
        "start_time": "2022-11-06T17:43:54.046Z"
      },
      {
        "duration": 29,
        "start_time": "2022-11-06T17:43:54.089Z"
      },
      {
        "duration": 11,
        "start_time": "2022-11-06T17:43:54.120Z"
      },
      {
        "duration": 3,
        "start_time": "2022-11-06T17:43:54.133Z"
      },
      {
        "duration": 17,
        "start_time": "2022-11-06T17:43:54.137Z"
      },
      {
        "duration": 17,
        "start_time": "2022-11-06T17:43:54.156Z"
      },
      {
        "duration": 44,
        "start_time": "2022-11-06T17:43:54.175Z"
      },
      {
        "duration": 12,
        "start_time": "2022-11-06T17:43:54.220Z"
      },
      {
        "duration": 14,
        "start_time": "2022-11-06T17:43:54.233Z"
      },
      {
        "duration": 11,
        "start_time": "2022-11-06T17:43:54.249Z"
      },
      {
        "duration": 4,
        "start_time": "2022-11-06T17:43:54.262Z"
      },
      {
        "duration": 49,
        "start_time": "2022-11-06T17:43:54.267Z"
      },
      {
        "duration": 9,
        "start_time": "2022-11-06T17:43:54.317Z"
      },
      {
        "duration": 6,
        "start_time": "2022-11-06T17:43:54.327Z"
      },
      {
        "duration": 20,
        "start_time": "2022-11-06T17:43:54.334Z"
      },
      {
        "duration": 10,
        "start_time": "2022-11-06T17:43:54.356Z"
      },
      {
        "duration": 41,
        "start_time": "2022-11-06T17:43:54.368Z"
      },
      {
        "duration": 12,
        "start_time": "2022-11-06T17:43:54.410Z"
      },
      {
        "duration": 27,
        "start_time": "2022-11-06T17:43:54.423Z"
      },
      {
        "duration": 2,
        "start_time": "2022-11-06T17:43:54.452Z"
      },
      {
        "duration": 7,
        "start_time": "2022-11-06T17:43:54.455Z"
      },
      {
        "duration": 9,
        "start_time": "2022-11-06T17:43:54.463Z"
      },
      {
        "duration": 4,
        "start_time": "2022-11-06T17:44:00.033Z"
      },
      {
        "duration": 79,
        "start_time": "2022-11-06T17:49:31.440Z"
      },
      {
        "duration": 7,
        "start_time": "2022-11-06T17:53:41.031Z"
      }
    ],
    "colab": {
      "provenance": []
    },
    "kernelspec": {
      "display_name": "Python 3 (ipykernel)",
      "language": "python",
      "name": "python3"
    },
    "language_info": {
      "codemirror_mode": {
        "name": "ipython",
        "version": 3
      },
      "file_extension": ".py",
      "mimetype": "text/x-python",
      "name": "python",
      "nbconvert_exporter": "python",
      "pygments_lexer": "ipython3",
      "version": "3.9.5"
    },
    "toc": {
      "base_numbering": 1,
      "nav_menu": {
        "height": "215px",
        "width": "403px"
      },
      "number_sections": true,
      "sideBar": true,
      "skip_h1_title": true,
      "title_cell": "Table of Contents",
      "title_sidebar": "Contents",
      "toc_cell": false,
      "toc_position": {
        "height": "calc(100% - 180px)",
        "left": "10px",
        "top": "150px",
        "width": "285.825px"
      },
      "toc_section_display": true,
      "toc_window_display": false
    }
  },
  "nbformat": 4,
  "nbformat_minor": 0
}