{
  "cells": [
    {
      "cell_type": "markdown",
      "source": [
        "## Обзор данных"
      ],
      "metadata": {
        "id": "T3ZvwsS0WGNz"
      },
      "id": "T3ZvwsS0WGNz"
    },
    {
      "cell_type": "markdown",
      "id": "396fd000",
      "metadata": {
        "id": "396fd000"
      },
      "source": [
        "Загружаю библиотеку pandas:"
      ]
    },
    {
      "cell_type": "code",
      "execution_count": 1,
      "id": "acfe5bac",
      "metadata": {
        "deletable": false,
        "id": "acfe5bac"
      },
      "outputs": [],
      "source": [
        "import pandas as pd"
      ]
    },
    {
      "cell_type": "markdown",
      "source": [
        "Знакомлюсь с данными"
      ],
      "metadata": {
        "id": "XxTGKJkFbqeC"
      },
      "id": "XxTGKJkFbqeC"
    },
    {
      "cell_type": "code",
      "execution_count": 2,
      "id": "2c1cd793",
      "metadata": {
        "deletable": false,
        "id": "2c1cd793",
        "outputId": "ea7f7ba7-35c9-4792-b9c7-405488695cfb",
        "colab": {
          "base_uri": "https://localhost:8080/",
          "height": 363
        }
      },
      "outputs": [
        {
          "output_type": "execute_result",
          "data": {
            "text/plain": [
              "   children  days_employed  dob_years education  education_id  \\\n",
              "0         1   -8437.673028         42    высшее             0   \n",
              "1         1   -4024.803754         36   среднее             1   \n",
              "2         0   -5623.422610         33   Среднее             1   \n",
              "3         3   -4124.747207         32   среднее             1   \n",
              "4         0  340266.072047         53   среднее             1   \n",
              "5         0    -926.185831         27    высшее             0   \n",
              "6         0   -2879.202052         43    высшее             0   \n",
              "7         0    -152.779569         50   СРЕДНЕЕ             1   \n",
              "8         2   -6929.865299         35    ВЫСШЕЕ             0   \n",
              "9         0   -2188.756445         41   среднее             1   \n",
              "\n",
              "      family_status  family_status_id gender income_type  debt   total_income  \\\n",
              "0   женат / замужем                 0      F   сотрудник     0  253875.639453   \n",
              "1   женат / замужем                 0      F   сотрудник     0  112080.014102   \n",
              "2   женат / замужем                 0      M   сотрудник     0  145885.952297   \n",
              "3   женат / замужем                 0      M   сотрудник     0  267628.550329   \n",
              "4  гражданский брак                 1      F   пенсионер     0  158616.077870   \n",
              "5  гражданский брак                 1      M   компаньон     0  255763.565419   \n",
              "6   женат / замужем                 0      F   компаньон     0  240525.971920   \n",
              "7   женат / замужем                 0      M   сотрудник     0  135823.934197   \n",
              "8  гражданский брак                 1      F   сотрудник     0   95856.832424   \n",
              "9   женат / замужем                 0      M   сотрудник     0  144425.938277   \n",
              "\n",
              "                      purpose  \n",
              "0               покупка жилья  \n",
              "1     приобретение автомобиля  \n",
              "2               покупка жилья  \n",
              "3  дополнительное образование  \n",
              "4             сыграть свадьбу  \n",
              "5               покупка жилья  \n",
              "6           операции с жильем  \n",
              "7                 образование  \n",
              "8       на проведение свадьбы  \n",
              "9     покупка жилья для семьи  "
            ],
            "text/html": [
              "\n",
              "\n",
              "  <div id=\"df-d9bbe879-b1cb-4793-b9f1-7d247edeb814\">\n",
              "    <div class=\"colab-df-container\">\n",
              "      <div>\n",
              "<style scoped>\n",
              "    .dataframe tbody tr th:only-of-type {\n",
              "        vertical-align: middle;\n",
              "    }\n",
              "\n",
              "    .dataframe tbody tr th {\n",
              "        vertical-align: top;\n",
              "    }\n",
              "\n",
              "    .dataframe thead th {\n",
              "        text-align: right;\n",
              "    }\n",
              "</style>\n",
              "<table border=\"1\" class=\"dataframe\">\n",
              "  <thead>\n",
              "    <tr style=\"text-align: right;\">\n",
              "      <th></th>\n",
              "      <th>children</th>\n",
              "      <th>days_employed</th>\n",
              "      <th>dob_years</th>\n",
              "      <th>education</th>\n",
              "      <th>education_id</th>\n",
              "      <th>family_status</th>\n",
              "      <th>family_status_id</th>\n",
              "      <th>gender</th>\n",
              "      <th>income_type</th>\n",
              "      <th>debt</th>\n",
              "      <th>total_income</th>\n",
              "      <th>purpose</th>\n",
              "    </tr>\n",
              "  </thead>\n",
              "  <tbody>\n",
              "    <tr>\n",
              "      <th>0</th>\n",
              "      <td>1</td>\n",
              "      <td>-8437.673028</td>\n",
              "      <td>42</td>\n",
              "      <td>высшее</td>\n",
              "      <td>0</td>\n",
              "      <td>женат / замужем</td>\n",
              "      <td>0</td>\n",
              "      <td>F</td>\n",
              "      <td>сотрудник</td>\n",
              "      <td>0</td>\n",
              "      <td>253875.639453</td>\n",
              "      <td>покупка жилья</td>\n",
              "    </tr>\n",
              "    <tr>\n",
              "      <th>1</th>\n",
              "      <td>1</td>\n",
              "      <td>-4024.803754</td>\n",
              "      <td>36</td>\n",
              "      <td>среднее</td>\n",
              "      <td>1</td>\n",
              "      <td>женат / замужем</td>\n",
              "      <td>0</td>\n",
              "      <td>F</td>\n",
              "      <td>сотрудник</td>\n",
              "      <td>0</td>\n",
              "      <td>112080.014102</td>\n",
              "      <td>приобретение автомобиля</td>\n",
              "    </tr>\n",
              "    <tr>\n",
              "      <th>2</th>\n",
              "      <td>0</td>\n",
              "      <td>-5623.422610</td>\n",
              "      <td>33</td>\n",
              "      <td>Среднее</td>\n",
              "      <td>1</td>\n",
              "      <td>женат / замужем</td>\n",
              "      <td>0</td>\n",
              "      <td>M</td>\n",
              "      <td>сотрудник</td>\n",
              "      <td>0</td>\n",
              "      <td>145885.952297</td>\n",
              "      <td>покупка жилья</td>\n",
              "    </tr>\n",
              "    <tr>\n",
              "      <th>3</th>\n",
              "      <td>3</td>\n",
              "      <td>-4124.747207</td>\n",
              "      <td>32</td>\n",
              "      <td>среднее</td>\n",
              "      <td>1</td>\n",
              "      <td>женат / замужем</td>\n",
              "      <td>0</td>\n",
              "      <td>M</td>\n",
              "      <td>сотрудник</td>\n",
              "      <td>0</td>\n",
              "      <td>267628.550329</td>\n",
              "      <td>дополнительное образование</td>\n",
              "    </tr>\n",
              "    <tr>\n",
              "      <th>4</th>\n",
              "      <td>0</td>\n",
              "      <td>340266.072047</td>\n",
              "      <td>53</td>\n",
              "      <td>среднее</td>\n",
              "      <td>1</td>\n",
              "      <td>гражданский брак</td>\n",
              "      <td>1</td>\n",
              "      <td>F</td>\n",
              "      <td>пенсионер</td>\n",
              "      <td>0</td>\n",
              "      <td>158616.077870</td>\n",
              "      <td>сыграть свадьбу</td>\n",
              "    </tr>\n",
              "    <tr>\n",
              "      <th>5</th>\n",
              "      <td>0</td>\n",
              "      <td>-926.185831</td>\n",
              "      <td>27</td>\n",
              "      <td>высшее</td>\n",
              "      <td>0</td>\n",
              "      <td>гражданский брак</td>\n",
              "      <td>1</td>\n",
              "      <td>M</td>\n",
              "      <td>компаньон</td>\n",
              "      <td>0</td>\n",
              "      <td>255763.565419</td>\n",
              "      <td>покупка жилья</td>\n",
              "    </tr>\n",
              "    <tr>\n",
              "      <th>6</th>\n",
              "      <td>0</td>\n",
              "      <td>-2879.202052</td>\n",
              "      <td>43</td>\n",
              "      <td>высшее</td>\n",
              "      <td>0</td>\n",
              "      <td>женат / замужем</td>\n",
              "      <td>0</td>\n",
              "      <td>F</td>\n",
              "      <td>компаньон</td>\n",
              "      <td>0</td>\n",
              "      <td>240525.971920</td>\n",
              "      <td>операции с жильем</td>\n",
              "    </tr>\n",
              "    <tr>\n",
              "      <th>7</th>\n",
              "      <td>0</td>\n",
              "      <td>-152.779569</td>\n",
              "      <td>50</td>\n",
              "      <td>СРЕДНЕЕ</td>\n",
              "      <td>1</td>\n",
              "      <td>женат / замужем</td>\n",
              "      <td>0</td>\n",
              "      <td>M</td>\n",
              "      <td>сотрудник</td>\n",
              "      <td>0</td>\n",
              "      <td>135823.934197</td>\n",
              "      <td>образование</td>\n",
              "    </tr>\n",
              "    <tr>\n",
              "      <th>8</th>\n",
              "      <td>2</td>\n",
              "      <td>-6929.865299</td>\n",
              "      <td>35</td>\n",
              "      <td>ВЫСШЕЕ</td>\n",
              "      <td>0</td>\n",
              "      <td>гражданский брак</td>\n",
              "      <td>1</td>\n",
              "      <td>F</td>\n",
              "      <td>сотрудник</td>\n",
              "      <td>0</td>\n",
              "      <td>95856.832424</td>\n",
              "      <td>на проведение свадьбы</td>\n",
              "    </tr>\n",
              "    <tr>\n",
              "      <th>9</th>\n",
              "      <td>0</td>\n",
              "      <td>-2188.756445</td>\n",
              "      <td>41</td>\n",
              "      <td>среднее</td>\n",
              "      <td>1</td>\n",
              "      <td>женат / замужем</td>\n",
              "      <td>0</td>\n",
              "      <td>M</td>\n",
              "      <td>сотрудник</td>\n",
              "      <td>0</td>\n",
              "      <td>144425.938277</td>\n",
              "      <td>покупка жилья для семьи</td>\n",
              "    </tr>\n",
              "  </tbody>\n",
              "</table>\n",
              "</div>\n",
              "      <button class=\"colab-df-convert\" onclick=\"convertToInteractive('df-d9bbe879-b1cb-4793-b9f1-7d247edeb814')\"\n",
              "              title=\"Convert this dataframe to an interactive table.\"\n",
              "              style=\"display:none;\">\n",
              "\n",
              "  <svg xmlns=\"http://www.w3.org/2000/svg\" height=\"24px\"viewBox=\"0 0 24 24\"\n",
              "       width=\"24px\">\n",
              "    <path d=\"M0 0h24v24H0V0z\" fill=\"none\"/>\n",
              "    <path d=\"M18.56 5.44l.94 2.06.94-2.06 2.06-.94-2.06-.94-.94-2.06-.94 2.06-2.06.94zm-11 1L8.5 8.5l.94-2.06 2.06-.94-2.06-.94L8.5 2.5l-.94 2.06-2.06.94zm10 10l.94 2.06.94-2.06 2.06-.94-2.06-.94-.94-2.06-.94 2.06-2.06.94z\"/><path d=\"M17.41 7.96l-1.37-1.37c-.4-.4-.92-.59-1.43-.59-.52 0-1.04.2-1.43.59L10.3 9.45l-7.72 7.72c-.78.78-.78 2.05 0 2.83L4 21.41c.39.39.9.59 1.41.59.51 0 1.02-.2 1.41-.59l7.78-7.78 2.81-2.81c.8-.78.8-2.07 0-2.86zM5.41 20L4 18.59l7.72-7.72 1.47 1.35L5.41 20z\"/>\n",
              "  </svg>\n",
              "      </button>\n",
              "\n",
              "\n",
              "\n",
              "    <div id=\"df-a3aa86d5-bb25-44fc-8410-2dc1a4bdc8e1\">\n",
              "      <button class=\"colab-df-quickchart\" onclick=\"quickchart('df-a3aa86d5-bb25-44fc-8410-2dc1a4bdc8e1')\"\n",
              "              title=\"Suggest charts.\"\n",
              "              style=\"display:none;\">\n",
              "\n",
              "<svg xmlns=\"http://www.w3.org/2000/svg\" height=\"24px\"viewBox=\"0 0 24 24\"\n",
              "     width=\"24px\">\n",
              "    <g>\n",
              "        <path d=\"M19 3H5c-1.1 0-2 .9-2 2v14c0 1.1.9 2 2 2h14c1.1 0 2-.9 2-2V5c0-1.1-.9-2-2-2zM9 17H7v-7h2v7zm4 0h-2V7h2v10zm4 0h-2v-4h2v4z\"/>\n",
              "    </g>\n",
              "</svg>\n",
              "      </button>\n",
              "    </div>\n",
              "\n",
              "<style>\n",
              "  .colab-df-quickchart {\n",
              "    background-color: #E8F0FE;\n",
              "    border: none;\n",
              "    border-radius: 50%;\n",
              "    cursor: pointer;\n",
              "    display: none;\n",
              "    fill: #1967D2;\n",
              "    height: 32px;\n",
              "    padding: 0 0 0 0;\n",
              "    width: 32px;\n",
              "  }\n",
              "\n",
              "  .colab-df-quickchart:hover {\n",
              "    background-color: #E2EBFA;\n",
              "    box-shadow: 0px 1px 2px rgba(60, 64, 67, 0.3), 0px 1px 3px 1px rgba(60, 64, 67, 0.15);\n",
              "    fill: #174EA6;\n",
              "  }\n",
              "\n",
              "  [theme=dark] .colab-df-quickchart {\n",
              "    background-color: #3B4455;\n",
              "    fill: #D2E3FC;\n",
              "  }\n",
              "\n",
              "  [theme=dark] .colab-df-quickchart:hover {\n",
              "    background-color: #434B5C;\n",
              "    box-shadow: 0px 1px 3px 1px rgba(0, 0, 0, 0.15);\n",
              "    filter: drop-shadow(0px 1px 2px rgba(0, 0, 0, 0.3));\n",
              "    fill: #FFFFFF;\n",
              "  }\n",
              "</style>\n",
              "\n",
              "    <script>\n",
              "      async function quickchart(key) {\n",
              "        const containerElement = document.querySelector('#' + key);\n",
              "        const charts = await google.colab.kernel.invokeFunction(\n",
              "            'suggestCharts', [key], {});\n",
              "      }\n",
              "    </script>\n",
              "\n",
              "      <script>\n",
              "\n",
              "function displayQuickchartButton(domScope) {\n",
              "  let quickchartButtonEl =\n",
              "    domScope.querySelector('#df-a3aa86d5-bb25-44fc-8410-2dc1a4bdc8e1 button.colab-df-quickchart');\n",
              "  quickchartButtonEl.style.display =\n",
              "    google.colab.kernel.accessAllowed ? 'block' : 'none';\n",
              "}\n",
              "\n",
              "        displayQuickchartButton(document);\n",
              "      </script>\n",
              "      <style>\n",
              "    .colab-df-container {\n",
              "      display:flex;\n",
              "      flex-wrap:wrap;\n",
              "      gap: 12px;\n",
              "    }\n",
              "\n",
              "    .colab-df-convert {\n",
              "      background-color: #E8F0FE;\n",
              "      border: none;\n",
              "      border-radius: 50%;\n",
              "      cursor: pointer;\n",
              "      display: none;\n",
              "      fill: #1967D2;\n",
              "      height: 32px;\n",
              "      padding: 0 0 0 0;\n",
              "      width: 32px;\n",
              "    }\n",
              "\n",
              "    .colab-df-convert:hover {\n",
              "      background-color: #E2EBFA;\n",
              "      box-shadow: 0px 1px 2px rgba(60, 64, 67, 0.3), 0px 1px 3px 1px rgba(60, 64, 67, 0.15);\n",
              "      fill: #174EA6;\n",
              "    }\n",
              "\n",
              "    [theme=dark] .colab-df-convert {\n",
              "      background-color: #3B4455;\n",
              "      fill: #D2E3FC;\n",
              "    }\n",
              "\n",
              "    [theme=dark] .colab-df-convert:hover {\n",
              "      background-color: #434B5C;\n",
              "      box-shadow: 0px 1px 3px 1px rgba(0, 0, 0, 0.15);\n",
              "      filter: drop-shadow(0px 1px 2px rgba(0, 0, 0, 0.3));\n",
              "      fill: #FFFFFF;\n",
              "    }\n",
              "  </style>\n",
              "\n",
              "      <script>\n",
              "        const buttonEl =\n",
              "          document.querySelector('#df-d9bbe879-b1cb-4793-b9f1-7d247edeb814 button.colab-df-convert');\n",
              "        buttonEl.style.display =\n",
              "          google.colab.kernel.accessAllowed ? 'block' : 'none';\n",
              "\n",
              "        async function convertToInteractive(key) {\n",
              "          const element = document.querySelector('#df-d9bbe879-b1cb-4793-b9f1-7d247edeb814');\n",
              "          const dataTable =\n",
              "            await google.colab.kernel.invokeFunction('convertToInteractive',\n",
              "                                                     [key], {});\n",
              "          if (!dataTable) return;\n",
              "\n",
              "          const docLinkHtml = 'Like what you see? Visit the ' +\n",
              "            '<a target=\"_blank\" href=https://colab.research.google.com/notebooks/data_table.ipynb>data table notebook</a>'\n",
              "            + ' to learn more about interactive tables.';\n",
              "          element.innerHTML = '';\n",
              "          dataTable['output_type'] = 'display_data';\n",
              "          await google.colab.output.renderOutput(dataTable, element);\n",
              "          const docLink = document.createElement('div');\n",
              "          docLink.innerHTML = docLinkHtml;\n",
              "          element.appendChild(docLink);\n",
              "        }\n",
              "      </script>\n",
              "    </div>\n",
              "  </div>\n"
            ]
          },
          "metadata": {},
          "execution_count": 2
        }
      ],
      "source": [
        "data = pd.read_csv('/content/02.data.csv')\n",
        "data.head(10)"
      ]
    },
    {
      "cell_type": "markdown",
      "id": "43031958",
      "metadata": {
        "id": "43031958"
      },
      "source": [
        "Есть необходимость приведения столбца `education` к единому виду: информация указана заглавными буквами, строчными, с заглавной буквы. Если оставить данные в таком виде, то получим ошибочные данные на выходе."
      ]
    },
    {
      "cell_type": "markdown",
      "id": "144ceb8b",
      "metadata": {
        "id": "144ceb8b"
      },
      "source": [
        "Смотрю какие типы данных в датасете, количество строк. Уже тут можно увидеть пропущенные значения"
      ]
    },
    {
      "cell_type": "code",
      "execution_count": 3,
      "id": "adf88620",
      "metadata": {
        "deletable": false,
        "id": "adf88620",
        "outputId": "311c8fb4-8c32-4f16-d0d4-657b508e5951",
        "colab": {
          "base_uri": "https://localhost:8080/"
        }
      },
      "outputs": [
        {
          "output_type": "stream",
          "name": "stdout",
          "text": [
            "<class 'pandas.core.frame.DataFrame'>\n",
            "RangeIndex: 21525 entries, 0 to 21524\n",
            "Data columns (total 12 columns):\n",
            " #   Column            Non-Null Count  Dtype  \n",
            "---  ------            --------------  -----  \n",
            " 0   children          21525 non-null  int64  \n",
            " 1   days_employed     19351 non-null  float64\n",
            " 2   dob_years         21525 non-null  int64  \n",
            " 3   education         21525 non-null  object \n",
            " 4   education_id      21525 non-null  int64  \n",
            " 5   family_status     21525 non-null  object \n",
            " 6   family_status_id  21525 non-null  int64  \n",
            " 7   gender            21525 non-null  object \n",
            " 8   income_type       21525 non-null  object \n",
            " 9   debt              21525 non-null  int64  \n",
            " 10  total_income      19351 non-null  float64\n",
            " 11  purpose           21525 non-null  object \n",
            "dtypes: float64(2), int64(5), object(5)\n",
            "memory usage: 2.0+ MB\n"
          ]
        }
      ],
      "source": [
        "data.info()"
      ]
    },
    {
      "cell_type": "markdown",
      "source": [
        "Коррелляция"
      ],
      "metadata": {
        "id": "Ha2ziLxnh0UJ"
      },
      "id": "Ha2ziLxnh0UJ"
    },
    {
      "cell_type": "code",
      "source": [
        "data.corr()"
      ],
      "metadata": {
        "colab": {
          "base_uri": "https://localhost:8080/",
          "height": 304
        },
        "id": "w_zFB-jrh9ee",
        "outputId": "7590a09d-d208-45be-e3fc-e079f1617746"
      },
      "id": "w_zFB-jrh9ee",
      "execution_count": 4,
      "outputs": [
        {
          "output_type": "stream",
          "name": "stderr",
          "text": [
            "<ipython-input-4-c44ded798807>:1: FutureWarning: The default value of numeric_only in DataFrame.corr is deprecated. In a future version, it will default to False. Select only valid columns or specify the value of numeric_only to silence this warning.\n",
            "  data.corr()\n"
          ]
        },
        {
          "output_type": "execute_result",
          "data": {
            "text/plain": [
              "                  children  days_employed  dob_years  education_id  \\\n",
              "children          1.000000      -0.138354  -0.174358     -0.012695   \n",
              "days_employed    -0.138354       1.000000   0.582643      0.080565   \n",
              "dob_years        -0.174358       0.582643   1.000000      0.067467   \n",
              "education_id     -0.012695       0.080565   0.067467      1.000000   \n",
              "family_status_id -0.091284       0.005726  -0.069988      0.007876   \n",
              "debt              0.018470      -0.047110  -0.069620      0.052906   \n",
              "total_income      0.018220      -0.136648  -0.052911     -0.178885   \n",
              "\n",
              "                  family_status_id      debt  total_income  \n",
              "children                 -0.091284  0.018470      0.018220  \n",
              "days_employed             0.005726 -0.047110     -0.136648  \n",
              "dob_years                -0.069988 -0.069620     -0.052911  \n",
              "education_id              0.007876  0.052906     -0.178885  \n",
              "family_status_id          1.000000  0.020611     -0.009147  \n",
              "debt                      0.020611  1.000000     -0.012475  \n",
              "total_income             -0.009147 -0.012475      1.000000  "
            ],
            "text/html": [
              "\n",
              "\n",
              "  <div id=\"df-3985c28a-01fb-4a2e-be9a-91d0d1689182\">\n",
              "    <div class=\"colab-df-container\">\n",
              "      <div>\n",
              "<style scoped>\n",
              "    .dataframe tbody tr th:only-of-type {\n",
              "        vertical-align: middle;\n",
              "    }\n",
              "\n",
              "    .dataframe tbody tr th {\n",
              "        vertical-align: top;\n",
              "    }\n",
              "\n",
              "    .dataframe thead th {\n",
              "        text-align: right;\n",
              "    }\n",
              "</style>\n",
              "<table border=\"1\" class=\"dataframe\">\n",
              "  <thead>\n",
              "    <tr style=\"text-align: right;\">\n",
              "      <th></th>\n",
              "      <th>children</th>\n",
              "      <th>days_employed</th>\n",
              "      <th>dob_years</th>\n",
              "      <th>education_id</th>\n",
              "      <th>family_status_id</th>\n",
              "      <th>debt</th>\n",
              "      <th>total_income</th>\n",
              "    </tr>\n",
              "  </thead>\n",
              "  <tbody>\n",
              "    <tr>\n",
              "      <th>children</th>\n",
              "      <td>1.000000</td>\n",
              "      <td>-0.138354</td>\n",
              "      <td>-0.174358</td>\n",
              "      <td>-0.012695</td>\n",
              "      <td>-0.091284</td>\n",
              "      <td>0.018470</td>\n",
              "      <td>0.018220</td>\n",
              "    </tr>\n",
              "    <tr>\n",
              "      <th>days_employed</th>\n",
              "      <td>-0.138354</td>\n",
              "      <td>1.000000</td>\n",
              "      <td>0.582643</td>\n",
              "      <td>0.080565</td>\n",
              "      <td>0.005726</td>\n",
              "      <td>-0.047110</td>\n",
              "      <td>-0.136648</td>\n",
              "    </tr>\n",
              "    <tr>\n",
              "      <th>dob_years</th>\n",
              "      <td>-0.174358</td>\n",
              "      <td>0.582643</td>\n",
              "      <td>1.000000</td>\n",
              "      <td>0.067467</td>\n",
              "      <td>-0.069988</td>\n",
              "      <td>-0.069620</td>\n",
              "      <td>-0.052911</td>\n",
              "    </tr>\n",
              "    <tr>\n",
              "      <th>education_id</th>\n",
              "      <td>-0.012695</td>\n",
              "      <td>0.080565</td>\n",
              "      <td>0.067467</td>\n",
              "      <td>1.000000</td>\n",
              "      <td>0.007876</td>\n",
              "      <td>0.052906</td>\n",
              "      <td>-0.178885</td>\n",
              "    </tr>\n",
              "    <tr>\n",
              "      <th>family_status_id</th>\n",
              "      <td>-0.091284</td>\n",
              "      <td>0.005726</td>\n",
              "      <td>-0.069988</td>\n",
              "      <td>0.007876</td>\n",
              "      <td>1.000000</td>\n",
              "      <td>0.020611</td>\n",
              "      <td>-0.009147</td>\n",
              "    </tr>\n",
              "    <tr>\n",
              "      <th>debt</th>\n",
              "      <td>0.018470</td>\n",
              "      <td>-0.047110</td>\n",
              "      <td>-0.069620</td>\n",
              "      <td>0.052906</td>\n",
              "      <td>0.020611</td>\n",
              "      <td>1.000000</td>\n",
              "      <td>-0.012475</td>\n",
              "    </tr>\n",
              "    <tr>\n",
              "      <th>total_income</th>\n",
              "      <td>0.018220</td>\n",
              "      <td>-0.136648</td>\n",
              "      <td>-0.052911</td>\n",
              "      <td>-0.178885</td>\n",
              "      <td>-0.009147</td>\n",
              "      <td>-0.012475</td>\n",
              "      <td>1.000000</td>\n",
              "    </tr>\n",
              "  </tbody>\n",
              "</table>\n",
              "</div>\n",
              "      <button class=\"colab-df-convert\" onclick=\"convertToInteractive('df-3985c28a-01fb-4a2e-be9a-91d0d1689182')\"\n",
              "              title=\"Convert this dataframe to an interactive table.\"\n",
              "              style=\"display:none;\">\n",
              "\n",
              "  <svg xmlns=\"http://www.w3.org/2000/svg\" height=\"24px\"viewBox=\"0 0 24 24\"\n",
              "       width=\"24px\">\n",
              "    <path d=\"M0 0h24v24H0V0z\" fill=\"none\"/>\n",
              "    <path d=\"M18.56 5.44l.94 2.06.94-2.06 2.06-.94-2.06-.94-.94-2.06-.94 2.06-2.06.94zm-11 1L8.5 8.5l.94-2.06 2.06-.94-2.06-.94L8.5 2.5l-.94 2.06-2.06.94zm10 10l.94 2.06.94-2.06 2.06-.94-2.06-.94-.94-2.06-.94 2.06-2.06.94z\"/><path d=\"M17.41 7.96l-1.37-1.37c-.4-.4-.92-.59-1.43-.59-.52 0-1.04.2-1.43.59L10.3 9.45l-7.72 7.72c-.78.78-.78 2.05 0 2.83L4 21.41c.39.39.9.59 1.41.59.51 0 1.02-.2 1.41-.59l7.78-7.78 2.81-2.81c.8-.78.8-2.07 0-2.86zM5.41 20L4 18.59l7.72-7.72 1.47 1.35L5.41 20z\"/>\n",
              "  </svg>\n",
              "      </button>\n",
              "\n",
              "\n",
              "\n",
              "    <div id=\"df-bf15dba7-9a1c-4548-936a-083e3b69efb8\">\n",
              "      <button class=\"colab-df-quickchart\" onclick=\"quickchart('df-bf15dba7-9a1c-4548-936a-083e3b69efb8')\"\n",
              "              title=\"Suggest charts.\"\n",
              "              style=\"display:none;\">\n",
              "\n",
              "<svg xmlns=\"http://www.w3.org/2000/svg\" height=\"24px\"viewBox=\"0 0 24 24\"\n",
              "     width=\"24px\">\n",
              "    <g>\n",
              "        <path d=\"M19 3H5c-1.1 0-2 .9-2 2v14c0 1.1.9 2 2 2h14c1.1 0 2-.9 2-2V5c0-1.1-.9-2-2-2zM9 17H7v-7h2v7zm4 0h-2V7h2v10zm4 0h-2v-4h2v4z\"/>\n",
              "    </g>\n",
              "</svg>\n",
              "      </button>\n",
              "    </div>\n",
              "\n",
              "<style>\n",
              "  .colab-df-quickchart {\n",
              "    background-color: #E8F0FE;\n",
              "    border: none;\n",
              "    border-radius: 50%;\n",
              "    cursor: pointer;\n",
              "    display: none;\n",
              "    fill: #1967D2;\n",
              "    height: 32px;\n",
              "    padding: 0 0 0 0;\n",
              "    width: 32px;\n",
              "  }\n",
              "\n",
              "  .colab-df-quickchart:hover {\n",
              "    background-color: #E2EBFA;\n",
              "    box-shadow: 0px 1px 2px rgba(60, 64, 67, 0.3), 0px 1px 3px 1px rgba(60, 64, 67, 0.15);\n",
              "    fill: #174EA6;\n",
              "  }\n",
              "\n",
              "  [theme=dark] .colab-df-quickchart {\n",
              "    background-color: #3B4455;\n",
              "    fill: #D2E3FC;\n",
              "  }\n",
              "\n",
              "  [theme=dark] .colab-df-quickchart:hover {\n",
              "    background-color: #434B5C;\n",
              "    box-shadow: 0px 1px 3px 1px rgba(0, 0, 0, 0.15);\n",
              "    filter: drop-shadow(0px 1px 2px rgba(0, 0, 0, 0.3));\n",
              "    fill: #FFFFFF;\n",
              "  }\n",
              "</style>\n",
              "\n",
              "    <script>\n",
              "      async function quickchart(key) {\n",
              "        const containerElement = document.querySelector('#' + key);\n",
              "        const charts = await google.colab.kernel.invokeFunction(\n",
              "            'suggestCharts', [key], {});\n",
              "      }\n",
              "    </script>\n",
              "\n",
              "      <script>\n",
              "\n",
              "function displayQuickchartButton(domScope) {\n",
              "  let quickchartButtonEl =\n",
              "    domScope.querySelector('#df-bf15dba7-9a1c-4548-936a-083e3b69efb8 button.colab-df-quickchart');\n",
              "  quickchartButtonEl.style.display =\n",
              "    google.colab.kernel.accessAllowed ? 'block' : 'none';\n",
              "}\n",
              "\n",
              "        displayQuickchartButton(document);\n",
              "      </script>\n",
              "      <style>\n",
              "    .colab-df-container {\n",
              "      display:flex;\n",
              "      flex-wrap:wrap;\n",
              "      gap: 12px;\n",
              "    }\n",
              "\n",
              "    .colab-df-convert {\n",
              "      background-color: #E8F0FE;\n",
              "      border: none;\n",
              "      border-radius: 50%;\n",
              "      cursor: pointer;\n",
              "      display: none;\n",
              "      fill: #1967D2;\n",
              "      height: 32px;\n",
              "      padding: 0 0 0 0;\n",
              "      width: 32px;\n",
              "    }\n",
              "\n",
              "    .colab-df-convert:hover {\n",
              "      background-color: #E2EBFA;\n",
              "      box-shadow: 0px 1px 2px rgba(60, 64, 67, 0.3), 0px 1px 3px 1px rgba(60, 64, 67, 0.15);\n",
              "      fill: #174EA6;\n",
              "    }\n",
              "\n",
              "    [theme=dark] .colab-df-convert {\n",
              "      background-color: #3B4455;\n",
              "      fill: #D2E3FC;\n",
              "    }\n",
              "\n",
              "    [theme=dark] .colab-df-convert:hover {\n",
              "      background-color: #434B5C;\n",
              "      box-shadow: 0px 1px 3px 1px rgba(0, 0, 0, 0.15);\n",
              "      filter: drop-shadow(0px 1px 2px rgba(0, 0, 0, 0.3));\n",
              "      fill: #FFFFFF;\n",
              "    }\n",
              "  </style>\n",
              "\n",
              "      <script>\n",
              "        const buttonEl =\n",
              "          document.querySelector('#df-3985c28a-01fb-4a2e-be9a-91d0d1689182 button.colab-df-convert');\n",
              "        buttonEl.style.display =\n",
              "          google.colab.kernel.accessAllowed ? 'block' : 'none';\n",
              "\n",
              "        async function convertToInteractive(key) {\n",
              "          const element = document.querySelector('#df-3985c28a-01fb-4a2e-be9a-91d0d1689182');\n",
              "          const dataTable =\n",
              "            await google.colab.kernel.invokeFunction('convertToInteractive',\n",
              "                                                     [key], {});\n",
              "          if (!dataTable) return;\n",
              "\n",
              "          const docLinkHtml = 'Like what you see? Visit the ' +\n",
              "            '<a target=\"_blank\" href=https://colab.research.google.com/notebooks/data_table.ipynb>data table notebook</a>'\n",
              "            + ' to learn more about interactive tables.';\n",
              "          element.innerHTML = '';\n",
              "          dataTable['output_type'] = 'display_data';\n",
              "          await google.colab.output.renderOutput(dataTable, element);\n",
              "          const docLink = document.createElement('div');\n",
              "          docLink.innerHTML = docLinkHtml;\n",
              "          element.appendChild(docLink);\n",
              "        }\n",
              "      </script>\n",
              "    </div>\n",
              "  </div>\n"
            ]
          },
          "metadata": {},
          "execution_count": 4
        }
      ]
    },
    {
      "cell_type": "markdown",
      "source": [
        "Прослеживается только одна взаимосвязь - это возраст клиента с трудовым стажем. Остальные данные не зависят друг от друга. Некоторые поддаются обратной коррелляции. Например, чем больше у клиента детей, тем меньше трудовой стаж."
      ],
      "metadata": {
        "id": "cu5AtNz8iXfl"
      },
      "id": "cu5AtNz8iXfl"
    },
    {
      "cell_type": "markdown",
      "source": [
        "**В итоге:**\n",
        "1. В датасете 11 столбцов и 21525 строк. Это объемная выборка для проведения исследования.\n",
        "Согласно документации к данным:\n",
        "* `children` — количество детей в семье\n",
        "* `days_employed` — общий трудовой стаж в днях\n",
        "* `dob_years` — возраст клиента в годах\n",
        "* `education` — уровень образования клиента\n",
        "* `education_id` — идентификатор уровня образования\n",
        "* `family_status` — семейное положение\n",
        "* `family_status_id` — идентификатор семейного положения\n",
        "* `gender` — пол клиента\n",
        "* `income_type` — тип занятости\n",
        "* `debt` — имел ли задолженность по возврату кредитов\n",
        "* `total_income` — ежемесячный доход\n",
        "* `purpose` — цель получения кредита\n",
        "\n",
        "2. Есть необходимость в правке данных столбца `education`.\n",
        "\n",
        "3. Количество значений в столбцах различается. Значит, в данных есть пропущенные значения.\n",
        "\n",
        "4. У данных слабая коррелляция."
      ],
      "metadata": {
        "id": "XoPob4nXcQfb"
      },
      "id": "XoPob4nXcQfb"
    },
    {
      "cell_type": "markdown",
      "id": "554d59ff",
      "metadata": {
        "deletable": false,
        "editable": false,
        "id": "554d59ff"
      },
      "source": [
        "## Предобработка данных"
      ]
    },
    {
      "cell_type": "markdown",
      "source": [
        "Привожу столбец `education` к единому виду"
      ],
      "metadata": {
        "id": "BGRIsSVekO4o"
      },
      "id": "BGRIsSVekO4o"
    },
    {
      "cell_type": "code",
      "source": [
        "data['education'] = data['education'].str.lower()"
      ],
      "metadata": {
        "id": "sgnzCOSUkcU-"
      },
      "id": "sgnzCOSUkcU-",
      "execution_count": 5,
      "outputs": []
    },
    {
      "cell_type": "markdown",
      "source": [
        "Ищу убликаты"
      ],
      "metadata": {
        "id": "Zvp81VwMk7Im"
      },
      "id": "Zvp81VwMk7Im"
    },
    {
      "cell_type": "code",
      "source": [
        "data.duplicated().sum()"
      ],
      "metadata": {
        "colab": {
          "base_uri": "https://localhost:8080/"
        },
        "id": "_5ES3VPLlAt6",
        "outputId": "0922f429-d63e-4f9e-f015-42c325be9e72"
      },
      "id": "_5ES3VPLlAt6",
      "execution_count": 6,
      "outputs": [
        {
          "output_type": "execute_result",
          "data": {
            "text/plain": [
              "71"
            ]
          },
          "metadata": {},
          "execution_count": 6
        }
      ]
    },
    {
      "cell_type": "markdown",
      "source": [
        "Нашла 71. Удаляю их"
      ],
      "metadata": {
        "id": "6xJLWXVOlE-E"
      },
      "id": "6xJLWXVOlE-E"
    },
    {
      "cell_type": "code",
      "source": [
        "data = data.drop_duplicates()"
      ],
      "metadata": {
        "id": "aYRp-ld8lHYj"
      },
      "id": "aYRp-ld8lHYj",
      "execution_count": 7,
      "outputs": []
    },
    {
      "cell_type": "markdown",
      "id": "380fe325",
      "metadata": {
        "id": "380fe325"
      },
      "source": [
        "Смотрю пропуски"
      ]
    },
    {
      "cell_type": "code",
      "execution_count": 8,
      "id": "fa94f02c",
      "metadata": {
        "deletable": false,
        "id": "fa94f02c",
        "outputId": "815d55b7-e020-49c0-c5b3-c20cf2b368e0",
        "colab": {
          "base_uri": "https://localhost:8080/"
        }
      },
      "outputs": [
        {
          "output_type": "execute_result",
          "data": {
            "text/plain": [
              "children               0\n",
              "days_employed       2103\n",
              "dob_years              0\n",
              "education              0\n",
              "education_id           0\n",
              "family_status          0\n",
              "family_status_id       0\n",
              "gender                 0\n",
              "income_type            0\n",
              "debt                   0\n",
              "total_income        2103\n",
              "purpose                0\n",
              "dtype: int64"
            ]
          },
          "metadata": {},
          "execution_count": 8
        }
      ],
      "source": [
        "data.isna().sum()"
      ]
    },
    {
      "cell_type": "markdown",
      "id": "51e03f6e",
      "metadata": {
        "id": "51e03f6e"
      },
      "source": [
        "Часть клиентов не указала ежемесячный доход и трудовой стаж. Заполняю данные о доходах средним значением в зависимости от типа занятости."
      ]
    },
    {
      "cell_type": "code",
      "execution_count": 9,
      "id": "ff87c121",
      "metadata": {
        "deletable": false,
        "id": "ff87c121"
      },
      "outputs": [],
      "source": [
        "for t in data['income_type'].unique():\n",
        "    data.loc[(data['income_type'] == t) & (data['total_income'].isna()), 'total_income'] = \\\n",
        "    data.loc[(data['income_type'] == t), 'total_income'].median()"
      ]
    },
    {
      "cell_type": "markdown",
      "source": [
        "Меняю тип данных в столбце `total_income` на целочисленный. Это ежемесячный доход, не важны сотые доли"
      ],
      "metadata": {
        "id": "CALhGbuZv4Lt"
      },
      "id": "CALhGbuZv4Lt"
    },
    {
      "cell_type": "code",
      "source": [
        "data['total_income'] = data['total_income'].astype(int)"
      ],
      "metadata": {
        "id": "vIb_EoJvwBiu"
      },
      "id": "vIb_EoJvwBiu",
      "execution_count": 10,
      "outputs": []
    },
    {
      "cell_type": "markdown",
      "source": [
        "В трудовом стаже есть аномальные значения - заменяю их"
      ],
      "metadata": {
        "id": "ek_UHM2odWiw"
      },
      "id": "ek_UHM2odWiw"
    },
    {
      "cell_type": "code",
      "execution_count": 11,
      "id": "2acf8505",
      "metadata": {
        "deletable": false,
        "id": "2acf8505"
      },
      "outputs": [],
      "source": [
        "data['days_employed'] = data['days_employed'].abs()"
      ]
    },
    {
      "cell_type": "markdown",
      "source": [
        "Заполняю пропуски  медианными значениями по каждого типа занятости `income_type`"
      ],
      "metadata": {
        "id": "MolTrRnCeZWK"
      },
      "id": "MolTrRnCeZWK"
    },
    {
      "cell_type": "code",
      "source": [
        "for t in data['income_type'].unique():\n",
        "    data.loc[(data['income_type'] == t) & (data['days_employed'].isna()), 'days_employed'] = \\\n",
        "    data.loc[(data['income_type'] == t), 'days_employed'].median()"
      ],
      "metadata": {
        "id": "T8TQPz_HeX9T"
      },
      "id": "T8TQPz_HeX9T",
      "execution_count": 12,
      "outputs": []
    },
    {
      "cell_type": "code",
      "source": [
        "data.isna().sum()"
      ],
      "metadata": {
        "colab": {
          "base_uri": "https://localhost:8080/"
        },
        "id": "vjeqeRcpewVf",
        "outputId": "25d466b7-fda8-4bfe-e29e-a1a2e02344dc"
      },
      "id": "vjeqeRcpewVf",
      "execution_count": 13,
      "outputs": [
        {
          "output_type": "execute_result",
          "data": {
            "text/plain": [
              "children            0\n",
              "days_employed       0\n",
              "dob_years           0\n",
              "education           0\n",
              "education_id        0\n",
              "family_status       0\n",
              "family_status_id    0\n",
              "gender              0\n",
              "income_type         0\n",
              "debt                0\n",
              "total_income        0\n",
              "purpose             0\n",
              "dtype: int64"
            ]
          },
          "metadata": {},
          "execution_count": 13
        }
      ]
    },
    {
      "cell_type": "markdown",
      "id": "6a37d6f9",
      "metadata": {
        "deletable": false,
        "editable": false,
        "id": "6a37d6f9"
      },
      "source": [
        "Медианное значение трудового стажа  для каждого типа занятости `days_employed` в днях"
      ]
    },
    {
      "cell_type": "code",
      "execution_count": 14,
      "id": "76a2d0f1",
      "metadata": {
        "deletable": false,
        "id": "76a2d0f1",
        "outputId": "060db5aa-9e79-4729-b1aa-80b689ce5021",
        "colab": {
          "base_uri": "https://localhost:8080/"
        }
      },
      "outputs": [
        {
          "output_type": "execute_result",
          "data": {
            "text/plain": [
              "income_type\n",
              "безработный        366413.652744\n",
              "в декрете            3296.759962\n",
              "госслужащий          2689.368353\n",
              "компаньон            1547.382223\n",
              "пенсионер          365213.306266\n",
              "предприниматель       520.848083\n",
              "сотрудник            1574.202821\n",
              "студент               578.751554\n",
              "Name: days_employed, dtype: float64"
            ]
          },
          "metadata": {},
          "execution_count": 14
        }
      ],
      "source": [
        "data.groupby('income_type')['days_employed'].agg('median')"
      ]
    },
    {
      "cell_type": "markdown",
      "id": "6d8bb269",
      "metadata": {
        "deletable": false,
        "editable": false,
        "id": "6d8bb269"
      },
      "source": [
        "У двух типов (безработные и пенсионеры) получатся аномально большие значения.  Оставляю данные в таком виде  столбец не понадобится для исследования."
      ]
    },
    {
      "cell_type": "markdown",
      "id": "acb201a4",
      "metadata": {
        "deletable": false,
        "editable": false,
        "id": "acb201a4"
      },
      "source": [
        "Изучаю уникальные значения столбца `children`"
      ]
    },
    {
      "cell_type": "code",
      "execution_count": 15,
      "id": "a1e64487",
      "metadata": {
        "deletable": false,
        "id": "a1e64487",
        "outputId": "a2fa4821-4093-4ed2-8b1e-df2dd53bbd29",
        "colab": {
          "base_uri": "https://localhost:8080/"
        }
      },
      "outputs": [
        {
          "output_type": "execute_result",
          "data": {
            "text/plain": [
              "array([ 1,  0,  3,  2, -1,  4, 20,  5])"
            ]
          },
          "metadata": {},
          "execution_count": 15
        }
      ],
      "source": [
        "data['children'].unique()"
      ]
    },
    {
      "cell_type": "markdown",
      "id": "07691165",
      "metadata": {
        "deletable": false,
        "editable": false,
        "id": "07691165"
      },
      "source": [
        "Удаляю аномальные значения"
      ]
    },
    {
      "cell_type": "code",
      "execution_count": 16,
      "id": "08efee2a",
      "metadata": {
        "deletable": false,
        "id": "08efee2a"
      },
      "outputs": [],
      "source": [
        "data = data[(data['children'] != -1) & (data['children'] != 20)]"
      ]
    },
    {
      "cell_type": "code",
      "execution_count": 17,
      "id": "6630c064",
      "metadata": {
        "deletable": false,
        "id": "6630c064",
        "outputId": "80e2616c-51ee-4061-a826-aba8b5bd54e4",
        "colab": {
          "base_uri": "https://localhost:8080/"
        }
      },
      "outputs": [
        {
          "output_type": "execute_result",
          "data": {
            "text/plain": [
              "array([1, 0, 3, 2, 4, 5])"
            ]
          },
          "metadata": {},
          "execution_count": 17
        }
      ],
      "source": [
        "data['children'].unique()"
      ]
    },
    {
      "cell_type": "markdown",
      "source": [
        "**В итоге:**\n",
        "1. Корректировка типа данных.\n",
        "2. Данные приведены к единому виду.\n",
        "3. Заполнены пропущенные значения.\n",
        "4. Удалены явные и неявные дубликаты.\n",
        "5. Удалены аномалии."
      ],
      "metadata": {
        "id": "-tTLf8uiqLrC"
      },
      "id": "-tTLf8uiqLrC"
    },
    {
      "cell_type": "markdown",
      "id": "30f6dda5",
      "metadata": {
        "deletable": false,
        "editable": false,
        "id": "30f6dda5"
      },
      "source": [
        "### Категоризация данных"
      ]
    },
    {
      "cell_type": "markdown",
      "id": "29c49dad",
      "metadata": {
        "deletable": false,
        "editable": false,
        "id": "29c49dad"
      },
      "source": [
        "Напишу функцию для определения категорий по ежемесячному доходу:\n",
        "\n",
        "- 0–30000 — `'E'`;\n",
        "- 30001–50000 — `'D'`;\n",
        "- 50001–200000 — `'C'`;\n",
        "- 200001–1000000 — `'B'`;\n",
        "- 1000001 и выше — `'A'`.\n"
      ]
    },
    {
      "cell_type": "code",
      "execution_count": 18,
      "id": "bd904e35",
      "metadata": {
        "deletable": false,
        "id": "bd904e35"
      },
      "outputs": [],
      "source": [
        "def categorize_income(income):\n",
        "    try:\n",
        "        if 0 <= income <= 30000:\n",
        "            return 'E'\n",
        "        elif 30001 <= income <= 50000:\n",
        "            return 'D'\n",
        "        elif 50001 <= income <= 200000:\n",
        "            return 'C'\n",
        "        elif 200001 <= income <= 1000000:\n",
        "            return 'B'\n",
        "        elif income >= 1000001:\n",
        "            return 'A'\n",
        "    except:\n",
        "        pass"
      ]
    },
    {
      "cell_type": "markdown",
      "source": [
        "Проверяю ее работу"
      ],
      "metadata": {
        "id": "mpXZhcKDnIxW"
      },
      "id": "mpXZhcKDnIxW"
    },
    {
      "cell_type": "code",
      "source": [
        "categorize_income(112080)"
      ],
      "metadata": {
        "colab": {
          "base_uri": "https://localhost:8080/",
          "height": 35
        },
        "id": "2p_kN25wnLyc",
        "outputId": "25601b07-c23c-436a-8268-4ba0b4f3bbf9"
      },
      "id": "2p_kN25wnLyc",
      "execution_count": 19,
      "outputs": [
        {
          "output_type": "execute_result",
          "data": {
            "text/plain": [
              "'C'"
            ],
            "application/vnd.google.colaboratory.intrinsic+json": {
              "type": "string"
            }
          },
          "metadata": {},
          "execution_count": 19
        }
      ]
    },
    {
      "cell_type": "markdown",
      "source": [
        "Все верно! Клиент с доходом 112080  имеет категорию `С`."
      ],
      "metadata": {
        "id": "WArcANVHnQBV"
      },
      "id": "WArcANVHnQBV"
    },
    {
      "cell_type": "markdown",
      "source": [
        "Добавляю столбец `total_income_category` с категориями:"
      ],
      "metadata": {
        "id": "iYpt7qCpmtzs"
      },
      "id": "iYpt7qCpmtzs"
    },
    {
      "cell_type": "code",
      "execution_count": 20,
      "id": "ca8b2450",
      "metadata": {
        "deletable": false,
        "id": "ca8b2450",
        "colab": {
          "base_uri": "https://localhost:8080/",
          "height": 206
        },
        "outputId": "421a3cae-7a1a-41d8-b18e-af44ac005a9a"
      },
      "outputs": [
        {
          "output_type": "display_data",
          "data": {
            "text/plain": [
              "   children  days_employed  dob_years education  education_id  \\\n",
              "0         1    8437.673028         42    высшее             0   \n",
              "1         1    4024.803754         36   среднее             1   \n",
              "2         0    5623.422610         33   среднее             1   \n",
              "3         3    4124.747207         32   среднее             1   \n",
              "4         0  340266.072047         53   среднее             1   \n",
              "\n",
              "      family_status  family_status_id gender income_type  debt  total_income  \\\n",
              "0   женат / замужем                 0      F   сотрудник     0        253875   \n",
              "1   женат / замужем                 0      F   сотрудник     0        112080   \n",
              "2   женат / замужем                 0      M   сотрудник     0        145885   \n",
              "3   женат / замужем                 0      M   сотрудник     0        267628   \n",
              "4  гражданский брак                 1      F   пенсионер     0        158616   \n",
              "\n",
              "                      purpose total_income_category  \n",
              "0               покупка жилья                     B  \n",
              "1     приобретение автомобиля                     C  \n",
              "2               покупка жилья                     C  \n",
              "3  дополнительное образование                     B  \n",
              "4             сыграть свадьбу                     C  "
            ],
            "text/html": [
              "\n",
              "\n",
              "  <div id=\"df-4a60e5c6-9c46-4239-9970-f0318cc5bd25\">\n",
              "    <div class=\"colab-df-container\">\n",
              "      <div>\n",
              "<style scoped>\n",
              "    .dataframe tbody tr th:only-of-type {\n",
              "        vertical-align: middle;\n",
              "    }\n",
              "\n",
              "    .dataframe tbody tr th {\n",
              "        vertical-align: top;\n",
              "    }\n",
              "\n",
              "    .dataframe thead th {\n",
              "        text-align: right;\n",
              "    }\n",
              "</style>\n",
              "<table border=\"1\" class=\"dataframe\">\n",
              "  <thead>\n",
              "    <tr style=\"text-align: right;\">\n",
              "      <th></th>\n",
              "      <th>children</th>\n",
              "      <th>days_employed</th>\n",
              "      <th>dob_years</th>\n",
              "      <th>education</th>\n",
              "      <th>education_id</th>\n",
              "      <th>family_status</th>\n",
              "      <th>family_status_id</th>\n",
              "      <th>gender</th>\n",
              "      <th>income_type</th>\n",
              "      <th>debt</th>\n",
              "      <th>total_income</th>\n",
              "      <th>purpose</th>\n",
              "      <th>total_income_category</th>\n",
              "    </tr>\n",
              "  </thead>\n",
              "  <tbody>\n",
              "    <tr>\n",
              "      <th>0</th>\n",
              "      <td>1</td>\n",
              "      <td>8437.673028</td>\n",
              "      <td>42</td>\n",
              "      <td>высшее</td>\n",
              "      <td>0</td>\n",
              "      <td>женат / замужем</td>\n",
              "      <td>0</td>\n",
              "      <td>F</td>\n",
              "      <td>сотрудник</td>\n",
              "      <td>0</td>\n",
              "      <td>253875</td>\n",
              "      <td>покупка жилья</td>\n",
              "      <td>B</td>\n",
              "    </tr>\n",
              "    <tr>\n",
              "      <th>1</th>\n",
              "      <td>1</td>\n",
              "      <td>4024.803754</td>\n",
              "      <td>36</td>\n",
              "      <td>среднее</td>\n",
              "      <td>1</td>\n",
              "      <td>женат / замужем</td>\n",
              "      <td>0</td>\n",
              "      <td>F</td>\n",
              "      <td>сотрудник</td>\n",
              "      <td>0</td>\n",
              "      <td>112080</td>\n",
              "      <td>приобретение автомобиля</td>\n",
              "      <td>C</td>\n",
              "    </tr>\n",
              "    <tr>\n",
              "      <th>2</th>\n",
              "      <td>0</td>\n",
              "      <td>5623.422610</td>\n",
              "      <td>33</td>\n",
              "      <td>среднее</td>\n",
              "      <td>1</td>\n",
              "      <td>женат / замужем</td>\n",
              "      <td>0</td>\n",
              "      <td>M</td>\n",
              "      <td>сотрудник</td>\n",
              "      <td>0</td>\n",
              "      <td>145885</td>\n",
              "      <td>покупка жилья</td>\n",
              "      <td>C</td>\n",
              "    </tr>\n",
              "    <tr>\n",
              "      <th>3</th>\n",
              "      <td>3</td>\n",
              "      <td>4124.747207</td>\n",
              "      <td>32</td>\n",
              "      <td>среднее</td>\n",
              "      <td>1</td>\n",
              "      <td>женат / замужем</td>\n",
              "      <td>0</td>\n",
              "      <td>M</td>\n",
              "      <td>сотрудник</td>\n",
              "      <td>0</td>\n",
              "      <td>267628</td>\n",
              "      <td>дополнительное образование</td>\n",
              "      <td>B</td>\n",
              "    </tr>\n",
              "    <tr>\n",
              "      <th>4</th>\n",
              "      <td>0</td>\n",
              "      <td>340266.072047</td>\n",
              "      <td>53</td>\n",
              "      <td>среднее</td>\n",
              "      <td>1</td>\n",
              "      <td>гражданский брак</td>\n",
              "      <td>1</td>\n",
              "      <td>F</td>\n",
              "      <td>пенсионер</td>\n",
              "      <td>0</td>\n",
              "      <td>158616</td>\n",
              "      <td>сыграть свадьбу</td>\n",
              "      <td>C</td>\n",
              "    </tr>\n",
              "  </tbody>\n",
              "</table>\n",
              "</div>\n",
              "      <button class=\"colab-df-convert\" onclick=\"convertToInteractive('df-4a60e5c6-9c46-4239-9970-f0318cc5bd25')\"\n",
              "              title=\"Convert this dataframe to an interactive table.\"\n",
              "              style=\"display:none;\">\n",
              "\n",
              "  <svg xmlns=\"http://www.w3.org/2000/svg\" height=\"24px\"viewBox=\"0 0 24 24\"\n",
              "       width=\"24px\">\n",
              "    <path d=\"M0 0h24v24H0V0z\" fill=\"none\"/>\n",
              "    <path d=\"M18.56 5.44l.94 2.06.94-2.06 2.06-.94-2.06-.94-.94-2.06-.94 2.06-2.06.94zm-11 1L8.5 8.5l.94-2.06 2.06-.94-2.06-.94L8.5 2.5l-.94 2.06-2.06.94zm10 10l.94 2.06.94-2.06 2.06-.94-2.06-.94-.94-2.06-.94 2.06-2.06.94z\"/><path d=\"M17.41 7.96l-1.37-1.37c-.4-.4-.92-.59-1.43-.59-.52 0-1.04.2-1.43.59L10.3 9.45l-7.72 7.72c-.78.78-.78 2.05 0 2.83L4 21.41c.39.39.9.59 1.41.59.51 0 1.02-.2 1.41-.59l7.78-7.78 2.81-2.81c.8-.78.8-2.07 0-2.86zM5.41 20L4 18.59l7.72-7.72 1.47 1.35L5.41 20z\"/>\n",
              "  </svg>\n",
              "      </button>\n",
              "\n",
              "\n",
              "\n",
              "    <div id=\"df-3f06d468-b947-4f52-88ea-f482644c14e7\">\n",
              "      <button class=\"colab-df-quickchart\" onclick=\"quickchart('df-3f06d468-b947-4f52-88ea-f482644c14e7')\"\n",
              "              title=\"Suggest charts.\"\n",
              "              style=\"display:none;\">\n",
              "\n",
              "<svg xmlns=\"http://www.w3.org/2000/svg\" height=\"24px\"viewBox=\"0 0 24 24\"\n",
              "     width=\"24px\">\n",
              "    <g>\n",
              "        <path d=\"M19 3H5c-1.1 0-2 .9-2 2v14c0 1.1.9 2 2 2h14c1.1 0 2-.9 2-2V5c0-1.1-.9-2-2-2zM9 17H7v-7h2v7zm4 0h-2V7h2v10zm4 0h-2v-4h2v4z\"/>\n",
              "    </g>\n",
              "</svg>\n",
              "      </button>\n",
              "    </div>\n",
              "\n",
              "<style>\n",
              "  .colab-df-quickchart {\n",
              "    background-color: #E8F0FE;\n",
              "    border: none;\n",
              "    border-radius: 50%;\n",
              "    cursor: pointer;\n",
              "    display: none;\n",
              "    fill: #1967D2;\n",
              "    height: 32px;\n",
              "    padding: 0 0 0 0;\n",
              "    width: 32px;\n",
              "  }\n",
              "\n",
              "  .colab-df-quickchart:hover {\n",
              "    background-color: #E2EBFA;\n",
              "    box-shadow: 0px 1px 2px rgba(60, 64, 67, 0.3), 0px 1px 3px 1px rgba(60, 64, 67, 0.15);\n",
              "    fill: #174EA6;\n",
              "  }\n",
              "\n",
              "  [theme=dark] .colab-df-quickchart {\n",
              "    background-color: #3B4455;\n",
              "    fill: #D2E3FC;\n",
              "  }\n",
              "\n",
              "  [theme=dark] .colab-df-quickchart:hover {\n",
              "    background-color: #434B5C;\n",
              "    box-shadow: 0px 1px 3px 1px rgba(0, 0, 0, 0.15);\n",
              "    filter: drop-shadow(0px 1px 2px rgba(0, 0, 0, 0.3));\n",
              "    fill: #FFFFFF;\n",
              "  }\n",
              "</style>\n",
              "\n",
              "    <script>\n",
              "      async function quickchart(key) {\n",
              "        const containerElement = document.querySelector('#' + key);\n",
              "        const charts = await google.colab.kernel.invokeFunction(\n",
              "            'suggestCharts', [key], {});\n",
              "      }\n",
              "    </script>\n",
              "\n",
              "      <script>\n",
              "\n",
              "function displayQuickchartButton(domScope) {\n",
              "  let quickchartButtonEl =\n",
              "    domScope.querySelector('#df-3f06d468-b947-4f52-88ea-f482644c14e7 button.colab-df-quickchart');\n",
              "  quickchartButtonEl.style.display =\n",
              "    google.colab.kernel.accessAllowed ? 'block' : 'none';\n",
              "}\n",
              "\n",
              "        displayQuickchartButton(document);\n",
              "      </script>\n",
              "      <style>\n",
              "    .colab-df-container {\n",
              "      display:flex;\n",
              "      flex-wrap:wrap;\n",
              "      gap: 12px;\n",
              "    }\n",
              "\n",
              "    .colab-df-convert {\n",
              "      background-color: #E8F0FE;\n",
              "      border: none;\n",
              "      border-radius: 50%;\n",
              "      cursor: pointer;\n",
              "      display: none;\n",
              "      fill: #1967D2;\n",
              "      height: 32px;\n",
              "      padding: 0 0 0 0;\n",
              "      width: 32px;\n",
              "    }\n",
              "\n",
              "    .colab-df-convert:hover {\n",
              "      background-color: #E2EBFA;\n",
              "      box-shadow: 0px 1px 2px rgba(60, 64, 67, 0.3), 0px 1px 3px 1px rgba(60, 64, 67, 0.15);\n",
              "      fill: #174EA6;\n",
              "    }\n",
              "\n",
              "    [theme=dark] .colab-df-convert {\n",
              "      background-color: #3B4455;\n",
              "      fill: #D2E3FC;\n",
              "    }\n",
              "\n",
              "    [theme=dark] .colab-df-convert:hover {\n",
              "      background-color: #434B5C;\n",
              "      box-shadow: 0px 1px 3px 1px rgba(0, 0, 0, 0.15);\n",
              "      filter: drop-shadow(0px 1px 2px rgba(0, 0, 0, 0.3));\n",
              "      fill: #FFFFFF;\n",
              "    }\n",
              "  </style>\n",
              "\n",
              "      <script>\n",
              "        const buttonEl =\n",
              "          document.querySelector('#df-4a60e5c6-9c46-4239-9970-f0318cc5bd25 button.colab-df-convert');\n",
              "        buttonEl.style.display =\n",
              "          google.colab.kernel.accessAllowed ? 'block' : 'none';\n",
              "\n",
              "        async function convertToInteractive(key) {\n",
              "          const element = document.querySelector('#df-4a60e5c6-9c46-4239-9970-f0318cc5bd25');\n",
              "          const dataTable =\n",
              "            await google.colab.kernel.invokeFunction('convertToInteractive',\n",
              "                                                     [key], {});\n",
              "          if (!dataTable) return;\n",
              "\n",
              "          const docLinkHtml = 'Like what you see? Visit the ' +\n",
              "            '<a target=\"_blank\" href=https://colab.research.google.com/notebooks/data_table.ipynb>data table notebook</a>'\n",
              "            + ' to learn more about interactive tables.';\n",
              "          element.innerHTML = '';\n",
              "          dataTable['output_type'] = 'display_data';\n",
              "          await google.colab.output.renderOutput(dataTable, element);\n",
              "          const docLink = document.createElement('div');\n",
              "          docLink.innerHTML = docLinkHtml;\n",
              "          element.appendChild(docLink);\n",
              "        }\n",
              "      </script>\n",
              "    </div>\n",
              "  </div>\n"
            ]
          },
          "metadata": {}
        }
      ],
      "source": [
        "data['total_income_category'] = data['total_income'].apply(categorize_income)\n",
        "display(data.head())"
      ]
    },
    {
      "cell_type": "markdown",
      "id": "9992e78f",
      "metadata": {
        "deletable": false,
        "editable": false,
        "id": "9992e78f"
      },
      "source": [
        "Смотрю какие есть уникальные цели для взятия кредита из столбца `purpose`"
      ]
    },
    {
      "cell_type": "code",
      "execution_count": 21,
      "id": "34e7da06",
      "metadata": {
        "deletable": false,
        "id": "34e7da06",
        "outputId": "45ab5242-d33b-456d-c0b9-c892b45d587f",
        "colab": {
          "base_uri": "https://localhost:8080/"
        }
      },
      "outputs": [
        {
          "output_type": "execute_result",
          "data": {
            "text/plain": [
              "array(['покупка жилья', 'приобретение автомобиля',\n",
              "       'дополнительное образование', 'сыграть свадьбу',\n",
              "       'операции с жильем', 'образование', 'на проведение свадьбы',\n",
              "       'покупка жилья для семьи', 'покупка недвижимости',\n",
              "       'покупка коммерческой недвижимости', 'покупка жилой недвижимости',\n",
              "       'строительство собственной недвижимости', 'недвижимость',\n",
              "       'строительство недвижимости', 'на покупку подержанного автомобиля',\n",
              "       'на покупку своего автомобиля',\n",
              "       'операции с коммерческой недвижимостью',\n",
              "       'строительство жилой недвижимости', 'жилье',\n",
              "       'операции со своей недвижимостью', 'автомобили',\n",
              "       'заняться образованием', 'сделка с подержанным автомобилем',\n",
              "       'получение образования', 'автомобиль', 'свадьба',\n",
              "       'получение дополнительного образования', 'покупка своего жилья',\n",
              "       'операции с недвижимостью', 'получение высшего образования',\n",
              "       'свой автомобиль', 'сделка с автомобилем',\n",
              "       'профильное образование', 'высшее образование',\n",
              "       'покупка жилья для сдачи', 'на покупку автомобиля', 'ремонт жилью',\n",
              "       'заняться высшим образованием'], dtype=object)"
            ]
          },
          "metadata": {},
          "execution_count": 21
        }
      ],
      "source": [
        "data['purpose'].unique()"
      ]
    },
    {
      "cell_type": "markdown",
      "id": "f18f175d",
      "metadata": {
        "deletable": false,
        "editable": false,
        "id": "f18f175d"
      },
      "source": [
        "Напишу функцию для определения целей кредита. Судя по уникальным значениям, можно выделить категории:\n",
        "\n",
        "- `'операции с автомобилем'`,\n",
        "- `'операции с недвижимостью'`,\n",
        "- `'проведение свадьбы'`,\n",
        "- `'получение образования'`."
      ]
    },
    {
      "cell_type": "code",
      "execution_count": 22,
      "id": "d4b2c9db",
      "metadata": {
        "deletable": false,
        "id": "d4b2c9db"
      },
      "outputs": [],
      "source": [
        "def categorize_purpose(row):\n",
        "    try:\n",
        "        if 'автом' in row:\n",
        "            return 'операции с автомобилем'\n",
        "        elif 'жил' in row or 'недвиж' in row:\n",
        "            return 'операции с недвижимостью'\n",
        "        elif 'свад' in row:\n",
        "            return 'проведение свадьбы'\n",
        "        elif 'образов' in row:\n",
        "            return 'получение образования'\n",
        "    except:\n",
        "        return 'нет категории'"
      ]
    },
    {
      "cell_type": "markdown",
      "source": [
        "Проверяю ее работу"
      ],
      "metadata": {
        "id": "aDq0TwrboA7M"
      },
      "id": "aDq0TwrboA7M"
    },
    {
      "cell_type": "code",
      "source": [
        "categorize_purpose('автом')"
      ],
      "metadata": {
        "colab": {
          "base_uri": "https://localhost:8080/",
          "height": 35
        },
        "id": "PngPGmoGoFAS",
        "outputId": "918cec8e-67ea-458c-976b-d7e711c82cb3"
      },
      "id": "PngPGmoGoFAS",
      "execution_count": 23,
      "outputs": [
        {
          "output_type": "execute_result",
          "data": {
            "text/plain": [
              "'операции с автомобилем'"
            ],
            "application/vnd.google.colaboratory.intrinsic+json": {
              "type": "string"
            }
          },
          "metadata": {},
          "execution_count": 23
        }
      ]
    },
    {
      "cell_type": "markdown",
      "source": [
        "Отлично! При вводе корня `автом` клиент попадает под категорию `операции с автомобилем`."
      ],
      "metadata": {
        "id": "VY4oFdfmoNmE"
      },
      "id": "VY4oFdfmoNmE"
    },
    {
      "cell_type": "markdown",
      "source": [
        "Добавляю `purpose_category`,  с категориями"
      ],
      "metadata": {
        "id": "ZHzWK1KQohjh"
      },
      "id": "ZHzWK1KQohjh"
    },
    {
      "cell_type": "code",
      "execution_count": 24,
      "id": "77acd9f3",
      "metadata": {
        "deletable": false,
        "id": "77acd9f3",
        "colab": {
          "base_uri": "https://localhost:8080/",
          "height": 206
        },
        "outputId": "d7e3d101-b4c4-47db-ae55-ae332d288259"
      },
      "outputs": [
        {
          "output_type": "display_data",
          "data": {
            "text/plain": [
              "   children  days_employed  dob_years education  education_id  \\\n",
              "0         1    8437.673028         42    высшее             0   \n",
              "1         1    4024.803754         36   среднее             1   \n",
              "2         0    5623.422610         33   среднее             1   \n",
              "3         3    4124.747207         32   среднее             1   \n",
              "4         0  340266.072047         53   среднее             1   \n",
              "\n",
              "      family_status  family_status_id gender income_type  debt  total_income  \\\n",
              "0   женат / замужем                 0      F   сотрудник     0        253875   \n",
              "1   женат / замужем                 0      F   сотрудник     0        112080   \n",
              "2   женат / замужем                 0      M   сотрудник     0        145885   \n",
              "3   женат / замужем                 0      M   сотрудник     0        267628   \n",
              "4  гражданский брак                 1      F   пенсионер     0        158616   \n",
              "\n",
              "                      purpose total_income_category          purpose_category  \n",
              "0               покупка жилья                     B  операции с недвижимостью  \n",
              "1     приобретение автомобиля                     C    операции с автомобилем  \n",
              "2               покупка жилья                     C  операции с недвижимостью  \n",
              "3  дополнительное образование                     B     получение образования  \n",
              "4             сыграть свадьбу                     C        проведение свадьбы  "
            ],
            "text/html": [
              "\n",
              "\n",
              "  <div id=\"df-28fee50e-ad11-4b55-96a0-61ea0268bc06\">\n",
              "    <div class=\"colab-df-container\">\n",
              "      <div>\n",
              "<style scoped>\n",
              "    .dataframe tbody tr th:only-of-type {\n",
              "        vertical-align: middle;\n",
              "    }\n",
              "\n",
              "    .dataframe tbody tr th {\n",
              "        vertical-align: top;\n",
              "    }\n",
              "\n",
              "    .dataframe thead th {\n",
              "        text-align: right;\n",
              "    }\n",
              "</style>\n",
              "<table border=\"1\" class=\"dataframe\">\n",
              "  <thead>\n",
              "    <tr style=\"text-align: right;\">\n",
              "      <th></th>\n",
              "      <th>children</th>\n",
              "      <th>days_employed</th>\n",
              "      <th>dob_years</th>\n",
              "      <th>education</th>\n",
              "      <th>education_id</th>\n",
              "      <th>family_status</th>\n",
              "      <th>family_status_id</th>\n",
              "      <th>gender</th>\n",
              "      <th>income_type</th>\n",
              "      <th>debt</th>\n",
              "      <th>total_income</th>\n",
              "      <th>purpose</th>\n",
              "      <th>total_income_category</th>\n",
              "      <th>purpose_category</th>\n",
              "    </tr>\n",
              "  </thead>\n",
              "  <tbody>\n",
              "    <tr>\n",
              "      <th>0</th>\n",
              "      <td>1</td>\n",
              "      <td>8437.673028</td>\n",
              "      <td>42</td>\n",
              "      <td>высшее</td>\n",
              "      <td>0</td>\n",
              "      <td>женат / замужем</td>\n",
              "      <td>0</td>\n",
              "      <td>F</td>\n",
              "      <td>сотрудник</td>\n",
              "      <td>0</td>\n",
              "      <td>253875</td>\n",
              "      <td>покупка жилья</td>\n",
              "      <td>B</td>\n",
              "      <td>операции с недвижимостью</td>\n",
              "    </tr>\n",
              "    <tr>\n",
              "      <th>1</th>\n",
              "      <td>1</td>\n",
              "      <td>4024.803754</td>\n",
              "      <td>36</td>\n",
              "      <td>среднее</td>\n",
              "      <td>1</td>\n",
              "      <td>женат / замужем</td>\n",
              "      <td>0</td>\n",
              "      <td>F</td>\n",
              "      <td>сотрудник</td>\n",
              "      <td>0</td>\n",
              "      <td>112080</td>\n",
              "      <td>приобретение автомобиля</td>\n",
              "      <td>C</td>\n",
              "      <td>операции с автомобилем</td>\n",
              "    </tr>\n",
              "    <tr>\n",
              "      <th>2</th>\n",
              "      <td>0</td>\n",
              "      <td>5623.422610</td>\n",
              "      <td>33</td>\n",
              "      <td>среднее</td>\n",
              "      <td>1</td>\n",
              "      <td>женат / замужем</td>\n",
              "      <td>0</td>\n",
              "      <td>M</td>\n",
              "      <td>сотрудник</td>\n",
              "      <td>0</td>\n",
              "      <td>145885</td>\n",
              "      <td>покупка жилья</td>\n",
              "      <td>C</td>\n",
              "      <td>операции с недвижимостью</td>\n",
              "    </tr>\n",
              "    <tr>\n",
              "      <th>3</th>\n",
              "      <td>3</td>\n",
              "      <td>4124.747207</td>\n",
              "      <td>32</td>\n",
              "      <td>среднее</td>\n",
              "      <td>1</td>\n",
              "      <td>женат / замужем</td>\n",
              "      <td>0</td>\n",
              "      <td>M</td>\n",
              "      <td>сотрудник</td>\n",
              "      <td>0</td>\n",
              "      <td>267628</td>\n",
              "      <td>дополнительное образование</td>\n",
              "      <td>B</td>\n",
              "      <td>получение образования</td>\n",
              "    </tr>\n",
              "    <tr>\n",
              "      <th>4</th>\n",
              "      <td>0</td>\n",
              "      <td>340266.072047</td>\n",
              "      <td>53</td>\n",
              "      <td>среднее</td>\n",
              "      <td>1</td>\n",
              "      <td>гражданский брак</td>\n",
              "      <td>1</td>\n",
              "      <td>F</td>\n",
              "      <td>пенсионер</td>\n",
              "      <td>0</td>\n",
              "      <td>158616</td>\n",
              "      <td>сыграть свадьбу</td>\n",
              "      <td>C</td>\n",
              "      <td>проведение свадьбы</td>\n",
              "    </tr>\n",
              "  </tbody>\n",
              "</table>\n",
              "</div>\n",
              "      <button class=\"colab-df-convert\" onclick=\"convertToInteractive('df-28fee50e-ad11-4b55-96a0-61ea0268bc06')\"\n",
              "              title=\"Convert this dataframe to an interactive table.\"\n",
              "              style=\"display:none;\">\n",
              "\n",
              "  <svg xmlns=\"http://www.w3.org/2000/svg\" height=\"24px\"viewBox=\"0 0 24 24\"\n",
              "       width=\"24px\">\n",
              "    <path d=\"M0 0h24v24H0V0z\" fill=\"none\"/>\n",
              "    <path d=\"M18.56 5.44l.94 2.06.94-2.06 2.06-.94-2.06-.94-.94-2.06-.94 2.06-2.06.94zm-11 1L8.5 8.5l.94-2.06 2.06-.94-2.06-.94L8.5 2.5l-.94 2.06-2.06.94zm10 10l.94 2.06.94-2.06 2.06-.94-2.06-.94-.94-2.06-.94 2.06-2.06.94z\"/><path d=\"M17.41 7.96l-1.37-1.37c-.4-.4-.92-.59-1.43-.59-.52 0-1.04.2-1.43.59L10.3 9.45l-7.72 7.72c-.78.78-.78 2.05 0 2.83L4 21.41c.39.39.9.59 1.41.59.51 0 1.02-.2 1.41-.59l7.78-7.78 2.81-2.81c.8-.78.8-2.07 0-2.86zM5.41 20L4 18.59l7.72-7.72 1.47 1.35L5.41 20z\"/>\n",
              "  </svg>\n",
              "      </button>\n",
              "\n",
              "\n",
              "\n",
              "    <div id=\"df-39cb1036-1da3-4d2a-9839-9dd81b21c89c\">\n",
              "      <button class=\"colab-df-quickchart\" onclick=\"quickchart('df-39cb1036-1da3-4d2a-9839-9dd81b21c89c')\"\n",
              "              title=\"Suggest charts.\"\n",
              "              style=\"display:none;\">\n",
              "\n",
              "<svg xmlns=\"http://www.w3.org/2000/svg\" height=\"24px\"viewBox=\"0 0 24 24\"\n",
              "     width=\"24px\">\n",
              "    <g>\n",
              "        <path d=\"M19 3H5c-1.1 0-2 .9-2 2v14c0 1.1.9 2 2 2h14c1.1 0 2-.9 2-2V5c0-1.1-.9-2-2-2zM9 17H7v-7h2v7zm4 0h-2V7h2v10zm4 0h-2v-4h2v4z\"/>\n",
              "    </g>\n",
              "</svg>\n",
              "      </button>\n",
              "    </div>\n",
              "\n",
              "<style>\n",
              "  .colab-df-quickchart {\n",
              "    background-color: #E8F0FE;\n",
              "    border: none;\n",
              "    border-radius: 50%;\n",
              "    cursor: pointer;\n",
              "    display: none;\n",
              "    fill: #1967D2;\n",
              "    height: 32px;\n",
              "    padding: 0 0 0 0;\n",
              "    width: 32px;\n",
              "  }\n",
              "\n",
              "  .colab-df-quickchart:hover {\n",
              "    background-color: #E2EBFA;\n",
              "    box-shadow: 0px 1px 2px rgba(60, 64, 67, 0.3), 0px 1px 3px 1px rgba(60, 64, 67, 0.15);\n",
              "    fill: #174EA6;\n",
              "  }\n",
              "\n",
              "  [theme=dark] .colab-df-quickchart {\n",
              "    background-color: #3B4455;\n",
              "    fill: #D2E3FC;\n",
              "  }\n",
              "\n",
              "  [theme=dark] .colab-df-quickchart:hover {\n",
              "    background-color: #434B5C;\n",
              "    box-shadow: 0px 1px 3px 1px rgba(0, 0, 0, 0.15);\n",
              "    filter: drop-shadow(0px 1px 2px rgba(0, 0, 0, 0.3));\n",
              "    fill: #FFFFFF;\n",
              "  }\n",
              "</style>\n",
              "\n",
              "    <script>\n",
              "      async function quickchart(key) {\n",
              "        const containerElement = document.querySelector('#' + key);\n",
              "        const charts = await google.colab.kernel.invokeFunction(\n",
              "            'suggestCharts', [key], {});\n",
              "      }\n",
              "    </script>\n",
              "\n",
              "      <script>\n",
              "\n",
              "function displayQuickchartButton(domScope) {\n",
              "  let quickchartButtonEl =\n",
              "    domScope.querySelector('#df-39cb1036-1da3-4d2a-9839-9dd81b21c89c button.colab-df-quickchart');\n",
              "  quickchartButtonEl.style.display =\n",
              "    google.colab.kernel.accessAllowed ? 'block' : 'none';\n",
              "}\n",
              "\n",
              "        displayQuickchartButton(document);\n",
              "      </script>\n",
              "      <style>\n",
              "    .colab-df-container {\n",
              "      display:flex;\n",
              "      flex-wrap:wrap;\n",
              "      gap: 12px;\n",
              "    }\n",
              "\n",
              "    .colab-df-convert {\n",
              "      background-color: #E8F0FE;\n",
              "      border: none;\n",
              "      border-radius: 50%;\n",
              "      cursor: pointer;\n",
              "      display: none;\n",
              "      fill: #1967D2;\n",
              "      height: 32px;\n",
              "      padding: 0 0 0 0;\n",
              "      width: 32px;\n",
              "    }\n",
              "\n",
              "    .colab-df-convert:hover {\n",
              "      background-color: #E2EBFA;\n",
              "      box-shadow: 0px 1px 2px rgba(60, 64, 67, 0.3), 0px 1px 3px 1px rgba(60, 64, 67, 0.15);\n",
              "      fill: #174EA6;\n",
              "    }\n",
              "\n",
              "    [theme=dark] .colab-df-convert {\n",
              "      background-color: #3B4455;\n",
              "      fill: #D2E3FC;\n",
              "    }\n",
              "\n",
              "    [theme=dark] .colab-df-convert:hover {\n",
              "      background-color: #434B5C;\n",
              "      box-shadow: 0px 1px 3px 1px rgba(0, 0, 0, 0.15);\n",
              "      filter: drop-shadow(0px 1px 2px rgba(0, 0, 0, 0.3));\n",
              "      fill: #FFFFFF;\n",
              "    }\n",
              "  </style>\n",
              "\n",
              "      <script>\n",
              "        const buttonEl =\n",
              "          document.querySelector('#df-28fee50e-ad11-4b55-96a0-61ea0268bc06 button.colab-df-convert');\n",
              "        buttonEl.style.display =\n",
              "          google.colab.kernel.accessAllowed ? 'block' : 'none';\n",
              "\n",
              "        async function convertToInteractive(key) {\n",
              "          const element = document.querySelector('#df-28fee50e-ad11-4b55-96a0-61ea0268bc06');\n",
              "          const dataTable =\n",
              "            await google.colab.kernel.invokeFunction('convertToInteractive',\n",
              "                                                     [key], {});\n",
              "          if (!dataTable) return;\n",
              "\n",
              "          const docLinkHtml = 'Like what you see? Visit the ' +\n",
              "            '<a target=\"_blank\" href=https://colab.research.google.com/notebooks/data_table.ipynb>data table notebook</a>'\n",
              "            + ' to learn more about interactive tables.';\n",
              "          element.innerHTML = '';\n",
              "          dataTable['output_type'] = 'display_data';\n",
              "          await google.colab.output.renderOutput(dataTable, element);\n",
              "          const docLink = document.createElement('div');\n",
              "          docLink.innerHTML = docLinkHtml;\n",
              "          element.appendChild(docLink);\n",
              "        }\n",
              "      </script>\n",
              "    </div>\n",
              "  </div>\n"
            ]
          },
          "metadata": {}
        }
      ],
      "source": [
        "data['purpose_category'] = data['purpose'].apply(categorize_purpose)\n",
        "display(data.head())"
      ]
    },
    {
      "cell_type": "markdown",
      "id": "446dd548",
      "metadata": {
        "deletable": false,
        "editable": false,
        "id": "446dd548"
      },
      "source": [
        "#### Исследование данных\n"
      ]
    },
    {
      "cell_type": "markdown",
      "source": [
        " <u>Есть ли зависимость между количеством детей и возвратом кредита в срок?</u>"
      ],
      "metadata": {
        "id": "IxyfIUb3rEBr"
      },
      "id": "IxyfIUb3rEBr"
    },
    {
      "cell_type": "code",
      "execution_count": 25,
      "id": "d5f82531",
      "metadata": {
        "deletable": false,
        "id": "d5f82531",
        "colab": {
          "base_uri": "https://localhost:8080/",
          "height": 301
        },
        "outputId": "37444b65-46e0-4f89-a738-6ec63d0d6708"
      },
      "outputs": [
        {
          "output_type": "display_data",
          "data": {
            "text/plain": [
              "          count      mean <lambda>\n",
              "           debt      debt     debt\n",
              "children                          \n",
              "0         14091  0.075438    66.06\n",
              "1          4808  0.092346    22.54\n",
              "2          2052  0.094542     9.62\n",
              "3           330  0.081818     1.55\n",
              "4            41  0.097561     0.19\n",
              "5             9  0.000000     0.04"
            ],
            "text/html": [
              "\n",
              "\n",
              "  <div id=\"df-d2ae481b-55b2-4fbf-9ba2-630bb8785a92\">\n",
              "    <div class=\"colab-df-container\">\n",
              "      <div>\n",
              "<style scoped>\n",
              "    .dataframe tbody tr th:only-of-type {\n",
              "        vertical-align: middle;\n",
              "    }\n",
              "\n",
              "    .dataframe tbody tr th {\n",
              "        vertical-align: top;\n",
              "    }\n",
              "\n",
              "    .dataframe thead tr th {\n",
              "        text-align: left;\n",
              "    }\n",
              "\n",
              "    .dataframe thead tr:last-of-type th {\n",
              "        text-align: right;\n",
              "    }\n",
              "</style>\n",
              "<table border=\"1\" class=\"dataframe\">\n",
              "  <thead>\n",
              "    <tr>\n",
              "      <th></th>\n",
              "      <th>count</th>\n",
              "      <th>mean</th>\n",
              "      <th>&lt;lambda&gt;</th>\n",
              "    </tr>\n",
              "    <tr>\n",
              "      <th></th>\n",
              "      <th>debt</th>\n",
              "      <th>debt</th>\n",
              "      <th>debt</th>\n",
              "    </tr>\n",
              "    <tr>\n",
              "      <th>children</th>\n",
              "      <th></th>\n",
              "      <th></th>\n",
              "      <th></th>\n",
              "    </tr>\n",
              "  </thead>\n",
              "  <tbody>\n",
              "    <tr>\n",
              "      <th>0</th>\n",
              "      <td>14091</td>\n",
              "      <td>0.075438</td>\n",
              "      <td>66.06</td>\n",
              "    </tr>\n",
              "    <tr>\n",
              "      <th>1</th>\n",
              "      <td>4808</td>\n",
              "      <td>0.092346</td>\n",
              "      <td>22.54</td>\n",
              "    </tr>\n",
              "    <tr>\n",
              "      <th>2</th>\n",
              "      <td>2052</td>\n",
              "      <td>0.094542</td>\n",
              "      <td>9.62</td>\n",
              "    </tr>\n",
              "    <tr>\n",
              "      <th>3</th>\n",
              "      <td>330</td>\n",
              "      <td>0.081818</td>\n",
              "      <td>1.55</td>\n",
              "    </tr>\n",
              "    <tr>\n",
              "      <th>4</th>\n",
              "      <td>41</td>\n",
              "      <td>0.097561</td>\n",
              "      <td>0.19</td>\n",
              "    </tr>\n",
              "    <tr>\n",
              "      <th>5</th>\n",
              "      <td>9</td>\n",
              "      <td>0.000000</td>\n",
              "      <td>0.04</td>\n",
              "    </tr>\n",
              "  </tbody>\n",
              "</table>\n",
              "</div>\n",
              "      <button class=\"colab-df-convert\" onclick=\"convertToInteractive('df-d2ae481b-55b2-4fbf-9ba2-630bb8785a92')\"\n",
              "              title=\"Convert this dataframe to an interactive table.\"\n",
              "              style=\"display:none;\">\n",
              "\n",
              "  <svg xmlns=\"http://www.w3.org/2000/svg\" height=\"24px\"viewBox=\"0 0 24 24\"\n",
              "       width=\"24px\">\n",
              "    <path d=\"M0 0h24v24H0V0z\" fill=\"none\"/>\n",
              "    <path d=\"M18.56 5.44l.94 2.06.94-2.06 2.06-.94-2.06-.94-.94-2.06-.94 2.06-2.06.94zm-11 1L8.5 8.5l.94-2.06 2.06-.94-2.06-.94L8.5 2.5l-.94 2.06-2.06.94zm10 10l.94 2.06.94-2.06 2.06-.94-2.06-.94-.94-2.06-.94 2.06-2.06.94z\"/><path d=\"M17.41 7.96l-1.37-1.37c-.4-.4-.92-.59-1.43-.59-.52 0-1.04.2-1.43.59L10.3 9.45l-7.72 7.72c-.78.78-.78 2.05 0 2.83L4 21.41c.39.39.9.59 1.41.59.51 0 1.02-.2 1.41-.59l7.78-7.78 2.81-2.81c.8-.78.8-2.07 0-2.86zM5.41 20L4 18.59l7.72-7.72 1.47 1.35L5.41 20z\"/>\n",
              "  </svg>\n",
              "      </button>\n",
              "\n",
              "\n",
              "\n",
              "    <div id=\"df-fdc5d272-1abb-4d9c-94d7-7843596b7c0e\">\n",
              "      <button class=\"colab-df-quickchart\" onclick=\"quickchart('df-fdc5d272-1abb-4d9c-94d7-7843596b7c0e')\"\n",
              "              title=\"Suggest charts.\"\n",
              "              style=\"display:none;\">\n",
              "\n",
              "<svg xmlns=\"http://www.w3.org/2000/svg\" height=\"24px\"viewBox=\"0 0 24 24\"\n",
              "     width=\"24px\">\n",
              "    <g>\n",
              "        <path d=\"M19 3H5c-1.1 0-2 .9-2 2v14c0 1.1.9 2 2 2h14c1.1 0 2-.9 2-2V5c0-1.1-.9-2-2-2zM9 17H7v-7h2v7zm4 0h-2V7h2v10zm4 0h-2v-4h2v4z\"/>\n",
              "    </g>\n",
              "</svg>\n",
              "      </button>\n",
              "    </div>\n",
              "\n",
              "<style>\n",
              "  .colab-df-quickchart {\n",
              "    background-color: #E8F0FE;\n",
              "    border: none;\n",
              "    border-radius: 50%;\n",
              "    cursor: pointer;\n",
              "    display: none;\n",
              "    fill: #1967D2;\n",
              "    height: 32px;\n",
              "    padding: 0 0 0 0;\n",
              "    width: 32px;\n",
              "  }\n",
              "\n",
              "  .colab-df-quickchart:hover {\n",
              "    background-color: #E2EBFA;\n",
              "    box-shadow: 0px 1px 2px rgba(60, 64, 67, 0.3), 0px 1px 3px 1px rgba(60, 64, 67, 0.15);\n",
              "    fill: #174EA6;\n",
              "  }\n",
              "\n",
              "  [theme=dark] .colab-df-quickchart {\n",
              "    background-color: #3B4455;\n",
              "    fill: #D2E3FC;\n",
              "  }\n",
              "\n",
              "  [theme=dark] .colab-df-quickchart:hover {\n",
              "    background-color: #434B5C;\n",
              "    box-shadow: 0px 1px 3px 1px rgba(0, 0, 0, 0.15);\n",
              "    filter: drop-shadow(0px 1px 2px rgba(0, 0, 0, 0.3));\n",
              "    fill: #FFFFFF;\n",
              "  }\n",
              "</style>\n",
              "\n",
              "    <script>\n",
              "      async function quickchart(key) {\n",
              "        const containerElement = document.querySelector('#' + key);\n",
              "        const charts = await google.colab.kernel.invokeFunction(\n",
              "            'suggestCharts', [key], {});\n",
              "      }\n",
              "    </script>\n",
              "\n",
              "      <script>\n",
              "\n",
              "function displayQuickchartButton(domScope) {\n",
              "  let quickchartButtonEl =\n",
              "    domScope.querySelector('#df-fdc5d272-1abb-4d9c-94d7-7843596b7c0e button.colab-df-quickchart');\n",
              "  quickchartButtonEl.style.display =\n",
              "    google.colab.kernel.accessAllowed ? 'block' : 'none';\n",
              "}\n",
              "\n",
              "        displayQuickchartButton(document);\n",
              "      </script>\n",
              "      <style>\n",
              "    .colab-df-container {\n",
              "      display:flex;\n",
              "      flex-wrap:wrap;\n",
              "      gap: 12px;\n",
              "    }\n",
              "\n",
              "    .colab-df-convert {\n",
              "      background-color: #E8F0FE;\n",
              "      border: none;\n",
              "      border-radius: 50%;\n",
              "      cursor: pointer;\n",
              "      display: none;\n",
              "      fill: #1967D2;\n",
              "      height: 32px;\n",
              "      padding: 0 0 0 0;\n",
              "      width: 32px;\n",
              "    }\n",
              "\n",
              "    .colab-df-convert:hover {\n",
              "      background-color: #E2EBFA;\n",
              "      box-shadow: 0px 1px 2px rgba(60, 64, 67, 0.3), 0px 1px 3px 1px rgba(60, 64, 67, 0.15);\n",
              "      fill: #174EA6;\n",
              "    }\n",
              "\n",
              "    [theme=dark] .colab-df-convert {\n",
              "      background-color: #3B4455;\n",
              "      fill: #D2E3FC;\n",
              "    }\n",
              "\n",
              "    [theme=dark] .colab-df-convert:hover {\n",
              "      background-color: #434B5C;\n",
              "      box-shadow: 0px 1px 3px 1px rgba(0, 0, 0, 0.15);\n",
              "      filter: drop-shadow(0px 1px 2px rgba(0, 0, 0, 0.3));\n",
              "      fill: #FFFFFF;\n",
              "    }\n",
              "  </style>\n",
              "\n",
              "      <script>\n",
              "        const buttonEl =\n",
              "          document.querySelector('#df-d2ae481b-55b2-4fbf-9ba2-630bb8785a92 button.colab-df-convert');\n",
              "        buttonEl.style.display =\n",
              "          google.colab.kernel.accessAllowed ? 'block' : 'none';\n",
              "\n",
              "        async function convertToInteractive(key) {\n",
              "          const element = document.querySelector('#df-d2ae481b-55b2-4fbf-9ba2-630bb8785a92');\n",
              "          const dataTable =\n",
              "            await google.colab.kernel.invokeFunction('convertToInteractive',\n",
              "                                                     [key], {});\n",
              "          if (!dataTable) return;\n",
              "\n",
              "          const docLinkHtml = 'Like what you see? Visit the ' +\n",
              "            '<a target=\"_blank\" href=https://colab.research.google.com/notebooks/data_table.ipynb>data table notebook</a>'\n",
              "            + ' to learn more about interactive tables.';\n",
              "          element.innerHTML = '';\n",
              "          dataTable['output_type'] = 'display_data';\n",
              "          await google.colab.output.renderOutput(dataTable, element);\n",
              "          const docLink = document.createElement('div');\n",
              "          docLink.innerHTML = docLinkHtml;\n",
              "          element.appendChild(docLink);\n",
              "        }\n",
              "      </script>\n",
              "    </div>\n",
              "  </div>\n"
            ]
          },
          "metadata": {}
        }
      ],
      "source": [
        "data_pivot = data.pivot_table(index = ['children'], values = 'debt', aggfunc = ['count', 'mean', lambda x: round(len(x)/len(data)*100,2)])\n",
        "display(data_pivot)"
      ]
    },
    {
      "cell_type": "markdown",
      "id": "1f8175d9",
      "metadata": {
        "id": "1f8175d9"
      },
      "source": [
        "Зависимость возврата кредита от количества детей есть.\n",
        "\n",
        "В ходе исследования данных оказалось, что кредит чаще всего берут бездетные граждане и не выплачивают вовремя в 7,5%. Общая доля от количества должников составляет 66%.\n",
        "\n",
        "Безответственная категория плательщиков - граждане имеющие 1-2 ребёнка. Вовремя не оплачивают кредит примерно 9,3% случаях. Общая доля от количества должников составляет 22%.\n",
        "\n",
        "Граждан с 3-5 детьми предлагаю не рассматривать. Выборка меньше 2%, то есть она не показательна."
      ]
    },
    {
      "cell_type": "markdown",
      "id": "c4e62369",
      "metadata": {
        "deletable": false,
        "editable": false,
        "id": "c4e62369"
      },
      "source": [
        "<u>Есть ли зависимость между семейным положением и возвратом кредита в срок?</u>"
      ]
    },
    {
      "cell_type": "code",
      "execution_count": 26,
      "id": "d4eded83",
      "metadata": {
        "deletable": false,
        "id": "d4eded83",
        "colab": {
          "base_uri": "https://localhost:8080/",
          "height": 269
        },
        "outputId": "8df627da-cc17-4c1e-c9d4-467d94271bf2"
      },
      "outputs": [
        {
          "output_type": "display_data",
          "data": {
            "text/plain": [
              "                       count      mean <lambda>\n",
              "                        debt      debt     debt\n",
              "family_status                                  \n",
              "Не женат / не замужем   2796  0.097639    13.11\n",
              "в разводе               1189  0.070648     5.57\n",
              "вдовец / вдова           951  0.066246     4.46\n",
              "гражданский брак        4134  0.093130    19.38\n",
              "женат / замужем        12261  0.075606    57.48"
            ],
            "text/html": [
              "\n",
              "\n",
              "  <div id=\"df-8ad89852-f4e7-4842-8544-6781ace667e1\">\n",
              "    <div class=\"colab-df-container\">\n",
              "      <div>\n",
              "<style scoped>\n",
              "    .dataframe tbody tr th:only-of-type {\n",
              "        vertical-align: middle;\n",
              "    }\n",
              "\n",
              "    .dataframe tbody tr th {\n",
              "        vertical-align: top;\n",
              "    }\n",
              "\n",
              "    .dataframe thead tr th {\n",
              "        text-align: left;\n",
              "    }\n",
              "\n",
              "    .dataframe thead tr:last-of-type th {\n",
              "        text-align: right;\n",
              "    }\n",
              "</style>\n",
              "<table border=\"1\" class=\"dataframe\">\n",
              "  <thead>\n",
              "    <tr>\n",
              "      <th></th>\n",
              "      <th>count</th>\n",
              "      <th>mean</th>\n",
              "      <th>&lt;lambda&gt;</th>\n",
              "    </tr>\n",
              "    <tr>\n",
              "      <th></th>\n",
              "      <th>debt</th>\n",
              "      <th>debt</th>\n",
              "      <th>debt</th>\n",
              "    </tr>\n",
              "    <tr>\n",
              "      <th>family_status</th>\n",
              "      <th></th>\n",
              "      <th></th>\n",
              "      <th></th>\n",
              "    </tr>\n",
              "  </thead>\n",
              "  <tbody>\n",
              "    <tr>\n",
              "      <th>Не женат / не замужем</th>\n",
              "      <td>2796</td>\n",
              "      <td>0.097639</td>\n",
              "      <td>13.11</td>\n",
              "    </tr>\n",
              "    <tr>\n",
              "      <th>в разводе</th>\n",
              "      <td>1189</td>\n",
              "      <td>0.070648</td>\n",
              "      <td>5.57</td>\n",
              "    </tr>\n",
              "    <tr>\n",
              "      <th>вдовец / вдова</th>\n",
              "      <td>951</td>\n",
              "      <td>0.066246</td>\n",
              "      <td>4.46</td>\n",
              "    </tr>\n",
              "    <tr>\n",
              "      <th>гражданский брак</th>\n",
              "      <td>4134</td>\n",
              "      <td>0.093130</td>\n",
              "      <td>19.38</td>\n",
              "    </tr>\n",
              "    <tr>\n",
              "      <th>женат / замужем</th>\n",
              "      <td>12261</td>\n",
              "      <td>0.075606</td>\n",
              "      <td>57.48</td>\n",
              "    </tr>\n",
              "  </tbody>\n",
              "</table>\n",
              "</div>\n",
              "      <button class=\"colab-df-convert\" onclick=\"convertToInteractive('df-8ad89852-f4e7-4842-8544-6781ace667e1')\"\n",
              "              title=\"Convert this dataframe to an interactive table.\"\n",
              "              style=\"display:none;\">\n",
              "\n",
              "  <svg xmlns=\"http://www.w3.org/2000/svg\" height=\"24px\"viewBox=\"0 0 24 24\"\n",
              "       width=\"24px\">\n",
              "    <path d=\"M0 0h24v24H0V0z\" fill=\"none\"/>\n",
              "    <path d=\"M18.56 5.44l.94 2.06.94-2.06 2.06-.94-2.06-.94-.94-2.06-.94 2.06-2.06.94zm-11 1L8.5 8.5l.94-2.06 2.06-.94-2.06-.94L8.5 2.5l-.94 2.06-2.06.94zm10 10l.94 2.06.94-2.06 2.06-.94-2.06-.94-.94-2.06-.94 2.06-2.06.94z\"/><path d=\"M17.41 7.96l-1.37-1.37c-.4-.4-.92-.59-1.43-.59-.52 0-1.04.2-1.43.59L10.3 9.45l-7.72 7.72c-.78.78-.78 2.05 0 2.83L4 21.41c.39.39.9.59 1.41.59.51 0 1.02-.2 1.41-.59l7.78-7.78 2.81-2.81c.8-.78.8-2.07 0-2.86zM5.41 20L4 18.59l7.72-7.72 1.47 1.35L5.41 20z\"/>\n",
              "  </svg>\n",
              "      </button>\n",
              "\n",
              "\n",
              "\n",
              "    <div id=\"df-df747267-d98a-442c-91d7-96dcc047acf0\">\n",
              "      <button class=\"colab-df-quickchart\" onclick=\"quickchart('df-df747267-d98a-442c-91d7-96dcc047acf0')\"\n",
              "              title=\"Suggest charts.\"\n",
              "              style=\"display:none;\">\n",
              "\n",
              "<svg xmlns=\"http://www.w3.org/2000/svg\" height=\"24px\"viewBox=\"0 0 24 24\"\n",
              "     width=\"24px\">\n",
              "    <g>\n",
              "        <path d=\"M19 3H5c-1.1 0-2 .9-2 2v14c0 1.1.9 2 2 2h14c1.1 0 2-.9 2-2V5c0-1.1-.9-2-2-2zM9 17H7v-7h2v7zm4 0h-2V7h2v10zm4 0h-2v-4h2v4z\"/>\n",
              "    </g>\n",
              "</svg>\n",
              "      </button>\n",
              "    </div>\n",
              "\n",
              "<style>\n",
              "  .colab-df-quickchart {\n",
              "    background-color: #E8F0FE;\n",
              "    border: none;\n",
              "    border-radius: 50%;\n",
              "    cursor: pointer;\n",
              "    display: none;\n",
              "    fill: #1967D2;\n",
              "    height: 32px;\n",
              "    padding: 0 0 0 0;\n",
              "    width: 32px;\n",
              "  }\n",
              "\n",
              "  .colab-df-quickchart:hover {\n",
              "    background-color: #E2EBFA;\n",
              "    box-shadow: 0px 1px 2px rgba(60, 64, 67, 0.3), 0px 1px 3px 1px rgba(60, 64, 67, 0.15);\n",
              "    fill: #174EA6;\n",
              "  }\n",
              "\n",
              "  [theme=dark] .colab-df-quickchart {\n",
              "    background-color: #3B4455;\n",
              "    fill: #D2E3FC;\n",
              "  }\n",
              "\n",
              "  [theme=dark] .colab-df-quickchart:hover {\n",
              "    background-color: #434B5C;\n",
              "    box-shadow: 0px 1px 3px 1px rgba(0, 0, 0, 0.15);\n",
              "    filter: drop-shadow(0px 1px 2px rgba(0, 0, 0, 0.3));\n",
              "    fill: #FFFFFF;\n",
              "  }\n",
              "</style>\n",
              "\n",
              "    <script>\n",
              "      async function quickchart(key) {\n",
              "        const containerElement = document.querySelector('#' + key);\n",
              "        const charts = await google.colab.kernel.invokeFunction(\n",
              "            'suggestCharts', [key], {});\n",
              "      }\n",
              "    </script>\n",
              "\n",
              "      <script>\n",
              "\n",
              "function displayQuickchartButton(domScope) {\n",
              "  let quickchartButtonEl =\n",
              "    domScope.querySelector('#df-df747267-d98a-442c-91d7-96dcc047acf0 button.colab-df-quickchart');\n",
              "  quickchartButtonEl.style.display =\n",
              "    google.colab.kernel.accessAllowed ? 'block' : 'none';\n",
              "}\n",
              "\n",
              "        displayQuickchartButton(document);\n",
              "      </script>\n",
              "      <style>\n",
              "    .colab-df-container {\n",
              "      display:flex;\n",
              "      flex-wrap:wrap;\n",
              "      gap: 12px;\n",
              "    }\n",
              "\n",
              "    .colab-df-convert {\n",
              "      background-color: #E8F0FE;\n",
              "      border: none;\n",
              "      border-radius: 50%;\n",
              "      cursor: pointer;\n",
              "      display: none;\n",
              "      fill: #1967D2;\n",
              "      height: 32px;\n",
              "      padding: 0 0 0 0;\n",
              "      width: 32px;\n",
              "    }\n",
              "\n",
              "    .colab-df-convert:hover {\n",
              "      background-color: #E2EBFA;\n",
              "      box-shadow: 0px 1px 2px rgba(60, 64, 67, 0.3), 0px 1px 3px 1px rgba(60, 64, 67, 0.15);\n",
              "      fill: #174EA6;\n",
              "    }\n",
              "\n",
              "    [theme=dark] .colab-df-convert {\n",
              "      background-color: #3B4455;\n",
              "      fill: #D2E3FC;\n",
              "    }\n",
              "\n",
              "    [theme=dark] .colab-df-convert:hover {\n",
              "      background-color: #434B5C;\n",
              "      box-shadow: 0px 1px 3px 1px rgba(0, 0, 0, 0.15);\n",
              "      filter: drop-shadow(0px 1px 2px rgba(0, 0, 0, 0.3));\n",
              "      fill: #FFFFFF;\n",
              "    }\n",
              "  </style>\n",
              "\n",
              "      <script>\n",
              "        const buttonEl =\n",
              "          document.querySelector('#df-8ad89852-f4e7-4842-8544-6781ace667e1 button.colab-df-convert');\n",
              "        buttonEl.style.display =\n",
              "          google.colab.kernel.accessAllowed ? 'block' : 'none';\n",
              "\n",
              "        async function convertToInteractive(key) {\n",
              "          const element = document.querySelector('#df-8ad89852-f4e7-4842-8544-6781ace667e1');\n",
              "          const dataTable =\n",
              "            await google.colab.kernel.invokeFunction('convertToInteractive',\n",
              "                                                     [key], {});\n",
              "          if (!dataTable) return;\n",
              "\n",
              "          const docLinkHtml = 'Like what you see? Visit the ' +\n",
              "            '<a target=\"_blank\" href=https://colab.research.google.com/notebooks/data_table.ipynb>data table notebook</a>'\n",
              "            + ' to learn more about interactive tables.';\n",
              "          element.innerHTML = '';\n",
              "          dataTable['output_type'] = 'display_data';\n",
              "          await google.colab.output.renderOutput(dataTable, element);\n",
              "          const docLink = document.createElement('div');\n",
              "          docLink.innerHTML = docLinkHtml;\n",
              "          element.appendChild(docLink);\n",
              "        }\n",
              "      </script>\n",
              "    </div>\n",
              "  </div>\n"
            ]
          },
          "metadata": {}
        }
      ],
      "source": [
        "data_pivot = data.pivot_table(index = ['family_status'], values = 'debt', aggfunc = ['count', 'mean', lambda x: round(len(x)/len(data)*100,2)])\n",
        "display(data_pivot)"
      ]
    },
    {
      "cell_type": "markdown",
      "id": "32f75f6b",
      "metadata": {
        "deletable": false,
        "id": "32f75f6b"
      },
      "source": [
        "Зависимость возврата кредита от семейного положения есть.\n",
        "\n",
        "В ходе исследования данных оказалось, что кредит чаще всего берут семейные граждане и не выплачивают его вовремя в 7,5%. Они составляют самую большую категорию кредитников, 57%. Если учитывать данные исследования о наличии детей, также можно предположить, что это бездетные семьи.\n",
        "\n",
        "Безответственные категории плательщиков - свободные граждане/гражданский брак. Платят позже срока примерно 9,5%. Общая доля от количества должников составляет 32%.\n",
        "\n",
        "Граждане в разводе/вдовцы не выполняют вовремя обязательства по кредиту всего примерно 7%. Но их общая доля от количества должников составляет всего 10%."
      ]
    },
    {
      "cell_type": "markdown",
      "id": "c999b975",
      "metadata": {
        "deletable": false,
        "editable": false,
        "id": "c999b975"
      },
      "source": [
        "<u>Есть ли зависимость между уровнем дохода и возвратом кредита в срок?</u>"
      ]
    },
    {
      "cell_type": "code",
      "execution_count": 27,
      "id": "5fa380e9",
      "metadata": {
        "deletable": false,
        "id": "5fa380e9",
        "colab": {
          "base_uri": "https://localhost:8080/",
          "height": 269
        },
        "outputId": "9a3bad99-eee9-4c5c-b2f6-2472d51d6a8b"
      },
      "outputs": [
        {
          "output_type": "display_data",
          "data": {
            "text/plain": [
              "                       count      mean <lambda>\n",
              "                        debt      debt     debt\n",
              "total_income_category                          \n",
              "A                         25  0.080000     0.12\n",
              "B                       5014  0.070602    23.51\n",
              "C                      15921  0.084982    74.64\n",
              "D                        349  0.060172     1.64\n",
              "E                         22  0.090909     0.10"
            ],
            "text/html": [
              "\n",
              "\n",
              "  <div id=\"df-68fe4bed-b1d7-419e-9582-66bbbf2f06d5\">\n",
              "    <div class=\"colab-df-container\">\n",
              "      <div>\n",
              "<style scoped>\n",
              "    .dataframe tbody tr th:only-of-type {\n",
              "        vertical-align: middle;\n",
              "    }\n",
              "\n",
              "    .dataframe tbody tr th {\n",
              "        vertical-align: top;\n",
              "    }\n",
              "\n",
              "    .dataframe thead tr th {\n",
              "        text-align: left;\n",
              "    }\n",
              "\n",
              "    .dataframe thead tr:last-of-type th {\n",
              "        text-align: right;\n",
              "    }\n",
              "</style>\n",
              "<table border=\"1\" class=\"dataframe\">\n",
              "  <thead>\n",
              "    <tr>\n",
              "      <th></th>\n",
              "      <th>count</th>\n",
              "      <th>mean</th>\n",
              "      <th>&lt;lambda&gt;</th>\n",
              "    </tr>\n",
              "    <tr>\n",
              "      <th></th>\n",
              "      <th>debt</th>\n",
              "      <th>debt</th>\n",
              "      <th>debt</th>\n",
              "    </tr>\n",
              "    <tr>\n",
              "      <th>total_income_category</th>\n",
              "      <th></th>\n",
              "      <th></th>\n",
              "      <th></th>\n",
              "    </tr>\n",
              "  </thead>\n",
              "  <tbody>\n",
              "    <tr>\n",
              "      <th>A</th>\n",
              "      <td>25</td>\n",
              "      <td>0.080000</td>\n",
              "      <td>0.12</td>\n",
              "    </tr>\n",
              "    <tr>\n",
              "      <th>B</th>\n",
              "      <td>5014</td>\n",
              "      <td>0.070602</td>\n",
              "      <td>23.51</td>\n",
              "    </tr>\n",
              "    <tr>\n",
              "      <th>C</th>\n",
              "      <td>15921</td>\n",
              "      <td>0.084982</td>\n",
              "      <td>74.64</td>\n",
              "    </tr>\n",
              "    <tr>\n",
              "      <th>D</th>\n",
              "      <td>349</td>\n",
              "      <td>0.060172</td>\n",
              "      <td>1.64</td>\n",
              "    </tr>\n",
              "    <tr>\n",
              "      <th>E</th>\n",
              "      <td>22</td>\n",
              "      <td>0.090909</td>\n",
              "      <td>0.10</td>\n",
              "    </tr>\n",
              "  </tbody>\n",
              "</table>\n",
              "</div>\n",
              "      <button class=\"colab-df-convert\" onclick=\"convertToInteractive('df-68fe4bed-b1d7-419e-9582-66bbbf2f06d5')\"\n",
              "              title=\"Convert this dataframe to an interactive table.\"\n",
              "              style=\"display:none;\">\n",
              "\n",
              "  <svg xmlns=\"http://www.w3.org/2000/svg\" height=\"24px\"viewBox=\"0 0 24 24\"\n",
              "       width=\"24px\">\n",
              "    <path d=\"M0 0h24v24H0V0z\" fill=\"none\"/>\n",
              "    <path d=\"M18.56 5.44l.94 2.06.94-2.06 2.06-.94-2.06-.94-.94-2.06-.94 2.06-2.06.94zm-11 1L8.5 8.5l.94-2.06 2.06-.94-2.06-.94L8.5 2.5l-.94 2.06-2.06.94zm10 10l.94 2.06.94-2.06 2.06-.94-2.06-.94-.94-2.06-.94 2.06-2.06.94z\"/><path d=\"M17.41 7.96l-1.37-1.37c-.4-.4-.92-.59-1.43-.59-.52 0-1.04.2-1.43.59L10.3 9.45l-7.72 7.72c-.78.78-.78 2.05 0 2.83L4 21.41c.39.39.9.59 1.41.59.51 0 1.02-.2 1.41-.59l7.78-7.78 2.81-2.81c.8-.78.8-2.07 0-2.86zM5.41 20L4 18.59l7.72-7.72 1.47 1.35L5.41 20z\"/>\n",
              "  </svg>\n",
              "      </button>\n",
              "\n",
              "\n",
              "\n",
              "    <div id=\"df-d8190c26-9a76-4f0d-a57e-0eca63e81f12\">\n",
              "      <button class=\"colab-df-quickchart\" onclick=\"quickchart('df-d8190c26-9a76-4f0d-a57e-0eca63e81f12')\"\n",
              "              title=\"Suggest charts.\"\n",
              "              style=\"display:none;\">\n",
              "\n",
              "<svg xmlns=\"http://www.w3.org/2000/svg\" height=\"24px\"viewBox=\"0 0 24 24\"\n",
              "     width=\"24px\">\n",
              "    <g>\n",
              "        <path d=\"M19 3H5c-1.1 0-2 .9-2 2v14c0 1.1.9 2 2 2h14c1.1 0 2-.9 2-2V5c0-1.1-.9-2-2-2zM9 17H7v-7h2v7zm4 0h-2V7h2v10zm4 0h-2v-4h2v4z\"/>\n",
              "    </g>\n",
              "</svg>\n",
              "      </button>\n",
              "    </div>\n",
              "\n",
              "<style>\n",
              "  .colab-df-quickchart {\n",
              "    background-color: #E8F0FE;\n",
              "    border: none;\n",
              "    border-radius: 50%;\n",
              "    cursor: pointer;\n",
              "    display: none;\n",
              "    fill: #1967D2;\n",
              "    height: 32px;\n",
              "    padding: 0 0 0 0;\n",
              "    width: 32px;\n",
              "  }\n",
              "\n",
              "  .colab-df-quickchart:hover {\n",
              "    background-color: #E2EBFA;\n",
              "    box-shadow: 0px 1px 2px rgba(60, 64, 67, 0.3), 0px 1px 3px 1px rgba(60, 64, 67, 0.15);\n",
              "    fill: #174EA6;\n",
              "  }\n",
              "\n",
              "  [theme=dark] .colab-df-quickchart {\n",
              "    background-color: #3B4455;\n",
              "    fill: #D2E3FC;\n",
              "  }\n",
              "\n",
              "  [theme=dark] .colab-df-quickchart:hover {\n",
              "    background-color: #434B5C;\n",
              "    box-shadow: 0px 1px 3px 1px rgba(0, 0, 0, 0.15);\n",
              "    filter: drop-shadow(0px 1px 2px rgba(0, 0, 0, 0.3));\n",
              "    fill: #FFFFFF;\n",
              "  }\n",
              "</style>\n",
              "\n",
              "    <script>\n",
              "      async function quickchart(key) {\n",
              "        const containerElement = document.querySelector('#' + key);\n",
              "        const charts = await google.colab.kernel.invokeFunction(\n",
              "            'suggestCharts', [key], {});\n",
              "      }\n",
              "    </script>\n",
              "\n",
              "      <script>\n",
              "\n",
              "function displayQuickchartButton(domScope) {\n",
              "  let quickchartButtonEl =\n",
              "    domScope.querySelector('#df-d8190c26-9a76-4f0d-a57e-0eca63e81f12 button.colab-df-quickchart');\n",
              "  quickchartButtonEl.style.display =\n",
              "    google.colab.kernel.accessAllowed ? 'block' : 'none';\n",
              "}\n",
              "\n",
              "        displayQuickchartButton(document);\n",
              "      </script>\n",
              "      <style>\n",
              "    .colab-df-container {\n",
              "      display:flex;\n",
              "      flex-wrap:wrap;\n",
              "      gap: 12px;\n",
              "    }\n",
              "\n",
              "    .colab-df-convert {\n",
              "      background-color: #E8F0FE;\n",
              "      border: none;\n",
              "      border-radius: 50%;\n",
              "      cursor: pointer;\n",
              "      display: none;\n",
              "      fill: #1967D2;\n",
              "      height: 32px;\n",
              "      padding: 0 0 0 0;\n",
              "      width: 32px;\n",
              "    }\n",
              "\n",
              "    .colab-df-convert:hover {\n",
              "      background-color: #E2EBFA;\n",
              "      box-shadow: 0px 1px 2px rgba(60, 64, 67, 0.3), 0px 1px 3px 1px rgba(60, 64, 67, 0.15);\n",
              "      fill: #174EA6;\n",
              "    }\n",
              "\n",
              "    [theme=dark] .colab-df-convert {\n",
              "      background-color: #3B4455;\n",
              "      fill: #D2E3FC;\n",
              "    }\n",
              "\n",
              "    [theme=dark] .colab-df-convert:hover {\n",
              "      background-color: #434B5C;\n",
              "      box-shadow: 0px 1px 3px 1px rgba(0, 0, 0, 0.15);\n",
              "      filter: drop-shadow(0px 1px 2px rgba(0, 0, 0, 0.3));\n",
              "      fill: #FFFFFF;\n",
              "    }\n",
              "  </style>\n",
              "\n",
              "      <script>\n",
              "        const buttonEl =\n",
              "          document.querySelector('#df-68fe4bed-b1d7-419e-9582-66bbbf2f06d5 button.colab-df-convert');\n",
              "        buttonEl.style.display =\n",
              "          google.colab.kernel.accessAllowed ? 'block' : 'none';\n",
              "\n",
              "        async function convertToInteractive(key) {\n",
              "          const element = document.querySelector('#df-68fe4bed-b1d7-419e-9582-66bbbf2f06d5');\n",
              "          const dataTable =\n",
              "            await google.colab.kernel.invokeFunction('convertToInteractive',\n",
              "                                                     [key], {});\n",
              "          if (!dataTable) return;\n",
              "\n",
              "          const docLinkHtml = 'Like what you see? Visit the ' +\n",
              "            '<a target=\"_blank\" href=https://colab.research.google.com/notebooks/data_table.ipynb>data table notebook</a>'\n",
              "            + ' to learn more about interactive tables.';\n",
              "          element.innerHTML = '';\n",
              "          dataTable['output_type'] = 'display_data';\n",
              "          await google.colab.output.renderOutput(dataTable, element);\n",
              "          const docLink = document.createElement('div');\n",
              "          docLink.innerHTML = docLinkHtml;\n",
              "          element.appendChild(docLink);\n",
              "        }\n",
              "      </script>\n",
              "    </div>\n",
              "  </div>\n"
            ]
          },
          "metadata": {}
        }
      ],
      "source": [
        "data_pivot = data.pivot_table(index = ['total_income_category'], values = 'debt', aggfunc = ['count', 'mean', lambda x: round(len(x)/len(data)*100,2)])\n",
        "display(data_pivot)"
      ]
    },
    {
      "cell_type": "markdown",
      "id": "ce5a842b",
      "metadata": {
        "deletable": false,
        "id": "ce5a842b"
      },
      "source": [
        "Зависимость возврата кредита от уровня дохода есть.\n",
        "Граждане с доходом из категории `С` не возвращают кредит вовремя почти в 8,5%. Это самая большая группа и она составляет 74% от общего количества должников.\n",
        "Граждане с доходом категории `B` не выплачивают вовремя 7%. Это вторая основная группа должников, она составляет 23%.\n",
        "\n",
        "Доля должников категории В ниже должников категории `С` в три раза.\n",
        "\n",
        "Категории уровня дохода:\n",
        "* 0–30000 — `E`\n",
        "* 30001–50000 — `D`\n",
        "* 50001–200000 — `C`\n",
        "* 200001–1000000 — `B`\n",
        "* 1000001 и выше — `А`.\n"
      ]
    },
    {
      "cell_type": "markdown",
      "id": "84b982a1",
      "metadata": {
        "deletable": false,
        "editable": false,
        "id": "84b982a1"
      },
      "source": [
        "<u>Как разные цели кредита влияют на его возврат в срок?</u>"
      ]
    },
    {
      "cell_type": "code",
      "execution_count": 28,
      "id": "eae4f6c6",
      "metadata": {
        "deletable": false,
        "id": "eae4f6c6",
        "colab": {
          "base_uri": "https://localhost:8080/",
          "height": 238
        },
        "outputId": "6e726f0b-a600-4396-b966-f877e55b5af6"
      },
      "outputs": [
        {
          "output_type": "display_data",
          "data": {
            "text/plain": [
              "                          count      mean <lambda>\n",
              "                           debt      debt     debt\n",
              "purpose_category                                  \n",
              "операции с автомобилем     4279  0.093480    20.06\n",
              "операции с недвижимостью  10751  0.072551    50.40\n",
              "получение образования      3988  0.092528    18.70\n",
              "проведение свадьбы         2313  0.079118    10.84"
            ],
            "text/html": [
              "\n",
              "\n",
              "  <div id=\"df-0bb14378-9e72-4bac-970d-1fdffb975714\">\n",
              "    <div class=\"colab-df-container\">\n",
              "      <div>\n",
              "<style scoped>\n",
              "    .dataframe tbody tr th:only-of-type {\n",
              "        vertical-align: middle;\n",
              "    }\n",
              "\n",
              "    .dataframe tbody tr th {\n",
              "        vertical-align: top;\n",
              "    }\n",
              "\n",
              "    .dataframe thead tr th {\n",
              "        text-align: left;\n",
              "    }\n",
              "\n",
              "    .dataframe thead tr:last-of-type th {\n",
              "        text-align: right;\n",
              "    }\n",
              "</style>\n",
              "<table border=\"1\" class=\"dataframe\">\n",
              "  <thead>\n",
              "    <tr>\n",
              "      <th></th>\n",
              "      <th>count</th>\n",
              "      <th>mean</th>\n",
              "      <th>&lt;lambda&gt;</th>\n",
              "    </tr>\n",
              "    <tr>\n",
              "      <th></th>\n",
              "      <th>debt</th>\n",
              "      <th>debt</th>\n",
              "      <th>debt</th>\n",
              "    </tr>\n",
              "    <tr>\n",
              "      <th>purpose_category</th>\n",
              "      <th></th>\n",
              "      <th></th>\n",
              "      <th></th>\n",
              "    </tr>\n",
              "  </thead>\n",
              "  <tbody>\n",
              "    <tr>\n",
              "      <th>операции с автомобилем</th>\n",
              "      <td>4279</td>\n",
              "      <td>0.093480</td>\n",
              "      <td>20.06</td>\n",
              "    </tr>\n",
              "    <tr>\n",
              "      <th>операции с недвижимостью</th>\n",
              "      <td>10751</td>\n",
              "      <td>0.072551</td>\n",
              "      <td>50.40</td>\n",
              "    </tr>\n",
              "    <tr>\n",
              "      <th>получение образования</th>\n",
              "      <td>3988</td>\n",
              "      <td>0.092528</td>\n",
              "      <td>18.70</td>\n",
              "    </tr>\n",
              "    <tr>\n",
              "      <th>проведение свадьбы</th>\n",
              "      <td>2313</td>\n",
              "      <td>0.079118</td>\n",
              "      <td>10.84</td>\n",
              "    </tr>\n",
              "  </tbody>\n",
              "</table>\n",
              "</div>\n",
              "      <button class=\"colab-df-convert\" onclick=\"convertToInteractive('df-0bb14378-9e72-4bac-970d-1fdffb975714')\"\n",
              "              title=\"Convert this dataframe to an interactive table.\"\n",
              "              style=\"display:none;\">\n",
              "\n",
              "  <svg xmlns=\"http://www.w3.org/2000/svg\" height=\"24px\"viewBox=\"0 0 24 24\"\n",
              "       width=\"24px\">\n",
              "    <path d=\"M0 0h24v24H0V0z\" fill=\"none\"/>\n",
              "    <path d=\"M18.56 5.44l.94 2.06.94-2.06 2.06-.94-2.06-.94-.94-2.06-.94 2.06-2.06.94zm-11 1L8.5 8.5l.94-2.06 2.06-.94-2.06-.94L8.5 2.5l-.94 2.06-2.06.94zm10 10l.94 2.06.94-2.06 2.06-.94-2.06-.94-.94-2.06-.94 2.06-2.06.94z\"/><path d=\"M17.41 7.96l-1.37-1.37c-.4-.4-.92-.59-1.43-.59-.52 0-1.04.2-1.43.59L10.3 9.45l-7.72 7.72c-.78.78-.78 2.05 0 2.83L4 21.41c.39.39.9.59 1.41.59.51 0 1.02-.2 1.41-.59l7.78-7.78 2.81-2.81c.8-.78.8-2.07 0-2.86zM5.41 20L4 18.59l7.72-7.72 1.47 1.35L5.41 20z\"/>\n",
              "  </svg>\n",
              "      </button>\n",
              "\n",
              "\n",
              "\n",
              "    <div id=\"df-423abf8a-d456-4679-9e6d-bbc31de0c581\">\n",
              "      <button class=\"colab-df-quickchart\" onclick=\"quickchart('df-423abf8a-d456-4679-9e6d-bbc31de0c581')\"\n",
              "              title=\"Suggest charts.\"\n",
              "              style=\"display:none;\">\n",
              "\n",
              "<svg xmlns=\"http://www.w3.org/2000/svg\" height=\"24px\"viewBox=\"0 0 24 24\"\n",
              "     width=\"24px\">\n",
              "    <g>\n",
              "        <path d=\"M19 3H5c-1.1 0-2 .9-2 2v14c0 1.1.9 2 2 2h14c1.1 0 2-.9 2-2V5c0-1.1-.9-2-2-2zM9 17H7v-7h2v7zm4 0h-2V7h2v10zm4 0h-2v-4h2v4z\"/>\n",
              "    </g>\n",
              "</svg>\n",
              "      </button>\n",
              "    </div>\n",
              "\n",
              "<style>\n",
              "  .colab-df-quickchart {\n",
              "    background-color: #E8F0FE;\n",
              "    border: none;\n",
              "    border-radius: 50%;\n",
              "    cursor: pointer;\n",
              "    display: none;\n",
              "    fill: #1967D2;\n",
              "    height: 32px;\n",
              "    padding: 0 0 0 0;\n",
              "    width: 32px;\n",
              "  }\n",
              "\n",
              "  .colab-df-quickchart:hover {\n",
              "    background-color: #E2EBFA;\n",
              "    box-shadow: 0px 1px 2px rgba(60, 64, 67, 0.3), 0px 1px 3px 1px rgba(60, 64, 67, 0.15);\n",
              "    fill: #174EA6;\n",
              "  }\n",
              "\n",
              "  [theme=dark] .colab-df-quickchart {\n",
              "    background-color: #3B4455;\n",
              "    fill: #D2E3FC;\n",
              "  }\n",
              "\n",
              "  [theme=dark] .colab-df-quickchart:hover {\n",
              "    background-color: #434B5C;\n",
              "    box-shadow: 0px 1px 3px 1px rgba(0, 0, 0, 0.15);\n",
              "    filter: drop-shadow(0px 1px 2px rgba(0, 0, 0, 0.3));\n",
              "    fill: #FFFFFF;\n",
              "  }\n",
              "</style>\n",
              "\n",
              "    <script>\n",
              "      async function quickchart(key) {\n",
              "        const containerElement = document.querySelector('#' + key);\n",
              "        const charts = await google.colab.kernel.invokeFunction(\n",
              "            'suggestCharts', [key], {});\n",
              "      }\n",
              "    </script>\n",
              "\n",
              "      <script>\n",
              "\n",
              "function displayQuickchartButton(domScope) {\n",
              "  let quickchartButtonEl =\n",
              "    domScope.querySelector('#df-423abf8a-d456-4679-9e6d-bbc31de0c581 button.colab-df-quickchart');\n",
              "  quickchartButtonEl.style.display =\n",
              "    google.colab.kernel.accessAllowed ? 'block' : 'none';\n",
              "}\n",
              "\n",
              "        displayQuickchartButton(document);\n",
              "      </script>\n",
              "      <style>\n",
              "    .colab-df-container {\n",
              "      display:flex;\n",
              "      flex-wrap:wrap;\n",
              "      gap: 12px;\n",
              "    }\n",
              "\n",
              "    .colab-df-convert {\n",
              "      background-color: #E8F0FE;\n",
              "      border: none;\n",
              "      border-radius: 50%;\n",
              "      cursor: pointer;\n",
              "      display: none;\n",
              "      fill: #1967D2;\n",
              "      height: 32px;\n",
              "      padding: 0 0 0 0;\n",
              "      width: 32px;\n",
              "    }\n",
              "\n",
              "    .colab-df-convert:hover {\n",
              "      background-color: #E2EBFA;\n",
              "      box-shadow: 0px 1px 2px rgba(60, 64, 67, 0.3), 0px 1px 3px 1px rgba(60, 64, 67, 0.15);\n",
              "      fill: #174EA6;\n",
              "    }\n",
              "\n",
              "    [theme=dark] .colab-df-convert {\n",
              "      background-color: #3B4455;\n",
              "      fill: #D2E3FC;\n",
              "    }\n",
              "\n",
              "    [theme=dark] .colab-df-convert:hover {\n",
              "      background-color: #434B5C;\n",
              "      box-shadow: 0px 1px 3px 1px rgba(0, 0, 0, 0.15);\n",
              "      filter: drop-shadow(0px 1px 2px rgba(0, 0, 0, 0.3));\n",
              "      fill: #FFFFFF;\n",
              "    }\n",
              "  </style>\n",
              "\n",
              "      <script>\n",
              "        const buttonEl =\n",
              "          document.querySelector('#df-0bb14378-9e72-4bac-970d-1fdffb975714 button.colab-df-convert');\n",
              "        buttonEl.style.display =\n",
              "          google.colab.kernel.accessAllowed ? 'block' : 'none';\n",
              "\n",
              "        async function convertToInteractive(key) {\n",
              "          const element = document.querySelector('#df-0bb14378-9e72-4bac-970d-1fdffb975714');\n",
              "          const dataTable =\n",
              "            await google.colab.kernel.invokeFunction('convertToInteractive',\n",
              "                                                     [key], {});\n",
              "          if (!dataTable) return;\n",
              "\n",
              "          const docLinkHtml = 'Like what you see? Visit the ' +\n",
              "            '<a target=\"_blank\" href=https://colab.research.google.com/notebooks/data_table.ipynb>data table notebook</a>'\n",
              "            + ' to learn more about interactive tables.';\n",
              "          element.innerHTML = '';\n",
              "          dataTable['output_type'] = 'display_data';\n",
              "          await google.colab.output.renderOutput(dataTable, element);\n",
              "          const docLink = document.createElement('div');\n",
              "          docLink.innerHTML = docLinkHtml;\n",
              "          element.appendChild(docLink);\n",
              "        }\n",
              "      </script>\n",
              "    </div>\n",
              "  </div>\n"
            ]
          },
          "metadata": {}
        }
      ],
      "source": [
        "data_pivot = data.pivot_table(index = ['purpose_category'], values = 'debt', aggfunc = ['count', 'mean', lambda x: round(len(x)/len(data)*100,2)])\n",
        "\n",
        "display(data_pivot)\n"
      ]
    },
    {
      "cell_type": "markdown",
      "id": "18a7b504",
      "metadata": {
        "deletable": false,
        "id": "18a7b504"
      },
      "source": [
        "Проще всего даётся погасить кредит вовремя гражданам, которые покупают жилье: всего 7,2%. Это самая большая доля - 50% от общего количества должников.\n",
        "\n",
        "При покупке автомобиля и повышение образования - 9,3%. Доля: 20% и 19% соответственно. Самая безответственная категория.\n",
        "\n",
        "У тех, кто не накопил на свадьбу доля - 11%. Не отдают кредит вовремя 7,9%."
      ]
    },
    {
      "cell_type": "markdown",
      "id": "4ddce62c",
      "metadata": {
        "deletable": false,
        "editable": false,
        "id": "4ddce62c"
      },
      "source": [
        "### Выводы"
      ]
    },
    {
      "cell_type": "markdown",
      "id": "d30ecfe7",
      "metadata": {
        "deletable": false,
        "id": "d30ecfe7"
      },
      "source": [
        "### Исследование данных показало:\n",
        "* Самыми ответственными плательщиками по кредиту являются бездетные женатые граждане. Учитывая, что доля категории покупки жилья самая большая, можно предположить, что это молодые семьи, берущие ипотеку. Они наша целевая аудитория\n",
        "* С осторожностью давать кредиты более безответственным плательщикам: это граждане с 1-2 детьми, граждане без официальной пары. Возможно, пересмотреть условия кредитования.\n",
        "* Малоимущие и очень обеспеченные граждане редко обращаются за кредитами."
      ]
    }
  ],
  "metadata": {
    "ExecuteTimeLog": [
      {
        "duration": 50,
        "start_time": "2022-11-19T15:49:51.120Z"
      },
      {
        "duration": 508,
        "start_time": "2022-11-19T15:50:08.752Z"
      },
      {
        "duration": 23,
        "start_time": "2022-11-19T15:50:09.262Z"
      },
      {
        "duration": 15,
        "start_time": "2022-11-19T15:50:09.286Z"
      },
      {
        "duration": 9,
        "start_time": "2022-11-19T15:50:09.303Z"
      },
      {
        "duration": 35,
        "start_time": "2022-11-19T15:50:09.322Z"
      },
      {
        "duration": 3,
        "start_time": "2022-11-19T15:50:09.359Z"
      },
      {
        "duration": 11,
        "start_time": "2022-11-19T15:50:09.364Z"
      },
      {
        "duration": 5,
        "start_time": "2022-11-19T15:50:09.376Z"
      },
      {
        "duration": 11,
        "start_time": "2022-11-19T15:50:09.383Z"
      },
      {
        "duration": 29,
        "start_time": "2022-11-19T15:50:09.396Z"
      },
      {
        "duration": 36,
        "start_time": "2022-11-19T15:50:09.427Z"
      },
      {
        "duration": 11,
        "start_time": "2022-11-19T15:50:09.464Z"
      },
      {
        "duration": 4,
        "start_time": "2022-11-19T15:50:09.477Z"
      },
      {
        "duration": 39,
        "start_time": "2022-11-19T15:50:09.483Z"
      },
      {
        "duration": 21,
        "start_time": "2022-11-19T15:50:09.524Z"
      },
      {
        "duration": 18,
        "start_time": "2022-11-19T15:50:09.547Z"
      },
      {
        "duration": 4,
        "start_time": "2022-11-19T15:50:09.567Z"
      },
      {
        "duration": 13,
        "start_time": "2022-11-19T15:50:09.572Z"
      },
      {
        "duration": 35,
        "start_time": "2022-11-19T15:50:09.587Z"
      },
      {
        "duration": 3,
        "start_time": "2022-11-19T15:50:09.624Z"
      },
      {
        "duration": 20,
        "start_time": "2022-11-19T15:50:09.629Z"
      },
      {
        "duration": 11,
        "start_time": "2022-11-19T15:50:09.651Z"
      },
      {
        "duration": 13,
        "start_time": "2022-11-19T15:50:09.663Z"
      },
      {
        "duration": 10,
        "start_time": "2022-11-19T15:50:09.678Z"
      },
      {
        "duration": 7,
        "start_time": "2022-11-19T15:50:09.690Z"
      },
      {
        "duration": 34,
        "start_time": "2022-11-19T15:50:30.595Z"
      },
      {
        "duration": 32,
        "start_time": "2022-11-19T15:53:25.891Z"
      },
      {
        "duration": 6,
        "start_time": "2022-11-19T16:03:04.637Z"
      },
      {
        "duration": 5,
        "start_time": "2022-11-19T16:03:31.557Z"
      },
      {
        "duration": 63,
        "start_time": "2022-11-19T16:12:35.206Z"
      },
      {
        "duration": 72,
        "start_time": "2022-11-19T16:12:38.882Z"
      },
      {
        "duration": 10,
        "start_time": "2022-11-19T16:13:04.275Z"
      },
      {
        "duration": 8,
        "start_time": "2022-11-19T16:13:11.461Z"
      },
      {
        "duration": 80,
        "start_time": "2022-11-19T16:13:20.594Z"
      },
      {
        "duration": 9,
        "start_time": "2022-11-19T16:13:36.296Z"
      },
      {
        "duration": 71,
        "start_time": "2022-11-19T16:13:48.800Z"
      },
      {
        "duration": 9,
        "start_time": "2022-11-19T16:13:53.550Z"
      },
      {
        "duration": 6,
        "start_time": "2022-11-19T16:13:59.955Z"
      },
      {
        "duration": 21,
        "start_time": "2022-11-19T16:20:44.224Z"
      },
      {
        "duration": 19,
        "start_time": "2022-11-19T16:21:13.853Z"
      },
      {
        "duration": 25,
        "start_time": "2022-11-19T16:21:49.888Z"
      },
      {
        "duration": 16,
        "start_time": "2022-11-19T16:22:27.459Z"
      },
      {
        "duration": 13,
        "start_time": "2022-11-19T16:23:00.771Z"
      },
      {
        "duration": 32,
        "start_time": "2022-11-19T16:28:04.794Z"
      },
      {
        "duration": 16,
        "start_time": "2022-11-19T16:28:32.262Z"
      },
      {
        "duration": 12,
        "start_time": "2022-11-19T16:30:26.197Z"
      },
      {
        "duration": 26,
        "start_time": "2022-11-19T16:36:46.377Z"
      },
      {
        "duration": 28,
        "start_time": "2022-11-19T16:37:09.838Z"
      },
      {
        "duration": 20,
        "start_time": "2022-11-19T16:37:23.298Z"
      },
      {
        "duration": 22,
        "start_time": "2022-11-19T16:37:54.724Z"
      },
      {
        "duration": 23,
        "start_time": "2022-11-19T16:38:14.528Z"
      },
      {
        "duration": 18,
        "start_time": "2022-11-19T16:39:39.280Z"
      },
      {
        "duration": 20,
        "start_time": "2022-11-19T16:40:05.265Z"
      },
      {
        "duration": 20,
        "start_time": "2022-11-19T16:41:15.464Z"
      },
      {
        "duration": 18,
        "start_time": "2022-11-19T16:42:00.286Z"
      },
      {
        "duration": 88,
        "start_time": "2022-11-19T16:44:27.662Z"
      },
      {
        "duration": 27,
        "start_time": "2022-11-19T16:44:35.041Z"
      },
      {
        "duration": 29,
        "start_time": "2022-11-19T16:46:39.874Z"
      },
      {
        "duration": 25,
        "start_time": "2022-11-19T16:49:12.375Z"
      },
      {
        "duration": 23,
        "start_time": "2022-11-19T16:49:20.990Z"
      },
      {
        "duration": 14,
        "start_time": "2022-11-19T16:51:34.540Z"
      },
      {
        "duration": 18,
        "start_time": "2022-11-19T17:00:24.063Z"
      },
      {
        "duration": 19,
        "start_time": "2022-11-19T17:10:33.788Z"
      },
      {
        "duration": 20,
        "start_time": "2022-11-19T17:11:00.028Z"
      },
      {
        "duration": 15,
        "start_time": "2022-11-19T17:11:26.314Z"
      },
      {
        "duration": 14,
        "start_time": "2022-11-19T17:38:56.340Z"
      },
      {
        "duration": 16,
        "start_time": "2022-11-19T17:39:14.922Z"
      },
      {
        "duration": 15,
        "start_time": "2022-11-19T17:39:56.131Z"
      },
      {
        "duration": 15,
        "start_time": "2022-11-19T17:40:19.794Z"
      },
      {
        "duration": 15,
        "start_time": "2022-11-19T17:40:36.022Z"
      },
      {
        "duration": 16,
        "start_time": "2022-11-19T17:57:59.625Z"
      },
      {
        "duration": 16,
        "start_time": "2022-11-19T17:58:35.496Z"
      },
      {
        "duration": 22,
        "start_time": "2022-11-19T18:08:51.383Z"
      },
      {
        "duration": 19,
        "start_time": "2022-11-19T18:09:15.427Z"
      },
      {
        "duration": 16,
        "start_time": "2022-11-19T18:15:49.874Z"
      },
      {
        "duration": 22,
        "start_time": "2022-11-19T18:36:09.573Z"
      },
      {
        "duration": 73,
        "start_time": "2022-11-19T18:36:32.543Z"
      },
      {
        "duration": 15,
        "start_time": "2022-11-19T18:36:39.016Z"
      },
      {
        "duration": 462,
        "start_time": "2022-11-19T19:20:48.113Z"
      },
      {
        "duration": 23,
        "start_time": "2022-11-19T19:20:48.577Z"
      },
      {
        "duration": 17,
        "start_time": "2022-11-19T19:20:48.602Z"
      },
      {
        "duration": 9,
        "start_time": "2022-11-19T19:20:48.621Z"
      },
      {
        "duration": 36,
        "start_time": "2022-11-19T19:20:48.632Z"
      },
      {
        "duration": 3,
        "start_time": "2022-11-19T19:20:48.669Z"
      },
      {
        "duration": 10,
        "start_time": "2022-11-19T19:20:48.674Z"
      },
      {
        "duration": 4,
        "start_time": "2022-11-19T19:20:48.686Z"
      },
      {
        "duration": 8,
        "start_time": "2022-11-19T19:20:48.713Z"
      },
      {
        "duration": 4,
        "start_time": "2022-11-19T19:20:48.723Z"
      },
      {
        "duration": 33,
        "start_time": "2022-11-19T19:20:48.728Z"
      },
      {
        "duration": 9,
        "start_time": "2022-11-19T19:20:48.762Z"
      },
      {
        "duration": 3,
        "start_time": "2022-11-19T19:20:48.772Z"
      },
      {
        "duration": 37,
        "start_time": "2022-11-19T19:20:48.777Z"
      },
      {
        "duration": 19,
        "start_time": "2022-11-19T19:20:48.816Z"
      },
      {
        "duration": 17,
        "start_time": "2022-11-19T19:20:48.837Z"
      },
      {
        "duration": 4,
        "start_time": "2022-11-19T19:20:48.855Z"
      },
      {
        "duration": 12,
        "start_time": "2022-11-19T19:20:48.861Z"
      },
      {
        "duration": 6,
        "start_time": "2022-11-19T19:20:48.875Z"
      },
      {
        "duration": 34,
        "start_time": "2022-11-19T19:20:48.882Z"
      },
      {
        "duration": 11,
        "start_time": "2022-11-19T19:20:48.918Z"
      },
      {
        "duration": 17,
        "start_time": "2022-11-19T19:20:48.931Z"
      },
      {
        "duration": 14,
        "start_time": "2022-11-19T19:20:48.949Z"
      },
      {
        "duration": 13,
        "start_time": "2022-11-19T19:20:48.965Z"
      },
      {
        "duration": 45,
        "start_time": "2022-11-19T19:20:48.980Z"
      },
      {
        "duration": 55,
        "start_time": "2022-11-19T20:32:07.252Z"
      },
      {
        "duration": 45,
        "start_time": "2022-11-19T20:32:33.024Z"
      },
      {
        "duration": 6,
        "start_time": "2022-11-19T20:32:40.647Z"
      },
      {
        "duration": 7,
        "start_time": "2022-11-19T20:33:04.639Z"
      },
      {
        "duration": 661,
        "start_time": "2022-11-19T20:33:33.367Z"
      },
      {
        "duration": 22,
        "start_time": "2022-11-19T20:33:34.030Z"
      },
      {
        "duration": 28,
        "start_time": "2022-11-19T20:33:34.053Z"
      },
      {
        "duration": 37,
        "start_time": "2022-11-19T20:33:34.083Z"
      },
      {
        "duration": 48,
        "start_time": "2022-11-19T20:33:34.121Z"
      },
      {
        "duration": 18,
        "start_time": "2022-11-19T20:33:34.171Z"
      },
      {
        "duration": 31,
        "start_time": "2022-11-19T20:33:34.191Z"
      },
      {
        "duration": 39,
        "start_time": "2022-11-19T20:33:34.223Z"
      },
      {
        "duration": 37,
        "start_time": "2022-11-19T20:33:34.264Z"
      },
      {
        "duration": 7,
        "start_time": "2022-11-19T20:33:34.304Z"
      },
      {
        "duration": 37,
        "start_time": "2022-11-19T20:33:34.313Z"
      },
      {
        "duration": 9,
        "start_time": "2022-11-19T20:33:34.351Z"
      },
      {
        "duration": 6,
        "start_time": "2022-11-19T20:33:34.362Z"
      },
      {
        "duration": 14,
        "start_time": "2022-11-19T20:33:34.369Z"
      },
      {
        "duration": 25,
        "start_time": "2022-11-19T20:33:34.385Z"
      },
      {
        "duration": 29,
        "start_time": "2022-11-19T20:33:34.411Z"
      },
      {
        "duration": 4,
        "start_time": "2022-11-19T20:33:34.441Z"
      },
      {
        "duration": 21,
        "start_time": "2022-11-19T20:33:34.446Z"
      },
      {
        "duration": 18,
        "start_time": "2022-11-19T20:33:34.469Z"
      },
      {
        "duration": 4,
        "start_time": "2022-11-19T20:33:34.489Z"
      },
      {
        "duration": 12,
        "start_time": "2022-11-19T20:33:34.495Z"
      },
      {
        "duration": 19,
        "start_time": "2022-11-19T20:33:34.508Z"
      },
      {
        "duration": 18,
        "start_time": "2022-11-19T20:33:34.529Z"
      },
      {
        "duration": 13,
        "start_time": "2022-11-19T20:33:34.549Z"
      },
      {
        "duration": 24,
        "start_time": "2022-11-19T20:33:34.564Z"
      },
      {
        "duration": 23,
        "start_time": "2022-11-19T20:33:41.194Z"
      },
      {
        "duration": 20,
        "start_time": "2022-11-19T20:34:51.602Z"
      },
      {
        "duration": 19,
        "start_time": "2022-11-19T20:35:06.356Z"
      },
      {
        "duration": 18,
        "start_time": "2022-11-19T20:35:30.060Z"
      },
      {
        "duration": 429,
        "start_time": "2022-11-19T21:53:16.839Z"
      },
      {
        "duration": 21,
        "start_time": "2022-11-19T21:53:17.270Z"
      },
      {
        "duration": 14,
        "start_time": "2022-11-19T21:53:17.292Z"
      },
      {
        "duration": 8,
        "start_time": "2022-11-19T21:53:17.307Z"
      },
      {
        "duration": 30,
        "start_time": "2022-11-19T21:53:17.317Z"
      },
      {
        "duration": 3,
        "start_time": "2022-11-19T21:53:17.349Z"
      },
      {
        "duration": 9,
        "start_time": "2022-11-19T21:53:17.353Z"
      },
      {
        "duration": 4,
        "start_time": "2022-11-19T21:53:17.363Z"
      },
      {
        "duration": 7,
        "start_time": "2022-11-19T21:53:17.368Z"
      },
      {
        "duration": 5,
        "start_time": "2022-11-19T21:53:17.376Z"
      },
      {
        "duration": 59,
        "start_time": "2022-11-19T21:53:17.382Z"
      },
      {
        "duration": 9,
        "start_time": "2022-11-19T21:53:17.442Z"
      },
      {
        "duration": 4,
        "start_time": "2022-11-19T21:53:17.452Z"
      },
      {
        "duration": 11,
        "start_time": "2022-11-19T21:53:17.459Z"
      },
      {
        "duration": 42,
        "start_time": "2022-11-19T21:53:17.471Z"
      },
      {
        "duration": 15,
        "start_time": "2022-11-19T21:53:17.515Z"
      },
      {
        "duration": 3,
        "start_time": "2022-11-19T21:53:17.532Z"
      },
      {
        "duration": 13,
        "start_time": "2022-11-19T21:53:17.536Z"
      },
      {
        "duration": 5,
        "start_time": "2022-11-19T21:53:17.551Z"
      },
      {
        "duration": 4,
        "start_time": "2022-11-19T21:53:17.557Z"
      },
      {
        "duration": 11,
        "start_time": "2022-11-19T21:53:17.563Z"
      },
      {
        "duration": 44,
        "start_time": "2022-11-19T21:53:17.575Z"
      },
      {
        "duration": 19,
        "start_time": "2022-11-19T21:53:17.621Z"
      },
      {
        "duration": 16,
        "start_time": "2022-11-19T21:53:17.642Z"
      },
      {
        "duration": 18,
        "start_time": "2022-11-19T21:53:17.659Z"
      },
      {
        "duration": 4,
        "start_time": "2022-11-19T21:55:56.074Z"
      },
      {
        "duration": 4,
        "start_time": "2022-11-19T21:56:29.904Z"
      },
      {
        "duration": 4,
        "start_time": "2022-11-19T21:56:46.464Z"
      },
      {
        "duration": 4,
        "start_time": "2022-11-19T21:56:56.183Z"
      },
      {
        "duration": 4,
        "start_time": "2022-11-19T21:57:16.504Z"
      },
      {
        "duration": 3,
        "start_time": "2022-11-19T21:57:34.374Z"
      },
      {
        "duration": 3,
        "start_time": "2022-11-19T21:57:43.499Z"
      },
      {
        "duration": 4,
        "start_time": "2022-11-19T22:07:25.003Z"
      },
      {
        "duration": 28,
        "start_time": "2022-11-19T22:07:35.965Z"
      },
      {
        "duration": 47,
        "start_time": "2022-11-20T09:23:45.045Z"
      },
      {
        "duration": 555,
        "start_time": "2022-11-20T09:23:56.872Z"
      },
      {
        "duration": 30,
        "start_time": "2022-11-20T09:23:57.430Z"
      },
      {
        "duration": 20,
        "start_time": "2022-11-20T09:23:57.462Z"
      },
      {
        "duration": 24,
        "start_time": "2022-11-20T09:23:57.484Z"
      },
      {
        "duration": 45,
        "start_time": "2022-11-20T09:23:57.510Z"
      },
      {
        "duration": 4,
        "start_time": "2022-11-20T09:23:57.557Z"
      },
      {
        "duration": 14,
        "start_time": "2022-11-20T09:23:57.563Z"
      },
      {
        "duration": 14,
        "start_time": "2022-11-20T09:23:57.578Z"
      },
      {
        "duration": 18,
        "start_time": "2022-11-20T09:23:57.593Z"
      },
      {
        "duration": 6,
        "start_time": "2022-11-20T09:23:57.613Z"
      },
      {
        "duration": 35,
        "start_time": "2022-11-20T09:23:57.621Z"
      },
      {
        "duration": 12,
        "start_time": "2022-11-20T09:23:57.657Z"
      },
      {
        "duration": 4,
        "start_time": "2022-11-20T09:23:57.671Z"
      },
      {
        "duration": 12,
        "start_time": "2022-11-20T09:23:57.704Z"
      },
      {
        "duration": 21,
        "start_time": "2022-11-20T09:23:57.718Z"
      },
      {
        "duration": 16,
        "start_time": "2022-11-20T09:23:57.741Z"
      },
      {
        "duration": 3,
        "start_time": "2022-11-20T09:23:57.759Z"
      },
      {
        "duration": 29,
        "start_time": "2022-11-20T09:23:57.763Z"
      },
      {
        "duration": 15,
        "start_time": "2022-11-20T09:23:57.794Z"
      },
      {
        "duration": 9,
        "start_time": "2022-11-20T09:23:57.811Z"
      },
      {
        "duration": 19,
        "start_time": "2022-11-20T09:23:57.822Z"
      },
      {
        "duration": 35,
        "start_time": "2022-11-20T09:23:57.843Z"
      },
      {
        "duration": 37,
        "start_time": "2022-11-20T09:23:57.880Z"
      },
      {
        "duration": 18,
        "start_time": "2022-11-20T09:23:57.918Z"
      },
      {
        "duration": 20,
        "start_time": "2022-11-20T09:23:57.938Z"
      },
      {
        "duration": 29,
        "start_time": "2022-11-20T09:24:08.441Z"
      },
      {
        "duration": 31,
        "start_time": "2022-11-20T09:26:14.006Z"
      },
      {
        "duration": 32,
        "start_time": "2022-11-20T09:27:46.418Z"
      },
      {
        "duration": 29,
        "start_time": "2022-11-20T09:30:00.911Z"
      },
      {
        "duration": 30,
        "start_time": "2022-11-20T09:33:23.968Z"
      },
      {
        "duration": 30,
        "start_time": "2022-11-20T09:40:15.440Z"
      },
      {
        "duration": 499,
        "start_time": "2022-11-20T10:57:06.039Z"
      },
      {
        "duration": 23,
        "start_time": "2022-11-20T10:57:06.540Z"
      },
      {
        "duration": 26,
        "start_time": "2022-11-20T10:57:06.564Z"
      },
      {
        "duration": 15,
        "start_time": "2022-11-20T10:57:06.592Z"
      },
      {
        "duration": 35,
        "start_time": "2022-11-20T10:57:06.609Z"
      },
      {
        "duration": 4,
        "start_time": "2022-11-20T10:57:06.646Z"
      },
      {
        "duration": 10,
        "start_time": "2022-11-20T10:57:06.652Z"
      },
      {
        "duration": 15,
        "start_time": "2022-11-20T10:57:06.676Z"
      },
      {
        "duration": 9,
        "start_time": "2022-11-20T10:57:06.693Z"
      },
      {
        "duration": 12,
        "start_time": "2022-11-20T10:57:06.704Z"
      },
      {
        "duration": 43,
        "start_time": "2022-11-20T10:57:06.718Z"
      },
      {
        "duration": 23,
        "start_time": "2022-11-20T10:57:06.763Z"
      },
      {
        "duration": 5,
        "start_time": "2022-11-20T10:57:06.788Z"
      },
      {
        "duration": 11,
        "start_time": "2022-11-20T10:57:06.796Z"
      },
      {
        "duration": 36,
        "start_time": "2022-11-20T10:57:06.809Z"
      },
      {
        "duration": 16,
        "start_time": "2022-11-20T10:57:06.846Z"
      },
      {
        "duration": 4,
        "start_time": "2022-11-20T10:57:06.863Z"
      },
      {
        "duration": 42,
        "start_time": "2022-11-20T10:57:06.868Z"
      },
      {
        "duration": 19,
        "start_time": "2022-11-20T10:57:06.912Z"
      },
      {
        "duration": 15,
        "start_time": "2022-11-20T10:57:06.933Z"
      },
      {
        "duration": 30,
        "start_time": "2022-11-20T10:57:06.950Z"
      },
      {
        "duration": 36,
        "start_time": "2022-11-20T10:57:06.982Z"
      },
      {
        "duration": 29,
        "start_time": "2022-11-20T10:57:07.020Z"
      },
      {
        "duration": 48,
        "start_time": "2022-11-20T10:57:07.051Z"
      },
      {
        "duration": 31,
        "start_time": "2022-11-20T10:57:07.100Z"
      },
      {
        "duration": 4,
        "start_time": "2022-11-20T10:59:28.444Z"
      },
      {
        "duration": 4,
        "start_time": "2022-11-20T11:00:14.288Z"
      },
      {
        "duration": 3,
        "start_time": "2022-11-20T11:01:42.505Z"
      },
      {
        "duration": 5,
        "start_time": "2022-11-20T11:02:30.644Z"
      },
      {
        "duration": 4,
        "start_time": "2022-11-20T11:03:19.424Z"
      },
      {
        "duration": 487,
        "start_time": "2023-07-28T11:40:39.287Z"
      },
      {
        "duration": 176,
        "start_time": "2023-07-28T11:40:42.764Z"
      },
      {
        "duration": 81,
        "start_time": "2023-07-28T11:40:47.816Z"
      },
      {
        "duration": 107,
        "start_time": "2023-07-28T11:42:58.553Z"
      },
      {
        "duration": 82,
        "start_time": "2023-07-28T11:43:07.031Z"
      },
      {
        "duration": 135,
        "start_time": "2023-07-28T11:56:38.433Z"
      },
      {
        "duration": 4,
        "start_time": "2023-07-28T11:56:47.607Z"
      },
      {
        "duration": 4,
        "start_time": "2023-07-28T11:57:14.125Z"
      },
      {
        "duration": 4,
        "start_time": "2023-07-28T11:57:28.001Z"
      },
      {
        "duration": 4,
        "start_time": "2023-07-28T11:57:33.115Z"
      },
      {
        "duration": 5,
        "start_time": "2023-07-28T11:57:39.232Z"
      },
      {
        "duration": 5,
        "start_time": "2023-07-28T11:59:24.018Z"
      },
      {
        "duration": 5,
        "start_time": "2023-07-28T11:59:34.405Z"
      },
      {
        "duration": 5,
        "start_time": "2023-07-28T11:59:47.261Z"
      },
      {
        "duration": 5,
        "start_time": "2023-07-28T12:06:22.269Z"
      },
      {
        "duration": 4,
        "start_time": "2023-07-28T12:06:30.354Z"
      },
      {
        "duration": 4,
        "start_time": "2023-07-28T12:06:39.625Z"
      },
      {
        "duration": 5,
        "start_time": "2023-07-28T12:07:44.965Z"
      },
      {
        "duration": 7,
        "start_time": "2023-07-28T12:08:16.202Z"
      },
      {
        "duration": 108,
        "start_time": "2023-07-28T12:08:31.371Z"
      },
      {
        "duration": 11,
        "start_time": "2023-07-28T12:08:57.963Z"
      },
      {
        "duration": 11,
        "start_time": "2023-07-28T12:09:17.531Z"
      },
      {
        "duration": 12,
        "start_time": "2023-07-28T12:09:35.074Z"
      },
      {
        "duration": 96,
        "start_time": "2023-07-28T12:10:37.708Z"
      },
      {
        "duration": 8,
        "start_time": "2023-07-28T12:10:48.001Z"
      },
      {
        "duration": 5,
        "start_time": "2023-07-28T12:11:10.903Z"
      },
      {
        "duration": 13,
        "start_time": "2023-07-28T12:11:35.275Z"
      },
      {
        "duration": 12,
        "start_time": "2023-07-28T12:11:48.264Z"
      },
      {
        "duration": 5,
        "start_time": "2023-07-28T12:12:02.002Z"
      },
      {
        "duration": 103,
        "start_time": "2023-07-28T12:15:52.145Z"
      },
      {
        "duration": 6,
        "start_time": "2023-07-28T12:16:11.478Z"
      },
      {
        "duration": 91,
        "start_time": "2023-07-28T12:16:34.892Z"
      },
      {
        "duration": 7,
        "start_time": "2023-07-28T12:16:43.594Z"
      },
      {
        "duration": 4,
        "start_time": "2023-07-28T12:16:57.543Z"
      },
      {
        "duration": 6,
        "start_time": "2023-07-28T12:19:12.342Z"
      },
      {
        "duration": 4,
        "start_time": "2023-07-28T12:19:23.551Z"
      },
      {
        "duration": 4,
        "start_time": "2023-07-28T12:19:35.464Z"
      },
      {
        "duration": 5,
        "start_time": "2023-07-28T12:19:41.036Z"
      }
    ],
    "colab": {
      "provenance": []
    },
    "kernelspec": {
      "display_name": "Python 3 (ipykernel)",
      "language": "python",
      "name": "python3"
    },
    "language_info": {
      "codemirror_mode": {
        "name": "ipython",
        "version": 3
      },
      "file_extension": ".py",
      "mimetype": "text/x-python",
      "name": "python",
      "nbconvert_exporter": "python",
      "pygments_lexer": "ipython3",
      "version": "3.9.5"
    },
    "toc": {
      "base_numbering": 1,
      "nav_menu": {},
      "number_sections": true,
      "sideBar": true,
      "skip_h1_title": true,
      "title_cell": "Table of Contents",
      "title_sidebar": "Contents",
      "toc_cell": false,
      "toc_position": {},
      "toc_section_display": true,
      "toc_window_display": false
    }
  },
  "nbformat": 4,
  "nbformat_minor": 5
}