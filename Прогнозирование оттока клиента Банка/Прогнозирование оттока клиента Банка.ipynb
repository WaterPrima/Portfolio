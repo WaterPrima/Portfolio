{
  "cells": [
    {
      "cell_type": "markdown",
      "metadata": {
        "toc": true,
        "id": "JgXlRhhilBfV"
      },
      "source": [
        "# Отток клиентов"
      ]
    },
    {
      "cell_type": "markdown",
      "source": [
        "Из «Бета-Банка» стали уходить клиенты. Каждый месяц. Немного, но заметно. Банковские маркетологи посчитали: сохранять текущих клиентов дешевле, чем привлекать новых.\n",
        "\n",
        "Нужно спрогнозировать, уйдёт клиент из банка в ближайшее время или нет. Вам предоставлены исторические данные о поведении клиентов и расторжении договоров с банком.\n",
        "\n",
        "Постройте модель с предельно большим значением *F1*-меры. Чтобы сдать проект успешно, нужно довести метрику до 0.59. Проверьте *F1*-меру на тестовой выборке самостоятельно.\n",
        "\n",
        "Дополнительно измеряйте *AUC-ROC*, сравнивайте её значение с *F1*-мерой.\n",
        "\n",
        "Источник данных: [https://www.kaggle.com/barelydedicated/bank-customer-churn-modeling](https://www.kaggle.com/barelydedicated/bank-customer-churn-modeling)"
      ],
      "metadata": {
        "id": "MlKAbhkfy4PX"
      }
    },
    {
      "cell_type": "markdown",
      "source": [
        "## <u>План проекта</u>\n",
        "\n",
        "**Подготовка данных:**\n",
        "* Импорт необходимых библиотек;\n",
        "* Изучение датасета, заполнение пропусков, удаление ненужных в обучении моделей данных, составление первых выводов;\n",
        "*Разделение данных на выборки - тренировочная, тестовая, валидационная;\n",
        "* Преобразование категориальных данных в численные.\n",
        "\n",
        "**Исследование задачи:**\n",
        "* DecisionTreeClassifier;\n",
        "* RandomForestClassifier;\n",
        "* LogisticRegression.\n",
        "\n",
        "**Борьба с дисбалансом:**\n",
        "* Оценка соотношений ответов;\n",
        "* Увеличение выборки на моделях;\n",
        "* Уменьшение выборки на моделях;\n",
        "* Сдвиг порога.\n",
        "\n",
        "**Проверка лучшей модели на тестовой выборке**\n",
        "\n",
        "**Итоги работы**"
      ],
      "metadata": {
        "id": "d1UCLGQRlLZa"
      }
    },
    {
      "cell_type": "markdown",
      "metadata": {
        "id": "c2qJVjySlBfY"
      },
      "source": [
        "## Подготовка данных"
      ]
    },
    {
      "cell_type": "markdown",
      "source": [
        "* Импортируем библиотеки\n",
        "* Знакомимся с данными\n",
        "* Смотрим пропущенные значенния и заполняем их средним медианным + меняем тип данных"
      ],
      "metadata": {
        "id": "_n-E6Szzlcuj"
      }
    },
    {
      "cell_type": "code",
      "execution_count": 1,
      "metadata": {
        "id": "RlDr3EkElBfZ"
      },
      "outputs": [],
      "source": [
        "#!pip install scikit-learn==1.1.3\n",
        "\n",
        "import pandas as pd\n",
        "import numpy as np\n",
        "import matplotlib.pyplot as plt\n",
        "\n",
        "from sklearn.model_selection import train_test_split\n",
        "from sklearn.linear_model import LogisticRegression\n",
        "from sklearn.tree import DecisionTreeClassifier\n",
        "from sklearn.ensemble import RandomForestClassifier\n",
        "from sklearn.utils import shuffle\n",
        "from sklearn.dummy import DummyClassifier\n",
        "\n",
        "from sklearn.preprocessing import(OneHotEncoder,\n",
        "                                 StandardScaler)\n",
        "\n",
        "from sklearn.metrics import(accuracy_score,\n",
        "                           confusion_matrix,\n",
        "                           f1_score,\n",
        "                           precision_score, recall_score,\n",
        "                           precision_recall_curve,\n",
        "                           roc_curve,\n",
        "                           roc_auc_score)\n",
        "\n",
        "import warnings\n",
        "warnings.filterwarnings(\"ignore\")"
      ]
    },
    {
      "cell_type": "code",
      "execution_count": 2,
      "metadata": {
        "id": "kF9-bBZNlBff",
        "outputId": "a7ed7ade-47f7-49ed-d619-9ea30dce81d4",
        "colab": {
          "base_uri": "https://localhost:8080/",
          "height": 206
        }
      },
      "outputs": [
        {
          "output_type": "display_data",
          "data": {
            "text/plain": [
              "   RowNumber  CustomerId   Surname  CreditScore Geography  Gender  Age  \\\n",
              "0          1    15634602  Hargrave          619    France  Female   42   \n",
              "1          2    15647311      Hill          608     Spain  Female   41   \n",
              "2          3    15619304      Onio          502    France  Female   42   \n",
              "3          4    15701354      Boni          699    France  Female   39   \n",
              "4          5    15737888  Mitchell          850     Spain  Female   43   \n",
              "\n",
              "   Tenure    Balance  NumOfProducts  HasCrCard  IsActiveMember  \\\n",
              "0     2.0       0.00              1          1               1   \n",
              "1     1.0   83807.86              1          0               1   \n",
              "2     8.0  159660.80              3          1               0   \n",
              "3     1.0       0.00              2          0               0   \n",
              "4     2.0  125510.82              1          1               1   \n",
              "\n",
              "   EstimatedSalary  Exited  \n",
              "0        101348.88       1  \n",
              "1        112542.58       0  \n",
              "2        113931.57       1  \n",
              "3         93826.63       0  \n",
              "4         79084.10       0  "
            ],
            "text/html": [
              "\n",
              "\n",
              "  <div id=\"df-46076a05-668b-4f1a-bed4-fa458dbcbf3a\">\n",
              "    <div class=\"colab-df-container\">\n",
              "      <div>\n",
              "<style scoped>\n",
              "    .dataframe tbody tr th:only-of-type {\n",
              "        vertical-align: middle;\n",
              "    }\n",
              "\n",
              "    .dataframe tbody tr th {\n",
              "        vertical-align: top;\n",
              "    }\n",
              "\n",
              "    .dataframe thead th {\n",
              "        text-align: right;\n",
              "    }\n",
              "</style>\n",
              "<table border=\"1\" class=\"dataframe\">\n",
              "  <thead>\n",
              "    <tr style=\"text-align: right;\">\n",
              "      <th></th>\n",
              "      <th>RowNumber</th>\n",
              "      <th>CustomerId</th>\n",
              "      <th>Surname</th>\n",
              "      <th>CreditScore</th>\n",
              "      <th>Geography</th>\n",
              "      <th>Gender</th>\n",
              "      <th>Age</th>\n",
              "      <th>Tenure</th>\n",
              "      <th>Balance</th>\n",
              "      <th>NumOfProducts</th>\n",
              "      <th>HasCrCard</th>\n",
              "      <th>IsActiveMember</th>\n",
              "      <th>EstimatedSalary</th>\n",
              "      <th>Exited</th>\n",
              "    </tr>\n",
              "  </thead>\n",
              "  <tbody>\n",
              "    <tr>\n",
              "      <th>0</th>\n",
              "      <td>1</td>\n",
              "      <td>15634602</td>\n",
              "      <td>Hargrave</td>\n",
              "      <td>619</td>\n",
              "      <td>France</td>\n",
              "      <td>Female</td>\n",
              "      <td>42</td>\n",
              "      <td>2.0</td>\n",
              "      <td>0.00</td>\n",
              "      <td>1</td>\n",
              "      <td>1</td>\n",
              "      <td>1</td>\n",
              "      <td>101348.88</td>\n",
              "      <td>1</td>\n",
              "    </tr>\n",
              "    <tr>\n",
              "      <th>1</th>\n",
              "      <td>2</td>\n",
              "      <td>15647311</td>\n",
              "      <td>Hill</td>\n",
              "      <td>608</td>\n",
              "      <td>Spain</td>\n",
              "      <td>Female</td>\n",
              "      <td>41</td>\n",
              "      <td>1.0</td>\n",
              "      <td>83807.86</td>\n",
              "      <td>1</td>\n",
              "      <td>0</td>\n",
              "      <td>1</td>\n",
              "      <td>112542.58</td>\n",
              "      <td>0</td>\n",
              "    </tr>\n",
              "    <tr>\n",
              "      <th>2</th>\n",
              "      <td>3</td>\n",
              "      <td>15619304</td>\n",
              "      <td>Onio</td>\n",
              "      <td>502</td>\n",
              "      <td>France</td>\n",
              "      <td>Female</td>\n",
              "      <td>42</td>\n",
              "      <td>8.0</td>\n",
              "      <td>159660.80</td>\n",
              "      <td>3</td>\n",
              "      <td>1</td>\n",
              "      <td>0</td>\n",
              "      <td>113931.57</td>\n",
              "      <td>1</td>\n",
              "    </tr>\n",
              "    <tr>\n",
              "      <th>3</th>\n",
              "      <td>4</td>\n",
              "      <td>15701354</td>\n",
              "      <td>Boni</td>\n",
              "      <td>699</td>\n",
              "      <td>France</td>\n",
              "      <td>Female</td>\n",
              "      <td>39</td>\n",
              "      <td>1.0</td>\n",
              "      <td>0.00</td>\n",
              "      <td>2</td>\n",
              "      <td>0</td>\n",
              "      <td>0</td>\n",
              "      <td>93826.63</td>\n",
              "      <td>0</td>\n",
              "    </tr>\n",
              "    <tr>\n",
              "      <th>4</th>\n",
              "      <td>5</td>\n",
              "      <td>15737888</td>\n",
              "      <td>Mitchell</td>\n",
              "      <td>850</td>\n",
              "      <td>Spain</td>\n",
              "      <td>Female</td>\n",
              "      <td>43</td>\n",
              "      <td>2.0</td>\n",
              "      <td>125510.82</td>\n",
              "      <td>1</td>\n",
              "      <td>1</td>\n",
              "      <td>1</td>\n",
              "      <td>79084.10</td>\n",
              "      <td>0</td>\n",
              "    </tr>\n",
              "  </tbody>\n",
              "</table>\n",
              "</div>\n",
              "      <button class=\"colab-df-convert\" onclick=\"convertToInteractive('df-46076a05-668b-4f1a-bed4-fa458dbcbf3a')\"\n",
              "              title=\"Convert this dataframe to an interactive table.\"\n",
              "              style=\"display:none;\">\n",
              "\n",
              "  <svg xmlns=\"http://www.w3.org/2000/svg\" height=\"24px\"viewBox=\"0 0 24 24\"\n",
              "       width=\"24px\">\n",
              "    <path d=\"M0 0h24v24H0V0z\" fill=\"none\"/>\n",
              "    <path d=\"M18.56 5.44l.94 2.06.94-2.06 2.06-.94-2.06-.94-.94-2.06-.94 2.06-2.06.94zm-11 1L8.5 8.5l.94-2.06 2.06-.94-2.06-.94L8.5 2.5l-.94 2.06-2.06.94zm10 10l.94 2.06.94-2.06 2.06-.94-2.06-.94-.94-2.06-.94 2.06-2.06.94z\"/><path d=\"M17.41 7.96l-1.37-1.37c-.4-.4-.92-.59-1.43-.59-.52 0-1.04.2-1.43.59L10.3 9.45l-7.72 7.72c-.78.78-.78 2.05 0 2.83L4 21.41c.39.39.9.59 1.41.59.51 0 1.02-.2 1.41-.59l7.78-7.78 2.81-2.81c.8-.78.8-2.07 0-2.86zM5.41 20L4 18.59l7.72-7.72 1.47 1.35L5.41 20z\"/>\n",
              "  </svg>\n",
              "      </button>\n",
              "\n",
              "\n",
              "\n",
              "    <div id=\"df-c8b66043-acab-4508-988b-e713f63638ef\">\n",
              "      <button class=\"colab-df-quickchart\" onclick=\"quickchart('df-c8b66043-acab-4508-988b-e713f63638ef')\"\n",
              "              title=\"Suggest charts.\"\n",
              "              style=\"display:none;\">\n",
              "\n",
              "<svg xmlns=\"http://www.w3.org/2000/svg\" height=\"24px\"viewBox=\"0 0 24 24\"\n",
              "     width=\"24px\">\n",
              "    <g>\n",
              "        <path d=\"M19 3H5c-1.1 0-2 .9-2 2v14c0 1.1.9 2 2 2h14c1.1 0 2-.9 2-2V5c0-1.1-.9-2-2-2zM9 17H7v-7h2v7zm4 0h-2V7h2v10zm4 0h-2v-4h2v4z\"/>\n",
              "    </g>\n",
              "</svg>\n",
              "      </button>\n",
              "    </div>\n",
              "\n",
              "<style>\n",
              "  .colab-df-quickchart {\n",
              "    background-color: #E8F0FE;\n",
              "    border: none;\n",
              "    border-radius: 50%;\n",
              "    cursor: pointer;\n",
              "    display: none;\n",
              "    fill: #1967D2;\n",
              "    height: 32px;\n",
              "    padding: 0 0 0 0;\n",
              "    width: 32px;\n",
              "  }\n",
              "\n",
              "  .colab-df-quickchart:hover {\n",
              "    background-color: #E2EBFA;\n",
              "    box-shadow: 0px 1px 2px rgba(60, 64, 67, 0.3), 0px 1px 3px 1px rgba(60, 64, 67, 0.15);\n",
              "    fill: #174EA6;\n",
              "  }\n",
              "\n",
              "  [theme=dark] .colab-df-quickchart {\n",
              "    background-color: #3B4455;\n",
              "    fill: #D2E3FC;\n",
              "  }\n",
              "\n",
              "  [theme=dark] .colab-df-quickchart:hover {\n",
              "    background-color: #434B5C;\n",
              "    box-shadow: 0px 1px 3px 1px rgba(0, 0, 0, 0.15);\n",
              "    filter: drop-shadow(0px 1px 2px rgba(0, 0, 0, 0.3));\n",
              "    fill: #FFFFFF;\n",
              "  }\n",
              "</style>\n",
              "\n",
              "    <script>\n",
              "      async function quickchart(key) {\n",
              "        const containerElement = document.querySelector('#' + key);\n",
              "        const charts = await google.colab.kernel.invokeFunction(\n",
              "            'suggestCharts', [key], {});\n",
              "      }\n",
              "    </script>\n",
              "\n",
              "      <script>\n",
              "\n",
              "function displayQuickchartButton(domScope) {\n",
              "  let quickchartButtonEl =\n",
              "    domScope.querySelector('#df-c8b66043-acab-4508-988b-e713f63638ef button.colab-df-quickchart');\n",
              "  quickchartButtonEl.style.display =\n",
              "    google.colab.kernel.accessAllowed ? 'block' : 'none';\n",
              "}\n",
              "\n",
              "        displayQuickchartButton(document);\n",
              "      </script>\n",
              "      <style>\n",
              "    .colab-df-container {\n",
              "      display:flex;\n",
              "      flex-wrap:wrap;\n",
              "      gap: 12px;\n",
              "    }\n",
              "\n",
              "    .colab-df-convert {\n",
              "      background-color: #E8F0FE;\n",
              "      border: none;\n",
              "      border-radius: 50%;\n",
              "      cursor: pointer;\n",
              "      display: none;\n",
              "      fill: #1967D2;\n",
              "      height: 32px;\n",
              "      padding: 0 0 0 0;\n",
              "      width: 32px;\n",
              "    }\n",
              "\n",
              "    .colab-df-convert:hover {\n",
              "      background-color: #E2EBFA;\n",
              "      box-shadow: 0px 1px 2px rgba(60, 64, 67, 0.3), 0px 1px 3px 1px rgba(60, 64, 67, 0.15);\n",
              "      fill: #174EA6;\n",
              "    }\n",
              "\n",
              "    [theme=dark] .colab-df-convert {\n",
              "      background-color: #3B4455;\n",
              "      fill: #D2E3FC;\n",
              "    }\n",
              "\n",
              "    [theme=dark] .colab-df-convert:hover {\n",
              "      background-color: #434B5C;\n",
              "      box-shadow: 0px 1px 3px 1px rgba(0, 0, 0, 0.15);\n",
              "      filter: drop-shadow(0px 1px 2px rgba(0, 0, 0, 0.3));\n",
              "      fill: #FFFFFF;\n",
              "    }\n",
              "  </style>\n",
              "\n",
              "      <script>\n",
              "        const buttonEl =\n",
              "          document.querySelector('#df-46076a05-668b-4f1a-bed4-fa458dbcbf3a button.colab-df-convert');\n",
              "        buttonEl.style.display =\n",
              "          google.colab.kernel.accessAllowed ? 'block' : 'none';\n",
              "\n",
              "        async function convertToInteractive(key) {\n",
              "          const element = document.querySelector('#df-46076a05-668b-4f1a-bed4-fa458dbcbf3a');\n",
              "          const dataTable =\n",
              "            await google.colab.kernel.invokeFunction('convertToInteractive',\n",
              "                                                     [key], {});\n",
              "          if (!dataTable) return;\n",
              "\n",
              "          const docLinkHtml = 'Like what you see? Visit the ' +\n",
              "            '<a target=\"_blank\" href=https://colab.research.google.com/notebooks/data_table.ipynb>data table notebook</a>'\n",
              "            + ' to learn more about interactive tables.';\n",
              "          element.innerHTML = '';\n",
              "          dataTable['output_type'] = 'display_data';\n",
              "          await google.colab.output.renderOutput(dataTable, element);\n",
              "          const docLink = document.createElement('div');\n",
              "          docLink.innerHTML = docLinkHtml;\n",
              "          element.appendChild(docLink);\n",
              "        }\n",
              "      </script>\n",
              "    </div>\n",
              "  </div>\n"
            ]
          },
          "metadata": {}
        }
      ],
      "source": [
        "data = pd.read_csv('//content/Churn.csv')\n",
        "display(data.head())"
      ]
    },
    {
      "cell_type": "code",
      "execution_count": 3,
      "metadata": {
        "id": "EvpAl5zSlBfg",
        "outputId": "fcf6a8ff-aa5f-4206-f930-d23b014afde2",
        "colab": {
          "base_uri": "https://localhost:8080/"
        }
      },
      "outputs": [
        {
          "output_type": "stream",
          "name": "stdout",
          "text": [
            "<class 'pandas.core.frame.DataFrame'>\n",
            "RangeIndex: 10000 entries, 0 to 9999\n",
            "Data columns (total 14 columns):\n",
            " #   Column           Non-Null Count  Dtype  \n",
            "---  ------           --------------  -----  \n",
            " 0   RowNumber        10000 non-null  int64  \n",
            " 1   CustomerId       10000 non-null  int64  \n",
            " 2   Surname          10000 non-null  object \n",
            " 3   CreditScore      10000 non-null  int64  \n",
            " 4   Geography        10000 non-null  object \n",
            " 5   Gender           10000 non-null  object \n",
            " 6   Age              10000 non-null  int64  \n",
            " 7   Tenure           9091 non-null   float64\n",
            " 8   Balance          10000 non-null  float64\n",
            " 9   NumOfProducts    10000 non-null  int64  \n",
            " 10  HasCrCard        10000 non-null  int64  \n",
            " 11  IsActiveMember   10000 non-null  int64  \n",
            " 12  EstimatedSalary  10000 non-null  float64\n",
            " 13  Exited           10000 non-null  int64  \n",
            "dtypes: float64(3), int64(8), object(3)\n",
            "memory usage: 1.1+ MB\n"
          ]
        }
      ],
      "source": [
        "data.isna().sum()\n",
        "data.info()"
      ]
    },
    {
      "cell_type": "code",
      "execution_count": 4,
      "metadata": {
        "id": "JEAnzfR5lBfh"
      },
      "outputs": [],
      "source": [
        "data['Tenure']=data['Tenure'].fillna(data['Tenure'].median()).astype('int64')"
      ]
    },
    {
      "cell_type": "code",
      "execution_count": 5,
      "metadata": {
        "scrolled": false,
        "id": "wkej86b_lBfi",
        "outputId": "0c2a3042-5718-46b7-ff7a-95c839a5f602",
        "colab": {
          "base_uri": "https://localhost:8080/",
          "height": 1000
        }
      },
      "outputs": [
        {
          "output_type": "display_data",
          "data": {
            "text/plain": [
              "<Figure size 300x300 with 1 Axes>"
            ],
            "image/png": "[encoded data removed]"
          },
          "metadata": {}
        },
        {
          "output_type": "display_data",
          "data": {
            "text/plain": [
              "            CustomerId\n",
              "Geography             \n",
              "France     78672919670\n",
              "Germany    39367604133\n",
              "Spain      38868881891"
            ],
            "text/html": [
              "\n",
              "\n",
              "  <div id=\"df-f9e99131-886d-4cf8-86f2-df9f0b51c366\">\n",
              "    <div class=\"colab-df-container\">\n",
              "      <div>\n",
              "<style scoped>\n",
              "    .dataframe tbody tr th:only-of-type {\n",
              "        vertical-align: middle;\n",
              "    }\n",
              "\n",
              "    .dataframe tbody tr th {\n",
              "        vertical-align: top;\n",
              "    }\n",
              "\n",
              "    .dataframe thead th {\n",
              "        text-align: right;\n",
              "    }\n",
              "</style>\n",
              "<table border=\"1\" class=\"dataframe\">\n",
              "  <thead>\n",
              "    <tr style=\"text-align: right;\">\n",
              "      <th></th>\n",
              "      <th>CustomerId</th>\n",
              "    </tr>\n",
              "    <tr>\n",
              "      <th>Geography</th>\n",
              "      <th></th>\n",
              "    </tr>\n",
              "  </thead>\n",
              "  <tbody>\n",
              "    <tr>\n",
              "      <th>France</th>\n",
              "      <td>78672919670</td>\n",
              "    </tr>\n",
              "    <tr>\n",
              "      <th>Germany</th>\n",
              "      <td>39367604133</td>\n",
              "    </tr>\n",
              "    <tr>\n",
              "      <th>Spain</th>\n",
              "      <td>38868881891</td>\n",
              "    </tr>\n",
              "  </tbody>\n",
              "</table>\n",
              "</div>\n",
              "      <button class=\"colab-df-convert\" onclick=\"convertToInteractive('df-f9e99131-886d-4cf8-86f2-df9f0b51c366')\"\n",
              "              title=\"Convert this dataframe to an interactive table.\"\n",
              "              style=\"display:none;\">\n",
              "\n",
              "  <svg xmlns=\"http://www.w3.org/2000/svg\" height=\"24px\"viewBox=\"0 0 24 24\"\n",
              "       width=\"24px\">\n",
              "    <path d=\"M0 0h24v24H0V0z\" fill=\"none\"/>\n",
              "    <path d=\"M18.56 5.44l.94 2.06.94-2.06 2.06-.94-2.06-.94-.94-2.06-.94 2.06-2.06.94zm-11 1L8.5 8.5l.94-2.06 2.06-.94-2.06-.94L8.5 2.5l-.94 2.06-2.06.94zm10 10l.94 2.06.94-2.06 2.06-.94-2.06-.94-.94-2.06-.94 2.06-2.06.94z\"/><path d=\"M17.41 7.96l-1.37-1.37c-.4-.4-.92-.59-1.43-.59-.52 0-1.04.2-1.43.59L10.3 9.45l-7.72 7.72c-.78.78-.78 2.05 0 2.83L4 21.41c.39.39.9.59 1.41.59.51 0 1.02-.2 1.41-.59l7.78-7.78 2.81-2.81c.8-.78.8-2.07 0-2.86zM5.41 20L4 18.59l7.72-7.72 1.47 1.35L5.41 20z\"/>\n",
              "  </svg>\n",
              "      </button>\n",
              "\n",
              "\n",
              "\n",
              "    <div id=\"df-6da957eb-e131-403b-8a64-5180ec23e8aa\">\n",
              "      <button class=\"colab-df-quickchart\" onclick=\"quickchart('df-6da957eb-e131-403b-8a64-5180ec23e8aa')\"\n",
              "              title=\"Suggest charts.\"\n",
              "              style=\"display:none;\">\n",
              "\n",
              "<svg xmlns=\"http://www.w3.org/2000/svg\" height=\"24px\"viewBox=\"0 0 24 24\"\n",
              "     width=\"24px\">\n",
              "    <g>\n",
              "        <path d=\"M19 3H5c-1.1 0-2 .9-2 2v14c0 1.1.9 2 2 2h14c1.1 0 2-.9 2-2V5c0-1.1-.9-2-2-2zM9 17H7v-7h2v7zm4 0h-2V7h2v10zm4 0h-2v-4h2v4z\"/>\n",
              "    </g>\n",
              "</svg>\n",
              "      </button>\n",
              "    </div>\n",
              "\n",
              "<style>\n",
              "  .colab-df-quickchart {\n",
              "    background-color: #E8F0FE;\n",
              "    border: none;\n",
              "    border-radius: 50%;\n",
              "    cursor: pointer;\n",
              "    display: none;\n",
              "    fill: #1967D2;\n",
              "    height: 32px;\n",
              "    padding: 0 0 0 0;\n",
              "    width: 32px;\n",
              "  }\n",
              "\n",
              "  .colab-df-quickchart:hover {\n",
              "    background-color: #E2EBFA;\n",
              "    box-shadow: 0px 1px 2px rgba(60, 64, 67, 0.3), 0px 1px 3px 1px rgba(60, 64, 67, 0.15);\n",
              "    fill: #174EA6;\n",
              "  }\n",
              "\n",
              "  [theme=dark] .colab-df-quickchart {\n",
              "    background-color: #3B4455;\n",
              "    fill: #D2E3FC;\n",
              "  }\n",
              "\n",
              "  [theme=dark] .colab-df-quickchart:hover {\n",
              "    background-color: #434B5C;\n",
              "    box-shadow: 0px 1px 3px 1px rgba(0, 0, 0, 0.15);\n",
              "    filter: drop-shadow(0px 1px 2px rgba(0, 0, 0, 0.3));\n",
              "    fill: #FFFFFF;\n",
              "  }\n",
              "</style>\n",
              "\n",
              "    <script>\n",
              "      async function quickchart(key) {\n",
              "        const containerElement = document.querySelector('#' + key);\n",
              "        const charts = await google.colab.kernel.invokeFunction(\n",
              "            'suggestCharts', [key], {});\n",
              "      }\n",
              "    </script>\n",
              "\n",
              "      <script>\n",
              "\n",
              "function displayQuickchartButton(domScope) {\n",
              "  let quickchartButtonEl =\n",
              "    domScope.querySelector('#df-6da957eb-e131-403b-8a64-5180ec23e8aa button.colab-df-quickchart');\n",
              "  quickchartButtonEl.style.display =\n",
              "    google.colab.kernel.accessAllowed ? 'block' : 'none';\n",
              "}\n",
              "\n",
              "        displayQuickchartButton(document);\n",
              "      </script>\n",
              "      <style>\n",
              "    .colab-df-container {\n",
              "      display:flex;\n",
              "      flex-wrap:wrap;\n",
              "      gap: 12px;\n",
              "    }\n",
              "\n",
              "    .colab-df-convert {\n",
              "      background-color: #E8F0FE;\n",
              "      border: none;\n",
              "      border-radius: 50%;\n",
              "      cursor: pointer;\n",
              "      display: none;\n",
              "      fill: #1967D2;\n",
              "      height: 32px;\n",
              "      padding: 0 0 0 0;\n",
              "      width: 32px;\n",
              "    }\n",
              "\n",
              "    .colab-df-convert:hover {\n",
              "      background-color: #E2EBFA;\n",
              "      box-shadow: 0px 1px 2px rgba(60, 64, 67, 0.3), 0px 1px 3px 1px rgba(60, 64, 67, 0.15);\n",
              "      fill: #174EA6;\n",
              "    }\n",
              "\n",
              "    [theme=dark] .colab-df-convert {\n",
              "      background-color: #3B4455;\n",
              "      fill: #D2E3FC;\n",
              "    }\n",
              "\n",
              "    [theme=dark] .colab-df-convert:hover {\n",
              "      background-color: #434B5C;\n",
              "      box-shadow: 0px 1px 3px 1px rgba(0, 0, 0, 0.15);\n",
              "      filter: drop-shadow(0px 1px 2px rgba(0, 0, 0, 0.3));\n",
              "      fill: #FFFFFF;\n",
              "    }\n",
              "  </style>\n",
              "\n",
              "      <script>\n",
              "        const buttonEl =\n",
              "          document.querySelector('#df-f9e99131-886d-4cf8-86f2-df9f0b51c366 button.colab-df-convert');\n",
              "        buttonEl.style.display =\n",
              "          google.colab.kernel.accessAllowed ? 'block' : 'none';\n",
              "\n",
              "        async function convertToInteractive(key) {\n",
              "          const element = document.querySelector('#df-f9e99131-886d-4cf8-86f2-df9f0b51c366');\n",
              "          const dataTable =\n",
              "            await google.colab.kernel.invokeFunction('convertToInteractive',\n",
              "                                                     [key], {});\n",
              "          if (!dataTable) return;\n",
              "\n",
              "          const docLinkHtml = 'Like what you see? Visit the ' +\n",
              "            '<a target=\"_blank\" href=https://colab.research.google.com/notebooks/data_table.ipynb>data table notebook</a>'\n",
              "            + ' to learn more about interactive tables.';\n",
              "          element.innerHTML = '';\n",
              "          dataTable['output_type'] = 'display_data';\n",
              "          await google.colab.output.renderOutput(dataTable, element);\n",
              "          const docLink = document.createElement('div');\n",
              "          docLink.innerHTML = docLinkHtml;\n",
              "          element.appendChild(docLink);\n",
              "        }\n",
              "      </script>\n",
              "    </div>\n",
              "  </div>\n"
            ]
          },
          "metadata": {}
        },
        {
          "output_type": "display_data",
          "data": {
            "text/plain": [
              "<Figure size 300x300 with 1 Axes>"
            ],
            "image/png": "[encoded data removed]"
          },
          "metadata": {}
        },
        {
          "output_type": "display_data",
          "data": {
            "text/plain": [
              "         CustomerId\n",
              "Gender             \n",
              "Female  71284888959\n",
              "Male    85624516735"
            ],
            "text/html": [
              "\n",
              "\n",
              "  <div id=\"df-27610bde-8406-457a-a2d2-1d64e0481cc6\">\n",
              "    <div class=\"colab-df-container\">\n",
              "      <div>\n",
              "<style scoped>\n",
              "    .dataframe tbody tr th:only-of-type {\n",
              "        vertical-align: middle;\n",
              "    }\n",
              "\n",
              "    .dataframe tbody tr th {\n",
              "        vertical-align: top;\n",
              "    }\n",
              "\n",
              "    .dataframe thead th {\n",
              "        text-align: right;\n",
              "    }\n",
              "</style>\n",
              "<table border=\"1\" class=\"dataframe\">\n",
              "  <thead>\n",
              "    <tr style=\"text-align: right;\">\n",
              "      <th></th>\n",
              "      <th>CustomerId</th>\n",
              "    </tr>\n",
              "    <tr>\n",
              "      <th>Gender</th>\n",
              "      <th></th>\n",
              "    </tr>\n",
              "  </thead>\n",
              "  <tbody>\n",
              "    <tr>\n",
              "      <th>Female</th>\n",
              "      <td>71284888959</td>\n",
              "    </tr>\n",
              "    <tr>\n",
              "      <th>Male</th>\n",
              "      <td>85624516735</td>\n",
              "    </tr>\n",
              "  </tbody>\n",
              "</table>\n",
              "</div>\n",
              "      <button class=\"colab-df-convert\" onclick=\"convertToInteractive('df-27610bde-8406-457a-a2d2-1d64e0481cc6')\"\n",
              "              title=\"Convert this dataframe to an interactive table.\"\n",
              "              style=\"display:none;\">\n",
              "\n",
              "  <svg xmlns=\"http://www.w3.org/2000/svg\" height=\"24px\"viewBox=\"0 0 24 24\"\n",
              "       width=\"24px\">\n",
              "    <path d=\"M0 0h24v24H0V0z\" fill=\"none\"/>\n",
              "    <path d=\"M18.56 5.44l.94 2.06.94-2.06 2.06-.94-2.06-.94-.94-2.06-.94 2.06-2.06.94zm-11 1L8.5 8.5l.94-2.06 2.06-.94-2.06-.94L8.5 2.5l-.94 2.06-2.06.94zm10 10l.94 2.06.94-2.06 2.06-.94-2.06-.94-.94-2.06-.94 2.06-2.06.94z\"/><path d=\"M17.41 7.96l-1.37-1.37c-.4-.4-.92-.59-1.43-.59-.52 0-1.04.2-1.43.59L10.3 9.45l-7.72 7.72c-.78.78-.78 2.05 0 2.83L4 21.41c.39.39.9.59 1.41.59.51 0 1.02-.2 1.41-.59l7.78-7.78 2.81-2.81c.8-.78.8-2.07 0-2.86zM5.41 20L4 18.59l7.72-7.72 1.47 1.35L5.41 20z\"/>\n",
              "  </svg>\n",
              "      </button>\n",
              "\n",
              "\n",
              "\n",
              "    <div id=\"df-5dd2f383-8d9a-4ee0-8a22-a0c9126bc7fc\">\n",
              "      <button class=\"colab-df-quickchart\" onclick=\"quickchart('df-5dd2f383-8d9a-4ee0-8a22-a0c9126bc7fc')\"\n",
              "              title=\"Suggest charts.\"\n",
              "              style=\"display:none;\">\n",
              "\n",
              "<svg xmlns=\"http://www.w3.org/2000/svg\" height=\"24px\"viewBox=\"0 0 24 24\"\n",
              "     width=\"24px\">\n",
              "    <g>\n",
              "        <path d=\"M19 3H5c-1.1 0-2 .9-2 2v14c0 1.1.9 2 2 2h14c1.1 0 2-.9 2-2V5c0-1.1-.9-2-2-2zM9 17H7v-7h2v7zm4 0h-2V7h2v10zm4 0h-2v-4h2v4z\"/>\n",
              "    </g>\n",
              "</svg>\n",
              "      </button>\n",
              "    </div>\n",
              "\n",
              "<style>\n",
              "  .colab-df-quickchart {\n",
              "    background-color: #E8F0FE;\n",
              "    border: none;\n",
              "    border-radius: 50%;\n",
              "    cursor: pointer;\n",
              "    display: none;\n",
              "    fill: #1967D2;\n",
              "    height: 32px;\n",
              "    padding: 0 0 0 0;\n",
              "    width: 32px;\n",
              "  }\n",
              "\n",
              "  .colab-df-quickchart:hover {\n",
              "    background-color: #E2EBFA;\n",
              "    box-shadow: 0px 1px 2px rgba(60, 64, 67, 0.3), 0px 1px 3px 1px rgba(60, 64, 67, 0.15);\n",
              "    fill: #174EA6;\n",
              "  }\n",
              "\n",
              "  [theme=dark] .colab-df-quickchart {\n",
              "    background-color: #3B4455;\n",
              "    fill: #D2E3FC;\n",
              "  }\n",
              "\n",
              "  [theme=dark] .colab-df-quickchart:hover {\n",
              "    background-color: #434B5C;\n",
              "    box-shadow: 0px 1px 3px 1px rgba(0, 0, 0, 0.15);\n",
              "    filter: drop-shadow(0px 1px 2px rgba(0, 0, 0, 0.3));\n",
              "    fill: #FFFFFF;\n",
              "  }\n",
              "</style>\n",
              "\n",
              "    <script>\n",
              "      async function quickchart(key) {\n",
              "        const containerElement = document.querySelector('#' + key);\n",
              "        const charts = await google.colab.kernel.invokeFunction(\n",
              "            'suggestCharts', [key], {});\n",
              "      }\n",
              "    </script>\n",
              "\n",
              "      <script>\n",
              "\n",
              "function displayQuickchartButton(domScope) {\n",
              "  let quickchartButtonEl =\n",
              "    domScope.querySelector('#df-5dd2f383-8d9a-4ee0-8a22-a0c9126bc7fc button.colab-df-quickchart');\n",
              "  quickchartButtonEl.style.display =\n",
              "    google.colab.kernel.accessAllowed ? 'block' : 'none';\n",
              "}\n",
              "\n",
              "        displayQuickchartButton(document);\n",
              "      </script>\n",
              "      <style>\n",
              "    .colab-df-container {\n",
              "      display:flex;\n",
              "      flex-wrap:wrap;\n",
              "      gap: 12px;\n",
              "    }\n",
              "\n",
              "    .colab-df-convert {\n",
              "      background-color: #E8F0FE;\n",
              "      border: none;\n",
              "      border-radius: 50%;\n",
              "      cursor: pointer;\n",
              "      display: none;\n",
              "      fill: #1967D2;\n",
              "      height: 32px;\n",
              "      padding: 0 0 0 0;\n",
              "      width: 32px;\n",
              "    }\n",
              "\n",
              "    .colab-df-convert:hover {\n",
              "      background-color: #E2EBFA;\n",
              "      box-shadow: 0px 1px 2px rgba(60, 64, 67, 0.3), 0px 1px 3px 1px rgba(60, 64, 67, 0.15);\n",
              "      fill: #174EA6;\n",
              "    }\n",
              "\n",
              "    [theme=dark] .colab-df-convert {\n",
              "      background-color: #3B4455;\n",
              "      fill: #D2E3FC;\n",
              "    }\n",
              "\n",
              "    [theme=dark] .colab-df-convert:hover {\n",
              "      background-color: #434B5C;\n",
              "      box-shadow: 0px 1px 3px 1px rgba(0, 0, 0, 0.15);\n",
              "      filter: drop-shadow(0px 1px 2px rgba(0, 0, 0, 0.3));\n",
              "      fill: #FFFFFF;\n",
              "    }\n",
              "  </style>\n",
              "\n",
              "      <script>\n",
              "        const buttonEl =\n",
              "          document.querySelector('#df-27610bde-8406-457a-a2d2-1d64e0481cc6 button.colab-df-convert');\n",
              "        buttonEl.style.display =\n",
              "          google.colab.kernel.accessAllowed ? 'block' : 'none';\n",
              "\n",
              "        async function convertToInteractive(key) {\n",
              "          const element = document.querySelector('#df-27610bde-8406-457a-a2d2-1d64e0481cc6');\n",
              "          const dataTable =\n",
              "            await google.colab.kernel.invokeFunction('convertToInteractive',\n",
              "                                                     [key], {});\n",
              "          if (!dataTable) return;\n",
              "\n",
              "          const docLinkHtml = 'Like what you see? Visit the ' +\n",
              "            '<a target=\"_blank\" href=https://colab.research.google.com/notebooks/data_table.ipynb>data table notebook</a>'\n",
              "            + ' to learn more about interactive tables.';\n",
              "          element.innerHTML = '';\n",
              "          dataTable['output_type'] = 'display_data';\n",
              "          await google.colab.output.renderOutput(dataTable, element);\n",
              "          const docLink = document.createElement('div');\n",
              "          docLink.innerHTML = docLinkHtml;\n",
              "          element.appendChild(docLink);\n",
              "        }\n",
              "      </script>\n",
              "    </div>\n",
              "  </div>\n"
            ]
          },
          "metadata": {}
        },
        {
          "output_type": "display_data",
          "data": {
            "text/plain": [
              "<Figure size 300x300 with 1 Axes>"
            ],
            "image/png": "[encoded data removed]"
          },
          "metadata": {}
        },
        {
          "output_type": "display_data",
          "data": {
            "text/plain": [
              "              Age\n",
              "Gender           \n",
              "Female  39.238389\n",
              "Male    38.658237"
            ],
            "text/html": [
              "\n",
              "\n",
              "  <div id=\"df-4bf97489-8029-46ac-afc3-76a619a113e0\">\n",
              "    <div class=\"colab-df-container\">\n",
              "      <div>\n",
              "<style scoped>\n",
              "    .dataframe tbody tr th:only-of-type {\n",
              "        vertical-align: middle;\n",
              "    }\n",
              "\n",
              "    .dataframe tbody tr th {\n",
              "        vertical-align: top;\n",
              "    }\n",
              "\n",
              "    .dataframe thead th {\n",
              "        text-align: right;\n",
              "    }\n",
              "</style>\n",
              "<table border=\"1\" class=\"dataframe\">\n",
              "  <thead>\n",
              "    <tr style=\"text-align: right;\">\n",
              "      <th></th>\n",
              "      <th>Age</th>\n",
              "    </tr>\n",
              "    <tr>\n",
              "      <th>Gender</th>\n",
              "      <th></th>\n",
              "    </tr>\n",
              "  </thead>\n",
              "  <tbody>\n",
              "    <tr>\n",
              "      <th>Female</th>\n",
              "      <td>39.238389</td>\n",
              "    </tr>\n",
              "    <tr>\n",
              "      <th>Male</th>\n",
              "      <td>38.658237</td>\n",
              "    </tr>\n",
              "  </tbody>\n",
              "</table>\n",
              "</div>\n",
              "      <button class=\"colab-df-convert\" onclick=\"convertToInteractive('df-4bf97489-8029-46ac-afc3-76a619a113e0')\"\n",
              "              title=\"Convert this dataframe to an interactive table.\"\n",
              "              style=\"display:none;\">\n",
              "\n",
              "  <svg xmlns=\"http://www.w3.org/2000/svg\" height=\"24px\"viewBox=\"0 0 24 24\"\n",
              "       width=\"24px\">\n",
              "    <path d=\"M0 0h24v24H0V0z\" fill=\"none\"/>\n",
              "    <path d=\"M18.56 5.44l.94 2.06.94-2.06 2.06-.94-2.06-.94-.94-2.06-.94 2.06-2.06.94zm-11 1L8.5 8.5l.94-2.06 2.06-.94-2.06-.94L8.5 2.5l-.94 2.06-2.06.94zm10 10l.94 2.06.94-2.06 2.06-.94-2.06-.94-.94-2.06-.94 2.06-2.06.94z\"/><path d=\"M17.41 7.96l-1.37-1.37c-.4-.4-.92-.59-1.43-.59-.52 0-1.04.2-1.43.59L10.3 9.45l-7.72 7.72c-.78.78-.78 2.05 0 2.83L4 21.41c.39.39.9.59 1.41.59.51 0 1.02-.2 1.41-.59l7.78-7.78 2.81-2.81c.8-.78.8-2.07 0-2.86zM5.41 20L4 18.59l7.72-7.72 1.47 1.35L5.41 20z\"/>\n",
              "  </svg>\n",
              "      </button>\n",
              "\n",
              "\n",
              "\n",
              "    <div id=\"df-8ecdce5e-21a4-4b0b-a342-162b4959e15b\">\n",
              "      <button class=\"colab-df-quickchart\" onclick=\"quickchart('df-8ecdce5e-21a4-4b0b-a342-162b4959e15b')\"\n",
              "              title=\"Suggest charts.\"\n",
              "              style=\"display:none;\">\n",
              "\n",
              "<svg xmlns=\"http://www.w3.org/2000/svg\" height=\"24px\"viewBox=\"0 0 24 24\"\n",
              "     width=\"24px\">\n",
              "    <g>\n",
              "        <path d=\"M19 3H5c-1.1 0-2 .9-2 2v14c0 1.1.9 2 2 2h14c1.1 0 2-.9 2-2V5c0-1.1-.9-2-2-2zM9 17H7v-7h2v7zm4 0h-2V7h2v10zm4 0h-2v-4h2v4z\"/>\n",
              "    </g>\n",
              "</svg>\n",
              "      </button>\n",
              "    </div>\n",
              "\n",
              "<style>\n",
              "  .colab-df-quickchart {\n",
              "    background-color: #E8F0FE;\n",
              "    border: none;\n",
              "    border-radius: 50%;\n",
              "    cursor: pointer;\n",
              "    display: none;\n",
              "    fill: #1967D2;\n",
              "    height: 32px;\n",
              "    padding: 0 0 0 0;\n",
              "    width: 32px;\n",
              "  }\n",
              "\n",
              "  .colab-df-quickchart:hover {\n",
              "    background-color: #E2EBFA;\n",
              "    box-shadow: 0px 1px 2px rgba(60, 64, 67, 0.3), 0px 1px 3px 1px rgba(60, 64, 67, 0.15);\n",
              "    fill: #174EA6;\n",
              "  }\n",
              "\n",
              "  [theme=dark] .colab-df-quickchart {\n",
              "    background-color: #3B4455;\n",
              "    fill: #D2E3FC;\n",
              "  }\n",
              "\n",
              "  [theme=dark] .colab-df-quickchart:hover {\n",
              "    background-color: #434B5C;\n",
              "    box-shadow: 0px 1px 3px 1px rgba(0, 0, 0, 0.15);\n",
              "    filter: drop-shadow(0px 1px 2px rgba(0, 0, 0, 0.3));\n",
              "    fill: #FFFFFF;\n",
              "  }\n",
              "</style>\n",
              "\n",
              "    <script>\n",
              "      async function quickchart(key) {\n",
              "        const containerElement = document.querySelector('#' + key);\n",
              "        const charts = await google.colab.kernel.invokeFunction(\n",
              "            'suggestCharts', [key], {});\n",
              "      }\n",
              "    </script>\n",
              "\n",
              "      <script>\n",
              "\n",
              "function displayQuickchartButton(domScope) {\n",
              "  let quickchartButtonEl =\n",
              "    domScope.querySelector('#df-8ecdce5e-21a4-4b0b-a342-162b4959e15b button.colab-df-quickchart');\n",
              "  quickchartButtonEl.style.display =\n",
              "    google.colab.kernel.accessAllowed ? 'block' : 'none';\n",
              "}\n",
              "\n",
              "        displayQuickchartButton(document);\n",
              "      </script>\n",
              "      <style>\n",
              "    .colab-df-container {\n",
              "      display:flex;\n",
              "      flex-wrap:wrap;\n",
              "      gap: 12px;\n",
              "    }\n",
              "\n",
              "    .colab-df-convert {\n",
              "      background-color: #E8F0FE;\n",
              "      border: none;\n",
              "      border-radius: 50%;\n",
              "      cursor: pointer;\n",
              "      display: none;\n",
              "      fill: #1967D2;\n",
              "      height: 32px;\n",
              "      padding: 0 0 0 0;\n",
              "      width: 32px;\n",
              "    }\n",
              "\n",
              "    .colab-df-convert:hover {\n",
              "      background-color: #E2EBFA;\n",
              "      box-shadow: 0px 1px 2px rgba(60, 64, 67, 0.3), 0px 1px 3px 1px rgba(60, 64, 67, 0.15);\n",
              "      fill: #174EA6;\n",
              "    }\n",
              "\n",
              "    [theme=dark] .colab-df-convert {\n",
              "      background-color: #3B4455;\n",
              "      fill: #D2E3FC;\n",
              "    }\n",
              "\n",
              "    [theme=dark] .colab-df-convert:hover {\n",
              "      background-color: #434B5C;\n",
              "      box-shadow: 0px 1px 3px 1px rgba(0, 0, 0, 0.15);\n",
              "      filter: drop-shadow(0px 1px 2px rgba(0, 0, 0, 0.3));\n",
              "      fill: #FFFFFF;\n",
              "    }\n",
              "  </style>\n",
              "\n",
              "      <script>\n",
              "        const buttonEl =\n",
              "          document.querySelector('#df-4bf97489-8029-46ac-afc3-76a619a113e0 button.colab-df-convert');\n",
              "        buttonEl.style.display =\n",
              "          google.colab.kernel.accessAllowed ? 'block' : 'none';\n",
              "\n",
              "        async function convertToInteractive(key) {\n",
              "          const element = document.querySelector('#df-4bf97489-8029-46ac-afc3-76a619a113e0');\n",
              "          const dataTable =\n",
              "            await google.colab.kernel.invokeFunction('convertToInteractive',\n",
              "                                                     [key], {});\n",
              "          if (!dataTable) return;\n",
              "\n",
              "          const docLinkHtml = 'Like what you see? Visit the ' +\n",
              "            '<a target=\"_blank\" href=https://colab.research.google.com/notebooks/data_table.ipynb>data table notebook</a>'\n",
              "            + ' to learn more about interactive tables.';\n",
              "          element.innerHTML = '';\n",
              "          dataTable['output_type'] = 'display_data';\n",
              "          await google.colab.output.renderOutput(dataTable, element);\n",
              "          const docLink = document.createElement('div');\n",
              "          docLink.innerHTML = docLinkHtml;\n",
              "          element.appendChild(docLink);\n",
              "        }\n",
              "      </script>\n",
              "    </div>\n",
              "  </div>\n"
            ]
          },
          "metadata": {}
        },
        {
          "output_type": "display_data",
          "data": {
            "text/plain": [
              "<Figure size 300x300 with 1 Axes>"
            ],
            "image/png": "[encoded data removed]"
          },
          "metadata": {}
        },
        {
          "output_type": "display_data",
          "data": {
            "text/plain": [
              "        Exited\n",
              "Gender        \n",
              "Female    1139\n",
              "Male       898"
            ],
            "text/html": [
              "\n",
              "\n",
              "  <div id=\"df-b3f75c3b-b90d-46c6-9e6f-526dd0a49f5f\">\n",
              "    <div class=\"colab-df-container\">\n",
              "      <div>\n",
              "<style scoped>\n",
              "    .dataframe tbody tr th:only-of-type {\n",
              "        vertical-align: middle;\n",
              "    }\n",
              "\n",
              "    .dataframe tbody tr th {\n",
              "        vertical-align: top;\n",
              "    }\n",
              "\n",
              "    .dataframe thead th {\n",
              "        text-align: right;\n",
              "    }\n",
              "</style>\n",
              "<table border=\"1\" class=\"dataframe\">\n",
              "  <thead>\n",
              "    <tr style=\"text-align: right;\">\n",
              "      <th></th>\n",
              "      <th>Exited</th>\n",
              "    </tr>\n",
              "    <tr>\n",
              "      <th>Gender</th>\n",
              "      <th></th>\n",
              "    </tr>\n",
              "  </thead>\n",
              "  <tbody>\n",
              "    <tr>\n",
              "      <th>Female</th>\n",
              "      <td>1139</td>\n",
              "    </tr>\n",
              "    <tr>\n",
              "      <th>Male</th>\n",
              "      <td>898</td>\n",
              "    </tr>\n",
              "  </tbody>\n",
              "</table>\n",
              "</div>\n",
              "      <button class=\"colab-df-convert\" onclick=\"convertToInteractive('df-b3f75c3b-b90d-46c6-9e6f-526dd0a49f5f')\"\n",
              "              title=\"Convert this dataframe to an interactive table.\"\n",
              "              style=\"display:none;\">\n",
              "\n",
              "  <svg xmlns=\"http://www.w3.org/2000/svg\" height=\"24px\"viewBox=\"0 0 24 24\"\n",
              "       width=\"24px\">\n",
              "    <path d=\"M0 0h24v24H0V0z\" fill=\"none\"/>\n",
              "    <path d=\"M18.56 5.44l.94 2.06.94-2.06 2.06-.94-2.06-.94-.94-2.06-.94 2.06-2.06.94zm-11 1L8.5 8.5l.94-2.06 2.06-.94-2.06-.94L8.5 2.5l-.94 2.06-2.06.94zm10 10l.94 2.06.94-2.06 2.06-.94-2.06-.94-.94-2.06-.94 2.06-2.06.94z\"/><path d=\"M17.41 7.96l-1.37-1.37c-.4-.4-.92-.59-1.43-.59-.52 0-1.04.2-1.43.59L10.3 9.45l-7.72 7.72c-.78.78-.78 2.05 0 2.83L4 21.41c.39.39.9.59 1.41.59.51 0 1.02-.2 1.41-.59l7.78-7.78 2.81-2.81c.8-.78.8-2.07 0-2.86zM5.41 20L4 18.59l7.72-7.72 1.47 1.35L5.41 20z\"/>\n",
              "  </svg>\n",
              "      </button>\n",
              "\n",
              "\n",
              "\n",
              "    <div id=\"df-215be511-9b70-4658-9b5a-b057d32b786c\">\n",
              "      <button class=\"colab-df-quickchart\" onclick=\"quickchart('df-215be511-9b70-4658-9b5a-b057d32b786c')\"\n",
              "              title=\"Suggest charts.\"\n",
              "              style=\"display:none;\">\n",
              "\n",
              "<svg xmlns=\"http://www.w3.org/2000/svg\" height=\"24px\"viewBox=\"0 0 24 24\"\n",
              "     width=\"24px\">\n",
              "    <g>\n",
              "        <path d=\"M19 3H5c-1.1 0-2 .9-2 2v14c0 1.1.9 2 2 2h14c1.1 0 2-.9 2-2V5c0-1.1-.9-2-2-2zM9 17H7v-7h2v7zm4 0h-2V7h2v10zm4 0h-2v-4h2v4z\"/>\n",
              "    </g>\n",
              "</svg>\n",
              "      </button>\n",
              "    </div>\n",
              "\n",
              "<style>\n",
              "  .colab-df-quickchart {\n",
              "    background-color: #E8F0FE;\n",
              "    border: none;\n",
              "    border-radius: 50%;\n",
              "    cursor: pointer;\n",
              "    display: none;\n",
              "    fill: #1967D2;\n",
              "    height: 32px;\n",
              "    padding: 0 0 0 0;\n",
              "    width: 32px;\n",
              "  }\n",
              "\n",
              "  .colab-df-quickchart:hover {\n",
              "    background-color: #E2EBFA;\n",
              "    box-shadow: 0px 1px 2px rgba(60, 64, 67, 0.3), 0px 1px 3px 1px rgba(60, 64, 67, 0.15);\n",
              "    fill: #174EA6;\n",
              "  }\n",
              "\n",
              "  [theme=dark] .colab-df-quickchart {\n",
              "    background-color: #3B4455;\n",
              "    fill: #D2E3FC;\n",
              "  }\n",
              "\n",
              "  [theme=dark] .colab-df-quickchart:hover {\n",
              "    background-color: #434B5C;\n",
              "    box-shadow: 0px 1px 3px 1px rgba(0, 0, 0, 0.15);\n",
              "    filter: drop-shadow(0px 1px 2px rgba(0, 0, 0, 0.3));\n",
              "    fill: #FFFFFF;\n",
              "  }\n",
              "</style>\n",
              "\n",
              "    <script>\n",
              "      async function quickchart(key) {\n",
              "        const containerElement = document.querySelector('#' + key);\n",
              "        const charts = await google.colab.kernel.invokeFunction(\n",
              "            'suggestCharts', [key], {});\n",
              "      }\n",
              "    </script>\n",
              "\n",
              "      <script>\n",
              "\n",
              "function displayQuickchartButton(domScope) {\n",
              "  let quickchartButtonEl =\n",
              "    domScope.querySelector('#df-215be511-9b70-4658-9b5a-b057d32b786c button.colab-df-quickchart');\n",
              "  quickchartButtonEl.style.display =\n",
              "    google.colab.kernel.accessAllowed ? 'block' : 'none';\n",
              "}\n",
              "\n",
              "        displayQuickchartButton(document);\n",
              "      </script>\n",
              "      <style>\n",
              "    .colab-df-container {\n",
              "      display:flex;\n",
              "      flex-wrap:wrap;\n",
              "      gap: 12px;\n",
              "    }\n",
              "\n",
              "    .colab-df-convert {\n",
              "      background-color: #E8F0FE;\n",
              "      border: none;\n",
              "      border-radius: 50%;\n",
              "      cursor: pointer;\n",
              "      display: none;\n",
              "      fill: #1967D2;\n",
              "      height: 32px;\n",
              "      padding: 0 0 0 0;\n",
              "      width: 32px;\n",
              "    }\n",
              "\n",
              "    .colab-df-convert:hover {\n",
              "      background-color: #E2EBFA;\n",
              "      box-shadow: 0px 1px 2px rgba(60, 64, 67, 0.3), 0px 1px 3px 1px rgba(60, 64, 67, 0.15);\n",
              "      fill: #174EA6;\n",
              "    }\n",
              "\n",
              "    [theme=dark] .colab-df-convert {\n",
              "      background-color: #3B4455;\n",
              "      fill: #D2E3FC;\n",
              "    }\n",
              "\n",
              "    [theme=dark] .colab-df-convert:hover {\n",
              "      background-color: #434B5C;\n",
              "      box-shadow: 0px 1px 3px 1px rgba(0, 0, 0, 0.15);\n",
              "      filter: drop-shadow(0px 1px 2px rgba(0, 0, 0, 0.3));\n",
              "      fill: #FFFFFF;\n",
              "    }\n",
              "  </style>\n",
              "\n",
              "      <script>\n",
              "        const buttonEl =\n",
              "          document.querySelector('#df-b3f75c3b-b90d-46c6-9e6f-526dd0a49f5f button.colab-df-convert');\n",
              "        buttonEl.style.display =\n",
              "          google.colab.kernel.accessAllowed ? 'block' : 'none';\n",
              "\n",
              "        async function convertToInteractive(key) {\n",
              "          const element = document.querySelector('#df-b3f75c3b-b90d-46c6-9e6f-526dd0a49f5f');\n",
              "          const dataTable =\n",
              "            await google.colab.kernel.invokeFunction('convertToInteractive',\n",
              "                                                     [key], {});\n",
              "          if (!dataTable) return;\n",
              "\n",
              "          const docLinkHtml = 'Like what you see? Visit the ' +\n",
              "            '<a target=\"_blank\" href=https://colab.research.google.com/notebooks/data_table.ipynb>data table notebook</a>'\n",
              "            + ' to learn more about interactive tables.';\n",
              "          element.innerHTML = '';\n",
              "          dataTable['output_type'] = 'display_data';\n",
              "          await google.colab.output.renderOutput(dataTable, element);\n",
              "          const docLink = document.createElement('div');\n",
              "          docLink.innerHTML = docLinkHtml;\n",
              "          element.appendChild(docLink);\n",
              "        }\n",
              "      </script>\n",
              "    </div>\n",
              "  </div>\n"
            ]
          },
          "metadata": {}
        }
      ],
      "source": [
        "geography_gr = data.pivot_table(index='Geography', values='CustomerId', aggfunc = 'sum')\n",
        "geography_gr.plot(grid=True, kind='bar', figsize=(3, 3))\n",
        "plt.title('Место проживания клиентов')\n",
        "plt.xlabel('Страна')\n",
        "plt.ylabel('Количество')\n",
        "plt.show()\n",
        "display(geography_gr)\n",
        "\n",
        "geography_gr = data.pivot_table(index='Gender', values='CustomerId', aggfunc = 'sum')\n",
        "geography_gr.plot(grid=True, kind='bar', figsize=(3, 3))\n",
        "plt.title('Гендер пользователей')\n",
        "plt.xlabel('Пол')\n",
        "plt.ylabel('Количество')\n",
        "plt.show()\n",
        "display(geography_gr)\n",
        "\n",
        "geography_gr = data.pivot_table(index='Gender', values='Age', aggfunc = 'mean')\n",
        "geography_gr.plot(grid=True, kind='bar', figsize=(3, 3))\n",
        "plt.title('Возраст пользователей')\n",
        "plt.xlabel('Пол')\n",
        "plt.ylabel('Возраст')\n",
        "plt.show()\n",
        "display(geography_gr)\n",
        "\n",
        "\n",
        "geography_gr = data.pivot_table(index='Gender', values='Exited', aggfunc = 'sum')\n",
        "geography_gr.plot(grid=True, kind='bar', figsize=(3, 3))\n",
        "plt.title('Отток по гендерному признаку')\n",
        "plt.xlabel('Пол')\n",
        "plt.ylabel('Отток')\n",
        "plt.show()\n",
        "display(geography_gr)"
      ]
    },
    {
      "cell_type": "markdown",
      "metadata": {
        "id": "dmFwESNelBfj"
      },
      "source": [
        "1. Познакомились с данными выборки, чтобы определить все ли категориальные данные нужны для обучения модели. Оставляем все столбцы с кат.данными, кроме фамилии - она нам ничего не даст.\n",
        "2. Также удалим 'Surname', 'RowNumber', 'CustomerId'  - не нужны для расчетов.\n",
        "\n",
        "\n",
        "Также интересно было посмотреть на средний возраст клиентов и отток по гендеру."
      ]
    },
    {
      "cell_type": "code",
      "execution_count": 6,
      "metadata": {
        "scrolled": true,
        "id": "PUAFS5lElBfk",
        "outputId": "e38251e1-b696-4143-a6ca-9fa3825e76f6",
        "colab": {
          "base_uri": "https://localhost:8080/",
          "height": 206
        }
      },
      "outputs": [
        {
          "output_type": "display_data",
          "data": {
            "text/plain": [
              "   CreditScore Geography  Gender  Age  Tenure    Balance  NumOfProducts  \\\n",
              "0          619    France  Female   42       2       0.00              1   \n",
              "1          608     Spain  Female   41       1   83807.86              1   \n",
              "2          502    France  Female   42       8  159660.80              3   \n",
              "3          699    France  Female   39       1       0.00              2   \n",
              "4          850     Spain  Female   43       2  125510.82              1   \n",
              "\n",
              "   HasCrCard  IsActiveMember  EstimatedSalary  Exited  \n",
              "0          1               1        101348.88       1  \n",
              "1          0               1        112542.58       0  \n",
              "2          1               0        113931.57       1  \n",
              "3          0               0         93826.63       0  \n",
              "4          1               1         79084.10       0  "
            ],
            "text/html": [
              "\n",
              "\n",
              "  <div id=\"df-88036493-777f-4be7-bed8-821789f36f54\">\n",
              "    <div class=\"colab-df-container\">\n",
              "      <div>\n",
              "<style scoped>\n",
              "    .dataframe tbody tr th:only-of-type {\n",
              "        vertical-align: middle;\n",
              "    }\n",
              "\n",
              "    .dataframe tbody tr th {\n",
              "        vertical-align: top;\n",
              "    }\n",
              "\n",
              "    .dataframe thead th {\n",
              "        text-align: right;\n",
              "    }\n",
              "</style>\n",
              "<table border=\"1\" class=\"dataframe\">\n",
              "  <thead>\n",
              "    <tr style=\"text-align: right;\">\n",
              "      <th></th>\n",
              "      <th>CreditScore</th>\n",
              "      <th>Geography</th>\n",
              "      <th>Gender</th>\n",
              "      <th>Age</th>\n",
              "      <th>Tenure</th>\n",
              "      <th>Balance</th>\n",
              "      <th>NumOfProducts</th>\n",
              "      <th>HasCrCard</th>\n",
              "      <th>IsActiveMember</th>\n",
              "      <th>EstimatedSalary</th>\n",
              "      <th>Exited</th>\n",
              "    </tr>\n",
              "  </thead>\n",
              "  <tbody>\n",
              "    <tr>\n",
              "      <th>0</th>\n",
              "      <td>619</td>\n",
              "      <td>France</td>\n",
              "      <td>Female</td>\n",
              "      <td>42</td>\n",
              "      <td>2</td>\n",
              "      <td>0.00</td>\n",
              "      <td>1</td>\n",
              "      <td>1</td>\n",
              "      <td>1</td>\n",
              "      <td>101348.88</td>\n",
              "      <td>1</td>\n",
              "    </tr>\n",
              "    <tr>\n",
              "      <th>1</th>\n",
              "      <td>608</td>\n",
              "      <td>Spain</td>\n",
              "      <td>Female</td>\n",
              "      <td>41</td>\n",
              "      <td>1</td>\n",
              "      <td>83807.86</td>\n",
              "      <td>1</td>\n",
              "      <td>0</td>\n",
              "      <td>1</td>\n",
              "      <td>112542.58</td>\n",
              "      <td>0</td>\n",
              "    </tr>\n",
              "    <tr>\n",
              "      <th>2</th>\n",
              "      <td>502</td>\n",
              "      <td>France</td>\n",
              "      <td>Female</td>\n",
              "      <td>42</td>\n",
              "      <td>8</td>\n",
              "      <td>159660.80</td>\n",
              "      <td>3</td>\n",
              "      <td>1</td>\n",
              "      <td>0</td>\n",
              "      <td>113931.57</td>\n",
              "      <td>1</td>\n",
              "    </tr>\n",
              "    <tr>\n",
              "      <th>3</th>\n",
              "      <td>699</td>\n",
              "      <td>France</td>\n",
              "      <td>Female</td>\n",
              "      <td>39</td>\n",
              "      <td>1</td>\n",
              "      <td>0.00</td>\n",
              "      <td>2</td>\n",
              "      <td>0</td>\n",
              "      <td>0</td>\n",
              "      <td>93826.63</td>\n",
              "      <td>0</td>\n",
              "    </tr>\n",
              "    <tr>\n",
              "      <th>4</th>\n",
              "      <td>850</td>\n",
              "      <td>Spain</td>\n",
              "      <td>Female</td>\n",
              "      <td>43</td>\n",
              "      <td>2</td>\n",
              "      <td>125510.82</td>\n",
              "      <td>1</td>\n",
              "      <td>1</td>\n",
              "      <td>1</td>\n",
              "      <td>79084.10</td>\n",
              "      <td>0</td>\n",
              "    </tr>\n",
              "  </tbody>\n",
              "</table>\n",
              "</div>\n",
              "      <button class=\"colab-df-convert\" onclick=\"convertToInteractive('df-88036493-777f-4be7-bed8-821789f36f54')\"\n",
              "              title=\"Convert this dataframe to an interactive table.\"\n",
              "              style=\"display:none;\">\n",
              "\n",
              "  <svg xmlns=\"http://www.w3.org/2000/svg\" height=\"24px\"viewBox=\"0 0 24 24\"\n",
              "       width=\"24px\">\n",
              "    <path d=\"M0 0h24v24H0V0z\" fill=\"none\"/>\n",
              "    <path d=\"M18.56 5.44l.94 2.06.94-2.06 2.06-.94-2.06-.94-.94-2.06-.94 2.06-2.06.94zm-11 1L8.5 8.5l.94-2.06 2.06-.94-2.06-.94L8.5 2.5l-.94 2.06-2.06.94zm10 10l.94 2.06.94-2.06 2.06-.94-2.06-.94-.94-2.06-.94 2.06-2.06.94z\"/><path d=\"M17.41 7.96l-1.37-1.37c-.4-.4-.92-.59-1.43-.59-.52 0-1.04.2-1.43.59L10.3 9.45l-7.72 7.72c-.78.78-.78 2.05 0 2.83L4 21.41c.39.39.9.59 1.41.59.51 0 1.02-.2 1.41-.59l7.78-7.78 2.81-2.81c.8-.78.8-2.07 0-2.86zM5.41 20L4 18.59l7.72-7.72 1.47 1.35L5.41 20z\"/>\n",
              "  </svg>\n",
              "      </button>\n",
              "\n",
              "\n",
              "\n",
              "    <div id=\"df-d58c75ba-dd33-4f8a-a26e-028f0ece00c0\">\n",
              "      <button class=\"colab-df-quickchart\" onclick=\"quickchart('df-d58c75ba-dd33-4f8a-a26e-028f0ece00c0')\"\n",
              "              title=\"Suggest charts.\"\n",
              "              style=\"display:none;\">\n",
              "\n",
              "<svg xmlns=\"http://www.w3.org/2000/svg\" height=\"24px\"viewBox=\"0 0 24 24\"\n",
              "     width=\"24px\">\n",
              "    <g>\n",
              "        <path d=\"M19 3H5c-1.1 0-2 .9-2 2v14c0 1.1.9 2 2 2h14c1.1 0 2-.9 2-2V5c0-1.1-.9-2-2-2zM9 17H7v-7h2v7zm4 0h-2V7h2v10zm4 0h-2v-4h2v4z\"/>\n",
              "    </g>\n",
              "</svg>\n",
              "      </button>\n",
              "    </div>\n",
              "\n",
              "<style>\n",
              "  .colab-df-quickchart {\n",
              "    background-color: #E8F0FE;\n",
              "    border: none;\n",
              "    border-radius: 50%;\n",
              "    cursor: pointer;\n",
              "    display: none;\n",
              "    fill: #1967D2;\n",
              "    height: 32px;\n",
              "    padding: 0 0 0 0;\n",
              "    width: 32px;\n",
              "  }\n",
              "\n",
              "  .colab-df-quickchart:hover {\n",
              "    background-color: #E2EBFA;\n",
              "    box-shadow: 0px 1px 2px rgba(60, 64, 67, 0.3), 0px 1px 3px 1px rgba(60, 64, 67, 0.15);\n",
              "    fill: #174EA6;\n",
              "  }\n",
              "\n",
              "  [theme=dark] .colab-df-quickchart {\n",
              "    background-color: #3B4455;\n",
              "    fill: #D2E3FC;\n",
              "  }\n",
              "\n",
              "  [theme=dark] .colab-df-quickchart:hover {\n",
              "    background-color: #434B5C;\n",
              "    box-shadow: 0px 1px 3px 1px rgba(0, 0, 0, 0.15);\n",
              "    filter: drop-shadow(0px 1px 2px rgba(0, 0, 0, 0.3));\n",
              "    fill: #FFFFFF;\n",
              "  }\n",
              "</style>\n",
              "\n",
              "    <script>\n",
              "      async function quickchart(key) {\n",
              "        const containerElement = document.querySelector('#' + key);\n",
              "        const charts = await google.colab.kernel.invokeFunction(\n",
              "            'suggestCharts', [key], {});\n",
              "      }\n",
              "    </script>\n",
              "\n",
              "      <script>\n",
              "\n",
              "function displayQuickchartButton(domScope) {\n",
              "  let quickchartButtonEl =\n",
              "    domScope.querySelector('#df-d58c75ba-dd33-4f8a-a26e-028f0ece00c0 button.colab-df-quickchart');\n",
              "  quickchartButtonEl.style.display =\n",
              "    google.colab.kernel.accessAllowed ? 'block' : 'none';\n",
              "}\n",
              "\n",
              "        displayQuickchartButton(document);\n",
              "      </script>\n",
              "      <style>\n",
              "    .colab-df-container {\n",
              "      display:flex;\n",
              "      flex-wrap:wrap;\n",
              "      gap: 12px;\n",
              "    }\n",
              "\n",
              "    .colab-df-convert {\n",
              "      background-color: #E8F0FE;\n",
              "      border: none;\n",
              "      border-radius: 50%;\n",
              "      cursor: pointer;\n",
              "      display: none;\n",
              "      fill: #1967D2;\n",
              "      height: 32px;\n",
              "      padding: 0 0 0 0;\n",
              "      width: 32px;\n",
              "    }\n",
              "\n",
              "    .colab-df-convert:hover {\n",
              "      background-color: #E2EBFA;\n",
              "      box-shadow: 0px 1px 2px rgba(60, 64, 67, 0.3), 0px 1px 3px 1px rgba(60, 64, 67, 0.15);\n",
              "      fill: #174EA6;\n",
              "    }\n",
              "\n",
              "    [theme=dark] .colab-df-convert {\n",
              "      background-color: #3B4455;\n",
              "      fill: #D2E3FC;\n",
              "    }\n",
              "\n",
              "    [theme=dark] .colab-df-convert:hover {\n",
              "      background-color: #434B5C;\n",
              "      box-shadow: 0px 1px 3px 1px rgba(0, 0, 0, 0.15);\n",
              "      filter: drop-shadow(0px 1px 2px rgba(0, 0, 0, 0.3));\n",
              "      fill: #FFFFFF;\n",
              "    }\n",
              "  </style>\n",
              "\n",
              "      <script>\n",
              "        const buttonEl =\n",
              "          document.querySelector('#df-88036493-777f-4be7-bed8-821789f36f54 button.colab-df-convert');\n",
              "        buttonEl.style.display =\n",
              "          google.colab.kernel.accessAllowed ? 'block' : 'none';\n",
              "\n",
              "        async function convertToInteractive(key) {\n",
              "          const element = document.querySelector('#df-88036493-777f-4be7-bed8-821789f36f54');\n",
              "          const dataTable =\n",
              "            await google.colab.kernel.invokeFunction('convertToInteractive',\n",
              "                                                     [key], {});\n",
              "          if (!dataTable) return;\n",
              "\n",
              "          const docLinkHtml = 'Like what you see? Visit the ' +\n",
              "            '<a target=\"_blank\" href=https://colab.research.google.com/notebooks/data_table.ipynb>data table notebook</a>'\n",
              "            + ' to learn more about interactive tables.';\n",
              "          element.innerHTML = '';\n",
              "          dataTable['output_type'] = 'display_data';\n",
              "          await google.colab.output.renderOutput(dataTable, element);\n",
              "          const docLink = document.createElement('div');\n",
              "          docLink.innerHTML = docLinkHtml;\n",
              "          element.appendChild(docLink);\n",
              "        }\n",
              "      </script>\n",
              "    </div>\n",
              "  </div>\n"
            ]
          },
          "metadata": {}
        }
      ],
      "source": [
        "data = data.drop(['Surname', 'RowNumber', 'CustomerId'], axis=1)\n",
        "display(data.head())"
      ]
    },
    {
      "cell_type": "markdown",
      "metadata": {
        "id": "eRQOXbnulBfl"
      },
      "source": [
        "Разделим данные на выборки:"
      ]
    },
    {
      "cell_type": "code",
      "execution_count": 7,
      "metadata": {
        "id": "XjHP2W9jlBfl",
        "outputId": "916fd4e7-1dd0-4096-9109-f8c140c9dda1",
        "colab": {
          "base_uri": "https://localhost:8080/"
        }
      },
      "outputs": [
        {
          "output_type": "stream",
          "name": "stdout",
          "text": [
            "(6000, 10)\n",
            "(6000,)\n",
            "(2000, 10)\n",
            "(2000,)\n",
            "(2000, 10)\n",
            "(2000,)\n"
          ]
        }
      ],
      "source": [
        "train_valid, test = train_test_split(data, test_size=0.2, stratify = data['Exited'])\n",
        "train, valid = train_test_split(train_valid, test_size=0.25, stratify = train_valid['Exited'])\n",
        "\n",
        "features_train = train.drop(['Exited'], axis=1)\n",
        "target_train = train['Exited']\n",
        "\n",
        "features_valid = valid.drop(['Exited'], axis=1)\n",
        "target_valid = valid['Exited']\n",
        "\n",
        "features_test = test.drop(['Exited'], axis=1)\n",
        "target_test = test['Exited']\n",
        "\n",
        "ml= [features_train, target_train, features_valid, target_valid, features_test, target_test]\n",
        "for i in ml:\n",
        "  print(i.shape)"
      ]
    },
    {
      "cell_type": "markdown",
      "source": [
        "Применим кодирование ОНЕ:"
      ],
      "metadata": {
        "id": "hGPvylwWmf3v"
      }
    },
    {
      "cell_type": "code",
      "execution_count": 8,
      "metadata": {
        "id": "zCsW3j5RlBfn",
        "outputId": "7d943ff1-01e8-4649-f979-31b81265f2a1",
        "colab": {
          "base_uri": "https://localhost:8080/",
          "height": 585
        }
      },
      "outputs": [
        {
          "output_type": "display_data",
          "data": {
            "text/plain": [
              "      CreditScore       Age    Tenure   Balance  NumOfProducts  HasCrCard  \\\n",
              "9778     0.858035  0.379487  1.465672 -1.192697       0.812912   0.647906   \n",
              "1437     0.209021 -0.756795  0.005173 -1.192697      -0.911795  -1.543434   \n",
              "4799    -1.036668  1.231698 -1.455327 -1.192697      -0.911795  -1.543434   \n",
              "7481    -0.251570 -0.472725  0.735422  0.613622       0.812912   0.647906   \n",
              "1754     0.774292 -0.567415  0.005173  0.462585       0.812912   0.647906   \n",
              "\n",
              "      IsActiveMember  EstimatedSalary  Geography_Germany  Geography_Spain  \\\n",
              "9778       -1.031496         1.464813                0.0              0.0   \n",
              "1437        0.969466        -0.399996                0.0              0.0   \n",
              "4799       -1.031496        -0.621038                0.0              0.0   \n",
              "7481        0.969466        -0.742081                0.0              0.0   \n",
              "1754       -1.031496         0.382109                1.0              0.0   \n",
              "\n",
              "      Gender_Male  \n",
              "9778          0.0  \n",
              "1437          0.0  \n",
              "4799          1.0  \n",
              "7481          1.0  \n",
              "1754          1.0  "
            ],
            "text/html": [
              "\n",
              "\n",
              "  <div id=\"df-62a90c24-50f6-404e-98a8-793423797f05\">\n",
              "    <div class=\"colab-df-container\">\n",
              "      <div>\n",
              "<style scoped>\n",
              "    .dataframe tbody tr th:only-of-type {\n",
              "        vertical-align: middle;\n",
              "    }\n",
              "\n",
              "    .dataframe tbody tr th {\n",
              "        vertical-align: top;\n",
              "    }\n",
              "\n",
              "    .dataframe thead th {\n",
              "        text-align: right;\n",
              "    }\n",
              "</style>\n",
              "<table border=\"1\" class=\"dataframe\">\n",
              "  <thead>\n",
              "    <tr style=\"text-align: right;\">\n",
              "      <th></th>\n",
              "      <th>CreditScore</th>\n",
              "      <th>Age</th>\n",
              "      <th>Tenure</th>\n",
              "      <th>Balance</th>\n",
              "      <th>NumOfProducts</th>\n",
              "      <th>HasCrCard</th>\n",
              "      <th>IsActiveMember</th>\n",
              "      <th>EstimatedSalary</th>\n",
              "      <th>Geography_Germany</th>\n",
              "      <th>Geography_Spain</th>\n",
              "      <th>Gender_Male</th>\n",
              "    </tr>\n",
              "  </thead>\n",
              "  <tbody>\n",
              "    <tr>\n",
              "      <th>9778</th>\n",
              "      <td>0.858035</td>\n",
              "      <td>0.379487</td>\n",
              "      <td>1.465672</td>\n",
              "      <td>-1.192697</td>\n",
              "      <td>0.812912</td>\n",
              "      <td>0.647906</td>\n",
              "      <td>-1.031496</td>\n",
              "      <td>1.464813</td>\n",
              "      <td>0.0</td>\n",
              "      <td>0.0</td>\n",
              "      <td>0.0</td>\n",
              "    </tr>\n",
              "    <tr>\n",
              "      <th>1437</th>\n",
              "      <td>0.209021</td>\n",
              "      <td>-0.756795</td>\n",
              "      <td>0.005173</td>\n",
              "      <td>-1.192697</td>\n",
              "      <td>-0.911795</td>\n",
              "      <td>-1.543434</td>\n",
              "      <td>0.969466</td>\n",
              "      <td>-0.399996</td>\n",
              "      <td>0.0</td>\n",
              "      <td>0.0</td>\n",
              "      <td>0.0</td>\n",
              "    </tr>\n",
              "    <tr>\n",
              "      <th>4799</th>\n",
              "      <td>-1.036668</td>\n",
              "      <td>1.231698</td>\n",
              "      <td>-1.455327</td>\n",
              "      <td>-1.192697</td>\n",
              "      <td>-0.911795</td>\n",
              "      <td>-1.543434</td>\n",
              "      <td>-1.031496</td>\n",
              "      <td>-0.621038</td>\n",
              "      <td>0.0</td>\n",
              "      <td>0.0</td>\n",
              "      <td>1.0</td>\n",
              "    </tr>\n",
              "    <tr>\n",
              "      <th>7481</th>\n",
              "      <td>-0.251570</td>\n",
              "      <td>-0.472725</td>\n",
              "      <td>0.735422</td>\n",
              "      <td>0.613622</td>\n",
              "      <td>0.812912</td>\n",
              "      <td>0.647906</td>\n",
              "      <td>0.969466</td>\n",
              "      <td>-0.742081</td>\n",
              "      <td>0.0</td>\n",
              "      <td>0.0</td>\n",
              "      <td>1.0</td>\n",
              "    </tr>\n",
              "    <tr>\n",
              "      <th>1754</th>\n",
              "      <td>0.774292</td>\n",
              "      <td>-0.567415</td>\n",
              "      <td>0.005173</td>\n",
              "      <td>0.462585</td>\n",
              "      <td>0.812912</td>\n",
              "      <td>0.647906</td>\n",
              "      <td>-1.031496</td>\n",
              "      <td>0.382109</td>\n",
              "      <td>1.0</td>\n",
              "      <td>0.0</td>\n",
              "      <td>1.0</td>\n",
              "    </tr>\n",
              "  </tbody>\n",
              "</table>\n",
              "</div>\n",
              "      <button class=\"colab-df-convert\" onclick=\"convertToInteractive('df-62a90c24-50f6-404e-98a8-793423797f05')\"\n",
              "              title=\"Convert this dataframe to an interactive table.\"\n",
              "              style=\"display:none;\">\n",
              "\n",
              "  <svg xmlns=\"http://www.w3.org/2000/svg\" height=\"24px\"viewBox=\"0 0 24 24\"\n",
              "       width=\"24px\">\n",
              "    <path d=\"M0 0h24v24H0V0z\" fill=\"none\"/>\n",
              "    <path d=\"M18.56 5.44l.94 2.06.94-2.06 2.06-.94-2.06-.94-.94-2.06-.94 2.06-2.06.94zm-11 1L8.5 8.5l.94-2.06 2.06-.94-2.06-.94L8.5 2.5l-.94 2.06-2.06.94zm10 10l.94 2.06.94-2.06 2.06-.94-2.06-.94-.94-2.06-.94 2.06-2.06.94z\"/><path d=\"M17.41 7.96l-1.37-1.37c-.4-.4-.92-.59-1.43-.59-.52 0-1.04.2-1.43.59L10.3 9.45l-7.72 7.72c-.78.78-.78 2.05 0 2.83L4 21.41c.39.39.9.59 1.41.59.51 0 1.02-.2 1.41-.59l7.78-7.78 2.81-2.81c.8-.78.8-2.07 0-2.86zM5.41 20L4 18.59l7.72-7.72 1.47 1.35L5.41 20z\"/>\n",
              "  </svg>\n",
              "      </button>\n",
              "\n",
              "\n",
              "\n",
              "    <div id=\"df-5e07c348-c909-418c-b2c5-4ff49dd13800\">\n",
              "      <button class=\"colab-df-quickchart\" onclick=\"quickchart('df-5e07c348-c909-418c-b2c5-4ff49dd13800')\"\n",
              "              title=\"Suggest charts.\"\n",
              "              style=\"display:none;\">\n",
              "\n",
              "<svg xmlns=\"http://www.w3.org/2000/svg\" height=\"24px\"viewBox=\"0 0 24 24\"\n",
              "     width=\"24px\">\n",
              "    <g>\n",
              "        <path d=\"M19 3H5c-1.1 0-2 .9-2 2v14c0 1.1.9 2 2 2h14c1.1 0 2-.9 2-2V5c0-1.1-.9-2-2-2zM9 17H7v-7h2v7zm4 0h-2V7h2v10zm4 0h-2v-4h2v4z\"/>\n",
              "    </g>\n",
              "</svg>\n",
              "      </button>\n",
              "    </div>\n",
              "\n",
              "<style>\n",
              "  .colab-df-quickchart {\n",
              "    background-color: #E8F0FE;\n",
              "    border: none;\n",
              "    border-radius: 50%;\n",
              "    cursor: pointer;\n",
              "    display: none;\n",
              "    fill: #1967D2;\n",
              "    height: 32px;\n",
              "    padding: 0 0 0 0;\n",
              "    width: 32px;\n",
              "  }\n",
              "\n",
              "  .colab-df-quickchart:hover {\n",
              "    background-color: #E2EBFA;\n",
              "    box-shadow: 0px 1px 2px rgba(60, 64, 67, 0.3), 0px 1px 3px 1px rgba(60, 64, 67, 0.15);\n",
              "    fill: #174EA6;\n",
              "  }\n",
              "\n",
              "  [theme=dark] .colab-df-quickchart {\n",
              "    background-color: #3B4455;\n",
              "    fill: #D2E3FC;\n",
              "  }\n",
              "\n",
              "  [theme=dark] .colab-df-quickchart:hover {\n",
              "    background-color: #434B5C;\n",
              "    box-shadow: 0px 1px 3px 1px rgba(0, 0, 0, 0.15);\n",
              "    filter: drop-shadow(0px 1px 2px rgba(0, 0, 0, 0.3));\n",
              "    fill: #FFFFFF;\n",
              "  }\n",
              "</style>\n",
              "\n",
              "    <script>\n",
              "      async function quickchart(key) {\n",
              "        const containerElement = document.querySelector('#' + key);\n",
              "        const charts = await google.colab.kernel.invokeFunction(\n",
              "            'suggestCharts', [key], {});\n",
              "      }\n",
              "    </script>\n",
              "\n",
              "      <script>\n",
              "\n",
              "function displayQuickchartButton(domScope) {\n",
              "  let quickchartButtonEl =\n",
              "    domScope.querySelector('#df-5e07c348-c909-418c-b2c5-4ff49dd13800 button.colab-df-quickchart');\n",
              "  quickchartButtonEl.style.display =\n",
              "    google.colab.kernel.accessAllowed ? 'block' : 'none';\n",
              "}\n",
              "\n",
              "        displayQuickchartButton(document);\n",
              "      </script>\n",
              "      <style>\n",
              "    .colab-df-container {\n",
              "      display:flex;\n",
              "      flex-wrap:wrap;\n",
              "      gap: 12px;\n",
              "    }\n",
              "\n",
              "    .colab-df-convert {\n",
              "      background-color: #E8F0FE;\n",
              "      border: none;\n",
              "      border-radius: 50%;\n",
              "      cursor: pointer;\n",
              "      display: none;\n",
              "      fill: #1967D2;\n",
              "      height: 32px;\n",
              "      padding: 0 0 0 0;\n",
              "      width: 32px;\n",
              "    }\n",
              "\n",
              "    .colab-df-convert:hover {\n",
              "      background-color: #E2EBFA;\n",
              "      box-shadow: 0px 1px 2px rgba(60, 64, 67, 0.3), 0px 1px 3px 1px rgba(60, 64, 67, 0.15);\n",
              "      fill: #174EA6;\n",
              "    }\n",
              "\n",
              "    [theme=dark] .colab-df-convert {\n",
              "      background-color: #3B4455;\n",
              "      fill: #D2E3FC;\n",
              "    }\n",
              "\n",
              "    [theme=dark] .colab-df-convert:hover {\n",
              "      background-color: #434B5C;\n",
              "      box-shadow: 0px 1px 3px 1px rgba(0, 0, 0, 0.15);\n",
              "      filter: drop-shadow(0px 1px 2px rgba(0, 0, 0, 0.3));\n",
              "      fill: #FFFFFF;\n",
              "    }\n",
              "  </style>\n",
              "\n",
              "      <script>\n",
              "        const buttonEl =\n",
              "          document.querySelector('#df-62a90c24-50f6-404e-98a8-793423797f05 button.colab-df-convert');\n",
              "        buttonEl.style.display =\n",
              "          google.colab.kernel.accessAllowed ? 'block' : 'none';\n",
              "\n",
              "        async function convertToInteractive(key) {\n",
              "          const element = document.querySelector('#df-62a90c24-50f6-404e-98a8-793423797f05');\n",
              "          const dataTable =\n",
              "            await google.colab.kernel.invokeFunction('convertToInteractive',\n",
              "                                                     [key], {});\n",
              "          if (!dataTable) return;\n",
              "\n",
              "          const docLinkHtml = 'Like what you see? Visit the ' +\n",
              "            '<a target=\"_blank\" href=https://colab.research.google.com/notebooks/data_table.ipynb>data table notebook</a>'\n",
              "            + ' to learn more about interactive tables.';\n",
              "          element.innerHTML = '';\n",
              "          dataTable['output_type'] = 'display_data';\n",
              "          await google.colab.output.renderOutput(dataTable, element);\n",
              "          const docLink = document.createElement('div');\n",
              "          docLink.innerHTML = docLinkHtml;\n",
              "          element.appendChild(docLink);\n",
              "        }\n",
              "      </script>\n",
              "    </div>\n",
              "  </div>\n"
            ]
          },
          "metadata": {}
        },
        {
          "output_type": "display_data",
          "data": {
            "text/plain": [
              "      CreditScore       Age    Tenure   Balance  NumOfProducts  HasCrCard  \\\n",
              "5118     0.742888  0.095416 -0.725077 -1.192697      -0.911795   0.647906   \n",
              "43       1.925769  0.947628 -1.090202  0.907389      -0.911795  -1.543434   \n",
              "73      -0.481865 -1.324936  0.005173  1.329122       0.812912   0.647906   \n",
              "6538    -1.089008 -0.472725 -0.359952  1.450313       0.812912   0.647906   \n",
              "4744     1.119735  1.137008 -1.455327 -1.192697      -0.911795   0.647906   \n",
              "\n",
              "      IsActiveMember  EstimatedSalary  Geography_Germany  Geography_Spain  \\\n",
              "5118        0.969466         0.797123                0.0              0.0   \n",
              "43         -1.031496         1.660529                0.0              0.0   \n",
              "73          0.969466        -0.711018                1.0              0.0   \n",
              "6538        0.969466        -1.281190                0.0              0.0   \n",
              "4744        0.969466        -1.331939                0.0              0.0   \n",
              "\n",
              "      Gender_Male  \n",
              "5118          1.0  \n",
              "43            0.0  \n",
              "73            0.0  \n",
              "6538          1.0  \n",
              "4744          0.0  "
            ],
            "text/html": [
              "\n",
              "\n",
              "  <div id=\"df-415acb8f-46d3-4c5d-99aa-4d13879fddd1\">\n",
              "    <div class=\"colab-df-container\">\n",
              "      <div>\n",
              "<style scoped>\n",
              "    .dataframe tbody tr th:only-of-type {\n",
              "        vertical-align: middle;\n",
              "    }\n",
              "\n",
              "    .dataframe tbody tr th {\n",
              "        vertical-align: top;\n",
              "    }\n",
              "\n",
              "    .dataframe thead th {\n",
              "        text-align: right;\n",
              "    }\n",
              "</style>\n",
              "<table border=\"1\" class=\"dataframe\">\n",
              "  <thead>\n",
              "    <tr style=\"text-align: right;\">\n",
              "      <th></th>\n",
              "      <th>CreditScore</th>\n",
              "      <th>Age</th>\n",
              "      <th>Tenure</th>\n",
              "      <th>Balance</th>\n",
              "      <th>NumOfProducts</th>\n",
              "      <th>HasCrCard</th>\n",
              "      <th>IsActiveMember</th>\n",
              "      <th>EstimatedSalary</th>\n",
              "      <th>Geography_Germany</th>\n",
              "      <th>Geography_Spain</th>\n",
              "      <th>Gender_Male</th>\n",
              "    </tr>\n",
              "  </thead>\n",
              "  <tbody>\n",
              "    <tr>\n",
              "      <th>5118</th>\n",
              "      <td>0.742888</td>\n",
              "      <td>0.095416</td>\n",
              "      <td>-0.725077</td>\n",
              "      <td>-1.192697</td>\n",
              "      <td>-0.911795</td>\n",
              "      <td>0.647906</td>\n",
              "      <td>0.969466</td>\n",
              "      <td>0.797123</td>\n",
              "      <td>0.0</td>\n",
              "      <td>0.0</td>\n",
              "      <td>1.0</td>\n",
              "    </tr>\n",
              "    <tr>\n",
              "      <th>43</th>\n",
              "      <td>1.925769</td>\n",
              "      <td>0.947628</td>\n",
              "      <td>-1.090202</td>\n",
              "      <td>0.907389</td>\n",
              "      <td>-0.911795</td>\n",
              "      <td>-1.543434</td>\n",
              "      <td>-1.031496</td>\n",
              "      <td>1.660529</td>\n",
              "      <td>0.0</td>\n",
              "      <td>0.0</td>\n",
              "      <td>0.0</td>\n",
              "    </tr>\n",
              "    <tr>\n",
              "      <th>73</th>\n",
              "      <td>-0.481865</td>\n",
              "      <td>-1.324936</td>\n",
              "      <td>0.005173</td>\n",
              "      <td>1.329122</td>\n",
              "      <td>0.812912</td>\n",
              "      <td>0.647906</td>\n",
              "      <td>0.969466</td>\n",
              "      <td>-0.711018</td>\n",
              "      <td>1.0</td>\n",
              "      <td>0.0</td>\n",
              "      <td>0.0</td>\n",
              "    </tr>\n",
              "    <tr>\n",
              "      <th>6538</th>\n",
              "      <td>-1.089008</td>\n",
              "      <td>-0.472725</td>\n",
              "      <td>-0.359952</td>\n",
              "      <td>1.450313</td>\n",
              "      <td>0.812912</td>\n",
              "      <td>0.647906</td>\n",
              "      <td>0.969466</td>\n",
              "      <td>-1.281190</td>\n",
              "      <td>0.0</td>\n",
              "      <td>0.0</td>\n",
              "      <td>1.0</td>\n",
              "    </tr>\n",
              "    <tr>\n",
              "      <th>4744</th>\n",
              "      <td>1.119735</td>\n",
              "      <td>1.137008</td>\n",
              "      <td>-1.455327</td>\n",
              "      <td>-1.192697</td>\n",
              "      <td>-0.911795</td>\n",
              "      <td>0.647906</td>\n",
              "      <td>0.969466</td>\n",
              "      <td>-1.331939</td>\n",
              "      <td>0.0</td>\n",
              "      <td>0.0</td>\n",
              "      <td>0.0</td>\n",
              "    </tr>\n",
              "  </tbody>\n",
              "</table>\n",
              "</div>\n",
              "      <button class=\"colab-df-convert\" onclick=\"convertToInteractive('df-415acb8f-46d3-4c5d-99aa-4d13879fddd1')\"\n",
              "              title=\"Convert this dataframe to an interactive table.\"\n",
              "              style=\"display:none;\">\n",
              "\n",
              "  <svg xmlns=\"http://www.w3.org/2000/svg\" height=\"24px\"viewBox=\"0 0 24 24\"\n",
              "       width=\"24px\">\n",
              "    <path d=\"M0 0h24v24H0V0z\" fill=\"none\"/>\n",
              "    <path d=\"M18.56 5.44l.94 2.06.94-2.06 2.06-.94-2.06-.94-.94-2.06-.94 2.06-2.06.94zm-11 1L8.5 8.5l.94-2.06 2.06-.94-2.06-.94L8.5 2.5l-.94 2.06-2.06.94zm10 10l.94 2.06.94-2.06 2.06-.94-2.06-.94-.94-2.06-.94 2.06-2.06.94z\"/><path d=\"M17.41 7.96l-1.37-1.37c-.4-.4-.92-.59-1.43-.59-.52 0-1.04.2-1.43.59L10.3 9.45l-7.72 7.72c-.78.78-.78 2.05 0 2.83L4 21.41c.39.39.9.59 1.41.59.51 0 1.02-.2 1.41-.59l7.78-7.78 2.81-2.81c.8-.78.8-2.07 0-2.86zM5.41 20L4 18.59l7.72-7.72 1.47 1.35L5.41 20z\"/>\n",
              "  </svg>\n",
              "      </button>\n",
              "\n",
              "\n",
              "\n",
              "    <div id=\"df-04bbb320-7fd7-47c7-a1a6-87246391f2a6\">\n",
              "      <button class=\"colab-df-quickchart\" onclick=\"quickchart('df-04bbb320-7fd7-47c7-a1a6-87246391f2a6')\"\n",
              "              title=\"Suggest charts.\"\n",
              "              style=\"display:none;\">\n",
              "\n",
              "<svg xmlns=\"http://www.w3.org/2000/svg\" height=\"24px\"viewBox=\"0 0 24 24\"\n",
              "     width=\"24px\">\n",
              "    <g>\n",
              "        <path d=\"M19 3H5c-1.1 0-2 .9-2 2v14c0 1.1.9 2 2 2h14c1.1 0 2-.9 2-2V5c0-1.1-.9-2-2-2zM9 17H7v-7h2v7zm4 0h-2V7h2v10zm4 0h-2v-4h2v4z\"/>\n",
              "    </g>\n",
              "</svg>\n",
              "      </button>\n",
              "    </div>\n",
              "\n",
              "<style>\n",
              "  .colab-df-quickchart {\n",
              "    background-color: #E8F0FE;\n",
              "    border: none;\n",
              "    border-radius: 50%;\n",
              "    cursor: pointer;\n",
              "    display: none;\n",
              "    fill: #1967D2;\n",
              "    height: 32px;\n",
              "    padding: 0 0 0 0;\n",
              "    width: 32px;\n",
              "  }\n",
              "\n",
              "  .colab-df-quickchart:hover {\n",
              "    background-color: #E2EBFA;\n",
              "    box-shadow: 0px 1px 2px rgba(60, 64, 67, 0.3), 0px 1px 3px 1px rgba(60, 64, 67, 0.15);\n",
              "    fill: #174EA6;\n",
              "  }\n",
              "\n",
              "  [theme=dark] .colab-df-quickchart {\n",
              "    background-color: #3B4455;\n",
              "    fill: #D2E3FC;\n",
              "  }\n",
              "\n",
              "  [theme=dark] .colab-df-quickchart:hover {\n",
              "    background-color: #434B5C;\n",
              "    box-shadow: 0px 1px 3px 1px rgba(0, 0, 0, 0.15);\n",
              "    filter: drop-shadow(0px 1px 2px rgba(0, 0, 0, 0.3));\n",
              "    fill: #FFFFFF;\n",
              "  }\n",
              "</style>\n",
              "\n",
              "    <script>\n",
              "      async function quickchart(key) {\n",
              "        const containerElement = document.querySelector('#' + key);\n",
              "        const charts = await google.colab.kernel.invokeFunction(\n",
              "            'suggestCharts', [key], {});\n",
              "      }\n",
              "    </script>\n",
              "\n",
              "      <script>\n",
              "\n",
              "function displayQuickchartButton(domScope) {\n",
              "  let quickchartButtonEl =\n",
              "    domScope.querySelector('#df-04bbb320-7fd7-47c7-a1a6-87246391f2a6 button.colab-df-quickchart');\n",
              "  quickchartButtonEl.style.display =\n",
              "    google.colab.kernel.accessAllowed ? 'block' : 'none';\n",
              "}\n",
              "\n",
              "        displayQuickchartButton(document);\n",
              "      </script>\n",
              "      <style>\n",
              "    .colab-df-container {\n",
              "      display:flex;\n",
              "      flex-wrap:wrap;\n",
              "      gap: 12px;\n",
              "    }\n",
              "\n",
              "    .colab-df-convert {\n",
              "      background-color: #E8F0FE;\n",
              "      border: none;\n",
              "      border-radius: 50%;\n",
              "      cursor: pointer;\n",
              "      display: none;\n",
              "      fill: #1967D2;\n",
              "      height: 32px;\n",
              "      padding: 0 0 0 0;\n",
              "      width: 32px;\n",
              "    }\n",
              "\n",
              "    .colab-df-convert:hover {\n",
              "      background-color: #E2EBFA;\n",
              "      box-shadow: 0px 1px 2px rgba(60, 64, 67, 0.3), 0px 1px 3px 1px rgba(60, 64, 67, 0.15);\n",
              "      fill: #174EA6;\n",
              "    }\n",
              "\n",
              "    [theme=dark] .colab-df-convert {\n",
              "      background-color: #3B4455;\n",
              "      fill: #D2E3FC;\n",
              "    }\n",
              "\n",
              "    [theme=dark] .colab-df-convert:hover {\n",
              "      background-color: #434B5C;\n",
              "      box-shadow: 0px 1px 3px 1px rgba(0, 0, 0, 0.15);\n",
              "      filter: drop-shadow(0px 1px 2px rgba(0, 0, 0, 0.3));\n",
              "      fill: #FFFFFF;\n",
              "    }\n",
              "  </style>\n",
              "\n",
              "      <script>\n",
              "        const buttonEl =\n",
              "          document.querySelector('#df-415acb8f-46d3-4c5d-99aa-4d13879fddd1 button.colab-df-convert');\n",
              "        buttonEl.style.display =\n",
              "          google.colab.kernel.accessAllowed ? 'block' : 'none';\n",
              "\n",
              "        async function convertToInteractive(key) {\n",
              "          const element = document.querySelector('#df-415acb8f-46d3-4c5d-99aa-4d13879fddd1');\n",
              "          const dataTable =\n",
              "            await google.colab.kernel.invokeFunction('convertToInteractive',\n",
              "                                                     [key], {});\n",
              "          if (!dataTable) return;\n",
              "\n",
              "          const docLinkHtml = 'Like what you see? Visit the ' +\n",
              "            '<a target=\"_blank\" href=https://colab.research.google.com/notebooks/data_table.ipynb>data table notebook</a>'\n",
              "            + ' to learn more about interactive tables.';\n",
              "          element.innerHTML = '';\n",
              "          dataTable['output_type'] = 'display_data';\n",
              "          await google.colab.output.renderOutput(dataTable, element);\n",
              "          const docLink = document.createElement('div');\n",
              "          docLink.innerHTML = docLinkHtml;\n",
              "          element.appendChild(docLink);\n",
              "        }\n",
              "      </script>\n",
              "    </div>\n",
              "  </div>\n"
            ]
          },
          "metadata": {}
        },
        {
          "output_type": "display_data",
          "data": {
            "text/plain": [
              "      CreditScore       Age    Tenure   Balance  NumOfProducts  HasCrCard  \\\n",
              "9712    -0.136422 -0.662105 -0.725077 -1.192697       0.812912   0.647906   \n",
              "6379     0.303233 -0.188654  0.735422 -0.005795      -0.911795   0.647906   \n",
              "8689    -1.130880  2.652051  1.830797  0.876011      -0.911795  -1.543434   \n",
              "9097     0.816164  0.379487  0.735422 -1.192697       0.812912   0.647906   \n",
              "6567     0.125277  1.421079 -1.455327  1.812070      -0.911795  -1.543434   \n",
              "\n",
              "      IsActiveMember  EstimatedSalary  Geography_Germany  Geography_Spain  \\\n",
              "9712        0.969466         1.720914                0.0              0.0   \n",
              "6379       -1.031496         1.664929                0.0              0.0   \n",
              "8689        0.969466        -1.357957                0.0              0.0   \n",
              "9097       -1.031496        -1.032073                0.0              0.0   \n",
              "6567       -1.031496         0.213880                0.0              1.0   \n",
              "\n",
              "      Gender_Male  \n",
              "9712          1.0  \n",
              "6379          1.0  \n",
              "8689          1.0  \n",
              "9097          1.0  \n",
              "6567          0.0  "
            ],
            "text/html": [
              "\n",
              "\n",
              "  <div id=\"df-0df16f6f-6c27-4279-9ab1-d34f3d4ed02b\">\n",
              "    <div class=\"colab-df-container\">\n",
              "      <div>\n",
              "<style scoped>\n",
              "    .dataframe tbody tr th:only-of-type {\n",
              "        vertical-align: middle;\n",
              "    }\n",
              "\n",
              "    .dataframe tbody tr th {\n",
              "        vertical-align: top;\n",
              "    }\n",
              "\n",
              "    .dataframe thead th {\n",
              "        text-align: right;\n",
              "    }\n",
              "</style>\n",
              "<table border=\"1\" class=\"dataframe\">\n",
              "  <thead>\n",
              "    <tr style=\"text-align: right;\">\n",
              "      <th></th>\n",
              "      <th>CreditScore</th>\n",
              "      <th>Age</th>\n",
              "      <th>Tenure</th>\n",
              "      <th>Balance</th>\n",
              "      <th>NumOfProducts</th>\n",
              "      <th>HasCrCard</th>\n",
              "      <th>IsActiveMember</th>\n",
              "      <th>EstimatedSalary</th>\n",
              "      <th>Geography_Germany</th>\n",
              "      <th>Geography_Spain</th>\n",
              "      <th>Gender_Male</th>\n",
              "    </tr>\n",
              "  </thead>\n",
              "  <tbody>\n",
              "    <tr>\n",
              "      <th>9712</th>\n",
              "      <td>-0.136422</td>\n",
              "      <td>-0.662105</td>\n",
              "      <td>-0.725077</td>\n",
              "      <td>-1.192697</td>\n",
              "      <td>0.812912</td>\n",
              "      <td>0.647906</td>\n",
              "      <td>0.969466</td>\n",
              "      <td>1.720914</td>\n",
              "      <td>0.0</td>\n",
              "      <td>0.0</td>\n",
              "      <td>1.0</td>\n",
              "    </tr>\n",
              "    <tr>\n",
              "      <th>6379</th>\n",
              "      <td>0.303233</td>\n",
              "      <td>-0.188654</td>\n",
              "      <td>0.735422</td>\n",
              "      <td>-0.005795</td>\n",
              "      <td>-0.911795</td>\n",
              "      <td>0.647906</td>\n",
              "      <td>-1.031496</td>\n",
              "      <td>1.664929</td>\n",
              "      <td>0.0</td>\n",
              "      <td>0.0</td>\n",
              "      <td>1.0</td>\n",
              "    </tr>\n",
              "    <tr>\n",
              "      <th>8689</th>\n",
              "      <td>-1.130880</td>\n",
              "      <td>2.652051</td>\n",
              "      <td>1.830797</td>\n",
              "      <td>0.876011</td>\n",
              "      <td>-0.911795</td>\n",
              "      <td>-1.543434</td>\n",
              "      <td>0.969466</td>\n",
              "      <td>-1.357957</td>\n",
              "      <td>0.0</td>\n",
              "      <td>0.0</td>\n",
              "      <td>1.0</td>\n",
              "    </tr>\n",
              "    <tr>\n",
              "      <th>9097</th>\n",
              "      <td>0.816164</td>\n",
              "      <td>0.379487</td>\n",
              "      <td>0.735422</td>\n",
              "      <td>-1.192697</td>\n",
              "      <td>0.812912</td>\n",
              "      <td>0.647906</td>\n",
              "      <td>-1.031496</td>\n",
              "      <td>-1.032073</td>\n",
              "      <td>0.0</td>\n",
              "      <td>0.0</td>\n",
              "      <td>1.0</td>\n",
              "    </tr>\n",
              "    <tr>\n",
              "      <th>6567</th>\n",
              "      <td>0.125277</td>\n",
              "      <td>1.421079</td>\n",
              "      <td>-1.455327</td>\n",
              "      <td>1.812070</td>\n",
              "      <td>-0.911795</td>\n",
              "      <td>-1.543434</td>\n",
              "      <td>-1.031496</td>\n",
              "      <td>0.213880</td>\n",
              "      <td>0.0</td>\n",
              "      <td>1.0</td>\n",
              "      <td>0.0</td>\n",
              "    </tr>\n",
              "  </tbody>\n",
              "</table>\n",
              "</div>\n",
              "      <button class=\"colab-df-convert\" onclick=\"convertToInteractive('df-0df16f6f-6c27-4279-9ab1-d34f3d4ed02b')\"\n",
              "              title=\"Convert this dataframe to an interactive table.\"\n",
              "              style=\"display:none;\">\n",
              "\n",
              "  <svg xmlns=\"http://www.w3.org/2000/svg\" height=\"24px\"viewBox=\"0 0 24 24\"\n",
              "       width=\"24px\">\n",
              "    <path d=\"M0 0h24v24H0V0z\" fill=\"none\"/>\n",
              "    <path d=\"M18.56 5.44l.94 2.06.94-2.06 2.06-.94-2.06-.94-.94-2.06-.94 2.06-2.06.94zm-11 1L8.5 8.5l.94-2.06 2.06-.94-2.06-.94L8.5 2.5l-.94 2.06-2.06.94zm10 10l.94 2.06.94-2.06 2.06-.94-2.06-.94-.94-2.06-.94 2.06-2.06.94z\"/><path d=\"M17.41 7.96l-1.37-1.37c-.4-.4-.92-.59-1.43-.59-.52 0-1.04.2-1.43.59L10.3 9.45l-7.72 7.72c-.78.78-.78 2.05 0 2.83L4 21.41c.39.39.9.59 1.41.59.51 0 1.02-.2 1.41-.59l7.78-7.78 2.81-2.81c.8-.78.8-2.07 0-2.86zM5.41 20L4 18.59l7.72-7.72 1.47 1.35L5.41 20z\"/>\n",
              "  </svg>\n",
              "      </button>\n",
              "\n",
              "\n",
              "\n",
              "    <div id=\"df-7c365d90-436e-4510-a3ab-be23e6b19516\">\n",
              "      <button class=\"colab-df-quickchart\" onclick=\"quickchart('df-7c365d90-436e-4510-a3ab-be23e6b19516')\"\n",
              "              title=\"Suggest charts.\"\n",
              "              style=\"display:none;\">\n",
              "\n",
              "<svg xmlns=\"http://www.w3.org/2000/svg\" height=\"24px\"viewBox=\"0 0 24 24\"\n",
              "     width=\"24px\">\n",
              "    <g>\n",
              "        <path d=\"M19 3H5c-1.1 0-2 .9-2 2v14c0 1.1.9 2 2 2h14c1.1 0 2-.9 2-2V5c0-1.1-.9-2-2-2zM9 17H7v-7h2v7zm4 0h-2V7h2v10zm4 0h-2v-4h2v4z\"/>\n",
              "    </g>\n",
              "</svg>\n",
              "      </button>\n",
              "    </div>\n",
              "\n",
              "<style>\n",
              "  .colab-df-quickchart {\n",
              "    background-color: #E8F0FE;\n",
              "    border: none;\n",
              "    border-radius: 50%;\n",
              "    cursor: pointer;\n",
              "    display: none;\n",
              "    fill: #1967D2;\n",
              "    height: 32px;\n",
              "    padding: 0 0 0 0;\n",
              "    width: 32px;\n",
              "  }\n",
              "\n",
              "  .colab-df-quickchart:hover {\n",
              "    background-color: #E2EBFA;\n",
              "    box-shadow: 0px 1px 2px rgba(60, 64, 67, 0.3), 0px 1px 3px 1px rgba(60, 64, 67, 0.15);\n",
              "    fill: #174EA6;\n",
              "  }\n",
              "\n",
              "  [theme=dark] .colab-df-quickchart {\n",
              "    background-color: #3B4455;\n",
              "    fill: #D2E3FC;\n",
              "  }\n",
              "\n",
              "  [theme=dark] .colab-df-quickchart:hover {\n",
              "    background-color: #434B5C;\n",
              "    box-shadow: 0px 1px 3px 1px rgba(0, 0, 0, 0.15);\n",
              "    filter: drop-shadow(0px 1px 2px rgba(0, 0, 0, 0.3));\n",
              "    fill: #FFFFFF;\n",
              "  }\n",
              "</style>\n",
              "\n",
              "    <script>\n",
              "      async function quickchart(key) {\n",
              "        const containerElement = document.querySelector('#' + key);\n",
              "        const charts = await google.colab.kernel.invokeFunction(\n",
              "            'suggestCharts', [key], {});\n",
              "      }\n",
              "    </script>\n",
              "\n",
              "      <script>\n",
              "\n",
              "function displayQuickchartButton(domScope) {\n",
              "  let quickchartButtonEl =\n",
              "    domScope.querySelector('#df-7c365d90-436e-4510-a3ab-be23e6b19516 button.colab-df-quickchart');\n",
              "  quickchartButtonEl.style.display =\n",
              "    google.colab.kernel.accessAllowed ? 'block' : 'none';\n",
              "}\n",
              "\n",
              "        displayQuickchartButton(document);\n",
              "      </script>\n",
              "      <style>\n",
              "    .colab-df-container {\n",
              "      display:flex;\n",
              "      flex-wrap:wrap;\n",
              "      gap: 12px;\n",
              "    }\n",
              "\n",
              "    .colab-df-convert {\n",
              "      background-color: #E8F0FE;\n",
              "      border: none;\n",
              "      border-radius: 50%;\n",
              "      cursor: pointer;\n",
              "      display: none;\n",
              "      fill: #1967D2;\n",
              "      height: 32px;\n",
              "      padding: 0 0 0 0;\n",
              "      width: 32px;\n",
              "    }\n",
              "\n",
              "    .colab-df-convert:hover {\n",
              "      background-color: #E2EBFA;\n",
              "      box-shadow: 0px 1px 2px rgba(60, 64, 67, 0.3), 0px 1px 3px 1px rgba(60, 64, 67, 0.15);\n",
              "      fill: #174EA6;\n",
              "    }\n",
              "\n",
              "    [theme=dark] .colab-df-convert {\n",
              "      background-color: #3B4455;\n",
              "      fill: #D2E3FC;\n",
              "    }\n",
              "\n",
              "    [theme=dark] .colab-df-convert:hover {\n",
              "      background-color: #434B5C;\n",
              "      box-shadow: 0px 1px 3px 1px rgba(0, 0, 0, 0.15);\n",
              "      filter: drop-shadow(0px 1px 2px rgba(0, 0, 0, 0.3));\n",
              "      fill: #FFFFFF;\n",
              "    }\n",
              "  </style>\n",
              "\n",
              "      <script>\n",
              "        const buttonEl =\n",
              "          document.querySelector('#df-0df16f6f-6c27-4279-9ab1-d34f3d4ed02b button.colab-df-convert');\n",
              "        buttonEl.style.display =\n",
              "          google.colab.kernel.accessAllowed ? 'block' : 'none';\n",
              "\n",
              "        async function convertToInteractive(key) {\n",
              "          const element = document.querySelector('#df-0df16f6f-6c27-4279-9ab1-d34f3d4ed02b');\n",
              "          const dataTable =\n",
              "            await google.colab.kernel.invokeFunction('convertToInteractive',\n",
              "                                                     [key], {});\n",
              "          if (!dataTable) return;\n",
              "\n",
              "          const docLinkHtml = 'Like what you see? Visit the ' +\n",
              "            '<a target=\"_blank\" href=https://colab.research.google.com/notebooks/data_table.ipynb>data table notebook</a>'\n",
              "            + ' to learn more about interactive tables.';\n",
              "          element.innerHTML = '';\n",
              "          dataTable['output_type'] = 'display_data';\n",
              "          await google.colab.output.renderOutput(dataTable, element);\n",
              "          const docLink = document.createElement('div');\n",
              "          docLink.innerHTML = docLinkHtml;\n",
              "          element.appendChild(docLink);\n",
              "        }\n",
              "      </script>\n",
              "    </div>\n",
              "  </div>\n"
            ]
          },
          "metadata": {}
        }
      ],
      "source": [
        "ohe_features_train = features_train.select_dtypes(include='object').columns.to_list()\n",
        "encoder_ohe = OneHotEncoder(drop='first', handle_unknown='ignore', sparse=False)\n",
        "encoder_ohe.fit(features_train[ohe_features_train])\n",
        "features_train[\n",
        "    encoder_ohe.get_feature_names_out()\n",
        "] = encoder_ohe.transform(features_train[ohe_features_train])\n",
        "\n",
        "features_train = features_train.drop(ohe_features_train, axis=1)\n",
        "\n",
        "numeric = ['CreditScore', 'Age','Tenure', 'Balance', 'NumOfProducts', 'HasCrCard', 'IsActiveMember', 'EstimatedSalary']\n",
        "scaler = StandardScaler()\n",
        "features_train[numeric] = scaler.fit_transform(features_train[numeric])\n",
        "display(features_train.head())\n",
        "\n",
        "features_valid[\n",
        "    encoder_ohe.get_feature_names_out()\n",
        "] = encoder_ohe.transform(features_valid[ohe_features_train])\n",
        "features_valid = features_valid.drop(ohe_features_train, axis=1)\n",
        "features_valid[numeric] = scaler.transform(features_valid[numeric])\n",
        "display(features_valid.head())\n",
        "\n",
        "features_test[\n",
        "    encoder_ohe.get_feature_names_out()\n",
        "] = encoder_ohe.transform(features_test[ohe_features_train])\n",
        "features_test = features_test.drop(ohe_features_train, axis=1)\n",
        "features_test[numeric] = scaler.transform(features_test[numeric])\n",
        "display(features_test.head())"
      ]
    },
    {
      "cell_type": "markdown",
      "metadata": {
        "id": "WGvlfB4ilBfq"
      },
      "source": [
        "Привели выборку к рабочему состоянию:\n",
        "1. заполнили пропуски в данных,\n",
        "2. удалили ненужные столбцы,\n",
        "3. привели кат.значения к численным,\n",
        "4. разделили выборку на обучающую, валидационную и тестовую,\n",
        "5. сделали стандартизацию данных.\n"
      ]
    },
    {
      "cell_type": "markdown",
      "metadata": {
        "id": "6i54OM6VlBfr"
      },
      "source": [
        "## Исследование задачи"
      ]
    },
    {
      "cell_type": "markdown",
      "source": [
        "DecisionTreeClassifier:"
      ],
      "metadata": {
        "id": "tMKxBGrSyDaS"
      }
    },
    {
      "cell_type": "code",
      "execution_count": 9,
      "metadata": {
        "id": "-4B8YTj0lBfr",
        "outputId": "cb6c8ab8-4a67-4e88-d010-6469445ea6eb",
        "colab": {
          "base_uri": "https://localhost:8080/"
        }
      },
      "outputs": [
        {
          "output_type": "stream",
          "name": "stdout",
          "text": [
            "max_depth = 1, F1 = 0.0\n",
            "max_depth = 2, F1 = 0.5134751773049645\n",
            "max_depth = 3, F1 = 0.39024390243902435\n",
            "max_depth = 4, F1 = 0.5360501567398119\n",
            "max_depth = 5, F1 = 0.5925925925925927\n",
            "max_depth = 6, F1 = 0.5545454545454546\n",
            "max_depth = 7, F1 = 0.5301204819277109\n",
            "max_depth = 8, F1 = 0.5550786838340486\n",
            "max_depth = 9, F1 = 0.5658263305322129\n",
            "max_depth = 10, F1 = 0.5329744279946165\n",
            "max_depth = 11, F1 = 0.5291723202170964\n",
            "max_depth = 12, F1 = 0.507343124165554\n",
            "max_depth = 13, F1 = 0.5097529258777633\n",
            "max_depth = 14, F1 = 0.5155666251556662\n",
            "max_depth = 15, F1 = 0.515970515970516\n",
            "max_depth = 16, F1 = 0.5114045618247299\n",
            "max_depth = 17, F1 = 0.5260606060606061\n",
            "max_depth = 18, F1 = 0.5090909090909091\n",
            "max_depth = 19, F1 = 0.5035799522673031\n",
            "max_depth = 20, F1 = 0.4964200477326969\n",
            "Лучший результат для модели Решающее дерево при глубине 5: F1 = 0.5925925925925927\n",
            "Площадь ROC-кривой_DT: 0.6853556175590074\n"
          ]
        }
      ],
      "source": [
        "best_depth = 0\n",
        "best_f1 = 0\n",
        "\n",
        "for depth in range(1, 21):\n",
        "    model_DT = DecisionTreeClassifier(random_state = 12345, max_depth = depth)\n",
        "    model_DT.fit(features_train, target_train)\n",
        "    predicted_valid = model_DT.predict(features_valid)\n",
        "    f1 = f1_score(target_valid, predicted_valid)\n",
        "    if f1 > best_f1:\n",
        "        best_depth = depth\n",
        "        best_f1 = f1\n",
        "    print(f'max_depth = {depth}, F1 = {f1}')\n",
        "\n",
        "\n",
        "print(f'Лучший результат для модели Решающее дерево при глубине {best_depth}: F1 = {best_f1}')\n",
        "\n",
        "probabilities = model_DT.predict_proba(features_valid)\n",
        "probabilities_one_dt = probabilities[:, 1]\n",
        "print('Площадь ROC-кривой_DT:', roc_auc_score(target_valid, probabilities_one_dt))"
      ]
    },
    {
      "cell_type": "markdown",
      "source": [
        "RandomForestClassifier:"
      ],
      "metadata": {
        "id": "40Eq1K_NyGdF"
      }
    },
    {
      "cell_type": "code",
      "execution_count": 10,
      "metadata": {
        "id": "Vfvoj8nGlBft",
        "colab": {
          "base_uri": "https://localhost:8080/"
        },
        "outputId": "740853f6-d582-4792-8db7-532b4717cff5"
      },
      "outputs": [
        {
          "output_type": "stream",
          "name": "stdout",
          "text": [
            "n_estimators = 100, max_depth = 1, F1 = 0.0\n",
            "\n",
            "n_estimators = 100, max_depth = 2, F1 = 0.14578587699316628\n",
            "\n",
            "n_estimators = 100, max_depth = 3, F1 = 0.24358974358974358\n",
            "\n",
            "n_estimators = 100, max_depth = 4, F1 = 0.44280442804428044\n",
            "\n",
            "n_estimators = 100, max_depth = 5, F1 = 0.5051546391752578\n",
            "\n",
            "n_estimators = 100, max_depth = 6, F1 = 0.5357737104825291\n",
            "\n",
            "n_estimators = 100, max_depth = 7, F1 = 0.541871921182266\n",
            "\n",
            "n_estimators = 100, max_depth = 8, F1 = 0.5525040387722132\n",
            "\n",
            "n_estimators = 100, max_depth = 9, F1 = 0.5637795275590551\n",
            "\n",
            "n_estimators = 100, max_depth = 10, F1 = 0.5772870662460567\n",
            "\n",
            "n_estimators = 100, max_depth = 11, F1 = 0.5705426356589147\n",
            "\n",
            "n_estimators = 100, max_depth = 12, F1 = 0.576271186440678\n",
            "\n",
            "n_estimators = 100, max_depth = 13, F1 = 0.5810397553516818\n",
            "\n",
            "n_estimators = 100, max_depth = 14, F1 = 0.5613496932515337\n",
            "\n",
            "n_estimators = 100, max_depth = 15, F1 = 0.5623100303951367\n",
            "\n",
            "n_estimators = 100, max_depth = 16, F1 = 0.5701219512195123\n",
            "\n",
            "n_estimators = 100, max_depth = 17, F1 = 0.5671191553544495\n",
            "\n",
            "n_estimators = 100, max_depth = 18, F1 = 0.5688622754491017\n",
            "\n",
            "n_estimators = 100, max_depth = 19, F1 = 0.5688073394495412\n",
            "\n",
            "n_estimators = 100, max_depth = 20, F1 = 0.5718608169440242\n",
            "\n",
            "n_estimators = 130, max_depth = 1, F1 = 0.0\n",
            "\n",
            "n_estimators = 130, max_depth = 2, F1 = 0.14578587699316628\n",
            "\n",
            "n_estimators = 130, max_depth = 3, F1 = 0.23225806451612901\n",
            "\n",
            "n_estimators = 130, max_depth = 4, F1 = 0.4283054003724394\n",
            "\n",
            "n_estimators = 130, max_depth = 5, F1 = 0.5\n",
            "\n",
            "n_estimators = 130, max_depth = 6, F1 = 0.5324459234608985\n",
            "\n",
            "n_estimators = 130, max_depth = 7, F1 = 0.5481239804241436\n",
            "\n",
            "n_estimators = 130, max_depth = 8, F1 = 0.553398058252427\n",
            "\n",
            "n_estimators = 130, max_depth = 9, F1 = 0.5588697017268447\n",
            "\n",
            "n_estimators = 130, max_depth = 10, F1 = 0.5673981191222571\n",
            "\n",
            "n_estimators = 130, max_depth = 11, F1 = 0.5727554179566563\n",
            "\n",
            "n_estimators = 130, max_depth = 12, F1 = 0.5758039816232772\n",
            "\n",
            "n_estimators = 130, max_depth = 13, F1 = 0.5758039816232772\n",
            "\n",
            "n_estimators = 130, max_depth = 14, F1 = 0.5696784073506891\n",
            "\n",
            "n_estimators = 130, max_depth = 15, F1 = 0.5662100456621003\n",
            "\n",
            "n_estimators = 130, max_depth = 16, F1 = 0.564885496183206\n",
            "\n",
            "n_estimators = 130, max_depth = 17, F1 = 0.5697151424287856\n",
            "\n",
            "n_estimators = 130, max_depth = 18, F1 = 0.5667166416791605\n",
            "\n",
            "n_estimators = 130, max_depth = 19, F1 = 0.5775075987841944\n",
            "\n",
            "n_estimators = 130, max_depth = 20, F1 = 0.5679758308157099\n",
            "\n",
            "n_estimators = 160, max_depth = 1, F1 = 0.0\n",
            "\n",
            "n_estimators = 160, max_depth = 2, F1 = 0.16252821670428894\n",
            "\n",
            "n_estimators = 160, max_depth = 3, F1 = 0.24358974358974358\n",
            "\n",
            "n_estimators = 160, max_depth = 4, F1 = 0.4349442379182156\n",
            "\n",
            "n_estimators = 160, max_depth = 5, F1 = 0.5051546391752578\n",
            "\n",
            "n_estimators = 160, max_depth = 6, F1 = 0.5342237061769616\n",
            "\n",
            "n_estimators = 160, max_depth = 7, F1 = 0.5490196078431372\n",
            "\n",
            "n_estimators = 160, max_depth = 8, F1 = 0.5571658615136875\n",
            "\n",
            "n_estimators = 160, max_depth = 9, F1 = 0.5588697017268447\n",
            "\n",
            "n_estimators = 160, max_depth = 10, F1 = 0.5727699530516431\n",
            "\n",
            "n_estimators = 160, max_depth = 11, F1 = 0.5692068429237948\n",
            "\n",
            "n_estimators = 160, max_depth = 12, F1 = 0.5727411944869831\n",
            "\n",
            "n_estimators = 160, max_depth = 13, F1 = 0.5714285714285714\n",
            "\n",
            "n_estimators = 160, max_depth = 14, F1 = 0.5718654434250764\n",
            "\n",
            "n_estimators = 160, max_depth = 15, F1 = 0.5696969696969697\n",
            "\n",
            "n_estimators = 160, max_depth = 16, F1 = 0.5652841781874041\n",
            "\n",
            "n_estimators = 160, max_depth = 17, F1 = 0.5649546827794562\n",
            "\n",
            "n_estimators = 160, max_depth = 18, F1 = 0.5675675675675677\n",
            "\n",
            "n_estimators = 160, max_depth = 19, F1 = 0.5731523378582202\n",
            "\n",
            "n_estimators = 160, max_depth = 20, F1 = 0.56752655538695\n",
            "\n",
            "n_estimators = 190, max_depth = 1, F1 = 0.0\n",
            "\n",
            "n_estimators = 190, max_depth = 2, F1 = 0.17857142857142858\n",
            "\n",
            "n_estimators = 190, max_depth = 3, F1 = 0.24733475479744138\n",
            "\n",
            "n_estimators = 190, max_depth = 4, F1 = 0.4172932330827067\n",
            "\n",
            "n_estimators = 190, max_depth = 5, F1 = 0.5102739726027397\n",
            "\n",
            "n_estimators = 190, max_depth = 6, F1 = 0.5308848080133556\n",
            "\n",
            "n_estimators = 190, max_depth = 7, F1 = 0.5490196078431372\n",
            "\n",
            "n_estimators = 190, max_depth = 8, F1 = 0.5571658615136875\n",
            "\n",
            "n_estimators = 190, max_depth = 9, F1 = 0.5543307086614173\n",
            "\n",
            "n_estimators = 190, max_depth = 10, F1 = 0.5745682888540031\n",
            "\n",
            "n_estimators = 190, max_depth = 11, F1 = 0.5727554179566563\n",
            "\n",
            "n_estimators = 190, max_depth = 12, F1 = 0.5792682926829269\n",
            "\n",
            "n_estimators = 190, max_depth = 13, F1 = 0.5723076923076923\n",
            "\n",
            "n_estimators = 190, max_depth = 14, F1 = 0.56793893129771\n",
            "\n",
            "n_estimators = 190, max_depth = 15, F1 = 0.5666666666666667\n",
            "\n",
            "n_estimators = 190, max_depth = 16, F1 = 0.5666666666666667\n",
            "\n",
            "n_estimators = 190, max_depth = 17, F1 = 0.5692541856925419\n",
            "\n",
            "n_estimators = 190, max_depth = 18, F1 = 0.5610859728506788\n",
            "\n",
            "n_estimators = 190, max_depth = 19, F1 = 0.5709969788519638\n",
            "\n",
            "n_estimators = 190, max_depth = 20, F1 = 0.563165905631659\n",
            "\n",
            "n_estimators = 220, max_depth = 1, F1 = 0.0\n",
            "\n",
            "n_estimators = 220, max_depth = 2, F1 = 0.174496644295302\n",
            "\n",
            "n_estimators = 220, max_depth = 3, F1 = 0.24733475479744138\n",
            "\n",
            "n_estimators = 220, max_depth = 4, F1 = 0.4090909090909091\n",
            "\n",
            "n_estimators = 220, max_depth = 5, F1 = 0.49300699300699297\n",
            "\n",
            "n_estimators = 220, max_depth = 6, F1 = 0.5243697478991597\n",
            "\n",
            "n_estimators = 220, max_depth = 7, F1 = 0.5460526315789473\n",
            "\n",
            "n_estimators = 220, max_depth = 8, F1 = 0.5571658615136875\n",
            "\n",
            "n_estimators = 220, max_depth = 9, F1 = 0.5532591414944357\n",
            "\n",
            "n_estimators = 220, max_depth = 10, F1 = 0.565560821484992\n",
            "\n",
            "n_estimators = 220, max_depth = 11, F1 = 0.5749613601236476\n",
            "\n",
            "n_estimators = 220, max_depth = 12, F1 = 0.5792682926829269\n",
            "\n",
            "n_estimators = 220, max_depth = 13, F1 = 0.5648148148148149\n",
            "\n",
            "n_estimators = 220, max_depth = 14, F1 = 0.5644171779141105\n",
            "\n",
            "n_estimators = 220, max_depth = 15, F1 = 0.5658093797276853\n",
            "\n",
            "n_estimators = 220, max_depth = 16, F1 = 0.5688350983358548\n",
            "\n",
            "n_estimators = 220, max_depth = 17, F1 = 0.5666666666666667\n",
            "\n",
            "n_estimators = 220, max_depth = 18, F1 = 0.5632530120481927\n",
            "\n",
            "n_estimators = 220, max_depth = 19, F1 = 0.5718608169440242\n",
            "\n",
            "n_estimators = 220, max_depth = 20, F1 = 0.5658093797276853\n",
            "\n",
            "Лучший результат для модели Случайный лес при количестве деревьев 100 при глубине 13: F1 = 0.5810397553516818\n",
            "Площадь ROC-кривой_RF: 0.8391519408468561\n"
          ]
        }
      ],
      "source": [
        "best_est = 0\n",
        "best_depth = 0\n",
        "best_f1 = 0\n",
        "\n",
        "for estimators in range(100, 250, 30):\n",
        "    for depth in range(1,21,1):\n",
        "        model_RF=RandomForestClassifier(max_depth=depth, n_estimators=estimators, random_state=12345)\n",
        "        model_RF.fit(features_train, target_train)\n",
        "        predicted_valid=model_RF.predict(features_valid)\n",
        "        f1 = f1_score(target_valid, predicted_valid)\n",
        "        if f1 > best_f1:\n",
        "            best_est = estimators\n",
        "            best_depth = depth\n",
        "            best_f1 = f1\n",
        "        print(f'n_estimators = {estimators}, max_depth = {depth}, F1 = {f1_score(target_valid, predicted_valid)}')\n",
        "        print()\n",
        "\n",
        "print(f'Лучший результат для модели Случайный лес при количестве деревьев {best_est} при глубине {best_depth}: F1 = {best_f1}')\n",
        "\n",
        "probabilities = model_RF.predict_proba(features_valid)\n",
        "probabilities_one_rf = probabilities[:, 1]\n",
        "print('Площадь ROC-кривой_RF:', roc_auc_score(target_valid, probabilities_one_rf))"
      ]
    },
    {
      "cell_type": "markdown",
      "metadata": {
        "id": "HqjhmXe8lBfu"
      },
      "source": [
        "LogisticRegression:"
      ]
    },
    {
      "cell_type": "code",
      "execution_count": 11,
      "metadata": {
        "id": "S70lu5zOlBf2",
        "outputId": "d24c75d4-642c-47b1-ca68-ce157a8a86e0",
        "colab": {
          "base_uri": "https://localhost:8080/"
        }
      },
      "outputs": [
        {
          "output_type": "stream",
          "name": "stdout",
          "text": [
            "Результат Лог.регрессии самый скромный, F1 = 0.34519572953736655\n",
            "Площадь ROC-кривой: 0.7579937410445886\n"
          ]
        }
      ],
      "source": [
        "model_LR = LogisticRegression(random_state=12345, solver='liblinear')\n",
        "model_LR.fit(features_train, target_train)\n",
        "predicted_valid = model_LR.predict(features_valid)\n",
        "print('Результат Лог.регрессии самый скромный,', f\"F1 = {f1_score(target_valid, predicted_valid)}\")\n",
        "\n",
        "probabilities = model_LR.predict_proba(features_valid)\n",
        "probabilities_one = probabilities[:, 1]\n",
        "print('Площадь ROC-кривой:', roc_auc_score(target_valid, probabilities_one))"
      ]
    },
    {
      "cell_type": "markdown",
      "metadata": {
        "id": "QFD3KLGWlBf3"
      },
      "source": [
        "Проверили среднее гармоническое на дисбалансированной выборке. Топ по обучению:\n",
        "1. Случайный лес\n",
        "2. Решающее дерево\n",
        "3. Логистическая регрессия\n",
        "\n",
        "Лучше всех обучена модель Решающее дерево."
      ]
    },
    {
      "cell_type": "markdown",
      "metadata": {
        "id": "xVAyk_iBlBf4"
      },
      "source": [
        "## Борьба с дисбалансом"
      ]
    },
    {
      "cell_type": "code",
      "execution_count": 12,
      "metadata": {
        "id": "usTQRguxlBf4",
        "outputId": "d238cd30-ef82-4539-ca73-82959160e0c6",
        "colab": {
          "base_uri": "https://localhost:8080/",
          "height": 588
        }
      },
      "outputs": [
        {
          "output_type": "stream",
          "name": "stdout",
          "text": [
            "Посмотрим соотношение отрицательных и положительных ответов:\n",
            "\n",
            "0    0.7963\n",
            "1    0.2037\n",
            "Name: Exited, dtype: float64\n",
            "\n",
            "Отрицательных в 4 раза больше.\n"
          ]
        },
        {
          "output_type": "display_data",
          "data": {
            "text/plain": [
              "<Figure size 640x480 with 1 Axes>"
            ],
            "image/png": "[encoded data removed]"
          },
          "metadata": {}
        }
      ],
      "source": [
        "print('Посмотрим соотношение отрицательных и положительных ответов:')\n",
        "print()\n",
        "class_frequency = data['Exited'].value_counts(normalize= (0, 1))\n",
        "print(class_frequency)\n",
        "print()\n",
        "print('Отрицательных в 4 раза больше.')\n",
        "class_frequency.plot(kind='bar')\n",
        "plt.xlabel('Отрицательные и положительные ответы')\n",
        "plt.ylabel('Доля')\n",
        "plt.title('Соотношение отрицательных и положительных ответов')\n",
        "plt.show()"
      ]
    },
    {
      "cell_type": "code",
      "execution_count": 13,
      "metadata": {
        "id": "x1B1lT39lBf6",
        "outputId": "db90c0aa-156e-4192-b2aa-851436ba036a",
        "colab": {
          "base_uri": "https://localhost:8080/"
        }
      },
      "outputs": [
        {
          "output_type": "stream",
          "name": "stdout",
          "text": [
            "Увеличим выборку в 4 раза на модели RandomForestClassifier:\n",
            "При увеличении выборки F1: 0.5877659574468084\n",
            "Площадь ROC-кривой: 0.8376951682036429\n",
            "\n",
            "Увеличим выборку в 4 раза на модели DecisionTreeClassifier:\n",
            "При увеличении выборки F1: 0.5302879841112214\n",
            "Площадь ROC-кривой: 0.766834631241411\n",
            "\n",
            "Увеличим выборку в 4 раза на модели LogisticRegression:\n",
            "При увеличении выборки F1: 0.481675392670157\n",
            "Площадь ROC-кривой: 0.7625344913480507\n"
          ]
        }
      ],
      "source": [
        "print('Увеличим выборку в 4 раза на модели RandomForestClassifier:')\n",
        "def upsample(features, target, repeat):\n",
        "    features_zeros = features[target == 0]\n",
        "    features_ones = features[target == 1]\n",
        "    target_zeros = target[target == 0]\n",
        "    target_ones = target[target == 1]\n",
        "\n",
        "    features_upsampled_rf = pd.concat([features_zeros] + [features_ones] * repeat)\n",
        "    target_upsampled_rf = pd.concat([target_zeros] + [target_ones] * repeat)\n",
        "\n",
        "    features_upsampled_rf, target_upsampled_rf = shuffle(\n",
        "        features_upsampled_rf, target_upsampled_rf, random_state=12345)\n",
        "\n",
        "    return features_upsampled_rf, target_upsampled_rf\n",
        "\n",
        "features_upsampled_rf, target_upsampled_rf = upsample(features_train, target_train, 4)\n",
        "model_rfup = RandomForestClassifier(max_depth=20, n_estimators=130, random_state=12345)\n",
        "model_rfup.fit(features_upsampled_rf, target_upsampled_rf)\n",
        "predicted_valid_rfup=model_rfup.predict(features_valid)\n",
        "f1_rf = f1_score(target_valid, predicted_valid_rfup)\n",
        "probabilities = model_rfup.predict_proba(features_valid)\n",
        "probabilities_one_rfup = probabilities[:, 1]\n",
        "roc_auc_rf = roc_auc_score(target_valid, probabilities_one_rfup)\n",
        "print(\"При увеличении выборки F1:\", f1_rf)\n",
        "print('Площадь ROC-кривой:', roc_auc_rf)\n",
        "\n",
        "\n",
        "print()\n",
        "print('Увеличим выборку в 4 раза на модели DecisionTreeClassifier:')\n",
        "def upsample(features, target, repeat):\n",
        "    features_zeros = features[target == 0]\n",
        "    features_ones = features[target == 1]\n",
        "    target_zeros = target[target == 0]\n",
        "    target_ones = target[target == 1]\n",
        "\n",
        "    features_upsampled_dt = pd.concat([features_zeros] + [features_ones] * repeat)\n",
        "    target_upsampled_dt = pd.concat([target_zeros] + [target_ones] * repeat)\n",
        "\n",
        "    features_upsampled_dt, target_upsampled_dt = shuffle(\n",
        "        features_upsampled_dt, target_upsampled_dt, random_state=12345)\n",
        "\n",
        "    return features_upsampled_dt, target_upsampled_dt\n",
        "\n",
        "features_upsampled_dt, target_upsampled_dt = upsample(features_train, target_train, 4)\n",
        "model_dtup = DecisionTreeClassifier(random_state = 12345, max_depth = 8)\n",
        "model_dtup.fit(features_upsampled_dt, target_upsampled_dt)\n",
        "predicted_valid_dtup=model_dtup.predict(features_valid)\n",
        "f1_dt = f1_score(target_valid, predicted_valid_dtup)\n",
        "probabilities = model_dtup.predict_proba(features_valid)\n",
        "probabilities_one_dtup = probabilities[:, 1]\n",
        "roc_auc_dt = roc_auc_score(target_valid, probabilities_one_dtup)\n",
        "print(\"При увеличении выборки F1:\", f1_dt)\n",
        "print('Площадь ROC-кривой:', roc_auc_dt)\n",
        "\n",
        "\n",
        "print()\n",
        "print('Увеличим выборку в 4 раза на модели LogisticRegression:')\n",
        "def upsample(features, target, repeat):\n",
        "    features_zeros = features[target == 0]\n",
        "    features_ones = features[target == 1]\n",
        "    target_zeros = target[target == 0]\n",
        "    target_ones = target[target == 1]\n",
        "\n",
        "    features_upsampled = pd.concat([features_zeros] + [features_ones] * repeat)\n",
        "    target_upsampled = pd.concat([target_zeros] + [target_ones] * repeat)\n",
        "\n",
        "    features_upsampled, target_upsampled = shuffle(\n",
        "        features_upsampled, target_upsampled, random_state=12345)\n",
        "\n",
        "    return features_upsampled, target_upsampled\n",
        "\n",
        "features_upsampled, target_upsampled = upsample(features_train, target_train, 4)\n",
        "\n",
        "model_lrup = LogisticRegression(random_state=12345, solver='liblinear')\n",
        "model_lrup.fit(features_upsampled, target_upsampled)\n",
        "predicted_valid_lrup=model_lrup.predict(features_valid)\n",
        "f1_lr=f1_score(target_valid, predicted_valid_lrup)\n",
        "probabilities = model_lrup.predict_proba(features_valid)\n",
        "probabilities_one_lrup = probabilities[:, 1]\n",
        "roc_auc_lr = roc_auc_score(target_valid, probabilities_one_lrup)\n",
        "print(\"При увеличении выборки F1:\", f1_lr)\n",
        "print('Площадь ROC-кривой:', roc_auc_lr)"
      ]
    },
    {
      "cell_type": "code",
      "execution_count": 14,
      "metadata": {
        "id": "W1Cy8DcvlBf7",
        "outputId": "8e82706b-ae3c-4d9a-ac18-f5443abd8d95",
        "colab": {
          "base_uri": "https://localhost:8080/"
        }
      },
      "outputs": [
        {
          "output_type": "stream",
          "name": "stdout",
          "text": [
            "Уменьшим выборку в 4 раза на модели RandomForestClassifier:\n",
            "При уменьшении выборки F1: 0.5716963448922212\n",
            "Площадь ROC-кривой: 0.8404274844952812\n",
            "\n",
            "Уменьшим выборку в 4 раза на модели DecisionTreeClassifier\n",
            "При уменьшении выборки F1: 0.5257032007759458\n",
            "Площадь ROC-кривой: 0.7769688023925311\n",
            "\n",
            "Уменьшим выборку в 4 раза на модели LogisticRegression\n",
            "При уменьшении выборки F1: 0.48428207306711973\n",
            "Площадь ROC-кривой: 0.7614887614887615\n"
          ]
        }
      ],
      "source": [
        "print('Уменьшим выборку в 4 раза на модели RandomForestClassifier:')\n",
        "def downsample(features, target, fraction):\n",
        "    features_zeros = features[target == 0]\n",
        "    features_ones = features[target == 1]\n",
        "    target_zeros = target[target == 0]\n",
        "    target_ones = target[target == 1]\n",
        "\n",
        "    features_downsampled_rf = pd.concat([features_zeros.sample(frac=fraction, random_state=12345)] + [features_ones])\n",
        "    target_downsampled_rf = pd.concat([target_zeros.sample(frac=fraction, random_state=12345)] + [target_ones])\n",
        "\n",
        "    features_downsampled_rf, target_downsampled_rf = shuffle(features_downsampled_rf, target_downsampled_rf, random_state=12345)\n",
        "\n",
        "    return features_downsampled_rf, target_downsampled_rf\n",
        "\n",
        "features_downsampled_rf, target_downsampled_rf = downsample(features_train, target_train, 0.25)\n",
        "\n",
        "model_rfdw = RandomForestClassifier(max_depth=20, n_estimators=130, random_state=12345)\n",
        "model_rfdw.fit(features_downsampled_rf, target_downsampled_rf)\n",
        "predicted_valid_rfdw=model_rfdw.predict(features_valid)\n",
        "f1_rfdw = f1_score(target_valid, predicted_valid_rfdw)\n",
        "probabilities = model_rfdw.predict_proba(features_valid)\n",
        "probabilities_one_rfdw = probabilities[:, 1]\n",
        "roc_auc_rfdw = roc_auc_score(target_valid, probabilities_one_rfdw)\n",
        "print(\"При уменьшении выборки F1:\", f1_rfdw)\n",
        "print('Площадь ROC-кривой:', roc_auc_rfdw)\n",
        "\n",
        "\n",
        "print()\n",
        "print('Уменьшим выборку в 4 раза на модели DecisionTreeClassifier')\n",
        "def downsample(features, target, fraction):\n",
        "    features_zeros = features[target == 0]\n",
        "    features_ones = features[target == 1]\n",
        "    target_zeros = target[target == 0]\n",
        "    target_ones = target[target == 1]\n",
        "\n",
        "    features_downsampled_dt = pd.concat([features_zeros.sample(frac=fraction, random_state=12345)] + [features_ones])\n",
        "    target_downsampled_dt = pd.concat([target_zeros.sample(frac=fraction, random_state=12345)] + [target_ones])\n",
        "\n",
        "    features_downsampled_dt, target_downsampled_dt = shuffle(features_downsampled_dt, target_downsampled_dt, random_state=12345)\n",
        "\n",
        "    return features_downsampled_dt, target_downsampled_dt\n",
        "\n",
        "features_downsampled_dt, target_downsampled_dt = downsample(features_train, target_train, 0.25)\n",
        "\n",
        "model_dtdw = DecisionTreeClassifier(random_state = 12345, max_depth = 8)\n",
        "model_dtdw.fit(features_downsampled_dt, target_downsampled_dt)\n",
        "predicted_valid_dtdw=model_dtdw.predict(features_valid)\n",
        "f1_dtdw = f1_score(target_valid, predicted_valid_dtdw)\n",
        "probabilities = model_dtdw.predict_proba(features_valid)\n",
        "probabilities_one_dtdw = probabilities[:, 1]\n",
        "roc_auc_dtdw = roc_auc_score(target_valid, probabilities_one_dtdw)\n",
        "print(\"При уменьшении выборки F1:\", f1_dtdw)\n",
        "print('Площадь ROC-кривой:', roc_auc_dtdw)\n",
        "\n",
        "\n",
        "print()\n",
        "print('Уменьшим выборку в 4 раза на модели LogisticRegression')\n",
        "def downsample(features, target, fraction):\n",
        "    features_zeros = features[target == 0]\n",
        "    features_ones = features[target == 1]\n",
        "    target_zeros = target[target == 0]\n",
        "    target_ones = target[target == 1]\n",
        "\n",
        "    features_downsampled = pd.concat([features_zeros.sample(frac=fraction, random_state=12345)] + [features_ones])\n",
        "    target_downsampled = pd.concat([target_zeros.sample(frac=fraction, random_state=12345)] + [target_ones])\n",
        "\n",
        "    features_downsampled, target_downsampled = shuffle(features_downsampled, target_downsampled, random_state=12345)\n",
        "\n",
        "    return features_downsampled, target_downsampled\n",
        "\n",
        "features_downsampled, target_downsampled = downsample(features_train, target_train, 0.25)\n",
        "\n",
        "model_lrdw = LogisticRegression(random_state=12345, solver='liblinear')\n",
        "model_lrdw.fit(features_downsampled, target_downsampled)\n",
        "predicted_valid_lrdw=model_lrdw.predict(features_valid)\n",
        "f1_lrdw = f1_score(target_valid, predicted_valid_lrdw)\n",
        "probabilities = model_lrdw.predict_proba(features_valid)\n",
        "probabilities_one_lrdw = probabilities[:, 1]\n",
        "roc_auc_lrdw = roc_auc_score(target_valid, probabilities_one_lrdw)\n",
        "print(\"При уменьшении выборки F1:\", f1_lrdw)\n",
        "print('Площадь ROC-кривой:', roc_auc_lrdw)"
      ]
    },
    {
      "cell_type": "code",
      "execution_count": 15,
      "metadata": {
        "id": "TwUYnx11lBf8",
        "outputId": "985faa17-5fd6-43d9-be23-a2ef215ae4bc",
        "colab": {
          "base_uri": "https://localhost:8080/"
        }
      },
      "outputs": [
        {
          "output_type": "stream",
          "name": "stdout",
          "text": [
            "\n",
            "При пороге 0.38 значение f1 = 0.6180904522613065. Это лучший порог для модели RandomForestClassifier\n",
            "Площадь ROC-кривой: 0.8406387897913322\n",
            "\n",
            "При пороге 0.24 значение f1 = 0.576271186440678. Это лучший порог для модели DecisionTreeClassifier\n",
            "Площадь ROC-кривой: 0.8086723086723087\n",
            "\n",
            "При пороге 0.28 значение f1 = 0.49043869516310457. Это лучший порог для модели LogisticRegression\n",
            "Площадь ROC-кривой: 0.7579937410445886\n"
          ]
        }
      ],
      "source": [
        "model_rfth = RandomForestClassifier(max_depth=20, n_estimators=130, random_state=12345)\n",
        "model_rfth.fit(features_train, target_train)\n",
        "probabilities_valid_rfth = model_rfth.predict_proba(features_valid)\n",
        "probabilities_one_valid_rfth = probabilities_valid_rfth[:, 1]\n",
        "\n",
        "print()\n",
        "best_f1_rf = 0\n",
        "best_threshold_rf = 0\n",
        "for threshold_rf in np.arange(0, 1.0, 0.02):\n",
        "    predicted_valid_rfth = probabilities_one_valid_rfth > threshold_rf\n",
        "    precision_rfth = precision_score(target_valid, predicted_valid_rfth)\n",
        "    recall_rfth = recall_score(target_valid, predicted_valid_rfth)\n",
        "    f1 = f1_score(target_valid, predicted_valid_rfth)\n",
        "    if f1 > best_f1_rf:\n",
        "        best_threshold_rf = threshold_rf\n",
        "        best_f1_rf = f1\n",
        "\n",
        "f1_rfth = f1_score(target_valid, predicted_valid_rfth)\n",
        "probabilities = model_rfth.predict_proba(features_valid)\n",
        "probabilities_one_rfth = probabilities[:, 1]\n",
        "roc_auc_rfth = roc_auc_score(target_valid, probabilities_one_rfth)\n",
        "print(f'При пороге {best_threshold_rf} значение f1 = {best_f1_rf}. Это лучший порог для модели RandomForestClassifier')\n",
        "print('Площадь ROC-кривой:', roc_auc_rfth)\n",
        "\n",
        "\n",
        "print()\n",
        "best_f1_dt = 0\n",
        "best_threshold_dt = 0\n",
        "model_dtth = DecisionTreeClassifier(random_state = 12345, max_depth = 8)\n",
        "model_dtth.fit(features_train, target_train)\n",
        "probabilities_valid_dtth = model_dtth.predict_proba(features_valid)\n",
        "probabilities_one_valid_dtth = probabilities_valid_dtth[:, 1]\n",
        "\n",
        "for threshold_dt in np.arange(0, 1.0, 0.02):\n",
        "    predicted_valid_dtth = probabilities_one_valid_dtth > threshold_dt\n",
        "    precision_dtth = precision_score(target_valid, predicted_valid_dtth)\n",
        "    recall_dtth = recall_score(target_valid, predicted_valid_dtth)\n",
        "    f1 = f1_score(target_valid, predicted_valid_dtth)\n",
        "    if f1 > best_f1_dt:\n",
        "        best_threshold_dt = threshold_dt\n",
        "        best_f1_dt = f1\n",
        "\n",
        "f1_dtth = f1_score(target_valid, predicted_valid_dtth)\n",
        "probabilities = model_dtth.predict_proba(features_valid)\n",
        "probabilities_one_dtth = probabilities[:, 1]\n",
        "roc_auc_dtth = roc_auc_score(target_valid, probabilities_one_dtth)\n",
        "print(f'При пороге {best_threshold_dt} значение f1 = {best_f1_dt}. Это лучший порог для модели DecisionTreeClassifier')\n",
        "print('Площадь ROC-кривой:', roc_auc_dtth)\n",
        "\n",
        "\n",
        "print()\n",
        "best_f1_lr = 0\n",
        "best_threshold_lr = 0\n",
        "model_lrth = LogisticRegression(random_state=12345, solver='liblinear')\n",
        "model_lrth.fit(features_train, target_train)\n",
        "probabilities_valid_lrth = model_lrth.predict_proba(features_valid)\n",
        "probabilities_one_valid_lrth = probabilities_valid_lrth[:, 1]\n",
        "\n",
        "\n",
        "for threshold_lr in np.arange(0, 1.0, 0.02):\n",
        "    predicted_valid_lrth = probabilities_one_valid_lrth > threshold_lr\n",
        "    precision_lrth = precision_score(target_valid, predicted_valid_lrth)\n",
        "    recall_lrth = recall_score(target_valid, predicted_valid_lrth)\n",
        "    f1 = f1_score(target_valid, predicted_valid_lrth)\n",
        "    if f1 > best_f1_lr:\n",
        "        best_threshold_lr = threshold_lr\n",
        "        best_f1_lr = f1\n",
        "\n",
        "f1_lrth = f1_score(target_valid, predicted_valid_lrth)\n",
        "probabilities = model_lrth.predict_proba(features_valid)\n",
        "probabilities_one_lrth = probabilities[:, 1]\n",
        "roc_auc_lrth = roc_auc_score(target_valid, probabilities_one_lrth)\n",
        "print(f'При пороге {best_threshold_lr} значение f1 = {best_f1_lr}. Это лучший порог для модели LogisticRegression')\n",
        "print('Площадь ROC-кривой:', roc_auc_lrth)\n",
        "\n"
      ]
    },
    {
      "cell_type": "code",
      "execution_count": 16,
      "metadata": {
        "id": "nkHWz0D4lBf-",
        "outputId": "ac4a03a8-f861-49ea-ee82-72e50c9536ce",
        "colab": {
          "base_uri": "https://localhost:8080/",
          "height": 357
        }
      },
      "outputs": [
        {
          "output_type": "display_data",
          "data": {
            "text/plain": [
              "'Итоги по обучению модели RandomForestClassifier. Лучший показатель при изменении порога'"
            ],
            "application/vnd.google.colaboratory.intrinsic+json": {
              "type": "string"
            }
          },
          "metadata": {}
        },
        {
          "output_type": "display_data",
          "data": {
            "text/plain": [
              "      Метрика  Дисбал.с подб.гиперпарам.  Увеличение выборки  \\\n",
              "0          f1                   0.604993            0.587766   \n",
              "1  roc-кривая                   0.854873            0.837695   \n",
              "\n",
              "   Уменьшение выборки  Изменение порога  \n",
              "0            0.571696          0.618090  \n",
              "1            0.840427          0.840639  "
            ],
            "text/html": [
              "\n",
              "\n",
              "  <div id=\"df-949dee11-93c8-441c-b6a6-92ad3d0ba0d8\">\n",
              "    <div class=\"colab-df-container\">\n",
              "      <div>\n",
              "<style scoped>\n",
              "    .dataframe tbody tr th:only-of-type {\n",
              "        vertical-align: middle;\n",
              "    }\n",
              "\n",
              "    .dataframe tbody tr th {\n",
              "        vertical-align: top;\n",
              "    }\n",
              "\n",
              "    .dataframe thead th {\n",
              "        text-align: right;\n",
              "    }\n",
              "</style>\n",
              "<table border=\"1\" class=\"dataframe\">\n",
              "  <thead>\n",
              "    <tr style=\"text-align: right;\">\n",
              "      <th></th>\n",
              "      <th>Метрика</th>\n",
              "      <th>Дисбал.с подб.гиперпарам.</th>\n",
              "      <th>Увеличение выборки</th>\n",
              "      <th>Уменьшение выборки</th>\n",
              "      <th>Изменение порога</th>\n",
              "    </tr>\n",
              "  </thead>\n",
              "  <tbody>\n",
              "    <tr>\n",
              "      <th>0</th>\n",
              "      <td>f1</td>\n",
              "      <td>0.604993</td>\n",
              "      <td>0.587766</td>\n",
              "      <td>0.571696</td>\n",
              "      <td>0.618090</td>\n",
              "    </tr>\n",
              "    <tr>\n",
              "      <th>1</th>\n",
              "      <td>roc-кривая</td>\n",
              "      <td>0.854873</td>\n",
              "      <td>0.837695</td>\n",
              "      <td>0.840427</td>\n",
              "      <td>0.840639</td>\n",
              "    </tr>\n",
              "  </tbody>\n",
              "</table>\n",
              "</div>\n",
              "      <button class=\"colab-df-convert\" onclick=\"convertToInteractive('df-949dee11-93c8-441c-b6a6-92ad3d0ba0d8')\"\n",
              "              title=\"Convert this dataframe to an interactive table.\"\n",
              "              style=\"display:none;\">\n",
              "\n",
              "  <svg xmlns=\"http://www.w3.org/2000/svg\" height=\"24px\"viewBox=\"0 0 24 24\"\n",
              "       width=\"24px\">\n",
              "    <path d=\"M0 0h24v24H0V0z\" fill=\"none\"/>\n",
              "    <path d=\"M18.56 5.44l.94 2.06.94-2.06 2.06-.94-2.06-.94-.94-2.06-.94 2.06-2.06.94zm-11 1L8.5 8.5l.94-2.06 2.06-.94-2.06-.94L8.5 2.5l-.94 2.06-2.06.94zm10 10l.94 2.06.94-2.06 2.06-.94-2.06-.94-.94-2.06-.94 2.06-2.06.94z\"/><path d=\"M17.41 7.96l-1.37-1.37c-.4-.4-.92-.59-1.43-.59-.52 0-1.04.2-1.43.59L10.3 9.45l-7.72 7.72c-.78.78-.78 2.05 0 2.83L4 21.41c.39.39.9.59 1.41.59.51 0 1.02-.2 1.41-.59l7.78-7.78 2.81-2.81c.8-.78.8-2.07 0-2.86zM5.41 20L4 18.59l7.72-7.72 1.47 1.35L5.41 20z\"/>\n",
              "  </svg>\n",
              "      </button>\n",
              "\n",
              "\n",
              "\n",
              "    <div id=\"df-34429502-6dd5-4c79-ad4a-27587e039fe0\">\n",
              "      <button class=\"colab-df-quickchart\" onclick=\"quickchart('df-34429502-6dd5-4c79-ad4a-27587e039fe0')\"\n",
              "              title=\"Suggest charts.\"\n",
              "              style=\"display:none;\">\n",
              "\n",
              "<svg xmlns=\"http://www.w3.org/2000/svg\" height=\"24px\"viewBox=\"0 0 24 24\"\n",
              "     width=\"24px\">\n",
              "    <g>\n",
              "        <path d=\"M19 3H5c-1.1 0-2 .9-2 2v14c0 1.1.9 2 2 2h14c1.1 0 2-.9 2-2V5c0-1.1-.9-2-2-2zM9 17H7v-7h2v7zm4 0h-2V7h2v10zm4 0h-2v-4h2v4z\"/>\n",
              "    </g>\n",
              "</svg>\n",
              "      </button>\n",
              "    </div>\n",
              "\n",
              "<style>\n",
              "  .colab-df-quickchart {\n",
              "    background-color: #E8F0FE;\n",
              "    border: none;\n",
              "    border-radius: 50%;\n",
              "    cursor: pointer;\n",
              "    display: none;\n",
              "    fill: #1967D2;\n",
              "    height: 32px;\n",
              "    padding: 0 0 0 0;\n",
              "    width: 32px;\n",
              "  }\n",
              "\n",
              "  .colab-df-quickchart:hover {\n",
              "    background-color: #E2EBFA;\n",
              "    box-shadow: 0px 1px 2px rgba(60, 64, 67, 0.3), 0px 1px 3px 1px rgba(60, 64, 67, 0.15);\n",
              "    fill: #174EA6;\n",
              "  }\n",
              "\n",
              "  [theme=dark] .colab-df-quickchart {\n",
              "    background-color: #3B4455;\n",
              "    fill: #D2E3FC;\n",
              "  }\n",
              "\n",
              "  [theme=dark] .colab-df-quickchart:hover {\n",
              "    background-color: #434B5C;\n",
              "    box-shadow: 0px 1px 3px 1px rgba(0, 0, 0, 0.15);\n",
              "    filter: drop-shadow(0px 1px 2px rgba(0, 0, 0, 0.3));\n",
              "    fill: #FFFFFF;\n",
              "  }\n",
              "</style>\n",
              "\n",
              "    <script>\n",
              "      async function quickchart(key) {\n",
              "        const containerElement = document.querySelector('#' + key);\n",
              "        const charts = await google.colab.kernel.invokeFunction(\n",
              "            'suggestCharts', [key], {});\n",
              "      }\n",
              "    </script>\n",
              "\n",
              "      <script>\n",
              "\n",
              "function displayQuickchartButton(domScope) {\n",
              "  let quickchartButtonEl =\n",
              "    domScope.querySelector('#df-34429502-6dd5-4c79-ad4a-27587e039fe0 button.colab-df-quickchart');\n",
              "  quickchartButtonEl.style.display =\n",
              "    google.colab.kernel.accessAllowed ? 'block' : 'none';\n",
              "}\n",
              "\n",
              "        displayQuickchartButton(document);\n",
              "      </script>\n",
              "      <style>\n",
              "    .colab-df-container {\n",
              "      display:flex;\n",
              "      flex-wrap:wrap;\n",
              "      gap: 12px;\n",
              "    }\n",
              "\n",
              "    .colab-df-convert {\n",
              "      background-color: #E8F0FE;\n",
              "      border: none;\n",
              "      border-radius: 50%;\n",
              "      cursor: pointer;\n",
              "      display: none;\n",
              "      fill: #1967D2;\n",
              "      height: 32px;\n",
              "      padding: 0 0 0 0;\n",
              "      width: 32px;\n",
              "    }\n",
              "\n",
              "    .colab-df-convert:hover {\n",
              "      background-color: #E2EBFA;\n",
              "      box-shadow: 0px 1px 2px rgba(60, 64, 67, 0.3), 0px 1px 3px 1px rgba(60, 64, 67, 0.15);\n",
              "      fill: #174EA6;\n",
              "    }\n",
              "\n",
              "    [theme=dark] .colab-df-convert {\n",
              "      background-color: #3B4455;\n",
              "      fill: #D2E3FC;\n",
              "    }\n",
              "\n",
              "    [theme=dark] .colab-df-convert:hover {\n",
              "      background-color: #434B5C;\n",
              "      box-shadow: 0px 1px 3px 1px rgba(0, 0, 0, 0.15);\n",
              "      filter: drop-shadow(0px 1px 2px rgba(0, 0, 0, 0.3));\n",
              "      fill: #FFFFFF;\n",
              "    }\n",
              "  </style>\n",
              "\n",
              "      <script>\n",
              "        const buttonEl =\n",
              "          document.querySelector('#df-949dee11-93c8-441c-b6a6-92ad3d0ba0d8 button.colab-df-convert');\n",
              "        buttonEl.style.display =\n",
              "          google.colab.kernel.accessAllowed ? 'block' : 'none';\n",
              "\n",
              "        async function convertToInteractive(key) {\n",
              "          const element = document.querySelector('#df-949dee11-93c8-441c-b6a6-92ad3d0ba0d8');\n",
              "          const dataTable =\n",
              "            await google.colab.kernel.invokeFunction('convertToInteractive',\n",
              "                                                     [key], {});\n",
              "          if (!dataTable) return;\n",
              "\n",
              "          const docLinkHtml = 'Like what you see? Visit the ' +\n",
              "            '<a target=\"_blank\" href=https://colab.research.google.com/notebooks/data_table.ipynb>data table notebook</a>'\n",
              "            + ' to learn more about interactive tables.';\n",
              "          element.innerHTML = '';\n",
              "          dataTable['output_type'] = 'display_data';\n",
              "          await google.colab.output.renderOutput(dataTable, element);\n",
              "          const docLink = document.createElement('div');\n",
              "          docLink.innerHTML = docLinkHtml;\n",
              "          element.appendChild(docLink);\n",
              "        }\n",
              "      </script>\n",
              "    </div>\n",
              "  </div>\n"
            ]
          },
          "metadata": {}
        },
        {
          "output_type": "display_data",
          "data": {
            "text/plain": [
              "'Итоги по обучению модели DecisionTreeClassifierr. Лучший показатель при изменении порога'"
            ],
            "application/vnd.google.colaboratory.intrinsic+json": {
              "type": "string"
            }
          },
          "metadata": {}
        },
        {
          "output_type": "display_data",
          "data": {
            "text/plain": [
              "      Метрика  Дисбал.с подб.гиперпарам.  Увеличение выборки  \\\n",
              "0          f1                   0.591865            0.530288   \n",
              "1  roc-кривая                   0.696155            0.766835   \n",
              "\n",
              "   Уменьшение выборки  Изменение порога  \n",
              "0            0.525703          0.576271  \n",
              "1            0.776969          0.808672  "
            ],
            "text/html": [
              "\n",
              "\n",
              "  <div id=\"df-530f8476-8a1c-494b-adfe-02c33601cf64\">\n",
              "    <div class=\"colab-df-container\">\n",
              "      <div>\n",
              "<style scoped>\n",
              "    .dataframe tbody tr th:only-of-type {\n",
              "        vertical-align: middle;\n",
              "    }\n",
              "\n",
              "    .dataframe tbody tr th {\n",
              "        vertical-align: top;\n",
              "    }\n",
              "\n",
              "    .dataframe thead th {\n",
              "        text-align: right;\n",
              "    }\n",
              "</style>\n",
              "<table border=\"1\" class=\"dataframe\">\n",
              "  <thead>\n",
              "    <tr style=\"text-align: right;\">\n",
              "      <th></th>\n",
              "      <th>Метрика</th>\n",
              "      <th>Дисбал.с подб.гиперпарам.</th>\n",
              "      <th>Увеличение выборки</th>\n",
              "      <th>Уменьшение выборки</th>\n",
              "      <th>Изменение порога</th>\n",
              "    </tr>\n",
              "  </thead>\n",
              "  <tbody>\n",
              "    <tr>\n",
              "      <th>0</th>\n",
              "      <td>f1</td>\n",
              "      <td>0.591865</td>\n",
              "      <td>0.530288</td>\n",
              "      <td>0.525703</td>\n",
              "      <td>0.576271</td>\n",
              "    </tr>\n",
              "    <tr>\n",
              "      <th>1</th>\n",
              "      <td>roc-кривая</td>\n",
              "      <td>0.696155</td>\n",
              "      <td>0.766835</td>\n",
              "      <td>0.776969</td>\n",
              "      <td>0.808672</td>\n",
              "    </tr>\n",
              "  </tbody>\n",
              "</table>\n",
              "</div>\n",
              "      <button class=\"colab-df-convert\" onclick=\"convertToInteractive('df-530f8476-8a1c-494b-adfe-02c33601cf64')\"\n",
              "              title=\"Convert this dataframe to an interactive table.\"\n",
              "              style=\"display:none;\">\n",
              "\n",
              "  <svg xmlns=\"http://www.w3.org/2000/svg\" height=\"24px\"viewBox=\"0 0 24 24\"\n",
              "       width=\"24px\">\n",
              "    <path d=\"M0 0h24v24H0V0z\" fill=\"none\"/>\n",
              "    <path d=\"M18.56 5.44l.94 2.06.94-2.06 2.06-.94-2.06-.94-.94-2.06-.94 2.06-2.06.94zm-11 1L8.5 8.5l.94-2.06 2.06-.94-2.06-.94L8.5 2.5l-.94 2.06-2.06.94zm10 10l.94 2.06.94-2.06 2.06-.94-2.06-.94-.94-2.06-.94 2.06-2.06.94z\"/><path d=\"M17.41 7.96l-1.37-1.37c-.4-.4-.92-.59-1.43-.59-.52 0-1.04.2-1.43.59L10.3 9.45l-7.72 7.72c-.78.78-.78 2.05 0 2.83L4 21.41c.39.39.9.59 1.41.59.51 0 1.02-.2 1.41-.59l7.78-7.78 2.81-2.81c.8-.78.8-2.07 0-2.86zM5.41 20L4 18.59l7.72-7.72 1.47 1.35L5.41 20z\"/>\n",
              "  </svg>\n",
              "      </button>\n",
              "\n",
              "\n",
              "\n",
              "    <div id=\"df-aaea7e56-47ed-4df8-9ffe-0679db74a140\">\n",
              "      <button class=\"colab-df-quickchart\" onclick=\"quickchart('df-aaea7e56-47ed-4df8-9ffe-0679db74a140')\"\n",
              "              title=\"Suggest charts.\"\n",
              "              style=\"display:none;\">\n",
              "\n",
              "<svg xmlns=\"http://www.w3.org/2000/svg\" height=\"24px\"viewBox=\"0 0 24 24\"\n",
              "     width=\"24px\">\n",
              "    <g>\n",
              "        <path d=\"M19 3H5c-1.1 0-2 .9-2 2v14c0 1.1.9 2 2 2h14c1.1 0 2-.9 2-2V5c0-1.1-.9-2-2-2zM9 17H7v-7h2v7zm4 0h-2V7h2v10zm4 0h-2v-4h2v4z\"/>\n",
              "    </g>\n",
              "</svg>\n",
              "      </button>\n",
              "    </div>\n",
              "\n",
              "<style>\n",
              "  .colab-df-quickchart {\n",
              "    background-color: #E8F0FE;\n",
              "    border: none;\n",
              "    border-radius: 50%;\n",
              "    cursor: pointer;\n",
              "    display: none;\n",
              "    fill: #1967D2;\n",
              "    height: 32px;\n",
              "    padding: 0 0 0 0;\n",
              "    width: 32px;\n",
              "  }\n",
              "\n",
              "  .colab-df-quickchart:hover {\n",
              "    background-color: #E2EBFA;\n",
              "    box-shadow: 0px 1px 2px rgba(60, 64, 67, 0.3), 0px 1px 3px 1px rgba(60, 64, 67, 0.15);\n",
              "    fill: #174EA6;\n",
              "  }\n",
              "\n",
              "  [theme=dark] .colab-df-quickchart {\n",
              "    background-color: #3B4455;\n",
              "    fill: #D2E3FC;\n",
              "  }\n",
              "\n",
              "  [theme=dark] .colab-df-quickchart:hover {\n",
              "    background-color: #434B5C;\n",
              "    box-shadow: 0px 1px 3px 1px rgba(0, 0, 0, 0.15);\n",
              "    filter: drop-shadow(0px 1px 2px rgba(0, 0, 0, 0.3));\n",
              "    fill: #FFFFFF;\n",
              "  }\n",
              "</style>\n",
              "\n",
              "    <script>\n",
              "      async function quickchart(key) {\n",
              "        const containerElement = document.querySelector('#' + key);\n",
              "        const charts = await google.colab.kernel.invokeFunction(\n",
              "            'suggestCharts', [key], {});\n",
              "      }\n",
              "    </script>\n",
              "\n",
              "      <script>\n",
              "\n",
              "function displayQuickchartButton(domScope) {\n",
              "  let quickchartButtonEl =\n",
              "    domScope.querySelector('#df-aaea7e56-47ed-4df8-9ffe-0679db74a140 button.colab-df-quickchart');\n",
              "  quickchartButtonEl.style.display =\n",
              "    google.colab.kernel.accessAllowed ? 'block' : 'none';\n",
              "}\n",
              "\n",
              "        displayQuickchartButton(document);\n",
              "      </script>\n",
              "      <style>\n",
              "    .colab-df-container {\n",
              "      display:flex;\n",
              "      flex-wrap:wrap;\n",
              "      gap: 12px;\n",
              "    }\n",
              "\n",
              "    .colab-df-convert {\n",
              "      background-color: #E8F0FE;\n",
              "      border: none;\n",
              "      border-radius: 50%;\n",
              "      cursor: pointer;\n",
              "      display: none;\n",
              "      fill: #1967D2;\n",
              "      height: 32px;\n",
              "      padding: 0 0 0 0;\n",
              "      width: 32px;\n",
              "    }\n",
              "\n",
              "    .colab-df-convert:hover {\n",
              "      background-color: #E2EBFA;\n",
              "      box-shadow: 0px 1px 2px rgba(60, 64, 67, 0.3), 0px 1px 3px 1px rgba(60, 64, 67, 0.15);\n",
              "      fill: #174EA6;\n",
              "    }\n",
              "\n",
              "    [theme=dark] .colab-df-convert {\n",
              "      background-color: #3B4455;\n",
              "      fill: #D2E3FC;\n",
              "    }\n",
              "\n",
              "    [theme=dark] .colab-df-convert:hover {\n",
              "      background-color: #434B5C;\n",
              "      box-shadow: 0px 1px 3px 1px rgba(0, 0, 0, 0.15);\n",
              "      filter: drop-shadow(0px 1px 2px rgba(0, 0, 0, 0.3));\n",
              "      fill: #FFFFFF;\n",
              "    }\n",
              "  </style>\n",
              "\n",
              "      <script>\n",
              "        const buttonEl =\n",
              "          document.querySelector('#df-530f8476-8a1c-494b-adfe-02c33601cf64 button.colab-df-convert');\n",
              "        buttonEl.style.display =\n",
              "          google.colab.kernel.accessAllowed ? 'block' : 'none';\n",
              "\n",
              "        async function convertToInteractive(key) {\n",
              "          const element = document.querySelector('#df-530f8476-8a1c-494b-adfe-02c33601cf64');\n",
              "          const dataTable =\n",
              "            await google.colab.kernel.invokeFunction('convertToInteractive',\n",
              "                                                     [key], {});\n",
              "          if (!dataTable) return;\n",
              "\n",
              "          const docLinkHtml = 'Like what you see? Visit the ' +\n",
              "            '<a target=\"_blank\" href=https://colab.research.google.com/notebooks/data_table.ipynb>data table notebook</a>'\n",
              "            + ' to learn more about interactive tables.';\n",
              "          element.innerHTML = '';\n",
              "          dataTable['output_type'] = 'display_data';\n",
              "          await google.colab.output.renderOutput(dataTable, element);\n",
              "          const docLink = document.createElement('div');\n",
              "          docLink.innerHTML = docLinkHtml;\n",
              "          element.appendChild(docLink);\n",
              "        }\n",
              "      </script>\n",
              "    </div>\n",
              "  </div>\n"
            ]
          },
          "metadata": {}
        },
        {
          "output_type": "display_data",
          "data": {
            "text/plain": [
              "'Итоги по обучению модели LogisticRegression. Лучший показатель при изменении порога'"
            ],
            "application/vnd.google.colaboratory.intrinsic+json": {
              "type": "string"
            }
          },
          "metadata": {}
        },
        {
          "output_type": "display_data",
          "data": {
            "text/plain": [
              "      Метрика  Дисбал.с подб.гиперпарам.  Увеличение выборки  \\\n",
              "0          f1                   0.368696            0.481675   \n",
              "1  roc-кривая                   0.761822            0.762534   \n",
              "\n",
              "   Уменьшение выборки  Изменение порога  \n",
              "0            0.484282          0.490439  \n",
              "1            0.761489          0.757994  "
            ],
            "text/html": [
              "\n",
              "\n",
              "  <div id=\"df-3114d06b-e921-48f5-b457-3b182d51582f\">\n",
              "    <div class=\"colab-df-container\">\n",
              "      <div>\n",
              "<style scoped>\n",
              "    .dataframe tbody tr th:only-of-type {\n",
              "        vertical-align: middle;\n",
              "    }\n",
              "\n",
              "    .dataframe tbody tr th {\n",
              "        vertical-align: top;\n",
              "    }\n",
              "\n",
              "    .dataframe thead th {\n",
              "        text-align: right;\n",
              "    }\n",
              "</style>\n",
              "<table border=\"1\" class=\"dataframe\">\n",
              "  <thead>\n",
              "    <tr style=\"text-align: right;\">\n",
              "      <th></th>\n",
              "      <th>Метрика</th>\n",
              "      <th>Дисбал.с подб.гиперпарам.</th>\n",
              "      <th>Увеличение выборки</th>\n",
              "      <th>Уменьшение выборки</th>\n",
              "      <th>Изменение порога</th>\n",
              "    </tr>\n",
              "  </thead>\n",
              "  <tbody>\n",
              "    <tr>\n",
              "      <th>0</th>\n",
              "      <td>f1</td>\n",
              "      <td>0.368696</td>\n",
              "      <td>0.481675</td>\n",
              "      <td>0.484282</td>\n",
              "      <td>0.490439</td>\n",
              "    </tr>\n",
              "    <tr>\n",
              "      <th>1</th>\n",
              "      <td>roc-кривая</td>\n",
              "      <td>0.761822</td>\n",
              "      <td>0.762534</td>\n",
              "      <td>0.761489</td>\n",
              "      <td>0.757994</td>\n",
              "    </tr>\n",
              "  </tbody>\n",
              "</table>\n",
              "</div>\n",
              "      <button class=\"colab-df-convert\" onclick=\"convertToInteractive('df-3114d06b-e921-48f5-b457-3b182d51582f')\"\n",
              "              title=\"Convert this dataframe to an interactive table.\"\n",
              "              style=\"display:none;\">\n",
              "\n",
              "  <svg xmlns=\"http://www.w3.org/2000/svg\" height=\"24px\"viewBox=\"0 0 24 24\"\n",
              "       width=\"24px\">\n",
              "    <path d=\"M0 0h24v24H0V0z\" fill=\"none\"/>\n",
              "    <path d=\"M18.56 5.44l.94 2.06.94-2.06 2.06-.94-2.06-.94-.94-2.06-.94 2.06-2.06.94zm-11 1L8.5 8.5l.94-2.06 2.06-.94-2.06-.94L8.5 2.5l-.94 2.06-2.06.94zm10 10l.94 2.06.94-2.06 2.06-.94-2.06-.94-.94-2.06-.94 2.06-2.06.94z\"/><path d=\"M17.41 7.96l-1.37-1.37c-.4-.4-.92-.59-1.43-.59-.52 0-1.04.2-1.43.59L10.3 9.45l-7.72 7.72c-.78.78-.78 2.05 0 2.83L4 21.41c.39.39.9.59 1.41.59.51 0 1.02-.2 1.41-.59l7.78-7.78 2.81-2.81c.8-.78.8-2.07 0-2.86zM5.41 20L4 18.59l7.72-7.72 1.47 1.35L5.41 20z\"/>\n",
              "  </svg>\n",
              "      </button>\n",
              "\n",
              "\n",
              "\n",
              "    <div id=\"df-7aa48ba7-db75-49f9-be7a-39af88e4f7d6\">\n",
              "      <button class=\"colab-df-quickchart\" onclick=\"quickchart('df-7aa48ba7-db75-49f9-be7a-39af88e4f7d6')\"\n",
              "              title=\"Suggest charts.\"\n",
              "              style=\"display:none;\">\n",
              "\n",
              "<svg xmlns=\"http://www.w3.org/2000/svg\" height=\"24px\"viewBox=\"0 0 24 24\"\n",
              "     width=\"24px\">\n",
              "    <g>\n",
              "        <path d=\"M19 3H5c-1.1 0-2 .9-2 2v14c0 1.1.9 2 2 2h14c1.1 0 2-.9 2-2V5c0-1.1-.9-2-2-2zM9 17H7v-7h2v7zm4 0h-2V7h2v10zm4 0h-2v-4h2v4z\"/>\n",
              "    </g>\n",
              "</svg>\n",
              "      </button>\n",
              "    </div>\n",
              "\n",
              "<style>\n",
              "  .colab-df-quickchart {\n",
              "    background-color: #E8F0FE;\n",
              "    border: none;\n",
              "    border-radius: 50%;\n",
              "    cursor: pointer;\n",
              "    display: none;\n",
              "    fill: #1967D2;\n",
              "    height: 32px;\n",
              "    padding: 0 0 0 0;\n",
              "    width: 32px;\n",
              "  }\n",
              "\n",
              "  .colab-df-quickchart:hover {\n",
              "    background-color: #E2EBFA;\n",
              "    box-shadow: 0px 1px 2px rgba(60, 64, 67, 0.3), 0px 1px 3px 1px rgba(60, 64, 67, 0.15);\n",
              "    fill: #174EA6;\n",
              "  }\n",
              "\n",
              "  [theme=dark] .colab-df-quickchart {\n",
              "    background-color: #3B4455;\n",
              "    fill: #D2E3FC;\n",
              "  }\n",
              "\n",
              "  [theme=dark] .colab-df-quickchart:hover {\n",
              "    background-color: #434B5C;\n",
              "    box-shadow: 0px 1px 3px 1px rgba(0, 0, 0, 0.15);\n",
              "    filter: drop-shadow(0px 1px 2px rgba(0, 0, 0, 0.3));\n",
              "    fill: #FFFFFF;\n",
              "  }\n",
              "</style>\n",
              "\n",
              "    <script>\n",
              "      async function quickchart(key) {\n",
              "        const containerElement = document.querySelector('#' + key);\n",
              "        const charts = await google.colab.kernel.invokeFunction(\n",
              "            'suggestCharts', [key], {});\n",
              "      }\n",
              "    </script>\n",
              "\n",
              "      <script>\n",
              "\n",
              "function displayQuickchartButton(domScope) {\n",
              "  let quickchartButtonEl =\n",
              "    domScope.querySelector('#df-7aa48ba7-db75-49f9-be7a-39af88e4f7d6 button.colab-df-quickchart');\n",
              "  quickchartButtonEl.style.display =\n",
              "    google.colab.kernel.accessAllowed ? 'block' : 'none';\n",
              "}\n",
              "\n",
              "        displayQuickchartButton(document);\n",
              "      </script>\n",
              "      <style>\n",
              "    .colab-df-container {\n",
              "      display:flex;\n",
              "      flex-wrap:wrap;\n",
              "      gap: 12px;\n",
              "    }\n",
              "\n",
              "    .colab-df-convert {\n",
              "      background-color: #E8F0FE;\n",
              "      border: none;\n",
              "      border-radius: 50%;\n",
              "      cursor: pointer;\n",
              "      display: none;\n",
              "      fill: #1967D2;\n",
              "      height: 32px;\n",
              "      padding: 0 0 0 0;\n",
              "      width: 32px;\n",
              "    }\n",
              "\n",
              "    .colab-df-convert:hover {\n",
              "      background-color: #E2EBFA;\n",
              "      box-shadow: 0px 1px 2px rgba(60, 64, 67, 0.3), 0px 1px 3px 1px rgba(60, 64, 67, 0.15);\n",
              "      fill: #174EA6;\n",
              "    }\n",
              "\n",
              "    [theme=dark] .colab-df-convert {\n",
              "      background-color: #3B4455;\n",
              "      fill: #D2E3FC;\n",
              "    }\n",
              "\n",
              "    [theme=dark] .colab-df-convert:hover {\n",
              "      background-color: #434B5C;\n",
              "      box-shadow: 0px 1px 3px 1px rgba(0, 0, 0, 0.15);\n",
              "      filter: drop-shadow(0px 1px 2px rgba(0, 0, 0, 0.3));\n",
              "      fill: #FFFFFF;\n",
              "    }\n",
              "  </style>\n",
              "\n",
              "      <script>\n",
              "        const buttonEl =\n",
              "          document.querySelector('#df-3114d06b-e921-48f5-b457-3b182d51582f button.colab-df-convert');\n",
              "        buttonEl.style.display =\n",
              "          google.colab.kernel.accessAllowed ? 'block' : 'none';\n",
              "\n",
              "        async function convertToInteractive(key) {\n",
              "          const element = document.querySelector('#df-3114d06b-e921-48f5-b457-3b182d51582f');\n",
              "          const dataTable =\n",
              "            await google.colab.kernel.invokeFunction('convertToInteractive',\n",
              "                                                     [key], {});\n",
              "          if (!dataTable) return;\n",
              "\n",
              "          const docLinkHtml = 'Like what you see? Visit the ' +\n",
              "            '<a target=\"_blank\" href=https://colab.research.google.com/notebooks/data_table.ipynb>data table notebook</a>'\n",
              "            + ' to learn more about interactive tables.';\n",
              "          element.innerHTML = '';\n",
              "          dataTable['output_type'] = 'display_data';\n",
              "          await google.colab.output.renderOutput(dataTable, element);\n",
              "          const docLink = document.createElement('div');\n",
              "          docLink.innerHTML = docLinkHtml;\n",
              "          element.appendChild(docLink);\n",
              "        }\n",
              "      </script>\n",
              "    </div>\n",
              "  </div>\n"
            ]
          },
          "metadata": {}
        }
      ],
      "source": [
        "display('Итоги по обучению модели RandomForestClassifier. Лучший показатель при изменении порога')\n",
        "all_rf = pd.DataFrame({'Метрика': ['f1', 'roc-кривая'], 'Дисбал.с подб.гиперпарам.': [0.6049926578560939, 0.854873324958124],\n",
        "                       'Увеличение выборки': [f1_rf, roc_auc_rf], 'Уменьшение выборки': [f1_rfdw, roc_auc_rfdw],\n",
        "                       'Изменение порога': [best_f1_rf, roc_auc_rfth]})\n",
        "display(all_rf)\n",
        "\n",
        "display('Итоги по обучению модели DecisionTreeClassifierr. Лучший показатель при изменении порога')\n",
        "all_dt = pd.DataFrame({'Метрика': ['f1', 'roc-кривая'], 'Дисбал.с подб.гиперпарам.': [0.5918653576437587, 0.696154639619667],\n",
        "                       'Увеличение выборки': [f1_dt, roc_auc_dt], 'Уменьшение выборки': [f1_dtdw, roc_auc_dtdw],\n",
        "                       'Изменение порога': [best_f1_dt, roc_auc_dtth]})\n",
        "display(all_dt)\n",
        "\n",
        "display('Итоги по обучению модели LogisticRegression. Лучший показатель при изменении порога')\n",
        "all_lr = pd.DataFrame({'Метрика': ['f1', 'roc-кривая'], 'Дисбал.с подб.гиперпарам.': [0.36869565217391304, 0.761822285446842],\n",
        "                       'Увеличение выборки': [f1_lr, roc_auc_lr], 'Уменьшение выборки': [f1_lrdw, roc_auc_lrdw],\n",
        "                       'Изменение порога': [best_f1_lr, roc_auc_lrth]})\n",
        "display(all_lr)"
      ]
    },
    {
      "cell_type": "markdown",
      "metadata": {
        "id": "05-ndjNslBgF"
      },
      "source": [
        "Посмотрели как обучаются 3 модели при\n",
        "- увеличении выборки,\n",
        "- уменьшении выборки,\n",
        "- изменении порога.\n",
        "\n",
        "**Вывод:**\n",
        "1. Лушчий показатель F1= 0.61521 и площади ROC-кривой = 1.0\n",
        "2. Он принадлежит модели Случайный лес при изменении порога с подобранными гиперпараметрами: глубина 20, количество деревьев - 130, порог - 0,32.\n",
        "3. Для тестирования берем ее."
      ]
    },
    {
      "cell_type": "markdown",
      "metadata": {
        "id": "L0c4WUGdlBgG"
      },
      "source": [
        "## Тестирование модели"
      ]
    },
    {
      "cell_type": "code",
      "execution_count": 17,
      "metadata": {
        "id": "VvV2cQTzlBgH",
        "outputId": "b5984f3d-3411-4475-9f18-c9ebe033ed0d",
        "colab": {
          "base_uri": "https://localhost:8080/"
        }
      },
      "outputs": [
        {
          "output_type": "stream",
          "name": "stdout",
          "text": [
            "test: 0.634032634032634\n",
            "recall: 0.7629310344827587\n"
          ]
        }
      ],
      "source": [
        "model= RandomForestClassifier(max_depth=20, n_estimators=130, random_state=12345)\n",
        "model.fit(features_train, target_train)\n",
        "predicted_test = (model.predict_proba(features_test)[:, 1] >= 0.32).astype(bool)\n",
        "\n",
        "print('test:', f1_score(target_test, predicted_test))\n",
        "print('recall:',recall_score(model.predict(features_test), target_test))"
      ]
    },
    {
      "cell_type": "code",
      "execution_count": 18,
      "metadata": {
        "id": "zIIKIleolBgH",
        "outputId": "29af81a0-b36a-47e9-ee3a-1a2d7f9d13e6",
        "colab": {
          "base_uri": "https://localhost:8080/"
        }
      },
      "outputs": [
        {
          "output_type": "stream",
          "name": "stdout",
          "text": [
            "dummy: 0.3381803074366431\n"
          ]
        }
      ],
      "source": [
        "dummy_model = DummyClassifier(strategy='constant', constant=1)\n",
        "dummy_model.fit(features_train, target_train)\n",
        "predict_dummy=dummy_model.predict(features_train)\n",
        "\n",
        "print('dummy:',f1_score(dummy_model.predict(features_test), target_test))"
      ]
    },
    {
      "cell_type": "markdown",
      "source": [
        "## Итоги работы"
      ],
      "metadata": {
        "id": "oc_tOB9Hz3Ys"
      }
    },
    {
      "cell_type": "markdown",
      "metadata": {
        "id": "5AZYpCk_lBgJ"
      },
      "source": [
        "\n",
        "1. Лучше всего обучается модедь Случайный лес.\n",
        "2. Балансировка выборки не всегда улучшает обучение. Однако, стоит отметить, что балансировка помогает обучению модели лог.регрессия. У нее самый заметный рост.\n",
        "3. Пороги значительно улучшают обучение всех трех моделей.\n",
        "\n",
        "4. Наша модель обучена более, чем на 0,59 благодаря новому порогу.\n",
        "5. в 76% модель дает верные предсказания."
      ]
    }
  ],
  "metadata": {
    "ExecuteTimeLog": [
      {
        "duration": 48,
        "start_time": "2023-01-31T12:08:06.023Z"
      },
      {
        "duration": 489,
        "start_time": "2023-01-31T12:08:08.519Z"
      },
      {
        "duration": 168,
        "start_time": "2023-01-31T12:08:10.840Z"
      },
      {
        "duration": 78,
        "start_time": "2023-01-31T12:08:31.595Z"
      },
      {
        "duration": 75,
        "start_time": "2023-01-31T12:08:56.628Z"
      },
      {
        "duration": 57,
        "start_time": "2023-01-31T12:09:03.755Z"
      },
      {
        "duration": 10,
        "start_time": "2023-01-31T13:32:47.840Z"
      },
      {
        "duration": 854,
        "start_time": "2023-01-31T13:33:13.781Z"
      },
      {
        "duration": 56,
        "start_time": "2023-01-31T13:33:20.281Z"
      },
      {
        "duration": 20,
        "start_time": "2023-01-31T13:34:50.252Z"
      },
      {
        "duration": 20,
        "start_time": "2023-01-31T13:45:55.511Z"
      },
      {
        "duration": 1114,
        "start_time": "2023-01-31T18:55:51.586Z"
      },
      {
        "duration": 107,
        "start_time": "2023-01-31T19:02:24.402Z"
      },
      {
        "duration": 100,
        "start_time": "2023-01-31T19:02:29.615Z"
      },
      {
        "duration": 1767,
        "start_time": "2023-01-31T19:02:35.017Z"
      },
      {
        "duration": 46,
        "start_time": "2023-01-31T19:03:19.155Z"
      },
      {
        "duration": 14,
        "start_time": "2023-01-31T19:03:27.326Z"
      },
      {
        "duration": 14,
        "start_time": "2023-01-31T19:03:43.876Z"
      },
      {
        "duration": 14,
        "start_time": "2023-01-31T19:03:46.893Z"
      },
      {
        "duration": 4,
        "start_time": "2023-01-31T19:06:54.486Z"
      },
      {
        "duration": 5,
        "start_time": "2023-01-31T19:11:28.485Z"
      },
      {
        "duration": 2,
        "start_time": "2023-01-31T19:11:37.186Z"
      },
      {
        "duration": 43,
        "start_time": "2023-01-31T19:11:39.784Z"
      },
      {
        "duration": 14,
        "start_time": "2023-01-31T19:11:45.653Z"
      },
      {
        "duration": 5,
        "start_time": "2023-01-31T19:11:49.108Z"
      },
      {
        "duration": 41,
        "start_time": "2023-01-31T19:14:18.209Z"
      },
      {
        "duration": 21,
        "start_time": "2023-01-31T19:14:42.246Z"
      },
      {
        "duration": 21,
        "start_time": "2023-01-31T19:15:21.611Z"
      },
      {
        "duration": 22,
        "start_time": "2023-01-31T19:16:16.521Z"
      },
      {
        "duration": 24,
        "start_time": "2023-01-31T19:17:24.187Z"
      },
      {
        "duration": 31,
        "start_time": "2023-01-31T19:19:19.048Z"
      },
      {
        "duration": 24,
        "start_time": "2023-01-31T19:21:56.924Z"
      },
      {
        "duration": 3,
        "start_time": "2023-01-31T19:22:52.188Z"
      },
      {
        "duration": 149,
        "start_time": "2023-01-31T19:23:14.889Z"
      },
      {
        "duration": 3,
        "start_time": "2023-01-31T19:24:14.224Z"
      },
      {
        "duration": 152,
        "start_time": "2023-01-31T19:24:20.301Z"
      },
      {
        "duration": 124,
        "start_time": "2023-01-31T19:24:39.145Z"
      },
      {
        "duration": 133,
        "start_time": "2023-01-31T19:25:49.062Z"
      },
      {
        "duration": 129,
        "start_time": "2023-01-31T19:25:59.288Z"
      },
      {
        "duration": 147,
        "start_time": "2023-01-31T19:26:26.188Z"
      },
      {
        "duration": 143,
        "start_time": "2023-01-31T19:26:38.828Z"
      },
      {
        "duration": 241,
        "start_time": "2023-01-31T19:26:53.909Z"
      },
      {
        "duration": 183,
        "start_time": "2023-01-31T19:27:04.825Z"
      },
      {
        "duration": 29,
        "start_time": "2023-01-31T19:27:43.787Z"
      },
      {
        "duration": 19,
        "start_time": "2023-01-31T19:28:14.430Z"
      },
      {
        "duration": 29,
        "start_time": "2023-01-31T19:28:40.293Z"
      },
      {
        "duration": 27,
        "start_time": "2023-01-31T19:28:59.893Z"
      },
      {
        "duration": 197,
        "start_time": "2023-01-31T19:29:21.143Z"
      },
      {
        "duration": 145,
        "start_time": "2023-01-31T19:29:34.314Z"
      },
      {
        "duration": 130,
        "start_time": "2023-01-31T19:31:06.587Z"
      },
      {
        "duration": 260,
        "start_time": "2023-01-31T19:33:43.018Z"
      },
      {
        "duration": 499,
        "start_time": "2023-01-31T19:36:05.921Z"
      },
      {
        "duration": 276,
        "start_time": "2023-01-31T19:38:45.936Z"
      },
      {
        "duration": 535,
        "start_time": "2023-01-31T19:40:03.333Z"
      },
      {
        "duration": 534,
        "start_time": "2023-01-31T19:41:27.190Z"
      },
      {
        "duration": 20,
        "start_time": "2023-01-31T19:41:46.510Z"
      },
      {
        "duration": 43,
        "start_time": "2023-02-01T14:48:27.007Z"
      },
      {
        "duration": 1301,
        "start_time": "2023-02-01T14:48:32.700Z"
      },
      {
        "duration": 177,
        "start_time": "2023-02-01T14:48:34.802Z"
      },
      {
        "duration": 542,
        "start_time": "2023-02-01T14:48:39.495Z"
      },
      {
        "duration": 14,
        "start_time": "2023-02-01T14:48:50.450Z"
      },
      {
        "duration": 91,
        "start_time": "2023-02-01T14:51:13.524Z"
      },
      {
        "duration": 11,
        "start_time": "2023-02-01T14:58:37.639Z"
      },
      {
        "duration": 11,
        "start_time": "2023-02-01T14:59:15.531Z"
      },
      {
        "duration": 14,
        "start_time": "2023-02-01T14:59:27.744Z"
      },
      {
        "duration": 18,
        "start_time": "2023-02-01T15:06:37.696Z"
      },
      {
        "duration": 14,
        "start_time": "2023-02-01T15:08:22.919Z"
      },
      {
        "duration": 22,
        "start_time": "2023-02-01T15:08:45.144Z"
      },
      {
        "duration": 19,
        "start_time": "2023-02-01T15:09:19.499Z"
      },
      {
        "duration": 22,
        "start_time": "2023-02-01T15:11:39.865Z"
      },
      {
        "duration": 10,
        "start_time": "2023-02-01T15:20:17.296Z"
      },
      {
        "duration": 3,
        "start_time": "2023-02-01T15:20:39.253Z"
      },
      {
        "duration": 532,
        "start_time": "2023-02-01T15:21:03.290Z"
      },
      {
        "duration": 27,
        "start_time": "2023-02-01T15:21:15.314Z"
      },
      {
        "duration": 1464,
        "start_time": "2023-02-01T18:03:58.190Z"
      },
      {
        "duration": 215,
        "start_time": "2023-02-01T18:04:02.912Z"
      },
      {
        "duration": 519,
        "start_time": "2023-02-01T18:04:11.360Z"
      },
      {
        "duration": 23,
        "start_time": "2023-02-01T18:04:16.537Z"
      },
      {
        "duration": 18,
        "start_time": "2023-02-01T18:04:23.181Z"
      },
      {
        "duration": 17,
        "start_time": "2023-02-01T18:04:33.312Z"
      },
      {
        "duration": 28,
        "start_time": "2023-02-01T18:04:39.489Z"
      },
      {
        "duration": 19,
        "start_time": "2023-02-01T18:10:43.088Z"
      },
      {
        "duration": 108,
        "start_time": "2023-02-01T18:10:51.811Z"
      },
      {
        "duration": 15,
        "start_time": "2023-02-01T18:11:10.044Z"
      },
      {
        "duration": 14,
        "start_time": "2023-02-01T18:12:15.798Z"
      },
      {
        "duration": 11,
        "start_time": "2023-02-01T18:13:16.197Z"
      },
      {
        "duration": 18,
        "start_time": "2023-02-01T18:15:56.583Z"
      },
      {
        "duration": 31,
        "start_time": "2023-02-01T18:21:01.784Z"
      },
      {
        "duration": 35,
        "start_time": "2023-02-01T18:21:12.747Z"
      },
      {
        "duration": 8,
        "start_time": "2023-02-01T18:21:49.823Z"
      },
      {
        "duration": 16,
        "start_time": "2023-02-01T18:22:01.428Z"
      },
      {
        "duration": 13,
        "start_time": "2023-02-01T18:22:22.682Z"
      },
      {
        "duration": 18,
        "start_time": "2023-02-01T18:22:38.784Z"
      },
      {
        "duration": 18,
        "start_time": "2023-02-01T18:23:00.731Z"
      },
      {
        "duration": 32,
        "start_time": "2023-02-01T18:23:09.964Z"
      },
      {
        "duration": 12,
        "start_time": "2023-02-01T18:23:32.963Z"
      },
      {
        "duration": 7,
        "start_time": "2023-02-01T18:23:49.606Z"
      },
      {
        "duration": 13,
        "start_time": "2023-02-01T18:24:29.075Z"
      },
      {
        "duration": 11,
        "start_time": "2023-02-01T18:25:41.267Z"
      },
      {
        "duration": 11,
        "start_time": "2023-02-01T18:26:01.304Z"
      },
      {
        "duration": 13,
        "start_time": "2023-02-01T18:29:15.324Z"
      },
      {
        "duration": 12,
        "start_time": "2023-02-01T18:29:23.032Z"
      },
      {
        "duration": 20,
        "start_time": "2023-02-01T18:29:42.989Z"
      },
      {
        "duration": 17,
        "start_time": "2023-02-01T18:39:39.821Z"
      },
      {
        "duration": 9,
        "start_time": "2023-02-01T18:41:13.935Z"
      },
      {
        "duration": 10,
        "start_time": "2023-02-01T18:41:25.223Z"
      },
      {
        "duration": 10,
        "start_time": "2023-02-01T18:41:38.400Z"
      },
      {
        "duration": 4,
        "start_time": "2023-02-01T18:41:59.440Z"
      },
      {
        "duration": 4,
        "start_time": "2023-02-01T18:42:07.453Z"
      },
      {
        "duration": 716,
        "start_time": "2023-02-01T18:43:23.555Z"
      },
      {
        "duration": 166,
        "start_time": "2023-02-01T18:44:04.396Z"
      },
      {
        "duration": 17,
        "start_time": "2023-02-01T18:46:58.124Z"
      },
      {
        "duration": 27,
        "start_time": "2023-02-01T18:56:36.941Z"
      },
      {
        "duration": 220,
        "start_time": "2023-02-01T18:57:24.493Z"
      },
      {
        "duration": 288,
        "start_time": "2023-02-01T18:58:01.621Z"
      },
      {
        "duration": 135,
        "start_time": "2023-02-01T19:01:07.534Z"
      },
      {
        "duration": 96,
        "start_time": "2023-02-01T19:02:39.087Z"
      },
      {
        "duration": 96,
        "start_time": "2023-02-01T19:02:44.708Z"
      },
      {
        "duration": 5,
        "start_time": "2023-02-01T19:03:33.112Z"
      },
      {
        "duration": 32,
        "start_time": "2023-02-01T19:06:50.557Z"
      },
      {
        "duration": 3,
        "start_time": "2023-02-01T19:07:05.400Z"
      },
      {
        "duration": 145,
        "start_time": "2023-02-01T19:07:13.928Z"
      },
      {
        "duration": 134,
        "start_time": "2023-02-01T19:07:43.684Z"
      },
      {
        "duration": 119,
        "start_time": "2023-02-01T19:08:09.158Z"
      },
      {
        "duration": 4,
        "start_time": "2023-02-01T19:11:29.736Z"
      },
      {
        "duration": 4,
        "start_time": "2023-02-01T19:12:09.690Z"
      },
      {
        "duration": 6,
        "start_time": "2023-02-01T19:12:12.973Z"
      },
      {
        "duration": 29,
        "start_time": "2023-02-01T19:13:06.177Z"
      },
      {
        "duration": 6,
        "start_time": "2023-02-01T19:13:12.342Z"
      },
      {
        "duration": 18,
        "start_time": "2023-02-01T19:37:39.905Z"
      },
      {
        "duration": 3,
        "start_time": "2023-02-01T19:38:09.909Z"
      },
      {
        "duration": 43,
        "start_time": "2023-02-01T19:38:17.097Z"
      },
      {
        "duration": 5,
        "start_time": "2023-02-01T19:38:42.789Z"
      },
      {
        "duration": 18,
        "start_time": "2023-02-01T19:39:34.537Z"
      },
      {
        "duration": 52,
        "start_time": "2023-02-01T19:40:30.694Z"
      },
      {
        "duration": 19,
        "start_time": "2023-02-01T19:40:47.123Z"
      },
      {
        "duration": 148,
        "start_time": "2023-02-01T19:41:50.797Z"
      },
      {
        "duration": 13,
        "start_time": "2023-02-01T19:49:28.997Z"
      },
      {
        "duration": 11,
        "start_time": "2023-02-01T19:50:00.294Z"
      },
      {
        "duration": 5,
        "start_time": "2023-02-01T19:50:16.752Z"
      },
      {
        "duration": 5,
        "start_time": "2023-02-01T19:50:21.446Z"
      },
      {
        "duration": 5,
        "start_time": "2023-02-01T19:50:24.517Z"
      },
      {
        "duration": 122,
        "start_time": "2023-02-01T19:50:29.386Z"
      },
      {
        "duration": 110,
        "start_time": "2023-02-01T19:52:00.945Z"
      },
      {
        "duration": 4,
        "start_time": "2023-02-01T19:52:19.834Z"
      },
      {
        "duration": 54,
        "start_time": "2023-02-01T19:52:35.492Z"
      },
      {
        "duration": 4,
        "start_time": "2023-02-01T19:52:59.545Z"
      },
      {
        "duration": 185,
        "start_time": "2023-02-01T19:53:05.795Z"
      },
      {
        "duration": 271,
        "start_time": "2023-02-01T19:54:35.335Z"
      },
      {
        "duration": 149,
        "start_time": "2023-02-01T19:55:51.396Z"
      },
      {
        "duration": 202,
        "start_time": "2023-02-01T19:56:17.253Z"
      },
      {
        "duration": 4,
        "start_time": "2023-02-01T19:57:06.127Z"
      },
      {
        "duration": 458,
        "start_time": "2023-02-01T19:57:52.192Z"
      },
      {
        "duration": 497,
        "start_time": "2023-02-01T19:58:29.049Z"
      },
      {
        "duration": 552,
        "start_time": "2023-02-01T20:02:35.928Z"
      },
      {
        "duration": 556,
        "start_time": "2023-02-01T20:02:45.653Z"
      },
      {
        "duration": 433,
        "start_time": "2023-02-01T20:03:04.102Z"
      },
      {
        "duration": 440,
        "start_time": "2023-02-01T20:04:23.886Z"
      },
      {
        "duration": 1477,
        "start_time": "2023-02-02T08:08:41.952Z"
      },
      {
        "duration": 97,
        "start_time": "2023-02-02T08:08:57.767Z"
      },
      {
        "duration": 9,
        "start_time": "2023-02-02T08:09:04.113Z"
      },
      {
        "duration": 96,
        "start_time": "2023-02-02T08:09:16.064Z"
      },
      {
        "duration": 14,
        "start_time": "2023-02-02T08:09:21.447Z"
      },
      {
        "duration": 467,
        "start_time": "2023-02-02T08:09:31.439Z"
      },
      {
        "duration": 14,
        "start_time": "2023-02-02T08:09:39.825Z"
      },
      {
        "duration": 18,
        "start_time": "2023-02-02T08:10:04.572Z"
      },
      {
        "duration": 19,
        "start_time": "2023-02-02T08:10:17.223Z"
      },
      {
        "duration": 43,
        "start_time": "2023-02-02T08:10:22.351Z"
      },
      {
        "duration": 168,
        "start_time": "2023-02-02T08:10:37.288Z"
      },
      {
        "duration": 385,
        "start_time": "2023-02-02T08:10:51.911Z"
      },
      {
        "duration": 5,
        "start_time": "2023-02-02T08:15:17.825Z"
      },
      {
        "duration": 5,
        "start_time": "2023-02-02T08:15:20.636Z"
      },
      {
        "duration": 5,
        "start_time": "2023-02-02T08:52:21.753Z"
      },
      {
        "duration": 79,
        "start_time": "2023-02-02T08:54:25.237Z"
      },
      {
        "duration": 134,
        "start_time": "2023-02-02T08:54:39.036Z"
      },
      {
        "duration": 143,
        "start_time": "2023-02-02T08:54:52.666Z"
      },
      {
        "duration": 135,
        "start_time": "2023-02-02T08:55:07.966Z"
      },
      {
        "duration": 129,
        "start_time": "2023-02-02T08:55:57.898Z"
      },
      {
        "duration": 131,
        "start_time": "2023-02-02T08:56:03.097Z"
      },
      {
        "duration": 6,
        "start_time": "2023-02-02T08:56:10.792Z"
      },
      {
        "duration": 6,
        "start_time": "2023-02-02T08:56:14.773Z"
      },
      {
        "duration": 6,
        "start_time": "2023-02-02T08:56:18.794Z"
      },
      {
        "duration": 285,
        "start_time": "2023-02-02T08:56:27.896Z"
      },
      {
        "duration": 74,
        "start_time": "2023-02-02T08:57:39.627Z"
      },
      {
        "duration": 130,
        "start_time": "2023-02-02T08:57:45.049Z"
      },
      {
        "duration": 134,
        "start_time": "2023-02-02T08:58:38.976Z"
      },
      {
        "duration": 5,
        "start_time": "2023-02-02T08:58:55.057Z"
      },
      {
        "duration": 305,
        "start_time": "2023-02-02T08:59:32.672Z"
      },
      {
        "duration": 134,
        "start_time": "2023-02-02T09:00:10.106Z"
      },
      {
        "duration": 135,
        "start_time": "2023-02-02T09:00:14.343Z"
      },
      {
        "duration": 5,
        "start_time": "2023-02-02T09:00:21.574Z"
      },
      {
        "duration": 7,
        "start_time": "2023-02-02T09:00:24.952Z"
      },
      {
        "duration": 481,
        "start_time": "2023-02-02T09:00:29.025Z"
      },
      {
        "duration": 1393,
        "start_time": "2023-02-02T09:32:10.741Z"
      },
      {
        "duration": 53,
        "start_time": "2023-02-02T09:32:12.136Z"
      },
      {
        "duration": 16,
        "start_time": "2023-02-02T09:32:12.191Z"
      },
      {
        "duration": 12,
        "start_time": "2023-02-02T09:32:12.209Z"
      },
      {
        "duration": 516,
        "start_time": "2023-02-02T09:32:12.222Z"
      },
      {
        "duration": 14,
        "start_time": "2023-02-02T09:32:12.739Z"
      },
      {
        "duration": 22,
        "start_time": "2023-02-02T09:32:12.755Z"
      },
      {
        "duration": 36,
        "start_time": "2023-02-02T09:32:12.779Z"
      },
      {
        "duration": 36,
        "start_time": "2023-02-02T09:32:12.816Z"
      },
      {
        "duration": 139,
        "start_time": "2023-02-02T09:32:12.854Z"
      },
      {
        "duration": 381,
        "start_time": "2023-02-02T09:32:12.995Z"
      },
      {
        "duration": 183,
        "start_time": "2023-02-02T09:32:13.378Z"
      },
      {
        "duration": 7,
        "start_time": "2023-02-02T09:32:13.563Z"
      },
      {
        "duration": 22,
        "start_time": "2023-02-02T09:32:13.573Z"
      },
      {
        "duration": 526,
        "start_time": "2023-02-02T09:32:13.598Z"
      },
      {
        "duration": 5,
        "start_time": "2023-02-02T09:32:53.713Z"
      },
      {
        "duration": 46,
        "start_time": "2023-02-02T09:32:57.602Z"
      },
      {
        "duration": 21,
        "start_time": "2023-02-02T09:33:01.459Z"
      },
      {
        "duration": 13,
        "start_time": "2023-02-02T09:33:06.067Z"
      },
      {
        "duration": 495,
        "start_time": "2023-02-02T09:33:10.901Z"
      },
      {
        "duration": 14,
        "start_time": "2023-02-02T09:33:25.320Z"
      },
      {
        "duration": 19,
        "start_time": "2023-02-02T09:33:29.861Z"
      },
      {
        "duration": 18,
        "start_time": "2023-02-02T09:33:35.115Z"
      },
      {
        "duration": 38,
        "start_time": "2023-02-02T09:33:40.949Z"
      },
      {
        "duration": 119,
        "start_time": "2023-02-02T09:34:05.281Z"
      },
      {
        "duration": 323,
        "start_time": "2023-02-02T09:34:17.173Z"
      },
      {
        "duration": 143,
        "start_time": "2023-02-02T09:34:58.651Z"
      },
      {
        "duration": 6,
        "start_time": "2023-02-02T09:35:07.314Z"
      },
      {
        "duration": 6,
        "start_time": "2023-02-02T09:35:11.859Z"
      },
      {
        "duration": 457,
        "start_time": "2023-02-02T09:35:35.256Z"
      },
      {
        "duration": 4,
        "start_time": "2023-02-02T09:36:41.516Z"
      },
      {
        "duration": 102,
        "start_time": "2023-02-02T09:36:49.378Z"
      },
      {
        "duration": 3,
        "start_time": "2023-02-02T09:37:05.130Z"
      },
      {
        "duration": 10,
        "start_time": "2023-02-02T09:37:17.181Z"
      },
      {
        "duration": 7,
        "start_time": "2023-02-02T09:37:33.830Z"
      },
      {
        "duration": 61,
        "start_time": "2023-02-02T09:38:45.133Z"
      },
      {
        "duration": 58,
        "start_time": "2023-02-02T09:40:03.346Z"
      },
      {
        "duration": 51,
        "start_time": "2023-02-02T09:41:10.816Z"
      },
      {
        "duration": 291,
        "start_time": "2023-02-02T09:42:25.434Z"
      },
      {
        "duration": 265,
        "start_time": "2023-02-02T09:43:05.483Z"
      },
      {
        "duration": 445,
        "start_time": "2023-02-02T09:43:47.038Z"
      },
      {
        "duration": 41,
        "start_time": "2023-02-02T09:55:45.099Z"
      },
      {
        "duration": 11,
        "start_time": "2023-02-02T09:57:18.432Z"
      },
      {
        "duration": 6,
        "start_time": "2023-02-02T09:57:40.144Z"
      },
      {
        "duration": 126,
        "start_time": "2023-02-02T09:57:46.945Z"
      },
      {
        "duration": 10,
        "start_time": "2023-02-02T09:58:45.131Z"
      },
      {
        "duration": 4,
        "start_time": "2023-02-02T09:59:02.981Z"
      },
      {
        "duration": 197,
        "start_time": "2023-02-02T09:59:10.403Z"
      },
      {
        "duration": 341,
        "start_time": "2023-02-02T10:00:17.260Z"
      },
      {
        "duration": 111,
        "start_time": "2023-02-02T10:08:49.756Z"
      },
      {
        "duration": 1544,
        "start_time": "2023-02-03T06:36:13.132Z"
      },
      {
        "duration": 95,
        "start_time": "2023-02-03T06:36:17.509Z"
      },
      {
        "duration": 17,
        "start_time": "2023-02-03T06:36:21.500Z"
      },
      {
        "duration": 13,
        "start_time": "2023-02-03T06:36:25.514Z"
      },
      {
        "duration": 493,
        "start_time": "2023-02-03T06:36:31.762Z"
      },
      {
        "duration": 13,
        "start_time": "2023-02-03T06:36:48.299Z"
      },
      {
        "duration": 20,
        "start_time": "2023-02-03T06:37:14.718Z"
      },
      {
        "duration": 18,
        "start_time": "2023-02-03T06:37:20.748Z"
      },
      {
        "duration": 37,
        "start_time": "2023-02-03T06:37:29.036Z"
      },
      {
        "duration": 109,
        "start_time": "2023-02-03T06:37:45.498Z"
      },
      {
        "duration": 387,
        "start_time": "2023-02-03T06:38:01.389Z"
      },
      {
        "duration": 134,
        "start_time": "2023-02-03T06:38:11.622Z"
      },
      {
        "duration": 7,
        "start_time": "2023-02-03T06:38:24.213Z"
      },
      {
        "duration": 6,
        "start_time": "2023-02-03T06:38:30.442Z"
      },
      {
        "duration": 107,
        "start_time": "2023-02-03T06:38:41.787Z"
      },
      {
        "duration": 103,
        "start_time": "2023-02-03T06:38:49.230Z"
      },
      {
        "duration": 11,
        "start_time": "2023-02-03T06:39:00.615Z"
      },
      {
        "duration": 38,
        "start_time": "2023-02-03T06:41:12.914Z"
      },
      {
        "duration": 11,
        "start_time": "2023-02-03T06:41:44.894Z"
      },
      {
        "duration": 10,
        "start_time": "2023-02-03T06:42:53.860Z"
      },
      {
        "duration": 4,
        "start_time": "2023-02-03T06:43:05.648Z"
      },
      {
        "duration": 10,
        "start_time": "2023-02-03T06:43:11.879Z"
      },
      {
        "duration": 12,
        "start_time": "2023-02-03T06:43:18.076Z"
      },
      {
        "duration": 11,
        "start_time": "2023-02-03T06:43:48.972Z"
      },
      {
        "duration": 12,
        "start_time": "2023-02-03T06:44:12.518Z"
      },
      {
        "duration": 5,
        "start_time": "2023-02-03T06:47:01.137Z"
      },
      {
        "duration": 6,
        "start_time": "2023-02-03T06:47:08.326Z"
      },
      {
        "duration": 48,
        "start_time": "2023-02-03T06:47:14.138Z"
      },
      {
        "duration": 13,
        "start_time": "2023-02-03T06:47:19.269Z"
      },
      {
        "duration": 11,
        "start_time": "2023-02-03T06:47:22.762Z"
      },
      {
        "duration": 9,
        "start_time": "2023-02-03T06:48:05.958Z"
      },
      {
        "duration": 11,
        "start_time": "2023-02-03T06:48:41.867Z"
      },
      {
        "duration": 10,
        "start_time": "2023-02-03T07:21:27.759Z"
      },
      {
        "duration": 11,
        "start_time": "2023-02-03T07:21:34.141Z"
      },
      {
        "duration": 10,
        "start_time": "2023-02-03T07:21:37.983Z"
      },
      {
        "duration": 93,
        "start_time": "2023-02-03T07:32:05.600Z"
      },
      {
        "duration": 33,
        "start_time": "2023-02-03T07:32:14.078Z"
      },
      {
        "duration": 10,
        "start_time": "2023-02-03T07:32:52.889Z"
      },
      {
        "duration": 29,
        "start_time": "2023-02-03T07:33:03.966Z"
      },
      {
        "duration": 25,
        "start_time": "2023-02-03T07:33:08.101Z"
      },
      {
        "duration": 153,
        "start_time": "2023-02-03T07:44:01.041Z"
      },
      {
        "duration": 163,
        "start_time": "2023-02-03T07:44:26.073Z"
      },
      {
        "duration": 150,
        "start_time": "2023-02-03T07:44:46.661Z"
      },
      {
        "duration": 142,
        "start_time": "2023-02-03T07:45:38.338Z"
      },
      {
        "duration": 201,
        "start_time": "2023-02-03T07:45:43.894Z"
      },
      {
        "duration": 143,
        "start_time": "2023-02-03T07:45:57.597Z"
      },
      {
        "duration": 159,
        "start_time": "2023-02-03T07:46:28.549Z"
      },
      {
        "duration": 154,
        "start_time": "2023-02-03T07:47:11.974Z"
      },
      {
        "duration": 15,
        "start_time": "2023-02-03T07:47:25.636Z"
      },
      {
        "duration": 166,
        "start_time": "2023-02-03T07:47:49.537Z"
      },
      {
        "duration": 155,
        "start_time": "2023-02-03T07:48:04.618Z"
      },
      {
        "duration": 11,
        "start_time": "2023-02-03T08:54:33.443Z"
      },
      {
        "duration": 8,
        "start_time": "2023-02-03T09:00:35.509Z"
      },
      {
        "duration": 663,
        "start_time": "2023-02-03T09:00:54.437Z"
      },
      {
        "duration": 642,
        "start_time": "2023-02-03T09:01:33.612Z"
      },
      {
        "duration": 43,
        "start_time": "2023-02-03T09:03:17.633Z"
      },
      {
        "duration": 4,
        "start_time": "2023-02-03T09:03:41.559Z"
      },
      {
        "duration": 48,
        "start_time": "2023-02-03T09:04:03.905Z"
      },
      {
        "duration": 72,
        "start_time": "2023-02-03T09:04:26.473Z"
      },
      {
        "duration": 78,
        "start_time": "2023-02-03T09:04:45.722Z"
      },
      {
        "duration": 95,
        "start_time": "2023-02-03T09:04:54.677Z"
      },
      {
        "duration": 641,
        "start_time": "2023-02-03T09:05:00.421Z"
      },
      {
        "duration": 46,
        "start_time": "2023-02-03T09:05:09.722Z"
      },
      {
        "duration": 54,
        "start_time": "2023-02-03T09:05:15.505Z"
      },
      {
        "duration": 28,
        "start_time": "2023-02-03T09:05:56.094Z"
      },
      {
        "duration": 1078,
        "start_time": "2023-02-03T09:06:49.434Z"
      },
      {
        "duration": 49,
        "start_time": "2023-02-03T09:09:27.784Z"
      },
      {
        "duration": 50,
        "start_time": "2023-02-03T09:09:51.420Z"
      },
      {
        "duration": 55,
        "start_time": "2023-02-03T09:10:04.989Z"
      },
      {
        "duration": 693,
        "start_time": "2023-02-03T09:12:33.514Z"
      },
      {
        "duration": 44969,
        "start_time": "2023-02-03T09:14:28.041Z"
      },
      {
        "duration": 85,
        "start_time": "2023-02-03T09:15:28.505Z"
      },
      {
        "duration": 4,
        "start_time": "2023-02-03T09:16:05.755Z"
      },
      {
        "duration": 87,
        "start_time": "2023-02-03T09:16:15.231Z"
      },
      {
        "duration": 81,
        "start_time": "2023-02-03T09:16:30.877Z"
      },
      {
        "duration": 123,
        "start_time": "2023-02-03T09:16:54.290Z"
      },
      {
        "duration": 96,
        "start_time": "2023-02-03T09:17:02.477Z"
      },
      {
        "duration": 87,
        "start_time": "2023-02-03T09:17:15.728Z"
      },
      {
        "duration": 76,
        "start_time": "2023-02-03T09:18:04.521Z"
      },
      {
        "duration": 109,
        "start_time": "2023-02-03T09:20:10.018Z"
      },
      {
        "duration": 3008,
        "start_time": "2023-02-03T09:21:24.229Z"
      },
      {
        "duration": 81,
        "start_time": "2023-02-03T09:22:01.066Z"
      },
      {
        "duration": 84,
        "start_time": "2023-02-03T09:23:47.078Z"
      },
      {
        "duration": 17,
        "start_time": "2023-02-03T09:24:33.738Z"
      },
      {
        "duration": 518,
        "start_time": "2023-02-03T09:24:57.458Z"
      },
      {
        "duration": 265,
        "start_time": "2023-02-03T09:25:08.602Z"
      },
      {
        "duration": 1453,
        "start_time": "2023-02-03T09:27:13.415Z"
      },
      {
        "duration": 60,
        "start_time": "2023-02-03T09:27:14.869Z"
      },
      {
        "duration": 13,
        "start_time": "2023-02-03T09:27:14.930Z"
      },
      {
        "duration": 14,
        "start_time": "2023-02-03T09:27:14.945Z"
      },
      {
        "duration": 502,
        "start_time": "2023-02-03T09:27:14.961Z"
      },
      {
        "duration": 14,
        "start_time": "2023-02-03T09:27:15.465Z"
      },
      {
        "duration": 39,
        "start_time": "2023-02-03T09:27:15.480Z"
      },
      {
        "duration": 98,
        "start_time": "2023-02-03T09:27:15.521Z"
      },
      {
        "duration": 36,
        "start_time": "2023-02-03T09:27:15.622Z"
      },
      {
        "duration": 180,
        "start_time": "2023-02-03T09:27:15.660Z"
      },
      {
        "duration": 167,
        "start_time": "2023-02-03T09:27:15.842Z"
      },
      {
        "duration": 159,
        "start_time": "2023-02-03T09:27:16.011Z"
      },
      {
        "duration": 0,
        "start_time": "2023-02-03T09:27:16.172Z"
      },
      {
        "duration": 0,
        "start_time": "2023-02-03T09:27:16.173Z"
      },
      {
        "duration": 0,
        "start_time": "2023-02-03T09:27:16.175Z"
      },
      {
        "duration": 0,
        "start_time": "2023-02-03T09:27:16.176Z"
      },
      {
        "duration": 0,
        "start_time": "2023-02-03T09:27:16.177Z"
      },
      {
        "duration": 0,
        "start_time": "2023-02-03T09:27:16.178Z"
      },
      {
        "duration": 0,
        "start_time": "2023-02-03T09:27:16.179Z"
      },
      {
        "duration": 0,
        "start_time": "2023-02-03T09:27:16.195Z"
      },
      {
        "duration": 4,
        "start_time": "2023-02-03T09:27:22.045Z"
      },
      {
        "duration": 56,
        "start_time": "2023-02-03T09:27:24.665Z"
      },
      {
        "duration": 21,
        "start_time": "2023-02-03T09:27:27.704Z"
      },
      {
        "duration": 13,
        "start_time": "2023-02-03T09:27:30.940Z"
      },
      {
        "duration": 522,
        "start_time": "2023-02-03T09:27:34.862Z"
      },
      {
        "duration": 14,
        "start_time": "2023-02-03T09:27:39.730Z"
      },
      {
        "duration": 22,
        "start_time": "2023-02-03T09:27:43.519Z"
      },
      {
        "duration": 17,
        "start_time": "2023-02-03T09:27:46.419Z"
      },
      {
        "duration": 38,
        "start_time": "2023-02-03T09:27:49.861Z"
      },
      {
        "duration": 163,
        "start_time": "2023-02-03T09:27:55.723Z"
      },
      {
        "duration": 73,
        "start_time": "2023-02-03T09:28:05.224Z"
      },
      {
        "duration": 69,
        "start_time": "2023-02-03T09:28:14.260Z"
      },
      {
        "duration": 126,
        "start_time": "2023-02-03T09:28:35.145Z"
      },
      {
        "duration": 46,
        "start_time": "2023-02-03T09:29:35.627Z"
      },
      {
        "duration": 44,
        "start_time": "2023-02-03T09:30:15.334Z"
      },
      {
        "duration": 55,
        "start_time": "2023-02-03T09:30:30.651Z"
      },
      {
        "duration": 5,
        "start_time": "2023-02-03T09:32:28.118Z"
      },
      {
        "duration": 41,
        "start_time": "2023-02-03T09:33:42.845Z"
      },
      {
        "duration": 47,
        "start_time": "2023-02-03T09:34:01.484Z"
      },
      {
        "duration": 148,
        "start_time": "2023-02-03T09:36:22.729Z"
      },
      {
        "duration": 42,
        "start_time": "2023-02-03T09:38:00.170Z"
      },
      {
        "duration": 4007,
        "start_time": "2023-02-03T09:41:38.463Z"
      },
      {
        "duration": 154,
        "start_time": "2023-02-03T09:42:57.205Z"
      },
      {
        "duration": 3990,
        "start_time": "2023-02-03T09:50:08.991Z"
      },
      {
        "duration": 4125,
        "start_time": "2023-02-03T09:50:33.268Z"
      },
      {
        "duration": 53,
        "start_time": "2023-02-03T12:21:39.202Z"
      },
      {
        "duration": 1599,
        "start_time": "2023-02-03T12:21:50.428Z"
      },
      {
        "duration": 187,
        "start_time": "2023-02-03T12:21:53.183Z"
      },
      {
        "duration": 17,
        "start_time": "2023-02-03T12:21:56.409Z"
      },
      {
        "duration": 13,
        "start_time": "2023-02-03T12:21:58.711Z"
      },
      {
        "duration": 548,
        "start_time": "2023-02-03T12:22:04.951Z"
      },
      {
        "duration": 17,
        "start_time": "2023-02-03T12:22:09.713Z"
      },
      {
        "duration": 20,
        "start_time": "2023-02-03T12:22:13.059Z"
      },
      {
        "duration": 20,
        "start_time": "2023-02-03T12:22:17.060Z"
      },
      {
        "duration": 41,
        "start_time": "2023-02-03T12:22:20.659Z"
      },
      {
        "duration": 192,
        "start_time": "2023-02-03T12:22:25.663Z"
      },
      {
        "duration": 22,
        "start_time": "2023-02-03T12:22:45.588Z"
      },
      {
        "duration": 20,
        "start_time": "2023-02-03T12:22:51.259Z"
      },
      {
        "duration": 339,
        "start_time": "2023-02-03T12:23:50.079Z"
      },
      {
        "duration": 268,
        "start_time": "2023-02-03T12:24:08.728Z"
      },
      {
        "duration": 7317,
        "start_time": "2023-02-03T12:24:33.133Z"
      },
      {
        "duration": 1674,
        "start_time": "2023-02-04T12:43:05.473Z"
      },
      {
        "duration": 103,
        "start_time": "2023-02-04T12:43:08.867Z"
      },
      {
        "duration": 15,
        "start_time": "2023-02-04T12:43:13.415Z"
      },
      {
        "duration": 15,
        "start_time": "2023-02-04T12:43:19.996Z"
      },
      {
        "duration": 18,
        "start_time": "2023-02-04T12:43:24.308Z"
      },
      {
        "duration": 18,
        "start_time": "2023-02-04T12:43:27.430Z"
      },
      {
        "duration": 34,
        "start_time": "2023-02-04T12:43:33.424Z"
      },
      {
        "duration": 163,
        "start_time": "2023-02-04T12:43:39.182Z"
      },
      {
        "duration": 20,
        "start_time": "2023-02-04T12:43:49.491Z"
      },
      {
        "duration": 6784,
        "start_time": "2023-02-04T12:43:57.436Z"
      },
      {
        "duration": 244,
        "start_time": "2023-02-04T12:44:18.717Z"
      },
      {
        "duration": 54,
        "start_time": "2023-02-04T12:49:49.176Z"
      },
      {
        "duration": 145,
        "start_time": "2023-02-04T12:50:02.246Z"
      },
      {
        "duration": 18,
        "start_time": "2023-02-04T12:50:11.641Z"
      },
      {
        "duration": 10,
        "start_time": "2023-02-04T12:50:27.794Z"
      },
      {
        "duration": 12,
        "start_time": "2023-02-04T12:51:24.215Z"
      },
      {
        "duration": 10,
        "start_time": "2023-02-04T12:53:41.138Z"
      },
      {
        "duration": 11,
        "start_time": "2023-02-04T12:53:47.021Z"
      },
      {
        "duration": 4,
        "start_time": "2023-02-04T12:54:03.824Z"
      },
      {
        "duration": 10,
        "start_time": "2023-02-04T12:54:11.278Z"
      },
      {
        "duration": 850,
        "start_time": "2023-02-04T12:55:00.066Z"
      },
      {
        "duration": 793,
        "start_time": "2023-02-04T12:55:27.612Z"
      },
      {
        "duration": 791,
        "start_time": "2023-02-04T12:56:04.245Z"
      },
      {
        "duration": 794,
        "start_time": "2023-02-04T12:57:25.335Z"
      },
      {
        "duration": 778,
        "start_time": "2023-02-04T12:57:56.894Z"
      },
      {
        "duration": 327,
        "start_time": "2023-02-04T12:59:04.279Z"
      },
      {
        "duration": 343,
        "start_time": "2023-02-04T13:00:03.854Z"
      },
      {
        "duration": 129,
        "start_time": "2023-02-04T13:04:38.299Z"
      },
      {
        "duration": 107,
        "start_time": "2023-02-04T13:04:52.208Z"
      },
      {
        "duration": 119,
        "start_time": "2023-02-04T13:05:03.696Z"
      },
      {
        "duration": 106,
        "start_time": "2023-02-04T13:05:11.246Z"
      },
      {
        "duration": 190,
        "start_time": "2023-02-04T13:06:06.494Z"
      },
      {
        "duration": 114,
        "start_time": "2023-02-04T13:06:27.850Z"
      },
      {
        "duration": 83,
        "start_time": "2023-02-04T13:06:35.978Z"
      },
      {
        "duration": 116,
        "start_time": "2023-02-04T13:06:40.729Z"
      },
      {
        "duration": 358,
        "start_time": "2023-02-04T13:10:27.238Z"
      },
      {
        "duration": 66,
        "start_time": "2023-02-04T13:10:53.564Z"
      },
      {
        "duration": 338,
        "start_time": "2023-02-04T13:11:04.865Z"
      },
      {
        "duration": 363,
        "start_time": "2023-02-04T13:11:31.024Z"
      },
      {
        "duration": 333,
        "start_time": "2023-02-04T13:11:59.430Z"
      },
      {
        "duration": 3674,
        "start_time": "2023-02-04T13:14:24.595Z"
      },
      {
        "duration": 337,
        "start_time": "2023-02-04T13:14:46.392Z"
      },
      {
        "duration": 74,
        "start_time": "2023-02-04T13:15:06.357Z"
      },
      {
        "duration": 75,
        "start_time": "2023-02-04T13:15:52.135Z"
      },
      {
        "duration": 94,
        "start_time": "2023-02-04T13:16:13.415Z"
      },
      {
        "duration": 96,
        "start_time": "2023-02-04T13:16:33.134Z"
      },
      {
        "duration": 94,
        "start_time": "2023-02-04T13:17:02.961Z"
      },
      {
        "duration": 103,
        "start_time": "2023-02-04T13:17:43.937Z"
      },
      {
        "duration": 37,
        "start_time": "2023-02-04T13:24:33.089Z"
      },
      {
        "duration": 12,
        "start_time": "2023-02-04T13:25:16.576Z"
      },
      {
        "duration": 1463,
        "start_time": "2023-02-04T17:12:51.860Z"
      },
      {
        "duration": 191,
        "start_time": "2023-02-04T17:12:58.291Z"
      },
      {
        "duration": 18,
        "start_time": "2023-02-04T17:13:02.827Z"
      },
      {
        "duration": 20,
        "start_time": "2023-02-04T17:13:10.388Z"
      },
      {
        "duration": 28,
        "start_time": "2023-02-04T17:13:13.813Z"
      },
      {
        "duration": 25,
        "start_time": "2023-02-04T17:13:19.062Z"
      },
      {
        "duration": 55,
        "start_time": "2023-02-04T17:13:27.830Z"
      },
      {
        "duration": 156,
        "start_time": "2023-02-04T17:13:34.518Z"
      },
      {
        "duration": 3350,
        "start_time": "2023-02-04T17:15:22.442Z"
      },
      {
        "duration": 309,
        "start_time": "2023-02-04T17:15:45.418Z"
      },
      {
        "duration": 42,
        "start_time": "2023-02-04T17:16:04.654Z"
      },
      {
        "duration": 120,
        "start_time": "2023-02-04T17:17:19.618Z"
      },
      {
        "duration": 101,
        "start_time": "2023-02-04T17:17:44.083Z"
      },
      {
        "duration": 42,
        "start_time": "2023-02-04T17:18:07.660Z"
      },
      {
        "duration": 5,
        "start_time": "2023-02-04T17:19:24.838Z"
      },
      {
        "duration": 87,
        "start_time": "2023-02-04T17:22:35.457Z"
      },
      {
        "duration": 5,
        "start_time": "2023-02-04T17:23:41.254Z"
      },
      {
        "duration": 95,
        "start_time": "2023-02-04T17:23:53.365Z"
      },
      {
        "duration": 93,
        "start_time": "2023-02-04T17:24:11.042Z"
      },
      {
        "duration": 108,
        "start_time": "2023-02-04T17:24:32.953Z"
      },
      {
        "duration": 109,
        "start_time": "2023-02-04T17:30:19.226Z"
      },
      {
        "duration": 104,
        "start_time": "2023-02-04T17:30:39.953Z"
      },
      {
        "duration": 209,
        "start_time": "2023-02-04T17:31:38.984Z"
      },
      {
        "duration": 27,
        "start_time": "2023-02-04T17:32:38.162Z"
      },
      {
        "duration": 183,
        "start_time": "2023-02-04T17:33:56.254Z"
      },
      {
        "duration": 425,
        "start_time": "2023-02-04T17:37:56.366Z"
      },
      {
        "duration": 165,
        "start_time": "2023-02-04T17:39:11.154Z"
      },
      {
        "duration": 43,
        "start_time": "2023-02-04T17:39:39.656Z"
      },
      {
        "duration": 145,
        "start_time": "2023-02-04T17:39:50.977Z"
      },
      {
        "duration": 392,
        "start_time": "2023-02-04T17:40:48.653Z"
      },
      {
        "duration": 148,
        "start_time": "2023-02-04T17:41:20.527Z"
      },
      {
        "duration": 145,
        "start_time": "2023-02-04T17:41:27.924Z"
      },
      {
        "duration": 5967,
        "start_time": "2023-02-04T17:42:14.061Z"
      },
      {
        "duration": 3300,
        "start_time": "2023-02-04T17:42:50.926Z"
      },
      {
        "duration": 3337,
        "start_time": "2023-02-04T17:43:18.858Z"
      },
      {
        "duration": 319,
        "start_time": "2023-02-04T17:44:18.481Z"
      },
      {
        "duration": 311,
        "start_time": "2023-02-04T17:44:50.697Z"
      },
      {
        "duration": 21,
        "start_time": "2023-02-04T17:45:03.584Z"
      },
      {
        "duration": 98,
        "start_time": "2023-02-04T17:49:51.701Z"
      },
      {
        "duration": 86,
        "start_time": "2023-02-04T17:50:03.152Z"
      },
      {
        "duration": 101,
        "start_time": "2023-02-04T17:50:47.759Z"
      },
      {
        "duration": 40,
        "start_time": "2023-02-04T17:51:01.285Z"
      },
      {
        "duration": 48,
        "start_time": "2023-02-04T17:51:14.353Z"
      },
      {
        "duration": 48,
        "start_time": "2023-02-04T17:51:51.086Z"
      },
      {
        "duration": 133,
        "start_time": "2023-02-04T17:51:58.432Z"
      },
      {
        "duration": 94,
        "start_time": "2023-02-04T17:53:02.634Z"
      },
      {
        "duration": 105,
        "start_time": "2023-02-04T17:53:28.130Z"
      },
      {
        "duration": 28,
        "start_time": "2023-02-04T17:55:44.305Z"
      },
      {
        "duration": 181,
        "start_time": "2023-02-04T17:56:48.559Z"
      },
      {
        "duration": 254,
        "start_time": "2023-02-04T17:57:19.380Z"
      },
      {
        "duration": 192,
        "start_time": "2023-02-04T17:58:27.784Z"
      },
      {
        "duration": 58,
        "start_time": "2023-02-04T18:38:50.263Z"
      },
      {
        "duration": 171,
        "start_time": "2023-02-04T18:39:54.847Z"
      },
      {
        "duration": 180,
        "start_time": "2023-02-04T18:45:09.660Z"
      },
      {
        "duration": 190,
        "start_time": "2023-02-04T18:45:43.654Z"
      },
      {
        "duration": 40,
        "start_time": "2023-02-04T18:46:15.037Z"
      },
      {
        "duration": 48,
        "start_time": "2023-02-04T18:52:44.567Z"
      },
      {
        "duration": 143,
        "start_time": "2023-02-04T18:54:38.235Z"
      },
      {
        "duration": 65,
        "start_time": "2023-02-04T18:55:14.387Z"
      },
      {
        "duration": 44,
        "start_time": "2023-02-04T18:55:24.511Z"
      },
      {
        "duration": 20,
        "start_time": "2023-02-04T18:55:37.934Z"
      },
      {
        "duration": 169,
        "start_time": "2023-02-04T18:57:25.870Z"
      },
      {
        "duration": 148,
        "start_time": "2023-02-04T18:58:30.444Z"
      },
      {
        "duration": 149,
        "start_time": "2023-02-04T19:00:19.979Z"
      },
      {
        "duration": 129,
        "start_time": "2023-02-04T19:00:45.239Z"
      },
      {
        "duration": 151,
        "start_time": "2023-02-04T19:28:56.933Z"
      },
      {
        "duration": 186,
        "start_time": "2023-02-04T19:29:36.849Z"
      },
      {
        "duration": 104,
        "start_time": "2023-02-04T19:35:40.245Z"
      },
      {
        "duration": 44,
        "start_time": "2023-02-04T19:35:45.456Z"
      },
      {
        "duration": 13,
        "start_time": "2023-02-04T19:59:14.076Z"
      },
      {
        "duration": 12,
        "start_time": "2023-02-04T19:59:40.071Z"
      },
      {
        "duration": 27,
        "start_time": "2023-02-04T20:01:02.881Z"
      },
      {
        "duration": 20,
        "start_time": "2023-02-04T20:06:39.335Z"
      },
      {
        "duration": 335,
        "start_time": "2023-02-04T20:06:45.745Z"
      },
      {
        "duration": 3340,
        "start_time": "2023-02-04T20:06:59.660Z"
      },
      {
        "duration": 303,
        "start_time": "2023-02-04T20:08:09.943Z"
      },
      {
        "duration": 304,
        "start_time": "2023-02-04T20:08:40.894Z"
      },
      {
        "duration": 20,
        "start_time": "2023-02-04T20:08:47.130Z"
      },
      {
        "duration": 12,
        "start_time": "2023-02-04T20:09:02.845Z"
      },
      {
        "duration": 87,
        "start_time": "2023-02-04T20:09:19.887Z"
      },
      {
        "duration": 36,
        "start_time": "2023-02-04T20:09:53.431Z"
      },
      {
        "duration": 91,
        "start_time": "2023-02-04T20:10:17.741Z"
      },
      {
        "duration": 40,
        "start_time": "2023-02-04T20:10:20.123Z"
      },
      {
        "duration": 202,
        "start_time": "2023-02-04T20:10:39.445Z"
      },
      {
        "duration": 153,
        "start_time": "2023-02-04T20:11:09.443Z"
      },
      {
        "duration": 1536,
        "start_time": "2023-02-05T10:28:56.154Z"
      },
      {
        "duration": 6,
        "start_time": "2023-02-05T10:29:11.933Z"
      },
      {
        "duration": 112,
        "start_time": "2023-02-05T10:29:15.847Z"
      },
      {
        "duration": 179,
        "start_time": "2023-02-05T10:29:21.900Z"
      },
      {
        "duration": 16,
        "start_time": "2023-02-05T10:29:25.146Z"
      },
      {
        "duration": 12,
        "start_time": "2023-02-05T10:29:28.541Z"
      },
      {
        "duration": 529,
        "start_time": "2023-02-05T10:29:31.412Z"
      },
      {
        "duration": 15,
        "start_time": "2023-02-05T10:30:00.573Z"
      },
      {
        "duration": 23,
        "start_time": "2023-02-05T10:30:06.343Z"
      },
      {
        "duration": 20,
        "start_time": "2023-02-05T10:30:21.702Z"
      },
      {
        "duration": 38,
        "start_time": "2023-02-05T10:30:25.421Z"
      },
      {
        "duration": 161,
        "start_time": "2023-02-05T10:30:37.470Z"
      },
      {
        "duration": 3852,
        "start_time": "2023-02-05T11:12:01.817Z"
      },
      {
        "duration": 22,
        "start_time": "2023-02-05T11:12:15.184Z"
      },
      {
        "duration": 3623,
        "start_time": "2023-02-05T11:12:31.306Z"
      },
      {
        "duration": 3650,
        "start_time": "2023-02-05T11:12:49.372Z"
      },
      {
        "duration": 114,
        "start_time": "2023-02-05T11:13:10.540Z"
      },
      {
        "duration": 105,
        "start_time": "2023-02-05T11:13:22.655Z"
      },
      {
        "duration": 44,
        "start_time": "2023-02-05T11:13:36.569Z"
      },
      {
        "duration": 266,
        "start_time": "2023-02-05T11:13:43.028Z"
      },
      {
        "duration": 42,
        "start_time": "2023-02-05T11:23:42.392Z"
      },
      {
        "duration": 3715,
        "start_time": "2023-02-05T11:24:52.515Z"
      },
      {
        "duration": 3755,
        "start_time": "2023-02-05T11:25:52.014Z"
      },
      {
        "duration": 3798,
        "start_time": "2023-02-05T11:26:28.021Z"
      },
      {
        "duration": 174,
        "start_time": "2023-02-05T11:26:46.208Z"
      },
      {
        "duration": 187,
        "start_time": "2023-02-05T11:27:14.543Z"
      },
      {
        "duration": 24,
        "start_time": "2023-02-05T11:27:37.591Z"
      },
      {
        "duration": 295,
        "start_time": "2023-02-05T11:28:08.047Z"
      },
      {
        "duration": 433,
        "start_time": "2023-02-05T11:28:24.567Z"
      },
      {
        "duration": 185,
        "start_time": "2023-02-05T11:29:09.815Z"
      },
      {
        "duration": 3779,
        "start_time": "2023-02-05T11:29:32.106Z"
      },
      {
        "duration": 348,
        "start_time": "2023-02-05T11:29:50.634Z"
      },
      {
        "duration": 356,
        "start_time": "2023-02-05T11:30:38.321Z"
      },
      {
        "duration": 85,
        "start_time": "2023-02-05T11:30:47.635Z"
      },
      {
        "duration": 116,
        "start_time": "2023-02-05T11:30:55.695Z"
      },
      {
        "duration": 112,
        "start_time": "2023-02-05T11:34:31.035Z"
      },
      {
        "duration": 41,
        "start_time": "2023-02-05T11:35:18.397Z"
      },
      {
        "duration": 46,
        "start_time": "2023-02-05T11:35:26.491Z"
      },
      {
        "duration": 40,
        "start_time": "2023-02-05T11:35:52.672Z"
      },
      {
        "duration": 44,
        "start_time": "2023-02-05T11:35:59.461Z"
      },
      {
        "duration": 45,
        "start_time": "2023-02-05T11:36:11.602Z"
      },
      {
        "duration": 41,
        "start_time": "2023-02-05T11:36:33.860Z"
      },
      {
        "duration": 95,
        "start_time": "2023-02-05T11:36:42.277Z"
      },
      {
        "duration": 89,
        "start_time": "2023-02-05T11:37:12.301Z"
      },
      {
        "duration": 95,
        "start_time": "2023-02-05T11:37:24.475Z"
      },
      {
        "duration": 45,
        "start_time": "2023-02-05T11:37:31.559Z"
      },
      {
        "duration": 198,
        "start_time": "2023-02-05T11:38:18.752Z"
      },
      {
        "duration": 212,
        "start_time": "2023-02-05T11:38:32.147Z"
      },
      {
        "duration": 210,
        "start_time": "2023-02-05T11:39:08.484Z"
      },
      {
        "duration": 184,
        "start_time": "2023-02-05T11:46:59.775Z"
      },
      {
        "duration": 45,
        "start_time": "2023-02-05T11:55:37.060Z"
      },
      {
        "duration": 43,
        "start_time": "2023-02-05T11:55:46.588Z"
      },
      {
        "duration": 40,
        "start_time": "2023-02-05T11:56:28.781Z"
      },
      {
        "duration": 25,
        "start_time": "2023-02-05T11:56:51.608Z"
      },
      {
        "duration": 172,
        "start_time": "2023-02-05T11:57:21.221Z"
      },
      {
        "duration": 177,
        "start_time": "2023-02-05T11:57:36.101Z"
      },
      {
        "duration": 178,
        "start_time": "2023-02-05T11:58:48.624Z"
      },
      {
        "duration": 99,
        "start_time": "2023-02-05T12:00:01.581Z"
      },
      {
        "duration": 323,
        "start_time": "2023-02-05T12:00:32.365Z"
      },
      {
        "duration": 39,
        "start_time": "2023-02-05T12:03:30.866Z"
      },
      {
        "duration": 36,
        "start_time": "2023-02-05T12:04:31.216Z"
      },
      {
        "duration": 22,
        "start_time": "2023-02-05T12:05:06.982Z"
      },
      {
        "duration": 26,
        "start_time": "2023-02-05T12:05:31.852Z"
      },
      {
        "duration": 24,
        "start_time": "2023-02-05T12:05:49.650Z"
      },
      {
        "duration": 538,
        "start_time": "2023-02-05T12:06:30.003Z"
      },
      {
        "duration": 731,
        "start_time": "2023-02-05T12:09:04.346Z"
      },
      {
        "duration": 71,
        "start_time": "2023-02-05T12:09:39.089Z"
      },
      {
        "duration": 72,
        "start_time": "2023-02-05T12:09:54.108Z"
      },
      {
        "duration": 71,
        "start_time": "2023-02-05T12:10:10.253Z"
      },
      {
        "duration": 68,
        "start_time": "2023-02-05T12:10:23.306Z"
      },
      {
        "duration": 68,
        "start_time": "2023-02-05T12:10:38.490Z"
      },
      {
        "duration": 78,
        "start_time": "2023-02-05T12:12:36.574Z"
      },
      {
        "duration": 447,
        "start_time": "2023-02-05T12:19:15.514Z"
      },
      {
        "duration": 453,
        "start_time": "2023-02-05T12:20:14.846Z"
      },
      {
        "duration": 409,
        "start_time": "2023-02-05T12:20:28.968Z"
      },
      {
        "duration": 464,
        "start_time": "2023-02-05T12:20:38.396Z"
      },
      {
        "duration": 438,
        "start_time": "2023-02-05T12:20:48.106Z"
      },
      {
        "duration": 479,
        "start_time": "2023-02-05T12:21:24.492Z"
      },
      {
        "duration": 73,
        "start_time": "2023-02-05T12:21:42.055Z"
      },
      {
        "duration": 91,
        "start_time": "2023-02-05T12:22:56.588Z"
      },
      {
        "duration": 88,
        "start_time": "2023-02-05T12:23:13.875Z"
      },
      {
        "duration": 92,
        "start_time": "2023-02-05T12:23:28.431Z"
      },
      {
        "duration": 82,
        "start_time": "2023-02-05T12:24:55.503Z"
      },
      {
        "duration": 68,
        "start_time": "2023-02-05T12:25:05.141Z"
      },
      {
        "duration": 72,
        "start_time": "2023-02-05T12:25:38.889Z"
      },
      {
        "duration": 408,
        "start_time": "2023-02-05T12:26:21.386Z"
      },
      {
        "duration": 35,
        "start_time": "2023-02-05T12:26:30.360Z"
      },
      {
        "duration": 30,
        "start_time": "2023-02-05T12:27:02.999Z"
      },
      {
        "duration": 38,
        "start_time": "2023-02-05T12:27:17.158Z"
      },
      {
        "duration": 31,
        "start_time": "2023-02-05T12:27:23.196Z"
      },
      {
        "duration": 31,
        "start_time": "2023-02-05T12:27:29.077Z"
      },
      {
        "duration": 36,
        "start_time": "2023-02-05T12:27:35.506Z"
      },
      {
        "duration": 83,
        "start_time": "2023-02-05T12:27:54.754Z"
      },
      {
        "duration": 74,
        "start_time": "2023-02-05T12:28:54.436Z"
      },
      {
        "duration": 85,
        "start_time": "2023-02-05T12:29:02.918Z"
      },
      {
        "duration": 76,
        "start_time": "2023-02-05T12:29:11.815Z"
      },
      {
        "duration": 93,
        "start_time": "2023-02-05T12:29:18.252Z"
      },
      {
        "duration": 73,
        "start_time": "2023-02-05T12:29:23.444Z"
      },
      {
        "duration": 4346,
        "start_time": "2023-02-05T12:30:44.596Z"
      },
      {
        "duration": 68,
        "start_time": "2023-02-05T12:31:15.680Z"
      },
      {
        "duration": 49,
        "start_time": "2023-02-05T14:00:41.432Z"
      },
      {
        "duration": 1711,
        "start_time": "2023-02-05T14:00:48.435Z"
      },
      {
        "duration": 98,
        "start_time": "2023-02-05T14:00:50.906Z"
      },
      {
        "duration": 78,
        "start_time": "2023-02-05T14:00:56.203Z"
      },
      {
        "duration": 13,
        "start_time": "2023-02-05T14:01:03.766Z"
      },
      {
        "duration": 14,
        "start_time": "2023-02-05T14:01:11.198Z"
      },
      {
        "duration": 21,
        "start_time": "2023-02-05T14:01:14.230Z"
      },
      {
        "duration": 18,
        "start_time": "2023-02-05T14:01:18.698Z"
      },
      {
        "duration": 37,
        "start_time": "2023-02-05T14:01:21.318Z"
      },
      {
        "duration": 171,
        "start_time": "2023-02-05T14:01:25.788Z"
      },
      {
        "duration": 3653,
        "start_time": "2023-02-05T14:01:34.569Z"
      },
      {
        "duration": 114,
        "start_time": "2023-02-05T14:01:44.915Z"
      },
      {
        "duration": 84,
        "start_time": "2023-02-05T14:01:48.871Z"
      },
      {
        "duration": 45,
        "start_time": "2023-02-05T14:01:53.376Z"
      },
      {
        "duration": 199,
        "start_time": "2023-02-05T14:01:55.699Z"
      },
      {
        "duration": 1526,
        "start_time": "2023-02-06T18:48:51.328Z"
      },
      {
        "duration": 188,
        "start_time": "2023-02-06T18:48:55.048Z"
      },
      {
        "duration": 16,
        "start_time": "2023-02-06T18:49:06.536Z"
      },
      {
        "duration": 525,
        "start_time": "2023-02-06T18:49:42.238Z"
      },
      {
        "duration": 12,
        "start_time": "2023-02-06T18:49:46.297Z"
      },
      {
        "duration": 19,
        "start_time": "2023-02-06T18:51:50.325Z"
      },
      {
        "duration": 15,
        "start_time": "2023-02-06T18:52:22.026Z"
      },
      {
        "duration": 14,
        "start_time": "2023-02-06T18:55:44.427Z"
      },
      {
        "duration": 14,
        "start_time": "2023-02-06T18:56:27.626Z"
      },
      {
        "duration": 15,
        "start_time": "2023-02-06T18:56:44.837Z"
      },
      {
        "duration": 111,
        "start_time": "2023-02-06T18:56:56.792Z"
      },
      {
        "duration": 20,
        "start_time": "2023-02-06T18:57:06.530Z"
      },
      {
        "duration": 20,
        "start_time": "2023-02-06T18:57:12.532Z"
      },
      {
        "duration": 44,
        "start_time": "2023-02-06T18:58:01.471Z"
      },
      {
        "duration": 37,
        "start_time": "2023-02-06T18:58:14.921Z"
      },
      {
        "duration": 17,
        "start_time": "2023-02-06T18:58:24.628Z"
      },
      {
        "duration": 13,
        "start_time": "2023-02-06T18:59:36.026Z"
      },
      {
        "duration": 13,
        "start_time": "2023-02-06T18:59:45.160Z"
      },
      {
        "duration": 14,
        "start_time": "2023-02-06T19:00:26.027Z"
      },
      {
        "duration": 18,
        "start_time": "2023-02-06T19:01:39.843Z"
      },
      {
        "duration": 1353,
        "start_time": "2023-02-06T19:03:31.921Z"
      },
      {
        "duration": 60,
        "start_time": "2023-02-06T19:03:33.276Z"
      },
      {
        "duration": 14,
        "start_time": "2023-02-06T19:03:33.338Z"
      },
      {
        "duration": 27,
        "start_time": "2023-02-06T19:03:33.354Z"
      },
      {
        "duration": 518,
        "start_time": "2023-02-06T19:03:33.384Z"
      },
      {
        "duration": 15,
        "start_time": "2023-02-06T19:03:33.904Z"
      },
      {
        "duration": 35,
        "start_time": "2023-02-06T19:03:33.936Z"
      },
      {
        "duration": 27,
        "start_time": "2023-02-06T19:03:33.973Z"
      },
      {
        "duration": 52,
        "start_time": "2023-02-06T19:03:34.002Z"
      },
      {
        "duration": 181,
        "start_time": "2023-02-06T19:03:34.055Z"
      },
      {
        "duration": 3908,
        "start_time": "2023-02-06T19:03:34.238Z"
      },
      {
        "duration": 468,
        "start_time": "2023-02-06T19:03:38.148Z"
      },
      {
        "duration": 34,
        "start_time": "2023-02-06T19:03:38.618Z"
      },
      {
        "duration": 295,
        "start_time": "2023-02-06T19:03:38.655Z"
      },
      {
        "duration": 93,
        "start_time": "2023-02-06T19:03:38.951Z"
      },
      {
        "duration": 137,
        "start_time": "2023-02-06T19:03:39.046Z"
      },
      {
        "duration": 253,
        "start_time": "2023-02-06T19:03:39.185Z"
      },
      {
        "duration": 46,
        "start_time": "2023-02-06T19:03:39.440Z"
      },
      {
        "duration": 24,
        "start_time": "2023-02-06T19:03:39.488Z"
      },
      {
        "duration": 190,
        "start_time": "2023-02-06T19:03:39.536Z"
      },
      {
        "duration": 45,
        "start_time": "2023-02-06T19:03:39.729Z"
      },
      {
        "duration": 111,
        "start_time": "2023-02-06T19:03:39.837Z"
      },
      {
        "duration": 575,
        "start_time": "2023-02-06T19:03:39.950Z"
      },
      {
        "duration": 442,
        "start_time": "2023-02-06T19:03:40.537Z"
      },
      {
        "duration": 79,
        "start_time": "2023-02-06T19:03:40.982Z"
      },
      {
        "duration": 71,
        "start_time": "2023-02-06T19:03:48.260Z"
      },
      {
        "duration": 206,
        "start_time": "2023-02-06T19:04:13.476Z"
      },
      {
        "duration": 187,
        "start_time": "2023-02-06T19:07:26.290Z"
      },
      {
        "duration": 191,
        "start_time": "2023-02-06T19:08:00.972Z"
      },
      {
        "duration": 3837,
        "start_time": "2023-02-06T19:08:15.795Z"
      },
      {
        "duration": 3712,
        "start_time": "2023-02-06T19:09:02.767Z"
      },
      {
        "duration": 365,
        "start_time": "2023-02-06T19:09:30.528Z"
      },
      {
        "duration": 378,
        "start_time": "2023-02-06T19:10:41.260Z"
      },
      {
        "duration": 24,
        "start_time": "2023-02-06T19:11:01.591Z"
      },
      {
        "duration": 18,
        "start_time": "2023-02-06T19:11:57.744Z"
      },
      {
        "duration": 121,
        "start_time": "2023-02-06T19:14:04.748Z"
      },
      {
        "duration": 87,
        "start_time": "2023-02-06T19:14:33.954Z"
      },
      {
        "duration": 90,
        "start_time": "2023-02-06T19:15:09.362Z"
      },
      {
        "duration": 44,
        "start_time": "2023-02-06T19:15:29.056Z"
      },
      {
        "duration": 40,
        "start_time": "2023-02-06T19:15:43.876Z"
      },
      {
        "duration": 51,
        "start_time": "2023-02-06T19:15:51.268Z"
      },
      {
        "duration": 109,
        "start_time": "2023-02-06T19:15:59.619Z"
      },
      {
        "duration": 88,
        "start_time": "2023-02-06T19:16:06.569Z"
      },
      {
        "duration": 127,
        "start_time": "2023-02-06T19:16:25.724Z"
      },
      {
        "duration": 125,
        "start_time": "2023-02-06T19:16:50.318Z"
      },
      {
        "duration": 214,
        "start_time": "2023-02-06T19:17:13.197Z"
      },
      {
        "duration": 326,
        "start_time": "2023-02-06T19:18:55.921Z"
      },
      {
        "duration": 352,
        "start_time": "2023-02-06T19:21:00.638Z"
      },
      {
        "duration": 351,
        "start_time": "2023-02-06T19:22:08.599Z"
      },
      {
        "duration": 60,
        "start_time": "2023-02-06T19:24:46.278Z"
      },
      {
        "duration": 61,
        "start_time": "2023-02-06T19:25:18.089Z"
      },
      {
        "duration": 82,
        "start_time": "2023-02-06T19:25:35.965Z"
      },
      {
        "duration": 63,
        "start_time": "2023-02-06T19:25:43.756Z"
      },
      {
        "duration": 225,
        "start_time": "2023-02-06T19:27:06.213Z"
      },
      {
        "duration": 325,
        "start_time": "2023-02-06T19:28:47.800Z"
      },
      {
        "duration": 218,
        "start_time": "2023-02-06T19:29:13.795Z"
      },
      {
        "duration": 976,
        "start_time": "2023-02-06T19:32:38.962Z"
      },
      {
        "duration": 371,
        "start_time": "2023-02-06T19:37:58.903Z"
      },
      {
        "duration": 385,
        "start_time": "2023-02-06T19:39:08.795Z"
      },
      {
        "duration": 746,
        "start_time": "2023-02-06T19:39:58.907Z"
      },
      {
        "duration": 658,
        "start_time": "2023-02-06T19:40:44.681Z"
      },
      {
        "duration": 24,
        "start_time": "2023-02-06T19:42:06.220Z"
      },
      {
        "duration": 35,
        "start_time": "2023-02-06T19:42:26.890Z"
      },
      {
        "duration": 394,
        "start_time": "2023-02-06T19:43:25.886Z"
      },
      {
        "duration": 40,
        "start_time": "2023-02-06T19:43:36.465Z"
      },
      {
        "duration": 44,
        "start_time": "2023-02-06T19:43:54.371Z"
      },
      {
        "duration": 46,
        "start_time": "2023-02-06T19:44:03.358Z"
      },
      {
        "duration": 37,
        "start_time": "2023-02-06T19:44:13.559Z"
      },
      {
        "duration": 65,
        "start_time": "2023-02-06T19:45:30.254Z"
      },
      {
        "duration": 28,
        "start_time": "2023-02-06T19:45:44.619Z"
      },
      {
        "duration": 36,
        "start_time": "2023-02-06T19:46:14.300Z"
      },
      {
        "duration": 337,
        "start_time": "2023-02-06T19:51:56.817Z"
      },
      {
        "duration": 236,
        "start_time": "2023-02-06T19:55:22.848Z"
      },
      {
        "duration": 265,
        "start_time": "2023-02-06T19:55:55.337Z"
      },
      {
        "duration": 882,
        "start_time": "2023-02-06T20:02:08.360Z"
      },
      {
        "duration": 42,
        "start_time": "2023-02-06T20:03:53.897Z"
      },
      {
        "duration": 44,
        "start_time": "2023-02-06T20:04:50.261Z"
      },
      {
        "duration": 223,
        "start_time": "2023-02-06T20:06:15.032Z"
      },
      {
        "duration": 322,
        "start_time": "2023-02-06T20:06:52.981Z"
      },
      {
        "duration": 44,
        "start_time": "2023-02-06T20:07:11.756Z"
      },
      {
        "duration": 49,
        "start_time": "2023-02-06T20:07:41.068Z"
      },
      {
        "duration": 43,
        "start_time": "2023-02-06T20:07:48.299Z"
      },
      {
        "duration": 21,
        "start_time": "2023-02-06T20:07:53.608Z"
      },
      {
        "duration": 45,
        "start_time": "2023-02-06T20:07:58.704Z"
      },
      {
        "duration": 42,
        "start_time": "2023-02-06T20:09:54.135Z"
      },
      {
        "duration": 44,
        "start_time": "2023-02-06T20:10:17.889Z"
      },
      {
        "duration": 45,
        "start_time": "2023-02-06T20:10:21.068Z"
      },
      {
        "duration": 161,
        "start_time": "2023-02-06T20:11:53.322Z"
      },
      {
        "duration": 70,
        "start_time": "2023-02-06T20:12:30.866Z"
      },
      {
        "duration": 48,
        "start_time": "2023-02-06T20:18:04.952Z"
      },
      {
        "duration": 13,
        "start_time": "2023-02-06T20:23:22.892Z"
      },
      {
        "duration": 822,
        "start_time": "2023-02-06T20:23:31.031Z"
      },
      {
        "duration": 864,
        "start_time": "2023-02-06T20:23:38.126Z"
      },
      {
        "duration": 971,
        "start_time": "2023-02-06T20:24:01.972Z"
      },
      {
        "duration": 743,
        "start_time": "2023-02-06T20:24:18.629Z"
      },
      {
        "duration": 55,
        "start_time": "2023-02-06T20:24:32.161Z"
      },
      {
        "duration": 766,
        "start_time": "2023-02-06T20:27:16.080Z"
      },
      {
        "duration": 338,
        "start_time": "2023-02-06T20:28:31.401Z"
      },
      {
        "duration": 780,
        "start_time": "2023-02-06T20:29:44.172Z"
      },
      {
        "duration": 313,
        "start_time": "2023-02-06T20:31:21.296Z"
      },
      {
        "duration": 313,
        "start_time": "2023-02-06T20:32:06.624Z"
      },
      {
        "duration": 815,
        "start_time": "2023-02-06T20:32:45.441Z"
      },
      {
        "duration": 227,
        "start_time": "2023-02-06T20:33:39.901Z"
      },
      {
        "duration": 821,
        "start_time": "2023-02-06T20:33:49.871Z"
      },
      {
        "duration": 967,
        "start_time": "2023-02-06T20:35:05.710Z"
      },
      {
        "duration": 277,
        "start_time": "2023-02-06T20:35:31.137Z"
      },
      {
        "duration": 428,
        "start_time": "2023-02-06T20:36:00.554Z"
      },
      {
        "duration": 950,
        "start_time": "2023-02-06T20:36:46.061Z"
      },
      {
        "duration": 1069,
        "start_time": "2023-02-06T20:37:10.336Z"
      },
      {
        "duration": 1001,
        "start_time": "2023-02-06T20:37:24.437Z"
      },
      {
        "duration": 877,
        "start_time": "2023-02-06T20:37:32.673Z"
      },
      {
        "duration": 905,
        "start_time": "2023-02-06T20:41:00.042Z"
      },
      {
        "duration": 567,
        "start_time": "2023-02-06T20:41:46.255Z"
      },
      {
        "duration": 866,
        "start_time": "2023-02-06T20:42:56.022Z"
      },
      {
        "duration": 702,
        "start_time": "2023-02-06T20:46:58.151Z"
      },
      {
        "duration": 48,
        "start_time": "2023-02-06T20:47:23.241Z"
      },
      {
        "duration": 36,
        "start_time": "2023-02-06T20:47:50.947Z"
      },
      {
        "duration": 51,
        "start_time": "2023-02-07T10:18:59.652Z"
      },
      {
        "duration": 1545,
        "start_time": "2023-02-07T10:19:07.676Z"
      },
      {
        "duration": 182,
        "start_time": "2023-02-07T10:19:10.713Z"
      },
      {
        "duration": 13,
        "start_time": "2023-02-07T10:19:14.022Z"
      },
      {
        "duration": 15,
        "start_time": "2023-02-07T10:19:18.789Z"
      },
      {
        "duration": 5,
        "start_time": "2023-02-07T10:19:25.527Z"
      },
      {
        "duration": 582,
        "start_time": "2023-02-07T10:19:29.651Z"
      },
      {
        "duration": 21,
        "start_time": "2023-02-07T10:19:37.417Z"
      },
      {
        "duration": 21,
        "start_time": "2023-02-07T10:19:42.547Z"
      },
      {
        "duration": 89,
        "start_time": "2023-02-07T10:19:52.303Z"
      },
      {
        "duration": 44,
        "start_time": "2023-02-07T10:19:57.911Z"
      },
      {
        "duration": 181,
        "start_time": "2023-02-07T10:20:03.610Z"
      },
      {
        "duration": 180,
        "start_time": "2023-02-07T10:21:03.477Z"
      },
      {
        "duration": 3897,
        "start_time": "2023-02-07T10:21:28.313Z"
      },
      {
        "duration": 3801,
        "start_time": "2023-02-07T10:22:15.081Z"
      },
      {
        "duration": 402,
        "start_time": "2023-02-07T10:22:36.286Z"
      },
      {
        "duration": 3763,
        "start_time": "2023-02-07T10:23:03.488Z"
      },
      {
        "duration": 344,
        "start_time": "2023-02-07T10:23:44.637Z"
      },
      {
        "duration": 361,
        "start_time": "2023-02-07T10:24:12.807Z"
      },
      {
        "duration": 79,
        "start_time": "2023-02-07T10:24:21.303Z"
      },
      {
        "duration": 137,
        "start_time": "2023-02-07T10:25:13.668Z"
      },
      {
        "duration": 265,
        "start_time": "2023-02-07T10:25:28.906Z"
      },
      {
        "duration": 203,
        "start_time": "2023-02-07T10:28:00.793Z"
      },
      {
        "duration": 499,
        "start_time": "2023-02-07T10:29:38.665Z"
      },
      {
        "duration": 511,
        "start_time": "2023-02-07T10:44:50.530Z"
      },
      {
        "duration": 52,
        "start_time": "2023-02-07T10:46:52.853Z"
      },
      {
        "duration": 91,
        "start_time": "2023-02-07T10:47:35.625Z"
      },
      {
        "duration": 414,
        "start_time": "2023-02-07T10:50:10.404Z"
      },
      {
        "duration": 490,
        "start_time": "2023-02-07T10:56:44.993Z"
      },
      {
        "duration": 1061,
        "start_time": "2023-02-07T10:58:12.138Z"
      },
      {
        "duration": 460,
        "start_time": "2023-02-07T10:58:57.496Z"
      },
      {
        "duration": 49,
        "start_time": "2023-02-07T10:59:26.150Z"
      },
      {
        "duration": 113,
        "start_time": "2023-02-07T11:00:17.226Z"
      },
      {
        "duration": 79,
        "start_time": "2023-02-07T11:00:51.423Z"
      },
      {
        "duration": 81,
        "start_time": "2023-02-07T11:01:45.721Z"
      },
      {
        "duration": 128,
        "start_time": "2023-02-07T11:02:58.105Z"
      },
      {
        "duration": 82,
        "start_time": "2023-02-07T11:03:18.757Z"
      },
      {
        "duration": 117,
        "start_time": "2023-02-07T11:03:25.329Z"
      },
      {
        "duration": 519,
        "start_time": "2023-02-07T11:04:23.230Z"
      },
      {
        "duration": 10696,
        "start_time": "2023-02-07T11:05:38.668Z"
      },
      {
        "duration": 1286,
        "start_time": "2023-02-07T11:07:38.265Z"
      },
      {
        "duration": 444,
        "start_time": "2023-02-07T11:11:42.352Z"
      },
      {
        "duration": 446,
        "start_time": "2023-02-07T11:11:53.421Z"
      },
      {
        "duration": 57,
        "start_time": "2023-02-07T11:14:07.426Z"
      },
      {
        "duration": 253,
        "start_time": "2023-02-07T11:14:19.008Z"
      },
      {
        "duration": 10104,
        "start_time": "2023-02-07T11:14:41.563Z"
      },
      {
        "duration": 425,
        "start_time": "2023-02-07T11:16:28.913Z"
      },
      {
        "duration": 433,
        "start_time": "2023-02-07T11:17:48.851Z"
      },
      {
        "duration": 9597,
        "start_time": "2023-02-07T11:19:27.792Z"
      },
      {
        "duration": 9546,
        "start_time": "2023-02-07T11:20:14.327Z"
      },
      {
        "duration": 542,
        "start_time": "2023-02-07T11:21:21.176Z"
      },
      {
        "duration": 476,
        "start_time": "2023-02-07T11:22:12.740Z"
      },
      {
        "duration": 10140,
        "start_time": "2023-02-07T11:22:58.381Z"
      },
      {
        "duration": 4947,
        "start_time": "2023-02-07T11:24:39.402Z"
      },
      {
        "duration": 10181,
        "start_time": "2023-02-07T11:25:03.416Z"
      },
      {
        "duration": 10207,
        "start_time": "2023-02-07T11:25:43.069Z"
      },
      {
        "duration": 1464,
        "start_time": "2023-02-07T11:26:12.017Z"
      },
      {
        "duration": 1587,
        "start_time": "2023-02-07T11:26:43.469Z"
      },
      {
        "duration": 43,
        "start_time": "2023-02-07T11:26:56.937Z"
      },
      {
        "duration": 743,
        "start_time": "2023-02-07T11:27:37.374Z"
      },
      {
        "duration": 437,
        "start_time": "2023-02-07T11:28:46.488Z"
      },
      {
        "duration": 987,
        "start_time": "2023-02-07T11:29:09.284Z"
      },
      {
        "duration": 244,
        "start_time": "2023-02-07T11:29:27.409Z"
      },
      {
        "duration": 496,
        "start_time": "2023-02-07T11:29:51.738Z"
      },
      {
        "duration": 172,
        "start_time": "2023-02-07T11:30:19.030Z"
      },
      {
        "duration": 171,
        "start_time": "2023-02-07T14:26:32.074Z"
      },
      {
        "duration": 169,
        "start_time": "2023-02-07T14:26:35.914Z"
      },
      {
        "duration": 1358,
        "start_time": "2023-02-07T14:26:43.882Z"
      },
      {
        "duration": 67,
        "start_time": "2023-02-07T14:26:45.242Z"
      },
      {
        "duration": 17,
        "start_time": "2023-02-07T14:26:45.311Z"
      },
      {
        "duration": 5,
        "start_time": "2023-02-07T14:26:45.329Z"
      },
      {
        "duration": 510,
        "start_time": "2023-02-07T14:26:45.336Z"
      },
      {
        "duration": 14,
        "start_time": "2023-02-07T14:26:45.848Z"
      },
      {
        "duration": 35,
        "start_time": "2023-02-07T14:26:45.864Z"
      },
      {
        "duration": 18,
        "start_time": "2023-02-07T14:26:45.901Z"
      },
      {
        "duration": 39,
        "start_time": "2023-02-07T14:26:45.921Z"
      },
      {
        "duration": 525,
        "start_time": "2023-02-07T14:26:45.980Z"
      },
      {
        "duration": 10010,
        "start_time": "2023-02-07T14:26:46.506Z"
      },
      {
        "duration": 1558,
        "start_time": "2023-02-07T14:26:56.519Z"
      },
      {
        "duration": 21,
        "start_time": "2023-02-07T14:26:58.081Z"
      },
      {
        "duration": 293,
        "start_time": "2023-02-07T14:26:58.180Z"
      },
      {
        "duration": 740,
        "start_time": "2023-02-07T14:26:58.474Z"
      },
      {
        "duration": 433,
        "start_time": "2023-02-07T14:26:59.216Z"
      },
      {
        "duration": 1047,
        "start_time": "2023-02-07T14:26:59.651Z"
      },
      {
        "duration": 181,
        "start_time": "2023-02-07T14:27:00.700Z"
      },
      {
        "duration": 3,
        "start_time": "2023-02-07T14:27:00.883Z"
      },
      {
        "duration": 526,
        "start_time": "2023-02-07T14:27:00.887Z"
      },
      {
        "duration": 528,
        "start_time": "2023-02-07T14:28:10.879Z"
      },
      {
        "duration": 175,
        "start_time": "2023-02-07T14:28:17.263Z"
      },
      {
        "duration": 127,
        "start_time": "2023-02-07T14:29:06.939Z"
      },
      {
        "duration": 835,
        "start_time": "2023-02-07T14:29:18.225Z"
      },
      {
        "duration": 433,
        "start_time": "2023-02-07T14:29:30.861Z"
      },
      {
        "duration": 11,
        "start_time": "2023-02-07T14:29:40.207Z"
      },
      {
        "duration": 758,
        "start_time": "2023-02-07T14:29:50.063Z"
      },
      {
        "duration": 6,
        "start_time": "2023-02-07T14:29:58.072Z"
      },
      {
        "duration": 54,
        "start_time": "2023-02-07T14:30:00.251Z"
      },
      {
        "duration": 15,
        "start_time": "2023-02-07T14:30:04.009Z"
      },
      {
        "duration": 5,
        "start_time": "2023-02-07T14:30:08.634Z"
      },
      {
        "duration": 598,
        "start_time": "2023-02-07T14:30:10.744Z"
      },
      {
        "duration": 15,
        "start_time": "2023-02-07T14:30:16.662Z"
      },
      {
        "duration": 20,
        "start_time": "2023-02-07T14:30:21.288Z"
      },
      {
        "duration": 20,
        "start_time": "2023-02-07T14:30:24.354Z"
      },
      {
        "duration": 39,
        "start_time": "2023-02-07T14:30:35.834Z"
      },
      {
        "duration": 514,
        "start_time": "2023-02-07T14:30:44.808Z"
      },
      {
        "duration": 10586,
        "start_time": "2023-02-07T14:31:10.291Z"
      },
      {
        "duration": 1711,
        "start_time": "2023-02-07T14:31:44.518Z"
      },
      {
        "duration": 735,
        "start_time": "2023-02-07T14:32:25.163Z"
      },
      {
        "duration": 65,
        "start_time": "2023-02-07T18:48:42.394Z"
      },
      {
        "duration": 1740,
        "start_time": "2023-02-07T18:48:49.116Z"
      },
      {
        "duration": 187,
        "start_time": "2023-02-07T18:48:51.537Z"
      },
      {
        "duration": 20,
        "start_time": "2023-02-07T18:48:54.743Z"
      },
      {
        "duration": 7,
        "start_time": "2023-02-07T18:48:57.642Z"
      },
      {
        "duration": 18,
        "start_time": "2023-02-07T18:49:03.702Z"
      },
      {
        "duration": 24,
        "start_time": "2023-02-07T18:49:06.760Z"
      },
      {
        "duration": 20,
        "start_time": "2023-02-07T18:49:09.793Z"
      },
      {
        "duration": 54,
        "start_time": "2023-02-07T18:49:14.605Z"
      },
      {
        "duration": 609,
        "start_time": "2023-02-07T18:49:21.293Z"
      },
      {
        "duration": 12208,
        "start_time": "2023-02-07T18:49:42.036Z"
      },
      {
        "duration": 1898,
        "start_time": "2023-02-07T18:50:05.049Z"
      },
      {
        "duration": 4698,
        "start_time": "2023-02-07T18:50:32.809Z"
      },
      {
        "duration": 517,
        "start_time": "2023-02-07T18:50:50.971Z"
      },
      {
        "duration": 553,
        "start_time": "2023-02-07T18:50:57.101Z"
      },
      {
        "duration": 435,
        "start_time": "2023-02-07T18:51:15.359Z"
      },
      {
        "duration": 78,
        "start_time": "2023-02-07T18:51:23.061Z"
      },
      {
        "duration": 576,
        "start_time": "2023-02-07T18:51:54.551Z"
      },
      {
        "duration": 492,
        "start_time": "2023-02-07T18:52:06.100Z"
      },
      {
        "duration": 1112,
        "start_time": "2023-02-07T18:52:21.481Z"
      },
      {
        "duration": 108,
        "start_time": "2023-02-07T18:52:39.463Z"
      },
      {
        "duration": 432,
        "start_time": "2023-02-07T18:52:59.980Z"
      },
      {
        "duration": 228,
        "start_time": "2023-02-07T18:54:13.412Z"
      },
      {
        "duration": 192,
        "start_time": "2023-02-07T20:00:36.987Z"
      },
      {
        "duration": 23,
        "start_time": "2023-02-07T20:01:55.835Z"
      },
      {
        "duration": 130,
        "start_time": "2023-02-07T20:02:04.525Z"
      },
      {
        "duration": 519,
        "start_time": "2023-02-07T20:04:59.474Z"
      },
      {
        "duration": 99,
        "start_time": "2023-02-07T20:05:25.396Z"
      },
      {
        "duration": 396,
        "start_time": "2023-02-07T20:07:24.712Z"
      },
      {
        "duration": 388,
        "start_time": "2023-02-07T20:07:43.732Z"
      },
      {
        "duration": 968,
        "start_time": "2023-02-07T20:08:25.358Z"
      },
      {
        "duration": 94,
        "start_time": "2023-02-07T20:08:36.998Z"
      },
      {
        "duration": 195,
        "start_time": "2023-02-07T20:08:50.792Z"
      },
      {
        "duration": 406,
        "start_time": "2023-02-07T20:09:17.341Z"
      },
      {
        "duration": 84,
        "start_time": "2023-02-07T20:14:25.420Z"
      },
      {
        "duration": 112,
        "start_time": "2023-02-07T20:14:42.850Z"
      },
      {
        "duration": 1440,
        "start_time": "2023-02-08T17:47:50.150Z"
      },
      {
        "duration": 181,
        "start_time": "2023-02-08T17:47:52.971Z"
      },
      {
        "duration": 16,
        "start_time": "2023-02-08T17:47:56.237Z"
      },
      {
        "duration": 4,
        "start_time": "2023-02-08T17:47:59.670Z"
      },
      {
        "duration": 495,
        "start_time": "2023-02-08T17:48:02.236Z"
      },
      {
        "duration": 17,
        "start_time": "2023-02-08T17:48:13.228Z"
      },
      {
        "duration": 19,
        "start_time": "2023-02-08T17:48:37.675Z"
      },
      {
        "duration": 4,
        "start_time": "2023-02-08T17:53:24.653Z"
      },
      {
        "duration": 5,
        "start_time": "2023-02-08T17:53:39.092Z"
      },
      {
        "duration": 21,
        "start_time": "2023-02-08T18:02:43.434Z"
      },
      {
        "duration": 18,
        "start_time": "2023-02-08T18:03:07.669Z"
      },
      {
        "duration": 19,
        "start_time": "2023-02-08T18:03:12.733Z"
      },
      {
        "duration": 110,
        "start_time": "2023-02-08T18:10:21.844Z"
      },
      {
        "duration": 19,
        "start_time": "2023-02-08T18:17:23.575Z"
      },
      {
        "duration": 40,
        "start_time": "2023-02-08T18:17:48.265Z"
      },
      {
        "duration": 449,
        "start_time": "2023-02-08T18:19:10.571Z"
      },
      {
        "duration": 449,
        "start_time": "2023-02-08T18:19:28.424Z"
      },
      {
        "duration": 82893,
        "start_time": "2023-02-08T18:20:52.353Z"
      },
      {
        "duration": 24,
        "start_time": "2023-02-08T18:22:50.719Z"
      },
      {
        "duration": 106,
        "start_time": "2023-02-08T18:25:04.719Z"
      },
      {
        "duration": 4098,
        "start_time": "2023-02-08T18:25:57.672Z"
      },
      {
        "duration": 385,
        "start_time": "2023-02-08T18:33:20.040Z"
      },
      {
        "duration": 959,
        "start_time": "2023-02-08T18:34:01.094Z"
      },
      {
        "duration": 3658,
        "start_time": "2023-02-08T18:35:16.204Z"
      },
      {
        "duration": 4057,
        "start_time": "2023-02-08T18:35:44.254Z"
      },
      {
        "duration": 444,
        "start_time": "2023-02-08T18:37:07.550Z"
      },
      {
        "duration": 3972,
        "start_time": "2023-02-08T18:38:15.829Z"
      },
      {
        "duration": 434,
        "start_time": "2023-02-08T18:38:57.972Z"
      },
      {
        "duration": 412,
        "start_time": "2023-02-08T18:39:49.171Z"
      },
      {
        "duration": 920,
        "start_time": "2023-02-08T18:40:29.783Z"
      },
      {
        "duration": 110,
        "start_time": "2023-02-08T18:42:54.787Z"
      },
      {
        "duration": 462,
        "start_time": "2023-02-08T18:45:14.985Z"
      },
      {
        "duration": 1381,
        "start_time": "2023-02-08T18:48:02.999Z"
      },
      {
        "duration": 1599,
        "start_time": "2023-02-08T18:49:11.295Z"
      },
      {
        "duration": 1335,
        "start_time": "2023-02-08T18:49:25.206Z"
      },
      {
        "duration": 1281,
        "start_time": "2023-02-08T18:49:50.876Z"
      },
      {
        "duration": 1271,
        "start_time": "2023-02-08T18:50:42.910Z"
      },
      {
        "duration": 1501,
        "start_time": "2023-02-08T18:52:29.821Z"
      },
      {
        "duration": 1335,
        "start_time": "2023-02-08T18:55:49.439Z"
      },
      {
        "duration": 640,
        "start_time": "2023-02-08T18:56:19.852Z"
      },
      {
        "duration": 571,
        "start_time": "2023-02-08T18:57:22.936Z"
      },
      {
        "duration": 1830,
        "start_time": "2023-02-08T18:58:36.581Z"
      },
      {
        "duration": 1991,
        "start_time": "2023-02-08T19:05:14.109Z"
      },
      {
        "duration": 48,
        "start_time": "2023-02-08T19:12:05.349Z"
      },
      {
        "duration": 1962,
        "start_time": "2023-02-08T19:12:18.036Z"
      },
      {
        "duration": 1780,
        "start_time": "2023-02-08T19:15:27.935Z"
      },
      {
        "duration": 1923,
        "start_time": "2023-02-08T19:16:50.253Z"
      },
      {
        "duration": 1999,
        "start_time": "2023-02-08T19:19:03.024Z"
      },
      {
        "duration": 1861,
        "start_time": "2023-02-08T19:19:10.312Z"
      },
      {
        "duration": 1924,
        "start_time": "2023-02-08T19:23:37.748Z"
      },
      {
        "duration": 1968,
        "start_time": "2023-02-08T19:24:01.145Z"
      },
      {
        "duration": 2023,
        "start_time": "2023-02-08T19:24:26.590Z"
      },
      {
        "duration": 2038,
        "start_time": "2023-02-08T19:24:45.422Z"
      },
      {
        "duration": 2626,
        "start_time": "2023-02-08T19:26:40.121Z"
      },
      {
        "duration": 2683,
        "start_time": "2023-02-08T19:26:58.152Z"
      },
      {
        "duration": 2839,
        "start_time": "2023-02-08T19:27:53.366Z"
      },
      {
        "duration": 2947,
        "start_time": "2023-02-08T19:28:05.365Z"
      },
      {
        "duration": 1946,
        "start_time": "2023-02-08T19:28:46.662Z"
      },
      {
        "duration": 1391,
        "start_time": "2023-02-08T19:31:05.663Z"
      },
      {
        "duration": 55,
        "start_time": "2023-02-08T19:31:07.056Z"
      },
      {
        "duration": 21,
        "start_time": "2023-02-08T19:31:07.113Z"
      },
      {
        "duration": 4,
        "start_time": "2023-02-08T19:31:07.136Z"
      },
      {
        "duration": 537,
        "start_time": "2023-02-08T19:31:07.143Z"
      },
      {
        "duration": 23,
        "start_time": "2023-02-08T19:31:07.682Z"
      },
      {
        "duration": 127,
        "start_time": "2023-02-08T19:31:07.706Z"
      },
      {
        "duration": 0,
        "start_time": "2023-02-08T19:31:07.835Z"
      },
      {
        "duration": 0,
        "start_time": "2023-02-08T19:31:07.837Z"
      },
      {
        "duration": 0,
        "start_time": "2023-02-08T19:31:07.838Z"
      },
      {
        "duration": 0,
        "start_time": "2023-02-08T19:31:07.839Z"
      },
      {
        "duration": 0,
        "start_time": "2023-02-08T19:31:07.840Z"
      },
      {
        "duration": 0,
        "start_time": "2023-02-08T19:31:07.841Z"
      },
      {
        "duration": 0,
        "start_time": "2023-02-08T19:31:07.843Z"
      },
      {
        "duration": 0,
        "start_time": "2023-02-08T19:31:07.844Z"
      },
      {
        "duration": 0,
        "start_time": "2023-02-08T19:31:07.845Z"
      },
      {
        "duration": 0,
        "start_time": "2023-02-08T19:31:07.847Z"
      },
      {
        "duration": 0,
        "start_time": "2023-02-08T19:31:07.848Z"
      },
      {
        "duration": 0,
        "start_time": "2023-02-08T19:31:07.850Z"
      },
      {
        "duration": 4,
        "start_time": "2023-02-08T19:31:31.144Z"
      },
      {
        "duration": 64,
        "start_time": "2023-02-08T19:31:34.829Z"
      },
      {
        "duration": 15,
        "start_time": "2023-02-08T19:31:38.880Z"
      },
      {
        "duration": 4,
        "start_time": "2023-02-08T19:31:42.930Z"
      },
      {
        "duration": 553,
        "start_time": "2023-02-08T19:31:48.780Z"
      },
      {
        "duration": 22,
        "start_time": "2023-02-08T19:31:54.300Z"
      },
      {
        "duration": 22,
        "start_time": "2023-02-08T19:32:17.717Z"
      },
      {
        "duration": 19,
        "start_time": "2023-02-08T19:32:25.845Z"
      },
      {
        "duration": 45,
        "start_time": "2023-02-08T19:32:48.182Z"
      },
      {
        "duration": 29,
        "start_time": "2023-02-08T19:33:05.676Z"
      },
      {
        "duration": 21,
        "start_time": "2023-02-08T19:33:37.331Z"
      },
      {
        "duration": 17,
        "start_time": "2023-02-08T19:34:51.334Z"
      },
      {
        "duration": 36,
        "start_time": "2023-02-08T19:35:12.686Z"
      },
      {
        "duration": 20,
        "start_time": "2023-02-08T19:35:34.551Z"
      },
      {
        "duration": 38,
        "start_time": "2023-02-08T19:35:48.743Z"
      },
      {
        "duration": 18,
        "start_time": "2023-02-08T19:36:41.164Z"
      },
      {
        "duration": 39,
        "start_time": "2023-02-08T19:39:09.291Z"
      },
      {
        "duration": 38,
        "start_time": "2023-02-08T19:39:17.228Z"
      },
      {
        "duration": 490,
        "start_time": "2023-02-08T19:39:25.260Z"
      },
      {
        "duration": 84054,
        "start_time": "2023-02-08T19:39:40.891Z"
      },
      {
        "duration": 70,
        "start_time": "2023-02-08T19:41:30.321Z"
      },
      {
        "duration": 111,
        "start_time": "2023-02-08T19:42:34.544Z"
      },
      {
        "duration": 119,
        "start_time": "2023-02-08T19:43:10.619Z"
      },
      {
        "duration": 39,
        "start_time": "2023-02-08T19:46:43.857Z"
      },
      {
        "duration": 52,
        "start_time": "2023-02-08T19:46:57.184Z"
      },
      {
        "duration": 30,
        "start_time": "2023-02-08T19:47:14.277Z"
      },
      {
        "duration": 47,
        "start_time": "2023-02-08T19:47:21.969Z"
      },
      {
        "duration": 43,
        "start_time": "2023-02-08T19:50:58.224Z"
      },
      {
        "duration": 56,
        "start_time": "2023-02-08T19:51:03.369Z"
      },
      {
        "duration": 500,
        "start_time": "2023-02-08T19:51:07.224Z"
      },
      {
        "duration": 86141,
        "start_time": "2023-02-08T19:51:24.637Z"
      },
      {
        "duration": 77,
        "start_time": "2023-02-08T19:53:07.016Z"
      },
      {
        "duration": 99,
        "start_time": "2023-02-08T19:53:23.025Z"
      },
      {
        "duration": 94,
        "start_time": "2023-02-08T19:54:22.778Z"
      },
      {
        "duration": 92,
        "start_time": "2023-02-08T19:54:33.420Z"
      },
      {
        "duration": 26,
        "start_time": "2023-02-08T19:54:41.598Z"
      },
      {
        "duration": 517,
        "start_time": "2023-02-08T19:55:04.331Z"
      },
      {
        "duration": 1398,
        "start_time": "2023-02-08T19:55:47.777Z"
      },
      {
        "duration": 30,
        "start_time": "2023-02-08T19:56:05.129Z"
      },
      {
        "duration": 1677,
        "start_time": "2023-02-08T19:56:23.368Z"
      },
      {
        "duration": 78,
        "start_time": "2023-02-08T19:56:25.048Z"
      },
      {
        "duration": 15,
        "start_time": "2023-02-08T19:56:25.128Z"
      },
      {
        "duration": 4,
        "start_time": "2023-02-08T19:56:25.145Z"
      },
      {
        "duration": 577,
        "start_time": "2023-02-08T19:56:25.152Z"
      },
      {
        "duration": 18,
        "start_time": "2023-02-08T19:56:25.731Z"
      },
      {
        "duration": 49,
        "start_time": "2023-02-08T19:56:25.751Z"
      },
      {
        "duration": 52,
        "start_time": "2023-02-08T19:56:25.802Z"
      },
      {
        "duration": 59,
        "start_time": "2023-02-08T19:56:25.856Z"
      },
      {
        "duration": 550,
        "start_time": "2023-02-08T19:56:25.917Z"
      },
      {
        "duration": 93515,
        "start_time": "2023-02-08T19:56:26.469Z"
      },
      {
        "duration": 33,
        "start_time": "2023-02-08T19:57:59.986Z"
      },
      {
        "duration": 302,
        "start_time": "2023-02-08T19:58:00.021Z"
      },
      {
        "duration": 0,
        "start_time": "2023-02-08T19:58:00.325Z"
      },
      {
        "duration": 0,
        "start_time": "2023-02-08T19:58:00.326Z"
      },
      {
        "duration": 0,
        "start_time": "2023-02-08T19:58:00.330Z"
      },
      {
        "duration": 0,
        "start_time": "2023-02-08T19:58:00.334Z"
      },
      {
        "duration": 0,
        "start_time": "2023-02-08T19:58:00.335Z"
      },
      {
        "duration": 0,
        "start_time": "2023-02-08T19:58:00.336Z"
      },
      {
        "duration": 0,
        "start_time": "2023-02-08T19:58:00.337Z"
      },
      {
        "duration": 0,
        "start_time": "2023-02-08T19:58:00.340Z"
      },
      {
        "duration": 0,
        "start_time": "2023-02-08T19:58:00.342Z"
      },
      {
        "duration": 56,
        "start_time": "2023-02-08T19:58:28.285Z"
      },
      {
        "duration": 5,
        "start_time": "2023-02-08T19:58:32.529Z"
      },
      {
        "duration": 15,
        "start_time": "2023-02-08T19:58:36.072Z"
      },
      {
        "duration": 4,
        "start_time": "2023-02-08T19:58:41.465Z"
      },
      {
        "duration": 506,
        "start_time": "2023-02-08T19:58:45.313Z"
      },
      {
        "duration": 14,
        "start_time": "2023-02-08T19:58:55.843Z"
      },
      {
        "duration": 22,
        "start_time": "2023-02-08T19:59:00.660Z"
      },
      {
        "duration": 53,
        "start_time": "2023-02-08T19:59:24.548Z"
      },
      {
        "duration": 48,
        "start_time": "2023-02-08T19:59:31.288Z"
      },
      {
        "duration": 496,
        "start_time": "2023-02-08T19:59:40.637Z"
      },
      {
        "duration": 90136,
        "start_time": "2023-02-08T20:00:00.836Z"
      },
      {
        "duration": 24,
        "start_time": "2023-02-08T20:02:38.938Z"
      },
      {
        "duration": 12,
        "start_time": "2023-02-08T20:04:14.405Z"
      },
      {
        "duration": 123,
        "start_time": "2023-02-08T20:04:24.853Z"
      },
      {
        "duration": 132,
        "start_time": "2023-02-08T20:04:31.153Z"
      },
      {
        "duration": 17,
        "start_time": "2023-02-08T20:05:02.968Z"
      },
      {
        "duration": 104,
        "start_time": "2023-02-08T20:05:30.246Z"
      },
      {
        "duration": 17,
        "start_time": "2023-02-08T20:07:17.979Z"
      },
      {
        "duration": 36,
        "start_time": "2023-02-08T20:07:26.682Z"
      },
      {
        "duration": 16,
        "start_time": "2023-02-08T20:07:36.763Z"
      },
      {
        "duration": 29,
        "start_time": "2023-02-08T20:07:55.856Z"
      },
      {
        "duration": 46,
        "start_time": "2023-02-08T20:08:22.830Z"
      },
      {
        "duration": 48,
        "start_time": "2023-02-08T20:09:03.579Z"
      },
      {
        "duration": 507,
        "start_time": "2023-02-08T20:09:10.546Z"
      },
      {
        "duration": 82634,
        "start_time": "2023-02-08T20:09:34.634Z"
      },
      {
        "duration": 21,
        "start_time": "2023-02-08T20:13:43.068Z"
      },
      {
        "duration": 102,
        "start_time": "2023-02-08T20:13:50.670Z"
      },
      {
        "duration": 16,
        "start_time": "2023-02-08T20:19:23.898Z"
      },
      {
        "duration": 22,
        "start_time": "2023-02-08T20:19:31.854Z"
      },
      {
        "duration": 40,
        "start_time": "2023-02-08T20:19:54.152Z"
      },
      {
        "duration": 28,
        "start_time": "2023-02-08T20:20:29.635Z"
      },
      {
        "duration": 18,
        "start_time": "2023-02-08T20:20:36.771Z"
      },
      {
        "duration": 41,
        "start_time": "2023-02-08T20:20:43.278Z"
      },
      {
        "duration": 67,
        "start_time": "2023-02-08T20:20:50.128Z"
      },
      {
        "duration": 55,
        "start_time": "2023-02-08T20:20:57.240Z"
      },
      {
        "duration": 70,
        "start_time": "2023-02-08T20:21:16.486Z"
      },
      {
        "duration": 49,
        "start_time": "2023-02-08T20:21:26.893Z"
      },
      {
        "duration": 55,
        "start_time": "2023-02-08T20:21:33.643Z"
      },
      {
        "duration": 156,
        "start_time": "2023-02-08T20:22:05.402Z"
      },
      {
        "duration": 49,
        "start_time": "2023-02-08T20:24:58.156Z"
      },
      {
        "duration": 38,
        "start_time": "2023-02-08T20:25:42.049Z"
      },
      {
        "duration": 15,
        "start_time": "2023-02-08T20:26:54.850Z"
      },
      {
        "duration": 46,
        "start_time": "2023-02-08T20:27:00.962Z"
      },
      {
        "duration": 11,
        "start_time": "2023-02-08T20:27:29.384Z"
      },
      {
        "duration": 10,
        "start_time": "2023-02-08T20:27:36.780Z"
      },
      {
        "duration": 9,
        "start_time": "2023-02-08T20:29:46.763Z"
      },
      {
        "duration": 9,
        "start_time": "2023-02-08T20:29:59.148Z"
      },
      {
        "duration": 14,
        "start_time": "2023-02-08T20:30:13.610Z"
      },
      {
        "duration": 4,
        "start_time": "2023-02-08T20:30:20.553Z"
      },
      {
        "duration": 53,
        "start_time": "2023-02-08T20:30:23.368Z"
      },
      {
        "duration": 15,
        "start_time": "2023-02-08T20:30:26.006Z"
      },
      {
        "duration": 4,
        "start_time": "2023-02-08T20:30:29.864Z"
      },
      {
        "duration": 22,
        "start_time": "2023-02-08T20:30:36.053Z"
      },
      {
        "duration": 57,
        "start_time": "2023-02-08T20:30:41.758Z"
      },
      {
        "duration": 43,
        "start_time": "2023-02-08T20:30:47.852Z"
      },
      {
        "duration": 17,
        "start_time": "2023-02-08T20:30:53.650Z"
      },
      {
        "duration": 7,
        "start_time": "2023-02-08T20:43:05.326Z"
      },
      {
        "duration": 15,
        "start_time": "2023-02-08T20:43:09.940Z"
      },
      {
        "duration": 18,
        "start_time": "2023-02-08T20:43:23.003Z"
      },
      {
        "duration": 44,
        "start_time": "2023-02-08T20:43:54.459Z"
      },
      {
        "duration": 15,
        "start_time": "2023-02-08T20:43:57.843Z"
      },
      {
        "duration": 6,
        "start_time": "2023-02-08T20:44:09.157Z"
      },
      {
        "duration": 16,
        "start_time": "2023-02-08T20:44:11.207Z"
      },
      {
        "duration": 552,
        "start_time": "2023-02-08T20:44:22.222Z"
      },
      {
        "duration": 42,
        "start_time": "2023-02-08T20:44:28.686Z"
      },
      {
        "duration": 17,
        "start_time": "2023-02-08T20:44:31.592Z"
      },
      {
        "duration": 42,
        "start_time": "2023-02-08T20:44:34.814Z"
      },
      {
        "duration": 45,
        "start_time": "2023-02-08T20:44:40.164Z"
      },
      {
        "duration": 108,
        "start_time": "2023-02-08T20:44:51.022Z"
      },
      {
        "duration": 108,
        "start_time": "2023-02-08T20:44:56.102Z"
      },
      {
        "duration": 41,
        "start_time": "2023-02-08T20:45:16.255Z"
      },
      {
        "duration": 73,
        "start_time": "2023-02-08T20:48:52.838Z"
      },
      {
        "duration": 88,
        "start_time": "2023-02-08T20:49:13.939Z"
      },
      {
        "duration": 71,
        "start_time": "2023-02-08T20:49:41.273Z"
      },
      {
        "duration": 86,
        "start_time": "2023-02-08T20:50:54.529Z"
      },
      {
        "duration": 103,
        "start_time": "2023-02-08T20:51:11.355Z"
      },
      {
        "duration": 46,
        "start_time": "2023-02-08T20:51:27.961Z"
      },
      {
        "duration": 74,
        "start_time": "2023-02-08T20:51:57.278Z"
      },
      {
        "duration": 18,
        "start_time": "2023-02-08T20:52:31.211Z"
      },
      {
        "duration": 42,
        "start_time": "2023-02-08T20:52:55.288Z"
      },
      {
        "duration": 31,
        "start_time": "2023-02-08T20:53:05.771Z"
      },
      {
        "duration": 46,
        "start_time": "2023-02-08T20:53:15.152Z"
      },
      {
        "duration": 1744,
        "start_time": "2023-02-09T08:26:46.064Z"
      },
      {
        "duration": 195,
        "start_time": "2023-02-09T08:26:51.369Z"
      },
      {
        "duration": 14,
        "start_time": "2023-02-09T08:26:55.366Z"
      },
      {
        "duration": 14,
        "start_time": "2023-02-09T08:27:30.966Z"
      },
      {
        "duration": 570,
        "start_time": "2023-02-09T08:27:34.385Z"
      },
      {
        "duration": 43,
        "start_time": "2023-02-09T08:27:41.208Z"
      },
      {
        "duration": 127,
        "start_time": "2023-02-09T08:27:54.877Z"
      },
      {
        "duration": 21,
        "start_time": "2023-02-09T08:28:03.864Z"
      },
      {
        "duration": 40,
        "start_time": "2023-02-09T08:28:07.190Z"
      },
      {
        "duration": 20,
        "start_time": "2023-02-09T08:28:20.519Z"
      },
      {
        "duration": 86,
        "start_time": "2023-02-09T08:28:41.207Z"
      },
      {
        "duration": 57,
        "start_time": "2023-02-09T08:29:00.384Z"
      },
      {
        "duration": 527,
        "start_time": "2023-02-09T08:29:07.595Z"
      },
      {
        "duration": 93843,
        "start_time": "2023-02-09T08:29:15.501Z"
      },
      {
        "duration": 76,
        "start_time": "2023-02-09T08:30:49.346Z"
      },
      {
        "duration": 111,
        "start_time": "2023-02-09T08:31:02.166Z"
      },
      {
        "duration": 109,
        "start_time": "2023-02-09T08:31:08.875Z"
      },
      {
        "duration": 52,
        "start_time": "2023-02-09T08:34:49.824Z"
      },
      {
        "duration": 15,
        "start_time": "2023-02-09T08:35:02.296Z"
      },
      {
        "duration": 6,
        "start_time": "2023-02-09T08:35:54.893Z"
      },
      {
        "duration": 57,
        "start_time": "2023-02-09T08:37:02.987Z"
      },
      {
        "duration": 10,
        "start_time": "2023-02-09T08:37:13.165Z"
      },
      {
        "duration": 7,
        "start_time": "2023-02-09T08:37:36.803Z"
      },
      {
        "duration": 14,
        "start_time": "2023-02-09T08:38:51.064Z"
      },
      {
        "duration": 10,
        "start_time": "2023-02-09T08:39:10.616Z"
      },
      {
        "duration": 6,
        "start_time": "2023-02-09T08:39:20.768Z"
      },
      {
        "duration": 49,
        "start_time": "2023-02-09T08:39:41.963Z"
      },
      {
        "duration": 6,
        "start_time": "2023-02-09T08:39:47.361Z"
      },
      {
        "duration": 4,
        "start_time": "2023-02-09T08:39:57.888Z"
      },
      {
        "duration": 3,
        "start_time": "2023-02-09T08:40:05.562Z"
      },
      {
        "duration": 10,
        "start_time": "2023-02-09T08:40:12.937Z"
      },
      {
        "duration": 11,
        "start_time": "2023-02-09T08:40:24.911Z"
      },
      {
        "duration": 11,
        "start_time": "2023-02-09T08:42:14.888Z"
      },
      {
        "duration": 4,
        "start_time": "2023-02-09T08:42:27.292Z"
      },
      {
        "duration": 14,
        "start_time": "2023-02-09T08:42:45.081Z"
      },
      {
        "duration": 12,
        "start_time": "2023-02-09T08:49:01.176Z"
      },
      {
        "duration": 14,
        "start_time": "2023-02-09T08:49:12.854Z"
      },
      {
        "duration": 50,
        "start_time": "2023-02-09T08:50:26.907Z"
      },
      {
        "duration": 41,
        "start_time": "2023-02-09T08:51:10.584Z"
      },
      {
        "duration": 10,
        "start_time": "2023-02-09T08:53:30.535Z"
      },
      {
        "duration": 11,
        "start_time": "2023-02-09T08:53:42.373Z"
      },
      {
        "duration": 10,
        "start_time": "2023-02-09T08:54:24.593Z"
      },
      {
        "duration": 14,
        "start_time": "2023-02-09T08:54:29.488Z"
      },
      {
        "duration": 12,
        "start_time": "2023-02-09T08:54:41.483Z"
      },
      {
        "duration": 5,
        "start_time": "2023-02-09T08:58:43.835Z"
      },
      {
        "duration": 20,
        "start_time": "2023-02-09T08:58:47.120Z"
      },
      {
        "duration": 17,
        "start_time": "2023-02-09T08:58:57.481Z"
      },
      {
        "duration": 16,
        "start_time": "2023-02-09T08:59:16.909Z"
      },
      {
        "duration": 50,
        "start_time": "2023-02-09T08:59:19.326Z"
      },
      {
        "duration": 514,
        "start_time": "2023-02-09T08:59:29.106Z"
      },
      {
        "duration": 45,
        "start_time": "2023-02-09T08:59:34.006Z"
      },
      {
        "duration": 20,
        "start_time": "2023-02-09T08:59:55.291Z"
      },
      {
        "duration": 43,
        "start_time": "2023-02-09T09:00:02.271Z"
      },
      {
        "duration": 51,
        "start_time": "2023-02-09T09:00:25.431Z"
      },
      {
        "duration": 72,
        "start_time": "2023-02-09T09:02:36.966Z"
      },
      {
        "duration": 115,
        "start_time": "2023-02-09T09:03:01.381Z"
      },
      {
        "duration": 52,
        "start_time": "2023-02-09T09:03:18.769Z"
      },
      {
        "duration": 109,
        "start_time": "2023-02-09T09:03:50.062Z"
      },
      {
        "duration": 23,
        "start_time": "2023-02-09T09:04:08.269Z"
      },
      {
        "duration": 1417,
        "start_time": "2023-02-09T09:06:50.673Z"
      },
      {
        "duration": 58,
        "start_time": "2023-02-09T09:06:52.092Z"
      },
      {
        "duration": 15,
        "start_time": "2023-02-09T09:06:52.152Z"
      },
      {
        "duration": 6,
        "start_time": "2023-02-09T09:06:52.169Z"
      },
      {
        "duration": 20,
        "start_time": "2023-02-09T09:06:52.177Z"
      },
      {
        "duration": 552,
        "start_time": "2023-02-09T09:06:52.199Z"
      },
      {
        "duration": 46,
        "start_time": "2023-02-09T09:06:52.753Z"
      },
      {
        "duration": 37,
        "start_time": "2023-02-09T09:06:52.801Z"
      },
      {
        "duration": 46,
        "start_time": "2023-02-09T09:06:52.840Z"
      },
      {
        "duration": 88,
        "start_time": "2023-02-09T09:06:52.889Z"
      },
      {
        "duration": 604,
        "start_time": "2023-02-09T09:06:52.979Z"
      },
      {
        "duration": 97812,
        "start_time": "2023-02-09T09:06:53.585Z"
      },
      {
        "duration": 29,
        "start_time": "2023-02-09T09:08:31.399Z"
      },
      {
        "duration": 220,
        "start_time": "2023-02-09T09:08:31.743Z"
      },
      {
        "duration": 0,
        "start_time": "2023-02-09T09:08:31.965Z"
      },
      {
        "duration": 0,
        "start_time": "2023-02-09T09:08:31.966Z"
      },
      {
        "duration": 0,
        "start_time": "2023-02-09T09:08:31.967Z"
      },
      {
        "duration": 0,
        "start_time": "2023-02-09T09:08:31.968Z"
      },
      {
        "duration": 0,
        "start_time": "2023-02-09T09:08:31.969Z"
      },
      {
        "duration": 0,
        "start_time": "2023-02-09T09:08:31.972Z"
      },
      {
        "duration": 0,
        "start_time": "2023-02-09T09:08:31.973Z"
      },
      {
        "duration": 5,
        "start_time": "2023-02-09T10:43:07.717Z"
      },
      {
        "duration": 55,
        "start_time": "2023-02-09T10:43:10.279Z"
      },
      {
        "duration": 17,
        "start_time": "2023-02-09T10:43:25.766Z"
      },
      {
        "duration": 523,
        "start_time": "2023-02-09T10:44:02.465Z"
      },
      {
        "duration": 6,
        "start_time": "2023-02-09T10:45:10.369Z"
      },
      {
        "duration": 571,
        "start_time": "2023-02-09T10:45:14.375Z"
      },
      {
        "duration": 14,
        "start_time": "2023-02-09T10:45:42.100Z"
      },
      {
        "duration": 20,
        "start_time": "2023-02-09T10:46:36.904Z"
      },
      {
        "duration": 40,
        "start_time": "2023-02-09T10:46:41.121Z"
      },
      {
        "duration": 31,
        "start_time": "2023-02-09T10:46:49.967Z"
      },
      {
        "duration": 46,
        "start_time": "2023-02-09T10:46:59.161Z"
      },
      {
        "duration": 552,
        "start_time": "2023-02-09T10:47:06.913Z"
      },
      {
        "duration": 96546,
        "start_time": "2023-02-09T10:47:15.258Z"
      },
      {
        "duration": 24,
        "start_time": "2023-02-09T10:49:05.317Z"
      },
      {
        "duration": 119,
        "start_time": "2023-02-09T10:49:11.088Z"
      },
      {
        "duration": 191,
        "start_time": "2023-02-09T10:49:18.105Z"
      },
      {
        "duration": 53,
        "start_time": "2023-02-09T10:49:26.420Z"
      },
      {
        "duration": 100,
        "start_time": "2023-02-09T10:49:51.162Z"
      },
      {
        "duration": 18,
        "start_time": "2023-02-09T10:51:49.627Z"
      },
      {
        "duration": 12,
        "start_time": "2023-02-09T10:51:58.117Z"
      },
      {
        "duration": 14,
        "start_time": "2023-02-09T10:52:07.765Z"
      },
      {
        "duration": 41,
        "start_time": "2023-02-09T10:52:12.679Z"
      },
      {
        "duration": 19,
        "start_time": "2023-02-09T10:52:26.808Z"
      },
      {
        "duration": 41,
        "start_time": "2023-02-09T10:52:32.959Z"
      },
      {
        "duration": 113,
        "start_time": "2023-02-09T10:52:41.897Z"
      },
      {
        "duration": 48,
        "start_time": "2023-02-09T10:52:49.477Z"
      },
      {
        "duration": 78,
        "start_time": "2023-02-09T10:58:59.652Z"
      },
      {
        "duration": 3001,
        "start_time": "2023-02-09T17:00:37.052Z"
      },
      {
        "duration": 145,
        "start_time": "2023-02-09T17:00:40.676Z"
      },
      {
        "duration": 16,
        "start_time": "2023-02-09T17:00:43.657Z"
      },
      {
        "duration": 5,
        "start_time": "2023-02-09T17:00:47.669Z"
      },
      {
        "duration": 628,
        "start_time": "2023-02-09T17:00:50.772Z"
      },
      {
        "duration": 67,
        "start_time": "2023-02-09T17:00:58.381Z"
      },
      {
        "duration": 32,
        "start_time": "2023-02-09T17:01:01.479Z"
      },
      {
        "duration": 167,
        "start_time": "2023-02-09T17:01:18.273Z"
      },
      {
        "duration": 4874,
        "start_time": "2023-02-09T17:01:24.208Z"
      },
      {
        "duration": 1536,
        "start_time": "2023-02-09T17:05:41.393Z"
      },
      {
        "duration": 51,
        "start_time": "2023-02-09T17:05:42.932Z"
      },
      {
        "duration": 22,
        "start_time": "2023-02-09T17:05:42.985Z"
      },
      {
        "duration": 29,
        "start_time": "2023-02-09T17:05:43.013Z"
      },
      {
        "duration": 617,
        "start_time": "2023-02-09T17:05:43.045Z"
      },
      {
        "duration": 78,
        "start_time": "2023-02-09T17:05:43.664Z"
      },
      {
        "duration": 27,
        "start_time": "2023-02-09T17:05:43.745Z"
      },
      {
        "duration": 145,
        "start_time": "2023-02-09T17:05:43.774Z"
      },
      {
        "duration": 4471,
        "start_time": "2023-02-09T17:05:43.925Z"
      },
      {
        "duration": 289,
        "start_time": "2023-02-09T17:05:48.398Z"
      },
      {
        "duration": 0,
        "start_time": "2023-02-09T17:05:48.689Z"
      },
      {
        "duration": 0,
        "start_time": "2023-02-09T17:05:48.690Z"
      },
      {
        "duration": 0,
        "start_time": "2023-02-09T17:05:48.691Z"
      },
      {
        "duration": 0,
        "start_time": "2023-02-09T17:05:48.695Z"
      },
      {
        "duration": 0,
        "start_time": "2023-02-09T17:05:48.695Z"
      },
      {
        "duration": 0,
        "start_time": "2023-02-09T17:05:48.696Z"
      },
      {
        "duration": 0,
        "start_time": "2023-02-09T17:05:48.696Z"
      },
      {
        "duration": 0,
        "start_time": "2023-02-09T17:05:48.697Z"
      },
      {
        "duration": 0,
        "start_time": "2023-02-09T17:05:48.698Z"
      },
      {
        "duration": 0,
        "start_time": "2023-02-09T17:05:48.698Z"
      },
      {
        "duration": 4,
        "start_time": "2023-02-09T17:05:55.456Z"
      },
      {
        "duration": 56,
        "start_time": "2023-02-09T17:05:58.464Z"
      },
      {
        "duration": 15,
        "start_time": "2023-02-09T17:06:02.237Z"
      },
      {
        "duration": 5,
        "start_time": "2023-02-09T17:06:05.683Z"
      },
      {
        "duration": 540,
        "start_time": "2023-02-09T17:06:10.291Z"
      },
      {
        "duration": 69,
        "start_time": "2023-02-09T17:06:14.980Z"
      },
      {
        "duration": 56,
        "start_time": "2023-02-09T17:06:23.084Z"
      },
      {
        "duration": 35,
        "start_time": "2023-02-09T17:06:30.310Z"
      },
      {
        "duration": 40,
        "start_time": "2023-02-09T17:06:33.576Z"
      },
      {
        "duration": 97,
        "start_time": "2023-02-09T17:06:37.333Z"
      },
      {
        "duration": 573,
        "start_time": "2023-02-09T17:06:43.165Z"
      },
      {
        "duration": 96392,
        "start_time": "2023-02-09T17:06:51.523Z"
      },
      {
        "duration": 42,
        "start_time": "2023-02-09T17:08:36.225Z"
      },
      {
        "duration": 114,
        "start_time": "2023-02-09T17:08:43.109Z"
      },
      {
        "duration": 111,
        "start_time": "2023-02-09T17:08:47.433Z"
      },
      {
        "duration": 1579,
        "start_time": "2023-02-12T16:25:28.732Z"
      },
      {
        "duration": 95,
        "start_time": "2023-02-12T16:25:35.132Z"
      },
      {
        "duration": 15,
        "start_time": "2023-02-12T16:25:38.339Z"
      },
      {
        "duration": 6,
        "start_time": "2023-02-12T16:25:42.536Z"
      },
      {
        "duration": 482,
        "start_time": "2023-02-12T16:25:49.287Z"
      },
      {
        "duration": 35,
        "start_time": "2023-02-12T16:25:55.355Z"
      },
      {
        "duration": 18,
        "start_time": "2023-02-12T16:26:02.942Z"
      },
      {
        "duration": 26,
        "start_time": "2023-02-12T16:26:42.176Z"
      },
      {
        "duration": 71,
        "start_time": "2023-02-12T16:26:54.139Z"
      },
      {
        "duration": 34,
        "start_time": "2023-02-12T16:27:12.358Z"
      },
      {
        "duration": 451,
        "start_time": "2023-02-12T16:27:20.092Z"
      },
      {
        "duration": 82531,
        "start_time": "2023-02-12T16:27:57.054Z"
      },
      {
        "duration": 21,
        "start_time": "2023-02-12T16:29:41.338Z"
      },
      {
        "duration": 99,
        "start_time": "2023-02-12T16:30:15.895Z"
      },
      {
        "duration": 3596,
        "start_time": "2023-02-12T16:30:21.957Z"
      },
      {
        "duration": 373,
        "start_time": "2023-02-12T16:31:58.541Z"
      },
      {
        "duration": 966,
        "start_time": "2023-02-12T16:32:16.970Z"
      },
      {
        "duration": 1117,
        "start_time": "2023-02-12T16:34:43.439Z"
      },
      {
        "duration": 1111,
        "start_time": "2023-02-12T16:34:47.732Z"
      },
      {
        "duration": 705,
        "start_time": "2023-02-12T16:35:01.670Z"
      },
      {
        "duration": 661,
        "start_time": "2023-02-12T16:35:09.645Z"
      },
      {
        "duration": 823,
        "start_time": "2023-02-12T16:35:50.979Z"
      },
      {
        "duration": 808,
        "start_time": "2023-02-12T16:40:05.916Z"
      },
      {
        "duration": 1461,
        "start_time": "2023-02-12T16:40:16.062Z"
      },
      {
        "duration": 760,
        "start_time": "2023-02-12T16:40:26.091Z"
      },
      {
        "duration": 725,
        "start_time": "2023-02-12T16:41:20.863Z"
      },
      {
        "duration": 740,
        "start_time": "2023-02-12T16:42:15.732Z"
      },
      {
        "duration": 49,
        "start_time": "2023-02-12T16:46:17.719Z"
      },
      {
        "duration": 731,
        "start_time": "2023-02-12T16:46:26.713Z"
      },
      {
        "duration": 5,
        "start_time": "2023-02-12T16:47:07.129Z"
      },
      {
        "duration": 665,
        "start_time": "2023-02-12T16:48:06.156Z"
      },
      {
        "duration": 500,
        "start_time": "2023-02-12T16:51:33.386Z"
      },
      {
        "duration": 471,
        "start_time": "2023-02-12T17:03:28.119Z"
      },
      {
        "duration": 7,
        "start_time": "2023-02-12T17:05:25.272Z"
      },
      {
        "duration": 138,
        "start_time": "2023-02-12T17:05:53.430Z"
      },
      {
        "duration": 454,
        "start_time": "2023-02-12T17:07:28.537Z"
      },
      {
        "duration": 444,
        "start_time": "2023-02-12T17:08:48.134Z"
      },
      {
        "duration": 527,
        "start_time": "2023-02-12T17:09:14.863Z"
      },
      {
        "duration": 931,
        "start_time": "2023-02-12T17:10:55.245Z"
      },
      {
        "duration": 74,
        "start_time": "2023-02-13T13:19:02.483Z"
      },
      {
        "duration": 1628,
        "start_time": "2023-02-13T13:19:16.927Z"
      },
      {
        "duration": 87,
        "start_time": "2023-02-13T13:19:59.321Z"
      },
      {
        "duration": 2016,
        "start_time": "2023-02-13T18:16:45.141Z"
      },
      {
        "duration": 97,
        "start_time": "2023-02-13T18:16:49.117Z"
      },
      {
        "duration": 20,
        "start_time": "2023-02-13T18:16:52.017Z"
      },
      {
        "duration": 7,
        "start_time": "2023-02-13T18:16:57.261Z"
      },
      {
        "duration": 600,
        "start_time": "2023-02-13T18:17:02.019Z"
      },
      {
        "duration": 37,
        "start_time": "2023-02-13T18:17:10.820Z"
      },
      {
        "duration": 148,
        "start_time": "2023-02-13T18:17:21.076Z"
      },
      {
        "duration": 15,
        "start_time": "2023-02-13T18:17:30.351Z"
      },
      {
        "duration": 25,
        "start_time": "2023-02-13T18:18:38.613Z"
      },
      {
        "duration": 26,
        "start_time": "2023-02-13T18:18:52.765Z"
      },
      {
        "duration": 4,
        "start_time": "2023-02-13T18:30:45.681Z"
      },
      {
        "duration": 8483,
        "start_time": "2023-02-13T18:31:34.837Z"
      },
      {
        "duration": 3567,
        "start_time": "2023-02-13T18:31:52.212Z"
      },
      {
        "duration": 58,
        "start_time": "2023-02-13T18:31:55.782Z"
      },
      {
        "duration": 15,
        "start_time": "2023-02-13T18:31:55.842Z"
      },
      {
        "duration": 7,
        "start_time": "2023-02-13T18:31:55.859Z"
      },
      {
        "duration": 632,
        "start_time": "2023-02-13T18:31:55.868Z"
      },
      {
        "duration": 17,
        "start_time": "2023-02-13T18:31:56.502Z"
      },
      {
        "duration": 36,
        "start_time": "2023-02-13T18:31:56.523Z"
      },
      {
        "duration": 53,
        "start_time": "2023-02-13T18:31:56.562Z"
      },
      {
        "duration": 62,
        "start_time": "2023-02-13T18:31:56.618Z"
      },
      {
        "duration": 520,
        "start_time": "2023-02-13T18:31:56.682Z"
      },
      {
        "duration": 88302,
        "start_time": "2023-02-13T18:31:57.205Z"
      },
      {
        "duration": 92,
        "start_time": "2023-02-13T18:33:25.508Z"
      },
      {
        "duration": 3067,
        "start_time": "2023-02-13T18:33:27.075Z"
      },
      {
        "duration": 52,
        "start_time": "2023-02-13T18:33:30.144Z"
      },
      {
        "duration": 15,
        "start_time": "2023-02-13T18:33:30.198Z"
      },
      {
        "duration": 24,
        "start_time": "2023-02-13T18:33:30.215Z"
      },
      {
        "duration": 547,
        "start_time": "2023-02-13T18:33:30.242Z"
      },
      {
        "duration": 17,
        "start_time": "2023-02-13T18:33:30.791Z"
      },
      {
        "duration": 38,
        "start_time": "2023-02-13T18:33:30.810Z"
      },
      {
        "duration": 50,
        "start_time": "2023-02-13T18:33:30.849Z"
      },
      {
        "duration": 48,
        "start_time": "2023-02-13T18:33:30.901Z"
      },
      {
        "duration": 519,
        "start_time": "2023-02-13T18:33:30.951Z"
      },
      {
        "duration": 85337,
        "start_time": "2023-02-13T18:33:31.472Z"
      },
      {
        "duration": 90,
        "start_time": "2023-02-13T18:34:56.811Z"
      },
      {
        "duration": 217,
        "start_time": "2023-02-13T18:34:56.903Z"
      },
      {
        "duration": 3920,
        "start_time": "2023-02-13T18:34:57.123Z"
      },
      {
        "duration": 431,
        "start_time": "2023-02-13T18:35:01.046Z"
      },
      {
        "duration": 927,
        "start_time": "2023-02-13T18:35:01.478Z"
      },
      {
        "duration": 724,
        "start_time": "2023-02-13T18:35:02.407Z"
      },
      {
        "duration": 538,
        "start_time": "2023-02-13T18:35:03.132Z"
      },
      {
        "duration": 2192,
        "start_time": "2023-02-13T18:35:03.672Z"
      },
      {
        "duration": 41,
        "start_time": "2023-02-13T18:35:05.928Z"
      },
      {
        "duration": 2196,
        "start_time": "2023-02-13T18:43:35.969Z"
      },
      {
        "duration": 2026,
        "start_time": "2023-02-13T18:44:14.226Z"
      },
      {
        "duration": 2207,
        "start_time": "2023-02-13T18:44:34.444Z"
      },
      {
        "duration": 14,
        "start_time": "2023-02-13T19:01:49.689Z"
      },
      {
        "duration": 12,
        "start_time": "2023-02-13T19:04:37.761Z"
      },
      {
        "duration": 9,
        "start_time": "2023-02-13T19:04:50.729Z"
      },
      {
        "duration": 18,
        "start_time": "2023-02-13T19:07:38.561Z"
      },
      {
        "duration": 17,
        "start_time": "2023-02-13T19:08:03.994Z"
      },
      {
        "duration": 19,
        "start_time": "2023-02-13T19:11:12.185Z"
      },
      {
        "duration": 27,
        "start_time": "2023-02-13T19:11:36.829Z"
      },
      {
        "duration": 44,
        "start_time": "2023-02-13T19:11:49.570Z"
      },
      {
        "duration": 28,
        "start_time": "2023-02-13T19:13:29.823Z"
      },
      {
        "duration": 59,
        "start_time": "2023-02-13T19:18:57.166Z"
      },
      {
        "duration": 50,
        "start_time": "2023-02-13T19:19:31.381Z"
      },
      {
        "duration": 43,
        "start_time": "2023-02-13T19:20:29.720Z"
      },
      {
        "duration": 59,
        "start_time": "2023-02-13T19:22:03.750Z"
      },
      {
        "duration": 20,
        "start_time": "2023-02-13T19:23:11.317Z"
      },
      {
        "duration": 13,
        "start_time": "2023-02-13T19:23:19.148Z"
      },
      {
        "duration": 18,
        "start_time": "2023-02-13T19:23:22.883Z"
      },
      {
        "duration": 57,
        "start_time": "2023-02-13T19:23:26.660Z"
      },
      {
        "duration": 22,
        "start_time": "2023-02-13T19:24:42.867Z"
      },
      {
        "duration": 2078,
        "start_time": "2023-02-13T19:26:25.591Z"
      },
      {
        "duration": 5,
        "start_time": "2023-02-13T19:26:32.271Z"
      },
      {
        "duration": 50,
        "start_time": "2023-02-13T19:26:35.719Z"
      },
      {
        "duration": 15,
        "start_time": "2023-02-13T19:26:38.015Z"
      },
      {
        "duration": 6,
        "start_time": "2023-02-13T19:26:41.862Z"
      },
      {
        "duration": 519,
        "start_time": "2023-02-13T19:26:44.950Z"
      },
      {
        "duration": 12,
        "start_time": "2023-02-13T19:26:49.480Z"
      },
      {
        "duration": 19,
        "start_time": "2023-02-13T19:26:53.161Z"
      },
      {
        "duration": 65,
        "start_time": "2023-02-13T19:26:56.537Z"
      },
      {
        "duration": 466,
        "start_time": "2023-02-13T19:27:30.065Z"
      },
      {
        "duration": 486,
        "start_time": "2023-02-13T19:27:41.276Z"
      },
      {
        "duration": 431,
        "start_time": "2023-02-13T19:27:55.740Z"
      },
      {
        "duration": 34,
        "start_time": "2023-02-13T19:28:29.341Z"
      },
      {
        "duration": 20,
        "start_time": "2023-02-13T19:36:31.678Z"
      },
      {
        "duration": 48,
        "start_time": "2023-02-13T19:36:41.660Z"
      },
      {
        "duration": 17,
        "start_time": "2023-02-13T19:39:54.479Z"
      },
      {
        "duration": 21,
        "start_time": "2023-02-13T19:40:15.495Z"
      },
      {
        "duration": 20,
        "start_time": "2023-02-13T19:40:40.921Z"
      },
      {
        "duration": 26,
        "start_time": "2023-02-13T19:41:04.514Z"
      },
      {
        "duration": 22,
        "start_time": "2023-02-13T19:41:36.004Z"
      },
      {
        "duration": 21,
        "start_time": "2023-02-13T19:43:46.353Z"
      },
      {
        "duration": 445,
        "start_time": "2023-02-13T19:44:04.738Z"
      },
      {
        "duration": 4,
        "start_time": "2023-02-13T19:44:25.211Z"
      },
      {
        "duration": 474,
        "start_time": "2023-02-13T19:44:29.668Z"
      },
      {
        "duration": 1386,
        "start_time": "2023-02-13T19:48:05.372Z"
      },
      {
        "duration": 51,
        "start_time": "2023-02-13T19:48:06.760Z"
      },
      {
        "duration": 21,
        "start_time": "2023-02-13T19:48:06.813Z"
      },
      {
        "duration": 6,
        "start_time": "2023-02-13T19:48:06.836Z"
      },
      {
        "duration": 585,
        "start_time": "2023-02-13T19:48:06.844Z"
      },
      {
        "duration": 15,
        "start_time": "2023-02-13T19:48:07.431Z"
      },
      {
        "duration": 21,
        "start_time": "2023-02-13T19:48:07.448Z"
      },
      {
        "duration": 91,
        "start_time": "2023-02-13T19:48:07.470Z"
      },
      {
        "duration": 128,
        "start_time": "2023-02-13T19:48:07.562Z"
      },
      {
        "duration": 0,
        "start_time": "2023-02-13T19:48:07.691Z"
      },
      {
        "duration": 0,
        "start_time": "2023-02-13T19:48:07.698Z"
      },
      {
        "duration": 0,
        "start_time": "2023-02-13T19:48:07.700Z"
      },
      {
        "duration": 0,
        "start_time": "2023-02-13T19:48:07.701Z"
      },
      {
        "duration": 0,
        "start_time": "2023-02-13T19:48:07.702Z"
      },
      {
        "duration": 0,
        "start_time": "2023-02-13T19:48:07.703Z"
      },
      {
        "duration": 0,
        "start_time": "2023-02-13T19:48:07.704Z"
      },
      {
        "duration": 0,
        "start_time": "2023-02-13T19:48:07.706Z"
      },
      {
        "duration": 56,
        "start_time": "2023-02-13T19:48:33.397Z"
      },
      {
        "duration": 4,
        "start_time": "2023-02-13T19:48:42.593Z"
      },
      {
        "duration": 44,
        "start_time": "2023-02-13T19:48:46.487Z"
      },
      {
        "duration": 14,
        "start_time": "2023-02-13T19:48:49.904Z"
      },
      {
        "duration": 4,
        "start_time": "2023-02-13T19:48:53.213Z"
      },
      {
        "duration": 605,
        "start_time": "2023-02-13T19:48:55.970Z"
      },
      {
        "duration": 14,
        "start_time": "2023-02-13T19:49:06.700Z"
      },
      {
        "duration": 19,
        "start_time": "2023-02-13T19:49:13.444Z"
      },
      {
        "duration": 75,
        "start_time": "2023-02-13T19:49:31.077Z"
      },
      {
        "duration": 49,
        "start_time": "2023-02-13T19:50:49.598Z"
      },
      {
        "duration": 53,
        "start_time": "2023-02-13T19:53:03.683Z"
      },
      {
        "duration": 63,
        "start_time": "2023-02-13T19:53:12.250Z"
      },
      {
        "duration": 55,
        "start_time": "2023-02-13T19:53:27.755Z"
      },
      {
        "duration": 23,
        "start_time": "2023-02-13T19:54:33.421Z"
      },
      {
        "duration": 25,
        "start_time": "2023-02-13T19:55:54.689Z"
      },
      {
        "duration": 222,
        "start_time": "2023-02-13T19:56:12.207Z"
      },
      {
        "duration": 133,
        "start_time": "2023-02-13T19:56:23.788Z"
      },
      {
        "duration": 1473,
        "start_time": "2023-02-13T19:56:53.586Z"
      },
      {
        "duration": 69,
        "start_time": "2023-02-13T19:58:38.750Z"
      },
      {
        "duration": 2308,
        "start_time": "2023-02-13T19:58:46.872Z"
      },
      {
        "duration": 71,
        "start_time": "2023-02-13T19:58:49.182Z"
      },
      {
        "duration": 15,
        "start_time": "2023-02-13T19:58:49.254Z"
      },
      {
        "duration": 6,
        "start_time": "2023-02-13T19:58:49.271Z"
      },
      {
        "duration": 552,
        "start_time": "2023-02-13T19:58:49.279Z"
      },
      {
        "duration": 12,
        "start_time": "2023-02-13T19:58:49.833Z"
      },
      {
        "duration": 30,
        "start_time": "2023-02-13T19:58:49.846Z"
      },
      {
        "duration": 107,
        "start_time": "2023-02-13T19:58:49.878Z"
      },
      {
        "duration": 483,
        "start_time": "2023-02-13T19:58:49.986Z"
      },
      {
        "duration": 91069,
        "start_time": "2023-02-13T19:58:50.472Z"
      },
      {
        "duration": 70,
        "start_time": "2023-02-13T20:00:21.542Z"
      },
      {
        "duration": 239,
        "start_time": "2023-02-13T20:00:21.615Z"
      },
      {
        "duration": 3721,
        "start_time": "2023-02-13T20:00:21.856Z"
      },
      {
        "duration": 443,
        "start_time": "2023-02-13T20:00:25.580Z"
      },
      {
        "duration": 780,
        "start_time": "2023-02-13T20:00:26.026Z"
      },
      {
        "duration": 739,
        "start_time": "2023-02-13T20:00:26.815Z"
      },
      {
        "duration": 475,
        "start_time": "2023-02-13T20:00:27.556Z"
      },
      {
        "duration": 472,
        "start_time": "2023-02-13T20:00:28.033Z"
      },
      {
        "duration": 5,
        "start_time": "2023-02-13T20:01:15.925Z"
      },
      {
        "duration": 68,
        "start_time": "2023-02-13T20:01:20.479Z"
      },
      {
        "duration": 6,
        "start_time": "2023-02-13T20:01:26.778Z"
      },
      {
        "duration": 15,
        "start_time": "2023-02-13T20:01:34.738Z"
      },
      {
        "duration": 21,
        "start_time": "2023-02-13T20:01:40.829Z"
      },
      {
        "duration": 94,
        "start_time": "2023-02-13T20:01:45.878Z"
      },
      {
        "duration": 491,
        "start_time": "2023-02-13T20:01:56.734Z"
      },
      {
        "duration": 92473,
        "start_time": "2023-02-13T20:02:06.953Z"
      },
      {
        "duration": 121,
        "start_time": "2023-02-13T20:04:21.691Z"
      },
      {
        "duration": 116,
        "start_time": "2023-02-13T20:06:35.548Z"
      },
      {
        "duration": 19,
        "start_time": "2023-02-13T20:06:43.022Z"
      },
      {
        "duration": 129,
        "start_time": "2023-02-13T20:11:12.777Z"
      },
      {
        "duration": 126,
        "start_time": "2023-02-13T20:11:26.799Z"
      },
      {
        "duration": 124,
        "start_time": "2023-02-13T20:11:39.175Z"
      },
      {
        "duration": 212,
        "start_time": "2023-02-13T20:12:09.356Z"
      },
      {
        "duration": 3193,
        "start_time": "2023-02-13T20:13:57.161Z"
      },
      {
        "duration": 3249,
        "start_time": "2023-02-13T20:14:22.044Z"
      },
      {
        "duration": 362,
        "start_time": "2023-02-13T20:20:17.601Z"
      },
      {
        "duration": 1567,
        "start_time": "2023-02-14T06:04:19.447Z"
      },
      {
        "duration": 202,
        "start_time": "2023-02-14T06:04:27.748Z"
      },
      {
        "duration": 6,
        "start_time": "2023-02-14T06:04:32.854Z"
      },
      {
        "duration": 445,
        "start_time": "2023-02-14T06:04:38.162Z"
      },
      {
        "duration": 12,
        "start_time": "2023-02-14T06:04:44.139Z"
      },
      {
        "duration": 17,
        "start_time": "2023-02-14T06:04:56.604Z"
      },
      {
        "duration": 129,
        "start_time": "2023-02-14T06:05:02.220Z"
      },
      {
        "duration": 11181,
        "start_time": "2023-02-14T06:06:45.215Z"
      },
      {
        "duration": 53,
        "start_time": "2023-02-14T06:06:56.398Z"
      },
      {
        "duration": 15,
        "start_time": "2023-02-14T06:06:56.453Z"
      },
      {
        "duration": 5,
        "start_time": "2023-02-14T06:06:56.471Z"
      },
      {
        "duration": 519,
        "start_time": "2023-02-14T06:06:56.478Z"
      },
      {
        "duration": 12,
        "start_time": "2023-02-14T06:06:56.999Z"
      },
      {
        "duration": 64,
        "start_time": "2023-02-14T06:06:57.013Z"
      },
      {
        "duration": 104,
        "start_time": "2023-02-14T06:06:57.079Z"
      },
      {
        "duration": 466,
        "start_time": "2023-02-14T06:06:57.185Z"
      },
      {
        "duration": 88791,
        "start_time": "2023-02-14T06:06:57.653Z"
      },
      {
        "duration": 116,
        "start_time": "2023-02-14T06:08:26.445Z"
      },
      {
        "duration": 0,
        "start_time": "2023-02-14T06:08:26.562Z"
      },
      {
        "duration": 0,
        "start_time": "2023-02-14T06:08:26.567Z"
      },
      {
        "duration": 0,
        "start_time": "2023-02-14T06:08:26.569Z"
      },
      {
        "duration": 0,
        "start_time": "2023-02-14T06:08:26.570Z"
      },
      {
        "duration": 0,
        "start_time": "2023-02-14T06:08:26.571Z"
      },
      {
        "duration": 0,
        "start_time": "2023-02-14T06:08:26.572Z"
      },
      {
        "duration": 0,
        "start_time": "2023-02-14T06:08:26.574Z"
      },
      {
        "duration": 2070,
        "start_time": "2023-02-14T06:08:54.738Z"
      },
      {
        "duration": 55,
        "start_time": "2023-02-14T06:09:01.759Z"
      },
      {
        "duration": 17,
        "start_time": "2023-02-14T06:09:04.863Z"
      },
      {
        "duration": 6,
        "start_time": "2023-02-14T06:09:08.606Z"
      },
      {
        "duration": 16,
        "start_time": "2023-02-14T06:09:15.512Z"
      },
      {
        "duration": 18,
        "start_time": "2023-02-14T06:09:18.718Z"
      },
      {
        "duration": 81,
        "start_time": "2023-02-14T06:09:22.069Z"
      },
      {
        "duration": 447,
        "start_time": "2023-02-14T06:10:13.365Z"
      },
      {
        "duration": 18,
        "start_time": "2023-02-14T06:11:23.494Z"
      },
      {
        "duration": 912,
        "start_time": "2023-02-14T06:12:29.398Z"
      },
      {
        "duration": 84200,
        "start_time": "2023-02-14T06:12:44.806Z"
      },
      {
        "duration": 1000,
        "start_time": "2023-02-14T06:18:32.881Z"
      },
      {
        "duration": 139,
        "start_time": "2023-02-14T06:18:55.549Z"
      },
      {
        "duration": 914,
        "start_time": "2023-02-14T06:20:16.559Z"
      },
      {
        "duration": 28,
        "start_time": "2023-02-14T06:20:19.928Z"
      },
      {
        "duration": 126,
        "start_time": "2023-02-14T06:20:30.599Z"
      },
      {
        "duration": 3320,
        "start_time": "2023-02-14T06:21:06.991Z"
      },
      {
        "duration": 378,
        "start_time": "2023-02-14T06:22:38.084Z"
      },
      {
        "duration": 881,
        "start_time": "2023-02-14T06:23:42.929Z"
      },
      {
        "duration": 905,
        "start_time": "2023-02-14T06:24:24.962Z"
      },
      {
        "duration": 125,
        "start_time": "2023-02-14T07:01:38.296Z"
      },
      {
        "duration": 79,
        "start_time": "2023-02-14T07:02:12.889Z"
      },
      {
        "duration": 90180,
        "start_time": "2023-02-14T07:02:57.703Z"
      },
      {
        "duration": 696,
        "start_time": "2023-02-14T07:04:27.885Z"
      },
      {
        "duration": 644,
        "start_time": "2023-02-14T07:05:21.270Z"
      },
      {
        "duration": 642,
        "start_time": "2023-02-14T07:07:59.925Z"
      },
      {
        "duration": 84919,
        "start_time": "2023-02-14T07:08:37.490Z"
      },
      {
        "duration": 79,
        "start_time": "2023-02-14T07:15:28.689Z"
      },
      {
        "duration": 132,
        "start_time": "2023-02-14T07:15:34.454Z"
      },
      {
        "duration": 65,
        "start_time": "2023-02-14T07:26:35.677Z"
      },
      {
        "duration": 1641,
        "start_time": "2023-02-14T08:05:12.169Z"
      },
      {
        "duration": 1649,
        "start_time": "2023-02-14T08:08:24.632Z"
      },
      {
        "duration": 1622,
        "start_time": "2023-02-14T08:08:42.893Z"
      },
      {
        "duration": 1582,
        "start_time": "2023-02-14T08:09:36.502Z"
      },
      {
        "duration": 1466,
        "start_time": "2023-02-14T08:10:08.581Z"
      },
      {
        "duration": 1372,
        "start_time": "2023-02-14T08:14:28.596Z"
      },
      {
        "duration": 454,
        "start_time": "2023-02-14T08:16:49.776Z"
      },
      {
        "duration": 1618,
        "start_time": "2023-02-14T08:17:44.453Z"
      },
      {
        "duration": 597,
        "start_time": "2023-02-14T08:19:26.960Z"
      },
      {
        "duration": 579,
        "start_time": "2023-02-14T08:22:26.012Z"
      },
      {
        "duration": 723,
        "start_time": "2023-02-14T08:24:27.451Z"
      },
      {
        "duration": 667,
        "start_time": "2023-02-14T08:24:52.706Z"
      },
      {
        "duration": 1401,
        "start_time": "2023-02-14T08:26:28.720Z"
      },
      {
        "duration": 1303,
        "start_time": "2023-02-14T08:28:05.146Z"
      },
      {
        "duration": 1578,
        "start_time": "2023-02-14T08:28:58.608Z"
      },
      {
        "duration": 672,
        "start_time": "2023-02-14T08:29:54.671Z"
      },
      {
        "duration": 2346,
        "start_time": "2023-02-14T08:30:11.404Z"
      },
      {
        "duration": 1900,
        "start_time": "2023-02-14T08:37:23.217Z"
      },
      {
        "duration": 1868,
        "start_time": "2023-02-14T08:38:10.714Z"
      },
      {
        "duration": 1440,
        "start_time": "2023-02-14T08:40:15.151Z"
      },
      {
        "duration": 1768,
        "start_time": "2023-02-14T08:40:41.300Z"
      },
      {
        "duration": 1783,
        "start_time": "2023-02-14T08:42:16.994Z"
      },
      {
        "duration": 3,
        "start_time": "2023-02-14T08:45:26.021Z"
      },
      {
        "duration": 3,
        "start_time": "2023-02-14T08:45:31.471Z"
      },
      {
        "duration": 4,
        "start_time": "2023-02-14T08:45:40.838Z"
      },
      {
        "duration": 8,
        "start_time": "2023-02-14T08:46:09.856Z"
      },
      {
        "duration": 8,
        "start_time": "2023-02-14T08:46:29.404Z"
      },
      {
        "duration": 10,
        "start_time": "2023-02-14T08:47:05.844Z"
      },
      {
        "duration": 10,
        "start_time": "2023-02-14T08:47:36.439Z"
      },
      {
        "duration": 9,
        "start_time": "2023-02-14T08:48:59.882Z"
      },
      {
        "duration": 10,
        "start_time": "2023-02-14T08:51:07.506Z"
      },
      {
        "duration": 14,
        "start_time": "2023-02-14T08:51:52.064Z"
      },
      {
        "duration": 12,
        "start_time": "2023-02-14T08:53:01.209Z"
      },
      {
        "duration": 12,
        "start_time": "2023-02-14T08:54:12.058Z"
      },
      {
        "duration": 1894,
        "start_time": "2023-02-14T08:55:19.486Z"
      },
      {
        "duration": 12,
        "start_time": "2023-02-14T08:56:14.185Z"
      },
      {
        "duration": 87,
        "start_time": "2023-02-14T08:58:17.795Z"
      },
      {
        "duration": 55,
        "start_time": "2023-02-14T08:58:42.759Z"
      },
      {
        "duration": 11,
        "start_time": "2023-02-14T08:59:06.456Z"
      },
      {
        "duration": 12,
        "start_time": "2023-02-14T08:59:25.742Z"
      },
      {
        "duration": 106,
        "start_time": "2023-02-14T09:01:39.097Z"
      },
      {
        "duration": 33,
        "start_time": "2023-02-14T09:01:47.266Z"
      },
      {
        "duration": 32,
        "start_time": "2023-02-14T09:50:28.753Z"
      },
      {
        "duration": 31,
        "start_time": "2023-02-14T09:51:21.565Z"
      },
      {
        "duration": 43,
        "start_time": "2023-02-14T10:23:27.372Z"
      },
      {
        "duration": 10,
        "start_time": "2023-02-14T10:28:07.831Z"
      },
      {
        "duration": 9,
        "start_time": "2023-02-14T10:29:16.962Z"
      },
      {
        "duration": 11,
        "start_time": "2023-02-14T10:29:26.048Z"
      },
      {
        "duration": 6,
        "start_time": "2023-02-14T10:29:37.705Z"
      },
      {
        "duration": 2156,
        "start_time": "2023-02-14T10:31:25.488Z"
      },
      {
        "duration": 7,
        "start_time": "2023-02-14T10:32:16.655Z"
      },
      {
        "duration": 104,
        "start_time": "2023-02-14T10:52:32.930Z"
      },
      {
        "duration": 60,
        "start_time": "2023-02-14T19:18:17.678Z"
      },
      {
        "duration": 8211,
        "start_time": "2023-02-14T19:18:24.966Z"
      },
      {
        "duration": 192,
        "start_time": "2023-02-14T19:18:33.179Z"
      },
      {
        "duration": 5,
        "start_time": "2023-02-14T19:18:33.372Z"
      },
      {
        "duration": 13,
        "start_time": "2023-02-14T19:18:37.415Z"
      },
      {
        "duration": 18,
        "start_time": "2023-02-14T19:18:40.721Z"
      },
      {
        "duration": 83,
        "start_time": "2023-02-14T19:18:44.015Z"
      },
      {
        "duration": 509,
        "start_time": "2023-02-14T19:18:53.175Z"
      },
      {
        "duration": 453,
        "start_time": "2023-02-14T19:19:14.930Z"
      },
      {
        "duration": 466,
        "start_time": "2023-02-14T19:19:33.959Z"
      },
      {
        "duration": 86160,
        "start_time": "2023-02-14T19:21:28.194Z"
      },
      {
        "duration": 46,
        "start_time": "2023-02-14T19:25:53.648Z"
      },
      {
        "duration": 140,
        "start_time": "2023-02-14T19:26:04.450Z"
      },
      {
        "duration": 1465,
        "start_time": "2023-02-14T19:26:17.029Z"
      },
      {
        "duration": 686,
        "start_time": "2023-02-14T19:27:25.807Z"
      },
      {
        "duration": 1576,
        "start_time": "2023-02-14T19:28:58.219Z"
      },
      {
        "duration": 655,
        "start_time": "2023-02-14T19:29:28.947Z"
      },
      {
        "duration": 1796,
        "start_time": "2023-02-14T19:30:27.511Z"
      },
      {
        "duration": 30,
        "start_time": "2023-02-14T19:30:37.817Z"
      },
      {
        "duration": 31,
        "start_time": "2023-02-14T19:34:51.738Z"
      },
      {
        "duration": 53,
        "start_time": "2023-02-14T19:38:45.401Z"
      },
      {
        "duration": 10167,
        "start_time": "2023-02-15T07:59:15.394Z"
      },
      {
        "duration": 98,
        "start_time": "2023-02-15T07:59:25.563Z"
      },
      {
        "duration": 19,
        "start_time": "2023-02-15T07:59:29.084Z"
      },
      {
        "duration": 5,
        "start_time": "2023-02-15T07:59:32.507Z"
      },
      {
        "duration": 482,
        "start_time": "2023-02-15T07:59:35.895Z"
      },
      {
        "duration": 14,
        "start_time": "2023-02-15T08:00:43.321Z"
      },
      {
        "duration": 22,
        "start_time": "2023-02-15T08:00:46.976Z"
      },
      {
        "duration": 87,
        "start_time": "2023-02-15T08:00:52.133Z"
      },
      {
        "duration": 467,
        "start_time": "2023-02-15T08:01:03.108Z"
      },
      {
        "duration": 85364,
        "start_time": "2023-02-15T08:01:46.255Z"
      },
      {
        "duration": 32,
        "start_time": "2023-02-15T08:03:38.799Z"
      },
      {
        "duration": 122,
        "start_time": "2023-02-15T08:03:45.901Z"
      },
      {
        "duration": 1340,
        "start_time": "2023-02-15T08:04:37.395Z"
      },
      {
        "duration": 1723,
        "start_time": "2023-02-15T08:04:48.005Z"
      },
      {
        "duration": 1760,
        "start_time": "2023-02-15T08:05:01.869Z"
      },
      {
        "duration": 111,
        "start_time": "2023-02-15T08:05:17.693Z"
      },
      {
        "duration": 599,
        "start_time": "2023-02-15T08:05:51.135Z"
      },
      {
        "duration": 27,
        "start_time": "2023-02-15T08:06:00.559Z"
      },
      {
        "duration": 888,
        "start_time": "2023-02-15T08:08:06.554Z"
      },
      {
        "duration": 1516,
        "start_time": "2023-02-15T08:08:35.920Z"
      },
      {
        "duration": 1029,
        "start_time": "2023-02-15T08:09:02.952Z"
      },
      {
        "duration": 7,
        "start_time": "2023-02-15T08:09:07.142Z"
      },
      {
        "duration": 893,
        "start_time": "2023-02-15T08:20:41.659Z"
      },
      {
        "duration": 924,
        "start_time": "2023-02-15T08:20:48.995Z"
      },
      {
        "duration": 894,
        "start_time": "2023-02-15T08:20:54.669Z"
      },
      {
        "duration": 9,
        "start_time": "2023-02-15T08:24:41.591Z"
      },
      {
        "duration": 18,
        "start_time": "2023-02-15T08:25:15.755Z"
      },
      {
        "duration": 10,
        "start_time": "2023-02-15T08:25:25.902Z"
      },
      {
        "duration": 4,
        "start_time": "2023-02-15T08:27:33.094Z"
      },
      {
        "duration": 8,
        "start_time": "2023-02-15T08:27:37.879Z"
      },
      {
        "duration": 71,
        "start_time": "2023-02-15T08:28:32.256Z"
      },
      {
        "duration": 921,
        "start_time": "2023-02-15T08:28:53.457Z"
      },
      {
        "duration": 6,
        "start_time": "2023-02-15T08:28:59.134Z"
      }
    ],
    "kernelspec": {
      "display_name": "Python 3 (ipykernel)",
      "language": "python",
      "name": "python3"
    },
    "language_info": {
      "codemirror_mode": {
        "name": "ipython",
        "version": 3
      },
      "file_extension": ".py",
      "mimetype": "text/x-python",
      "name": "python",
      "nbconvert_exporter": "python",
      "pygments_lexer": "ipython3",
      "version": "3.9.5"
    },
    "toc": {
      "base_numbering": 1,
      "nav_menu": {},
      "number_sections": true,
      "sideBar": true,
      "skip_h1_title": true,
      "title_cell": "Содержание",
      "title_sidebar": "Contents",
      "toc_cell": true,
      "toc_position": {
        "height": "calc(100% - 180px)",
        "left": "10px",
        "top": "150px",
        "width": "329.333px"
      },
      "toc_section_display": true,
      "toc_window_display": false
    },
    "colab": {
      "provenance": []
    }
  },
  "nbformat": 4,
  "nbformat_minor": 0
}