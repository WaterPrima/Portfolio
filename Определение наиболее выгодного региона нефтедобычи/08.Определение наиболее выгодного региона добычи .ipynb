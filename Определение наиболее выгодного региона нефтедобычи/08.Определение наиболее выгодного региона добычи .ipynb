{
  "cells": [
    {
      "cell_type": "markdown",
      "metadata": {
        "id": "fs35KKFcuEBL"
      },
      "source": [
        "## Загрузка и подготовка данных"
      ]
    },
    {
      "cell_type": "code",
      "execution_count": 1,
      "metadata": {
        "id": "rAd9RQyMuEBM"
      },
      "outputs": [],
      "source": [
        "import pandas as pd\n",
        "import numpy as np\n",
        "from numpy.random import RandomState\n",
        "\n",
        "import math\n",
        "\n",
        "from sklearn.model_selection import train_test_split\n",
        "from sklearn.linear_model import LinearRegression\n",
        "from sklearn.metrics import mean_squared_error\n",
        "from sklearn.preprocessing import StandardScaler"
      ]
    },
    {
      "cell_type": "code",
      "execution_count": 2,
      "metadata": {
        "colab": {
          "base_uri": "https://localhost:8080/",
          "height": 303
        },
        "id": "mJdqnAMpuEBQ",
        "outputId": "f4c82e1d-eac0-45fb-b27c-83458ccc0550"
      },
      "outputs": [
        {
          "output_type": "display_data",
          "data": {
            "text/plain": [
              "      id        f0        f1       f2     product\n",
              "0  txEyH  0.705745 -0.497823  1.22117  105.280062\n",
              "1  2acmU  1.334711 -0.340164  4.36508   73.037750"
            ],
            "text/html": [
              "\n",
              "\n",
              "  <div id=\"df-21e70c37-cd44-49bd-a25b-dc861805ec21\">\n",
              "    <div class=\"colab-df-container\">\n",
              "      <div>\n",
              "<style scoped>\n",
              "    .dataframe tbody tr th:only-of-type {\n",
              "        vertical-align: middle;\n",
              "    }\n",
              "\n",
              "    .dataframe tbody tr th {\n",
              "        vertical-align: top;\n",
              "    }\n",
              "\n",
              "    .dataframe thead th {\n",
              "        text-align: right;\n",
              "    }\n",
              "</style>\n",
              "<table border=\"1\" class=\"dataframe\">\n",
              "  <thead>\n",
              "    <tr style=\"text-align: right;\">\n",
              "      <th></th>\n",
              "      <th>id</th>\n",
              "      <th>f0</th>\n",
              "      <th>f1</th>\n",
              "      <th>f2</th>\n",
              "      <th>product</th>\n",
              "    </tr>\n",
              "  </thead>\n",
              "  <tbody>\n",
              "    <tr>\n",
              "      <th>0</th>\n",
              "      <td>txEyH</td>\n",
              "      <td>0.705745</td>\n",
              "      <td>-0.497823</td>\n",
              "      <td>1.22117</td>\n",
              "      <td>105.280062</td>\n",
              "    </tr>\n",
              "    <tr>\n",
              "      <th>1</th>\n",
              "      <td>2acmU</td>\n",
              "      <td>1.334711</td>\n",
              "      <td>-0.340164</td>\n",
              "      <td>4.36508</td>\n",
              "      <td>73.037750</td>\n",
              "    </tr>\n",
              "  </tbody>\n",
              "</table>\n",
              "</div>\n",
              "      <button class=\"colab-df-convert\" onclick=\"convertToInteractive('df-21e70c37-cd44-49bd-a25b-dc861805ec21')\"\n",
              "              title=\"Convert this dataframe to an interactive table.\"\n",
              "              style=\"display:none;\">\n",
              "\n",
              "  <svg xmlns=\"http://www.w3.org/2000/svg\" height=\"24px\"viewBox=\"0 0 24 24\"\n",
              "       width=\"24px\">\n",
              "    <path d=\"M0 0h24v24H0V0z\" fill=\"none\"/>\n",
              "    <path d=\"M18.56 5.44l.94 2.06.94-2.06 2.06-.94-2.06-.94-.94-2.06-.94 2.06-2.06.94zm-11 1L8.5 8.5l.94-2.06 2.06-.94-2.06-.94L8.5 2.5l-.94 2.06-2.06.94zm10 10l.94 2.06.94-2.06 2.06-.94-2.06-.94-.94-2.06-.94 2.06-2.06.94z\"/><path d=\"M17.41 7.96l-1.37-1.37c-.4-.4-.92-.59-1.43-.59-.52 0-1.04.2-1.43.59L10.3 9.45l-7.72 7.72c-.78.78-.78 2.05 0 2.83L4 21.41c.39.39.9.59 1.41.59.51 0 1.02-.2 1.41-.59l7.78-7.78 2.81-2.81c.8-.78.8-2.07 0-2.86zM5.41 20L4 18.59l7.72-7.72 1.47 1.35L5.41 20z\"/>\n",
              "  </svg>\n",
              "      </button>\n",
              "\n",
              "\n",
              "\n",
              "    <div id=\"df-b3b0ca42-8403-4cb2-ab91-480fd1f317ab\">\n",
              "      <button class=\"colab-df-quickchart\" onclick=\"quickchart('df-b3b0ca42-8403-4cb2-ab91-480fd1f317ab')\"\n",
              "              title=\"Suggest charts.\"\n",
              "              style=\"display:none;\">\n",
              "\n",
              "<svg xmlns=\"http://www.w3.org/2000/svg\" height=\"24px\"viewBox=\"0 0 24 24\"\n",
              "     width=\"24px\">\n",
              "    <g>\n",
              "        <path d=\"M19 3H5c-1.1 0-2 .9-2 2v14c0 1.1.9 2 2 2h14c1.1 0 2-.9 2-2V5c0-1.1-.9-2-2-2zM9 17H7v-7h2v7zm4 0h-2V7h2v10zm4 0h-2v-4h2v4z\"/>\n",
              "    </g>\n",
              "</svg>\n",
              "      </button>\n",
              "    </div>\n",
              "\n",
              "<style>\n",
              "  .colab-df-quickchart {\n",
              "    background-color: #E8F0FE;\n",
              "    border: none;\n",
              "    border-radius: 50%;\n",
              "    cursor: pointer;\n",
              "    display: none;\n",
              "    fill: #1967D2;\n",
              "    height: 32px;\n",
              "    padding: 0 0 0 0;\n",
              "    width: 32px;\n",
              "  }\n",
              "\n",
              "  .colab-df-quickchart:hover {\n",
              "    background-color: #E2EBFA;\n",
              "    box-shadow: 0px 1px 2px rgba(60, 64, 67, 0.3), 0px 1px 3px 1px rgba(60, 64, 67, 0.15);\n",
              "    fill: #174EA6;\n",
              "  }\n",
              "\n",
              "  [theme=dark] .colab-df-quickchart {\n",
              "    background-color: #3B4455;\n",
              "    fill: #D2E3FC;\n",
              "  }\n",
              "\n",
              "  [theme=dark] .colab-df-quickchart:hover {\n",
              "    background-color: #434B5C;\n",
              "    box-shadow: 0px 1px 3px 1px rgba(0, 0, 0, 0.15);\n",
              "    filter: drop-shadow(0px 1px 2px rgba(0, 0, 0, 0.3));\n",
              "    fill: #FFFFFF;\n",
              "  }\n",
              "</style>\n",
              "\n",
              "    <script>\n",
              "      async function quickchart(key) {\n",
              "        const containerElement = document.querySelector('#' + key);\n",
              "        const charts = await google.colab.kernel.invokeFunction(\n",
              "            'suggestCharts', [key], {});\n",
              "      }\n",
              "    </script>\n",
              "\n",
              "\n",
              "      <script>\n",
              "\n",
              "function displayQuickchartButton(domScope) {\n",
              "  let quickchartButtonEl =\n",
              "    domScope.querySelector('#df-b3b0ca42-8403-4cb2-ab91-480fd1f317ab button.colab-df-quickchart');\n",
              "  quickchartButtonEl.style.display =\n",
              "    google.colab.kernel.accessAllowed ? 'block' : 'none';\n",
              "}\n",
              "\n",
              "        displayQuickchartButton(document);\n",
              "      </script>\n",
              "      <style>\n",
              "    .colab-df-container {\n",
              "      display:flex;\n",
              "      flex-wrap:wrap;\n",
              "      gap: 12px;\n",
              "    }\n",
              "\n",
              "    .colab-df-convert {\n",
              "      background-color: #E8F0FE;\n",
              "      border: none;\n",
              "      border-radius: 50%;\n",
              "      cursor: pointer;\n",
              "      display: none;\n",
              "      fill: #1967D2;\n",
              "      height: 32px;\n",
              "      padding: 0 0 0 0;\n",
              "      width: 32px;\n",
              "    }\n",
              "\n",
              "    .colab-df-convert:hover {\n",
              "      background-color: #E2EBFA;\n",
              "      box-shadow: 0px 1px 2px rgba(60, 64, 67, 0.3), 0px 1px 3px 1px rgba(60, 64, 67, 0.15);\n",
              "      fill: #174EA6;\n",
              "    }\n",
              "\n",
              "    [theme=dark] .colab-df-convert {\n",
              "      background-color: #3B4455;\n",
              "      fill: #D2E3FC;\n",
              "    }\n",
              "\n",
              "    [theme=dark] .colab-df-convert:hover {\n",
              "      background-color: #434B5C;\n",
              "      box-shadow: 0px 1px 3px 1px rgba(0, 0, 0, 0.15);\n",
              "      filter: drop-shadow(0px 1px 2px rgba(0, 0, 0, 0.3));\n",
              "      fill: #FFFFFF;\n",
              "    }\n",
              "  </style>\n",
              "\n",
              "      <script>\n",
              "        const buttonEl =\n",
              "          document.querySelector('#df-21e70c37-cd44-49bd-a25b-dc861805ec21 button.colab-df-convert');\n",
              "        buttonEl.style.display =\n",
              "          google.colab.kernel.accessAllowed ? 'block' : 'none';\n",
              "\n",
              "        async function convertToInteractive(key) {\n",
              "          const element = document.querySelector('#df-21e70c37-cd44-49bd-a25b-dc861805ec21');\n",
              "          const dataTable =\n",
              "            await google.colab.kernel.invokeFunction('convertToInteractive',\n",
              "                                                     [key], {});\n",
              "          if (!dataTable) return;\n",
              "\n",
              "          const docLinkHtml = 'Like what you see? Visit the ' +\n",
              "            '<a target=\"_blank\" href=https://colab.research.google.com/notebooks/data_table.ipynb>data table notebook</a>'\n",
              "            + ' to learn more about interactive tables.';\n",
              "          element.innerHTML = '';\n",
              "          dataTable['output_type'] = 'display_data';\n",
              "          await google.colab.output.renderOutput(dataTable, element);\n",
              "          const docLink = document.createElement('div');\n",
              "          docLink.innerHTML = docLinkHtml;\n",
              "          element.appendChild(docLink);\n",
              "        }\n",
              "      </script>\n",
              "    </div>\n",
              "  </div>\n"
            ]
          },
          "metadata": {}
        },
        {
          "output_type": "display_data",
          "data": {
            "text/plain": [
              "      id         f0        f1        f2    product\n",
              "0  kBEdx -15.001348 -8.276000 -0.005876   3.179103\n",
              "1  62mP7  14.272088 -3.475083  0.999183  26.953261"
            ],
            "text/html": [
              "\n",
              "\n",
              "  <div id=\"df-522cb428-78f2-4c72-9936-946d53885a88\">\n",
              "    <div class=\"colab-df-container\">\n",
              "      <div>\n",
              "<style scoped>\n",
              "    .dataframe tbody tr th:only-of-type {\n",
              "        vertical-align: middle;\n",
              "    }\n",
              "\n",
              "    .dataframe tbody tr th {\n",
              "        vertical-align: top;\n",
              "    }\n",
              "\n",
              "    .dataframe thead th {\n",
              "        text-align: right;\n",
              "    }\n",
              "</style>\n",
              "<table border=\"1\" class=\"dataframe\">\n",
              "  <thead>\n",
              "    <tr style=\"text-align: right;\">\n",
              "      <th></th>\n",
              "      <th>id</th>\n",
              "      <th>f0</th>\n",
              "      <th>f1</th>\n",
              "      <th>f2</th>\n",
              "      <th>product</th>\n",
              "    </tr>\n",
              "  </thead>\n",
              "  <tbody>\n",
              "    <tr>\n",
              "      <th>0</th>\n",
              "      <td>kBEdx</td>\n",
              "      <td>-15.001348</td>\n",
              "      <td>-8.276000</td>\n",
              "      <td>-0.005876</td>\n",
              "      <td>3.179103</td>\n",
              "    </tr>\n",
              "    <tr>\n",
              "      <th>1</th>\n",
              "      <td>62mP7</td>\n",
              "      <td>14.272088</td>\n",
              "      <td>-3.475083</td>\n",
              "      <td>0.999183</td>\n",
              "      <td>26.953261</td>\n",
              "    </tr>\n",
              "  </tbody>\n",
              "</table>\n",
              "</div>\n",
              "      <button class=\"colab-df-convert\" onclick=\"convertToInteractive('df-522cb428-78f2-4c72-9936-946d53885a88')\"\n",
              "              title=\"Convert this dataframe to an interactive table.\"\n",
              "              style=\"display:none;\">\n",
              "\n",
              "  <svg xmlns=\"http://www.w3.org/2000/svg\" height=\"24px\"viewBox=\"0 0 24 24\"\n",
              "       width=\"24px\">\n",
              "    <path d=\"M0 0h24v24H0V0z\" fill=\"none\"/>\n",
              "    <path d=\"M18.56 5.44l.94 2.06.94-2.06 2.06-.94-2.06-.94-.94-2.06-.94 2.06-2.06.94zm-11 1L8.5 8.5l.94-2.06 2.06-.94-2.06-.94L8.5 2.5l-.94 2.06-2.06.94zm10 10l.94 2.06.94-2.06 2.06-.94-2.06-.94-.94-2.06-.94 2.06-2.06.94z\"/><path d=\"M17.41 7.96l-1.37-1.37c-.4-.4-.92-.59-1.43-.59-.52 0-1.04.2-1.43.59L10.3 9.45l-7.72 7.72c-.78.78-.78 2.05 0 2.83L4 21.41c.39.39.9.59 1.41.59.51 0 1.02-.2 1.41-.59l7.78-7.78 2.81-2.81c.8-.78.8-2.07 0-2.86zM5.41 20L4 18.59l7.72-7.72 1.47 1.35L5.41 20z\"/>\n",
              "  </svg>\n",
              "      </button>\n",
              "\n",
              "\n",
              "\n",
              "    <div id=\"df-06c7cb8a-f1c0-4f8a-8869-3930249109d3\">\n",
              "      <button class=\"colab-df-quickchart\" onclick=\"quickchart('df-06c7cb8a-f1c0-4f8a-8869-3930249109d3')\"\n",
              "              title=\"Suggest charts.\"\n",
              "              style=\"display:none;\">\n",
              "\n",
              "<svg xmlns=\"http://www.w3.org/2000/svg\" height=\"24px\"viewBox=\"0 0 24 24\"\n",
              "     width=\"24px\">\n",
              "    <g>\n",
              "        <path d=\"M19 3H5c-1.1 0-2 .9-2 2v14c0 1.1.9 2 2 2h14c1.1 0 2-.9 2-2V5c0-1.1-.9-2-2-2zM9 17H7v-7h2v7zm4 0h-2V7h2v10zm4 0h-2v-4h2v4z\"/>\n",
              "    </g>\n",
              "</svg>\n",
              "      </button>\n",
              "    </div>\n",
              "\n",
              "<style>\n",
              "  .colab-df-quickchart {\n",
              "    background-color: #E8F0FE;\n",
              "    border: none;\n",
              "    border-radius: 50%;\n",
              "    cursor: pointer;\n",
              "    display: none;\n",
              "    fill: #1967D2;\n",
              "    height: 32px;\n",
              "    padding: 0 0 0 0;\n",
              "    width: 32px;\n",
              "  }\n",
              "\n",
              "  .colab-df-quickchart:hover {\n",
              "    background-color: #E2EBFA;\n",
              "    box-shadow: 0px 1px 2px rgba(60, 64, 67, 0.3), 0px 1px 3px 1px rgba(60, 64, 67, 0.15);\n",
              "    fill: #174EA6;\n",
              "  }\n",
              "\n",
              "  [theme=dark] .colab-df-quickchart {\n",
              "    background-color: #3B4455;\n",
              "    fill: #D2E3FC;\n",
              "  }\n",
              "\n",
              "  [theme=dark] .colab-df-quickchart:hover {\n",
              "    background-color: #434B5C;\n",
              "    box-shadow: 0px 1px 3px 1px rgba(0, 0, 0, 0.15);\n",
              "    filter: drop-shadow(0px 1px 2px rgba(0, 0, 0, 0.3));\n",
              "    fill: #FFFFFF;\n",
              "  }\n",
              "</style>\n",
              "\n",
              "    <script>\n",
              "      async function quickchart(key) {\n",
              "        const containerElement = document.querySelector('#' + key);\n",
              "        const charts = await google.colab.kernel.invokeFunction(\n",
              "            'suggestCharts', [key], {});\n",
              "      }\n",
              "    </script>\n",
              "\n",
              "\n",
              "      <script>\n",
              "\n",
              "function displayQuickchartButton(domScope) {\n",
              "  let quickchartButtonEl =\n",
              "    domScope.querySelector('#df-06c7cb8a-f1c0-4f8a-8869-3930249109d3 button.colab-df-quickchart');\n",
              "  quickchartButtonEl.style.display =\n",
              "    google.colab.kernel.accessAllowed ? 'block' : 'none';\n",
              "}\n",
              "\n",
              "        displayQuickchartButton(document);\n",
              "      </script>\n",
              "      <style>\n",
              "    .colab-df-container {\n",
              "      display:flex;\n",
              "      flex-wrap:wrap;\n",
              "      gap: 12px;\n",
              "    }\n",
              "\n",
              "    .colab-df-convert {\n",
              "      background-color: #E8F0FE;\n",
              "      border: none;\n",
              "      border-radius: 50%;\n",
              "      cursor: pointer;\n",
              "      display: none;\n",
              "      fill: #1967D2;\n",
              "      height: 32px;\n",
              "      padding: 0 0 0 0;\n",
              "      width: 32px;\n",
              "    }\n",
              "\n",
              "    .colab-df-convert:hover {\n",
              "      background-color: #E2EBFA;\n",
              "      box-shadow: 0px 1px 2px rgba(60, 64, 67, 0.3), 0px 1px 3px 1px rgba(60, 64, 67, 0.15);\n",
              "      fill: #174EA6;\n",
              "    }\n",
              "\n",
              "    [theme=dark] .colab-df-convert {\n",
              "      background-color: #3B4455;\n",
              "      fill: #D2E3FC;\n",
              "    }\n",
              "\n",
              "    [theme=dark] .colab-df-convert:hover {\n",
              "      background-color: #434B5C;\n",
              "      box-shadow: 0px 1px 3px 1px rgba(0, 0, 0, 0.15);\n",
              "      filter: drop-shadow(0px 1px 2px rgba(0, 0, 0, 0.3));\n",
              "      fill: #FFFFFF;\n",
              "    }\n",
              "  </style>\n",
              "\n",
              "      <script>\n",
              "        const buttonEl =\n",
              "          document.querySelector('#df-522cb428-78f2-4c72-9936-946d53885a88 button.colab-df-convert');\n",
              "        buttonEl.style.display =\n",
              "          google.colab.kernel.accessAllowed ? 'block' : 'none';\n",
              "\n",
              "        async function convertToInteractive(key) {\n",
              "          const element = document.querySelector('#df-522cb428-78f2-4c72-9936-946d53885a88');\n",
              "          const dataTable =\n",
              "            await google.colab.kernel.invokeFunction('convertToInteractive',\n",
              "                                                     [key], {});\n",
              "          if (!dataTable) return;\n",
              "\n",
              "          const docLinkHtml = 'Like what you see? Visit the ' +\n",
              "            '<a target=\"_blank\" href=https://colab.research.google.com/notebooks/data_table.ipynb>data table notebook</a>'\n",
              "            + ' to learn more about interactive tables.';\n",
              "          element.innerHTML = '';\n",
              "          dataTable['output_type'] = 'display_data';\n",
              "          await google.colab.output.renderOutput(dataTable, element);\n",
              "          const docLink = document.createElement('div');\n",
              "          docLink.innerHTML = docLinkHtml;\n",
              "          element.appendChild(docLink);\n",
              "        }\n",
              "      </script>\n",
              "    </div>\n",
              "  </div>\n"
            ]
          },
          "metadata": {}
        },
        {
          "output_type": "display_data",
          "data": {
            "text/plain": [
              "      id        f0        f1        f2    product\n",
              "0  fwXo0 -1.146987  0.963328 -0.828965  27.758673\n",
              "1  WJtFt  0.262778  0.269839 -2.530187  56.069697"
            ],
            "text/html": [
              "\n",
              "\n",
              "  <div id=\"df-35faf6ca-9419-45bd-87d3-ada1b1c5b95c\">\n",
              "    <div class=\"colab-df-container\">\n",
              "      <div>\n",
              "<style scoped>\n",
              "    .dataframe tbody tr th:only-of-type {\n",
              "        vertical-align: middle;\n",
              "    }\n",
              "\n",
              "    .dataframe tbody tr th {\n",
              "        vertical-align: top;\n",
              "    }\n",
              "\n",
              "    .dataframe thead th {\n",
              "        text-align: right;\n",
              "    }\n",
              "</style>\n",
              "<table border=\"1\" class=\"dataframe\">\n",
              "  <thead>\n",
              "    <tr style=\"text-align: right;\">\n",
              "      <th></th>\n",
              "      <th>id</th>\n",
              "      <th>f0</th>\n",
              "      <th>f1</th>\n",
              "      <th>f2</th>\n",
              "      <th>product</th>\n",
              "    </tr>\n",
              "  </thead>\n",
              "  <tbody>\n",
              "    <tr>\n",
              "      <th>0</th>\n",
              "      <td>fwXo0</td>\n",
              "      <td>-1.146987</td>\n",
              "      <td>0.963328</td>\n",
              "      <td>-0.828965</td>\n",
              "      <td>27.758673</td>\n",
              "    </tr>\n",
              "    <tr>\n",
              "      <th>1</th>\n",
              "      <td>WJtFt</td>\n",
              "      <td>0.262778</td>\n",
              "      <td>0.269839</td>\n",
              "      <td>-2.530187</td>\n",
              "      <td>56.069697</td>\n",
              "    </tr>\n",
              "  </tbody>\n",
              "</table>\n",
              "</div>\n",
              "      <button class=\"colab-df-convert\" onclick=\"convertToInteractive('df-35faf6ca-9419-45bd-87d3-ada1b1c5b95c')\"\n",
              "              title=\"Convert this dataframe to an interactive table.\"\n",
              "              style=\"display:none;\">\n",
              "\n",
              "  <svg xmlns=\"http://www.w3.org/2000/svg\" height=\"24px\"viewBox=\"0 0 24 24\"\n",
              "       width=\"24px\">\n",
              "    <path d=\"M0 0h24v24H0V0z\" fill=\"none\"/>\n",
              "    <path d=\"M18.56 5.44l.94 2.06.94-2.06 2.06-.94-2.06-.94-.94-2.06-.94 2.06-2.06.94zm-11 1L8.5 8.5l.94-2.06 2.06-.94-2.06-.94L8.5 2.5l-.94 2.06-2.06.94zm10 10l.94 2.06.94-2.06 2.06-.94-2.06-.94-.94-2.06-.94 2.06-2.06.94z\"/><path d=\"M17.41 7.96l-1.37-1.37c-.4-.4-.92-.59-1.43-.59-.52 0-1.04.2-1.43.59L10.3 9.45l-7.72 7.72c-.78.78-.78 2.05 0 2.83L4 21.41c.39.39.9.59 1.41.59.51 0 1.02-.2 1.41-.59l7.78-7.78 2.81-2.81c.8-.78.8-2.07 0-2.86zM5.41 20L4 18.59l7.72-7.72 1.47 1.35L5.41 20z\"/>\n",
              "  </svg>\n",
              "      </button>\n",
              "\n",
              "\n",
              "\n",
              "    <div id=\"df-246f3cd1-c48f-4ef9-9f34-e51e85580c4b\">\n",
              "      <button class=\"colab-df-quickchart\" onclick=\"quickchart('df-246f3cd1-c48f-4ef9-9f34-e51e85580c4b')\"\n",
              "              title=\"Suggest charts.\"\n",
              "              style=\"display:none;\">\n",
              "\n",
              "<svg xmlns=\"http://www.w3.org/2000/svg\" height=\"24px\"viewBox=\"0 0 24 24\"\n",
              "     width=\"24px\">\n",
              "    <g>\n",
              "        <path d=\"M19 3H5c-1.1 0-2 .9-2 2v14c0 1.1.9 2 2 2h14c1.1 0 2-.9 2-2V5c0-1.1-.9-2-2-2zM9 17H7v-7h2v7zm4 0h-2V7h2v10zm4 0h-2v-4h2v4z\"/>\n",
              "    </g>\n",
              "</svg>\n",
              "      </button>\n",
              "    </div>\n",
              "\n",
              "<style>\n",
              "  .colab-df-quickchart {\n",
              "    background-color: #E8F0FE;\n",
              "    border: none;\n",
              "    border-radius: 50%;\n",
              "    cursor: pointer;\n",
              "    display: none;\n",
              "    fill: #1967D2;\n",
              "    height: 32px;\n",
              "    padding: 0 0 0 0;\n",
              "    width: 32px;\n",
              "  }\n",
              "\n",
              "  .colab-df-quickchart:hover {\n",
              "    background-color: #E2EBFA;\n",
              "    box-shadow: 0px 1px 2px rgba(60, 64, 67, 0.3), 0px 1px 3px 1px rgba(60, 64, 67, 0.15);\n",
              "    fill: #174EA6;\n",
              "  }\n",
              "\n",
              "  [theme=dark] .colab-df-quickchart {\n",
              "    background-color: #3B4455;\n",
              "    fill: #D2E3FC;\n",
              "  }\n",
              "\n",
              "  [theme=dark] .colab-df-quickchart:hover {\n",
              "    background-color: #434B5C;\n",
              "    box-shadow: 0px 1px 3px 1px rgba(0, 0, 0, 0.15);\n",
              "    filter: drop-shadow(0px 1px 2px rgba(0, 0, 0, 0.3));\n",
              "    fill: #FFFFFF;\n",
              "  }\n",
              "</style>\n",
              "\n",
              "    <script>\n",
              "      async function quickchart(key) {\n",
              "        const containerElement = document.querySelector('#' + key);\n",
              "        const charts = await google.colab.kernel.invokeFunction(\n",
              "            'suggestCharts', [key], {});\n",
              "      }\n",
              "    </script>\n",
              "\n",
              "\n",
              "      <script>\n",
              "\n",
              "function displayQuickchartButton(domScope) {\n",
              "  let quickchartButtonEl =\n",
              "    domScope.querySelector('#df-246f3cd1-c48f-4ef9-9f34-e51e85580c4b button.colab-df-quickchart');\n",
              "  quickchartButtonEl.style.display =\n",
              "    google.colab.kernel.accessAllowed ? 'block' : 'none';\n",
              "}\n",
              "\n",
              "        displayQuickchartButton(document);\n",
              "      </script>\n",
              "      <style>\n",
              "    .colab-df-container {\n",
              "      display:flex;\n",
              "      flex-wrap:wrap;\n",
              "      gap: 12px;\n",
              "    }\n",
              "\n",
              "    .colab-df-convert {\n",
              "      background-color: #E8F0FE;\n",
              "      border: none;\n",
              "      border-radius: 50%;\n",
              "      cursor: pointer;\n",
              "      display: none;\n",
              "      fill: #1967D2;\n",
              "      height: 32px;\n",
              "      padding: 0 0 0 0;\n",
              "      width: 32px;\n",
              "    }\n",
              "\n",
              "    .colab-df-convert:hover {\n",
              "      background-color: #E2EBFA;\n",
              "      box-shadow: 0px 1px 2px rgba(60, 64, 67, 0.3), 0px 1px 3px 1px rgba(60, 64, 67, 0.15);\n",
              "      fill: #174EA6;\n",
              "    }\n",
              "\n",
              "    [theme=dark] .colab-df-convert {\n",
              "      background-color: #3B4455;\n",
              "      fill: #D2E3FC;\n",
              "    }\n",
              "\n",
              "    [theme=dark] .colab-df-convert:hover {\n",
              "      background-color: #434B5C;\n",
              "      box-shadow: 0px 1px 3px 1px rgba(0, 0, 0, 0.15);\n",
              "      filter: drop-shadow(0px 1px 2px rgba(0, 0, 0, 0.3));\n",
              "      fill: #FFFFFF;\n",
              "    }\n",
              "  </style>\n",
              "\n",
              "      <script>\n",
              "        const buttonEl =\n",
              "          document.querySelector('#df-35faf6ca-9419-45bd-87d3-ada1b1c5b95c button.colab-df-convert');\n",
              "        buttonEl.style.display =\n",
              "          google.colab.kernel.accessAllowed ? 'block' : 'none';\n",
              "\n",
              "        async function convertToInteractive(key) {\n",
              "          const element = document.querySelector('#df-35faf6ca-9419-45bd-87d3-ada1b1c5b95c');\n",
              "          const dataTable =\n",
              "            await google.colab.kernel.invokeFunction('convertToInteractive',\n",
              "                                                     [key], {});\n",
              "          if (!dataTable) return;\n",
              "\n",
              "          const docLinkHtml = 'Like what you see? Visit the ' +\n",
              "            '<a target=\"_blank\" href=https://colab.research.google.com/notebooks/data_table.ipynb>data table notebook</a>'\n",
              "            + ' to learn more about interactive tables.';\n",
              "          element.innerHTML = '';\n",
              "          dataTable['output_type'] = 'display_data';\n",
              "          await google.colab.output.renderOutput(dataTable, element);\n",
              "          const docLink = document.createElement('div');\n",
              "          docLink.innerHTML = docLinkHtml;\n",
              "          element.appendChild(docLink);\n",
              "        }\n",
              "      </script>\n",
              "    </div>\n",
              "  </div>\n"
            ]
          },
          "metadata": {}
        }
      ],
      "source": [
        "data_0 = pd.read_csv('/content/08.geo_data_0.csv')\n",
        "display(data_0.head(2))\n",
        "data_1 = pd.read_csv('/content/08.geo_data_1.csv')\n",
        "display(data_1.head(2))\n",
        "data_2 = pd.read_csv('/content/08.geo_data_2.csv')\n",
        "display(data_2.head(2))"
      ]
    },
    {
      "cell_type": "code",
      "execution_count": 3,
      "metadata": {
        "colab": {
          "base_uri": "https://localhost:8080/"
        },
        "id": "qHH1xZNZuEBS",
        "outputId": "081ac783-0a15-4ff5-cfd0-f5dcad9ce2c0"
      },
      "outputs": [
        {
          "output_type": "stream",
          "name": "stdout",
          "text": [
            "<class 'pandas.core.frame.DataFrame'>\n",
            "RangeIndex: 100000 entries, 0 to 99999\n",
            "Data columns (total 5 columns):\n",
            " #   Column   Non-Null Count   Dtype  \n",
            "---  ------   --------------   -----  \n",
            " 0   id       100000 non-null  object \n",
            " 1   f0       100000 non-null  float64\n",
            " 2   f1       100000 non-null  float64\n",
            " 3   f2       100000 non-null  float64\n",
            " 4   product  100000 non-null  float64\n",
            "dtypes: float64(4), object(1)\n",
            "memory usage: 3.8+ MB\n",
            "<class 'pandas.core.frame.DataFrame'>\n",
            "RangeIndex: 100000 entries, 0 to 99999\n",
            "Data columns (total 5 columns):\n",
            " #   Column   Non-Null Count   Dtype  \n",
            "---  ------   --------------   -----  \n",
            " 0   id       100000 non-null  object \n",
            " 1   f0       100000 non-null  float64\n",
            " 2   f1       100000 non-null  float64\n",
            " 3   f2       100000 non-null  float64\n",
            " 4   product  100000 non-null  float64\n",
            "dtypes: float64(4), object(1)\n",
            "memory usage: 3.8+ MB\n",
            "<class 'pandas.core.frame.DataFrame'>\n",
            "RangeIndex: 100000 entries, 0 to 99999\n",
            "Data columns (total 5 columns):\n",
            " #   Column   Non-Null Count   Dtype  \n",
            "---  ------   --------------   -----  \n",
            " 0   id       100000 non-null  object \n",
            " 1   f0       100000 non-null  float64\n",
            " 2   f1       100000 non-null  float64\n",
            " 3   f2       100000 non-null  float64\n",
            " 4   product  100000 non-null  float64\n",
            "dtypes: float64(4), object(1)\n",
            "memory usage: 3.8+ MB\n"
          ]
        }
      ],
      "source": [
        "data_0.info()\n",
        "data_1.info()\n",
        "data_2.info()"
      ]
    },
    {
      "cell_type": "code",
      "execution_count": 4,
      "metadata": {
        "colab": {
          "base_uri": "https://localhost:8080/",
          "height": 69
        },
        "id": "iWGz0bvGuEBT",
        "outputId": "f696b719-81fc-4f0a-b9a9-43bdc5d47795"
      },
      "outputs": [
        {
          "output_type": "display_data",
          "data": {
            "text/plain": [
              "0"
            ]
          },
          "metadata": {}
        },
        {
          "output_type": "display_data",
          "data": {
            "text/plain": [
              "0"
            ]
          },
          "metadata": {}
        },
        {
          "output_type": "display_data",
          "data": {
            "text/plain": [
              "0"
            ]
          },
          "metadata": {}
        }
      ],
      "source": [
        "display(data_0.duplicated().sum())\n",
        "display(data_1.duplicated().sum())\n",
        "display(data_2.duplicated().sum())"
      ]
    },
    {
      "cell_type": "code",
      "execution_count": 5,
      "metadata": {
        "colab": {
          "base_uri": "https://localhost:8080/",
          "height": 677
        },
        "id": "KHc-sMkguEBU",
        "outputId": "46eb4781-e50a-4d48-818f-6e53d4208a8d"
      },
      "outputs": [
        {
          "output_type": "execute_result",
          "data": {
            "text/plain": [
              "          id        f0        f1         f2     product\n",
              "66136  74z30  1.084962 -0.312358   6.990771  127.643327\n",
              "64022  74z30  0.741456  0.459229   5.153109  140.771492\n",
              "51970  A5aEY -0.180335  0.935548  -2.094773   33.020205\n",
              "3389   A5aEY -0.039949  0.156872   0.209861   89.249364\n",
              "69163  AGS9W -0.933795  0.116194  -3.655896   19.230453\n",
              "42529  AGS9W  1.454747 -0.479651   0.683380  126.370504\n",
              "931    HZww2  0.755284  0.368511   1.863211   30.681774\n",
              "7530   HZww2  1.061194 -0.373969  10.430210  158.828695\n",
              "63593  QcMuo  0.635635 -0.473422   0.862670   64.578675\n",
              "1949   QcMuo  0.506563 -0.323775  -2.215583   75.496502\n",
              "75715  Tdehs  0.112079  0.430296   3.218993   60.964018\n",
              "21426  Tdehs  0.829407  0.298807  -0.049563   96.035308\n",
              "92341  TtcGQ  0.110711  1.022689   0.911381  101.318008\n",
              "60140  TtcGQ  0.569276 -0.104876   6.440215   85.350186\n",
              "89582  bsk9y  0.398908 -0.400253  10.122376  163.433078\n",
              "97785  bsk9y  0.378429  0.005837   0.160827  160.637302\n",
              "41724  bxg6G -0.823752  0.546319   3.630479   93.007798\n",
              "1364   bxg6G  0.411645  0.856830  -3.653440   73.604260\n",
              "16633  fiKDv  0.157341  1.028359   5.585586   95.817889\n",
              "90815  fiKDv  0.049883  0.841313   6.394613  137.346586"
            ],
            "text/html": [
              "\n",
              "\n",
              "  <div id=\"df-207282f1-6bd7-4748-ad85-03ec2bae2e53\">\n",
              "    <div class=\"colab-df-container\">\n",
              "      <div>\n",
              "<style scoped>\n",
              "    .dataframe tbody tr th:only-of-type {\n",
              "        vertical-align: middle;\n",
              "    }\n",
              "\n",
              "    .dataframe tbody tr th {\n",
              "        vertical-align: top;\n",
              "    }\n",
              "\n",
              "    .dataframe thead th {\n",
              "        text-align: right;\n",
              "    }\n",
              "</style>\n",
              "<table border=\"1\" class=\"dataframe\">\n",
              "  <thead>\n",
              "    <tr style=\"text-align: right;\">\n",
              "      <th></th>\n",
              "      <th>id</th>\n",
              "      <th>f0</th>\n",
              "      <th>f1</th>\n",
              "      <th>f2</th>\n",
              "      <th>product</th>\n",
              "    </tr>\n",
              "  </thead>\n",
              "  <tbody>\n",
              "    <tr>\n",
              "      <th>66136</th>\n",
              "      <td>74z30</td>\n",
              "      <td>1.084962</td>\n",
              "      <td>-0.312358</td>\n",
              "      <td>6.990771</td>\n",
              "      <td>127.643327</td>\n",
              "    </tr>\n",
              "    <tr>\n",
              "      <th>64022</th>\n",
              "      <td>74z30</td>\n",
              "      <td>0.741456</td>\n",
              "      <td>0.459229</td>\n",
              "      <td>5.153109</td>\n",
              "      <td>140.771492</td>\n",
              "    </tr>\n",
              "    <tr>\n",
              "      <th>51970</th>\n",
              "      <td>A5aEY</td>\n",
              "      <td>-0.180335</td>\n",
              "      <td>0.935548</td>\n",
              "      <td>-2.094773</td>\n",
              "      <td>33.020205</td>\n",
              "    </tr>\n",
              "    <tr>\n",
              "      <th>3389</th>\n",
              "      <td>A5aEY</td>\n",
              "      <td>-0.039949</td>\n",
              "      <td>0.156872</td>\n",
              "      <td>0.209861</td>\n",
              "      <td>89.249364</td>\n",
              "    </tr>\n",
              "    <tr>\n",
              "      <th>69163</th>\n",
              "      <td>AGS9W</td>\n",
              "      <td>-0.933795</td>\n",
              "      <td>0.116194</td>\n",
              "      <td>-3.655896</td>\n",
              "      <td>19.230453</td>\n",
              "    </tr>\n",
              "    <tr>\n",
              "      <th>42529</th>\n",
              "      <td>AGS9W</td>\n",
              "      <td>1.454747</td>\n",
              "      <td>-0.479651</td>\n",
              "      <td>0.683380</td>\n",
              "      <td>126.370504</td>\n",
              "    </tr>\n",
              "    <tr>\n",
              "      <th>931</th>\n",
              "      <td>HZww2</td>\n",
              "      <td>0.755284</td>\n",
              "      <td>0.368511</td>\n",
              "      <td>1.863211</td>\n",
              "      <td>30.681774</td>\n",
              "    </tr>\n",
              "    <tr>\n",
              "      <th>7530</th>\n",
              "      <td>HZww2</td>\n",
              "      <td>1.061194</td>\n",
              "      <td>-0.373969</td>\n",
              "      <td>10.430210</td>\n",
              "      <td>158.828695</td>\n",
              "    </tr>\n",
              "    <tr>\n",
              "      <th>63593</th>\n",
              "      <td>QcMuo</td>\n",
              "      <td>0.635635</td>\n",
              "      <td>-0.473422</td>\n",
              "      <td>0.862670</td>\n",
              "      <td>64.578675</td>\n",
              "    </tr>\n",
              "    <tr>\n",
              "      <th>1949</th>\n",
              "      <td>QcMuo</td>\n",
              "      <td>0.506563</td>\n",
              "      <td>-0.323775</td>\n",
              "      <td>-2.215583</td>\n",
              "      <td>75.496502</td>\n",
              "    </tr>\n",
              "    <tr>\n",
              "      <th>75715</th>\n",
              "      <td>Tdehs</td>\n",
              "      <td>0.112079</td>\n",
              "      <td>0.430296</td>\n",
              "      <td>3.218993</td>\n",
              "      <td>60.964018</td>\n",
              "    </tr>\n",
              "    <tr>\n",
              "      <th>21426</th>\n",
              "      <td>Tdehs</td>\n",
              "      <td>0.829407</td>\n",
              "      <td>0.298807</td>\n",
              "      <td>-0.049563</td>\n",
              "      <td>96.035308</td>\n",
              "    </tr>\n",
              "    <tr>\n",
              "      <th>92341</th>\n",
              "      <td>TtcGQ</td>\n",
              "      <td>0.110711</td>\n",
              "      <td>1.022689</td>\n",
              "      <td>0.911381</td>\n",
              "      <td>101.318008</td>\n",
              "    </tr>\n",
              "    <tr>\n",
              "      <th>60140</th>\n",
              "      <td>TtcGQ</td>\n",
              "      <td>0.569276</td>\n",
              "      <td>-0.104876</td>\n",
              "      <td>6.440215</td>\n",
              "      <td>85.350186</td>\n",
              "    </tr>\n",
              "    <tr>\n",
              "      <th>89582</th>\n",
              "      <td>bsk9y</td>\n",
              "      <td>0.398908</td>\n",
              "      <td>-0.400253</td>\n",
              "      <td>10.122376</td>\n",
              "      <td>163.433078</td>\n",
              "    </tr>\n",
              "    <tr>\n",
              "      <th>97785</th>\n",
              "      <td>bsk9y</td>\n",
              "      <td>0.378429</td>\n",
              "      <td>0.005837</td>\n",
              "      <td>0.160827</td>\n",
              "      <td>160.637302</td>\n",
              "    </tr>\n",
              "    <tr>\n",
              "      <th>41724</th>\n",
              "      <td>bxg6G</td>\n",
              "      <td>-0.823752</td>\n",
              "      <td>0.546319</td>\n",
              "      <td>3.630479</td>\n",
              "      <td>93.007798</td>\n",
              "    </tr>\n",
              "    <tr>\n",
              "      <th>1364</th>\n",
              "      <td>bxg6G</td>\n",
              "      <td>0.411645</td>\n",
              "      <td>0.856830</td>\n",
              "      <td>-3.653440</td>\n",
              "      <td>73.604260</td>\n",
              "    </tr>\n",
              "    <tr>\n",
              "      <th>16633</th>\n",
              "      <td>fiKDv</td>\n",
              "      <td>0.157341</td>\n",
              "      <td>1.028359</td>\n",
              "      <td>5.585586</td>\n",
              "      <td>95.817889</td>\n",
              "    </tr>\n",
              "    <tr>\n",
              "      <th>90815</th>\n",
              "      <td>fiKDv</td>\n",
              "      <td>0.049883</td>\n",
              "      <td>0.841313</td>\n",
              "      <td>6.394613</td>\n",
              "      <td>137.346586</td>\n",
              "    </tr>\n",
              "  </tbody>\n",
              "</table>\n",
              "</div>\n",
              "      <button class=\"colab-df-convert\" onclick=\"convertToInteractive('df-207282f1-6bd7-4748-ad85-03ec2bae2e53')\"\n",
              "              title=\"Convert this dataframe to an interactive table.\"\n",
              "              style=\"display:none;\">\n",
              "\n",
              "  <svg xmlns=\"http://www.w3.org/2000/svg\" height=\"24px\"viewBox=\"0 0 24 24\"\n",
              "       width=\"24px\">\n",
              "    <path d=\"M0 0h24v24H0V0z\" fill=\"none\"/>\n",
              "    <path d=\"M18.56 5.44l.94 2.06.94-2.06 2.06-.94-2.06-.94-.94-2.06-.94 2.06-2.06.94zm-11 1L8.5 8.5l.94-2.06 2.06-.94-2.06-.94L8.5 2.5l-.94 2.06-2.06.94zm10 10l.94 2.06.94-2.06 2.06-.94-2.06-.94-.94-2.06-.94 2.06-2.06.94z\"/><path d=\"M17.41 7.96l-1.37-1.37c-.4-.4-.92-.59-1.43-.59-.52 0-1.04.2-1.43.59L10.3 9.45l-7.72 7.72c-.78.78-.78 2.05 0 2.83L4 21.41c.39.39.9.59 1.41.59.51 0 1.02-.2 1.41-.59l7.78-7.78 2.81-2.81c.8-.78.8-2.07 0-2.86zM5.41 20L4 18.59l7.72-7.72 1.47 1.35L5.41 20z\"/>\n",
              "  </svg>\n",
              "      </button>\n",
              "\n",
              "\n",
              "\n",
              "    <div id=\"df-fdc47184-5690-4f32-babd-1fd5712beba2\">\n",
              "      <button class=\"colab-df-quickchart\" onclick=\"quickchart('df-fdc47184-5690-4f32-babd-1fd5712beba2')\"\n",
              "              title=\"Suggest charts.\"\n",
              "              style=\"display:none;\">\n",
              "\n",
              "<svg xmlns=\"http://www.w3.org/2000/svg\" height=\"24px\"viewBox=\"0 0 24 24\"\n",
              "     width=\"24px\">\n",
              "    <g>\n",
              "        <path d=\"M19 3H5c-1.1 0-2 .9-2 2v14c0 1.1.9 2 2 2h14c1.1 0 2-.9 2-2V5c0-1.1-.9-2-2-2zM9 17H7v-7h2v7zm4 0h-2V7h2v10zm4 0h-2v-4h2v4z\"/>\n",
              "    </g>\n",
              "</svg>\n",
              "      </button>\n",
              "    </div>\n",
              "\n",
              "<style>\n",
              "  .colab-df-quickchart {\n",
              "    background-color: #E8F0FE;\n",
              "    border: none;\n",
              "    border-radius: 50%;\n",
              "    cursor: pointer;\n",
              "    display: none;\n",
              "    fill: #1967D2;\n",
              "    height: 32px;\n",
              "    padding: 0 0 0 0;\n",
              "    width: 32px;\n",
              "  }\n",
              "\n",
              "  .colab-df-quickchart:hover {\n",
              "    background-color: #E2EBFA;\n",
              "    box-shadow: 0px 1px 2px rgba(60, 64, 67, 0.3), 0px 1px 3px 1px rgba(60, 64, 67, 0.15);\n",
              "    fill: #174EA6;\n",
              "  }\n",
              "\n",
              "  [theme=dark] .colab-df-quickchart {\n",
              "    background-color: #3B4455;\n",
              "    fill: #D2E3FC;\n",
              "  }\n",
              "\n",
              "  [theme=dark] .colab-df-quickchart:hover {\n",
              "    background-color: #434B5C;\n",
              "    box-shadow: 0px 1px 3px 1px rgba(0, 0, 0, 0.15);\n",
              "    filter: drop-shadow(0px 1px 2px rgba(0, 0, 0, 0.3));\n",
              "    fill: #FFFFFF;\n",
              "  }\n",
              "</style>\n",
              "\n",
              "    <script>\n",
              "      async function quickchart(key) {\n",
              "        const containerElement = document.querySelector('#' + key);\n",
              "        const charts = await google.colab.kernel.invokeFunction(\n",
              "            'suggestCharts', [key], {});\n",
              "      }\n",
              "    </script>\n",
              "\n",
              "\n",
              "      <script>\n",
              "\n",
              "function displayQuickchartButton(domScope) {\n",
              "  let quickchartButtonEl =\n",
              "    domScope.querySelector('#df-fdc47184-5690-4f32-babd-1fd5712beba2 button.colab-df-quickchart');\n",
              "  quickchartButtonEl.style.display =\n",
              "    google.colab.kernel.accessAllowed ? 'block' : 'none';\n",
              "}\n",
              "\n",
              "        displayQuickchartButton(document);\n",
              "      </script>\n",
              "      <style>\n",
              "    .colab-df-container {\n",
              "      display:flex;\n",
              "      flex-wrap:wrap;\n",
              "      gap: 12px;\n",
              "    }\n",
              "\n",
              "    .colab-df-convert {\n",
              "      background-color: #E8F0FE;\n",
              "      border: none;\n",
              "      border-radius: 50%;\n",
              "      cursor: pointer;\n",
              "      display: none;\n",
              "      fill: #1967D2;\n",
              "      height: 32px;\n",
              "      padding: 0 0 0 0;\n",
              "      width: 32px;\n",
              "    }\n",
              "\n",
              "    .colab-df-convert:hover {\n",
              "      background-color: #E2EBFA;\n",
              "      box-shadow: 0px 1px 2px rgba(60, 64, 67, 0.3), 0px 1px 3px 1px rgba(60, 64, 67, 0.15);\n",
              "      fill: #174EA6;\n",
              "    }\n",
              "\n",
              "    [theme=dark] .colab-df-convert {\n",
              "      background-color: #3B4455;\n",
              "      fill: #D2E3FC;\n",
              "    }\n",
              "\n",
              "    [theme=dark] .colab-df-convert:hover {\n",
              "      background-color: #434B5C;\n",
              "      box-shadow: 0px 1px 3px 1px rgba(0, 0, 0, 0.15);\n",
              "      filter: drop-shadow(0px 1px 2px rgba(0, 0, 0, 0.3));\n",
              "      fill: #FFFFFF;\n",
              "    }\n",
              "  </style>\n",
              "\n",
              "      <script>\n",
              "        const buttonEl =\n",
              "          document.querySelector('#df-207282f1-6bd7-4748-ad85-03ec2bae2e53 button.colab-df-convert');\n",
              "        buttonEl.style.display =\n",
              "          google.colab.kernel.accessAllowed ? 'block' : 'none';\n",
              "\n",
              "        async function convertToInteractive(key) {\n",
              "          const element = document.querySelector('#df-207282f1-6bd7-4748-ad85-03ec2bae2e53');\n",
              "          const dataTable =\n",
              "            await google.colab.kernel.invokeFunction('convertToInteractive',\n",
              "                                                     [key], {});\n",
              "          if (!dataTable) return;\n",
              "\n",
              "          const docLinkHtml = 'Like what you see? Visit the ' +\n",
              "            '<a target=\"_blank\" href=https://colab.research.google.com/notebooks/data_table.ipynb>data table notebook</a>'\n",
              "            + ' to learn more about interactive tables.';\n",
              "          element.innerHTML = '';\n",
              "          dataTable['output_type'] = 'display_data';\n",
              "          await google.colab.output.renderOutput(dataTable, element);\n",
              "          const docLink = document.createElement('div');\n",
              "          docLink.innerHTML = docLinkHtml;\n",
              "          element.appendChild(docLink);\n",
              "        }\n",
              "      </script>\n",
              "    </div>\n",
              "  </div>\n"
            ]
          },
          "metadata": {},
          "execution_count": 5
        }
      ],
      "source": [
        "data_0[data_0.duplicated(subset='id', keep=False)].sort_values('id')"
      ]
    },
    {
      "cell_type": "code",
      "execution_count": 6,
      "metadata": {
        "colab": {
          "base_uri": "https://localhost:8080/"
        },
        "id": "vHMLW5IJuEBU",
        "outputId": "f60a193d-0159-406a-f2a2-80aee57294f0"
      },
      "outputs": [
        {
          "output_type": "stream",
          "name": "stdout",
          "text": [
            "          id        f0        f1        f2     product\n",
            "0      txEyH  0.705745 -0.497823  1.221170  105.280062\n",
            "1      2acmU  1.334711 -0.340164  4.365080   73.037750\n",
            "2      409Wp  1.022732  0.151990  1.419926   85.265647\n",
            "3      iJLyR -0.032172  0.139033  2.978566  168.620776\n",
            "4      Xdl7t  1.988431  0.155413  4.751769  154.036647\n",
            "...      ...       ...       ...       ...         ...\n",
            "99995  DLsed  0.971957  0.370953  6.075346  110.744026\n",
            "99996  QKivN  1.392429 -0.382606  1.273912  122.346843\n",
            "99997  3rnvd  1.029585  0.018787 -1.348308   64.375443\n",
            "99998  7kl59  0.998163 -0.528582  1.583869   74.040764\n",
            "99999  1CWhH  1.764754 -0.266417  5.722849  149.633246\n",
            "\n",
            "[99990 rows x 5 columns]\n"
          ]
        }
      ],
      "source": [
        "data_0.drop_duplicates(['id'], inplace=True)\n",
        "print(data_0)"
      ]
    },
    {
      "cell_type": "code",
      "execution_count": 7,
      "metadata": {
        "colab": {
          "base_uri": "https://localhost:8080/",
          "height": 301
        },
        "id": "avcWcuQOuEBV",
        "outputId": "18d40d9d-f292-4414-8ce5-636e910de85b"
      },
      "outputs": [
        {
          "output_type": "execute_result",
          "data": {
            "text/plain": [
              "          id         f0         f1        f2     product\n",
              "5849   5ltQ6  -3.435401 -12.296043  1.999796   57.085625\n",
              "84461  5ltQ6  18.213839   2.191999  3.993869  107.813044\n",
              "1305   LHZR0  11.170835  -1.945066  3.002872   80.859783\n",
              "41906  LHZR0  -8.989672  -4.286607  2.009139   57.085625\n",
              "2721   bfPNe  -9.494442  -5.463692  4.006042  110.992147\n",
              "82178  bfPNe  -6.202799  -4.820045  2.995107   84.038886\n",
              "47591  wt4Uk  -9.091098  -8.109279 -0.002314    3.179103\n",
              "82873  wt4Uk  10.259972  -9.376355  4.994297  134.766305"
            ],
            "text/html": [
              "\n",
              "\n",
              "  <div id=\"df-1346f5a1-e2ff-4b0e-9ef3-d3f1a0685ccd\">\n",
              "    <div class=\"colab-df-container\">\n",
              "      <div>\n",
              "<style scoped>\n",
              "    .dataframe tbody tr th:only-of-type {\n",
              "        vertical-align: middle;\n",
              "    }\n",
              "\n",
              "    .dataframe tbody tr th {\n",
              "        vertical-align: top;\n",
              "    }\n",
              "\n",
              "    .dataframe thead th {\n",
              "        text-align: right;\n",
              "    }\n",
              "</style>\n",
              "<table border=\"1\" class=\"dataframe\">\n",
              "  <thead>\n",
              "    <tr style=\"text-align: right;\">\n",
              "      <th></th>\n",
              "      <th>id</th>\n",
              "      <th>f0</th>\n",
              "      <th>f1</th>\n",
              "      <th>f2</th>\n",
              "      <th>product</th>\n",
              "    </tr>\n",
              "  </thead>\n",
              "  <tbody>\n",
              "    <tr>\n",
              "      <th>5849</th>\n",
              "      <td>5ltQ6</td>\n",
              "      <td>-3.435401</td>\n",
              "      <td>-12.296043</td>\n",
              "      <td>1.999796</td>\n",
              "      <td>57.085625</td>\n",
              "    </tr>\n",
              "    <tr>\n",
              "      <th>84461</th>\n",
              "      <td>5ltQ6</td>\n",
              "      <td>18.213839</td>\n",
              "      <td>2.191999</td>\n",
              "      <td>3.993869</td>\n",
              "      <td>107.813044</td>\n",
              "    </tr>\n",
              "    <tr>\n",
              "      <th>1305</th>\n",
              "      <td>LHZR0</td>\n",
              "      <td>11.170835</td>\n",
              "      <td>-1.945066</td>\n",
              "      <td>3.002872</td>\n",
              "      <td>80.859783</td>\n",
              "    </tr>\n",
              "    <tr>\n",
              "      <th>41906</th>\n",
              "      <td>LHZR0</td>\n",
              "      <td>-8.989672</td>\n",
              "      <td>-4.286607</td>\n",
              "      <td>2.009139</td>\n",
              "      <td>57.085625</td>\n",
              "    </tr>\n",
              "    <tr>\n",
              "      <th>2721</th>\n",
              "      <td>bfPNe</td>\n",
              "      <td>-9.494442</td>\n",
              "      <td>-5.463692</td>\n",
              "      <td>4.006042</td>\n",
              "      <td>110.992147</td>\n",
              "    </tr>\n",
              "    <tr>\n",
              "      <th>82178</th>\n",
              "      <td>bfPNe</td>\n",
              "      <td>-6.202799</td>\n",
              "      <td>-4.820045</td>\n",
              "      <td>2.995107</td>\n",
              "      <td>84.038886</td>\n",
              "    </tr>\n",
              "    <tr>\n",
              "      <th>47591</th>\n",
              "      <td>wt4Uk</td>\n",
              "      <td>-9.091098</td>\n",
              "      <td>-8.109279</td>\n",
              "      <td>-0.002314</td>\n",
              "      <td>3.179103</td>\n",
              "    </tr>\n",
              "    <tr>\n",
              "      <th>82873</th>\n",
              "      <td>wt4Uk</td>\n",
              "      <td>10.259972</td>\n",
              "      <td>-9.376355</td>\n",
              "      <td>4.994297</td>\n",
              "      <td>134.766305</td>\n",
              "    </tr>\n",
              "  </tbody>\n",
              "</table>\n",
              "</div>\n",
              "      <button class=\"colab-df-convert\" onclick=\"convertToInteractive('df-1346f5a1-e2ff-4b0e-9ef3-d3f1a0685ccd')\"\n",
              "              title=\"Convert this dataframe to an interactive table.\"\n",
              "              style=\"display:none;\">\n",
              "\n",
              "  <svg xmlns=\"http://www.w3.org/2000/svg\" height=\"24px\"viewBox=\"0 0 24 24\"\n",
              "       width=\"24px\">\n",
              "    <path d=\"M0 0h24v24H0V0z\" fill=\"none\"/>\n",
              "    <path d=\"M18.56 5.44l.94 2.06.94-2.06 2.06-.94-2.06-.94-.94-2.06-.94 2.06-2.06.94zm-11 1L8.5 8.5l.94-2.06 2.06-.94-2.06-.94L8.5 2.5l-.94 2.06-2.06.94zm10 10l.94 2.06.94-2.06 2.06-.94-2.06-.94-.94-2.06-.94 2.06-2.06.94z\"/><path d=\"M17.41 7.96l-1.37-1.37c-.4-.4-.92-.59-1.43-.59-.52 0-1.04.2-1.43.59L10.3 9.45l-7.72 7.72c-.78.78-.78 2.05 0 2.83L4 21.41c.39.39.9.59 1.41.59.51 0 1.02-.2 1.41-.59l7.78-7.78 2.81-2.81c.8-.78.8-2.07 0-2.86zM5.41 20L4 18.59l7.72-7.72 1.47 1.35L5.41 20z\"/>\n",
              "  </svg>\n",
              "      </button>\n",
              "\n",
              "\n",
              "\n",
              "    <div id=\"df-cace1a1e-ef5f-457e-8ca5-d293fb78d76b\">\n",
              "      <button class=\"colab-df-quickchart\" onclick=\"quickchart('df-cace1a1e-ef5f-457e-8ca5-d293fb78d76b')\"\n",
              "              title=\"Suggest charts.\"\n",
              "              style=\"display:none;\">\n",
              "\n",
              "<svg xmlns=\"http://www.w3.org/2000/svg\" height=\"24px\"viewBox=\"0 0 24 24\"\n",
              "     width=\"24px\">\n",
              "    <g>\n",
              "        <path d=\"M19 3H5c-1.1 0-2 .9-2 2v14c0 1.1.9 2 2 2h14c1.1 0 2-.9 2-2V5c0-1.1-.9-2-2-2zM9 17H7v-7h2v7zm4 0h-2V7h2v10zm4 0h-2v-4h2v4z\"/>\n",
              "    </g>\n",
              "</svg>\n",
              "      </button>\n",
              "    </div>\n",
              "\n",
              "<style>\n",
              "  .colab-df-quickchart {\n",
              "    background-color: #E8F0FE;\n",
              "    border: none;\n",
              "    border-radius: 50%;\n",
              "    cursor: pointer;\n",
              "    display: none;\n",
              "    fill: #1967D2;\n",
              "    height: 32px;\n",
              "    padding: 0 0 0 0;\n",
              "    width: 32px;\n",
              "  }\n",
              "\n",
              "  .colab-df-quickchart:hover {\n",
              "    background-color: #E2EBFA;\n",
              "    box-shadow: 0px 1px 2px rgba(60, 64, 67, 0.3), 0px 1px 3px 1px rgba(60, 64, 67, 0.15);\n",
              "    fill: #174EA6;\n",
              "  }\n",
              "\n",
              "  [theme=dark] .colab-df-quickchart {\n",
              "    background-color: #3B4455;\n",
              "    fill: #D2E3FC;\n",
              "  }\n",
              "\n",
              "  [theme=dark] .colab-df-quickchart:hover {\n",
              "    background-color: #434B5C;\n",
              "    box-shadow: 0px 1px 3px 1px rgba(0, 0, 0, 0.15);\n",
              "    filter: drop-shadow(0px 1px 2px rgba(0, 0, 0, 0.3));\n",
              "    fill: #FFFFFF;\n",
              "  }\n",
              "</style>\n",
              "\n",
              "    <script>\n",
              "      async function quickchart(key) {\n",
              "        const containerElement = document.querySelector('#' + key);\n",
              "        const charts = await google.colab.kernel.invokeFunction(\n",
              "            'suggestCharts', [key], {});\n",
              "      }\n",
              "    </script>\n",
              "\n",
              "\n",
              "      <script>\n",
              "\n",
              "function displayQuickchartButton(domScope) {\n",
              "  let quickchartButtonEl =\n",
              "    domScope.querySelector('#df-cace1a1e-ef5f-457e-8ca5-d293fb78d76b button.colab-df-quickchart');\n",
              "  quickchartButtonEl.style.display =\n",
              "    google.colab.kernel.accessAllowed ? 'block' : 'none';\n",
              "}\n",
              "\n",
              "        displayQuickchartButton(document);\n",
              "      </script>\n",
              "      <style>\n",
              "    .colab-df-container {\n",
              "      display:flex;\n",
              "      flex-wrap:wrap;\n",
              "      gap: 12px;\n",
              "    }\n",
              "\n",
              "    .colab-df-convert {\n",
              "      background-color: #E8F0FE;\n",
              "      border: none;\n",
              "      border-radius: 50%;\n",
              "      cursor: pointer;\n",
              "      display: none;\n",
              "      fill: #1967D2;\n",
              "      height: 32px;\n",
              "      padding: 0 0 0 0;\n",
              "      width: 32px;\n",
              "    }\n",
              "\n",
              "    .colab-df-convert:hover {\n",
              "      background-color: #E2EBFA;\n",
              "      box-shadow: 0px 1px 2px rgba(60, 64, 67, 0.3), 0px 1px 3px 1px rgba(60, 64, 67, 0.15);\n",
              "      fill: #174EA6;\n",
              "    }\n",
              "\n",
              "    [theme=dark] .colab-df-convert {\n",
              "      background-color: #3B4455;\n",
              "      fill: #D2E3FC;\n",
              "    }\n",
              "\n",
              "    [theme=dark] .colab-df-convert:hover {\n",
              "      background-color: #434B5C;\n",
              "      box-shadow: 0px 1px 3px 1px rgba(0, 0, 0, 0.15);\n",
              "      filter: drop-shadow(0px 1px 2px rgba(0, 0, 0, 0.3));\n",
              "      fill: #FFFFFF;\n",
              "    }\n",
              "  </style>\n",
              "\n",
              "      <script>\n",
              "        const buttonEl =\n",
              "          document.querySelector('#df-1346f5a1-e2ff-4b0e-9ef3-d3f1a0685ccd button.colab-df-convert');\n",
              "        buttonEl.style.display =\n",
              "          google.colab.kernel.accessAllowed ? 'block' : 'none';\n",
              "\n",
              "        async function convertToInteractive(key) {\n",
              "          const element = document.querySelector('#df-1346f5a1-e2ff-4b0e-9ef3-d3f1a0685ccd');\n",
              "          const dataTable =\n",
              "            await google.colab.kernel.invokeFunction('convertToInteractive',\n",
              "                                                     [key], {});\n",
              "          if (!dataTable) return;\n",
              "\n",
              "          const docLinkHtml = 'Like what you see? Visit the ' +\n",
              "            '<a target=\"_blank\" href=https://colab.research.google.com/notebooks/data_table.ipynb>data table notebook</a>'\n",
              "            + ' to learn more about interactive tables.';\n",
              "          element.innerHTML = '';\n",
              "          dataTable['output_type'] = 'display_data';\n",
              "          await google.colab.output.renderOutput(dataTable, element);\n",
              "          const docLink = document.createElement('div');\n",
              "          docLink.innerHTML = docLinkHtml;\n",
              "          element.appendChild(docLink);\n",
              "        }\n",
              "      </script>\n",
              "    </div>\n",
              "  </div>\n"
            ]
          },
          "metadata": {},
          "execution_count": 7
        }
      ],
      "source": [
        "data_1[data_1.duplicated(subset='id', keep=False)].sort_values('id')"
      ]
    },
    {
      "cell_type": "code",
      "execution_count": 8,
      "metadata": {
        "id": "cv8AyukxuEBW"
      },
      "outputs": [],
      "source": [
        "data_1.drop_duplicates(['id'], inplace=True)"
      ]
    },
    {
      "cell_type": "code",
      "execution_count": 9,
      "metadata": {
        "colab": {
          "base_uri": "https://localhost:8080/",
          "height": 301
        },
        "id": "80X2mtX4uEBX",
        "outputId": "2b5f66bc-d057-4e53-a565-2a339c8cf6b8"
      },
      "outputs": [
        {
          "output_type": "execute_result",
          "data": {
            "text/plain": [
              "          id        f0        f1        f2     product\n",
              "45404  KUPhW  0.231846 -1.698941  4.990775   11.716299\n",
              "55967  KUPhW  1.211150  3.176408  5.543540  132.831802\n",
              "11449  VF7Jo  2.122656 -0.858275  5.746001  181.716817\n",
              "49564  VF7Jo -0.883115  0.560537  0.723601  136.233420\n",
              "44378  Vcm5J -1.229484 -2.439204  1.222909  137.968290\n",
              "95090  Vcm5J  2.587702  1.986875  2.482245   92.327572\n",
              "28039  xCHr8  1.633027  0.368135 -2.378367    6.120525\n",
              "43233  xCHr8 -0.847066  2.101796  5.597130  184.388641"
            ],
            "text/html": [
              "\n",
              "\n",
              "  <div id=\"df-ee9bc2a3-b709-4f29-a870-4b571798827a\">\n",
              "    <div class=\"colab-df-container\">\n",
              "      <div>\n",
              "<style scoped>\n",
              "    .dataframe tbody tr th:only-of-type {\n",
              "        vertical-align: middle;\n",
              "    }\n",
              "\n",
              "    .dataframe tbody tr th {\n",
              "        vertical-align: top;\n",
              "    }\n",
              "\n",
              "    .dataframe thead th {\n",
              "        text-align: right;\n",
              "    }\n",
              "</style>\n",
              "<table border=\"1\" class=\"dataframe\">\n",
              "  <thead>\n",
              "    <tr style=\"text-align: right;\">\n",
              "      <th></th>\n",
              "      <th>id</th>\n",
              "      <th>f0</th>\n",
              "      <th>f1</th>\n",
              "      <th>f2</th>\n",
              "      <th>product</th>\n",
              "    </tr>\n",
              "  </thead>\n",
              "  <tbody>\n",
              "    <tr>\n",
              "      <th>45404</th>\n",
              "      <td>KUPhW</td>\n",
              "      <td>0.231846</td>\n",
              "      <td>-1.698941</td>\n",
              "      <td>4.990775</td>\n",
              "      <td>11.716299</td>\n",
              "    </tr>\n",
              "    <tr>\n",
              "      <th>55967</th>\n",
              "      <td>KUPhW</td>\n",
              "      <td>1.211150</td>\n",
              "      <td>3.176408</td>\n",
              "      <td>5.543540</td>\n",
              "      <td>132.831802</td>\n",
              "    </tr>\n",
              "    <tr>\n",
              "      <th>11449</th>\n",
              "      <td>VF7Jo</td>\n",
              "      <td>2.122656</td>\n",
              "      <td>-0.858275</td>\n",
              "      <td>5.746001</td>\n",
              "      <td>181.716817</td>\n",
              "    </tr>\n",
              "    <tr>\n",
              "      <th>49564</th>\n",
              "      <td>VF7Jo</td>\n",
              "      <td>-0.883115</td>\n",
              "      <td>0.560537</td>\n",
              "      <td>0.723601</td>\n",
              "      <td>136.233420</td>\n",
              "    </tr>\n",
              "    <tr>\n",
              "      <th>44378</th>\n",
              "      <td>Vcm5J</td>\n",
              "      <td>-1.229484</td>\n",
              "      <td>-2.439204</td>\n",
              "      <td>1.222909</td>\n",
              "      <td>137.968290</td>\n",
              "    </tr>\n",
              "    <tr>\n",
              "      <th>95090</th>\n",
              "      <td>Vcm5J</td>\n",
              "      <td>2.587702</td>\n",
              "      <td>1.986875</td>\n",
              "      <td>2.482245</td>\n",
              "      <td>92.327572</td>\n",
              "    </tr>\n",
              "    <tr>\n",
              "      <th>28039</th>\n",
              "      <td>xCHr8</td>\n",
              "      <td>1.633027</td>\n",
              "      <td>0.368135</td>\n",
              "      <td>-2.378367</td>\n",
              "      <td>6.120525</td>\n",
              "    </tr>\n",
              "    <tr>\n",
              "      <th>43233</th>\n",
              "      <td>xCHr8</td>\n",
              "      <td>-0.847066</td>\n",
              "      <td>2.101796</td>\n",
              "      <td>5.597130</td>\n",
              "      <td>184.388641</td>\n",
              "    </tr>\n",
              "  </tbody>\n",
              "</table>\n",
              "</div>\n",
              "      <button class=\"colab-df-convert\" onclick=\"convertToInteractive('df-ee9bc2a3-b709-4f29-a870-4b571798827a')\"\n",
              "              title=\"Convert this dataframe to an interactive table.\"\n",
              "              style=\"display:none;\">\n",
              "\n",
              "  <svg xmlns=\"http://www.w3.org/2000/svg\" height=\"24px\"viewBox=\"0 0 24 24\"\n",
              "       width=\"24px\">\n",
              "    <path d=\"M0 0h24v24H0V0z\" fill=\"none\"/>\n",
              "    <path d=\"M18.56 5.44l.94 2.06.94-2.06 2.06-.94-2.06-.94-.94-2.06-.94 2.06-2.06.94zm-11 1L8.5 8.5l.94-2.06 2.06-.94-2.06-.94L8.5 2.5l-.94 2.06-2.06.94zm10 10l.94 2.06.94-2.06 2.06-.94-2.06-.94-.94-2.06-.94 2.06-2.06.94z\"/><path d=\"M17.41 7.96l-1.37-1.37c-.4-.4-.92-.59-1.43-.59-.52 0-1.04.2-1.43.59L10.3 9.45l-7.72 7.72c-.78.78-.78 2.05 0 2.83L4 21.41c.39.39.9.59 1.41.59.51 0 1.02-.2 1.41-.59l7.78-7.78 2.81-2.81c.8-.78.8-2.07 0-2.86zM5.41 20L4 18.59l7.72-7.72 1.47 1.35L5.41 20z\"/>\n",
              "  </svg>\n",
              "      </button>\n",
              "\n",
              "\n",
              "\n",
              "    <div id=\"df-c7f3311f-3627-466e-9a3a-ef1507344439\">\n",
              "      <button class=\"colab-df-quickchart\" onclick=\"quickchart('df-c7f3311f-3627-466e-9a3a-ef1507344439')\"\n",
              "              title=\"Suggest charts.\"\n",
              "              style=\"display:none;\">\n",
              "\n",
              "<svg xmlns=\"http://www.w3.org/2000/svg\" height=\"24px\"viewBox=\"0 0 24 24\"\n",
              "     width=\"24px\">\n",
              "    <g>\n",
              "        <path d=\"M19 3H5c-1.1 0-2 .9-2 2v14c0 1.1.9 2 2 2h14c1.1 0 2-.9 2-2V5c0-1.1-.9-2-2-2zM9 17H7v-7h2v7zm4 0h-2V7h2v10zm4 0h-2v-4h2v4z\"/>\n",
              "    </g>\n",
              "</svg>\n",
              "      </button>\n",
              "    </div>\n",
              "\n",
              "<style>\n",
              "  .colab-df-quickchart {\n",
              "    background-color: #E8F0FE;\n",
              "    border: none;\n",
              "    border-radius: 50%;\n",
              "    cursor: pointer;\n",
              "    display: none;\n",
              "    fill: #1967D2;\n",
              "    height: 32px;\n",
              "    padding: 0 0 0 0;\n",
              "    width: 32px;\n",
              "  }\n",
              "\n",
              "  .colab-df-quickchart:hover {\n",
              "    background-color: #E2EBFA;\n",
              "    box-shadow: 0px 1px 2px rgba(60, 64, 67, 0.3), 0px 1px 3px 1px rgba(60, 64, 67, 0.15);\n",
              "    fill: #174EA6;\n",
              "  }\n",
              "\n",
              "  [theme=dark] .colab-df-quickchart {\n",
              "    background-color: #3B4455;\n",
              "    fill: #D2E3FC;\n",
              "  }\n",
              "\n",
              "  [theme=dark] .colab-df-quickchart:hover {\n",
              "    background-color: #434B5C;\n",
              "    box-shadow: 0px 1px 3px 1px rgba(0, 0, 0, 0.15);\n",
              "    filter: drop-shadow(0px 1px 2px rgba(0, 0, 0, 0.3));\n",
              "    fill: #FFFFFF;\n",
              "  }\n",
              "</style>\n",
              "\n",
              "    <script>\n",
              "      async function quickchart(key) {\n",
              "        const containerElement = document.querySelector('#' + key);\n",
              "        const charts = await google.colab.kernel.invokeFunction(\n",
              "            'suggestCharts', [key], {});\n",
              "      }\n",
              "    </script>\n",
              "\n",
              "\n",
              "      <script>\n",
              "\n",
              "function displayQuickchartButton(domScope) {\n",
              "  let quickchartButtonEl =\n",
              "    domScope.querySelector('#df-c7f3311f-3627-466e-9a3a-ef1507344439 button.colab-df-quickchart');\n",
              "  quickchartButtonEl.style.display =\n",
              "    google.colab.kernel.accessAllowed ? 'block' : 'none';\n",
              "}\n",
              "\n",
              "        displayQuickchartButton(document);\n",
              "      </script>\n",
              "      <style>\n",
              "    .colab-df-container {\n",
              "      display:flex;\n",
              "      flex-wrap:wrap;\n",
              "      gap: 12px;\n",
              "    }\n",
              "\n",
              "    .colab-df-convert {\n",
              "      background-color: #E8F0FE;\n",
              "      border: none;\n",
              "      border-radius: 50%;\n",
              "      cursor: pointer;\n",
              "      display: none;\n",
              "      fill: #1967D2;\n",
              "      height: 32px;\n",
              "      padding: 0 0 0 0;\n",
              "      width: 32px;\n",
              "    }\n",
              "\n",
              "    .colab-df-convert:hover {\n",
              "      background-color: #E2EBFA;\n",
              "      box-shadow: 0px 1px 2px rgba(60, 64, 67, 0.3), 0px 1px 3px 1px rgba(60, 64, 67, 0.15);\n",
              "      fill: #174EA6;\n",
              "    }\n",
              "\n",
              "    [theme=dark] .colab-df-convert {\n",
              "      background-color: #3B4455;\n",
              "      fill: #D2E3FC;\n",
              "    }\n",
              "\n",
              "    [theme=dark] .colab-df-convert:hover {\n",
              "      background-color: #434B5C;\n",
              "      box-shadow: 0px 1px 3px 1px rgba(0, 0, 0, 0.15);\n",
              "      filter: drop-shadow(0px 1px 2px rgba(0, 0, 0, 0.3));\n",
              "      fill: #FFFFFF;\n",
              "    }\n",
              "  </style>\n",
              "\n",
              "      <script>\n",
              "        const buttonEl =\n",
              "          document.querySelector('#df-ee9bc2a3-b709-4f29-a870-4b571798827a button.colab-df-convert');\n",
              "        buttonEl.style.display =\n",
              "          google.colab.kernel.accessAllowed ? 'block' : 'none';\n",
              "\n",
              "        async function convertToInteractive(key) {\n",
              "          const element = document.querySelector('#df-ee9bc2a3-b709-4f29-a870-4b571798827a');\n",
              "          const dataTable =\n",
              "            await google.colab.kernel.invokeFunction('convertToInteractive',\n",
              "                                                     [key], {});\n",
              "          if (!dataTable) return;\n",
              "\n",
              "          const docLinkHtml = 'Like what you see? Visit the ' +\n",
              "            '<a target=\"_blank\" href=https://colab.research.google.com/notebooks/data_table.ipynb>data table notebook</a>'\n",
              "            + ' to learn more about interactive tables.';\n",
              "          element.innerHTML = '';\n",
              "          dataTable['output_type'] = 'display_data';\n",
              "          await google.colab.output.renderOutput(dataTable, element);\n",
              "          const docLink = document.createElement('div');\n",
              "          docLink.innerHTML = docLinkHtml;\n",
              "          element.appendChild(docLink);\n",
              "        }\n",
              "      </script>\n",
              "    </div>\n",
              "  </div>\n"
            ]
          },
          "metadata": {},
          "execution_count": 9
        }
      ],
      "source": [
        "data_2[data_2.duplicated(subset='id', keep=False)].sort_values('id')"
      ]
    },
    {
      "cell_type": "code",
      "execution_count": 10,
      "metadata": {
        "id": "1WrTn8EluEBX"
      },
      "outputs": [],
      "source": [
        "data_2.drop_duplicates(['id'], inplace=True)"
      ]
    },
    {
      "cell_type": "code",
      "execution_count": 11,
      "metadata": {
        "colab": {
          "base_uri": "https://localhost:8080/"
        },
        "id": "2-u2M6SbuEBY",
        "outputId": "69aac672-78d6-4402-8a56-15527d490cc3"
      },
      "outputs": [
        {
          "output_type": "stream",
          "name": "stdout",
          "text": [
            "          id        f0        f1        f2     product\n",
            "0      txEyH  0.705745 -0.497823  1.221170  105.280062\n",
            "1      2acmU  1.334711 -0.340164  4.365080   73.037750\n",
            "2      409Wp  1.022732  0.151990  1.419926   85.265647\n",
            "3      iJLyR -0.032172  0.139033  2.978566  168.620776\n",
            "4      Xdl7t  1.988431  0.155413  4.751769  154.036647\n",
            "...      ...       ...       ...       ...         ...\n",
            "99995  DLsed  0.971957  0.370953  6.075346  110.744026\n",
            "99996  QKivN  1.392429 -0.382606  1.273912  122.346843\n",
            "99997  3rnvd  1.029585  0.018787 -1.348308   64.375443\n",
            "99998  7kl59  0.998163 -0.528582  1.583869   74.040764\n",
            "99999  1CWhH  1.764754 -0.266417  5.722849  149.633246\n",
            "\n",
            "[99990 rows x 5 columns]\n"
          ]
        }
      ],
      "source": [
        "print(data_0)"
      ]
    },
    {
      "cell_type": "markdown",
      "metadata": {
        "id": "i_Ji7DKquEBZ"
      },
      "source": [
        "**В итоге:**\n",
        "\n",
        "1. Выгрузила данные, посмотрела есть ли пропуски.\n",
        "2. Проверила дубликаты, тип данных.\n",
        "3. Удалила дубликаты. Их немного, похоже это были предыдущие замеры."
      ]
    },
    {
      "cell_type": "markdown",
      "metadata": {
        "id": "SPjB8EXcuEBa"
      },
      "source": [
        "## Обучение и проверка модели"
      ]
    },
    {
      "cell_type": "markdown",
      "metadata": {
        "id": "McoSJG6JuEBa"
      },
      "source": [
        "<u>Обучение 1 модели</u>"
      ]
    },
    {
      "cell_type": "code",
      "execution_count": 12,
      "metadata": {
        "colab": {
          "base_uri": "https://localhost:8080/"
        },
        "id": "3BtGnzwRuEBa",
        "outputId": "c6dc406d-6490-453e-b1b6-f9b962649f00"
      },
      "outputs": [
        {
          "output_type": "stream",
          "name": "stdout",
          "text": [
            "(74992, 3)\n",
            "(74992,)\n",
            "(24998, 3)\n",
            "(24998,)\n"
          ]
        }
      ],
      "source": [
        "train_0, valid_0 = train_test_split(data_0, test_size = 0.25, random_state=12345)\n",
        "features_train_0 = train_0.drop(['id','product'], axis=1)\n",
        "target_train_0 = train_0['product']\n",
        "features_valid_0 = valid_0.drop(['id','product'], axis=1)\n",
        "target_valid_0 = valid_0['product']\n",
        "\n",
        "ml0= [features_train_0, target_train_0, features_valid_0, target_valid_0]\n",
        "for i in ml0:\n",
        "  print(i.shape)"
      ]
    },
    {
      "cell_type": "code",
      "execution_count": 13,
      "metadata": {
        "scrolled": true,
        "colab": {
          "base_uri": "https://localhost:8080/"
        },
        "id": "DZyfn3ncuEBb",
        "outputId": "5c35ef54-63c6-40f2-9905-cd2780a410bf"
      },
      "outputs": [
        {
          "output_type": "stream",
          "name": "stdout",
          "text": [
            "[[ 0.77628656 -1.25512042 -0.06752751]\n",
            " [-1.58037754 -0.17670418 -1.28179535]\n",
            " [-0.64631932  0.13696619 -0.50542993]\n",
            " ...\n",
            " [ 0.41706672 -1.29709735 -0.19483864]\n",
            " [-0.62852588  1.5548936  -1.23942191]\n",
            " [ 0.93757021 -1.5024128  -1.62623282]]\n"
          ]
        }
      ],
      "source": [
        "scaler_0 = StandardScaler()\n",
        "\n",
        "scaler_0.fit(features_train_0)\n",
        "features_train_0 = scaler_0.transform(features_train_0)\n",
        "features_valid_0 = scaler_0.transform(features_valid_0)\n",
        "print(features_train_0)"
      ]
    },
    {
      "cell_type": "code",
      "execution_count": 14,
      "metadata": {
        "id": "B0J7lfHluEBc"
      },
      "outputs": [],
      "source": [
        "model_0 = LinearRegression()\n",
        "model_0.fit(features_train_0, target_train_0)\n",
        "predictions_0 = model_0.predict(features_valid_0)\n",
        "rmse_0 = mean_squared_error(target_valid_0, predictions_0) ** 0.5\n",
        "pred_mean_0 = predictions_0.mean()"
      ]
    },
    {
      "cell_type": "markdown",
      "metadata": {
        "id": "T_Vk80SfuEBd"
      },
      "source": [
        "<u>Обучение 2 модели</u>"
      ]
    },
    {
      "cell_type": "code",
      "execution_count": 15,
      "metadata": {
        "colab": {
          "base_uri": "https://localhost:8080/"
        },
        "id": "bq3eIuMmuEBd",
        "outputId": "4ee45d12-7da9-4ae4-9cea-1d6fb5171df9"
      },
      "outputs": [
        {
          "output_type": "stream",
          "name": "stdout",
          "text": [
            "(74997, 3)\n",
            "(74997,)\n",
            "(24999, 3)\n",
            "(24999,)\n"
          ]
        }
      ],
      "source": [
        "train_1, valid_1 = train_test_split(data_1, test_size = 0.25, random_state=12345)\n",
        "features_train_1 = train_1.drop(['id','product'], axis=1)\n",
        "target_train_1 = train_1['product']\n",
        "features_valid_1 = valid_1.drop(['id','product'], axis=1)\n",
        "target_valid_1 = valid_1['product']\n",
        "\n",
        "ml1= [features_train_1, target_train_1, features_valid_1, target_valid_1]\n",
        "for i in ml1:\n",
        "  print(i.shape)"
      ]
    },
    {
      "cell_type": "code",
      "execution_count": 16,
      "metadata": {
        "colab": {
          "base_uri": "https://localhost:8080/"
        },
        "id": "gaL8zKu8uEBd",
        "outputId": "9020ca54-2c4e-4e3c-e204-8390c74986f5"
      },
      "outputs": [
        {
          "output_type": "stream",
          "name": "stdout",
          "text": [
            "[[ 1.96996853  1.83743507  0.29739707]\n",
            " [-0.81462967  1.7292981   0.30341265]\n",
            " [-1.13794929  0.73432669  1.47639755]\n",
            " ...\n",
            " [ 1.04569417 -0.64786067  1.47546075]\n",
            " [-1.10014704 -1.10165172  0.3003845 ]\n",
            " [-0.14693389  0.18166275 -1.45971777]]\n"
          ]
        }
      ],
      "source": [
        "scaler_1 = StandardScaler()\n",
        "\n",
        "scaler_1.fit(features_train_1)\n",
        "features_train_1 = scaler_1.transform(features_train_1)\n",
        "features_valid_1 = scaler_1.transform(features_valid_1)\n",
        "print(features_train_1)"
      ]
    },
    {
      "cell_type": "code",
      "execution_count": 17,
      "metadata": {
        "id": "iB4r-G4EuEBe"
      },
      "outputs": [],
      "source": [
        "model_1 = LinearRegression()\n",
        "model_1.fit(features_train_1, target_train_1)\n",
        "predictions_1 = model_1.predict(features_valid_1)\n",
        "rmse_1 = mean_squared_error(target_valid_1, predictions_1) ** 0.5\n",
        "pred_mean_1 = predictions_1.mean()"
      ]
    },
    {
      "cell_type": "markdown",
      "metadata": {
        "id": "-9fJVwc8uEBf"
      },
      "source": [
        "<u>Обучение 3 модели</u>"
      ]
    },
    {
      "cell_type": "code",
      "execution_count": 18,
      "metadata": {
        "colab": {
          "base_uri": "https://localhost:8080/"
        },
        "id": "Jqc1TyfkuEBg",
        "outputId": "d23ed228-8b7a-4cf2-c86e-9fb26c506c9b"
      },
      "outputs": [
        {
          "output_type": "stream",
          "name": "stdout",
          "text": [
            "(74997, 3)\n",
            "(74997,)\n",
            "(24999, 3)\n",
            "(24999,)\n"
          ]
        }
      ],
      "source": [
        "train_2, valid_2 = train_test_split(data_2, test_size = 0.25, random_state=12345)\n",
        "features_train_2 = train_2.drop(['id','product'], axis=1)\n",
        "target_train_2 = train_2['product']\n",
        "features_valid_2 = valid_2.drop(['id','product'], axis=1)\n",
        "target_valid_2 = valid_2['product']\n",
        "\n",
        "ml2= [features_train_2, target_train_2, features_valid_2, target_valid_2]\n",
        "for i in ml2:\n",
        "  print(i.shape)"
      ]
    },
    {
      "cell_type": "code",
      "execution_count": 19,
      "metadata": {
        "colab": {
          "base_uri": "https://localhost:8080/"
        },
        "id": "FCknApxPuEBg",
        "outputId": "b3bf4900-683f-4e42-f471-8e7173db9be1"
      },
      "outputs": [
        {
          "output_type": "stream",
          "name": "stdout",
          "text": [
            "[[-0.89149166 -0.4048719  -1.22610371]\n",
            " [-0.56695458 -0.0997629   1.10057015]\n",
            " [ 1.63849399 -0.03168196  0.80304173]\n",
            " ...\n",
            " [ 0.36537996  0.79582506  0.6648428 ]\n",
            " [-0.9165434   0.85163998  1.63599776]\n",
            " [ 0.00843773  0.02691125  0.63098462]]\n"
          ]
        }
      ],
      "source": [
        "scaler_2 = StandardScaler()\n",
        "\n",
        "scaler_2.fit(features_train_2)\n",
        "features_train_2 = scaler_2.transform(features_train_2)\n",
        "features_valid_2 = scaler_2.transform(features_valid_2)\n",
        "print(features_train_2)"
      ]
    },
    {
      "cell_type": "code",
      "execution_count": 20,
      "metadata": {
        "id": "6NENrd4nuEBh"
      },
      "outputs": [],
      "source": [
        "model_2 = LinearRegression()\n",
        "model_2.fit(features_train_2, target_train_2)\n",
        "predictions_2 = model_2.predict(features_valid_2)\n",
        "rmse_2 = mean_squared_error(target_valid_2, predictions_2) ** 0.5\n",
        "pred_mean_2 = predictions_2.mean()"
      ]
    },
    {
      "cell_type": "markdown",
      "metadata": {
        "id": "MaT0_Fg8uEBi"
      },
      "source": [
        "\n",
        "Смотрим предсказания запаса и ошибки:"
      ]
    },
    {
      "cell_type": "code",
      "execution_count": 21,
      "metadata": {
        "colab": {
          "base_uri": "https://localhost:8080/",
          "height": 112
        },
        "id": "koVXXeWxuEBi",
        "outputId": "a8e8e865-e450-4f23-cb57-e3fe385ca8d0"
      },
      "outputs": [
        {
          "output_type": "display_data",
          "data": {
            "text/plain": [
              "                             1 регион   2 регион   3 регион\n",
              "Предположит.ср.запас сырья  92.789156  69.178320  94.865725\n",
              "RMSE                        37.853527   0.892059  40.075851"
            ],
            "text/html": [
              "\n",
              "\n",
              "  <div id=\"df-531eb6d9-9f8f-4ca8-a108-82bb78aca47a\">\n",
              "    <div class=\"colab-df-container\">\n",
              "      <div>\n",
              "<style scoped>\n",
              "    .dataframe tbody tr th:only-of-type {\n",
              "        vertical-align: middle;\n",
              "    }\n",
              "\n",
              "    .dataframe tbody tr th {\n",
              "        vertical-align: top;\n",
              "    }\n",
              "\n",
              "    .dataframe thead th {\n",
              "        text-align: right;\n",
              "    }\n",
              "</style>\n",
              "<table border=\"1\" class=\"dataframe\">\n",
              "  <thead>\n",
              "    <tr style=\"text-align: right;\">\n",
              "      <th></th>\n",
              "      <th>1 регион</th>\n",
              "      <th>2 регион</th>\n",
              "      <th>3 регион</th>\n",
              "    </tr>\n",
              "  </thead>\n",
              "  <tbody>\n",
              "    <tr>\n",
              "      <th>Предположит.ср.запас сырья</th>\n",
              "      <td>92.789156</td>\n",
              "      <td>69.178320</td>\n",
              "      <td>94.865725</td>\n",
              "    </tr>\n",
              "    <tr>\n",
              "      <th>RMSE</th>\n",
              "      <td>37.853527</td>\n",
              "      <td>0.892059</td>\n",
              "      <td>40.075851</td>\n",
              "    </tr>\n",
              "  </tbody>\n",
              "</table>\n",
              "</div>\n",
              "      <button class=\"colab-df-convert\" onclick=\"convertToInteractive('df-531eb6d9-9f8f-4ca8-a108-82bb78aca47a')\"\n",
              "              title=\"Convert this dataframe to an interactive table.\"\n",
              "              style=\"display:none;\">\n",
              "\n",
              "  <svg xmlns=\"http://www.w3.org/2000/svg\" height=\"24px\"viewBox=\"0 0 24 24\"\n",
              "       width=\"24px\">\n",
              "    <path d=\"M0 0h24v24H0V0z\" fill=\"none\"/>\n",
              "    <path d=\"M18.56 5.44l.94 2.06.94-2.06 2.06-.94-2.06-.94-.94-2.06-.94 2.06-2.06.94zm-11 1L8.5 8.5l.94-2.06 2.06-.94-2.06-.94L8.5 2.5l-.94 2.06-2.06.94zm10 10l.94 2.06.94-2.06 2.06-.94-2.06-.94-.94-2.06-.94 2.06-2.06.94z\"/><path d=\"M17.41 7.96l-1.37-1.37c-.4-.4-.92-.59-1.43-.59-.52 0-1.04.2-1.43.59L10.3 9.45l-7.72 7.72c-.78.78-.78 2.05 0 2.83L4 21.41c.39.39.9.59 1.41.59.51 0 1.02-.2 1.41-.59l7.78-7.78 2.81-2.81c.8-.78.8-2.07 0-2.86zM5.41 20L4 18.59l7.72-7.72 1.47 1.35L5.41 20z\"/>\n",
              "  </svg>\n",
              "      </button>\n",
              "\n",
              "\n",
              "\n",
              "    <div id=\"df-945a5383-1a9f-44a2-bbfd-4da2d3ab5067\">\n",
              "      <button class=\"colab-df-quickchart\" onclick=\"quickchart('df-945a5383-1a9f-44a2-bbfd-4da2d3ab5067')\"\n",
              "              title=\"Suggest charts.\"\n",
              "              style=\"display:none;\">\n",
              "\n",
              "<svg xmlns=\"http://www.w3.org/2000/svg\" height=\"24px\"viewBox=\"0 0 24 24\"\n",
              "     width=\"24px\">\n",
              "    <g>\n",
              "        <path d=\"M19 3H5c-1.1 0-2 .9-2 2v14c0 1.1.9 2 2 2h14c1.1 0 2-.9 2-2V5c0-1.1-.9-2-2-2zM9 17H7v-7h2v7zm4 0h-2V7h2v10zm4 0h-2v-4h2v4z\"/>\n",
              "    </g>\n",
              "</svg>\n",
              "      </button>\n",
              "    </div>\n",
              "\n",
              "<style>\n",
              "  .colab-df-quickchart {\n",
              "    background-color: #E8F0FE;\n",
              "    border: none;\n",
              "    border-radius: 50%;\n",
              "    cursor: pointer;\n",
              "    display: none;\n",
              "    fill: #1967D2;\n",
              "    height: 32px;\n",
              "    padding: 0 0 0 0;\n",
              "    width: 32px;\n",
              "  }\n",
              "\n",
              "  .colab-df-quickchart:hover {\n",
              "    background-color: #E2EBFA;\n",
              "    box-shadow: 0px 1px 2px rgba(60, 64, 67, 0.3), 0px 1px 3px 1px rgba(60, 64, 67, 0.15);\n",
              "    fill: #174EA6;\n",
              "  }\n",
              "\n",
              "  [theme=dark] .colab-df-quickchart {\n",
              "    background-color: #3B4455;\n",
              "    fill: #D2E3FC;\n",
              "  }\n",
              "\n",
              "  [theme=dark] .colab-df-quickchart:hover {\n",
              "    background-color: #434B5C;\n",
              "    box-shadow: 0px 1px 3px 1px rgba(0, 0, 0, 0.15);\n",
              "    filter: drop-shadow(0px 1px 2px rgba(0, 0, 0, 0.3));\n",
              "    fill: #FFFFFF;\n",
              "  }\n",
              "</style>\n",
              "\n",
              "    <script>\n",
              "      async function quickchart(key) {\n",
              "        const containerElement = document.querySelector('#' + key);\n",
              "        const charts = await google.colab.kernel.invokeFunction(\n",
              "            'suggestCharts', [key], {});\n",
              "      }\n",
              "    </script>\n",
              "\n",
              "\n",
              "      <script>\n",
              "\n",
              "function displayQuickchartButton(domScope) {\n",
              "  let quickchartButtonEl =\n",
              "    domScope.querySelector('#df-945a5383-1a9f-44a2-bbfd-4da2d3ab5067 button.colab-df-quickchart');\n",
              "  quickchartButtonEl.style.display =\n",
              "    google.colab.kernel.accessAllowed ? 'block' : 'none';\n",
              "}\n",
              "\n",
              "        displayQuickchartButton(document);\n",
              "      </script>\n",
              "      <style>\n",
              "    .colab-df-container {\n",
              "      display:flex;\n",
              "      flex-wrap:wrap;\n",
              "      gap: 12px;\n",
              "    }\n",
              "\n",
              "    .colab-df-convert {\n",
              "      background-color: #E8F0FE;\n",
              "      border: none;\n",
              "      border-radius: 50%;\n",
              "      cursor: pointer;\n",
              "      display: none;\n",
              "      fill: #1967D2;\n",
              "      height: 32px;\n",
              "      padding: 0 0 0 0;\n",
              "      width: 32px;\n",
              "    }\n",
              "\n",
              "    .colab-df-convert:hover {\n",
              "      background-color: #E2EBFA;\n",
              "      box-shadow: 0px 1px 2px rgba(60, 64, 67, 0.3), 0px 1px 3px 1px rgba(60, 64, 67, 0.15);\n",
              "      fill: #174EA6;\n",
              "    }\n",
              "\n",
              "    [theme=dark] .colab-df-convert {\n",
              "      background-color: #3B4455;\n",
              "      fill: #D2E3FC;\n",
              "    }\n",
              "\n",
              "    [theme=dark] .colab-df-convert:hover {\n",
              "      background-color: #434B5C;\n",
              "      box-shadow: 0px 1px 3px 1px rgba(0, 0, 0, 0.15);\n",
              "      filter: drop-shadow(0px 1px 2px rgba(0, 0, 0, 0.3));\n",
              "      fill: #FFFFFF;\n",
              "    }\n",
              "  </style>\n",
              "\n",
              "      <script>\n",
              "        const buttonEl =\n",
              "          document.querySelector('#df-531eb6d9-9f8f-4ca8-a108-82bb78aca47a button.colab-df-convert');\n",
              "        buttonEl.style.display =\n",
              "          google.colab.kernel.accessAllowed ? 'block' : 'none';\n",
              "\n",
              "        async function convertToInteractive(key) {\n",
              "          const element = document.querySelector('#df-531eb6d9-9f8f-4ca8-a108-82bb78aca47a');\n",
              "          const dataTable =\n",
              "            await google.colab.kernel.invokeFunction('convertToInteractive',\n",
              "                                                     [key], {});\n",
              "          if (!dataTable) return;\n",
              "\n",
              "          const docLinkHtml = 'Like what you see? Visit the ' +\n",
              "            '<a target=\"_blank\" href=https://colab.research.google.com/notebooks/data_table.ipynb>data table notebook</a>'\n",
              "            + ' to learn more about interactive tables.';\n",
              "          element.innerHTML = '';\n",
              "          dataTable['output_type'] = 'display_data';\n",
              "          await google.colab.output.renderOutput(dataTable, element);\n",
              "          const docLink = document.createElement('div');\n",
              "          docLink.innerHTML = docLinkHtml;\n",
              "          element.appendChild(docLink);\n",
              "        }\n",
              "      </script>\n",
              "    </div>\n",
              "  </div>\n"
            ]
          },
          "metadata": {}
        }
      ],
      "source": [
        "reserve = pd.DataFrame(index=['Предположит.ср.запас сырья','RMSE'], columns=['1 регион','2 регион','3 регион'])\n",
        "reserve['1 регион'] = pred_mean_0, rmse_0\n",
        "reserve['2 регион'] = pred_mean_1, rmse_1\n",
        "reserve['3 регион'] = pred_mean_2, rmse_2\n",
        "display(reserve)"
      ]
    },
    {
      "cell_type": "markdown",
      "metadata": {
        "id": "8BCBXN0IuEBi"
      },
      "source": [
        "**В итоге:**\n",
        "1. Произвела стандартизацию даннных с помощью `StandardScaler()`\n",
        "2. Самый большой запас сырья у нас в третьем регионе. Но и доля ошибки тут высокая.\n",
        "3. Учитывая долю ошибки, лучше всех выглядит 2 регион."
      ]
    },
    {
      "cell_type": "markdown",
      "metadata": {
        "id": "D4Dybma8uEB0"
      },
      "source": [
        "## Подготовка к расчёту прибыли"
      ]
    },
    {
      "cell_type": "markdown",
      "source": [
        "Имею следующие исходные данные"
      ],
      "metadata": {
        "id": "MvNbPK6n0Vda"
      }
    },
    {
      "cell_type": "code",
      "execution_count": 22,
      "metadata": {
        "id": "GPZ9o_QFuEB0"
      },
      "outputs": [],
      "source": [
        "budget = 10000000000\n",
        "income_borehole = 450\n",
        "probability_losses = 0.025\n",
        "wells = 500\n",
        "super_wells = 200"
      ]
    },
    {
      "cell_type": "markdown",
      "source": [
        "Бюджет одной скважины без убытков - это бюджет разделить на количество скважин и итог разделить на стоимость барреля"
      ],
      "metadata": {
        "id": "eGhSfXoZ0ZeP"
      }
    },
    {
      "cell_type": "code",
      "execution_count": 23,
      "metadata": {
        "colab": {
          "base_uri": "https://localhost:8080/"
        },
        "id": "KSZCrvNvuEB1",
        "outputId": "ec1cf89b-09ec-4607-ce45-6918054f0f75"
      },
      "outputs": [
        {
          "output_type": "stream",
          "name": "stdout",
          "text": [
            "Бюджет на разработку безубыточной скважины: 111112 руб.\n"
          ]
        }
      ],
      "source": [
        "budg_one_borehole=(budget/200)/income_borehole\n",
        "print('Бюджет на разработку безубыточной скважины:', math.ceil(budg_one_borehole),'руб.')"
      ]
    },
    {
      "cell_type": "markdown",
      "source": [
        "Считаю запас нефти в регионах"
      ],
      "metadata": {
        "id": "bXDCSstr0e0m"
      }
    },
    {
      "cell_type": "code",
      "execution_count": 24,
      "metadata": {
        "id": "J4dvSvcLuEB2"
      },
      "outputs": [],
      "source": [
        "product_0 = data_0['product'].mean()\n",
        "product_1 = data_1['product'].mean()\n",
        "product_2 = data_2['product'].mean()"
      ]
    },
    {
      "cell_type": "markdown",
      "source": [
        "Помещаю данные в таблицу для удобства чтения"
      ],
      "metadata": {
        "id": "sORYUyxc0lB9"
      }
    },
    {
      "cell_type": "code",
      "execution_count": 25,
      "metadata": {
        "colab": {
          "base_uri": "https://localhost:8080/",
          "height": 81
        },
        "id": "uvC99Z8TuEB2",
        "outputId": "7b5a0976-8d3c-45e0-d766-717b5d8d6aa1"
      },
      "outputs": [
        {
          "output_type": "display_data",
          "data": {
            "text/plain": [
              "                                1 регион   2 регион   3 регион\n",
              "Cредний запас сырья в регионе  92.499684  68.823916  94.998342"
            ],
            "text/html": [
              "\n",
              "\n",
              "  <div id=\"df-571330a7-f93e-4f3b-b9a3-fcdf563f60dd\">\n",
              "    <div class=\"colab-df-container\">\n",
              "      <div>\n",
              "<style scoped>\n",
              "    .dataframe tbody tr th:only-of-type {\n",
              "        vertical-align: middle;\n",
              "    }\n",
              "\n",
              "    .dataframe tbody tr th {\n",
              "        vertical-align: top;\n",
              "    }\n",
              "\n",
              "    .dataframe thead th {\n",
              "        text-align: right;\n",
              "    }\n",
              "</style>\n",
              "<table border=\"1\" class=\"dataframe\">\n",
              "  <thead>\n",
              "    <tr style=\"text-align: right;\">\n",
              "      <th></th>\n",
              "      <th>1 регион</th>\n",
              "      <th>2 регион</th>\n",
              "      <th>3 регион</th>\n",
              "    </tr>\n",
              "  </thead>\n",
              "  <tbody>\n",
              "    <tr>\n",
              "      <th>Cредний запас сырья в регионе</th>\n",
              "      <td>92.499684</td>\n",
              "      <td>68.823916</td>\n",
              "      <td>94.998342</td>\n",
              "    </tr>\n",
              "  </tbody>\n",
              "</table>\n",
              "</div>\n",
              "      <button class=\"colab-df-convert\" onclick=\"convertToInteractive('df-571330a7-f93e-4f3b-b9a3-fcdf563f60dd')\"\n",
              "              title=\"Convert this dataframe to an interactive table.\"\n",
              "              style=\"display:none;\">\n",
              "\n",
              "  <svg xmlns=\"http://www.w3.org/2000/svg\" height=\"24px\"viewBox=\"0 0 24 24\"\n",
              "       width=\"24px\">\n",
              "    <path d=\"M0 0h24v24H0V0z\" fill=\"none\"/>\n",
              "    <path d=\"M18.56 5.44l.94 2.06.94-2.06 2.06-.94-2.06-.94-.94-2.06-.94 2.06-2.06.94zm-11 1L8.5 8.5l.94-2.06 2.06-.94-2.06-.94L8.5 2.5l-.94 2.06-2.06.94zm10 10l.94 2.06.94-2.06 2.06-.94-2.06-.94-.94-2.06-.94 2.06-2.06.94z\"/><path d=\"M17.41 7.96l-1.37-1.37c-.4-.4-.92-.59-1.43-.59-.52 0-1.04.2-1.43.59L10.3 9.45l-7.72 7.72c-.78.78-.78 2.05 0 2.83L4 21.41c.39.39.9.59 1.41.59.51 0 1.02-.2 1.41-.59l7.78-7.78 2.81-2.81c.8-.78.8-2.07 0-2.86zM5.41 20L4 18.59l7.72-7.72 1.47 1.35L5.41 20z\"/>\n",
              "  </svg>\n",
              "      </button>\n",
              "\n",
              "\n",
              "\n",
              "    <div id=\"df-55497ec3-91d7-4e43-a78f-d88c0c702aa9\">\n",
              "      <button class=\"colab-df-quickchart\" onclick=\"quickchart('df-55497ec3-91d7-4e43-a78f-d88c0c702aa9')\"\n",
              "              title=\"Suggest charts.\"\n",
              "              style=\"display:none;\">\n",
              "\n",
              "<svg xmlns=\"http://www.w3.org/2000/svg\" height=\"24px\"viewBox=\"0 0 24 24\"\n",
              "     width=\"24px\">\n",
              "    <g>\n",
              "        <path d=\"M19 3H5c-1.1 0-2 .9-2 2v14c0 1.1.9 2 2 2h14c1.1 0 2-.9 2-2V5c0-1.1-.9-2-2-2zM9 17H7v-7h2v7zm4 0h-2V7h2v10zm4 0h-2v-4h2v4z\"/>\n",
              "    </g>\n",
              "</svg>\n",
              "      </button>\n",
              "    </div>\n",
              "\n",
              "<style>\n",
              "  .colab-df-quickchart {\n",
              "    background-color: #E8F0FE;\n",
              "    border: none;\n",
              "    border-radius: 50%;\n",
              "    cursor: pointer;\n",
              "    display: none;\n",
              "    fill: #1967D2;\n",
              "    height: 32px;\n",
              "    padding: 0 0 0 0;\n",
              "    width: 32px;\n",
              "  }\n",
              "\n",
              "  .colab-df-quickchart:hover {\n",
              "    background-color: #E2EBFA;\n",
              "    box-shadow: 0px 1px 2px rgba(60, 64, 67, 0.3), 0px 1px 3px 1px rgba(60, 64, 67, 0.15);\n",
              "    fill: #174EA6;\n",
              "  }\n",
              "\n",
              "  [theme=dark] .colab-df-quickchart {\n",
              "    background-color: #3B4455;\n",
              "    fill: #D2E3FC;\n",
              "  }\n",
              "\n",
              "  [theme=dark] .colab-df-quickchart:hover {\n",
              "    background-color: #434B5C;\n",
              "    box-shadow: 0px 1px 3px 1px rgba(0, 0, 0, 0.15);\n",
              "    filter: drop-shadow(0px 1px 2px rgba(0, 0, 0, 0.3));\n",
              "    fill: #FFFFFF;\n",
              "  }\n",
              "</style>\n",
              "\n",
              "    <script>\n",
              "      async function quickchart(key) {\n",
              "        const containerElement = document.querySelector('#' + key);\n",
              "        const charts = await google.colab.kernel.invokeFunction(\n",
              "            'suggestCharts', [key], {});\n",
              "      }\n",
              "    </script>\n",
              "\n",
              "\n",
              "      <script>\n",
              "\n",
              "function displayQuickchartButton(domScope) {\n",
              "  let quickchartButtonEl =\n",
              "    domScope.querySelector('#df-55497ec3-91d7-4e43-a78f-d88c0c702aa9 button.colab-df-quickchart');\n",
              "  quickchartButtonEl.style.display =\n",
              "    google.colab.kernel.accessAllowed ? 'block' : 'none';\n",
              "}\n",
              "\n",
              "        displayQuickchartButton(document);\n",
              "      </script>\n",
              "      <style>\n",
              "    .colab-df-container {\n",
              "      display:flex;\n",
              "      flex-wrap:wrap;\n",
              "      gap: 12px;\n",
              "    }\n",
              "\n",
              "    .colab-df-convert {\n",
              "      background-color: #E8F0FE;\n",
              "      border: none;\n",
              "      border-radius: 50%;\n",
              "      cursor: pointer;\n",
              "      display: none;\n",
              "      fill: #1967D2;\n",
              "      height: 32px;\n",
              "      padding: 0 0 0 0;\n",
              "      width: 32px;\n",
              "    }\n",
              "\n",
              "    .colab-df-convert:hover {\n",
              "      background-color: #E2EBFA;\n",
              "      box-shadow: 0px 1px 2px rgba(60, 64, 67, 0.3), 0px 1px 3px 1px rgba(60, 64, 67, 0.15);\n",
              "      fill: #174EA6;\n",
              "    }\n",
              "\n",
              "    [theme=dark] .colab-df-convert {\n",
              "      background-color: #3B4455;\n",
              "      fill: #D2E3FC;\n",
              "    }\n",
              "\n",
              "    [theme=dark] .colab-df-convert:hover {\n",
              "      background-color: #434B5C;\n",
              "      box-shadow: 0px 1px 3px 1px rgba(0, 0, 0, 0.15);\n",
              "      filter: drop-shadow(0px 1px 2px rgba(0, 0, 0, 0.3));\n",
              "      fill: #FFFFFF;\n",
              "    }\n",
              "  </style>\n",
              "\n",
              "      <script>\n",
              "        const buttonEl =\n",
              "          document.querySelector('#df-571330a7-f93e-4f3b-b9a3-fcdf563f60dd button.colab-df-convert');\n",
              "        buttonEl.style.display =\n",
              "          google.colab.kernel.accessAllowed ? 'block' : 'none';\n",
              "\n",
              "        async function convertToInteractive(key) {\n",
              "          const element = document.querySelector('#df-571330a7-f93e-4f3b-b9a3-fcdf563f60dd');\n",
              "          const dataTable =\n",
              "            await google.colab.kernel.invokeFunction('convertToInteractive',\n",
              "                                                     [key], {});\n",
              "          if (!dataTable) return;\n",
              "\n",
              "          const docLinkHtml = 'Like what you see? Visit the ' +\n",
              "            '<a target=\"_blank\" href=https://colab.research.google.com/notebooks/data_table.ipynb>data table notebook</a>'\n",
              "            + ' to learn more about interactive tables.';\n",
              "          element.innerHTML = '';\n",
              "          dataTable['output_type'] = 'display_data';\n",
              "          await google.colab.output.renderOutput(dataTable, element);\n",
              "          const docLink = document.createElement('div');\n",
              "          docLink.innerHTML = docLinkHtml;\n",
              "          element.appendChild(docLink);\n",
              "        }\n",
              "      </script>\n",
              "    </div>\n",
              "  </div>\n"
            ]
          },
          "metadata": {}
        }
      ],
      "source": [
        "reserve = pd.DataFrame(index=['Cредний запас сырья в регионе'], columns=['1 регион','2 регион','3 регион'])\n",
        "reserve['1 регион'] = product_0\n",
        "reserve['2 регион'] = product_1\n",
        "reserve['3 регион'] = product_2\n",
        "display(reserve)"
      ]
    },
    {
      "cell_type": "markdown",
      "metadata": {
        "id": "4pV1suoxuEB3"
      },
      "source": [
        "Ни в одном регионе нет достаточного запаса для безубыточной разработки:\n",
        "нужно смотреть по скважинам."
      ]
    },
    {
      "cell_type": "markdown",
      "metadata": {
        "id": "aNCtSbbRuEB5"
      },
      "source": [
        "## Расчёт прибыли и рисков"
      ]
    },
    {
      "cell_type": "markdown",
      "metadata": {
        "id": "kH4AYiK9uEB5"
      },
      "source": [
        "Нахожу прибыль от 200 лучших сважин по каждому региону:\n",
        "1. пишу фукнцию для подсчета прибыли из 200 лучших сважин;\n",
        "2. сортирую ответы до 200, умножаю на 1000 повторений, считаю сумму;\n",
        "Подставляем данные 1 региона;\n",
        "3. ответы и предсказания записываю в `Series`."
      ]
    },
    {
      "cell_type": "code",
      "execution_count": 26,
      "metadata": {
        "id": "pj2edkKQuEB6"
      },
      "outputs": [],
      "source": [
        "def revenue(target, probabilites, count):\n",
        "    probs_sorted = probabilites.sort_values(ascending=False)\n",
        "    selected = target[probs_sorted.index][: count]\n",
        "    return (income_borehole * 1000 * selected.sum())-budget\n",
        "\n",
        "\n",
        "target_valid_0 = pd.Series(target_valid_0).reset_index(drop=True)\n",
        "predictions_0 = pd.Series(predictions_0).reset_index(drop=True)\n",
        "\n",
        "target_valid_1 = pd.Series(target_valid_1).reset_index(drop=True)\n",
        "predictions_1 = pd.Series(predictions_1).reset_index(drop=True)\n",
        "\n",
        "target_valid_2 = pd.Series(target_valid_2).reset_index(drop=True)\n",
        "predictions_2 = pd.Series(predictions_2).reset_index(drop=True)\n"
      ]
    },
    {
      "cell_type": "markdown",
      "source": [
        "Нахожу доверительный интервал и возможную долю убытков\n"
      ],
      "metadata": {
        "id": "p00Y10BQ2Uzy"
      }
    },
    {
      "cell_type": "code",
      "execution_count": 27,
      "metadata": {
        "colab": {
          "base_uri": "https://localhost:8080/"
        },
        "id": "hKzmf3WAuEB9",
        "outputId": "fe4c4abe-e9d6-47ea-9aae-8b8b957b1314"
      },
      "outputs": [
        {
          "output_type": "stream",
          "name": "stdout",
          "text": [
            "Первый регион\n",
            "Средняя прибыль: 380613470.0175977\n",
            "95%-доверительный интервал: -142942739.74041605 - 890976833.8485551\n",
            "Вероятность убытков: 7.7 %\n",
            "Второй регион\n",
            "Средняя прибыль: 479159869.981588\n",
            "95%-доверительный интервал: 73849212.0224793 - 917953817.7221825\n",
            "Вероятность убытков: 0.6 %\n",
            "Третий регион\n",
            "Средняя прибыль: 315441916.0234899\n",
            "95%-доверительный интервал: -216265050.0341763 - 811060708.2365634\n",
            "Вероятность убытков: 12.4 %\n"
          ]
        }
      ],
      "source": [
        "target = [target_valid_0, target_valid_1, target_valid_2]\n",
        "predictions = [predictions_0, predictions_1, predictions_2]\n",
        "regions = ['Первый регион', 'Второй регион', 'Третий регион']\n",
        "\n",
        "state = np.random.RandomState(12345)\n",
        "\n",
        "for m in range(len(target)):\n",
        "    values = []\n",
        "    for i in range(1000):\n",
        "        target_subsample = target[m].sample(n=wells, replace=True, random_state=state)\n",
        "        predictions_subsample = predictions[m].loc[target_subsample.index]\n",
        "        values.append(revenue(target_subsample.reset_index(drop=True), predictions_subsample.reset_index(drop=True), super_wells))\n",
        "\n",
        "    values = pd.Series(values)\n",
        "    lower = values.quantile(.025)\n",
        "    upper = values.quantile(.975)\n",
        "\n",
        "    mean = values.mean()\n",
        "\n",
        "    loser_probs = sum(values < 0) / values.count() * 100\n",
        "\n",
        "    print(regions[m])\n",
        "    print(\"Средняя прибыль:\", mean)\n",
        "    print(\"95%-доверительный интервал:\", lower, \"-\", upper)\n",
        "    print(\"Вероятность убытков:\", loser_probs, \"%\")"
      ]
    },
    {
      "cell_type": "markdown",
      "metadata": {
        "id": "a8tHrs6LuEB_"
      },
      "source": [
        "## Вывод\n",
        "\n",
        "###Второй регион самый подходящий для разработки:\n",
        "1. У него самая маленькая вероятность убытков.\n",
        "2. Высокая самая средняя прибыль."
      ]
    }
  ],
  "metadata": {
    "ExecuteTimeLog": [
      {
        "duration": 61,
        "start_time": "2023-02-16T18:35:27.764Z"
      },
      {
        "duration": 381,
        "start_time": "2023-02-16T18:35:31.081Z"
      },
      {
        "duration": 415,
        "start_time": "2023-02-16T18:35:33.989Z"
      },
      {
        "duration": 383,
        "start_time": "2023-02-16T18:36:10.607Z"
      },
      {
        "duration": 1312,
        "start_time": "2023-02-16T18:36:26.456Z"
      },
      {
        "duration": 1170,
        "start_time": "2023-02-16T18:41:09.804Z"
      },
      {
        "duration": 451,
        "start_time": "2023-02-16T18:41:38.444Z"
      },
      {
        "duration": 51,
        "start_time": "2023-02-16T18:43:56.247Z"
      },
      {
        "duration": 1437,
        "start_time": "2023-02-16T18:56:22.463Z"
      },
      {
        "duration": 1531,
        "start_time": "2023-02-16T18:56:23.903Z"
      },
      {
        "duration": 53,
        "start_time": "2023-02-16T18:56:25.435Z"
      },
      {
        "duration": 3,
        "start_time": "2023-02-16T18:56:29.823Z"
      },
      {
        "duration": 399,
        "start_time": "2023-02-16T18:56:32.328Z"
      },
      {
        "duration": 51,
        "start_time": "2023-02-16T18:56:36.207Z"
      },
      {
        "duration": 1267,
        "start_time": "2023-02-16T18:58:25.486Z"
      },
      {
        "duration": 897,
        "start_time": "2023-02-16T19:00:25.594Z"
      },
      {
        "duration": 6,
        "start_time": "2023-02-16T19:00:49.020Z"
      },
      {
        "duration": 53,
        "start_time": "2023-02-16T19:01:05.152Z"
      },
      {
        "duration": 50,
        "start_time": "2023-02-16T19:01:18.996Z"
      },
      {
        "duration": 6,
        "start_time": "2023-02-16T19:01:40.183Z"
      },
      {
        "duration": 14,
        "start_time": "2023-02-16T19:02:14.628Z"
      },
      {
        "duration": 11,
        "start_time": "2023-02-16T19:02:44.060Z"
      },
      {
        "duration": 433,
        "start_time": "2023-02-16T19:12:50.098Z"
      },
      {
        "duration": 414,
        "start_time": "2023-02-16T19:13:02.894Z"
      },
      {
        "duration": 78,
        "start_time": "2023-02-16T19:13:30.795Z"
      },
      {
        "duration": 65,
        "start_time": "2023-02-16T19:13:57.752Z"
      },
      {
        "duration": 62,
        "start_time": "2023-02-16T19:15:33.713Z"
      },
      {
        "duration": 56,
        "start_time": "2023-02-16T19:16:09.800Z"
      },
      {
        "duration": 71,
        "start_time": "2023-02-16T19:16:33.537Z"
      },
      {
        "duration": 57,
        "start_time": "2023-02-16T19:17:13.851Z"
      },
      {
        "duration": 55,
        "start_time": "2023-02-16T19:17:25.421Z"
      },
      {
        "duration": 66,
        "start_time": "2023-02-16T19:17:54.844Z"
      },
      {
        "duration": 55,
        "start_time": "2023-02-16T19:19:11.016Z"
      },
      {
        "duration": 1410,
        "start_time": "2023-02-16T19:20:39.979Z"
      },
      {
        "duration": 445,
        "start_time": "2023-02-16T19:20:41.391Z"
      },
      {
        "duration": 57,
        "start_time": "2023-02-16T19:20:41.838Z"
      },
      {
        "duration": 10,
        "start_time": "2023-02-16T19:20:41.897Z"
      },
      {
        "duration": 1039,
        "start_time": "2023-02-16T19:20:41.936Z"
      },
      {
        "duration": 3,
        "start_time": "2023-02-16T19:20:43.768Z"
      },
      {
        "duration": 420,
        "start_time": "2023-02-16T19:20:46.745Z"
      },
      {
        "duration": 53,
        "start_time": "2023-02-16T19:20:50.522Z"
      },
      {
        "duration": 13,
        "start_time": "2023-02-16T19:20:54.267Z"
      },
      {
        "duration": 76,
        "start_time": "2023-02-16T19:21:06.849Z"
      },
      {
        "duration": 11,
        "start_time": "2023-02-16T19:26:32.072Z"
      },
      {
        "duration": 3,
        "start_time": "2023-02-16T19:26:36.556Z"
      },
      {
        "duration": 13,
        "start_time": "2023-02-16T19:26:42.969Z"
      },
      {
        "duration": 16,
        "start_time": "2023-02-16T19:26:46.943Z"
      },
      {
        "duration": 64,
        "start_time": "2023-02-16T19:26:55.104Z"
      },
      {
        "duration": 62,
        "start_time": "2023-02-16T19:27:11.261Z"
      },
      {
        "duration": 18,
        "start_time": "2023-02-16T19:27:51.406Z"
      },
      {
        "duration": 14,
        "start_time": "2023-02-16T19:28:12.018Z"
      },
      {
        "duration": 55,
        "start_time": "2023-02-16T19:28:15.247Z"
      },
      {
        "duration": 15,
        "start_time": "2023-02-16T19:28:58.646Z"
      },
      {
        "duration": 38,
        "start_time": "2023-02-16T19:30:42.643Z"
      },
      {
        "duration": 13,
        "start_time": "2023-02-16T19:31:24.979Z"
      },
      {
        "duration": 57,
        "start_time": "2023-02-16T19:31:34.665Z"
      },
      {
        "duration": 57,
        "start_time": "2023-02-16T19:33:41.336Z"
      },
      {
        "duration": 48,
        "start_time": "2023-02-16T19:55:47.534Z"
      },
      {
        "duration": 58,
        "start_time": "2023-02-16T19:55:58.890Z"
      },
      {
        "duration": 12,
        "start_time": "2023-02-16T19:56:05.212Z"
      },
      {
        "duration": 34,
        "start_time": "2023-02-16T19:57:06.616Z"
      },
      {
        "duration": 40,
        "start_time": "2023-02-16T19:57:17.118Z"
      },
      {
        "duration": 47,
        "start_time": "2023-02-16T19:59:53.575Z"
      },
      {
        "duration": 41,
        "start_time": "2023-02-16T20:00:47.949Z"
      },
      {
        "duration": 35,
        "start_time": "2023-02-16T20:01:00.386Z"
      },
      {
        "duration": 37,
        "start_time": "2023-02-16T20:01:09.785Z"
      },
      {
        "duration": 36,
        "start_time": "2023-02-16T20:01:24.677Z"
      },
      {
        "duration": 41,
        "start_time": "2023-02-16T20:01:47.343Z"
      },
      {
        "duration": 38,
        "start_time": "2023-02-16T20:01:55.751Z"
      },
      {
        "duration": 34,
        "start_time": "2023-02-16T20:02:12.306Z"
      },
      {
        "duration": 34,
        "start_time": "2023-02-16T20:03:06.419Z"
      },
      {
        "duration": 4,
        "start_time": "2023-02-16T20:04:01.755Z"
      },
      {
        "duration": 5,
        "start_time": "2023-02-16T20:05:01.060Z"
      },
      {
        "duration": 3,
        "start_time": "2023-02-16T20:10:20.769Z"
      },
      {
        "duration": 339,
        "start_time": "2023-02-16T20:12:06.506Z"
      },
      {
        "duration": 219,
        "start_time": "2023-02-16T20:12:17.218Z"
      },
      {
        "duration": 1020,
        "start_time": "2023-02-16T20:14:07.779Z"
      },
      {
        "duration": 4056,
        "start_time": "2023-02-16T20:15:52.619Z"
      },
      {
        "duration": 12455,
        "start_time": "2023-02-16T20:16:10.883Z"
      },
      {
        "duration": 19443,
        "start_time": "2023-02-16T20:17:04.095Z"
      },
      {
        "duration": 13,
        "start_time": "2023-02-16T20:23:56.019Z"
      },
      {
        "duration": 4,
        "start_time": "2023-02-16T20:24:46.111Z"
      },
      {
        "duration": 363,
        "start_time": "2023-02-16T20:25:02.290Z"
      },
      {
        "duration": 51,
        "start_time": "2023-02-16T20:25:05.209Z"
      },
      {
        "duration": 11,
        "start_time": "2023-02-16T20:25:09.143Z"
      },
      {
        "duration": 49,
        "start_time": "2023-02-16T20:25:18.933Z"
      },
      {
        "duration": 30,
        "start_time": "2023-02-16T20:25:43.240Z"
      },
      {
        "duration": 34,
        "start_time": "2023-02-16T20:26:07.026Z"
      },
      {
        "duration": 37,
        "start_time": "2023-02-16T20:26:18.855Z"
      },
      {
        "duration": 6,
        "start_time": "2023-02-16T20:26:22.309Z"
      },
      {
        "duration": 17,
        "start_time": "2023-02-16T20:26:30.310Z"
      },
      {
        "duration": 7071,
        "start_time": "2023-02-16T20:27:11.035Z"
      },
      {
        "duration": 25,
        "start_time": "2023-02-16T20:27:18.108Z"
      },
      {
        "duration": 3115,
        "start_time": "2023-02-16T20:28:20.275Z"
      },
      {
        "duration": 418,
        "start_time": "2023-02-16T20:28:23.392Z"
      },
      {
        "duration": 61,
        "start_time": "2023-02-16T20:28:23.811Z"
      },
      {
        "duration": 10,
        "start_time": "2023-02-16T20:28:23.874Z"
      },
      {
        "duration": 75,
        "start_time": "2023-02-16T20:28:23.886Z"
      },
      {
        "duration": 47,
        "start_time": "2023-02-16T20:28:23.964Z"
      },
      {
        "duration": 26,
        "start_time": "2023-02-16T20:28:24.013Z"
      },
      {
        "duration": 40,
        "start_time": "2023-02-16T20:28:24.041Z"
      },
      {
        "duration": 6154,
        "start_time": "2023-02-16T20:28:24.083Z"
      },
      {
        "duration": 2107,
        "start_time": "2023-02-16T20:28:30.240Z"
      },
      {
        "duration": 431,
        "start_time": "2023-02-16T20:28:32.350Z"
      },
      {
        "duration": 13,
        "start_time": "2023-02-16T20:28:37.306Z"
      },
      {
        "duration": 50,
        "start_time": "2023-02-16T20:28:47.746Z"
      },
      {
        "duration": 42,
        "start_time": "2023-02-16T20:28:51.506Z"
      },
      {
        "duration": 6,
        "start_time": "2023-02-16T20:28:53.640Z"
      },
      {
        "duration": 40,
        "start_time": "2023-02-16T20:29:00.237Z"
      },
      {
        "duration": 5734,
        "start_time": "2023-02-16T20:29:07.503Z"
      },
      {
        "duration": 37,
        "start_time": "2023-02-16T20:29:59.358Z"
      },
      {
        "duration": 43,
        "start_time": "2023-02-16T20:31:45.606Z"
      },
      {
        "duration": 41,
        "start_time": "2023-02-16T20:31:50.762Z"
      },
      {
        "duration": 48,
        "start_time": "2023-02-16T20:33:45.314Z"
      },
      {
        "duration": 38,
        "start_time": "2023-02-16T20:33:51.766Z"
      },
      {
        "duration": 3675,
        "start_time": "2023-02-16T20:33:57.667Z"
      },
      {
        "duration": 18,
        "start_time": "2023-02-16T20:35:38.431Z"
      },
      {
        "duration": 11,
        "start_time": "2023-02-16T20:36:16.710Z"
      },
      {
        "duration": 35,
        "start_time": "2023-02-16T20:40:29.683Z"
      },
      {
        "duration": 47,
        "start_time": "2023-02-16T20:40:44.663Z"
      },
      {
        "duration": 3353,
        "start_time": "2023-02-16T20:41:15.455Z"
      },
      {
        "duration": 417,
        "start_time": "2023-02-16T20:41:18.810Z"
      },
      {
        "duration": 57,
        "start_time": "2023-02-16T20:41:19.229Z"
      },
      {
        "duration": 16,
        "start_time": "2023-02-16T20:41:19.289Z"
      },
      {
        "duration": 76,
        "start_time": "2023-02-16T20:41:19.308Z"
      },
      {
        "duration": 100,
        "start_time": "2023-02-16T20:41:19.386Z"
      },
      {
        "duration": 8,
        "start_time": "2023-02-16T20:41:19.488Z"
      },
      {
        "duration": 57,
        "start_time": "2023-02-16T20:41:51.027Z"
      },
      {
        "duration": 8,
        "start_time": "2023-02-16T20:41:56.631Z"
      },
      {
        "duration": 5974,
        "start_time": "2023-02-16T20:41:59.011Z"
      },
      {
        "duration": 1549,
        "start_time": "2023-02-16T20:42:04.987Z"
      },
      {
        "duration": 41,
        "start_time": "2023-02-16T20:42:13.405Z"
      },
      {
        "duration": 95,
        "start_time": "2023-02-16T20:42:21.003Z"
      },
      {
        "duration": 50,
        "start_time": "2023-02-16T20:42:38.270Z"
      },
      {
        "duration": 9,
        "start_time": "2023-02-16T20:42:46.746Z"
      },
      {
        "duration": 5575,
        "start_time": "2023-02-16T20:43:18.704Z"
      },
      {
        "duration": 1620,
        "start_time": "2023-02-16T20:43:24.281Z"
      },
      {
        "duration": 404,
        "start_time": "2023-02-16T20:43:26.809Z"
      },
      {
        "duration": 13,
        "start_time": "2023-02-16T20:43:30.740Z"
      },
      {
        "duration": 46,
        "start_time": "2023-02-16T20:43:36.435Z"
      },
      {
        "duration": 86,
        "start_time": "2023-02-16T20:43:45.203Z"
      },
      {
        "duration": 7,
        "start_time": "2023-02-16T20:43:49.736Z"
      },
      {
        "duration": 52,
        "start_time": "2023-02-16T20:44:23.712Z"
      },
      {
        "duration": 9,
        "start_time": "2023-02-16T20:44:28.108Z"
      },
      {
        "duration": 4263,
        "start_time": "2023-02-16T20:44:34.010Z"
      },
      {
        "duration": 1585,
        "start_time": "2023-02-16T20:44:38.275Z"
      },
      {
        "duration": 21,
        "start_time": "2023-02-16T20:44:47.326Z"
      },
      {
        "duration": 39,
        "start_time": "2023-02-16T20:44:51.840Z"
      },
      {
        "duration": 81,
        "start_time": "2023-02-16T20:44:55.905Z"
      },
      {
        "duration": 7,
        "start_time": "2023-02-16T20:44:59.172Z"
      },
      {
        "duration": 50,
        "start_time": "2023-02-16T20:45:13.140Z"
      },
      {
        "duration": 9,
        "start_time": "2023-02-16T20:45:16.988Z"
      },
      {
        "duration": 9,
        "start_time": "2023-02-16T20:45:20.050Z"
      },
      {
        "duration": 10203,
        "start_time": "2023-02-17T06:18:17.734Z"
      },
      {
        "duration": 1691,
        "start_time": "2023-02-17T06:18:27.938Z"
      },
      {
        "duration": 12,
        "start_time": "2023-02-17T06:18:54.971Z"
      },
      {
        "duration": 39,
        "start_time": "2023-02-17T06:19:08.539Z"
      },
      {
        "duration": 74,
        "start_time": "2023-02-17T06:19:12.931Z"
      },
      {
        "duration": 7,
        "start_time": "2023-02-17T06:19:16.585Z"
      },
      {
        "duration": 3607,
        "start_time": "2023-02-17T06:21:45.193Z"
      },
      {
        "duration": 1521,
        "start_time": "2023-02-17T06:21:49.664Z"
      },
      {
        "duration": 12,
        "start_time": "2023-02-17T06:21:54.533Z"
      },
      {
        "duration": 36,
        "start_time": "2023-02-17T06:21:58.755Z"
      },
      {
        "duration": 79,
        "start_time": "2023-02-17T06:22:02.453Z"
      },
      {
        "duration": 6,
        "start_time": "2023-02-17T06:22:05.662Z"
      },
      {
        "duration": 59,
        "start_time": "2023-02-17T06:22:18.582Z"
      },
      {
        "duration": 8,
        "start_time": "2023-02-17T06:22:20.791Z"
      },
      {
        "duration": 3416,
        "start_time": "2023-02-17T11:16:09.499Z"
      },
      {
        "duration": 2079,
        "start_time": "2023-02-17T11:17:33.359Z"
      },
      {
        "duration": 1550,
        "start_time": "2023-02-17T11:17:36.809Z"
      },
      {
        "duration": 65,
        "start_time": "2023-02-17T11:17:50.820Z"
      },
      {
        "duration": 6,
        "start_time": "2023-02-17T11:17:55.102Z"
      },
      {
        "duration": 48,
        "start_time": "2023-02-17T11:20:06.895Z"
      },
      {
        "duration": 3401,
        "start_time": "2023-02-17T11:20:15.527Z"
      },
      {
        "duration": 1518,
        "start_time": "2023-02-17T11:20:18.931Z"
      },
      {
        "duration": 72,
        "start_time": "2023-02-17T11:20:20.451Z"
      },
      {
        "duration": 7,
        "start_time": "2023-02-17T11:20:20.526Z"
      },
      {
        "duration": 3435,
        "start_time": "2023-02-17T11:20:37.282Z"
      },
      {
        "duration": 1511,
        "start_time": "2023-02-17T11:20:40.720Z"
      },
      {
        "duration": 77,
        "start_time": "2023-02-17T11:20:42.233Z"
      },
      {
        "duration": 6,
        "start_time": "2023-02-17T11:20:42.313Z"
      },
      {
        "duration": 46,
        "start_time": "2023-02-17T11:30:51.944Z"
      },
      {
        "duration": 7,
        "start_time": "2023-02-17T11:31:20.641Z"
      },
      {
        "duration": 3518,
        "start_time": "2023-02-17T11:31:26.669Z"
      },
      {
        "duration": 69,
        "start_time": "2023-02-17T11:31:32.811Z"
      },
      {
        "duration": 11,
        "start_time": "2023-02-17T11:31:41.941Z"
      },
      {
        "duration": 11,
        "start_time": "2023-02-17T11:31:48.081Z"
      },
      {
        "duration": 9,
        "start_time": "2023-02-17T11:31:50.844Z"
      },
      {
        "duration": 10,
        "start_time": "2023-02-17T11:31:53.999Z"
      },
      {
        "duration": 10,
        "start_time": "2023-02-17T11:31:57.032Z"
      },
      {
        "duration": 11,
        "start_time": "2023-02-17T11:31:58.901Z"
      },
      {
        "duration": 12,
        "start_time": "2023-02-17T11:32:01.761Z"
      },
      {
        "duration": 11,
        "start_time": "2023-02-17T11:32:05.366Z"
      },
      {
        "duration": 1473,
        "start_time": "2023-02-17T11:32:11.063Z"
      },
      {
        "duration": 12,
        "start_time": "2023-02-17T11:32:18.932Z"
      },
      {
        "duration": 69,
        "start_time": "2023-02-17T11:32:22.554Z"
      },
      {
        "duration": 8,
        "start_time": "2023-02-17T11:32:27.737Z"
      },
      {
        "duration": 55,
        "start_time": "2023-02-17T11:32:35.019Z"
      },
      {
        "duration": 7,
        "start_time": "2023-02-17T11:32:38.234Z"
      },
      {
        "duration": 3458,
        "start_time": "2023-02-17T11:34:13.591Z"
      },
      {
        "duration": 1519,
        "start_time": "2023-02-17T11:34:17.051Z"
      },
      {
        "duration": 63,
        "start_time": "2023-02-17T11:34:22.921Z"
      },
      {
        "duration": 7,
        "start_time": "2023-02-17T11:34:26.802Z"
      },
      {
        "duration": 50,
        "start_time": "2023-02-17T11:34:37.804Z"
      },
      {
        "duration": 9,
        "start_time": "2023-02-17T11:35:33.530Z"
      },
      {
        "duration": 3441,
        "start_time": "2023-02-17T11:36:11.871Z"
      },
      {
        "duration": 1585,
        "start_time": "2023-02-17T11:36:15.314Z"
      },
      {
        "duration": 66,
        "start_time": "2023-02-17T11:36:20.851Z"
      },
      {
        "duration": 7,
        "start_time": "2023-02-17T11:36:23.584Z"
      },
      {
        "duration": 48,
        "start_time": "2023-02-17T11:37:59.431Z"
      },
      {
        "duration": 3342,
        "start_time": "2023-02-17T11:38:07.783Z"
      },
      {
        "duration": 1534,
        "start_time": "2023-02-17T11:38:12.772Z"
      },
      {
        "duration": 76,
        "start_time": "2023-02-17T11:38:40.619Z"
      },
      {
        "duration": 3631,
        "start_time": "2023-02-17T11:45:35.399Z"
      },
      {
        "duration": 1523,
        "start_time": "2023-02-17T11:45:39.032Z"
      },
      {
        "duration": 71,
        "start_time": "2023-02-17T11:45:40.557Z"
      },
      {
        "duration": 3491,
        "start_time": "2023-02-17T11:45:53.202Z"
      },
      {
        "duration": 1504,
        "start_time": "2023-02-17T11:45:56.695Z"
      },
      {
        "duration": 93,
        "start_time": "2023-02-17T11:45:58.201Z"
      },
      {
        "duration": 48,
        "start_time": "2023-02-17T11:46:03.467Z"
      },
      {
        "duration": 3699,
        "start_time": "2023-02-17T11:46:05.502Z"
      },
      {
        "duration": 1558,
        "start_time": "2023-02-17T11:46:11.409Z"
      },
      {
        "duration": 92,
        "start_time": "2023-02-17T11:46:15.769Z"
      },
      {
        "duration": 51,
        "start_time": "2023-02-17T11:46:23.560Z"
      },
      {
        "duration": 9,
        "start_time": "2023-02-17T11:46:28.533Z"
      },
      {
        "duration": 9,
        "start_time": "2023-02-17T11:46:29.986Z"
      },
      {
        "duration": 9,
        "start_time": "2023-02-17T11:46:31.164Z"
      },
      {
        "duration": 8,
        "start_time": "2023-02-17T11:46:32.771Z"
      },
      {
        "duration": 10,
        "start_time": "2023-02-17T11:46:38.477Z"
      },
      {
        "duration": 3572,
        "start_time": "2023-02-17T11:46:43.103Z"
      },
      {
        "duration": 71,
        "start_time": "2023-02-17T11:46:46.677Z"
      },
      {
        "duration": 1548,
        "start_time": "2023-02-17T11:46:51.680Z"
      },
      {
        "duration": 74,
        "start_time": "2023-02-17T11:46:55.773Z"
      },
      {
        "duration": 51,
        "start_time": "2023-02-17T11:47:05.631Z"
      },
      {
        "duration": 3465,
        "start_time": "2023-02-17T11:47:13.328Z"
      },
      {
        "duration": 1545,
        "start_time": "2023-02-17T11:47:16.795Z"
      },
      {
        "duration": 80,
        "start_time": "2023-02-17T11:47:21.166Z"
      },
      {
        "duration": 10372,
        "start_time": "2023-02-18T10:29:33.445Z"
      },
      {
        "duration": 1293,
        "start_time": "2023-02-18T10:29:43.819Z"
      },
      {
        "duration": 81,
        "start_time": "2023-02-18T10:29:48.785Z"
      },
      {
        "duration": 64,
        "start_time": "2023-02-18T10:30:29.790Z"
      },
      {
        "duration": 12,
        "start_time": "2023-02-18T10:32:17.581Z"
      },
      {
        "duration": 8,
        "start_time": "2023-02-18T10:32:28.790Z"
      },
      {
        "duration": 9,
        "start_time": "2023-02-18T10:32:31.506Z"
      },
      {
        "duration": 10,
        "start_time": "2023-02-18T10:32:42.284Z"
      },
      {
        "duration": 3919,
        "start_time": "2023-02-18T10:32:50.620Z"
      },
      {
        "duration": 1045,
        "start_time": "2023-02-18T10:32:56.036Z"
      },
      {
        "duration": 77,
        "start_time": "2023-02-18T10:33:00.628Z"
      },
      {
        "duration": 72,
        "start_time": "2023-02-18T10:33:22.310Z"
      },
      {
        "duration": 8164,
        "start_time": "2023-02-18T16:55:11.438Z"
      },
      {
        "duration": 2078,
        "start_time": "2023-02-18T16:55:21.838Z"
      },
      {
        "duration": 70,
        "start_time": "2023-02-18T16:55:28.221Z"
      },
      {
        "duration": 124,
        "start_time": "2023-02-18T16:55:38.501Z"
      },
      {
        "duration": 75,
        "start_time": "2023-02-18T16:55:51.571Z"
      },
      {
        "duration": 49,
        "start_time": "2023-02-18T16:56:19.142Z"
      },
      {
        "duration": 9,
        "start_time": "2023-02-18T16:56:33.541Z"
      },
      {
        "duration": 4033,
        "start_time": "2023-02-18T16:56:39.090Z"
      },
      {
        "duration": 1705,
        "start_time": "2023-02-18T16:56:44.352Z"
      },
      {
        "duration": 72,
        "start_time": "2023-02-18T16:56:48.844Z"
      },
      {
        "duration": 174,
        "start_time": "2023-02-18T16:56:55.328Z"
      },
      {
        "duration": 37,
        "start_time": "2023-02-18T16:57:15.985Z"
      },
      {
        "duration": 2139,
        "start_time": "2023-02-18T17:00:25.762Z"
      },
      {
        "duration": 4,
        "start_time": "2023-02-18T17:00:34.242Z"
      },
      {
        "duration": 405,
        "start_time": "2023-02-18T17:00:36.677Z"
      },
      {
        "duration": 748,
        "start_time": "2023-02-18T17:01:56.204Z"
      },
      {
        "duration": 516,
        "start_time": "2023-02-18T17:02:07.752Z"
      },
      {
        "duration": 948,
        "start_time": "2023-02-18T17:03:14.528Z"
      },
      {
        "duration": 1741,
        "start_time": "2023-02-18T17:03:51.300Z"
      },
      {
        "duration": 7,
        "start_time": "2023-02-18T17:04:27.572Z"
      },
      {
        "duration": 35,
        "start_time": "2023-02-18T17:05:12.105Z"
      },
      {
        "duration": 1157,
        "start_time": "2023-02-18T17:05:22.417Z"
      },
      {
        "duration": 1106,
        "start_time": "2023-02-18T17:05:31.968Z"
      },
      {
        "duration": 1094,
        "start_time": "2023-02-18T17:06:21.926Z"
      },
      {
        "duration": 1159,
        "start_time": "2023-02-18T17:07:00.019Z"
      },
      {
        "duration": 64,
        "start_time": "2023-02-18T17:11:48.550Z"
      },
      {
        "duration": 273,
        "start_time": "2023-02-18T17:11:53.476Z"
      },
      {
        "duration": 117,
        "start_time": "2023-02-18T17:12:24.233Z"
      },
      {
        "duration": 5,
        "start_time": "2023-02-18T17:20:48.005Z"
      },
      {
        "duration": 412,
        "start_time": "2023-02-18T17:20:50.534Z"
      },
      {
        "duration": 48,
        "start_time": "2023-02-18T17:20:54.745Z"
      },
      {
        "duration": 2021,
        "start_time": "2023-02-18T17:21:13.481Z"
      },
      {
        "duration": 37,
        "start_time": "2023-02-18T17:21:21.446Z"
      },
      {
        "duration": 376,
        "start_time": "2023-02-18T17:21:26.874Z"
      },
      {
        "duration": 212,
        "start_time": "2023-02-18T17:21:58.142Z"
      },
      {
        "duration": 308,
        "start_time": "2023-02-18T17:28:49.548Z"
      },
      {
        "duration": 30,
        "start_time": "2023-02-18T17:28:59.049Z"
      },
      {
        "duration": 9,
        "start_time": "2023-02-18T17:30:20.233Z"
      },
      {
        "duration": 9,
        "start_time": "2023-02-18T17:30:49.689Z"
      },
      {
        "duration": 3,
        "start_time": "2023-02-18T17:30:56.183Z"
      },
      {
        "duration": 398,
        "start_time": "2023-02-18T17:30:58.851Z"
      },
      {
        "duration": 2057,
        "start_time": "2023-02-18T17:31:04.186Z"
      },
      {
        "duration": 39,
        "start_time": "2023-02-18T17:31:10.161Z"
      },
      {
        "duration": 45,
        "start_time": "2023-02-18T17:31:13.504Z"
      },
      {
        "duration": 191,
        "start_time": "2023-02-18T17:31:26.658Z"
      },
      {
        "duration": 46,
        "start_time": "2023-02-18T17:32:56.304Z"
      },
      {
        "duration": 3,
        "start_time": "2023-02-18T17:33:49.008Z"
      },
      {
        "duration": 284,
        "start_time": "2023-02-18T17:33:54.874Z"
      },
      {
        "duration": 348,
        "start_time": "2023-02-18T17:38:43.907Z"
      },
      {
        "duration": 337,
        "start_time": "2023-02-18T17:39:04.918Z"
      },
      {
        "duration": 408,
        "start_time": "2023-02-18T17:43:53.549Z"
      },
      {
        "duration": 511,
        "start_time": "2023-02-18T17:48:14.037Z"
      },
      {
        "duration": 2,
        "start_time": "2023-02-18T17:49:19.641Z"
      },
      {
        "duration": 13,
        "start_time": "2023-02-18T17:52:01.381Z"
      },
      {
        "duration": 13,
        "start_time": "2023-02-18T17:56:41.477Z"
      },
      {
        "duration": 13,
        "start_time": "2023-02-18T17:57:23.308Z"
      },
      {
        "duration": 6,
        "start_time": "2023-02-18T19:14:29.161Z"
      },
      {
        "duration": 20,
        "start_time": "2023-02-18T19:18:53.756Z"
      },
      {
        "duration": 7,
        "start_time": "2023-02-18T19:19:04.172Z"
      },
      {
        "duration": 7,
        "start_time": "2023-02-18T19:20:20.562Z"
      },
      {
        "duration": 19,
        "start_time": "2023-02-18T19:20:46.602Z"
      },
      {
        "duration": 14,
        "start_time": "2023-02-18T19:20:49.784Z"
      },
      {
        "duration": 5,
        "start_time": "2023-02-18T19:21:00.619Z"
      },
      {
        "duration": 7,
        "start_time": "2023-02-18T19:21:06.855Z"
      },
      {
        "duration": 1236,
        "start_time": "2023-02-18T19:23:52.694Z"
      },
      {
        "duration": 1297,
        "start_time": "2023-02-18T19:24:05.227Z"
      },
      {
        "duration": 60,
        "start_time": "2023-02-18T19:24:13.906Z"
      },
      {
        "duration": 358,
        "start_time": "2023-02-18T19:24:17.101Z"
      },
      {
        "duration": 14,
        "start_time": "2023-02-18T19:24:25.272Z"
      },
      {
        "duration": 18,
        "start_time": "2023-02-18T19:24:30.550Z"
      },
      {
        "duration": 10,
        "start_time": "2023-02-18T19:24:38.462Z"
      },
      {
        "duration": 1264,
        "start_time": "2023-02-18T19:29:19.828Z"
      },
      {
        "duration": 1342,
        "start_time": "2023-02-18T19:30:05.660Z"
      },
      {
        "duration": 1184,
        "start_time": "2023-02-18T19:30:19.779Z"
      },
      {
        "duration": 4,
        "start_time": "2023-02-18T19:31:24.016Z"
      },
      {
        "duration": 32,
        "start_time": "2023-02-18T19:32:07.560Z"
      },
      {
        "duration": 378,
        "start_time": "2023-02-18T19:35:12.786Z"
      },
      {
        "duration": 15,
        "start_time": "2023-02-18T19:35:17.568Z"
      },
      {
        "duration": 1649,
        "start_time": "2023-02-19T15:53:02.367Z"
      },
      {
        "duration": 2170,
        "start_time": "2023-02-19T15:53:05.802Z"
      },
      {
        "duration": 1957,
        "start_time": "2023-02-19T15:53:13.140Z"
      },
      {
        "duration": 153,
        "start_time": "2023-02-19T15:56:58.005Z"
      },
      {
        "duration": 40,
        "start_time": "2023-02-19T15:58:23.664Z"
      },
      {
        "duration": 29,
        "start_time": "2023-02-19T15:58:40.041Z"
      },
      {
        "duration": 577,
        "start_time": "2023-02-19T16:00:26.050Z"
      },
      {
        "duration": 35,
        "start_time": "2023-02-19T16:00:29.785Z"
      },
      {
        "duration": 11,
        "start_time": "2023-02-19T16:00:47.259Z"
      },
      {
        "duration": 579,
        "start_time": "2023-02-19T16:01:35.675Z"
      },
      {
        "duration": 32,
        "start_time": "2023-02-19T16:01:38.916Z"
      },
      {
        "duration": 89,
        "start_time": "2023-02-19T16:01:50.337Z"
      },
      {
        "duration": 71,
        "start_time": "2023-02-19T16:02:08.390Z"
      },
      {
        "duration": 189,
        "start_time": "2023-02-19T16:02:15.139Z"
      },
      {
        "duration": 23,
        "start_time": "2023-02-19T16:02:18.812Z"
      },
      {
        "duration": 10,
        "start_time": "2023-02-19T16:02:26.592Z"
      },
      {
        "duration": 189,
        "start_time": "2023-02-19T16:05:19.037Z"
      },
      {
        "duration": 18,
        "start_time": "2023-02-19T16:05:21.464Z"
      },
      {
        "duration": 5611,
        "start_time": "2023-02-19T16:33:57.598Z"
      },
      {
        "duration": 1171,
        "start_time": "2023-02-19T16:34:03.212Z"
      },
      {
        "duration": 104,
        "start_time": "2023-02-19T16:34:04.386Z"
      },
      {
        "duration": 1981,
        "start_time": "2023-02-19T16:34:04.493Z"
      },
      {
        "duration": 90,
        "start_time": "2023-02-19T16:34:06.477Z"
      },
      {
        "duration": 262,
        "start_time": "2023-02-19T16:34:06.569Z"
      },
      {
        "duration": 96,
        "start_time": "2023-02-19T16:34:06.835Z"
      },
      {
        "duration": 93,
        "start_time": "2023-02-19T16:34:06.937Z"
      },
      {
        "duration": 10,
        "start_time": "2023-02-19T16:34:07.047Z"
      },
      {
        "duration": 97,
        "start_time": "2023-02-19T16:34:29.828Z"
      },
      {
        "duration": 12,
        "start_time": "2023-02-19T16:35:13.182Z"
      },
      {
        "duration": 55,
        "start_time": "2023-02-19T16:35:57.048Z"
      },
      {
        "duration": 1549,
        "start_time": "2023-02-19T16:44:04.518Z"
      },
      {
        "duration": 464,
        "start_time": "2023-02-19T16:44:06.069Z"
      },
      {
        "duration": 51,
        "start_time": "2023-02-19T16:44:06.534Z"
      },
      {
        "duration": 1667,
        "start_time": "2023-02-19T16:44:06.587Z"
      },
      {
        "duration": 93,
        "start_time": "2023-02-19T16:44:08.256Z"
      },
      {
        "duration": 269,
        "start_time": "2023-02-19T16:44:08.351Z"
      },
      {
        "duration": 99,
        "start_time": "2023-02-19T16:44:08.623Z"
      },
      {
        "duration": 16,
        "start_time": "2023-02-19T16:44:08.724Z"
      },
      {
        "duration": 14,
        "start_time": "2023-02-19T16:44:08.742Z"
      },
      {
        "duration": 11,
        "start_time": "2023-02-19T16:44:28.379Z"
      },
      {
        "duration": 120,
        "start_time": "2023-02-19T16:44:39.528Z"
      },
      {
        "duration": 17,
        "start_time": "2023-02-19T16:45:08.097Z"
      },
      {
        "duration": 12,
        "start_time": "2023-02-19T16:45:34.469Z"
      },
      {
        "duration": 9,
        "start_time": "2023-02-19T16:46:56.077Z"
      },
      {
        "duration": 8,
        "start_time": "2023-02-19T16:47:07.063Z"
      },
      {
        "duration": 14,
        "start_time": "2023-02-19T16:52:02.598Z"
      },
      {
        "duration": 17,
        "start_time": "2023-02-19T16:52:22.740Z"
      },
      {
        "duration": 23,
        "start_time": "2023-02-19T16:53:34.228Z"
      },
      {
        "duration": 33,
        "start_time": "2023-02-19T16:55:45.412Z"
      },
      {
        "duration": 28,
        "start_time": "2023-02-19T16:56:01.070Z"
      },
      {
        "duration": 29,
        "start_time": "2023-02-19T16:56:52.367Z"
      },
      {
        "duration": 25,
        "start_time": "2023-02-19T16:57:01.362Z"
      },
      {
        "duration": 27,
        "start_time": "2023-02-19T16:57:06.549Z"
      },
      {
        "duration": 65,
        "start_time": "2023-02-19T16:58:29.670Z"
      },
      {
        "duration": 70,
        "start_time": "2023-02-19T17:00:08.315Z"
      },
      {
        "duration": 79,
        "start_time": "2023-02-19T17:01:45.905Z"
      },
      {
        "duration": 8,
        "start_time": "2023-02-19T17:07:29.030Z"
      },
      {
        "duration": 17,
        "start_time": "2023-02-19T17:07:41.702Z"
      },
      {
        "duration": 14,
        "start_time": "2023-02-19T17:09:09.343Z"
      },
      {
        "duration": 3,
        "start_time": "2023-02-19T17:09:41.767Z"
      },
      {
        "duration": 8,
        "start_time": "2023-02-19T17:09:49.708Z"
      },
      {
        "duration": 1450,
        "start_time": "2023-02-20T08:14:53.347Z"
      },
      {
        "duration": 1496,
        "start_time": "2023-02-20T08:14:55.879Z"
      },
      {
        "duration": 1458,
        "start_time": "2023-02-20T08:15:03.379Z"
      },
      {
        "duration": 72,
        "start_time": "2023-02-20T08:15:27.256Z"
      },
      {
        "duration": 257,
        "start_time": "2023-02-20T08:15:34.750Z"
      },
      {
        "duration": 12,
        "start_time": "2023-02-20T08:15:40.953Z"
      },
      {
        "duration": 7,
        "start_time": "2023-02-20T08:15:51.982Z"
      },
      {
        "duration": 67,
        "start_time": "2023-02-20T08:15:58.893Z"
      },
      {
        "duration": 104,
        "start_time": "2023-02-20T08:28:03.148Z"
      },
      {
        "duration": 15,
        "start_time": "2023-02-20T08:28:33.519Z"
      },
      {
        "duration": 29,
        "start_time": "2023-02-20T08:29:10.203Z"
      },
      {
        "duration": 77,
        "start_time": "2023-02-20T08:29:24.222Z"
      },
      {
        "duration": 61,
        "start_time": "2023-02-20T08:43:32.101Z"
      },
      {
        "duration": 3,
        "start_time": "2023-02-20T08:58:24.503Z"
      },
      {
        "duration": 386,
        "start_time": "2023-02-20T08:58:31.568Z"
      },
      {
        "duration": 53,
        "start_time": "2023-02-20T08:58:36.982Z"
      },
      {
        "duration": 244,
        "start_time": "2023-02-20T08:59:44.563Z"
      },
      {
        "duration": 15,
        "start_time": "2023-02-20T09:00:33.105Z"
      },
      {
        "duration": 13,
        "start_time": "2023-02-20T09:00:39.350Z"
      },
      {
        "duration": 5,
        "start_time": "2023-02-20T09:01:28.998Z"
      },
      {
        "duration": 14,
        "start_time": "2023-02-20T09:01:33.615Z"
      },
      {
        "duration": 15,
        "start_time": "2023-02-20T09:02:04.090Z"
      },
      {
        "duration": 13,
        "start_time": "2023-02-20T09:04:11.263Z"
      },
      {
        "duration": 14,
        "start_time": "2023-02-20T09:04:25.167Z"
      },
      {
        "duration": 13,
        "start_time": "2023-02-20T09:04:35.671Z"
      },
      {
        "duration": 14,
        "start_time": "2023-02-20T09:04:46.612Z"
      },
      {
        "duration": 14,
        "start_time": "2023-02-20T09:04:55.814Z"
      },
      {
        "duration": 14,
        "start_time": "2023-02-20T09:05:38.407Z"
      },
      {
        "duration": 12,
        "start_time": "2023-02-20T09:06:37.859Z"
      },
      {
        "duration": 16,
        "start_time": "2023-02-20T09:07:10.070Z"
      },
      {
        "duration": 20,
        "start_time": "2023-02-20T09:07:31.472Z"
      },
      {
        "duration": 14,
        "start_time": "2023-02-20T09:24:41.875Z"
      },
      {
        "duration": 22,
        "start_time": "2023-02-20T09:24:56.456Z"
      },
      {
        "duration": 18,
        "start_time": "2023-02-20T09:25:16.903Z"
      },
      {
        "duration": 14,
        "start_time": "2023-02-20T09:25:32.185Z"
      },
      {
        "duration": 14,
        "start_time": "2023-02-20T09:25:59.017Z"
      },
      {
        "duration": 153,
        "start_time": "2023-02-20T09:29:01.753Z"
      },
      {
        "duration": 15,
        "start_time": "2023-02-20T09:29:03.902Z"
      },
      {
        "duration": 15,
        "start_time": "2023-02-20T09:29:12.715Z"
      },
      {
        "duration": 13,
        "start_time": "2023-02-20T09:29:31.786Z"
      },
      {
        "duration": 14,
        "start_time": "2023-02-20T09:29:37.347Z"
      },
      {
        "duration": 14,
        "start_time": "2023-02-20T09:29:42.505Z"
      },
      {
        "duration": 7,
        "start_time": "2023-02-20T09:30:03.959Z"
      },
      {
        "duration": 62,
        "start_time": "2023-02-20T09:30:21.356Z"
      },
      {
        "duration": 102,
        "start_time": "2023-02-20T09:33:20.454Z"
      },
      {
        "duration": 14,
        "start_time": "2023-02-20T09:36:14.522Z"
      },
      {
        "duration": 13,
        "start_time": "2023-02-20T09:36:29.456Z"
      },
      {
        "duration": 12,
        "start_time": "2023-02-20T09:38:15.157Z"
      },
      {
        "duration": 12,
        "start_time": "2023-02-20T09:38:51.623Z"
      },
      {
        "duration": 6,
        "start_time": "2023-02-20T09:39:42.699Z"
      },
      {
        "duration": 11,
        "start_time": "2023-02-20T09:41:42.683Z"
      },
      {
        "duration": 14,
        "start_time": "2023-02-20T09:45:21.108Z"
      },
      {
        "duration": 7,
        "start_time": "2023-02-20T09:46:10.081Z"
      },
      {
        "duration": 14,
        "start_time": "2023-02-20T09:46:24.066Z"
      },
      {
        "duration": 7,
        "start_time": "2023-02-20T09:46:46.655Z"
      },
      {
        "duration": 15,
        "start_time": "2023-02-20T09:46:51.159Z"
      },
      {
        "duration": 1252,
        "start_time": "2023-02-20T11:08:41.818Z"
      },
      {
        "duration": 376,
        "start_time": "2023-02-20T11:08:43.074Z"
      },
      {
        "duration": 50,
        "start_time": "2023-02-20T11:08:43.453Z"
      },
      {
        "duration": 1368,
        "start_time": "2023-02-20T11:08:43.505Z"
      },
      {
        "duration": 73,
        "start_time": "2023-02-20T11:08:44.875Z"
      },
      {
        "duration": 255,
        "start_time": "2023-02-20T11:08:44.950Z"
      },
      {
        "duration": 106,
        "start_time": "2023-02-20T11:08:45.207Z"
      },
      {
        "duration": 9,
        "start_time": "2023-02-20T11:08:45.315Z"
      },
      {
        "duration": 10,
        "start_time": "2023-02-20T11:08:45.328Z"
      },
      {
        "duration": 127,
        "start_time": "2023-02-20T11:08:45.339Z"
      },
      {
        "duration": 131,
        "start_time": "2023-02-20T11:08:45.468Z"
      },
      {
        "duration": 4551,
        "start_time": "2023-02-20T11:12:24.595Z"
      },
      {
        "duration": 436,
        "start_time": "2023-02-20T11:14:46.828Z"
      },
      {
        "duration": 454,
        "start_time": "2023-02-20T11:15:13.745Z"
      },
      {
        "duration": 1695,
        "start_time": "2023-02-20T11:15:34.494Z"
      },
      {
        "duration": 520,
        "start_time": "2023-02-20T11:15:42.871Z"
      },
      {
        "duration": 65,
        "start_time": "2023-02-20T11:17:04.931Z"
      },
      {
        "duration": 1104,
        "start_time": "2023-02-20T11:17:49.310Z"
      },
      {
        "duration": 4874,
        "start_time": "2023-02-20T11:18:07.872Z"
      },
      {
        "duration": 3340,
        "start_time": "2023-02-20T17:55:38.672Z"
      },
      {
        "duration": 556,
        "start_time": "2023-02-20T17:57:42.765Z"
      },
      {
        "duration": 157,
        "start_time": "2023-02-20T17:58:41.468Z"
      },
      {
        "duration": 718,
        "start_time": "2023-02-20T17:59:47.441Z"
      },
      {
        "duration": 5472,
        "start_time": "2023-02-20T18:04:45.500Z"
      },
      {
        "duration": 698,
        "start_time": "2023-02-20T18:06:22.073Z"
      },
      {
        "duration": 840,
        "start_time": "2023-02-20T18:06:38.789Z"
      },
      {
        "duration": 693,
        "start_time": "2023-02-20T18:07:02.127Z"
      },
      {
        "duration": 138,
        "start_time": "2023-02-20T18:07:36.334Z"
      },
      {
        "duration": 697,
        "start_time": "2023-02-20T18:09:37.668Z"
      },
      {
        "duration": 20,
        "start_time": "2023-02-20T18:11:19.937Z"
      },
      {
        "duration": 18,
        "start_time": "2023-02-20T18:13:24.918Z"
      },
      {
        "duration": 20,
        "start_time": "2023-02-20T18:13:28.335Z"
      },
      {
        "duration": 580,
        "start_time": "2023-02-20T18:13:33.401Z"
      },
      {
        "duration": 152,
        "start_time": "2023-02-20T18:13:43.086Z"
      },
      {
        "duration": 26,
        "start_time": "2023-02-20T18:13:45.492Z"
      },
      {
        "duration": 13,
        "start_time": "2023-02-20T18:13:51.625Z"
      },
      {
        "duration": 12,
        "start_time": "2023-02-20T18:14:04.234Z"
      },
      {
        "duration": 36,
        "start_time": "2023-02-20T18:15:42.890Z"
      },
      {
        "duration": 18,
        "start_time": "2023-02-20T18:16:05.523Z"
      },
      {
        "duration": 27,
        "start_time": "2023-02-20T18:20:27.663Z"
      },
      {
        "duration": 34,
        "start_time": "2023-02-20T18:21:04.448Z"
      },
      {
        "duration": 44,
        "start_time": "2023-02-20T18:21:29.132Z"
      },
      {
        "duration": 55,
        "start_time": "2023-02-20T18:22:12.995Z"
      },
      {
        "duration": 88,
        "start_time": "2023-02-20T18:22:48.214Z"
      },
      {
        "duration": 26,
        "start_time": "2023-02-20T18:26:55.187Z"
      },
      {
        "duration": 55,
        "start_time": "2023-02-20T18:27:05.753Z"
      },
      {
        "duration": 35,
        "start_time": "2023-02-20T18:27:56.106Z"
      },
      {
        "duration": 52,
        "start_time": "2023-02-20T18:28:58.177Z"
      },
      {
        "duration": 42,
        "start_time": "2023-02-20T18:29:04.999Z"
      },
      {
        "duration": 101,
        "start_time": "2023-02-20T18:29:30.751Z"
      },
      {
        "duration": 0,
        "start_time": "2023-02-20T18:29:30.855Z"
      },
      {
        "duration": 0,
        "start_time": "2023-02-20T18:29:30.856Z"
      },
      {
        "duration": 0,
        "start_time": "2023-02-20T18:29:30.857Z"
      },
      {
        "duration": 0,
        "start_time": "2023-02-20T18:29:30.858Z"
      },
      {
        "duration": 0,
        "start_time": "2023-02-20T18:29:30.859Z"
      },
      {
        "duration": 0,
        "start_time": "2023-02-20T18:29:30.861Z"
      },
      {
        "duration": 0,
        "start_time": "2023-02-20T18:29:30.862Z"
      },
      {
        "duration": 0,
        "start_time": "2023-02-20T18:29:30.863Z"
      },
      {
        "duration": 0,
        "start_time": "2023-02-20T18:29:30.864Z"
      },
      {
        "duration": 0,
        "start_time": "2023-02-20T18:29:30.865Z"
      },
      {
        "duration": 0,
        "start_time": "2023-02-20T18:29:30.866Z"
      },
      {
        "duration": 0,
        "start_time": "2023-02-20T18:29:30.868Z"
      },
      {
        "duration": 1675,
        "start_time": "2023-02-20T18:29:46.065Z"
      },
      {
        "duration": 36,
        "start_time": "2023-02-20T18:29:51.980Z"
      },
      {
        "duration": 56,
        "start_time": "2023-02-20T18:29:54.572Z"
      },
      {
        "duration": 41,
        "start_time": "2023-02-20T18:29:56.746Z"
      },
      {
        "duration": 93,
        "start_time": "2023-02-20T18:29:59.882Z"
      },
      {
        "duration": 16,
        "start_time": "2023-02-20T18:30:12.042Z"
      },
      {
        "duration": 1040,
        "start_time": "2023-02-20T18:31:40.037Z"
      },
      {
        "duration": 49,
        "start_time": "2023-02-20T18:32:37.965Z"
      },
      {
        "duration": 513,
        "start_time": "2023-02-20T18:47:22.059Z"
      },
      {
        "duration": 41,
        "start_time": "2023-02-20T18:47:25.636Z"
      },
      {
        "duration": 36,
        "start_time": "2023-02-20T18:47:27.683Z"
      },
      {
        "duration": 47,
        "start_time": "2023-02-20T18:47:29.482Z"
      },
      {
        "duration": 33,
        "start_time": "2023-02-20T18:47:32.027Z"
      },
      {
        "duration": 12,
        "start_time": "2023-02-20T18:47:35.119Z"
      },
      {
        "duration": 11,
        "start_time": "2023-02-20T18:47:38.381Z"
      },
      {
        "duration": 14,
        "start_time": "2023-02-20T18:47:42.288Z"
      },
      {
        "duration": 11,
        "start_time": "2023-02-20T18:47:45.163Z"
      },
      {
        "duration": 1633,
        "start_time": "2023-02-20T18:48:27.264Z"
      },
      {
        "duration": 37,
        "start_time": "2023-02-20T18:48:28.899Z"
      },
      {
        "duration": 39,
        "start_time": "2023-02-20T18:48:28.950Z"
      },
      {
        "duration": 34,
        "start_time": "2023-02-20T18:48:28.991Z"
      },
      {
        "duration": 149,
        "start_time": "2023-02-20T18:48:29.027Z"
      },
      {
        "duration": 0,
        "start_time": "2023-02-20T18:48:29.178Z"
      },
      {
        "duration": 0,
        "start_time": "2023-02-20T18:48:29.180Z"
      },
      {
        "duration": 0,
        "start_time": "2023-02-20T18:48:29.181Z"
      },
      {
        "duration": 0,
        "start_time": "2023-02-20T18:48:29.182Z"
      },
      {
        "duration": 0,
        "start_time": "2023-02-20T18:48:29.183Z"
      },
      {
        "duration": 0,
        "start_time": "2023-02-20T18:48:29.184Z"
      },
      {
        "duration": 0,
        "start_time": "2023-02-20T18:48:29.185Z"
      },
      {
        "duration": 0,
        "start_time": "2023-02-20T18:48:29.186Z"
      },
      {
        "duration": 0,
        "start_time": "2023-02-20T18:48:29.187Z"
      },
      {
        "duration": 2715,
        "start_time": "2023-02-21T06:10:08.364Z"
      },
      {
        "duration": 41,
        "start_time": "2023-02-21T06:10:14.462Z"
      },
      {
        "duration": 42,
        "start_time": "2023-02-21T06:10:16.596Z"
      },
      {
        "duration": 43,
        "start_time": "2023-02-21T06:10:18.774Z"
      },
      {
        "duration": 155,
        "start_time": "2023-02-21T06:10:22.258Z"
      },
      {
        "duration": 29,
        "start_time": "2023-02-21T06:11:53.840Z"
      },
      {
        "duration": 41,
        "start_time": "2023-02-21T06:13:02.900Z"
      },
      {
        "duration": 36,
        "start_time": "2023-02-21T06:14:06.576Z"
      },
      {
        "duration": 9,
        "start_time": "2023-02-21T06:14:40.301Z"
      },
      {
        "duration": 10,
        "start_time": "2023-02-21T06:15:04.535Z"
      },
      {
        "duration": 12,
        "start_time": "2023-02-21T06:15:16.577Z"
      },
      {
        "duration": 9,
        "start_time": "2023-02-21T06:31:30.239Z"
      },
      {
        "duration": 9,
        "start_time": "2023-02-21T06:35:34.917Z"
      },
      {
        "duration": 204,
        "start_time": "2023-02-21T06:35:55.923Z"
      },
      {
        "duration": 5,
        "start_time": "2023-02-21T06:36:55.835Z"
      },
      {
        "duration": 1563,
        "start_time": "2023-02-21T06:37:34.844Z"
      },
      {
        "duration": 6,
        "start_time": "2023-02-21T06:37:36.410Z"
      },
      {
        "duration": 59,
        "start_time": "2023-02-21T06:37:36.418Z"
      },
      {
        "duration": 46,
        "start_time": "2023-02-21T06:37:36.479Z"
      },
      {
        "duration": 155,
        "start_time": "2023-02-21T06:37:36.527Z"
      },
      {
        "duration": 0,
        "start_time": "2023-02-21T06:37:36.684Z"
      },
      {
        "duration": 0,
        "start_time": "2023-02-21T06:37:36.685Z"
      },
      {
        "duration": 0,
        "start_time": "2023-02-21T06:37:36.687Z"
      },
      {
        "duration": 0,
        "start_time": "2023-02-21T06:37:36.688Z"
      },
      {
        "duration": 0,
        "start_time": "2023-02-21T06:37:36.690Z"
      },
      {
        "duration": 0,
        "start_time": "2023-02-21T06:37:36.691Z"
      },
      {
        "duration": 0,
        "start_time": "2023-02-21T06:37:36.692Z"
      },
      {
        "duration": 0,
        "start_time": "2023-02-21T06:37:36.693Z"
      },
      {
        "duration": 0,
        "start_time": "2023-02-21T06:37:36.695Z"
      },
      {
        "duration": 4,
        "start_time": "2023-02-21T06:39:41.647Z"
      },
      {
        "duration": 245,
        "start_time": "2023-02-21T06:39:55.051Z"
      },
      {
        "duration": 242,
        "start_time": "2023-02-21T06:40:04.555Z"
      },
      {
        "duration": 4,
        "start_time": "2023-02-21T06:40:55.328Z"
      },
      {
        "duration": 46,
        "start_time": "2023-02-21T06:41:12.332Z"
      },
      {
        "duration": 12,
        "start_time": "2023-02-21T06:58:59.419Z"
      },
      {
        "duration": 9,
        "start_time": "2023-02-21T06:59:17.099Z"
      },
      {
        "duration": 9,
        "start_time": "2023-02-21T06:59:39.161Z"
      },
      {
        "duration": 10,
        "start_time": "2023-02-21T06:59:47.602Z"
      },
      {
        "duration": 9,
        "start_time": "2023-02-21T06:59:51.775Z"
      },
      {
        "duration": 1107,
        "start_time": "2023-02-21T07:12:55.449Z"
      },
      {
        "duration": 433,
        "start_time": "2023-02-21T07:13:04.351Z"
      },
      {
        "duration": 36,
        "start_time": "2023-02-21T07:13:28.835Z"
      },
      {
        "duration": 11,
        "start_time": "2023-02-21T07:13:54.715Z"
      },
      {
        "duration": 57,
        "start_time": "2023-02-21T07:14:06.003Z"
      },
      {
        "duration": 153,
        "start_time": "2023-02-21T07:14:13.630Z"
      },
      {
        "duration": 29,
        "start_time": "2023-02-21T07:14:37.014Z"
      },
      {
        "duration": 31,
        "start_time": "2023-02-21T07:14:57.052Z"
      },
      {
        "duration": 103,
        "start_time": "2023-02-21T07:15:11.905Z"
      },
      {
        "duration": 9,
        "start_time": "2023-02-21T07:21:29.071Z"
      },
      {
        "duration": 10,
        "start_time": "2023-02-21T07:21:38.269Z"
      },
      {
        "duration": 10,
        "start_time": "2023-02-21T07:21:50.390Z"
      },
      {
        "duration": 8,
        "start_time": "2023-02-21T07:21:54.544Z"
      },
      {
        "duration": 9,
        "start_time": "2023-02-21T07:21:59.752Z"
      },
      {
        "duration": 8,
        "start_time": "2023-02-21T07:22:27.816Z"
      },
      {
        "duration": 3,
        "start_time": "2023-02-21T07:22:36.221Z"
      },
      {
        "duration": 11,
        "start_time": "2023-02-21T07:22:38.051Z"
      },
      {
        "duration": 4,
        "start_time": "2023-02-21T07:22:56.660Z"
      },
      {
        "duration": 8,
        "start_time": "2023-02-21T07:23:26.452Z"
      },
      {
        "duration": 456,
        "start_time": "2023-02-21T07:24:06.418Z"
      },
      {
        "duration": 47,
        "start_time": "2023-02-21T07:27:31.683Z"
      },
      {
        "duration": 92,
        "start_time": "2023-02-21T07:27:41.551Z"
      },
      {
        "duration": 146,
        "start_time": "2023-02-21T07:27:45.131Z"
      },
      {
        "duration": 35,
        "start_time": "2023-02-21T07:28:21.446Z"
      },
      {
        "duration": 26,
        "start_time": "2023-02-21T07:28:31.744Z"
      },
      {
        "duration": 31,
        "start_time": "2023-02-21T07:28:40.319Z"
      },
      {
        "duration": 26,
        "start_time": "2023-02-21T07:30:00.547Z"
      },
      {
        "duration": 30,
        "start_time": "2023-02-21T07:30:22.955Z"
      },
      {
        "duration": 2,
        "start_time": "2023-02-21T07:37:16.594Z"
      },
      {
        "duration": 24,
        "start_time": "2023-02-21T07:37:33.044Z"
      },
      {
        "duration": 26,
        "start_time": "2023-02-21T07:38:00.552Z"
      },
      {
        "duration": 25,
        "start_time": "2023-02-21T07:38:09.417Z"
      },
      {
        "duration": 26,
        "start_time": "2023-02-21T07:38:14.600Z"
      },
      {
        "duration": 29,
        "start_time": "2023-02-21T07:38:48.633Z"
      },
      {
        "duration": 27,
        "start_time": "2023-02-21T07:38:55.315Z"
      },
      {
        "duration": 26,
        "start_time": "2023-02-21T07:39:21.242Z"
      },
      {
        "duration": 1126,
        "start_time": "2023-02-21T07:39:41.787Z"
      },
      {
        "duration": 430,
        "start_time": "2023-02-21T07:39:42.916Z"
      },
      {
        "duration": 50,
        "start_time": "2023-02-21T07:39:43.347Z"
      },
      {
        "duration": 171,
        "start_time": "2023-02-21T07:39:43.401Z"
      },
      {
        "duration": 29,
        "start_time": "2023-02-21T07:39:43.574Z"
      },
      {
        "duration": 46,
        "start_time": "2023-02-21T07:39:43.605Z"
      },
      {
        "duration": 2,
        "start_time": "2023-02-21T07:39:43.653Z"
      },
      {
        "duration": 33,
        "start_time": "2023-02-21T07:39:43.658Z"
      },
      {
        "duration": 48,
        "start_time": "2023-02-21T07:39:43.693Z"
      },
      {
        "duration": 35,
        "start_time": "2023-02-21T07:40:37.362Z"
      },
      {
        "duration": 27,
        "start_time": "2023-02-21T07:41:02.357Z"
      },
      {
        "duration": 152,
        "start_time": "2023-02-21T07:41:44.547Z"
      },
      {
        "duration": 132,
        "start_time": "2023-02-21T07:49:50.656Z"
      },
      {
        "duration": 9,
        "start_time": "2023-02-21T07:58:28.259Z"
      },
      {
        "duration": 34,
        "start_time": "2023-02-21T08:00:44.913Z"
      },
      {
        "duration": 37,
        "start_time": "2023-02-21T08:01:42.069Z"
      },
      {
        "duration": 29,
        "start_time": "2023-02-21T08:01:46.168Z"
      },
      {
        "duration": 29,
        "start_time": "2023-02-21T08:02:08.536Z"
      },
      {
        "duration": 31,
        "start_time": "2023-02-21T08:02:17.669Z"
      },
      {
        "duration": 23,
        "start_time": "2023-02-21T08:02:56.576Z"
      },
      {
        "duration": 15,
        "start_time": "2023-02-21T08:03:24.726Z"
      },
      {
        "duration": 3,
        "start_time": "2023-02-21T08:03:32.360Z"
      },
      {
        "duration": 14,
        "start_time": "2023-02-21T08:03:38.038Z"
      },
      {
        "duration": 13,
        "start_time": "2023-02-21T08:03:41.817Z"
      },
      {
        "duration": 3,
        "start_time": "2023-02-21T08:03:59.166Z"
      },
      {
        "duration": 17,
        "start_time": "2023-02-21T08:04:04.790Z"
      },
      {
        "duration": 13,
        "start_time": "2023-02-21T08:04:09.670Z"
      },
      {
        "duration": 13,
        "start_time": "2023-02-21T08:04:11.441Z"
      },
      {
        "duration": 13,
        "start_time": "2023-02-21T08:04:44.374Z"
      },
      {
        "duration": 72,
        "start_time": "2023-02-21T08:05:12.765Z"
      },
      {
        "duration": 52,
        "start_time": "2023-02-21T08:05:35.469Z"
      },
      {
        "duration": 19,
        "start_time": "2023-02-21T08:07:02.381Z"
      },
      {
        "duration": 12,
        "start_time": "2023-02-21T08:07:38.360Z"
      },
      {
        "duration": 20,
        "start_time": "2023-02-21T08:08:56.241Z"
      },
      {
        "duration": 20,
        "start_time": "2023-02-21T08:10:03.307Z"
      },
      {
        "duration": 9,
        "start_time": "2023-02-21T08:10:26.804Z"
      },
      {
        "duration": 10,
        "start_time": "2023-02-21T08:10:43.224Z"
      },
      {
        "duration": 14,
        "start_time": "2023-02-21T08:10:49.655Z"
      },
      {
        "duration": 9,
        "start_time": "2023-02-21T08:11:10.592Z"
      },
      {
        "duration": 21,
        "start_time": "2023-02-21T08:11:22.551Z"
      },
      {
        "duration": 12,
        "start_time": "2023-02-21T08:12:15.702Z"
      },
      {
        "duration": 3,
        "start_time": "2023-02-21T08:16:06.297Z"
      },
      {
        "duration": 10,
        "start_time": "2023-02-21T08:47:49.418Z"
      },
      {
        "duration": 3,
        "start_time": "2023-02-21T08:49:18.384Z"
      },
      {
        "duration": 9,
        "start_time": "2023-02-21T08:49:23.638Z"
      },
      {
        "duration": 2,
        "start_time": "2023-02-21T08:49:42.848Z"
      },
      {
        "duration": 4,
        "start_time": "2023-02-21T08:49:45.314Z"
      },
      {
        "duration": 4,
        "start_time": "2023-02-21T08:49:59.068Z"
      },
      {
        "duration": 5,
        "start_time": "2023-02-21T08:50:52.366Z"
      },
      {
        "duration": 12,
        "start_time": "2023-02-21T08:52:33.250Z"
      },
      {
        "duration": 6,
        "start_time": "2023-02-21T08:52:38.103Z"
      },
      {
        "duration": 13,
        "start_time": "2023-02-21T08:52:40.717Z"
      },
      {
        "duration": 5,
        "start_time": "2023-02-21T09:17:02.433Z"
      },
      {
        "duration": 3,
        "start_time": "2023-02-21T09:19:18.564Z"
      },
      {
        "duration": 10,
        "start_time": "2023-02-21T09:21:50.551Z"
      },
      {
        "duration": 9,
        "start_time": "2023-02-21T09:22:19.942Z"
      },
      {
        "duration": 9,
        "start_time": "2023-02-21T09:23:31.463Z"
      },
      {
        "duration": 16,
        "start_time": "2023-02-21T09:23:48.071Z"
      },
      {
        "duration": 10,
        "start_time": "2023-02-21T09:28:25.637Z"
      },
      {
        "duration": 10,
        "start_time": "2023-02-21T09:28:58.276Z"
      },
      {
        "duration": 8,
        "start_time": "2023-02-21T09:29:45.231Z"
      },
      {
        "duration": 8,
        "start_time": "2023-02-21T09:29:48.544Z"
      },
      {
        "duration": 9,
        "start_time": "2023-02-21T09:29:51.040Z"
      },
      {
        "duration": 11,
        "start_time": "2023-02-21T09:31:52.782Z"
      },
      {
        "duration": 11,
        "start_time": "2023-02-21T09:32:16.720Z"
      },
      {
        "duration": 11,
        "start_time": "2023-02-21T09:32:39.558Z"
      },
      {
        "duration": 10,
        "start_time": "2023-02-21T09:33:01.438Z"
      },
      {
        "duration": 61,
        "start_time": "2023-02-21T14:20:39.499Z"
      },
      {
        "duration": 98,
        "start_time": "2023-02-21T14:20:51.529Z"
      },
      {
        "duration": 63,
        "start_time": "2023-02-21T14:21:01.369Z"
      },
      {
        "duration": 1084,
        "start_time": "2023-02-21T14:21:10.004Z"
      },
      {
        "duration": 2985,
        "start_time": "2023-02-21T14:21:12.065Z"
      },
      {
        "duration": 49,
        "start_time": "2023-02-21T14:21:17.945Z"
      },
      {
        "duration": 119,
        "start_time": "2023-02-21T14:21:21.823Z"
      },
      {
        "duration": 45,
        "start_time": "2023-02-21T14:21:24.770Z"
      },
      {
        "duration": 37,
        "start_time": "2023-02-21T14:21:27.562Z"
      },
      {
        "duration": 26,
        "start_time": "2023-02-21T14:21:36.933Z"
      },
      {
        "duration": 22,
        "start_time": "2023-02-21T14:21:40.621Z"
      },
      {
        "duration": 26,
        "start_time": "2023-02-21T14:21:55.503Z"
      },
      {
        "duration": 7,
        "start_time": "2023-02-21T14:21:57.426Z"
      },
      {
        "duration": 21,
        "start_time": "2023-02-21T14:22:00.803Z"
      },
      {
        "duration": 18,
        "start_time": "2023-02-21T14:22:03.287Z"
      },
      {
        "duration": 16,
        "start_time": "2023-02-21T14:22:06.517Z"
      },
      {
        "duration": 22,
        "start_time": "2023-02-21T14:22:08.527Z"
      },
      {
        "duration": 14,
        "start_time": "2023-02-21T14:22:13.831Z"
      },
      {
        "duration": 13,
        "start_time": "2023-02-21T14:22:17.636Z"
      },
      {
        "duration": 19,
        "start_time": "2023-02-21T14:22:19.818Z"
      },
      {
        "duration": 17,
        "start_time": "2023-02-21T14:22:23.297Z"
      },
      {
        "duration": 13,
        "start_time": "2023-02-21T14:22:25.599Z"
      },
      {
        "duration": 2,
        "start_time": "2023-02-21T14:22:31.922Z"
      },
      {
        "duration": 4,
        "start_time": "2023-02-21T14:22:35.157Z"
      },
      {
        "duration": 5,
        "start_time": "2023-02-21T14:22:38.303Z"
      },
      {
        "duration": 9,
        "start_time": "2023-02-21T14:22:42.148Z"
      },
      {
        "duration": 4,
        "start_time": "2023-02-21T14:22:45.930Z"
      },
      {
        "duration": 8,
        "start_time": "2023-02-21T14:22:49.235Z"
      },
      {
        "duration": 10,
        "start_time": "2023-02-21T14:22:53.491Z"
      },
      {
        "duration": 7,
        "start_time": "2023-02-21T14:22:55.848Z"
      },
      {
        "duration": 9,
        "start_time": "2023-02-21T14:22:59.822Z"
      },
      {
        "duration": 79,
        "start_time": "2023-02-21T14:23:10.443Z"
      },
      {
        "duration": 1953,
        "start_time": "2023-02-21T18:38:14.747Z"
      },
      {
        "duration": 2345,
        "start_time": "2023-02-21T18:38:17.023Z"
      },
      {
        "duration": 567,
        "start_time": "2023-02-21T18:38:26.506Z"
      },
      {
        "duration": 75,
        "start_time": "2023-02-21T18:38:35.093Z"
      },
      {
        "duration": 49,
        "start_time": "2023-02-21T18:38:41.227Z"
      },
      {
        "duration": 52,
        "start_time": "2023-02-21T18:38:44.346Z"
      },
      {
        "duration": 30,
        "start_time": "2023-02-21T18:38:48.062Z"
      },
      {
        "duration": 32,
        "start_time": "2023-02-21T18:38:53.183Z"
      },
      {
        "duration": 40,
        "start_time": "2023-02-21T18:38:57.846Z"
      },
      {
        "duration": 13,
        "start_time": "2023-02-21T18:39:00.683Z"
      },
      {
        "duration": 39,
        "start_time": "2023-02-21T18:39:04.548Z"
      },
      {
        "duration": 19,
        "start_time": "2023-02-21T18:39:08.047Z"
      },
      {
        "duration": 66,
        "start_time": "2023-02-21T18:39:11.416Z"
      },
      {
        "duration": 37,
        "start_time": "2023-02-21T18:39:14.146Z"
      },
      {
        "duration": 20,
        "start_time": "2023-02-21T18:39:17.046Z"
      },
      {
        "duration": 14,
        "start_time": "2023-02-21T18:39:19.680Z"
      },
      {
        "duration": 59,
        "start_time": "2023-02-21T18:39:22.711Z"
      },
      {
        "duration": 18,
        "start_time": "2023-02-21T18:39:26.112Z"
      },
      {
        "duration": 35,
        "start_time": "2023-02-21T18:39:32.448Z"
      },
      {
        "duration": 14,
        "start_time": "2023-02-21T18:39:35.602Z"
      },
      {
        "duration": 2,
        "start_time": "2023-02-21T18:39:43.776Z"
      },
      {
        "duration": 6,
        "start_time": "2023-02-21T18:39:48.148Z"
      },
      {
        "duration": 151,
        "start_time": "2023-02-21T18:39:56.679Z"
      },
      {
        "duration": 6,
        "start_time": "2023-02-21T18:40:02.502Z"
      },
      {
        "duration": 12,
        "start_time": "2023-02-21T18:40:07.490Z"
      },
      {
        "duration": 4,
        "start_time": "2023-02-21T18:40:16.277Z"
      },
      {
        "duration": 8,
        "start_time": "2023-02-21T18:40:41.670Z"
      },
      {
        "duration": 14,
        "start_time": "2023-02-21T18:40:44.313Z"
      },
      {
        "duration": 12,
        "start_time": "2023-02-21T18:40:46.858Z"
      },
      {
        "duration": 10,
        "start_time": "2023-02-21T18:40:49.782Z"
      },
      {
        "duration": 21,
        "start_time": "2023-02-21T18:41:29.357Z"
      },
      {
        "duration": 25,
        "start_time": "2023-02-21T18:49:29.049Z"
      },
      {
        "duration": 27,
        "start_time": "2023-02-21T18:52:09.115Z"
      },
      {
        "duration": 40,
        "start_time": "2023-02-21T18:53:40.722Z"
      },
      {
        "duration": 16,
        "start_time": "2023-02-21T18:53:47.060Z"
      },
      {
        "duration": 22,
        "start_time": "2023-02-21T18:55:06.366Z"
      },
      {
        "duration": 25,
        "start_time": "2023-02-21T18:55:59.171Z"
      },
      {
        "duration": 9,
        "start_time": "2023-02-21T18:57:04.884Z"
      },
      {
        "duration": 32,
        "start_time": "2023-02-21T19:05:09.659Z"
      },
      {
        "duration": 11,
        "start_time": "2023-02-21T19:05:48.552Z"
      },
      {
        "duration": 12,
        "start_time": "2023-02-21T19:06:14.009Z"
      },
      {
        "duration": 12,
        "start_time": "2023-02-21T19:06:21.932Z"
      },
      {
        "duration": 4,
        "start_time": "2023-02-21T19:06:54.018Z"
      },
      {
        "duration": 25,
        "start_time": "2023-02-21T19:07:11.914Z"
      },
      {
        "duration": 25,
        "start_time": "2023-02-21T19:07:56.326Z"
      },
      {
        "duration": 3,
        "start_time": "2023-02-21T19:08:30.497Z"
      },
      {
        "duration": 23,
        "start_time": "2023-02-21T19:09:13.648Z"
      },
      {
        "duration": 8,
        "start_time": "2023-02-21T19:09:31.699Z"
      },
      {
        "duration": 11,
        "start_time": "2023-02-21T19:09:36.522Z"
      },
      {
        "duration": 22,
        "start_time": "2023-02-21T19:09:48.127Z"
      },
      {
        "duration": 20,
        "start_time": "2023-02-21T19:27:24.725Z"
      },
      {
        "duration": 1101,
        "start_time": "2023-02-22T07:01:25.668Z"
      },
      {
        "duration": 908,
        "start_time": "2023-02-22T07:01:27.945Z"
      },
      {
        "duration": 142,
        "start_time": "2023-02-22T07:01:33.131Z"
      },
      {
        "duration": 37,
        "start_time": "2023-02-22T07:01:37.863Z"
      },
      {
        "duration": 33,
        "start_time": "2023-02-22T07:01:45.210Z"
      },
      {
        "duration": 28,
        "start_time": "2023-02-22T07:01:48.949Z"
      },
      {
        "duration": 27,
        "start_time": "2023-02-22T07:01:53.406Z"
      },
      {
        "duration": 31,
        "start_time": "2023-02-22T07:01:56.761Z"
      },
      {
        "duration": 25,
        "start_time": "2023-02-22T07:01:59.807Z"
      },
      {
        "duration": 9,
        "start_time": "2023-02-22T07:02:02.369Z"
      },
      {
        "duration": 22,
        "start_time": "2023-02-22T07:02:08.309Z"
      },
      {
        "duration": 13,
        "start_time": "2023-02-22T07:02:15.541Z"
      },
      {
        "duration": 20,
        "start_time": "2023-02-22T07:02:24.488Z"
      },
      {
        "duration": 18,
        "start_time": "2023-02-22T07:02:29.398Z"
      },
      {
        "duration": 12,
        "start_time": "2023-02-22T07:02:32.854Z"
      },
      {
        "duration": 10,
        "start_time": "2023-02-22T07:02:38.945Z"
      },
      {
        "duration": 29,
        "start_time": "2023-02-22T07:02:43.270Z"
      },
      {
        "duration": 13,
        "start_time": "2023-02-22T07:02:48.815Z"
      },
      {
        "duration": 10,
        "start_time": "2023-02-22T07:02:54.944Z"
      },
      {
        "duration": 10,
        "start_time": "2023-02-22T07:02:59.822Z"
      },
      {
        "duration": 3,
        "start_time": "2023-02-22T07:03:06.881Z"
      },
      {
        "duration": 3,
        "start_time": "2023-02-22T07:03:11.415Z"
      },
      {
        "duration": 5,
        "start_time": "2023-02-22T07:03:17.454Z"
      },
      {
        "duration": 10,
        "start_time": "2023-02-22T07:03:21.806Z"
      },
      {
        "duration": 3,
        "start_time": "2023-02-22T07:03:30.121Z"
      },
      {
        "duration": 143,
        "start_time": "2023-02-22T07:04:27.603Z"
      },
      {
        "duration": 8,
        "start_time": "2023-02-22T07:05:06.617Z"
      },
      {
        "duration": 8,
        "start_time": "2023-02-22T07:05:10.659Z"
      },
      {
        "duration": 8,
        "start_time": "2023-02-22T07:05:13.122Z"
      },
      {
        "duration": 16,
        "start_time": "2023-02-22T07:05:18.391Z"
      },
      {
        "duration": 8,
        "start_time": "2023-02-22T07:05:30.808Z"
      },
      {
        "duration": 9,
        "start_time": "2023-02-22T07:05:33.512Z"
      },
      {
        "duration": 17,
        "start_time": "2023-02-22T07:05:39.664Z"
      },
      {
        "duration": 16,
        "start_time": "2023-02-22T09:15:13.252Z"
      },
      {
        "duration": 37,
        "start_time": "2023-02-22T09:16:23.593Z"
      },
      {
        "duration": 18,
        "start_time": "2023-02-22T09:16:40.587Z"
      },
      {
        "duration": 15,
        "start_time": "2023-02-22T09:24:36.140Z"
      },
      {
        "duration": 1025,
        "start_time": "2023-02-22T11:49:55.050Z"
      },
      {
        "duration": 3,
        "start_time": "2023-02-22T11:49:57.331Z"
      },
      {
        "duration": 1558,
        "start_time": "2023-02-22T11:49:59.314Z"
      },
      {
        "duration": 138,
        "start_time": "2023-02-22T11:50:05.124Z"
      },
      {
        "duration": 33,
        "start_time": "2023-02-22T11:50:10.226Z"
      },
      {
        "duration": 26,
        "start_time": "2023-02-22T11:50:13.224Z"
      },
      {
        "duration": 28,
        "start_time": "2023-02-22T11:50:16.442Z"
      },
      {
        "duration": 26,
        "start_time": "2023-02-22T11:50:20.157Z"
      },
      {
        "duration": 26,
        "start_time": "2023-02-22T11:50:22.726Z"
      },
      {
        "duration": 30,
        "start_time": "2023-02-22T11:50:30.231Z"
      },
      {
        "duration": 21,
        "start_time": "2023-02-22T11:50:33.668Z"
      },
      {
        "duration": 11,
        "start_time": "2023-02-22T11:50:36.170Z"
      },
      {
        "duration": 21,
        "start_time": "2023-02-22T11:50:41.960Z"
      },
      {
        "duration": 19,
        "start_time": "2023-02-22T11:51:09.639Z"
      },
      {
        "duration": 21,
        "start_time": "2023-02-22T11:51:12.471Z"
      },
      {
        "duration": 15,
        "start_time": "2023-02-22T11:51:14.727Z"
      },
      {
        "duration": 12,
        "start_time": "2023-02-22T11:51:18.066Z"
      },
      {
        "duration": 20,
        "start_time": "2023-02-22T11:51:22.741Z"
      },
      {
        "duration": 15,
        "start_time": "2023-02-22T11:51:26.952Z"
      },
      {
        "duration": 20,
        "start_time": "2023-02-22T11:51:29.568Z"
      },
      {
        "duration": 10,
        "start_time": "2023-02-22T11:51:38.084Z"
      },
      {
        "duration": 2,
        "start_time": "2023-02-22T11:51:52.668Z"
      },
      {
        "duration": 4,
        "start_time": "2023-02-22T11:52:21.970Z"
      },
      {
        "duration": 12,
        "start_time": "2023-02-22T11:52:25.719Z"
      },
      {
        "duration": 5,
        "start_time": "2023-02-22T11:53:21.023Z"
      },
      {
        "duration": 139,
        "start_time": "2023-02-22T11:54:51.174Z"
      },
      {
        "duration": 22,
        "start_time": "2023-02-22T11:55:11.026Z"
      },
      {
        "duration": 9,
        "start_time": "2023-02-22T12:01:10.165Z"
      },
      {
        "duration": 13,
        "start_time": "2023-02-22T12:05:30.128Z"
      },
      {
        "duration": 9,
        "start_time": "2023-02-22T12:05:43.528Z"
      },
      {
        "duration": 11,
        "start_time": "2023-02-22T12:06:27.629Z"
      },
      {
        "duration": 15,
        "start_time": "2023-02-22T12:07:05.161Z"
      },
      {
        "duration": 13,
        "start_time": "2023-02-22T12:07:15.661Z"
      },
      {
        "duration": 12,
        "start_time": "2023-02-22T12:07:27.530Z"
      },
      {
        "duration": 12,
        "start_time": "2023-02-22T12:07:34.360Z"
      },
      {
        "duration": 11,
        "start_time": "2023-02-22T12:07:44.670Z"
      },
      {
        "duration": 20,
        "start_time": "2023-02-22T12:08:24.429Z"
      },
      {
        "duration": 23,
        "start_time": "2023-02-22T12:08:45.230Z"
      },
      {
        "duration": 3,
        "start_time": "2023-02-22T12:15:05.117Z"
      },
      {
        "duration": 11,
        "start_time": "2023-02-22T12:15:14.286Z"
      },
      {
        "duration": 17,
        "start_time": "2023-02-22T12:15:39.321Z"
      },
      {
        "duration": 13,
        "start_time": "2023-02-22T12:15:50.161Z"
      },
      {
        "duration": 17,
        "start_time": "2023-02-22T12:15:55.973Z"
      },
      {
        "duration": 18,
        "start_time": "2023-02-22T12:16:12.554Z"
      },
      {
        "duration": 4,
        "start_time": "2023-02-22T12:26:35.898Z"
      },
      {
        "duration": 22,
        "start_time": "2023-02-22T12:33:42.616Z"
      },
      {
        "duration": 20,
        "start_time": "2023-02-22T12:34:33.447Z"
      },
      {
        "duration": 23,
        "start_time": "2023-02-22T12:34:55.054Z"
      },
      {
        "duration": 23,
        "start_time": "2023-02-22T12:35:34.990Z"
      },
      {
        "duration": 22,
        "start_time": "2023-02-22T12:36:08.205Z"
      },
      {
        "duration": 21,
        "start_time": "2023-02-22T12:38:30.823Z"
      },
      {
        "duration": 10,
        "start_time": "2023-02-22T12:41:08.250Z"
      },
      {
        "duration": 8,
        "start_time": "2023-02-22T12:41:16.064Z"
      },
      {
        "duration": 10,
        "start_time": "2023-02-22T12:41:18.623Z"
      },
      {
        "duration": 10,
        "start_time": "2023-02-22T12:41:23.034Z"
      },
      {
        "duration": 23,
        "start_time": "2023-02-22T12:42:15.999Z"
      },
      {
        "duration": 10,
        "start_time": "2023-02-22T12:42:36.316Z"
      },
      {
        "duration": 3,
        "start_time": "2023-02-22T13:19:23.768Z"
      },
      {
        "duration": 404,
        "start_time": "2023-02-22T13:19:26.721Z"
      },
      {
        "duration": 121,
        "start_time": "2023-02-22T13:19:30.327Z"
      },
      {
        "duration": 28,
        "start_time": "2023-02-22T13:19:32.685Z"
      },
      {
        "duration": 25,
        "start_time": "2023-02-22T13:19:35.880Z"
      },
      {
        "duration": 26,
        "start_time": "2023-02-22T13:19:38.359Z"
      },
      {
        "duration": 21,
        "start_time": "2023-02-22T13:19:42.200Z"
      },
      {
        "duration": 25,
        "start_time": "2023-02-22T13:19:44.625Z"
      },
      {
        "duration": 20,
        "start_time": "2023-02-22T13:19:46.822Z"
      },
      {
        "duration": 7,
        "start_time": "2023-02-22T13:19:49.168Z"
      },
      {
        "duration": 23,
        "start_time": "2023-02-22T13:19:54.123Z"
      },
      {
        "duration": 15,
        "start_time": "2023-02-22T13:19:56.618Z"
      },
      {
        "duration": 13,
        "start_time": "2023-02-22T13:19:58.682Z"
      },
      {
        "duration": 25,
        "start_time": "2023-02-22T13:20:01.371Z"
      },
      {
        "duration": 12,
        "start_time": "2023-02-22T13:20:03.919Z"
      },
      {
        "duration": 10,
        "start_time": "2023-02-22T13:20:06.160Z"
      },
      {
        "duration": 24,
        "start_time": "2023-02-22T13:20:08.084Z"
      },
      {
        "duration": 17,
        "start_time": "2023-02-22T13:20:10.328Z"
      },
      {
        "duration": 10,
        "start_time": "2023-02-22T13:20:13.300Z"
      },
      {
        "duration": 11,
        "start_time": "2023-02-22T13:20:17.092Z"
      },
      {
        "duration": 3,
        "start_time": "2023-02-22T13:20:20.663Z"
      },
      {
        "duration": 5,
        "start_time": "2023-02-22T13:20:23.479Z"
      },
      {
        "duration": 3,
        "start_time": "2023-02-22T13:20:31.645Z"
      },
      {
        "duration": 3,
        "start_time": "2023-02-22T13:20:35.220Z"
      },
      {
        "duration": 4,
        "start_time": "2023-02-22T13:20:49.130Z"
      },
      {
        "duration": 3,
        "start_time": "2023-02-22T13:20:51.453Z"
      },
      {
        "duration": 5,
        "start_time": "2023-02-22T13:20:53.986Z"
      },
      {
        "duration": 9,
        "start_time": "2023-02-22T13:20:56.100Z"
      },
      {
        "duration": 3,
        "start_time": "2023-02-22T13:21:00.660Z"
      },
      {
        "duration": 54,
        "start_time": "2023-02-22T13:21:55.381Z"
      },
      {
        "duration": 12,
        "start_time": "2023-02-22T13:22:27.809Z"
      },
      {
        "duration": 66,
        "start_time": "2023-02-22T13:22:38.848Z"
      },
      {
        "duration": 54,
        "start_time": "2023-02-22T13:22:47.826Z"
      },
      {
        "duration": 22,
        "start_time": "2023-02-22T13:23:02.177Z"
      },
      {
        "duration": 12,
        "start_time": "2023-02-22T13:23:35.126Z"
      },
      {
        "duration": 10,
        "start_time": "2023-02-22T13:24:18.653Z"
      },
      {
        "duration": 10,
        "start_time": "2023-02-22T13:24:54.242Z"
      },
      {
        "duration": 26,
        "start_time": "2023-02-22T13:25:25.382Z"
      },
      {
        "duration": 21,
        "start_time": "2023-02-22T13:25:41.833Z"
      },
      {
        "duration": 26,
        "start_time": "2023-02-22T13:25:45.954Z"
      },
      {
        "duration": 22,
        "start_time": "2023-02-22T13:25:57.791Z"
      },
      {
        "duration": 21,
        "start_time": "2023-02-22T13:26:00.465Z"
      },
      {
        "duration": 17,
        "start_time": "2023-02-22T13:26:28.142Z"
      },
      {
        "duration": 1111,
        "start_time": "2023-02-22T16:37:09.873Z"
      },
      {
        "duration": 1670,
        "start_time": "2023-02-22T16:37:11.833Z"
      },
      {
        "duration": 130,
        "start_time": "2023-02-22T16:37:17.574Z"
      },
      {
        "duration": 28,
        "start_time": "2023-02-22T16:37:25.694Z"
      },
      {
        "duration": 36,
        "start_time": "2023-02-22T16:37:29.264Z"
      },
      {
        "duration": 26,
        "start_time": "2023-02-22T16:37:33.160Z"
      },
      {
        "duration": 23,
        "start_time": "2023-02-22T16:37:35.924Z"
      },
      {
        "duration": 29,
        "start_time": "2023-02-22T16:37:39.367Z"
      },
      {
        "duration": 24,
        "start_time": "2023-02-22T16:37:43.329Z"
      },
      {
        "duration": 7,
        "start_time": "2023-02-22T16:37:45.680Z"
      },
      {
        "duration": 21,
        "start_time": "2023-02-22T16:37:51.069Z"
      },
      {
        "duration": 16,
        "start_time": "2023-02-22T16:37:56.075Z"
      },
      {
        "duration": 34,
        "start_time": "2023-02-22T16:38:00.358Z"
      },
      {
        "duration": 21,
        "start_time": "2023-02-22T16:38:02.607Z"
      },
      {
        "duration": 13,
        "start_time": "2023-02-22T16:38:05.592Z"
      },
      {
        "duration": 11,
        "start_time": "2023-02-22T16:38:09.042Z"
      },
      {
        "duration": 28,
        "start_time": "2023-02-22T16:38:13.152Z"
      },
      {
        "duration": 13,
        "start_time": "2023-02-22T16:38:16.948Z"
      },
      {
        "duration": 14,
        "start_time": "2023-02-22T16:38:21.133Z"
      },
      {
        "duration": 12,
        "start_time": "2023-02-22T16:38:27.057Z"
      },
      {
        "duration": 2,
        "start_time": "2023-02-22T16:38:32.400Z"
      },
      {
        "duration": 4,
        "start_time": "2023-02-22T16:38:35.984Z"
      },
      {
        "duration": 6,
        "start_time": "2023-02-22T16:38:39.889Z"
      },
      {
        "duration": 11,
        "start_time": "2023-02-22T16:38:43.733Z"
      },
      {
        "duration": 4,
        "start_time": "2023-02-22T16:39:52.947Z"
      },
      {
        "duration": 121,
        "start_time": "2023-02-22T16:40:54.239Z"
      },
      {
        "duration": 21,
        "start_time": "2023-02-22T16:43:22.536Z"
      },
      {
        "duration": 21,
        "start_time": "2023-02-22T16:44:13.291Z"
      },
      {
        "duration": 22,
        "start_time": "2023-02-22T16:44:49.738Z"
      },
      {
        "duration": 23,
        "start_time": "2023-02-22T16:47:21.445Z"
      },
      {
        "duration": 24,
        "start_time": "2023-02-22T16:48:00.628Z"
      },
      {
        "duration": 31,
        "start_time": "2023-02-22T16:49:32.556Z"
      },
      {
        "duration": 29,
        "start_time": "2023-02-22T16:49:48.289Z"
      },
      {
        "duration": 11,
        "start_time": "2023-02-22T16:50:39.178Z"
      },
      {
        "duration": 12,
        "start_time": "2023-02-22T16:51:32.367Z"
      },
      {
        "duration": 25,
        "start_time": "2023-02-22T16:51:56.832Z"
      },
      {
        "duration": 22,
        "start_time": "2023-02-22T16:52:02.927Z"
      },
      {
        "duration": 13,
        "start_time": "2023-02-22T16:53:25.842Z"
      },
      {
        "duration": 13,
        "start_time": "2023-02-22T16:54:29.000Z"
      },
      {
        "duration": 22,
        "start_time": "2023-02-22T16:54:44.485Z"
      },
      {
        "duration": 11,
        "start_time": "2023-02-22T16:55:20.506Z"
      },
      {
        "duration": 10,
        "start_time": "2023-02-22T17:02:18.124Z"
      },
      {
        "duration": 11,
        "start_time": "2023-02-22T17:03:12.334Z"
      },
      {
        "duration": 11,
        "start_time": "2023-02-22T17:03:57.817Z"
      },
      {
        "duration": 14,
        "start_time": "2023-02-22T17:06:03.628Z"
      },
      {
        "duration": 3533,
        "start_time": "2023-02-22T17:06:27.169Z"
      },
      {
        "duration": 49,
        "start_time": "2023-02-22T17:06:52.933Z"
      },
      {
        "duration": 63,
        "start_time": "2023-02-22T17:06:58.565Z"
      },
      {
        "duration": 1108,
        "start_time": "2023-02-22T17:07:41.859Z"
      },
      {
        "duration": 67,
        "start_time": "2023-02-22T17:08:02.346Z"
      },
      {
        "duration": 3602,
        "start_time": "2023-02-22T17:08:34.563Z"
      },
      {
        "duration": 3460,
        "start_time": "2023-02-22T17:09:11.992Z"
      },
      {
        "duration": 3569,
        "start_time": "2023-02-22T17:11:32.928Z"
      },
      {
        "duration": 7,
        "start_time": "2023-02-22T17:12:04.709Z"
      },
      {
        "duration": 3592,
        "start_time": "2023-02-22T17:12:24.946Z"
      },
      {
        "duration": 17,
        "start_time": "2023-02-23T15:08:59.134Z"
      }
    ],
    "kernelspec": {
      "display_name": "Python 3 (ipykernel)",
      "language": "python",
      "name": "python3"
    },
    "language_info": {
      "codemirror_mode": {
        "name": "ipython",
        "version": 3
      },
      "file_extension": ".py",
      "mimetype": "text/x-python",
      "name": "python",
      "nbconvert_exporter": "python",
      "pygments_lexer": "ipython3",
      "version": "3.9.5"
    },
    "toc": {
      "base_numbering": 1,
      "nav_menu": {},
      "number_sections": true,
      "sideBar": true,
      "skip_h1_title": true,
      "title_cell": "Table of Contents",
      "title_sidebar": "Contents",
      "toc_cell": false,
      "toc_position": {},
      "toc_section_display": true,
      "toc_window_display": false
    },
    "colab": {
      "provenance": []
    }
  },
  "nbformat": 4,
  "nbformat_minor": 0
}